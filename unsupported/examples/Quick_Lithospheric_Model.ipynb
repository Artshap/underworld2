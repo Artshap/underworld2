{
 "cells": [
  {
   "cell_type": "markdown",
   "metadata": {},
   "source": [
    "# A quick Lithospheric Model with visco-plastic non-linear rheologies\n",
    "\n",
    "version 0.1\n",
    "Romain Beucher\n",
    "romain.beucher@unimelb.edu.au"
   ]
  },
  {
   "cell_type": "code",
   "execution_count": null,
   "metadata": {},
   "outputs": [],
   "source": [
    "import unsupported.geodynamics as GEO\n",
    "import glucifer"
   ]
  },
  {
   "cell_type": "code",
   "execution_count": null,
   "metadata": {
    "collapsed": true
   },
   "outputs": [],
   "source": [
    "u = GEO.UnitRegistry"
   ]
  },
  {
   "cell_type": "code",
   "execution_count": null,
   "metadata": {
    "collapsed": true
   },
   "outputs": [],
   "source": [
    "half_rate = 1.8 * u.centimeter / u.year\n",
    "model_length = 360e3 * u.meter\n",
    "model_height = 120e3 * u.meter\n",
    "refViscosity = 1e24 * u.pascal * u.second\n",
    "surfaceTemp = 273.15 * u.degK\n",
    "baseModelTemp = 1603.15 * u.degK\n",
    "bodyforce = 3300 * u.kilogram / u.metre**3 * 9.81 * u.meter / u.second**2\n",
    "\n",
    "KL = model_length\n",
    "Kt = KL / half_rate\n",
    "KM = bodyforce * KL**2 * Kt**2\n",
    "KT = (baseModelTemp - surfaceTemp)\n",
    "\n",
    "GEO.sca.scaling[\"[length]\"] = KL\n",
    "GEO.sca.scaling[\"[time]\"] = Kt\n",
    "GEO.sca.scaling[\"[mass]\"]= KM\n",
    "GEO.sca.scaling[\"[temperature]\"] = KT"
   ]
  },
  {
   "cell_type": "markdown",
   "metadata": {},
   "source": [
    "# Define the external geometry"
   ]
  },
  {
   "cell_type": "code",
   "execution_count": null,
   "metadata": {
    "collapsed": true
   },
   "outputs": [],
   "source": [
    "elementType = \"Q1/dQ0\"\n",
    "elementRes = (180, 60)\n",
    "minCoord = (0. * u.kilometer, -110. * u.kilometer)\n",
    "maxCoord = (360. * u.kilometer, 10. * u.kilometer)\n",
    "gravity = (0.0, -9.81 * u.meter / u.second**2)\n",
    "\n",
    "Model = GEO.Model(elementType=elementType, elementRes=elementRes, minCoord=minCoord, maxCoord=maxCoord, periodic=(False, False), gravity=gravity)"
   ]
  },
  {
   "cell_type": "markdown",
   "metadata": {},
   "source": [
    "# Add some Materials"
   ]
  },
  {
   "cell_type": "code",
   "execution_count": null,
   "metadata": {
    "collapsed": true
   },
   "outputs": [],
   "source": [
    "minX = minCoord[0]\n",
    "maxX = maxCoord[0]\n",
    "\n",
    "global_diffusivity = 1e-6 * u.metre**2 / u.second \n",
    "global_cp = 1000. * u.joule / (u.kelvin * u.kilogram)\n",
    "global_expansivity = 3e-5 / u.kelvin\n",
    "\n",
    "# Fault\n",
    "vertices = [(169.  * u.kilometer,  0. * u.kilometer),\n",
    "            (171. * u.kilometer,  0. * u.kilometer),\n",
    "            (191. * u.kilometer, -20. * u.kilometer),\n",
    "            (189. * u.kilometer, -20. * u.kilometer)]\n",
    "\n",
    "fault = Model.add_material(name=\"Fault\", vertices=vertices)\n",
    "fault.density = 2620. * u.kilogram / u.metre**3\n",
    "fault.radiogenicHeatProd = 0.7 * u.microwatt / u.meter**3\n",
    "fault.capacity = global_cp\n",
    "fault.diffusivity = global_diffusivity\n",
    "fault.thermalExpansivity = global_expansivity\n",
    "\n",
    "\n",
    "# Air Layer\n",
    "top = maxCoord[1]\n",
    "bottom = 0. * u.kilometer\n",
    "air = Model.add_material(name=\"Air\", vertices=[(minX, bottom),(minX, top),(maxX, top),(maxX, bottom)])\n",
    "air.density = 1. * u.kilogram / u.metre**3\n",
    "air.radiogenicHeatProd = 0.0\n",
    "air.capacity = 100. * u.joule / (u.kelvin * u.kilogram)\n",
    "air.diffusivity = global_diffusivity\n",
    "air.thermalExpansivity = 0.0\n",
    "\n",
    " \n",
    "top    = 0.  * u.kilometer\n",
    "bottom = -20. * u.kilometer\n",
    "uppercrust = Model.add_material(name=\"Upper Crust\", vertices=[(minX, bottom),(minX, top),(maxX, top),(maxX, bottom)])\n",
    "uppercrust.density  = 2620. * u.kilogram / u.metre**3\n",
    "uppercrust.radiogenicHeatProd = 0.7 * u.microwatt / u.meter**3\n",
    "uppercrust.capacity = global_cp\n",
    "uppercrust.diffusivity = global_diffusivity\n",
    "uppercrust.thermalExpansivity = global_expansivity\n",
    "                  \n",
    "top      = -20. * u.kilometer\n",
    "bottom   = -25. * u.kilometer\n",
    "midcrust = Model.add_material(name=\"Mid Crust\", vertices=[(minX, bottom),(minX, top),(maxX, top),(maxX, bottom)])\n",
    "midcrust.density = 2900. * u.kilogram / u.metre**3\n",
    "midcrust.radiogenicHeatProd = 0.6 * u.microwatt / u.meter**3\n",
    "midcrust.capacity = global_cp\n",
    "midcrust.diffusivity = global_diffusivity\n",
    "midcrust.thermalExpansivity = global_expansivity\n",
    "\n",
    "top    = -35. * u.kilometer\n",
    "bottom = -40. * u.kilometer\n",
    "heavycrust = Model.add_material(name=\"Heavy Crust\", vertices=[(minX, bottom),(minX, top),(maxX, top),(maxX, bottom)])\n",
    "heavycrust.density  = 2900. * u.kilogram / u.metre**3\n",
    "heavycrust.radiogenicHeatProd = 0.6 * u.microwatt / u.meter**3\n",
    "heavycrust.capacity = global_cp\n",
    "heavycrust.diffusivity = global_diffusivity\n",
    "heavycrust.thermalExpansivity = global_expansivity\n",
    "\n",
    "\n",
    "top    = -25. * u.kilometer\n",
    "bottom = -60. * u.kilometer\n",
    "lowercrust = Model.add_material(name=\"Lower Crust\", vertices=[(minX, bottom),(minX, top),(maxX, top),(maxX, bottom)])\n",
    "lowercrust.density  = 2800. * u.kilogram / u.metre**3\n",
    "lowercrust.radiogenicHeatProd = 0.4 * u.microwatt / u.meter**3\n",
    "lowercrust.capacity = global_cp\n",
    "lowercrust.diffusivity = global_diffusivity\n",
    "lowercrust.thermalExpansivity = global_expansivity\n",
    "\n",
    "\n",
    "top        = -60. * u.kilometer\n",
    "bottom     = -110. * u.kilometer\n",
    "mantle = Model.add_material(name=\"Mantle\", vertices=[(minX, bottom),(minX, top),(maxX, top),(maxX, bottom)])\n",
    "mantle.density = 3370. * u.kilogram / u.metre**3\n",
    "mantle.radiogenicHeatProd = 0.02e-6 * u.microwatt / u.meter**3\n",
    "mantle.capacity = global_cp\n",
    "mantle.diffusivity = global_diffusivity\n",
    "mantle.thermalExpansivity = global_expansivity"
   ]
  },
  {
   "cell_type": "code",
   "execution_count": null,
   "metadata": {
    "collapsed": true
   },
   "outputs": [],
   "source": [
    "Fig = Model.plot_material()"
   ]
  },
  {
   "cell_type": "code",
   "execution_count": null,
   "metadata": {},
   "outputs": [],
   "source": [
    "Fig.show()"
   ]
  },
  {
   "cell_type": "markdown",
   "metadata": {
    "collapsed": true
   },
   "source": [
    "# Define Viscosities"
   ]
  },
  {
   "cell_type": "code",
   "execution_count": null,
   "metadata": {
    "collapsed": true
   },
   "outputs": [],
   "source": [
    "air.viscosity        = 1e19 * u.pascal * u.second\n",
    "uppercrust.viscosity = \"Patterson et al., 1990\"\n",
    "midcrust.viscosity   = \"Goetze et al., 1978\"\n",
    "lowercrust.viscosity = \"Wang et al., 2012\"\n",
    "heavycrust.viscosity = \"Goetze et al., 1978\"\n",
    "mantle.viscosity     = 1e23 * u.pascal * u.second\n",
    "fault.viscosity      = 1e19 * u.pascal * u.second"
   ]
  },
  {
   "cell_type": "markdown",
   "metadata": {},
   "source": [
    "On can also define is own rheology as follow:"
   ]
  },
  {
   "cell_type": "code",
   "execution_count": null,
   "metadata": {
    "collapsed": true
   },
   "outputs": [],
   "source": [
    "myRheology = {}"
   ]
  },
  {
   "cell_type": "markdown",
   "metadata": {},
   "source": [
    "# Define Plasticity"
   ]
  },
  {
   "cell_type": "code",
   "execution_count": null,
   "metadata": {
    "collapsed": true
   },
   "outputs": [],
   "source": [
    "uppercrust.plasticity = \"Rey et al., 2010 (UpperCrust)\"\n",
    "midcrust.plasticity   = \"Rey et al., 2010 (UpperCrust)\"\n",
    "lowercrust.plasticity = \"Rey et al., 2010 (LowerCrust)\"\n",
    "heavycrust.plasticity = \"Rey et al., 2010 (LowerCrust)\"\n",
    "fault.plasticity      = \"Rey et al., 2010 (Mantle)\""
   ]
  },
  {
   "cell_type": "markdown",
   "metadata": {},
   "source": [
    "## Temperature Boundary Condition"
   ]
  },
  {
   "cell_type": "code",
   "execution_count": null,
   "metadata": {
    "collapsed": true
   },
   "outputs": [],
   "source": [
    "Model.set_temperatureBCs(top=293.15 * u.degK, bottom=1603.15 * u.degK, indexSets=[(mantle.indices, 1603.15 * u.degK), (air.indices, 293.15 * u.degK )])"
   ]
  },
  {
   "cell_type": "code",
   "execution_count": null,
   "metadata": {
    "collapsed": true
   },
   "outputs": [],
   "source": [
    "Model.solve_temperature_steady_state()"
   ]
  },
  {
   "cell_type": "code",
   "execution_count": null,
   "metadata": {},
   "outputs": [],
   "source": [
    "Fig.show()"
   ]
  },
  {
   "cell_type": "markdown",
   "metadata": {},
   "source": [
    "## Velocity Boundary Conditions"
   ]
  },
  {
   "cell_type": "code",
   "execution_count": null,
   "metadata": {
    "collapsed": true
   },
   "outputs": [],
   "source": [
    "Model.set_velocityBCs(left=[-1.8 * u.centimeter / u.year, 0.],\n",
    "                      right=[1.8 * u.centimeter / u.year, 0.],\n",
    "                      bottom=[None, 0.0])"
   ]
  },
  {
   "cell_type": "code",
   "execution_count": null,
   "metadata": {},
   "outputs": [],
   "source": [
    "Fig = Model.plot_velocity()\n",
    "Fig.show()"
   ]
  },
  {
   "cell_type": "markdown",
   "metadata": {},
   "source": [
    "## Stress Boundary Conditions (To-do)"
   ]
  },
  {
   "cell_type": "code",
   "execution_count": null,
   "metadata": {
    "collapsed": true
   },
   "outputs": [],
   "source": [
    "Model.solve_lithostatic_pressure()"
   ]
  },
  {
   "cell_type": "code",
   "execution_count": null,
   "metadata": {
    "collapsed": true
   },
   "outputs": [],
   "source": [
    "Fig = Model.plot_pressure()"
   ]
  },
  {
   "cell_type": "code",
   "execution_count": null,
   "metadata": {},
   "outputs": [],
   "source": [
    "Fig.show()"
   ]
  },
  {
   "cell_type": "markdown",
   "metadata": {
    "collapsed": true
   },
   "source": [
    "## Run Model"
   ]
  },
  {
   "cell_type": "code",
   "execution_count": null,
   "metadata": {
    "collapsed": true
   },
   "outputs": [],
   "source": [
    "Model.init_advection_diffusion()"
   ]
  },
  {
   "cell_type": "code",
   "execution_count": null,
   "metadata": {},
   "outputs": [],
   "source": [
    "Model.init_stokes_system()"
   ]
  },
  {
   "cell_type": "code",
   "execution_count": null,
   "metadata": {},
   "outputs": [],
   "source": [
    "Fig = Model.plot_viscosity()"
   ]
  },
  {
   "cell_type": "code",
   "execution_count": null,
   "metadata": {},
   "outputs": [],
   "source": [
    "Fig.show()"
   ]
  },
  {
   "cell_type": "code",
   "execution_count": null,
   "metadata": {},
   "outputs": [],
   "source": [
    "Model.run_for(10.* u.years)"
   ]
  },
  {
   "cell_type": "code",
   "execution_count": null,
   "metadata": {},
   "outputs": [],
   "source": [
    "Fig.show()"
   ]
  },
  {
   "cell_type": "code",
   "execution_count": null,
   "metadata": {},
   "outputs": [],
   "source": [
    "FigVelocity = glucifer.Figure(figsize=(1200,400))\n",
    "FigVelocity.append(glucifer.objects.Points(Model.swarm, Model.material, pointSize=3.0))\n",
    "FigVelocity.append(glucifer.objects.VectorArrows(Model.mesh, Model.velocity, scaling=0.03, arrowHead=10., resolutionI=25, resolutionJ=10)) "
   ]
  },
  {
   "cell_type": "code",
   "execution_count": null,
   "metadata": {},
   "outputs": [],
   "source": [
    "FigVelocity.show()"
   ]
  }
 ],
 "metadata": {
  "kernelspec": {
   "display_name": "Python 2",
   "language": "python2",
   "name": "python2"
  },
  "language_info": {
   "codemirror_mode": {
    "name": "ipython",
    "version": 2
   },
   "file_extension": ".py",
   "mimetype": "text/x-python",
   "name": "python",
   "nbconvert_exporter": "python",
   "pygments_lexer": "ipython2",
   "version": "2.7.13"
  }
 },
 "nbformat": 4,
 "nbformat_minor": 2
}
