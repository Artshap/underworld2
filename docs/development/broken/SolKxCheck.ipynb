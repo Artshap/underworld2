{
 "cells": [
  {
   "cell_type": "code",
   "execution_count": 2,
   "metadata": {
    "collapsed": false
   },
   "outputs": [],
   "source": [
    "%matplotlib inline\n",
    "\n",
    "import underworld as uw\n",
    "import math\n",
    "from underworld import function as fn\n",
    "import glucifer.pylab as plt"
   ]
  },
  {
   "cell_type": "code",
   "execution_count": 3,
   "metadata": {
    "collapsed": false
   },
   "outputs": [],
   "source": [
    "linearMesh = uw.mesh.FeMesh_Cartesian('Q2/dPc1', (32,32), (0.,0.), (1.,1.))"
   ]
  },
  {
   "cell_type": "code",
   "execution_count": 4,
   "metadata": {
    "collapsed": true
   },
   "outputs": [],
   "source": [
    "constantMesh = linearMesh.subMesh"
   ]
  },
  {
   "cell_type": "code",
   "execution_count": 5,
   "metadata": {
    "collapsed": false
   },
   "outputs": [],
   "source": [
    "velocityField = uw.mesh.MeshVariable(linearMesh,2)\n",
    "velocityField.data[:] = (0.,0.)"
   ]
  },
  {
   "cell_type": "code",
   "execution_count": 6,
   "metadata": {
    "collapsed": false
   },
   "outputs": [],
   "source": [
    "pressureField = uw.mesh.MeshVariable(constantMesh,1)\n",
    "pressureField.data[:] = 0."
   ]
  },
  {
   "cell_type": "code",
   "execution_count": 7,
   "metadata": {
    "collapsed": false
   },
   "outputs": [],
   "source": [
    "# setup freeslip\n",
    "IWalls = linearMesh.specialSets[\"MinI_VertexSet\"] + linearMesh.specialSets[\"MaxI_VertexSet\"]\n",
    "JWalls = linearMesh.specialSets[\"MinJ_VertexSet\"] + linearMesh.specialSets[\"MaxJ_VertexSet\"]\n",
    "freeslip = uw.conditions.DirichletCondition(velocityField, (IWalls, JWalls))"
   ]
  },
  {
   "cell_type": "code",
   "execution_count": 8,
   "metadata": {
    "collapsed": false
   },
   "outputs": [],
   "source": [
    "linearMesh.specialSets.keys()"
   ]
  },
  {
   "cell_type": "code",
   "execution_count": 9,
   "metadata": {
    "collapsed": false
   },
   "outputs": [],
   "source": [
    "# setup analytic functions\n",
    "#solA = fn.analytic.SolCx()\n",
    "# solA = fn.analytic.SolKx()\n",
    "#solA = fn.analytic.SolKx(1.0, 5.73, 2, 0.7)\n",
    "solA = fn.analytic.SolM(1.0,1,1,0.6)"
   ]
  },
  {
   "cell_type": "code",
   "execution_count": 10,
   "metadata": {
    "collapsed": false
   },
   "outputs": [],
   "source": [
    "# get eta function from solA and take a look\n",
    "eta = plt.Figure()\n",
    "eta.Surface(solA.viscosityFn,linearMesh)\n",
    "eta.show()"
   ]
  },
  {
   "cell_type": "code",
   "execution_count": 11,
   "metadata": {
    "collapsed": false
   },
   "outputs": [],
   "source": [
    "# grab the body force from SolA and take a look at vertical component\n",
    "force = plt.Figure()\n",
    "force.Surface(solA.bodyForceFn[1], linearMesh)\n",
    "force.show()"
   ]
  },
  {
   "cell_type": "code",
   "execution_count": 12,
   "metadata": {
    "collapsed": false
   },
   "outputs": [],
   "source": [
    "solA.bodyForceFn[1].evaluate((1.0,0.75))\n"
   ]
  },
  {
   "cell_type": "code",
   "execution_count": 13,
   "metadata": {
    "collapsed": false
   },
   "outputs": [],
   "source": [
    "# setup our stokes guy\n",
    "stokesSystem = uw.systems.Stokes(velocityField,pressureField,solA.viscosityFn,solA.bodyForceFn,conditions=[freeslip,], rtolerance=1.e-5)"
   ]
  },
  {
   "cell_type": "code",
   "execution_count": 14,
   "metadata": {
    "collapsed": true
   },
   "outputs": [],
   "source": [
    "# lets solve\n",
    "stokesSystem.solve()"
   ]
  },
  {
   "cell_type": "code",
   "execution_count": 15,
   "metadata": {
    "collapsed": true
   },
   "outputs": [],
   "source": [
    "errMesh=uw.mesh.FeMesh_Cartesian('Q1', (256,256), (0.,0.), (1.,1.))"
   ]
  },
  {
   "cell_type": "code",
   "execution_count": 16,
   "metadata": {
    "collapsed": false
   },
   "outputs": [],
   "source": [
    "# lets check FEM solution\n",
    "velMag = plt.Figure()\n",
    "velMag.Surface(fn.math.dot(velocityField,velocityField), linearMesh)\n",
    "velMag.show()"
   ]
  },
  {
   "cell_type": "code",
   "execution_count": 17,
   "metadata": {
    "collapsed": false
   },
   "outputs": [],
   "source": [
    "# and analytic\n",
    "velMagA = plt.Figure()\n",
    "velMagA.Surface(fn.math.dot(solA.velocityFn,solA.velocityFn), linearMesh)\n",
    "velMagA.show()"
   ]
  },
  {
   "cell_type": "code",
   "execution_count": 18,
   "metadata": {
    "collapsed": false
   },
   "outputs": [],
   "source": [
    "# and difference\n",
    "velDiff = plt.Figure()\n",
    "velDiff.Surface(fn.math.dot(solA.velocityFn - velocityField,solA.velocityFn - velocityField), errMesh)\n",
    "velDiff.show()"
   ]
  },
  {
   "cell_type": "code",
   "execution_count": 19,
   "metadata": {
    "collapsed": false
   },
   "outputs": [],
   "source": [
    "# rms\n",
    "squared = uw.utils.Integral(fn.math.dot(solA.velocityFn-velocityField,solA.velocityFn-velocityField), linearMesh)\n",
    "area = uw.utils.Integral(1.,linearMesh)\n",
    "math.sqrt(squared.integrate()[0]/area.integrate()[0])"
   ]
  },
  {
   "cell_type": "code",
   "execution_count": 20,
   "metadata": {
    "collapsed": false
   },
   "outputs": [],
   "source": [
    "import numpy as np\n",
    "N=201\n",
    "a=np.ndarray(shape=(N,2))\n",
    "a[:,1]=0.75*np.ones(N)\n",
    "a[:,0]=np.linspace(0,1,N)\n",
    "import matplotlib.pyplot as mplt\n",
    "import matplotlib.pylab as pylab\n",
    "vy=solA.velocityFn[1].evaluate(a)[:,0]\n",
    "ax=a[:,0]\n",
    "vf=velocityField[1].evaluate(a)[:,0]\n",
    "mplt.plot(ax,vf,label='Numerical')\n",
    "mplt.plot(ax,vy,label='Exact')\n",
    "mplt.plot(ax,10000*(vy-vf),label='Error (x 1e+4)')\n",
    "mplt.legend()\n",
    "mplt.plot(ax,vf,label='Numerical')\n",
    "mplt.plot(ax,vy,label='Exact')\n",
    "mplt.plot(ax,10000*(vy-vf),label='Error (x 1e+4)')\n",
    "mplt.legend()"
   ]
  },
  {
   "cell_type": "code",
   "execution_count": 21,
   "metadata": {
    "collapsed": true
   },
   "outputs": [],
   "source": [
    "vf=velocityField[1].evaluate(a)[:,0]"
   ]
  },
  {
   "cell_type": "code",
   "execution_count": 22,
   "metadata": {
    "collapsed": false
   },
   "outputs": [],
   "source": [
    "vf.shape"
   ]
  },
  {
   "cell_type": "code",
   "execution_count": 23,
   "metadata": {
    "collapsed": false
   },
   "outputs": [],
   "source": [
    "vy.shape"
   ]
  },
  {
   "cell_type": "code",
   "execution_count": 24,
   "metadata": {
    "collapsed": false
   },
   "outputs": [],
   "source": [
    "ax.shape"
   ]
  },
  {
   "cell_type": "code",
   "execution_count": 25,
   "metadata": {
    "collapsed": false
   },
   "outputs": [],
   "source": [
    "velx = plt.Figure()\n",
    "velx.Surface(solA.velocityFn[0], linearMesh)\n",
    "velx.show()"
   ]
  },
  {
   "cell_type": "code",
   "execution_count": 26,
   "metadata": {
    "collapsed": false
   },
   "outputs": [],
   "source": [
    "velz = plt.Figure()\n",
    "velz.Surface(solA.velocityFn[1], linearMesh)\n",
    "velz.show()"
   ]
  },
  {
   "cell_type": "code",
   "execution_count": null,
   "metadata": {
    "collapsed": true
   },
   "outputs": [],
   "source": []
  }
 ],
 "metadata": {
  "kernelspec": {
   "display_name": "Python 2",
   "language": "python",
   "name": "python2"
  },
  "language_info": {
   "codemirror_mode": {
    "name": "ipython",
    "version": 2
   },
   "file_extension": ".py",
   "mimetype": "text/x-python",
   "name": "python",
   "nbconvert_exporter": "python",
   "pygments_lexer": "ipython2",
   "version": "2.7.3"
  }
 },
 "nbformat": 4,
 "nbformat_minor": 0
}
