{
 "cells": [
  {
   "cell_type": "markdown",
   "metadata": {},
   "source": [
    "# Example of extension mesh with flux BC supporting particles\n",
    "\n",
    "We set all advection to be **first order**, and repopulate the swarm by hand."
   ]
  },
  {
   "cell_type": "code",
   "execution_count": null,
   "metadata": {
    "collapsed": false
   },
   "outputs": [],
   "source": [
    "import matplotlib.pyplot as pyplot\n",
    "import matplotlib.pylab as pylab\n",
    "import numpy as np\n",
    "import underworld as uw\n",
    "import math\n",
    "from underworld import function as fn\n",
    "import glucifer"
   ]
  },
  {
   "cell_type": "markdown",
   "metadata": {},
   "source": [
    "Setup parameters\n",
    "-----\n",
    "\n",
    "Set simulation parameters. The box length is chosen for direct comparison to the benchmark values."
   ]
  },
  {
   "cell_type": "code",
   "execution_count": null,
   "metadata": {
    "collapsed": false
   },
   "outputs": [],
   "source": [
    "res = 20\n",
    "boxLength = 2.0\n",
    "boxHeight = 1.0\n",
    "elType = \"Q1/dQ0\"\n",
    "resx = int(boxLength*res)\n",
    "resy = int(boxHeight*res)\n",
    "minCoord = [0.,0.]\n",
    "maxCoord = [boxLength,boxHeight]\n",
    "eta = 1.0"
   ]
  },
  {
   "cell_type": "code",
   "execution_count": null,
   "metadata": {
    "collapsed": false
   },
   "outputs": [],
   "source": [
    "mesh = uw.mesh.FeMesh_Cartesian( elementType = (elType), \n",
    "                                 elementRes  = (resx, resy), \n",
    "                                 minCoord    = minCoord, \n",
    "                                 maxCoord    = maxCoord )\n",
    "\n",
    "velocityField = uw.mesh.MeshVariable( mesh=mesh,         nodeDofCount=2 )\n",
    "pressureField = uw.mesh.MeshVariable( mesh=mesh.subMesh, nodeDofCount=1 )"
   ]
  },
  {
   "cell_type": "code",
   "execution_count": null,
   "metadata": {
    "collapsed": false
   },
   "outputs": [],
   "source": [
    "velocityField.data[:] = [0.,0.]\n",
    "pressureField.data[:] = 0.\n",
    "\n",
    "vxLeftWall = -0.5e-1\n",
    "vxRightWall = 0.5e-1\n",
    "for index in mesh.specialSets[\"MinI_VertexSet\"]:\n",
    "    velocityField.data[index] = [vxLeftWall,0.0]\n",
    "for index in mesh.specialSets[\"MaxI_VertexSet\"]:\n",
    "    velocityField.data[index] = [vxRightWall,0.0]"
   ]
  },
  {
   "cell_type": "code",
   "execution_count": null,
   "metadata": {
    "collapsed": false
   },
   "outputs": [],
   "source": [
    "iWalls = mesh.specialSets[\"MinI_VertexSet\"] + mesh.specialSets[\"MaxI_VertexSet\"]\n",
    "jWalls = mesh.specialSets[\"MinJ_VertexSet\"] + mesh.specialSets[\"MaxJ_VertexSet\"]\n",
    "bottomWall = mesh.specialSets[\"MinJ_VertexSet\"]\n",
    "allWalls = iWalls + jWalls\n",
    "\n",
    "# Now, using these sets, decide which degrees of freedom (on each node) should be considered Dirichlet.\n",
    "stokesBC = uw.conditions.DirichletCondition( variable      = velocityField, \n",
    "                                             indexSetsPerDof = (iWalls, jWalls-bottomWall) )\n",
    "\n",
    "# add neumann bcs\n",
    "nbc      = uw.conditions.NeumannCondition( flux=(-0.0,-1.0,0.0), variable = velocityField, \n",
    "                                             nodeIndexSet = bottomWall )"
   ]
  },
  {
   "cell_type": "code",
   "execution_count": null,
   "metadata": {
    "collapsed": false
   },
   "outputs": [],
   "source": [
    "# Initialise a swarm.\n",
    "swarm = uw.swarm.Swarm( mesh=mesh, particleEscape=True )\n",
    "\n",
    "# Add a data variable which will store an index to determine material.\n",
    "materialVariable = swarm.add_variable( dataType=\"double\", count=1 )\n",
    "\n",
    "# Create a layout object that will populate the swarm across the whole domain.\n",
    "swarmLayout = uw.swarm.layouts.GlobalSpaceFillerLayout( swarm=swarm, particlesPerCell=20 )\n",
    "\n",
    "# Populate.\n",
    "swarm.populate_using_layout( layout=swarmLayout )\n",
    "picswarm = uw.swarm.VoronoiIntegrationSwarm(swarm, particlesPerCell=20, maxDeletions=3, maxSplits=3, shotgun=True)\n",
    "\n",
    "# material 0 - compressible Lambda=10, density = 0\n",
    "# material 1 - incompressible Lambda=0, density = 1\n",
    "\n",
    "materialVariable.data[:]=0\n",
    "for index,coord in enumerate(swarm.particleCoordinates.data):\n",
    "    if coord[1] < boxHeight/2.0:\n",
    "        materialVariable.data[index]=1\n",
    "\n",
    "# Lambda = materialVariable * fn.misc.constant(10.0) -  is created for pseudo compressibility\n",
    "Lambda = uw.function.branching.conditional( [ (materialVariable < 0.1, 10.0),\n",
    "                                              (True,             0.0) ] )\n",
    "fn_force = materialVariable * (0.0,-1.0)\n",
    "\n",
    "tracerSwarm = uw.swarm.Swarm( mesh=mesh )\n",
    "\n",
    "particleCoordinates = np.zeros((1,2))     \n",
    "particleCoordinates[0] = (1.0,0.5)     \n",
    "tracerSwarm.add_particles_with_coordinates(particleCoordinates)\n",
    "\n",
    "# only used to find a timestep size ... no so nice\n",
    "advector= uw.systems.SwarmAdvector(velocityField, swarm, order=1)"
   ]
  },
  {
   "cell_type": "code",
   "execution_count": null,
   "metadata": {
    "collapsed": false
   },
   "outputs": [],
   "source": [
    "fig1 = glucifer.Figure()\n",
    "fig1.append( glucifer.objects.VectorArrows(mesh, velocityField*0.5, scaling=1.0 ) )\n",
    "fig1.append( glucifer.objects.Points(swarm, materialVariable, fn_size=2.0 ) )\n",
    "fig1.append( glucifer.objects.Mesh(mesh) )\n",
    "fig1.db.step = 0\n",
    "fig1.save_image('simpleStretch.0.png')"
   ]
  },
  {
   "cell_type": "markdown",
   "metadata": {},
   "source": [
    "**Create a Stokes system**"
   ]
  },
  {
   "cell_type": "code",
   "execution_count": null,
   "metadata": {
    "collapsed": false
   },
   "outputs": [],
   "source": [
    "stokesPIC = uw.systems.Stokes( velocityField = velocityField, \n",
    "                               pressureField = pressureField,\n",
    "                               swarm         = swarm,\n",
    "                               conditions    = [stokesBC, nbc],\n",
    "                               fn_viscosity  = 1.0, \n",
    "                               fn_bodyforce  = fn_force,\n",
    "                               fn_lambda     = Lambda )\n",
    "solver = uw.systems.Solver( stokesPIC )"
   ]
  },
  {
   "cell_type": "code",
   "execution_count": null,
   "metadata": {
    "collapsed": true
   },
   "outputs": [],
   "source": [
    "vdotv = fn.math.dot(velocityField,velocityField)\n",
    "v2sum_integral  = uw.utils.Integral( mesh=mesh, fn=vdotv )\n",
    "volume_integral = uw.utils.Integral( mesh=mesh, fn=1. )"
   ]
  },
  {
   "cell_type": "code",
   "execution_count": null,
   "metadata": {
    "collapsed": false
   },
   "outputs": [],
   "source": [
    "steps        = 0\n",
    "finalTimestep = 1"
   ]
  },
  {
   "cell_type": "code",
   "execution_count": null,
   "metadata": {
    "collapsed": true
   },
   "outputs": [],
   "source": [
    "def drivingV(x, minX, maxX):\n",
    "    m = (vxRightWall-vxLeftWall)/(maxX-minX)\n",
    "    return m*(x - minX) + vxLeftWall"
   ]
  },
  {
   "cell_type": "code",
   "execution_count": null,
   "metadata": {
    "collapsed": false,
    "scrolled": true
   },
   "outputs": [],
   "source": [
    "outfile = open('simpleStrech.txt', 'w+')\n",
    "outfile.write( \"Steps, Timestep, vrms, meanHeight\\n\")\n",
    "print \"Steps, Timestep, Volume\\n\"\n",
    "lWallx = mesh.minCoord[0]\n",
    "rWallx = mesh.maxCoord[0]\n",
    "while steps<finalTimestep:\n",
    "    print \"swarm number {}\".format(swarm.particleGlobalCount)\n",
    "    # Get solution for initial configuration.\n",
    "    solver.solve()\n",
    "\n",
    "    # Advect using this timestep size.\n",
    "    dt = advector.get_max_dt()\n",
    "    \n",
    "    # advect the swarm by hand! Is it safe in parallel?\n",
    "    # we can do it with the swarm advector but we need to disable the update_particle_owners()\n",
    "    # routine inside the SwarmAdvector.c code and manually do it after mesh deform\n",
    "    swarm.particleCoordinates.data[:] += dt*velocityField.evaluate(swarm.particleCoordinates.data)\n",
    "    tracerSwarm.particleCoordinates.data[:] += dt*velocityField.evaluate(tracerSwarm.particleCoordinates.data)\n",
    "#     advector.integrate(dt)\n",
    "    \n",
    "    with mesh.deform_mesh( remainsRegular=True ):\n",
    "        # as a post-step within this with statement we call as update_particle_owners all swarms\n",
    "        mesh.data[:,0] = mesh.data[:,0] + dt * drivingV(mesh.data[:,0], lWallx, rWallx)\n",
    "    \n",
    "#     swarm.update_particle_owners()\n",
    "\n",
    "    picswarm.repopulate()\n",
    "    \n",
    "    # reset wall\n",
    "    lWallx += vxLeftWall*dt\n",
    "    rWallx += vxRightWall*dt\n",
    "\n",
    "    print \"Wall min/max: {} {}\".format(lWallx, rWallx)\n",
    "    # now user mesh2 for repopulating the swarm\n",
    "    \n",
    "    steps += 1\n",
    "     \n",
    "    fig1.save_image('simpleStretch.'+str(steps)+'.png')\n",
    "#     fig1.db.step += 1\n",
    "#     fig1.save_database('sim.db')\n",
    "    vol = volume_integral.evaluate()[0]\n",
    "#     hmean = np.mean(surfaceSwarm.particleCoordinates.data[:,1])\n",
    "    string = \"{0}, {1:.3e}, {2:.3e}, {3:.3e}\\n\".format(steps,dt,vol, tracerSwarm.particleCoordinates.data[0][1])\n",
    "    print string+\"\\n\"\n",
    "    outfile.write(string)\n",
    "outfile.close()"
   ]
  },
  {
   "cell_type": "code",
   "execution_count": null,
   "metadata": {
    "collapsed": false
   },
   "outputs": [],
   "source": [
    "fig1.show()"
   ]
  },
  {
   "cell_type": "code",
   "execution_count": null,
   "metadata": {
    "collapsed": false
   },
   "outputs": [],
   "source": [
    "chydroP = -(2.0/3.0-Lambda) * (velocityField.fn_gradient[0] + velocityField.fn_gradient[2])\n",
    "hydroP = uw.function.branching.conditional( [ (materialVariable >0.5, pressureField),\n",
    "                                              (True,             0.0) ] )\n",
    "fig2 = glucifer.Figure()\n",
    "# fig2.append( glucifer.objects.Points(swarm, hydroP,fn_size=2.0) )\n",
    "fig2.append( glucifer.objects.Surface(mesh, pressureField) )\n",
    "fig2.show()"
   ]
  },
  {
   "cell_type": "code",
   "execution_count": null,
   "metadata": {
    "collapsed": false
   },
   "outputs": [],
   "source": [
    "fig3 = glucifer.Figure()\n",
    "fig3.append( glucifer.objects.Points(swarm, pressureField,fn_size=2.0) )\n",
    "fig3.show()"
   ]
  },
  {
   "cell_type": "code",
   "execution_count": null,
   "metadata": {
    "collapsed": false
   },
   "outputs": [],
   "source": [
    "coords = np.zeros(shape=(resx, 2))\n",
    "coords[:,1] = (boxHeight/resy)\n",
    "offset = 0.5*(rWallx-lWallx)/resx\n",
    "for i in xrange(resx-1):\n",
    "    coords[i,0] = offset+i*(rWallx-lWallx)/resx\n",
    "# print coords"
   ]
  },
  {
   "cell_type": "code",
   "execution_count": null,
   "metadata": {
    "collapsed": false
   },
   "outputs": [],
   "source": [
    "dv_dy = velocityField.fn_gradient.evaluate(coords)[:,3]\n",
    "du_dx = velocityField.fn_gradient.evaluate(coords)[:,0]\n",
    "shear = velocityField.fn_gradient.evaluate(coords)[:,1]\n",
    "v = velocityField.evaluate(coords)[:,1]\n",
    "u = velocityField.evaluate(coords)[:,0]"
   ]
  },
  {
   "cell_type": "code",
   "execution_count": null,
   "metadata": {
    "collapsed": false
   },
   "outputs": [],
   "source": [
    "%matplotlib inline\n",
    "import matplotlib.pyplot as pyplot\n",
    "import matplotlib.pylab as pylab\n",
    "pylab.rcParams[ 'figure.figsize'] = 12, 6\n",
    "pyplot.plot(coords[:,0], du_dx, 'o', color = 'green', label='1')\n",
    "pyplot.plot(coords[:,0], dv_dy, 'o', color = 'red', label='2')\n",
    "pyplot.plot(coords[:,0], shear, 'o', color = 'black', label='shear')\n",
    "pyplot.legend()\n",
    "pyplot.xlabel('x coords at y=0')\n",
    "pyplot.ylabel('phi')\n",
    "pyplot.show()"
   ]
  },
  {
   "cell_type": "code",
   "execution_count": null,
   "metadata": {
    "collapsed": true
   },
   "outputs": [],
   "source": []
  },
  {
   "cell_type": "code",
   "execution_count": null,
   "metadata": {
    "collapsed": true
   },
   "outputs": [],
   "source": []
  }
 ],
 "metadata": {
  "kernelspec": {
   "display_name": "Python 2",
   "language": "python",
   "name": "python2"
  },
  "language_info": {
   "codemirror_mode": {
    "name": "ipython",
    "version": 2
   },
   "file_extension": ".py",
   "mimetype": "text/x-python",
   "name": "python",
   "nbconvert_exporter": "python",
   "pygments_lexer": "ipython2",
   "version": "2.7.9"
  }
 },
 "nbformat": 4,
 "nbformat_minor": 0
}
