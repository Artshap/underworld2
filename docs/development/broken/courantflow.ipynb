{
 "cells": [
  {
   "cell_type": "code",
   "execution_count": null,
   "metadata": {
    "collapsed": true
   },
   "outputs": [],
   "source": [
    "### Example of a 1D Channel driven flow\n",
    "\n",
    "Model Setup\n",
    "-----------\n",
    "\n",
    "2D, Stokes Equation with noslip BC at top and bottom boundary. Pressure gradient across horizonal axis drives flow\n",
    "\n",
    "\\\\[\n",
    "\\frac{\\partial \\tau}{\\partial y} = \\mu \\frac{\\partial^{2} \\mathbf{u}}{\\partial{y}^{2}} = - \\frac{\\partial p}{\\partial x}\n",
    "\\\\]\n",
    "\n",
    "\\\\[\n",
    "\\nabla \\cdot \\mathbf{u} = 0\n",
    "\\\\]\n",
    "\n",
    "with $x = [0,1],  y =[0,h]$\n",
    "\n",
    "$\\mathbf{u}(x,y=1) = \\mathbf{u}(x,y=0) = 0$\n",
    "\n",
    "------\n",
    "\n",
    "Effectively a 1D problem in $y$-axis, described by the analytic function\n",
    "\n",
    "$ \\mathbf{u}(y) = - \\left[ \\frac{1}{2 \\mu} \\frac{\\partial p }{\\partial x} ( y^{2} - h y ), 0 \\right]$"
   ]
  },
  {
   "cell_type": "code",
   "execution_count": null,
   "metadata": {
    "collapsed": false
   },
   "outputs": [],
   "source": [
    "import underworld as uw\n",
    "from underworld import function as fn\n",
    "import glucifer\n",
    "import math\n",
    "import numpy as np"
   ]
  },
  {
   "cell_type": "markdown",
   "metadata": {},
   "source": [
    "Setup parameters\n",
    "-----"
   ]
  },
  {
   "cell_type": "code",
   "execution_count": null,
   "metadata": {
    "collapsed": false
   },
   "outputs": [],
   "source": [
    "# Set domain dimension & size\n",
    "dim = 2\n",
    "h = 2.0\n",
    "boxLength = 1.0\n",
    "# Set grid resolution.\n",
    "res = 20\n",
    "\n",
    "# Set a constant viscosity.\n",
    "viscosity = 1.\n"
   ]
  },
  {
   "cell_type": "code",
   "execution_count": null,
   "metadata": {
    "collapsed": false
   },
   "outputs": [],
   "source": [
    "mesh = uw.mesh.FeMesh_Cartesian( elementType = (\"Q1/dQ0\"), \n",
    "                                 elementRes  = (res, res), \n",
    "                                 minCoord    = (-1., 0.), \n",
    "                                 maxCoord    = (boxLength, h),\n",
    "                                 periodic = (False,False))\n",
    "\n",
    "velocityField   = uw.mesh.MeshVariable( mesh=mesh,         nodeDofCount=dim )\n",
    "pressureField   = uw.mesh.MeshVariable( mesh=mesh.subMesh, nodeDofCount=1 )\n",
    "\n",
    "# initialise velocity, pressure and temperatureDot field\n",
    "velocityField.data[:] = [0.,0.]\n",
    "pressureField.data[:] = 0."
   ]
  },
  {
   "cell_type": "code",
   "execution_count": null,
   "metadata": {
    "collapsed": false
   },
   "outputs": [],
   "source": [
    "jWalls = mesh.specialSets[\"MinJ_VertexSet\"] + mesh.specialSets[\"MaxJ_VertexSet\"]\n",
    "iWalls = mesh.specialSets[\"MinI_VertexSet\"] + mesh.specialSets[\"MaxI_VertexSet\"]\n",
    "allWalls = iWalls + jWalls"
   ]
  },
  {
   "cell_type": "code",
   "execution_count": null,
   "metadata": {
    "collapsed": false
   },
   "outputs": [],
   "source": [
    "vBC = uw.conditions.DirichletCondition( variable = velocityField, \n",
    "                                        indexSetsPerDof = (jWalls, allWalls) )\n",
    "\n",
    "# constant stress definition\n",
    "dp_dx = 5.0\n",
    "xcoord = fn.coord()[0]\n",
    "stress = xcoord*(dp_dx,dp_dx,0.0) \n",
    "\n",
    "# This stress is multiplied by the wall normal to produce a surface force, via divergence-theorem\n",
    "# The left wall normal unit vector is (-1,0)\n",
    "# The right wall normal unit vector is (1,0)\n",
    "# stress_i_j * normal_j = surface_force\n",
    "\n",
    "nbc = uw.conditions.NeumannCondition( stress, \n",
    "                                      variable=velocityField,\n",
    "                                      nodeIndexSet=(iWalls) )"
   ]
  },
  {
   "cell_type": "code",
   "execution_count": null,
   "metadata": {
    "collapsed": false
   },
   "outputs": [],
   "source": [
    "stokesPIC = uw.systems.Stokes( velocityField = velocityField, \n",
    "                               pressureField = pressureField,\n",
    "                               conditions    = [vBC, nbc],\n",
    "                               fn_viscosity   = viscosity, \n",
    "                               fn_bodyforce   = 0.0 )\n",
    "\n",
    "solver = uw.systems.Solver( stokesPIC )\n",
    "solver.solve()"
   ]
  },
  {
   "cell_type": "code",
   "execution_count": null,
   "metadata": {
    "collapsed": false
   },
   "outputs": [],
   "source": [
    "fig = glucifer.Figure()\n",
    "velmagfield = uw.function.math.sqrt( uw.function.math.dot( velocityField, velocityField ) )\n",
    "fig.append( glucifer.objects.VectorArrows(mesh, velocityField, arrowHead=0.2, scaling=0.1) )\n",
    "fig.append( glucifer.objects.Mesh(mesh) )\n",
    "fig.append( glucifer.objects.Surface( mesh, pressureField ) )\n",
    "fig.show()"
   ]
  },
  {
   "cell_type": "code",
   "execution_count": null,
   "metadata": {
    "collapsed": false
   },
   "outputs": [],
   "source": [
    "ids = mesh.specialSets[\"MaxI_VertexSet\"]\n",
    "coords = mesh.data[ids.data] # xcoords\n",
    "V = velocityField.evaluate(ids)\n",
    "gradV = velocityField.fn_gradient.evaluate(ids)\n",
    "\n",
    "u = V[:,0] ; v = V[:,1]\n",
    "du_dx = gradV[:,0] ; du_dy = gradV[:,1]\n",
    "dv_dx = gradV[:,2] ; dv_dy = gradV[:,3]\n",
    "\n",
    "strainRate = fn.tensor.symmetric( velocityField.fn_gradient )\n",
    "devstress = 2.0 * strainRate"
   ]
  },
  {
   "cell_type": "code",
   "execution_count": null,
   "metadata": {
    "collapsed": true
   },
   "outputs": [],
   "source": [
    "def exact(y):\n",
    "    ana_u = -1.0 / (2.0 * viscosity)* dp_dx * (y**2 - h*y)\n",
    "    return ana_u"
   ]
  },
  {
   "cell_type": "code",
   "execution_count": null,
   "metadata": {
    "collapsed": false
   },
   "outputs": [],
   "source": [
    "ana_u = exact(coords[:,1])\n",
    "\n",
    "abserr = uw.utils.nps_2norm(ana_u - u)\n",
    "mag = uw.utils.nps_2norm(ana_u)\n",
    "relerr = abserr / mag\n",
    "\n",
    "from mpi4py import MPI\n",
    "comm = MPI.COMM_WORLD\n",
    "\n",
    "if uw.rank() == 0:\n",
    "    print \"Relative error against analytic solution:\", relerr\n",
    "    if relerr > 1.0e-6:\n",
    "        raise RuntimeError(\"The numerical solution is outside the error threshold of the analytic solution.\" \\\n",
    "                           \"The Relative error was \", relerr,\" the threshold is \", threshold)"
   ]
  },
  {
   "cell_type": "code",
   "execution_count": null,
   "metadata": {
    "collapsed": false
   },
   "outputs": [],
   "source": [
    "%matplotlib inline\n",
    "import matplotlib.pyplot as pyplot\n",
    "import matplotlib.pylab as pylab\n",
    "pylab.rcParams[ 'figure.figsize'] = 12, 6\n",
    "pyplot.plot(coords[:,1], u, 'o', color = 'green', label='vx')\n",
    "pyplot.plot(coords[:,1], v, 'o', color = 'red', label='vy')\n",
    "big = np.linspace(0.0,h)\n",
    "pyplot.plot(big, exact(big), 'D', color = 'purple', label='exact_vx', markersize=2)\n",
    "pyplot.legend()\n",
    "pyplot.xlabel('y coords at x=xmax')\n",
    "pyplot.ylabel('velocity')\n",
    "pyplot.show()"
   ]
  },
  {
   "cell_type": "code",
   "execution_count": null,
   "metadata": {
    "collapsed": false
   },
   "outputs": [],
   "source": [
    "pyplot.plot(coords[:,1], du_dy, 'o', color = 'purple', label='du_dy')\n",
    "pyplot.plot(coords[:,1], du_dx, 'o', color = 'black', label='du_dx')\n",
    "pyplot.plot(coords[:,1], dv_dy, 'o', color = 'orange', label='dv_dy')\n",
    "pyplot.plot(coords[:,1], dv_dx, 'o', color = 'red', label='dv_dx')\n",
    "pyplot.legend()\n",
    "pyplot.xlabel('y coords at x=xmax')\n",
    "pyplot.ylabel('velocity gradients')\n",
    "pyplot.show()"
   ]
  },
  {
   "cell_type": "code",
   "execution_count": null,
   "metadata": {
    "collapsed": false
   },
   "outputs": [],
   "source": [
    "pyplot.plot(coords[:,1], strainRate.evaluate(ids)[:,2], 'o', color = 'purple', label='e_shear')\n",
    "pyplot.plot(coords[:,1], devstress.evaluate(ids)[:,2], 'o', label='tau_shear')\n",
    "pyplot.legend()\n",
    "pyplot.xlabel('y coords at x=xmax')\n",
    "pyplot.ylabel('strain rate')\n",
    "pyplot.show()"
   ]
  }
 ],
 "metadata": {
  "kernelspec": {
   "display_name": "Python 2",
   "language": "python",
   "name": "python2"
  },
  "language_info": {
   "codemirror_mode": {
    "name": "ipython",
    "version": 2
   },
   "file_extension": ".py",
   "mimetype": "text/x-python",
   "name": "python",
   "nbconvert_exporter": "python",
   "pygments_lexer": "ipython2",
   "version": "2.7.9"
  }
 },
 "nbformat": 4,
 "nbformat_minor": 0
}
