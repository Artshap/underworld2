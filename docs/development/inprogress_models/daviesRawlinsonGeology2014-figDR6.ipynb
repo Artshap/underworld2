{
 "cells": [
  {
   "cell_type": "markdown",
   "metadata": {},
   "source": [
    "Davies and Rawlinson, Geology (2014).\n",
    "======\n",
    "\n",
    "This notebook reproduces a 2D instantaneous flow model with composite Newtonian and non-Newtonian rheology as shown in Figure DR6 of [Davies and Rawlinson (2014)](doi:10.1130/G36093.1).  Rheological parameters are consistent with [Karato and Wu (1993)](doi:10.1126/science.260.5109.771), prefactors are chosen to produce a minimum diffusion creep viscosity of 5 x 10^19 Pa.s within the asthenosphere and dislocation creep dominating within the edge driven convection cell.  \n",
    "\n",
    "**References**\n",
    "\n",
    "1. D. Rhodri Davies and Nicholas Rawlinson, On the origin of recent intraplate volcanism in Australia. Geology, December 2014, v. 42, p. 1031-1034, doi:10.1130/G36093.1 "
   ]
  },
  {
   "cell_type": "code",
   "execution_count": 1,
   "metadata": {
    "collapsed": false
   },
   "outputs": [],
   "source": [
    "import numpy as np\n",
    "import underworld as uw\n",
    "import math\n",
    "from underworld import function as fn\n",
    "import glucifer"
   ]
  },
  {
   "cell_type": "markdown",
   "metadata": {},
   "source": [
    "Set simulation parameters."
   ]
  },
  {
   "cell_type": "code",
   "execution_count": 2,
   "metadata": {
    "collapsed": true
   },
   "outputs": [],
   "source": [
    "# physical parameters\n",
    "g        = 9.8      # [m/(s.s)],   gravity \n",
    "alpha    = 3*1e-5   # [K^-1],      thermal expansivity coefficient\n",
    "kappa    = 1e-6     # [m.m/s],     thermal diffusivity\n",
    "rho0     = 3300.    # [kg/m^3],    reference density\n",
    "Temp_Min = 300.0    # [K],         surface temperature, 26.85C, 0C = 273.15K\n",
    "Temp_Max = 1573.0   # [K],         mantle temperature\n",
    "R        = 8.3145   # [J/(K.mol)], gas constant\n",
    "\n",
    "deltaTemp = Temp_Max - Temp_Min"
   ]
  },
  {
   "cell_type": "code",
   "execution_count": 3,
   "metadata": {
    "collapsed": false
   },
   "outputs": [],
   "source": [
    "ageC = 100.*1e6*(60.*60.*24*365) # in seconds, 100 Myr, thermal age of cratonic lithosphere, left hand side\n",
    "ageP =  20.*1e6*(60.*60.*24*365) # in seconds,  20 Myr, Palaeozoic lithosphere, right hand side; \n",
    "transLength = 200.*1e3           # transition length, 200 km\n",
    "\n",
    "#length in [km]\n",
    "boxLength = 2.1 # x 1e3 m = 2,100 km\n",
    "boxHeight = 0.7 # x 1e3 m =   700 km\n",
    "minCoord = [-boxLength/2., -boxHeight]  # x centre at zero\n",
    "maxCoord = [ boxLength/2., 0]           # y = 0 at surface\n",
    "aspectRatio = boxLength/boxHeight\n",
    "\n",
    "unitRes     = 128  \n",
    "resolution  = [int(unitRes*aspectRatio),unitRes]"
   ]
  },
  {
   "cell_type": "code",
   "execution_count": 4,
   "metadata": {
    "collapsed": false
   },
   "outputs": [],
   "source": [
    "# scale vectors for 1 cm/yr\n",
    "# v = (kappa / depth) * v' [m/s]\n",
    "# [cm/yr] = (1e2cm/m).(60*60*24*365s/yr)[m/s]\n",
    "velScalingFactor = (kappa/(boxHeight*1e6))*(1e2*(60*60*24*365))"
   ]
  },
  {
   "cell_type": "markdown",
   "metadata": {},
   "source": [
    "Create mesh and finite element variables\n",
    "------"
   ]
  },
  {
   "cell_type": "code",
   "execution_count": 5,
   "metadata": {
    "collapsed": false
   },
   "outputs": [],
   "source": [
    "mesh = uw.mesh.FeMesh_Cartesian( elementType = (\"Q1/dQ0\"), \n",
    "                                 elementRes  = resolution, \n",
    "                                 minCoord    = minCoord, \n",
    "                                 maxCoord    = maxCoord,\n",
    "                               ) \n",
    "\n",
    "velocityField       = uw.mesh.MeshVariable( mesh=mesh,         nodeDofCount=2 )\n",
    "pressureField       = uw.mesh.MeshVariable( mesh=mesh.subMesh, nodeDofCount=1 )\n",
    "temperatureField    = uw.mesh.MeshVariable( mesh=mesh,         nodeDofCount=1 )\n",
    "temperatureDotField = uw.mesh.MeshVariable( mesh=mesh,         nodeDofCount=1 )\n",
    "viscosityField      = uw.mesh.MeshVariable( mesh=mesh,         nodeDofCount=1 )\n",
    "deformationField    = uw.mesh.MeshVariable( mesh=mesh,         nodeDofCount=1 )"
   ]
  },
  {
   "cell_type": "code",
   "execution_count": 6,
   "metadata": {
    "collapsed": false
   },
   "outputs": [],
   "source": [
    "# initialise fields\n",
    "temperatureField.data[:]    = 0.\n",
    "temperatureDotField.data[:] = 0.\n",
    "velocityField.data[:]       = [0.,0.]\n",
    "pressureField.data[:]       = 0.\n",
    "viscosityField.data[:]      = 0.\n",
    "deformationField.data[:]    = 0."
   ]
  },
  {
   "cell_type": "code",
   "execution_count": 7,
   "metadata": {
    "collapsed": true
   },
   "outputs": [],
   "source": [
    "# mesh.reset()"
   ]
  },
  {
   "cell_type": "code",
   "execution_count": 8,
   "metadata": {
    "collapsed": false
   },
   "outputs": [],
   "source": [
    "with mesh.deform_mesh():\n",
    "    mesh.data[:,0] = mesh.data[:,0] * np.exp(mesh.data[:,0]*mesh.data[:,0]) / np.exp(maxCoord[0]*maxCoord[0])\n",
    "    mesh.data[:,1] = mesh.data[:,1] * np.exp(mesh.data[:,1]*mesh.data[:,1]*2) / np.exp(boxHeight*boxHeight*2)"
   ]
  },
  {
   "cell_type": "code",
   "execution_count": 9,
   "metadata": {
    "collapsed": true
   },
   "outputs": [],
   "source": [
    "figsize=(1050.,350.)"
   ]
  },
  {
   "cell_type": "code",
   "execution_count": 10,
   "metadata": {
    "collapsed": false
   },
   "outputs": [
    {
     "data": {
      "text/html": [
       "<img src='data:image/png;base64,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'>"
      ],
      "text/plain": [
       "<IPython.core.display.HTML object>"
      ]
     },
     "metadata": {},
     "output_type": "display_data"
    }
   ],
   "source": [
    "figMesh = glucifer.Figure( figsize=figsize )\n",
    "figMesh.append( glucifer.objects.Mesh(mesh)) \n",
    "figMesh.show()"
   ]
  },
  {
   "cell_type": "markdown",
   "metadata": {},
   "source": [
    "**Initialise & apply boundary conditions on the temperature Field**"
   ]
  },
  {
   "cell_type": "code",
   "execution_count": 11,
   "metadata": {
    "collapsed": false
   },
   "outputs": [],
   "source": [
    "# calculate half-space cooling model\n",
    "for index, coord in enumerate(mesh.data):\n",
    "    depth  = -1.0*coord[1]*1e6  # in [m]\n",
    "    xCoord = coord[0]*1e6\n",
    "    if xCoord < -transLength/2:\n",
    "        temp = deltaTemp*math.erf(depth/(2.*math.sqrt(kappa*ageC)))/deltaTemp\n",
    "    elif xCoord < transLength/2:\n",
    "        # average between craton the palaeozoic lithosphere\n",
    "        phi = (xCoord + transLength/2)/transLength  \n",
    "        age = (1.-phi) * ageC + phi * ageP\n",
    "        temp = deltaTemp*math.erf(depth/(2.*math.sqrt(kappa*age)))/deltaTemp\n",
    "    else:\n",
    "        temp = deltaTemp*math.erf(depth/(2.*math.sqrt(kappa*ageP)))/deltaTemp\n",
    "    temperatureField.data[index] = temp"
   ]
  },
  {
   "cell_type": "code",
   "execution_count": 12,
   "metadata": {
    "collapsed": false
   },
   "outputs": [],
   "source": [
    "iWalls  = mesh.specialSets[\"MinI_VertexSet\"] + mesh.specialSets[\"MaxI_VertexSet\"]\n",
    "jWalls  = mesh.specialSets[\"MinJ_VertexSet\"] + mesh.specialSets[\"MaxJ_VertexSet\"]\n",
    "topWall = mesh.specialSets[\"MaxJ_VertexSet\"]\n",
    "\n",
    "freeslipBC = uw.conditions.DirichletCondition( variable      = velocityField, \n",
    "                                               indexSetsPerDof = ( iWalls, jWalls) )\n",
    "tempBC     = uw.conditions.DirichletCondition( variable      = temperatureField, \n",
    "                                               indexSetsPerDof = ( jWalls, ) )"
   ]
  },
  {
   "cell_type": "markdown",
   "metadata": {},
   "source": [
    "**Plot initial temperature**"
   ]
  },
  {
   "cell_type": "code",
   "execution_count": 13,
   "metadata": {
    "collapsed": false,
    "scrolled": true
   },
   "outputs": [
    {
     "data": {
      "text/html": [
       "<img src='data:image/png;base64,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'>"
      ],
      "text/plain": [
       "<IPython.core.display.HTML object>"
      ]
     },
     "metadata": {},
     "output_type": "display_data"
    }
   ],
   "source": [
    "figtemp = glucifer.Figure(figsize=figsize)\n",
    "figtemp.append( glucifer.objects.Surface(mesh, temperatureField) )\n",
    "figtemp.append( glucifer.objects.Contours(mesh, temperatureField, interval=(100/deltaTemp), \n",
    "                                          limits=(0.,(1400-300)/deltaTemp), \n",
    "                                          colours='Black', colourBar=False))\n",
    "figtemp.show()"
   ]
  },
  {
   "cell_type": "markdown",
   "metadata": {},
   "source": [
    "**Create the swarm**"
   ]
  },
  {
   "cell_type": "code",
   "execution_count": 14,
   "metadata": {
    "collapsed": false
   },
   "outputs": [],
   "source": [
    "# Create a swarm.\n",
    "swarm          = uw.swarm.Swarm( mesh=mesh, particleEscape=True )\n",
    "tracerSwarm    = uw.swarm.Swarm( mesh=mesh )\n",
    "\n",
    "# Create a layout object, populate the swarm with particles.\n",
    "swarmLayout = uw.swarm.layouts.PerCellSpaceFillerLayout( swarm=swarm, particlesPerCell=20 )\n",
    "swarm.populate_using_layout( layout=swarmLayout )"
   ]
  },
  {
   "cell_type": "code",
   "execution_count": 15,
   "metadata": {
    "collapsed": true
   },
   "outputs": [],
   "source": [
    "# Add a data variable which will store an index to determine deformation mechanism.\n",
    "deformationSwarmVar = swarm.add_variable( dataType=\"int\", count=1 )"
   ]
  },
  {
   "cell_type": "markdown",
   "metadata": {},
   "source": [
    "**Define the rheology**"
   ]
  },
  {
   "cell_type": "code",
   "execution_count": 16,
   "metadata": {
    "collapsed": true
   },
   "outputs": [],
   "source": [
    "# strain rate invariant\n",
    "strainRateFn              = fn.tensor.symmetric( velocityField.fn_gradient )\n",
    "strainRate_2ndInvariantFn = fn.tensor.second_invariant(strainRateFn)\n",
    "strainRate_2ndInvariantFn_scaled = strainRate_2ndInvariantFn * (kappa / ((boxHeight*1e6)**2))"
   ]
  },
  {
   "cell_type": "code",
   "execution_count": 17,
   "metadata": {
    "collapsed": false
   },
   "outputs": [],
   "source": [
    "# hydrostatice pressure \n",
    "yCoord = fn.input()[1]*1e6\n",
    "z_hat  = -1.0*(yCoord)\n",
    "P_stat = rho0 * g * z_hat"
   ]
  },
  {
   "cell_type": "code",
   "execution_count": 18,
   "metadata": {
    "collapsed": false
   },
   "outputs": [],
   "source": [
    "# adiabatic gradiet to temperature solution, 0.5 K/km\n",
    "Tm = (z_hat/1e3)*0.5+(temperatureField*deltaTemp)+Temp_Min"
   ]
  },
  {
   "cell_type": "code",
   "execution_count": 19,
   "metadata": {
    "collapsed": true
   },
   "outputs": [],
   "source": [
    "# limiters\n",
    "eta_max = 1e24 # Pa.s, maximum viscosity\n",
    "eta_min = 1e19 # Pa.s, minimum viscosity"
   ]
  },
  {
   "cell_type": "code",
   "execution_count": 20,
   "metadata": {
    "collapsed": false
   },
   "outputs": [],
   "source": [
    "# Diffusion creep\n",
    "E_diff = 300.*1e3     # J/mol, activation energy\n",
    "V_diff = 4.5/(1e2**3) # m^3/mol, activation volume\n",
    "A_diff = 4.0e-10      # Pa^-1.s^-1, prefactor\n",
    "n_diff = 1."
   ]
  },
  {
   "cell_type": "code",
   "execution_count": 21,
   "metadata": {
    "collapsed": false
   },
   "outputs": [],
   "source": [
    "diffusionCreep  = 0.5*fn.math.pow(A_diff,(-1./n_diff))\n",
    "diffusionCreep *= fn.math.exp((E_diff+P_stat*V_diff)/(n_diff*R*Tm))\n",
    "diffusionCreep *= fn.math.pow((strainRate_2ndInvariantFn_scaled+1.0e-24),(1-n_diff)/n_diff)"
   ]
  },
  {
   "cell_type": "code",
   "execution_count": 22,
   "metadata": {
    "collapsed": false
   },
   "outputs": [],
   "source": [
    "# Dislocation creep\n",
    "E_disl = 540.*1e3     # J/mol, activation energy\n",
    "V_disl = 10./(1e2**3) # m^3/mol, activation volume\n",
    "A_disl = 1.0e-15      # Pa^-n.s^-1, prefactor\n",
    "n_disl = 3.5"
   ]
  },
  {
   "cell_type": "code",
   "execution_count": 23,
   "metadata": {
    "collapsed": false
   },
   "outputs": [],
   "source": [
    "dislocationCreep  = 0.5*fn.math.pow(A_disl,(-1./n_disl))\n",
    "dislocationCreep *= fn.math.exp((E_disl+P_stat*V_disl)/(n_disl*R*Tm))\n",
    "dislocationCreep *= fn.math.pow((strainRate_2ndInvariantFn_scaled+1.0e-24),(1-n_disl)/n_disl)"
   ]
  },
  {
   "cell_type": "code",
   "execution_count": 24,
   "metadata": {
    "collapsed": false
   },
   "outputs": [],
   "source": [
    "creep_harmonic = fn.math.pow((1./diffusionCreep + 1./dislocationCreep)/2.,-1)"
   ]
  },
  {
   "cell_type": "code",
   "execution_count": 25,
   "metadata": {
    "collapsed": true
   },
   "outputs": [],
   "source": [
    "fn_viscosity = fn.misc.max(fn.misc.min(creep_harmonic, eta_max), eta_min )/eta_min"
   ]
  },
  {
   "cell_type": "code",
   "execution_count": 26,
   "metadata": {
    "collapsed": false
   },
   "outputs": [
    {
     "data": {
      "text/html": [
       "<img src='data:image/png;base64,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'>"
      ],
      "text/plain": [
       "<IPython.core.display.HTML object>"
      ]
     },
     "metadata": {},
     "output_type": "display_data"
    }
   ],
   "source": [
    "viscosity = glucifer.objects.Surface(mesh, fn_viscosity*eta_min, logScale=True, valueRange=[5e19, 5e20], )\n",
    "viscosity.colourBar[\"tickvalues\"] = [5e19, 10e19, 50e19]\n",
    "\n",
    "figEta = glucifer.Figure(figsize=figsize, title='Viscosity field, Temperature contours')\n",
    "figEta.append( viscosity)\n",
    "figEta.append( glucifer.objects.Contours(mesh, temperatureField, interval=(100/deltaTemp), \n",
    "                                         limits=(0.,(1400-300)/deltaTemp), \n",
    "                                         \n",
    "                                         colours='Black', colourBar=False))\n",
    "figEta.show()"
   ]
  },
  {
   "cell_type": "markdown",
   "metadata": {},
   "source": [
    "**Define density, gravity and buoyancy force**"
   ]
  },
  {
   "cell_type": "code",
   "execution_count": 27,
   "metadata": {
    "collapsed": false
   },
   "outputs": [],
   "source": [
    "eta0 = eta_min\n",
    "Ra   = (alpha*rho0*g*deltaTemp*((boxHeight*1e6)**3)) / (eta0*kappa)"
   ]
  },
  {
   "cell_type": "code",
   "execution_count": 28,
   "metadata": {
    "collapsed": false
   },
   "outputs": [],
   "source": [
    "densityFn = Ra*temperatureField\n",
    "gravity = ( 0.0, 1.0 )\n",
    "buoyancyFn = gravity*densityFn"
   ]
  },
  {
   "cell_type": "markdown",
   "metadata": {},
   "source": [
    "**Setup a Stokes system**"
   ]
  },
  {
   "cell_type": "code",
   "execution_count": 29,
   "metadata": {
    "collapsed": false
   },
   "outputs": [],
   "source": [
    "stokes = uw.systems.Stokes( velocityField = velocityField, \n",
    "                            pressureField = pressureField,\n",
    "                               conditions = [freeslipBC,],\n",
    "                             fn_viscosity = fn_viscosity, \n",
    "                             fn_bodyforce = buoyancyFn,\n",
    "                          )"
   ]
  },
  {
   "cell_type": "code",
   "execution_count": 30,
   "metadata": {
    "collapsed": true
   },
   "outputs": [],
   "source": [
    "solver = uw.systems.Solver(stokes)"
   ]
  },
  {
   "cell_type": "code",
   "execution_count": 31,
   "metadata": {
    "collapsed": false
   },
   "outputs": [],
   "source": [
    "if uw.rank()==0:\n",
    "    solver.set_inner_method(\"lu\")"
   ]
  },
  {
   "cell_type": "markdown",
   "metadata": {},
   "source": [
    "**Set up and solve the Stokes system**"
   ]
  },
  {
   "cell_type": "code",
   "execution_count": 32,
   "metadata": {
    "collapsed": false
   },
   "outputs": [],
   "source": [
    "solver.solve(nonLinearIterate=True)"
   ]
  },
  {
   "cell_type": "code",
   "execution_count": 33,
   "metadata": {
    "collapsed": false
   },
   "outputs": [
    {
     "data": {
      "text/html": [
       "<img src='data:image/png;base64,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'>"
      ],
      "text/plain": [
       "<IPython.core.display.HTML object>"
      ]
     },
     "metadata": {},
     "output_type": "display_data"
    }
   ],
   "source": [
    "figEta.append( glucifer.objects.VectorArrows(mesh, velocityField*velScalingFactor ) )\n",
    "figEta.show()"
   ]
  },
  {
   "cell_type": "code",
   "execution_count": 34,
   "metadata": {
    "collapsed": false
   },
   "outputs": [],
   "source": [
    "minViscosityIndex     = 0\n",
    "maxViscosityIndex     = 1\n",
    "diffusionCreepIndex   = 2\n",
    "dislocationCreepIndex = 3\n",
    "\n",
    "conditions = [ \n",
    "               (fn_viscosity*eta_min <= eta_min,          minViscosityIndex),\n",
    "               (fn_viscosity*eta_min >= eta_max,          maxViscosityIndex),\n",
    "               (diffusionCreep       <  dislocationCreep, diffusionCreepIndex), \n",
    "               (dislocationCreep     <= diffusionCreep,   dislocationCreepIndex),\n",
    "              ]"
   ]
  },
  {
   "cell_type": "code",
   "execution_count": 35,
   "metadata": {
    "collapsed": false
   },
   "outputs": [],
   "source": [
    "# plot deformation mechanism using the swarm \n",
    "# deformationSwarmVar.data[:]  = uw.function.branching.conditional( conditions ).evaluate(swarm)\n",
    "# plot deformation mechanism using the mesh\n",
    "deformationField.data[:]  = uw.function.branching.conditional( conditions ).evaluate(mesh)"
   ]
  },
  {
   "cell_type": "code",
   "execution_count": 36,
   "metadata": {
    "collapsed": true
   },
   "outputs": [],
   "source": [
    "figMech = glucifer.Figure(figsize=figsize, title='Deformation Mechanism')\n",
    "figMech.append( glucifer.objects.Contours(mesh, temperatureField, interval=(100/deltaTemp), \n",
    "                                          limits=(0.,(1400-300)/deltaTemp), \n",
    "                                          colours='Black',colourBar=False ))\n",
    "\n",
    "# plot deformation mechanism using the swarm \n",
    "#figMech.append( glucifer.objects.Points(swarm, deformationSwarmVar, colours = 'Red Blue Grey', colourBar=False))\n",
    "# plot deformation mechanism using the mesh\n",
    "figMech.append( glucifer.objects.Surface(mesh, deformationField, colours = 'Red Blue Grey', discrete=True))"
   ]
  },
  {
   "cell_type": "code",
   "execution_count": 37,
   "metadata": {
    "collapsed": false
   },
   "outputs": [
    {
     "data": {
      "text/html": [
       "<img src='data:image/png;base64,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'>"
      ],
      "text/plain": [
       "<IPython.core.display.HTML object>"
      ]
     },
     "metadata": {},
     "output_type": "display_data"
    }
   ],
   "source": [
    "figMech.show()"
   ]
  },
  {
   "cell_type": "code",
   "execution_count": null,
   "metadata": {
    "collapsed": true
   },
   "outputs": [],
   "source": []
  }
 ],
 "metadata": {
  "kernelspec": {
   "display_name": "Python 2",
   "language": "python",
   "name": "python2"
  },
  "language_info": {
   "codemirror_mode": {
    "name": "ipython",
    "version": 2
   },
   "file_extension": ".py",
   "mimetype": "text/x-python",
   "name": "python",
   "nbconvert_exporter": "python",
   "pygments_lexer": "ipython2",
   "version": "2.7.11"
  }
 },
 "nbformat": 4,
 "nbformat_minor": 0
}
