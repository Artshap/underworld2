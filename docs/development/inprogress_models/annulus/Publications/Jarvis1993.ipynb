{
 "cells": [
  {
   "cell_type": "markdown",
   "metadata": {},
   "source": [
    "**Cylindrical Thermal Convection**\n",
    "\n",
    "Compared to *Effects of Curvature on Two-Dimensional Models of Mantle Convection: Cylindrical Polar Coordinates* (Jarvis, 1993)\n",
    "\n",
    "Jarvis found relationships for Nu and average temperature with the cylindrical mesh geometry, specifically the ratio of outer to inner radii, f.\n",
    "\n",
    "**Limitations:** The models of Jarvis have free outer and inner surfaces, whereas these are fixed in this model"
   ]
  },
  {
   "cell_type": "code",
   "execution_count": null,
   "metadata": {
    "collapsed": true
   },
   "outputs": [],
   "source": [
    "# Model parameters\n",
    "res_radial,res_angular = 40,150\n",
    "maxtimesteps           = 1\n",
    "outputPath             = 'Jarvis_output/'\n",
    "\n",
    "# Whether or not to start from the previous temperature field\n",
    "loaddata = True\n",
    "load_temp_filename='Jarvis93data/temperature-1950.h5'\n"
   ]
  },
  {
   "cell_type": "code",
   "execution_count": null,
   "metadata": {},
   "outputs": [],
   "source": [
    "import underworld as uw\n",
    "import glucifer\n",
    "import numpy as np\n",
    "from underworld import function as fn\n",
    "uw.matplotlib_inline()\n",
    "import math"
   ]
  },
  {
   "cell_type": "code",
   "execution_count": null,
   "metadata": {
    "collapsed": true
   },
   "outputs": [],
   "source": [
    "import matplotlib.pyplot as plt\n",
    "plt.ion()"
   ]
  },
  {
   "cell_type": "code",
   "execution_count": null,
   "metadata": {
    "collapsed": true
   },
   "outputs": [],
   "source": [
    "# create checkpoint function\n",
    "def checkpoint( mesh, fieldDict, swarm, swarmDict, index,\n",
    "                meshName='mesh', swarmName='swarm', \n",
    "                prefix='./', enable_xdmf=True, with_deform_mesh=False):\n",
    "    import os\n",
    "    # Check the prefix is valid\n",
    "    if prefix is not None:\n",
    "        if not prefix.endswith('/'): prefix += '/' # add a backslash\n",
    "        if not os.path.exists(prefix) and uw.rank()==0:\n",
    "            print \"Creating directory: \",prefix \n",
    "            os.makedirs(prefix)\n",
    "        uw.barrier() \n",
    "            \n",
    "    if not isinstance(index, int):\n",
    "        raise TypeError(\"'index' is not of type int\")        \n",
    "    ii = str(index)\n",
    "    \n",
    "    # only is there's a mesh then check for fields to save\n",
    "    if mesh is not None:\n",
    "        \n",
    "        # Error check the mesh and fields\n",
    "        if not isinstance(mesh, uw.mesh.FeMesh):\n",
    "            raise TypeError(\"'mesh' is not of type uw.mesh.FeMesh\")\n",
    "        if not isinstance(fieldDict, dict):\n",
    "            raise TypeError(\"'fieldDict' is not of type dict\")\n",
    "        for key, value in fieldDict.iteritems():\n",
    "            if not isinstance( value, uw.mesh.MeshVariable ):\n",
    "                raise TypeError(\"'fieldDict' must contain uw.mesh.MeshVariable elements\")\n",
    "\n",
    "        # Save the mesh each call of checkpoint() if with_deform_mesh is enabled\n",
    "        if with_deform_mesh is True:\n",
    "            mh = mesh.save(prefix+meshName+\".h5\")\n",
    "        else:\n",
    "            # see if we have already saved the mesh. It only needs to be saved once\n",
    "            if not hasattr( checkpoint, 'mH' ):\n",
    "                checkpoint.mH = mesh.save(prefix+meshName+\".h5\")\n",
    "            mh = checkpoint.mH\n",
    "\n",
    "        # save xdmf files\n",
    "        for key,value in fieldDict.iteritems():\n",
    "            filename = prefix+key+'-'+ii\n",
    "            handle = value.save(filename+'.h5', mh)\n",
    "            if enable_xdmf: value.xdmf(filename, handle, key, mh, meshName)\n",
    "        \n",
    "    # is there a swarm\n",
    "    if swarm is not None:\n",
    "        \n",
    "        # Error check the swarms\n",
    "        if not isinstance(swarm, uw.swarm.Swarm):\n",
    "            raise TypeError(\"'swarm' is not of type uw.swarm.Swarm\")\n",
    "        if not isinstance(swarmDict, dict):\n",
    "            raise TypeError(\"'swarmDict' is not of type dict\")\n",
    "        for key, value in swarmDict.iteritems():\n",
    "            if not isinstance( value, uw.swarm.SwarmVariable ):\n",
    "                raise TypeError(\"'fieldDict' must contain uw.swarm.SwarmVariable elements\")\n",
    "        \n",
    "        # save xdmf files\n",
    "        sH = swarm.save(prefix+swarmName+\"-\"+ii+\".h5\")\n",
    "        for key,value in swarmDict.iteritems():\n",
    "            filename = prefix+key+'-'+ii\n",
    "            handle = value.save(filename+'.h5')\n",
    "            if enable_xdmf: value.xdmf(filename, handle, key, sH, swarmName)\n"
   ]
  },
  {
   "cell_type": "code",
   "execution_count": null,
   "metadata": {},
   "outputs": [],
   "source": [
    "annulus = uw.mesh._FeMesh_Annulus(elementRes=(res_radial,res_angular), \n",
    "                                  radialLengths=(0.4292,1.4292), angularExtent=(0.,360.),\n",
    "                                  periodic = [False, True])\n",
    "\n",
    "\n",
    "tField = uw.mesh.MeshVariable(annulus, nodeDofCount=1)\n",
    "vField = uw.mesh.MeshVariable(annulus, nodeDofCount=2)\n",
    "pField = uw.mesh.MeshVariable(annulus.subMesh, nodeDofCount=1)"
   ]
  },
  {
   "cell_type": "code",
   "execution_count": null,
   "metadata": {
    "collapsed": true
   },
   "outputs": [],
   "source": [
    "Ra = 1e5"
   ]
  },
  {
   "cell_type": "code",
   "execution_count": null,
   "metadata": {},
   "outputs": [],
   "source": [
    "fig = glucifer.Figure()\n",
    "fig.append(glucifer.objects.Mesh(annulus, segmentsPerEdge=1))\n",
    "fig.append(glucifer.objects.Surface(annulus, tField, onMesh=True ))\n",
    "# fig.show()"
   ]
  },
  {
   "cell_type": "code",
   "execution_count": null,
   "metadata": {},
   "outputs": [],
   "source": [
    "t_outer = 0.0\n",
    "t_inner = 1.0\n",
    "\n",
    "outer = annulus.specialSets[\"MaxI_VertexSet\"]\n",
    "inner = annulus.specialSets[\"MinI_VertexSet\"]\n",
    "boundaryNodes = outer+inner"
   ]
  },
  {
   "cell_type": "code",
   "execution_count": null,
   "metadata": {},
   "outputs": [],
   "source": [
    "# setup parameters for temperature distribution\n",
    "dr = annulus.radialLengths[1] - annulus.radialLengths[0]\n",
    "dT_dr = (t_outer-t_inner)/(dr)\n",
    "c0 = t_inner - dT_dr*annulus.radialLengths[0]\n",
    "\n",
    "# wavenumber for perturbation\n",
    "k = 4.0\n",
    "\n",
    "for ind,coord in enumerate(annulus.data):\n",
    "    r = np.sqrt(coord[0]**2 + coord[1]**2)\n",
    "    theta = np.arctan2(coord[1], coord[0])\n",
    "    \n",
    "    pert = 0.2 *np.sin(k*theta)\n",
    "    \n",
    "    t = r*dT_dr + c0\n",
    "    tField.data[ind] = min([max([0.,t + 1.*pert]),1])\n",
    "    \n",
    "tField.data[inner.data] = t_inner\n",
    "tField.data[outer.data] = t_outer\n",
    "\n",
    "if loaddata:\n",
    "    tField.load(load_temp_filename ,interpolate=False)"
   ]
  },
  {
   "cell_type": "code",
   "execution_count": null,
   "metadata": {},
   "outputs": [],
   "source": [
    "# A hacky  way to import data from a different resolution, as the loaddata interpolation\n",
    "# doesn't like the inner and outer surfaces of the cylindrical geometry\n",
    "importlowres = False\n",
    "\n",
    "if importlowres:\n",
    "    tempannulus = uw.mesh._FeMesh_Annulus(elementRes=(32,64), \n",
    "                                      radialLengths=(0.4292,1.4292), angularExtent=(0.,360.),\n",
    "                                      periodic = [False, True])\n",
    "    tempTfield = uw.mesh.MeshVariable(tempannulus, nodeDofCount=1)\n",
    "    tempTfield.load('Jarvis93data/temperature-350.h5', interpolate=True)\n",
    "\n",
    "    for node in range(annulus.nodesGlobal):\n",
    "        pos = annulus.data[node]\n",
    "        if node not in inner and node not in outer:\n",
    "            tField.data[node] = tempTfield.evaluate(tuple(pos))\n"
   ]
  },
  {
   "cell_type": "code",
   "execution_count": null,
   "metadata": {},
   "outputs": [],
   "source": [
    "fig.show()"
   ]
  },
  {
   "cell_type": "code",
   "execution_count": null,
   "metadata": {
    "collapsed": true
   },
   "outputs": [],
   "source": [
    "# mH = annulus.save('mesh.h5')\n",
    "# tH = tField.save('Jarvis93data/temperature-350.h5', mH)"
   ]
  },
  {
   "cell_type": "code",
   "execution_count": null,
   "metadata": {},
   "outputs": [],
   "source": [
    "tBC = uw.conditions.DirichletCondition( variable=tField, indexSetsPerDof=(inner+outer))\n",
    "vBC = uw.conditions.RotatedDirichletCondition( \n",
    "                                    variable        = vField,\n",
    "                                    indexSetsPerDof = (inner+outer, None),\n",
    "                                    basis_vectors   = (annulus.rot_vec_normal, annulus.rot_vec_tangent))"
   ]
  },
  {
   "cell_type": "code",
   "execution_count": null,
   "metadata": {},
   "outputs": [],
   "source": [
    "tDotField = uw.mesh.MeshVariable(annulus, nodeDofCount=1)\n",
    "advDiffSLE = uw.systems.AdvectionDiffusion(tField, tDotField, vField, fn_diffusivity=1.0, conditions=tBC)"
   ]
  },
  {
   "cell_type": "code",
   "execution_count": null,
   "metadata": {},
   "outputs": [],
   "source": [
    "g  = 1.0*annulus.fn_unitvec_radial()"
   ]
  },
  {
   "cell_type": "code",
   "execution_count": null,
   "metadata": {},
   "outputs": [],
   "source": [
    "bodyForceFn = g * tField * Ra / (annulus.radialLengths[1]-annulus.radialLengths[0])"
   ]
  },
  {
   "cell_type": "code",
   "execution_count": null,
   "metadata": {},
   "outputs": [],
   "source": [
    "stokesSLE = uw.systems.Stokes(vField, pField, \n",
    "                              fn_viscosity=1.0, \n",
    "                              fn_bodyforce=bodyForceFn, \n",
    "                              conditions=vBC, \n",
    "                              _removeBCs=False)"
   ]
  },
  {
   "cell_type": "code",
   "execution_count": null,
   "metadata": {
    "collapsed": true
   },
   "outputs": [],
   "source": [
    "def removeNullSpace():\n",
    "    mesh = annulus\n",
    "    r = fn.math.sqrt(fn.math.pow(fn.coord()[0],2.) + fn.math.pow(fn.coord()[1],2.))\n",
    "    tang = r*mesh.fn_unitvec_tangent()\n",
    "\n",
    "    # build solid body rotation vector\n",
    "    stokesSLE._asv.meshVariable.data[:] = tang.evaluate(mesh) # evaluate\n",
    "    uw.libUnderworld.StgFEM.SolutionVector_LoadCurrentFeVariableValuesOntoVector(stokesSLE._asv._cself) #store\n",
    "\n",
    "    # subtract from velocity continue\n",
    "    uw.libUnderworld.StgFEM.SolutionVector_RemoveVectorSpace(stokesSLE._velocitySol._cself, stokesSLE._asv._cself)\n",
    "    \n",
    "def realignSolution(): \n",
    "    # re-rotate and unmix\n",
    "    uw.libUnderworld.Underworld.AXequalsX( stokesSLE._rot._cself, stokesSLE._velocitySol._cself, False)\n",
    "    \n",
    "def postSolve():\n",
    "    removeNullSpace()\n",
    "    realignSolution()"
   ]
  },
  {
   "cell_type": "code",
   "execution_count": null,
   "metadata": {
    "collapsed": true
   },
   "outputs": [],
   "source": [
    "stokesSolver = uw.systems.Solver(stokesSLE)"
   ]
  },
  {
   "cell_type": "code",
   "execution_count": null,
   "metadata": {},
   "outputs": [],
   "source": [
    "arrT = []\n",
    "fDict = {'velocity'   : vField,\n",
    "         'temperature': tField,\n",
    "         'tDot'       : tDotField}\n",
    "tOld = tField.copy()\n",
    "\n",
    "er=1.\n",
    "its=0\n",
    "\n",
    "# for i in range(nS):\n",
    "while er > 1e-5 and its < maxtimesteps:\n",
    "    tOld.data[:] = tField.data[:] # record old values\n",
    "    \n",
    "    vField.data[boundaryNodes.data] = [0.,0.]\n",
    "    stokesSolver.solve(callback_post_solve=postSolve)\n",
    "\n",
    "    dt = advDiffSLE.get_max_dt()\n",
    "    \n",
    "    if its%50==0:\n",
    "        checkpoint(annulus, fDict, None, None, its, prefix=outputPath)\n",
    "    its+=1\n",
    "        \n",
    "    advDiffSLE.integrate(dt)\n",
    "\n",
    "    absErr = uw.utils._nps_2norm(tOld.data-tField.data)\n",
    "    magT   = uw.utils._nps_2norm(tOld.data)\n",
    "    er = absErr/magT              # calculate relative variation\n",
    "    \n",
    "    arrT.append(np.average(tField.data[:]))"
   ]
  },
  {
   "cell_type": "code",
   "execution_count": null,
   "metadata": {},
   "outputs": [],
   "source": [
    "plt.plot(np.arange(its),arrT)\n",
    "plt.xlabel(\"Time Steps\")\n",
    "plt.ylabel(\"Average Temperature\")\n",
    "plt.ylim([0.25,0.5])\n",
    "plt.savefig('avtemp.pdf')"
   ]
  },
  {
   "cell_type": "markdown",
   "metadata": {},
   "source": [
    "**Compare quantities from Jarvis 1993**"
   ]
  },
  {
   "cell_type": "code",
   "execution_count": null,
   "metadata": {},
   "outputs": [],
   "source": [
    "f = annulus.radialLengths[0] / annulus.radialLengths[1]\n",
    "TavPred = 1. / (1. + f**-0.75)\n",
    "TavPred\n",
    "print(\"For f=%.2f, Jarvis 93 predict t_av = %.2f\" %(f,TavPred) )\n",
    "print(\"Modelled t_av = %.2f\" %np.average(tField.data[:]))"
   ]
  },
  {
   "cell_type": "code",
   "execution_count": null,
   "metadata": {},
   "outputs": [],
   "source": [
    "D = 2. * np.pi\n",
    "# Number of up-wellings\n",
    "n = 3\n",
    "# Aspect parameter, defined by Jarvis 93\n",
    "A =  (np.pi/2./n)*(1.+f)/(1.-f)\n",
    "print(\"Apect parameter used here is A=%.2f, compared to Jarvis A=1\" %A)\n",
    "print(\"For A=1 and f = 0.3, Jarvis found Nu=8.65\")"
   ]
  },
  {
   "cell_type": "code",
   "execution_count": null,
   "metadata": {},
   "outputs": [],
   "source": [
    "tgrad = fn.math.dot(tField.fn_gradient,annulus.fn_unitvec_radial())\n",
    "tSurf_integral  = uw.utils.Integral( mesh=annulus, fn=tgrad, integrationType=\"surface\", surfaceIndexSet=outer )\n",
    "surf_integral   = uw.utils.Integral( mesh=annulus, fn=1.0, integrationType=\"surface\", surfaceIndexSet=outer )\n",
    "Nu = np.log(f)/(1.-f)* tSurf_integral.evaluate()[0] / surf_integral.evaluate()[0]\n",
    "print(\"From our model, Nu = %.2f\" %Nu)"
   ]
  },
  {
   "cell_type": "markdown",
   "metadata": {},
   "source": [
    "The average temperatures are close to that of Jarvis 1993. Our Nu is about a quarter of theirs, which can be expected from the contrast in boundary conditions"
   ]
  },
  {
   "cell_type": "code",
   "execution_count": null,
   "metadata": {},
   "outputs": [],
   "source": [
    "fig.show()"
   ]
  },
  {
   "cell_type": "code",
   "execution_count": null,
   "metadata": {
    "scrolled": true
   },
   "outputs": [],
   "source": [
    "figV = glucifer.Figure(**fig)\n",
    "figV.append(glucifer.objects.Surface(annulus, tField,onMesh=True))\n",
    "\n",
    "figV.append(glucifer.objects.VectorArrows(annulus, vField / Ra  * 1.0e2 , onMesh=True,arrowHead = 0.3))\n",
    "\n",
    "figV.show()\n",
    "figV.save_image('temperature.png')"
   ]
  },
  {
   "cell_type": "code",
   "execution_count": null,
   "metadata": {},
   "outputs": [],
   "source": [
    "# Save data for restart\n",
    "\n",
    "# mH = annulus.save(\"Jarvis93data/mesh.h5\")\n",
    "# tF = tField.save('Jarvis93data/temp.h5',mH)\n",
    "# vF = vField.save('Jarvis93data/vel.h5',mH)\n",
    "# vField.xdmf('Jarvis93data/vel.xdmf',vF,'vel', mH, 'mesh')"
   ]
  },
  {
   "cell_type": "code",
   "execution_count": null,
   "metadata": {
    "collapsed": true
   },
   "outputs": [],
   "source": []
  }
 ],
 "metadata": {
  "kernelspec": {
   "display_name": "Python 2",
   "language": "python",
   "name": "python2"
  },
  "language_info": {
   "codemirror_mode": {
    "name": "ipython",
    "version": 2
   },
   "file_extension": ".py",
   "mimetype": "text/x-python",
   "name": "python",
   "nbconvert_exporter": "python",
   "pygments_lexer": "ipython2",
   "version": "2.7.13"
  }
 },
 "nbformat": 4,
 "nbformat_minor": 1
}
