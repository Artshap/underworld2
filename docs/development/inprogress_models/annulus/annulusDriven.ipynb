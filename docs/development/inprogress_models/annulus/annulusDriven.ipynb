{
 "cells": [
  {
   "cell_type": "markdown",
   "metadata": {},
   "source": [
    "## Lid Driven and free slip boundary conditions in annulus geometry\n",
    "\n",
    "A example of the annulus convection model using a wrapper"
   ]
  },
  {
   "cell_type": "code",
   "execution_count": null,
   "metadata": {
    "collapsed": true
   },
   "outputs": [],
   "source": [
    "import underworld as uw\n",
    "from underworld import function as fn\n",
    "import glucifer\n",
    "import math\n",
    "import numpy as np"
   ]
  },
  {
   "cell_type": "code",
   "execution_count": null,
   "metadata": {
    "collapsed": true
   },
   "outputs": [],
   "source": [
    "from unsupported import annulus"
   ]
  },
  {
   "cell_type": "code",
   "execution_count": null,
   "metadata": {
    "collapsed": true
   },
   "outputs": [],
   "source": [
    "model = annulus.AnnulusConvection(elRes=(30, 300), outputPath='output')"
   ]
  },
  {
   "cell_type": "code",
   "execution_count": null,
   "metadata": {},
   "outputs": [],
   "source": [
    "model.meshSets.keys()"
   ]
  },
  {
   "cell_type": "code",
   "execution_count": null,
   "metadata": {
    "collapsed": true
   },
   "outputs": [],
   "source": [
    "model.initial_temperature_distribution(k=4)\n",
    "# load from hdf5 file\n",
    "# model.initial_temperature_distribution(h5file='annulus_output/temperature-100.h5')\n",
    "# model.fields['tDot'].load('annulus_output/tDot-100.h5', interpolate=True)\n",
    "# tField = model.fields['temperature']\n",
    "# tDot = model.fields['tDot']\n",
    "# tField.data[model.meshSets['outerNodes'].data] = 0.0\n",
    "# tField.data[model.meshSets['innerNodes'].data] = 1.0\n",
    "# tDot.data[model.meshSets['boundaryNodes'].data] = 0.0"
   ]
  },
  {
   "cell_type": "code",
   "execution_count": null,
   "metadata": {},
   "outputs": [],
   "source": [
    "# model.view.show()"
   ]
  },
  {
   "cell_type": "code",
   "execution_count": null,
   "metadata": {
    "collapsed": true
   },
   "outputs": [],
   "source": [
    "model.parameter_setup(Ra=1e4, Di=0.25, viscosity_mode=0, eqn='EBA')\n",
    "model.model_init()"
   ]
  },
  {
   "cell_type": "code",
   "execution_count": null,
   "metadata": {
    "collapsed": true
   },
   "outputs": [],
   "source": [
    "model.simulate(maxtimesteps=1, visualiseEvery=5, checkpointEvery=10 )"
   ]
  },
  {
   "cell_type": "code",
   "execution_count": null,
   "metadata": {
    "collapsed": true
   },
   "outputs": [],
   "source": [
    "if uw.utils.is_kernel():\n",
    "    vis = glucifer.lavavu.Viewer(database=model.animation.filename)\n",
    "    vis.control.Panel()\n",
    "    vis.control.ObjectList()\n",
    "    vis.control.TimeStepper()\n",
    "    vis.control.show()"
   ]
  }
 ],
 "metadata": {
  "kernelspec": {
   "display_name": "Python 2",
   "language": "python",
   "name": "python2"
  },
  "language_info": {
   "codemirror_mode": {
    "name": "ipython",
    "version": 2
   },
   "file_extension": ".py",
   "mimetype": "text/x-python",
   "name": "python",
   "nbconvert_exporter": "python",
   "pygments_lexer": "ipython2",
   "version": "2.7.13"
  }
 },
 "nbformat": 4,
 "nbformat_minor": 1
}
