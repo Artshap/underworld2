{
 "cells": [
  {
   "cell_type": "code",
   "execution_count": null,
   "metadata": {
    "collapsed": false
   },
   "outputs": [],
   "source": [
    "import underworld as uw\n",
    "import glucifer\n",
    "import numpy as np\n",
    "from underworld import function as fn"
   ]
  },
  {
   "cell_type": "code",
   "execution_count": null,
   "metadata": {
    "collapsed": false
   },
   "outputs": [],
   "source": [
    "annulus = uw.mesh._FeMesh_Annulus(elementRes=(20,120), \n",
    "                                  radius=(2.0,4.), angularExtent=(0.0,360.0),\n",
    "                                  periodic = [False, True])\n",
    "tField = uw.mesh.MeshVariable(annulus, nodeDofCount=1)\n",
    "vField = uw.mesh.MeshVariable(annulus, nodeDofCount=2)\n",
    "pField = uw.mesh.MeshVariable(annulus.subMesh, nodeDofCount=1)"
   ]
  },
  {
   "cell_type": "code",
   "execution_count": null,
   "metadata": {
    "collapsed": false
   },
   "outputs": [],
   "source": [
    "fig = glucifer.Figure()\n",
    "fig.append(glucifer.objects.Mesh(annulus, segmentsPerEdge=1))\n",
    "fig.append(glucifer.objects.Surface(annulus, tField, onMesh=True ))\n",
    "fig.show()\n",
    "fig.show()"
   ]
  },
  {
   "cell_type": "code",
   "execution_count": null,
   "metadata": {
    "collapsed": true
   },
   "outputs": [],
   "source": [
    "jWalls = annulus.specialSets[\"MinJ_VertexSet\"] + annulus.specialSets[\"MaxJ_VertexSet\"]"
   ]
  },
  {
   "cell_type": "code",
   "execution_count": null,
   "metadata": {
    "collapsed": false
   },
   "outputs": [],
   "source": [
    "t_outer = 5.0\n",
    "t_inner = 10.0\n",
    "outer = annulus.specialSets[\"MaxI_VertexSet\"]\n",
    "inner = annulus.specialSets[\"MinI_VertexSet\"]\n",
    "\n",
    "tField.data[inner.data] = 10.0\n",
    "tField.data[outer.data] = 5.0\n",
    "\n",
    "# setup parameters for temperature distribution\n",
    "dr = annulus.radius[1] - annulus.radius[0]\n",
    "dT_dr = (t_outer-t_inner)/(dr)\n",
    "c0 = t_inner - dT_dr*annulus.radius[0]\n",
    "# print c0, dT_dr\n",
    "\n",
    "# wavenumber for perturbation\n",
    "k = 4.\n",
    "\n",
    "for ind,coord in enumerate(annulus.data):\n",
    "    r = np.sqrt(coord[0]**2 + coord[1]**2)\n",
    "    theta = np.arctan2(coord[1], coord[0])\n",
    "    \n",
    "    pert = np.sin((r-2.)*np.pi/dr)*np.cos(k*theta)\n",
    "    \n",
    "    t = r*dT_dr + c0\n",
    "    tField.data[ind] = t + 1.*pert"
   ]
  },
  {
   "cell_type": "code",
   "execution_count": null,
   "metadata": {
    "collapsed": false
   },
   "outputs": [],
   "source": [
    "fig.show()"
   ]
  },
  {
   "cell_type": "code",
   "execution_count": null,
   "metadata": {
    "collapsed": true
   },
   "outputs": [],
   "source": [
    "vBC = uw.conditions.DirichletCondition( variable=vField, indexSetsPerDof=(inner+outer, inner+outer))\n",
    "tBC = uw.conditions.DirichletCondition( variable=tField, indexSetsPerDof=(inner+outer))"
   ]
  },
  {
   "cell_type": "code",
   "execution_count": null,
   "metadata": {
    "collapsed": false
   },
   "outputs": [],
   "source": [
    "tDotField = uw.mesh.MeshVariable(annulus, nodeDofCount=1)\n",
    "advDiffSLE = uw.systems.AdvectionDiffusion(tField, tDotField, vField, fn_diffusivity=1.0, conditions=tBC)"
   ]
  },
  {
   "cell_type": "code",
   "execution_count": null,
   "metadata": {
    "collapsed": false
   },
   "outputs": [],
   "source": [
    "g  = -1.0*annulus._getRadiusFn()"
   ]
  },
  {
   "cell_type": "code",
   "execution_count": null,
   "metadata": {
    "collapsed": false
   },
   "outputs": [],
   "source": [
    "bodyForceFn = g * tField"
   ]
  },
  {
   "cell_type": "code",
   "execution_count": null,
   "metadata": {
    "collapsed": false
   },
   "outputs": [],
   "source": [
    "stokesSLE = uw.systems.Stokes( vField, pField, fn_viscosity=1.0, fn_bodyforce=bodyForceFn, conditions=vBC)"
   ]
  },
  {
   "cell_type": "code",
   "execution_count": null,
   "metadata": {
    "collapsed": true
   },
   "outputs": [],
   "source": [
    "stokesSolver = uw.systems.Solver(stokesSLE)"
   ]
  },
  {
   "cell_type": "code",
   "execution_count": null,
   "metadata": {
    "collapsed": false
   },
   "outputs": [],
   "source": [
    "stokesSolver.solve()"
   ]
  },
  {
   "cell_type": "code",
   "execution_count": null,
   "metadata": {
    "collapsed": false
   },
   "outputs": [],
   "source": [
    "# setup analysis function\n",
    "vdotv = fn.math.dot(vField,vField)\n",
    "v2sum_integral  = uw.utils.Integral( mesh=annulus, fn=vdotv )\n",
    "volume_integral = uw.utils.Integral( mesh=annulus, fn=1. )\n",
    "velmag = fn.math.sqrt(vdotv)\n",
    "forcemag = fn.math.sqrt(fn.math.dot(bodyForceFn,bodyForceFn))"
   ]
  },
  {
   "cell_type": "code",
   "execution_count": null,
   "metadata": {
    "collapsed": false
   },
   "outputs": [],
   "source": [
    "figV = glucifer.Figure(**fig)\n",
    "figV.append(glucifer.objects.Mesh(annulus, segmentsPerEdge=1))\n",
    "# figV.append(glucifer.objects.Surface(annulus, forcemag, onMesh=True))\n",
    "figV.append(glucifer.objects.VectorArrows(annulus, vField*10., onMesh=True))\n",
    "figV.show()\n",
    "figV.show()"
   ]
  },
  {
   "cell_type": "code",
   "execution_count": null,
   "metadata": {
    "collapsed": false
   },
   "outputs": [],
   "source": [
    "# mH = annulus.save(\"mesh.h5\")\n",
    "# vF = vField.save('v.h5', mH)\n",
    "# vField.xdmf(\"vF.xdmf\", vF, 'velocity', mH, 'mesh')"
   ]
  },
  {
   "cell_type": "code",
   "execution_count": null,
   "metadata": {
    "collapsed": true
   },
   "outputs": [],
   "source": []
  }
 ],
 "metadata": {
  "kernelspec": {
   "display_name": "Python 2",
   "language": "python",
   "name": "python2"
  },
  "language_info": {
   "codemirror_mode": {
    "name": "ipython",
    "version": 2
   },
   "file_extension": ".py",
   "mimetype": "text/x-python",
   "name": "python",
   "nbconvert_exporter": "python",
   "pygments_lexer": "ipython2",
   "version": "2.7.11+"
  }
 },
 "nbformat": 4,
 "nbformat_minor": 0
}
