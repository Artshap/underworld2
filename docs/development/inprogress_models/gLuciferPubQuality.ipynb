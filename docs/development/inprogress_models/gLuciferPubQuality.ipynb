{
 "cells": [
  {
   "cell_type": "markdown",
   "metadata": {},
   "source": [
    "Notes for publication quality figures using gLucifer\n",
    "=====\n",
    "\n",
    "Last updated 21 April 2016\n",
    "\n",
    "Related to this [github ticket](https://github.com/underworldcode/underworld2/issues/87), although many of the issues in that post have already been fixed."
   ]
  },
  {
   "cell_type": "code",
   "execution_count": 26,
   "metadata": {
    "collapsed": true
   },
   "outputs": [],
   "source": [
    "import underworld as uw\n",
    "import glucifer\n",
    "import numpy as np\n"
   ]
  },
  {
   "cell_type": "markdown",
   "metadata": {},
   "source": [
    "**Make a minimal mesh and mesh variable for testing**"
   ]
  },
  {
   "cell_type": "code",
   "execution_count": 27,
   "metadata": {
    "collapsed": true
   },
   "outputs": [],
   "source": [
    "mesh = uw.mesh.FeMesh_Cartesian( elementType = (\"Q1/dQ0\"), \n",
    "                                 elementRes  = (16, 16), \n",
    "                                 minCoord    = (0., 0.), \n",
    "                                 maxCoord    = (1., 1.))\n",
    "velocityField = uw.mesh.MeshVariable( mesh=mesh, nodeDofCount=2 )"
   ]
  },
  {
   "cell_type": "markdown",
   "metadata": {},
   "source": [
    "Example 1: Ease of use\n",
    "----\n",
    "\n",
    "Not obvious how to change parameters, specifically:\n",
    "\n",
    "1. title font size and font type\n",
    "2. the axis tick number font size\n",
    "3. x/y axis labels\n",
    "4. changing swarm particle/vector arrow colours\n",
    "\n",
    "Main point:\n",
    "-----\n",
    "\n",
    "We need some way to list/expose all the parameters we can edit without needing to break open the code."
   ]
  },
  {
   "cell_type": "code",
   "execution_count": 28,
   "metadata": {
    "collapsed": true
   },
   "outputs": [],
   "source": [
    "velocityField.data[...] = (0.0, 0.0)"
   ]
  },
  {
   "cell_type": "code",
   "execution_count": 29,
   "metadata": {
    "collapsed": false
   },
   "outputs": [
    {
     "data": {
      "text/plain": [
       "array([0], dtype=int32)"
      ]
     },
     "execution_count": 29,
     "metadata": {},
     "output_type": "execute_result"
    }
   ],
   "source": [
    "swarm = uw.swarm.Swarm( mesh=mesh )\n",
    "particleCoordinates = np.zeros((1,2))\n",
    "particleCoordinates[0] = (0.5, 0.5)\n",
    "swarm.add_particles_with_coordinates(particleCoordinates)"
   ]
  },
  {
   "cell_type": "code",
   "execution_count": 31,
   "metadata": {
    "collapsed": false
   },
   "outputs": [
    {
     "data": {
      "text/html": [
       "<img src='data:image/png;base64,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'>"
      ],
      "text/plain": [
       "<IPython.core.display.HTML object>"
      ]
     },
     "execution_count": 31,
     "metadata": {},
     "output_type": "execute_result"
    }
   ],
   "source": [
    "imageTitle = \"Some title\"\n",
    "propertyList = {\"margin\" : 50, \"rulers\" : True, \"rulerticks\" : 5, \"tick3\" : 0.0}\n",
    "fig = glucifer.Figure(title=imageTitle, properties=propertyList, quality=3)\n",
    "vArrows = glucifer.objects.VectorArrows( mesh, velocityField, arrowHead=0.2, scaling=1.0)\n",
    "sParts = glucifer.objects.Points(swarm, colourBar=False, pointSize=20.0) \n",
    "fig.append(sParts)\n",
    "fig.append(vArrows)\n",
    "fig.show()"
   ]
  },
  {
   "cell_type": "markdown",
   "metadata": {},
   "source": [
    "Minor issue with clipping in some numbers; e.g. colour bar labels."
   ]
  },
  {
   "cell_type": "code",
   "execution_count": 40,
   "metadata": {
    "collapsed": false
   },
   "outputs": [
    {
     "data": {
      "text/html": [
       "<img src='data:image/png;base64,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'>"
      ],
      "text/plain": [
       "<IPython.core.display.HTML object>"
      ]
     },
     "execution_count": 40,
     "metadata": {},
     "output_type": "execute_result"
    }
   ],
   "source": [
    "imageTitle = \"Another title\"\n",
    "propertyList = {\"margin\" : 50, \"rulers\" : True, \"rulerticks\" : 5, \"tick3\" : 0.0}\n",
    "figZ = glucifer.Figure(title=imageTitle, properties=propertyList, quality=3)\n",
    "surf = glucifer.objects.Surface( mesh, velocityField[0], colours=\"white blue\", valueRange=(0.0001, 1.), \n",
    "                                logScale=False)\n",
    "surf.colourBar.properties = {\"margin\" : 40, \"width\" : 20, \"align\" : \"right\"}\n",
    "vArrows = glucifer.objects.VectorArrows( mesh, velocityField, arrowHead=0.2, scaling=0.1)\n",
    "figZ.append(vArrows)\n",
    "figZ.append(surf)\n",
    "figZ.show()"
   ]
  },
  {
   "cell_type": "code",
   "execution_count": null,
   "metadata": {
    "collapsed": true
   },
   "outputs": [],
   "source": []
  }
 ],
 "metadata": {
  "kernelspec": {
   "display_name": "Python 2",
   "language": "python",
   "name": "python2"
  },
  "language_info": {
   "codemirror_mode": {
    "name": "ipython",
    "version": 2
   },
   "file_extension": ".py",
   "mimetype": "text/x-python",
   "name": "python",
   "nbconvert_exporter": "python",
   "pygments_lexer": "ipython2",
   "version": "2.7.6"
  }
 },
 "nbformat": 4,
 "nbformat_minor": 0
}
