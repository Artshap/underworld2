{
 "cells": [
  {
   "cell_type": "markdown",
   "metadata": {},
   "source": [
    "## Swarm advection with lid Driven free slip boundary conditions in annulus geometry"
   ]
  },
  {
   "cell_type": "code",
   "execution_count": null,
   "metadata": {},
   "outputs": [],
   "source": [
    "import underworld as uw\n",
    "from underworld import function as fn\n",
    "import glucifer\n",
    "import math, os\n",
    "import numpy as np\n",
    "from mpi4py import MPI"
   ]
  },
  {
   "cell_type": "code",
   "execution_count": null,
   "metadata": {},
   "outputs": [],
   "source": [
    "# Set simulation box size.\n",
    "boxHeight = 1.0\n",
    "boxLength = 2.0\n",
    "# Set the resolution.\n",
    "res = 2\n",
    "# Set min/max temperatures.\n",
    "tempMin = 0.0\n",
    "tempMax = 1.0\n",
    "\n",
    "comm = MPI.COMM_WORLD\n",
    "outputDir = 'outputWithSwarm/'\n",
    "        \n",
    "if uw.mpi.rank == 0:\n",
    "    step = 1\n",
    "    while os.path.exists(outputDir):\n",
    "        outputDir = outputDir.split(\"_\")[0]+\"_\"+str(step).zfill(3)+'/'\n",
    "        step     += 1\n",
    "    \n",
    "    os.makedirs(outputDir)\n",
    "    outF = open(outputDir+'/output.dat', 'w')\n",
    "    \n",
    "store = glucifer.Store(outputDir+'/viz')\n",
    "\n",
    "# build annulus mesh - handles deforming a recangular mesh and applying periodic dofs\n",
    "mesh                = uw.mesh.FeMesh_Annulus(elementRes=(10,60), radialLengths=(4.,6.))\n",
    "velocityField       = mesh.add_variable( nodeDofCount=2 )\n",
    "pressureField       = mesh.subMesh.add_variable( nodeDofCount=1 )\n",
    "vmag                = fn.math.sqrt(fn.math.dot( velocityField, velocityField ))"
   ]
  },
  {
   "cell_type": "code",
   "execution_count": null,
   "metadata": {},
   "outputs": [],
   "source": [
    "# Set viscosity to be a constant.\n",
    "viscosity = 1.\n",
    "buoyancyFn = (0.,0.0)"
   ]
  },
  {
   "cell_type": "code",
   "execution_count": null,
   "metadata": {},
   "outputs": [],
   "source": [
    "# TODO: reuse only the vertex sets corresponding to the boundaries.\n",
    "lower = mesh.specialSets[\"MinI_VertexSet\"]\n",
    "upper = mesh.specialSets[\"MaxI_VertexSet\"]\n",
    "\n",
    "# (vx,vy) -> (vn,vt) (normal, tangential)\n",
    "velocityField.data[ upper.data ] = [0.0,10.0]\n",
    "velBC = uw.conditions.RotatedDirichletCondition( variable        = velocityField,\n",
    "                                                indexSetsPerDof  = (lower+upper, upper),\n",
    "                                                basis_vectors    = (mesh.bnd_vec_normal, mesh.bnd_vec_tangent))\n"
   ]
  },
  {
   "cell_type": "code",
   "execution_count": null,
   "metadata": {},
   "outputs": [],
   "source": [
    "swarm    = uw.swarm.Swarm(mesh, particleEscape=True)\n",
    "tvar     = swarm.add_variable(dataType=\"double\", count=1) # theta position\n",
    "layout   = uw.swarm.layouts.PerCellSpaceFillerLayout(swarm, particlesPerCell=10)\n",
    "swarm.populate_using_layout(layout)\n",
    "\n",
    "advector = uw.systems.SwarmAdvector(velocityField=velocityField, swarm=swarm)"
   ]
  },
  {
   "cell_type": "code",
   "execution_count": null,
   "metadata": {},
   "outputs": [],
   "source": [
    "fig = glucifer.Figure(store=store)\n",
    "fig.append( glucifer.objects.Mesh( mesh ))\n",
    "fig.append(glucifer.objects.Points(swarm, fn_colour=swarm.particleCoordinates[0], fn_size=4, colours=\"blue red\"))\n",
    "fig.show()"
   ]
  },
  {
   "cell_type": "code",
   "execution_count": null,
   "metadata": {},
   "outputs": [],
   "source": [
    "stokesSLE = uw.systems.Stokes( velocityField = velocityField, \n",
    "                               pressureField = pressureField,\n",
    "                               conditions    = velBC,\n",
    "                               fn_viscosity  = viscosity, \n",
    "                               fn_bodyforce  = buoyancyFn,\n",
    "                               _removeBCs    = False )      # _removeBC is required\n",
    "\n",
    "solver = uw.systems.Solver(stokesSLE)\n",
    "# using a direct method here reports in petsc warnings, because the solution is a nullspace I think\n",
    "solver.solve() # results in velocity solution being mixed\n",
    "# re-rotate and unmix\n",
    "uw.libUnderworld.Underworld.AXequalsX( stokesSLE._rot._cself, stokesSLE._velocitySol._cself, False)"
   ]
  },
  {
   "cell_type": "code",
   "execution_count": null,
   "metadata": {},
   "outputs": [],
   "source": [
    "i=0\n",
    "t0 = MPI.Wtime()\n",
    "t_adv = 0.;\n",
    "t_save = 0.;\n",
    "while i < 30:\n",
    "    t_adv = MPI.Wtime()\n",
    "    # advect particles and count\n",
    "    advector.integrate(advector.get_max_dt())\n",
    "    t_adv = MPI.Wtime() - t_adv\n",
    "    globalCount = swarm.particleGlobalCount\n",
    "    \n",
    "    # update \n",
    "    i += 1\n",
    "    store.step = i\n",
    "    t_save = MPI.Wtime()\n",
    "    fig.save()\n",
    "    t_save = MPI.Wtime() - t_save\n",
    "    \n",
    "    # print diagnostics\n",
    "    if uw.mpi.rank == 0:\n",
    "        outF.write(\"{0}, {1}, {2:.3e}, {3:.3e}\\n\".format(i, globalCount, t_adv, t_save))\n",
    "    swarm.save(outputDir+'swarm.'+(str(i).zfill(5))+'.h5')\n",
    "\n",
    "if uw.mpi.rank == 0:\n",
    "    outF.close()"
   ]
  },
  {
   "cell_type": "code",
   "execution_count": null,
   "metadata": {},
   "outputs": [],
   "source": [
    "if uw.utils.is_kernel():\n",
    "    vis = glucifer.lavavu.Viewer(database=store.filename)\n",
    "    vis[\"pointsize\"]=3.\n",
    "    vis.control.Panel()\n",
    "    vis.control.ObjectList()\n",
    "    vis.control.TimeStepper()\n",
    "    vis.control.show()"
   ]
  },
  {
   "cell_type": "code",
   "execution_count": null,
   "metadata": {},
   "outputs": [],
   "source": [
    "# import os\n",
    "# filename = \"v.h5\"\n",
    "# mH = mesh.save(\"./annulus.h5\")\n",
    "# if os.path.exists(filename):\n",
    "#     os.remove(filename)\n",
    "# fH = velocityField.save(filename, mH)\n",
    "# velocityField.xdmf('v.xdmf', fH, 'velocity', mH, 'mesh', 0)"
   ]
  }
 ],
 "metadata": {
  "kernelspec": {
   "display_name": "Python 3",
   "language": "python",
   "name": "python3"
  },
  "language_info": {
   "codemirror_mode": {
    "name": "ipython",
    "version": 3
   },
   "file_extension": ".py",
   "mimetype": "text/x-python",
   "name": "python",
   "nbconvert_exporter": "python",
   "pygments_lexer": "ipython3",
   "version": "3.5.3"
  }
 },
 "nbformat": 4,
 "nbformat_minor": 1
}
