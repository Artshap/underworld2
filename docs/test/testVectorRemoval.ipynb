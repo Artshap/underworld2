{
 "cells": [
  {
   "cell_type": "markdown",
   "metadata": {},
   "source": [
    "This Notebook demonstrates how to remove an unwanted vector from a given vector field.\n",
    "\n",
    "2 tests are run:\n",
    " - One for a cartesian box with an applied velocity field over it\n",
    " - A Stokes solution within an annulus geometry.\n",
    "\n",
    "The removal of a vector projected in the direction of another vector is how we can subtract away a Null Space contribution from a solution vectors."
   ]
  },
  {
   "cell_type": "markdown",
   "metadata": {},
   "source": [
    "### Simple example"
   ]
  },
  {
   "cell_type": "code",
   "execution_count": null,
   "metadata": {},
   "outputs": [],
   "source": [
    "import underworld as uw\n",
    "import numpy as np\n",
    "from underworld import function as fn\n",
    "uw.matplotlib_inline()\n",
    "import glucifer\n",
    "\n",
    "with_vis=False # Set to True for pictorial results... it helps"
   ]
  },
  {
   "cell_type": "code",
   "execution_count": null,
   "metadata": {},
   "outputs": [],
   "source": [
    "def performRemoval(f1, f2):\n",
    "    \"\"\"\n",
    "    Given 2 vector fields f1 & f2 find the scalar projection of f1 in the direction of f2\n",
    "    \n",
    "    Returns the scalar projection removed\n",
    "    \"\"\"\n",
    "    # make eqNum objects and SolutionVectors\n",
    "    eqNum   = uw.systems.sle.EqNumber( f1, False )\n",
    "    eqNum2  = uw.systems.sle.EqNumber( f2, False )\n",
    "    \n",
    "    aVec = uw.systems.sle.SolutionVector(f1, eqNum)\n",
    "    bVec = uw.systems.sle.SolutionVector(f2, eqNum2)\n",
    "\n",
    "    # load fields onto vectors\n",
    "    uw.libUnderworld.StgFEM.SolutionVector_LoadCurrentFeVariableValuesOntoVector(aVec._cself)\n",
    "    uw.libUnderworld.StgFEM.SolutionVector_LoadCurrentFeVariableValuesOntoVector(bVec._cself)\n",
    "\n",
    "    # remove one solution vector from another and update field\n",
    "    projection = uw.libUnderworld.StgFEM.SolutionVector_RemoveVectorSpace(aVec._cself, bVec._cself)\n",
    "    uw.libUnderworld.StgFEM.SolutionVector_UpdateSolutionOntoNodes(aVec._cself)\n",
    "    \n",
    "    return projection"
   ]
  },
  {
   "cell_type": "code",
   "execution_count": null,
   "metadata": {},
   "outputs": [],
   "source": [
    "# create mesh and required fields\n",
    "mesh   = uw.mesh.FeMesh_Cartesian()\n",
    "vField = mesh.add_variable(nodeDofCount=2)\n",
    "oField = mesh.add_variable(nodeDofCount=2)\n",
    "\n",
    "vField.data[:] = [1.,1.]    # the given vector\n",
    "oField.data[:] = [1.,0.]    # the unwanted vector\n",
    "\n",
    "# use dot product to test\n",
    "fn_dot      = fn.math.dot(vField,oField)\n",
    "initial_dot = mesh.integrate(fn_dot)[0]"
   ]
  },
  {
   "cell_type": "code",
   "execution_count": null,
   "metadata": {},
   "outputs": [],
   "source": [
    "scene = glucifer.Figure()\n",
    "scene.Surface(mesh, fn_dot, onMesh=False)\n",
    "scene.VectorArrows(mesh, vField)\n",
    "if with_vis: scene.show()"
   ]
  },
  {
   "cell_type": "code",
   "execution_count": null,
   "metadata": {},
   "outputs": [],
   "source": [
    "projection = performRemoval(vField,oField)\n",
    "final_dot  = mesh.integrate(fn_dot)[0]"
   ]
  },
  {
   "cell_type": "code",
   "execution_count": null,
   "metadata": {},
   "outputs": [],
   "source": [
    "assert final_dot < initial_dot, \"Error, unexpected output from removing the one field from another\"\n",
    "assert np.allclose((projection,final_dot), (1.,0.)), \"Error, unexpected output from removing the one field from another\""
   ]
  },
  {
   "cell_type": "code",
   "execution_count": null,
   "metadata": {},
   "outputs": [],
   "source": [
    "if with_vis: scene.show()"
   ]
  },
  {
   "cell_type": "markdown",
   "metadata": {},
   "source": [
    "### Complex example with annulus"
   ]
  },
  {
   "cell_type": "code",
   "execution_count": null,
   "metadata": {},
   "outputs": [],
   "source": [
    "# a more intense example with an annulus geometry\n",
    "annulus = uw.mesh.FeMesh_Annulus(elementRes=(20,120), \n",
    "                                  radialLengths=(2.0,4.), angularExtent=(0.0,360.0),\n",
    "                                  periodic = [False, True])\n",
    "pField = uw.mesh.MeshVariable(annulus.subMesh, nodeDofCount=1)\n",
    "vField = uw.mesh.MeshVariable(annulus, nodeDofCount=2)\n",
    "\n",
    "# velocity boundary conditions for solid body rotation \n",
    "outer = annulus.specialSets[\"MaxI_VertexSet\"]\n",
    "inner = annulus.specialSets[\"MinI_VertexSet\"]\n",
    "vField.data[outer.data] = [0.,10]\n",
    "vBC = uw.conditions.RotatedDirichletCondition( variable=vField, \n",
    "                                               indexSetsPerDof=(inner+outer, outer),\n",
    "                                               basis_vectors=(annulus.bnd_vec_normal,annulus.bnd_vec_tangent))\n",
    "\n",
    "fig = glucifer.Figure()\n",
    "fig.Mesh(annulus, segmentsPerEdge=1)\n",
    "fig.Surface(annulus, fn.math.dot(vField,vField), onMesh=True )\n",
    "fig.VectorArrows(annulus, vField)\n",
    "\n",
    "stokesSLE = uw.systems.Stokes( vField, pField, \n",
    "                               fn_viscosity=1.0, fn_bodyforce=[0.,0.], \n",
    "                               conditions=vBC, _removeBCs=False)\n",
    "stokesSolver = uw.systems.Solver(stokesSLE)\n",
    "stokesSolver.solve()\n",
    "# must realign the velocity solution\n",
    "uw.libUnderworld.Underworld.AXequalsX( stokesSLE._rot._cself, stokesSLE._velocitySol._cself, False)\n",
    "if with_vis : fig.show()\n",
    "\n",
    "# make a copy of vField\n",
    "v0Field = vField.copy() ; v0Field.data[:] = vField.data[:]\n",
    "\n",
    "# use dot product to test\n",
    "fn_dot      = fn.math.dot(vField,v0Field)\n",
    "initial_dot = annulus.integrate(fn_dot)[0]\n",
    "\n",
    "# remove the vector and update the SolutionVector\n",
    "projection = uw.libUnderworld.StgFEM.SolutionVector_RemoveVectorSpace(stokesSLE._velocitySol._cself, stokesSLE._vnsVec._cself)\n",
    "uw.libUnderworld.StgFEM.SolutionVector_UpdateSolutionOntoNodes(stokesSLE._velocitySol._cself)\n",
    "\n",
    "final_dot = annulus.integrate(fn_dot)[0]\n",
    "if with_vis: fig.show()"
   ]
  },
  {
   "cell_type": "code",
   "execution_count": null,
   "metadata": {},
   "outputs": [],
   "source": [
    "assert final_dot < initial_dot, \"Error, unexpected output from removing the one field from another\"\n",
    "assert np.allclose((projection,final_dot), (2.5,0.), atol=1e-4), \"Error, unexpected output from removing the one field from another\""
   ]
  }
 ],
 "metadata": {
  "kernelspec": {
   "display_name": "Python 2",
   "language": "python",
   "name": "python2"
  },
  "language_info": {
   "codemirror_mode": {
    "name": "ipython",
    "version": 2
   },
   "file_extension": ".py",
   "mimetype": "text/x-python",
   "name": "python",
   "nbconvert_exporter": "python",
   "pygments_lexer": "ipython2",
   "version": "2.7.14"
  }
 },
 "nbformat": 4,
 "nbformat_minor": 1
}
