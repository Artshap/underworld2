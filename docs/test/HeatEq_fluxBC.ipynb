{
 "cells": [
  {
   "cell_type": "markdown",
   "metadata": {
    "collapsed": true
   },
   "source": [
    "Model Setup\n",
    "-----------\n",
    "\n",
    "2D, Heat Equation with Dirichlet BC at top and bottom boundary.  No variation in the x direction.\n",
    "\n",
    "\\\\[\n",
    "\\frac{\\partial T}{\\partial t} = -v \\cdot \\frac{\\partial T}{\\partial y} +k \\frac{\\partial^2 T}{\\partial y^2}+H\n",
    "\\\\]\n",
    "\n",
    "\\\\[\n",
    "\\frac{\\partial T}{\\partial x} = 0\n",
    "\\\\]\n",
    "\n",
    "with $0 \\leqslant x \\leqslant 1 $ and $ y_{0}\\leqslant y \\leqslant y_{1}$\n",
    "\n",
    "$T(y_{1}) = T_{1}$\n",
    "\n",
    "$ -k\\nabla{T}\\mid_{y_{0}} = \\left[\\,0.0,\\,f\\,\\right] $\n",
    "\n",
    "------\n",
    "\n",
    "Effectively a 1D problem in $y$-axis, described by the analytic function\n",
    "\n",
    "$c_{0} = ( -\\frac{f}{k}-\\frac{h}{v} ) \\cdot \\frac{k}{v} \\cdot \\exp \\left[-\\frac{v}{k}y_{0} \\right]$\n",
    "\n",
    "$c_{1} = T_{1}-c_{0}\\exp \\left[\\frac{v}{k}y_{1} \\right] - \\frac{h}{v}y_{1}$\n",
    "\n",
    "\n",
    "$T = c_{0} \\exp \\left[\\frac{v}{k}y\\right] + \\frac{h}{v}y + c_{1}$"
   ]
  },
  {
   "cell_type": "markdown",
   "metadata": {},
   "source": [
    "We implement the above boundary conditions using: \n",
    " * a `DirichletCondition` for $T(y_{1})=T_{1}$\n",
    " * a `NeumannCondition` object for $ k\\nabla{T}\\mid_{y_{0}} = \\left[\\,0.0,\\,f\\,\\right] $\n",
    "\n",
    "When the `NeumannCondition` object is associated with the `AdvectionDiffusion` object it defines a $T$ flux along a boundary such that:\n",
    "  * $ -k\\nabla T \\cdot n = h $ on $ \\Gamma_{h} $\n",
    "  \n",
    "    where:  \n",
    "    * $\\Gamma_{h}$ is the set of vertices along the surface of the domain,  \n",
    "    * $ n $ is the unit normal facing outwards from the surface (at $n\\mid_{y_{0}}=\\left[0,-1\\right] $)  \n",
    "    * $ h $ is the scalar flow associated with the flux vector $ -k \\nabla T $ along $\\Gamma_{\\phi}$.\n",
    "\n",
    "An example implementation  \n",
    "\n",
    "```\n",
    "nbc = uw.conditions.NeumannCondition( fn_flux=[h], variable=tField,\n",
    "                                      nodeIndexSet=mesh.specialSets[\"MinJ_VertexSet\"] )\n",
    "```\n",
    "\n",
    "Applies a scalar flow $h$ to the `tField` over the boundary vertices in the set `nodeIndexSet`. The outward facing normal of this boundary set is used to calculate the $h$.\n",
    "\n",
    "Here $h$ can be an `underworld.Function` or `underworld.MeshVariable` type."
   ]
  },
  {
   "cell_type": "code",
   "execution_count": 1,
   "metadata": {
    "collapsed": true
   },
   "outputs": [],
   "source": [
    "import underworld as uw\n",
    "import glucifer\n",
    "import numpy as np\n",
    "\n",
    "# for machines without matplotlib #\n",
    "make_graphs = True\n",
    "try:\n",
    "    import matplotlib\n",
    "except ImportError:\n",
    "    make_graphs=False\n",
    "\n",
    "# depth range\n",
    "y0 = -0.60\n",
    "y1 = 1.3\n",
    "\n",
    "T1 = 8.0       # surface temperature\n",
    "k = 6.70       # diffusivity\n",
    "h = 8.0        # heat production, source term\n",
    "f = 2.0        # heat flux vector\n",
    "v = 2.47       # j-axis velocity component"
   ]
  },
  {
   "cell_type": "code",
   "execution_count": 2,
   "metadata": {
    "collapsed": false
   },
   "outputs": [],
   "source": [
    "# analytic solution definitions with velocity\n",
    "c0 = (-f/k-h/v) * k/v * np.exp(-v/k*y0)\n",
    "c1 = T1 - c0*np.exp(v/k*y1) - h/v*y1\n",
    "\n",
    "def analyticT(y):\n",
    "    return c0*np.exp(v/k*y) + h/v*y + c1\n",
    "\n",
    "def analytic_dT_dy(y):\n",
    "    return v/k*c0*np.exp(v/k*y) + h/v"
   ]
  },
  {
   "cell_type": "code",
   "execution_count": 3,
   "metadata": {
    "collapsed": false
   },
   "outputs": [],
   "source": [
    "# # without velocity\n",
    "# v = 0;\n",
    "# c0 = (-f+h*y0)/k\n",
    "# c1 = T1 + h/(2.0*k)*y1**2 - c0*y1\n",
    "\n",
    "# # analytic solution definitions\n",
    "# def analyticT(y):\n",
    "#      return -h/(2*k)*y*y + c0*y + c1\n",
    "\n",
    "# def analytic_dT_dy(y):\n",
    "#     return -h/k*y + c0"
   ]
  },
  {
   "cell_type": "code",
   "execution_count": 4,
   "metadata": {
    "collapsed": false
   },
   "outputs": [],
   "source": [
    "# build mesh and fields\n",
    "mesh = uw.mesh.FeMesh_Cartesian( elementType = (\"Q1\"), \n",
    "                                 elementRes  = (10, 10), \n",
    "                                 minCoord    = (0., y0), \n",
    "                                 maxCoord    = (1., y1))\n",
    "\n",
    "tField    = uw.mesh.MeshVariable(mesh=mesh, nodeDofCount=1, dataType='double')\n",
    "tDotField = uw.mesh.MeshVariable(mesh=mesh, nodeDofCount=1, dataType='double')\n",
    "vField    = uw.mesh.MeshVariable(mesh=mesh, nodeDofCount=2, dataType='double')\n",
    "\n",
    "# set entire tField to T1\n",
    "tField.data[:] = T1\n",
    "\n",
    "# set constant velocity field\n",
    "vField.data[:] = (0.0,v)\n",
    "\n",
    "# define neumann condition - flux!\n",
    "nbc = uw.conditions.NeumannCondition( fn_flux=-f, \n",
    "                                      variable=tField, \n",
    "                                      nodeIndexSet=(mesh.specialSets['MinJ_VertexSet']) )\n",
    "\n",
    "# flag top boundary nodes with dirichlet conditions\n",
    "bc = uw.conditions.DirichletCondition(tField, indexSetsPerDof=(mesh.specialSets['MaxJ_VertexSet']) )\n",
    "\n",
    "# define heat eq. system\n",
    "ss = uw.systems.AdvectionDiffusion( phiField       = tField,\n",
    "                                    phiDotField    = tDotField,\n",
    "                                    velocityField  = vField,\n",
    "                                    fn_diffusivity = k,\n",
    "                                    fn_sourceTerm  = h,\n",
    "                                    conditions     = [bc, nbc] ) "
   ]
  },
  {
   "cell_type": "code",
   "execution_count": 5,
   "metadata": {
    "collapsed": false
   },
   "outputs": [
    {
     "name": "stdout",
     "output_type": "stream",
     "text": [
      "Number of iterations 1634\n"
     ]
    }
   ],
   "source": [
    "# evolve to a <1e-5 relative variation. Assume that's steady state solution.\n",
    "er = 1.0\n",
    "its = 0              # iteration count\n",
    "tOld = tField.copy() # old temperature field\n",
    "\n",
    "while er > 1e-5 and its < 2000:\n",
    "    \n",
    "    tOld.data[:] = tField.data[:] # record old values\n",
    "    \n",
    "    dt = ss.get_max_dt()          # get time steps\n",
    "    ss.integrate(dt)              # integrate in time (solve)\n",
    "    \n",
    "    absErr = uw.utils._nps_2norm(tOld.data-tField.data)\n",
    "    magT   = uw.utils._nps_2norm(tOld.data)\n",
    "    er = absErr/magT              # calculate relative variation\n",
    "    \n",
    "    its += 1\n",
    "\n",
    "print \"Number of iterations\",its\n"
   ]
  },
  {
   "cell_type": "code",
   "execution_count": 6,
   "metadata": {
    "collapsed": false
   },
   "outputs": [
    {
     "data": {
      "image/png": "[encoded data removed]",
      "text/plain": [
       "<matplotlib.figure.Figure at 0x7f7ce435a7d0>"
      ]
     },
     "metadata": {},
     "output_type": "display_data"
    },
    {
     "name": "stdout",
     "output_type": "stream",
     "text": [
      "Numerical flux at y =  -0.505 is -0.42331216287\n",
      "Exact flux at y= -0.505 is -0.424589706231\n",
      "Abs. error  0.128516520089  magnitude (will change in parallel due to shadow space)  34.3695103704\n",
      "Rel. error  0.00373925955605\n"
     ]
    }
   ],
   "source": [
    "numeric     = np.zeros(mesh.specialSets['MinI_VertexSet'].count)\n",
    "ycoord      = np.zeros_like(numeric)\n",
    "analytic    = np.zeros_like(numeric)\n",
    "\n",
    "ids = mesh.specialSets['MinI_VertexSet']\n",
    "numeric[:] = tField.evaluate(ids).T\n",
    "\n",
    "ycoord = tField.mesh.data[ids.data,[1]]\n",
    "analytic = analyticT(ycoord)\n",
    "\n",
    "abserr = uw.utils._nps_2norm(analytic - numeric)\n",
    "mag = uw.utils._nps_2norm(analytic)\n",
    "relerr = abserr / mag\n",
    "\n",
    "# measure border flux, analytic is easy, parallel check needed for numeric result\n",
    "offset = 0.5*(mesh.maxCoord[1]-mesh.minCoord[1])/mesh.elementRes[1]\n",
    "yspot = y0+offset\n",
    "ana_flux = analytic_dT_dy(yspot)\n",
    "\n",
    "tmp = tField.fn_gradient.evaluate_global([0.2,yspot])\n",
    "if tmp is not None: num_flux = tmp[0][1]\n",
    "else: num_flux = 0.\n",
    "    \n",
    "from mpi4py import MPI\n",
    "comm = MPI.COMM_WORLD\n",
    "\n",
    "# assuming order in the allgather is the same\n",
    "coords = comm.allgather(ycoord)\n",
    "numerical = comm.allgather(numeric)\n",
    "\n",
    "rank = uw.rank()\n",
    "\n",
    "if rank == 0 and make_graphs:\n",
    "    # build matplot lib graph of result only on proc 0\n",
    "\n",
    "    # 1st build exact solution hiRes\n",
    "    big = np.linspace(y0,y1)\n",
    "    cool = analyticT(big)\n",
    "\n",
    "    uw.matplotlib_inline()\n",
    "    import matplotlib.pyplot as pyplot\n",
    "    import matplotlib.pylab as pylab\n",
    "    pyplot.ion() # needed to ensure pure python jobs do now hang on show()\n",
    "    pylab.rcParams[ 'figure.figsize'] = 12, 6\n",
    "    pyplot.plot(coords, numerical, 'o', color = 'black', label='numerical') \n",
    "    pyplot.plot(big, cool, color = 'red', label=\"exact\") \n",
    "    pyplot.xlabel('Y coords')\n",
    "    pyplot.ylabel('Temperature')\n",
    "    pyplot.show()\n",
    "\n",
    "if rank == 0:\n",
    "    threshold = 1.0e-2\n",
    "    print \"Numerical flux at y = \" ,yspot,\"is\", num_flux\n",
    "    print \"Exact flux at y=\" ,yspot,\"is\", ana_flux\n",
    "    print \"Abs. error \", abserr, \" magnitude (will change in parallel due to shadow space) \", mag\n",
    "    print \"Rel. error \", relerr\n",
    "    if relerr > threshold:\n",
    "        raise RuntimeError(\"The numerical solution is outside the error threshold of the analytic solution.\" \\\n",
    "                           \"The Relative error was \", relerr,\" the threshold is \", threshold)  "
   ]
  }
 ],
 "metadata": {
  "kernelspec": {
   "display_name": "Python 2",
   "language": "python",
   "name": "python2"
  },
  "language_info": {
   "codemirror_mode": {
    "name": "ipython",
    "version": 2
   },
   "file_extension": ".py",
   "mimetype": "text/x-python",
   "name": "python",
   "nbconvert_exporter": "python",
   "pygments_lexer": "ipython2",
   "version": "2.7.11+"
  }
 },
 "nbformat": 4,
 "nbformat_minor": 0
}
