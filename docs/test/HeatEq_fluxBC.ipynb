{
 "cells": [
  {
   "cell_type": "markdown",
   "metadata": {
    "collapsed": true
   },
   "source": [
    "Model Setup\n",
    "-----------\n",
    "\n",
    "2D, Heat Equation with Dirichlet BC at top and bottom boundary.  No variation in the x direction.\n",
    "\n",
    "\\\\[\n",
    "\\frac{\\partial T}{\\partial t} = -v \\cdot \\frac{\\partial T}{\\partial y} +k \\frac{\\partial^2 T}{\\partial y^2}+H\n",
    "\\\\]\n",
    "\n",
    "\\\\[\n",
    "\\frac{\\partial T}{\\partial x} = 0\n",
    "\\\\]\n",
    "\n",
    "with $0 \\leqslant x \\leqslant 1 $ and $ y_{0}\\leqslant y \\leqslant y_{1}$\n",
    "\n",
    "$T(y_{1}) = T_{1}$\n",
    "\n",
    "$ -k\\nabla{T}\\mid_{y_{0}} = \\left[\\,0.0,\\,f\\,\\right] $\n",
    "\n",
    "------\n",
    "\n",
    "Effectively a 1D problem in $y$-axis, described by the analytic function\n",
    "\n",
    "$c_{0} = ( -\\frac{f}{k}-\\frac{h}{v} ) \\cdot \\frac{k}{v} \\cdot \\exp \\left[-\\frac{v}{k}y_{0} \\right]$\n",
    "\n",
    "$c_{1} = T_{1}-c_{0}\\exp \\left[\\frac{v}{k}y_{1} \\right] - \\frac{h}{v}y_{1}$\n",
    "\n",
    "\n",
    "$T = c_{0} \\exp \\left[\\frac{v}{k}y\\right] + \\frac{h}{v}y + c_{1}$"
   ]
  },
  {
   "cell_type": "markdown",
   "metadata": {},
   "source": [
    "We implement the above boundary conditions using: \n",
    " * a `DirichletCondition` for $T(y_{1})=T_{1}$\n",
    " * a `NeumannCondition` object for $ k\\nabla{T}\\mid_{y_{0}} = \\left[\\,0.0,\\,f\\,\\right] $\n",
    "\n",
    "The `NeumannCondition` object, used with the `AdvectionDiffusion` object, defines a $T$ flux along a boundary such that:\n",
    "  * $ k\\nabla T \\cdot n = h $ on $ \\Gamma_{h} $\n",
    "  \n",
    "    where:  \n",
    "      $\\Gamma_{h}$ is the set of vertices along the surface of the domain,  \n",
    "      $ n $ is the unit normal facing outwards from the surface (at $n\\mid_{y_{0}}=\\left[0,-1\\right]$)  \n",
    "      $ k \\nabla T $ is the flux vector prescribed on the surface.\n",
    "\n",
    "An example implementation  \n",
    "\n",
    "```nbc = uw.conditions.NeumannCondition( flux=[0.0,f], variable=tField,\n",
    "                                      nodeIndexSet=mesh.specialSets[\"MinJ_VertexSet\"] )```\n",
    "\n",
    "Applies a flux vector [0.0, f] to the `tField` over the boundary vertices in the set `nodeIndexSet`. The outward facing normal of this boundary set is used to calculate the $h$."
   ]
  },
  {
   "cell_type": "code",
   "execution_count": 1,
   "metadata": {
    "collapsed": false
   },
   "outputs": [],
   "source": [
    "import underworld as uw\n",
    "import glucifer\n",
    "import numpy as np\n",
    "\n",
    "# for machines without matplotlib #\n",
    "make_graphs = True\n",
    "try:\n",
    "    import matplotlib\n",
    "except ImportError:\n",
    "    make_graphs=False\n",
    "\n",
    "# depth range\n",
    "y0 = -0.60\n",
    "y1 = 1.3\n",
    "\n",
    "T1 = 8.0       # surface temperature\n",
    "k = 0.70       # diffusivity\n",
    "h = 9.0        # heat production, source term\n",
    "f = -5.23      # heat flux vector\n",
    "v = 0.3        # velocity\n",
    "\n",
    "# analytic solution definitions\n",
    "c0 = (-f/k-h/v) * k/v * np.exp(-v/k*y0)\n",
    "c1 = T1 - c0*np.exp(v/k*y1) - h/v*y1\n",
    "\n",
    "def analyticT(y):\n",
    "    return c0*np.exp(v/k*y) + h/v*y + c1\n",
    "\n",
    "def analytic_dT_dy(y):\n",
    "    return v/k*c0*np.exp(v/k*y) + h/v"
   ]
  },
  {
   "cell_type": "code",
   "execution_count": 2,
   "metadata": {
    "collapsed": false
   },
   "outputs": [],
   "source": [
    "# without velocity\n",
    "# c0 = (-f[1]+h*y0)/k\n",
    "# c1 = T1 + h/(2.0*k)*y1*y1 - c0*y1\n",
    "\n",
    "# # # analytic solution definitions\n",
    "# def analyticT(y):\n",
    "#      return -h/(2*k)*y*y + c0*y + c1\n",
    "\n",
    "# def analytic_dT_dy(y):\n",
    "#     return -h/k*y + c0"
   ]
  },
  {
   "cell_type": "code",
   "execution_count": 3,
   "metadata": {
    "collapsed": false
   },
   "outputs": [],
   "source": [
    "# build mesh and fields\n",
    "mesh = uw.mesh.FeMesh_Cartesian( elementType = (\"Q1\"), \n",
    "                                 elementRes  = (10, 10), \n",
    "                                 minCoord    = (0., y0), \n",
    "                                 maxCoord    = (1., y1))\n",
    "\n",
    "tField    = uw.mesh.MeshVariable(mesh=mesh, nodeDofCount=1, dataType='double')\n",
    "tDotField = uw.mesh.MeshVariable(mesh=mesh, nodeDofCount=1, dataType='double')\n",
    "vField    = uw.mesh.MeshVariable(mesh=mesh, nodeDofCount=2, dataType='double')\n",
    "\n",
    "# set entire tField to T1\n",
    "tField.data[:] = T1\n",
    "\n",
    "# set constant velocity field\n",
    "vField.data[:] = (0.0,v)\n",
    "\n",
    "# define neumann condition - flux!\n",
    "nbc = uw.conditions.NeumannCondition( flux=[0.0,f], \n",
    "                                      variable=tField, \n",
    "                                      nodeIndexSet=(mesh.specialSets['MinJ_VertexSet']) )\n",
    "\n",
    "# flag top boundary nodes with dirichlet conditions\n",
    "bc = uw.conditions.DirichletCondition(tField, indexSetsPerDof=(mesh.specialSets['MaxJ_VertexSet']) )\n",
    "\n",
    "# define heat eq. system\n",
    "ss = uw.systems.AdvectionDiffusion( phiField       = tField,\n",
    "                                    phiDotField    = tDotField,\n",
    "                                    velocityField  = vField,\n",
    "                                    fn_diffusivity = k,\n",
    "                                    fn_sourceTerm  = h,\n",
    "                                    conditions     = [bc, nbc] ) "
   ]
  },
  {
   "cell_type": "code",
   "execution_count": 4,
   "metadata": {
    "collapsed": false
   },
   "outputs": [
    {
     "name": "stdout",
     "output_type": "stream",
     "text": [
      "Number of iterations  2016\n"
     ]
    }
   ],
   "source": [
    "# evolve to a steady state, ie, < 1e-4 relative variation\n",
    "er = 1.0\n",
    "its = 0              # iteration count\n",
    "tOld = tField.copy() # old temperature field\n",
    "\n",
    "while er > 1e-5:\n",
    "    \n",
    "    tOld.data[:] = tField.data[:] # record old values\n",
    "    \n",
    "    dt = ss.get_max_dt()          # get time steps\n",
    "    ss.integrate(dt)              # integrate in time (solve)\n",
    "    \n",
    "    absErr = uw.utils._nps_2norm(tOld.data-tField.data)\n",
    "    magT   = uw.utils._nps_2norm(tOld.data)\n",
    "    er = absErr/magT              # calculate relative variation\n",
    "    \n",
    "    its += 1\n",
    "\n",
    "print \"Number of iterations \",its\n"
   ]
  },
  {
   "cell_type": "code",
   "execution_count": 5,
   "metadata": {
    "collapsed": false
   },
   "outputs": [
    {
     "data": {
      "image/png": "[encoded data removed]",
      "text/plain": [
       "<matplotlib.figure.Figure at 0x109f69350>"
      ]
     },
     "metadata": {},
     "output_type": "display_data"
    },
    {
     "name": "stdout",
     "output_type": "stream",
     "text": [
      "Numerical flux at y =  -0.59 is 6.52678960245\n",
      "Exact flux at y= -0.59 is 7.3746703601\n",
      "Abs. error  0.172918747371  magnitude (will change in parallel due to shadow space)  56.1543295187\n",
      "Rel. error  0.00307934844656\n"
     ]
    }
   ],
   "source": [
    "numeric     = np.zeros(len(mesh.specialSets['MinI_VertexSet'].data))\n",
    "ycoord      = np.zeros_like(numeric)\n",
    "analytic    = np.zeros_like(numeric)\n",
    "\n",
    "ids = mesh.specialSets['MinI_VertexSet']\n",
    "numeric[:] = tField.evaluate(ids).T\n",
    "\n",
    "ycoord = tField.mesh.data[ids.data,[1]]\n",
    "analytic = analyticT(ycoord)\n",
    "\n",
    "abserr = uw.utils._nps_2norm(analytic - numeric)\n",
    "mag = uw.utils._nps_2norm(analytic)\n",
    "relerr = abserr / mag\n",
    "\n",
    "from mpi4py import MPI\n",
    "comm = MPI.COMM_WORLD\n",
    "\n",
    "# assuming order in the allgather is the same\n",
    "coords = comm.allgather(ycoord)\n",
    "numerical = comm.allgather(numeric)\n",
    "\n",
    "rank = uw.rank()\n",
    "\n",
    "if rank == 0 and make_graphs:\n",
    "    # build matplot lib graph of result only on proc 0\n",
    "\n",
    "    # 1st build exact solution hiRes\n",
    "    big = np.linspace(y0,y1)\n",
    "    cool = analyticT(big)\n",
    "\n",
    "    uw.matplotlib_inline()\n",
    "    import matplotlib.pyplot as pyplot\n",
    "    import matplotlib.pylab as pylab\n",
    "    pyplot.ion() # needed to ensure pure python jobs do now hang on show()\n",
    "    pylab.rcParams[ 'figure.figsize'] = 12, 6\n",
    "    pyplot.plot(coords, numerical, 'o', color = 'black', label='numerical') \n",
    "    pyplot.plot(big, cool, color = 'red', label=\"exact\") \n",
    "    pyplot.xlabel('Y coords')\n",
    "    pyplot.ylabel('Temperature')\n",
    "    pyplot.show()\n",
    "\n",
    "if rank == 0:\n",
    "    threshold = 1.0e-2\n",
    "    yspot = y0+1.0e-2\n",
    "    print \"Numerical flux at y = \" ,yspot,\"is\", tField.fn_gradient.evaluate([0.2,yspot])[0][1]\n",
    "    print \"Exact flux at y=\" ,yspot,\"is\", analytic_dT_dy(yspot)\n",
    "    print \"Abs. error \", abserr, \" magnitude (will change in parallel due to shadow space) \", mag\n",
    "    print \"Rel. error \", relerr\n",
    "    if relerr > threshold:\n",
    "        raise RuntimeError(\"The numerical solution is outside the error threshold of the analytic solution.\" \\\n",
    "                           \"The Relative error was \", relerr,\" the threshold is \", threshold)  "
   ]
  }
 ],
 "metadata": {
  "kernelspec": {
   "display_name": "Python 2",
   "language": "python",
   "name": "python2"
  },
  "language_info": {
   "codemirror_mode": {
    "name": "ipython",
    "version": 2
   },
   "file_extension": ".py",
   "mimetype": "text/x-python",
   "name": "python",
   "nbconvert_exporter": "python",
   "pygments_lexer": "ipython2",
   "version": "2.7.10"
  }
 },
 "nbformat": 4,
 "nbformat_minor": 0
}
