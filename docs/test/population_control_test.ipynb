{
 "cells": [
  {
   "cell_type": "markdown",
   "metadata": {
    "collapsed": false
   },
   "source": [
    "**This is a minimal test for population control**"
   ]
  },
  {
   "cell_type": "code",
   "execution_count": 1,
   "metadata": {
    "collapsed": true
   },
   "outputs": [],
   "source": [
    "import underworld as uw\n",
    "import glucifer "
   ]
  },
  {
   "cell_type": "code",
   "execution_count": 3,
   "metadata": {
    "collapsed": true
   },
   "outputs": [],
   "source": [
    "mesh = uw.mesh.FeMesh_Cartesian()"
   ]
  },
  {
   "cell_type": "code",
   "execution_count": 4,
   "metadata": {
    "collapsed": false
   },
   "outputs": [],
   "source": [
    "def vanilla_swarm(mesh):\n",
    "    swarm = uw.swarm.Swarm(mesh)\n",
    "    swarm.populate_using_layout(uw.swarm.layouts.PerCellGaussLayout(swarm,4))\n",
    "    return swarm\n",
    "def draw_swarm(mesh,swarm):\n",
    "    fig = glucifer.Figure()\n",
    "    fig.append( glucifer.objects.Points(swarm, colourBar=False, pointSize=4.))\n",
    "    fig.append( glucifer.objects.Mesh(mesh))\n",
    "    return fig.show()"
   ]
  },
  {
   "cell_type": "code",
   "execution_count": 5,
   "metadata": {
    "collapsed": false
   },
   "outputs": [
    {
     "data": {
      "text/html": [
       "<img src='data:image/png;base64,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'>"
      ],
      "text/plain": [
       "<IPython.core.display.HTML object>"
      ]
     },
     "execution_count": 5,
     "metadata": {},
     "output_type": "execute_result"
    }
   ],
   "source": [
    "# generated swarm\n",
    "swarm = vanilla_swarm(mesh)\n",
    "draw_swarm( mesh, swarm )"
   ]
  },
  {
   "cell_type": "code",
   "execution_count": 6,
   "metadata": {
    "collapsed": false
   },
   "outputs": [
    {
     "data": {
      "text/plain": [
       "256"
      ]
     },
     "execution_count": 6,
     "metadata": {},
     "output_type": "execute_result"
    }
   ],
   "source": [
    "swarm.particleGlobalCount"
   ]
  },
  {
   "cell_type": "code",
   "execution_count": 7,
   "metadata": {
    "collapsed": false
   },
   "outputs": [],
   "source": [
    "# test deleting particles limited by max\n",
    "swarm = vanilla_swarm(mesh)\n",
    "population_control = uw.swarm.PopulationControl(swarm,deleteThreshold=1.0,splitThreshold=1.0,maxDeletions=15,maxSplits=0)\n",
    "population_control.repopulate()\n",
    "if swarm.particleGlobalCount != 16:\n",
    "    raise RuntimeError(\"Incorrect number of particles deleted during population control\")\n",
    "# test deleting particles limited by threshold\n",
    "swarm = vanilla_swarm(mesh)\n",
    "population_control = uw.swarm.PopulationControl(swarm,deleteThreshold=0.07,splitThreshold=1.0,maxDeletions=150,maxSplits=0)\n",
    "population_control.repopulate()\n",
    "if swarm.particleGlobalCount != 64:\n",
    "    raise RuntimeError(\"Incorrect number of particles deleted during population control\")"
   ]
  },
  {
   "cell_type": "code",
   "execution_count": 8,
   "metadata": {
    "collapsed": false
   },
   "outputs": [],
   "source": [
    "# test splitting particles limited by max\n",
    "swarm = vanilla_swarm(mesh)\n",
    "population_control = uw.swarm.PopulationControl(swarm,deleteThreshold=0.,splitThreshold=0.,maxDeletions=0,maxSplits=9999)\n",
    "population_control.repopulate()\n",
    "if swarm.particleGlobalCount != 512:\n",
    "    raise RuntimeError(\"Incorrect number of particles deleted during population control\")\n",
    "# test deleting particles limited by threshold\n",
    "swarm = vanilla_swarm(mesh)\n",
    "population_control = uw.swarm.PopulationControl(swarm,deleteThreshold=0.,splitThreshold=0.07,maxDeletions=0,maxSplits=9999)\n",
    "population_control.repopulate()\n",
    "if swarm.particleGlobalCount != 320:\n",
    "    raise RuntimeError(\"Incorrect number of particles deleted during population control\")"
   ]
  },
  {
   "cell_type": "code",
   "execution_count": 9,
   "metadata": {
    "collapsed": false
   },
   "outputs": [],
   "source": [
    "# quick inflow test\n",
    "swarm = vanilla_swarm(mesh)\n",
    "population_control = uw.swarm.PopulationControl(swarm,deleteThreshold=0.,splitThreshold=1.,maxDeletions=0,maxSplits=0, inflow=True, particlesPerCell=40)\n",
    "population_control.repopulate()\n",
    "if swarm.particleGlobalCount != 640:\n",
    "    raise RuntimeError(\"Incorrect number of particles deleted during population control\")"
   ]
  }
 ],
 "metadata": {
  "kernelspec": {
   "display_name": "Python 2",
   "language": "python",
   "name": "python2"
  },
  "language_info": {
   "codemirror_mode": {
    "name": "ipython",
    "version": 2
   },
   "file_extension": ".py",
   "mimetype": "text/x-python",
   "name": "python",
   "nbconvert_exporter": "python",
   "pygments_lexer": "ipython2",
   "version": "2.7.10"
  }
 },
 "nbformat": 4,
 "nbformat_minor": 0
}
