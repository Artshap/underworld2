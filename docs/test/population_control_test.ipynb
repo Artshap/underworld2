{
 "metadata": {
  "kernelspec": {
   "display_name": "Python 2",
   "language": "python",
   "name": "python2"
  },
  "language_info": {
   "codemirror_mode": {
    "name": "ipython",
    "version": 2
   },
   "file_extension": ".py",
   "mimetype": "text/x-python",
   "name": "python",
   "nbconvert_exporter": "python",
   "pygments_lexer": "ipython2",
   "version": "2.7.10"
  },
  "name": ""
 },
 "nbformat": 3,
 "nbformat_minor": 0,
 "worksheets": [
  {
   "cells": [
    {
     "cell_type": "markdown",
     "metadata": {
      "collapsed": false
     },
     "source": [
      "**This is a minimal test for population control**"
     ]
    },
    {
     "cell_type": "code",
     "collapsed": true,
     "input": [
      "import underworld as uw\n",
      "import glucifer "
     ],
     "language": "python",
     "metadata": {},
     "outputs": [],
     "prompt_number": 1
    },
    {
     "cell_type": "code",
     "collapsed": true,
     "input": [
      "mesh = uw.mesh.FeMesh_Cartesian()"
     ],
     "language": "python",
     "metadata": {},
     "outputs": [],
     "prompt_number": 2
    },
    {
     "cell_type": "code",
     "collapsed": false,
     "input": [
      "def vanilla_swarm(mesh):\n",
      "    swarm = uw.swarm.Swarm(mesh)\n",
      "    swarm.populate_using_layout(uw.swarm.layouts.PerCellGaussLayout(swarm,4))\n",
      "    return swarm\n",
      "def draw_swarm(mesh,swarm):\n",
      "    fig = glucifer.Figure()\n",
      "    fig.append( glucifer.objects.Points(swarm, colourBar=False, pointSize=4.))\n",
      "    fig.append( glucifer.objects.Mesh(mesh))\n",
      "    return fig.show()"
     ],
     "language": "python",
     "metadata": {},
     "outputs": [],
     "prompt_number": 3
    },
    {
     "cell_type": "code",
     "collapsed": false,
     "input": [
      "# generated swarm\n",
      "swarm = vanilla_swarm(mesh)\n",
      "draw_swarm( mesh, swarm )"
     ],
     "language": "python",
     "metadata": {},
     "outputs": [
      {
       "html": [
        "<img src='data:image/png;base64,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'>"
       ],
       "output_type": "display_data",
       "text": [
        "<IPython.core.display.HTML object>"
       ]
      }
     ],
     "prompt_number": 4
    },
    {
     "cell_type": "code",
     "collapsed": false,
     "input": [
      "swarm.particleGlobalCount"
     ],
     "language": "python",
     "metadata": {},
     "outputs": [
      {
       "output_type": "pyout",
       "prompt_number": 5,
       "text": [
        "256"
       ]
      }
     ],
     "prompt_number": 5
    },
    {
     "cell_type": "code",
     "collapsed": false,
     "input": [
      "# test deleting particles limited by max\n",
      "swarm = vanilla_swarm(mesh)\n",
      "population_control = uw.swarm.PopulationControl(swarm,deleteThreshold=1.0,splitThreshold=1.0,maxDeletions=15,maxSplits=0)\n",
      "population_control.repopulate()\n",
      "if swarm.particleGlobalCount != 16:\n",
      "    raise RuntimeError(\"Incorrect number of particles deleted during population control\")\n",
      "# test deleting particles limited by threshold\n",
      "swarm = vanilla_swarm(mesh)\n",
      "population_control = uw.swarm.PopulationControl(swarm,deleteThreshold=0.07,splitThreshold=1.0,maxDeletions=150,maxSplits=0)\n",
      "population_control.repopulate()\n",
      "if swarm.particleGlobalCount != 64:\n",
      "    raise RuntimeError(\"Incorrect number of particles deleted during population control\")"
     ],
     "language": "python",
     "metadata": {},
     "outputs": [],
     "prompt_number": 6
    },
    {
     "cell_type": "code",
     "collapsed": false,
     "input": [
      "# test splitting particles limited by max\n",
      "swarm = vanilla_swarm(mesh)\n",
      "population_control = uw.swarm.PopulationControl(swarm,deleteThreshold=0.,splitThreshold=0.,maxDeletions=0,maxSplits=9999)\n",
      "population_control.repopulate()\n",
      "if swarm.particleGlobalCount != 512:\n",
      "    raise RuntimeError(\"Incorrect number of particles deleted during population control\")\n",
      "# test deleting particles limited by threshold\n",
      "swarm = vanilla_swarm(mesh)\n",
      "population_control = uw.swarm.PopulationControl(swarm,deleteThreshold=0.,splitThreshold=0.07,maxDeletions=0,maxSplits=9999)\n",
      "population_control.repopulate()\n",
      "if swarm.particleGlobalCount != 320:\n",
      "    raise RuntimeError(\"Incorrect number of particles deleted during population control\")"
     ],
     "language": "python",
     "metadata": {},
     "outputs": [],
     "prompt_number": 7
    },
    {
     "cell_type": "code",
     "collapsed": false,
     "input": [
      "# quick aggressive test\n",
      "swarm = vanilla_swarm(mesh)\n",
      "population_control = uw.swarm.PopulationControl(swarm,deleteThreshold=0.,splitThreshold=1.,maxDeletions=0,maxSplits=0, aggressive=True, particlesPerCell=40)\n",
      "population_control.repopulate()\n",
      "if swarm.particleGlobalCount != 640:\n",
      "    raise RuntimeError(\"Incorrect number of particles deleted during population control\")"
     ],
     "language": "python",
     "metadata": {},
     "outputs": [],
     "prompt_number": 8
    }
   ],
   "metadata": {}
  }
 ]
}
