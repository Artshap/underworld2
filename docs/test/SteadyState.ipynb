{
 "cells": [
  {
   "cell_type": "markdown",
   "metadata": {},
   "source": [
    "## The Steady State Equation\n",
    "-----------\n",
    "\n",
    "\\\\[\n",
    "\\nabla \\cdot q = h\n",
    "\\\\]\n",
    "\n",
    "\\\\[\n",
    "q = - k \\nabla T\n",
    "\\\\]\n",
    "\n",
    "where:\n",
    " * $T$ is a scalar quantity \n",
    " * $k$ is diffusion (or conductivity) coefficient\n",
    " * $q$ is the heat flux vector \n",
    " * $h$ is the source/sink term\n",
    "\n",
    "**Note:** depending on the choice of $k$ the other terms of the equation must be dimensionaly consistent.\n",
    "\n",
    "-----\n",
    "\n",
    "Here we consider 2D models in the region, $0 \\leqslant x \\leqslant 1 $ and $ y_{0}\\leqslant y \\leqslant y_{1}$\n",
    "\n",
    "with no variation in the x direction, i.e. $ \\frac{\\partial T}{\\partial x} = 0 $ and a constant value $ k $ across the domain. \n",
    "\n",
    "Leading the 1D general solution:\n",
    "\n",
    "$ T = -\\frac{h}{2 k}y^{2} + c_{0}y + c_{1} $\n",
    "\n",
    "where $c_{0}, c_{1}$ are arbitrary constants found by applying each model's boundary conditions\n",
    "\n",
    "Three models are presented below, each with an analytic solution that the numerical results are tested against."
   ]
  },
  {
   "cell_type": "code",
   "execution_count": 1,
   "metadata": {
    "collapsed": true
   },
   "outputs": [],
   "source": [
    "# analytic solution definitions\n",
    "def analyticTemperature(y, h, k, c0, c1):\n",
    "     return -h/(2.*k)*y**2 + c0*y + c1\n",
    "\n",
    "def exactDeriv(y, h, k, c0):\n",
    "    return -h/k*y + c0"
   ]
  },
  {
   "cell_type": "code",
   "execution_count": 2,
   "metadata": {
    "collapsed": false
   },
   "outputs": [],
   "source": [
    "import underworld as uw\n",
    "import glucifer\n",
    "import numpy as np\n",
    "uw.matplotlib_inline()\n",
    "import matplotlib.pyplot as pyplot\n",
    "import matplotlib.pylab as pylab\n",
    "pyplot.ion() # needed to ensure pure python jobs do now hang on show()\n",
    "\n",
    "rank = uw.rank()\n",
    "\n",
    "# for machines without matplotlib #\n",
    "make_graphs = True\n",
    "try:\n",
    "    import matplotlib\n",
    "except ImportError:\n",
    "    make_graphs=False\n",
    "\n",
    "# depth range\n",
    "y0 = -.60\n",
    "y1 = 1.3\n",
    "\n",
    "# build mesh and fields\n",
    "mesh = uw.mesh.FeMesh_Cartesian( elementType = (\"Q1\"), \n",
    "                                 elementRes  = (10, 20), \n",
    "                                 minCoord    = (0., y0), \n",
    "                                 maxCoord    = (1., y1))\n",
    "\n",
    "tField    = uw.mesh.MeshVariable(mesh=mesh, nodeDofCount=1, dataType='double')\n",
    "topWall    = mesh.specialSets['MaxJ_VertexSet']\n",
    "bottomWall = mesh.specialSets['MinJ_VertexSet']"
   ]
  },
  {
   "cell_type": "markdown",
   "metadata": {
    "collapsed": true
   },
   "source": [
    "## Model 1)\n",
    "\n",
    " * a fixed temperature condition or `DirichletCondition` - topWall \n",
    " \n",
    " $ T(x,y_{1}) = T_{1} $\n",
    "\n",
    " * a heat flow condition or `NeumannCondition` - bottomWall.\n",
    "\n",
    " $ q \\cdot n_{b} = (\\,0.0\\,,\\, f\\,) \\cdot (\\,0.0\\,,\\,-1.0\\,) = - f$\n",
    " \n",
    "     **Note** The heat flow is calculated using the heat flux vector $q$ multiplied by the outward surface normal, $n$. \n",
    "     The bottom surface outward normal $n_{b}$ point along the negative j-axis \n",
    "\n",
    "\n",
    "When the `NeumannCondition` object is associated with the `SteadyStateHeat` system it defines a flux along a boundary such that:\n",
    "  * $ q \\cdot n = \\phi $ on $ \\Gamma_{\\phi} $\n",
    "  \n",
    "    where:  \n",
    "    * $\\Gamma_{\\phi}$ is the set of vertices along the surface of the domain, \n",
    "    * $\\phi $ is the scalar flow associated with the vector flux $q$ along $\\Gamma_{\\phi}$\n",
    "\n",
    "An example implementation  \n",
    "\n",
    "```nbc = uw.conditions.NeumannCondition( fn_flux=phi, variable=tField,\n",
    "                                      nodeIndexSet=mesh.specialSets[\"MinJ_VertexSet\"] )\n",
    "```\n",
    "\n",
    "Applies `phi` as a flow to the `tField` over the boundary vertices in the set `nodeIndexSet`.\n",
    "\n",
    "Here `phi` can be an `underworld.Function` or `underworld.MeshVariable` type.\n",
    "\n",
    "\n",
    "------\n",
    "\n",
    "Arbitrary constants are:\n",
    "\n",
    "$c_{0} = -\\frac{1}{k} (\\,f - hy_{0}\\,) $\n",
    "\n",
    "$c_{1} = T_{1} + \\frac{h}{2 k}y_{1}^2 - c_{0}y_{1} $\n"
   ]
  },
  {
   "cell_type": "code",
   "execution_count": 3,
   "metadata": {
    "collapsed": false
   },
   "outputs": [],
   "source": [
    "T1 = 8.0       # surface temperature\n",
    "k = 6.7        # diffusivity\n",
    "h = 8.0        # heat production, source term\n",
    "f = 2. \n",
    "\n",
    "# analytic solution definitions\n",
    "# 1 dirichlet conditions (top) + 1 neumann (bottom)\n",
    "c0 = -1./k*(f-h*y0)\n",
    "c1 = T1 + h/(2.0*k)*y1**2 - c0*y1"
   ]
  },
  {
   "cell_type": "code",
   "execution_count": 4,
   "metadata": {
    "collapsed": false
   },
   "outputs": [
    {
     "name": "stderr",
     "output_type": "stream",
     "text": [
      "/home/julian/codes/clean_uw/underworld/conditions/_conditions.py:136: UserWarning: \n",
      "### DEPRECATION WARNING The 'flux' parameter in the NeumannCondition\n",
      "class has been replaced with 'fn_flux'. In the coming release 'flux' will be DEPRECATED\n",
      "please update your python code\n",
      "\n",
      "  \"please update your python code\\n\")\n"
     ]
    }
   ],
   "source": [
    "for ii in topWall:\n",
    "    tField.data[ii] = T1\n",
    "\n",
    "# flag the dirichlet conditions on the topWall only\n",
    "bc = uw.conditions.DirichletCondition(tField, indexSetsPerDof=(topWall) )\n",
    "\n",
    "# define neumann condition\n",
    "nbc = uw.conditions.NeumannCondition( variable=tField,\n",
    "                                     flux=-f, \n",
    "                                     nodeIndexSet=(bottomWall) )\n",
    "\n",
    "# flag the dirichlet conditions on the topWall only\n",
    "bc = uw.conditions.DirichletCondition(tField, indexSetsPerDof=(topWall) )\n",
    "\n",
    "# define heat eq. system\n",
    "ss = uw.systems.SteadyStateHeat( temperatureField  = tField,\n",
    "                                 fn_diffusivity = k,\n",
    "                                 fn_heating     = h,\n",
    "                                 conditions     = [bc, nbc] ) "
   ]
  },
  {
   "cell_type": "code",
   "execution_count": null,
   "metadata": {
    "collapsed": true
   },
   "outputs": [],
   "source": [
    "solver = uw.systems.Solver(ss)\n",
    "solver.solve()"
   ]
  },
  {
   "cell_type": "code",
   "execution_count": null,
   "metadata": {
    "collapsed": false,
    "scrolled": false
   },
   "outputs": [],
   "source": [
    "# create numpy arrays for analytics\n",
    "yvals       = np.zeros(mesh.elementRes[1]+1)\n",
    "ycoord      = np.zeros_like(yvals)\n",
    "analytic    = np.zeros_like(yvals)\n",
    "\n",
    "ids = mesh.specialSets['MinI_VertexSet']\n",
    "yvals[:] = tField.evaluate(ids).T\n",
    "\n",
    "ycoord = tField.mesh.data[ids.data,[1]]\n",
    "analytic = analyticTemperature(ycoord, h, k, c0, c1)\n",
    "\n",
    "abserr = uw.utils._nps_2norm(analytic - yvals)\n",
    "mag = uw.utils._nps_2norm(analytic)\n",
    "relerr = abserr / mag\n",
    "\n",
    "from mpi4py import MPI\n",
    "comm = MPI.COMM_WORLD\n",
    "# assuming order in the allgather is the same\n",
    "coords = comm.allgather(ycoord)\n",
    "numerical = comm.allgather(yvals)\n",
    "\n",
    "if rank == 0:\n",
    "    # build matplot lib graph of result only on proc 0\n",
    "\n",
    "    # 1st build exact solution hiRes\n",
    "    big = np.linspace(y0,y1)\n",
    "    cool = analyticTemperature(big, h, k, c0, c1)\n",
    "\n",
    "    pylab.rcParams[ 'figure.figsize'] = 12, 6\n",
    "    pyplot.plot(coords, numerical, 'o', color = 'black', label='numerical') \n",
    "    pyplot.plot(big, cool, color = 'red', label=\"exact\") \n",
    "    pyplot.xlabel('Y coords')\n",
    "    pyplot.ylabel('Temperature')\n",
    "    pyplot.show()\n",
    "\n",
    "\n",
    "if rank == 0:\n",
    "    threshold = 1.0e-4\n",
    "    yspot = y0\n",
    "    print \"Numerical flux at y = \" ,yspot,\"is\", tField.fn_gradient.evaluate([0.2,yspot])[0][1]\n",
    "    print \"Exact     flux at y = \" ,yspot,\"is\", exactDeriv(yspot,h,k,c0)\n",
    "    print \"\\nAbs. error = {0:.3e}\".format(abserr)\n",
    "    print \"Rel. error = {0:.3e}\".format(relerr)\n",
    "    if relerr > threshold:\n",
    "        raise RuntimeError(\"The numerical solution is outside the error threshold of the analytic solution.\" \\\n",
    "                           \"The Relative error was \", relerr,\" the threshold is \", threshold)"
   ]
  },
  {
   "cell_type": "markdown",
   "metadata": {},
   "source": [
    "## Model 2)\n",
    "\n",
    " * a fixed temperature condition or Dirichlet BC - bottomWall \n",
    " \n",
    " $ T(x,y_{0}) = T_{0} $\n",
    "\n",
    " * a heat flow condition or Neumann BC - topWall.\n",
    "\n",
    " $ q \\cdot n_{u} = (\\,0.0\\,,\\, f\\,) \\cdot (\\,0.0\\,,\\,1.0\\,) = f$\n",
    " \n",
    "     **Note** The top surface outward normal $n_{u}$ point along the j-axis \n",
    "\n",
    "------\n",
    "\n",
    "Arbitrary constants are:\n",
    "\n",
    "$c_{0} = -\\frac{1}{k} (\\,f - hy_{1}\\,) $\n",
    "\n",
    "$c_{1} = T_{0} + \\frac{h}{2 k}y_{0}^2 - c_{0}y_{0} $"
   ]
  },
  {
   "cell_type": "code",
   "execution_count": null,
   "metadata": {
    "collapsed": false
   },
   "outputs": [],
   "source": [
    "T0 = 8.0       # surface temperature\n",
    "k = 2.2        # diffusivity\n",
    "h = -7.4       # heat production, source term\n",
    "f = 4.0        # temperature flow, implies negative gradient\n",
    "\n",
    "# analytic solution definitions\n",
    "# 1 dirichlet conditions (top) + 1 neumann (bottom)\n",
    "c0 = -1.0*(f-h*y1)/k\n",
    "c1 = T0 + h/(2.0*k)*y0**2 - c0*y0"
   ]
  },
  {
   "cell_type": "code",
   "execution_count": null,
   "metadata": {
    "collapsed": false
   },
   "outputs": [],
   "source": [
    "for ii in bottomWall:\n",
    "    tField.data[ii] = T0\n",
    "\n",
    "# define neumann condition\n",
    "nbc = uw.conditions.NeumannCondition( fn_flux=f, \n",
    "                                      variable=tField, \n",
    "                                      nodeIndexSet=(topWall) )\n",
    "\n",
    "# flag the dirichlet conditions on the topWall only\n",
    "bc = uw.conditions.DirichletCondition(tField, indexSetsPerDof=(bottomWall) )\n",
    "\n",
    "\n",
    "# define heat eq. system\n",
    "ss = uw.systems.SteadyStateHeat( temperatureField  = tField,\n",
    "                                 fn_diffusivity = k,\n",
    "                                 fn_heating     = h,\n",
    "                                 conditions     = [bc, nbc] ) "
   ]
  },
  {
   "cell_type": "code",
   "execution_count": null,
   "metadata": {
    "collapsed": true
   },
   "outputs": [],
   "source": [
    "solver = uw.systems.Solver(ss)\n",
    "solver.solve()"
   ]
  },
  {
   "cell_type": "code",
   "execution_count": null,
   "metadata": {
    "collapsed": false,
    "scrolled": false
   },
   "outputs": [],
   "source": [
    "# create numpy arrays for analytics\n",
    "yvals       = np.zeros(mesh.elementRes[1]+1)\n",
    "ycoord      = np.zeros_like(yvals)\n",
    "analytic    = np.zeros_like(yvals)\n",
    "\n",
    "ids = mesh.specialSets['MinI_VertexSet']\n",
    "yvals[:] = tField.evaluate(ids).T\n",
    "\n",
    "ycoord = tField.mesh.data[ids.data,[1]]\n",
    "analytic = analyticTemperature(ycoord, h, k, c0, c1)\n",
    "\n",
    "abserr = uw.utils._nps_2norm(analytic - yvals)\n",
    "mag = uw.utils._nps_2norm(analytic)\n",
    "relerr = abserr / mag\n",
    "\n",
    "from mpi4py import MPI\n",
    "comm = MPI.COMM_WORLD\n",
    "# assuming order in the allgather is the same\n",
    "coords = comm.allgather(ycoord)\n",
    "numerical = comm.allgather(yvals)\n",
    "\n",
    "if rank == 0:\n",
    "    # build matplot lib graph of result only on proc 0\n",
    "\n",
    "    # 1st build exact solution hiRes\n",
    "    big = np.linspace(y0,y1)\n",
    "    cool = analyticTemperature(big, h, k, c0, c1)\n",
    "\n",
    "    pylab.rcParams[ 'figure.figsize'] = 12, 6\n",
    "    pyplot.plot(coords, numerical, 'o', color = 'black', label='numerical') \n",
    "    pyplot.plot(big, cool, color = 'red', label=\"exact\") \n",
    "    pyplot.xlabel('Y coords')\n",
    "    pyplot.ylabel('Temperature')\n",
    "    pyplot.show()\n",
    "\n",
    "\n",
    "if rank == 0:\n",
    "    threshold = 1.0e-4\n",
    "    yspot = y1\n",
    "    print \"Numerical flux at y = \" ,yspot,\"is\", tField.fn_gradient.evaluate([0.2,yspot])[0][1]\n",
    "    print \"Exact     flux at y = \" ,yspot,\"is\", exactDeriv(yspot,h,k,c0)\n",
    "    print \"\\nAbs. error = {0:.3e}\".format(abserr)\n",
    "    print \"Rel. error = {0:.3e}\".format(relerr)\n",
    "    if relerr > threshold:\n",
    "        raise RuntimeError(\"The numerical solution is outside the error threshold of the analytic solution.\" \\\n",
    "                           \"The Relative error was \", relerr,\" the threshold is \", threshold)"
   ]
  },
  {
   "cell_type": "markdown",
   "metadata": {
    "collapsed": true
   },
   "source": [
    "## Model 3) \n",
    "\n",
    "2D, Steady State Heat Equation with Dirichlet BC at the top and bottom surfaces.\n",
    "\n",
    "$T(x,y_{1}) = T_{1}$\n",
    "\n",
    "$ T(x,y_{0}) = T_{0} $\n",
    "\n",
    "------\n",
    "\n",
    "arbitrary constants are:\n",
    "\n",
    "$ c_{0} = \\frac{1}{y_{1}-y_{0}} \\left[ T_{1}-T_{0}+\\frac{h} {2k}(y_{1}^2-y_{0}^2) \\right] $\n",
    "\n",
    "$c_{1} = T_{1} + \\frac{h}{2k}y_{1}^2 - c_{0}y_{1}$\n"
   ]
  },
  {
   "cell_type": "code",
   "execution_count": null,
   "metadata": {
    "collapsed": false
   },
   "outputs": [],
   "source": [
    "# Model parameters\n",
    "T1 = 8.0   # top surface temperature\n",
    "T0 = 4.0   # bottom surface temperature\n",
    "k = 0.50   # diffusivity\n",
    "h = 10     # heat production, source term\n",
    "\n",
    "# arbitrary constant given the 2 dirichlet conditions\n",
    "c0 = (T1-T0+h/(2*k)*(y1**2-y0**2)) / (y1-y0)\n",
    "c1 = T1 + h/(2*k)*y1**2 - c0*y1"
   ]
  },
  {
   "cell_type": "code",
   "execution_count": null,
   "metadata": {
    "collapsed": false
   },
   "outputs": [],
   "source": [
    "# set boundary conditions\n",
    "for ii in topWall:\n",
    "    tField.data[ii] = T1\n",
    "for ii in bottomWall:\n",
    "    tField.data[ii] = T0\n",
    "\n",
    "# flag boundary conditions\n",
    "bc = uw.conditions.DirichletCondition(tField, indexSetsPerDof=(topWall+bottomWall) )\n",
    "\n",
    "# define heat eq. system\n",
    "ss = uw.systems.SteadyStateHeat( temperatureField  = tField,\n",
    "                                 fn_diffusivity = k,\n",
    "                                 fn_heating     = h,\n",
    "                                 conditions     = [bc] )"
   ]
  },
  {
   "cell_type": "code",
   "execution_count": null,
   "metadata": {
    "collapsed": false
   },
   "outputs": [],
   "source": [
    "solver = uw.systems.Solver(ss)\n",
    "solver.solve()"
   ]
  },
  {
   "cell_type": "code",
   "execution_count": null,
   "metadata": {
    "collapsed": false
   },
   "outputs": [],
   "source": [
    "# create numpy arrays for analytics\n",
    "yvals       = np.zeros(mesh.elementRes[1]+1)\n",
    "ycoord      = np.zeros_like(yvals)\n",
    "analytic    = np.zeros_like(yvals)\n",
    "\n",
    "ids = mesh.specialSets['MinI_VertexSet']\n",
    "yvals[:] = tField.evaluate(ids).T\n",
    "\n",
    "ycoord   = tField.mesh.data[ids.data,[1]]\n",
    "analytic = analyticTemperature(ycoord, h, k, c0, c1)\n",
    "\n",
    "abserr = uw.utils._nps_2norm(analytic - yvals)\n",
    "mag = uw.utils._nps_2norm(analytic)\n",
    "relerr = abserr / mag\n",
    "\n",
    "from mpi4py import MPI\n",
    "comm = MPI.COMM_WORLD\n",
    "# assuming order in the allgather is the same\n",
    "coords = comm.allgather(ycoord)\n",
    "numerical = comm.allgather(yvals)"
   ]
  },
  {
   "cell_type": "code",
   "execution_count": null,
   "metadata": {
    "collapsed": false,
    "scrolled": false
   },
   "outputs": [],
   "source": [
    "if rank == 0:\n",
    "    threshold = 1.0e-4\n",
    "    yspot = y0\n",
    "    print \"Numerical flux at y = \" ,yspot,\"is\", tField.fn_gradient.evaluate([0.2,yspot])[0][1]\n",
    "    print \"Exact flux at y=\" ,yspot,\"is\", exactDeriv(yspot,h,k,c0)\n",
    "    print \"\\nAbs. error = {0:.3e}\".format(abserr)\n",
    "    print \"Rel. error = {0:.3e}\".format(relerr)\n",
    "    if relerr > threshold:\n",
    "        raise RuntimeError(\"The numerical solution is outside the error threshold of the analytic solution.\" \\\n",
    "                           \"The Relative error was \", relerr,\" the threshold is \", threshold)  \n",
    "        "
   ]
  },
  {
   "cell_type": "code",
   "execution_count": null,
   "metadata": {
    "collapsed": false
   },
   "outputs": [],
   "source": [
    "\n",
    "if rank == 0:\n",
    "    # build matplot lib graph of result only on proc 0\n",
    "\n",
    "    # 1st build exact solution hiRes\n",
    "    big = np.linspace(y0,y1)\n",
    "    cool = analyticTemperature(big, h, k, c0, c1)\n",
    "\n",
    "    pylab.rcParams[ 'figure.figsize'] = 12, 6\n",
    "    pyplot.plot(coords, numerical, 'o', color = 'black', label='numerical') \n",
    "    pyplot.plot(big, cool, color = 'red', label=\"exact\") \n",
    "    pyplot.xlabel('Y coords')\n",
    "    pyplot.ylabel('Temperature')\n",
    "    pyplot.show()\n"
   ]
  }
 ],
 "metadata": {
  "kernelspec": {
   "display_name": "Python 2",
   "language": "python",
   "name": "python2"
  },
  "language_info": {
   "codemirror_mode": {
    "name": "ipython",
    "version": 2
   },
   "file_extension": ".py",
   "mimetype": "text/x-python",
   "name": "python",
   "nbconvert_exporter": "python",
   "pygments_lexer": "ipython2",
   "version": "2.7.11+"
  }
 },
 "nbformat": 4,
 "nbformat_minor": 0
}
