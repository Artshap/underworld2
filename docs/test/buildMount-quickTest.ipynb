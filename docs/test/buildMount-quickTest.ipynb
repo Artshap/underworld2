{
 "cells": [
  {
   "cell_type": "markdown",
   "metadata": {},
   "source": [
    "# Example of flux BC building topography, currently only 2 timesteps\n"
   ]
  },
  {
   "cell_type": "code",
   "execution_count": null,
   "metadata": {
    "collapsed": false
   },
   "outputs": [],
   "source": [
    "import matplotlib.pyplot as pyplot\n",
    "import matplotlib.pylab as pylab\n",
    "import numpy as np\n",
    "import underworld as uw\n",
    "import math\n",
    "from underworld import function as fn\n",
    "import glucifer\n",
    "import os"
   ]
  },
  {
   "cell_type": "markdown",
   "metadata": {},
   "source": [
    "Setup parameters\n",
    "-----\n",
    "\n",
    "Set simulation parameters. The box length is chosen for direct comparison to the benchmark values."
   ]
  },
  {
   "cell_type": "code",
   "execution_count": null,
   "metadata": {
    "collapsed": false
   },
   "outputs": [],
   "source": [
    "resUnit = 40\n",
    "boxLength = 2.0\n",
    "boxHeight = 1.0\n",
    "elType = \"Q1/dQ0\"\n",
    "resx = int(boxLength*resUnit)\n",
    "resy = int(boxHeight*resUnit)\n",
    "minCoord = [0.,0.]\n",
    "maxCoord = [boxLength,boxHeight]\n",
    "eta = 1.0"
   ]
  },
  {
   "cell_type": "code",
   "execution_count": null,
   "metadata": {
    "collapsed": false
   },
   "outputs": [],
   "source": [
    "mesh = uw.mesh.FeMesh_Cartesian( elementType = (elType), \n",
    "                                 elementRes  = (resx, resy), \n",
    "                                 minCoord    = minCoord, \n",
    "                                 maxCoord    = maxCoord )\n",
    "\n",
    "velocityField = uw.mesh.MeshVariable( mesh=mesh,         nodeDofCount=2 )\n",
    "stressField   = uw.mesh.MeshVariable( mesh=mesh,         nodeDofCount=3 )\n",
    "pressureField = uw.mesh.MeshVariable( mesh=mesh.subMesh, nodeDofCount=1 )"
   ]
  },
  {
   "cell_type": "code",
   "execution_count": null,
   "metadata": {
    "collapsed": false
   },
   "outputs": [],
   "source": [
    "velocityField.data[:] = [0.,0.]\n",
    "pressureField.data[:] = 0.\n",
    "stressField.data[:] = [0.0,0.0,0.0]\n",
    "\n",
    "for ii in mesh.specialSets['MinJ_VertexSet']:\n",
    "    coord = mesh.data[ii]\n",
    "    stressField.data[ii] = [0.0,-0.6-0.15*np.exp(-5*(coord[0]-1)**2.0), 0.0]"
   ]
  },
  {
   "cell_type": "code",
   "execution_count": null,
   "metadata": {
    "collapsed": false
   },
   "outputs": [],
   "source": [
    "# Initialise a swarm.\n",
    "swarm = uw.swarm.Swarm( mesh=mesh, particleEscape=True )\n",
    "advector= uw.systems.SwarmAdvector(velocityField, swarm, order=2)\n",
    "\n",
    "# Add a data variable which will store an index to determine material.\n",
    "materialVariable = swarm.add_variable( dataType=\"double\", count=1 )\n",
    "\n",
    "# Create a layout object that will populate the swarm across the whole domain.\n",
    "swarmLayout = uw.swarm.layouts.GlobalSpaceFillerLayout( swarm=swarm, particlesPerCell=20 )\n",
    "# Populate.\n",
    "swarm.populate_using_layout( layout=swarmLayout )\n",
    "\n",
    "# material 0 - compressible Lambda=10, density = 0\n",
    "# material 1 - incompressible Lambda=0, density = 1\n",
    "\n",
    "materialVariable.data[:]=0\n",
    "for index,coord in enumerate(swarm.particleCoordinates.data):\n",
    "    if coord[1] < boxHeight*0.6:\n",
    "        materialVariable.data[index]=1\n",
    "\n",
    "        \n",
    "population_control = uw.swarm.PopulationControl(swarm, \n",
    "                                                aggressive=True,splitThreshold=0.15, maxDeletions=2,maxSplits=10,\n",
    "                                                particlesPerCell=20)\n",
    "\n",
    "# build tracer swarm for fluid level\n",
    "tracerSwarm = uw.swarm.Swarm( mesh=mesh )\n",
    "tracerAdvector= uw.systems.SwarmAdvector(velocityField, tracerSwarm, order=2)\n",
    "particleCoordinates = np.zeros((10,2))\n",
    "particleCoordinates[:,0] = np.linspace(0,2,10)\n",
    "particleCoordinates[:,1] = 0.6\n",
    "tracerSwarm.add_particles_with_coordinates(particleCoordinates)"
   ]
  },
  {
   "cell_type": "code",
   "execution_count": null,
   "metadata": {
    "collapsed": true
   },
   "outputs": [],
   "source": [
    "# Lambda = materialVariable * fn.misc.constant(10.0) -  is created for pseudo compressibility\n",
    "Lambda = uw.function.branching.conditional( [ (materialVariable < 0.1, 10.0),\n",
    "                                              (True,             0.0) ] )\n",
    "fn_force = materialVariable * (0.0,-1.0)"
   ]
  },
  {
   "cell_type": "code",
   "execution_count": null,
   "metadata": {
    "collapsed": false
   },
   "outputs": [],
   "source": [
    "iWalls = mesh.specialSets[\"MinI_VertexSet\"] + mesh.specialSets[\"MaxI_VertexSet\"]\n",
    "jWalls = mesh.specialSets[\"MinJ_VertexSet\"] + mesh.specialSets[\"MaxJ_VertexSet\"]\n",
    "bottomWall = mesh.specialSets[\"MinJ_VertexSet\"]\n",
    "allWalls = iWalls + jWalls\n",
    "\n",
    "# Now, using these sets, decide which degrees of freedom (on each node) should be considered Dirichlet.\n",
    "stokesBC = uw.conditions.DirichletCondition( variable      = velocityField, \n",
    "                                             indexSetsPerDof = (iWalls, jWalls-bottomWall) )\n",
    "\n",
    "# add neumann bcs\n",
    "nbc      = uw.conditions.NeumannCondition( flux=stressField, variable = velocityField, \n",
    "                                             nodeIndexSet = bottomWall )"
   ]
  },
  {
   "cell_type": "code",
   "execution_count": null,
   "metadata": {
    "collapsed": false
   },
   "outputs": [],
   "source": [
    "fig1 = glucifer.Figure()\n",
    "fig1.append( glucifer.objects.Points(swarm, materialVariable, fn_size=2.0 ) )\n",
    "fig1.append( glucifer.objects.Mesh(mesh) )\n",
    "\n",
    "fig1.show()\n",
    "\n",
    "fig2 = glucifer.Figure()\n",
    "fig2.append( glucifer.objects.VectorArrows(mesh, velocityField, scaling=8.0e2 ) )\n",
    "fig2.append( glucifer.objects.Surface(mesh, pressureField) )"
   ]
  },
  {
   "cell_type": "markdown",
   "metadata": {},
   "source": [
    "**Create a Stokes system**"
   ]
  },
  {
   "cell_type": "code",
   "execution_count": null,
   "metadata": {
    "collapsed": false
   },
   "outputs": [],
   "source": [
    "stokesPIC = uw.systems.Stokes( velocityField = velocityField, \n",
    "                               pressureField = pressureField,\n",
    "                               conditions    = [stokesBC, nbc],\n",
    "                               fn_viscosity  = 1.0e6, \n",
    "                               fn_bodyforce  = fn_force,\n",
    "                               fn_lambda     = Lambda )\n",
    "solver = uw.systems.Solver( stokesPIC )"
   ]
  },
  {
   "cell_type": "code",
   "execution_count": null,
   "metadata": {
    "collapsed": true
   },
   "outputs": [],
   "source": [
    "vdotv = fn.math.dot(velocityField,velocityField)\n",
    "v2sum_integral  = uw.utils.Integral( mesh=mesh, fn=vdotv )\n",
    "volume_integral = uw.utils.Integral( mesh=mesh, fn=1. )"
   ]
  },
  {
   "cell_type": "code",
   "execution_count": null,
   "metadata": {
    "collapsed": false
   },
   "outputs": [],
   "source": [
    "# general checkpoint function\n",
    "def checkpoint( velocityField, pressureField, mesh, materialVariable, swarm, index, prefix=None ):\n",
    "    \n",
    "    if not hasattr( checkpoint, 'prefix'):\n",
    "        if prefix is not None:\n",
    "            import os\n",
    "            if not os.path.exists('./'+prefix):\n",
    "                try:\n",
    "                    os.makedirs(\"./\"+prefix+'/')\n",
    "                except:\n",
    "                    raise\n",
    "        else:\n",
    "            prefix=' '\n",
    "        checkpoint.prefix=prefix\n",
    "    \n",
    "    \n",
    "    prefix = checkpoint.prefix\n",
    "    \n",
    "    ii = str(index)\n",
    "    \n",
    "    # see if we have already saved the mesh. It only needs to be saved once\n",
    "    if not hasattr( checkpoint, 'mH' ):\n",
    "        checkpoint.mH = mesh.save(prefix+\"mesh.h5\")\n",
    "\n",
    "    mh = checkpoint.mH\n",
    "    vH = velocityField.save(prefix+\"velocity\"+ii+\".h5\")\n",
    "    pH = pressureField.save(prefix+\"pressure\"+ii+\".h5\")\n",
    "    sH = swarm.save(prefix+\"swarm\"+ii+\".h5\")\n",
    "    smH = materialVariable.save(prefix+\"matVar\"+ii+\".h5\")\n",
    "    trH = tracerSwarm.save(prefix+'tracers'+ii+'.h5')\n",
    "\n",
    "    velocityField.xdmf(prefix+\"velocity\"+ii, vH, 'velocity', mh, 'mesh')\n",
    "    pressureField.xdmf(prefix+\"pressure\"+ii, pH, 'pressure', mh, 'mesh')\n",
    "    materialVariable.xdmf(prefix+\"swarm\"+ii, smH, 'materials', sH, 'swarm')"
   ]
  },
  {
   "cell_type": "code",
   "execution_count": null,
   "metadata": {
    "collapsed": false
   },
   "outputs": [],
   "source": [
    "steps         = 0\n",
    "finalTimestep = 2"
   ]
  },
  {
   "cell_type": "code",
   "execution_count": null,
   "metadata": {
    "collapsed": false,
    "scrolled": true
   },
   "outputs": [],
   "source": [
    "# prefix='rubbish/'\n",
    "# if prefix is None:\n",
    "#     prefix=''\n",
    "# else:\n",
    "#     try:\n",
    "#         import os\n",
    "#         if not os.path.exists(\"./\"+prefix+\"/\"):\n",
    "#             os.makedirs(\"./\"+prefix+'/')\n",
    "#     except:\n",
    "#         raise\n",
    "\n",
    "# outfile = open(prefix+'buildMount.txt', 'w+')\n",
    "# outfile.write( \"Steps, Timestep, vrms, meanHeight\\n\")\n",
    "# print \"Steps, Timestep, Volume\\n\"\n",
    "# lWallx = mesh.minCoord[0]\n",
    "# rWallx = mesh.maxCoord[0]\n",
    "# fig1.save_image(prefix+'particle.'+str(steps)+'.png')\n",
    "# fig2.save_image(prefix+'buildMount.'+str(steps)+'.png')\n",
    "topology = tracerSwarm.particleCoordinates.data[:,1].copy()\n",
    "# print topology\n",
    "# deltaTopo = 1.0\n",
    "while steps<finalTimestep:\n",
    "    # Get solution for initial configuration.\n",
    "    solver.solve()\n",
    "\n",
    "    # Advect using this timestep size.\n",
    "    dt = advector.get_max_dt()\n",
    "        \n",
    "    advector.integrate(dt)  \n",
    "    tracerAdvector.integrate(dt)\n",
    "\n",
    "\n",
    "    newtopology = tracerSwarm.particleCoordinates.data[:,1]\n",
    "    deltaTopo   = np.linalg.norm(newtopology-topology)/np.linalg.norm(topology)\n",
    "    topology    = newtopology.copy()\n",
    "    \n",
    "#     with mesh.deform_mesh():\n",
    "#         for index, coord in enumerate(mesh.data):\n",
    "#             mesh.data[index][0] =+ dt * velocityField.data[index][0]\n",
    "    \n",
    "    population_control.repopulate()   \n",
    "    \n",
    "    steps += 1\n",
    "#     print \"swarm number {}, steps {}, deltaTopo {}\".format(swarm.particleGlobalCount,steps, deltaTopo)\n",
    "    \n",
    "#     if ((steps % 2) == 0):\n",
    "#         checkpoint(velocityField=velocityField, pressureField=pressureField, mesh=mesh, \n",
    "#                    materialVariable=materialVariable, swarm=swarm, index=steps, prefix=prefix)\n",
    "        \n",
    "#     fig1.save_image(prefix+'particle.'+str(steps)+'.png')\n",
    "#     fig2.save_image(prefix+'buildMount.'+str(steps)+'.png')\n",
    "    \n",
    "    v2int = v2sum_integral.evaluate()[0]\n",
    "    vol = volume_integral.evaluate()[0]\n",
    "#     string = \"{0}, {1:.3e}, {2:.3e}, {3:.3e}\\n\".format(steps,dt,np.sqrt(v2int/vol), tracerSwarm.particleCoordinates.data[0][1])\n",
    "#     print string+\"\\n\"\n",
    "#     outfile.write(string)\n",
    "\n",
    "# outfile.close()"
   ]
  }
 ],
 "metadata": {
  "kernelspec": {
   "display_name": "Python 2",
   "language": "python",
   "name": "python2"
  },
  "language_info": {
   "codemirror_mode": {
    "name": "ipython",
    "version": 2
   },
   "file_extension": ".py",
   "mimetype": "text/x-python",
   "name": "python",
   "nbconvert_exporter": "python",
   "pygments_lexer": "ipython2",
   "version": "2.7.11+"
  }
 },
 "nbformat": 4,
 "nbformat_minor": 0
}
