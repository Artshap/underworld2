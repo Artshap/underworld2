{
 "cells": [
  {
   "cell_type": "markdown",
   "metadata": {},
   "source": [
    "## This notebook tests the Steady State Heat solver\n",
    "\n",
    "-----------\n",
    "\n",
    "2D, Steady Heat Equation with no variation in the x direction\n",
    "\n",
    "\\\\[\n",
    "0 = k \\frac{\\partial^2 T}{\\partial y^2}+H\n",
    "\\\\]\n",
    "\n",
    "\\\\[\n",
    "\\frac{\\partial T}{\\partial x} = 0\n",
    "\\\\]\n",
    "\n",
    "with $x,y : [0,1]$\n",
    "\n",
    "\n",
    "Two models are presented below, each with an analytic solution that the numerical results are tested against.\n",
    "\n",
    "The general solution is:\n",
    "\n",
    "$ T = -\\frac{h}{2 k}y^{2} + c_{0}y + c_{1} $\n",
    "\n",
    "where $c_{0}, c_{1}$ are arbitrary constants found by applying each model's boundary conditions"
   ]
  },
  {
   "cell_type": "code",
   "execution_count": 1,
   "metadata": {
    "collapsed": true
   },
   "outputs": [],
   "source": [
    "import underworld as uw\n",
    "import glucifer\n",
    "import numpy as np\n",
    "rank = uw.rank()\n",
    "\n",
    "# depth range\n",
    "ymin = 0.0\n",
    "ymax = 1.0\n",
    "\n",
    "# build mesh and fields\n",
    "mesh = uw.mesh.FeMesh_Cartesian( elementType = (\"Q1\"), \n",
    "                                 elementRes  = (10, 20), \n",
    "                                 minCoord    = (0., ymin), \n",
    "                                 maxCoord    = (1., ymax))\n",
    "\n",
    "tField    = uw.mesh.MeshVariable(mesh=mesh, nodeDofCount=1, dataType='double')\n",
    "topWall = mesh.specialSets['MaxJ_VertexSet']\n",
    "bottomWall = mesh.specialSets['MinJ_VertexSet']"
   ]
  },
  {
   "cell_type": "markdown",
   "metadata": {
    "collapsed": true
   },
   "source": [
    "Model 1) \n",
    "------------\n",
    "2D, Steady State Heat Equation with Dirichlet BC at top and bottom boundary.\n",
    "\n",
    "$T(x,y=1) = T_{o}$\n",
    "\n",
    "$ T(x,y=0) = T_{b} $\n",
    "\n",
    "------\n",
    "\n",
    "Effectively a 1D problem in $y$-axis - arbitrary constants are:\n",
    "\n",
    "$c_{0} = T_{o} + \\frac{h}{2 k} - c_{1}$\n",
    "\n",
    "$c_{1} = T_{b}$\n"
   ]
  },
  {
   "cell_type": "code",
   "execution_count": 2,
   "metadata": {
    "collapsed": true
   },
   "outputs": [],
   "source": [
    "# # analytic solution definitions\n",
    "def exactFunc(y, h, k, c0, c1):\n",
    "     return -h/(2*k)*y*y + c0*y + c1\n",
    "\n",
    "def exactDeriv(y, h, k, c0):\n",
    "    return -h/k*y + c0"
   ]
  },
  {
   "cell_type": "code",
   "execution_count": 3,
   "metadata": {
    "collapsed": true
   },
   "outputs": [],
   "source": [
    "# Model parameters\n",
    "To = 8.0   # top surface temperature\n",
    "Td = 4.0   # bottom surface temperature\n",
    "k = 1.0    # diffusivity\n",
    "h = 1.0e1  # heat production, source term\n",
    "\n",
    "# arbitrary constant given the 2 dirichlet conditions\n",
    "c1 = Td \n",
    "c0 = To + h/(2.0*k) - c1"
   ]
  },
  {
   "cell_type": "code",
   "execution_count": 4,
   "metadata": {
    "collapsed": false
   },
   "outputs": [],
   "source": [
    "# set boundary conditions\n",
    "for ii in topWall:\n",
    "    tField.data[ii] = To\n",
    "for ii in bottomWall:\n",
    "    tField.data[ii] = Td\n",
    "\n",
    "# flag boundary conditions\n",
    "bc = uw.conditions.DirichletCondition(tField, indexSetsPerDof=(topWall+bottomWall) )\n",
    "\n",
    "# define heat eq. system\n",
    "ss = uw.systems.SteadyStateHeat( temperatureField  = tField,\n",
    "                                 fn_diffusivity = k,\n",
    "                                 fn_heating     = h,\n",
    "                                 conditions     = [bc] )\n",
    "\n",
    "### optional visuals\n",
    "# fig = glucifer.Figure()\n",
    "# fig.append(glucifer.objects.Surface(mesh=mesh, fn=tField, colours=('blue white red')) )\n",
    "# fig.save_image('./initial.png')"
   ]
  },
  {
   "cell_type": "code",
   "execution_count": 5,
   "metadata": {
    "collapsed": false
   },
   "outputs": [],
   "source": [
    "solver = uw.systems.Solver(ss)\n",
    "solver.solve()\n",
    "### option visuals\n",
    "# fig.save_image('./final.png')"
   ]
  },
  {
   "cell_type": "code",
   "execution_count": 6,
   "metadata": {
    "collapsed": false
   },
   "outputs": [
    {
     "data": {
      "image/png": "[encoded data removed]",
      "text/plain": [
       "<matplotlib.figure.Figure at 0x7f5b21501e90>"
      ]
     },
     "metadata": {},
     "output_type": "display_data"
    },
    {
     "name": "stdout",
     "output_type": "stream",
     "text": [
      "Numerical flux at y =  0.0 is 8.74955272418\n",
      "Exact flux at y= 0.0 is 9.0\n",
      "\n",
      "|T - T_analytic|_2 = 3.223e-04\n",
      "\n",
      "|T|_2 = 3.167e+01\n",
      "\n",
      "Rel. error = 1.018e-05\n"
     ]
    }
   ],
   "source": [
    "# create numpy arrays for analytics\n",
    "yvals       = np.zeros(len(mesh.specialSets['MinI_VertexSet'].data))\n",
    "ycoord      = np.zeros_like(yvals)\n",
    "yexact_k_v1 = np.zeros_like(yvals)\n",
    "\n",
    "ids = mesh.specialSets['MinI_VertexSet']\n",
    "yvals[:] = tField.evaluate(ids).T\n",
    "\n",
    "ycoord = tField.mesh.data[ids.data,[1]]\n",
    "yexact_k_v1 = exactFunc(ycoord, h, k, c0, c1)\n",
    "\n",
    "# print \"The numerics: \",yvals\n",
    "# print \"The numerics: \",yexact_k_v1\n",
    "\n",
    "abserr = uw.utils._nps_2norm(yexact_k_v1 - yvals)\n",
    "mag = uw.utils._nps_2norm(yexact_k_v1)\n",
    "relerr = abserr / mag\n",
    "\n",
    "from mpi4py import MPI\n",
    "comm = MPI.COMM_WORLD\n",
    "# assuming order in the allgather is the same\n",
    "coords = comm.allgather(ycoord)\n",
    "numerical = comm.allgather(yvals)\n",
    "\n",
    "\n",
    "if rank == 0:\n",
    "    # build matplot lib graph of result only on proc 0\n",
    "\n",
    "    # 1st build exact solution hiRes\n",
    "    big = np.linspace(ymin,ymax)\n",
    "    cool = exactFunc(big, h, k, c0, c1)\n",
    "\n",
    "    %matplotlib inline\n",
    "    import matplotlib.pyplot as pyplot\n",
    "    import matplotlib.pylab as pylab\n",
    "    pylab.rcParams[ 'figure.figsize'] = 12, 6\n",
    "    pyplot.plot(coords, numerical, 'o', color = 'black', label='numerical') \n",
    "    pyplot.plot(big, cool, color = 'red', label=\"exact\") \n",
    "    pyplot.xlabel('Y coords')\n",
    "    pyplot.ylabel('Temperature')\n",
    "    pyplot.show()\n",
    "\n",
    "if rank == 0:\n",
    "    threshold = 3.0e-4\n",
    "    yspot = ymin\n",
    "    print \"Numerical flux at y = \" ,yspot,\"is\", tField.fn_gradient.evaluate([0.2,yspot])[0][1]\n",
    "    print \"Exact flux at y=\" ,yspot,\"is\", exactDeriv(yspot,h,k,c0)\n",
    "    print \"\\n|T - T_analytic|_2 = {0:.3e}\\n\\n|T|_2 = {1:.3e}\\n\".format(abserr, mag)\n",
    "    print \"Rel. error = {0:.3e}\".format(relerr)\n",
    "    if relerr > threshold:\n",
    "        raise RuntimeError(\"The numerical solution is outside the error threshold of the analytic solution.\" \\\n",
    "                           \"The Relative error was \", relerr,\" the threshold is \", threshold)  \n",
    "        import sys\n",
    "        sys.exit(1)"
   ]
  },
  {
   "cell_type": "markdown",
   "metadata": {
    "collapsed": true
   },
   "source": [
    "-------\n",
    "\n",
    "Model Setup\n",
    "-----------\n",
    "\n",
    "2D, Heat Equation with a Dirichlet BC (top) and a Neumann BC (bottom).\n",
    "\n",
    "$T(y=1) = T_{o}$\n",
    "\n",
    "$ \\nabla{T}_{y=0} = \\left[\\,0,\\,f\\,\\right] $\n",
    "\n",
    "\n",
    "------\n",
    "\n",
    "Effectively a 1D problem in $y$-axis - arbitrary constants are:\n",
    "\n",
    "$c_{0} = f $\n",
    "\n",
    "$c_{1} = T_{o} + \\frac{h}{2 k} - c_{0} $\n"
   ]
  },
  {
   "cell_type": "code",
   "execution_count": 7,
   "metadata": {
    "collapsed": true
   },
   "outputs": [],
   "source": [
    "To = 8.0       # surface temperature\n",
    "k = 1.0        # diffusivity\n",
    "h = 1.0e1      # heat production, source term\n",
    "f = [0.0,3.0]  # (dT_dx,dT_dy)\n",
    "\n",
    "# analytic solution definitions\n",
    "# 1 dirichlet conditions (top) + 1 neumann (bottom)\n",
    "c0 = f[1]\n",
    "c1 = To + h/(2.0*k) - c0"
   ]
  },
  {
   "cell_type": "code",
   "execution_count": 8,
   "metadata": {
    "collapsed": false
   },
   "outputs": [],
   "source": [
    "for ii in topWall:\n",
    "    tField.data[ii] = To\n",
    "\n",
    "# define neumann condition\n",
    "nbc = uw.conditions.NeumannCondition( flux=f, \n",
    "                                      variable=tField, \n",
    "                                      nodeIndexSet=(bottomWall) )\n",
    "\n",
    "bc = uw.conditions.DirichletCondition(tField, indexSetsPerDof=(topWall) )\n",
    "\n",
    "# define heat eq. system\n",
    "ss = uw.systems.SteadyStateHeat( temperatureField  = tField,\n",
    "                                 fn_diffusivity = k,\n",
    "                                 fn_heating     = h,\n",
    "                                 conditions     = [bc, nbc] ) \n",
    "\n",
    "### optional visuals\n",
    "# fig = glucifer.Figure()\n",
    "# fig.append(glucifer.objects.Surface(mesh=mesh, fn=tField, colours=('blue white red')) )\n",
    "# fig.save_image('./initial.png')"
   ]
  },
  {
   "cell_type": "code",
   "execution_count": 9,
   "metadata": {
    "collapsed": true
   },
   "outputs": [],
   "source": [
    "solver = uw.systems.Solver(ss)\n",
    "solver.solve()\n",
    "### option visuals\n",
    "# fig.save_image('./final.png')"
   ]
  },
  {
   "cell_type": "code",
   "execution_count": 10,
   "metadata": {
    "collapsed": false
   },
   "outputs": [
    {
     "data": {
      "image/png": "[encoded data removed]",
      "text/plain": [
       "<matplotlib.figure.Figure at 0x7f5b65ee7790>"
      ]
     },
     "metadata": {},
     "output_type": "display_data"
    },
    {
     "name": "stdout",
     "output_type": "stream",
     "text": [
      "Numerical flux at y =  0.0 is 2.75007276863\n",
      "Exact flux at y= 0.0 is 3.0\n",
      "\n",
      "|T - T_analytic|_2 = 6.621e-04\n",
      "\n",
      "|T|_2 = 4.500e+01\n",
      "\n",
      "Rel. error = 1.472e-05\n"
     ]
    }
   ],
   "source": [
    "# create numpy arrays for analytics\n",
    "yvals       = np.zeros(len(mesh.specialSets['MinI_VertexSet'].data))\n",
    "ycoord      = np.zeros_like(yvals)\n",
    "yexact_k_v1 = np.zeros_like(yvals)\n",
    "\n",
    "ids = mesh.specialSets['MinI_VertexSet']\n",
    "yvals[:] = tField.evaluate(ids).T\n",
    "\n",
    "ycoord = tField.mesh.data[ids.data,[1]]\n",
    "yexact_k_v1 = exactFunc(ycoord, h, k, c0, c1)\n",
    "\n",
    "# print \"The numerics: \",yvals\n",
    "# print \"The numerics: \",yexact_k_v1\n",
    "\n",
    "abserr = uw.utils._nps_2norm(yexact_k_v1 - yvals)\n",
    "mag = uw.utils._nps_2norm(yexact_k_v1)\n",
    "relerr = abserr / mag\n",
    "\n",
    "from mpi4py import MPI\n",
    "comm = MPI.COMM_WORLD\n",
    "# assuming order in the allgather is the same\n",
    "coords = comm.allgather(ycoord)\n",
    "numerical = comm.allgather(yvals)\n",
    "\n",
    "\n",
    "if rank == 0:\n",
    "    # build matplot lib graph of result only on proc 0\n",
    "\n",
    "    # 1st build exact solution hiRes\n",
    "    big = np.linspace(ymin,ymax)\n",
    "    cool = exactFunc(big, h, k, c0, c1)\n",
    "\n",
    "    %matplotlib inline\n",
    "    import matplotlib.pyplot as pyplot\n",
    "    import matplotlib.pylab as pylab\n",
    "    pylab.rcParams[ 'figure.figsize'] = 12, 6\n",
    "    pyplot.plot(coords, numerical, 'o', color = 'black', label='numerical') \n",
    "    pyplot.plot(big, cool, color = 'red', label=\"exact\") \n",
    "    pyplot.xlabel('Y coords')\n",
    "    pyplot.ylabel('Temperature')\n",
    "    pyplot.show()\n",
    "\n",
    "if rank == 0:\n",
    "    threshold = 3.0e-4\n",
    "    yspot = ymin\n",
    "    print \"Numerical flux at y = \" ,yspot,\"is\", tField.fn_gradient.evaluate([0.2,yspot])[0][1]\n",
    "    print \"Exact flux at y=\" ,yspot,\"is\", exactDeriv(yspot,h,k,c0)\n",
    "    print \"\\n|T - T_analytic|_2 = {0:.3e}\\n\\n|T|_2 = {1:.3e}\\n\".format(abserr, mag)\n",
    "    print \"Rel. error = {0:.3e}\".format(relerr)\n",
    "    if relerr > threshold:\n",
    "        raise RuntimeError(\"The numerical solution is outside the error threshold of the analytic solution.\" \\\n",
    "                           \"The Relative error was \", relerr,\" the threshold is \", threshold)  \n",
    "        import sys\n",
    "        sys.exit(1)"
   ]
  },
  {
   "cell_type": "code",
   "execution_count": null,
   "metadata": {
    "collapsed": true
   },
   "outputs": [],
   "source": []
  }
 ],
 "metadata": {
  "kernelspec": {
   "display_name": "Python 2",
   "language": "python",
   "name": "python2"
  },
  "language_info": {
   "codemirror_mode": {
    "name": "ipython",
    "version": 2
   },
   "file_extension": ".py",
   "mimetype": "text/x-python",
   "name": "python",
   "nbconvert_exporter": "python",
   "pygments_lexer": "ipython2",
   "version": "2.7.11+"
  }
 },
 "nbformat": 4,
 "nbformat_minor": 0
}
