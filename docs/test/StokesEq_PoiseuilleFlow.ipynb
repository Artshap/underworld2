{
 "cells": [
  {
   "cell_type": "markdown",
   "metadata": {
    "collapsed": true
   },
   "source": [
    "### Example of a 1D Channel driven flow\n",
    "\n",
    "Model Setup\n",
    "-----------\n",
    "\n",
    "2D, Stokes Equation with noslip BC at top and bottom boundary and a lateral pressure gradient driving the flow, a.k.a. Poiseuille Flow.\n",
    "\n",
    "\\\\[\n",
    "\\frac{\\partial \\tau}{\\partial y} = \\mu \\frac{\\partial^{2} \\mathbf{u}}{\\partial{y}^{2}} = - \\frac{\\partial p}{\\partial x}\n",
    "\\\\]\n",
    "\n",
    "\\\\[\n",
    "\\nabla \\cdot \\mathbf{u} = 0\n",
    "\\\\]\n",
    "\n",
    "with $ x_{a} \\leqslant x \\leqslant x_{b} $ and $ 0.0 \\leqslant y \\leqslant h $\n",
    "\n",
    "Boundary conditions:\n",
    "\n",
    " * $\\mathbf{u}(x,y=h) = \\mathbf{u}(x,y=0) = \\left[0,0 \\right]$\n",
    " * $P(x_a) = P_a$\n",
    " * $P(x_b) = P_b $\n",
    "\n",
    "------\n",
    "\n",
    "A 1D solution in $y$-axis, described by\n",
    "\n",
    "$ \\mathbf{u}(x,y) =  \\left[ -\\frac{1}{2 \\mu} \\frac{\\partial p }{\\partial x} ( y^{2} - h y ), 0.0 \\right]$"
   ]
  },
  {
   "cell_type": "markdown",
   "metadata": {},
   "source": [
    "We implement the above boundary conditions using:\n",
    " * a `DirichletCondition` object for $\\mathbf{u}(x,y=1) = \\mathbf{u}(x,y=0) = \\left[0,0 \\right]$\n",
    " * a `NeumannCondition` object for $P(x_a) = P_a$ & $P(x_b) = P_b $\n",
    "\n",
    "The `NeumannCondition` object, used with the `Stokes` object, defines a stress along a boundary such that:\n",
    "  * $ \\sigma_{ij} n_{j} = \\phi_{i} $ on $ \\Gamma_{\\phi} $\n",
    "\n",
    "  where \n",
    "    * $u$ is the velocity vector, \n",
    "    * $n$ is the surface normal pointing outwards,\n",
    "    * $ \\sigma_{ij} $ is the prescribed symmetric stress tensor, at $ \\Gamma_{\\phi} $(i.e. 3 components in 2D, 6 components in 3D), resulting in a surface traction $\\phi_{i}$ on the given boundary."
   ]
  },
  {
   "cell_type": "code",
   "execution_count": 1,
   "metadata": {
    "collapsed": false
   },
   "outputs": [
    {
     "data": {
      "text/html": [
       "<link rel=\"stylesheet\" type=\"text/css\" href=\"html/control.css\">\n",
       "\n",
       "<script id=\"line-fs\" type=\"x-shader/x-fragment\">\n",
       "precision highp float;\n",
       "varying vec4 vColour;\n",
       "void main(void)\n",
       "{\n",
       "  gl_FragColor = vColour;\n",
       "}\n",
       "</script>\n",
       "\n",
       "<script id=\"line-vs\" type=\"x-shader/x-vertex\">\n",
       "precision highp float;\n",
       "//Line vertex shader\n",
       "attribute vec3 aVertexPosition;\n",
       "uniform mat4 uMVMatrix;\n",
       "uniform mat4 uPMatrix;\n",
       "uniform vec4 uColour;\n",
       "varying vec4 vColour;\n",
       "void main(void)\n",
       "{\n",
       "  vec4 mvPosition = uMVMatrix * vec4(aVertexPosition, 1.0);\n",
       "  gl_Position = uPMatrix * mvPosition;\n",
       "  vColour = uColour;\n",
       "}\n",
       "</script>\n"
      ],
      "text/plain": [
       "<IPython.core.display.HTML object>"
      ]
     },
     "metadata": {},
     "output_type": "display_data"
    },
    {
     "data": {
      "application/javascript": [
       "\n",
       "            require.config({baseUrl: 'html',\n",
       "                            paths: {'control': [\"control\"],\n",
       "                                    'ok': [\"OK-min\"],\n",
       "                                    'gl-matrix': [\"gl-matrix-min\"],\n",
       "                                    'drawbox': [\"drawbox\"]\n",
       "                                   }\n",
       "                           }\n",
       "                          );\n",
       "\n",
       "            require([\"control\", \"ok\", \"gl-matrix\", \"drawbox\"], function() {\n",
       "                console.log(\"Loaded scripts\");\n",
       "                \n",
       "                return {};\n",
       "            });\n",
       "            "
      ],
      "text/plain": [
       "<IPython.core.display.Javascript object>"
      ]
     },
     "metadata": {},
     "output_type": "display_data"
    }
   ],
   "source": [
    "import underworld as uw\n",
    "from underworld import function as fn\n",
    "import glucifer\n",
    "import math\n",
    "import numpy as np\n",
    "\n",
    "# for machines without matplotlib #\n",
    "make_graphs = True\n",
    "try:\n",
    "    import matplotlib\n",
    "except ImportError:\n",
    "    make_graphs=False"
   ]
  },
  {
   "cell_type": "markdown",
   "metadata": {},
   "source": [
    "Setup parameters\n",
    "-----"
   ]
  },
  {
   "cell_type": "code",
   "execution_count": 2,
   "metadata": {
    "collapsed": false
   },
   "outputs": [],
   "source": [
    "# domain height\n",
    "h = 1.0\n",
    "# Set a constant viscosity.\n",
    "viscosity = 1.4\n",
    "\n",
    "# position of walls and associated pressure on walls\n",
    "xa = -1.0\n",
    "xb = 1.0\n",
    "pa = -2.0\n",
    "pb = 1.0"
   ]
  },
  {
   "cell_type": "code",
   "execution_count": 3,
   "metadata": {
    "collapsed": false
   },
   "outputs": [],
   "source": [
    "mesh = uw.mesh.FeMesh_Cartesian( elementType = (\"Q1/dQ0\"), \n",
    "                                 elementRes  = (128, 128), \n",
    "                                 minCoord    = (xa, 0.), \n",
    "                                 maxCoord    = (xb, h))\n",
    "\n",
    "velocityField   = uw.mesh.MeshVariable( mesh=mesh,         nodeDofCount=2 )\n",
    "pressureField   = uw.mesh.MeshVariable( mesh=mesh.subMesh, nodeDofCount=1 )\n",
    "appliedStressField = uw.mesh.MeshVariable( mesh=mesh,      nodeDofCount=3 )\n",
    "\n",
    "# initialise velocity, pressure field\n",
    "velocityField.data[:] = [0.,0.]\n",
    "pressureField.data[:] = 0."
   ]
  },
  {
   "cell_type": "code",
   "execution_count": 4,
   "metadata": {
    "collapsed": false
   },
   "outputs": [],
   "source": [
    "jWalls = mesh.specialSets[\"MinJ_VertexSet\"] + mesh.specialSets[\"MaxJ_VertexSet\"]\n",
    "iWalls = mesh.specialSets[\"MinI_VertexSet\"] + mesh.specialSets[\"MaxI_VertexSet\"]\n",
    "allWalls = iWalls + jWalls"
   ]
  },
  {
   "cell_type": "code",
   "execution_count": 5,
   "metadata": {
    "collapsed": false
   },
   "outputs": [
    {
     "name": "stdout",
     "output_type": "stream",
     "text": [
      "1.5\n"
     ]
    }
   ],
   "source": [
    "vBC = uw.conditions.DirichletCondition( variable = velocityField, \n",
    "                                        indexSetsPerDof = (jWalls, allWalls) )\n",
    "\n",
    "dp_dx = (pb-pa)/(xb-xa)\n",
    "\n",
    "appliedStressField.data[mesh.specialSets[\"MinI_VertexSet\"].data] = (pa,0.0,0.0)\n",
    "\n",
    "appliedStressField.data[mesh.specialSets[\"MaxI_VertexSet\"].data] = (pb,0.0,0.0)\n",
    "# This stress is multiplied by the wall normal to produce a surface force, via divergence-theorem\n",
    "# The left wall normal unit vector is (-1,0)\n",
    "# The right wall normal unit vector is (1,0)\n",
    "# stress_i_j * normal_j = surface_force\n",
    "\n",
    "nbc = uw.conditions.NeumannCondition( appliedStressField, \n",
    "                                      variable=velocityField,\n",
    "                                      nodeIndexSet=(iWalls) )\n",
    "print dp_dx"
   ]
  },
  {
   "cell_type": "code",
   "execution_count": 6,
   "metadata": {
    "collapsed": false
   },
   "outputs": [],
   "source": [
    "stokes = uw.systems.Stokes( velocityField = velocityField, \n",
    "                            pressureField = pressureField,\n",
    "                            conditions    = [vBC, nbc],\n",
    "                            fn_viscosity   = viscosity, \n",
    "                            fn_bodyforce   = 0.0 )\n",
    "\n",
    "solver = uw.systems.Solver( stokes )\n",
    "solver.solve()"
   ]
  },
  {
   "cell_type": "code",
   "execution_count": 7,
   "metadata": {
    "collapsed": false
   },
   "outputs": [
    {
     "data": {
      "text/html": [
       "<img src='data:image/png;base64,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'>"
      ],
      "text/plain": [
       "<IPython.core.display.HTML object>"
      ]
     },
     "metadata": {},
     "output_type": "display_data"
    }
   ],
   "source": [
    "fig = glucifer.Figure()\n",
    "velmagfield = uw.function.math.sqrt( uw.function.math.dot( velocityField, velocityField ) )\n",
    "fig.append( glucifer.objects.VectorArrows(mesh, velocityField, arrowHead=0.2, scaling=0.5) )\n",
    "# fig.append( glucifer.objects.Mesh(mesh) )\n",
    "fig.append( glucifer.objects.Surface( mesh, pressureField ) )\n",
    "fig.show()"
   ]
  },
  {
   "cell_type": "code",
   "execution_count": 8,
   "metadata": {
    "collapsed": false
   },
   "outputs": [],
   "source": [
    "ids = mesh.specialSets[\"MaxI_VertexSet\"]\n",
    "coords = mesh.data[ids.data] # xcoords\n",
    "V = velocityField.evaluate(ids)\n",
    "gradV = velocityField.fn_gradient.evaluate(ids)\n",
    "\n",
    "u = V[:,0] ; v = V[:,1]\n",
    "du_dx = gradV[:,0] ; du_dy = gradV[:,1]\n",
    "dv_dx = gradV[:,2] ; dv_dy = gradV[:,3]\n",
    "\n",
    "strainRate = fn.tensor.symmetric( velocityField.fn_gradient )\n",
    "devstress = 2.0 * viscosity * strainRate"
   ]
  },
  {
   "cell_type": "code",
   "execution_count": 9,
   "metadata": {
    "collapsed": true
   },
   "outputs": [],
   "source": [
    "def exact_vx(y):\n",
    "    ana_u = -1.0 / (2.0 * viscosity)* dp_dx * (y**2 - h*y)\n",
    "    return ana_u\n",
    "\n",
    "def exact_shearSR(y):\n",
    "    shearSR = - dp_dx / (2.0*viscosity) * (y - h/2 )\n",
    "    return shearSR"
   ]
  },
  {
   "cell_type": "code",
   "execution_count": 10,
   "metadata": {
    "collapsed": false
   },
   "outputs": [
    {
     "name": "stderr",
     "output_type": "stream",
     "text": [
      "/Users/jmansour/virtualenvs/general/lib/python2.7/site-packages/matplotlib/font_manager.py:273: UserWarning: Matplotlib is building the font cache using fc-list. This may take a moment.\n",
      "  warnings.warn('Matplotlib is building the font cache using fc-list. This may take a moment.')\n"
     ]
    },
    {
     "data": {
      "image/png": "[encoded data removed]",
      "text/plain": [
       "<matplotlib.figure.Figure at 0x10dbafe90>"
      ]
     },
     "metadata": {},
     "output_type": "display_data"
    }
   ],
   "source": [
    "if make_graphs:\n",
    "    uw.matplotlib_inline()\n",
    "    import matplotlib.pyplot as pyplot\n",
    "    import matplotlib.pylab as pylab\n",
    "    pyplot.ion() # needed to ensure pure python jobs do now hang on show()\n",
    "\n",
    "    pylab.rcParams[ 'figure.figsize'] = 12, 6\n",
    "    pyplot.plot(coords[:,1], u, 'o', color = 'green', label='vx')\n",
    "    pyplot.plot(coords[:,1], v, 'o', color = 'red', label='vy')\n",
    "    big = np.linspace(0.0,h)\n",
    "    pyplot.plot(big, exact_vx(big), 'D', color = 'purple', label='exact_vx', markersize=2)\n",
    "    pyplot.legend()\n",
    "    pyplot.xlabel('y coords at x=xmax')\n",
    "    pyplot.ylabel('velocity')\n",
    "    pyplot.show()"
   ]
  },
  {
   "cell_type": "code",
   "execution_count": 11,
   "metadata": {
    "collapsed": false
   },
   "outputs": [
    {
     "name": "stdout",
     "output_type": "stream",
     "text": [
      "Relative error against analytic solution: 1.57597646396e-06\n"
     ]
    }
   ],
   "source": [
    "ana_u = exact_vx(coords[:,1])\n",
    "\n",
    "abserr = uw.utils._nps_2norm(ana_u - u)\n",
    "mag = uw.utils._nps_2norm(ana_u)\n",
    "relerr = abserr / mag\n",
    "\n",
    "from mpi4py import MPI\n",
    "comm = MPI.COMM_WORLD\n",
    "\n",
    "\n",
    "if uw.rank() == 0:\n",
    "    threshold = 1.0e-4\n",
    "    print \"Relative error against analytic solution:\", relerr\n",
    "    if relerr > threshold:\n",
    "        raise RuntimeError(\"The numerical solution is outside the error threshold of the analytic solution.\" \\\n",
    "                           \"The Relative error was \", relerr,\" the threshold is \", threshold)"
   ]
  },
  {
   "cell_type": "code",
   "execution_count": 12,
   "metadata": {
    "collapsed": false
   },
   "outputs": [],
   "source": [
    "# Further analytics\n",
    "# pyplot.plot(coords[:,1], du_dy, 'o', color = 'purple', label='du_dy')\n",
    "# pyplot.plot(coords[:,1], du_dx, '+', color = 'black', label='du_dx')\n",
    "# pyplot.plot(coords[:,1], dv_dy, 'x', color = 'orange', label='dv_dy')\n",
    "# pyplot.plot(coords[:,1], dv_dx, '.', color = 'red', label='dv_dx')\n",
    "# pyplot.legend()\n",
    "# pyplot.xlabel('y coords at x=xmax')\n",
    "# pyplot.ylabel('velocity gradients')\n",
    "# pyplot.show()"
   ]
  },
  {
   "cell_type": "code",
   "execution_count": 13,
   "metadata": {
    "collapsed": false
   },
   "outputs": [],
   "source": [
    "# Further analytics\n",
    "# pyplot.plot(coords[:,1], sr, '-', label='exact_shearSR')\n",
    "# pyplot.plot(coords[:,1], strainRate.evaluate(ids)[:,2], 'o', color = 'purple', label='sr_shear')\n",
    "# pyplot.plot(coords[:,1], devstress.evaluate(ids)[:,2], '+', label='tau_shear')\n",
    "# pyplot.legend()\n",
    "# pyplot.xlabel('y coords at x=xmax')\n",
    "# pyplot.ylabel('strain rate')\n",
    "# pyplot.show()"
   ]
  }
 ],
 "metadata": {
  "kernelspec": {
   "display_name": "Python 2",
   "language": "python",
   "name": "python2"
  },
  "language_info": {
   "codemirror_mode": {
    "name": "ipython",
    "version": 2
   },
   "file_extension": ".py",
   "mimetype": "text/x-python",
   "name": "python",
   "nbconvert_exporter": "python",
   "pygments_lexer": "ipython2",
   "version": "2.7.10"
  }
 },
 "nbformat": 4,
 "nbformat_minor": 0
}
