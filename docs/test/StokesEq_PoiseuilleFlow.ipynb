{
 "metadata": {
  "kernelspec": {
   "display_name": "Python 2",
   "language": "python",
   "name": "python2"
  },
  "language_info": {
   "codemirror_mode": {
    "name": "ipython",
    "version": 2
   },
   "file_extension": ".py",
   "mimetype": "text/x-python",
   "name": "python",
   "nbconvert_exporter": "python",
   "pygments_lexer": "ipython2",
   "version": "2.7.11+"
  },
  "name": ""
 },
 "nbformat": 3,
 "nbformat_minor": 0,
 "worksheets": [
  {
   "cells": [
    {
     "cell_type": "markdown",
     "metadata": {
      "collapsed": true
     },
     "source": [
      "### Example of a 1D Channel driven flow\n",
      "\n",
      "Model Setup\n",
      "-----------\n",
      "\n",
      "2D, Stokes Equation with noslip BC at top and bottom boundary and a lateral pressure gradient driving the flow, a.k.a. Poiseuille Flow.\n",
      "\n",
      "\\\\[\n",
      "\\frac{\\partial \\tau}{\\partial y} = \\mu \\frac{\\partial^{2} \\mathbf{u}}{\\partial{y}^{2}} = - \\frac{\\partial p}{\\partial x}\n",
      "\\\\]\n",
      "\n",
      "\\\\[\n",
      "\\nabla \\cdot \\mathbf{u} = 0\n",
      "\\\\]\n",
      "\n",
      "with $ x_{a} \\leqslant x \\leqslant x_{b} $ and $ 0.0 \\leqslant y \\leqslant h $\n",
      "\n",
      "Boundary conditions:\n",
      "\n",
      " * $\\mathbf{u}(x,y=h) = \\mathbf{u}(x,y=0) = \\left[0,0 \\right]$\n",
      " * $P(x_a) = P_a$\n",
      " * $P(x_b) = P_b $\n",
      "\n",
      "------\n",
      "\n",
      "A 1D solution in $y$-axis, described by\n",
      "\n",
      "$ \\mathbf{u}(x,y) =  \\left[ -\\frac{1}{2 \\mu} \\frac{\\partial p }{\\partial x} ( y^{2} - h y ), 0.0 \\right]$"
     ]
    },
    {
     "cell_type": "markdown",
     "metadata": {},
     "source": [
      "We implement the above boundary conditions using:\n",
      " * a `DirichletCondition` object for $\\mathbf{u}(x,y=1) = \\mathbf{u}(x,y=0) = \\left[0,0 \\right]$\n",
      " * a `NeumannCondition` object for $P(x_a) = P_a$ & $P(x_b) = P_b $\n",
      "\n",
      "The `NeumannCondition` object, used with the `Stokes` object, defines a stress along a boundary such that:\n",
      "  * $ \\sigma_{ij} n_{j} = \\phi_{i} $ on $ \\Gamma_{\\phi} $\n",
      "\n",
      "  where \n",
      "    * $u$ is the velocity vector, \n",
      "    * $n$ is the surface normal pointing outwards,\n",
      "    * $ \\sigma_{ij} $ is the prescribed symmetric stress tensor, at $ \\Gamma_{\\phi} $(i.e. 3 components in 2D, 6 components in 3D), resulting in a surface traction $\\phi_{i}$ on the given boundary."
     ]
    },
    {
     "cell_type": "code",
     "collapsed": false,
     "input": [
      "import underworld as uw\n",
      "from underworld import function as fn\n",
      "import glucifer\n",
      "import math\n",
      "import numpy as np\n",
      "\n",
      "# for machines without matplotlib #\n",
      "make_graphs = True\n",
      "try:\n",
      "    import matplotlib\n",
      "except ImportError:\n",
      "    make_graphs=False"
     ],
     "language": "python",
     "metadata": {},
     "outputs": [],
     "prompt_number": 1
    },
    {
     "cell_type": "markdown",
     "metadata": {},
     "source": [
      "Setup parameters\n",
      "-----"
     ]
    },
    {
     "cell_type": "code",
     "collapsed": false,
     "input": [
      "# domain height\n",
      "h = 1.0\n",
      "# Set a constant viscosity.\n",
      "viscosity = 1.4\n",
      "\n",
      "# position of walls and associated pressure on walls\n",
      "xa = -1.0\n",
      "xb = 1.0\n",
      "pa = -2.0\n",
      "pb = 1.0"
     ],
     "language": "python",
     "metadata": {},
     "outputs": [],
     "prompt_number": 2
    },
    {
     "cell_type": "code",
     "collapsed": false,
     "input": [
      "mesh = uw.mesh.FeMesh_Cartesian( elementType = (\"Q1/dQ0\"), \n",
      "                                 elementRes  = (128, 128), \n",
      "                                 minCoord    = (xa, 0.), \n",
      "                                 maxCoord    = (xb, h))\n",
      "\n",
      "velocityField   = uw.mesh.MeshVariable( mesh=mesh,         nodeDofCount=2 )\n",
      "pressureField   = uw.mesh.MeshVariable( mesh=mesh.subMesh, nodeDofCount=1 )\n",
      "appliedStressField = uw.mesh.MeshVariable( mesh=mesh,      nodeDofCount=3 )\n",
      "\n",
      "# initialise velocity, pressure field\n",
      "velocityField.data[:] = [0.,0.]\n",
      "pressureField.data[:] = 0."
     ],
     "language": "python",
     "metadata": {},
     "outputs": [],
     "prompt_number": 3
    },
    {
     "cell_type": "code",
     "collapsed": false,
     "input": [
      "jWalls = mesh.specialSets[\"MinJ_VertexSet\"] + mesh.specialSets[\"MaxJ_VertexSet\"]\n",
      "iWalls = mesh.specialSets[\"MinI_VertexSet\"] + mesh.specialSets[\"MaxI_VertexSet\"]\n",
      "allWalls = iWalls + jWalls"
     ],
     "language": "python",
     "metadata": {},
     "outputs": [],
     "prompt_number": 4
    },
    {
     "cell_type": "code",
     "collapsed": false,
     "input": [
      "vBC = uw.conditions.DirichletCondition( variable = velocityField, \n",
      "                                        indexSetsPerDof = (jWalls, allWalls) )\n",
      "\n",
      "dp_dx = (pb-pa)/(xb-xa)\n",
      "\n",
      "appliedStressField.data[mesh.specialSets[\"MinI_VertexSet\"].data] = (pa,0.0,0.0)\n",
      "\n",
      "appliedStressField.data[mesh.specialSets[\"MaxI_VertexSet\"].data] = (pb,0.0,0.0)\n",
      "# This stress is multiplied by the wall normal to produce a surface force, via divergence-theorem\n",
      "# The left wall normal unit vector is (-1,0)\n",
      "# The right wall normal unit vector is (1,0)\n",
      "# stress_i_j * normal_j = surface_force\n",
      "\n",
      "nbc = uw.conditions.NeumannCondition( appliedStressField, \n",
      "                                      variable=velocityField,\n",
      "                                      nodeIndexSet=(iWalls) )\n",
      "print dp_dx"
     ],
     "language": "python",
     "metadata": {},
     "outputs": [
      {
       "output_type": "stream",
       "stream": "stdout",
       "text": [
        "1.5\n"
       ]
      }
     ],
     "prompt_number": 5
    },
    {
     "cell_type": "code",
     "collapsed": false,
     "input": [
      "stokes = uw.systems.Stokes( velocityField = velocityField, \n",
      "                            pressureField = pressureField,\n",
      "                            conditions    = [vBC, nbc],\n",
      "                            fn_viscosity   = viscosity, \n",
      "                            fn_bodyforce   = 0.0 )\n",
      "\n",
      "solver = uw.systems.Solver( stokes )\n",
      "solver.solve()"
     ],
     "language": "python",
     "metadata": {},
     "outputs": [],
     "prompt_number": 6
    },
    {
     "cell_type": "code",
     "collapsed": false,
     "input": [
      "fig = glucifer.Figure()\n",
      "velmagfield = uw.function.math.sqrt( uw.function.math.dot( velocityField, velocityField ) )\n",
      "fig.append( glucifer.objects.VectorArrows(mesh, velocityField, arrowHead=0.2, scaling=0.5) )\n",
      "# fig.append( glucifer.objects.Mesh(mesh) )\n",
      "fig.append( glucifer.objects.Surface( mesh, pressureField ) )\n",
      "fig.show()"
     ],
     "language": "python",
     "metadata": {},
     "outputs": [
      {
       "html": [
        "<img src='data:image/png;base64,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'>"
       ],
       "output_type": "display_data",
       "text": [
        "<IPython.core.display.HTML object>"
       ]
      }
     ],
     "prompt_number": 7
    },
    {
     "cell_type": "code",
     "collapsed": false,
     "input": [
      "ids = mesh.specialSets[\"MaxI_VertexSet\"]\n",
      "coords = mesh.data[ids.data] # xcoords\n",
      "V = velocityField.evaluate(ids)\n",
      "gradV = velocityField.fn_gradient.evaluate(ids)\n",
      "\n",
      "u = V[:,0] ; v = V[:,1]\n",
      "du_dx = gradV[:,0] ; du_dy = gradV[:,1]\n",
      "dv_dx = gradV[:,2] ; dv_dy = gradV[:,3]\n",
      "\n",
      "strainRate = fn.tensor.symmetric( velocityField.fn_gradient )\n",
      "devstress = 2.0 * viscosity * strainRate"
     ],
     "language": "python",
     "metadata": {},
     "outputs": [],
     "prompt_number": 8
    },
    {
     "cell_type": "code",
     "collapsed": true,
     "input": [
      "def exact_vx(y):\n",
      "    ana_u = -1.0 / (2.0 * viscosity)* dp_dx * (y**2 - h*y)\n",
      "    return ana_u\n",
      "\n",
      "def exact_shearSR(y):\n",
      "    shearSR = - dp_dx / (2.0*viscosity) * (y - h/2 )\n",
      "    return shearSR"
     ],
     "language": "python",
     "metadata": {},
     "outputs": [],
     "prompt_number": 9
    },
    {
     "cell_type": "code",
     "collapsed": false,
     "input": [
      "if make_graphs:\n",
      "    %matplotlib inline\n",
      "    import matplotlib.pyplot as pyplot\n",
      "    import matplotlib.pylab as pylab\n",
      "    pylab.rcParams[ 'figure.figsize'] = 12, 6\n",
      "    pyplot.plot(coords[:,1], u, 'o', color = 'green', label='vx')\n",
      "    pyplot.plot(coords[:,1], v, 'o', color = 'red', label='vy')\n",
      "    big = np.linspace(0.0,h)\n",
      "    pyplot.plot(big, exact_vx(big), 'D', color = 'purple', label='exact_vx', markersize=2)\n",
      "    pyplot.legend()\n",
      "    pyplot.xlabel('y coords at x=xmax')\n",
      "    pyplot.ylabel('velocity')\n",
      "    pyplot.show()"
     ],
     "language": "python",
     "metadata": {},
     "outputs": [
      {
       "output_type": "display_data",
       "png": "[encoded data removed]",
       "text": [
        "<matplotlib.figure.Figure at 0x7f22fa028f90>"
       ]
      }
     ],
     "prompt_number": 10
    },
    {
     "cell_type": "code",
     "collapsed": false,
     "input": [
      "ana_u = exact_vx(coords[:,1])\n",
      "\n",
      "abserr = uw.utils._nps_2norm(ana_u - u)\n",
      "mag = uw.utils._nps_2norm(ana_u)\n",
      "relerr = abserr / mag\n",
      "\n",
      "from mpi4py import MPI\n",
      "comm = MPI.COMM_WORLD\n",
      "\n",
      "\n",
      "if uw.rank() == 0:\n",
      "    threshold = 1.0e-4\n",
      "    print \"Relative error against analytic solution:\", relerr\n",
      "    if relerr > threshold:\n",
      "        raise RuntimeError(\"The numerical solution is outside the error threshold of the analytic solution.\" \\\n",
      "                           \"The Relative error was \", relerr,\" the threshold is \", threshold)"
     ],
     "language": "python",
     "metadata": {},
     "outputs": [
      {
       "output_type": "stream",
       "stream": "stdout",
       "text": [
        "Relative error against analytic solution: 1.57597647695e-06\n"
       ]
      }
     ],
     "prompt_number": 11
    },
    {
     "cell_type": "code",
     "collapsed": false,
     "input": [
      "# Further analytics\n",
      "# pyplot.plot(coords[:,1], du_dy, 'o', color = 'purple', label='du_dy')\n",
      "# pyplot.plot(coords[:,1], du_dx, '+', color = 'black', label='du_dx')\n",
      "# pyplot.plot(coords[:,1], dv_dy, 'x', color = 'orange', label='dv_dy')\n",
      "# pyplot.plot(coords[:,1], dv_dx, '.', color = 'red', label='dv_dx')\n",
      "# pyplot.legend()\n",
      "# pyplot.xlabel('y coords at x=xmax')\n",
      "# pyplot.ylabel('velocity gradients')\n",
      "# pyplot.show()"
     ],
     "language": "python",
     "metadata": {},
     "outputs": [],
     "prompt_number": 12
    },
    {
     "cell_type": "code",
     "collapsed": false,
     "input": [
      "# Further analytics\n",
      "# pyplot.plot(coords[:,1], sr, '-', label='exact_shearSR')\n",
      "# pyplot.plot(coords[:,1], strainRate.evaluate(ids)[:,2], 'o', color = 'purple', label='sr_shear')\n",
      "# pyplot.plot(coords[:,1], devstress.evaluate(ids)[:,2], '+', label='tau_shear')\n",
      "# pyplot.legend()\n",
      "# pyplot.xlabel('y coords at x=xmax')\n",
      "# pyplot.ylabel('strain rate')\n",
      "# pyplot.show()"
     ],
     "language": "python",
     "metadata": {},
     "outputs": [],
     "prompt_number": 13
    }
   ],
   "metadata": {}
  }
 ]
}
