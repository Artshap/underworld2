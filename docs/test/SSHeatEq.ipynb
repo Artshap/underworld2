{
 "cells": [
  {
   "cell_type": "markdown",
   "metadata": {},
   "source": [
    "## The Steady State Heat solver\n",
    "\n",
    "-----------\n",
    "\n",
    "2D, Steady Heat Equation with no variation in the x direction\n",
    "\n",
    "\\\\[\n",
    "0 = k \\frac{\\partial^2 T}{\\partial y^2}+H\n",
    "\\\\]\n",
    "\n",
    "\\\\[\n",
    "\\frac{\\partial T}{\\partial x} = 0\n",
    "\\\\]\n",
    "\n",
    "with $0 \\leqslant x \\leqslant 1 $ and $ y_{0}\\leqslant y \\leqslant y_{1}$\n",
    "\n",
    "\n",
    "Two models are presented below, each with an analytic solution that the numerical results are tested against.\n",
    "\n",
    "The general solution is:\n",
    "\n",
    "$ T = -\\frac{h}{2 k}y^{2} + c_{0}y + c_{1} $\n",
    "\n",
    "where $c_{0}, c_{1}$ are arbitrary constants found by applying each model's boundary conditions"
   ]
  },
  {
   "cell_type": "code",
   "execution_count": 1,
   "metadata": {
    "collapsed": true
   },
   "outputs": [],
   "source": [
    "# # analytic solution definitions\n",
    "def analyticTemperature(y, h, k, c0, c1):\n",
    "     return -h/(2*k)*y*y + c0*y + c1\n",
    "\n",
    "def exactDeriv(y, h, k, c0):\n",
    "    return -h/k*y + c0"
   ]
  },
  {
   "cell_type": "code",
   "execution_count": 2,
   "metadata": {
    "collapsed": false
   },
   "outputs": [],
   "source": [
    "import underworld as uw\n",
    "import glucifer\n",
    "import numpy as np\n",
    "rank = uw.rank()\n",
    "\n",
    "# for machines without matplotlib #\n",
    "make_graphs = True\n",
    "try:\n",
    "    import matplotlib\n",
    "except ImportError:\n",
    "    make_graphs=False\n",
    "\n",
    "# depth range\n",
    "y0 = -.60\n",
    "y1 = 1.3\n",
    "\n",
    "# build mesh and fields\n",
    "mesh = uw.mesh.FeMesh_Cartesian( elementType = (\"Q1\"), \n",
    "                                 elementRes  = (10, 20), \n",
    "                                 minCoord    = (0., y0), \n",
    "                                 maxCoord    = (1., y1))\n",
    "\n",
    "tField    = uw.mesh.MeshVariable(mesh=mesh, nodeDofCount=1, dataType='double')\n",
    "topWall = mesh.specialSets['MaxJ_VertexSet']\n",
    "bottomWall = mesh.specialSets['MinJ_VertexSet']"
   ]
  },
  {
   "cell_type": "markdown",
   "metadata": {
    "collapsed": true
   },
   "source": [
    "## Model 1)\n",
    "\n",
    "\n",
    "2D, Heat Equation with a Dirichlet BC (top) and a Neumann BC (bottom).\n",
    "\n",
    "$T(x,y_{1}) = T_{1}$\n",
    "\n",
    "$ -k\\nabla{T} \\mid _{y_{0}} = \\left[\\,0.0,\\,f\\,\\right] $\n",
    "\n",
    "\n",
    "------\n",
    "\n",
    "Effectively a 1D problem in $y$-axis - arbitrary constants are:\n",
    "\n",
    "$c_{0} = -f + \\frac{h}{k}y_{0}$\n",
    "\n",
    "$c_{1} = T_{1} + \\frac{h}{2 k}y_{1}^2 - c_{0}y_{1} $\n",
    "\n",
    "------\n",
    "\n",
    "We implement the above boundary conditions using: \n",
    " * a `DirichletCondition` for $T(y_{1})=T_{1}$\n",
    " * a `NeumannCondition` object for $ -k\\nabla{T}\\mid_{y_{0}} = \\left[\\,0.0,\\,f\\,\\right] $\n",
    "\n",
    "The `NeumannCondition` object, used with the `SteadyStateHeat` object, defines a $T$ flux along a boundary such that:\n",
    "  * $ k\\nabla T \\cdot n = h $ on $ \\Gamma_{h} $\n",
    "  \n",
    "    where:  \n",
    "      $\\Gamma_{h}$ is the set of vertices along the surface of the domain,  \n",
    "      $ n $ is the unit normal facing outwards from the surface (at $n\\mid_{y_{0}}=\\left[0,-1\\right]$)  \n",
    "      $ k \\nabla T $ is the flux vector prescribed on the surface.\n",
    "\n",
    "An example implementation  \n",
    "\n",
    "```nbc = uw.conditions.NeumannCondition( flux=[0.0,f], variable=tField,\n",
    "                                      nodeIndexSet=mesh.specialSets[\"MinJ_VertexSet\"] )```\n",
    "\n",
    "Applies a flux vector [0.0, f] to the `tField` over the boundary vertices in the set `nodeIndexSet`. The outward facing normal along `nodeIndexSet` is used to calculate the $h$."
   ]
  },
  {
   "cell_type": "code",
   "execution_count": 3,
   "metadata": {
    "collapsed": false
   },
   "outputs": [],
   "source": [
    "T1 = 8.0       # surface temperature\n",
    "k = 0.70        # diffusivity\n",
    "h = 9.0     # heat production, source term\n",
    "f = -5.23 \n",
    "\n",
    "# analytic solution definitions\n",
    "# 1 dirichlet conditions (top) + 1 neumann (bottom)\n",
    "c0 = 1.0/k*(h*y0-f)\n",
    "c1 = T1 + h/(2.0*k)*y1**2 - c0*y1"
   ]
  },
  {
   "cell_type": "code",
   "execution_count": 4,
   "metadata": {
    "collapsed": false
   },
   "outputs": [],
   "source": [
    "for ii in topWall:\n",
    "    tField.data[ii] = T1\n",
    "\n",
    "# define neumann condition\n",
    "nbc = uw.conditions.NeumannCondition( flux=[0.0,f], \n",
    "                                      variable=tField, \n",
    "                                      nodeIndexSet=(bottomWall) )\n",
    "\n",
    "# flag the dirichlet conditions on the topWall only\n",
    "bc = uw.conditions.DirichletCondition(tField, indexSetsPerDof=(topWall) )\n",
    "\n",
    "# define heat eq. system\n",
    "ss = uw.systems.SteadyStateHeat( temperatureField  = tField,\n",
    "                                 fn_diffusivity = k,\n",
    "                                 fn_heating     = h,\n",
    "                                 conditions     = [bc, nbc] ) "
   ]
  },
  {
   "cell_type": "code",
   "execution_count": 5,
   "metadata": {
    "collapsed": true
   },
   "outputs": [],
   "source": [
    "solver = uw.systems.Solver(ss)\n",
    "solver.solve()"
   ]
  },
  {
   "cell_type": "code",
   "execution_count": 6,
   "metadata": {
    "collapsed": false,
    "scrolled": false
   },
   "outputs": [
    {
     "data": {
      "image/png": "[encoded data removed]",
      "text/plain": [
       "<matplotlib.figure.Figure at 0x7fccd0e8ef90>"
      ]
     },
     "metadata": {},
     "output_type": "display_data"
    },
    {
     "name": "stdout",
     "output_type": "stream",
     "text": [
      "Numerical flux at y =  -0.6 is 6.86069927417\n",
      "Exact     flux at y =  -0.6 is 7.47142857143\n",
      "|T - T_analytic|_2 = 1.997e-04\n",
      "\n",
      "|T|_2 = 7.569e+01\n",
      "\n",
      "Rel. error = 2.638e-06\n"
     ]
    }
   ],
   "source": [
    "# create numpy arrays for analytics\n",
    "yvals       = np.zeros(len(mesh.specialSets['MinI_VertexSet'].data))\n",
    "ycoord      = np.zeros_like(yvals)\n",
    "analytic    = np.zeros_like(yvals)\n",
    "\n",
    "ids = mesh.specialSets['MinI_VertexSet']\n",
    "yvals[:] = tField.evaluate(ids).T\n",
    "\n",
    "ycoord = tField.mesh.data[ids.data,[1]]\n",
    "analytic = analyticTemperature(ycoord, h, k, c0, c1)\n",
    "\n",
    "abserr = uw.utils._nps_2norm(analytic - yvals)\n",
    "mag = uw.utils._nps_2norm(analytic)\n",
    "relerr = abserr / mag\n",
    "\n",
    "from mpi4py import MPI\n",
    "comm = MPI.COMM_WORLD\n",
    "# assuming order in the allgather is the same\n",
    "coords = comm.allgather(ycoord)\n",
    "numerical = comm.allgather(yvals)\n",
    "\n",
    "if rank == 0:\n",
    "    # build matplot lib graph of result only on proc 0\n",
    "\n",
    "    # 1st build exact solution hiRes\n",
    "    big = np.linspace(y0,y1)\n",
    "    cool = analyticTemperature(big, h, k, c0, c1)\n",
    "\n",
    "    %matplotlib inline\n",
    "    import matplotlib.pyplot as pyplot\n",
    "    import matplotlib.pylab as pylab\n",
    "    pylab.rcParams[ 'figure.figsize'] = 12, 6\n",
    "    pyplot.plot(coords, numerical, 'o', color = 'black', label='numerical') \n",
    "    pyplot.plot(big, cool, color = 'red', label=\"exact\") \n",
    "    pyplot.xlabel('Y coords')\n",
    "    pyplot.ylabel('Temperature')\n",
    "    pyplot.show()\n",
    "\n",
    "\n",
    "if rank == 0:\n",
    "    threshold = 3.0e-4\n",
    "    yspot = y0\n",
    "    print \"Numerical flux at y = \" ,yspot,\"is\", tField.fn_gradient.evaluate([0.2,yspot])[0][1]\n",
    "    print \"Exact     flux at y = \" ,yspot,\"is\", exactDeriv(yspot,h,k,c0)\n",
    "    print \"|T - T_analytic|_2 = {0:.3e}\\n\\n|T|_2 = {1:.3e}\\n\".format(abserr, mag)\n",
    "    print \"Rel. error = {0:.3e}\".format(relerr)\n",
    "    if relerr > threshold:\n",
    "        raise RuntimeError(\"The numerical solution is outside the error threshold of the analytic solution.\" \\\n",
    "                           \"The Relative error was \", relerr,\" the threshold is \", threshold)"
   ]
  },
  {
   "cell_type": "markdown",
   "metadata": {
    "collapsed": true
   },
   "source": [
    "## Model 2) \n",
    "\n",
    "2D, Steady State Heat Equation with Dirichlet BC at top and bottom boundary.\n",
    "\n",
    "$T(x,y_{1}) = T_{1}$\n",
    "\n",
    "$ T(x,y_{0}) = T_{0} $\n",
    "\n",
    "------\n",
    "\n",
    "arbitrary constants are:\n",
    "\n",
    "$ c_{0} = \\frac{1}{y_{1}-y_{0}} \\left[ T_{1}-T_{0}+\\frac{h} {2k}(y_{1}^2-y_{0}^2) \\right] $\n",
    "\n",
    "$c_{1} = T_{1} + \\frac{h}{2k}y_{1}^2 - c_{0}y_{1}$\n"
   ]
  },
  {
   "cell_type": "code",
   "execution_count": 7,
   "metadata": {
    "collapsed": false
   },
   "outputs": [],
   "source": [
    "# Model parameters\n",
    "T1 = 8.0   # top surface temperature\n",
    "T0 = 4.0   # bottom surface temperature\n",
    "k = 0.50    # diffusivity\n",
    "h = 1.0e0  # heat production, source term\n",
    "\n",
    "# arbitrary constant given the 2 dirichlet conditions\n",
    "c0 = (T1-T0+h/(2*k)*(y1**2-y0**2)) / (y1-y0)\n",
    "c1 = T1 + h/(2*k)*y1**2 - c0*y1"
   ]
  },
  {
   "cell_type": "code",
   "execution_count": 8,
   "metadata": {
    "collapsed": false
   },
   "outputs": [],
   "source": [
    "# set boundary conditions\n",
    "for ii in topWall:\n",
    "    tField.data[ii] = T1\n",
    "for ii in bottomWall:\n",
    "    tField.data[ii] = T0\n",
    "\n",
    "# flag boundary conditions\n",
    "bc = uw.conditions.DirichletCondition(tField, indexSetsPerDof=(topWall+bottomWall) )\n",
    "\n",
    "# define heat eq. system\n",
    "ss = uw.systems.SteadyStateHeat( temperatureField  = tField,\n",
    "                                 fn_diffusivity = k,\n",
    "                                 fn_heating     = h,\n",
    "                                 conditions     = [bc] )"
   ]
  },
  {
   "cell_type": "code",
   "execution_count": 9,
   "metadata": {
    "collapsed": false
   },
   "outputs": [],
   "source": [
    "solver = uw.systems.Solver(ss)\n",
    "solver.solve()"
   ]
  },
  {
   "cell_type": "code",
   "execution_count": 10,
   "metadata": {
    "collapsed": false
   },
   "outputs": [],
   "source": [
    "# create numpy arrays for analytics\n",
    "yvals       = np.zeros(len(mesh.specialSets['MinI_VertexSet'].data))\n",
    "ycoord      = np.zeros_like(yvals)\n",
    "analytic    = np.zeros_like(yvals)\n",
    "\n",
    "ids = mesh.specialSets['MinI_VertexSet']\n",
    "yvals[:] = tField.evaluate(ids).T\n",
    "\n",
    "ycoord   = tField.mesh.data[ids.data,[1]]\n",
    "analytic = analyticTemperature(ycoord, h, k, c0, c1)\n",
    "\n",
    "abserr = uw.utils._nps_2norm(analytic - yvals)\n",
    "mag = uw.utils._nps_2norm(analytic)\n",
    "relerr = abserr / mag\n",
    "\n",
    "from mpi4py import MPI\n",
    "comm = MPI.COMM_WORLD\n",
    "# assuming order in the allgather is the same\n",
    "coords = comm.allgather(ycoord)\n",
    "numerical = comm.allgather(yvals)"
   ]
  },
  {
   "cell_type": "code",
   "execution_count": 11,
   "metadata": {
    "collapsed": false,
    "scrolled": false
   },
   "outputs": [
    {
     "name": "stdout",
     "output_type": "stream",
     "text": [
      "Numerical flux at y =  -0.6 is 3.91023051505\n",
      "Exact flux at y= -0.6 is 4.00526315789\n",
      "\n",
      "|T - T_analytic|_2 = 2.233e-04\n",
      "\n",
      "|T|_2 = 3.065e+01\n",
      "\n",
      "Rel. error = 7.286e-06\n"
     ]
    }
   ],
   "source": [
    "if rank == 0:\n",
    "    threshold = 3.0e-4\n",
    "    yspot = y0\n",
    "    print \"Numerical flux at y = \" ,yspot,\"is\", tField.fn_gradient.evaluate([0.2,yspot])[0][1]\n",
    "    print \"Exact flux at y=\" ,yspot,\"is\", exactDeriv(yspot,h,k,c0)\n",
    "    print \"\\n|T - T_analytic|_2 = {0:.3e}\\n\\n|T|_2 = {1:.3e}\\n\".format(abserr, mag)\n",
    "    print \"Rel. error = {0:.3e}\".format(relerr)\n",
    "    if relerr > threshold:\n",
    "        raise RuntimeError(\"The numerical solution is outside the error threshold of the analytic solution.\" \\\n",
    "                           \"The Relative error was \", relerr,\" the threshold is \", threshold)  \n",
    "        "
   ]
  },
  {
   "cell_type": "code",
   "execution_count": 12,
   "metadata": {
    "collapsed": false
   },
   "outputs": [
    {
     "data": {
      "image/png": "[encoded data removed]",
      "text/plain": [
       "<matplotlib.figure.Figure at 0x7fccd2d01b10>"
      ]
     },
     "metadata": {},
     "output_type": "display_data"
    }
   ],
   "source": [
    "\n",
    "if rank == 0:\n",
    "    # build matplot lib graph of result only on proc 0\n",
    "\n",
    "    # 1st build exact solution hiRes\n",
    "    big = np.linspace(y0,y1)\n",
    "    cool = analyticTemperature(big, h, k, c0, c1)\n",
    "\n",
    "    %matplotlib inline\n",
    "    import matplotlib.pyplot as pyplot\n",
    "    import matplotlib.pylab as pylab\n",
    "    pylab.rcParams[ 'figure.figsize'] = 12, 6\n",
    "    pyplot.plot(coords, numerical, 'o', color = 'black', label='numerical') \n",
    "    pyplot.plot(big, cool, color = 'red', label=\"exact\") \n",
    "    pyplot.xlabel('Y coords')\n",
    "    pyplot.ylabel('Temperature')\n",
    "    pyplot.show()\n"
   ]
  },
  {
   "cell_type": "code",
   "execution_count": null,
   "metadata": {
    "collapsed": true
   },
   "outputs": [],
   "source": []
  }
 ],
 "metadata": {
  "kernelspec": {
   "display_name": "Python 2",
   "language": "python",
   "name": "python2"
  },
  "language_info": {
   "codemirror_mode": {
    "name": "ipython",
    "version": 2
   },
   "file_extension": ".py",
   "mimetype": "text/x-python",
   "name": "python",
   "nbconvert_exporter": "python",
   "pygments_lexer": "ipython2",
   "version": "2.7.11+"
  }
 },
 "nbformat": 4,
 "nbformat_minor": 0
}
