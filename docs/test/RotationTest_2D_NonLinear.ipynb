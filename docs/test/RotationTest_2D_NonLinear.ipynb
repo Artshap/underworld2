{
 "cells": [
  {
   "cell_type": "markdown",
   "metadata": {},
   "source": [
    "## Test of dirichlet condition rotations in 2D curvilinear\n",
    "\n",
    "To model numerical domains that do not align with the cartesian coordinate systems (e.g. deformed boundaries, annulus or spherical shell) the definition of the velocity field (for the stokes systems) often needs to be rotated to the surface normal and tangent basis of the model domain. As Underworld's discretisation assumes a linear cartesian coordinate system we can rotate bases vectors on non aligned surfaces, using the \n",
    "`CuvilinearDirichletCondition` and the `Curvilinear_Stokes`. This notebook tests this functionality in a cartestian domain.\n",
    "\n",
    "Three driven models are:\n",
    "1. 'control' model. Using standard `DirchletCondition` & `Stokes`. \n",
    "2. model with 'general' velocity field basis vectors  i.e. (e1, e2) aligned with (x,y) axis.\n",
    "3. model with the velocity field bases 'fliped', i.e. (e1,  e2) align with (y, x) axis respectively.\n",
    "\n",
    "By comparing these models we can test the algorithm for describing the velocity dirichlet conditions in rotated frames of reference.\n",
    "\n",
    "N.B. In models `2` & `3` a proxy field for the cartesian velocity field `vc` is required to define nonlinear problems."
   ]
  },
  {
   "cell_type": "code",
   "execution_count": null,
   "metadata": {},
   "outputs": [],
   "source": [
    "import underworld as uw\n",
    "import glucifer\n",
    "import numpy as np\n",
    "from underworld import function as fn"
   ]
  },
  {
   "cell_type": "code",
   "execution_count": null,
   "metadata": {},
   "outputs": [],
   "source": [
    "# testing parameters\n",
    "VTOL      = 1e-14\n",
    "NONLINEAR = True"
   ]
  },
  {
   "cell_type": "code",
   "execution_count": null,
   "metadata": {},
   "outputs": [],
   "source": [
    "# Brunch of utility python functions for visualisation and error testing\n",
    "\n",
    "def display_vector(mesh, vec):\n",
    "    '''\n",
    "    displays the magnitude and vector arrows of the vector\n",
    "    '''\n",
    "    fig = glucifer.Figure()\n",
    "    fig.append(glucifer.objects.Mesh(mesh, segmentsPerEdge=1))\n",
    "    fig.append(glucifer.objects.Surface(mesh, fn.math.sqrt(fn.math.dot(vec,vec))))\n",
    "    fig.append(glucifer.objects.VectorArrows(mesh, vec))\n",
    "    fig.show()\n",
    "    \n",
    "def display_scalar(mesh, phi, *args, **kwargs):\n",
    "    '''\n",
    "    displays the magnitude and vector arrows of the vel\n",
    "    '''\n",
    "    fig = glucifer.Figure()\n",
    "    fig.append(glucifer.objects.Mesh(mesh, segmentsPerEdge=1))\n",
    "    fig.append(glucifer.objects.Surface(mesh, phi, **kwargs))\n",
    "    fig.show()\n",
    "\n",
    "def test_velocity(mesh, v0, v1, tol=VTOL):\n",
    "    # L2 error btw velocity fields\n",
    "    # v0 & v1 must be velocity MeshVariables ... todo\n",
    "    err_fn = v0 - v1\n",
    "    l2error_norm = np.sqrt(mesh.integrate( fn.math.pow(err_fn,2.) ))\n",
    "\n",
    "    # Error checking. Does the velocity solutions look like the pure dirichlet condition case\n",
    "    if uw.mpi.rank==0:\n",
    "        print(\"L2 error norm for velocity\", l2error_norm)\n",
    "        if np.any(l2error_norm > tol):\n",
    "            raise RuntimeError('Error are greater than tolerance of ', tol)"
   ]
  },
  {
   "cell_type": "code",
   "execution_count": null,
   "metadata": {},
   "outputs": [],
   "source": [
    "## The numerical domain setup\n",
    "# build mesh\n",
    "mesh = uw.mesh.FeMesh_Cartesian(elementRes=(40,40), minCoord=(0.,0.,), maxCoord=(1.0,1.0)  )\n",
    "\n",
    "# build fields\n",
    "vField = mesh.add_variable(nodeDofCount=2)\n",
    "pField = mesh.subMesh.add_variable(nodeDofCount=1)\n",
    "tField = mesh.add_variable(nodeDofCount=1)\n",
    "\n",
    "# definte wall and corner sets\n",
    "N = mesh.specialSets[\"MaxJ_VertexSet\"]; \n",
    "S = mesh.specialSets[\"MinJ_VertexSet\"]\n",
    "E = mesh.specialSets[\"MaxI_VertexSet\"]; \n",
    "W = mesh.specialSets[\"MinI_VertexSet\"]\n",
    "allWalls = mesh.specialSets[\"AllWalls_VertexSet\"]\n",
    "\n",
    "# set static temperature condition, which proxies for the driving force of stokes\n",
    "minR, maxR = mesh.minCoord[1], mesh.maxCoord[1]\n",
    "deltaR     = maxR - minR\n",
    "xcoord     = fn.coord()[0]\n",
    "ycoord     = (fn.coord()[1] - minR) / deltaR\n",
    "sinusoidalIC   = (1. - ycoord) + (0.2 * (fn.math.cos(xcoord * np.pi)) * fn.math.sin(ycoord * np.pi))\n",
    "tField.data[:] = sinusoidalIC.evaluate(mesh)"
   ]
  },
  {
   "cell_type": "code",
   "execution_count": null,
   "metadata": {},
   "outputs": [],
   "source": [
    "def solve_stokes( bc_conditions, viscosity ):\n",
    "    '''\n",
    "    Function to solve Stokes with either the Curvilinear stokes implementation \n",
    "    or standard Stokes implementation. \n",
    "    The choice is made depending on the input velocity condtions DirichletCondition or \n",
    "    '''\n",
    "    \n",
    "    \n",
    "    if type(bc_conditions) == uw.conditions.DirichletCondition:\n",
    "        \n",
    "        \n",
    "        stokesSLE = uw.systems.Stokes( vField, pField, \n",
    "                                   fn_viscosity = viscosity, \n",
    "                                   fn_bodyforce = (0.0,tField), \n",
    "                                   conditions   = bc_conditions, \n",
    "                                   _removeBCs   = False)\n",
    "        stokesSolver = uw.systems.Solver(stokesSLE)\n",
    "        stokesSolver.set_inner_method(\"lu\")\n",
    "        stokesSolver.solve(nonLinearIterate = True)\n",
    "        \n",
    "        \n",
    "    elif type(rvBC) in [\n",
    "                        uw.conditions.RotatedDirichletCondition, \n",
    "                        uw.conditions.CurvilinearDirichletCondition]:\n",
    "        \n",
    "        \n",
    "        stokesSLE = uw.systems.Curvilinear_Stokes( vField, pField, \n",
    "                                           fn_viscosity = viscosity,\n",
    "                                           fn_bodyforce = (0.0,tField),\n",
    "                                           conditions   = rvBC, \n",
    "                                           _removeBCs   = False)\n",
    "        \n",
    "        stokesSolver = uw.systems.Solver(stokesSLE)\n",
    "        stokesSolver.set_inner_method(\"lu\")\n",
    "\n",
    "        def postSolve():\n",
    "            # realign solution using the rotation matrix on stokes\n",
    "            uw.libUnderworld.Underworld.AXequalsY(\n",
    "                stokesSLE._rot._cself,\n",
    "                stokesSLE._velocitySol._cself,\n",
    "                vcVec._cself,\n",
    "                False\n",
    "                )\n",
    "            \n",
    "        stokesSolver.solve(nonLinearIterate=True, callback_post_solve=postSolve)\n",
    "        uw.libUnderworld.Underworld.AXequalsX( stokesSLE._rot._cself, stokesSLE._velocitySol._cself, False)"
   ]
  },
  {
   "cell_type": "code",
   "execution_count": null,
   "metadata": {},
   "outputs": [],
   "source": [
    "# display_scalar(mesh, tField)"
   ]
  },
  {
   "cell_type": "code",
   "execution_count": null,
   "metadata": {},
   "outputs": [],
   "source": [
    "# Model 1\n",
    "\n",
    "vField.data[...] = 0.\n",
    "\n",
    "vBC  = uw.conditions.DirichletCondition( variable=vField, indexSetsPerDof=(E+W,S+N))\n",
    "\n",
    "viscosity = 1.0\n",
    "if NONLINEAR:\n",
    "    viscosity = 1. + 1e3*fn.math.pow(vField[0],2)\n",
    "    \n",
    "solve_stokes(vBC, viscosity)\n",
    "\n",
    "standard_vField         = vField.copy()\n",
    "standard_vField.data[:] = vField.data[:]"
   ]
  },
  {
   "cell_type": "code",
   "execution_count": null,
   "metadata": {},
   "outputs": [],
   "source": [
    "# display_vector(vField.mesh, vField)"
   ]
  },
  {
   "cell_type": "code",
   "execution_count": null,
   "metadata": {},
   "outputs": [],
   "source": [
    "# display_scalar(mesh, viscosity)"
   ]
  },
  {
   "cell_type": "code",
   "execution_count": null,
   "metadata": {},
   "outputs": [],
   "source": [
    "# Model 2\n",
    "\n",
    "vc       = vField.copy();\n",
    "vc_eqNum = uw.systems.sle.EqNumber(vc, False)\n",
    "vcVec    = uw.systems.sle.SolutionVector(vc, vc_eqNum)\n",
    "\n",
    "if NONLINEAR:\n",
    "    # turns on the nonlinearity by making viscosity a function of vField\n",
    "    viscosity = 1.0 + 1e3*fn.math.pow(vc[0],2) + (0.*vField[0])\n",
    "    # viscosity += (0. * vField[0]) ## Will not reproduce the same result because vField is used\n",
    "\n",
    "vc.data[:] = vField.data[:] = 0. ### IMPORTANT reset the vField, starts nonlinear iterations at x_0 = 0\n",
    "\n",
    "# define cartesian basis vectors\n",
    "e_x = fn.misc.constant(1.0) * (1.,0.)\n",
    "e_y = fn.misc.constant(1.0) * (0.,1.)\n",
    "\n",
    "rvBC = uw.conditions.RotatedDirichletCondition( variable        = vField, \n",
    "                                                indexSetsPerDof = (E+W,S+N),\n",
    "                                                basis_vectors   = (e_x, e_y) )\n",
    "\n",
    "solve_stokes( rvBC, viscosity )"
   ]
  },
  {
   "cell_type": "code",
   "execution_count": null,
   "metadata": {
    "scrolled": false
   },
   "outputs": [],
   "source": [
    "# display_vector(vField.mesh, vField)"
   ]
  },
  {
   "cell_type": "code",
   "execution_count": null,
   "metadata": {},
   "outputs": [],
   "source": [
    "# # visualise the difference\n",
    "# diff = vc - standard_vField\n",
    "# display_vector(vc.mesh, diff)\n",
    "\n",
    "test_velocity(vc.mesh, vc, standard_vField)"
   ]
  },
  {
   "cell_type": "code",
   "execution_count": null,
   "metadata": {},
   "outputs": [],
   "source": [
    "# Model 3\n",
    "\n",
    "vField.data[...] = vc.data[...] = 0.\n",
    "\n",
    "rvBC = uw.conditions.RotatedDirichletCondition( variable        = vField, \n",
    "                                                indexSetsPerDof = (S+N,E+W),\n",
    "                                                basis_vectors   = (e_y, e_x) )\n",
    "\n",
    "solve_stokes( rvBC, viscosity )"
   ]
  },
  {
   "cell_type": "code",
   "execution_count": null,
   "metadata": {},
   "outputs": [],
   "source": [
    "# display_vector(vc.mesh, vc)"
   ]
  },
  {
   "cell_type": "code",
   "execution_count": null,
   "metadata": {},
   "outputs": [],
   "source": [
    "# # visualise the difference\n",
    "# diff = vc - standard_vField\n",
    "# display_vector(vc.mesh, diff)\n",
    "\n",
    "test_velocity(vc.mesh, vc, standard_vField)"
   ]
  }
 ],
 "metadata": {
  "kernelspec": {
   "display_name": "Python 3",
   "language": "python",
   "name": "python3"
  },
  "language_info": {
   "codemirror_mode": {
    "name": "ipython",
    "version": 3
   },
   "file_extension": ".py",
   "mimetype": "text/x-python",
   "name": "python",
   "nbconvert_exporter": "python",
   "pygments_lexer": "ipython3",
   "version": "3.5.3"
  }
 },
 "nbformat": 4,
 "nbformat_minor": 1
}
