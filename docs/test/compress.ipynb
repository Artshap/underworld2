{
 "cells": [
  {
   "cell_type": "markdown",
   "metadata": {},
   "source": [
    "### Example of a model with a compressible material\n",
    "\n",
    "An instantaneous 2D extension model. A compressible material is subject to lateral extension boundary conditions along the vertical walls.\n",
    "\n",
    "The compressible stokes flow equations are based on the compressible elasticity formulation: see Hughes, sec4.3, The Finite Element Method, 1987\n",
    "\n",
    "-----\n",
    "The momentum equtaion\n",
    "\n",
    "$\n",
    "    \\sigma_{i,j} = -\\mathbf{p}\\delta_{i,j} + 2 \\eta \\dot\\epsilon_{i,j} = f_{i}\n",
    "$\n",
    "\n",
    "The continuity equation\n",
    "\n",
    "$\n",
    "    \\mathbf{v}_{i,i} + \\frac{\\mathbf{p}}{\\lambda} = 0\n",
    "$ \n",
    "where:\n",
    " * $ \\dot \\epsilon_{i,j} = \\frac{1}{2}\\left[ \\mathbf{v}_{i,j} + \\mathbf{v}_{j,i} \\right ]$\n",
    " * $\\mathbf{v}$ is the velocity field\n",
    " * $\\mathbf{p}$ is the pressure like variable\n",
    " * $\\eta$ is the isotropic shear viscosity\n",
    " * $\\lambda$ is the bulk viscosity\n",
    " * $f$ is the body force"
   ]
  },
  {
   "cell_type": "code",
   "execution_count": 1,
   "metadata": {},
   "outputs": [],
   "source": [
    "import underworld as uw\n",
    "import numpy as np\n",
    "import math\n",
    "import os\n",
    "from underworld import function as fn\n",
    "import glucifer"
   ]
  },
  {
   "cell_type": "code",
   "execution_count": 2,
   "metadata": {},
   "outputs": [],
   "source": [
    "minX = 0.0\n",
    "maxX = 2.0\n",
    "maxY = 1.0\n",
    "resX = 64\n",
    "resY = 32\n",
    "elementType=\"Q1/dQ0\"\n",
    "\n",
    "mesh = uw.mesh.FeMesh_Cartesian( elementType = (elementType), \n",
    "                                 elementRes  = ( resX, resY), \n",
    "                                 minCoord    = ( minX, 0.), \n",
    "                                 maxCoord    = ( maxX, maxY),\n",
    "                                 periodic    = [False, False]  ) \n",
    "\n",
    "vField    = mesh.add_variable(         nodeDofCount=mesh.dim )\n",
    "pField    = mesh.subMesh.add_variable( nodeDofCount=1 )\n",
    "\n",
    "vField.data[:] = [0.,0.]\n",
    "pField.data[:] = 0."
   ]
  },
  {
   "cell_type": "code",
   "execution_count": 3,
   "metadata": {},
   "outputs": [],
   "source": [
    "# model parameters\n",
    "viscosityFn = 1.0          # isoviscous\n",
    "vel_extend = 0.5           # simple extension velocity\n",
    "oneonlambdaFn = 1.0e3      # 1/(bulk viscosity like term)\n",
    "buoyancyFn = ( 0.0, 0.0 )  # the body force"
   ]
  },
  {
   "cell_type": "code",
   "execution_count": 4,
   "metadata": {},
   "outputs": [],
   "source": [
    "# first define strain rate tensor\n",
    "strainRateFn = fn.tensor.symmetric( vField.fn_gradient )\n",
    "strainRate_2ndInvariantFn = fn.tensor.second_invariant(strainRateFn)\n",
    "velmag = fn.math.sqrt( fn.math.dot(vField, vField) )"
   ]
  },
  {
   "cell_type": "code",
   "execution_count": 5,
   "metadata": {},
   "outputs": [],
   "source": [
    "leftWall = mesh.specialSets[\"MinI_VertexSet\"]\n",
    "rightWall = mesh.specialSets[\"MaxI_VertexSet\"]\n",
    "\n",
    "bottomWall = mesh.specialSets[\"MinJ_VertexSet\"]\n",
    "topWall = mesh.specialSets[\"MaxJ_VertexSet\"]\n",
    "\n",
    "iWalls = leftWall + rightWall\n",
    "jWalls = bottomWall + topWall"
   ]
  },
  {
   "cell_type": "code",
   "execution_count": 6,
   "metadata": {},
   "outputs": [],
   "source": [
    "def buildVelocityField( mesh, velField, extV ):\n",
    "    '''\n",
    "    Build the extension velocity field. Only extending the incomp beam.\n",
    "    '''\n",
    "    import math\n",
    "    # set the all nodes on the vertical wall to extend extension\n",
    "    for index in leftWall: # velocity to the left\n",
    "        ycoord = mesh.data[index][1]\n",
    "        velField.data[index] = [-1.0*extV, 0.]\n",
    "#         velField.data[index] = [-1.0*extV*math.sin(ycoord*2*math.pi), 0.]\n",
    "    for index in rightWall: # velocity to the right\n",
    "        ycoord = mesh.data[index][1]\n",
    "        velField.data[index] = [extV, 0.]\n",
    "\n",
    "buildVelocityField( mesh, vField, vel_extend)\n",
    "bcs_1 = uw.conditions.DirichletCondition( variable        = vField, \n",
    "                                        indexSetsPerDof = ( iWalls, jWalls) ) "
   ]
  },
  {
   "cell_type": "code",
   "execution_count": 7,
   "metadata": {},
   "outputs": [],
   "source": [
    "# fn_bodyforce is 0. So ONLY dynamic pressure is produced in this model.\n",
    "# For the incompressible material d. pressure is the mesh variable\n",
    "# For the compressibly material d. pressure is -lambda*div(vField)\n",
    "stokes = uw.systems.Stokes(    velocityField = vField, \n",
    "                               pressureField = pField, \n",
    "                               conditions    = bcs_1,\n",
    "                               fn_viscosity  = viscosityFn,\n",
    "                               fn_bodyforce  = buoyancyFn,\n",
    "                               fn_one_on_lambda  = oneonlambdaFn )\n",
    "\n",
    "solver = uw.systems.Solver( stokes )"
   ]
  },
  {
   "cell_type": "code",
   "execution_count": 8,
   "metadata": {},
   "outputs": [],
   "source": [
    "# can't use the AugmentedLagrangian with the penaly method yet\n",
    "# solver.set_penalty(1.0e6) \n",
    "solver.solve( nonLinearIterate=False, nonLinearTolerance=1e-2 )\n",
    "# solver.print_stats()"
   ]
  },
  {
   "cell_type": "code",
   "execution_count": 9,
   "metadata": {},
   "outputs": [],
   "source": [
    "# analytics\n",
    "gradV = vField.fn_gradient\n",
    "divV = gradV[0] + gradV[3] # du_dx + dv_dy\n",
    "shouldBeZero = fn.math.abs(divV + pField*oneonlambdaFn)\n",
    "\n",
    "errorInt = uw.utils.Integral( shouldBeZero, mesh)\n",
    "volInt = uw.utils.Integral(1.0, mesh)"
   ]
  },
  {
   "cell_type": "code",
   "execution_count": 10,
   "metadata": {},
   "outputs": [
    {
     "name": "stdout",
     "output_type": "stream",
     "text": [
      "3.62180329104e-15\n"
     ]
    }
   ],
   "source": [
    "# error across domain\n",
    "tol = 1e-6\n",
    "error = errorInt.evaluate()[0]/volInt.evaluate()[0]\n",
    "if error > tol:\n",
    "    raise RuntimeError(\"Error: The continuity equation isn't solving within a volume averaged\" +\n",
    "                       \" tolerance of {} - it's value is {}\".format(tol, error))\n",
    "print error"
   ]
  },
  {
   "cell_type": "code",
   "execution_count": 11,
   "metadata": {},
   "outputs": [
    {
     "data": {
      "text/plain": [
       "(1.2080216402087535e-14, 1.7354172266448033e-16)"
      ]
     },
     "execution_count": 11,
     "metadata": {},
     "output_type": "execute_result"
    }
   ],
   "source": [
    "stokes.eqResiduals"
   ]
  },
  {
   "cell_type": "code",
   "execution_count": 12,
   "metadata": {},
   "outputs": [
    {
     "data": {
      "text/html": [
       "<img src='data:image/png;base64,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'>"
      ],
      "text/plain": [
       "<IPython.core.display.HTML object>"
      ]
     },
     "metadata": {},
     "output_type": "display_data"
    }
   ],
   "source": [
    "figVel = glucifer.Figure()\n",
    "figVel.append( glucifer.objects.VectorArrows(mesh, vField, scaling=.25, arrowHead=0.2) )\n",
    "figVel.show()"
   ]
  },
  {
   "cell_type": "code",
   "execution_count": 13,
   "metadata": {},
   "outputs": [],
   "source": [
    "# The pressure using the compute field\n",
    "# figP = glucifer.Figure( **figVel )\n",
    "# figP.append( glucifer.objects.Surface(mesh, pField*oneonlambdaFn, onMesh=True) )\n",
    "# figP.show()"
   ]
  }
 ],
 "metadata": {
  "kernelspec": {
   "display_name": "Python 2",
   "language": "python",
   "name": "python2"
  },
  "language_info": {
   "codemirror_mode": {
    "name": "ipython",
    "version": 2
   },
   "file_extension": ".py",
   "mimetype": "text/x-python",
   "name": "python",
   "nbconvert_exporter": "python",
   "pygments_lexer": "ipython2",
   "version": "2.7.13"
  }
 },
 "nbformat": 4,
 "nbformat_minor": 1
}
