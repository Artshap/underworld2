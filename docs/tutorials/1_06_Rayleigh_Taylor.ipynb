{
 "cells": [
  {
   "cell_type": "markdown",
   "metadata": {},
   "source": [
    "Rayleigh Taylor instability\n",
    "======\n",
    "\n",
    "This tutorial builds a model of the classic Rayleigh Taylor instability. See [here](https://en.wikipedia.org/wiki/Rayleigh%E2%80%93Taylor_instability) for more details on the RT instability. To benchmark the underworld code this notebook also provides a direct comparison to the isoviscous thermochemical convection benchmark values from van Keken *et al.* (1997). The system of equations is given by\n",
    "\n",
    "$$\n",
    "    \\nabla \\cdot \\left( \\eta \\nabla \\dot\\varepsilon \\right) - \\nabla p = \n",
    "    \\left( Ra _T T + Ra _\\Gamma \\Gamma \\right) \\mathbf{\\hat z}\n",
    "$$\n",
    "\n",
    "$$\n",
    "    \\nabla \\cdot \\mathbf{v} = 0\n",
    "$$\n",
    "\n",
    "The thermal and compositional evolution is controlled by advection and (thermal) diffusion\n",
    "\n",
    "$$\n",
    "    \\frac{D T}{D t} = \\nabla^2 T \n",
    "$$    \n",
    "\n",
    "$$\n",
    "    \\frac{D \\Gamma}{D t} = 0\n",
    "$$\n",
    "\n",
    "Thermal and compositional Rayleigh numbers are defined by\n",
    "\n",
    "$$ \n",
    "    Ra _T = \\frac{g \\rho \\alpha \\Delta T h ^3}{\\kappa \\eta _r} ; \\;\\;\\;\\; \n",
    "    Ra _\\Gamma = \\frac{g \\Delta \\rho _\\Gamma h ^3}{\\kappa \\eta _r}\n",
    "$$\n",
    "\n",
    "\n",
    "\n",
    "**Lesson concepts:**\n",
    "1. More on particle swarms.\n",
    "2. Producing snapshot images to file (which can then be made into a movie).\n",
    "3. Comparison of benchmark values.\n",
    "\n",
    "**Keywords:** particle swarms, Stokes system, advective diffusive systems\n",
    "\n",
    "**References**\n",
    "\n",
    "1. van Keken, P.E., S.D. King, H. Schmeling, U.R. Christensen, D.Neumeister and M.-P. Doin. A comparison of methods for the modeling of thermochemical convection. Journal of Geophysical Research, 102, 22,477-22,495, 1997.  \n",
    "http://onlinelibrary.wiley.com/doi/10.1029/97JB01353/abstract\n"
   ]
  },
  {
   "cell_type": "code",
   "execution_count": null,
   "metadata": {
    "collapsed": false
   },
   "outputs": [],
   "source": [
    "%matplotlib inline\n",
    "import matplotlib.pyplot as pyplot\n",
    "import matplotlib.pylab as pylab\n",
    "import numpy as np\n",
    "import underworld as uw\n",
    "import math\n",
    "from underworld import function as fn\n",
    "import glucifer"
   ]
  },
  {
   "cell_type": "markdown",
   "metadata": {},
   "source": [
    "Setup parameters\n",
    "-----\n",
    "\n",
    "Set simulation parameters. The box length is chosen for direct comparison to the benchmark values."
   ]
  },
  {
   "cell_type": "code",
   "execution_count": null,
   "metadata": {
    "collapsed": false
   },
   "outputs": [],
   "source": [
    "res = 64\n",
    "boxLength = 0.9142\n",
    "boxHeight = 1.0"
   ]
  },
  {
   "cell_type": "markdown",
   "metadata": {},
   "source": [
    "Here we also set the viscosity of the light material ($\\eta \\leq$ 1) relative to the reference heavy material ($\\eta_r = 1$) which is used when we set up the parameters and functions below. This is set to be $\\eta =$ 1, 0.1 and 0.01 for the 3 cases given in van Keken *et al.* 1997."
   ]
  },
  {
   "cell_type": "code",
   "execution_count": null,
   "metadata": {
    "collapsed": true
   },
   "outputs": [],
   "source": [
    "eta = 1.0"
   ]
  },
  {
   "cell_type": "markdown",
   "metadata": {},
   "source": [
    "**Input/output paths**\n",
    "\n",
    "Set input and output file directory paths. Input files are previous $v_{rms}$ and $Nu$ numbers as a function of time. The output path directory will contain the resulting $v_{rms}$ and $Nu$ data as well as the image snap shots."
   ]
  },
  {
   "cell_type": "code",
   "execution_count": null,
   "metadata": {
    "collapsed": true
   },
   "outputs": [],
   "source": [
    "inputPath  = 'RTInput/'\n",
    "outputPath = 'RTOutput/'\n",
    "# Make output directory if necessary\n",
    "import os\n",
    "if not os.path.exists(outputPath):\n",
    "    os.makedirs(outputPath)"
   ]
  },
  {
   "cell_type": "markdown",
   "metadata": {},
   "source": [
    "Create mesh and finite element variables\n",
    "------"
   ]
  },
  {
   "cell_type": "code",
   "execution_count": null,
   "metadata": {
    "collapsed": false
   },
   "outputs": [],
   "source": [
    "mesh = uw.mesh.FeMesh_Cartesian( elementType = (\"Q1/dQ0\"), \n",
    "                                 elementRes  = (res, res), \n",
    "                                 minCoord    = (0., 0.), \n",
    "                                 maxCoord    = (boxLength, boxHeight))\n",
    "\n",
    "velocityField = uw.mesh.MeshVariable( mesh=mesh,         nodeDofCount=2 )\n",
    "pressureField = uw.mesh.MeshVariable( mesh=mesh.subMesh, nodeDofCount=1 )"
   ]
  },
  {
   "cell_type": "markdown",
   "metadata": {
    "collapsed": true
   },
   "source": [
    "# Create a particle swarm\n",
    "------\n",
    "\n",
    "Swarms refer to (large) groups of particles which can advect with the fluid flow. These can be used to determine 'materials' as they can carry local information such as the fluid density and viscosity."
   ]
  },
  {
   "cell_type": "markdown",
   "metadata": {},
   "source": [
    "**Setup a swarm**\n",
    "\n",
    "To set up a swarm of particles the following steps are needed:\n",
    "1. Initialise a swarm.\n",
    "2. Define data variable to store an index that will state what material a given particle is.\n",
    "3. Populate the swarm over the whole domain using the layout command."
   ]
  },
  {
   "cell_type": "code",
   "execution_count": null,
   "metadata": {
    "collapsed": false
   },
   "outputs": [],
   "source": [
    "# Initialise a swarm.\n",
    "swarm = uw.swarm.Swarm( mesh=mesh )\n",
    "\n",
    "# Add a data variable which will store an index to determine material.\n",
    "materialVariable = swarm.add_variable( dataType=\"int\", count=1 )\n",
    "\n",
    "# Create a layout object that will populate the swarm across the whole domain.\n",
    "swarmLayout = uw.swarm.layouts.GlobalSpaceFillerLayout( swarm=swarm, particlesPerCell=20 )\n",
    "\n",
    "# Populate.\n",
    "swarm.populate_using_layout( layout=swarmLayout )"
   ]
  },
  {
   "cell_type": "markdown",
   "metadata": {},
   "source": [
    "**Allocate each particle a material index**\n",
    "\n",
    "Each particle in the swarm can be given individual values, such as viscosity and density. The concept of materials is used in underworld to create groups of particles which have similar behaviour.\n",
    "\n",
    "The example below sets particles of the swarm to be one of two materials based on the initial particle position in the system. It distinguishes between the positions using the condition \n",
    "\\\\[\n",
    "0.2 + \\cos \\left( \\frac{2 \\pi x}{\\lambda} \\right) > z\n",
    "\\\\]\n",
    "to have the light material index. Here the notation is adopted of $z$ for coordinate[1], $x$ for coordinate[0] and $\\lambda$ for the wavelength. If this condition is not satisfied then the particle will be labelled by the heavy index, as this final condition is always true. For further details, please refer to the user guide and/or docstrings.\n",
    "\n",
    "Later these materials are given specific densities and viscosities."
   ]
  },
  {
   "cell_type": "code",
   "execution_count": null,
   "metadata": {
    "collapsed": false
   },
   "outputs": [],
   "source": [
    "# Initialise the 'materialVariable' data to represent two different materials. \n",
    "denseIndex = 0\n",
    "lightIndex = 1\n",
    "\n",
    "# The form of this perturbation is taken from van Keken et al. 1997\n",
    "wavelength = 2.0*boxLength\n",
    "amplitude  = 0.02\n",
    "offset     = 0.2\n",
    "k = 2. * math.pi / wavelength\n",
    "\n",
    "# The particle coordinates will be the input to the function evaluate (see final line in this cell).\n",
    "# We get proxy for this now using the input() function.\n",
    "coordinate = fn.input()\n",
    "\n",
    "# Define our perturbation function. Note that it is a function of the x coordinate, \n",
    "# accessed by 'coordinate[0]'.\n",
    "perturbationFn = offset + amplitude*fn.math.cos( k*coordinate[0] )\n",
    "\n",
    "# Setup the conditions list for the following conditional function. Where the\n",
    "# z coordinate (coordinate[1]) is less than the perturbation, set to lightIndex.\n",
    "conditions = [ ( perturbationFn > coordinate[1] , lightIndex ),\n",
    "               (                           True , denseIndex ) ]\n",
    "\n",
    "# The actual function evaluation. Here the conditional function is evaluated at the location\n",
    "# of each swarm particle. The results are then written to the materialVariable swarm variable.\n",
    "materialVariable.data[:] = fn.branching.conditional( conditions ).evaluate(swarm)"
   ]
  },
  {
   "cell_type": "markdown",
   "metadata": {},
   "source": [
    "**Plot the particles by material**\n",
    "\n",
    "Setup a standard method for plotting all particles in a swarm with colour set by the material index (light or heavy)."
   ]
  },
  {
   "cell_type": "code",
   "execution_count": null,
   "metadata": {
    "collapsed": false
   },
   "outputs": [],
   "source": [
    "fig1 = glucifer.Figure()\n",
    "fig1.append( glucifer.objects.Points(swarm, materialVariable, pointSize=2, colourBar=False) )\n",
    "fig1.show()"
   ]
  },
  {
   "cell_type": "markdown",
   "metadata": {},
   "source": [
    "Set up material parameters and functions\n",
    "-----\n",
    "\n",
    "Here the functions for density, viscosity etc. are set. These functions and/or values are preserved for the entire simulation time. \n",
    "\n",
    "The Map function allows us to create 'per material' type behaviour. Again we use the branching function to set up a (condition, action) command, which in this case uses uses the materialVariable to distinguish which value to use for the density or viscosity for each swarm particle.\n"
   ]
  },
  {
   "cell_type": "code",
   "execution_count": null,
   "metadata": {
    "collapsed": false
   },
   "outputs": [],
   "source": [
    "# Here we set a density of '0.' for the lightMaterial, and '1.' for the heavymaterial.\n",
    "densityMap   = { lightIndex:0., denseIndex:1. }\n",
    "densityFn    = fn.branching.map( fn_key = materialVariable, mapping = densityMap )\n",
    "\n",
    "# Here we set a viscosity value of '1.' for both materials.\n",
    "viscosityMap = { lightIndex:eta, denseIndex:1. }\n",
    "viscosityFn  = fn.branching.map( fn_key = materialVariable, mapping = viscosityMap )\n",
    "\n",
    "# Define our vertical unit vector using a python tuple (this will be automatically converted to a function).\n",
    "z_hat = ( 0.0, 1.0 )\n",
    "\n",
    "# Now create a buoyancy force vector using the density (FEvariable) and the vertical unit vector. \n",
    "buoyancyFn = -densityFn*z_hat"
   ]
  },
  {
   "cell_type": "markdown",
   "metadata": {},
   "source": [
    "System Setup\n",
    "----------\n",
    "\n",
    "**Initialise variables**\n"
   ]
  },
  {
   "cell_type": "code",
   "execution_count": null,
   "metadata": {
    "collapsed": false
   },
   "outputs": [],
   "source": [
    "velocityField.data[:] = [0.,0.]\n",
    "pressureField.data[:] = 0."
   ]
  },
  {
   "cell_type": "markdown",
   "metadata": {},
   "source": [
    "**Conditions on the boundaries**\n",
    "\n",
    "Construct sets for the both horizontal and vertical walls to define conditons for underworld solvers. Here we effectively create a free-slip condition on the left and right boundaries, and a no-slip condition on the top and bottom."
   ]
  },
  {
   "cell_type": "code",
   "execution_count": null,
   "metadata": {
    "collapsed": true
   },
   "outputs": [],
   "source": [
    "# We extract various sets of boundary nodes here.\n",
    "iWalls = mesh.specialSets[\"MinI_VertexSet\"] + mesh.specialSets[\"MaxI_VertexSet\"]\n",
    "jWalls = mesh.specialSets[\"MinJ_VertexSet\"] + mesh.specialSets[\"MaxJ_VertexSet\"]\n",
    "allWalls = iWalls + jWalls\n",
    "\n",
    "# Now, using these sets, decide which degrees of freedom (on each node) should be considered Dirichlet.\n",
    "stokesBC = uw.conditions.DirichletCondition( variable      = velocityField, \n",
    "                                             indexSetsPerDof = (allWalls, jWalls) )"
   ]
  },
  {
   "cell_type": "markdown",
   "metadata": {},
   "source": [
    "**Create a Stokes system**"
   ]
  },
  {
   "cell_type": "code",
   "execution_count": null,
   "metadata": {
    "collapsed": false
   },
   "outputs": [],
   "source": [
    "stokesPIC = uw.systems.Stokes( velocityField = velocityField, \n",
    "                               pressureField = pressureField,\n",
    "                               swarm         = swarm, \n",
    "                               conditions    = [stokesBC,],\n",
    "                               viscosityFn   = viscosityFn, \n",
    "                               bodyForceFn   = buoyancyFn )\n",
    "solver = uw.systems.Solver( stokesPIC )"
   ]
  },
  {
   "cell_type": "markdown",
   "metadata": {},
   "source": [
    "**Create a system to advect the particles**\n"
   ]
  },
  {
   "cell_type": "code",
   "execution_count": null,
   "metadata": {
    "collapsed": false
   },
   "outputs": [],
   "source": [
    "advector = uw.systems.SwarmAdvector( swarm=swarm, velocityField=velocityField, order=2 )"
   ]
  },
  {
   "cell_type": "markdown",
   "metadata": {},
   "source": [
    "Analysis tools\n",
    "-----\n",
    "\n",
    "**RMS velocity**\n",
    "\n",
    "Set up integrals used to calculate the RMS velocity."
   ]
  },
  {
   "cell_type": "code",
   "execution_count": null,
   "metadata": {
    "collapsed": true
   },
   "outputs": [],
   "source": [
    "vdotv = fn.math.dot(velocityField,velocityField)\n",
    "v2sum_integral  = uw.utils.Integral( mesh=mesh, fn=vdotv )\n",
    "volume_integral = uw.utils.Integral( mesh=mesh, fn=1. )"
   ]
  },
  {
   "cell_type": "markdown",
   "metadata": {},
   "source": [
    "Main simulation loop\n",
    "-----\n",
    "Inside the loop the Stokes system is solved at each step, with the resulting velocity field used to advect the swarm."
   ]
  },
  {
   "cell_type": "code",
   "execution_count": null,
   "metadata": {
    "collapsed": true
   },
   "outputs": [],
   "source": [
    "# Stepping. Initialise time and timestep.\n",
    "time         = 0.\n",
    "steps        = 0\n",
    "# We set timeEnd=3 so that the simulation completes quickly, \n",
    "# but generally you will want to set timeEnd~300 to capture \n",
    "# the peak V_rms. \n",
    "timeEnd      = 3.  \n",
    "outputEvery  = 20\n",
    "timeVal     = []\n",
    "vrmsVal     = []"
   ]
  },
  {
   "cell_type": "markdown",
   "metadata": {},
   "source": [
    "**Outputting snapshot images during loop**\n",
    "\n",
    "Create visualisation object to output to file after every time step. This will output a raster image file within the directory specified in the outputPath variable. These files can be stitched together to create an animation.\n",
    "\n",
    "A comparison animation is included in the input path directory."
   ]
  },
  {
   "cell_type": "markdown",
   "metadata": {},
   "source": [
    "**Output fields in XDMF format**\n",
    "\n",
    "To output in xdmf format we first save the associated time-independent geometry mesh to disk. We save each field to file using a similar interface during the model loop.\n",
    "\n",
    "Using the returned handles from these saves we combine them in the function uw.MeshVariable.xdmf to write an field xdmf ."
   ]
  },
  {
   "cell_type": "code",
   "execution_count": null,
   "metadata": {
    "collapsed": false
   },
   "outputs": [],
   "source": [
    "meshFileHandle = mesh.save(outputPath+\"Mesh.h5\")"
   ]
  },
  {
   "cell_type": "markdown",
   "metadata": {},
   "source": [
    "Run time loop until $v_{rms}$ is expected to settle; t = 2000 taken from van Keken *et al.* 1997."
   ]
  },
  {
   "cell_type": "code",
   "execution_count": null,
   "metadata": {
    "collapsed": false
   },
   "outputs": [],
   "source": [
    "while time<timeEnd:\n",
    "    # Get solution for initial configuration.\n",
    "    solver.solve()\n",
    "    # Retrieve the maximum possible timestep for the advection system.\n",
    "    dt = advector.get_max_dt()\n",
    "    # Advect using this timestep size.\n",
    "    advector.integrate(dt)\n",
    "    # Calculate the RMS velocity.\n",
    "    vrms = math.sqrt( v2sum_integral.evaluate()[0] / volume_integral.evaluate()[0] )\n",
    "    # Store values in variables.\n",
    "    vrmsVal.append(vrms)\n",
    "    timeVal.append(time)\n",
    "    # print output\n",
    "    if steps%outputEvery == 0:\n",
    "        print 'step = {0:6d}; time = {1:.3e}; v_rms = {2:.3e}'.format(steps,time,vrms)\n",
    "        \n",
    "        velFilename = outputPath+\"/velocityField.\"+str(steps)\n",
    "        vFileHandle = velocityField.save(velFilename+\".h5\")\n",
    "        velocityField.xdmf(filename=velFilename, varname=\"velocity\", meshSavedData=meshFileHandle, fieldSavedData=vFileHandle)\n",
    "        \n",
    "        pressureFilename = outputPath+\"/pressureField.\"+str(steps)\n",
    "        pFileHandle = pressureField.save(pressureFilename+\".h5\")\n",
    "        pressureField.xdmf(filename=pressureFilename, varname=\"pressure\", meshSavedData=meshFileHandle, fieldSavedData=pFileHandle)\n",
    "        \n",
    "    # output snapshot of particles to figure.\n",
    "        #utputFilename = outputPath+\"image\"+str(steps).zfill(4)\n",
    "        #fig1.save_image(outputFilename)\n",
    "        \n",
    "    time += dt\n",
    "    steps += 1\n",
    "print 'step = {0:6d}; time = {1:.3e}; v_rms = {2:.3e}'.format(steps,time,vrms)"
   ]
  },
  {
   "cell_type": "markdown",
   "metadata": {},
   "source": [
    "Post simulation analysis\n",
    "-----\n",
    "\n",
    "Plot final swarm positions.\n"
   ]
  },
  {
   "cell_type": "code",
   "execution_count": null,
   "metadata": {
    "collapsed": false
   },
   "outputs": [],
   "source": [
    "fig1.show()"
   ]
  },
  {
   "cell_type": "markdown",
   "metadata": {},
   "source": [
    "#### **Save RMS velocity data**\n",
    "\n",
    "Save time and $v_{rms}$ to file using numpy. This will create a text file with two rows in the format:\n",
    "\n",
    "    time(0), vrms(0)\n",
    "    time(1), vrms(1)\n",
    "    ...\n",
    "    time(N), vrms(N)\n"
   ]
  },
  {
   "cell_type": "code",
   "execution_count": null,
   "metadata": {
    "collapsed": false
   },
   "outputs": [],
   "source": [
    "np.savetxt( outputPath+'RT_vms.out', np.c_[timeVal, vrmsVal], header=\"Time VRMS\" )"
   ]
  },
  {
   "cell_type": "markdown",
   "metadata": {},
   "source": [
    "**Check data against benchmark values**\n",
    "\n",
    "Perform an analysis of the $v_{rms}$ values against time to find the maximum $v_{rms}$, the time at which this maximum occurs and the growth rate. The growth rate ($\\gamma$) is calculated by solving \n",
    "$$\n",
    "    v_{rms}(t) = v_{rms}(0) \\exp ( \\gamma t )\n",
    "$$\n",
    "for $\\gamma$ where the time chosen is half the time at maximum $v_{rms}$."
   ]
  },
  {
   "cell_type": "code",
   "execution_count": null,
   "metadata": {
    "collapsed": false
   },
   "outputs": [],
   "source": [
    "maxVrms = 0.0\n",
    "maxTime = 0.0\n",
    "maxIndex = 0\n",
    "index = 0\n",
    "\n",
    "for time in timeVal:\n",
    "    vrms = vrmsVal[index]\n",
    "    if(vrms > maxVrms):\n",
    "        maxVrms  = vrms\n",
    "        maxTime  = time\n",
    "        maxIndex = index\n",
    "    index += 1\n",
    "\n",
    "# Calculate growth rate.\n",
    "vZero = vrmsVal[0]\n",
    "vRms  = vrmsVal[maxIndex/2]\n",
    "tHalf = timeVal[maxIndex/2]\n",
    "if(tHalf>0.0):\n",
    "    gamma = math.log(vrms/vZero)/tHalf\n",
    "else:\n",
    "    gamma = math.log(vrms/vZero)\n",
    "print('Viscosity ratio = {0:.2f}'.format(eta))\n",
    "print('    Growth rate = {0:.4f}'.format(gamma))\n",
    "print('    t(max vrms) = {0:.2f}'.format(maxTime))\n",
    "print('           vrms = {0:.4f}'.format(maxVrms))"
   ]
  },
  {
   "cell_type": "markdown",
   "metadata": {},
   "source": [
    "The benchmark values from van Keken *et al.* 1997 are approximately:\n",
    "\n",
    "| Viscosity ratio ($\\frac{\\eta}{\\eta_r}$) |  Growth rate ($\\gamma$)  |  t (max $v_{rms}$) | max $v_{rms}$ |\n",
    "| :-------------:  | :-----------: | :----------------: | :-----------: |\n",
    "| 1.00            | 0.0112        | 208.99             | 0.0031 |\n",
    "| 0.10            | 0.0459        | 71.92              | 0.0095 |\n",
    "| 0.01            | 0.1042        | 49.57              | 0.0146 |\n",
    "\n",
    "Note that these are based on high resolution and the precise values depending on the size of the time step chosen. In this example the largest timestep for the advection-diffusion solver possible is chosen. So there will be discrepancy between the values from underworld and the benchmark values."
   ]
  },
  {
   "cell_type": "markdown",
   "metadata": {},
   "source": [
    "**Load previous RMS velocity data**\n",
    "\n",
    "Load velocity and time data from a pre-run simulation for this viscosity ($\\eta$) value. These were run using underworld and so should be exactly the same as those run here."
   ]
  },
  {
   "cell_type": "code",
   "execution_count": null,
   "metadata": {
    "collapsed": false
   },
   "outputs": [],
   "source": [
    "if(eta == 1.0):\n",
    "    data = np.loadtxt(inputPath+'VrmsCaseA.txt', unpack=True )\n",
    "elif(eta == 0.1):\n",
    "    data = np.loadtxt(inputPath+'VrmsCaseB.txt', unpack=True )\n",
    "elif(eta == 0.01):\n",
    "    data = np.loadtxt(inputPath+'VrmsCaseC.txt', unpack=True )\n",
    "else:\n",
    "    print('No specific data found - default to Case A')\n",
    "    data = np.loadtxt(inputPath+'VrmsCaseA.txt', unpack=True )\n",
    "\n",
    "# Load them into data arrays to compare with timevals and vrmsvals from above.\n",
    "timeCompare, vrmsCompare = data[0], data[1] \n",
    "# These can be copied onto timevals and vrmsvals to skip running the time loop."
   ]
  },
  {
   "cell_type": "markdown",
   "metadata": {},
   "source": [
    "**Plot RMS velocity**\n",
    "\n",
    "Plot the RMS velocity from the simulation run here (red) against the pre-run RMS velocity (black) against time. These should overlap."
   ]
  },
  {
   "cell_type": "code",
   "execution_count": null,
   "metadata": {
    "collapsed": false
   },
   "outputs": [],
   "source": [
    "pylab.rcParams[ 'figure.figsize'] = 12, 6\n",
    "pyplot.plot(timeCompare, vrmsCompare, color = 'black') \n",
    "pyplot.plot(timeVal, vrmsVal, color = 'red') \n",
    "pyplot.xlabel('Time')\n",
    "pyplot.ylabel('RMS velocity')\n",
    "pyplot.show()"
   ]
  }
 ],
 "metadata": {
  "kernelspec": {
   "display_name": "Python 2",
   "language": "python",
   "name": "python2"
  },
  "language_info": {
   "codemirror_mode": {
    "name": "ipython",
    "version": 2
   },
   "file_extension": ".py",
   "mimetype": "text/x-python",
   "name": "python",
   "nbconvert_exporter": "python",
   "pygments_lexer": "ipython2",
   "version": "2.7.10"
  }
 },
 "nbformat": 4,
 "nbformat_minor": 0
}
