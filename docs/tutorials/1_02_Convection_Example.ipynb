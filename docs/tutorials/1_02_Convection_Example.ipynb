{
 "cells": [
  {
   "cell_type": "markdown",
   "metadata": {},
   "source": [
    "Convection example\n",
    "======\n",
    "\n",
    "\n",
    "This notebook is intended to give a quick overview of how to run underworld using ipython notebooks. It is the beginning of a series of tutorials which will increase in functionality. By the end of these tutorials the user should be able to tackle the more complex notebooks available in the **publications** directory.\n",
    "\n",
    "**This lesson introduces the concepts of:**\n",
    "1. Underworld basics.\n",
    "2. Setting up material parameters and functions.\n",
    "3. Setting up and solving a Stokes system.\n",
    "4. Setting up and solving advective diffusive systems.\n",
    "5. plotting fields.\n",
    "\n",
    "**Keywords:** material parameters, Stokes system, advective diffusive systems"
   ]
  },
  {
   "cell_type": "code",
   "execution_count": 1,
   "metadata": {
    "collapsed": false
   },
   "outputs": [],
   "source": [
    "import underworld as uw\n",
    "import math\n",
    "from underworld import function as fn\n",
    "import glucifer"
   ]
  },
  {
   "cell_type": "markdown",
   "metadata": {},
   "source": [
    "Setup parameters\n",
    "-----\n",
    "\n",
    "Set physical values for test."
   ]
  },
  {
   "cell_type": "code",
   "execution_count": 2,
   "metadata": {
    "collapsed": false
   },
   "outputs": [],
   "source": [
    "# Set number of dimensions.\n",
    "dim = 2\n",
    "# Set simulation box size.\n",
    "boxHeight = 1.0\n",
    "boxLength = 2.0\n",
    "# Set min/max temperatures.\n",
    "tempMin = 0.0\n",
    "tempMax = 1.0\n",
    "# Set the resolution.\n",
    "res = 16"
   ]
  },
  {
   "cell_type": "markdown",
   "metadata": {},
   "source": [
    "Create mesh and finite element variables\n",
    "------\n",
    "\n",
    "Create mesh object. "
   ]
  },
  {
   "cell_type": "code",
   "execution_count": 3,
   "metadata": {
    "collapsed": false
   },
   "outputs": [],
   "source": [
    "mesh = uw.mesh.FeMesh_Cartesian( elementType = (\"Q1/dQ0\"), \n",
    "                                 elementRes  = (res, res), \n",
    "                                 minCoord    = (0., 0.), \n",
    "                                 maxCoord    = (boxLength, boxHeight))"
   ]
  },
  {
   "cell_type": "markdown",
   "metadata": {},
   "source": [
    "The mesh object consists of two meshes, the type of which is defined here as ``\"Q1/dQ0\"``. The primary mesh (``Q1``) has node points on the corners of the cell and is stored in the ``mesh`` object data, while the sub-mesh (``dQ0``) has nodes inside the cell and is accessed via the ``mesh.subMesh`` object. The sub-mesh is used for the pressure field. For more information on meshes see the user guide **02_Meshing.ipynb**."
   ]
  },
  {
   "cell_type": "markdown",
   "metadata": {},
   "source": [
    "Create finite element variables for the velocity, pressure and temperature fields. The last two of these are scalar fields needing only one value at each mesh point, while the velocity field contains a vector of *dim* dimensions at each mesh point."
   ]
  },
  {
   "cell_type": "code",
   "execution_count": 4,
   "metadata": {
    "collapsed": false
   },
   "outputs": [],
   "source": [
    "velocityField    = uw.fevariable.FeVariable( feMesh=mesh,         nodeDofCount=dim )\n",
    "pressureField    = uw.fevariable.FeVariable( feMesh=mesh.subMesh, nodeDofCount=1 )\n",
    "temperatureField = uw.fevariable.FeVariable( feMesh=mesh,         nodeDofCount=1 )"
   ]
  },
  {
   "cell_type": "markdown",
   "metadata": {},
   "source": [
    "Set up material parameters and functions\n",
    "-----\n",
    "\n",
    "Here the functions for density, viscosity etc. are set. These functions and/or values are preserved for the entire simulation time. More details on setting functions in underworld is found in the user guide **05_Functions.ipynb**.\n",
    "\n",
    "Notes:\n",
    "1. Temperature must be in the range [0,1] for use with the density function defined using the Rayleigh number.\n",
    "2. $\\hat{z}$ (*z_hat*) denotes the positive vertical direction. \n",
    "3. The density ($\\rho$) should be negatively proportional to the temperature field so that high temperature has low density.\n",
    "4. The constant of proportionality in this case is the Rayleigh number, which is set low here to speed up the system.\n",
    "4. Both $\\hat{z}$ and $\\rho$ are combined to define the buoyancy function which is used to set up the Stokes system."
   ]
  },
  {
   "cell_type": "code",
   "execution_count": 5,
   "metadata": {
    "collapsed": false
   },
   "outputs": [],
   "source": [
    "# Set viscosity to be a constant.\n",
    "viscosity = 1.\n",
    "\n",
    "# Rayleigh number.\n",
    "Ra = 1.0e4\n",
    "\n",
    "# Construct our density function.\n",
    "densityFn = -Ra * temperatureField\n",
    "\n",
    "# Define our vertical unit vector using a python tuple (this will be automatically converted to a function).\n",
    "z_hat = ( 0.0, 1.0 )\n",
    "\n",
    "# Now create a buoyancy force vector using the density and the vertical unit vector. \n",
    "buoyancyFn = densityFn * z_hat"
   ]
  },
  {
   "cell_type": "markdown",
   "metadata": {},
   "source": [
    "By setting the system up in this way we only need to create these functions once at the beginning of the simulation and not each timestep."
   ]
  },
  {
   "cell_type": "markdown",
   "metadata": {},
   "source": [
    "Set initial conditions and boundary conditions\n",
    "----------"
   ]
  },
  {
   "cell_type": "markdown",
   "metadata": {},
   "source": [
    "**Initial conditions**\n",
    "\n",
    "First initialise the velocity and pressure fields to zero everywhere in the domain."
   ]
  },
  {
   "cell_type": "code",
   "execution_count": 6,
   "metadata": {
    "collapsed": false
   },
   "outputs": [],
   "source": [
    "velocityField.data[:] = [0.,0.]\n",
    "pressureField.data[:] = 0."
   ]
  },
  {
   "cell_type": "markdown",
   "metadata": {},
   "source": [
    "Set a small perturbation in the temperature field to seed the onset of convection."
   ]
  },
  {
   "cell_type": "code",
   "execution_count": 7,
   "metadata": {
    "collapsed": true
   },
   "outputs": [],
   "source": [
    "pertStrength = 0.01\n",
    "deltaTemp = tempMax - tempMin\n",
    "for index, coord in enumerate(mesh.data):\n",
    "    pertCoeff = math.cos( math.pi * coord[0]/boxLength ) * math.sin( math.pi * coord[1]/boxLength )\n",
    "    temperatureField.data[index] = tempMin + deltaTemp*(boxHeight - coord[1]) + pertStrength * pertCoeff\n",
    "    temperatureField.data[index] = max(tempMin, min(tempMax, temperatureField.data[index]))"
   ]
  },
  {
   "cell_type": "markdown",
   "metadata": {},
   "source": [
    "**Boundary conditions**\n",
    "\n",
    "This step is to ensure that the temperature boundary conditions are satisfied, as the initial conditions above may have been set to different values on the boundaries."
   ]
  },
  {
   "cell_type": "code",
   "execution_count": 8,
   "metadata": {
    "collapsed": false
   },
   "outputs": [],
   "source": [
    "for index in mesh.specialSets[\"MinJ_VertexSet\"]:\n",
    "    temperatureField.data[index] = tempMax\n",
    "for index in mesh.specialSets[\"MaxJ_VertexSet\"]:\n",
    "    temperatureField.data[index] = tempMin"
   ]
  },
  {
   "cell_type": "markdown",
   "metadata": {},
   "source": [
    "**Conditions on the boundaries**\n",
    "\n",
    "Construct sets for the both horizontal and vertical walls. Combine the sets of vertices to make the ``I`` (left and right side walls) and ``J`` (top and bottom walls) sets. Note that both sets contain the corners of the box."
   ]
  },
  {
   "cell_type": "code",
   "execution_count": 9,
   "metadata": {
    "collapsed": false
   },
   "outputs": [],
   "source": [
    "iWalls = mesh.specialSets[\"MinI_VertexSet\"] + mesh.specialSets[\"MaxI_VertexSet\"]\n",
    "jWalls = mesh.specialSets[\"MinJ_VertexSet\"] + mesh.specialSets[\"MaxJ_VertexSet\"]"
   ]
  },
  {
   "cell_type": "markdown",
   "metadata": {},
   "source": [
    "Let's create the boundary conditions.\n",
    "\n",
    "For (2d) vector variables, we may flag up two Dirichlet conditions on each vertex.. for velocity it's a condition for $v_x$ and one for $v_y$. We provide a tuple of sets specifying which degrees of freedom (Set($v_x$), Set($v_y$)) should be considered Dirichlet.\n",
    "\n",
    "The temperature is held constant on the top and bottom boundaries via the tempBC object created below."
   ]
  },
  {
   "cell_type": "code",
   "execution_count": 10,
   "metadata": {
    "collapsed": true
   },
   "outputs": [],
   "source": [
    "freeslipBC = uw.conditions.DirichletCondition( variable      = velocityField, \n",
    "                                               nodeIndexSets = (iWalls, jWalls) )\n",
    "tempBC     = uw.conditions.DirichletCondition( variable      = temperatureField, \n",
    "                                               nodeIndexSets = (jWalls,) )"
   ]
  },
  {
   "cell_type": "markdown",
   "metadata": {},
   "source": [
    "More information on setting boundary conditions is found in the **06_Systems.ipynb** user guide."
   ]
  },
  {
   "cell_type": "markdown",
   "metadata": {},
   "source": [
    "**Plot initial conditions for temperature**\n"
   ]
  },
  {
   "cell_type": "code",
   "execution_count": 11,
   "metadata": {
    "collapsed": false,
    "scrolled": false
   },
   "outputs": [
    {
     "data": {
      "text/html": [
       "<img src='data:image/png;base64,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'>"
      ],
      "text/plain": [
       "<IPython.core.display.HTML object>"
      ]
     },
     "execution_count": 11,
     "metadata": {},
     "output_type": "execute_result"
    }
   ],
   "source": [
    "figtemp = glucifer.Figure( figsize=(800,400) )\n",
    "figtemp + glucifer.objects.Surface( mesh, temperatureField, colours=\"blue white red\" )\n",
    "figtemp + glucifer.objects.Mesh( mesh )\n",
    "figtemp.show()"
   ]
  },
  {
   "cell_type": "markdown",
   "metadata": {},
   "source": [
    "System setup\n",
    "-----\n",
    "\n",
    "**Setup a Stokes system**\n",
    "\n",
    "For most geodynamics problems the motion of the fluid is well described by [incompressible Stokes equations](https://en.wikipedia.org/wiki/Navier%E2%80%93Stokes_equations). In underworld setting up such as system requires the velocity field, pressure, viscosity and buoyancy forces be passed to the Stokes system function. Along with the conditions affecting these variables - in this case the boundary conditions for the velocity field.\n",
    "\n",
    "This system is solved after each time step using the .solve function (see main loop below)."
   ]
  },
  {
   "cell_type": "code",
   "execution_count": 12,
   "metadata": {
    "collapsed": false
   },
   "outputs": [],
   "source": [
    "stokesPIC = uw.systems.Stokes( velocityField = velocityField, \n",
    "                               pressureField = pressureField,\n",
    "                               conditions    = [freeslipBC,],\n",
    "                               viscosityFn   = viscosity, \n",
    "                               bodyForceFn   = buoyancyFn )"
   ]
  },
  {
   "cell_type": "markdown",
   "metadata": {},
   "source": [
    "**Create an advective diffusive system**\n",
    "\n",
    "For the heat transport in the system the advection diffusion equation is solved for the temperature field. This is used in tandem with the Stokes system, which solves for the velocity field given the temperature and pressure fields (above). More information on the advection diffusion equation can be found [here](https://en.wikipedia.org/wiki/Convection%E2%80%93diffusion_equation).\n",
    "\n",
    "Similar to the Stokes system, the advection diffusion system is setup in underworld by flagging the temperature and velocity field variables as well as the temperature boundary conditions."
   ]
  },
  {
   "cell_type": "code",
   "execution_count": 13,
   "metadata": {
    "collapsed": false
   },
   "outputs": [],
   "source": [
    "advDiff = uw.systems.AdvectionDiffusion( temperatureField, velocityField, diffusivity=1., conditions=[tempBC,], )"
   ]
  },
  {
   "cell_type": "markdown",
   "metadata": {},
   "source": [
    "Main time loop\n",
    "-----\n",
    "\n",
    "The main time stepping loop begins here. Before this the time and number of timesteps are initialised to zero. For this particular example the simulation is run for long enough to see convection beginning.\n"
   ]
  },
  {
   "cell_type": "code",
   "execution_count": 14,
   "metadata": {
    "collapsed": false
   },
   "outputs": [],
   "source": [
    "time = 0.\n",
    "step = 0\n",
    "steps_end = 10\n",
    "while step < steps_end:\n",
    "    # Solve for the velocity field given the current temperature field.\n",
    "    stokesPIC.solve()\n",
    "    # Retrieve the maximum possible timestep for the AD system.\n",
    "    dt = advDiff.get_max_dt()\n",
    "    if step == 0:\n",
    "        dt = 0.\n",
    "    # Advect using this timestep size   \n",
    "    advDiff.integrate(dt)\n",
    "    step += 1"
   ]
  },
  {
   "cell_type": "markdown",
   "metadata": {},
   "source": [
    "**Plot final temperature field**"
   ]
  },
  {
   "cell_type": "code",
   "execution_count": 15,
   "metadata": {
    "collapsed": false
   },
   "outputs": [
    {
     "data": {
      "text/html": [
       "<img src='data:image/png;base64,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'>"
      ],
      "text/plain": [
       "<IPython.core.display.HTML object>"
      ]
     },
     "execution_count": 15,
     "metadata": {},
     "output_type": "execute_result"
    }
   ],
   "source": [
    "figtemp = glucifer.Figure(figsize=(800,400))\n",
    "figtemp + glucifer.objects.Surface(mesh, temperatureField, colours=\"blue white red\")\n",
    "figtemp + glucifer.objects.Mesh(mesh)\n",
    "figtemp.show()"
   ]
  },
  {
   "cell_type": "markdown",
   "metadata": {},
   "source": [
    "**Overlay with velocity field**\n",
    "\n",
    "To show the convective motion of the fluid we overlay the velocity field over the previous temperature field plot."
   ]
  },
  {
   "cell_type": "code",
   "execution_count": 16,
   "metadata": {
    "collapsed": false
   },
   "outputs": [
    {
     "data": {
      "text/html": [
       "<img src='data:image/png;base64,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'>"
      ],
      "text/plain": [
       "<IPython.core.display.HTML object>"
      ]
     },
     "execution_count": 16,
     "metadata": {},
     "output_type": "execute_result"
    }
   ],
   "source": [
    "# plot figure\n",
    "figWithV = glucifer.Figure(figsize=(800,400))\n",
    "figWithV + glucifer.objects.Surface(mesh, temperatureField, colours=\"blue white red\")\n",
    "figWithV + glucifer.objects.VectorArrows(mesh, velocityField, arrowHeadSize=0.2, lengthScale=0.2)\n",
    "figWithV.show()"
   ]
  },
  {
   "cell_type": "code",
   "execution_count": null,
   "metadata": {
    "collapsed": true
   },
   "outputs": [],
   "source": []
  }
 ],
 "metadata": {
  "kernelspec": {
   "display_name": "Python 2",
   "language": "python",
   "name": "python2"
  },
  "language_info": {
   "codemirror_mode": {
    "name": "ipython",
    "version": 2
   },
   "file_extension": ".py",
   "mimetype": "text/x-python",
   "name": "python",
   "nbconvert_exporter": "python",
   "pygments_lexer": "ipython2",
   "version": "2.7.10"
  }
 },
 "nbformat": 4,
 "nbformat_minor": 0
}
