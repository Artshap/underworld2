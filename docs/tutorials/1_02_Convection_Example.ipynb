{
 "cells": [
  {
   "cell_type": "markdown",
   "metadata": {},
   "source": [
    "Convection example\n",
    "======\n",
    "\n",
    "\n",
    "This notebook is intended to give a quick overview of how to run underworld using ipython notebooks. It is the beginning of a series of tutorials which will increase in functionality. By the end of these tutorials the user should be able to tackle the more complex notebooks available in the **publications** directory.\n",
    "\n",
    "**This lesson introduces the concepts of:**\n",
    "1. Underworld basics.\n",
    "2. Setting up material parameters and functions.\n",
    "3. Setting up and solving a Stokes system.\n",
    "4. Setting up and solving advective diffusive systems.\n",
    "5. plotting fields.\n",
    "\n",
    "**Keywords:** material parameters, Stokes system, advective diffusive systems"
   ]
  },
  {
   "cell_type": "code",
   "execution_count": 1,
   "metadata": {
    "collapsed": false
   },
   "outputs": [],
   "source": [
    "import underworld as uw\n",
    "import math\n",
    "from underworld import function as fn\n",
    "import glucifer"
   ]
  },
  {
   "cell_type": "markdown",
   "metadata": {},
   "source": [
    "Setup parameters\n",
    "-----\n",
    "\n",
    "Set physical values for test."
   ]
  },
  {
   "cell_type": "code",
   "execution_count": 2,
   "metadata": {
    "collapsed": false
   },
   "outputs": [],
   "source": [
    "# Set number of dimensions.\n",
    "dim = 2\n",
    "# Set simulation box size.\n",
    "boxHeight = 1.0\n",
    "boxLength = 2.0\n",
    "# Set min/max temperatures.\n",
    "tempMin = 0.0\n",
    "tempMax = 1.0\n",
    "# Set the resolution.\n",
    "res = 16"
   ]
  },
  {
   "cell_type": "markdown",
   "metadata": {},
   "source": [
    "Create mesh and finite element variables\n",
    "------\n",
    "\n",
    "Create mesh object. "
   ]
  },
  {
   "cell_type": "code",
   "execution_count": 3,
   "metadata": {
    "collapsed": false
   },
   "outputs": [],
   "source": [
    "mesh = uw.mesh.FeMesh_Cartesian( elementType = (\"Q1/dQ0\"), \n",
    "                                 elementRes  = (res, res), \n",
    "                                 minCoord    = (0., 0.), \n",
    "                                 maxCoord    = (boxLength, boxHeight))"
   ]
  },
  {
   "cell_type": "markdown",
   "metadata": {},
   "source": [
    "The mesh object consists of two meshes, the type of which is defined here as ``\"Q1/dQ0\"``. The primary mesh (``Q1``) has node points on the corners of the cell and is stored in the ``mesh`` object data, while the sub-mesh (``dQ0``) has nodes inside the cell and is accessed via the ``mesh.subMesh`` object. The sub-mesh is used for the pressure field. For more information on meshes see the user guide **02_Meshing.ipynb**."
   ]
  },
  {
   "cell_type": "markdown",
   "metadata": {},
   "source": [
    "Create finite element variables for the velocity, pressure and temperature fields. The last two of these are scalar fields needing only one value at each mesh point, while the velocity field contains a vector of *dim* dimensions at each mesh point."
   ]
  },
  {
   "cell_type": "code",
   "execution_count": 4,
   "metadata": {
    "collapsed": false
   },
   "outputs": [],
   "source": [
    "velocityField    = uw.fevariable.FeVariable( feMesh=mesh,         nodeDofCount=dim )\n",
    "pressureField    = uw.fevariable.FeVariable( feMesh=mesh.subMesh, nodeDofCount=1 )\n",
    "temperatureField = uw.fevariable.FeVariable( feMesh=mesh,         nodeDofCount=1 )"
   ]
  },
  {
   "cell_type": "markdown",
   "metadata": {},
   "source": [
    "Set up material parameters and functions\n",
    "-----\n",
    "\n",
    "Here the functions for density, viscosity etc. are set. These functions and/or values are preserved for the entire simulation time. More details on setting functions in underworld is found in the user guide **05_Functions.ipynb**.\n",
    "\n",
    "Notes:\n",
    "1. Temperature must be in the range [0,1] for use with the density function defined using the Rayleigh number.\n",
    "2. $\\hat{z}$ (*z_hat*) denotes the positive vertical direction. \n",
    "3. The density ($\\rho$) should be negatively proportional to the temperature field so that high temperature has low density.\n",
    "4. The constant of proportionality in this case is the Rayleigh number, which is set low here to speed up the system.\n",
    "4. Both $\\hat{z}$ and $\\rho$ are combined to define the buoyancy function which is used to set up the Stokes system."
   ]
  },
  {
   "cell_type": "code",
   "execution_count": 5,
   "metadata": {
    "collapsed": false
   },
   "outputs": [],
   "source": [
    "# Set viscosity to be a constant.\n",
    "viscosity = 1.\n",
    "\n",
    "# Rayleigh number.\n",
    "Ra = 1.0e4\n",
    "\n",
    "# Construct our density function.\n",
    "densityFn = -Ra * temperatureField\n",
    "\n",
    "# Define our vertical unit vector using a python tuple (this will be automatically converted to a function).\n",
    "z_hat = ( 0.0, 1.0 )\n",
    "\n",
    "# Now create a buoyancy force vector using the density and the vertical unit vector. \n",
    "buoyancyFn = densityFn * z_hat"
   ]
  },
  {
   "cell_type": "markdown",
   "metadata": {},
   "source": [
    "By setting the system up in this way we only need to create these functions once at the beginning of the simulation and not each timestep."
   ]
  },
  {
   "cell_type": "markdown",
   "metadata": {},
   "source": [
    "Set initial conditions and boundary conditions\n",
    "----------"
   ]
  },
  {
   "cell_type": "markdown",
   "metadata": {},
   "source": [
    "**Initial conditions**\n",
    "\n",
    "First initialise the velocity and pressure fields to zero everywhere in the domain."
   ]
  },
  {
   "cell_type": "code",
   "execution_count": 6,
   "metadata": {
    "collapsed": false
   },
   "outputs": [],
   "source": [
    "velocityField.data[:] = [0.,0.]\n",
    "pressureField.data[:] = 0."
   ]
  },
  {
   "cell_type": "markdown",
   "metadata": {},
   "source": [
    "Set a small perturbation in the temperature field to seed the onset of convection."
   ]
  },
  {
   "cell_type": "code",
   "execution_count": 7,
   "metadata": {
    "collapsed": true
   },
   "outputs": [],
   "source": [
    "pertStrength = 0.01\n",
    "deltaTemp = tempMax - tempMin\n",
    "for index, coord in enumerate(mesh.data):\n",
    "    pertCoeff = math.cos( math.pi * coord[0]/boxLength ) * math.sin( math.pi * coord[1]/boxLength )\n",
    "    temperatureField.data[index] = tempMin + deltaTemp*(boxHeight - coord[1]) + pertStrength * pertCoeff\n",
    "    temperatureField.data[index] = max(tempMin, min(tempMax, temperatureField.data[index]))"
   ]
  },
  {
   "cell_type": "markdown",
   "metadata": {},
   "source": [
    "**Boundary conditions**\n",
    "\n",
    "This step is to ensure that the temperature boundary conditions are satisfied, as the initial conditions above may have been set to different values on the boundaries."
   ]
  },
  {
   "cell_type": "code",
   "execution_count": 8,
   "metadata": {
    "collapsed": false
   },
   "outputs": [],
   "source": [
    "for index in mesh.specialSets[\"MinJ_VertexSet\"]:\n",
    "    temperatureField.data[index] = tempMax\n",
    "for index in mesh.specialSets[\"MaxJ_VertexSet\"]:\n",
    "    temperatureField.data[index] = tempMin"
   ]
  },
  {
   "cell_type": "markdown",
   "metadata": {},
   "source": [
    "**Conditions on the boundaries**\n",
    "\n",
    "Construct sets for the both horizontal and vertical walls. Combine the sets of vertices to make the ``I`` (left and right side walls) and ``J`` (top and bottom walls) sets. Note that both sets contain the corners of the box."
   ]
  },
  {
   "cell_type": "code",
   "execution_count": 9,
   "metadata": {
    "collapsed": false
   },
   "outputs": [],
   "source": [
    "iWalls = mesh.specialSets[\"MinI_VertexSet\"] + mesh.specialSets[\"MaxI_VertexSet\"]\n",
    "jWalls = mesh.specialSets[\"MinJ_VertexSet\"] + mesh.specialSets[\"MaxJ_VertexSet\"]"
   ]
  },
  {
   "cell_type": "markdown",
   "metadata": {},
   "source": [
    "Let's create the boundary conditions.\n",
    "\n",
    "For (2d) vector variables, we may flag up two Dirichlet conditions on each vertex.. for velocity it's a condition for $v_x$ and one for $v_y$. We provide a tuple of sets specifying which degrees of freedom (Set($v_x$), Set($v_y$)) should be considered Dirichlet.\n",
    "\n",
    "The temperature is held constant on the top and bottom boundaries via the tempBC object created below."
   ]
  },
  {
   "cell_type": "code",
   "execution_count": 10,
   "metadata": {
    "collapsed": true
   },
   "outputs": [],
   "source": [
    "freeslipBC = uw.conditions.DirichletCondition( variable      = velocityField, \n",
    "                                               nodeIndexSets = (iWalls, jWalls) )\n",
    "tempBC     = uw.conditions.DirichletCondition( variable      = temperatureField, \n",
    "                                               nodeIndexSets = (jWalls,) )"
   ]
  },
  {
   "cell_type": "markdown",
   "metadata": {},
   "source": [
    "More information on setting boundary conditions is found in the **06_Systems.ipynb** user guide."
   ]
  },
  {
   "cell_type": "markdown",
   "metadata": {},
   "source": [
    "**Plot initial conditions for temperature**\n"
   ]
  },
  {
   "cell_type": "code",
   "execution_count": 11,
   "metadata": {
    "collapsed": false,
    "scrolled": false
   },
   "outputs": [
    {
     "data": {
      "text/html": [
       "<img src='data:image/png;base64,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'>"
      ],
      "text/plain": [
       "<IPython.core.display.HTML object>"
      ]
     },
     "execution_count": 11,
     "metadata": {},
     "output_type": "execute_result"
    }
   ],
   "source": [
    "figtemp = glucifer.Figure( figsize=(800,400) )\n",
    "figtemp + glucifer.objects.Surface( mesh, temperatureField, colours=\"blue white red\" )\n",
    "figtemp + glucifer.objects.Mesh( mesh )\n",
    "figtemp.show()"
   ]
  },
  {
   "cell_type": "markdown",
   "metadata": {},
   "source": [
    "System setup\n",
    "-----\n",
    "\n",
    "**Setup a Stokes system**\n",
    "\n",
    "For most geodynamics problems the motion of the fluid is well described by [incompressible Stokes equations](https://en.wikipedia.org/wiki/Navier%E2%80%93Stokes_equations). In underworld setting up such as system requires the velocity field, pressure, viscosity and buoyancy forces be passed to the Stokes system function. Along with the conditions affecting these variables - in this case the boundary conditions for the velocity field.\n",
    "\n",
    "This system is solved after each time step using the .solve function (see main loop below)."
   ]
  },
  {
   "cell_type": "code",
   "execution_count": 12,
   "metadata": {
    "collapsed": false
   },
   "outputs": [],
   "source": [
    "stokesPIC = uw.systems.Stokes( velocityField = velocityField, \n",
    "                               pressureField = pressureField,\n",
    "                               conditions    = [freeslipBC,],\n",
    "                               viscosityFn   = viscosity, \n",
    "                               bodyForceFn   = buoyancyFn )"
   ]
  },
  {
   "cell_type": "markdown",
   "metadata": {},
   "source": [
    "**Create an advective diffusive system**\n",
    "\n",
    "For the heat transport in the system the advection diffusion equation is solved for the temperature field. This is used in tandem with the Stokes system, which solves for the velocity field given the temperature and pressure fields (above). More information on the advection diffusion equation can be found [here](https://en.wikipedia.org/wiki/Convection%E2%80%93diffusion_equation).\n",
    "\n",
    "Similar to the Stokes system, the advection diffusion system is setup in underworld by flagging the temperature and velocity field variables as well as the temperature boundary conditions."
   ]
  },
  {
   "cell_type": "code",
   "execution_count": 13,
   "metadata": {
    "collapsed": false
   },
   "outputs": [],
   "source": [
    "advDiff = uw.systems.AdvectionDiffusion( temperatureField, velocityField, diffusivity=1., conditions=[tempBC,], )"
   ]
  },
  {
   "cell_type": "markdown",
   "metadata": {},
   "source": [
    "Main time loop\n",
    "-----\n",
    "\n",
    "The main time stepping loop begins here. Before this the time and number of timesteps are initialised to zero. For this particular example the simulation is run for long enough to see convection beginning.\n"
   ]
  },
  {
   "cell_type": "code",
   "execution_count": 14,
   "metadata": {
    "collapsed": false
   },
   "outputs": [],
   "source": [
    "time = 0.\n",
    "step = 0\n",
    "steps_end = 10\n",
    "while step < steps_end:\n",
    "    # Solve for the velocity field given the current temperature field.\n",
    "    stokesPIC.solve()\n",
    "    # Retrieve the maximum possible timestep for the AD system.\n",
    "    dt = advDiff.get_max_dt()\n",
    "    if step == 0:\n",
    "        dt = 0.\n",
    "    # Advect using this timestep size   \n",
    "    advDiff.integrate(dt)\n",
    "    step += 1"
   ]
  },
  {
   "cell_type": "markdown",
   "metadata": {},
   "source": [
    "**Plot final temperature field**"
   ]
  },
  {
   "cell_type": "code",
   "execution_count": 15,
   "metadata": {
    "collapsed": false
   },
   "outputs": [
    {
     "data": {
      "text/html": [
       "<img src='data:image/png;base64,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'>"
      ],
      "text/plain": [
       "<IPython.core.display.HTML object>"
      ]
     },
     "execution_count": 15,
     "metadata": {},
     "output_type": "execute_result"
    }
   ],
   "source": [
    "figtemp = glucifer.Figure(figsize=(800,400))\n",
    "figtemp + glucifer.objects.Surface(mesh, temperatureField, colours=\"blue white red\")\n",
    "figtemp + glucifer.objects.Mesh(mesh)\n",
    "figtemp.show()"
   ]
  },
  {
   "cell_type": "markdown",
   "metadata": {},
   "source": [
    "**Overlay with velocity field**\n",
    "\n",
    "To show the convective motion of the fluid we overlay the velocity field over the previous temperature field plot."
   ]
  },
  {
   "cell_type": "code",
   "execution_count": 16,
   "metadata": {
    "collapsed": false
   },
   "outputs": [
    {
     "data": {
      "text/html": [
       "<img src='data:image/png;base64,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'>"
      ],
      "text/plain": [
       "<IPython.core.display.HTML object>"
      ]
     },
     "execution_count": 16,
     "metadata": {},
     "output_type": "execute_result"
    }
   ],
   "source": [
    "# plot figure\n",
    "figWithV = glucifer.Figure(figsize=(800,400))\n",
    "figWithV + glucifer.objects.Surface(mesh, temperatureField, colours=\"blue white red\")\n",
    "figWithV + glucifer.objects.VectorArrows(mesh, velocityField, arrowHeadSize=0.2, lengthScale=0.2, colourBar=False)\n",
    "figWithV.show()"
   ]
  },
  {
   "cell_type": "code",
   "execution_count": null,
   "metadata": {
    "collapsed": true
   },
   "outputs": [],
   "source": []
  }
 ],
 "metadata": {
  "kernelspec": {
   "display_name": "Python 2",
   "language": "python",
   "name": "python2"
  },
  "language_info": {
   "codemirror_mode": {
    "name": "ipython",
    "version": 2
   },
   "file_extension": ".py",
   "mimetype": "text/x-python",
   "name": "python",
   "nbconvert_exporter": "python",
   "pygments_lexer": "ipython2",
   "version": "2.7.6"
  }
 },
 "nbformat": 4,
 "nbformat_minor": 0
}
