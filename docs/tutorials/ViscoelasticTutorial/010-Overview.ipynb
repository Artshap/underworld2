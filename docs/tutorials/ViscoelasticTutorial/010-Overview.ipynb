{
 "cells": [
  {
   "cell_type": "markdown",
   "metadata": {},
   "source": [
    "Modelling a viscoelastic rheology with Underworld\n",
    "=====\n",
    "\n",
    "This tutorial is designed to introduct modelling viscoelastic materials in Underworld. It will begin with basic theory, through implementation and testing, to geodynamic applications and published results.\n",
    "\n",
    "This notebook introduces the rhoelogical laws defining viscoelastic deformation and the numerical approach Underworld takes to solve for the resulting stresses.\n",
    "\n",
    "1. Introduction to viscoelastic deformation \n",
    "  - What is the Maxwell model\n",
    "  - How does this related to Earth\n",
    "2. Underworlds numerical implementation of viscoelasticity\n",
    "  - outline the theory\n",
    "  - include discussion regarding tensor invariance, rotation, jaumann, etc.\n",
    "  - example of a loaded cantilever"
   ]
  },
  {
   "cell_type": "markdown",
   "metadata": {},
   "source": [
    "The remaining notebooks in this tutorial will contain\n",
    "\n",
    "2. Analytic solutions in Underworld \n",
    "    - solve for a simple shear in 2D\n",
    "    - discuss the importance of the time scale\n",
    "    - include a 3D rotated shearing solution\n",
    "    \n",
    "3. Viscoelastic stresses in subduction\n",
    "    - outline problem and results from Farrington (2014)\n",
    "    \n",
    "4. Viscoelastic plate loading\n",
    "    - outline test case, what do we expect\n",
    "    - what is the result?\n",
    "    \n",
    "5. Viscoelastic beam in extension\n",
    "    - viscoelastoplastic implementation\n",
    "    - reproduction of Moresi et al (2003), Figure 8.\n",
    "    \n",
    "    \n",
    "6. Viscoelastoplastic material in extentional settings\n",
    "    - Discuss rifting with a viscoelastoplastic rheology\n",
    "  "
   ]
  },
  {
   "cell_type": "code",
   "execution_count": null,
   "metadata": {
    "collapsed": true
   },
   "outputs": [],
   "source": []
  }
 ],
 "metadata": {
  "kernelspec": {
   "display_name": "Python 2",
   "language": "python",
   "name": "python2"
  },
  "language_info": {
   "codemirror_mode": {
    "name": "ipython",
    "version": 2
   },
   "file_extension": ".py",
   "mimetype": "text/x-python",
   "name": "python",
   "nbconvert_exporter": "python",
   "pygments_lexer": "ipython2",
   "version": "2.7.11"
  }
 },
 "nbformat": 4,
 "nbformat_minor": 0
}
