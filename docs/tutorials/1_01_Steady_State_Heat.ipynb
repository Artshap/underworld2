{
 "cells": [
  {
   "cell_type": "markdown",
   "metadata": {},
   "source": [
    "Steady state heat equation\n",
    "======\n",
    "\n",
    "This notebook is intended to give a quick overview of how to run underworld using ipython notebooks. It is the beginning of a series of tutorials which will increase in functionality. By the end of these tutorials the user should be able to tackle the more complex notebooks available in the **publications** directory. For more simple and specific infomation about the functionality of underworld the user is directed to the **user_guide** directory.\n",
    "\n",
    "Specifically this notebook will setup and solve the steady state heat equation given by\n",
    "\\\\[\n",
    "\\nabla(k\\nabla)T = h\n",
    "\\\\]\n",
    "where $k$ is the conductivity, T is the temperature field (solved for) and $h$ is any additional heating term. \n",
    "\n",
    "**This lesson introduces the concepts of:**\n",
    "1. Basics of underworld\n",
    "2. Setting up the mesh\n",
    "4. Setting boundary conditions\n",
    "5. Solving the heat equation\n",
    "6. Plotting physical quantities on the mesh\n",
    "\n",
    "**Keywords:** initial conditions, boundary conditions, heat equation, mesh basics"
   ]
  },
  {
   "cell_type": "code",
   "execution_count": 1,
   "metadata": {
    "collapsed": false
   },
   "outputs": [],
   "source": [
    "import underworld as uw\n",
    "from underworld import function as fn\n",
    "import glucifer"
   ]
  },
  {
   "cell_type": "markdown",
   "metadata": {},
   "source": [
    "Setup parameters\n",
    "-----\n",
    "\n",
    "Set physical values for test. Particularly the number of dimensions for the simulation (*dim*), simulation resolution (*res*) and simulation box height and lengths."
   ]
  },
  {
   "cell_type": "code",
   "execution_count": 2,
   "metadata": {
    "collapsed": false
   },
   "outputs": [],
   "source": [
    "# Set number of dimensions.\n",
    "dim = 2\n",
    "# Set simulation box size.\n",
    "boxHeight = 1.0\n",
    "boxLength = 2.0\n",
    "# Set min/max temperatures.\n",
    "tempMin = 0.0\n",
    "tempMax = 1.0\n",
    "# Set the resolution.\n",
    "res = 4"
   ]
  },
  {
   "cell_type": "markdown",
   "metadata": {},
   "source": [
    "Create mesh and finite element variables\n",
    "------\n",
    "\n",
    "Create mesh object. These store the indices and spatial coordiates of the grid points on the mesh."
   ]
  },
  {
   "cell_type": "code",
   "execution_count": 3,
   "metadata": {
    "collapsed": false
   },
   "outputs": [],
   "source": [
    "mesh = uw.mesh.FeMesh_Cartesian( elementType = (\"Q1/dQ0\"), \n",
    "                                 elementRes  = (res, res), \n",
    "                                 minCoord    = (0., 0.), \n",
    "                                 maxCoord    = (boxLength, boxHeight))"
   ]
  },
  {
   "cell_type": "markdown",
   "metadata": {},
   "source": [
    "More information on meshes can be found in the user guide **02_Meshing.ipynb**."
   ]
  },
  {
   "cell_type": "markdown",
   "metadata": {},
   "source": [
    "Create Finite Element (FE) variables for the temperature field (see user guide **03_FEVariables.ipynb**). This is a scalar field, so it only needs one value at each mesh point."
   ]
  },
  {
   "cell_type": "code",
   "execution_count": 4,
   "metadata": {
    "collapsed": false
   },
   "outputs": [],
   "source": [
    "temperatureField = uw.fevariable.FeVariable( feMesh=mesh, nodeDofCount=1 )"
   ]
  },
  {
   "cell_type": "markdown",
   "metadata": {},
   "source": [
    "Initialise data on the temperature field to equal zero."
   ]
  },
  {
   "cell_type": "code",
   "execution_count": 5,
   "metadata": {
    "collapsed": false
   },
   "outputs": [],
   "source": [
    "temperatureField.data[:] = 0."
   ]
  },
  {
   "cell_type": "markdown",
   "metadata": {},
   "source": [
    "Set boundary conditions\n",
    "----------"
   ]
  },
  {
   "cell_type": "markdown",
   "metadata": {},
   "source": [
    "First we need to decide where the boundary conditions should be applied. Underworld includes functions for listing special sets of vertices on the mesh. To see the list of them run the following command."
   ]
  },
  {
   "cell_type": "code",
   "execution_count": 6,
   "metadata": {
    "collapsed": false
   },
   "outputs": [
    {
     "data": {
      "text/plain": [
       "['MaxI_VertexSet',\n",
       " 'MinI_VertexSet',\n",
       " 'AllWalls',\n",
       " 'AllWalls_VertexSet',\n",
       " 'MinJ_VertexSet',\n",
       " 'MaxJ_VertexSet',\n",
       " 'Empty']"
      ]
     },
     "execution_count": 6,
     "metadata": {},
     "output_type": "execute_result"
    }
   ],
   "source": [
    "mesh.specialSets.keys()"
   ]
  },
  {
   "cell_type": "markdown",
   "metadata": {},
   "source": [
    "We wish to set the temperature at the bottom of the domain to have the maximum temperature, and the temperature across the top to have the minimum temperature. \n",
    "\n",
    "Note that by convention, where the mesh has a resolution (I,J), we consider that I is the resolution is in the x direction and J is the resolution in the y direction. The vertices across the bottom of the domain are therefore contained within minimum 'J' set, and those across the top are in maximum 'J' set. \n",
    "\n",
    "Let's walk through these vertices, and set the values accordingly using the 'data' handle. "
   ]
  },
  {
   "cell_type": "code",
   "execution_count": 7,
   "metadata": {
    "collapsed": false
   },
   "outputs": [],
   "source": [
    "for index in mesh.specialSets[\"MinJ_VertexSet\"]:\n",
    "    temperatureField.data[index] = tempMax\n",
    "for index in mesh.specialSets[\"MaxJ_VertexSet\"]:\n",
    "    temperatureField.data[index] = tempMin"
   ]
  },
  {
   "cell_type": "markdown",
   "metadata": {},
   "source": [
    "**Flag boundaries as Dirichlet**\n",
    "\n",
    "Again using sets, we construct sets for the horizontal walls which we will use to construct conditions on the system. Note that these sets employ python operator overloading so they can be added together by simply using the '+' operator."
   ]
  },
  {
   "cell_type": "code",
   "execution_count": 8,
   "metadata": {
    "collapsed": false
   },
   "outputs": [],
   "source": [
    "jWalls = mesh.specialSets[\"MinJ_VertexSet\"] + mesh.specialSets[\"MaxJ_VertexSet\"]"
   ]
  },
  {
   "cell_type": "markdown",
   "metadata": {},
   "source": [
    "Underworld needs to know which vertices you wish to have fixed values on, i.e. which vertices should be flagged as conditions on the system. We are effectively telling the solver that for flagged vertices, the values are already known and it should not modify them (although it will certainly read and use them).\n",
    "\n",
    "We use the DirechletCondition object to achieve this. This conditions object will be passed into the solver below."
   ]
  },
  {
   "cell_type": "code",
   "execution_count": 9,
   "metadata": {
    "collapsed": true
   },
   "outputs": [],
   "source": [
    "tempBC = uw.conditions.DirichletCondition( variable      = temperatureField, \n",
    "                                           nodeIndexSets = (jWalls,) )"
   ]
  },
  {
   "cell_type": "markdown",
   "metadata": {},
   "source": [
    "For more information on setting boundary conditions in underworld, see the user guide **06_Systems.ipynb**."
   ]
  },
  {
   "cell_type": "markdown",
   "metadata": {},
   "source": [
    "**Plot initial conditions for temperature**\n",
    "\n",
    "We use the gLucifer visualisation engine to render the temperature field and overlay it with the mesh."
   ]
  },
  {
   "cell_type": "code",
   "execution_count": 10,
   "metadata": {
    "collapsed": false,
    "scrolled": false
   },
   "outputs": [
    {
     "data": {
      "text/html": [
       "<img src='data:image/png;base64,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'>"
      ],
      "text/plain": [
       "<IPython.core.display.HTML object>"
      ]
     },
     "execution_count": 10,
     "metadata": {},
     "output_type": "execute_result"
    }
   ],
   "source": [
    "figtemp = glucifer.Figure(figsize=(800,400))\n",
    "figtemp + glucifer.objects.Surface(mesh, temperatureField)\n",
    "figtemp + glucifer.objects.Mesh(mesh)\n",
    "figtemp.show()"
   ]
  },
  {
   "cell_type": "markdown",
   "metadata": {},
   "source": [
    "For more information on visualising data using ``gLucifer`` see the user guide **08_VisualisationWithgLucifer.ipynb**."
   ]
  },
  {
   "cell_type": "markdown",
   "metadata": {},
   "source": [
    "System setup\n",
    "-----\n",
    "\n",
    "**Setup a heat equation solver**\n",
    "\n",
    "The steady state heat equation is given by\n",
    "\\\\[\n",
    "\\nabla(k\\nabla)T = h\n",
    "\\\\]\n",
    "where $k$ is the conductivity, T is the temperature field (solved for) and $h$ is any additional heating term. See [here](https://en.wikipedia.org/wiki/Heat_equation) for more information on the heat equation.\n",
    "\n",
    "To setup the heat equation using underworld the temperature field, conductivity and boundary conditions are passed to a system function (next cell). The system is then solved using the solve() method (see main loop below)."
   ]
  },
  {
   "cell_type": "code",
   "execution_count": 11,
   "metadata": {
    "collapsed": false
   },
   "outputs": [],
   "source": [
    "heatequation = uw.systems.SteadyStateHeat(temperatureField=temperatureField, conductivityFn=1.0, conditions=[tempBC,])"
   ]
  },
  {
   "cell_type": "markdown",
   "metadata": {},
   "source": [
    "Solving\n",
    "-----\n",
    "\n",
    "Solving the heat equation system setup above is done by the following command.\n"
   ]
  },
  {
   "cell_type": "code",
   "execution_count": 12,
   "metadata": {
    "collapsed": false
   },
   "outputs": [],
   "source": [
    "heatequation.solve()"
   ]
  },
  {
   "cell_type": "markdown",
   "metadata": {},
   "source": [
    "More information on systems and how to solve them can be found in user guide **06_Systems.ipynb** and in subsequent tutorial notebooks."
   ]
  },
  {
   "cell_type": "markdown",
   "metadata": {},
   "source": [
    "Plot final temperature field\n",
    "-----\n",
    "\n",
    "The resulting temperature field has been loaded into the temperatureField variable. Let's visualise the results."
   ]
  },
  {
   "cell_type": "code",
   "execution_count": 13,
   "metadata": {
    "collapsed": false
   },
   "outputs": [
    {
     "data": {
      "text/html": [
       "<img src='data:image/png;base64,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'>"
      ],
      "text/plain": [
       "<IPython.core.display.HTML object>"
      ]
     },
     "execution_count": 13,
     "metadata": {},
     "output_type": "execute_result"
    }
   ],
   "source": [
    "figtemp = glucifer.Figure( figsize=(800,400) )\n",
    "figtemp + glucifer.objects.Surface(mesh, temperatureField)\n",
    "figtemp + glucifer.objects.Mesh(mesh)\n",
    "figtemp.show()"
   ]
  },
  {
   "cell_type": "code",
   "execution_count": null,
   "metadata": {
    "collapsed": true
   },
   "outputs": [],
   "source": [
    "    "
   ]
  }
 ],
 "metadata": {
  "kernelspec": {
   "display_name": "Python 2",
   "language": "python",
   "name": "python2"
  },
  "language_info": {
   "codemirror_mode": {
    "name": "ipython",
    "version": 2
   },
   "file_extension": ".py",
   "mimetype": "text/x-python",
   "name": "python",
   "nbconvert_exporter": "python",
   "pygments_lexer": "ipython2",
   "version": "2.7.10"
  }
 },
 "nbformat": 4,
 "nbformat_minor": 0
}
