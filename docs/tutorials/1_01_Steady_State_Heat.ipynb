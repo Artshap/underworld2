{
 "cells": [
  {
   "cell_type": "markdown",
   "metadata": {},
   "source": [
    "Steady state heat equation\n",
    "======\n",
    "\n",
    "This notebook is intended to give a quick overview of how to run underworld using ipython notebooks. It is the beginning of a series of tutorials which will increase in functionality. By the end of these tutorials the user should be able to tackle the more complex notebooks available in the **publications** directory. For more details on individual concepts the user is directed to notebooks in the **userguides** directory.\n",
    "\n",
    "**This lesson introduces the concepts of:**\n",
    "1. basics of underworld\n",
    "2. setting up meshes (grids)\n",
    "3. setting initial conditions\n",
    "4. setting boundary conditions\n",
    "5. solving heat equation for steady state conditions\n",
    "6. plotting physical quantities on meshes\n",
    "\n",
    "**Keywords:** initial conditions, boundary conditions, heat equation, mesh basics"
   ]
  },
  {
   "cell_type": "markdown",
   "metadata": {},
   "source": [
    "Load python functions needed for underworld."
   ]
  },
  {
   "cell_type": "code",
   "execution_count": 1,
   "metadata": {
    "collapsed": false
   },
   "outputs": [],
   "source": [
    "import underworld as uw\n",
    "import math\n",
    "from underworld import function as fn\n",
    "import glucifer.pylab as plt\n",
    "import numpy as np"
   ]
  },
  {
   "cell_type": "markdown",
   "metadata": {},
   "source": [
    "Setup parameters\n",
    "-----\n",
    "\n",
    "Set physical values for test. Particularly the number of dimensions for the simulation (*dim*), simulation resolution (*res*) and simulation box height and lengths."
   ]
  },
  {
   "cell_type": "code",
   "execution_count": 2,
   "metadata": {
    "collapsed": false
   },
   "outputs": [],
   "source": [
    "# set number of dimensions\n",
    "dim = 2\n",
    "# set simulation box size\n",
    "boxHeight = 1.0\n",
    "boxLength = 1.0\n",
    "# set min/max temperatures\n",
    "tempMin = 0.0\n",
    "tempMax = 1.0\n",
    "# set the resolution\n",
    "res = 4"
   ]
  },
  {
   "cell_type": "markdown",
   "metadata": {},
   "source": [
    "**Variable and parameter notation**\n",
    "\n",
    "As a convention variable names begin with a lowercase letter as per the ``mixedCase`` or ``Camel case`` style. Regarding the style used throughout the rest of the notebooks we aim to be as close to the standard [python](https://www.python.org/dev/peps/pep-0008/) style as possible."
   ]
  },
  {
   "cell_type": "markdown",
   "metadata": {},
   "source": [
    "Create mesh and finite element variables\n",
    "------\n",
    "\n",
    "Create mesh objects. These store the indices and spatial coordiates of the grid points on the mesh."
   ]
  },
  {
   "cell_type": "code",
   "execution_count": 3,
   "metadata": {
    "collapsed": false
   },
   "outputs": [],
   "source": [
    "elementMesh = uw.mesh.FeMesh_Cartesian( elementType = (\"Q1/dQ0\"), \n",
    "                                         elementRes = (res, res), \n",
    "                                           minCoord = (0., 0.), \n",
    "                                           maxCoord = (boxLength, boxHeight))\n",
    "# the temperature field uses the element mesh\n",
    "temperatureMesh = elementMesh"
   ]
  },
  {
   "cell_type": "markdown",
   "metadata": {},
   "source": [
    "More information on meshes can be found in the **userguide** directory.\n",
    "\n",
    "**Notation:** note that equal signs are aligned in long command lines (such as above) for ease of reading."
   ]
  },
  {
   "cell_type": "markdown",
   "metadata": {},
   "source": [
    "Create Finite Element (FE) variables for the temperature field. This is a scalar fields so it only needs one value at each mesh point."
   ]
  },
  {
   "cell_type": "code",
   "execution_count": 4,
   "metadata": {
    "collapsed": false
   },
   "outputs": [],
   "source": [
    "temperatureField = uw.fevariable.FeVariable( feMesh=temperatureMesh, nodeDofCount=1 )"
   ]
  },
  {
   "cell_type": "markdown",
   "metadata": {},
   "source": [
    "Set initial conditions and boundary conditions\n",
    "----------"
   ]
  },
  {
   "cell_type": "markdown",
   "metadata": {},
   "source": [
    "**Initial conditions**\n",
    "\n",
    "Start with a the temperature field equal to zero everywhere except on the boundaries (below)."
   ]
  },
  {
   "cell_type": "code",
   "execution_count": 5,
   "metadata": {
    "collapsed": false
   },
   "outputs": [],
   "source": [
    "temperatureField.data[:] = 0."
   ]
  },
  {
   "cell_type": "markdown",
   "metadata": {},
   "source": [
    "**Boundary conditions**\n",
    "\n",
    "Underworld includes functions for listing special sets of vertices on the mesh. To see the list of them run the following command"
   ]
  },
  {
   "cell_type": "code",
   "execution_count": 6,
   "metadata": {
    "collapsed": false
   },
   "outputs": [
    {
     "data": {
      "text/plain": [
       "['MaxI_VertexSet',\n",
       " 'MinI_VertexSet',\n",
       " 'AllWalls',\n",
       " 'MinJ_VertexSet',\n",
       " 'MaxJ_VertexSet',\n",
       " 'Empty']"
      ]
     },
     "execution_count": 6,
     "metadata": {},
     "output_type": "execute_result"
    }
   ],
   "source": [
    "temperatureMesh.specialSets.keys()"
   ]
  },
  {
   "cell_type": "markdown",
   "metadata": {},
   "source": [
    "Here we set the temperature at the bottom of the simulation box to have the maximum temperature and the top of the box to have the minimum temperature.\n",
    "\n",
    "The vertices on the mesh for the bottom of the simulation box are contained in \"MinJ_VertexSet\", those for the top are in \"MaxJ_VertexSet\"."
   ]
  },
  {
   "cell_type": "code",
   "execution_count": 7,
   "metadata": {
    "collapsed": false
   },
   "outputs": [],
   "source": [
    "for index in temperatureMesh.specialSets[\"MinJ_VertexSet\"]:\n",
    "    temperatureField.data[index] = tempMax\n",
    "for index in temperatureMesh.specialSets[\"MaxJ_VertexSet\"]:\n",
    "    temperatureField.data[index] = tempMin"
   ]
  },
  {
   "cell_type": "markdown",
   "metadata": {},
   "source": [
    "**Conditions on the boundaries**\n",
    "\n",
    "Construct sets for the both horizontal and vertical walls. Combine the sets of vertices to make the ``i`` (left and right side walls) and ``j`` (top and bottom walls) sets. Note that both sets contain the corners of the box."
   ]
  },
  {
   "cell_type": "code",
   "execution_count": 8,
   "metadata": {
    "collapsed": false
   },
   "outputs": [],
   "source": [
    "iWalls = temperatureMesh.specialSets[\"MinI_VertexSet\"] + temperatureMesh.specialSets[\"MaxI_VertexSet\"]\n",
    "jWalls = temperatureMesh.specialSets[\"MinJ_VertexSet\"] + temperatureMesh.specialSets[\"MaxJ_VertexSet\"]"
   ]
  },
  {
   "cell_type": "markdown",
   "metadata": {},
   "source": [
    "**Use sets to specify the type of boundary conditions**\n",
    "\n",
    "**Underworld** needs to know what to do on the boundaries of the simulation box. The defaults boundary conditions are on the variable itself; also called Dirichlet (or free-slip) boundary conditions. More information on Dirichlet boundary conditions can be found [here](https://en.wikipedia.org/wiki/Dirichlet_boundary_condition), briefly these are any conditions of the form\n",
    "\\\\[\n",
    "y(a) = \\alpha \\quad \\quad y(b) = \\beta\n",
    "\\\\]\n",
    "which are set below for the velocity vector field and temperature scalar fields along the boundaries (IWalls, JWalls). The values for the boundaries are what ever is in the variables before this step, in this case the initial conditions set above. \n",
    "\n",
    "For example a set of tuples containing $v_x$ and $v_y$ for the velocity field will be preserved for all time on the boundaries (IWalls, JWalls) by the first command below. \n",
    "\n",
    "While the temperature is only held constant on the top and bottom boundaries (JWalls) by the second command below.\n",
    "\n",
    "Note that through this function, we are flagging to the system that these vertices are to be considered as boundary conditions."
   ]
  },
  {
   "cell_type": "code",
   "execution_count": 9,
   "metadata": {
    "collapsed": true
   },
   "outputs": [],
   "source": [
    "tempBC = uw.conditions.DirichletCondition( variable      = temperatureField, \n",
    "                                           nodeIndexSets = (jWalls,) )"
   ]
  },
  {
   "cell_type": "markdown",
   "metadata": {},
   "source": [
    "**Plot initial conditions for temperature**\n",
    "\n",
    "The following cell uses the built in plotter (**gLucifer**) to plot the temperature field (initial conditions) and overlay it with the mesh."
   ]
  },
  {
   "cell_type": "code",
   "execution_count": 10,
   "metadata": {
    "collapsed": false,
    "scrolled": false
   },
   "outputs": [
    {
     "data": {
      "image/png": "[encoded data removed]",
      "text/plain": [
       "<IPython.core.display.Image object>"
      ]
     },
     "execution_count": 10,
     "metadata": {},
     "output_type": "execute_result"
    }
   ],
   "source": [
    "figtemp = plt.Figure()\n",
    "figtemp.Surface(temperatureField, temperatureMesh, colours=\"blue white red\")\n",
    "figtemp.Mesh(temperatureMesh, colourBar = False)\n",
    "figtemp.show()"
   ]
  },
  {
   "cell_type": "markdown",
   "metadata": {},
   "source": [
    "System setup\n",
    "-----\n",
    "\n",
    "**Setup a heat equation solver**\n",
    "\n",
    "The heat equation in two dimensions ($x$, $z$) is given by\n",
    "\\\\[\n",
    "\\frac{\\partial T}{\\partial t} = k \\left( \\frac{\\partial^2 T}{\\partial x^2} + \\frac{\\partial^2 T}{\\partial z^2} \\right)\n",
    "\\\\]\n",
    "which in steady state can be writen as\n",
    "\\\\[\n",
    "\\nabla(k\\nabla)T = h\n",
    "\\\\]\n",
    "where $k$ is the conductivity, T is the temperature field (solved for) and $h$ is any additional heating term. See [here](https://en.wikipedia.org/wiki/Heat_equation) for more information on the heat equation.\n",
    "\n",
    "To setup the heat equation using underworld the temperature field, conductivity and boundary conditions are passed to a system function (next cell). The system is then solved using the *.solve* function (see main loop below)."
   ]
  },
  {
   "cell_type": "code",
   "execution_count": 11,
   "metadata": {
    "collapsed": false
   },
   "outputs": [],
   "source": [
    "heatequation = uw.systems.SteadyStateHeat(temperatureField=temperatureField, conductivityFn=1.0, conditions=[tempBC,])"
   ]
  },
  {
   "cell_type": "markdown",
   "metadata": {},
   "source": [
    "Main time loop\n",
    "-----\n",
    "\n",
    "Generally underworld will solve a dynamical system over a series of timesteps. In this particular case we seek the steady-state solution of the heat equation, which is a special case involving a single solve.\n",
    "\n",
    "Solving the heat equation system setup above is done by the following command.\n"
   ]
  },
  {
   "cell_type": "code",
   "execution_count": 12,
   "metadata": {
    "collapsed": false
   },
   "outputs": [],
   "source": [
    "heatequation.solve()"
   ]
  },
  {
   "cell_type": "markdown",
   "metadata": {},
   "source": [
    "**Plot final temperature field**\n",
    "\n",
    "The resulting temperature field is now in steady state. To see this we re-run the plotter used above."
   ]
  },
  {
   "cell_type": "code",
   "execution_count": 13,
   "metadata": {
    "collapsed": false
   },
   "outputs": [
    {
     "data": {
      "image/png": "[encoded data removed]",
      "text/plain": [
       "<IPython.core.display.Image object>"
      ]
     },
     "execution_count": 13,
     "metadata": {},
     "output_type": "execute_result"
    }
   ],
   "source": [
    "figtemp = plt.Figure()\n",
    "figtemp.Surface(temperatureField, temperatureMesh, colours=\"blue white red\")\n",
    "figtemp.Mesh(temperatureMesh, colourBar = False)\n",
    "figtemp.show()"
   ]
  },
  {
   "cell_type": "markdown",
   "metadata": {},
   "source": [
    "Assuming everything ran correctly, the temperature field should be in steady-state, i.e. a smooth gradient from the top minimum temperature to the bottom maximum temperature."
   ]
  }
 ],
 "metadata": {
  "kernelspec": {
   "display_name": "Python 2",
   "language": "python",
   "name": "python2"
  },
  "language_info": {
   "codemirror_mode": {
    "name": "ipython",
    "version": 2
   },
   "file_extension": ".py",
   "mimetype": "text/x-python",
   "name": "python",
   "nbconvert_exporter": "python",
   "pygments_lexer": "ipython2",
   "version": "2.7.6"
  }
 },
 "nbformat": 4,
 "nbformat_minor": 0
}
