{
 "cells": [
  {
   "cell_type": "markdown",
   "metadata": {},
   "source": [
    "Steady state heat equation\n",
    "======\n",
    "\n",
    "This notebook will setup and solve the steady state heat equation. \n",
    "\n",
    "The heat equation is given by\n",
    "\n",
    "\\\\[\n",
    "\\nabla(k\\nabla)T = h\n",
    "\\\\]\n",
    "\n",
    "where $k$ is the conductivity, T the temperature field and $h$ the source term (see [here](https://en.wikipedia.org/wiki/Heat_equation) for more information).\n",
    "\n",
    "**This tutorial introduces:**\n",
    "1. Setting up the mesh\n",
    "2. Creating boundary conditions\n",
    "3. Solving the heat equation\n",
    "4. Plotting with glucifer\n",
    "\n",
    "**Keywords:** initial conditions, boundary conditions, heat equation"
   ]
  },
  {
   "cell_type": "code",
   "execution_count": 14,
   "metadata": {
    "collapsed": false
   },
   "outputs": [],
   "source": [
    "import underworld as uw\n",
    "from underworld import function as fn\n",
    "import glucifer"
   ]
  },
  {
   "cell_type": "markdown",
   "metadata": {},
   "source": [
    "Setup parameters\n",
    "-----"
   ]
  },
  {
   "cell_type": "code",
   "execution_count": 15,
   "metadata": {
    "collapsed": false
   },
   "outputs": [],
   "source": [
    "# Set number of dimensions.\n",
    "dim = 2\n",
    "# Set box size.\n",
    "boxHeight = 1.0\n",
    "boxLength = 2.0\n",
    "# Set the resolution.\n",
    "resx = 16\n",
    "resy = 8"
   ]
  },
  {
   "cell_type": "markdown",
   "metadata": {},
   "source": [
    "Create mesh and variables\n",
    "------"
   ]
  },
  {
   "cell_type": "code",
   "execution_count": 16,
   "metadata": {
    "collapsed": false
   },
   "outputs": [],
   "source": [
    "mesh = uw.mesh.FeMesh_Cartesian( elementType = (\"Q1/dQ0\"), \n",
    "                                 elementRes  = (resx, resy), \n",
    "                                 minCoord    = (0., 0.), \n",
    "                                 maxCoord    = (boxLength, boxHeight))"
   ]
  },
  {
   "cell_type": "code",
   "execution_count": 18,
   "metadata": {
    "collapsed": false
   },
   "outputs": [
    {
     "data": {
      "text/html": [
       "<img src='data:image/png;base64,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'>"
      ],
      "text/plain": [
       "<IPython.core.display.HTML object>"
      ]
     },
     "execution_count": 18,
     "metadata": {},
     "output_type": "execute_result"
    }
   ],
   "source": [
    "# gLucifer visualisation of mesh\n",
    "fig = glucifer.Figure( figsize=(800,400) )\n",
    "fig.append(glucifer.objects.Mesh( mesh ))\n",
    "fig.show()"
   ]
  },
  {
   "cell_type": "markdown",
   "metadata": {},
   "source": [
    "Create mesh variables for the temperature field & initialise. "
   ]
  },
  {
   "cell_type": "code",
   "execution_count": 5,
   "metadata": {
    "collapsed": false
   },
   "outputs": [],
   "source": [
    "temperatureField = uw.mesh.MeshVariable( mesh=mesh, nodeDofCount=1 )\n",
    "temperatureField.data[:] = 0."
   ]
  },
  {
   "cell_type": "markdown",
   "metadata": {},
   "source": [
    "Create boundary conditions\n",
    "----------"
   ]
  },
  {
   "cell_type": "markdown",
   "metadata": {},
   "source": [
    "Determine which vertices will be flagged as boundary conditions on the system using special sets."
   ]
  },
  {
   "cell_type": "code",
   "execution_count": 6,
   "metadata": {
    "collapsed": false
   },
   "outputs": [
    {
     "data": {
      "text/plain": [
       "['MaxI_VertexSet',\n",
       " 'MinI_VertexSet',\n",
       " 'AllWalls',\n",
       " 'AllWalls_VertexSet',\n",
       " 'MinJ_VertexSet',\n",
       " 'MaxJ_VertexSet',\n",
       " 'Empty']"
      ]
     },
     "execution_count": 6,
     "metadata": {},
     "output_type": "execute_result"
    }
   ],
   "source": [
    "mesh.specialSets.keys()"
   ]
  },
  {
   "cell_type": "markdown",
   "metadata": {},
   "source": [
    "The vertices along the bottom wall is given by  'MinJ_VertexSet', the top wall given by the 'MaxJ_VertexSet'."
   ]
  },
  {
   "cell_type": "markdown",
   "metadata": {},
   "source": [
    "Construct sets for the horizontal walls."
   ]
  },
  {
   "cell_type": "code",
   "execution_count": 7,
   "metadata": {
    "collapsed": false
   },
   "outputs": [],
   "source": [
    "jWalls = mesh.specialSets[\"MinJ_VertexSet\"] + mesh.specialSets[\"MaxJ_VertexSet\"]"
   ]
  },
  {
   "cell_type": "markdown",
   "metadata": {},
   "source": [
    "Prescribe Direchlet, or fixed value, boundary conditions for the jWalls and provide values."
   ]
  },
  {
   "cell_type": "code",
   "execution_count": 8,
   "metadata": {
    "collapsed": true
   },
   "outputs": [],
   "source": [
    "tempBC = uw.conditions.DirichletCondition( variable=temperatureField, indexSetsPerDof=(jWalls,) )"
   ]
  },
  {
   "cell_type": "code",
   "execution_count": 9,
   "metadata": {
    "collapsed": false
   },
   "outputs": [],
   "source": [
    "# set bottom wall temperature bc\n",
    "for index in mesh.specialSets[\"MinJ_VertexSet\"]:\n",
    "    temperatureField.data[index] = 1.0\n",
    "# set top wall temperature bc\n",
    "for index in mesh.specialSets[\"MaxJ_VertexSet\"]:\n",
    "    temperatureField.data[index] = 0.0"
   ]
  },
  {
   "cell_type": "code",
   "execution_count": 32,
   "metadata": {
    "collapsed": false,
    "scrolled": false
   },
   "outputs": [
    {
     "data": {
      "text/html": [
       "<img src='data:image/png;base64,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'>"
      ],
      "text/plain": [
       "<IPython.core.display.HTML object>"
      ]
     },
     "execution_count": 32,
     "metadata": {},
     "output_type": "execute_result"
    }
   ],
   "source": [
    "# gLucifer visualisation of temperature field & mesh\n",
    "fig.append( glucifer.objects.Surface( mesh, temperatureField, colours=\"blue white red\" ) )\n",
    "fig.show()"
   ]
  },
  {
   "cell_type": "markdown",
   "metadata": {},
   "source": [
    "Heat Equation System setup & solve\n",
    "-----\n",
    "\n",
    "Temperature field, conductivity and boundary conditions are passed to the SteadyStateHeat system function."
   ]
  },
  {
   "cell_type": "code",
   "execution_count": 11,
   "metadata": {
    "collapsed": false
   },
   "outputs": [],
   "source": [
    "heatequation = uw.systems.SteadyStateHeat(temperatureField=temperatureField, conductivityFn=1.0, conditions=[tempBC,])"
   ]
  },
  {
   "cell_type": "markdown",
   "metadata": {},
   "source": [
    "Solve the heat equation."
   ]
  },
  {
   "cell_type": "code",
   "execution_count": 12,
   "metadata": {
    "collapsed": false
   },
   "outputs": [],
   "source": [
    "# get the default heat equation solver\n",
    "heatsolver = uw.systems.Solver(heatequation)\n",
    "# solve\n",
    "heatsolver.solve()"
   ]
  },
  {
   "cell_type": "code",
   "execution_count": 13,
   "metadata": {
    "collapsed": false
   },
   "outputs": [
    {
     "data": {
      "text/html": [
       "<img src='data:image/png;base64,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'>"
      ],
      "text/plain": [
       "<IPython.core.display.HTML object>"
      ]
     },
     "execution_count": 13,
     "metadata": {},
     "output_type": "execute_result"
    }
   ],
   "source": [
    "# gLucifer visualisation of temperature field & mesh\n",
    "fig.show()"
   ]
  },
  {
   "cell_type": "code",
   "execution_count": null,
   "metadata": {
    "collapsed": true
   },
   "outputs": [],
   "source": []
  }
 ],
 "metadata": {
  "kernelspec": {
   "display_name": "Python 2",
   "language": "python",
   "name": "python2"
  },
  "language_info": {
   "codemirror_mode": {
    "name": "ipython",
    "version": 2
   },
   "file_extension": ".py",
   "mimetype": "text/x-python",
   "name": "python",
   "nbconvert_exporter": "python",
   "pygments_lexer": "ipython2",
   "version": "2.7.10"
  }
 },
 "nbformat": 4,
 "nbformat_minor": 0
}
