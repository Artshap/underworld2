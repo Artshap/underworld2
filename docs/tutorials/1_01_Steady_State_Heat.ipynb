{
 "cells": [
  {
   "cell_type": "markdown",
   "metadata": {},
   "source": [
    "Steady state heat equation\n",
    "======\n",
    "\n",
    "This notebook is intended to give a quick overview of how to run underworld using ipython notebooks. It is the beginning of a series of tutorials which will increase in functionality. By the end of these tutorials the user should be able to tackle the more complex notebooks available in the **publications** directory. For more simple and specific infomation about the functionality of underworld the user is directed to the **user_guide** directory.\n",
    "\n",
    "Specifically this notebook will setup and solve the steady state heat equation given by\n",
    "\\\\[\n",
    "\\nabla(k\\nabla)T = h\n",
    "\\\\]\n",
    "where $k$ is the conductivity, T is the temperature field (solved for) and $h$ is any additional heating term. \n",
    "\n",
    "**This lesson introduces the concepts of:**\n",
    "1. Basics of underworld\n",
    "2. Setting up the mesh\n",
    "4. Setting boundary conditions\n",
    "5. Solving the heat equation\n",
    "6. Plotting physical quantities on the mesh\n",
    "\n",
    "**Keywords:** initial conditions, boundary conditions, heat equation, mesh basics"
   ]
  },
  {
   "cell_type": "code",
   "execution_count": null,
   "metadata": {
    "collapsed": false
   },
   "outputs": [],
   "source": [
    "import underworld as uw\n",
    "from underworld import function as fn\n",
    "import glucifer"
   ]
  },
  {
   "cell_type": "markdown",
   "metadata": {},
   "source": [
    "Setup parameters\n",
    "-----\n",
    "\n",
    "Set physical values for test. Particularly the number of dimensions for the simulation (*dim*), simulation resolution (*res*) and simulation box height and lengths."
   ]
  },
  {
   "cell_type": "code",
   "execution_count": null,
   "metadata": {
    "collapsed": false
   },
   "outputs": [],
   "source": [
    "# Set number of dimensions.\n",
    "dim = 2\n",
    "# Set simulation box size.\n",
    "boxHeight = 1.0\n",
    "boxLength = 2.0\n",
    "# Set min/max temperatures.\n",
    "tempMin = 0.0\n",
    "tempMax = 1.0\n",
    "# Set the resolution.\n",
    "res = 4"
   ]
  },
  {
   "cell_type": "markdown",
   "metadata": {},
   "source": [
    "Create mesh and finite element variables\n",
    "------\n",
    "\n",
    "Create mesh object. These store the indices and spatial coordiates of the grid points on the mesh."
   ]
  },
  {
   "cell_type": "code",
   "execution_count": null,
   "metadata": {
    "collapsed": false
   },
   "outputs": [],
   "source": [
    "mesh = uw.mesh.FeMesh_Cartesian( elementType = (\"Q1/dQ0\"), \n",
    "                                 elementRes  = (res, res), \n",
    "                                 minCoord    = (0., 0.), \n",
    "                                 maxCoord    = (boxLength, boxHeight))"
   ]
  },
  {
   "cell_type": "markdown",
   "metadata": {},
   "source": [
    "More information on meshes can be found in the user guide **02_Meshing**."
   ]
  },
  {
   "cell_type": "markdown",
   "metadata": {},
   "source": [
    "Create Finite Element (FE) variables for the temperature field (see user guide **03_FEVariables**). This is a scalar field, so it only needs one value at each mesh point."
   ]
  },
  {
   "cell_type": "code",
   "execution_count": null,
   "metadata": {
    "collapsed": false
   },
   "outputs": [],
   "source": [
    "temperatureField = uw.meshvariable.MeshVariable( mesh=mesh, nodeDofCount=1 )"
   ]
  },
  {
   "cell_type": "markdown",
   "metadata": {},
   "source": [
    "Initialise data on the temperature field to equal zero."
   ]
  },
  {
   "cell_type": "code",
   "execution_count": null,
   "metadata": {
    "collapsed": false
   },
   "outputs": [],
   "source": [
    "temperatureField.data[:] = 0."
   ]
  },
  {
   "cell_type": "markdown",
   "metadata": {},
   "source": [
    "Set boundary conditions\n",
    "----------"
   ]
  },
  {
   "cell_type": "markdown",
   "metadata": {},
   "source": [
    "First we need to decide where the boundary conditions should be applied. Underworld includes functions for listing special sets of vertices on the mesh. To see the list of them run the following command."
   ]
  },
  {
   "cell_type": "code",
   "execution_count": null,
   "metadata": {
    "collapsed": false
   },
   "outputs": [],
   "source": [
    "mesh.specialSets.keys()"
   ]
  },
  {
   "cell_type": "markdown",
   "metadata": {},
   "source": [
    "We wish to set the temperature at the bottom of the domain to have the maximum temperature, and the temperature across the top to have the minimum temperature. \n",
    "\n",
    "Note that by convention, where the mesh has a resolution (I,J), we consider that I is the resolution is in the x direction and J is the resolution in the y direction. The vertices across the bottom of the domain are therefore contained within minimum 'J' set, and those across the top are in maximum 'J' set. \n",
    "\n",
    "Let's walk through these vertices, and set the values accordingly using the 'data' handle. "
   ]
  },
  {
   "cell_type": "code",
   "execution_count": null,
   "metadata": {
    "collapsed": false
   },
   "outputs": [],
   "source": [
    "for index in mesh.specialSets[\"MinJ_VertexSet\"]:\n",
    "    temperatureField.data[index] = tempMax\n",
    "for index in mesh.specialSets[\"MaxJ_VertexSet\"]:\n",
    "    temperatureField.data[index] = tempMin"
   ]
  },
  {
   "cell_type": "markdown",
   "metadata": {},
   "source": [
    "**Flag boundaries as Dirichlet**\n",
    "\n",
    "Again using sets, we construct sets for the horizontal walls which we will use to construct conditions on the system. Note that these sets employ python operator overloading so they can be added together by simply using the '+' operator."
   ]
  },
  {
   "cell_type": "code",
   "execution_count": null,
   "metadata": {
    "collapsed": false
   },
   "outputs": [],
   "source": [
    "jWalls = mesh.specialSets[\"MinJ_VertexSet\"] + mesh.specialSets[\"MaxJ_VertexSet\"]"
   ]
  },
  {
   "cell_type": "markdown",
   "metadata": {},
   "source": [
    "Underworld needs to know which vertices you wish to have fixed values on, i.e. which vertices should be flagged as conditions on the system. We are effectively telling the solver that for flagged vertices, the values are already known and it should not modify them (although it will certainly read and use them).\n",
    "\n",
    "We use the DirechletCondition object to achieve this. This conditions object will be passed into the solver below."
   ]
  },
  {
   "cell_type": "code",
   "execution_count": null,
   "metadata": {
    "collapsed": true
   },
   "outputs": [],
   "source": [
    "tempBC = uw.conditions.DirichletCondition( variable      = temperatureField, \n",
    "                                           nodeIndexSets = (jWalls,) )"
   ]
  },
  {
   "cell_type": "markdown",
   "metadata": {},
   "source": [
    "For more information on setting boundary conditions in underworld, see the user guide **06_Systems**."
   ]
  },
  {
   "cell_type": "markdown",
   "metadata": {},
   "source": [
    "**Plot initial conditions for temperature**\n",
    "\n",
    "We use the gLucifer visualisation engine to render the temperature field and overlay it with the mesh."
   ]
  },
  {
   "cell_type": "code",
   "execution_count": null,
   "metadata": {
    "collapsed": false,
    "scrolled": false
   },
   "outputs": [],
   "source": [
    "figtemp = glucifer.Figure( figsize=(800,400) )\n",
    "figtemp + glucifer.objects.Surface( mesh, temperatureField, colours=\"blue white red\" )\n",
    "figtemp + glucifer.objects.Mesh( mesh )\n",
    "figtemp.show()"
   ]
  },
  {
   "cell_type": "markdown",
   "metadata": {},
   "source": [
    "For more information on visualising data using ``gLucifer`` see the user guide **08_VisualisationWithgLucifer**."
   ]
  },
  {
   "cell_type": "markdown",
   "metadata": {},
   "source": [
    "System setup\n",
    "-----\n",
    "\n",
    "**Setup a heat equation solver**\n",
    "\n",
    "The steady state heat equation is given by\n",
    "\\\\[\n",
    "\\nabla(k\\nabla)T = h\n",
    "\\\\]\n",
    "where $k$ is the conductivity, T is the temperature field (solved for) and $h$ is any additional heating term. See [here](https://en.wikipedia.org/wiki/Heat_equation) for more information on the heat equation.\n",
    "\n",
    "To setup the heat equation using underworld the temperature field, conductivity and boundary conditions are passed to a system function (next cell). The system is then solved using the solve() method (see main loop below)."
   ]
  },
  {
   "cell_type": "code",
   "execution_count": null,
   "metadata": {
    "collapsed": false
   },
   "outputs": [],
   "source": [
    "heatequation = uw.systems.SteadyStateHeat(temperatureField=temperatureField, conductivityFn=1.0, conditions=[tempBC,])"
   ]
  },
  {
   "cell_type": "markdown",
   "metadata": {},
   "source": [
    "Solving\n",
    "-----\n",
    "\n",
    "Solving the heat equation system setup above is done by the following commands.\n"
   ]
  },
  {
   "cell_type": "code",
   "execution_count": null,
   "metadata": {
    "collapsed": false
   },
   "outputs": [],
   "source": [
    "heatsolver=uw.systems.Solver(heatequation)\n",
    "heatsolver.solve()"
   ]
  },
  {
   "cell_type": "markdown",
   "metadata": {},
   "source": [
    "More information on systems and how to solve them can be found in user guide **06_Systems** and in subsequent tutorial notebooks."
   ]
  },
  {
   "cell_type": "markdown",
   "metadata": {},
   "source": [
    "Plot final temperature field\n",
    "-----\n",
    "\n",
    "The resulting temperature field has been loaded into the temperatureField variable. Let's visualise the results."
   ]
  },
  {
   "cell_type": "code",
   "execution_count": null,
   "metadata": {
    "collapsed": false
   },
   "outputs": [],
   "source": [
    "figtemp = glucifer.Figure( figsize=(800,400) )\n",
    "figtemp + glucifer.objects.Surface( mesh, temperatureField, colours=\"blue white red\" )\n",
    "figtemp + glucifer.objects.Mesh( mesh )\n",
    "figtemp.show()"
   ]
  }
 ],
 "metadata": {
  "kernelspec": {
   "display_name": "Python 2",
   "language": "python",
   "name": "python2"
  },
  "language_info": {
   "codemirror_mode": {
    "name": "ipython",
    "version": 2
   },
   "file_extension": ".py",
   "mimetype": "text/x-python",
   "name": "python",
   "nbconvert_exporter": "python",
   "pygments_lexer": "ipython2",
   "version": "2.7.9"
  }
 },
 "nbformat": 4,
 "nbformat_minor": 0
}
