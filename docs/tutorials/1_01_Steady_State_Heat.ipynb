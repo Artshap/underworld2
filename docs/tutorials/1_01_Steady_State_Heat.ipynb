{
 "cells": [
  {
   "cell_type": "markdown",
   "metadata": {},
   "source": [
    "Steady state heat equation\n",
    "======\n",
    "\n",
    "This notebook will setup and solve the steady state heat equation. \n",
    "\n",
    "The heat equation is given by\n",
    "\n",
    "\\\\[\n",
    "\\nabla(k\\nabla)T = h\n",
    "\\\\]\n",
    "\n",
    "where $k$ is the conductivity, T the temperature field and $h$ the source term (see [here](https://en.wikipedia.org/wiki/Heat_equation) for more information).\n",
    "\n",
    "**This tutorial introduces:**\n",
    "1. Setting up the mesh\n",
    "2. Creating boundary conditions\n",
    "3. Solving the heat equation\n",
    "4. Plotting with glucifer\n",
    "\n",
    "**Keywords:** initial conditions, boundary conditions, heat equation"
   ]
  },
  {
   "cell_type": "code",
   "execution_count": 1,
   "metadata": {
    "collapsed": false
   },
   "outputs": [],
   "source": [
    "import underworld as uw\n",
    "from underworld import function as fn\n",
    "import glucifer"
   ]
  },
  {
   "cell_type": "markdown",
   "metadata": {},
   "source": [
    "Setup parameters\n",
    "-----"
   ]
  },
  {
   "cell_type": "code",
   "execution_count": 2,
   "metadata": {
    "collapsed": false
   },
   "outputs": [],
   "source": [
    "# Set number of dimensions.\n",
    "dim = 2\n",
    "# Set box size.\n",
    "boxHeight = 1.0\n",
    "boxLength = 2.0\n",
    "# Set the resolution.\n",
    "resx = 16\n",
    "resy = 8"
   ]
  },
  {
   "cell_type": "markdown",
   "metadata": {},
   "source": [
    "Create mesh and variables\n",
    "------"
   ]
  },
  {
   "cell_type": "code",
   "execution_count": 3,
   "metadata": {
    "collapsed": false
   },
   "outputs": [],
   "source": [
    "mesh = uw.mesh.FeMesh_Cartesian( elementType = (\"Q1/dQ0\"), \n",
    "                                 elementRes  = (resx, resy), \n",
    "                                 minCoord    = (0., 0.), \n",
    "                                 maxCoord    = (boxLength, boxHeight))"
   ]
  },
  {
   "cell_type": "code",
   "execution_count": 4,
   "metadata": {
    "collapsed": false
   },
   "outputs": [
    {
     "data": {
      "text/html": [
       "<img src='data:image/png;base64,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'>"
      ],
      "text/plain": [
       "<IPython.core.display.HTML object>"
      ]
     },
     "execution_count": 4,
     "metadata": {},
     "output_type": "execute_result"
    }
   ],
   "source": [
    "# gLucifer visualisation of mesh\n",
    "fig = glucifer.Figure( figsize=(800,400) )\n",
    "fig + glucifer.objects.Mesh( mesh )\n",
    "fig.show()"
   ]
  },
  {
   "cell_type": "markdown",
   "metadata": {},
   "source": [
    "Create mesh variables for the temperature field & initialise. "
   ]
  },
  {
   "cell_type": "code",
   "execution_count": 5,
   "metadata": {
    "collapsed": false
   },
   "outputs": [],
   "source": [
    "temperatureField = uw.meshvariable.MeshVariable( mesh=mesh, nodeDofCount=1 )\n",
    "temperatureField.data[:] = 0."
   ]
  },
  {
   "cell_type": "markdown",
   "metadata": {},
   "source": [
    "Create boundary conditions\n",
    "----------"
   ]
  },
  {
   "cell_type": "markdown",
   "metadata": {},
   "source": [
    "Determine which vertices will be flagged as boundary conditions on the system using special sets."
   ]
  },
  {
   "cell_type": "code",
   "execution_count": 6,
   "metadata": {
    "collapsed": false
   },
   "outputs": [
    {
     "data": {
      "text/plain": [
       "['MaxI_VertexSet',\n",
       " 'MinI_VertexSet',\n",
       " 'AllWalls',\n",
       " 'AllWalls_VertexSet',\n",
       " 'MinJ_VertexSet',\n",
       " 'MaxJ_VertexSet',\n",
       " 'Empty']"
      ]
     },
     "execution_count": 6,
     "metadata": {},
     "output_type": "execute_result"
    }
   ],
   "source": [
    "mesh.specialSets.keys()"
   ]
  },
  {
   "cell_type": "markdown",
   "metadata": {},
   "source": [
    "The vertices along the bottom wall is given by  'MinJ_VertexSet', the top wall given by the 'MaxJ_VertexSet'."
   ]
  },
  {
   "cell_type": "markdown",
   "metadata": {},
   "source": [
    "Construct sets for the horizontal walls."
   ]
  },
  {
   "cell_type": "code",
   "execution_count": 7,
   "metadata": {
    "collapsed": false
   },
   "outputs": [],
   "source": [
    "jWalls = mesh.specialSets[\"MinJ_VertexSet\"] + mesh.specialSets[\"MaxJ_VertexSet\"]"
   ]
  },
  {
   "cell_type": "markdown",
   "metadata": {},
   "source": [
    "Prescribe Direchlet, or fixed value, boundary conditions for the jWalls and provide values."
   ]
  },
  {
   "cell_type": "code",
   "execution_count": 8,
   "metadata": {
    "collapsed": true
   },
   "outputs": [],
   "source": [
    "tempBC = uw.conditions.DirichletCondition( variable=temperatureField, indexSetsPerDof=(jWalls,) )"
   ]
  },
  {
   "cell_type": "code",
   "execution_count": 9,
   "metadata": {
    "collapsed": false
   },
   "outputs": [],
   "source": [
    "# set bottom wall temperature bc\n",
    "for index in mesh.specialSets[\"MinJ_VertexSet\"]:\n",
    "    temperatureField.data[index] = 1.0\n",
    "# set top wall temperature bc\n",
    "for index in mesh.specialSets[\"MaxJ_VertexSet\"]:\n",
    "    temperatureField.data[index] = 0.0"
   ]
  },
  {
   "cell_type": "code",
   "execution_count": 10,
   "metadata": {
    "collapsed": false,
    "scrolled": false
   },
   "outputs": [
    {
     "data": {
      "text/html": [
       "<img src='data:image/png;base64,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'>"
      ],
      "text/plain": [
       "<IPython.core.display.HTML object>"
      ]
     },
     "execution_count": 10,
     "metadata": {},
     "output_type": "execute_result"
    }
   ],
   "source": [
    "# gLucifer visualisation of temperature field & mesh\n",
    "fig + glucifer.objects.Surface( mesh, temperatureField, colours=\"blue white red\" )\n",
    "fig.show()"
   ]
  },
  {
   "cell_type": "markdown",
   "metadata": {},
   "source": [
    "Heat Equation System setup & solve\n",
    "-----\n",
    "\n",
    "Temperature field, conductivity and boundary conditions are passed to the SteadyStateHeat system function."
   ]
  },
  {
   "cell_type": "code",
   "execution_count": 11,
   "metadata": {
    "collapsed": false
   },
   "outputs": [],
   "source": [
    "heatequation = uw.systems.SteadyStateHeat(temperatureField=temperatureField, conductivityFn=1.0, conditions=[tempBC,])"
   ]
  },
  {
   "cell_type": "markdown",
   "metadata": {},
   "source": [
    "Solve the heat equation."
   ]
  },
  {
   "cell_type": "code",
   "execution_count": 12,
   "metadata": {
    "collapsed": false
   },
   "outputs": [],
   "source": [
    "# get the default heat equation solver\n",
    "heatsolver = uw.systems.Solver(heatequation)\n",
    "# solve\n",
    "heatsolver.solve()"
   ]
  },
  {
   "cell_type": "code",
   "execution_count": 13,
   "metadata": {
    "collapsed": false
   },
   "outputs": [
    {
     "data": {
      "text/html": [
       "<img src='data:image/png;base64,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'>"
      ],
      "text/plain": [
       "<IPython.core.display.HTML object>"
      ]
     },
     "execution_count": 13,
     "metadata": {},
     "output_type": "execute_result"
    }
   ],
   "source": [
    "# gLucifer visualisation of temperature field & mesh\n",
    "fig.show()"
   ]
  },
  {
   "cell_type": "code",
   "execution_count": null,
   "metadata": {
    "collapsed": true
   },
   "outputs": [],
   "source": []
  }
 ],
 "metadata": {
  "kernelspec": {
   "display_name": "Python 2",
   "language": "python",
   "name": "python2"
  },
  "language_info": {
   "codemirror_mode": {
    "name": "ipython",
    "version": 2
   },
   "file_extension": ".py",
   "mimetype": "text/x-python",
   "name": "python",
   "nbconvert_exporter": "python",
   "pygments_lexer": "ipython2",
   "version": "2.7.10"
  }
 },
 "nbformat": 4,
 "nbformat_minor": 0
}
