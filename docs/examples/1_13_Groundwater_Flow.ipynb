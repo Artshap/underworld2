{
 "cells": [
  {
   "cell_type": "markdown",
   "metadata": {},
   "source": [
    "# 1D Darcy Flow (Groundwater) Solution and Benchmark"
   ]
  },
  {
   "cell_type": "code",
   "execution_count": 1,
   "metadata": {},
   "outputs": [],
   "source": [
    "import underworld as uw\n",
    "import glucifer\n",
    "import numpy\n",
    "import matplotlib.pyplot as plt\n",
    "\n",
    "uw.matplotlib_inline()"
   ]
  },
  {
   "cell_type": "markdown",
   "metadata": {},
   "source": [
    "This notebook demonstrates the use of the ``uw.systems.SteadyStateDarcyFlow`` class, which solves for darcy flow (e.g. groundwater flow):\n",
    "\n",
    "$\\nabla q = 0$\n",
    "\n",
    "$q = \\kappa \\left( -\\nabla p + S \\right)$ \n",
    "\n",
    "where $q$ is the flow velocity, $p$ is the fluid pressure head, $\\kappa$ hydraulic diffusivity and $S$ is a hydraulic gradient source. $S$ is usually a gravitational term, for example $S = \\rho g$, where $\\rho$ is fluid density and $g$ is the  gravitational accelleration vector.\n",
    "\n",
    "We will set up a simple example of flow through two  of strongly contrasting $\\kappa$ and compare the soultion to a 1D benchmark."
   ]
  },
  {
   "cell_type": "markdown",
   "metadata": {},
   "source": [
    "---\n",
    "\n",
    "*Set up mesh and fields*\n",
    "\n",
    "**Note:** The velocity solution is extremely sensitive to the pressure gradient. A higher order shape function (Q2) may result in a more accurate solution of the pressure field, in the case of material variation within a cell, but the velocity would then be linearly variable within that cell. It is therefore best to use a linear shape function (Q1) and asign just one material per cell."
   ]
  },
  {
   "cell_type": "code",
   "execution_count": 2,
   "metadata": {},
   "outputs": [],
   "source": [
    "\n",
    "elementType = \"Q1\"\n",
    "resX = 16\n",
    "resY = 16\n",
    "mesh = uw.mesh.FeMesh_Cartesian( elementType = (elementType), \n",
    "                                 elementRes  = (resX, resY), \n",
    "                                 minCoord    = (-1., -1.), \n",
    "                                 maxCoord    = (0., 0.)) \n",
    "\n",
    "gwPressureField    = mesh.add_variable( nodeDofCount=1 )\n",
    "hydraulicDiffusivityField    = mesh.add_variable( nodeDofCount=1 )\n",
    "velocityField = mesh.add_variable(nodeDofCount=2)\n",
    "\n"
   ]
  },
  {
   "cell_type": "markdown",
   "metadata": {},
   "source": [
    "*Set up the types of boundary conditions*\n",
    "\n",
    "**Note:** The darcy-flow solver does also work for a lower free-slip boundary condition, but only if a strong horizontal flow component exists, such as arises when there is topographic variation. "
   ]
  },
  {
   "cell_type": "code",
   "execution_count": 3,
   "metadata": {},
   "outputs": [
    {
     "ename": "AttributeError",
     "evalue": "'MeshVariable' object has no attribute 'specialSets'",
     "output_type": "error",
     "traceback": [
      "\u001b[1;31m---------------------------------------------------------------------------\u001b[0m",
      "\u001b[1;31mAttributeError\u001b[0m                            Traceback (most recent call last)",
      "\u001b[1;32m<ipython-input-3-330ee18574f5>\u001b[0m in \u001b[0;36m<module>\u001b[1;34m()\u001b[0m\n\u001b[1;32m----> 1\u001b[1;33m \u001b[0miWalls\u001b[0m \u001b[1;33m=\u001b[0m \u001b[0mmesh\u001b[0m\u001b[1;33m.\u001b[0m\u001b[0mspecialSets\u001b[0m\u001b[1;33m[\u001b[0m\u001b[1;34m\"MinI_VertexSet\"\u001b[0m\u001b[1;33m]\u001b[0m \u001b[1;33m+\u001b[0m \u001b[0mmesh\u001b[0m\u001b[1;33m.\u001b[0m\u001b[0mspecialSets\u001b[0m\u001b[1;33m[\u001b[0m\u001b[1;34m\"MaxI_VertexSet\"\u001b[0m\u001b[1;33m]\u001b[0m\u001b[1;33m\u001b[0m\u001b[0m\n\u001b[0m\u001b[0;32m      2\u001b[0m \u001b[0mjWalls\u001b[0m \u001b[1;33m=\u001b[0m \u001b[0mmesh\u001b[0m\u001b[1;33m.\u001b[0m\u001b[0mspecialSets\u001b[0m\u001b[1;33m[\u001b[0m\u001b[1;34m\"MinJ_VertexSet\"\u001b[0m\u001b[1;33m]\u001b[0m \u001b[1;33m+\u001b[0m \u001b[0mmesh\u001b[0m\u001b[1;33m.\u001b[0m\u001b[0mspecialSets\u001b[0m\u001b[1;33m[\u001b[0m\u001b[1;34m\"MaxJ_VertexSet\"\u001b[0m\u001b[1;33m]\u001b[0m\u001b[1;33m\u001b[0m\u001b[0m\n\u001b[0;32m      3\u001b[0m \u001b[0mtopWall\u001b[0m \u001b[1;33m=\u001b[0m \u001b[0mmesh\u001b[0m\u001b[1;33m.\u001b[0m\u001b[0mspecialSets\u001b[0m\u001b[1;33m[\u001b[0m\u001b[1;34m\"MaxJ_VertexSet\"\u001b[0m\u001b[1;33m]\u001b[0m\u001b[1;33m\u001b[0m\u001b[0m\n\u001b[0;32m      4\u001b[0m \u001b[0mbottomWall\u001b[0m \u001b[1;33m=\u001b[0m \u001b[0mmesh\u001b[0m\u001b[1;33m.\u001b[0m\u001b[0mspecialSets\u001b[0m\u001b[1;33m[\u001b[0m\u001b[1;34m\"MinJ_VertexSet\"\u001b[0m\u001b[1;33m]\u001b[0m\u001b[1;33m\u001b[0m\u001b[0m\n\u001b[0;32m      5\u001b[0m \u001b[1;33m\u001b[0m\u001b[0m\n",
      "\u001b[1;31mAttributeError\u001b[0m: 'MeshVariable' object has no attribute 'specialSets'"
     ]
    }
   ],
   "source": [
    "iWalls = mesh.specialSets[\"MinI_VertexSet\"] + mesh.specialSets[\"MaxI_VertexSet\"]\n",
    "jWalls = mesh.specialSets[\"MinJ_VertexSet\"] + mesh.specialSets[\"MaxJ_VertexSet\"]\n",
    "topWall = mesh.specialSets[\"MaxJ_VertexSet\"]\n",
    "bottomWall = mesh.specialSets[\"MinJ_VertexSet\"]\n",
    "\n",
    "gwPressureBC = uw.conditions.DirichletCondition( variable        = gwPressureField, \n",
    "                                               indexSetsPerDof = ( topWall+ bottomWall    ) )\n"
   ]
  },
  {
   "cell_type": "markdown",
   "metadata": {},
   "source": [
    "*Choose the pressure set at the lower wall and set an initially linear pressure field which is consistent with the BCs*"
   ]
  },
  {
   "cell_type": "code",
   "execution_count": null,
   "metadata": {},
   "outputs": [],
   "source": [
    "#Groundwater pressure boundary condition on the bottom wall\n",
    "#    this value is relative to gravity\n",
    "maxgwpressure = 0.5\n",
    "\n",
    "yCoordFn = uw.function.input()[1]\n",
    "initialFn = -1. * yCoordFn * maxgwpressure\n",
    "\n",
    "gwPressureField.data[:] = initialFn.evaluate(mesh)\n"
   ]
  },
  {
   "cell_type": "markdown",
   "metadata": {},
   "source": [
    "*Set up swarm*\n",
    "\n",
    "**Imporant Note:** The swarm is used for setting the $\\kappa$ for a cell. As a result of our choice of a linear shape-function (Q1), there is a single constant pressure gradient solved for each cell. If we were to use particles with strongly contrasting $\\kappa$ in one cell, the actual solution should involve a strong variation in pressure gradient which cannot be reproduced by the constant pressure gradient solved. It is therefore recommended that only one particle is used per cell. For the same reason, velocity should be calculated inside the cell, rather than on the mesh. Our swarm is used both for setting $\\kappa$ and calculating the velocity.\n"
   ]
  },
  {
   "cell_type": "code",
   "execution_count": null,
   "metadata": {},
   "outputs": [],
   "source": [
    "swarm         = uw.swarm.Swarm( mesh=mesh )\n",
    "swarmLayout = uw.swarm.layouts.PerCellGaussLayout(swarm=swarm,gaussPointCount=1)\n",
    "swarm.populate_using_layout(swarmLayout)\n"
   ]
  },
  {
   "cell_type": "markdown",
   "metadata": {},
   "source": [
    "Set up swarm variables: material ID and velocity. The velocity variable is where the velocity solution can be stored."
   ]
  },
  {
   "cell_type": "code",
   "execution_count": null,
   "metadata": {},
   "outputs": [],
   "source": [
    "materialIndex  = swarm.add_variable( dataType=\"int\",    count=1 )\n",
    "materialVelocity  = swarm.add_variable( dataType=\"double\",    count=2 )\n",
    "\n",
    "materialPorous        = 0\n",
    "materialImpermeable   = 1\n"
   ]
  },
  {
   "cell_type": "markdown",
   "metadata": {},
   "source": [
    "Set up a horizontal interface between the two materials"
   ]
  },
  {
   "cell_type": "code",
   "execution_count": null,
   "metadata": {},
   "outputs": [],
   "source": [
    "xCoordFn = uw.function.input()[0]\n",
    "yCoordFn = uw.function.input()[1]\n",
    "\n",
    "interfaceY = -0.25\n",
    "\n",
    "conditions = [ (yCoordFn > interfaceY, materialPorous),\n",
    "               ( True , materialImpermeable )]\n",
    "\n",
    "materialfn = uw.function.branching.conditional( conditions )\n",
    "materialIndex.data[:]  = materialfn.evaluate(swarm)\n"
   ]
  },
  {
   "cell_type": "markdown",
   "metadata": {},
   "source": [
    "Assign a different $\\kappa$ to each material. The upper layer in this case is much more permeable than the lower."
   ]
  },
  {
   "cell_type": "code",
   "execution_count": null,
   "metadata": {},
   "outputs": [],
   "source": [
    "Ka = 1.\n",
    "Kb = 1e-3\n",
    "\n",
    "hydraulicDiffusivityMap = { materialPorous : Ka, \n",
    "                 materialImpermeable : Kb}\n",
    "hydraulicDiffusivityMapFn = uw.function.branching.map( fn_key = materialIndex, mapping = hydraulicDiffusivityMap )\n",
    "\n"
   ]
  },
  {
   "cell_type": "markdown",
   "metadata": {},
   "source": [
    "Let's check that the $\\kappa$ asigned to each particle looks correct:"
   ]
  },
  {
   "cell_type": "code",
   "execution_count": null,
   "metadata": {
    "scrolled": false
   },
   "outputs": [],
   "source": [
    "figMaterial = glucifer.Figure( figsize=(800,400), title=\"Hydraulic Diffusivity\" )\n",
    "figMaterial.append( glucifer.objects.Points(swarm, hydraulicDiffusivityMapFn, pointSize=5.0) )\n",
    "\n",
    "figMaterial.append( glucifer.objects.Mesh(mesh))\n",
    "figMaterial.show()"
   ]
  },
  {
   "cell_type": "markdown",
   "metadata": {},
   "source": [
    "*Setup the dary flow (groundwater) equation*"
   ]
  },
  {
   "cell_type": "code",
   "execution_count": null,
   "metadata": {},
   "outputs": [],
   "source": [
    "g = uw.function.misc.constant((0.,-1.))\n",
    "\n",
    "\n",
    "gwadvDiff = uw.systems.SteadyStateDarcyFlow(velocityField=velocityField,\n",
    "        pressureField = gwPressureField, fn_diffusivity = hydraulicDiffusivityMapFn,\n",
    "        conditions=[gwPressureBC],fn_bodyforce=g, \n",
    "        voronoi_swarm=swarm,swarmVarVelocity=materialVelocity)\n",
    "gwsolver = uw.systems.Solver(gwadvDiff)\n"
   ]
  },
  {
   "cell_type": "markdown",
   "metadata": {},
   "source": [
    "*Solve*"
   ]
  },
  {
   "cell_type": "code",
   "execution_count": null,
   "metadata": {},
   "outputs": [],
   "source": [
    "gwsolver.solve()\n"
   ]
  },
  {
   "cell_type": "markdown",
   "metadata": {},
   "source": [
    "*Visualise the groundwater solution, by plotting it for $x=-1$ (left wall).*\n",
    "\n",
    "This model is simple enough that there is an equivalent 1D analytic, which we can use as a benchmark. Out of interest, let's also plot what the solution would look like without the gravity term.\n",
    "\n",
    "The grey lines are the horizontal element edges. Note that an resolution has been chosen so that the interface boundary is accurately resolved."
   ]
  },
  {
   "cell_type": "code",
   "execution_count": null,
   "metadata": {
    "scrolled": true
   },
   "outputs": [],
   "source": [
    "\n",
    "if uw.rank() == 0:\n",
    "    arrX = numpy.linspace(-1,0,2)\n",
    "    plt.ylim(-1,0.)\n",
    "    plt.xlim(-1e-2,1)\n",
    "\n",
    "arrY = numpy.linspace(-1,0.,100)\n",
    "x = -1.\n",
    "arrP = gwPressureField.evaluate_global(numpy.array(zip(numpy.ones(100)*x,arrY)))\n",
    "\n",
    "if uw.rank() == 0:\n",
    "    plt.plot(arrP,arrY,c='red',label='Numerical')\n",
    "\n",
    "\n",
    "    for S in [1.,0.]:\n",
    "        La = -1. * interfaceY\n",
    "        Lb = 1. + interfaceY\n",
    "        dP = maxgwpressure\n",
    "        Pa = (dP/Lb - S + Ka/Kb * S) / (1./Lb + Ka/Kb/La)\n",
    "        arrYl = numpy.linspace(-La,0.,3)\n",
    "        if S == 0.:\n",
    "            label = \"Analytical\\n(No gravity)\"\n",
    "            line = \"-.\"\n",
    "        else:\n",
    "            label = 'Analytical'\n",
    "            line = \"--\"\n",
    "        plt.plot(Pa*(-arrYl)/(La),arrYl,line,c=\"black\",label = label)\n",
    "        arrYl = numpy.linspace(-La,-1,3)\n",
    "        plt.plot(Pa + (dP-Pa)*(-arrYl-La)/Lb,arrYl,line,c=\"black\")\n",
    "    \n",
    "if uw.rank() == 0:\n",
    "    plt.xlabel('Pressure')\n",
    "    plt.ylabel('Depth')\n",
    "    plt.legend()\n",
    "    \n",
    "    for meshY in numpy.linspace(-1,0,resY+1):\n",
    "        plt.plot(numpy.linspace(0,1,2),numpy.ones(2)*meshY,c=\"black\",alpha=0.3)\n",
    "\n",
    "    \n",
    "    plt.savefig('PressureSolution.pdf')\n",
    "\n"
   ]
  },
  {
   "cell_type": "markdown",
   "metadata": {},
   "source": [
    "The velocity solution was found on the swarm, so let's visualise the swarm variable where it is kept. The vertical component of the velocity vector field is visualised. Note the colourbar - the solution is relatively constant, as it should be for flow conservation."
   ]
  },
  {
   "cell_type": "code",
   "execution_count": null,
   "metadata": {
    "scrolled": true
   },
   "outputs": [],
   "source": [
    "\n",
    "\n",
    "figMaterial = glucifer.Figure( figsize=(800,400), title=\"Velocity Calculated on Swarm\" )\n",
    "figMaterial.append( glucifer.objects.Points(swarm, materialVelocity[1], pointSize=5.0) )\n",
    "\n",
    "figMaterial.append( glucifer.objects.Mesh(mesh))\n",
    "figMaterial.show()\n",
    "\n"
   ]
  },
  {
   "cell_type": "markdown",
   "metadata": {},
   "source": [
    "Plot the same velocity field as vectors, over the pressure field solution."
   ]
  },
  {
   "cell_type": "code",
   "execution_count": null,
   "metadata": {},
   "outputs": [],
   "source": [
    "figMaterial = glucifer.Figure( figsize=(800,400),title=\"Ground-Water Pressure Field and Velocity Vectors\" )\n",
    "figMaterial.append(glucifer.objects.Surface(mesh,gwPressureField,onMesh=True))\n",
    "scale = 0.03\n",
    "figMaterial.append(glucifer.objects.VectorArrows(mesh,velocityField,scaling=50,arrowHead=0.3))\n",
    "figMaterial.show()\n"
   ]
  },
  {
   "cell_type": "markdown",
   "metadata": {},
   "source": [
    "We can also compare the velocity calculated on the swarm to an analytical solution."
   ]
  },
  {
   "cell_type": "code",
   "execution_count": null,
   "metadata": {},
   "outputs": [],
   "source": [
    "\n",
    "\n",
    "x = -1.\n",
    "n = 30\n",
    "arrYsample = numpy.linspace(-1+(1./resY),0.,resY)\n",
    "arrY = numpy.linspace(-1,0.,n)\n",
    "\n",
    "arrP = numpy.array(velocityField[1].evaluate_global(numpy.array(zip(numpy.ones(len(arrYsample))*x,arrYsample))))\n",
    "\n",
    "if uw.rank() == 0:\n",
    "    plt.clf()\n",
    "    plt.scatter(arrP,arrYsample,lw=0,alpha=0.5,label=\"Numerical\")\n",
    "\n",
    "    S = 1.\n",
    "    La = -1. * interfaceY\n",
    "    Lb = 1. + interfaceY\n",
    "    dP = maxgwpressure\n",
    "    midPressure = (dP/Lb - S + Ka/Kb * S) / (1./Lb + Ka/Kb/La)\n",
    "\n",
    "    arrVel = numpy.zeros(len(arrY))\n",
    "\n",
    "    for i in range(len(arrY)):\n",
    "        if arrY[i] > interfaceY:\n",
    "            arrVel[i] = (-midPressure / -La - 1.) * Ka\n",
    "        else:\n",
    "            arrVel[i] = (-(dP - midPressure)/-Lb - 1.) * Kb\n",
    "\n",
    "    plt.plot( (arrVel) ,arrY,c=\"black\",label=\"Analytical\")\n",
    "\n",
    "    plt.ylim(-1,0.)\n",
    "    avAnVel = numpy.average(arrVel)\n",
    "    plt.xlim(-0.25*avAnVel + avAnVel,0.25*avAnVel+avAnVel)\n",
    "    plt.ticklabel_format(style='sci', axis='x', scilimits=(0,0))\n",
    "    plt.legend()\n",
    "    plt.xlabel('Vertical Velocity')\n",
    "    plt.ylabel('Depth')\n",
    "\n",
    "    plt.savefig(\"VelocitySolution.pdf\")\n"
   ]
  }
 ],
 "metadata": {
  "kernelspec": {
   "display_name": "Python 2",
   "language": "python",
   "name": "python2"
  },
  "language_info": {
   "codemirror_mode": {
    "name": "ipython",
    "version": 2
   },
   "file_extension": ".py",
   "mimetype": "text/x-python",
   "name": "python",
   "nbconvert_exporter": "python",
   "pygments_lexer": "ipython2",
   "version": "2.7.13"
  }
 },
 "nbformat": 4,
 "nbformat_minor": 1
}
