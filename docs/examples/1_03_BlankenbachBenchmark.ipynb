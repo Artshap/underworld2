{
 "cells": [
  {
   "cell_type": "markdown",
   "metadata": {},
   "source": [
    "Blankenbach Benchmark Case 1\n",
    "======\n",
    "\n",
    "Steady isoviscous thermal convection\n",
    "----\n",
    "\n",
    "Two-dimensional, incompressible, bottom heated, steady isoviscous thermal convection in a 1 x 1 box, see case 1 of Blankenbach *et al.* 1989 for details.\n",
    "\n",
    "**This example introduces:**\n",
    "1. Loading/Saving variables to disk.\n",
    "2. Defining analysis tools.\n",
    "3. Finding a steady state.\n",
    "\n",
    "**Keywords:** Stokes system, advective diffusive systems, analysis tools\n",
    "\n",
    "**References**\n",
    "\n",
    "B. Blankenbach, F. Busse, U. Christensen, L. Cserepes, D. Gunkel, U. Hansen, H. Harder, G. Jarvis, M. Koch, G. Marquart, D. Moore, P. Olson, H. Schmeling and T. Schnaubelt. A benchmark comparison for mantle convection codes. Geophysical Journal International, 98, 1, 23–38, 1989\n",
    "http://onlinelibrary.wiley.com/doi/10.1111/j.1365-246X.1989.tb05511.x/abstract\n"
   ]
  },
  {
   "cell_type": "code",
   "execution_count": 1,
   "metadata": {
    "collapsed": false
   },
   "outputs": [],
   "source": [
    "import underworld as uw\n",
    "from underworld import function as fn\n",
    "import glucifer\n",
    "import math\n",
    "import numpy as np\n",
    "#%matplotlib inline"
   ]
  },
  {
   "cell_type": "markdown",
   "metadata": {},
   "source": [
    "Setup parameters\n",
    "-----"
   ]
  },
  {
   "cell_type": "code",
   "execution_count": 2,
   "metadata": {
    "collapsed": false
   },
   "outputs": [],
   "source": [
    "# Set domain dimension & size\n",
    "dim = 2\n",
    "boxHeight = 1.0\n",
    "boxLength = 1.0\n",
    "# Set grid resolution.\n",
    "res = 128\n",
    "# Set max & min temperautres\n",
    "tempMin = 0.0\n",
    "tempMax = 1.0"
   ]
  },
  {
   "cell_type": "markdown",
   "metadata": {},
   "source": [
    "Choose which Rayleigh number, see case 1 of Blankenbach *et al.* 1989 for details."
   ]
  },
  {
   "cell_type": "code",
   "execution_count": 3,
   "metadata": {
    "collapsed": true
   },
   "outputs": [],
   "source": [
    "case = \"a\" \n",
    "if(case==\"a\"):\n",
    "    Ra=1.e4\n",
    "    eta0=1.e23\n",
    "elif(case==\"b\"):\n",
    "    Ra=1.e5\n",
    "    eta0=1.e22\n",
    "else: \n",
    "    Ra=1.e6\n",
    "    eta0=1.e21"
   ]
  },
  {
   "cell_type": "markdown",
   "metadata": {},
   "source": [
    "Set input and output file directory "
   ]
  },
  {
   "cell_type": "code",
   "execution_count": 4,
   "metadata": {
    "collapsed": true
   },
   "outputs": [],
   "source": [
    "inputPath  = 'BBInput/'\n",
    "outputPath = 'BBOutput/'\n",
    "# Make output directory if necessary.\n",
    "if uw.rank()==0:\n",
    "    import os\n",
    "    if not os.path.exists(outputPath):\n",
    "        os.makedirs(outputPath)"
   ]
  },
  {
   "cell_type": "markdown",
   "metadata": {},
   "source": [
    "Create mesh and variables\n",
    "------"
   ]
  },
  {
   "cell_type": "code",
   "execution_count": 5,
   "metadata": {
    "collapsed": true
   },
   "outputs": [],
   "source": [
    "mesh = uw.mesh.FeMesh_Cartesian( elementType = (\"Q1/dQ0\"), \n",
    "                                 elementRes  = (res, res), \n",
    "                                 minCoord    = (0., 0.), \n",
    "                                 maxCoord    = (boxLength, boxHeight))\n",
    "\n",
    "velocityField       = uw.mesh.MeshVariable( mesh=mesh,         nodeDofCount=dim )\n",
    "pressureField       = uw.mesh.MeshVariable( mesh=mesh.subMesh, nodeDofCount=1 )\n",
    "temperatureField    = uw.mesh.MeshVariable( mesh=mesh,         nodeDofCount=1 )\n",
    "temperatureDotField = uw.mesh.MeshVariable( mesh=mesh,         nodeDofCount=1 )\n",
    "\n",
    "# initialise velocity, pressure and temperatureDot field\n",
    "velocityField.data[:]       = [0.,0.]\n",
    "pressureField.data[:]       = 0.\n",
    "temperatureField.data[:]    = 0.\n",
    "temperatureDotField.data[:] = 0."
   ]
  },
  {
   "cell_type": "markdown",
   "metadata": {},
   "source": [
    "Set up material parameters and functions\n",
    "-----\n",
    "\n",
    "Set values and functions for viscosity, density and buoyancy force."
   ]
  },
  {
   "cell_type": "code",
   "execution_count": 6,
   "metadata": {
    "collapsed": false
   },
   "outputs": [],
   "source": [
    "# Set a constant viscosity.\n",
    "viscosity = 1.\n",
    "\n",
    "# Create our density function.\n",
    "densityFn = Ra * temperatureField\n",
    "\n",
    "# Define our vertical unit vector using a python tuple (this will be automatically converted to a function).\n",
    "z_hat = ( 0.0, 1.0 )\n",
    "\n",
    "# A buoyancy function.\n",
    "buoyancyFn = densityFn * z_hat"
   ]
  },
  {
   "cell_type": "markdown",
   "metadata": {},
   "source": [
    "Set initial temperature field\n",
    "-----\n",
    "The initial temperature field can be loaded from a pre-run steady state data set ( ``LoadFromFile = True`` ) or set to a sinusodial perterbation ( ``LoadFromFile = False`` )."
   ]
  },
  {
   "cell_type": "code",
   "execution_count": 7,
   "metadata": {
    "collapsed": true
   },
   "outputs": [],
   "source": [
    "# Steady state temperature field to be loaded from data file.\n",
    "LoadFromFile = True"
   ]
  },
  {
   "cell_type": "markdown",
   "metadata": {
    "collapsed": false
   },
   "source": [
    "**If loading steady state data set**\n",
    "\n",
    "Data is stored in h5 format from a 64\\*64 grid resolution model.  Data has been saved for 3 different Rayleigh numbers, $Ra = 10^4$, $10^5$ or $10^6$. \n",
    "\n",
    "Once loaded the data will need to be re-meshed onto a new grid, unless the new resolution is also 64\\*64.\n",
    "\n",
    "For more information on using meshes see the user guide.\n"
   ]
  },
  {
   "cell_type": "code",
   "execution_count": 9,
   "metadata": {
    "collapsed": false
   },
   "outputs": [
    {
     "name": "stdout",
     "output_type": "stream",
     "text": [
      "Loading 64*64 for Ra = 1e4\n"
     ]
    }
   ],
   "source": [
    "if(LoadFromFile == True):\n",
    "    # Setup mesh and temperature field for 64*64 data file.\n",
    "    mesh64 = uw.mesh.FeMesh_Cartesian( elementType = (\"Q1/dQ0\"), \n",
    "                                       elementRes  = (64, 64), \n",
    "                                       minCoord    = (0., 0.), \n",
    "                                       maxCoord    = (boxLength, boxHeight))\n",
    "    temperatureField64  = uw.meshvariable.MeshVariable( mesh=mesh64, nodeDofCount=1 ) \n",
    "    \n",
    "    # read in saved steady state temperature field data\n",
    "    if( case == \"a\" ):\n",
    "        temperatureField64.load(inputPath+'tempfield_inp_64_Ra1e4.h5')\n",
    "        print('Loading 64*64 for Ra = 1e4')\n",
    "    elif( case == \"b\" ):\n",
    "        temperatureField64.load(inputPath+'tempfield_inp_64_Ra1e6.h5')\n",
    "        print('Loading 64*64 for Ra = 1e6')\n",
    "    else:\n",
    "        temperatureField64.load(inputPath+'tempfield_inp_64_Ra1e5.h5')\n",
    "        print('Loading 64*64 for Ra = 1e5')\n",
    "        \n",
    "    if( res==64 ): # no remeshing needed, copy directly\n",
    "        temperatureField.data[:] = temperatureField64.data[:]\n",
    "    else: # remeshing needed\n",
    "        temperatureField.data[:] = temperatureField64.evaluate(mesh)"
   ]
  },
  {
   "cell_type": "markdown",
   "metadata": {},
   "source": [
    "**If using sinusodial perturbation**"
   ]
  },
  {
   "cell_type": "code",
   "execution_count": 11,
   "metadata": {
    "collapsed": false
   },
   "outputs": [],
   "source": [
    "if(LoadFromFile == False):\n",
    "    temperatureField.data[:] = 0.\n",
    "    pertStrength = 0.1\n",
    "    deltaTemp = tempMax - tempMin\n",
    "    for index, coord in enumerate(mesh.data):\n",
    "        pertCoeff = math.cos( math.pi * coord[0]/boxLength ) * math.sin( math.pi * coord[1]/boxLength )\n",
    "        temperatureField.data[index] = tempMin + deltaTemp*(boxHeight - coord[1]) + pertStrength * pertCoeff\n",
    "        temperatureField.data[index] = max(tempMin, min(tempMax, temperatureField.data[index]))"
   ]
  },
  {
   "cell_type": "code",
   "execution_count": 14,
   "metadata": {
    "collapsed": false,
    "scrolled": false
   },
   "outputs": [
    {
     "data": {
      "text/html": [
       "<img src='data:image/png;base64,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'>"
      ],
      "text/plain": [
       "<IPython.core.display.HTML object>"
      ]
     },
     "execution_count": 14,
     "metadata": {},
     "output_type": "execute_result"
    }
   ],
   "source": [
    "fig = glucifer.Figure()\n",
    "fig.append( glucifer.objects.Surface(mesh, temperatureField, colours=\"blue white red\") )\n",
    "fig.show()"
   ]
  },
  {
   "cell_type": "markdown",
   "metadata": {},
   "source": [
    "Create boundary conditions\n",
    "----------\n",
    "\n",
    "Set temperature boundary conditions on the bottom ( ``MinJ`` ) and top ( ``MaxJ`` )."
   ]
  },
  {
   "cell_type": "code",
   "execution_count": 12,
   "metadata": {
    "collapsed": false
   },
   "outputs": [],
   "source": [
    "for index in mesh.specialSets[\"MinJ_VertexSet\"]:\n",
    "    temperatureField.data[index] = tempMax\n",
    "for index in mesh.specialSets[\"MaxJ_VertexSet\"]:\n",
    "    temperatureField.data[index] = tempMin"
   ]
  },
  {
   "cell_type": "markdown",
   "metadata": {},
   "source": [
    "Construct sets for the both horizontal and vertical walls. Combine the sets of vertices to make the ``I`` (left and right side walls) and ``J`` (top and bottom walls) sets. Note that both sets contain the corners of the box."
   ]
  },
  {
   "cell_type": "code",
   "execution_count": 13,
   "metadata": {
    "collapsed": false
   },
   "outputs": [],
   "source": [
    "iWalls = mesh.specialSets[\"MinI_VertexSet\"] + mesh.specialSets[\"MaxI_VertexSet\"]\n",
    "jWalls = mesh.specialSets[\"MinJ_VertexSet\"] + mesh.specialSets[\"MaxJ_VertexSet\"]\n",
    "\n",
    "freeslipBC = uw.conditions.DirichletCondition( variable        = velocityField, \n",
    "                                               indexSetsPerDof = (iWalls, jWalls) )\n",
    "tempBC     = uw.conditions.DirichletCondition( variable        = temperatureField, \n",
    "                                               indexSetsPerDof = (jWalls,) )"
   ]
  },
  {
   "cell_type": "markdown",
   "metadata": {},
   "source": [
    "System setup\n",
    "-----\n",
    "\n",
    "**Setup a Stokes system**\n"
   ]
  },
  {
   "cell_type": "code",
   "execution_count": 34,
   "metadata": {
    "collapsed": false
   },
   "outputs": [],
   "source": [
    "stokesPIC = uw.systems.Stokes( velocityField = velocityField, \n",
    "                               pressureField = pressureField,\n",
    "                               conditions    = [freeslipBC,],\n",
    "                               viscosityFn   = viscosity, \n",
    "                               bodyForceFn   = buoyancyFn )\n",
    "# get the default stokes equation solver\n",
    "solver = uw.systems.Solver( stokesPIC )"
   ]
  },
  {
   "cell_type": "markdown",
   "metadata": {},
   "source": [
    "**Create an advection diffusion system**\n"
   ]
  },
  {
   "cell_type": "code",
   "execution_count": 35,
   "metadata": {
    "collapsed": false
   },
   "outputs": [],
   "source": [
    "advDiff = uw.systems.AdvectionDiffusion( phiField      = temperatureField, \n",
    "                                         phiDotField   = temperatureDotField, \n",
    "                                         velocityField = velocityField, \n",
    "                                         diffusivity   = 1.0, \n",
    "                                         conditions    = [tempBC,] )"
   ]
  },
  {
   "cell_type": "markdown",
   "metadata": {},
   "source": [
    "Analysis tools\n",
    "-----"
   ]
  },
  {
   "cell_type": "markdown",
   "metadata": {
    "collapsed": true
   },
   "source": [
    "**Nusselt number**\n",
    "\n",
    "The Nusselt number is the ratio between convective and conductive heat transfer\n",
    "\n",
    "\\\\[\n",
    "Nu = -h \\frac{ \\int_0^l \\partial_z T (x, z=h) dx}{ \\int_0^l T (x, z=0) dx}\n",
    "\\\\]\n",
    "\n",
    "\n",
    "\n"
   ]
  },
  {
   "cell_type": "code",
   "execution_count": 36,
   "metadata": {
    "collapsed": false
   },
   "outputs": [],
   "source": [
    "def FindNusseltNumber(temp_field, mesh):\n",
    "\n",
    "    surf_Tgrad = -temp_field.gradientFn.evaluate(mesh.specialSets[\"MaxJ_VertexSet\"])[:,1]\n",
    "    basalT     = temp_field.evaluate(mesh.specialSets[\"MinJ_VertexSet\"])\n",
    "    \n",
    "    nusselt    = surf_Tgrad.mean() / basalT.mean()\n",
    "\n",
    "    return nusselt"
   ]
  },
  {
   "cell_type": "code",
   "execution_count": 37,
   "metadata": {
    "collapsed": false
   },
   "outputs": [
    {
     "name": "stdout",
     "output_type": "stream",
     "text": [
      "Initial Nusselt number = 4.853\n"
     ]
    }
   ],
   "source": [
    "nu = FindNusseltNumber(temperatureField, mesh)\n",
    "print('Initial Nusselt number = {0:.3f}'.format(nu))"
   ]
  },
  {
   "cell_type": "markdown",
   "metadata": {},
   "source": [
    "**RMS velocity**\n",
    "\n",
    "The root mean squared velocity is defined by intergrating over the entire simulation domain via\n",
    "\n",
    "\\\\[\n",
    "\\begin{aligned}\n",
    "v_{rms}  =  \\sqrt{ \\frac{ \\int_V (\\mathbf{v}.\\mathbf{v}) dV } {\\int_V dV} }\n",
    "\\end{aligned}\n",
    "\\\\]\n",
    "\n",
    "where $V$ denotes the volume of the box."
   ]
  },
  {
   "cell_type": "code",
   "execution_count": 50,
   "metadata": {
    "collapsed": false
   },
   "outputs": [
    {
     "name": "stdout",
     "output_type": "stream",
     "text": [
      "Initial Vrms = 42.869\n"
     ]
    }
   ],
   "source": [
    "def FindVrms(vel_field, mesh):\n",
    "\n",
    "    intVdotV = uw.utils.Integral( fn.math.dot( vel_field, vel_field ), mesh )\n",
    "    return ( math.sqrt( intVdotV.evaluate()[0] ) )\n",
    "\n",
    "vrms = FindVrms(velocityField, mesh)\n",
    "print('Initial vrms = {0:.3f}'.format(vrms))"
   ]
  },
  {
   "cell_type": "markdown",
   "metadata": {},
   "source": [
    "Main simulation loop\n",
    "-----"
   ]
  },
  {
   "cell_type": "markdown",
   "metadata": {},
   "source": [
    "If the initial conditions are loaded from file then this loop will only take a single step. If you would like to run the entire simulation from a small perturbation then change the ``LoadFromFile`` variable above to equal ``False``. Warning: the simulation will take a long time to get to steady state."
   ]
  },
  {
   "cell_type": "code",
   "execution_count": 51,
   "metadata": {
    "collapsed": false
   },
   "outputs": [],
   "source": [
    "#initialise time, step, output arrays\n",
    "time = 0.\n",
    "step = 0\n",
    "timeVal = []\n",
    "vrmsVal = []\n",
    "\n",
    "# starting from steady state == True\n",
    "if(LoadFromFile == True):\n",
    "    steps_end = 1\n",
    "else:\n",
    "    steps_end = 5000\n",
    "\n",
    "# output frequency\n",
    "steps_output = min(100, steps_end/10)\n",
    "steps_output = max(steps_output, 1)\n",
    "iloop      = True\n",
    "epsilon    = 1.e-8\n",
    "\n",
    "velplotmax = 0.0\n",
    "nuLast     = -1.0"
   ]
  },
  {
   "cell_type": "code",
   "execution_count": null,
   "metadata": {
    "collapsed": false
   },
   "outputs": [],
   "source": [
    "# Perform steps.\n",
    "while iloop == True:\n",
    "\n",
    "    # Solving the Stokes system.\n",
    "    solver.solve()\n",
    "    # Determining the maximum timestep for advancing the a-d system.\n",
    "    dt = advDiff.get_max_dt()\n",
    "    if step == 0:\n",
    "        dt = 0.\n",
    "    # Advect using this timestep size. \n",
    "    advDiff.integrate(dt)\n",
    "    \n",
    "    # Calculate & store the RMS velocity and Nusselt number.\n",
    "    rms_V = FindVrms( velocityField, mesh )\n",
    "    nu    = FindNusseltNumber( temperatureField, mesh )\n",
    "    vrmsVal.append(vrms)\n",
    "    timeVal.append(time)\n",
    "    velplotmax = max(vrms, velplotmax)\n",
    "\n",
    "    # print output statistics \n",
    "    if step%(steps_end/steps_output) == 0:\n",
    "        print('steps = {0:6d}; time = {1:.3e}; v_rms = {2:.3f}; Nu = {3:.3f}; Rel change = {4:.3e}'\n",
    "          .format(step, time, rms_v, nu, abs((nu - nuLast)/nu)))\n",
    "    # Check loop break conditions.\n",
    "    if(abs((nu - nuLast)/nu) < epsilon):\n",
    "        iloop = False\n",
    "        print('steps = {0:6d}; time = {1:.3e}; v_rms = {2:.3f}; Nu = {3:.3f}; Rel change = {4:.3e}'\n",
    "          .format(step, time, rms_v, nu, abs((nu - nuLast)/nu)))\n",
    "    nuLast = nu\n",
    "    if step>=steps_end:\n",
    "        iloop = False\n",
    "\n",
    "    # Increment time and timestep counter\n",
    "    time += dt\n",
    "    step += 1\n"
   ]
  },
  {
   "cell_type": "markdown",
   "metadata": {},
   "source": [
    "Post analysis\n",
    "-----\n",
    "\n",
    "**Benchmark values**\n",
    "\n",
    "The time loop above outputs $v_{rms}$ and $Nu$ as general statistics for the system. For comparison, the benchmark values for the RMS velocity and Nusselt number are shown below for different Rayleigh numbers. All benchmark values shown below were determined in Blankenbach *et al.* 1989 by extroplation of numerical results. \n",
    "\n",
    "\n",
    "| $Ra$          | $v_{rms}$   | $Nu$  |   $q_1$  | $q_2$  |\n",
    "| ------------- |:-------------:|:-----:|:-----:|:-----:|\n",
    "| 10$^4$ | 42.865 |  4.884 | 8.059 | 0.589 |\n",
    "| 10$^5$ | 193.215 | 10.535 | 19.079 | 0.723 |\n",
    "| 10$^6$ | 833.990 | 21.972 | 45.964 | 0.877 |\n",
    "\n",
    "\n",
    "For practicality, quick tests can be run to see that the results are close enough. Tests run using underworld gave\n",
    "\n",
    "| $Ra$          | $v_{rms}$   | $Nu$  |\n",
    "| ------------- |:-------------:|:-----:|\n",
    "| 10$^4$ | 42.858 |  4.848 |\n",
    "| 10$^5$ | 193.449 | 10.248 |\n",
    "| 10$^6$ | 844.218 | 19.660 |\n"
   ]
  },
  {
   "cell_type": "markdown",
   "metadata": {},
   "source": [
    "**Resulting pressure field**\n",
    "\n",
    "Use the same method as above to plot the new temperature field. This can also be used to plot the pressure field, or any other data structures of interest."
   ]
  },
  {
   "cell_type": "code",
   "execution_count": null,
   "metadata": {
    "collapsed": false
   },
   "outputs": [],
   "source": [
    "figtemp = glucifer.Figure()\n",
    "figtemp.append( glucifer.objects.Surface( mesh, pressureField ) )\n",
    "figtemp.show()"
   ]
  },
  {
   "cell_type": "markdown",
   "metadata": {},
   "source": [
    "**Save temperature data**\n",
    "\n",
    "Save the temperature field data to two file using HDF5 format - the default in underworld. This is the same file type as is loaded above."
   ]
  },
  {
   "cell_type": "code",
   "execution_count": null,
   "metadata": {
    "collapsed": false
   },
   "outputs": [],
   "source": [
    "temperatureField.save(outputPath+'tempfield.h5')"
   ]
  },
  {
   "cell_type": "markdown",
   "metadata": {},
   "source": [
    "**Plot the velocity vector field**\n",
    "\n",
    "For this example the velocity field is interesting to see. This is visualised in two ways, firstly plotting a surface colour map of the velocity magnitude, and secondly the velocity vectors at points on the mesh. For aesthetics the vector arrows are scaled by a little more than the maximum $v_{rms}$ value found in the time loop above."
   ]
  },
  {
   "cell_type": "code",
   "execution_count": null,
   "metadata": {
    "collapsed": false
   },
   "outputs": [],
   "source": [
    "fig2 = glucifer.Figure()\n",
    "velmagfield = uw.function.math.sqrt( uw.function.math.dot( velocityField, velocityField ) )\n",
    "fig2.append( glucifer.objects.VectorArrows(mesh, velocityField/(2.5*velplotmax), arrowHead=0.2, scaling=0.1) )\n",
    "fig2.append( glucifer.objects.Surface(mesh, temperatureField) )\n",
    "fig2.show()"
   ]
  },
  {
   "cell_type": "markdown",
   "metadata": {},
   "source": [
    "**Temperature gradient**\n",
    "\n",
    "The final benchmarks in the Blankenbach paper involve the temperature gradient in the vertical direction ($\\frac{\\partial T}{\\partial z}$). This is easy to find using the underworld functions, as shown below.\n"
   ]
  },
  {
   "cell_type": "code",
   "execution_count": null,
   "metadata": {
    "collapsed": false,
    "scrolled": false
   },
   "outputs": [],
   "source": [
    "tempgradField = temperatureField.gradientFn\n",
    "vertTGradField = - boxHeight * tempgradField[1] / tempMax # scaled for direct benchmarking below\n",
    "fig3 = glucifer.Figure()\n",
    "vertTGradmagField = uw.function.math.sqrt( uw.function.math.dot( vertTGradField, vertTGradField ) )\n",
    "fig3.append( glucifer.objects.Surface( mesh, vertTGradmagField, colourBar = False ) )\n",
    "fig3.show()"
   ]
  },
  {
   "cell_type": "markdown",
   "metadata": {},
   "source": [
    "**More benchmark values**\n",
    "\n",
    "\n",
    "The vertical temperature gradient (above) is set up to be non-dimensional as per Blankenbach et al 1989. To compare to the benchmark values in their work the gradient is compared at the corners of the simulation box: $q_1$ at $x = 0$, $z = h$; $q_2$ at $x = l$, $z = h$; $q_3$ at $x = l$, $z = 0$; $q_4$ at $x = 0$, $z = 0$. Where $h$ = Box_Height and $l$ = Box_Length and the non-dimensional gradient field is given by\n",
    "\\\\[\n",
    "q = \\frac{-h}{\\Delta T} \\left( \\frac{\\partial T}{\\partial z} \\right)\n",
    "\\\\]\n",
    "\n",
    "Provided the simulation is run to steady-state with sufficent resolution then the $q$ values should be close to the benchmark values given again below for different Rayleigh numbers.\n",
    "\n",
    "| $Ra$          |    $q_1$  | $q_2$  |\n",
    "| ------------- |:-----:|:-----:|\n",
    "| 10$^4$ | 8.059 | 0.589 |\n",
    "| 10$^5$ | 19.079 | 0.723 |\n",
    "| 10$^6$ | 45.964 | 0.877 |\n",
    "\n",
    "The underworld values for $128\\times128$ close to convergence are\n",
    "\n",
    "| $Ra$          |    $q_1$  | $q_2$  |\n",
    "| ------------- |:-----:|:-----:|\n",
    "| 10$^4$ | 8.020 | 0.589 |\n",
    "| 10$^5$ | 18.409 | 0.719 |\n",
    "| 10$^6$ | 36.769 | 0.831 |\n"
   ]
  },
  {
   "cell_type": "code",
   "execution_count": null,
   "metadata": {
    "collapsed": false
   },
   "outputs": [],
   "source": [
    "q1 = vertTGradField.evaluate( (0., boxHeight))[0][0]\n",
    "q2 = vertTGradField.evaluate( (boxLength, boxHeight))[0][0]\n",
    "q3 = vertTGradField.evaluate( (boxLength, 0.))[0][0]\n",
    "q4 = vertTGradField.evaluate( (0., 0.))[0][0]\n",
    "\n",
    "print('Rayleigh number = {0:.1e}'.format(Ra))\n",
    "print('q1 = {0:.3f}; q2 = {1:.3f}'.format(q1,q2))\n",
    "print('q3 = {0:.3f}; q4 = {1:.3f}'.format(q3,q4))"
   ]
  },
  {
   "cell_type": "markdown",
   "metadata": {},
   "source": [
    "**Save time and rms values**\n",
    "\n",
    "The following command uses the ``numpy`` package save to text file function to output all $v_{RMS}$ values as a function of time. This is particularly useful if you have run the simulation from the perturbed initial condition rather than the saved data file, as you can see the system coming to steady state.\n",
    "\n",
    "The format for this text file is:\n",
    "\n",
    "    timeVal[0], vrmsVal[0]\n",
    "    timeVal[1], vrmsVal[1]\n",
    "    ...\n",
    "    timeVal[N], vrmsVal[N]"
   ]
  },
  {
   "cell_type": "code",
   "execution_count": null,
   "metadata": {
    "collapsed": false
   },
   "outputs": [],
   "source": [
    "np.savetxt(outputPath+'vrms.txt', np.c_[timeVal, vrmsVal], header=\"Time, VRMS\" )"
   ]
  },
  {
   "cell_type": "markdown",
   "metadata": {},
   "source": [
    "**Calculate stress values for benchmark comparison**\n",
    "\n",
    "\n",
    "Determine stress field for whole box in dimensionless units (King 2009)\n",
    "\\begin{equation}\n",
    "\\tau_{ij} = \\eta \\frac{1}{2} \\left[ \\frac{\\partial v_j}{\\partial x_i} + \\frac{\\partial v_i}{\\partial x_j}\\right]\n",
    "\\end{equation}\n",
    "which for vertical normal stress becomes\n",
    "\\begin{equation}\n",
    "\\tau_{zz} = \\eta \\frac{1}{2} \\left[ \\frac{\\partial v_z}{\\partial z} + \\frac{\\partial v_z}{\\partial z}\\right] = \\eta \\frac{\\partial v_z}{\\partial z}\n",
    "\\end{equation}\n",
    "which is implemented for the whole box in the functions defined below."
   ]
  },
  {
   "cell_type": "code",
   "execution_count": null,
   "metadata": {
    "collapsed": true
   },
   "outputs": [],
   "source": [
    "# get topography\n",
    "stresstensorFn    =  2.* stokesPIC.viscosityFn*fn.tensor.symmetric( velocityField.gradientFn ) - pressureField\n",
    "verticalStressFn  = stresstensorFn[1]\n",
    "stress_zz_top     = -verticalStressFn.evaluate(mesh.specialSets[\"MaxJ_VertexSet\"])\n",
    "\n",
    "# subtract the average value for benchmark.\n",
    "mean_sigma_zz_top = np.mean(stress_zz_top)\n",
    "sigma_zz_top      = stress_zz_top - mean_sigma_zz_top"
   ]
  },
  {
   "cell_type": "markdown",
   "metadata": {},
   "source": [
    "Dimensionalise the stress from the vertical normal stress at the top of the box (King 2009)\n",
    "\n",
    "$$\n",
    "    \\sigma_{t} = \\frac{\\eta_0 \\kappa}{\\rho g h^2}\\tau _{zz} \\left( x, z=h\\right)\n",
    "$$\n",
    "\n",
    "where all constants have been defined above. Finally calculate the topography, defined using $h = \\sigma_{top} / (\\rho g)$."
   ]
  },
  {
   "cell_type": "code",
   "execution_count": null,
   "metadata": {
    "collapsed": false
   },
   "outputs": [],
   "source": [
    "# Set parameters in SI units\n",
    "grav = 10        # m.s^-2\n",
    "height = 1.e6    # m \n",
    "rho  = 4.0e3     # g.m^-3\n",
    "kappa  = 1.0e-6  # m^2.s^-1\n",
    "\n",
    "# dimensionalise \n",
    "dim_sigma_zz_top  = (eta0 * kappa / (height*height)) * sigma_zz_top\n",
    "\n",
    "# find topography in [m]\n",
    "topography        = dim_sigma_zz_top / (rho * grav) "
   ]
  },
  {
   "cell_type": "markdown",
   "metadata": {},
   "source": [
    "**Calculate x-coordinate at zero stress**\n",
    "\n",
    "Calculate the zero point for the stress along the x-axis at the top of the box using the **interpolation function** from ``numpy``. Note that ``numpy`` requires that the first array input for ``np.interp`` must be increasing, so the negative of the topography is used."
   ]
  },
  {
   "cell_type": "code",
   "execution_count": null,
   "metadata": {
    "collapsed": false
   },
   "outputs": [],
   "source": [
    "xCoordFn = fn.input()[0]\n",
    "x = xCoordFn.evaluate(mesh.specialSets[\"MinJ_VertexSet\"])\n",
    "xIntercept = np.interp(0.0,-1.0*topography[:, 0],x[:, 0])"
   ]
  },
  {
   "cell_type": "markdown",
   "metadata": {},
   "source": [
    "**Topography comparison**\n",
    "\n",
    "Topography of the top boundary calculated in the left and right corners as given in Table 9 of Blankenbach et al 1989.\n",
    "\n",
    "| $Ra$          |    $\\xi_1$  | $\\xi_2$  |  $x$ ($\\xi = 0$) |\n",
    "| ------------- |:-----------:|:--------:|:--------------:|\n",
    "| 10$^4$  | 2254.02   | -2903.23  | 0.539372          |\n",
    "| 10$^5$  | 1460.99   | -2004.20  | 0.529330          |\n",
    "| 10$^6$  | 931.96   | -1283.80  | 0.506490          |\n",
    "\n",
    "Underworld values for an \"almost\" converged $128\\times128$ benchmark run\n",
    "\n",
    "| $Ra$          |    $\\xi_1$  | $\\xi_2$  |  $x$ ($\\xi = 0$) |\n",
    "| ------------- |:-----------:|:--------:|:--------------:|\n",
    "| 10$^4$  | 2243.93   | -2909.12  | 0.540373          |\n",
    "| 10$^5$  | 1451.52   | -2005.83  | 0.530246          |\n",
    "| 10$^6$  | 911.30    | -1282.47  | 0.509696          |\n"
   ]
  },
  {
   "cell_type": "code",
   "execution_count": null,
   "metadata": {
    "collapsed": false
   },
   "outputs": [],
   "source": [
    "print('Rayleigh number = {0:.1e}'.format(Ra))\n",
    "print('Topography[x=0],[x=max] = {0:.2f}, {1:.2f}'.format(float(topography[0]),float(topography[len(topography)-1])))\n",
    "print('x(topo=0) = {0:.6f}'.format(xIntercept))"
   ]
  },
  {
   "cell_type": "code",
   "execution_count": null,
   "metadata": {
    "collapsed": true
   },
   "outputs": [],
   "source": []
  }
 ],
 "metadata": {
  "kernelspec": {
   "display_name": "Python 2",
   "language": "python",
   "name": "python2"
  },
  "language_info": {
   "codemirror_mode": {
    "name": "ipython",
    "version": 2
   },
   "file_extension": ".py",
   "mimetype": "text/x-python",
   "name": "python",
   "nbconvert_exporter": "python",
   "pygments_lexer": "ipython2",
   "version": "2.7.10"
  }
 },
 "nbformat": 4,
 "nbformat_minor": 0
}
