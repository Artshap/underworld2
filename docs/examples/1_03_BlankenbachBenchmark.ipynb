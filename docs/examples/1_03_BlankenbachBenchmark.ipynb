{
 "cells": [
  {
   "cell_type": "markdown",
   "metadata": {},
   "source": [
    "Blankenbach Benchmark Case 1\n",
    "======\n",
    "\n",
    "Steady isoviscous thermal convection\n",
    "----\n",
    "\n",
    "Two-dimensional, incompressible, bottom heated, steady isoviscous thermal convection in a 1 x 1 box, see case 1 of Blankenbach *et al.* 1989 for details.\n",
    "\n",
    "**This example introduces:**\n",
    "1. Loading/Saving variables to disk.\n",
    "2. Defining analysis tools.\n",
    "3. Finding a steady state.\n",
    "\n",
    "**Keywords:** Stokes system, advective diffusive systems, analysis tools\n",
    "\n",
    "**References**\n",
    "\n",
    "B. Blankenbach, F. Busse, U. Christensen, L. Cserepes, D. Gunkel, U. Hansen, H. Harder, G. Jarvis, M. Koch, G. Marquart, D. Moore, P. Olson, H. Schmeling and T. Schnaubelt. A benchmark comparison for mantle convection codes. Geophysical Journal International, 98, 1, 23–38, 1989\n",
    "http://onlinelibrary.wiley.com/doi/10.1111/j.1365-246X.1989.tb05511.x/abstract\n"
   ]
  },
  {
   "cell_type": "code",
   "execution_count": 1,
   "metadata": {
    "collapsed": false
   },
   "outputs": [],
   "source": [
    "import underworld as uw\n",
    "from underworld import function as fn\n",
    "import glucifer\n",
    "import math\n",
    "import numpy as np"
   ]
  },
  {
   "cell_type": "markdown",
   "metadata": {},
   "source": [
    "Setup parameters\n",
    "-----"
   ]
  },
  {
   "cell_type": "code",
   "execution_count": 2,
   "metadata": {
    "collapsed": false
   },
   "outputs": [],
   "source": [
    "# Set domain dimension & size\n",
    "dim = 2\n",
    "boxHeight = 1.0\n",
    "boxLength = 1.0\n",
    "# Set grid resolution.\n",
    "res = 128\n",
    "# Set max & min temperautres\n",
    "tempMin = 0.0\n",
    "tempMax = 1.0"
   ]
  },
  {
   "cell_type": "markdown",
   "metadata": {},
   "source": [
    "Choose which Rayleigh number, see case 1 of Blankenbach *et al.* 1989 for details."
   ]
  },
  {
   "cell_type": "code",
   "execution_count": 3,
   "metadata": {
    "collapsed": true
   },
   "outputs": [],
   "source": [
    "case = \"a\" \n",
    "if(case==\"a\"):\n",
    "    Ra=1.e4\n",
    "    eta0=1.e23\n",
    "elif(case==\"b\"):\n",
    "    Ra=1.e5\n",
    "    eta0=1.e22\n",
    "else: \n",
    "    Ra=1.e6\n",
    "    eta0=1.e21"
   ]
  },
  {
   "cell_type": "markdown",
   "metadata": {},
   "source": [
    "Set input and output file directory "
   ]
  },
  {
   "cell_type": "code",
   "execution_count": 4,
   "metadata": {
    "collapsed": true
   },
   "outputs": [],
   "source": [
    "inputPath  = 'BBInput/'\n",
    "outputPath = 'BBOutput/'\n",
    "# Make output directory if necessary.\n",
    "if uw.rank()==0:\n",
    "    import os\n",
    "    if not os.path.exists(outputPath):\n",
    "        os.makedirs(outputPath)"
   ]
  },
  {
   "cell_type": "markdown",
   "metadata": {},
   "source": [
    "Create mesh and variables\n",
    "------"
   ]
  },
  {
   "cell_type": "code",
   "execution_count": 5,
   "metadata": {
    "collapsed": true
   },
   "outputs": [],
   "source": [
    "mesh = uw.mesh.FeMesh_Cartesian( elementType = (\"Q1/dQ0\"), \n",
    "                                 elementRes  = (res, res), \n",
    "                                 minCoord    = (0., 0.), \n",
    "                                 maxCoord    = (boxLength, boxHeight))\n",
    "\n",
    "velocityField       = uw.mesh.MeshVariable( mesh=mesh,         nodeDofCount=dim )\n",
    "pressureField       = uw.mesh.MeshVariable( mesh=mesh.subMesh, nodeDofCount=1 )\n",
    "temperatureField    = uw.mesh.MeshVariable( mesh=mesh,         nodeDofCount=1 )\n",
    "temperatureDotField = uw.mesh.MeshVariable( mesh=mesh,         nodeDofCount=1 )\n",
    "\n",
    "# initialise velocity, pressure and temperatureDot field\n",
    "velocityField.data[:]       = [0.,0.]\n",
    "pressureField.data[:]       = 0.\n",
    "temperatureField.data[:]    = 0.\n",
    "temperatureDotField.data[:] = 0."
   ]
  },
  {
   "cell_type": "markdown",
   "metadata": {},
   "source": [
    "Set up material parameters and functions\n",
    "-----\n",
    "\n",
    "Set values and functions for viscosity, density and buoyancy force."
   ]
  },
  {
   "cell_type": "code",
   "execution_count": 6,
   "metadata": {
    "collapsed": false
   },
   "outputs": [],
   "source": [
    "# Set a constant viscosity.\n",
    "viscosity = 1.\n",
    "\n",
    "# Create our density function.\n",
    "densityFn = Ra * temperatureField\n",
    "\n",
    "# Define our vertical unit vector using a python tuple (this will be automatically converted to a function).\n",
    "z_hat = ( 0.0, 1.0 )\n",
    "\n",
    "# A buoyancy function.\n",
    "buoyancyFn = densityFn * z_hat"
   ]
  },
  {
   "cell_type": "markdown",
   "metadata": {},
   "source": [
    "Set initial temperature field\n",
    "-----\n",
    "The initial temperature field can be loaded from a pre-run steady state data set ( ``LoadFromFile = True`` ) or set to a sinusodial perterbation ( ``LoadFromFile = False`` )."
   ]
  },
  {
   "cell_type": "code",
   "execution_count": 7,
   "metadata": {
    "collapsed": true
   },
   "outputs": [],
   "source": [
    "# Steady state temperature field to be loaded from data file.\n",
    "LoadFromFile = True"
   ]
  },
  {
   "cell_type": "markdown",
   "metadata": {
    "collapsed": false
   },
   "source": [
    "**If loading steady state data set**\n",
    "\n",
    "Data is stored in h5 format from a 64\\*64 grid resolution model.  Data has been saved for 3 different Rayleigh numbers, $Ra = 10^4$, $10^5$ or $10^6$. \n",
    "\n",
    "Once loaded the data will need to be re-meshed onto a new grid, unless the new resolution is also 64\\*64.\n",
    "\n",
    "For more information on using meshes see the user guide.\n"
   ]
  },
  {
   "cell_type": "code",
   "execution_count": 8,
   "metadata": {
    "collapsed": false
   },
   "outputs": [
    {
     "name": "stdout",
     "output_type": "stream",
     "text": [
      "Loading 64*64 for Ra = 1e4\n"
     ]
    }
   ],
   "source": [
    "if(LoadFromFile == True):\n",
    "    # Setup mesh and temperature field for 64*64 data file.\n",
    "    mesh64 = uw.mesh.FeMesh_Cartesian( elementType = (\"Q1/dQ0\"), \n",
    "                                       elementRes  = (64, 64), \n",
    "                                       minCoord    = (0., 0.), \n",
    "                                       maxCoord    = (boxLength, boxHeight),\n",
    "                                       partitioned = False )\n",
    "    temperatureField64  = uw.mesh.MeshVariable( mesh=mesh64, nodeDofCount=1 ) \n",
    "    \n",
    "    # read in saved steady state temperature field data\n",
    "    if( case == \"a\" ):\n",
    "        temperatureField64.load(inputPath+'tempfield_inp_64_Ra1e4.h5')\n",
    "        print('Loading 64*64 for Ra = 1e4')\n",
    "    elif( case == \"b\" ):\n",
    "        temperatureField64.load(inputPath+'tempfield_inp_64_Ra1e5.h5')\n",
    "        print('Loading 64*64 for Ra = 1e5')\n",
    "    else:\n",
    "        temperatureField64.load(inputPath+'tempfield_inp_64_Ra1e6.h5')\n",
    "        print('Loading 64*64 for Ra = 1e6')\n",
    "        \n",
    "    if( res==64 ): # no remeshing needed, copy directly\n",
    "        temperatureField.data[:] = temperatureField64.data[:]\n",
    "    else: # remeshing needed\n",
    "        temperatureField.data[:] = temperatureField64.evaluate(mesh)"
   ]
  },
  {
   "cell_type": "markdown",
   "metadata": {},
   "source": [
    "**If using sinusodial perturbation**"
   ]
  },
  {
   "cell_type": "code",
   "execution_count": 9,
   "metadata": {
    "collapsed": false
   },
   "outputs": [],
   "source": [
    "if(LoadFromFile == False):\n",
    "    temperatureField.data[:] = 0.\n",
    "    pertStrength = 0.1\n",
    "    deltaTemp = tempMax - tempMin\n",
    "    for index, coord in enumerate(mesh.data):\n",
    "        pertCoeff = math.cos( math.pi * coord[0]/boxLength ) * math.sin( math.pi * coord[1]/boxLength )\n",
    "        temperatureField.data[index] = tempMin + deltaTemp*(boxHeight - coord[1]) + pertStrength * pertCoeff\n",
    "        temperatureField.data[index] = max(tempMin, min(tempMax, temperatureField.data[index]))"
   ]
  },
  {
   "cell_type": "markdown",
   "metadata": {},
   "source": [
    "**Show initial temperature field**\n",
    "\n",
    "Save to file if running in parallel."
   ]
  },
  {
   "cell_type": "code",
   "execution_count": 10,
   "metadata": {
    "collapsed": false,
    "scrolled": false
   },
   "outputs": [
    {
     "data": {
      "text/html": [
       "<img src='data:image/png;base64,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'>"
      ],
      "text/plain": [
       "<IPython.core.display.HTML object>"
      ]
     },
     "execution_count": 10,
     "metadata": {},
     "output_type": "execute_result"
    }
   ],
   "source": [
    "fig = glucifer.Figure()\n",
    "fig.append( glucifer.objects.Surface(mesh, temperatureField) )\n",
    "fig.show()"
   ]
  },
  {
   "cell_type": "markdown",
   "metadata": {},
   "source": [
    "Create boundary conditions\n",
    "----------\n",
    "\n",
    "Set temperature boundary conditions on the bottom ( ``MinJ`` ) and top ( ``MaxJ`` )."
   ]
  },
  {
   "cell_type": "code",
   "execution_count": 11,
   "metadata": {
    "collapsed": false
   },
   "outputs": [],
   "source": [
    "for index in mesh.specialSets[\"MinJ_VertexSet\"]:\n",
    "    temperatureField.data[index] = tempMax\n",
    "for index in mesh.specialSets[\"MaxJ_VertexSet\"]:\n",
    "    temperatureField.data[index] = tempMin"
   ]
  },
  {
   "cell_type": "markdown",
   "metadata": {},
   "source": [
    "Construct sets for the both horizontal and vertical walls. Combine the sets of vertices to make the ``I`` (left and right side walls) and ``J`` (top and bottom walls) sets. Note that both sets contain the corners of the box."
   ]
  },
  {
   "cell_type": "code",
   "execution_count": 12,
   "metadata": {
    "collapsed": false
   },
   "outputs": [],
   "source": [
    "iWalls = mesh.specialSets[\"MinI_VertexSet\"] + mesh.specialSets[\"MaxI_VertexSet\"]\n",
    "jWalls = mesh.specialSets[\"MinJ_VertexSet\"] + mesh.specialSets[\"MaxJ_VertexSet\"]\n",
    "\n",
    "freeslipBC = uw.conditions.DirichletCondition( variable        = velocityField, \n",
    "                                               indexSetsPerDof = (iWalls, jWalls) )\n",
    "tempBC     = uw.conditions.DirichletCondition( variable        = temperatureField, \n",
    "                                               indexSetsPerDof = (jWalls,) )"
   ]
  },
  {
   "cell_type": "markdown",
   "metadata": {},
   "source": [
    "System setup\n",
    "-----\n",
    "\n",
    "**Setup a Stokes system**\n"
   ]
  },
  {
   "cell_type": "code",
   "execution_count": 13,
   "metadata": {
    "collapsed": false
   },
   "outputs": [],
   "source": [
    "stokesPIC = uw.systems.Stokes( velocityField = velocityField, \n",
    "                               pressureField = pressureField,\n",
    "                               conditions    = [freeslipBC,],\n",
    "                               fn_viscosity   = viscosity, \n",
    "                               fn_bodyforce   = buoyancyFn )\n",
    "# get the default stokes equation solver\n",
    "solver = uw.systems.Solver( stokesPIC )"
   ]
  },
  {
   "cell_type": "markdown",
   "metadata": {},
   "source": [
    "**Create an advection diffusion system**\n"
   ]
  },
  {
   "cell_type": "code",
   "execution_count": 14,
   "metadata": {
    "collapsed": false
   },
   "outputs": [],
   "source": [
    "advDiff = uw.systems.AdvectionDiffusion( phiField       = temperatureField, \n",
    "                                         phiDotField    = temperatureDotField, \n",
    "                                         velocityField  = velocityField, \n",
    "                                         fn_diffusivity = 1.0, \n",
    "                                         conditions     = [tempBC,] )"
   ]
  },
  {
   "cell_type": "markdown",
   "metadata": {},
   "source": [
    "Analysis tools\n",
    "-----"
   ]
  },
  {
   "cell_type": "markdown",
   "metadata": {
    "collapsed": true
   },
   "source": [
    "**Nusselt number**\n",
    "\n",
    "The Nusselt number is the ratio between convective and conductive heat transfer\n",
    "\n",
    "\\\\[\n",
    "Nu = -h \\frac{ \\int_0^l \\partial_z T (x, z=h) dx}{ \\int_0^l T (x, z=0) dx}\n",
    "\\\\]\n",
    "\n",
    "\n",
    "\n"
   ]
  },
  {
   "cell_type": "code",
   "execution_count": 15,
   "metadata": {
    "collapsed": true
   },
   "outputs": [],
   "source": [
    "nuTop    = uw.utils.Integral( fn=temperatureField.fn_gradient[1], \n",
    "                              mesh=mesh, integrationType='Surface', \n",
    "                              surfaceIndexSet=mesh.specialSets[\"MaxJ_VertexSet\"])\n",
    "\n",
    "nuBottom = uw.utils.Integral( fn=temperatureField,               \n",
    "                              mesh=mesh, integrationType='Surface', \n",
    "                              surfaceIndexSet=mesh.specialSets[\"MinJ_VertexSet\"])"
   ]
  },
  {
   "cell_type": "code",
   "execution_count": 16,
   "metadata": {
    "collapsed": false
   },
   "outputs": [
    {
     "name": "stdout",
     "output_type": "stream",
     "text": [
      "Nusselt number = 4.856902\n"
     ]
    }
   ],
   "source": [
    "nu = - nuTop.evaluate()[0]/nuBottom.evaluate()[0]\n",
    "print('Nusselt number = {0:.6f}'.format(nu))"
   ]
  },
  {
   "cell_type": "markdown",
   "metadata": {},
   "source": [
    "**RMS velocity**\n",
    "\n",
    "The root mean squared velocity is defined by intergrating over the entire simulation domain via\n",
    "\n",
    "\\\\[\n",
    "\\begin{aligned}\n",
    "v_{rms}  =  \\sqrt{ \\frac{ \\int_V (\\mathbf{v}.\\mathbf{v}) dV } {\\int_V dV} }\n",
    "\\end{aligned}\n",
    "\\\\]\n",
    "\n",
    "where $V$ denotes the volume of the box."
   ]
  },
  {
   "cell_type": "code",
   "execution_count": 17,
   "metadata": {
    "collapsed": false
   },
   "outputs": [
    {
     "name": "stdout",
     "output_type": "stream",
     "text": [
      "Initial vrms = 0.000\n"
     ]
    }
   ],
   "source": [
    "def FindVrms(vel_field, mesh):\n",
    "\n",
    "    intVdotV = uw.utils.Integral( fn.math.dot( vel_field, vel_field ), mesh )\n",
    "    return ( math.sqrt( intVdotV.evaluate()[0] ) )\n",
    "\n",
    "vrms = FindVrms(velocityField, mesh)\n",
    "print('Initial vrms = {0:.3f}'.format(vrms))"
   ]
  },
  {
   "cell_type": "markdown",
   "metadata": {},
   "source": [
    "Main simulation loop\n",
    "-----"
   ]
  },
  {
   "cell_type": "markdown",
   "metadata": {},
   "source": [
    "If the initial conditions are loaded from file then this loop will only take a single step. If you would like to run the entire simulation from a small perturbation then change the ``LoadFromFile`` variable above to equal ``False``. Warning: the simulation will take a long time to get to steady state."
   ]
  },
  {
   "cell_type": "code",
   "execution_count": 18,
   "metadata": {
    "collapsed": false
   },
   "outputs": [],
   "source": [
    "#initialise time, step, output arrays\n",
    "time = 0.\n",
    "step = 0\n",
    "timeVal = []\n",
    "vrmsVal = []\n",
    "\n",
    "# starting from steady state == True\n",
    "if(LoadFromFile == True):\n",
    "    steps_end = 1\n",
    "else:\n",
    "    steps_end = 5000\n",
    "\n",
    "# output frequency\n",
    "steps_output = min(100, steps_end/10)\n",
    "steps_output = max(steps_output, 1)\n",
    "iloop      = True\n",
    "epsilon    = 1.e-8\n",
    "\n",
    "velplotmax = 0.0\n",
    "nuLast     = -1.0"
   ]
  },
  {
   "cell_type": "code",
   "execution_count": 19,
   "metadata": {
    "collapsed": false
   },
   "outputs": [
    {
     "name": "stdout",
     "output_type": "stream",
     "text": [
      "steps =      0; time = 0.000e+00; v_rms = 42.869; Nu = 4.857; Rel change = 1.206e+00\n",
      "steps =      1; time = 0.000e+00; v_rms = 42.869; Nu = 4.867; Rel change = 2.017e-03\n"
     ]
    }
   ],
   "source": [
    "# Perform steps.\n",
    "while iloop == True:\n",
    "\n",
    "    # Solving the Stokes system.\n",
    "    solver.solve()\n",
    "    # Determining the maximum timestep for advancing the a-d system.\n",
    "    dt = advDiff.get_max_dt()\n",
    "    if step == 0:\n",
    "        dt = 0.\n",
    "    # Advect using this timestep size. \n",
    "    advDiff.integrate(dt)\n",
    "    \n",
    "    # Calculate & store the RMS velocity and Nusselt number.\n",
    "    vrms = FindVrms( velocityField, mesh )\n",
    "    nu   = - nuTop.evaluate()[0]/nuBottom.evaluate()[0]\n",
    "    vrmsVal.append(vrms)\n",
    "    timeVal.append(time)\n",
    "    velplotmax = max(vrms, velplotmax)\n",
    "\n",
    "    # print output statistics \n",
    "    if step%(steps_end/steps_output) == 0:\n",
    "        if(uw.rank()==0):\n",
    "            print('steps = {0:6d}; time = {1:.3e}; v_rms = {2:.3f}; Nu = {3:.3f}; Rel change = {4:.3e}'\n",
    "              .format(step, time, vrms, nu, abs((nu - nuLast)/nu)))\n",
    "    # Check loop break conditions.\n",
    "    if(abs((nu - nuLast)/nu) < epsilon):\n",
    "        iloop = False\n",
    "        if(uw.rank()==0):\n",
    "            print('steps = {0:6d}; time = {1:.3e}; v_rms = {2:.3f}; Nu = {3:.3f}; Rel change = {4:.3e}'\n",
    "              .format(step, time, vrms, nu, abs((nu - nuLast)/nu)))\n",
    "    nuLast = nu\n",
    "    if step>=steps_end:\n",
    "        iloop = False\n",
    "\n",
    "    # Increment time and timestep counter\n",
    "    time += dt\n",
    "    step += 1\n"
   ]
  },
  {
   "cell_type": "markdown",
   "metadata": {},
   "source": [
    "Post analysis\n",
    "-----\n",
    "\n",
    "**Benchmark values**\n",
    "\n",
    "The time loop above outputs $v_{rms}$ and $Nu$ as general statistics for the system. For comparison, the benchmark values for the RMS velocity and Nusselt number are shown below for different Rayleigh numbers. All benchmark values shown below were determined in Blankenbach *et al.* 1989 by extroplation of numerical results. \n",
    "\n",
    "\n",
    "| $Ra$          | $v_{rms}$   | $Nu$  |   $q_1$  | $q_2$  |\n",
    "| ------------- |:-------------:|:-----:|:-----:|:-----:|\n",
    "| 10$^4$ | 42.865 |  4.884 | 8.059 | 0.589 |\n",
    "| 10$^5$ | 193.215 | 10.535 | 19.079 | 0.723 |\n",
    "| 10$^6$ | 833.990 | 21.972 | 45.964 | 0.877 |\n",
    "\n",
    "\n",
    "For practicality, quick tests can be run to see that the results are close enough. Tests run using underworld gave\n",
    "\n",
    "| $Ra$          | $v_{rms}$   | $Nu$  |\n",
    "| ------------- |:-------------:|:-----:|\n",
    "| 10$^4$ | 42.858 |  4.848 |\n",
    "| 10$^5$ | 193.449 | 10.248 |\n",
    "| 10$^6$ | 844.218 | 19.660 |\n"
   ]
  },
  {
   "cell_type": "markdown",
   "metadata": {},
   "source": [
    "**Resulting pressure field**\n",
    "\n",
    "Use the same method as above to plot the new temperature field. This can also be used to plot the pressure field, or any other data structures of interest."
   ]
  },
  {
   "cell_type": "code",
   "execution_count": 20,
   "metadata": {
    "collapsed": false
   },
   "outputs": [
    {
     "data": {
      "text/html": [
       "<img src='data:image/png;base64,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'>"
      ],
      "text/plain": [
       "<IPython.core.display.HTML object>"
      ]
     },
     "execution_count": 20,
     "metadata": {},
     "output_type": "execute_result"
    }
   ],
   "source": [
    "figtemp = glucifer.Figure()\n",
    "figtemp.append( glucifer.objects.Surface( mesh, pressureField ) )\n",
    "figtemp.show()"
   ]
  },
  {
   "cell_type": "markdown",
   "metadata": {},
   "source": [
    "**Plot the velocity vector field**\n",
    "\n",
    "For this example the velocity field is interesting to see. This is visualised in two ways, firstly plotting a surface colour map of the velocity magnitude, and secondly the velocity vectors at points on the mesh. For aesthetics the vector arrows are scaled by a little more than the maximum $v_{rms}$ value found in the time loop above."
   ]
  },
  {
   "cell_type": "code",
   "execution_count": 21,
   "metadata": {
    "collapsed": false
   },
   "outputs": [
    {
     "data": {
      "text/html": [
       "<img src='data:image/png;base64,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'>"
      ],
      "text/plain": [
       "<IPython.core.display.HTML object>"
      ]
     },
     "execution_count": 21,
     "metadata": {},
     "output_type": "execute_result"
    }
   ],
   "source": [
    "fig2 = glucifer.Figure()\n",
    "velmagfield = uw.function.math.sqrt( uw.function.math.dot( velocityField, velocityField ) )\n",
    "fig2.append( glucifer.objects.VectorArrows(mesh, velocityField/(2.5*velplotmax), arrowHead=0.2, scaling=0.1) )\n",
    "fig2.append( glucifer.objects.Surface(mesh, temperatureField) )\n",
    "fig2.show()"
   ]
  },
  {
   "cell_type": "markdown",
   "metadata": {},
   "source": [
    "Parallel friendly post analysis\n",
    "----\n",
    "\n",
    "When running underworld in parallel the data of each mesh variable is spread across all the processors. However often we will want to calculate a quantity based on data at specific points that may not all be on the same processor.\n",
    "\n",
    "A solution is presented here which consists of saving the data from all processors to file, then reloading the mesh variable data using a new non-partitioned mesh. This enables all the data to be available to each processor. We will the carry out the post analysis using the first processor."
   ]
  },
  {
   "cell_type": "markdown",
   "metadata": {},
   "source": [
    "**Save temperature, pressure and velocity data**\n",
    "\n",
    "Save the basic mesh variable data to files using the HDF5 format. This is the same file type as is loaded above."
   ]
  },
  {
   "cell_type": "code",
   "execution_count": 22,
   "metadata": {
    "collapsed": false
   },
   "outputs": [
    {
     "data": {
      "text/plain": [
       "<underworld.utils._utils.SavedFileData at 0x7f48c2bc5290>"
      ]
     },
     "execution_count": 22,
     "metadata": {},
     "output_type": "execute_result"
    }
   ],
   "source": [
    "mesh.save(outputPath+\"mesh.h5\")\n",
    "temperatureField.save(outputPath+'tempfield.h5')\n",
    "pressureField.save(outputPath+'presfield.h5')\n",
    "velocityField.save(outputPath+'velfield.h5')"
   ]
  },
  {
   "cell_type": "markdown",
   "metadata": {},
   "source": [
    "**Construct new mesh and variable on non-partitioned mesh**\n",
    "\n",
    "Read saved mesh variable data into a new mesh variable where the information is not partitioned across multiple processors. This means that we can use a single processor to access all the data and calculate some quantities of interest."
   ]
  },
  {
   "cell_type": "code",
   "execution_count": 23,
   "metadata": {
    "collapsed": false
   },
   "outputs": [],
   "source": [
    "# build a non-partitioned mesh with same box size\n",
    "mesh0 = uw.mesh.FeMesh_Cartesian( elementType = (\"Q1/dQ0\"), \n",
    "                                  elementRes  = (res, res), \n",
    "                                  minCoord    = (0., 0.), \n",
    "                                  maxCoord    = (boxLength, boxHeight),\n",
    "                                  partitioned = False ) \n",
    "# load previous mesh coordinate data onto new non-partitioned mesh\n",
    "mesh0.load(outputPath+'mesh.h5')\n",
    "\n",
    "# load T, P and V data onto the new mesh\n",
    "# note that pressure is always on the submesh\n",
    "temperatureField0  = uw.mesh.MeshVariable( mesh=mesh0, nodeDofCount=1 ) \n",
    "pressureField0     = uw.mesh.MeshVariable( mesh=mesh0.subMesh, nodeDofCount=1 ) \n",
    "velocityField0     = uw.mesh.MeshVariable( mesh=mesh0, nodeDofCount=dim ) \n",
    "temperatureField0.load(outputPath+\"tempfield.h5\")\n",
    "pressureField0.load(outputPath+\"presfield.h5\")\n",
    "velocityField0.load(outputPath+\"velfield.h5\")"
   ]
  },
  {
   "cell_type": "markdown",
   "metadata": {},
   "source": [
    "**Temperature gradient**\n",
    "\n",
    "The final benchmarks in the Blankenbach paper involve the temperature gradient in the vertical direction ($\\frac{\\partial T}{\\partial z}$). This is easy to find using the underworld functions, as shown below.\n"
   ]
  },
  {
   "cell_type": "code",
   "execution_count": 24,
   "metadata": {
    "collapsed": false,
    "scrolled": false
   },
   "outputs": [],
   "source": [
    "if(uw.rank()==0):\n",
    "    tempgradField = temperatureField0.fn_gradient\n",
    "    vertTGradField = - boxHeight * tempgradField[1] / tempMax # scaled for direct benchmarking below"
   ]
  },
  {
   "cell_type": "markdown",
   "metadata": {},
   "source": [
    "**More benchmark values**\n",
    "\n",
    "\n",
    "The vertical temperature gradient (above) is set up to be non-dimensional as per Blankenbach et al 1989. To compare to the benchmark values in their work the gradient is compared at the corners of the simulation box: $q_1$ at $x = 0$, $z = h$; $q_2$ at $x = l$, $z = h$; $q_3$ at $x = l$, $z = 0$; $q_4$ at $x = 0$, $z = 0$. Where $h$ = Box_Height and $l$ = Box_Length and the non-dimensional gradient field is given by\n",
    "\\\\[\n",
    "q = \\frac{-h}{\\Delta T} \\left( \\frac{\\partial T}{\\partial z} \\right)\n",
    "\\\\]\n",
    "\n",
    "Provided the simulation is run to steady-state with sufficent resolution then the $q$ values should be close to the benchmark values given again below for different Rayleigh numbers.\n",
    "\n",
    "| $Ra$          |    $q_1$  | $q_2$  |\n",
    "| ------------- |:-----:|:-----:|\n",
    "| 10$^4$ | 8.059 | 0.589 |\n",
    "| 10$^5$ | 19.079 | 0.723 |\n",
    "| 10$^6$ | 45.964 | 0.877 |\n",
    "\n",
    "The underworld values for $128\\times128$ close to convergence are\n",
    "\n",
    "| $Ra$          |    $q_1$  | $q_2$  |\n",
    "| ------------- |:-----:|:-----:|\n",
    "| 10$^4$ | 8.020 | 0.589 |\n",
    "| 10$^5$ | 18.409 | 0.719 |\n",
    "| 10$^6$ | 36.769 | 0.831 |\n"
   ]
  },
  {
   "cell_type": "code",
   "execution_count": 25,
   "metadata": {
    "collapsed": false
   },
   "outputs": [
    {
     "name": "stdout",
     "output_type": "stream",
     "text": [
      "Rayleigh number = 1.0e+04\n",
      "q1 = 8.020; q2 = 0.589\n",
      "q3 = 8.020; q4 = 0.589\n"
     ]
    }
   ],
   "source": [
    "if(uw.rank()==0):\n",
    "    q1 = vertTGradField.evaluate( (0., boxHeight))[0][0]\n",
    "    q2 = vertTGradField.evaluate( (boxLength, boxHeight))[0][0]\n",
    "    q3 = vertTGradField.evaluate( (boxLength, 0.))[0][0]\n",
    "    q4 = vertTGradField.evaluate( (0., 0.))[0][0]\n",
    "\n",
    "    print('Rayleigh number = {0:.1e}'.format(Ra))\n",
    "    print('q1 = {0:.3f}; q2 = {1:.3f}'.format(q1, q2))\n",
    "    print('q3 = {0:.3f}; q4 = {1:.3f}'.format(q3, q4))"
   ]
  },
  {
   "cell_type": "markdown",
   "metadata": {},
   "source": [
    "**Save time and rms values**\n",
    "\n",
    "The following command uses the ``numpy`` package save to text file function to output all $v_{RMS}$ values as a function of time. This is particularly useful if you have run the simulation from the perturbed initial condition rather than the saved data file, as you can see the system coming to steady state.\n",
    "\n",
    "The format for this text file is:\n",
    "\n",
    "    timeVal[0], vrmsVal[0]\n",
    "    timeVal[1], vrmsVal[1]\n",
    "    ...\n",
    "    timeVal[N], vrmsVal[N]"
   ]
  },
  {
   "cell_type": "code",
   "execution_count": 26,
   "metadata": {
    "collapsed": false
   },
   "outputs": [],
   "source": [
    "if(uw.rank()==0):\n",
    "    np.savetxt(outputPath+'vrms.txt', np.c_[timeVal, vrmsVal], header=\"Time, VRMS\" )"
   ]
  },
  {
   "cell_type": "markdown",
   "metadata": {},
   "source": [
    "**Calculate stress values for benchmark comparison**\n",
    "\n",
    "\n",
    "Determine stress field for whole box in dimensionless units (King 2009)\n",
    "\\begin{equation}\n",
    "\\tau_{ij} = \\eta \\frac{1}{2} \\left[ \\frac{\\partial v_j}{\\partial x_i} + \\frac{\\partial v_i}{\\partial x_j}\\right]\n",
    "\\end{equation}\n",
    "which for vertical normal stress becomes\n",
    "\\begin{equation}\n",
    "\\tau_{zz} = \\eta \\frac{1}{2} \\left[ \\frac{\\partial v_z}{\\partial z} + \\frac{\\partial v_z}{\\partial z}\\right] = \\eta \\frac{\\partial v_z}{\\partial z}\n",
    "\\end{equation}\n",
    "which is implemented for the whole box in the functions defined below."
   ]
  },
  {
   "cell_type": "code",
   "execution_count": 27,
   "metadata": {
    "collapsed": true
   },
   "outputs": [],
   "source": [
    "# get topography from non-partitioned stress tensor\n",
    "if(uw.rank()==0):\n",
    "    stresstensorFn = 2.* stokesPIC.fn_viscosity*fn.tensor.symmetric( velocityField0.fn_gradient ) - pressureField0\n",
    "    verticalStressFn  = stresstensorFn[1]\n",
    "    stress_zz_top     = -verticalStressFn.evaluate(mesh0.specialSets[\"MaxJ_VertexSet\"])\n",
    "\n",
    "# subtract the average value for benchmark.\n",
    "    mean_sigma_zz_top = np.mean(stress_zz_top)\n",
    "    sigma_zz_top      = stress_zz_top - mean_sigma_zz_top"
   ]
  },
  {
   "cell_type": "markdown",
   "metadata": {},
   "source": [
    "Dimensionalise the stress from the vertical normal stress at the top of the box (King 2009)\n",
    "\n",
    "$$\n",
    "    \\sigma_{t} = \\frac{\\eta_0 \\kappa}{\\rho g h^2}\\tau _{zz} \\left( x, z=h\\right)\n",
    "$$\n",
    "\n",
    "where all constants have been defined above. Finally calculate the topography, defined using $h = \\sigma_{top} / (\\rho g)$."
   ]
  },
  {
   "cell_type": "code",
   "execution_count": 28,
   "metadata": {
    "collapsed": false
   },
   "outputs": [],
   "source": [
    "# Set parameters in SI units\n",
    "if(uw.rank()==0):\n",
    "    grav = 10        # m.s^-2\n",
    "    height = 1.e6    # m \n",
    "    rho  = 4.0e3     # g.m^-3\n",
    "    kappa  = 1.0e-6  # m^2.s^-1\n",
    "\n",
    "# dimensionalise \n",
    "    dim_sigma_zz_top  = (eta0 * kappa / (height*height)) * sigma_zz_top\n",
    "\n",
    "# find topography in [m]\n",
    "    topography        = dim_sigma_zz_top / (rho * grav) "
   ]
  },
  {
   "cell_type": "markdown",
   "metadata": {},
   "source": [
    "**Calculate x-coordinate at zero stress**\n",
    "\n",
    "Calculate the zero point for the stress along the x-axis at the top of the box using the **interpolation function** from ``numpy``. Note that ``numpy`` requires that the first array input for ``np.interp`` must be increasing, so the negative of the topography is used."
   ]
  },
  {
   "cell_type": "code",
   "execution_count": 29,
   "metadata": {
    "collapsed": false
   },
   "outputs": [],
   "source": [
    "if(uw.rank()==0):\n",
    "    xCoordFn = fn.input()[0]\n",
    "    x = xCoordFn.evaluate(mesh0.specialSets[\"MinJ_VertexSet\"])\n",
    "    xIntercept = np.interp(0.0,-1.0*topography[:, 0],x[:, 0])"
   ]
  },
  {
   "cell_type": "markdown",
   "metadata": {},
   "source": [
    "**Topography comparison**\n",
    "\n",
    "Topography of the top boundary calculated in the left and right corners as given in Table 9 of Blankenbach et al 1989.\n",
    "\n",
    "| $Ra$          |    $\\xi_1$  | $\\xi_2$  |  $x$ ($\\xi = 0$) |\n",
    "| ------------- |:-----------:|:--------:|:--------------:|\n",
    "| 10$^4$  | 2254.02   | -2903.23  | 0.539372          |\n",
    "| 10$^5$  | 1460.99   | -2004.20  | 0.529330          |\n",
    "| 10$^6$  | 931.96   | -1283.80  | 0.506490          |\n",
    "\n",
    "Underworld values for an \"almost\" converged $128\\times128$ benchmark run\n",
    "\n",
    "| $Ra$          |    $\\xi_1$  | $\\xi_2$  |  $x$ ($\\xi = 0$) |\n",
    "| ------------- |:-----------:|:--------:|:--------------:|\n",
    "| 10$^4$  | 2243.93   | -2909.12  | 0.540373          |\n",
    "| 10$^5$  | 1451.52   | -2005.83  | 0.530246          |\n",
    "| 10$^6$  | 911.30    | -1282.47  | 0.509696          |\n"
   ]
  },
  {
   "cell_type": "code",
   "execution_count": 30,
   "metadata": {
    "collapsed": false
   },
   "outputs": [
    {
     "name": "stdout",
     "output_type": "stream",
     "text": [
      "Rayleigh number = 1.0e+04\n",
      "Topography[x=0],[x=max] = 2243.92, -2909.08\n",
      "x(topo=0) = 0.540372\n"
     ]
    }
   ],
   "source": [
    "if(uw.rank()==0):\n",
    "    e1 = float(topography[0])\n",
    "    e2 = float(topography[len(topography)-1])\n",
    "    print('Rayleigh number = {0:.1e}'.format(Ra))\n",
    "    print('Topography[x=0],[x=max] = {0:.2f}, {1:.2f}'.format(e1, e2))\n",
    "    print('x(topo=0) = {0:.6f}'.format(xIntercept))\n",
    "    # output a summary file with benchmark values (useful for parallel runs)\n",
    "    np.savetxt(outputPath+'summary.txt', [Ra, e1, e2, xIntercept, q1, q2, q3, q4])"
   ]
  },
  {
   "cell_type": "code",
   "execution_count": null,
   "metadata": {
    "collapsed": true
   },
   "outputs": [],
   "source": []
  }
 ],
 "metadata": {
  "kernelspec": {
   "display_name": "Python 2",
   "language": "python",
   "name": "python2"
  },
  "language_info": {
   "codemirror_mode": {
    "name": "ipython",
    "version": 2
   },
   "file_extension": ".py",
   "mimetype": "text/x-python",
   "name": "python",
   "nbconvert_exporter": "python",
   "pygments_lexer": "ipython2",
   "version": "2.7.6"
  }
 },
 "nbformat": 4,
 "nbformat_minor": 0
}
