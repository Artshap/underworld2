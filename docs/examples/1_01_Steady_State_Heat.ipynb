{
 "cells": [
  {
   "cell_type": "markdown",
   "metadata": {},
   "source": [
    "Steady state heat equation\n",
    "======\n",
    "\n",
    "This notebook will setup and solve the steady state heat equation. \n",
    "\n",
    "The heat equation is given by\n",
    "\n",
    "\\\\[\n",
    "\\nabla(k\\nabla)T = h\n",
    "\\\\]\n",
    "\n",
    "where $k$ is the diffusivity, T the temperature field and $h$ the source term (see [here](https://en.wikipedia.org/wiki/Heat_equation) for more information).\n",
    "\n",
    "**This example introduces:**\n",
    "1. Setting up the mesh\n",
    "2. Creating boundary conditions\n",
    "3. Solving the heat equation\n",
    "4. Plotting with glucifer\n",
    "\n",
    "**Keywords:** initial conditions, boundary conditions, heat equation"
   ]
  },
  {
   "cell_type": "code",
   "execution_count": 1,
   "metadata": {
    "collapsed": false
   },
   "outputs": [],
   "source": [
    "import underworld as uw\n",
    "from underworld import function as fn\n",
    "import glucifer"
   ]
  },
  {
   "cell_type": "markdown",
   "metadata": {},
   "source": [
    "Setup parameters\n",
    "-----"
   ]
  },
  {
   "cell_type": "code",
   "execution_count": 2,
   "metadata": {
    "collapsed": false
   },
   "outputs": [],
   "source": [
    "# Set number of dimensions.\n",
    "dim = 2\n",
    "# Set box size.\n",
    "boxHeight = 1.0\n",
    "boxLength = 2.0\n",
    "# Set the resolution.\n",
    "resx = 16\n",
    "resy = 8"
   ]
  },
  {
   "cell_type": "markdown",
   "metadata": {},
   "source": [
    "Create mesh and variables\n",
    "------"
   ]
  },
  {
   "cell_type": "code",
   "execution_count": 3,
   "metadata": {
    "collapsed": false
   },
   "outputs": [],
   "source": [
    "mesh = uw.mesh.FeMesh_Cartesian( elementType = (\"Q1/dQ0\"), \n",
    "                                 elementRes  = (resx, resy), \n",
    "                                 minCoord    = (0., 0.), \n",
    "                                 maxCoord    = (boxLength, boxHeight))"
   ]
  },
  {
   "cell_type": "code",
   "execution_count": 4,
   "metadata": {
    "collapsed": false
   },
   "outputs": [
    {
     "data": {
      "text/html": [
       "<img src='data:image/png;base64,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'>"
      ],
      "text/plain": [
       "<IPython.core.display.HTML object>"
      ]
     },
     "metadata": {},
     "output_type": "display_data"
    }
   ],
   "source": [
    "# gLucifer visualisation of mesh\n",
    "fig = glucifer.Figure( figsize=(800,400) )\n",
    "fig.append(glucifer.objects.Mesh( mesh ))\n",
    "fig.show()"
   ]
  },
  {
   "cell_type": "markdown",
   "metadata": {},
   "source": [
    "Create mesh variables for the temperature field & initialise. "
   ]
  },
  {
   "cell_type": "code",
   "execution_count": 5,
   "metadata": {
    "collapsed": false
   },
   "outputs": [],
   "source": [
    "temperatureField = uw.mesh.MeshVariable( mesh=mesh, nodeDofCount=1 )\n",
    "temperatureField.data[:] = 0."
   ]
  },
  {
   "cell_type": "markdown",
   "metadata": {},
   "source": [
    "Create boundary conditions\n",
    "----------"
   ]
  },
  {
   "cell_type": "markdown",
   "metadata": {},
   "source": [
    "Determine which vertices will be flagged as boundary conditions on the system using special sets."
   ]
  },
  {
   "cell_type": "code",
   "execution_count": 6,
   "metadata": {
    "collapsed": false
   },
   "outputs": [
    {
     "data": {
      "text/plain": [
       "['MaxI_VertexSet',\n",
       " 'MinI_VertexSet',\n",
       " 'AllWalls_VertexSet',\n",
       " 'MinJ_VertexSet',\n",
       " 'MaxJ_VertexSet',\n",
       " 'Empty']"
      ]
     },
     "execution_count": 6,
     "metadata": {},
     "output_type": "execute_result"
    }
   ],
   "source": [
    "mesh.specialSets.keys()"
   ]
  },
  {
   "cell_type": "markdown",
   "metadata": {},
   "source": [
    "The vertices along the bottom wall is given by  'MinJ_VertexSet', the top wall given by the 'MaxJ_VertexSet'."
   ]
  },
  {
   "cell_type": "markdown",
   "metadata": {},
   "source": [
    "Construct sets for the horizontal walls."
   ]
  },
  {
   "cell_type": "code",
   "execution_count": 7,
   "metadata": {
    "collapsed": false
   },
   "outputs": [],
   "source": [
    "jWalls = mesh.specialSets[\"MinJ_VertexSet\"] + mesh.specialSets[\"MaxJ_VertexSet\"]"
   ]
  },
  {
   "cell_type": "markdown",
   "metadata": {},
   "source": [
    "Create Direchlet, or fixed value, boundary conditions for the jWalls and provide values."
   ]
  },
  {
   "cell_type": "code",
   "execution_count": 8,
   "metadata": {
    "collapsed": true
   },
   "outputs": [],
   "source": [
    "tempBC = uw.conditions.DirichletCondition( variable=temperatureField, indexSetsPerDof=(jWalls,) )"
   ]
  },
  {
   "cell_type": "code",
   "execution_count": 9,
   "metadata": {
    "collapsed": false
   },
   "outputs": [],
   "source": [
    "# set bottom wall temperature bc\n",
    "for index in mesh.specialSets[\"MinJ_VertexSet\"]:\n",
    "    temperatureField.data[index] = 1.0\n",
    "# set top wall temperature bc\n",
    "for index in mesh.specialSets[\"MaxJ_VertexSet\"]:\n",
    "    temperatureField.data[index] = 0.0"
   ]
  },
  {
   "cell_type": "code",
   "execution_count": 10,
   "metadata": {
    "collapsed": false,
    "scrolled": false
   },
   "outputs": [
    {
     "data": {
      "text/html": [
       "<img src='data:image/png;base64,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'>"
      ],
      "text/plain": [
       "<IPython.core.display.HTML object>"
      ]
     },
     "metadata": {},
     "output_type": "display_data"
    }
   ],
   "source": [
    "# gLucifer visualisation of temperature field & mesh\n",
    "fig.append( glucifer.objects.Surface( mesh, temperatureField, colours=\"blue white red\" ) )\n",
    "fig.show()"
   ]
  },
  {
   "cell_type": "markdown",
   "metadata": {},
   "source": [
    "Heat Equation System setup & solve\n",
    "-----\n",
    "\n",
    "Temperature field, diffusivity and boundary conditions are passed to the SteadyStateHeat system function."
   ]
  },
  {
   "cell_type": "code",
   "execution_count": 11,
   "metadata": {
    "collapsed": false
   },
   "outputs": [],
   "source": [
    "heatequation = uw.systems.SteadyStateHeat(temperatureField = temperatureField, \n",
    "                                            fn_diffusivity = 1.0, \n",
    "                                                conditions = [tempBC,])"
   ]
  },
  {
   "cell_type": "markdown",
   "metadata": {},
   "source": [
    "Solve the heat equation."
   ]
  },
  {
   "cell_type": "code",
   "execution_count": 12,
   "metadata": {
    "collapsed": false
   },
   "outputs": [],
   "source": [
    "# get the default heat equation solver\n",
    "heatsolver = uw.systems.Solver(heatequation)\n",
    "# solve\n",
    "heatsolver.solve()"
   ]
  },
  {
   "cell_type": "code",
   "execution_count": 13,
   "metadata": {
    "collapsed": false
   },
   "outputs": [
    {
     "data": {
      "text/html": [
       "<img src='data:image/png;base64,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'>"
      ],
      "text/plain": [
       "<IPython.core.display.HTML object>"
      ]
     },
     "metadata": {},
     "output_type": "display_data"
    }
   ],
   "source": [
    "# gLucifer visualisation of temperature field & mesh\n",
    "fig.show()"
   ]
  },
  {
   "cell_type": "code",
   "execution_count": null,
   "metadata": {
    "collapsed": true
   },
   "outputs": [],
   "source": []
  }
 ],
 "metadata": {
  "kernelspec": {
   "display_name": "Python 2",
   "language": "python",
   "name": "python2"
  },
  "language_info": {
   "codemirror_mode": {
    "name": "ipython",
    "version": 2
   },
   "file_extension": ".py",
   "mimetype": "text/x-python",
   "name": "python",
   "nbconvert_exporter": "python",
   "pygments_lexer": "ipython2",
   "version": "2.7.10"
  }
 },
 "nbformat": 4,
 "nbformat_minor": 0
}
