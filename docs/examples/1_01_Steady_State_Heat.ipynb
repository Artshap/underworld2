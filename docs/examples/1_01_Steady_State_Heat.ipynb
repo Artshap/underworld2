{
 "metadata": {
  "kernelspec": {
   "display_name": "Python 2",
   "language": "python",
   "name": "python2"
  },
  "language_info": {
   "codemirror_mode": {
    "name": "ipython",
    "version": 2
   },
   "file_extension": ".py",
   "mimetype": "text/x-python",
   "name": "python",
   "nbconvert_exporter": "python",
   "pygments_lexer": "ipython2",
   "version": "2.7.10"
  },
  "name": ""
 },
 "nbformat": 3,
 "nbformat_minor": 0,
 "worksheets": [
  {
   "cells": [
    {
     "cell_type": "markdown",
     "metadata": {},
     "source": [
      "Steady state heat equation\n",
      "======\n",
      "\n",
      "This notebook will setup and solve the steady state heat equation:\n",
      "\n",
      "\\\\[\n",
      "\\nabla(k\\nabla)T = h\n",
      "\\\\]\n",
      "\n",
      "where $k$ is the diffusivity, T the temperature field and $h$ the source term.\n",
      "\n",
      "**Keywords:** initial conditions, boundary conditions, heat equation"
     ]
    },
    {
     "cell_type": "code",
     "collapsed": false,
     "input": [
      "import underworld as uw\n",
      "import glucifer"
     ],
     "language": "python",
     "metadata": {},
     "outputs": [],
     "prompt_number": 1
    },
    {
     "cell_type": "markdown",
     "metadata": {},
     "source": [
      "Setup parameters\n",
      "-----"
     ]
    },
    {
     "cell_type": "code",
     "collapsed": false,
     "input": [
      "# Set box size.\n",
      "boxHeight = 1.0\n",
      "boxLength = 2.0\n",
      "# Set the resolution.\n",
      "resx = 16\n",
      "resy = 8"
     ],
     "language": "python",
     "metadata": {},
     "outputs": [],
     "prompt_number": 2
    },
    {
     "cell_type": "markdown",
     "metadata": {},
     "source": [
      "Create mesh and variables\n",
      "------"
     ]
    },
    {
     "cell_type": "code",
     "collapsed": false,
     "input": [
      "mesh = uw.mesh.FeMesh_Cartesian( elementType = (\"Q1/dQ0\"), \n",
      "                                 elementRes  = (resx, resy), \n",
      "                                 minCoord    = (0., 0.), \n",
      "                                 maxCoord    = (boxLength, boxHeight))"
     ],
     "language": "python",
     "metadata": {},
     "outputs": [],
     "prompt_number": 3
    },
    {
     "cell_type": "code",
     "collapsed": false,
     "input": [
      "# gLucifer visualisation of mesh\n",
      "fig = glucifer.Figure( figsize=(800,400) )\n",
      "fig.append(glucifer.objects.Mesh( mesh ))\n",
      "fig.show()"
     ],
     "language": "python",
     "metadata": {},
     "outputs": [
      {
       "html": [
        "<img src='data:image/png;base64,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'>"
       ],
       "output_type": "display_data",
       "text": [
        "<IPython.core.display.HTML object>"
       ]
      }
     ],
     "prompt_number": 4
    },
    {
     "cell_type": "code",
     "collapsed": false,
     "input": [
      "# Create mesh variables for the temperature field & initialise. \n",
      "temperatureField = uw.mesh.MeshVariable( mesh=mesh, nodeDofCount=1 )\n",
      "temperatureField.data[:] = 0."
     ],
     "language": "python",
     "metadata": {},
     "outputs": [],
     "prompt_number": 5
    },
    {
     "cell_type": "markdown",
     "metadata": {},
     "source": [
      "Create boundary conditions\n",
      "----------"
     ]
    },
    {
     "cell_type": "markdown",
     "metadata": {},
     "source": [
      "We first wish to determine which vertices will be flagged as boundary conditions. To do this, we create set objects which contain the vertex indices for which the condition will apply. The *specialSets* dictionary (on the mesh object) contains the sets we usually require. Note however that you may construct sets which contain indices for **any** vertex on the mesh."
     ]
    },
    {
     "cell_type": "code",
     "collapsed": false,
     "input": [
      "mesh.specialSets.keys()"
     ],
     "language": "python",
     "metadata": {},
     "outputs": [
      {
       "output_type": "pyout",
       "prompt_number": 6,
       "text": [
        "['MaxI_VertexSet',\n",
        " 'MinI_VertexSet',\n",
        " 'AllWalls_VertexSet',\n",
        " 'MinJ_VertexSet',\n",
        " 'MaxJ_VertexSet',\n",
        " 'Empty']"
       ]
      }
     ],
     "prompt_number": 6
    },
    {
     "cell_type": "markdown",
     "metadata": {},
     "source": [
      "The vertices along the bottom wall is given by  'MinJ_VertexSet', the top wall given by the 'MaxJ_VertexSet'."
     ]
    },
    {
     "cell_type": "markdown",
     "metadata": {},
     "source": [
      "Construct sets for the horizontal walls:"
     ]
    },
    {
     "cell_type": "code",
     "collapsed": false,
     "input": [
      "jWalls = mesh.specialSets[\"MinJ_VertexSet\"] + mesh.specialSets[\"MaxJ_VertexSet\"]"
     ],
     "language": "python",
     "metadata": {},
     "outputs": [],
     "prompt_number": 7
    },
    {
     "cell_type": "markdown",
     "metadata": {},
     "source": [
      "Create Dirichlet boundary conditions for the `jWalls` and provide values."
     ]
    },
    {
     "cell_type": "code",
     "collapsed": true,
     "input": [
      "tempBC = uw.conditions.DirichletCondition( variable=temperatureField, indexSetsPerDof=(jWalls,) )"
     ],
     "language": "python",
     "metadata": {},
     "outputs": [],
     "prompt_number": 8
    },
    {
     "cell_type": "code",
     "collapsed": false,
     "input": [
      "# set bottom wall temperature bc\n",
      "for index in mesh.specialSets[\"MinJ_VertexSet\"]:\n",
      "    temperatureField.data[index] = 1.0\n",
      "# set top wall temperature bc\n",
      "for index in mesh.specialSets[\"MaxJ_VertexSet\"]:\n",
      "    temperatureField.data[index] = 0.0"
     ],
     "language": "python",
     "metadata": {},
     "outputs": [],
     "prompt_number": 9
    },
    {
     "cell_type": "code",
     "collapsed": false,
     "input": [
      "# gLucifer visualisation of temperature field & mesh\n",
      "fig.append( glucifer.objects.Surface( mesh, temperatureField, colours=\"blue white red\" ) )\n",
      "fig.show()"
     ],
     "language": "python",
     "metadata": {
      "scrolled": false
     },
     "outputs": [
      {
       "html": [
        "<img src='data:image/png;base64,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'>"
       ],
       "output_type": "display_data",
       "text": [
        "<IPython.core.display.HTML object>"
       ]
      }
     ],
     "prompt_number": 10
    },
    {
     "cell_type": "markdown",
     "metadata": {},
     "source": [
      "Heat Equation System setup & solve\n",
      "-----\n",
      "\n",
      "Temperature field, diffusivity and boundary conditions are passed to the SteadyStateHeat system function."
     ]
    },
    {
     "cell_type": "code",
     "collapsed": false,
     "input": [
      "heatequation = uw.systems.SteadyStateHeat(temperatureField = temperatureField, \n",
      "                                            fn_diffusivity = 1.0, \n",
      "                                                conditions = tempBC)"
     ],
     "language": "python",
     "metadata": {},
     "outputs": [],
     "prompt_number": 11
    },
    {
     "cell_type": "markdown",
     "metadata": {},
     "source": [
      "Solve the heat equation."
     ]
    },
    {
     "cell_type": "code",
     "collapsed": false,
     "input": [
      "# get the default heat equation solver\n",
      "heatsolver = uw.systems.Solver(heatequation)\n",
      "# solve\n",
      "heatsolver.solve()"
     ],
     "language": "python",
     "metadata": {},
     "outputs": [],
     "prompt_number": 12
    },
    {
     "cell_type": "code",
     "collapsed": false,
     "input": [
      "# gLucifer visualisation of temperature field & mesh\n",
      "fig.show()"
     ],
     "language": "python",
     "metadata": {},
     "outputs": [
      {
       "html": [
        "<img src='data:image/png;base64,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'>"
       ],
       "output_type": "display_data",
       "text": [
        "<IPython.core.display.HTML object>"
       ]
      }
     ],
     "prompt_number": 13
    }
   ],
   "metadata": {}
  }
 ]
}
