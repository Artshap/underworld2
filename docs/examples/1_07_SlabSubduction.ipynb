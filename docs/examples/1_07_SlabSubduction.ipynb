{
 "cells": [
  {
   "cell_type": "markdown",
   "metadata": {},
   "source": [
    "Slab Subduction\n",
    "======\n",
    "\n",
    "This two dimensional subduction model has a dense, high viscosity 3 layered plate overlying a lower viscosity mantle. The upper and lower plate layers have a visco-plastic rheology, yielding under large stresses. The middle, core layer has a viscous only rheology, maintaining strength during bending. The top 1000 km of the mantle is included, the upper & lower mantle is partitioned with a viscosity contrast of 100x at 600 km depth. The velocity boundary conditions on the domain are period side, free-slip top and no-slip bottom wall. \n",
    "\n",
    "**References**\n",
    "\n",
    "1. OzBench, M.; Regenauer-Lieb, K.; Stegman, D. R.; Morra, G.; Farrington, R.; Hale, A.; May, D. A.; Freeman, J.; Bourgouin, L.; Mühlhaus, H. & Moresi, L. A model comparison study of large-scale mantle-lithosphere dynamics driven by subduction. Physics of the Earth and Planetary Interiors, 2008, 171, 224-234. [OzBench, 2008](http://www.sciencedirect.com/science/article/pii/S0031920108002318)"
   ]
  },
  {
   "cell_type": "code",
   "execution_count": null,
   "metadata": {
    "collapsed": false
   },
   "outputs": [],
   "source": [
    "import underworld as uw\n",
    "import math\n",
    "from underworld import function as fn\n",
    "import glucifer\n",
    "import numpy as np\n",
    "import os"
   ]
  },
  {
   "cell_type": "code",
   "execution_count": null,
   "metadata": {
    "collapsed": false
   },
   "outputs": [],
   "source": [
    "outputPath = os.path.join(os.path.abspath(\".\"),\"SlabSubduction/\")\n",
    "\n",
    "if uw.rank()==0:\n",
    "    if not os.path.exists(outputPath):\n",
    "        os.makedirs(outputPath)\n",
    "uw.barrier()"
   ]
  },
  {
   "cell_type": "markdown",
   "metadata": {},
   "source": [
    "**Setup parameters**\n"
   ]
  },
  {
   "cell_type": "code",
   "execution_count": null,
   "metadata": {
    "collapsed": true
   },
   "outputs": [],
   "source": [
    "xRes = 192  \n",
    "yRes =  48\n",
    "dim  = 2\n",
    "boxLength = 4.0\n",
    "boxHeight = 1.0"
   ]
  },
  {
   "cell_type": "markdown",
   "metadata": {},
   "source": [
    "**Create mesh and finite element variables**"
   ]
  },
  {
   "cell_type": "code",
   "execution_count": null,
   "metadata": {
    "collapsed": false
   },
   "outputs": [],
   "source": [
    "mesh = uw.mesh.FeMesh_Cartesian( elementType = (\"Q1/dQ0\"),\n",
    "                                 elementRes  = (xRes, yRes), \n",
    "                                 minCoord    = (0., 0.), \n",
    "                                 maxCoord    = (boxLength, boxHeight),\n",
    "                                 periodic    = [True, False] ) \n",
    "\n",
    "velocityField   = uw.mesh.MeshVariable( mesh=mesh,         nodeDofCount=dim )\n",
    "pressureField   = uw.mesh.MeshVariable( mesh=mesh.subMesh, nodeDofCount=1 )"
   ]
  },
  {
   "cell_type": "markdown",
   "metadata": {
    "collapsed": true
   },
   "source": [
    "**Create a particle swarm**"
   ]
  },
  {
   "cell_type": "code",
   "execution_count": null,
   "metadata": {
    "collapsed": false
   },
   "outputs": [],
   "source": [
    "swarm = uw.swarm.Swarm( mesh=mesh )\n",
    "materialVariable   = swarm.add_variable( dataType=\"int\", count=1 )\n",
    "swarmLayout = uw.swarm.layouts.GlobalSpaceFillerLayout( swarm=swarm, particlesPerCell=20 )\n",
    "swarm.populate_using_layout( layout=swarmLayout )"
   ]
  },
  {
   "cell_type": "markdown",
   "metadata": {},
   "source": [
    "**Allocate materials to particles**"
   ]
  },
  {
   "cell_type": "code",
   "execution_count": null,
   "metadata": {
    "collapsed": false
   },
   "outputs": [],
   "source": [
    "# initialise the 'materialVariable' data to represent two different materials. \n",
    "upperMantleIndex = 0\n",
    "lowerMantleIndex = 1\n",
    "upperSlabIndex   = 2\n",
    "lowerSlabIndex   = 3\n",
    "coreSlabIndex    = 4\n",
    "\n",
    "# Initial material layout has a flat lying slab with at 15\\degree perturbation\n",
    "lowerMantleY   = 0.4\n",
    "slabLowerShape = np.array([ (1.2,0.925 ), (3.25,0.925 ), (3.20,0.900), (1.2,0.900), (1.02,0.825), (1.02,0.850) ])\n",
    "slabCoreShape  = np.array([ (1.2,0.975 ), (3.35,0.975 ), (3.25,0.925), (1.2,0.925), (1.02,0.850), (1.02,0.900) ])\n",
    "slabUpperShape = np.array([ (1.2,1.000 ), (3.40,1.000 ), (3.35,0.975), (1.2,0.975), (1.02,0.900), (1.02,0.925) ])\n",
    "\n",
    "slabLower = fn.shape.Polygon( slabLowerShape )\n",
    "slabUpper = fn.shape.Polygon( slabUpperShape )\n",
    "slabCore  = fn.shape.Polygon( slabCoreShape )\n",
    "\n",
    "# initialise everying to be upper mantle material\n",
    "materialVariable.data[:] = upperMantleIndex\n",
    "\n",
    "# change matieral index if the particle is not upper mantle\n",
    "for index in range( len(swarm.particleCoordinates.data) ):\n",
    "    coord = swarm.particleCoordinates.data[index][:]\n",
    "    if coord[1] < lowerMantleY:\n",
    "        materialVariable.data[index]     = lowerMantleIndex\n",
    "    if slabCore.evaluate(tuple(coord)):\n",
    "            materialVariable.data[index] = coreSlabIndex\n",
    "    elif slabUpper.evaluate(tuple(coord)):\n",
    "            materialVariable.data[index] = upperSlabIndex\n",
    "    elif slabLower.evaluate(tuple(coord)):\n",
    "            materialVariable.data[index] = lowerSlabIndex"
   ]
  },
  {
   "cell_type": "markdown",
   "metadata": {},
   "source": [
    "**Plot the initial positions for the particle swarm and colour by material type**\n",
    "\n",
    "We are using a vis store object to keep all our figures together and allow them to be revisualised later so create this here and pass it to all the figures created later. We'll also name this figure to make it easy to find later when revisualising."
   ]
  },
  {
   "cell_type": "code",
   "execution_count": null,
   "metadata": {
    "collapsed": false
   },
   "outputs": [],
   "source": [
    "store = glucifer.Store('subduction')\n",
    "figParticle = glucifer.Figure( store, figsize=(960,300), name=\"Particles\" )\n",
    "figParticle.append( glucifer.objects.Points(swarm, materialVariable, pointSize=2, colours='white green red purple blue') )\n",
    "figParticle.show()"
   ]
  },
  {
   "cell_type": "markdown",
   "metadata": {},
   "source": [
    "Set up material parameters and functions\n",
    "----\n",
    "\n",
    "Here the functions for density, viscosity, gravity and buoyancy are set. "
   ]
  },
  {
   "cell_type": "markdown",
   "metadata": {},
   "source": [
    "**Viscosity function**\n",
    "\n",
    "The lower mantle is 100x more viscous than the upper mantle. \n",
    "The upper and lower slab layer weakens under high strain, it has a visco plastic rheology.  \n",
    "The lower slab layer does not yield, it has a viscous rheology.  "
   ]
  },
  {
   "cell_type": "code",
   "execution_count": null,
   "metadata": {
    "collapsed": false
   },
   "outputs": [],
   "source": [
    "upperMantleViscosity =    1.0\n",
    "lowerMantleViscosity =  100.0\n",
    "slabViscosity        =  500.0\n",
    "coreViscosity        =  500.0\n",
    "\n",
    "# The yeilding of the upper slab is dependent on the strain rate.\n",
    "strainRate_2ndInvariant = fn.tensor.second_invariant( \n",
    "                            fn.tensor.symmetric( \n",
    "                            velocityField.fn_gradient ))\n",
    "cohesion = 0.06\n",
    "vonMises = cohesion / (strainRate_2ndInvariant+1.0e-18)\n",
    "\n",
    "# The upper slab viscosity is the minimum of the 'slabViscosity' or the 'vonMises' \n",
    "slabYieldvisc = fn.exception.SafeMaths( fn.misc.min(vonMises, slabViscosity) )\n",
    "\n",
    "# Viscosity function for the materials \n",
    "viscosityMap = { upperMantleIndex : upperMantleViscosity, \n",
    "                 lowerMantleIndex : lowerMantleViscosity, \n",
    "                 upperSlabIndex   : slabYieldvisc, \n",
    "                 lowerSlabIndex   : slabYieldvisc,\n",
    "                 coreSlabIndex    : coreViscosity}\n",
    "viscosityMapFn = fn.branching.map( fn_key = materialVariable, mapping = viscosityMap )"
   ]
  },
  {
   "cell_type": "markdown",
   "metadata": {},
   "source": [
    "Note: ``SafeMaths`` in the above cell refers to a function which checks the value passed inside for any infinite or other not-a-number type errors."
   ]
  },
  {
   "cell_type": "markdown",
   "metadata": {},
   "source": [
    "**Set the density function, vertical unit vector and Buoyancy Force function**\n"
   ]
  },
  {
   "cell_type": "code",
   "execution_count": null,
   "metadata": {
    "collapsed": false
   },
   "outputs": [],
   "source": [
    "mantleDensity = 0.0\n",
    "slabDensity   = 1.0 \n",
    "\n",
    "densityMap = { upperMantleIndex : mantleDensity, \n",
    "               lowerMantleIndex : mantleDensity, \n",
    "               upperSlabIndex   : slabDensity, \n",
    "               lowerSlabIndex   : slabDensity, \n",
    "               coreSlabIndex    : slabDensity}\n",
    "densityFn = fn.branching.map( fn_key = materialVariable, mapping = densityMap )\n",
    "\n",
    "# Define our vertical unit vector using a python tuple\n",
    "z_hat = ( 0.0, 1.0 )\n",
    "\n",
    "# now create a buoyancy force vector\n",
    "buoyancyFn = -1.0 * densityFn * z_hat"
   ]
  },
  {
   "cell_type": "markdown",
   "metadata": {},
   "source": [
    "**Set initial and boundary conditions**"
   ]
  },
  {
   "cell_type": "code",
   "execution_count": null,
   "metadata": {
    "collapsed": false
   },
   "outputs": [],
   "source": [
    "# set initial conditions (and boundary values)\n",
    "velocityField.data[:] = [0.,0.]\n",
    "pressureField.data[:] = 0.\n",
    "\n",
    "# send boundary condition information to underworld\n",
    "iWalls = mesh.specialSets[\"MinI_VertexSet\"] + mesh.specialSets[\"MaxI_VertexSet\"]\n",
    "jWalls = mesh.specialSets[\"MinJ_VertexSet\"] + mesh.specialSets[\"MaxJ_VertexSet\"]\n",
    "bottomWall = mesh.specialSets[\"MinJ_VertexSet\"]\n",
    "\n",
    "periodicBC = uw.conditions.DirichletCondition( variable        = velocityField, \n",
    "                                               indexSetsPerDof = ( bottomWall, jWalls) ) \n"
   ]
  },
  {
   "cell_type": "markdown",
   "metadata": {},
   "source": [
    "**System Setup**"
   ]
  },
  {
   "cell_type": "code",
   "execution_count": null,
   "metadata": {
    "collapsed": false
   },
   "outputs": [],
   "source": [
    "# Initial linear slab viscosity setup\n",
    "stokesPIC = uw.systems.Stokes( velocityField = velocityField, \n",
    "                               pressureField = pressureField,\n",
    "                               swarm         = swarm, \n",
    "                               conditions    = [periodicBC,],\n",
    "                               fn_viscosity   = viscosityMapFn, \n",
    "                               fn_bodyforce   = buoyancyFn )\n",
    "# Create solver & solve\n",
    "solver = uw.systems.Solver(stokesPIC)"
   ]
  },
  {
   "cell_type": "code",
   "execution_count": null,
   "metadata": {
    "collapsed": false
   },
   "outputs": [],
   "source": [
    "# use \"lu\" direct solve if running in serial\n",
    "solver.set_inner_method(\"lu\")"
   ]
  },
  {
   "cell_type": "code",
   "execution_count": null,
   "metadata": {
    "collapsed": false
   },
   "outputs": [],
   "source": [
    "advector = uw.systems.SwarmAdvector( swarm=swarm, velocityField=velocityField, order=2 )"
   ]
  },
  {
   "cell_type": "markdown",
   "metadata": {},
   "source": [
    "**Analysis tools**"
   ]
  },
  {
   "cell_type": "code",
   "execution_count": null,
   "metadata": {
    "collapsed": false
   },
   "outputs": [],
   "source": [
    "#The root mean square Velocity\n",
    "velSquared = uw.utils.Integral( fn.math.dot(velocityField,velocityField), mesh )\n",
    "area = uw.utils.Integral( 1., mesh )\n",
    "Vrms = math.sqrt( velSquared.evaluate()[0]/area.evaluate()[0] )"
   ]
  },
  {
   "cell_type": "code",
   "execution_count": null,
   "metadata": {
    "collapsed": false
   },
   "outputs": [],
   "source": [
    "#Plot of Velocity Magnitude\n",
    "figVelocityMag = glucifer.Figure(store, figsize=(960,300))\n",
    "figVelocityMag.append( glucifer.objects.Surface(mesh, fn.math.dot(velocityField,velocityField), logScale=True, valueRange=[1e-15,5e-8]) )\n",
    "\n",
    "#Plot of Strain Rate, 2nd Invariant\n",
    "figStrainRate = glucifer.Figure(store, figsize=(960,300))\n",
    "figStrainRate.append( glucifer.objects.Surface(mesh, strainRate_2ndInvariant, logScale=True) )\n",
    "\n",
    "#Plot of particles viscosity\n",
    "figViscosity = glucifer.Figure(store, figsize=(960,300))\n",
    "figViscosity.append( glucifer.objects.Points(swarm, viscosityMapFn, pointSize=4) )\n",
    "\n",
    "#Plot of particles stress invariant\n",
    "figStress = glucifer.Figure( store, figsize=(960,300) )\n",
    "figStress.append( glucifer.objects.Points(swarm, viscosityMapFn*strainRate_2ndInvariant, pointSize=4, logScale=True) )"
   ]
  },
  {
   "cell_type": "markdown",
   "metadata": {
    "collapsed": false
   },
   "source": [
    "Main simulation loop\n",
    "=======\n",
    "\n",
    "The main time stepping loop begins here. Inside the time loop the velocity field is solved for via the Stokes system solver and then the swarm is advected using the advector integrator. Basic statistics are output to screen each timestep."
   ]
  },
  {
   "cell_type": "code",
   "execution_count": null,
   "metadata": {
    "collapsed": true
   },
   "outputs": [],
   "source": [
    "time = 0.  # Initial time\n",
    "step = 0   # Initial timestep\n",
    "maxSteps = 3      # Maximum timesteps (201 is recommended)\n",
    "steps_output = 10   # output every 10 timesteps"
   ]
  },
  {
   "cell_type": "code",
   "execution_count": null,
   "metadata": {
    "collapsed": false,
    "scrolled": false
   },
   "outputs": [],
   "source": [
    "while step < maxSteps:\n",
    "    # Solve non linear Stokes system\n",
    "    solver.solve(nonLinearIterate=True)\n",
    "    # output figure to file at intervals = steps_output\n",
    "    if step % steps_output == 0 or step == maxSteps-1:\n",
    "        #Important to set the timestep for the store object here or will overwrite previous step\n",
    "        store.step = step\n",
    "        figParticle.save(    outputPath + \"particle\"    + str(step).zfill(4))\n",
    "        figVelocityMag.save( outputPath + \"velocityMag\" + str(step).zfill(4))\n",
    "        figStrainRate.save(  outputPath + \"strainRate\"  + str(step).zfill(4))\n",
    "        figViscosity.save(   outputPath + \"viscosity\"   + str(step).zfill(4))\n",
    "        figStress.save(      outputPath + \"stress\"      + str(step).zfill(4))\n",
    "        print 'step = {0:6d}; time = {1:.3e}; Vrms = {2:.3e}'.format(step,time,Vrms)\n",
    "\n",
    "    dt = advector.get_max_dt()\n",
    "    advector.integrate(dt)\n",
    "    time += dt\n",
    "    step += 1"
   ]
  },
  {
   "cell_type": "markdown",
   "metadata": {},
   "source": [
    "Post simulation analysis\n",
    "-----\n",
    "\n",
    "Plot all figures for the resulting system using the Viewer class to load the saved visualisation.\n",
    "This allows us to open a previously saved visualisation database, just pass the same name used when creating the Store object"
   ]
  },
  {
   "cell_type": "code",
   "execution_count": null,
   "metadata": {
    "collapsed": false
   },
   "outputs": [],
   "source": [
    "import glucifer\n",
    "saved = glucifer.Viewer('subduction')"
   ]
  },
  {
   "cell_type": "markdown",
   "metadata": {},
   "source": [
    "Here we print some information about the loaded visualisation which shows what data is available\n",
    "(as we only gave our first figure a name \"Particles\" the others have been automatically named)"
   ]
  },
  {
   "cell_type": "code",
   "execution_count": null,
   "metadata": {
    "collapsed": false
   },
   "outputs": [],
   "source": [
    "print \"Saved database '%s'\" % (saved._db.filename)\n",
    "print \" - %d figures : %s\" % (len(saved), list(saved))\n",
    "print \" - %d timesteps (final = %d) : %s\" % (len(saved.steps), saved.steps[-1], saved.steps)"
   ]
  },
  {
   "cell_type": "markdown",
   "metadata": {},
   "source": [
    "We just want to look at the final state of the simulation, so set the timestep to the last one in the list and loop through all the figures, plotting each one"
   ]
  },
  {
   "cell_type": "code",
   "execution_count": null,
   "metadata": {
    "collapsed": false
   },
   "outputs": [],
   "source": [
    "#Re-visualise the final timestep\n",
    "saved.step = saved.steps[-1]\n",
    "for name in saved:\n",
    "    fig = saved[name]\n",
    "    fig.quality = 2\n",
    "    fig.properties[\"title\"] = \"Timestep ##\"\n",
    "    fig.show()"
   ]
  }
 ],
 "metadata": {
  "kernelspec": {
   "display_name": "Python 2",
   "language": "python",
   "name": "python2"
  },
  "language_info": {
   "codemirror_mode": {
    "name": "ipython",
    "version": 2
   },
   "file_extension": ".py",
   "mimetype": "text/x-python",
   "name": "python",
   "nbconvert_exporter": "python",
   "pygments_lexer": "ipython2",
   "version": "2.7.10"
  }
 },
 "nbformat": 4,
 "nbformat_minor": 0
}
