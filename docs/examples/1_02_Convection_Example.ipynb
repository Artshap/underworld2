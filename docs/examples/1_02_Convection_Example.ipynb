{
 "cells": [
  {
   "cell_type": "markdown",
   "metadata": {},
   "source": [
    "Convection example\n",
    "======\n",
    "\n",
    "\n",
    "This notebook is intended to give a quick overview of how to run underworld using ipython notebooks. It is the beginning of a series of examples which will increase in functionality. By the end of these examples the user should be able to tackle the more complex notebooks available in the **publications** directory.\n",
    "\n",
    "**This lesson introduces the concepts of:**\n",
    "1. Underworld basics.\n",
    "2. Setting up material parameters and functions.\n",
    "3. Setting up and solving a Stokes system.\n",
    "4. Setting up and solving advective diffusive systems.\n",
    "5. plotting fields.\n",
    "\n",
    "**Keywords:** material parameters, Stokes system, advective diffusive systems"
   ]
  },
  {
   "cell_type": "code",
   "execution_count": 1,
   "metadata": {
    "collapsed": false
   },
   "outputs": [],
   "source": [
    "import underworld as uw\n",
    "import math\n",
    "from underworld import function as fn\n",
    "import glucifer"
   ]
  },
  {
   "cell_type": "markdown",
   "metadata": {},
   "source": [
    "Setup parameters\n",
    "-----\n",
    "\n",
    "Set physical values for test."
   ]
  },
  {
   "cell_type": "code",
   "execution_count": 2,
   "metadata": {
    "collapsed": false
   },
   "outputs": [],
   "source": [
    "# Set number of dimensions.\n",
    "dim = 2\n",
    "# Set simulation box size.\n",
    "boxHeight = 1.0\n",
    "boxLength = 2.0\n",
    "# Set min/max temperatures.\n",
    "tempMin = 0.0\n",
    "tempMax = 1.0\n",
    "# Set the resolution.\n",
    "res = 16"
   ]
  },
  {
   "cell_type": "markdown",
   "metadata": {},
   "source": [
    "Create mesh and finite element variables\n",
    "------\n",
    "\n",
    "Create mesh object. "
   ]
  },
  {
   "cell_type": "code",
   "execution_count": 3,
   "metadata": {
    "collapsed": false
   },
   "outputs": [],
   "source": [
    "mesh = uw.mesh.FeMesh_Cartesian( elementType = (\"Q1/dQ0\"), \n",
    "                                 elementRes  = (res, res), \n",
    "                                 minCoord    = (0., 0.), \n",
    "                                 maxCoord    = (boxLength, boxHeight))"
   ]
  },
  {
   "cell_type": "markdown",
   "metadata": {},
   "source": [
    "The mesh object consists of two meshes, the type of which is defined here as ``\"Q1/dQ0\"``. The primary mesh (``Q1``) has node points on the corners of the cell and is stored in the ``mesh`` object data, while the sub-mesh (``dQ0``) has nodes inside the cell and is accessed via the ``mesh.subMesh`` object. The sub-mesh is used for the pressure field. For more information on meshes see the user guide **02_Meshing**."
   ]
  },
  {
   "cell_type": "markdown",
   "metadata": {},
   "source": [
    "Create finite element variables for the velocity, pressure and temperature fields. The last two of these are scalar fields needing only one value at each mesh point, while the velocity field contains a vector of *dim* dimensions at each mesh point."
   ]
  },
  {
   "cell_type": "code",
   "execution_count": 4,
   "metadata": {
    "collapsed": false
   },
   "outputs": [],
   "source": [
    "velocityField    = uw.mesh.MeshVariable( mesh=mesh,         nodeDofCount=dim )\n",
    "pressureField    = uw.mesh.MeshVariable( mesh=mesh.subMesh, nodeDofCount=1 )\n",
    "temperatureField = uw.mesh.MeshVariable( mesh=mesh,         nodeDofCount=1 )\n",
    "temperatureDotField = uw.mesh.MeshVariable( mesh=mesh,      nodeDofCount=1 )"
   ]
  },
  {
   "cell_type": "markdown",
   "metadata": {},
   "source": [
    "Set up material parameters and functions\n",
    "-----\n",
    "\n",
    "Here the functions for density, viscosity etc. are set. These functions and/or values are preserved for the entire simulation time. More details on setting functions in underworld is found in the user guide **05_Functions**.\n",
    "\n",
    "Notes:\n",
    "1. Temperature must be in the range [0,1] for use with the density function defined using the Rayleigh number.\n",
    "2. $\\hat{z}$ (*z_hat*) denotes the positive vertical direction. \n",
    "3. The density ($\\rho$) should be negatively proportional to the temperature field so that high temperature has low density.\n",
    "4. The constant of proportionality in this case is the Rayleigh number, which is set low here to speed up the system.\n",
    "4. Both $\\hat{z}$ and $\\rho$ are combined to define the buoyancy function which is used to set up the Stokes system."
   ]
  },
  {
   "cell_type": "code",
   "execution_count": 5,
   "metadata": {
    "collapsed": false
   },
   "outputs": [],
   "source": [
    "# Set viscosity to be a constant.\n",
    "viscosity = 1.\n",
    "\n",
    "# Rayleigh number.\n",
    "Ra = 1.0e4\n",
    "\n",
    "# Construct our density function.\n",
    "densityFn = Ra * temperatureField\n",
    "\n",
    "# Define our vertical unit vector using a python tuple (this will be automatically converted to a function).\n",
    "z_hat = ( 0.0, 1.0 )\n",
    "\n",
    "# Now create a buoyancy force vector using the density and the vertical unit vector. \n",
    "buoyancyFn = densityFn * z_hat"
   ]
  },
  {
   "cell_type": "markdown",
   "metadata": {},
   "source": [
    "By setting the system up in this way we only need to create these functions once at the beginning of the simulation and not each timestep."
   ]
  },
  {
   "cell_type": "markdown",
   "metadata": {},
   "source": [
    "Set initial conditions and boundary conditions\n",
    "----------"
   ]
  },
  {
   "cell_type": "markdown",
   "metadata": {},
   "source": [
    "**Initial conditions**\n",
    "\n",
    "First initialise the velocity and pressure fields to zero everywhere in the domain."
   ]
  },
  {
   "cell_type": "code",
   "execution_count": 6,
   "metadata": {
    "collapsed": false
   },
   "outputs": [],
   "source": [
    "velocityField.data[:] = [0.,0.]\n",
    "pressureField.data[:] = 0.\n",
    "temperatureDotField.data[:] = 0."
   ]
  },
  {
   "cell_type": "markdown",
   "metadata": {},
   "source": [
    "Set a small perturbation in the temperature field to seed the onset of convection."
   ]
  },
  {
   "cell_type": "code",
   "execution_count": 7,
   "metadata": {
    "collapsed": true
   },
   "outputs": [],
   "source": [
    "pertStrength = 0.05\n",
    "deltaTemp = tempMax - tempMin\n",
    "for index, coord in enumerate(mesh.data):\n",
    "    pertCoeff = math.cos( math.pi * coord[0]/boxLength ) * math.sin( math.pi * coord[1]/boxLength )\n",
    "    temperatureField.data[index] = tempMin + deltaTemp*(boxHeight - coord[1]) + pertStrength * pertCoeff\n",
    "    temperatureField.data[index] = max(tempMin, min(tempMax, temperatureField.data[index]))"
   ]
  },
  {
   "cell_type": "markdown",
   "metadata": {},
   "source": [
    "**Boundary conditions**\n",
    "\n",
    "This step is to ensure that the temperature boundary conditions are satisfied, as the initial conditions above may have been set to different values on the boundaries."
   ]
  },
  {
   "cell_type": "code",
   "execution_count": 8,
   "metadata": {
    "collapsed": false
   },
   "outputs": [],
   "source": [
    "for index in mesh.specialSets[\"MinJ_VertexSet\"]:\n",
    "    temperatureField.data[index] = tempMax\n",
    "for index in mesh.specialSets[\"MaxJ_VertexSet\"]:\n",
    "    temperatureField.data[index] = tempMin"
   ]
  },
  {
   "cell_type": "markdown",
   "metadata": {},
   "source": [
    "**Conditions on the boundaries**\n",
    "\n",
    "Construct sets for the both horizontal and vertical walls. Combine the sets of vertices to make the ``I`` (left and right side walls) and ``J`` (top and bottom walls) sets. Note that both sets contain the corners of the box."
   ]
  },
  {
   "cell_type": "code",
   "execution_count": 9,
   "metadata": {
    "collapsed": false
   },
   "outputs": [],
   "source": [
    "iWalls = mesh.specialSets[\"MinI_VertexSet\"] + mesh.specialSets[\"MaxI_VertexSet\"]\n",
    "jWalls = mesh.specialSets[\"MinJ_VertexSet\"] + mesh.specialSets[\"MaxJ_VertexSet\"]"
   ]
  },
  {
   "cell_type": "markdown",
   "metadata": {},
   "source": [
    "Let's create the boundary conditions.\n",
    "\n",
    "For (2d) vector variables, we may flag up two Dirichlet conditions on each vertex.. for velocity it's a condition for $v_x$ and one for $v_y$. We provide a tuple of sets specifying which degrees of freedom (Set($v_x$), Set($v_y$)) should be considered Dirichlet.\n",
    "\n",
    "The temperature is held constant on the top and bottom boundaries via the tempBC object created below."
   ]
  },
  {
   "cell_type": "code",
   "execution_count": 10,
   "metadata": {
    "collapsed": true
   },
   "outputs": [],
   "source": [
    "freeslipBC = uw.conditions.DirichletCondition( variable      = velocityField, \n",
    "                                               indexSetsPerDof = (iWalls, jWalls) )\n",
    "tempBC     = uw.conditions.DirichletCondition( variable      = temperatureField, \n",
    "                                               indexSetsPerDof = (jWalls,) )"
   ]
  },
  {
   "cell_type": "markdown",
   "metadata": {},
   "source": [
    "More information on setting boundary conditions is found in the **06_Systems** user guide."
   ]
  },
  {
   "cell_type": "markdown",
   "metadata": {},
   "source": [
    "**Plot initial conditions for temperature**\n"
   ]
  },
  {
   "cell_type": "code",
   "execution_count": 11,
   "metadata": {
    "collapsed": false,
    "scrolled": false
   },
   "outputs": [
    {
     "data": {
      "text/html": [
       "<img src='data:image/png;base64,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'>"
      ],
      "text/plain": [
       "<IPython.core.display.HTML object>"
      ]
     },
     "execution_count": 11,
     "metadata": {},
     "output_type": "execute_result"
    }
   ],
   "source": [
    "figtemp = glucifer.Figure( figsize=(800,400) )\n",
    "figtemp.append( glucifer.objects.Surface(mesh, temperatureField, colours=\"blue white red\") )\n",
    "figtemp.append( glucifer.objects.Mesh(mesh) )\n",
    "figtemp.show()"
   ]
  },
  {
   "cell_type": "markdown",
   "metadata": {},
   "source": [
    "System setup\n",
    "-----\n",
    "\n",
    "**Setup a Stokes system**\n",
    "\n",
    "For most geodynamics problems the motion of the fluid is well described by [incompressible Stokes equations](https://en.wikipedia.org/wiki/Navier%E2%80%93Stokes_equations). In underworld setting up such as system requires the velocity field, pressure, viscosity and buoyancy forces be passed to the Stokes system function. Along with the conditions affecting these variables - in this case the boundary conditions for the velocity field."
   ]
  },
  {
   "cell_type": "code",
   "execution_count": 12,
   "metadata": {
    "collapsed": false
   },
   "outputs": [],
   "source": [
    "stokesPIC = uw.systems.Stokes( velocityField = velocityField, \n",
    "                               pressureField = pressureField,\n",
    "                               conditions    = [freeslipBC,],\n",
    "                               viscosityFn   = viscosity, \n",
    "                               bodyForceFn   = buoyancyFn )"
   ]
  },
  {
   "cell_type": "markdown",
   "metadata": {},
   "source": [
    "Setup solver using the Stokes system equations"
   ]
  },
  {
   "cell_type": "code",
   "execution_count": 13,
   "metadata": {
    "collapsed": false
   },
   "outputs": [],
   "source": [
    "solver = uw.systems.Solver( stokesPIC )"
   ]
  },
  {
   "cell_type": "markdown",
   "metadata": {},
   "source": [
    "This system is solved after each time step using the .solve function (see main loop below). \n",
    "\n",
    "For more information on setting up solvers see the **Systems** user guide."
   ]
  },
  {
   "cell_type": "markdown",
   "metadata": {},
   "source": [
    "**Create an advective diffusive system**\n",
    "\n",
    "For the heat transport in the system the advection diffusion equation is solved for the temperature field. This is used in tandem with the Stokes system, which solves for the velocity field given the temperature and pressure fields (above). More information on the advection diffusion equation can be found [here](https://en.wikipedia.org/wiki/Convection%E2%80%93diffusion_equation).\n",
    "\n",
    "Similar to the Stokes system, the advection diffusion system is setup in underworld by flagging the temperature and velocity field variables as well as the temperature boundary conditions."
   ]
  },
  {
   "cell_type": "code",
   "execution_count": 14,
   "metadata": {
    "collapsed": false
   },
   "outputs": [
    {
     "ename": "AttributeError",
     "evalue": "'module' object has no attribute '_SUPGVectorTerm_NA__Fn_SetFn'",
     "output_type": "error",
     "traceback": [
      "\u001b[0;31m---------------------------------------------------------------------------\u001b[0m",
      "\u001b[0;31mAttributeError\u001b[0m                            Traceback (most recent call last)",
      "\u001b[0;32m<ipython-input-14-c13dfefb99cf>\u001b[0m in \u001b[0;36m<module>\u001b[0;34m()\u001b[0m\n\u001b[1;32m      1\u001b[0m advDiff = uw.systems.AdvectionDiffusion( temperatureField, temperatureDotField, velocityField, \n\u001b[0;32m----> 2\u001b[0;31m                                          diffusivity=1., conditions=[tempBC,] )\n\u001b[0m",
      "\u001b[0;32m/Users/jmansour/work/code/underworld2/underworld/_stgermain.pyc\u001b[0m in \u001b[0;36m__call__\u001b[0;34m(cls, *args, **kwargs)\u001b[0m\n\u001b[1;32m    101\u001b[0m                 \u001b[0m_setup\u001b[0m \u001b[0;34m=\u001b[0m \u001b[0m_setup\u001b[0m\u001b[0;34m.\u001b[0m\u001b[0m__get__\u001b[0m\u001b[0;34m(\u001b[0m\u001b[0mself\u001b[0m\u001b[0;34m,\u001b[0m \u001b[0mcls\u001b[0m\u001b[0;34m)\u001b[0m\u001b[0;34m\u001b[0m\u001b[0m\n\u001b[1;32m    102\u001b[0m             \u001b[0;32mif\u001b[0m \u001b[0mcallable\u001b[0m\u001b[0;34m(\u001b[0m\u001b[0m_setup\u001b[0m\u001b[0;34m)\u001b[0m\u001b[0;34m:\u001b[0m\u001b[0;34m\u001b[0m\u001b[0m\n\u001b[0;32m--> 103\u001b[0;31m                 \u001b[0m_setup\u001b[0m\u001b[0;34m(\u001b[0m\u001b[0;34m)\u001b[0m\u001b[0;34m\u001b[0m\u001b[0m\n\u001b[0m\u001b[1;32m    104\u001b[0m \u001b[0;34m\u001b[0m\u001b[0m\n\u001b[1;32m    105\u001b[0m         \u001b[0;32mreturn\u001b[0m \u001b[0mself\u001b[0m\u001b[0;34m\u001b[0m\u001b[0m\n",
      "\u001b[0;32m/Users/jmansour/work/code/underworld2/underworld/systems/_advectiondiffusion.pyc\u001b[0m in \u001b[0;36m_setup\u001b[0;34m(self)\u001b[0m\n\u001b[1;32m    135\u001b[0m                                                                \u001b[0mintegrationSwarm\u001b[0m \u001b[0;34m=\u001b[0m \u001b[0mself\u001b[0m\u001b[0;34m.\u001b[0m\u001b[0m_gaussSwarm\u001b[0m\u001b[0;34m,\u001b[0m\u001b[0;34m\u001b[0m\u001b[0m\n\u001b[1;32m    136\u001b[0m                                                                 \u001b[0massembledObject\u001b[0m \u001b[0;34m=\u001b[0m \u001b[0mself\u001b[0m\u001b[0;34m.\u001b[0m\u001b[0m_residualVector\u001b[0m\u001b[0;34m,\u001b[0m\u001b[0;34m\u001b[0m\u001b[0m\n\u001b[0;32m--> 137\u001b[0;31m                                                                       extraInfo = self._cself.name )\n\u001b[0m\u001b[1;32m    138\u001b[0m         \u001b[0mself\u001b[0m\u001b[0;34m.\u001b[0m\u001b[0m_cself\u001b[0m\u001b[0;34m.\u001b[0m\u001b[0madvDiffResidualForceTerm\u001b[0m \u001b[0;34m=\u001b[0m \u001b[0mself\u001b[0m\u001b[0;34m.\u001b[0m\u001b[0m_residualTerm\u001b[0m\u001b[0;34m.\u001b[0m\u001b[0m_cself\u001b[0m\u001b[0;34m\u001b[0m\u001b[0m\n\u001b[1;32m    139\u001b[0m \u001b[0;34m\u001b[0m\u001b[0m\n",
      "\u001b[0;32m/Users/jmansour/work/code/underworld2/underworld/_stgermain.pyc\u001b[0m in \u001b[0;36m__call__\u001b[0;34m(cls, *args, **kwargs)\u001b[0m\n\u001b[1;32m    101\u001b[0m                 \u001b[0m_setup\u001b[0m \u001b[0;34m=\u001b[0m \u001b[0m_setup\u001b[0m\u001b[0;34m.\u001b[0m\u001b[0m__get__\u001b[0m\u001b[0;34m(\u001b[0m\u001b[0mself\u001b[0m\u001b[0;34m,\u001b[0m \u001b[0mcls\u001b[0m\u001b[0;34m)\u001b[0m\u001b[0;34m\u001b[0m\u001b[0m\n\u001b[1;32m    102\u001b[0m             \u001b[0;32mif\u001b[0m \u001b[0mcallable\u001b[0m\u001b[0;34m(\u001b[0m\u001b[0m_setup\u001b[0m\u001b[0;34m)\u001b[0m\u001b[0;34m:\u001b[0m\u001b[0;34m\u001b[0m\u001b[0m\n\u001b[0;32m--> 103\u001b[0;31m                 \u001b[0m_setup\u001b[0m\u001b[0;34m(\u001b[0m\u001b[0;34m)\u001b[0m\u001b[0;34m\u001b[0m\u001b[0m\n\u001b[0m\u001b[1;32m    104\u001b[0m \u001b[0;34m\u001b[0m\u001b[0m\n\u001b[1;32m    105\u001b[0m         \u001b[0;32mreturn\u001b[0m \u001b[0mself\u001b[0m\u001b[0;34m\u001b[0m\u001b[0m\n",
      "\u001b[0;32m/Users/jmansour/work/code/underworld2/underworld/systems/sle/_assemblyterm.pyc\u001b[0m in \u001b[0;36m_setup\u001b[0;34m(self)\u001b[0m\n\u001b[1;32m    217\u001b[0m     \u001b[0;32mdef\u001b[0m \u001b[0m_setup\u001b[0m\u001b[0;34m(\u001b[0m\u001b[0mself\u001b[0m\u001b[0;34m)\u001b[0m\u001b[0;34m:\u001b[0m\u001b[0;34m\u001b[0m\u001b[0m\n\u001b[1;32m    218\u001b[0m         \u001b[0;31m# lets setup fn tings\u001b[0m\u001b[0;34m\u001b[0m\u001b[0;34m\u001b[0m\u001b[0m\n\u001b[0;32m--> 219\u001b[0;31m         \u001b[0mlibUnderworld\u001b[0m\u001b[0;34m.\u001b[0m\u001b[0mUnderworld\u001b[0m\u001b[0;34m.\u001b[0m\u001b[0m_SUPGVectorTerm_NA__Fn_SetFn\u001b[0m\u001b[0;34m(\u001b[0m \u001b[0mself\u001b[0m\u001b[0;34m.\u001b[0m\u001b[0m_cself\u001b[0m\u001b[0;34m,\u001b[0m \u001b[0mself\u001b[0m\u001b[0;34m.\u001b[0m\u001b[0m_fn\u001b[0m\u001b[0;34m.\u001b[0m\u001b[0m_fncself\u001b[0m \u001b[0;34m)\u001b[0m\u001b[0;34m\u001b[0m\u001b[0m\n\u001b[0m\u001b[1;32m    220\u001b[0m \u001b[0;34m\u001b[0m\u001b[0m\n\u001b[1;32m    221\u001b[0m     \u001b[0;34m@\u001b[0m\u001b[0mproperty\u001b[0m\u001b[0;34m\u001b[0m\u001b[0m\n",
      "\u001b[0;31mAttributeError\u001b[0m: 'module' object has no attribute '_SUPGVectorTerm_NA__Fn_SetFn'"
     ]
    }
   ],
   "source": [
    "advDiff = uw.systems.AdvectionDiffusion( temperatureField, temperatureDotField, velocityField, \n",
    "                                         diffusivity=1., conditions=[tempBC,] )"
   ]
  },
  {
   "cell_type": "markdown",
   "metadata": {},
   "source": [
    "Main time loop\n",
    "-----\n",
    "\n",
    "The main time stepping loop begins here. Before this the time and number of timesteps are initialised to zero. For this particular example the simulation is run for long enough to see convection beginning.\n"
   ]
  },
  {
   "cell_type": "code",
   "execution_count": null,
   "metadata": {
    "collapsed": false
   },
   "outputs": [],
   "source": [
    "time = 0.\n",
    "step = 0\n",
    "steps_end = 10\n",
    "while step < steps_end:\n",
    "    # Solve for the velocity field given the current temperature field.\n",
    "    solver.solve()\n",
    "    # Retrieve the maximum possible timestep for the AD system.\n",
    "    dt = advDiff.get_max_dt()\n",
    "    if step == 0:\n",
    "        dt = 0.\n",
    "    # Advect using this timestep size   \n",
    "    advDiff.integrate(dt)\n",
    "    step += 1"
   ]
  },
  {
   "cell_type": "markdown",
   "metadata": {},
   "source": [
    "**Plot final temperature field**"
   ]
  },
  {
   "cell_type": "code",
   "execution_count": null,
   "metadata": {
    "collapsed": false
   },
   "outputs": [],
   "source": [
    "figtemp = glucifer.Figure(figsize=(800,400))\n",
    "figtemp.append( glucifer.objects.Surface(mesh, temperatureField, colours=\"blue white red\") )\n",
    "figtemp.append( glucifer.objects.Mesh(mesh) )\n",
    "figtemp.show()"
   ]
  },
  {
   "cell_type": "markdown",
   "metadata": {},
   "source": [
    "**Overlay with velocity field**\n",
    "\n",
    "To show the convective motion of the fluid we overlay the velocity field over the previous temperature field plot."
   ]
  },
  {
   "cell_type": "code",
   "execution_count": null,
   "metadata": {
    "collapsed": false
   },
   "outputs": [],
   "source": [
    "# plot figure\n",
    "figWithV = glucifer.Figure(figsize=(800,400))\n",
    "figWithV.append( glucifer.objects.Surface(mesh, temperatureField, colours=\"blue white red\") )\n",
    "figWithV.append( glucifer.objects.VectorArrows(mesh, velocityField/100.0, arrowHead=0.2, scaling=0.2) )\n",
    "figWithV.show()"
   ]
  }
 ],
 "metadata": {
  "kernelspec": {
   "display_name": "Python 2",
   "language": "python",
   "name": "python2"
  },
  "language_info": {
   "codemirror_mode": {
    "name": "ipython",
    "version": 2
   },
   "file_extension": ".py",
   "mimetype": "text/x-python",
   "name": "python",
   "nbconvert_exporter": "python",
   "pygments_lexer": "ipython2",
   "version": "2.7.10"
  }
 },
 "nbformat": 4,
 "nbformat_minor": 0
}
