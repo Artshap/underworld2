{
 "cells": [
  {
   "cell_type": "markdown",
   "metadata": {},
   "source": [
    "# Basin Modeling Framework\n",
    "## 01 Half Graben example\n",
    " \n",
    "version 0.2\n",
    "\n",
    "Romain Beucher (romain.beucher@unimelb.edu.au)\n",
    "\n",
    "The following is an example of a lithospheric scale model."
   ]
  },
  {
   "cell_type": "code",
   "execution_count": null,
   "metadata": {
    "collapsed": true,
    "scrolled": true
   },
   "outputs": [],
   "source": [
    "from __future__ import print_function\n",
    "import underworld as uw\n",
    "import underworld.function as fn\n",
    "import numpy as np\n",
    "\n",
    "# LMR utilities\n",
    "from unsupported.LMR import *\n",
    "import unsupported.scaling as sca\n",
    "from unsupported.scaling import nonDimensionalize as nd\n",
    "from unsupported.lithopress import lithoPressure\n",
    "from unsupported.LecodeIsostasy import lecode_tools_isostasy\n",
    "import unsupported.rheology as rheology\n",
    "\n",
    "# Output\n",
    "import h5py\n",
    "import os\n",
    "\n",
    "# Visualisation\n",
    "import glucifer\n",
    "from underworld.utils import is_kernel\n",
    "import matplotlib.pyplot as plt\n",
    "\n",
    "print(uw.__version__)\n",
    "print(uw.__file__)"
   ]
  },
  {
   "cell_type": "code",
   "execution_count": null,
   "metadata": {
    "collapsed": true
   },
   "outputs": [],
   "source": [
    "outputDir = './tempo/'\n",
    "        \n",
    "if uw.rank() == 0:\n",
    "    if not os.path.exists(outputDir):\n",
    "        os.makedirs(outputDir)"
   ]
  },
  {
   "cell_type": "markdown",
   "metadata": {},
   "source": [
    "## Options"
   ]
  },
  {
   "cell_type": "code",
   "execution_count": null,
   "metadata": {
    "collapsed": true
   },
   "outputs": [],
   "source": [
    "Erosion = False\n",
    "Sedimentation = True\n",
    "BottomStressBC = False\n",
    "BottomLecodeIsostasyBC = True"
   ]
  },
  {
   "cell_type": "markdown",
   "metadata": {},
   "source": [
    "# Scaling\n",
    "\n",
    "We define a set of physical values that are chosen to represent some characterics of the system we are aiming to model. Those values are then used to calculate a set of scaling coefficients that we will used to scale the different dimensions of our problem. That step is not mandatory but reduce the potential for numerical errors and is generally considered good practice. The *scaling* python dictionary can be seen as a bridge between real world and model world dimensions.\n",
    "\n",
    "All the parameters are defined with natural units using the pint python module. There is no obligation to use SI units but that is of course encouraged...As pint knows about prefixes, you can freely use them without worrying about conversion."
   ]
  },
  {
   "cell_type": "code",
   "execution_count": null,
   "metadata": {
    "collapsed": true
   },
   "outputs": [],
   "source": [
    "u = sca.UnitRegistry\n",
    "\n",
    "# Characteristic values of the system\n",
    "half_rate = 1.8 * u.centimeter / u.year\n",
    "model_length = 360e3 * u.meter\n",
    "model_height = 120e3 * u.meter\n",
    "refViscosity = 1e24 * u.pascal * u.second\n",
    "surfaceTemp = 273.15 * u.degK\n",
    "baseModelTemp = 1603.15 * u.degK\n",
    "bodyforce = 3300 * u.kilogram / u.metre**3 * 9.81 * u.meter / u.second**2\n",
    "\n",
    "KL = model_length\n",
    "Kt = KL / half_rate\n",
    "KM = bodyforce * KL**2 * Kt**2\n",
    "KT = (baseModelTemp - surfaceTemp)\n",
    "\n",
    "sca.scaling[\"[length]\"] = KL\n",
    "sca.scaling[\"[time]\"] = Kt\n",
    "sca.scaling[\"[mass]\"]= KM\n",
    "sca.scaling[\"[temperature]\"] = KT"
   ]
  },
  {
   "cell_type": "markdown",
   "metadata": {},
   "source": [
    "# General parameters\n",
    "\n",
    "We first define some general parameters and scale them by using the *nonDimensionalize* function available from the *scaling* module. Note that we aliased the function to *nd* in order to facilitate reading but those are equivalent. We will only use *nd* in the following."
   ]
  },
  {
   "cell_type": "code",
   "execution_count": null,
   "metadata": {
    "collapsed": true
   },
   "outputs": [],
   "source": [
    "gravity = nd(9.81 * u.meter / u.second**2)\n",
    "R = nd(8.3144621 * u.joule / u.mole / u.degK)"
   ]
  },
  {
   "cell_type": "markdown",
   "metadata": {},
   "source": [
    "# Geometry of the model\n",
    "\n",
    "We define the dimensions and extent of the model on a regular cartesian mesh."
   ]
  },
  {
   "cell_type": "code",
   "execution_count": null,
   "metadata": {
    "collapsed": true
   },
   "outputs": [],
   "source": [
    "nx = 180\n",
    "ny = 60\n",
    "\n",
    "minX = nd(   0. * u.kilometer)\n",
    "maxX = nd( 360. * u.kilometer)\n",
    "minY = nd(-110. * u.kilometer)\n",
    "maxY = nd(  10. * u.kilometer)\n",
    "\n",
    "mesh = uw.mesh.FeMesh_Cartesian(elementType = (\"Q1/dQ0\"),\n",
    "                                elementRes  = (nx, ny),\n",
    "                                minCoord    = (minX, minY),\n",
    "                                maxCoord    = (maxX, maxY),\n",
    "                                periodic    = (False, False))"
   ]
  },
  {
   "cell_type": "markdown",
   "metadata": {},
   "source": [
    "In our problem, the material history is attached to the particles while the velocity field and the state variables such as the pressure and the temperature are attached to the mesh.\n",
    "We first need to define a swarm of particles and a set of mesh and swarm variables."
   ]
  },
  {
   "cell_type": "markdown",
   "metadata": {},
   "source": [
    "### Particle Swarm"
   ]
  },
  {
   "cell_type": "code",
   "execution_count": null,
   "metadata": {
    "collapsed": true
   },
   "outputs": [],
   "source": [
    "swarm  = uw.swarm.Swarm( mesh = mesh, particleEscape=True)\n",
    "swarmLayout = uw.swarm.layouts.GlobalSpaceFillerLayout( swarm = swarm, particlesPerCell=25 )\n",
    "swarm.populate_using_layout( layout = swarmLayout )"
   ]
  },
  {
   "cell_type": "markdown",
   "metadata": {},
   "source": [
    "### Mesh Variables"
   ]
  },
  {
   "cell_type": "code",
   "execution_count": null,
   "metadata": {
    "collapsed": true
   },
   "outputs": [],
   "source": [
    "velocityField = uw.mesh.MeshVariable( mesh=mesh, nodeDofCount=mesh.dim )\n",
    "pressureField = uw.mesh.MeshVariable( mesh=mesh.subMesh, nodeDofCount=1 )\n",
    "solverPressure   = uw.mesh.MeshVariable( mesh=mesh.subMesh, nodeDofCount=1 )\n",
    "temperatureField    = uw.mesh.MeshVariable( mesh=mesh, nodeDofCount=1 )\n",
    "temperatureDotField = uw.mesh.MeshVariable( mesh=mesh ,nodeDofCount=1)\n",
    "tractionField = uw.mesh.MeshVariable( mesh=mesh ,nodeDofCount=2)\n",
    "\n",
    "# It is considered good practice to initialise the data arrays to 0.\n",
    "velocityField.data[...]  = 0.0\n",
    "pressureField.data[...]  = 0.0\n",
    "solverPressure.data[...]  = 0.0\n",
    "temperatureField.data[...] = 0.0\n",
    "temperatureDotField.data[...] = 0.0\n",
    "tractionField.data[...] = 0.0"
   ]
  },
  {
   "cell_type": "markdown",
   "metadata": {},
   "source": [
    "### Swarm Variables"
   ]
  },
  {
   "cell_type": "code",
   "execution_count": null,
   "metadata": {
    "collapsed": true
   },
   "outputs": [],
   "source": [
    "materialIndexField = swarm.add_variable( dataType=\"int\", count=1 )\n",
    "viscosityField  = swarm.add_variable( dataType=\"double\", count=1)\n",
    "cumulativeTotalStrain = swarm.add_variable( dataType=\"double\", count=1)\n",
    "viscosityVar = swarm.add_variable(dataType=\"double\", count=1)\n",
    "\n",
    "cumulativeTotalStrain.data[...] = 0.0"
   ]
  },
  {
   "cell_type": "markdown",
   "metadata": {},
   "source": [
    "# Visualisation\n",
    "\n",
    "Underworld2 offers many options for visualisation. In the context of this Jupyer notebook we will use glucifer functions to visualise the progression of our setup and the results of the model."
   ]
  },
  {
   "cell_type": "code",
   "execution_count": null,
   "metadata": {
    "collapsed": true
   },
   "outputs": [],
   "source": [
    "# Pressure Field \n",
    "if is_kernel():\n",
    "    figPressure = glucifer.Figure( figsize=(1200,400))\n",
    "    figPressure.append(glucifer.objects.Surface(mesh, pressureField))\n",
    "\n",
    "# Temperature Field\n",
    "if is_kernel():\n",
    "    figTemp = glucifer.Figure(figsize=(1200,400))\n",
    "    figTemp.append(glucifer.objects.Surface(mesh, temperatureField))\n",
    "\n",
    "# Velocity Field\n",
    "if is_kernel():\n",
    "    FigVelocity = glucifer.Figure(figsize=(1200,400))\n",
    "    FigVelocity.append(glucifer.objects.Points(swarm, materialIndexField, pointSize=3.0))\n",
    "    FigVelocity.append(glucifer.objects.VectorArrows(mesh, velocityField, scaling=0.03, arrowHead=10., resolutionI=25, resolutionJ=10)) \n",
    "\n",
    "# Material Swarm\n",
    "if is_kernel():\n",
    "    FigMaterials = glucifer.Figure( figsize=(1200,400))\n",
    "    FigMaterials.append(glucifer.objects.Points(swarm, fn_colour=materialIndexField, fn_size=2.0))"
   ]
  },
  {
   "cell_type": "markdown",
   "metadata": {},
   "source": [
    "# Initial Setup\n",
    "\n",
    "## Material distribution\n",
    "\n",
    "The way we choose do define the initial set up is based on the distribution of the different materials (or phases)."
   ]
  },
  {
   "cell_type": "code",
   "execution_count": null,
   "metadata": {
    "collapsed": true
   },
   "outputs": [],
   "source": [
    "air = Material()\n",
    "uppercrust = Material()\n",
    "midcrust = Material()\n",
    "lowercrust = Material()\n",
    "heavycrust = Material()\n",
    "mantle = Material()\n",
    "fault = Material()\n",
    "sediment = Material()\n",
    "\n",
    "materials = [fault, air, uppercrust, midcrust, heavycrust, lowercrust, mantle, sediment]"
   ]
  },
  {
   "cell_type": "markdown",
   "metadata": {},
   "source": [
    "The initial set up is just a layered cake. We define the top and bottom of each layer and use the utils.layer function to define the shape of the material."
   ]
  },
  {
   "cell_type": "code",
   "execution_count": null,
   "metadata": {
    "collapsed": true
   },
   "outputs": [],
   "source": [
    "air.top           = maxY\n",
    "air.bottom        = nd(  0.  * u.kilometer)\n",
    "uppercrust.top    = nd(  0.  * u.kilometer)\n",
    "uppercrust.bottom = nd( -20. * u.kilometer)\n",
    "midcrust.top      = nd( -20. * u.kilometer)\n",
    "midcrust.bottom   = nd( -25. * u.kilometer)\n",
    "lowercrust.top    = nd( -25. * u.kilometer)\n",
    "lowercrust.bottom = nd( -60. * u.kilometer)\n",
    "heavycrust.top    = nd( -35. * u.kilometer)\n",
    "heavycrust.bottom = nd( -40. * u.kilometer)\n",
    "mantle.top        = nd( -60. * u.kilometer)\n",
    "mantle.bottom     = nd(-110. * u.kilometer)\n",
    "\n",
    "for material in materials:\n",
    "    material.shape = utils.layer(material.top, material.bottom, minX, maxX)"
   ]
  },
  {
   "cell_type": "markdown",
   "metadata": {},
   "source": [
    "The fault is defined as a polygon:"
   ]
  },
  {
   "cell_type": "code",
   "execution_count": null,
   "metadata": {
    "collapsed": true
   },
   "outputs": [],
   "source": [
    "vertices = [(169  * u.kilometer,  0. * u.kilometer),\n",
    "            (171. * u.kilometer,  0. * u.kilometer),\n",
    "            (191. * u.kilometer, -20. * u.kilometer),\n",
    "            (189. * u.kilometer, -20. * u.kilometer)]\n",
    "\n",
    "vertices = np.array([(nd(x), nd(y)) for x,y in vertices])\n",
    "fault.shape = uw.function.shape.Polygon(vertices)"
   ]
  },
  {
   "cell_type": "markdown",
   "metadata": {},
   "source": [
    "All the shapes being defined, we can now assign a material index to each particle in the material swarm:"
   ]
  },
  {
   "cell_type": "code",
   "execution_count": null,
   "metadata": {
    "collapsed": true
   },
   "outputs": [],
   "source": [
    "conditions = [(obj.shape, obj.index) for obj in materials if obj.shape is not None] \n",
    "materialIndexField.data[:] = fn.branching.conditional( conditions ).evaluate(swarm)"
   ]
  },
  {
   "cell_type": "markdown",
   "metadata": {},
   "source": [
    "It is a good idea to check the setup before proceeding any further:"
   ]
  },
  {
   "cell_type": "code",
   "execution_count": null,
   "metadata": {
    "collapsed": true
   },
   "outputs": [],
   "source": [
    "if is_kernel():\n",
    "    FigMaterials.show()"
   ]
  },
  {
   "cell_type": "markdown",
   "metadata": {},
   "source": [
    "## Material properties\n",
    "\n",
    "The swarm is initialialised but we now need to define the physical properties of our materials:\n",
    "\n",
    "### Densities"
   ]
  },
  {
   "cell_type": "code",
   "execution_count": null,
   "metadata": {
    "collapsed": true
   },
   "outputs": [],
   "source": [
    "# Densities\n",
    "air.density         = nd(   1. * u.kilogram / u.metre**3)\n",
    "sediment.density    = nd(2500. * u.kilogram / u.metre**3)\n",
    "uppercrust.density  = nd(2620. * u.kilogram / u.metre**3)\n",
    "midcrust.density    = nd(2900. * u.kilogram / u.metre**3)\n",
    "lowercrust.density  = nd(2800. * u.kilogram / u.metre**3)\n",
    "heavycrust.density  = nd(2900. * u.kilogram / u.metre**3)\n",
    "mantle.density      = nd(3370. * u.kilogram / u.metre**3)\n",
    "fault.density       = nd(2620. * u.kilogram / u.metre**3)"
   ]
  },
  {
   "cell_type": "markdown",
   "metadata": {},
   "source": [
    "### Thermal Diffusivities"
   ]
  },
  {
   "cell_type": "code",
   "execution_count": null,
   "metadata": {
    "collapsed": true
   },
   "outputs": [],
   "source": [
    "global_diffusivity = nd(1e-6 * u.metre**2 / u.second) \n",
    "for material in materials:\n",
    "    material.diffusivity = global_diffusivity"
   ]
  },
  {
   "cell_type": "markdown",
   "metadata": {},
   "source": [
    "### Thermal Capacities"
   ]
  },
  {
   "cell_type": "code",
   "execution_count": null,
   "metadata": {
    "collapsed": true
   },
   "outputs": [],
   "source": [
    "global_cp = nd(1000. * u.joule / (u.kelvin * u.kilogram))\n",
    "for material in materials:\n",
    "    material.capacity = global_cp\n",
    "air.capacity = nd(100. * u.joule / (u.kelvin * u.kilogram))"
   ]
  },
  {
   "cell_type": "markdown",
   "metadata": {},
   "source": [
    "### Thermal Expansivities"
   ]
  },
  {
   "cell_type": "code",
   "execution_count": null,
   "metadata": {
    "collapsed": true
   },
   "outputs": [],
   "source": [
    "global_expansivity = nd(3e-5 / u.kelvin)\n",
    "for material in materials:\n",
    "    material.thermalExpansivity = global_expansivity\n",
    "air.thermalExpansivity = 0.0"
   ]
  },
  {
   "cell_type": "markdown",
   "metadata": {},
   "source": [
    "### Radiogenic Heat Production"
   ]
  },
  {
   "cell_type": "code",
   "execution_count": null,
   "metadata": {
    "collapsed": true
   },
   "outputs": [],
   "source": [
    "air.radiogenicHeatProd        = 0.0\n",
    "sediment.radiogenicHeatProd   = nd(    0.7 * u.microwatt / u.meter**3)\n",
    "uppercrust.radiogenicHeatProd = nd(    0.7 * u.microwatt / u.meter**3)\n",
    "midcrust.radiogenicHeatProd   = nd(    0.6 * u.microwatt / u.meter**3)\n",
    "lowercrust.radiogenicHeatProd = nd(    0.4 * u.microwatt / u.meter**3)\n",
    "heavycrust.radiogenicHeatProd = nd(    0.6 * u.microwatt / u.meter**3)\n",
    "mantle.radiogenicHeatProd     = nd(0.02e-6 * u.microwatt / u.meter**3)\n",
    "fault.radiogenicHeatProd      = nd(    0.7 * u.microwatt / u.meter**3)"
   ]
  },
  {
   "cell_type": "markdown",
   "metadata": {},
   "source": [
    "### Buoyancy Force\n",
    "\n",
    "Define how the material densities interact with the gravity field."
   ]
  },
  {
   "cell_type": "code",
   "execution_count": null,
   "metadata": {
    "collapsed": true
   },
   "outputs": [],
   "source": [
    "Tref = nd(273.15 *u.degK)\n",
    "\n",
    "densityMap = {}\n",
    "for material in materials:\n",
    "    densityMap[material.index] = material.density * (1.0 - material.thermalExpansivity * (temperatureField - Tref))\n",
    "    \n",
    "densityFn = fn.branching.map( fn_key=materialIndexField, mapping=densityMap )\n",
    "\n",
    "z_hat = ( 0.0, -1.0 )\n",
    "buoyancyFn = densityFn * z_hat * gravity"
   ]
  },
  {
   "cell_type": "markdown",
   "metadata": {},
   "source": [
    "## Material Rheologies"
   ]
  },
  {
   "cell_type": "code",
   "execution_count": null,
   "metadata": {
    "collapsed": true
   },
   "outputs": [],
   "source": [
    "air.rheology        = Rheology()\n",
    "sediment.rheology   = Rheology()\n",
    "uppercrust.rheology = Rheology()\n",
    "midcrust.rheology   = Rheology()\n",
    "lowercrust.rheology = Rheology()\n",
    "heavycrust.rheology = Rheology()\n",
    "mantle.rheology     = Rheology()\n",
    "fault.rheology      = Rheology()"
   ]
  },
  {
   "cell_type": "markdown",
   "metadata": {},
   "source": [
    "### Strain Rate and Temperature Dependent Viscosity function\n"
   ]
  },
  {
   "cell_type": "code",
   "execution_count": null,
   "metadata": {
    "collapsed": true
   },
   "outputs": [],
   "source": [
    "# symmetric component of the gradient of the flow velocity.\n",
    "strainRateFn = fn.tensor.symmetric( velocityField.fn_gradient )\n",
    "strainRate_2ndInvariantFn = fn.tensor.second_invariant(strainRateFn) "
   ]
  },
  {
   "cell_type": "code",
   "execution_count": null,
   "metadata": {
    "collapsed": true
   },
   "outputs": [],
   "source": [
    "def powerLaw(A, Q, n, Va, R, strainRateFn, pressureFn, temperatureFn, DefaultSRInvariant, f=1.0):\n",
    "    I = fn.misc.max(fn.tensor.second_invariant(strainRateFn), DefaultSRInvariant)\n",
    "    P = pressureFn\n",
    "    T = temperatureFn       \n",
    "        \n",
    "    return (f * A**(-1.0 / n) * I**((1.0-n)/n) * \n",
    "            fn.math.exp((Q + P * Va)/(R*T*n)))"
   ]
  },
  {
   "cell_type": "code",
   "execution_count": null,
   "metadata": {
    "collapsed": true
   },
   "outputs": [],
   "source": [
    "SRT_WetQ_Patterson1990 = rheology.SRT.SRT_WetQ_Patterson1990\n",
    "SRT_WetQ_Goetze1978    = rheology.SRT.SRT_WetQ_Goetze1978\n",
    "SRT_DryMG_Wang2012     = rheology.SRT.SRT_DryMG_Wang2012\n",
    "SRT_WOl_Hirth2003      = rheology.SRT.SRT_WOl_Hirth2003\n",
    "\n",
    "# Scale the flaw law parameters\n",
    "SRT_WetQ_Patterson1990 = {k: nd(v) for k, v in SRT_WetQ_Patterson1990.items()}\n",
    "SRT_WetQ_Goetze1978    = {k: nd(v) for k, v in SRT_WetQ_Goetze1978.items()}\n",
    "SRT_DryMG_Wang2012     = {k: nd(v) for k, v in SRT_DryMG_Wang2012.items()}\n",
    "SRT_WOl_Hirth2003      = {k: nd(v) for k, v in SRT_WOl_Hirth2003.items()}"
   ]
  },
  {
   "cell_type": "code",
   "execution_count": null,
   "metadata": {
    "collapsed": true,
    "scrolled": true
   },
   "outputs": [],
   "source": [
    "  # Define Effective viscosity functions\n",
    "SRT_WetQ_Patterson1990Fn = powerLaw(R=R,strainRateFn=strainRateFn, pressureFn=pressureField,\n",
    "                                    temperatureFn=temperatureField, **SRT_WetQ_Patterson1990)\n",
    "SRT_WetQ_Goetze1978Fn = powerLaw(R=R, strainRateFn=strainRateFn, pressureFn=pressureField,\n",
    "                                 temperatureFn=temperatureField, **SRT_WetQ_Goetze1978)\n",
    "SRT_DryMG_Wang2012Fn = powerLaw(R=R, strainRateFn=strainRateFn, pressureFn=pressureField, \n",
    "                                temperatureFn=temperatureField, **SRT_DryMG_Wang2012)\n",
    "SRT_WOl_Hirth2003Fn = powerLaw(R=R, strainRateFn=strainRateFn, pressureFn=pressureField, \n",
    "                               temperatureFn=temperatureField, **SRT_WOl_Hirth2003)"
   ]
  },
  {
   "cell_type": "code",
   "execution_count": null,
   "metadata": {
    "collapsed": true
   },
   "outputs": [],
   "source": [
    "# Assign function to materials\n",
    "air.rheology.viscosity        = fn.misc.constant(nd(1e19 * u.pascal * u.second))\n",
    "sediment.rheology.viscosity   = SRT_WetQ_Patterson1990Fn\n",
    "uppercrust.rheology.viscosity = SRT_WetQ_Patterson1990Fn\n",
    "midcrust.rheology.viscosity   = SRT_WetQ_Goetze1978Fn\n",
    "lowercrust.rheology.viscosity = SRT_DryMG_Wang2012Fn\n",
    "heavycrust.rheology.viscosity = SRT_WetQ_Goetze1978Fn\n",
    "mantle.rheology.viscosity     = fn.misc.constant(nd(1e23 * u.pascal * u.second))\n",
    "fault.rheology.viscosity      = fn.misc.constant(nd(1e19 * u.pascal * u.second))"
   ]
  },
  {
   "cell_type": "markdown",
   "metadata": {},
   "source": [
    "## Plasticity"
   ]
  },
  {
   "cell_type": "code",
   "execution_count": null,
   "metadata": {
    "collapsed": true
   },
   "outputs": [],
   "source": [
    "def cohesionWeakening(cumulativeTotalStrain, Cohesion, CohesionSw, epsilon1=0.5, epsilon2=1.5, **kwargs):\n",
    "\n",
    "    cohesionVal = [(cumulativeTotalStrain < epsilon1, fn.misc.constant(Cohesion)),\n",
    "                   (cumulativeTotalStrain > epsilon2, fn.misc.constant(CohesionSw)),\n",
    "                   (True, Cohesion + ((Cohesion - CohesionSw)/(epsilon1 - epsilon2)) * (cumulativeTotalStrain - epsilon1))]\n",
    "\n",
    "    return fn.branching.conditional(cohesionVal)\n",
    "\n",
    "def frictionWeakening(cumulativeTotalStrain, FrictionCoef, FrictionCoefSw, epsilon1=0.5, epsilon2=1.5, **kwargs):\n",
    "\n",
    "    frictionVal = [(cumulativeTotalStrain < epsilon1, fn.misc.constant(FrictionCoef)),\n",
    "                   (cumulativeTotalStrain > epsilon2, fn.misc.constant(FrictionCoefSw)),\n",
    "                   (True, FrictionCoef + ((FrictionCoef - FrictionCoefSw)/(epsilon1 - epsilon2)) * (cumulativeTotalStrain - epsilon1))]\n",
    "\n",
    "    frictionVal = fn.branching.conditional(frictionVal)\n",
    "    \n",
    "    return fn.math.atan(frictionVal)"
   ]
  },
  {
   "cell_type": "code",
   "execution_count": null,
   "metadata": {
    "collapsed": true
   },
   "outputs": [],
   "source": [
    "Yield_UpperCrust_Rey2010 = rheology.Yield.Yield_UpperCrust_Rey2010\n",
    "Yield_lowerCrust_Rey2010 = rheology.Yield.Yield_lowerCrust_Rey2010\n",
    "Yield_mantle_Rey2010 = rheology.Yield.Yield_mantle_Rey2010\n",
    "\n",
    "Yield_UpperCrust_Rey2010 = {k: nd(v) for k, v in Yield_UpperCrust_Rey2010.items()}\n",
    "Yield_lowerCrust_Rey2010 = {k: nd(v) for k, v in Yield_lowerCrust_Rey2010.items()}\n",
    "Yield_mantle_Rey2010     = {k: nd(v) for k, v in Yield_mantle_Rey2010.items()}"
   ]
  },
  {
   "cell_type": "code",
   "execution_count": null,
   "metadata": {
    "collapsed": true
   },
   "outputs": [],
   "source": [
    "sediment.rheology.cohesion   = cohesionWeakening(cumulativeTotalStrain, **Yield_UpperCrust_Rey2010)\n",
    "uppercrust.rheology.cohesion = cohesionWeakening(cumulativeTotalStrain, **Yield_UpperCrust_Rey2010)\n",
    "midcrust.rheology.cohesion   = cohesionWeakening(cumulativeTotalStrain, **Yield_lowerCrust_Rey2010)\n",
    "lowercrust.rheology.cohesion = cohesionWeakening(cumulativeTotalStrain, **Yield_lowerCrust_Rey2010)\n",
    "heavycrust.rheology.cohesion = cohesionWeakening(cumulativeTotalStrain, **Yield_lowerCrust_Rey2010)\n",
    "fault.rheology.cohesion      = cohesionWeakening(cumulativeTotalStrain, **Yield_mantle_Rey2010)"
   ]
  },
  {
   "cell_type": "code",
   "execution_count": null,
   "metadata": {
    "collapsed": true
   },
   "outputs": [],
   "source": [
    "sediment.rheology.friction   = frictionWeakening(cumulativeTotalStrain, **Yield_UpperCrust_Rey2010)\n",
    "uppercrust.rheology.friction = frictionWeakening(cumulativeTotalStrain, **Yield_UpperCrust_Rey2010)\n",
    "midcrust.rheology.friction   = frictionWeakening(cumulativeTotalStrain, **Yield_lowerCrust_Rey2010)\n",
    "lowercrust.rheology.friction = frictionWeakening(cumulativeTotalStrain, **Yield_lowerCrust_Rey2010)\n",
    "heavycrust.rheology.friction = frictionWeakening(cumulativeTotalStrain, **Yield_lowerCrust_Rey2010)\n",
    "fault.rheology.friction      = frictionWeakening(cumulativeTotalStrain, **Yield_mantle_Rey2010)"
   ]
  },
  {
   "cell_type": "code",
   "execution_count": null,
   "metadata": {
    "collapsed": true
   },
   "outputs": [],
   "source": [
    "#Plane Strain Drucker-Prager\n",
    "DefaultSRInvariant = nd(1.0e-15 / u.second)\n",
    "\n",
    "for material in materials:\n",
    "    rheology = material.rheology\n",
    "    if rheology.cohesion != None and rheology.friction != None:\n",
    "        C = rheology.cohesion\n",
    "        Phi = rheology.friction\n",
    "        YieldStress = C*fn.math.cos(Phi) + pressureField * fn.math.sin(Phi)\n",
    "        rheology.plasticity =  0.5 * YieldStress / fn.misc.max(strainRate_2ndInvariantFn, DefaultSRInvariant) \n",
    "    else:\n",
    "        rheology.plasticity = rheology.viscosity"
   ]
  },
  {
   "cell_type": "markdown",
   "metadata": {},
   "source": [
    "### Viscosity Limiter"
   ]
  },
  {
   "cell_type": "code",
   "execution_count": null,
   "metadata": {
    "collapsed": true
   },
   "outputs": [],
   "source": [
    "# Viscosity limiter\n",
    "min_viscosity = air.rheology.viscosity\n",
    "max_viscosity = nd(1e25 * u.pascal * u.second)\n",
    "\n",
    "ViscosityMap = {}\n",
    "for material in materials:\n",
    "    plasticity = material.rheology.plasticity\n",
    "    viscosity = material.rheology.viscosity\n",
    "    ViscosityMap[material.index] = fn.exception.SafeMaths( fn.misc.min(\n",
    "                                         fn.misc.max(\n",
    "                                            fn.misc.min(plasticity, viscosity), \n",
    "                                            min_viscosity),\n",
    "                                      max_viscosity))\n",
    "\n",
    "viscosityFn = fn.branching.map(fn_key = materialIndexField, mapping = ViscosityMap)\n",
    "\n",
    "BGViscosityMap = {}\n",
    "for material in materials:\n",
    "    BGViscosityMap[material.index] = fn.misc.max(fn.misc.min(material.rheology.viscosity, max_viscosity), min_viscosity)\n",
    "\n",
    "backgroundViscosityFn = fn.branching.map(fn_key = materialIndexField, mapping = BGViscosityMap)"
   ]
  },
  {
   "cell_type": "markdown",
   "metadata": {},
   "source": [
    "### Yielding criterion"
   ]
  },
  {
   "cell_type": "code",
   "execution_count": null,
   "metadata": {
    "collapsed": true
   },
   "outputs": [],
   "source": [
    "SYconditions = [(viscosityFn < backgroundViscosityFn, strainRate_2ndInvariantFn),\n",
    "                (True, 0.0)]\n",
    "\n",
    "isYielding = fn.branching.conditional(SYconditions)"
   ]
  },
  {
   "cell_type": "markdown",
   "metadata": {},
   "source": [
    "## Initial Temperature\n",
    "\n",
    "Calculate Steady state thermal field as initial condition"
   ]
  },
  {
   "cell_type": "code",
   "execution_count": null,
   "metadata": {
    "collapsed": true
   },
   "outputs": [],
   "source": [
    "surfaceTemp = nd(293.15 * u.degK)\n",
    "airTemp     = nd(293.15 * u.degK)\n",
    "mantleTemp  = nd(1603.15 * u.degK)"
   ]
  },
  {
   "cell_type": "code",
   "execution_count": null,
   "metadata": {
    "collapsed": true
   },
   "outputs": [],
   "source": [
    "DiffusivityMap = {}\n",
    "for material in materials:\n",
    "    DiffusivityMap[material.index] = material.diffusivity\n",
    "\n",
    "DiffusivityFn = fn.branching.map(fn_key = materialIndexField, mapping = DiffusivityMap)"
   ]
  },
  {
   "cell_type": "code",
   "execution_count": null,
   "metadata": {
    "collapsed": true
   },
   "outputs": [],
   "source": [
    "HeatProdMap = {}\n",
    "for material in materials:\n",
    "    HeatProdMap[material.index] = material.radiogenicHeatProd / (material.density * material.capacity)\n",
    "\n",
    "HeatProdFn = fn.branching.map(fn_key = materialIndexField, mapping = HeatProdMap)"
   ]
  },
  {
   "cell_type": "code",
   "execution_count": null,
   "metadata": {
    "collapsed": true
   },
   "outputs": [],
   "source": [
    "coords = fn.input()\n",
    "airnodes = []\n",
    "mantlenodes = []\n",
    "\n",
    "for index, coords in enumerate(mesh.data):\n",
    "    if coords[1] < mantle.top:\n",
    "        temperatureField.data[index] = mantleTemp\n",
    "        mantlenodes.append(index)\n",
    "    elif coords[1] > uppercrust.top:\n",
    "        temperatureField.data[index] = surfaceTemp\n",
    "        airnodes.append(index)\n",
    "        \n",
    "airIndices = uw.mesh.FeMesh_IndexSet(mesh, topologicalIndex=0, size=mesh.nodesGlobal, fromObject=airnodes)\n",
    "mantleIndices = uw.mesh.FeMesh_IndexSet(mesh, topologicalIndex=0, size=mesh.nodesGlobal, fromObject=mantlenodes)"
   ]
  },
  {
   "cell_type": "code",
   "execution_count": null,
   "metadata": {
    "collapsed": true
   },
   "outputs": [],
   "source": [
    "temperatureBCs0 = uw.conditions.DirichletCondition( variable = temperatureField, \n",
    "                                                    indexSetsPerDof = (mantleIndices+airIndices,))\n",
    "\n",
    "heatequation = uw.systems.SteadyStateHeat(temperatureField=temperatureField,\n",
    "                                          fn_diffusivity=DiffusivityFn,\n",
    "                                          fn_heating = HeatProdFn,\n",
    "                                          conditions=[temperatureBCs0,])\n",
    "heatsolver = uw.systems.Solver(heatequation)\n",
    "heatsolver.solve(nonLinearIterate=True)"
   ]
  },
  {
   "cell_type": "code",
   "execution_count": null,
   "metadata": {
    "collapsed": true
   },
   "outputs": [],
   "source": [
    "if is_kernel():\n",
    "    figTemp.show()"
   ]
  },
  {
   "cell_type": "markdown",
   "metadata": {},
   "source": [
    "## Initial Pressure\n",
    "\n",
    "Calculate lithostatic pressure field as initial condition."
   ]
  },
  {
   "cell_type": "code",
   "execution_count": null,
   "metadata": {
    "collapsed": true
   },
   "outputs": [],
   "source": [
    "def smooth_pressure(mesh, pressure):\n",
    "    # Smooths the pressure field.\n",
    "    # Assuming that pressure lies on the submesh, do a cell -> nodes -> cell\n",
    "    # projection.\n",
    "    NodePressure = uw.mesh.MeshVariable(mesh, nodeDofCount=1)\n",
    "    Cell2Nodes = uw.utils.MeshVariable_Projection(NodePressure, pressure, type=0)\n",
    "    #Nodes2Cell = uw.utils.MeshVariable_Projection(pressure, NodePressure, type=0)\n",
    "    Cell2Nodes.solve()\n",
    "    #Nodes2Cell.solve()"
   ]
  },
  {
   "cell_type": "code",
   "execution_count": null,
   "metadata": {
    "collapsed": true
   },
   "outputs": [],
   "source": [
    "pressureField.data[:], LPresBot = lithoPressure(mesh,densityFn, gravity)\n",
    "smooth_pressure(mesh, pressureField)"
   ]
  },
  {
   "cell_type": "code",
   "execution_count": null,
   "metadata": {
    "collapsed": true
   },
   "outputs": [],
   "source": [
    "if is_kernel(): \n",
    "    figPressure.show()"
   ]
  },
  {
   "cell_type": "markdown",
   "metadata": {},
   "source": [
    "## Initial Stress Field"
   ]
  },
  {
   "cell_type": "code",
   "execution_count": null,
   "metadata": {
    "collapsed": true
   },
   "outputs": [],
   "source": [
    "if BottomStressBC:\n",
    "    val = LPresBot[4]\n",
    "\n",
    "    for node in mesh.specialSets[\"MinJ_VertexSet\"]:\n",
    "        tractionField.data[node] = [0.0, 1.0*val]"
   ]
  },
  {
   "cell_type": "markdown",
   "metadata": {},
   "source": [
    "# Boundary conditions"
   ]
  },
  {
   "cell_type": "code",
   "execution_count": null,
   "metadata": {
    "collapsed": true
   },
   "outputs": [],
   "source": [
    "iWalls = mesh.specialSets[\"MinI_VertexSet\"] + mesh.specialSets[\"MaxI_VertexSet\"]\n",
    "jWalls = mesh.specialSets[\"MinJ_VertexSet\"] + mesh.specialSets[\"MaxJ_VertexSet\"]\n",
    "base   = mesh.specialSets[\"MinJ_VertexSet\"]\n",
    "top    = mesh.specialSets[\"MaxJ_VertexSet\"]\n",
    "\n",
    "topCorners = mesh.specialSets[\"MaxJ_VertexSet\"]\n",
    "topCorners.AND(iWalls)\n",
    "\n",
    "botCorners = mesh.specialSets[\"MinJ_VertexSet\"]\n",
    "botCorners.AND(iWalls)"
   ]
  },
  {
   "cell_type": "markdown",
   "metadata": {},
   "source": [
    "## Kinematic Boundary Conditions"
   ]
  },
  {
   "cell_type": "code",
   "execution_count": null,
   "metadata": {
    "collapsed": true
   },
   "outputs": [],
   "source": [
    "# Define some time dependent velocities at the Walls\n",
    "left_Wall_VC = [(fn.input() < nd(3.2 * u.megayear), nd(-1.8 * u.centimeter / u.year)),\n",
    "                (True, 0.0)]\n",
    "left_velocity = fn.branching.conditional(left_Wall_VC)\n",
    "\n",
    "right_Wall_VC = [(fn.input() < nd(3.2 * u.megayear), nd(1.8 * u.centimeter / u.year)),\n",
    "                (True, 0.0)]\n",
    "right_velocity = fn.branching.conditional(right_Wall_VC)"
   ]
  },
  {
   "cell_type": "code",
   "execution_count": null,
   "metadata": {
    "collapsed": true
   },
   "outputs": [],
   "source": [
    "for index in mesh.specialSets[\"MinI_VertexSet\"]:\n",
    "    velocityField.data[index] = [left_velocity.evaluate(0.0),0.0]\n",
    "for index in mesh.specialSets[\"MaxI_VertexSet\"]:\n",
    "    velocityField.data[index] = [right_velocity.evaluate(0.0),0.0]    "
   ]
  },
  {
   "cell_type": "code",
   "execution_count": null,
   "metadata": {
    "collapsed": true
   },
   "outputs": [],
   "source": [
    "if BottomStressBC:\n",
    "    stokesBC = uw.conditions.DirichletCondition(variable=velocityField, \n",
    "                                                indexSetsPerDof=(iWalls, topCorners+botCorners))\n",
    "\n",
    "    stressBc = uw.conditions.NeumannCondition(fn_flux=tractionField, variable=velocityField, \n",
    "                                              nodeIndexSet=base-botCorners)\n",
    "    \n",
    "else:\n",
    "    stokesBC = uw.conditions.DirichletCondition( variable      = velocityField, \n",
    "                                                 indexSetsPerDof = (iWalls, base))\n",
    "\n",
    "    stressBc = None"
   ]
  },
  {
   "cell_type": "markdown",
   "metadata": {},
   "source": [
    "## Thermal Boundary Conditions"
   ]
  },
  {
   "cell_type": "code",
   "execution_count": null,
   "metadata": {
    "collapsed": true
   },
   "outputs": [],
   "source": [
    "DirichletTBCs = uw.conditions.DirichletCondition( variable = temperatureField, indexSetsPerDof = [airIndices,])\n",
    "FluxTBCs = uw.conditions.NeumannCondition( fn_flux=[0.0], variable = velocityField, nodeIndexSet = base )\n",
    "\n",
    "advdiffSystem = uw.systems.AdvectionDiffusion(temperatureField,\n",
    "                                              temperatureDotField,\n",
    "                                              velocityField=velocityField,\n",
    "                                              fn_diffusivity=DiffusivityFn,\n",
    "                                              fn_sourceTerm=HeatProdFn,\n",
    "                                              conditions=[DirichletTBCs, FluxTBCs])"
   ]
  },
  {
   "cell_type": "markdown",
   "metadata": {},
   "source": [
    "## Stokes"
   ]
  },
  {
   "cell_type": "code",
   "execution_count": null,
   "metadata": {
    "collapsed": true
   },
   "outputs": [],
   "source": [
    "if BottomStressBC:\n",
    "    conditions = [stokesBC, stressBc]\n",
    "else:\n",
    "    conditions = [stokesBC,]\n",
    "\n",
    "\n",
    "stokes = uw.systems.Stokes(    velocityField = velocityField, \n",
    "                               pressureField = solverPressure,\n",
    "                               conditions    = conditions,\n",
    "                               fn_viscosity  = viscosityFn, \n",
    "                               fn_bodyforce  = buoyancyFn)\n",
    "\n",
    "solver = uw.systems.Solver( stokes )\n",
    "solver.set_inner_method(\"mumps\")\n",
    "solver.set_penalty(1e6) "
   ]
  },
  {
   "cell_type": "markdown",
   "metadata": {},
   "source": [
    "# Melt "
   ]
  },
  {
   "cell_type": "code",
   "execution_count": null,
   "metadata": {
    "collapsed": true
   },
   "outputs": [],
   "source": [
    "# meltField = uw.mesh.MeshVariable(mymesh, nodeDofCount=1)\n",
    "# old_melt = swarm.add_variable( dataType=\"double\", count=1 )\n",
    "\n",
    "# meltParams = {\n",
    "#     'lhf'            : 200, # kJ/kg the latent heat of fusion\n",
    "#     'viscosityChange': 1e3, \n",
    "#     'densityChange'  : 0.13 \n",
    "# }\n",
    "\n",
    "# def evalMelt( pressure, temperature ):\n",
    "#     T_s = np.polynomial.polynomial.polyval(pressure, [1063,-1.2e-7,1.2e-16])\n",
    "#     T_l = np.polynomial.polynomial.polyval(pressure, [1563.0,-1.2e-7,1.2e-16])\n",
    "#     T_ss = ( temperature - 0.5*(T_s+T_l) ) / (T_l-T_s)\n",
    "#     return np.where( (-0.5<T_ss) & (T_ss<0.5), \n",
    "#                      0.5 + T_ss + ( T_ss*T_ss -0.25 )*( 0.4256 + 2.988 * T_ss ), \n",
    "#                      0.0  )"
   ]
  },
  {
   "cell_type": "markdown",
   "metadata": {},
   "source": [
    "# Surface Processes\n",
    "\n",
    "## Simple Erosion"
   ]
  },
  {
   "cell_type": "code",
   "execution_count": null,
   "metadata": {
    "collapsed": true
   },
   "outputs": [],
   "source": [
    "sealevel = nd(0.0 * u.kilometer)\n",
    "\n",
    "AboveWaterCond = [(((materialIndexField > air.index + 0.1 ) & (fn.input()[1] > sealevel)), air.index), (True, materialIndexField)]\n",
    "erosionFn = fn.branching.conditional(AboveWaterCond)"
   ]
  },
  {
   "cell_type": "markdown",
   "metadata": {},
   "source": [
    "## Simple Sedimentation"
   ]
  },
  {
   "cell_type": "code",
   "execution_count": null,
   "metadata": {
    "collapsed": true
   },
   "outputs": [],
   "source": [
    "UnderWaterCond = [(((materialIndexField < air.index + 0.1 ) & (fn.input()[1] < sealevel)), sediment.index), (True, materialIndexField)]\n",
    "sedimentationFn = fn.branching.conditional(UnderWaterCond)"
   ]
  },
  {
   "cell_type": "markdown",
   "metadata": {},
   "source": [
    "# Plastic strain accumulation Envelope"
   ]
  },
  {
   "cell_type": "code",
   "execution_count": null,
   "metadata": {
    "collapsed": true
   },
   "outputs": [],
   "source": [
    "import math\n",
    "# envelope to ensure the localisation stays clear of the boundary\n",
    "def boundary(xx, minX, maxX, width, power):\n",
    "    zz = xx / (maxX - minX)\n",
    "    return (np.tanh(zz*width) + np.tanh((1.0-zz)*width) - math.tanh(width))**power\n"
   ]
  },
  {
   "cell_type": "code",
   "execution_count": null,
   "metadata": {
    "collapsed": true
   },
   "outputs": [],
   "source": [
    "if uw.nProcs() == 1:   # Serial\n",
    "    xx = np.arange(minX, maxX, (maxX-minX)/nx)\n",
    "    yy = boundary(xx, minX, maxX, 20, 4)\n",
    "    plt.scatter(xx,yy)"
   ]
  },
  {
   "cell_type": "markdown",
   "metadata": {},
   "source": [
    "# Passive Tracers"
   ]
  },
  {
   "cell_type": "code",
   "execution_count": null,
   "metadata": {
    "collapsed": true
   },
   "outputs": [],
   "source": [
    "surfaceSwarm = uw.swarm.Swarm( mesh=mesh , particleEscape=True)\n",
    "\n",
    "surfacePoints = np.zeros((1000,2))\n",
    "surfacePoints[:,0] = np.linspace(minX-.01, maxX+0.01, 1000)\n",
    "surfacePoints[:,1] = uppercrust.top \n",
    "    \n",
    "surfaceSwarm.add_particles_with_coordinates( surfacePoints )\n",
    "\n",
    "Emin_max = fn.view.min_max(surfaceSwarm.particleCoordinates[1])\n",
    "\n",
    "pass"
   ]
  },
  {
   "cell_type": "markdown",
   "metadata": {},
   "source": [
    "# Pressure Calibration"
   ]
  },
  {
   "cell_type": "code",
   "execution_count": null,
   "metadata": {
    "collapsed": true
   },
   "outputs": [],
   "source": [
    "surfaceArea = uw.utils.Integral(fn=1.0,mesh=mesh, integrationType='surface', surfaceIndexSet=top)\n",
    "surfacePressureIntegral = uw.utils.Integral(fn=solverPressure, mesh=mesh, integrationType='surface', surfaceIndexSet=top)\n",
    "\n",
    "# Obtain V,P and remove null-space / drift in pressure\n",
    "def nonLinearSolver(step, nl_tol=1e-2, nl_maxIts=20):\n",
    "    # a hand written non linear loop for stokes, with pressure correction\n",
    "    \n",
    "    er = 1.0\n",
    "    its = 0                      # iteration count\n",
    "    v_old = velocityField.copy() # old velocityField \n",
    "    residuals = []\n",
    "\n",
    "    while er > nl_tol and its < nl_maxIts:\n",
    "\n",
    "        v_old.data[:] = velocityField.data[:]\n",
    "        solver.solve(nonLinearIterate=False)\n",
    "\n",
    "        # pressure correction\n",
    "        (area,) = surfaceArea.evaluate()\n",
    "        (p0,) = surfacePressureIntegral.evaluate() \n",
    "        pressureField.data[:] = solverPressure.data[:] - (p0 / area)\n",
    "        smooth_pressure(mesh, pressureField)\n",
    "\n",
    "        # calculate relative error\n",
    "        absErr = uw.utils._nps_2norm(velocityField.data-v_old.data)\n",
    "        magT   = uw.utils._nps_2norm(v_old.data)\n",
    "        er = absErr/magT\n",
    "        residuals.append(er)\n",
    "\n",
    "        if uw.rank() == 0:\n",
    "            #if not is_kernel():\n",
    "            print(er)\n",
    "                \n",
    "        its += 1\n",
    "        \n",
    "    del(v_old)"
   ]
  },
  {
   "cell_type": "markdown",
   "metadata": {},
   "source": [
    "## Checkpoint Function"
   ]
  },
  {
   "cell_type": "code",
   "execution_count": null,
   "metadata": {
    "collapsed": true
   },
   "outputs": [],
   "source": [
    "def checkpoint_function(checkpoint_number, time_years):\n",
    "    \n",
    "    print('Writing Underworld outputs (years)',time_years)\n",
    "    \n",
    "    mH = mesh.save(os.path.join(outputDir, \"mesh.h5\"), scaling=True, units=u.kilometers)\n",
    "\n",
    "    file_prefix = os.path.join(outputDir, 'velocity-%s' % checkpoint_number)\n",
    "    handle = velocityField.save('%s.h5' % file_prefix, scaling=True, units=u.centimeter/u.year)\n",
    "    velocityField.xdmf('%s.xdmf' % file_prefix, handle, 'velocity', mH, 'mesh', modeltime=time_years)\n",
    "\n",
    "    file_prefix = os.path.join(outputDir, 'pressure-%s' % checkpoint_number)\n",
    "    handle = pressureField.save('%s.h5' % file_prefix, scaling=True, units=u.megapascal)\n",
    "    pressureField.xdmf('%s.xdmf' % file_prefix, handle, 'pressure', mH, 'mesh', modeltime=time_years)\n",
    "    \n",
    "    file_prefix = os.path.join(outputDir, 'temperature-%s' % checkpoint_number)\n",
    "    handle = temperatureField.save('%s.h5' % file_prefix, scaling=True, units=u.degC)\n",
    "    temperatureField.xdmf('%s.xdmf' % file_prefix, handle, 'temperature', mH, 'mesh', modeltime=time_years)\n",
    "\n",
    "    sH = swarm.save(os.path.join(outputDir, 'swarm-%s.h5' % checkpoint_number), units=u.kilometers)\n",
    "\n",
    "    file_prefix = os.path.join(outputDir, 'material-%s' % checkpoint_number)\n",
    "    handle = materialIndexField.save('%s.h5' % file_prefix)\n",
    "    materialIndexField.xdmf('%s.xdmf' % file_prefix, handle, 'material', sH, 'swarm', modeltime=time_years)\n",
    "    \n",
    "    tsH = surfaceSwarm.save(os.path.join(outputDir, 'tracer_swarm-%s.h5' % checkpoint_number), units=u.kilometers)\n",
    "\n",
    "    file_prefix = os.path.join(outputDir, 'tracer-%s' % checkpoint_number)\n",
    "    handle = surfaceSwarm.particleCoordinates.save('%s.h5' % file_prefix, scaling=True, units=u.kilometers)\n",
    "    surfaceSwarm.particleCoordinates.xdmf('%s.xdmf' % file_prefix, handle, 'tvar', tsH, 'tracer', modeltime=time_years)"
   ]
  },
  {
   "cell_type": "markdown",
   "metadata": {},
   "source": [
    "# Main simulation loop\n",
    "----------------------------------------"
   ]
  },
  {
   "cell_type": "code",
   "execution_count": null,
   "metadata": {
    "collapsed": true
   },
   "outputs": [],
   "source": [
    "advector   = uw.systems.SwarmAdvector( swarm = swarm, velocityField=velocityField, order=2 )\n",
    "advectorSurface  = uw.systems.SwarmAdvector( swarm = surfaceSwarm, velocityField=velocityField, order=2 )\n",
    "\n",
    "population_control = uw.swarm.PopulationControl(swarm, \n",
    "                                                aggressive=True,splitThreshold=0.15, \n",
    "                                                maxDeletions=2,maxSplits=10,\n",
    "                                                particlesPerCell=20)"
   ]
  },
  {
   "cell_type": "code",
   "execution_count": null,
   "metadata": {
    "collapsed": true
   },
   "outputs": [],
   "source": [
    "time = 0.\n",
    "endTime = nd(5.0 * u.megayear)\n",
    "\n",
    "step = 0\n",
    "nsteps = 2\n",
    "checkpoint_number = 0\n",
    "\n",
    "def get_dt(CFL=0.2, threshold = 2500):\n",
    "    dt3 = nd(threshold * u.year)\n",
    "    dt4 = CFL * advdiffSystem.get_max_dt()\n",
    "    return min(dt3,dt4)\n",
    "\n",
    "\n",
    "while step < nsteps:\n",
    "    \n",
    "    nonLinearSolver(step, nl_tol=1e-2, nl_maxIts=40)\n",
    "    \n",
    "    if step % 1 == 0:\n",
    "        checkpoint_number +=1\n",
    "        checkpoint_function(checkpoint_number, sca.Dimensionalize(time, u.years).magnitude)\n",
    "\n",
    "    # obtain a timestep and apply a courant factor\n",
    "    dt = get_dt()\n",
    "         \n",
    "    if uw.rank()==0:   \n",
    "        print('step = {0:6d}; time = {1:.3e}'.format(step, sca.Dimensionalize(time, u.megayears)))\n",
    "        \n",
    "    uw.barrier()\n",
    "    \n",
    "    # update plastic strain\n",
    "    plasticStrainIncrement = dt * isYielding.evaluate(swarm)\n",
    "    weight = boundary(swarm.particleCoordinates.data[:,0], minX, maxX, 20, 4)\n",
    "    plasticStrainIncrement[:,0] *= weight\n",
    "    cumulativeTotalStrain.data[:] += plasticStrainIncrement\n",
    "    \n",
    "    # Solve for temperature\n",
    "    advdiffSystem.integrate(dt)\n",
    "\n",
    "    # integrate swarms in time\n",
    "    advector.integrate(dt, update_owners=True)  \n",
    "    advectorSurface.integrate(dt, update_owners=True)  \n",
    "\n",
    "    # repopulate swarm.\n",
    "    population_control.repopulate() \n",
    "    \n",
    "    # Update velocities at the boundaries\n",
    "    for index in mesh.specialSets[\"MinI_VertexSet\"]:\n",
    "        velocityField.data[index, 0] = left_velocity.evaluate(time)\n",
    "    for index in mesh.specialSets[\"MaxI_VertexSet\"]:\n",
    "        velocityField.data[index, 0] = right_velocity.evaluate(time)\n",
    "        \n",
    "    lecode_tools_isostasy(mesh, swarm, velocityField, densityFn, materialIndexField, mantle.index, average=False)\n",
    "        \n",
    "    # Do basic surface processes\n",
    "    if Sedimentation: \n",
    "        materialIndexField.data[:] = sedimentationFn.evaluate(swarm)\n",
    "    \n",
    "    if Erosion:\n",
    "        materialIndexField.data[:] = erosionFn.evaluate(swarm)\n",
    "       \n",
    "    step +=1\n",
    "    time +=dt"
   ]
  },
  {
   "cell_type": "code",
   "execution_count": null,
   "metadata": {
    "collapsed": true
   },
   "outputs": [],
   "source": [
    "if is_kernel():\n",
    "    FigMaterials.show()"
   ]
  },
  {
   "cell_type": "code",
   "execution_count": null,
   "metadata": {
    "collapsed": true
   },
   "outputs": [],
   "source": [
    "if is_kernel():\n",
    "    FigVelocity.show()"
   ]
  }
 ],
 "metadata": {
  "celltoolbar": "Raw Cell Format",
  "kernelspec": {
   "display_name": "Python 2",
   "language": "python2",
   "name": "python2"
  },
  "language_info": {
   "codemirror_mode": {
    "name": "ipython",
    "version": 2
   },
   "file_extension": ".py",
   "mimetype": "text/x-python",
   "name": "python",
   "nbconvert_exporter": "python",
   "pygments_lexer": "ipython2",
   "version": "2.7.13"
  }
 },
 "nbformat": 4,
 "nbformat_minor": 1
}
