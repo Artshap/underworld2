{
 "cells": [
  {
   "cell_type": "markdown",
   "metadata": {
    "collapsed": true
   },
   "source": [
    "Viscoplastic thermal convection in a 2-D square box: Tosi et al. 2015\n",
    "=====\n",
    "\n",
    "This series of notebooks generates benchmark models from the Tosi et al. (2015) in Underworld2. The Underworld2 results are then directly compared to the results from Table 2 of Tosi et al. (2015) the paper for each case. The notebooks are broken into a general notebook for reproducing the models from scratch and 5 post-analysis notebooks which look at the results Underworld2 gives for each case after running to equilibrium. \n",
    "\n",
    "Case 2: Mobile lid\n",
    "-------\n",
    "\n",
    "This case has a temperature and strain rate-dependent nonlinear rheology which results in a stagnant lid mode of convection. \n",
    "The parameters used for case 4 are: $Ra = 10^2$, $\\Delta \\eta_T = 10^5$, $\\eta^* = 10^{-3}$, $\\Delta \\eta_z = 1$ and $\\sigma_\\gamma = 1$.\n",
    "\n",
    "\n",
    "References\n",
    "-----\n",
    "\n",
    "1. Tosi, Nicola and Stein, Claudia and Noack, Lena and H&uuml;ttig, Christian and Maierov&aacute;, Petra and Samuel, Henri and Davies, DR and Wilson, CR and Kramer, SC and Thieulot, Cedric and others. 2015. _A community benchmark for viscoplastic thermal convection in a 2-D square box_.\n",
    "\n"
   ]
  },
  {
   "cell_type": "markdown",
   "metadata": {},
   "source": [
    "Load python functions needed for underworld. Some additional python functions from os, math and numpy used later on."
   ]
  },
  {
   "cell_type": "code",
   "execution_count": 1,
   "metadata": {
    "collapsed": false
   },
   "outputs": [],
   "source": [
    "%matplotlib inline\n",
    "import underworld as uw\n",
    "import math\n",
    "from underworld import function as fn\n",
    "import glucifer\n",
    "import matplotlib.pyplot as pyplot\n",
    "import matplotlib.pylab as pylab\n",
    "import time\n",
    "import numpy as np\n",
    "import os"
   ]
  },
  {
   "cell_type": "markdown",
   "metadata": {},
   "source": [
    "Set physical constants and parameters, including the Rayleigh number (*Ra*) and viscosity constants ($\\eta^*$ and $\\eta_T$) which are common to all Tosi et al cases."
   ]
  },
  {
   "cell_type": "code",
   "execution_count": 2,
   "metadata": {
    "collapsed": false
   },
   "outputs": [],
   "source": [
    "RA  = 1e2        # Rayleigh number\n",
    "ETA_T = 1e5      # common viscosity constant\n",
    "TS  = 0          # surface temperature\n",
    "TB  = 1          # bottom boundary temperature (melting point)\n",
    "ETA0 = 1e-3      # viscosity constant eta^* in Tosi et al\n",
    "TMAX = 3.0\n",
    "IMAX = 1000"
   ]
  },
  {
   "cell_type": "markdown",
   "metadata": {},
   "source": [
    "Select case 2 of Tosi et al (2015) and set constants as required."
   ]
  },
  {
   "cell_type": "code",
   "execution_count": 3,
   "metadata": {
    "collapsed": false
   },
   "outputs": [],
   "source": [
    "CASE = 2\n",
    "ETA_Y = 1.\n",
    "YSTRESS = 1."
   ]
  },
  {
   "cell_type": "markdown",
   "metadata": {},
   "source": [
    "Set input and output file directories"
   ]
  },
  {
   "cell_type": "code",
   "execution_count": 4,
   "metadata": {
    "collapsed": false
   },
   "outputs": [],
   "source": [
    "# input file directory\n",
    "inputPath  = 'TosiInput/case' + str(CASE) + \"/\"\n",
    "# output files\n",
    "outputPath = 'TosiOutput/'\n",
    "filePath   = outputPath+'files'\n",
    "# make directories if they don't exist\n",
    "if not os.path.isdir(outputPath):\n",
    "    os.makedirs(outputPath)\n",
    "if not os.path.isdir(filePath):\n",
    "    os.makedirs(filePath)"
   ]
  },
  {
   "cell_type": "markdown",
   "metadata": {},
   "source": [
    "Create mesh and finite element variables\n",
    "------\n",
    "\n",
    "Set up mesh and field variables that are solved on the mesh."
   ]
  },
  {
   "cell_type": "code",
   "execution_count": 5,
   "metadata": {
    "collapsed": false
   },
   "outputs": [],
   "source": [
    "res = 128\n",
    "mesh = uw.mesh.FeMesh_Cartesian( elementType = (\"Q1/dQ0\"), \n",
    "                                 elementRes  = (res, res), \n",
    "                                 minCoord    = (0., 0.), \n",
    "                                 maxCoord    = (1., 1.))\n",
    "\n",
    "velocityField       = uw.meshvariable.MeshVariable( mesh=mesh,         nodeDofCount=2 )\n",
    "pressureField       = uw.meshvariable.MeshVariable( mesh=mesh.subMesh, nodeDofCount=1 )\n",
    "temperatureField    = uw.meshvariable.MeshVariable( mesh=mesh,         nodeDofCount=1 )\n",
    "temperatureDotField = uw.meshvariable.MeshVariable( mesh=mesh,         nodeDofCount=1 )"
   ]
  },
  {
   "cell_type": "markdown",
   "metadata": {},
   "source": [
    "Set initial conditions and boundary conditions\n",
    "----------\n",
    "\n",
    "Load all variable fields and summary data with data from previously run cases."
   ]
  },
  {
   "cell_type": "code",
   "execution_count": 6,
   "metadata": {
    "collapsed": false
   },
   "outputs": [],
   "source": [
    "# load fields\n",
    "temperatureField.load(    inputPath+'temperatureField.h5' )\n",
    "temperatureDotField.load( inputPath+'temperatureDotField.h5' )\n",
    "pressureField.load(       inputPath+'pressureField.h5')\n",
    "velocityField.load(       inputPath+'velocityField.h5')\n",
    "\n",
    "# load past iterations of summary data\n",
    "data = np.loadtxt( inputPath+'Summary.txt', unpack=True )\n",
    "stepsVal = data[0].tolist()\n",
    "timeVal = data[1].tolist()\n",
    "viscdisVal = data[2].tolist()\n",
    "nu0Val = data[3].tolist()\n",
    "nu1Val = data[4].tolist()\n",
    "Avg_tempVal = data[5].tolist()\n",
    "vrmsVal = data[6].tolist()\n",
    "Rms_surfVal = data[7].tolist()\n",
    "Max_vx_surfVal = data[8].tolist()\n",
    "GravworkVal = data[9].tolist()\n",
    "etamaxVal = data[10].tolist()\n",
    "etaminVal = data[11].tolist() "
   ]
  },
  {
   "cell_type": "markdown",
   "metadata": {},
   "source": [
    "**Conditions on the boundaries**"
   ]
  },
  {
   "cell_type": "code",
   "execution_count": 7,
   "metadata": {
    "collapsed": true
   },
   "outputs": [],
   "source": [
    "iWalls = mesh.specialSets[\"MinI_VertexSet\"] + mesh.specialSets[\"MaxI_VertexSet\"]\n",
    "jWalls = mesh.specialSets[\"MinJ_VertexSet\"] + mesh.specialSets[\"MaxJ_VertexSet\"]\n",
    "freeslipBC = uw.conditions.DirichletCondition( variable      = velocityField, \n",
    "                                               nodeIndexSets = (iWalls, jWalls) )\n",
    "tempBC     = uw.conditions.DirichletCondition( variable      = temperatureField, \n",
    "                                               nodeIndexSets = (jWalls,) )"
   ]
  },
  {
   "cell_type": "markdown",
   "metadata": {
    "collapsed": false
   },
   "source": [
    "Set up material parameters and functions\n",
    "-----\n"
   ]
  },
  {
   "cell_type": "markdown",
   "metadata": {},
   "source": [
    "**Viscosity field**\n",
    "\n",
    "The viscosity is a function of temperature ($T$), the vertical coordinate ($z$) and the strain rate ($\\dot{\\epsilon}$) and is given by\n",
    "\n",
    "$$\n",
    "    \\eta(T, z, \\dot{\\epsilon}) = 2 \\left( \\frac{1}{\\eta_{lin}(T,z)} + \\frac{1}{\\eta_{plast}(\\dot{\\epsilon})} \\right)^{-1}\n",
    "$$\n",
    "\n",
    "where the linear part is\n",
    "\n",
    "$$\n",
    "    \\eta_{lin}(T, z) = \\exp(-\\gamma_T T + \\gamma_z z)\n",
    "$$\n",
    "\n",
    "with $\\gamma_T = \\ln(\\Delta \\eta_T)$ and $\\gamma_z = \\ln(\\Delta \\eta_z)$. The nonlinear part is\n",
    "\n",
    "$$\n",
    "    \\eta_{plast}(\\dot{\\epsilon}) = \\eta^* + \\frac{\\sigma_{\\gamma}}{\\sqrt{\\dot{\\epsilon} : \\dot{\\epsilon}}}\n",
    "$$\n",
    "\n",
    "where $\\eta^*$ is the effective viscosity at high stresses and $\\sigma_{\\gamma}$ is the yield stress. The values of $\\Delta \\eta_T$, $\\Delta \\eta_z$, $\\eta^*$ and $\\sigma_{\\gamma}$ are assumed to be constant with values dependent on the particular case."
   ]
  },
  {
   "cell_type": "markdown",
   "metadata": {},
   "source": [
    "**Create variables required for plasticity calculations**"
   ]
  },
  {
   "cell_type": "code",
   "execution_count": 8,
   "metadata": {
    "collapsed": false
   },
   "outputs": [],
   "source": [
    "secinv = fn.tensor.second_invariant( fn.tensor.symmetric( velocityField.gradientFn ) )\n",
    "coordinate = fn.coord()"
   ]
  },
  {
   "cell_type": "markdown",
   "metadata": {},
   "source": [
    "**Setup viscosity functions**\n",
    "\n",
    "Remember to use floats everywhere when setting up functions"
   ]
  },
  {
   "cell_type": "code",
   "execution_count": 9,
   "metadata": {
    "collapsed": false
   },
   "outputs": [],
   "source": [
    "viscosityl1 = fn.math.exp(math.log(ETA_T)*-1.*temperatureField)\n",
    "viscosityl2 = fn.math.exp((math.log(ETA_T)*-1.*temperatureField) + (1.-coordinate[1])*math.log(ETA_Y))\n",
    "\n",
    "#Von Mises effective viscosity\n",
    "viscosityp = ETA0 + YSTRESS/(secinv/math.sqrt(0.5)) #extra factor to account for underworld second invariant form\n",
    "\n",
    "if CASE == 1:\n",
    "    viscosityFn = viscosityl1\n",
    "elif CASE == 2:\n",
    "    viscosityFn = 2./(1./viscosityl1 + 1./viscosityp)\n",
    "elif CASE == 3:\n",
    "    viscosityFn = viscosityl2\n",
    "else:\n",
    "    viscosityFn = 2./(1./viscosityl2 + 1./viscosityp)"
   ]
  },
  {
   "cell_type": "markdown",
   "metadata": {},
   "source": [
    "**Add functions for density and buoyancy**"
   ]
  },
  {
   "cell_type": "code",
   "execution_count": 10,
   "metadata": {
    "collapsed": true
   },
   "outputs": [],
   "source": [
    "densityFn = RA*temperatureField\n",
    "\n",
    "# define our vertical unit vector using a python tuple (this will be automatically converted to a function)\n",
    "z_hat = ( 0.0, 1.0 )\n",
    "\n",
    "# now create a buoyancy force vector using the density (FEvariable) and the vertical unit vector. \n",
    "buoyancyFn = densityFn * z_hat"
   ]
  },
  {
   "cell_type": "markdown",
   "metadata": {},
   "source": [
    "Build the Stokes system and solvers\n",
    "------\n",
    "\n",
    "Setup the Stokes system with linear or nonlinear visocity viscosity depending on case."
   ]
  },
  {
   "cell_type": "code",
   "execution_count": 11,
   "metadata": {
    "collapsed": false
   },
   "outputs": [],
   "source": [
    "stokesPIC = uw.systems.Stokes(velocityField=velocityField, \n",
    "                              pressureField=pressureField,\n",
    "                              conditions=[freeslipBC,],\n",
    "                              viscosityFn=fn.exception.SafeMaths(viscosityFn), \n",
    "                              bodyForceFn=buoyancyFn)"
   ]
  },
  {
   "cell_type": "markdown",
   "metadata": {},
   "source": [
    "Setup solver for the Stokes system of equations"
   ]
  },
  {
   "cell_type": "code",
   "execution_count": 12,
   "metadata": {
    "collapsed": false
   },
   "outputs": [],
   "source": [
    "solver = uw.systems.Solver( stokesPIC )"
   ]
  },
  {
   "cell_type": "markdown",
   "metadata": {},
   "source": [
    "We do one solve for initial pressure and velocity with linear viscosity to get the initial strain rate invariant. This solve step also calculates a 'guess' of the the velocity field based on the linear system, which is used later in the non-linear solver."
   ]
  },
  {
   "cell_type": "code",
   "execution_count": 13,
   "metadata": {
    "collapsed": false
   },
   "outputs": [],
   "source": [
    "solver.solve( nonLinearIterate=False )"
   ]
  },
  {
   "cell_type": "markdown",
   "metadata": {},
   "source": [
    "Create an advective-diffusive system\n",
    "-----\n",
    "\n",
    "Setup the system in underworld by flagging the temperature and velocity field variables."
   ]
  },
  {
   "cell_type": "code",
   "execution_count": 14,
   "metadata": {
    "collapsed": false
   },
   "outputs": [],
   "source": [
    "advDiff = uw.systems.AdvectionDiffusion( temperatureField, temperatureDotField, velocityField,\n",
    "                                         diffusivity=1., conditions=[tempBC,] )"
   ]
  },
  {
   "cell_type": "markdown",
   "metadata": {},
   "source": [
    "Metrics for benchmark\n",
    "-----\n",
    "\n",
    "Define diagnostic functions to be used in the time loop and/or measured after reaching steady state:\n",
    "\n",
    "* Average temperature\n",
    "$$  \\langle T \\rangle  = \\int^1_0 \\int^1_0 T \\, dxdy $$\n",
    "* Top and bottom Nusselt numbers\n",
    "$$Nu_{top/bot} = - \\left. \\int^1_0 \\frac{\\partial T}{\\partial y} \\right|_{y=1/y=0} \\, dx$$\n",
    "* RMS velocity over the whole domain, surface and max velocity at surface\n",
    "$$u_{RMS} = \\left( \\int_0^1 \\int_0^1 \\left( u_x^2 + u_y^2 \\right) dx dy \\right)^{1/2}$$\n",
    "$$u_{RMS}^{surf} = \\left( \\left. \\int_0^1 u_x^2\\right|_{y=1} dx \\right)^{1/2}$$\n",
    "$$u_{max}^{surf} = \\left. \\max(u_x)\\right|_{y=1}$$\n",
    "* max and min viscosity over the whole domain\n",
    "$$\\eta_{max/min} = \\max / \\min \\left( \\eta\\left(x,y\\right) \\right)$$\n",
    "* average rate of work done against gravity\n",
    "$$\\langle W \\rangle = \\int^1_0 \\int^1_0 T u_y \\, dx dy$$\n",
    "* and the average rate of viscous dissipation\n",
    "$$\\langle \\Phi \\rangle = \\int^1_0 \\int^1_0 \\tau_{ij} \\dot \\epsilon_{ij} \\, dx dy$$\n",
    "\n",
    "* In steady state, if thermal energy is accurately conserved, the difference between $\\langle W \\rangle$ and $\\langle \\Phi \\rangle / Ra$ must vanish, so also reported is the percentage error: \n",
    "\n",
    "$$ \\delta = \\frac{\\lvert \\langle W \\rangle - \\frac{\\langle \\Phi \\rangle}{Ra} \\rvert}{max \\left(  \\langle W \\rangle,  \\frac{\\langle \\Phi \\rangle}{Ra}\\right)} \\times 100% $$"
   ]
  },
  {
   "cell_type": "markdown",
   "metadata": {},
   "source": [
    "**Setup volume integrals used in metric functions**"
   ]
  },
  {
   "cell_type": "code",
   "execution_count": 15,
   "metadata": {
    "collapsed": false
   },
   "outputs": [],
   "source": [
    "# temperature\n",
    "tempint = uw.utils.Integral( temperatureField, mesh )\n",
    "# area\n",
    "areaint = uw.utils.Integral( 1.,               mesh )\n",
    "# velocity squared\n",
    "v2int   = uw.utils.Integral(fn.math.dot(velocityField,velocityField), mesh)\n",
    "# work done\n",
    "dwint   = uw.utils.Integral(temperatureField*velocityField[1], mesh)\n",
    "# viscous dissipation\n",
    "sinner = fn.math.dot(secinv,secinv)\n",
    "vdint = uw.utils.Integral((4.*viscosityFn*sinner), mesh)"
   ]
  },
  {
   "cell_type": "markdown",
   "metadata": {},
   "source": [
    "**Setup surface integrals used in metric functions**"
   ]
  },
  {
   "cell_type": "code",
   "execution_count": 16,
   "metadata": {
    "collapsed": false
   },
   "outputs": [],
   "source": [
    "rmsSurfInt = uw.utils.Integral( fn=velocityField[0]*velocityField[0], mesh=mesh, integrationType='Surface', \n",
    "                          surfaceIndexSet=mesh.specialSets[\"MaxJ_VertexSet\"])\n",
    "nuTop      = uw.utils.Integral( fn=temperatureField.gradientFn[1], mesh=mesh, integrationType='Surface', \n",
    "                          surfaceIndexSet=mesh.specialSets[\"MaxJ_VertexSet\"])\n",
    "nuBottom   = uw.utils.Integral( fn=temperatureField.gradientFn[1], mesh=mesh, integrationType='Surface', \n",
    "                          surfaceIndexSet=mesh.specialSets[\"MinJ_VertexSet\"])"
   ]
  },
  {
   "cell_type": "markdown",
   "metadata": {},
   "source": [
    "**Define diagnostic functions using integrals**"
   ]
  },
  {
   "cell_type": "code",
   "execution_count": 17,
   "metadata": {
    "collapsed": false
   },
   "outputs": [],
   "source": [
    "def avg_temp():\n",
    "    return tempint.evaluate()[0]/areaint.evaluate()[0]\n",
    "\n",
    "def nusseltTB(temp_field, mesh):\n",
    "    return -nuTop.evaluate()[0], -nuBottom.evaluate()[0]\n",
    "\n",
    "def rms():\n",
    "    return math.sqrt(v2int.evaluate()[0]/areaint.evaluate()[0])\n",
    "\n",
    "def rms_surf():\n",
    "    return math.sqrt(rmsSurfInt.evaluate()[0])\n",
    "\n",
    "def max_vx_surf(velfield, mesh):\n",
    "    vuvelxfn = fn.view.min_max(velfield[0])\n",
    "    vuvelxfn.evaluate(mesh.specialSets[\"MaxJ_VertexSet\"])\n",
    "    return vuvelxfn.max_global()\n",
    "\n",
    "def gravwork(workfn):\n",
    "    return workfn.evaluate()[0]\n",
    "\n",
    "def viscdis(vdissfn):\n",
    "    return vdissfn.evaluate()[0]\n",
    "\n",
    "def visc_extr(viscfn):\n",
    "    vuviscfn = fn.view.min_max(viscfn)\n",
    "    vuviscfn.evaluate(mesh)\n",
    "    return vuviscfn.max_global(), vuviscfn.min_global()"
   ]
  },
  {
   "cell_type": "code",
   "execution_count": 18,
   "metadata": {
    "collapsed": false
   },
   "outputs": [],
   "source": [
    "#Fields for saving data / fields\n",
    "rmsField = uw.meshvariable.MeshVariable( mesh=mesh, nodeDofCount=1 )\n",
    "rmsfn    = fn.math.sqrt( fn.math.dot( velocityField, velocityField ) )\n",
    "rmsdata  = rmsfn.evaluate( mesh )\n",
    "rmsField.data[:] = rmsdata \n",
    "\n",
    "viscField = uw.meshvariable.MeshVariable( mesh=mesh, nodeDofCount=1 )\n",
    "viscdata  = viscosityFn.evaluate( mesh )\n",
    "viscField.data[:] = viscdata\n",
    "\n",
    "stressField = uw.meshvariable.MeshVariable( mesh=mesh, nodeDofCount=1)\n",
    "srtdata     = fn.tensor.second_invariant( fn.tensor.symmetric( velocityField.gradientFn ) )\n",
    "rostfield   = srtdata.evaluate( mesh )\n",
    "stressinv   = 2*viscdata*rostfield[:]\n",
    "stressField.data[:] = stressinv"
   ]
  },
  {
   "cell_type": "markdown",
   "metadata": {},
   "source": [
    "Main simulation loop\n",
    "------\n",
    "\n",
    "Normally a loop over time increments would be added here. As we are only interested in the post-analysis a single time step will be taken to ensure that all analysis fields are live. This step will involve the non-linear Stokes system solver."
   ]
  },
  {
   "cell_type": "code",
   "execution_count": 19,
   "metadata": {
    "collapsed": false
   },
   "outputs": [],
   "source": [
    "steps_todo = 1"
   ]
  },
  {
   "cell_type": "markdown",
   "metadata": {
    "collapsed": false
   },
   "source": [
    "Initialise steps and time. Set to zero unless loading values from file."
   ]
  },
  {
   "cell_type": "code",
   "execution_count": 20,
   "metadata": {
    "collapsed": false
   },
   "outputs": [
    {
     "name": "stdout",
     "output_type": "stream",
     "text": [
      "This model has previously completed  43600 steps to get to time = 0.301\n"
     ]
    }
   ],
   "source": [
    "try:\n",
    "    realtime = timeVal[-1]\n",
    "    step = int(stepsVal[-1])\n",
    "except:\n",
    "    realtime = 0.0\n",
    "    step = 0\n",
    "steps_end = step + steps_todo\n",
    "steps_output = 100\n",
    "steps_output = max(steps_output,1)\n",
    "print('This model has previously completed {0:6d} steps to get to time = {1:.3f}'.format(step,realtime))"
   ]
  },
  {
   "cell_type": "code",
   "execution_count": 21,
   "metadata": {
    "collapsed": false
   },
   "outputs": [],
   "source": [
    "# initialise timer for computation\n",
    "start = time.clock()\n",
    "# start loop\n",
    "while step < steps_end:\n",
    "    # Solve non-linear system\n",
    "    solver.solve(nonLinearIterate=True)\n",
    "    dt = advDiff.get_max_dt()\n",
    "    if step == 0:\n",
    "        dt = 0.\n",
    "    # Advect using this timestep size   \n",
    "    advDiff.integrate(dt)\n",
    "    # Increment\n",
    "    realtime += dt\n",
    "    step += 1\n",
    "    # Calculate the Metrics, only on 1 of the processors:\n",
    "    Avg_temp = avg_temp()\n",
    "    Rms = rms()\n",
    "    Rms_surf = rms_surf()\n",
    "    Max_vx_surf = max_vx_surf(velocityField, mesh)\n",
    "    Gravwork = gravwork(dwint)\n",
    "    Viscdis = viscdis(vdint)\n",
    "    nu1, nu0 = nusseltTB(temperatureField, mesh) # return top then bottom\n",
    "    etamax, etamin = visc_extr(viscosityFn)\n",
    "    # store results\n",
    "    stepsVal.append(       step)\n",
    "    timeVal.append(        realtime )\n",
    "    viscdisVal.append(     Viscdis )\n",
    "    nu0Val.append(         nu0 )\n",
    "    nu1Val.append(         nu1 )\n",
    "    Avg_tempVal.append(    Avg_temp )\n",
    "    vrmsVal.append(        Rms )\n",
    "    Rms_surfVal.append(    Rms_surf )\n",
    "    Max_vx_surfVal.append( Max_vx_surf )\n",
    "    GravworkVal.append(    Gravwork )\n",
    "    etamaxVal.append(      etamax )\n",
    "    etaminVal.append(      etamin )\n",
    "\n",
    "    # output fields and summary info to file (output graphics can also be added here)\n",
    "    if uw.rank()==0:\n",
    "        if (step % steps_output == 0) or (step == steps_end-1):\n",
    "            print 'step =',step, '; CPU time =', time.clock()-start, '; vrms = ',Rms\n",
    "            # Temperature\n",
    "            fnametemp = \"temperatureField_\" + str(step).zfill(6) + \".h5\"\n",
    "            fullpath = os.path.join(outputPath + \"files/\" + fnametemp)\n",
    "            temperatureField.save(fullpath)\n",
    "            # Temperature time derivative\n",
    "            fnametemp = \"temperatureDotField_\" + str(step).zfill(6) + \".h5\"\n",
    "            fullpath = os.path.join(outputPath + \"files/\" + fnametemp)\n",
    "            temperatureDotField.save(fullpath)\n",
    "            # Pressure\n",
    "            fnametemp = \"pressureField_\" + str(step).zfill(6) + \".h5\"\n",
    "            fullpath = os.path.join(outputPath + \"files/\" + fnametemp)\n",
    "            pressureField.save(fullpath)\n",
    "            # Velocity\n",
    "            fnametemp = \"velocityField_\" + str(step).zfill(6) + \".h5\"\n",
    "            fullpath = os.path.join(outputPath + \"files/\" + fnametemp)\n",
    "            velocityField.save(fullpath)\n",
    "\n",
    "            np.savetxt( outputPath + 'Summary.txt', np.c_[stepsVal, timeVal, viscdisVal, nu0Val, \n",
    "                                                          nu1Val, Avg_tempVal, vrmsVal, Rms_surfVal,\n",
    "                                                         Max_vx_surfVal, GravworkVal, etamaxVal, etaminVal], \n",
    "                   header=\"Steps, Time, visc, Nusselt bottom/top, av_T, vrms, surf_rms, surf_max, grav, etamax, etamin\" )"
   ]
  },
  {
   "cell_type": "markdown",
   "metadata": {},
   "source": [
    "Post-simulation analysis\n",
    "-------\n",
    "\n",
    "Here we will calculate the quantities specified for this case in Tosi et al. (2015) and finally compare them to the values given in their Table 2."
   ]
  },
  {
   "cell_type": "markdown",
   "metadata": {},
   "source": [
    "**Plot final temperature and velocity fields**"
   ]
  },
  {
   "cell_type": "code",
   "execution_count": 22,
   "metadata": {
    "collapsed": false
   },
   "outputs": [
    {
     "data": {
      "text/html": [
       "<img src='data:image/png;base64,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'>"
      ],
      "text/plain": [
       "<IPython.core.display.HTML object>"
      ]
     },
     "execution_count": 22,
     "metadata": {},
     "output_type": "execute_result"
    }
   ],
   "source": [
    "velmax = np.amax(velocityField.data[:])\n",
    "if(velmax==0.0): velmax = 1.0\n",
    "fig1 = glucifer.Figure()\n",
    "fig1 + glucifer.objects.Surface( mesh, temperatureField, colours=\"blue white red\" )\n",
    "fig1 + glucifer.objects.VectorArrows( mesh, velocityField/velmax, lengthScale=0.1, arrowHeadSize=0.2 )\n",
    "fig1.show()"
   ]
  },
  {
   "cell_type": "markdown",
   "metadata": {},
   "source": [
    "**Calculate quantities for benchmark comparison**"
   ]
  },
  {
   "cell_type": "code",
   "execution_count": 23,
   "metadata": {
    "collapsed": true
   },
   "outputs": [],
   "source": [
    "tempAv = Avg_tempVal[-1]\n",
    "nuTop = nu1Val[-1]\n",
    "nuBot = nu0Val[-1]\n",
    "uRMS = vrmsVal[-1]\n",
    "uSurfRMS = Rms_surfVal[-1]\n",
    "uSurfMax = Max_vx_surfVal[-1]\n",
    "etaMin = etaminVal[-1]\n",
    "etaMax = etamaxVal[-1]\n",
    "workDone = GravworkVal[-1]\n",
    "phi = viscdisVal[-1]/100.\n",
    "delta = abs(workDone - phi)/max(workDone, phi) * 100."
   ]
  },
  {
   "cell_type": "markdown",
   "metadata": {},
   "source": [
    "**Output all quantities for this case**"
   ]
  },
  {
   "cell_type": "code",
   "execution_count": 24,
   "metadata": {
    "collapsed": false
   },
   "outputs": [
    {
     "name": "stdout",
     "output_type": "stream",
     "text": [
      "<T>        = 0.5994\n",
      "Nu_top     = 8.4725\n",
      "Nu_bot     = 8.5378\n",
      "u_rms      = 138.8916\n",
      "u^surf_rms = 103.8739\n",
      "u^surf_max = 120.9129\n",
      "eta_min    = 1.9854e-05\n",
      "eta_max    = 1.6685\n",
      "W          = 7.4987\n",
      "Phi        = 7.5242\n",
      "delta      = 0.3382%\n"
     ]
    }
   ],
   "source": [
    "print('<T>        = {0:.4f}'.format(tempAv))\n",
    "print('Nu_top     = {0:.4f}'.format(nuTop))\n",
    "print('Nu_bot     = {0:.4f}'.format(nuBot))\n",
    "print('u_rms      = {0:.4f}'.format(uRMS))\n",
    "print('u^surf_rms = {0:.4f}'.format(uSurfRMS))\n",
    "print('u^surf_max = {0:.4f}'.format(uSurfMax))\n",
    "print('eta_min    = {0:.4e}'.format(etaMin))\n",
    "print('eta_max    = {0:.4f}'.format(etaMax))\n",
    "print('W          = {0:.4f}'.format(workDone))\n",
    "print('Phi        = {0:.4f}'.format(phi))\n",
    "print('delta      = {0:.4f}%'.format(delta))"
   ]
  },
  {
   "cell_type": "markdown",
   "metadata": {},
   "source": [
    "**Comparison values from Tosi et al. (2015)**\n",
    "\n",
    "The expected benchmark values from Table 2 of Tosi et al. (2015) for case 2 are given in the table below. The minimum and maximum values from each of the participating codes are given here to provide an expected range for each quantity.\n",
    "\n",
    "| Case 2  | $<$$T$$>$ | $Nu_{top}$ | $Nu_{bot}$ | $u_{RMS}$ | $u_{RMS}^{surf}$ | $u_{max}^{surf}$ | $\\eta_{min}$ | $\\eta_{max}$ | $<$$W$$>$ |  $<$$\\Phi$$>$/Ra | $\\delta$ |\n",
    "|:--------|:---------:|:----------:|:----------:|:---------:|:----------------:|:----------------:|:------------:|:------------:|:------------:|:------------------:|:--------:|\n",
    "| Min     | 0.6027 | 8.5217 | 8.5217 | 140.1871 | 102.8500 | 119.4120 | 1.9850$\\times 10^{-5}$ | 1.0400 | 7.5199 | 7.4690 | $<$0.01% |\n",
    "| Max     | 0.6071 | 8.7475 | 8.6489 | 143.8518 | 105.1767 | 122.9754 | 2.0800$\\times 10^{-5}$ | 1.9421 | 7.6400 | 7.6422 | 0.68% |\n",
    "\n",
    "Note that the values from the spectral code MC3D are not used to construct the min/max values here, as they are outlier values."
   ]
  }
 ],
 "metadata": {
  "kernelspec": {
   "display_name": "Python 2",
   "language": "python",
   "name": "python2"
  },
  "language_info": {
   "codemirror_mode": {
    "name": "ipython",
    "version": 2
   },
   "file_extension": ".py",
   "mimetype": "text/x-python",
   "name": "python",
   "nbconvert_exporter": "python",
   "pygments_lexer": "ipython2",
   "version": "2.7.6"
  }
 },
 "nbformat": 4,
 "nbformat_minor": 0
}
