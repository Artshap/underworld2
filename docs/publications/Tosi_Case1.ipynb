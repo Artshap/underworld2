{
 "cells": [
  {
   "cell_type": "markdown",
   "metadata": {
    "collapsed": true
   },
   "source": [
    "Viscoplastic thermal convection in a 2-D square box: Tosi et al. 2015\n",
    "=====\n",
    "\n",
    "This series of notebooks generates benchmark models from the Tosi et al. (2015) in Underworld2. The Underworld2 results are then directly compared to the results from Table 2 of Tosi et al. (2015) the paper for each case. The notebooks are broken into a general notebook for reproducing the models from scratch and 5 post-analysis notebooks which look at the results Underworld2 gives for each case after running to equilibrium. \n",
    "\n",
    "Case 1: Stagnant lid\n",
    "-------\n",
    "\n",
    "This case has a temperature-dependent linear rheology which results in a stagnant lid mode of convection. \n",
    "The parameters used for case 1 are: $Ra = 10^2$, $\\Delta \\eta_T = 10^5$ and $\\Delta \\eta_z = 1$.\n",
    "\n",
    "\n",
    "References\n",
    "-----\n",
    "\n",
    "1. Tosi, Nicola and Stein, Claudia and Noack, Lena and H&uuml;ttig, Christian and Maierov&aacute;, Petra and Samuel, Henri and Davies, DR and Wilson, CR and Kramer, SC and Thieulot, Cedric and others. 2015. _A community benchmark for viscoplastic thermal convection in a 2-D square box_.\n",
    "\n"
   ]
  },
  {
   "cell_type": "markdown",
   "metadata": {},
   "source": [
    "Load python functions needed for underworld. Some additional python functions from os, math and numpy used later on."
   ]
  },
  {
   "cell_type": "code",
   "execution_count": 1,
   "metadata": {
    "collapsed": false
   },
   "outputs": [],
   "source": [
    "%matplotlib inline\n",
    "import underworld as uw\n",
    "import math\n",
    "from underworld import function as fn\n",
    "import glucifer\n",
    "import matplotlib.pyplot as pyplot\n",
    "import matplotlib.pylab as pylab\n",
    "import time\n",
    "import numpy as np\n",
    "import os"
   ]
  },
  {
   "cell_type": "markdown",
   "metadata": {},
   "source": [
    "Set physical constants and parameters, including the Rayleigh number (*Ra*) and viscosity constants ($\\eta^*$ and $\\eta_T$) which are common to all Tosi et al cases."
   ]
  },
  {
   "cell_type": "code",
   "execution_count": 2,
   "metadata": {
    "collapsed": false
   },
   "outputs": [],
   "source": [
    "RA  = 1e2        # Rayleigh number\n",
    "ETA_T = 1e5      # common viscosity constant\n",
    "TS  = 0          # surface temperature\n",
    "TB  = 1          # bottom boundary temperature (melting point)\n",
    "ETA0 = 1e-3      # viscosity constant eta^* in Tosi et al\n",
    "TMAX = 3.0\n",
    "IMAX = 1000"
   ]
  },
  {
   "cell_type": "markdown",
   "metadata": {},
   "source": [
    "Select case 1 of Tosi et al (2015) and set constants as required."
   ]
  },
  {
   "cell_type": "code",
   "execution_count": 3,
   "metadata": {
    "collapsed": false
   },
   "outputs": [],
   "source": [
    "CASE = 1\n",
    "ETA_Y = 1.\n",
    "YSTRESS = 1."
   ]
  },
  {
   "cell_type": "markdown",
   "metadata": {},
   "source": [
    "Set input and output file directories"
   ]
  },
  {
   "cell_type": "code",
   "execution_count": 4,
   "metadata": {
    "collapsed": false
   },
   "outputs": [],
   "source": [
    "# input file directory\n",
    "inputPath  = 'TosiInput/case' + str(CASE) + \"/\"\n",
    "# output files\n",
    "outputPath = 'TosiOutput/'\n",
    "filePath   = outputPath+'files'\n",
    "# make directories if they don't exist\n",
    "if not os.path.isdir(outputPath):\n",
    "    os.makedirs(outputPath)\n",
    "if not os.path.isdir(filePath):\n",
    "    os.makedirs(filePath)"
   ]
  },
  {
   "cell_type": "markdown",
   "metadata": {},
   "source": [
    "Create mesh and finite element variables\n",
    "------\n",
    "\n",
    "Set up mesh and field variables that are solved on the mesh."
   ]
  },
  {
   "cell_type": "code",
   "execution_count": 5,
   "metadata": {
    "collapsed": false
   },
   "outputs": [],
   "source": [
    "res = 128\n",
    "mesh = uw.mesh.FeMesh_Cartesian( elementType = (\"Q1/dQ0\"), \n",
    "                                 elementRes  = (res, res), \n",
    "                                 minCoord    = (0., 0.), \n",
    "                                 maxCoord    = (1., 1.))\n",
    "\n",
    "velocityField       = uw.meshvariable.MeshVariable( mesh=mesh,         nodeDofCount=2 )\n",
    "pressureField       = uw.meshvariable.MeshVariable( mesh=mesh.subMesh, nodeDofCount=1 )\n",
    "temperatureField    = uw.meshvariable.MeshVariable( mesh=mesh,         nodeDofCount=1 )\n",
    "temperatureDotField = uw.meshvariable.MeshVariable( mesh=mesh,         nodeDofCount=1 )"
   ]
  },
  {
   "cell_type": "markdown",
   "metadata": {},
   "source": [
    "Set initial conditions and boundary conditions\n",
    "----------\n",
    "\n",
    "Load all variable fields and summary data with data from previously run cases."
   ]
  },
  {
   "cell_type": "code",
   "execution_count": 6,
   "metadata": {
    "collapsed": false
   },
   "outputs": [],
   "source": [
    "# load fields\n",
    "temperatureField.load(    inputPath+'temperatureField.h5' )\n",
    "temperatureDotField.load( inputPath+'temperatureDotField.h5' )\n",
    "pressureField.load(       inputPath+'pressureField.h5')\n",
    "velocityField.load(       inputPath+'velocityField.h5')\n",
    "\n",
    "# load past iterations of summary data\n",
    "data = np.loadtxt( inputPath+'Summary.txt', unpack=True )\n",
    "stepsVal = data[0].tolist()\n",
    "timeVal = data[1].tolist()\n",
    "viscdisVal = data[2].tolist()\n",
    "nu0Val = data[3].tolist()\n",
    "nu1Val = data[4].tolist()\n",
    "Avg_tempVal = data[5].tolist()\n",
    "vrmsVal = data[6].tolist()\n",
    "Rms_surfVal = data[7].tolist()\n",
    "Max_vx_surfVal = data[8].tolist()\n",
    "GravworkVal = data[9].tolist()\n",
    "etamaxVal = data[10].tolist()\n",
    "etaminVal = data[11].tolist() "
   ]
  },
  {
   "cell_type": "markdown",
   "metadata": {},
   "source": [
    "**Conditions on the boundaries**"
   ]
  },
  {
   "cell_type": "code",
   "execution_count": 7,
   "metadata": {
    "collapsed": true
   },
   "outputs": [],
   "source": [
    "iWalls = mesh.specialSets[\"MinI_VertexSet\"] + mesh.specialSets[\"MaxI_VertexSet\"]\n",
    "jWalls = mesh.specialSets[\"MinJ_VertexSet\"] + mesh.specialSets[\"MaxJ_VertexSet\"]\n",
    "freeslipBC = uw.conditions.DirichletCondition( variable      = velocityField, \n",
    "                                               nodeIndexSets = (iWalls, jWalls) )\n",
    "tempBC     = uw.conditions.DirichletCondition( variable      = temperatureField, \n",
    "                                               nodeIndexSets = (jWalls,) )"
   ]
  },
  {
   "cell_type": "markdown",
   "metadata": {
    "collapsed": false
   },
   "source": [
    "Set up material parameters and functions\n",
    "-----\n"
   ]
  },
  {
   "cell_type": "markdown",
   "metadata": {},
   "source": [
    "**Viscosity field**\n",
    "\n",
    "The viscosity is a function of temperature ($T$), the vertical coordinate ($z$) and the strain rate ($\\dot{\\epsilon}$) and is given by\n",
    "\n",
    "$$\n",
    "    \\eta(T, z, \\dot{\\epsilon}) = 2 \\left( \\frac{1}{\\eta_{lin}(T,z)} + \\frac{1}{\\eta_{plast}(\\dot{\\epsilon})} \\right)^{-1}\n",
    "$$\n",
    "\n",
    "where the linear part is\n",
    "\n",
    "$$\n",
    "    \\eta_{lin}(T, z) = \\exp(-\\gamma_T T + \\gamma_z z)\n",
    "$$\n",
    "\n",
    "with $\\gamma_T = \\ln(\\Delta \\eta_T)$ and $\\gamma_z = \\ln(\\Delta \\eta_z)$. The nonlinear part is\n",
    "\n",
    "$$\n",
    "    \\eta_{plast}(\\dot{\\epsilon}) = \\eta^* + \\frac{\\sigma_{\\gamma}}{\\sqrt{\\dot{\\epsilon} : \\dot{\\epsilon}}}\n",
    "$$\n",
    "\n",
    "where $\\eta^*$ is the effective viscosity at high stresses and $\\sigma_{\\gamma}$ is the yield stress. The values of $\\Delta \\eta_T$, $\\Delta \\eta_z$, $\\eta^*$ and $\\sigma_{\\gamma}$ are assumed to be constant with values dependent on the particular case."
   ]
  },
  {
   "cell_type": "markdown",
   "metadata": {},
   "source": [
    "**Create variables required for plasticity calculations**"
   ]
  },
  {
   "cell_type": "code",
   "execution_count": 8,
   "metadata": {
    "collapsed": false
   },
   "outputs": [],
   "source": [
    "secinv = fn.tensor.second_invariant( fn.tensor.symmetric( velocityField.gradientFn ) )\n",
    "coordinate = fn.coord()"
   ]
  },
  {
   "cell_type": "markdown",
   "metadata": {},
   "source": [
    "**Setup viscosity functions**\n",
    "\n",
    "Remember to use floats everywhere when setting up functions"
   ]
  },
  {
   "cell_type": "code",
   "execution_count": 9,
   "metadata": {
    "collapsed": false
   },
   "outputs": [],
   "source": [
    "viscosityl1 = fn.math.exp(math.log(ETA_T)*-1.*temperatureField)\n",
    "viscosityl2 = fn.math.exp((math.log(ETA_T)*-1.*temperatureField) + (1.-coordinate[1])*math.log(ETA_Y))\n",
    "\n",
    "#Von Mises effective viscosity\n",
    "viscosityp = ETA0 + YSTRESS/(secinv/math.sqrt(0.5)) #extra factor to account for underworld second invariant form\n",
    "\n",
    "if CASE == 1:\n",
    "    viscosityFn = viscosityl1\n",
    "elif CASE == 2:\n",
    "    viscosityFn = 2./(1./viscosityl1 + 1./viscosityp)\n",
    "elif CASE == 3:\n",
    "    viscosityFn = viscosityl2\n",
    "else:\n",
    "    viscosityFn = 2./(1./viscosityl2 + 1./viscosityp)"
   ]
  },
  {
   "cell_type": "markdown",
   "metadata": {},
   "source": [
    "**Add functions for density and buoyancy**"
   ]
  },
  {
   "cell_type": "code",
   "execution_count": 10,
   "metadata": {
    "collapsed": true
   },
   "outputs": [],
   "source": [
    "densityFn = RA*temperatureField\n",
    "\n",
    "# define our vertical unit vector using a python tuple (this will be automatically converted to a function)\n",
    "z_hat = ( 0.0, 1.0 )\n",
    "\n",
    "# now create a buoyancy force vector using the density (FEvariable) and the vertical unit vector. \n",
    "buoyancyFn = densityFn * z_hat"
   ]
  },
  {
   "cell_type": "markdown",
   "metadata": {},
   "source": [
    "Build the Stokes system and solvers\n",
    "------\n",
    "\n",
    "Setup the Stokes system with linear or nonlinear visocity viscosity depending on case."
   ]
  },
  {
   "cell_type": "code",
   "execution_count": 11,
   "metadata": {
    "collapsed": false
   },
   "outputs": [],
   "source": [
    "stokesPIC = uw.systems.Stokes(velocityField=velocityField, \n",
    "                              pressureField=pressureField,\n",
    "                              conditions=[freeslipBC,],\n",
    "                              viscosityFn=fn.exception.SafeMaths(viscosityFn), \n",
    "                              bodyForceFn=buoyancyFn)"
   ]
  },
  {
   "cell_type": "markdown",
   "metadata": {},
   "source": [
    "Setup solver for the Stokes system of equations"
   ]
  },
  {
   "cell_type": "code",
   "execution_count": 12,
   "metadata": {
    "collapsed": false
   },
   "outputs": [],
   "source": [
    "solver = uw.systems.Solver( stokesPIC )"
   ]
  },
  {
   "cell_type": "markdown",
   "metadata": {},
   "source": [
    "We do one solve for initial pressure and velocity with linear viscosity to get the initial strain rate invariant. This solve step also calculates a 'guess' of the the velocity field based on the linear system, which is used later in the non-linear solver."
   ]
  },
  {
   "cell_type": "code",
   "execution_count": 13,
   "metadata": {
    "collapsed": false
   },
   "outputs": [],
   "source": [
    "solver.solve( nonLinearIterate=False )"
   ]
  },
  {
   "cell_type": "markdown",
   "metadata": {},
   "source": [
    "Create an advective-diffusive system\n",
    "-----\n",
    "\n",
    "Setup the system in underworld by flagging the temperature and velocity field variables."
   ]
  },
  {
   "cell_type": "code",
   "execution_count": 14,
   "metadata": {
    "collapsed": false
   },
   "outputs": [],
   "source": [
    "advDiff = uw.systems.AdvectionDiffusion( temperatureField, temperatureDotField, velocityField,\n",
    "                                         diffusivity=1., conditions=[tempBC,] )"
   ]
  },
  {
   "cell_type": "markdown",
   "metadata": {},
   "source": [
    "Metrics for benchmark\n",
    "-----\n",
    "\n",
    "Define diagnostic functions to be used in the time loop and/or measured after reaching steady state:\n",
    "\n",
    "* Average temperature\n",
    "$$  \\langle T \\rangle  = \\int^1_0 \\int^1_0 T \\, dxdy $$\n",
    "* Top and bottom Nusselt numbers\n",
    "$$Nu_{top/bot} = - \\left. \\int^1_0 \\frac{\\partial T}{\\partial y} \\right|_{y=1/y=0} \\, dx$$\n",
    "* RMS velocity over the whole domain, surface and max velocity at surface\n",
    "$$u_{RMS} = \\left( \\int_0^1 \\int_0^1 \\left( u_x^2 + u_y^2 \\right) dx dy \\right)^{1/2}$$\n",
    "$$u_{RMS}^{surf} = \\left( \\left. \\int_0^1 u_x^2\\right|_{y=1} dx \\right)^{1/2}$$\n",
    "$$u_{max}^{surf} = \\left. \\max(u_x)\\right|_{y=1}$$\n",
    "* max and min viscosity over the whole domain\n",
    "$$\\eta_{max/min} = \\max / \\min \\left( \\eta\\left(x,y\\right) \\right)$$\n",
    "* average rate of work done against gravity\n",
    "$$\\langle W \\rangle = \\int^1_0 \\int^1_0 T u_y \\, dx dy$$\n",
    "* and the average rate of viscous dissipation\n",
    "$$\\langle \\Phi \\rangle = \\int^1_0 \\int^1_0 \\tau_{ij} \\dot \\epsilon_{ij} \\, dx dy$$\n",
    "\n",
    "* In steady state, if thermal energy is accurately conserved, the difference between $\\langle W \\rangle$ and $\\langle \\Phi \\rangle / Ra$ must vanish, so also reported is the percentage error: \n",
    "\n",
    "$$ \\delta = \\frac{\\lvert \\langle W \\rangle - \\frac{\\langle \\Phi \\rangle}{Ra} \\rvert}{max \\left(  \\langle W \\rangle,  \\frac{\\langle \\Phi \\rangle}{Ra}\\right)} \\times 100% $$"
   ]
  },
  {
   "cell_type": "markdown",
   "metadata": {},
   "source": [
    "**Setup volume integrals used in metric functions**"
   ]
  },
  {
   "cell_type": "code",
   "execution_count": 15,
   "metadata": {
    "collapsed": false
   },
   "outputs": [],
   "source": [
    "# temperature\n",
    "tempint = uw.utils.Integral( temperatureField, mesh )\n",
    "# area\n",
    "areaint = uw.utils.Integral( 1.,               mesh )\n",
    "# velocity squared\n",
    "v2int   = uw.utils.Integral(fn.math.dot(velocityField,velocityField), mesh)\n",
    "# work done\n",
    "dwint   = uw.utils.Integral(temperatureField*velocityField[1], mesh)\n",
    "# viscous dissipation\n",
    "sinner = fn.math.dot(secinv,secinv)\n",
    "vdint = uw.utils.Integral((4.*viscosityFn*sinner), mesh)"
   ]
  },
  {
   "cell_type": "markdown",
   "metadata": {},
   "source": [
    "**Setup surface integrals used in metric functions**"
   ]
  },
  {
   "cell_type": "code",
   "execution_count": 16,
   "metadata": {
    "collapsed": false
   },
   "outputs": [],
   "source": [
    "rmsSurfInt = uw.utils.Integral( fn=velocityField[0]*velocityField[0], mesh=mesh, integrationType='Surface', \n",
    "                          surfaceIndexSet=mesh.specialSets[\"MaxJ_VertexSet\"])\n",
    "nuTop      = uw.utils.Integral( fn=temperatureField.gradientFn[1], mesh=mesh, integrationType='Surface', \n",
    "                          surfaceIndexSet=mesh.specialSets[\"MaxJ_VertexSet\"])\n",
    "nuBottom   = uw.utils.Integral( fn=temperatureField.gradientFn[1], mesh=mesh, integrationType='Surface', \n",
    "                          surfaceIndexSet=mesh.specialSets[\"MinJ_VertexSet\"])"
   ]
  },
  {
   "cell_type": "markdown",
   "metadata": {},
   "source": [
    "**Define diagnostic functions using integrals**"
   ]
  },
  {
   "cell_type": "code",
   "execution_count": 17,
   "metadata": {
    "collapsed": false
   },
   "outputs": [],
   "source": [
    "def avg_temp():\n",
    "    return tempint.evaluate()[0]/areaint.evaluate()[0]\n",
    "\n",
    "def nusseltTB(temp_field, mesh):\n",
    "    return -nuTop.evaluate()[0], -nuBottom.evaluate()[0]\n",
    "\n",
    "def rms():\n",
    "    return math.sqrt(v2int.evaluate()[0]/areaint.evaluate()[0])\n",
    "\n",
    "def rms_surf():\n",
    "    return math.sqrt(rmsSurfInt.evaluate()[0])\n",
    "\n",
    "def max_vx_surf(velfield, mesh):\n",
    "    vuvelxfn = fn.view.min_max(velfield[0])\n",
    "    vuvelxfn.evaluate(mesh.specialSets[\"MaxJ_VertexSet\"])\n",
    "    return vuvelxfn.max_global()\n",
    "\n",
    "def gravwork(workfn):\n",
    "    return workfn.evaluate()[0]\n",
    "\n",
    "def viscdis(vdissfn):\n",
    "    return vdissfn.evaluate()[0]\n",
    "\n",
    "def visc_extr(viscfn):\n",
    "    vuviscfn = fn.view.min_max(viscfn)\n",
    "    vuviscfn.evaluate(mesh)\n",
    "    return vuviscfn.max_global(), vuviscfn.min_global()"
   ]
  },
  {
   "cell_type": "code",
   "execution_count": 18,
   "metadata": {
    "collapsed": false
   },
   "outputs": [],
   "source": [
    "#Fields for saving data / fields\n",
    "rmsField = uw.meshvariable.MeshVariable( mesh=mesh, nodeDofCount=1 )\n",
    "rmsfn    = fn.math.sqrt( fn.math.dot( velocityField, velocityField ) )\n",
    "rmsdata  = rmsfn.evaluate( mesh )\n",
    "rmsField.data[:] = rmsdata \n",
    "\n",
    "viscField = uw.meshvariable.MeshVariable( mesh=mesh, nodeDofCount=1 )\n",
    "viscdata  = viscosityFn.evaluate( mesh )\n",
    "viscField.data[:] = viscdata\n",
    "\n",
    "stressField = uw.meshvariable.MeshVariable( mesh=mesh, nodeDofCount=1)\n",
    "srtdata     = fn.tensor.second_invariant( fn.tensor.symmetric( velocityField.gradientFn ) )\n",
    "rostfield   = srtdata.evaluate( mesh )\n",
    "stressinv   = 2*viscdata*rostfield[:]\n",
    "stressField.data[:] = stressinv"
   ]
  },
  {
   "cell_type": "markdown",
   "metadata": {},
   "source": [
    "Main simulation loop\n",
    "------\n",
    "\n",
    "Normally a loop over time increments would be added here. As we are only interested in the post-analysis a single time step will be taken to ensure that all analysis fields are live. This step will involve the non-linear Stokes system solver."
   ]
  },
  {
   "cell_type": "code",
   "execution_count": 19,
   "metadata": {
    "collapsed": false
   },
   "outputs": [],
   "source": [
    "steps_todo = 1"
   ]
  },
  {
   "cell_type": "markdown",
   "metadata": {
    "collapsed": false
   },
   "source": [
    "Initialise steps and time. Set to zero unless loading values from file."
   ]
  },
  {
   "cell_type": "code",
   "execution_count": 20,
   "metadata": {
    "collapsed": false
   },
   "outputs": [
    {
     "name": "stdout",
     "output_type": "stream",
     "text": [
      "This model has previously completed 134500 steps to get to time = 0.414\n"
     ]
    }
   ],
   "source": [
    "try:\n",
    "    realtime = timeVal[-1]\n",
    "    step = int(stepsVal[-1])\n",
    "except:\n",
    "    realtime = 0.0\n",
    "    step = 0\n",
    "steps_end = step + steps_todo\n",
    "steps_output = 100\n",
    "steps_output = max(steps_output,1)\n",
    "print('This model has previously completed {0:6d} steps to get to time = {1:.3f}'.format(step,realtime))"
   ]
  },
  {
   "cell_type": "code",
   "execution_count": 21,
   "metadata": {
    "collapsed": false
   },
   "outputs": [],
   "source": [
    "# initialise timer for computation\n",
    "start = time.clock()\n",
    "# start loop\n",
    "while step < steps_end:\n",
    "    # Solve non-linear system\n",
    "    solver.solve(nonLinearIterate=True)\n",
    "    dt = advDiff.get_max_dt()\n",
    "    if step == 0:\n",
    "        dt = 0.\n",
    "    # Advect using this timestep size   \n",
    "    advDiff.integrate(dt)\n",
    "    # Increment\n",
    "    realtime += dt\n",
    "    step += 1\n",
    "    # Calculate the Metrics, only on 1 of the processors:\n",
    "    Avg_temp = avg_temp()\n",
    "    Rms = rms()\n",
    "    Rms_surf = rms_surf()\n",
    "    Max_vx_surf = max_vx_surf(velocityField, mesh)\n",
    "    Gravwork = gravwork(dwint)\n",
    "    Viscdis = viscdis(vdint)\n",
    "    nu1, nu0 = nusseltTB(temperatureField, mesh) # return top then bottom\n",
    "    etamax, etamin = visc_extr(viscosityFn)\n",
    "    # store results\n",
    "    stepsVal.append(       step)\n",
    "    timeVal.append(        realtime )\n",
    "    viscdisVal.append(     Viscdis )\n",
    "    nu0Val.append(         nu0 )\n",
    "    nu1Val.append(         nu1 )\n",
    "    Avg_tempVal.append(    Avg_temp )\n",
    "    vrmsVal.append(        Rms )\n",
    "    Rms_surfVal.append(    Rms_surf )\n",
    "    Max_vx_surfVal.append( Max_vx_surf )\n",
    "    GravworkVal.append(    Gravwork )\n",
    "    etamaxVal.append(      etamax )\n",
    "    etaminVal.append(      etamin )\n",
    "\n",
    "    # output fields and summary info to file (output graphics can also be added here)\n",
    "    if uw.rank()==0:\n",
    "        if (step % steps_output == 0) or (step == steps_end-1):\n",
    "            print 'step =',step, '; CPU time =', time.clock()-start, '; vrms = ',Rms\n",
    "            # Temperature\n",
    "            fnametemp = \"temperatureField_\" + str(step).zfill(6) + \".h5\"\n",
    "            fullpath = os.path.join(outputPath + \"files/\" + fnametemp)\n",
    "            temperatureField.save(fullpath)\n",
    "            # Temperature time derivative\n",
    "            fnametemp = \"temperatureDotField_\" + str(step).zfill(6) + \".h5\"\n",
    "            fullpath = os.path.join(outputPath + \"files/\" + fnametemp)\n",
    "            temperatureDotField.save(fullpath)\n",
    "            # Pressure\n",
    "            fnametemp = \"pressureField_\" + str(step).zfill(6) + \".h5\"\n",
    "            fullpath = os.path.join(outputPath + \"files/\" + fnametemp)\n",
    "            pressureField.save(fullpath)\n",
    "            # Velocity\n",
    "            fnametemp = \"velocityField_\" + str(step).zfill(6) + \".h5\"\n",
    "            fullpath = os.path.join(outputPath + \"files/\" + fnametemp)\n",
    "            velocityField.save(fullpath)\n",
    "\n",
    "            np.savetxt( outputPath + 'Summary.txt', np.c_[stepsVal, timeVal, viscdisVal, nu0Val, \n",
    "                                                          nu1Val, Avg_tempVal, vrmsVal, Rms_surfVal,\n",
    "                                                         Max_vx_surfVal, GravworkVal, etamaxVal, etaminVal], \n",
    "                   header=\"Steps, Time, visc, Nusselt bottom/top, av_T, vrms, surf_rms, surf_max, grav, etamax, etamin\" )"
   ]
  },
  {
   "cell_type": "markdown",
   "metadata": {},
   "source": [
    "Post-simulation analysis\n",
    "-------\n",
    "\n",
    "Here we will calculate the quantities specified for this case in Tosi et al. (2015) and finally compare them to the values given in their Table 2."
   ]
  },
  {
   "cell_type": "markdown",
   "metadata": {},
   "source": [
    "**Plot final temperature and velocity fields**"
   ]
  },
  {
   "cell_type": "code",
   "execution_count": 22,
   "metadata": {
    "collapsed": false
   },
   "outputs": [
    {
     "data": {
      "text/html": [
       "<img src='data:image/png;base64,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'>"
      ],
      "text/plain": [
       "<IPython.core.display.HTML object>"
      ]
     },
     "execution_count": 22,
     "metadata": {},
     "output_type": "execute_result"
    }
   ],
   "source": [
    "velmax = np.amax(velocityField.data[:])\n",
    "if(velmax==0.0): velmax = 1.0\n",
    "fig1 = glucifer.Figure()\n",
    "fig1 + glucifer.objects.Surface( mesh, temperatureField, colours=\"blue white red\" )\n",
    "fig1 + glucifer.objects.VectorArrows( mesh, velocityField/velmax, lengthScale=0.1, arrowHeadSize=0.2 )\n",
    "fig1.show()"
   ]
  },
  {
   "cell_type": "markdown",
   "metadata": {},
   "source": [
    "**Calculate quantities for benchmark comparison**"
   ]
  },
  {
   "cell_type": "code",
   "execution_count": 23,
   "metadata": {
    "collapsed": true
   },
   "outputs": [],
   "source": [
    "tempAv = Avg_tempVal[-1]\n",
    "nuTop = nu1Val[-1]\n",
    "nuBot = nu0Val[-1]\n",
    "uRMS = vrmsVal[-1]\n",
    "uSurfRMS = Rms_surfVal[-1]\n",
    "uSurfMax = Max_vx_surfVal[-1]\n",
    "etaMin = etaminVal[-1]\n",
    "etaMax = etamaxVal[-1]\n",
    "workDone = GravworkVal[-1]\n",
    "phi = viscdisVal[-1]/100.\n",
    "delta = abs(workDone - phi)/max(workDone, phi) * 100."
   ]
  },
  {
   "cell_type": "markdown",
   "metadata": {},
   "source": [
    "**Output all quantities for this case**"
   ]
  },
  {
   "cell_type": "code",
   "execution_count": 24,
   "metadata": {
    "collapsed": false
   },
   "outputs": [
    {
     "name": "stdout",
     "output_type": "stream",
     "text": [
      "<T>        = 0.7737\n",
      "Nu_top     = 3.4086\n",
      "Nu_bot     = 3.4065\n",
      "u_rms      = 247.0555\n",
      "u^surf_rms = 1.8130\n",
      "u^surf_max = 2.5406\n",
      "W          = 2.4413\n",
      "Phi        = 2.4478\n",
      "delta      = 0.2671%\n"
     ]
    }
   ],
   "source": [
    "print('<T>        = {0:.4f}'.format(tempAv))\n",
    "print('Nu_top     = {0:.4f}'.format(nuTop))\n",
    "print('Nu_bot     = {0:.4f}'.format(nuBot))\n",
    "print('u_rms      = {0:.4f}'.format(uRMS))\n",
    "print('u^surf_rms = {0:.4f}'.format(uSurfRMS))\n",
    "print('u^surf_max = {0:.4f}'.format(uSurfMax))\n",
    "print('W          = {0:.4f}'.format(workDone))\n",
    "print('Phi        = {0:.4f}'.format(phi))\n",
    "print('delta      = {0:.4f}%'.format(delta))"
   ]
  },
  {
   "cell_type": "markdown",
   "metadata": {},
   "source": [
    "**Comparison values from Tosi et al. (2015)**\n",
    "\n",
    "The expected benchmark values from Table 2 of Tosi et al. (2015) for case 1 are given in the table below. The minimum and maximum values from each of the participating codes are given here to provide an expected range for each quantity.\n",
    "\n",
    "| Case 1  | $<$$T$$>$ | $Nu_{top}$ | $Nu_{bot}$ | $u_{RMS}$ | $u_{RMS}^{surf}$ | $u_{max}^{surf}$ | $<$$W$$>$ |  $<$$\\Phi$$>$/Ra | $\\delta$ |\n",
    "|:--------|:---------:|:----------:|:----------:|:---------:|:----------------:|:----------------:|:---------:|:------------------:|:--------:|\n",
    "| Min     | 0.7758 | 3.4091 | 3.4091 | 248.9252 | 1.8298 | 2.5516 | 2.3690 | 2.3920 | $<$0.01% |\n",
    "| Max     | 0.7768 | 3.4305 | 3.4259 | 252.0906 | 1.8999 | 2.6477 | 2.4583 | 2.4333 | 1.78% |\n",
    "\n",
    "Note that the values from the spectral code MC3D are not used to construct the min/max values here, as they are outlier values."
   ]
  }
 ],
 "metadata": {
  "kernelspec": {
   "display_name": "Python 2",
   "language": "python",
   "name": "python2"
  },
  "language_info": {
   "codemirror_mode": {
    "name": "ipython",
    "version": 2
   },
   "file_extension": ".py",
   "mimetype": "text/x-python",
   "name": "python",
   "nbconvert_exporter": "python",
   "pygments_lexer": "ipython2",
   "version": "2.7.6"
  }
 },
 "nbformat": 4,
 "nbformat_minor": 0
}
