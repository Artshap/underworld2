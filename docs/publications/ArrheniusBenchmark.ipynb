{
 "cells": [
  {
   "cell_type": "markdown",
   "metadata": {},
   "source": [
    "Arrhenius benchmark from Moresi and Solomatov 1998\n",
    "=======\n",
    "\n",
    "Stagnant lid convection model\n",
    "------\n",
    "\n",
    "**This example covers the concepts of:**\n",
    "1. Changing rheologies, specifically temperature dependent viscosity function.\n",
    "2. Stokes solver options.\n",
    "3. Saving and loading FE variables.\n",
    "\n",
    "**Keywords:** particle swarms, Stokes system, advective diffusive systems\n",
    "\n",
    "**References**\n",
    "\n",
    "1. Louis Moresi and Viatcheslav Solomatov, Mantle convection with a brittle lithosphere: thoughts on the global tectonic styles of the Earth and Venus. Geophys. J. Int. (1998) 133 (3): 669-682.  \n",
    "http://gji.oxfordjournals.org/content/133/3/669.short\n"
   ]
  },
  {
   "cell_type": "code",
   "execution_count": 1,
   "metadata": {
    "collapsed": false
   },
   "outputs": [],
   "source": [
    "%matplotlib inline\n",
    "import matplotlib.pyplot as pyplot\n",
    "import matplotlib.pylab as pylab\n",
    "import numpy as np\n",
    "import underworld as uw\n",
    "import math\n",
    "from underworld import function as fn\n",
    "import glucifer.pylab as plt\n",
    "import time"
   ]
  },
  {
   "cell_type": "markdown",
   "metadata": {},
   "source": [
    "Setup parameters\n",
    "-----\n"
   ]
  },
  {
   "cell_type": "code",
   "execution_count": 2,
   "metadata": {
    "collapsed": true
   },
   "outputs": [],
   "source": [
    "dim = 2\n",
    "boxLength = 1.0\n",
    "boxHeight = 1.0\n",
    "tempMin = 0.0\n",
    "tempMax = 1.0\n",
    "# Set the resolution.\n",
    "res = 32\n",
    "# Set the Rayleigh number.\n",
    "Ra=1.e6"
   ]
  },
  {
   "cell_type": "markdown",
   "metadata": {},
   "source": [
    "**Input/output paths**\n",
    "\n",
    "Set input and output file directory paths. For this example the input directory contains near steady state snapshots of the velocity, pressure and temperature fields. It also constains a summary of the Nusselt and $v_{RMS}$ values against time from the simulation used to make these snapshots."
   ]
  },
  {
   "cell_type": "code",
   "execution_count": 3,
   "metadata": {
    "collapsed": true
   },
   "outputs": [],
   "source": [
    "inputPath  = 'ArrInput/'\n",
    "outputPath = 'ArrOutput/'\n",
    "# Make output directory if necessary\n",
    "import os\n",
    "if not os.path.exists(outputPath):\n",
    "    os.makedirs(outputPath)"
   ]
  },
  {
   "cell_type": "markdown",
   "metadata": {},
   "source": [
    "Create mesh and finite element variables\n",
    "------\n",
    "\n",
    "In this case the mesh type used is different. For more information on the different mesh types see the user guide."
   ]
  },
  {
   "cell_type": "code",
   "execution_count": 4,
   "metadata": {
    "collapsed": false
   },
   "outputs": [],
   "source": [
    "elementMesh = uw.mesh.FeMesh_Cartesian( elementType = (\"Q2/dPc1\"), \n",
    "                                        elementRes  = (res, res), \n",
    "                                        minCoord    = (0., 0.), \n",
    "                                        maxCoord    = (boxLength, boxHeight) )\n",
    "velocityMesh    = elementMesh\n",
    "temperatureMesh = elementMesh\n",
    "pressureMesh    = elementMesh.subMesh \n",
    "\n",
    "velocityField    = uw.meshvariable.MeshVariable( feMesh=velocityMesh,    nodeDofCount=dim )\n",
    "pressureField    = uw.meshvariable.MeshVariable( feMesh=pressureMesh,    nodeDofCount=1 )\n",
    "temperatureField = uw.meshvariable.MeshVariable( feMesh=temperatureMesh, nodeDofCount=1 )"
   ]
  },
  {
   "cell_type": "markdown",
   "metadata": {},
   "source": [
    "Set initial conditions and boundary conditions\n",
    "----------\n",
    "\n",
    "**Initial and boundary conditions**\n",
    "\n",
    "Either set by perturbation function or load data from file."
   ]
  },
  {
   "cell_type": "code",
   "execution_count": 5,
   "metadata": {
    "collapsed": true
   },
   "outputs": [],
   "source": [
    "LoadFromFile = True"
   ]
  },
  {
   "cell_type": "markdown",
   "metadata": {},
   "source": [
    "**If loading from file**\n",
    "\n",
    "Read 32\\*32 resolution data for $P$, $v$ and $T$ fields as well as existing summary statistics data. These are converted into lists so that the main time loop below will append with new values.\n"
   ]
  },
  {
   "cell_type": "code",
   "execution_count": 6,
   "metadata": {
    "collapsed": false
   },
   "outputs": [],
   "source": [
    "if(LoadFromFile == True):\n",
    "# set up mesh for 32*32 data file\n",
    "    elementMesh32 = uw.mesh.FeMesh_Cartesian( elementType = (\"Q2/dPc1\"), \n",
    "                                               elementRes = (32, 32), \n",
    "                                                 minCoord = (0., 0.), \n",
    "                                                 maxCoord = (boxLength, boxHeight)  )\n",
    "    linearMesh32   = elementMesh32\n",
    "    constantMesh32 = elementMesh32.subMesh \n",
    "    temperatureField32 = uw.meshvariable.MeshVariable( feMesh=linearMesh32,   nodeDofCount=1 )\n",
    "    pressureField32    = uw.meshvariable.MeshVariable( feMesh=constantMesh32, nodeDofCount=1 )\n",
    "    velocityField32    = uw.meshvariable.MeshVariable( feMesh=linearMesh32,   nodeDofCount=dim )\n",
    "\n",
    "    temperatureField32.load(inputPath+'Arrhenius_32_T.inp')\n",
    "    velocityField32.load(inputPath+'Arrhenius_32_v.inp')\n",
    "    pressureField32.load(inputPath+'Arrhenius_32_P.inp')\n",
    "    \n",
    "    if(res==32): # no remeshing needed, copy directly\n",
    "        temperatureField = temperatureField32\n",
    "        pressureField = pressureField32\n",
    "        velocityField = velocityField32\n",
    "    else: # remeshing needed\n",
    "        temperatureField.data[:] = temperatureField32.evaluate(linearMesh)\n",
    "        pressureField.data[:] = pressureField32.evaluate(constantMesh)\n",
    "        velocityField.data[:] = velocityField32.evaluate(linearMesh)\n",
    "    # load summary statistics into arrays\n",
    "    data = np.loadtxt(inputPath+'ArrSumary.txt', unpack=True )\n",
    "    timeVal, vrmsVal, nuVal = data[0].tolist(), data[1].tolist(), data[2].tolist()\n",
    "    "
   ]
  },
  {
   "cell_type": "markdown",
   "metadata": {},
   "source": [
    "**If _not_ loading from file: Initialise data**\n",
    "\n",
    "Start with a perturbed temperature gradient to speed up the convergence to the benchmark steady state solution."
   ]
  },
  {
   "cell_type": "code",
   "execution_count": 7,
   "metadata": {
    "collapsed": false
   },
   "outputs": [],
   "source": [
    "if(LoadFromFile == False):\n",
    "    velocityField.data[:] = [0.,0.]\n",
    "    pressureField.data[:] = 0.\n",
    "    temperatureField.data[:] = 0.\n",
    "    pertStrength = 0.1\n",
    "    deltaTemp = tempMax - tempMin\n",
    "    for index, coord in enumerate(temperatureMesh.data):\n",
    "        pertCoeff = math.cos( math.pi * coord[0]/boxLength ) * math.sin( math.pi * coord[1]/boxLength )\n",
    "        temperatureField.data[index] = tempMin + deltaTemp*(boxHeight - coord[1]) + pertStrength * pertCoeff\n",
    "        temperatureField.data[index] = max(tempMin, min(tempMax, temperatureField.data[index]))\n",
    "# initialise summary statistics arrays\n",
    "    timeVal = []\n",
    "    vrmsVal = []\n",
    "    nuVal = []"
   ]
  },
  {
   "cell_type": "markdown",
   "metadata": {},
   "source": [
    "**Boundary conditions**\n",
    "\n",
    "This step is to ensure that the temperature boundary conditions are satisfied, as the initial conditions above may have been set to different values on the boundaries."
   ]
  },
  {
   "cell_type": "code",
   "execution_count": 8,
   "metadata": {
    "collapsed": false
   },
   "outputs": [],
   "source": [
    "for index in temperatureMesh.specialSets[\"MinJ_VertexSet\"]:\n",
    "    temperatureField.data[index] = tempMax\n",
    "for index in temperatureMesh.specialSets[\"MaxJ_VertexSet\"]:\n",
    "    temperatureField.data[index] = tempMin"
   ]
  },
  {
   "cell_type": "markdown",
   "metadata": {},
   "source": [
    "**Conditions on the boundaries**\n",
    "\n",
    "Construct sets for the both horizontal and vertical walls. Combine the sets of vertices to make the I (left and right side walls) and J (top and bottom walls) sets. Note that both sets contain the corners of the box."
   ]
  },
  {
   "cell_type": "code",
   "execution_count": 9,
   "metadata": {
    "collapsed": false
   },
   "outputs": [],
   "source": [
    "iWalls = elementMesh.specialSets[\"MinI_VertexSet\"] + elementMesh.specialSets[\"MaxI_VertexSet\"]\n",
    "jWalls = elementMesh.specialSets[\"MinJ_VertexSet\"] + elementMesh.specialSets[\"MaxJ_VertexSet\"]\n",
    "allWalls = iWalls + jWalls\n",
    "\n",
    "freeslipBC = uw.conditions.DirichletCondition( variable      = velocityField, \n",
    "                                               nodeIndexSets = (allWalls,jWalls) )\n",
    "tempBC     = uw.conditions.DirichletCondition( variable      = temperatureField, \n",
    "                                               nodeIndexSets = (jWalls,) )"
   ]
  },
  {
   "cell_type": "markdown",
   "metadata": {},
   "source": [
    "**Plot initial conditions**\n",
    "\n",
    "Automatically scale the size of the vector arrows for the velocity field maximum."
   ]
  },
  {
   "cell_type": "code",
   "execution_count": 10,
   "metadata": {
    "collapsed": false,
    "scrolled": false
   },
   "outputs": [
    {
     "data": {
      "image/png": "[encoded data removed]",
      "text/plain": [
       "<IPython.core.display.Image object>"
      ]
     },
     "execution_count": 10,
     "metadata": {},
     "output_type": "execute_result"
    }
   ],
   "source": [
    "velmax = np.amax(velocityField.data[:])\n",
    "if(velmax==0.0): velmax = 1.0\n",
    "figtemp = plt.Figure()\n",
    "tempminmax = fn.view.min_max(temperatureField)\n",
    "figtemp.Surface(tempminmax, temperatureMesh, colours=\"blue white red\")\n",
    "figtemp.VectorArrows(velocityField, temperatureMesh, scaling=0.1/velmax, arrowHead=0.2 )\n",
    "figtemp.show()"
   ]
  },
  {
   "cell_type": "markdown",
   "metadata": {},
   "source": [
    "Set up material parameters and functions\n",
    "-----"
   ]
  },
  {
   "cell_type": "code",
   "execution_count": 11,
   "metadata": {
    "collapsed": false
   },
   "outputs": [],
   "source": [
    "# Rheology\n",
    "eta0 = 1.0e-6\n",
    "activationEnergy = 27.63102112\n",
    "Ra = 1.e6\n",
    "viscosityFn = eta0 * fn.math.exp( activationEnergy / (temperatureField+1.) )\n",
    "\n",
    "densityFn = Ra*temperatureField\n",
    "# Define our vertical unit vector using a python tuple (this will be automatically converted to a function)\n",
    "z_hat = ( 0.0, 1.0 )\n",
    "# Now create a buoyancy force fn using the density.\n",
    "buoyancyFn = z_hat*densityFn"
   ]
  },
  {
   "cell_type": "markdown",
   "metadata": {},
   "source": [
    "**Plot the viscosity**\n"
   ]
  },
  {
   "cell_type": "code",
   "execution_count": 12,
   "metadata": {
    "collapsed": false
   },
   "outputs": [
    {
     "data": {
      "image/png": "[encoded data removed]",
      "text/plain": [
       "<IPython.core.display.Image object>"
      ]
     },
     "execution_count": 12,
     "metadata": {},
     "output_type": "execute_result"
    }
   ],
   "source": [
    "figEta = plt.Figure()\n",
    "figEta.Surface(viscosityFn, temperatureMesh)\n",
    "figEta.show()"
   ]
  },
  {
   "cell_type": "markdown",
   "metadata": {},
   "source": [
    "System setup\n",
    "-----\n",
    "\n",
    "**Setup a Stokes system: advanced solver settings**\n",
    "\n",
    "Set up parameters for the Stokes system solver. For PIC style integration, we include a swarm for the a PIC integration swarm is generated within. For gauss integration, simple do not include the swarm. Nearest neighbour is used where required."
   ]
  },
  {
   "cell_type": "code",
   "execution_count": 13,
   "metadata": {
    "collapsed": false
   },
   "outputs": [],
   "source": [
    "stokesPIC = uw.systems.Stokes(velocityField=velocityField, \n",
    "                              pressureField=pressureField,\n",
    "                              conditions=[freeslipBC,],\n",
    "                              viscosityFn=fn.exception.SafeMaths(viscosityFn), \n",
    "                              bodyForceFn=buoyancyFn )\n",
    "\n",
    "solver=uw.systems.Solver(stokesPIC)\n",
    "\n",
    "solver.options.main.Q22_pc_type='uw'  # also try 'gtkg', 'gkgdiag' and 'uwscale'\n",
    "solver.options.main.penalty = 1.0\n",
    "solver.options.A11.ksp_rtol=1e-4\n",
    "solver.options.scr.ksp_rtol=1e-3\n",
    "solver.options.scr.use_previous_guess = True\n",
    "solver.options.scr.ksp_set_min_it_converge = 1\n",
    "solver.options.mg.levels = 5\n",
    "solver.options.mg.mg_levels_ksp_type = 'chebyshev'\n",
    "solver.options.mg_accel.mg_accelerating_smoothing = True\n",
    "solver.options.mg_accel.mg_accelerating_smoothing_view = False\n",
    "solver.options.mg_accel.mg_smooths_to_start = 1\n",
    "\n",
    "stokesPIC.solve = solver.solve"
   ]
  },
  {
   "cell_type": "markdown",
   "metadata": {},
   "source": [
    "We can check what settings and defaults are currently set"
   ]
  },
  {
   "cell_type": "code",
   "execution_count": 14,
   "metadata": {
    "collapsed": false
   },
   "outputs": [
    {
     "name": "stdout",
     "output_type": "stream",
     "text": [
      "## Solver Config\n",
      "('remove_constant_pressure_null_space', False)\n",
      "('ksp_k2_type', 'GMG')\n",
      "('change_backsolve', False)\n",
      "('penalty', 1.0)\n",
      "('pc_type', 'none')\n",
      "('force_correction', True)\n",
      "('k_scale_only', True)\n",
      "('Q22_pc_type', 'uw')\n",
      "('change_A11rhspresolve', False)\n",
      "('ksp_type', 'bsscr')\n",
      "('rescale_equations', False)\n",
      "('restore_K', True)\n",
      "None\n",
      "### A11 Config\n",
      "('ksp_type', 'fgmres')\n",
      "('ksp_rtol', 0.0001)\n",
      "None\n"
     ]
    }
   ],
   "source": [
    "print \"## Solver Config\"\n",
    "print solver.options.main.list()\n",
    "print \"### A11 Config\"\n",
    "print solver.options.A11.list()"
   ]
  },
  {
   "cell_type": "markdown",
   "metadata": {},
   "source": [
    "**Create an advective diffusive system**\n"
   ]
  },
  {
   "cell_type": "code",
   "execution_count": 15,
   "metadata": {
    "collapsed": false
   },
   "outputs": [],
   "source": [
    "advDiff = uw.systems.AdvectionDiffusion( temperatureField, velocityField, diffusivity=1., conditions=[tempBC,] )"
   ]
  },
  {
   "cell_type": "markdown",
   "metadata": {},
   "source": [
    "Analysis tools\n",
    "-----\n",
    "\n",
    "**RMS velocity**\n",
    "\n",
    "Set up integrals used to calculate the RMS velocity."
   ]
  },
  {
   "cell_type": "code",
   "execution_count": 16,
   "metadata": {
    "collapsed": false
   },
   "outputs": [],
   "source": [
    "v2sum_integral  = uw.utils.Integral( mesh=velocityMesh, fn=fn.math.dot(velocityField, velocityField) ) \n",
    "volume_integral = uw.utils.Integral( mesh=velocityMesh, fn=1. )"
   ]
  },
  {
   "cell_type": "markdown",
   "metadata": {},
   "source": [
    "**Nusselt number**\n"
   ]
  },
  {
   "cell_type": "code",
   "execution_count": 17,
   "metadata": {
    "collapsed": true
   },
   "outputs": [],
   "source": [
    "def FindNusseltNumber(temperatureField, linearMesh, xmax, zmax):\n",
    "    tempgradField = temperatureField.gradientFn\n",
    "    vertGradField = tempgradField[1]\n",
    "    BottomInt = 0.0\n",
    "    GradValues = temperatureField.gradientFn[1].evaluate(temperatureMesh.specialSets[\"MaxJ_VertexSet\"])\n",
    "    TopInt = sum(GradValues)\n",
    "    for index in temperatureMesh.specialSets[\"MinJ_VertexSet\"]:\n",
    "        BottomInt += temperatureField.data[index]\n",
    "    Nu = -zmax*TopInt/BottomInt\n",
    "    return Nu[0]"
   ]
  },
  {
   "cell_type": "markdown",
   "metadata": {},
   "source": [
    "Main simulation loop\n",
    "-----\n",
    "\n",
    "The main time stepping loop begins here. Before this the time and timestep are initialised to zero and the output statistics arrays are set up. Since this may be a continuation of the saved data with associated summary statistics then check if there are existing time values first. If there is existing data then add new simulation statistics after the existing data."
   ]
  },
  {
   "cell_type": "code",
   "execution_count": 18,
   "metadata": {
    "collapsed": false
   },
   "outputs": [
    {
     "name": "stdout",
     "output_type": "stream",
     "text": [
      "Begining at t =  0.0388546520796  after having completed  1000  steps\n"
     ]
    }
   ],
   "source": [
    "steps_prev = len(timeVal)\n",
    "steps = 0\n",
    "steps_end = 100\n",
    "step_out = 25\n",
    "\n",
    "# Set time to zero, unless we are loading from file.\n",
    "try:\n",
    "    time_start = timeVal[-1]\n",
    "except:\n",
    "    time_start = 0.0\n",
    "print 'Begining at t = ',time_start,' after having completed ',steps_prev,' steps'\n",
    "\n",
    "simtime = time_start"
   ]
  },
  {
   "cell_type": "code",
   "execution_count": 19,
   "metadata": {
    "collapsed": false
   },
   "outputs": [
    {
     "name": "stdout",
     "output_type": "stream",
     "text": [
      "steps = 0025; time = 3.955904e-02; vrms =  36.00; nusselt = 1.0500; CPU = 11.6s\n",
      "steps = 0050; time = 4.028867e-02; vrms =  36.27; nusselt = 1.0527; CPU = 23.3s\n",
      "steps = 0075; time = 4.101470e-02; vrms =  36.52; nusselt = 1.0555; CPU = 34.9s\n",
      "steps = 0100; time = 4.173750e-02; vrms =  36.77; nusselt = 1.0586; CPU = 46.5s\n",
      "steps = 0100; time = 4.173750e-02; vrms =  36.77; nusselt = 1.0586; CPU = 46.7s\n"
     ]
    }
   ],
   "source": [
    "# Setup clock to calculate simulation CPU time.\n",
    "start = time.clock()\n",
    "\n",
    "# Perform steps_end steps.\n",
    "rms_v, nu_no = 0.0, 0.0\n",
    "while steps<steps_end:\n",
    "    # Get solution for initial configuration.\n",
    "    stokesPIC.solve()\n",
    "    # Retrieve the maximum possible timestep for the AD system.\n",
    "    dt = advDiff.get_max_dt()\n",
    "    if steps == 0:\n",
    "        dt = 0.\n",
    "    # Advect using this timestep size.\n",
    "    advDiff.integrate(dt)\n",
    "    \n",
    "    # Calculate the RMS velocity.\n",
    "    rms_v = math.sqrt(v2sum_integral.evaluate()[0]/volume_integral.evaluate()[0])\n",
    "    nu_no = FindNusseltNumber(temperatureField, temperatureMesh, boxLength, boxHeight)\n",
    "    \n",
    "    # Increment time and store results.\n",
    "    simtime += dt\n",
    "    steps += 1\n",
    "    vrmsVal.append( rms_v )\n",
    "    timeVal.append( simtime )\n",
    "    nuVal.append(nu_no)\n",
    "                   \n",
    "    if steps ==0 or steps % step_out == 0:\n",
    "        print \"steps = {:04d}; time = {:.6e}; vrms = {:6.2f}; nusselt = {:6.4f}; CPU = {:4.1f}s\".format(\n",
    "               steps, simtime, rms_v, nu_no, time.clock()-start)\n",
    "        \n",
    "v2sum = v2sum_integral.evaluate()\n",
    "rms_v = rms_v = math.sqrt(v2sum_integral.evaluate()[0]/volume_integral.evaluate()[0])\n",
    "# nu_no = -surface_Tgradient.integrate()[0] / basalT.integrate()[0]\n",
    "nu_no = FindNusseltNumber(temperatureField, temperatureMesh, boxLength, boxHeight)\n",
    "\n",
    "print \"steps = {:04d}; time = {:.6e}; vrms = {:6.2f}; nusselt = {:6.4f}; CPU = {:4.1f}s\".format(\n",
    "               steps, simtime, rms_v, nu_no, time.clock()-start)\n"
   ]
  },
  {
   "cell_type": "markdown",
   "metadata": {},
   "source": [
    "Post simulation analysis\n",
    "-----\n",
    "\n",
    "**Check CPU timing**\n",
    "\n",
    "Output timing for calculation per simulation time step"
   ]
  },
  {
   "cell_type": "code",
   "execution_count": 20,
   "metadata": {
    "collapsed": false
   },
   "outputs": [
    {
     "name": "stdout",
     "output_type": "stream",
     "text": [
      "Average time per timestep =  0.46655534  seconds over  100  steps\n"
     ]
    }
   ],
   "source": [
    "if(steps!=steps_prev):\n",
    "    avtime = (time.clock() - start)/float(steps)\n",
    "else:\n",
    "    avtime = 0.0\n",
    "\n",
    "print \"Average time per timestep = \",avtime,\" seconds over \", steps, \" steps\""
   ]
  },
  {
   "cell_type": "markdown",
   "metadata": {},
   "source": [
    "Pre-run model took about $1.74$ seconds per timestep and was run for $13000$ timesteps for $Ra = 10^6$ for a $64\\times64$ grid."
   ]
  },
  {
   "cell_type": "markdown",
   "metadata": {},
   "source": [
    "**Save data to files**\n",
    "\n",
    "Save system summary data; $v_{rms}$ and the Nusselt number against time.\n"
   ]
  },
  {
   "cell_type": "code",
   "execution_count": 21,
   "metadata": {
    "collapsed": false
   },
   "outputs": [],
   "source": [
    "np.savetxt( outputPath+'ArrSumary.out', np.c_[timeVal, vrmsVal, nuVal], header=\"Time, VRMS, Nusselt\" )"
   ]
  },
  {
   "cell_type": "markdown",
   "metadata": {},
   "source": [
    "Save final temperature, velocity and pressure fields."
   ]
  },
  {
   "cell_type": "code",
   "execution_count": 22,
   "metadata": {
    "collapsed": false
   },
   "outputs": [],
   "source": [
    "temperatureField.save(outputPath+'Arrhenius_T.out')\n",
    "velocityField.save(outputPath+'Arrhenius_v.out')\n",
    "pressureField.save(outputPath+'Arrhenius_P.out')"
   ]
  },
  {
   "cell_type": "markdown",
   "metadata": {},
   "source": [
    "**Plot temperature field with velocity vectors overlaid**"
   ]
  },
  {
   "cell_type": "code",
   "execution_count": 23,
   "metadata": {
    "collapsed": false,
    "scrolled": true
   },
   "outputs": [
    {
     "data": {
      "image/png": "[encoded data removed]",
      "text/plain": [
       "<IPython.core.display.Image object>"
      ]
     },
     "execution_count": 23,
     "metadata": {},
     "output_type": "execute_result"
    }
   ],
   "source": [
    "velmax = np.amax(velocityField.data[:])\n",
    "figVT = plt.Figure()\n",
    "figVT.Surface(temperatureField, elementMesh, colours=\"blue white red\")\n",
    "figVT.VectorArrows(velocityField, elementMesh, scaling=0.1/velmax, arrowHead=0.2 )\n",
    "figVT.show()"
   ]
  },
  {
   "cell_type": "markdown",
   "metadata": {},
   "source": [
    "**Plot system summary information**\n",
    "\n",
    "If the initial conditions were loaded up from a data file then these arrays will contain the saved data as well as results from the simulation just run."
   ]
  },
  {
   "cell_type": "code",
   "execution_count": 24,
   "metadata": {
    "collapsed": false
   },
   "outputs": [
    {
     "data": {
      "image/png": "[encoded data removed]",
      "text/plain": [
       "<matplotlib.figure.Figure at 0x111ebf050>"
      ]
     },
     "metadata": {},
     "output_type": "display_data"
    }
   ],
   "source": [
    "pylab.rcParams[ 'figure.figsize'] = 14, 8\n",
    "pyplot.figure(1)\n",
    "pyplot.subplot(211)\n",
    "pyplot.plot(timeVal, nuVal)\n",
    "pyplot.ylabel('Nusselt Number')\n",
    "\n",
    "pyplot.subplot(212)\n",
    "pyplot.plot(timeVal,vrmsVal)\n",
    "pyplot.xlabel('Time')\n",
    "pyplot.ylabel('Vrms')\n",
    "pyplot.show()"
   ]
  },
  {
   "cell_type": "code",
   "execution_count": null,
   "metadata": {
    "collapsed": true
   },
   "outputs": [],
   "source": []
  }
 ],
 "metadata": {
  "kernelspec": {
   "display_name": "Python 2",
   "language": "python",
   "name": "python2"
  },
  "language_info": {
   "codemirror_mode": {
    "name": "ipython",
    "version": 2
   },
   "file_extension": ".py",
   "mimetype": "text/x-python",
   "name": "python",
   "nbconvert_exporter": "python",
   "pygments_lexer": "ipython2",
   "version": "2.7.10"
  }
 },
 "nbformat": 4,
 "nbformat_minor": 0
}
