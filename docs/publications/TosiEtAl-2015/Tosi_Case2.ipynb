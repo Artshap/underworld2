{
 "cells": [
  {
   "cell_type": "markdown",
   "metadata": {
    "collapsed": true
   },
   "source": [
    "Viscoplastic thermal convection in a 2-D square box: Tosi et al. 2015\n",
    "=====\n",
    "\n",
    "This series of notebooks generates benchmark models from the Tosi et al. (2015) in Underworld2. The Underworld2 results are then directly compared to the results from Table 2 of Tosi et al. (2015) the paper for each case. The notebooks are broken into a general notebook for reproducing the models from scratch and 5 post-analysis notebooks which look at the results Underworld2 gives for each case after running to equilibrium. \n",
    "\n",
    "Case 2: Mobile lid\n",
    "-------\n",
    "\n",
    "This case has a temperature and strain rate-dependent nonlinear rheology which results in a stagnant lid mode of convection. \n",
    "The parameters used for case 4 are: $Ra = 10^2$, $\\Delta \\eta_T = 10^5$, $\\eta^* = 10^{-3}$, $\\Delta \\eta_z = 1$ and $\\sigma_\\gamma = 1$.\n",
    "\n",
    "\n",
    "References\n",
    "-----\n",
    "\n",
    "1. Tosi, Nicola and Stein, Claudia and Noack, Lena and H&uuml;ttig, Christian and Maierov&aacute;, Petra and Samuel, Henri and Davies, DR and Wilson, CR and Kramer, SC and Thieulot, Cedric and others. 2015. _A community benchmark for viscoplastic thermal convection in a 2-D square box_.\n",
    "\n"
   ]
  },
  {
   "cell_type": "markdown",
   "metadata": {},
   "source": [
    "Load python functions needed for underworld. Some additional python functions from os, math and numpy used later on."
   ]
  },
  {
   "cell_type": "code",
   "execution_count": 1,
   "metadata": {
    "collapsed": false
   },
   "outputs": [],
   "source": [
    "%matplotlib inline\n",
    "import underworld as uw\n",
    "import math\n",
    "from underworld import function as fn\n",
    "import glucifer\n",
    "import matplotlib.pyplot as pyplot\n",
    "import matplotlib.pylab as pylab\n",
    "import time\n",
    "import numpy as np\n",
    "import os"
   ]
  },
  {
   "cell_type": "markdown",
   "metadata": {},
   "source": [
    "Set physical constants and parameters, including the Rayleigh number (*Ra*) and viscosity constants ($\\eta^*$ and $\\eta_T$) which are common to all Tosi et al cases."
   ]
  },
  {
   "cell_type": "code",
   "execution_count": 2,
   "metadata": {
    "collapsed": false
   },
   "outputs": [],
   "source": [
    "RA  = 1e2        # Rayleigh number\n",
    "ETA_T = 1e5      # common viscosity constant\n",
    "TS  = 0          # surface temperature\n",
    "TB  = 1          # bottom boundary temperature (melting point)\n",
    "ETA0 = 1e-3      # viscosity constant eta^* in Tosi et al\n",
    "TMAX = 3.0\n",
    "IMAX = 1000"
   ]
  },
  {
   "cell_type": "markdown",
   "metadata": {},
   "source": [
    "Select case 2 of Tosi et al (2015) and set constants as required."
   ]
  },
  {
   "cell_type": "code",
   "execution_count": 3,
   "metadata": {
    "collapsed": false
   },
   "outputs": [],
   "source": [
    "CASE = 2\n",
    "ETA_Y = 1.\n",
    "YSTRESS = 1."
   ]
  },
  {
   "cell_type": "markdown",
   "metadata": {},
   "source": [
    "Set input and output file directories"
   ]
  },
  {
   "cell_type": "code",
   "execution_count": 4,
   "metadata": {
    "collapsed": false
   },
   "outputs": [],
   "source": [
    "# input file directory\n",
    "inputPath  = 'TosiInput/case' + str(CASE) + \"/\"\n",
    "# output files\n",
    "outputPath = 'TosiOutput/'\n",
    "filePath   = outputPath+'files'\n",
    "# make directories if they don't exist\n",
    "if not os.path.isdir(outputPath):\n",
    "    os.makedirs(outputPath)\n",
    "if not os.path.isdir(filePath):\n",
    "    os.makedirs(filePath)"
   ]
  },
  {
   "cell_type": "markdown",
   "metadata": {},
   "source": [
    "Create mesh and finite element variables\n",
    "------\n",
    "\n",
    "Set up mesh and field variables that are solved on the mesh."
   ]
  },
  {
   "cell_type": "code",
   "execution_count": 5,
   "metadata": {
    "collapsed": false
   },
   "outputs": [],
   "source": [
    "res = 128\n",
    "mesh = uw.mesh.FeMesh_Cartesian( elementType = (\"Q1/dQ0\"), \n",
    "                                 elementRes  = (res, res), \n",
    "                                 minCoord    = (0., 0.), \n",
    "                                 maxCoord    = (1., 1.))\n",
    "\n",
    "velocityField       = uw.mesh.MeshVariable( mesh=mesh,         nodeDofCount=2 )\n",
    "pressureField       = uw.mesh.MeshVariable( mesh=mesh.subMesh, nodeDofCount=1 )\n",
    "temperatureField    = uw.mesh.MeshVariable( mesh=mesh,         nodeDofCount=1 )\n",
    "temperatureDotField = uw.mesh.MeshVariable( mesh=mesh,         nodeDofCount=1 )"
   ]
  },
  {
   "cell_type": "markdown",
   "metadata": {},
   "source": [
    "Set initial conditions and boundary conditions\n",
    "----------\n",
    "\n",
    "Load all variable fields and summary data with data from previously run cases."
   ]
  },
  {
   "cell_type": "code",
   "execution_count": 6,
   "metadata": {
    "collapsed": false
   },
   "outputs": [],
   "source": [
    "# load fields\n",
    "temperatureField.load(    inputPath+'temperatureField.h5' )\n",
    "temperatureDotField.load( inputPath+'temperatureDotField.h5' )\n",
    "pressureField.load(       inputPath+'pressureField.h5')\n",
    "velocityField.load(       inputPath+'velocityField.h5')\n",
    "\n",
    "# load past iterations of summary data\n",
    "data = np.loadtxt( inputPath+'Summary.txt', unpack=True )\n",
    "stepsVal = data[0].tolist()\n",
    "timeVal = data[1].tolist()\n",
    "viscdisVal = data[2].tolist()\n",
    "nu0Val = data[3].tolist()\n",
    "nu1Val = data[4].tolist()\n",
    "Avg_tempVal = data[5].tolist()\n",
    "vrmsVal = data[6].tolist()\n",
    "Rms_surfVal = data[7].tolist()\n",
    "Max_vx_surfVal = data[8].tolist()\n",
    "GravworkVal = data[9].tolist()\n",
    "etamaxVal = data[10].tolist()\n",
    "etaminVal = data[11].tolist() "
   ]
  },
  {
   "cell_type": "markdown",
   "metadata": {},
   "source": [
    "**Conditions on the boundaries**"
   ]
  },
  {
   "cell_type": "code",
   "execution_count": 7,
   "metadata": {
    "collapsed": true
   },
   "outputs": [],
   "source": [
    "iWalls = mesh.specialSets[\"MinI_VertexSet\"] + mesh.specialSets[\"MaxI_VertexSet\"]\n",
    "jWalls = mesh.specialSets[\"MinJ_VertexSet\"] + mesh.specialSets[\"MaxJ_VertexSet\"]\n",
    "freeslipBC = uw.conditions.DirichletCondition( variable      = velocityField, \n",
    "                                               indexSetsPerDof = (iWalls, jWalls) )\n",
    "tempBC     = uw.conditions.DirichletCondition( variable      = temperatureField, \n",
    "                                               indexSetsPerDof = (jWalls,) )"
   ]
  },
  {
   "cell_type": "markdown",
   "metadata": {
    "collapsed": false
   },
   "source": [
    "Set up material parameters and functions\n",
    "-----\n"
   ]
  },
  {
   "cell_type": "markdown",
   "metadata": {},
   "source": [
    "**Viscosity field**\n",
    "\n",
    "The viscosity is a function of temperature ($T$), the vertical coordinate ($z$) and the strain rate ($\\dot{\\epsilon}$) and is given by\n",
    "\n",
    "$$\n",
    "    \\eta(T, z, \\dot{\\epsilon}) = 2 \\left( \\frac{1}{\\eta_{lin}(T,z)} + \\frac{1}{\\eta_{plast}(\\dot{\\epsilon})} \\right)^{-1}\n",
    "$$\n",
    "\n",
    "where the linear part is\n",
    "\n",
    "$$\n",
    "    \\eta_{lin}(T, z) = \\exp(-\\gamma_T T + \\gamma_z z)\n",
    "$$\n",
    "\n",
    "with $\\gamma_T = \\ln(\\Delta \\eta_T)$ and $\\gamma_z = \\ln(\\Delta \\eta_z)$. The nonlinear part is\n",
    "\n",
    "$$\n",
    "    \\eta_{plast}(\\dot{\\epsilon}) = \\eta^* + \\frac{\\sigma_{\\gamma}}{\\sqrt{\\dot{\\epsilon} : \\dot{\\epsilon}}}\n",
    "$$\n",
    "\n",
    "where $\\eta^*$ is the effective viscosity at high stresses and $\\sigma_{\\gamma}$ is the yield stress. The values of $\\Delta \\eta_T$, $\\Delta \\eta_z$, $\\eta^*$ and $\\sigma_{\\gamma}$ are assumed to be constant with values dependent on the particular case."
   ]
  },
  {
   "cell_type": "markdown",
   "metadata": {},
   "source": [
    "**Create variables required for plasticity calculations**"
   ]
  },
  {
   "cell_type": "code",
   "execution_count": 8,
   "metadata": {
    "collapsed": false
   },
   "outputs": [],
   "source": [
    "secinv = fn.tensor.second_invariant( fn.tensor.symmetric( velocityField.fn_gradient ) )\n",
    "coordinate = fn.coord()"
   ]
  },
  {
   "cell_type": "markdown",
   "metadata": {},
   "source": [
    "**Setup viscosity functions**\n",
    "\n",
    "Remember to use floats everywhere when setting up functions"
   ]
  },
  {
   "cell_type": "code",
   "execution_count": 9,
   "metadata": {
    "collapsed": false
   },
   "outputs": [],
   "source": [
    "viscosityl1 = fn.math.exp(math.log(ETA_T)*-1.*temperatureField)\n",
    "viscosityl2 = fn.math.exp((math.log(ETA_T)*-1.*temperatureField) + (1.-coordinate[1])*math.log(ETA_Y))\n",
    "\n",
    "#Von Mises effective viscosity\n",
    "viscosityp = ETA0 + YSTRESS/(secinv/math.sqrt(0.5)) #extra factor to account for underworld second invariant form\n",
    "\n",
    "if CASE == 1:\n",
    "    fn_viscosity = viscosityl1\n",
    "elif CASE == 2:\n",
    "    fn_viscosity = 2./(1./viscosityl1 + 1./viscosityp)\n",
    "elif CASE == 3:\n",
    "    fn_viscosity = viscosityl2\n",
    "else:\n",
    "    fn_viscosity = 2./(1./viscosityl2 + 1./viscosityp)"
   ]
  },
  {
   "cell_type": "markdown",
   "metadata": {},
   "source": [
    "**Add functions for density and buoyancy**"
   ]
  },
  {
   "cell_type": "code",
   "execution_count": 10,
   "metadata": {
    "collapsed": true
   },
   "outputs": [],
   "source": [
    "densityFn = RA*temperatureField\n",
    "\n",
    "# define our vertical unit vector using a python tuple (this will be automatically converted to a function)\n",
    "z_hat = ( 0.0, 1.0 )\n",
    "\n",
    "# now create a buoyancy force vector using the density (FEvariable) and the vertical unit vector. \n",
    "buoyancyFn = densityFn * z_hat"
   ]
  },
  {
   "cell_type": "markdown",
   "metadata": {},
   "source": [
    "Build the Stokes system and solvers\n",
    "------\n",
    "\n",
    "Setup the Stokes system with linear or nonlinear visocity viscosity depending on case."
   ]
  },
  {
   "cell_type": "code",
   "execution_count": 11,
   "metadata": {
    "collapsed": false
   },
   "outputs": [],
   "source": [
    "stokesPIC = uw.systems.Stokes(velocityField=velocityField, \n",
    "                              pressureField=pressureField,\n",
    "                              conditions=[freeslipBC,],\n",
    "                              fn_viscosity=fn.exception.SafeMaths(fn_viscosity), \n",
    "                              fn_bodyforce=buoyancyFn)"
   ]
  },
  {
   "cell_type": "markdown",
   "metadata": {},
   "source": [
    "Setup solver for the Stokes system of equations"
   ]
  },
  {
   "cell_type": "code",
   "execution_count": 12,
   "metadata": {
    "collapsed": false
   },
   "outputs": [],
   "source": [
    "solver = uw.systems.Solver( stokesPIC )"
   ]
  },
  {
   "cell_type": "markdown",
   "metadata": {},
   "source": [
    "We do one solve for initial pressure and velocity with linear viscosity to get the initial strain rate invariant. This solve step also calculates a 'guess' of the the velocity field based on the linear system, which is used later in the non-linear solver."
   ]
  },
  {
   "cell_type": "code",
   "execution_count": 13,
   "metadata": {
    "collapsed": false
   },
   "outputs": [],
   "source": [
    "solver.solve( nonLinearIterate=False )"
   ]
  },
  {
   "cell_type": "markdown",
   "metadata": {},
   "source": [
    "Create an advective-diffusive system\n",
    "-----\n",
    "\n",
    "Setup the system in underworld by flagging the temperature and velocity field variables."
   ]
  },
  {
   "cell_type": "code",
   "execution_count": 14,
   "metadata": {
    "collapsed": false
   },
   "outputs": [],
   "source": [
    "advDiff = uw.systems.AdvectionDiffusion( temperatureField, temperatureDotField, velocityField,\n",
    "                                         fn_diffusivity=1., conditions=[tempBC,] )"
   ]
  },
  {
   "cell_type": "markdown",
   "metadata": {},
   "source": [
    "Metrics for benchmark\n",
    "-----\n",
    "\n",
    "Define diagnostic functions to be used in the time loop and/or measured after reaching steady state:\n",
    "\n",
    "* Average temperature\n",
    "$$  \\langle T \\rangle  = \\int^1_0 \\int^1_0 T \\, dxdy $$\n",
    "* Top and bottom Nusselt numbers\n",
    "$$Nu_{top/bot} = - \\left. \\int^1_0 \\frac{\\partial T}{\\partial y} \\right|_{y=1/y=0} \\, dx$$\n",
    "* RMS velocity over the whole domain, surface and max velocity at surface\n",
    "$$u_{RMS} = \\left( \\int_0^1 \\int_0^1 \\left( u_x^2 + u_y^2 \\right) dx dy \\right)^{1/2}$$\n",
    "$$u_{RMS}^{surf} = \\left( \\left. \\int_0^1 u_x^2\\right|_{y=1} dx \\right)^{1/2}$$\n",
    "$$u_{max}^{surf} = \\left. \\max(u_x)\\right|_{y=1}$$\n",
    "* max and min viscosity over the whole domain\n",
    "$$\\eta_{max/min} = \\max / \\min \\left( \\eta\\left(x,y\\right) \\right)$$\n",
    "* average rate of work done against gravity\n",
    "$$\\langle W \\rangle = \\int^1_0 \\int^1_0 T u_y \\, dx dy$$\n",
    "* and the average rate of viscous dissipation\n",
    "$$\\langle \\Phi \\rangle = \\int^1_0 \\int^1_0 \\tau_{ij} \\dot \\epsilon_{ij} \\, dx dy$$\n",
    "\n",
    "* In steady state, if thermal energy is accurately conserved, the difference between $\\langle W \\rangle$ and $\\langle \\Phi \\rangle / Ra$ must vanish, so also reported is the percentage error: \n",
    "\n",
    "$$ \\delta = \\frac{\\lvert \\langle W \\rangle - \\frac{\\langle \\Phi \\rangle}{Ra} \\rvert}{max \\left(  \\langle W \\rangle,  \\frac{\\langle \\Phi \\rangle}{Ra}\\right)} \\times 100% $$"
   ]
  },
  {
   "cell_type": "markdown",
   "metadata": {},
   "source": [
    "**Setup volume integrals used in metric functions**"
   ]
  },
  {
   "cell_type": "code",
   "execution_count": 15,
   "metadata": {
    "collapsed": false
   },
   "outputs": [],
   "source": [
    "# temperature\n",
    "tempint = uw.utils.Integral( temperatureField, mesh )\n",
    "# area\n",
    "areaint = uw.utils.Integral( 1.,               mesh )\n",
    "# velocity squared\n",
    "v2int   = uw.utils.Integral(fn.math.dot(velocityField,velocityField), mesh)\n",
    "# work done\n",
    "dwint   = uw.utils.Integral(temperatureField*velocityField[1], mesh)\n",
    "# viscous dissipation\n",
    "sinner = fn.math.dot(secinv,secinv)\n",
    "vdint = uw.utils.Integral((4.*fn_viscosity*sinner), mesh)"
   ]
  },
  {
   "cell_type": "markdown",
   "metadata": {},
   "source": [
    "**Setup surface integrals used in metric functions**"
   ]
  },
  {
   "cell_type": "code",
   "execution_count": 16,
   "metadata": {
    "collapsed": false
   },
   "outputs": [],
   "source": [
    "rmsSurfInt = uw.utils.Integral( fn=velocityField[0]*velocityField[0], mesh=mesh, integrationType='Surface', \n",
    "                          surfaceIndexSet=mesh.specialSets[\"MaxJ_VertexSet\"])\n",
    "nuTop      = uw.utils.Integral( fn=temperatureField.fn_gradient[1], mesh=mesh, integrationType='Surface', \n",
    "                          surfaceIndexSet=mesh.specialSets[\"MaxJ_VertexSet\"])\n",
    "nuBottom   = uw.utils.Integral( fn=temperatureField.fn_gradient[1], mesh=mesh, integrationType='Surface', \n",
    "                          surfaceIndexSet=mesh.specialSets[\"MinJ_VertexSet\"])"
   ]
  },
  {
   "cell_type": "markdown",
   "metadata": {},
   "source": [
    "**Define diagnostic functions using integrals**"
   ]
  },
  {
   "cell_type": "code",
   "execution_count": 17,
   "metadata": {
    "collapsed": false
   },
   "outputs": [],
   "source": [
    "def avg_temp():\n",
    "    return tempint.evaluate()[0]/areaint.evaluate()[0]\n",
    "\n",
    "def nusseltTB(temp_field, mesh):\n",
    "    return -nuTop.evaluate()[0], -nuBottom.evaluate()[0]\n",
    "\n",
    "def rms():\n",
    "    return math.sqrt(v2int.evaluate()[0]/areaint.evaluate()[0])\n",
    "\n",
    "def rms_surf():\n",
    "    return math.sqrt(rmsSurfInt.evaluate()[0])\n",
    "\n",
    "def max_vx_surf(velfield, mesh):\n",
    "    vuvelxfn = fn.view.min_max(velfield[0])\n",
    "    vuvelxfn.evaluate(mesh.specialSets[\"MaxJ_VertexSet\"])\n",
    "    return vuvelxfn.max_global()\n",
    "\n",
    "def gravwork(workfn):\n",
    "    return workfn.evaluate()[0]\n",
    "\n",
    "def viscdis(vdissfn):\n",
    "    return vdissfn.evaluate()[0]\n",
    "\n",
    "def visc_extr(viscfn):\n",
    "    vuviscfn = fn.view.min_max(viscfn)\n",
    "    vuviscfn.evaluate(mesh)\n",
    "    return vuviscfn.max_global(), vuviscfn.min_global()"
   ]
  },
  {
   "cell_type": "code",
   "execution_count": 18,
   "metadata": {
    "collapsed": false
   },
   "outputs": [],
   "source": [
    "#Fields for saving data / fields\n",
    "rmsField = uw.mesh.MeshVariable( mesh=mesh, nodeDofCount=1 )\n",
    "rmsfn    = fn.math.sqrt( fn.math.dot( velocityField, velocityField ) )\n",
    "rmsdata  = rmsfn.evaluate( mesh )\n",
    "rmsField.data[:] = rmsdata \n",
    "\n",
    "viscField = uw.mesh.MeshVariable( mesh=mesh, nodeDofCount=1 )\n",
    "viscdata  = fn_viscosity.evaluate( mesh )\n",
    "viscField.data[:] = viscdata\n",
    "\n",
    "stressField = uw.mesh.MeshVariable( mesh=mesh, nodeDofCount=1)\n",
    "srtdata     = fn.tensor.second_invariant( fn.tensor.symmetric( velocityField.fn_gradient ) )\n",
    "rostfield   = srtdata.evaluate( mesh )\n",
    "stressinv   = 2*viscdata*rostfield[:]\n",
    "stressField.data[:] = stressinv"
   ]
  },
  {
   "cell_type": "markdown",
   "metadata": {},
   "source": [
    "Main simulation loop\n",
    "------\n",
    "\n",
    "Normally a loop over time increments would be added here. As we are only interested in the post-analysis a single time step will be taken to ensure that all analysis fields are live. This step will involve the non-linear Stokes system solver."
   ]
  },
  {
   "cell_type": "code",
   "execution_count": 19,
   "metadata": {
    "collapsed": false
   },
   "outputs": [],
   "source": [
    "steps_todo = 1"
   ]
  },
  {
   "cell_type": "markdown",
   "metadata": {
    "collapsed": false
   },
   "source": [
    "Initialise steps and time. Set to zero unless loading values from file."
   ]
  },
  {
   "cell_type": "code",
   "execution_count": 20,
   "metadata": {
    "collapsed": false
   },
   "outputs": [
    {
     "name": "stdout",
     "output_type": "stream",
     "text": [
      "This model has previously completed  43600 steps to get to time = 0.301\n"
     ]
    }
   ],
   "source": [
    "try:\n",
    "    realtime = timeVal[-1]\n",
    "    step = int(stepsVal[-1])\n",
    "except:\n",
    "    realtime = 0.0\n",
    "    step = 0\n",
    "steps_end = step + steps_todo\n",
    "steps_output = 100\n",
    "steps_output = max(steps_output,1)\n",
    "print('This model has previously completed {0:6d} steps to get to time = {1:.3f}'.format(step,realtime))"
   ]
  },
  {
   "cell_type": "code",
   "execution_count": 21,
   "metadata": {
    "collapsed": false
   },
   "outputs": [],
   "source": [
    "# initialise timer for computation\n",
    "start = time.clock()\n",
    "# start loop\n",
    "while step < steps_end:\n",
    "    # Solve non-linear system\n",
    "    solver.solve(nonLinearIterate=True)\n",
    "    dt = advDiff.get_max_dt()\n",
    "    if step == 0:\n",
    "        dt = 0.\n",
    "    # Advect using this timestep size   \n",
    "    advDiff.integrate(dt)\n",
    "    # Increment\n",
    "    realtime += dt\n",
    "    step += 1\n",
    "    # Calculate the Metrics, only on 1 of the processors:\n",
    "    Avg_temp = avg_temp()\n",
    "    Rms = rms()\n",
    "    Rms_surf = rms_surf()\n",
    "    Max_vx_surf = max_vx_surf(velocityField, mesh)\n",
    "    Gravwork = gravwork(dwint)\n",
    "    Viscdis = viscdis(vdint)\n",
    "    nu1, nu0 = nusseltTB(temperatureField, mesh) # return top then bottom\n",
    "    etamax, etamin = visc_extr(fn_viscosity)\n",
    "    # store results\n",
    "    stepsVal.append(       step)\n",
    "    timeVal.append(        realtime )\n",
    "    viscdisVal.append(     Viscdis )\n",
    "    nu0Val.append(         nu0 )\n",
    "    nu1Val.append(         nu1 )\n",
    "    Avg_tempVal.append(    Avg_temp )\n",
    "    vrmsVal.append(        Rms )\n",
    "    Rms_surfVal.append(    Rms_surf )\n",
    "    Max_vx_surfVal.append( Max_vx_surf )\n",
    "    GravworkVal.append(    Gravwork )\n",
    "    etamaxVal.append(      etamax )\n",
    "    etaminVal.append(      etamin )\n",
    "\n",
    "    # output fields and summary info to file (output graphics can also be added here)\n",
    "    if uw.rank()==0:\n",
    "        if (step % steps_output == 0) or (step == steps_end-1):\n",
    "            print 'step =',step, '; CPU time =', time.clock()-start, '; vrms = ',Rms\n",
    "            # Temperature\n",
    "            fnametemp = \"temperatureField_\" + str(step).zfill(6) + \".h5\"\n",
    "            fullpath = os.path.join(outputPath + \"files/\" + fnametemp)\n",
    "            temperatureField.save(fullpath)\n",
    "            # Temperature time derivative\n",
    "            fnametemp = \"temperatureDotField_\" + str(step).zfill(6) + \".h5\"\n",
    "            fullpath = os.path.join(outputPath + \"files/\" + fnametemp)\n",
    "            temperatureDotField.save(fullpath)\n",
    "            # Pressure\n",
    "            fnametemp = \"pressureField_\" + str(step).zfill(6) + \".h5\"\n",
    "            fullpath = os.path.join(outputPath + \"files/\" + fnametemp)\n",
    "            pressureField.save(fullpath)\n",
    "            # Velocity\n",
    "            fnametemp = \"velocityField_\" + str(step).zfill(6) + \".h5\"\n",
    "            fullpath = os.path.join(outputPath + \"files/\" + fnametemp)\n",
    "            velocityField.save(fullpath)\n",
    "\n",
    "            np.savetxt( outputPath + 'Summary.txt', np.c_[stepsVal, timeVal, viscdisVal, nu0Val, \n",
    "                                                          nu1Val, Avg_tempVal, vrmsVal, Rms_surfVal,\n",
    "                                                         Max_vx_surfVal, GravworkVal, etamaxVal, etaminVal], \n",
    "                   header=\"Steps, Time, visc, Nusselt bottom/top, av_T, vrms, surf_rms, surf_max, grav, etamax, etamin\" )"
   ]
  },
  {
   "cell_type": "markdown",
   "metadata": {},
   "source": [
    "Post-simulation analysis\n",
    "-------\n",
    "\n",
    "Here we will calculate the quantities specified for this case in Tosi et al. (2015) and finally compare them to the values given in their Table 2."
   ]
  },
  {
   "cell_type": "markdown",
   "metadata": {},
   "source": [
    "**Plot final temperature and velocity fields**"
   ]
  },
  {
   "cell_type": "code",
   "execution_count": 22,
   "metadata": {
    "collapsed": false
   },
   "outputs": [
    {
     "data": {
      "text/html": [
       "<img src='data:image/png;base64,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'>"
      ],
      "text/plain": [
       "<IPython.core.display.HTML object>"
      ]
     },
     "execution_count": 22,
     "metadata": {},
     "output_type": "execute_result"
    }
   ],
   "source": [
    "velmax = np.amax(velocityField.data[:])\n",
    "if(velmax==0.0): velmax = 1.0\n",
    "fig1 = glucifer.Figure()\n",
    "fig1.append( glucifer.objects.Surface(mesh, temperatureField) )\n",
    "fig1.append( glucifer.objects.VectorArrows( mesh, velocityField/velmax, scaling=0.1, arrowHead=0.2 ) )\n",
    "fig1.show()"
   ]
  },
  {
   "cell_type": "markdown",
   "metadata": {},
   "source": [
    "**Calculate quantities for benchmark comparison**"
   ]
  },
  {
   "cell_type": "code",
   "execution_count": 23,
   "metadata": {
    "collapsed": true
   },
   "outputs": [],
   "source": [
    "tempAv = Avg_tempVal[-1]\n",
    "nuTop = nu1Val[-1]\n",
    "nuBot = nu0Val[-1]\n",
    "uRMS = vrmsVal[-1]\n",
    "uSurfRMS = Rms_surfVal[-1]\n",
    "uSurfMax = Max_vx_surfVal[-1]\n",
    "etaMin = etaminVal[-1]\n",
    "etaMax = etamaxVal[-1]\n",
    "workDone = GravworkVal[-1]\n",
    "phi = viscdisVal[-1]/100.\n",
    "delta = abs(workDone - phi)/max(workDone, phi) * 100."
   ]
  },
  {
   "cell_type": "markdown",
   "metadata": {},
   "source": [
    "**Output all quantities for this case**"
   ]
  },
  {
   "cell_type": "code",
   "execution_count": 24,
   "metadata": {
    "collapsed": false
   },
   "outputs": [
    {
     "name": "stdout",
     "output_type": "stream",
     "text": [
      "<T>        = 0.5994\n",
      "Nu_top     = 8.4725\n",
      "Nu_bot     = 8.5378\n",
      "u_rms      = 138.8916\n",
      "u^surf_rms = 103.8739\n",
      "u^surf_max = 120.9129\n",
      "eta_min    = 1.9854e-05\n",
      "eta_max    = 1.6685\n",
      "W          = 7.4987\n",
      "Phi        = 7.5242\n",
      "delta      = 0.3382%\n"
     ]
    }
   ],
   "source": [
    "print('<T>        = {0:.4f}'.format(tempAv))\n",
    "print('Nu_top     = {0:.4f}'.format(nuTop))\n",
    "print('Nu_bot     = {0:.4f}'.format(nuBot))\n",
    "print('u_rms      = {0:.4f}'.format(uRMS))\n",
    "print('u^surf_rms = {0:.4f}'.format(uSurfRMS))\n",
    "print('u^surf_max = {0:.4f}'.format(uSurfMax))\n",
    "print('eta_min    = {0:.4e}'.format(etaMin))\n",
    "print('eta_max    = {0:.4f}'.format(etaMax))\n",
    "print('W          = {0:.4f}'.format(workDone))\n",
    "print('Phi        = {0:.4f}'.format(phi))\n",
    "print('delta      = {0:.4f}%'.format(delta))"
   ]
  },
  {
   "cell_type": "markdown",
   "metadata": {},
   "source": [
    "**Comparison values from Tosi et al. (2015)**\n",
    "\n",
    "The expected benchmark values from Table 2 of Tosi et al. (2015) for case 2 are given in the table below. The minimum and maximum values from each of the participating codes are given here to provide an expected range for each quantity.\n",
    "\n",
    "| Case 2  | $<$$T$$>$ | $Nu_{top}$ | $Nu_{bot}$ | $u_{RMS}$ | $u_{RMS}^{surf}$ | $u_{max}^{surf}$ | $\\eta_{min}$ | $\\eta_{max}$ | $<$$W$$>$ |  $<$$\\Phi$$>$/Ra | $\\delta$ |\n",
    "|:--------|:---------:|:----------:|:----------:|:---------:|:----------------:|:----------------:|:------------:|:------------:|:------------:|:------------------:|:--------:|\n",
    "| Min     | 0.6027 | 8.5217 | 8.5217 | 140.1871 | 102.8500 | 119.4120 | 1.9850$\\times 10^{-5}$ | 1.0400 | 7.5199 | 7.4690 | $<$0.01% |\n",
    "| Max     | 0.6071 | 8.7475 | 8.6489 | 143.8518 | 105.1767 | 122.9754 | 2.0800$\\times 10^{-5}$ | 1.9421 | 7.6400 | 7.6422 | 0.68% |\n",
    "\n",
    "Note that the values from the spectral code MC3D are not used to construct the min/max values here, as they are outlier values."
   ]
  }
 ],
 "metadata": {
  "kernelspec": {
   "display_name": "Python 2",
   "language": "python",
   "name": "python2"
  },
  "language_info": {
   "codemirror_mode": {
    "name": "ipython",
    "version": 2
   },
   "file_extension": ".py",
   "mimetype": "text/x-python",
   "name": "python",
   "nbconvert_exporter": "python",
   "pygments_lexer": "ipython2",
   "version": "2.7.10"
  }
 },
 "nbformat": 4,
 "nbformat_minor": 0
}
