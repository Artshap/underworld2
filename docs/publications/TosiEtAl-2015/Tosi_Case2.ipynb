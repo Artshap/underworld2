{
 "cells": [
  {
   "cell_type": "markdown",
   "metadata": {
    "collapsed": true
   },
   "source": [
    "Viscoplastic thermal convection in a 2-D square box: Tosi et al. 2015\n",
    "=====\n",
    "\n",
    "This series of notebooks generates benchmark models from the Tosi et al. (2015) in Underworld2. The Underworld2 results are then directly compared to the results from Table 2 of Tosi et al. (2015) the paper for each case. The notebooks are broken into a general notebook for reproducing the models from scratch and 5 post-analysis notebooks which look at the results Underworld2 gives for each case after running to equilibrium. \n",
    "\n",
    "Case 2: Mobile lid\n",
    "-------\n",
    "\n",
    "This case has a temperature and strain rate-dependent nonlinear rheology which results in a stagnant lid mode of convection. \n",
    "The parameters used for case 4 are: $Ra = 10^2$, $\\Delta \\eta_T = 10^5$, $\\eta^* = 10^{-3}$, $\\Delta \\eta_z = 1$ and $\\sigma_\\gamma = 1$.\n",
    "\n",
    "\n",
    "References\n",
    "-----\n",
    "\n",
    "1. Tosi, Nicola and Stein, Claudia and Noack, Lena and H&uuml;ttig, Christian and Maierov&aacute;, Petra and Samuel, Henri and Davies, DR and Wilson, CR and Kramer, SC and Thieulot, Cedric and others. 2015. _A community benchmark for viscoplastic thermal convection in a 2-D square box_.\n",
    "\n"
   ]
  },
  {
   "cell_type": "markdown",
   "metadata": {},
   "source": [
    "Load python functions needed for underworld. Some additional python functions from os, math and numpy used later on."
   ]
  },
  {
   "cell_type": "code",
   "execution_count": 1,
   "metadata": {
    "collapsed": false
   },
   "outputs": [],
   "source": [
    "%matplotlib inline\n",
    "import underworld as uw\n",
    "import math\n",
    "from underworld import function as fn\n",
    "import glucifer\n",
    "import matplotlib.pyplot as pyplot\n",
    "import matplotlib.pylab as pylab\n",
    "import time\n",
    "import numpy as np\n",
    "import os"
   ]
  },
  {
   "cell_type": "markdown",
   "metadata": {},
   "source": [
    "Set physical constants and parameters, including the Rayleigh number (*Ra*) and viscosity constants ($\\eta^*$ and $\\eta_T$) which are common to all Tosi et al cases."
   ]
  },
  {
   "cell_type": "code",
   "execution_count": 2,
   "metadata": {
    "collapsed": false
   },
   "outputs": [],
   "source": [
    "RA  = 1e2        # Rayleigh number\n",
    "ETA_T = 1e5      # common viscosity constant\n",
    "TS  = 0          # surface temperature\n",
    "TB  = 1          # bottom boundary temperature (melting point)\n",
    "ETA0 = 1e-3      # viscosity constant eta^* in Tosi et al\n",
    "TMAX = 3.0\n",
    "IMAX = 1000"
   ]
  },
  {
   "cell_type": "markdown",
   "metadata": {},
   "source": [
    "Select case 2 of Tosi et al (2015) and set constants as required."
   ]
  },
  {
   "cell_type": "code",
   "execution_count": 3,
   "metadata": {
    "collapsed": false
   },
   "outputs": [],
   "source": [
    "CASE = 2\n",
    "ETA_Y = 1.\n",
    "YSTRESS = 1."
   ]
  },
  {
   "cell_type": "markdown",
   "metadata": {},
   "source": [
    "Set input and output file directories"
   ]
  },
  {
   "cell_type": "code",
   "execution_count": 4,
   "metadata": {
    "collapsed": false
   },
   "outputs": [],
   "source": [
    "# input file directory\n",
    "inputPath  = 'TosiInput/case' + str(CASE) + \"/\"\n",
    "# output files\n",
    "outputPath = 'TosiOutput/'\n",
    "filePath   = outputPath+'files'\n",
    "# make directories if they don't exist\n",
    "if not os.path.isdir(outputPath):\n",
    "    os.makedirs(outputPath)\n",
    "if not os.path.isdir(filePath):\n",
    "    os.makedirs(filePath)"
   ]
  },
  {
   "cell_type": "markdown",
   "metadata": {},
   "source": [
    "Create mesh and finite element variables\n",
    "------\n",
    "\n",
    "Set up mesh and field variables that are solved on the mesh."
   ]
  },
  {
   "cell_type": "code",
   "execution_count": 5,
   "metadata": {
    "collapsed": false
   },
   "outputs": [],
   "source": [
    "res = 128\n",
    "mesh = uw.mesh.FeMesh_Cartesian( elementType = (\"Q1/dQ0\"), \n",
    "                                 elementRes  = (res, res), \n",
    "                                 minCoord    = (0., 0.), \n",
    "                                 maxCoord    = (1., 1.))\n",
    "\n",
    "velocityField       = uw.mesh.MeshVariable( mesh=mesh,         nodeDofCount=2 )\n",
    "pressureField       = uw.mesh.MeshVariable( mesh=mesh.subMesh, nodeDofCount=1 )\n",
    "temperatureField    = uw.mesh.MeshVariable( mesh=mesh,         nodeDofCount=1 )\n",
    "temperatureDotField = uw.mesh.MeshVariable( mesh=mesh,         nodeDofCount=1 )"
   ]
  },
  {
   "cell_type": "markdown",
   "metadata": {},
   "source": [
    "Set initial conditions and boundary conditions\n",
    "----------\n",
    "\n",
    "Load all variable fields and summary data with data from previously run cases."
   ]
  },
  {
   "cell_type": "code",
   "execution_count": 6,
   "metadata": {
    "collapsed": false
   },
   "outputs": [],
   "source": [
    "# load fields\n",
    "temperatureField.load(    inputPath+'temperatureField.h5' )\n",
    "temperatureDotField.load( inputPath+'temperatureDotField.h5' )\n",
    "pressureField.load(       inputPath+'pressureField.h5')\n",
    "velocityField.load(       inputPath+'velocityField.h5')\n",
    "\n",
    "# load past iterations of summary data\n",
    "data = np.loadtxt( inputPath+'Summary.txt', unpack=True )\n",
    "stepsVal = data[0].tolist()\n",
    "timeVal = data[1].tolist()\n",
    "viscdisVal = data[2].tolist()\n",
    "nu0Val = data[3].tolist()\n",
    "nu1Val = data[4].tolist()\n",
    "Avg_tempVal = data[5].tolist()\n",
    "vrmsVal = data[6].tolist()\n",
    "Rms_surfVal = data[7].tolist()\n",
    "Max_vx_surfVal = data[8].tolist()\n",
    "GravworkVal = data[9].tolist()\n",
    "etamaxVal = data[10].tolist()\n",
    "etaminVal = data[11].tolist() "
   ]
  },
  {
   "cell_type": "markdown",
   "metadata": {},
   "source": [
    "**Conditions on the boundaries**"
   ]
  },
  {
   "cell_type": "code",
   "execution_count": 7,
   "metadata": {
    "collapsed": true
   },
   "outputs": [],
   "source": [
    "iWalls = mesh.specialSets[\"MinI_VertexSet\"] + mesh.specialSets[\"MaxI_VertexSet\"]\n",
    "jWalls = mesh.specialSets[\"MinJ_VertexSet\"] + mesh.specialSets[\"MaxJ_VertexSet\"]\n",
    "freeslipBC = uw.conditions.DirichletCondition( variable      = velocityField, \n",
    "                                               indexSetsPerDof = (iWalls, jWalls) )\n",
    "tempBC     = uw.conditions.DirichletCondition( variable      = temperatureField, \n",
    "                                               indexSetsPerDof = (jWalls,) )"
   ]
  },
  {
   "cell_type": "markdown",
   "metadata": {
    "collapsed": false
   },
   "source": [
    "Set up material parameters and functions\n",
    "-----\n"
   ]
  },
  {
   "cell_type": "markdown",
   "metadata": {},
   "source": [
    "**Viscosity field**\n",
    "\n",
    "The viscosity is a function of temperature ($T$), the vertical coordinate ($z$) and the strain rate ($\\dot{\\epsilon}$) and is given by\n",
    "\n",
    "$$\n",
    "    \\eta(T, z, \\dot{\\epsilon}) = 2 \\left( \\frac{1}{\\eta_{lin}(T,z)} + \\frac{1}{\\eta_{plast}(\\dot{\\epsilon})} \\right)^{-1}\n",
    "$$\n",
    "\n",
    "where the linear part is\n",
    "\n",
    "$$\n",
    "    \\eta_{lin}(T, z) = \\exp(-\\gamma_T T + \\gamma_z z)\n",
    "$$\n",
    "\n",
    "with $\\gamma_T = \\ln(\\Delta \\eta_T)$ and $\\gamma_z = \\ln(\\Delta \\eta_z)$. The nonlinear part is\n",
    "\n",
    "$$\n",
    "    \\eta_{plast}(\\dot{\\epsilon}) = \\eta^* + \\frac{\\sigma_{\\gamma}}{\\sqrt{\\dot{\\epsilon} : \\dot{\\epsilon}}}\n",
    "$$\n",
    "\n",
    "where $\\eta^*$ is the effective viscosity at high stresses and $\\sigma_{\\gamma}$ is the yield stress. The values of $\\Delta \\eta_T$, $\\Delta \\eta_z$, $\\eta^*$ and $\\sigma_{\\gamma}$ are assumed to be constant with values dependent on the particular case."
   ]
  },
  {
   "cell_type": "markdown",
   "metadata": {},
   "source": [
    "**Create variables required for plasticity calculations**"
   ]
  },
  {
   "cell_type": "code",
   "execution_count": 8,
   "metadata": {
    "collapsed": false
   },
   "outputs": [],
   "source": [
    "secinv = fn.tensor.second_invariant( fn.tensor.symmetric( velocityField.gradientFn ) )\n",
    "coordinate = fn.coord()"
   ]
  },
  {
   "cell_type": "markdown",
   "metadata": {},
   "source": [
    "**Setup viscosity functions**\n",
    "\n",
    "Remember to use floats everywhere when setting up functions"
   ]
  },
  {
   "cell_type": "code",
   "execution_count": 9,
   "metadata": {
    "collapsed": false
   },
   "outputs": [],
   "source": [
    "viscosityl1 = fn.math.exp(math.log(ETA_T)*-1.*temperatureField)\n",
    "viscosityl2 = fn.math.exp((math.log(ETA_T)*-1.*temperatureField) + (1.-coordinate[1])*math.log(ETA_Y))\n",
    "\n",
    "#Von Mises effective viscosity\n",
    "viscosityp = ETA0 + YSTRESS/(secinv/math.sqrt(0.5)) #extra factor to account for underworld second invariant form\n",
    "\n",
    "if CASE == 1:\n",
    "    viscosityFn = viscosityl1\n",
    "elif CASE == 2:\n",
    "    viscosityFn = 2./(1./viscosityl1 + 1./viscosityp)\n",
    "elif CASE == 3:\n",
    "    viscosityFn = viscosityl2\n",
    "else:\n",
    "    viscosityFn = 2./(1./viscosityl2 + 1./viscosityp)"
   ]
  },
  {
   "cell_type": "markdown",
   "metadata": {},
   "source": [
    "**Add functions for density and buoyancy**"
   ]
  },
  {
   "cell_type": "code",
   "execution_count": 10,
   "metadata": {
    "collapsed": true
   },
   "outputs": [],
   "source": [
    "densityFn = RA*temperatureField\n",
    "\n",
    "# define our vertical unit vector using a python tuple (this will be automatically converted to a function)\n",
    "z_hat = ( 0.0, 1.0 )\n",
    "\n",
    "# now create a buoyancy force vector using the density (FEvariable) and the vertical unit vector. \n",
    "buoyancyFn = densityFn * z_hat"
   ]
  },
  {
   "cell_type": "markdown",
   "metadata": {},
   "source": [
    "Build the Stokes system and solvers\n",
    "------\n",
    "\n",
    "Setup the Stokes system with linear or nonlinear visocity viscosity depending on case."
   ]
  },
  {
   "cell_type": "code",
   "execution_count": 11,
   "metadata": {
    "collapsed": false
   },
   "outputs": [],
   "source": [
    "stokesPIC = uw.systems.Stokes(velocityField=velocityField, \n",
    "                              pressureField=pressureField,\n",
    "                              conditions=[freeslipBC,],\n",
    "                              viscosityFn=fn.exception.SafeMaths(viscosityFn), \n",
    "                              bodyForceFn=buoyancyFn)"
   ]
  },
  {
   "cell_type": "markdown",
   "metadata": {},
   "source": [
    "Setup solver for the Stokes system of equations"
   ]
  },
  {
   "cell_type": "code",
   "execution_count": 12,
   "metadata": {
    "collapsed": false
   },
   "outputs": [],
   "source": [
    "solver = uw.systems.Solver( stokesPIC )"
   ]
  },
  {
   "cell_type": "markdown",
   "metadata": {},
   "source": [
    "We do one solve for initial pressure and velocity with linear viscosity to get the initial strain rate invariant. This solve step also calculates a 'guess' of the the velocity field based on the linear system, which is used later in the non-linear solver."
   ]
  },
  {
   "cell_type": "code",
   "execution_count": 13,
   "metadata": {
    "collapsed": false
   },
   "outputs": [],
   "source": [
    "solver.solve( nonLinearIterate=False )"
   ]
  },
  {
   "cell_type": "markdown",
   "metadata": {},
   "source": [
    "Create an advective-diffusive system\n",
    "-----\n",
    "\n",
    "Setup the system in underworld by flagging the temperature and velocity field variables."
   ]
  },
  {
   "cell_type": "code",
   "execution_count": 14,
   "metadata": {
    "collapsed": false
   },
   "outputs": [],
   "source": [
    "advDiff = uw.systems.AdvectionDiffusion( temperatureField, temperatureDotField, velocityField,\n",
    "                                         diffusivity=1., conditions=[tempBC,] )"
   ]
  },
  {
   "cell_type": "markdown",
   "metadata": {},
   "source": [
    "Metrics for benchmark\n",
    "-----\n",
    "\n",
    "Define diagnostic functions to be used in the time loop and/or measured after reaching steady state:\n",
    "\n",
    "* Average temperature\n",
    "$$  \\langle T \\rangle  = \\int^1_0 \\int^1_0 T \\, dxdy $$\n",
    "* Top and bottom Nusselt numbers\n",
    "$$Nu_{top/bot} = - \\left. \\int^1_0 \\frac{\\partial T}{\\partial y} \\right|_{y=1/y=0} \\, dx$$\n",
    "* RMS velocity over the whole domain, surface and max velocity at surface\n",
    "$$u_{RMS} = \\left( \\int_0^1 \\int_0^1 \\left( u_x^2 + u_y^2 \\right) dx dy \\right)^{1/2}$$\n",
    "$$u_{RMS}^{surf} = \\left( \\left. \\int_0^1 u_x^2\\right|_{y=1} dx \\right)^{1/2}$$\n",
    "$$u_{max}^{surf} = \\left. \\max(u_x)\\right|_{y=1}$$\n",
    "* max and min viscosity over the whole domain\n",
    "$$\\eta_{max/min} = \\max / \\min \\left( \\eta\\left(x,y\\right) \\right)$$\n",
    "* average rate of work done against gravity\n",
    "$$\\langle W \\rangle = \\int^1_0 \\int^1_0 T u_y \\, dx dy$$\n",
    "* and the average rate of viscous dissipation\n",
    "$$\\langle \\Phi \\rangle = \\int^1_0 \\int^1_0 \\tau_{ij} \\dot \\epsilon_{ij} \\, dx dy$$\n",
    "\n",
    "* In steady state, if thermal energy is accurately conserved, the difference between $\\langle W \\rangle$ and $\\langle \\Phi \\rangle / Ra$ must vanish, so also reported is the percentage error: \n",
    "\n",
    "$$ \\delta = \\frac{\\lvert \\langle W \\rangle - \\frac{\\langle \\Phi \\rangle}{Ra} \\rvert}{max \\left(  \\langle W \\rangle,  \\frac{\\langle \\Phi \\rangle}{Ra}\\right)} \\times 100% $$"
   ]
  },
  {
   "cell_type": "markdown",
   "metadata": {},
   "source": [
    "**Setup volume integrals used in metric functions**"
   ]
  },
  {
   "cell_type": "code",
   "execution_count": 15,
   "metadata": {
    "collapsed": false
   },
   "outputs": [],
   "source": [
    "# temperature\n",
    "tempint = uw.utils.Integral( temperatureField, mesh )\n",
    "# area\n",
    "areaint = uw.utils.Integral( 1.,               mesh )\n",
    "# velocity squared\n",
    "v2int   = uw.utils.Integral(fn.math.dot(velocityField,velocityField), mesh)\n",
    "# work done\n",
    "dwint   = uw.utils.Integral(temperatureField*velocityField[1], mesh)\n",
    "# viscous dissipation\n",
    "sinner = fn.math.dot(secinv,secinv)\n",
    "vdint = uw.utils.Integral((4.*viscosityFn*sinner), mesh)"
   ]
  },
  {
   "cell_type": "markdown",
   "metadata": {},
   "source": [
    "**Setup surface integrals used in metric functions**"
   ]
  },
  {
   "cell_type": "code",
   "execution_count": 16,
   "metadata": {
    "collapsed": false
   },
   "outputs": [],
   "source": [
    "rmsSurfInt = uw.utils.Integral( fn=velocityField[0]*velocityField[0], mesh=mesh, integrationType='Surface', \n",
    "                          surfaceIndexSet=mesh.specialSets[\"MaxJ_VertexSet\"])\n",
    "nuTop      = uw.utils.Integral( fn=temperatureField.gradientFn[1], mesh=mesh, integrationType='Surface', \n",
    "                          surfaceIndexSet=mesh.specialSets[\"MaxJ_VertexSet\"])\n",
    "nuBottom   = uw.utils.Integral( fn=temperatureField.gradientFn[1], mesh=mesh, integrationType='Surface', \n",
    "                          surfaceIndexSet=mesh.specialSets[\"MinJ_VertexSet\"])"
   ]
  },
  {
   "cell_type": "markdown",
   "metadata": {},
   "source": [
    "**Define diagnostic functions using integrals**"
   ]
  },
  {
   "cell_type": "code",
   "execution_count": 17,
   "metadata": {
    "collapsed": false
   },
   "outputs": [],
   "source": [
    "def avg_temp():\n",
    "    return tempint.evaluate()[0]/areaint.evaluate()[0]\n",
    "\n",
    "def nusseltTB(temp_field, mesh):\n",
    "    return -nuTop.evaluate()[0], -nuBottom.evaluate()[0]\n",
    "\n",
    "def rms():\n",
    "    return math.sqrt(v2int.evaluate()[0]/areaint.evaluate()[0])\n",
    "\n",
    "def rms_surf():\n",
    "    return math.sqrt(rmsSurfInt.evaluate()[0])\n",
    "\n",
    "def max_vx_surf(velfield, mesh):\n",
    "    vuvelxfn = fn.view.min_max(velfield[0])\n",
    "    vuvelxfn.evaluate(mesh.specialSets[\"MaxJ_VertexSet\"])\n",
    "    return vuvelxfn.max_global()\n",
    "\n",
    "def gravwork(workfn):\n",
    "    return workfn.evaluate()[0]\n",
    "\n",
    "def viscdis(vdissfn):\n",
    "    return vdissfn.evaluate()[0]\n",
    "\n",
    "def visc_extr(viscfn):\n",
    "    vuviscfn = fn.view.min_max(viscfn)\n",
    "    vuviscfn.evaluate(mesh)\n",
    "    return vuviscfn.max_global(), vuviscfn.min_global()"
   ]
  },
  {
   "cell_type": "code",
   "execution_count": 18,
   "metadata": {
    "collapsed": false
   },
   "outputs": [],
   "source": [
    "#Fields for saving data / fields\n",
    "rmsField = uw.mesh.MeshVariable( mesh=mesh, nodeDofCount=1 )\n",
    "rmsfn    = fn.math.sqrt( fn.math.dot( velocityField, velocityField ) )\n",
    "rmsdata  = rmsfn.evaluate( mesh )\n",
    "rmsField.data[:] = rmsdata \n",
    "\n",
    "viscField = uw.mesh.MeshVariable( mesh=mesh, nodeDofCount=1 )\n",
    "viscdata  = viscosityFn.evaluate( mesh )\n",
    "viscField.data[:] = viscdata\n",
    "\n",
    "stressField = uw.mesh.MeshVariable( mesh=mesh, nodeDofCount=1)\n",
    "srtdata     = fn.tensor.second_invariant( fn.tensor.symmetric( velocityField.gradientFn ) )\n",
    "rostfield   = srtdata.evaluate( mesh )\n",
    "stressinv   = 2*viscdata*rostfield[:]\n",
    "stressField.data[:] = stressinv"
   ]
  },
  {
   "cell_type": "markdown",
   "metadata": {},
   "source": [
    "Main simulation loop\n",
    "------\n",
    "\n",
    "Normally a loop over time increments would be added here. As we are only interested in the post-analysis a single time step will be taken to ensure that all analysis fields are live. This step will involve the non-linear Stokes system solver."
   ]
  },
  {
   "cell_type": "code",
   "execution_count": 19,
   "metadata": {
    "collapsed": false
   },
   "outputs": [],
   "source": [
    "steps_todo = 1"
   ]
  },
  {
   "cell_type": "markdown",
   "metadata": {
    "collapsed": false
   },
   "source": [
    "Initialise steps and time. Set to zero unless loading values from file."
   ]
  },
  {
   "cell_type": "code",
   "execution_count": 20,
   "metadata": {
    "collapsed": false
   },
   "outputs": [
    {
     "name": "stdout",
     "output_type": "stream",
     "text": [
      "This model has previously completed  43600 steps to get to time = 0.301\n"
     ]
    }
   ],
   "source": [
    "try:\n",
    "    realtime = timeVal[-1]\n",
    "    step = int(stepsVal[-1])\n",
    "except:\n",
    "    realtime = 0.0\n",
    "    step = 0\n",
    "steps_end = step + steps_todo\n",
    "steps_output = 100\n",
    "steps_output = max(steps_output,1)\n",
    "print('This model has previously completed {0:6d} steps to get to time = {1:.3f}'.format(step,realtime))"
   ]
  },
  {
   "cell_type": "code",
   "execution_count": 21,
   "metadata": {
    "collapsed": false
   },
   "outputs": [],
   "source": [
    "# initialise timer for computation\n",
    "start = time.clock()\n",
    "# start loop\n",
    "while step < steps_end:\n",
    "    # Solve non-linear system\n",
    "    solver.solve(nonLinearIterate=True)\n",
    "    dt = advDiff.get_max_dt()\n",
    "    if step == 0:\n",
    "        dt = 0.\n",
    "    # Advect using this timestep size   \n",
    "    advDiff.integrate(dt)\n",
    "    # Increment\n",
    "    realtime += dt\n",
    "    step += 1\n",
    "    # Calculate the Metrics, only on 1 of the processors:\n",
    "    Avg_temp = avg_temp()\n",
    "    Rms = rms()\n",
    "    Rms_surf = rms_surf()\n",
    "    Max_vx_surf = max_vx_surf(velocityField, mesh)\n",
    "    Gravwork = gravwork(dwint)\n",
    "    Viscdis = viscdis(vdint)\n",
    "    nu1, nu0 = nusseltTB(temperatureField, mesh) # return top then bottom\n",
    "    etamax, etamin = visc_extr(viscosityFn)\n",
    "    # store results\n",
    "    stepsVal.append(       step)\n",
    "    timeVal.append(        realtime )\n",
    "    viscdisVal.append(     Viscdis )\n",
    "    nu0Val.append(         nu0 )\n",
    "    nu1Val.append(         nu1 )\n",
    "    Avg_tempVal.append(    Avg_temp )\n",
    "    vrmsVal.append(        Rms )\n",
    "    Rms_surfVal.append(    Rms_surf )\n",
    "    Max_vx_surfVal.append( Max_vx_surf )\n",
    "    GravworkVal.append(    Gravwork )\n",
    "    etamaxVal.append(      etamax )\n",
    "    etaminVal.append(      etamin )\n",
    "\n",
    "    # output fields and summary info to file (output graphics can also be added here)\n",
    "    if uw.rank()==0:\n",
    "        if (step % steps_output == 0) or (step == steps_end-1):\n",
    "            print 'step =',step, '; CPU time =', time.clock()-start, '; vrms = ',Rms\n",
    "            # Temperature\n",
    "            fnametemp = \"temperatureField_\" + str(step).zfill(6) + \".h5\"\n",
    "            fullpath = os.path.join(outputPath + \"files/\" + fnametemp)\n",
    "            temperatureField.save(fullpath)\n",
    "            # Temperature time derivative\n",
    "            fnametemp = \"temperatureDotField_\" + str(step).zfill(6) + \".h5\"\n",
    "            fullpath = os.path.join(outputPath + \"files/\" + fnametemp)\n",
    "            temperatureDotField.save(fullpath)\n",
    "            # Pressure\n",
    "            fnametemp = \"pressureField_\" + str(step).zfill(6) + \".h5\"\n",
    "            fullpath = os.path.join(outputPath + \"files/\" + fnametemp)\n",
    "            pressureField.save(fullpath)\n",
    "            # Velocity\n",
    "            fnametemp = \"velocityField_\" + str(step).zfill(6) + \".h5\"\n",
    "            fullpath = os.path.join(outputPath + \"files/\" + fnametemp)\n",
    "            velocityField.save(fullpath)\n",
    "\n",
    "            np.savetxt( outputPath + 'Summary.txt', np.c_[stepsVal, timeVal, viscdisVal, nu0Val, \n",
    "                                                          nu1Val, Avg_tempVal, vrmsVal, Rms_surfVal,\n",
    "                                                         Max_vx_surfVal, GravworkVal, etamaxVal, etaminVal], \n",
    "                   header=\"Steps, Time, visc, Nusselt bottom/top, av_T, vrms, surf_rms, surf_max, grav, etamax, etamin\" )"
   ]
  },
  {
   "cell_type": "markdown",
   "metadata": {},
   "source": [
    "Post-simulation analysis\n",
    "-------\n",
    "\n",
    "Here we will calculate the quantities specified for this case in Tosi et al. (2015) and finally compare them to the values given in their Table 2."
   ]
  },
  {
   "cell_type": "markdown",
   "metadata": {},
   "source": [
    "**Plot final temperature and velocity fields**"
   ]
  },
  {
   "cell_type": "code",
   "execution_count": 25,
   "metadata": {
    "collapsed": false
   },
   "outputs": [
    {
     "data": {
      "text/html": [
       "<img src='data:image/png;base64,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'>"
      ],
      "text/plain": [
       "<IPython.core.display.HTML object>"
      ]
     },
     "execution_count": 25,
     "metadata": {},
     "output_type": "execute_result"
    }
   ],
   "source": [
    "velmax = np.amax(velocityField.data[:])\n",
    "if(velmax==0.0): velmax = 1.0\n",
    "fig1 = glucifer.Figure()\n",
    "fig1.append( glucifer.objects.Surface(mesh, temperatureField) )\n",
    "fig1.append( glucifer.objects.VectorArrows( mesh, velocityField/velmax, scaling=0.1, arrowHead=0.2 ) )\n",
    "fig1.show()"
   ]
  },
  {
   "cell_type": "markdown",
   "metadata": {},
   "source": [
    "**Calculate quantities for benchmark comparison**"
   ]
  },
  {
   "cell_type": "code",
   "execution_count": 23,
   "metadata": {
    "collapsed": true
   },
   "outputs": [],
   "source": [
    "tempAv = Avg_tempVal[-1]\n",
    "nuTop = nu1Val[-1]\n",
    "nuBot = nu0Val[-1]\n",
    "uRMS = vrmsVal[-1]\n",
    "uSurfRMS = Rms_surfVal[-1]\n",
    "uSurfMax = Max_vx_surfVal[-1]\n",
    "etaMin = etaminVal[-1]\n",
    "etaMax = etamaxVal[-1]\n",
    "workDone = GravworkVal[-1]\n",
    "phi = viscdisVal[-1]/100.\n",
    "delta = abs(workDone - phi)/max(workDone, phi) * 100."
   ]
  },
  {
   "cell_type": "markdown",
   "metadata": {},
   "source": [
    "**Output all quantities for this case**"
   ]
  },
  {
   "cell_type": "code",
   "execution_count": 24,
   "metadata": {
    "collapsed": false
   },
   "outputs": [
    {
     "name": "stdout",
     "output_type": "stream",
     "text": [
      "<T>        = 0.5994\n",
      "Nu_top     = 8.4725\n",
      "Nu_bot     = 8.5378\n",
      "u_rms      = 138.8916\n",
      "u^surf_rms = 103.8739\n",
      "u^surf_max = 120.9129\n",
      "eta_min    = 1.9854e-05\n",
      "eta_max    = 1.6685\n",
      "W          = 7.4987\n",
      "Phi        = 7.5242\n",
      "delta      = 0.3382%\n"
     ]
    }
   ],
   "source": [
    "print('<T>        = {0:.4f}'.format(tempAv))\n",
    "print('Nu_top     = {0:.4f}'.format(nuTop))\n",
    "print('Nu_bot     = {0:.4f}'.format(nuBot))\n",
    "print('u_rms      = {0:.4f}'.format(uRMS))\n",
    "print('u^surf_rms = {0:.4f}'.format(uSurfRMS))\n",
    "print('u^surf_max = {0:.4f}'.format(uSurfMax))\n",
    "print('eta_min    = {0:.4e}'.format(etaMin))\n",
    "print('eta_max    = {0:.4f}'.format(etaMax))\n",
    "print('W          = {0:.4f}'.format(workDone))\n",
    "print('Phi        = {0:.4f}'.format(phi))\n",
    "print('delta      = {0:.4f}%'.format(delta))"
   ]
  },
  {
   "cell_type": "markdown",
   "metadata": {},
   "source": [
    "**Comparison values from Tosi et al. (2015)**\n",
    "\n",
    "The expected benchmark values from Table 2 of Tosi et al. (2015) for case 2 are given in the table below. The minimum and maximum values from each of the participating codes are given here to provide an expected range for each quantity.\n",
    "\n",
    "| Case 2  | $<$$T$$>$ | $Nu_{top}$ | $Nu_{bot}$ | $u_{RMS}$ | $u_{RMS}^{surf}$ | $u_{max}^{surf}$ | $\\eta_{min}$ | $\\eta_{max}$ | $<$$W$$>$ |  $<$$\\Phi$$>$/Ra | $\\delta$ |\n",
    "|:--------|:---------:|:----------:|:----------:|:---------:|:----------------:|:----------------:|:------------:|:------------:|:------------:|:------------------:|:--------:|\n",
    "| Min     | 0.6027 | 8.5217 | 8.5217 | 140.1871 | 102.8500 | 119.4120 | 1.9850$\\times 10^{-5}$ | 1.0400 | 7.5199 | 7.4690 | $<$0.01% |\n",
    "| Max     | 0.6071 | 8.7475 | 8.6489 | 143.8518 | 105.1767 | 122.9754 | 2.0800$\\times 10^{-5}$ | 1.9421 | 7.6400 | 7.6422 | 0.68% |\n",
    "\n",
    "Note that the values from the spectral code MC3D are not used to construct the min/max values here, as they are outlier values."
   ]
  }
 ],
 "metadata": {
  "kernelspec": {
   "display_name": "Python 2",
   "language": "python",
   "name": "python2"
  },
  "language_info": {
   "codemirror_mode": {
    "name": "ipython",
    "version": 2
   },
   "file_extension": ".py",
   "mimetype": "text/x-python",
   "name": "python",
   "nbconvert_exporter": "python",
   "pygments_lexer": "ipython2",
   "version": "2.7.10"
  }
 },
 "nbformat": 4,
 "nbformat_minor": 0
}
