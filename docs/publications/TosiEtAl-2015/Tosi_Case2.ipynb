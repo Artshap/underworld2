{
 "cells": [
  {
   "cell_type": "markdown",
   "metadata": {
    "collapsed": true
   },
   "source": [
    "Viscoplastic thermal convection in a 2-D square box: Tosi et al. 2015\n",
    "=====\n",
    "\n",
    "This series of notebooks generates benchmark models from the Tosi et al. (2015) in Underworld2. The Underworld2 results are then directly compared to the results from Table 2 of Tosi et al. (2015) the paper for each case. The notebooks are broken into a general notebook for reproducing the models from scratch and 5 post-analysis notebooks which look at the results Underworld2 gives for each case after running to equilibrium. \n",
    "\n",
    "Case 2: Mobile lid\n",
    "-------\n",
    "\n",
    "This case has a temperature and strain rate-dependent nonlinear rheology which results in a stagnant lid mode of convection. \n",
    "The parameters used for case 4 are: $Ra = 10^2$, $\\Delta \\eta_T = 10^5$, $\\eta^* = 10^{-3}$, $\\Delta \\eta_z = 1$ and $\\sigma_\\gamma = 1$.\n",
    "\n",
    "\n",
    "References\n",
    "-----\n",
    "\n",
    "1. Tosi, Nicola and Stein, Claudia and Noack, Lena and H&uuml;ttig, Christian and Maierov&aacute;, Petra and Samuel, Henri and Davies, DR and Wilson, CR and Kramer, SC and Thieulot, Cedric and others. 2015. _A community benchmark for viscoplastic thermal convection in a 2-D square box_.\n",
    "\n"
   ]
  },
  {
   "cell_type": "markdown",
   "metadata": {},
   "source": [
    "Load python functions needed for underworld. Some additional python functions from os, math and numpy used later on."
   ]
  },
  {
   "cell_type": "code",
   "execution_count": 1,
   "metadata": {
    "collapsed": false
   },
   "outputs": [
    {
     "name": "stderr",
     "output_type": "stream",
     "text": [
      "/Users/jmansour/virtualenvs/general/lib/python2.7/site-packages/matplotlib/font_manager.py:273: UserWarning: Matplotlib is building the font cache using fc-list. This may take a moment.\n",
      "  warnings.warn('Matplotlib is building the font cache using fc-list. This may take a moment.')\n"
     ]
    }
   ],
   "source": [
    "%matplotlib inline\n",
    "import underworld as uw\n",
    "import math\n",
    "from underworld import function as fn\n",
    "import glucifer\n",
    "import matplotlib.pyplot as pyplot\n",
    "import matplotlib.pylab as pylab\n",
    "import time\n",
    "import numpy as np\n",
    "import os"
   ]
  },
  {
   "cell_type": "markdown",
   "metadata": {},
   "source": [
    "Set physical constants and parameters, including the Rayleigh number (*Ra*) and viscosity constants ($\\eta^*$ and $\\eta_T$) which are common to all Tosi et al cases."
   ]
  },
  {
   "cell_type": "code",
   "execution_count": 2,
   "metadata": {
    "collapsed": false
   },
   "outputs": [],
   "source": [
    "RA  = 1e2        # Rayleigh number\n",
    "ETA_T = 1e5      # common viscosity constant\n",
    "TS  = 0          # surface temperature\n",
    "TB  = 1          # bottom boundary temperature (melting point)\n",
    "ETA0 = 1e-3      # viscosity constant eta^* in Tosi et al\n",
    "TMAX = 3.0\n",
    "IMAX = 1000"
   ]
  },
  {
   "cell_type": "markdown",
   "metadata": {},
   "source": [
    "Select case 2 of Tosi et al (2015) and set constants as required."
   ]
  },
  {
   "cell_type": "code",
   "execution_count": 3,
   "metadata": {
    "collapsed": false
   },
   "outputs": [],
   "source": [
    "CASE = 2\n",
    "ETA_Y = 1.\n",
    "YSTRESS = 1."
   ]
  },
  {
   "cell_type": "markdown",
   "metadata": {},
   "source": [
    "Set input and output file directories"
   ]
  },
  {
   "cell_type": "code",
   "execution_count": 4,
   "metadata": {
    "collapsed": false
   },
   "outputs": [],
   "source": [
    "# input file directory\n",
    "inputPath  = 'TosiInput/case' + str(CASE) + \"/\"\n",
    "# output files\n",
    "outputPath = 'TosiOutput/'\n",
    "filePath   = outputPath+'files'\n",
    "# make directories if they don't exist\n",
    "if not os.path.isdir(outputPath):\n",
    "    os.makedirs(outputPath)\n",
    "if not os.path.isdir(filePath):\n",
    "    os.makedirs(filePath)"
   ]
  },
  {
   "cell_type": "markdown",
   "metadata": {},
   "source": [
    "Create mesh and finite element variables\n",
    "------\n",
    "\n",
    "Set up mesh and field variables that are solved on the mesh."
   ]
  },
  {
   "cell_type": "code",
   "execution_count": 5,
   "metadata": {
    "collapsed": false
   },
   "outputs": [],
   "source": [
    "res = 128\n",
    "mesh = uw.mesh.FeMesh_Cartesian( elementType = (\"Q1/dQ0\"), \n",
    "                                 elementRes  = (res, res), \n",
    "                                 minCoord    = (0., 0.), \n",
    "                                 maxCoord    = (1., 1.))\n",
    "\n",
    "velocityField       = uw.mesh.MeshVariable( mesh=mesh,         nodeDofCount=2 )\n",
    "pressureField       = uw.mesh.MeshVariable( mesh=mesh.subMesh, nodeDofCount=1 )\n",
    "temperatureField    = uw.mesh.MeshVariable( mesh=mesh,         nodeDofCount=1 )\n",
    "temperatureDotField = uw.mesh.MeshVariable( mesh=mesh,         nodeDofCount=1 )"
   ]
  },
  {
   "cell_type": "markdown",
   "metadata": {},
   "source": [
    "Set initial conditions and boundary conditions\n",
    "----------\n",
    "\n",
    "Load all variable fields and summary data with data from previously run cases."
   ]
  },
  {
   "cell_type": "code",
   "execution_count": 6,
   "metadata": {
    "collapsed": false
   },
   "outputs": [],
   "source": [
    "# load fields\n",
    "temperatureField.load(    inputPath+'temperatureField.h5' )\n",
    "temperatureDotField.load( inputPath+'temperatureDotField.h5' )\n",
    "pressureField.load(       inputPath+'pressureField.h5')\n",
    "velocityField.load(       inputPath+'velocityField.h5')\n",
    "\n",
    "# load past iterations of summary data\n",
    "data = np.loadtxt( inputPath+'Summary.txt', unpack=True )\n",
    "stepsVal = data[0].tolist()\n",
    "timeVal = data[1].tolist()\n",
    "viscdisVal = data[2].tolist()\n",
    "nu0Val = data[3].tolist()\n",
    "nu1Val = data[4].tolist()\n",
    "Avg_tempVal = data[5].tolist()\n",
    "vrmsVal = data[6].tolist()\n",
    "Rms_surfVal = data[7].tolist()\n",
    "Max_vx_surfVal = data[8].tolist()\n",
    "GravworkVal = data[9].tolist()\n",
    "etamaxVal = data[10].tolist()\n",
    "etaminVal = data[11].tolist() "
   ]
  },
  {
   "cell_type": "markdown",
   "metadata": {},
   "source": [
    "**Conditions on the boundaries**"
   ]
  },
  {
   "cell_type": "code",
   "execution_count": 7,
   "metadata": {
    "collapsed": true
   },
   "outputs": [],
   "source": [
    "iWalls = mesh.specialSets[\"MinI_VertexSet\"] + mesh.specialSets[\"MaxI_VertexSet\"]\n",
    "jWalls = mesh.specialSets[\"MinJ_VertexSet\"] + mesh.specialSets[\"MaxJ_VertexSet\"]\n",
    "freeslipBC = uw.conditions.DirichletCondition( variable      = velocityField, \n",
    "                                               indexSetsPerDof = (iWalls, jWalls) )\n",
    "tempBC     = uw.conditions.DirichletCondition( variable      = temperatureField, \n",
    "                                               indexSetsPerDof = (jWalls,) )"
   ]
  },
  {
   "cell_type": "markdown",
   "metadata": {
    "collapsed": false
   },
   "source": [
    "Set up material parameters and functions\n",
    "-----\n"
   ]
  },
  {
   "cell_type": "markdown",
   "metadata": {},
   "source": [
    "**Viscosity field**\n",
    "\n",
    "The viscosity is a function of temperature ($T$), the vertical coordinate ($z$) and the strain rate ($\\dot{\\epsilon}$) and is given by\n",
    "\n",
    "$$\n",
    "    \\eta(T, z, \\dot{\\epsilon}) = 2 \\left( \\frac{1}{\\eta_{lin}(T,z)} + \\frac{1}{\\eta_{plast}(\\dot{\\epsilon})} \\right)^{-1}\n",
    "$$\n",
    "\n",
    "where the linear part is\n",
    "\n",
    "$$\n",
    "    \\eta_{lin}(T, z) = \\exp(-\\gamma_T T + \\gamma_z z)\n",
    "$$\n",
    "\n",
    "with $\\gamma_T = \\ln(\\Delta \\eta_T)$ and $\\gamma_z = \\ln(\\Delta \\eta_z)$. The nonlinear part is\n",
    "\n",
    "$$\n",
    "    \\eta_{plast}(\\dot{\\epsilon}) = \\eta^* + \\frac{\\sigma_{\\gamma}}{\\sqrt{\\dot{\\epsilon} : \\dot{\\epsilon}}}\n",
    "$$\n",
    "\n",
    "where $\\eta^*$ is the effective viscosity at high stresses and $\\sigma_{\\gamma}$ is the yield stress. The values of $\\Delta \\eta_T$, $\\Delta \\eta_z$, $\\eta^*$ and $\\sigma_{\\gamma}$ are assumed to be constant with values dependent on the particular case."
   ]
  },
  {
   "cell_type": "markdown",
   "metadata": {},
   "source": [
    "**Create variables required for plasticity calculations**"
   ]
  },
  {
   "cell_type": "code",
   "execution_count": 8,
   "metadata": {
    "collapsed": false
   },
   "outputs": [],
   "source": [
    "secinv = fn.tensor.second_invariant( fn.tensor.symmetric( velocityField.fn_gradient ) )\n",
    "coordinate = fn.coord()"
   ]
  },
  {
   "cell_type": "markdown",
   "metadata": {},
   "source": [
    "**Setup viscosity functions**\n",
    "\n",
    "Remember to use floats everywhere when setting up functions"
   ]
  },
  {
   "cell_type": "code",
   "execution_count": 9,
   "metadata": {
    "collapsed": false
   },
   "outputs": [],
   "source": [
    "viscosityl1 = fn.math.exp(math.log(ETA_T)*-1.*temperatureField)\n",
    "viscosityl2 = fn.math.exp((math.log(ETA_T)*-1.*temperatureField) + (1.-coordinate[1])*math.log(ETA_Y))\n",
    "\n",
    "#Von Mises effective viscosity\n",
    "viscosityp = ETA0 + YSTRESS/(secinv/math.sqrt(0.5)) #extra factor to account for underworld second invariant form\n",
    "\n",
    "if CASE == 1:\n",
    "    fn_viscosity = viscosityl1\n",
    "elif CASE == 2:\n",
    "    fn_viscosity = 2./(1./viscosityl1 + 1./viscosityp)\n",
    "elif CASE == 3:\n",
    "    fn_viscosity = viscosityl2\n",
    "else:\n",
    "    fn_viscosity = 2./(1./viscosityl2 + 1./viscosityp)"
   ]
  },
  {
   "cell_type": "markdown",
   "metadata": {},
   "source": [
    "**Add functions for density and buoyancy**"
   ]
  },
  {
   "cell_type": "code",
   "execution_count": 10,
   "metadata": {
    "collapsed": true
   },
   "outputs": [],
   "source": [
    "densityFn = RA*temperatureField\n",
    "\n",
    "# define our vertical unit vector using a python tuple (this will be automatically converted to a function)\n",
    "z_hat = ( 0.0, 1.0 )\n",
    "\n",
    "# now create a buoyancy force vector using the density (FEvariable) and the vertical unit vector. \n",
    "buoyancyFn = densityFn * z_hat"
   ]
  },
  {
   "cell_type": "markdown",
   "metadata": {},
   "source": [
    "Build the Stokes system and solvers\n",
    "------\n",
    "\n",
    "Setup the Stokes system with linear or nonlinear visocity viscosity depending on case."
   ]
  },
  {
   "cell_type": "code",
   "execution_count": 11,
   "metadata": {
    "collapsed": false
   },
   "outputs": [],
   "source": [
    "stokesPIC = uw.systems.Stokes(velocityField=velocityField, \n",
    "                              pressureField=pressureField,\n",
    "                              conditions=[freeslipBC,],\n",
    "                              fn_viscosity=fn.exception.SafeMaths(fn_viscosity), \n",
    "                              fn_bodyforce=buoyancyFn)"
   ]
  },
  {
   "cell_type": "markdown",
   "metadata": {},
   "source": [
    "Setup solver for the Stokes system of equations"
   ]
  },
  {
   "cell_type": "code",
   "execution_count": 12,
   "metadata": {
    "collapsed": false
   },
   "outputs": [],
   "source": [
    "solver = uw.systems.Solver( stokesPIC )"
   ]
  },
  {
   "cell_type": "markdown",
   "metadata": {},
   "source": [
    "We do one solve for initial pressure and velocity with linear viscosity to get the initial strain rate invariant. This solve step also calculates a 'guess' of the the velocity field based on the linear system, which is used later in the non-linear solver."
   ]
  },
  {
   "cell_type": "code",
   "execution_count": 13,
   "metadata": {
    "collapsed": false
   },
   "outputs": [],
   "source": [
    "solver.solve( nonLinearIterate=False )"
   ]
  },
  {
   "cell_type": "markdown",
   "metadata": {},
   "source": [
    "Create an advective-diffusive system\n",
    "-----\n",
    "\n",
    "Setup the system in underworld by flagging the temperature and velocity field variables."
   ]
  },
  {
   "cell_type": "code",
   "execution_count": 14,
   "metadata": {
    "collapsed": false
   },
   "outputs": [],
   "source": [
    "advDiff = uw.systems.AdvectionDiffusion( temperatureField, temperatureDotField, velocityField,\n",
    "                                         fn_diffusivity=1., conditions=[tempBC,] )"
   ]
  },
  {
   "cell_type": "markdown",
   "metadata": {},
   "source": [
    "Metrics for benchmark\n",
    "-----\n",
    "\n",
    "Define diagnostic functions to be used in the time loop and/or measured after reaching steady state:\n",
    "\n",
    "* Average temperature\n",
    "$$  \\langle T \\rangle  = \\int^1_0 \\int^1_0 T \\, dxdy $$\n",
    "* Top and bottom Nusselt numbers\n",
    "$$Nu_{top/bot} = - \\left. \\int^1_0 \\frac{\\partial T}{\\partial y} \\right|_{y=1/y=0} \\, dx$$\n",
    "* RMS velocity over the whole domain, surface and max velocity at surface\n",
    "$$u_{RMS} = \\left( \\int_0^1 \\int_0^1 \\left( u_x^2 + u_y^2 \\right) dx dy \\right)^{1/2}$$\n",
    "$$u_{RMS}^{surf} = \\left( \\left. \\int_0^1 u_x^2\\right|_{y=1} dx \\right)^{1/2}$$\n",
    "$$u_{max}^{surf} = \\left. \\max(u_x)\\right|_{y=1}$$\n",
    "* max and min viscosity over the whole domain\n",
    "$$\\eta_{max/min} = \\max / \\min \\left( \\eta\\left(x,y\\right) \\right)$$\n",
    "* average rate of work done against gravity\n",
    "$$\\langle W \\rangle = \\int^1_0 \\int^1_0 T u_y \\, dx dy$$\n",
    "* and the average rate of viscous dissipation\n",
    "$$\\langle \\Phi \\rangle = \\int^1_0 \\int^1_0 \\tau_{ij} \\dot \\epsilon_{ij} \\, dx dy$$\n",
    "\n",
    "* In steady state, if thermal energy is accurately conserved, the difference between $\\langle W \\rangle$ and $\\langle \\Phi \\rangle / Ra$ must vanish, so also reported is the percentage error: \n",
    "\n",
    "$$ \\delta = \\frac{\\lvert \\langle W \\rangle - \\frac{\\langle \\Phi \\rangle}{Ra} \\rvert}{max \\left(  \\langle W \\rangle,  \\frac{\\langle \\Phi \\rangle}{Ra}\\right)} \\times 100% $$"
   ]
  },
  {
   "cell_type": "markdown",
   "metadata": {},
   "source": [
    "**Setup volume integrals used in metric functions**"
   ]
  },
  {
   "cell_type": "code",
   "execution_count": 15,
   "metadata": {
    "collapsed": false
   },
   "outputs": [],
   "source": [
    "# temperature\n",
    "tempint = uw.utils.Integral( temperatureField, mesh )\n",
    "# area\n",
    "areaint = uw.utils.Integral( 1.,               mesh )\n",
    "# velocity squared\n",
    "v2int   = uw.utils.Integral(fn.math.dot(velocityField,velocityField), mesh)\n",
    "# work done\n",
    "dwint   = uw.utils.Integral(temperatureField*velocityField[1], mesh)\n",
    "# viscous dissipation\n",
    "sinner = fn.math.dot(secinv,secinv)\n",
    "vdint = uw.utils.Integral((4.*fn_viscosity*sinner), mesh)"
   ]
  },
  {
   "cell_type": "markdown",
   "metadata": {},
   "source": [
    "**Setup surface integrals used in metric functions**"
   ]
  },
  {
   "cell_type": "code",
   "execution_count": 16,
   "metadata": {
    "collapsed": false
   },
   "outputs": [],
   "source": [
    "rmsSurfInt = uw.utils.Integral( fn=velocityField[0]*velocityField[0], mesh=mesh, integrationType='Surface', \n",
    "                          surfaceIndexSet=mesh.specialSets[\"MaxJ_VertexSet\"])\n",
    "nuTop      = uw.utils.Integral( fn=temperatureField.fn_gradient[1], mesh=mesh, integrationType='Surface', \n",
    "                          surfaceIndexSet=mesh.specialSets[\"MaxJ_VertexSet\"])\n",
    "nuBottom   = uw.utils.Integral( fn=temperatureField.fn_gradient[1], mesh=mesh, integrationType='Surface', \n",
    "                          surfaceIndexSet=mesh.specialSets[\"MinJ_VertexSet\"])"
   ]
  },
  {
   "cell_type": "markdown",
   "metadata": {},
   "source": [
    "**Define diagnostic functions using integrals**"
   ]
  },
  {
   "cell_type": "code",
   "execution_count": 17,
   "metadata": {
    "collapsed": false
   },
   "outputs": [],
   "source": [
    "def avg_temp():\n",
    "    return tempint.evaluate()[0]/areaint.evaluate()[0]\n",
    "\n",
    "def nusseltTB(temp_field, mesh):\n",
    "    return -nuTop.evaluate()[0], -nuBottom.evaluate()[0]\n",
    "\n",
    "def rms():\n",
    "    return math.sqrt(v2int.evaluate()[0]/areaint.evaluate()[0])\n",
    "\n",
    "def rms_surf():\n",
    "    return math.sqrt(rmsSurfInt.evaluate()[0])\n",
    "\n",
    "def max_vx_surf(velfield, mesh):\n",
    "    vuvelxfn = fn.view.min_max(velfield[0])\n",
    "    vuvelxfn.evaluate(mesh.specialSets[\"MaxJ_VertexSet\"])\n",
    "    return vuvelxfn.max_global()\n",
    "\n",
    "def gravwork(workfn):\n",
    "    return workfn.evaluate()[0]\n",
    "\n",
    "def viscdis(vdissfn):\n",
    "    return vdissfn.evaluate()[0]\n",
    "\n",
    "def visc_extr(viscfn):\n",
    "    vuviscfn = fn.view.min_max(viscfn)\n",
    "    vuviscfn.evaluate(mesh)\n",
    "    return vuviscfn.max_global(), vuviscfn.min_global()"
   ]
  },
  {
   "cell_type": "code",
   "execution_count": 18,
   "metadata": {
    "collapsed": false
   },
   "outputs": [],
   "source": [
    "#Fields for saving data / fields\n",
    "rmsField = uw.mesh.MeshVariable( mesh=mesh, nodeDofCount=1 )\n",
    "rmsfn    = fn.math.sqrt( fn.math.dot( velocityField, velocityField ) )\n",
    "rmsdata  = rmsfn.evaluate( mesh )\n",
    "rmsField.data[:] = rmsdata \n",
    "\n",
    "viscField = uw.mesh.MeshVariable( mesh=mesh, nodeDofCount=1 )\n",
    "viscdata  = fn_viscosity.evaluate( mesh )\n",
    "viscField.data[:] = viscdata\n",
    "\n",
    "stressField = uw.mesh.MeshVariable( mesh=mesh, nodeDofCount=1)\n",
    "srtdata     = fn.tensor.second_invariant( fn.tensor.symmetric( velocityField.fn_gradient ) )\n",
    "rostfield   = srtdata.evaluate( mesh )\n",
    "stressinv   = 2*viscdata*rostfield[:]\n",
    "stressField.data[:] = stressinv"
   ]
  },
  {
   "cell_type": "markdown",
   "metadata": {},
   "source": [
    "Main simulation loop\n",
    "------\n",
    "\n",
    "Normally a loop over time increments would be added here. As we are only interested in the post-analysis a single time step will be taken to ensure that all analysis fields are live. This step will involve the non-linear Stokes system solver."
   ]
  },
  {
   "cell_type": "code",
   "execution_count": 19,
   "metadata": {
    "collapsed": false
   },
   "outputs": [],
   "source": [
    "steps_todo = 1"
   ]
  },
  {
   "cell_type": "markdown",
   "metadata": {
    "collapsed": false
   },
   "source": [
    "Initialise steps and time. Set to zero unless loading values from file."
   ]
  },
  {
   "cell_type": "code",
   "execution_count": 20,
   "metadata": {
    "collapsed": false
   },
   "outputs": [
    {
     "name": "stdout",
     "output_type": "stream",
     "text": [
      "This model has previously completed  43600 steps to get to time = 0.301\n"
     ]
    }
   ],
   "source": [
    "try:\n",
    "    realtime = timeVal[-1]\n",
    "    step = int(stepsVal[-1])\n",
    "except:\n",
    "    realtime = 0.0\n",
    "    step = 0\n",
    "steps_end = step + steps_todo\n",
    "steps_output = 100\n",
    "steps_output = max(steps_output,1)\n",
    "print('This model has previously completed {0:6d} steps to get to time = {1:.3f}'.format(step,realtime))"
   ]
  },
  {
   "cell_type": "code",
   "execution_count": 21,
   "metadata": {
    "collapsed": false
   },
   "outputs": [],
   "source": [
    "# initialise timer for computation\n",
    "start = time.clock()\n",
    "# start loop\n",
    "while step < steps_end:\n",
    "    # Solve non-linear system\n",
    "    solver.solve(nonLinearIterate=True)\n",
    "    dt = advDiff.get_max_dt()\n",
    "    if step == 0:\n",
    "        dt = 0.\n",
    "    # Advect using this timestep size   \n",
    "    advDiff.integrate(dt)\n",
    "    # Increment\n",
    "    realtime += dt\n",
    "    step += 1\n",
    "    # Calculate the Metrics, only on 1 of the processors:\n",
    "    Avg_temp = avg_temp()\n",
    "    Rms = rms()\n",
    "    Rms_surf = rms_surf()\n",
    "    Max_vx_surf = max_vx_surf(velocityField, mesh)\n",
    "    Gravwork = gravwork(dwint)\n",
    "    Viscdis = viscdis(vdint)\n",
    "    nu1, nu0 = nusseltTB(temperatureField, mesh) # return top then bottom\n",
    "    etamax, etamin = visc_extr(fn_viscosity)\n",
    "    # store results\n",
    "    stepsVal.append(       step)\n",
    "    timeVal.append(        realtime )\n",
    "    viscdisVal.append(     Viscdis )\n",
    "    nu0Val.append(         nu0 )\n",
    "    nu1Val.append(         nu1 )\n",
    "    Avg_tempVal.append(    Avg_temp )\n",
    "    vrmsVal.append(        Rms )\n",
    "    Rms_surfVal.append(    Rms_surf )\n",
    "    Max_vx_surfVal.append( Max_vx_surf )\n",
    "    GravworkVal.append(    Gravwork )\n",
    "    etamaxVal.append(      etamax )\n",
    "    etaminVal.append(      etamin )\n",
    "\n",
    "    # output fields and summary info to file (output graphics can also be added here)\n",
    "    if uw.rank()==0:\n",
    "        if (step % steps_output == 0) or (step == steps_end-1):\n",
    "            print 'step =',step, '; CPU time =', time.clock()-start, '; vrms = ',Rms\n",
    "            # Temperature\n",
    "            fnametemp = \"temperatureField_\" + str(step).zfill(6) + \".h5\"\n",
    "            fullpath = os.path.join(outputPath + \"files/\" + fnametemp)\n",
    "            temperatureField.save(fullpath)\n",
    "            # Temperature time derivative\n",
    "            fnametemp = \"temperatureDotField_\" + str(step).zfill(6) + \".h5\"\n",
    "            fullpath = os.path.join(outputPath + \"files/\" + fnametemp)\n",
    "            temperatureDotField.save(fullpath)\n",
    "            # Pressure\n",
    "            fnametemp = \"pressureField_\" + str(step).zfill(6) + \".h5\"\n",
    "            fullpath = os.path.join(outputPath + \"files/\" + fnametemp)\n",
    "            pressureField.save(fullpath)\n",
    "            # Velocity\n",
    "            fnametemp = \"velocityField_\" + str(step).zfill(6) + \".h5\"\n",
    "            fullpath = os.path.join(outputPath + \"files/\" + fnametemp)\n",
    "            velocityField.save(fullpath)\n",
    "\n",
    "            np.savetxt( outputPath + 'Summary.txt', np.c_[stepsVal, timeVal, viscdisVal, nu0Val, \n",
    "                                                          nu1Val, Avg_tempVal, vrmsVal, Rms_surfVal,\n",
    "                                                         Max_vx_surfVal, GravworkVal, etamaxVal, etaminVal], \n",
    "                   header=\"Steps, Time, visc, Nusselt bottom/top, av_T, vrms, surf_rms, surf_max, grav, etamax, etamin\" )"
   ]
  },
  {
   "cell_type": "markdown",
   "metadata": {},
   "source": [
    "Post-simulation analysis\n",
    "-------\n",
    "\n",
    "Here we will calculate the quantities specified for this case in Tosi et al. (2015) and finally compare them to the values given in their Table 2."
   ]
  },
  {
   "cell_type": "markdown",
   "metadata": {},
   "source": [
    "**Plot final temperature and velocity fields**"
   ]
  },
  {
   "cell_type": "code",
   "execution_count": 22,
   "metadata": {
    "collapsed": false
   },
   "outputs": [
    {
     "data": {
      "text/html": [
       "<img src='data:image/png;base64,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'>"
      ],
      "text/plain": [
       "<IPython.core.display.HTML object>"
      ]
     },
     "metadata": {},
     "output_type": "display_data"
    }
   ],
   "source": [
    "velmax = np.amax(velocityField.data[:])\n",
    "if(velmax==0.0): velmax = 1.0\n",
    "fig1 = glucifer.Figure()\n",
    "fig1.append( glucifer.objects.Surface(mesh, temperatureField) )\n",
    "fig1.append( glucifer.objects.VectorArrows( mesh, velocityField/velmax, scaling=0.1, arrowHead=0.2 ) )\n",
    "fig1.show()"
   ]
  },
  {
   "cell_type": "markdown",
   "metadata": {},
   "source": [
    "**Calculate quantities for benchmark comparison**"
   ]
  },
  {
   "cell_type": "code",
   "execution_count": 23,
   "metadata": {
    "collapsed": true
   },
   "outputs": [],
   "source": [
    "tempAv = Avg_tempVal[-1]\n",
    "nuTop = nu1Val[-1]\n",
    "nuBot = nu0Val[-1]\n",
    "uRMS = vrmsVal[-1]\n",
    "uSurfRMS = Rms_surfVal[-1]\n",
    "uSurfMax = Max_vx_surfVal[-1]\n",
    "etaMin = etaminVal[-1]\n",
    "etaMax = etamaxVal[-1]\n",
    "workDone = GravworkVal[-1]\n",
    "phi = viscdisVal[-1]/100.\n",
    "delta = abs(workDone - phi)/max(workDone, phi) * 100."
   ]
  },
  {
   "cell_type": "markdown",
   "metadata": {},
   "source": [
    "**Output all quantities for this case**"
   ]
  },
  {
   "cell_type": "code",
   "execution_count": 24,
   "metadata": {
    "collapsed": false
   },
   "outputs": [
    {
     "name": "stdout",
     "output_type": "stream",
     "text": [
      "<T>        = 0.5994\n",
      "Nu_top     = 8.4725\n",
      "Nu_bot     = 8.5376\n",
      "u_rms      = 138.8999\n",
      "u^surf_rms = 103.7922\n",
      "u^surf_max = 120.8130\n",
      "eta_min    = 1.9854e-05\n",
      "eta_max    = 1.6723\n",
      "W          = 7.5235\n",
      "Phi        = 7.5241\n",
      "delta      = 0.0079%\n"
     ]
    }
   ],
   "source": [
    "print('<T>        = {0:.4f}'.format(tempAv))\n",
    "print('Nu_top     = {0:.4f}'.format(nuTop))\n",
    "print('Nu_bot     = {0:.4f}'.format(nuBot))\n",
    "print('u_rms      = {0:.4f}'.format(uRMS))\n",
    "print('u^surf_rms = {0:.4f}'.format(uSurfRMS))\n",
    "print('u^surf_max = {0:.4f}'.format(uSurfMax))\n",
    "print('eta_min    = {0:.4e}'.format(etaMin))\n",
    "print('eta_max    = {0:.4f}'.format(etaMax))\n",
    "print('W          = {0:.4f}'.format(workDone))\n",
    "print('Phi        = {0:.4f}'.format(phi))\n",
    "print('delta      = {0:.4f}%'.format(delta))"
   ]
  },
  {
   "cell_type": "markdown",
   "metadata": {},
   "source": [
    "**Comparison values from Tosi et al. (2015)**\n",
    "\n",
    "The expected benchmark values from Table 2 of Tosi et al. (2015) for case 2 are given in the table below. The minimum and maximum values from each of the participating codes are given here to provide an expected range for each quantity.\n",
    "\n",
    "| Case 2  | $<$$T$$>$ | $Nu_{top}$ | $Nu_{bot}$ | $u_{RMS}$ | $u_{RMS}^{surf}$ | $u_{max}^{surf}$ | $\\eta_{min}$ | $\\eta_{max}$ | $<$$W$$>$ |  $<$$\\Phi$$>$/Ra | $\\delta$ |\n",
    "|:--------|:---------:|:----------:|:----------:|:---------:|:----------------:|:----------------:|:------------:|:------------:|:------------:|:------------------:|:--------:|\n",
    "| Min     | 0.6027 | 8.5217 | 8.5217 | 140.1871 | 102.8500 | 119.4120 | 1.9850$\\times 10^{-5}$ | 1.0400 | 7.5199 | 7.4690 | $<$0.01% |\n",
    "| Max     | 0.6071 | 8.7475 | 8.6489 | 143.8518 | 105.1767 | 122.9754 | 2.0800$\\times 10^{-5}$ | 1.9421 | 7.6400 | 7.6422 | 0.68% |\n",
    "\n",
    "Note that the values from the spectral code MC3D are not used to construct the min/max values here, as they are outlier values."
   ]
  }
 ],
 "metadata": {
  "kernelspec": {
   "display_name": "Python 2",
   "language": "python",
   "name": "python2"
  },
  "language_info": {
   "codemirror_mode": {
    "name": "ipython",
    "version": 2
   },
   "file_extension": ".py",
   "mimetype": "text/x-python",
   "name": "python",
   "nbconvert_exporter": "python",
   "pygments_lexer": "ipython2",
   "version": "2.7.10"
  }
 },
 "nbformat": 4,
 "nbformat_minor": 0
}
