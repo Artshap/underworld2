{
 "cells": [
  {
   "cell_type": "markdown",
   "metadata": {
    "collapsed": true
   },
   "source": [
    "Viscoplastic thermal convection in a 2-D square box: Tosi et al. 2015\n",
    "=====\n",
    "\n",
    "This series of notebooks generates benchmark models from the Tosi et al. (2015) in Underworld2. The Underworld2 results are then directly compared to the results from Table 2 of Tosi et al. (2015) the paper for each case. The notebooks are broken into a general notebook for reproducing the models from scratch and 5 post-analysis notebooks which look at the results Underworld2 gives for each case after running to equilibrium. \n",
    "\n",
    "Case 4: Mobile lid (larger viscosity contrast)\n",
    "-------\n",
    "\n",
    "This case has a temperatureand strain rate-dependent nonlinear rheology, like case 2, but with a larger value for the depth-dependent viscosity contrast ($\\Delta \\eta_y$).\n",
    "The parameters used for case 4 are: $Ra = 10^2$, $\\Delta \\eta_T = 10^5$, $\\eta^* = 10^{-3}$, $\\Delta \\eta_z = 10$ and $\\sigma_\\gamma = 1$.\n",
    "\n",
    "\n",
    "References\n",
    "-----\n",
    "\n",
    "1. Tosi, Nicola and Stein, Claudia and Noack, Lena and H&uuml;ttig, Christian and Maierov&aacute;, Petra and Samuel, Henri and Davies, DR and Wilson, CR and Kramer, SC and Thieulot, Cedric and others. 2015. _A community benchmark for viscoplastic thermal convection in a 2-D square box_.\n",
    "\n"
   ]
  },
  {
   "cell_type": "markdown",
   "metadata": {},
   "source": [
    "Load python functions needed for underworld. Some additional python functions from os, math and numpy used later on."
   ]
  },
  {
   "cell_type": "code",
   "execution_count": 1,
   "metadata": {
    "collapsed": false
   },
   "outputs": [],
   "source": [
    "%matplotlib inline\n",
    "import underworld as uw\n",
    "import math\n",
    "from underworld import function as fn\n",
    "import glucifer\n",
    "import matplotlib.pyplot as pyplot\n",
    "import matplotlib.pylab as pylab\n",
    "import time\n",
    "import numpy as np\n",
    "import os"
   ]
  },
  {
   "cell_type": "markdown",
   "metadata": {},
   "source": [
    "Set physical constants and parameters, including the Rayleigh number (*Ra*) and viscosity constants ($\\eta^*$ and $\\eta_T$) which are common to all Tosi et al cases."
   ]
  },
  {
   "cell_type": "code",
   "execution_count": 2,
   "metadata": {
    "collapsed": false
   },
   "outputs": [],
   "source": [
    "RA  = 1e2        # Rayleigh number\n",
    "ETA_T = 1e5      # common viscosity constant\n",
    "TS  = 0          # surface temperature\n",
    "TB  = 1          # bottom boundary temperature (melting point)\n",
    "ETA0 = 1e-3      # viscosity constant eta^* in Tosi et al\n",
    "TMAX = 3.0\n",
    "IMAX = 1000"
   ]
  },
  {
   "cell_type": "markdown",
   "metadata": {},
   "source": [
    "Select case 2 of Tosi et al (2015) and set constants as required."
   ]
  },
  {
   "cell_type": "code",
   "execution_count": 3,
   "metadata": {
    "collapsed": false
   },
   "outputs": [],
   "source": [
    "CASE = 4\n",
    "ETA_Y = 10.\n",
    "YSTRESS = 1."
   ]
  },
  {
   "cell_type": "markdown",
   "metadata": {},
   "source": [
    "Set input and output file directories"
   ]
  },
  {
   "cell_type": "code",
   "execution_count": 4,
   "metadata": {
    "collapsed": false
   },
   "outputs": [],
   "source": [
    "# input file directory\n",
    "inputPath  = 'TosiInput/case' + str(CASE) + \"/\"\n",
    "# output files\n",
    "outputPath = 'TosiOutput/'\n",
    "filePath   = outputPath+'files'\n",
    "# make directories if they don't exist\n",
    "if not os.path.isdir(outputPath):\n",
    "    os.makedirs(outputPath)\n",
    "if not os.path.isdir(filePath):\n",
    "    os.makedirs(filePath)"
   ]
  },
  {
   "cell_type": "markdown",
   "metadata": {},
   "source": [
    "Create mesh and finite element variables\n",
    "------\n",
    "\n",
    "Set up mesh and field variables that are solved on the mesh."
   ]
  },
  {
   "cell_type": "code",
   "execution_count": 5,
   "metadata": {
    "collapsed": false
   },
   "outputs": [],
   "source": [
    "res = 128\n",
    "mesh = uw.mesh.FeMesh_Cartesian( elementType = (\"Q1/dQ0\"), \n",
    "                                 elementRes  = (res, res), \n",
    "                                 minCoord    = (0., 0.), \n",
    "                                 maxCoord    = (1., 1.))\n",
    "\n",
    "velocityField       = uw.mesh.MeshVariable( mesh=mesh,         nodeDofCount=2 )\n",
    "pressureField       = uw.mesh.MeshVariable( mesh=mesh.subMesh, nodeDofCount=1 )\n",
    "temperatureField    = uw.mesh.MeshVariable( mesh=mesh,         nodeDofCount=1 )\n",
    "temperatureDotField = uw.mesh.MeshVariable( mesh=mesh,         nodeDofCount=1 )"
   ]
  },
  {
   "cell_type": "markdown",
   "metadata": {},
   "source": [
    "Set initial conditions and boundary conditions\n",
    "----------\n",
    "\n",
    "Load all variable fields and summary data with data from previously run cases."
   ]
  },
  {
   "cell_type": "code",
   "execution_count": 6,
   "metadata": {
    "collapsed": false
   },
   "outputs": [],
   "source": [
    "# load fields\n",
    "temperatureField.load(    inputPath+'temperatureField.h5' )\n",
    "temperatureDotField.load( inputPath+'temperatureDotField.h5' )\n",
    "pressureField.load(       inputPath+'pressureField.h5')\n",
    "velocityField.load(       inputPath+'velocityField.h5')\n",
    "\n",
    "# load past iterations of summary data\n",
    "data = np.loadtxt( inputPath+'Summary.txt', unpack=True )\n",
    "stepsVal = data[0].tolist()\n",
    "timeVal = data[1].tolist()\n",
    "viscdisVal = data[2].tolist()\n",
    "nu0Val = data[3].tolist()\n",
    "nu1Val = data[4].tolist()\n",
    "Avg_tempVal = data[5].tolist()\n",
    "vrmsVal = data[6].tolist()\n",
    "Rms_surfVal = data[7].tolist()\n",
    "Max_vx_surfVal = data[8].tolist()\n",
    "GravworkVal = data[9].tolist()\n",
    "etamaxVal = data[10].tolist()\n",
    "etaminVal = data[11].tolist() "
   ]
  },
  {
   "cell_type": "markdown",
   "metadata": {},
   "source": [
    "**Conditions on the boundaries**"
   ]
  },
  {
   "cell_type": "code",
   "execution_count": 7,
   "metadata": {
    "collapsed": true
   },
   "outputs": [],
   "source": [
    "iWalls = mesh.specialSets[\"MinI_VertexSet\"] + mesh.specialSets[\"MaxI_VertexSet\"]\n",
    "jWalls = mesh.specialSets[\"MinJ_VertexSet\"] + mesh.specialSets[\"MaxJ_VertexSet\"]\n",
    "freeslipBC = uw.conditions.DirichletCondition( variable      = velocityField, \n",
    "                                               indexSetsPerDof = (iWalls, jWalls) )\n",
    "tempBC     = uw.conditions.DirichletCondition( variable      = temperatureField, \n",
    "                                               indexSetsPerDof = (jWalls,) )"
   ]
  },
  {
   "cell_type": "markdown",
   "metadata": {
    "collapsed": false
   },
   "source": [
    "Set up material parameters and functions\n",
    "-----\n"
   ]
  },
  {
   "cell_type": "markdown",
   "metadata": {},
   "source": [
    "**Viscosity field**\n",
    "\n",
    "The viscosity is a function of temperature ($T$), the vertical coordinate ($z$) and the strain rate ($\\dot{\\epsilon}$) and is given by\n",
    "\n",
    "$$\n",
    "    \\eta(T, z, \\dot{\\epsilon}) = 2 \\left( \\frac{1}{\\eta_{lin}(T,z)} + \\frac{1}{\\eta_{plast}(\\dot{\\epsilon})} \\right)^{-1}\n",
    "$$\n",
    "\n",
    "where the linear part is\n",
    "\n",
    "$$\n",
    "    \\eta_{lin}(T, z) = \\exp(-\\gamma_T T + \\gamma_z z)\n",
    "$$\n",
    "\n",
    "with $\\gamma_T = \\ln(\\Delta \\eta_T)$ and $\\gamma_z = \\ln(\\Delta \\eta_z)$. The nonlinear part is\n",
    "\n",
    "$$\n",
    "    \\eta_{plast}(\\dot{\\epsilon}) = \\eta^* + \\frac{\\sigma_{\\gamma}}{\\sqrt{\\dot{\\epsilon} : \\dot{\\epsilon}}}\n",
    "$$\n",
    "\n",
    "where $\\eta^*$ is the effective viscosity at high stresses and $\\sigma_{\\gamma}$ is the yield stress. The values of $\\Delta \\eta_T$, $\\Delta \\eta_z$, $\\eta^*$ and $\\sigma_{\\gamma}$ are assumed to be constant with values dependent on the particular case."
   ]
  },
  {
   "cell_type": "markdown",
   "metadata": {},
   "source": [
    "**Create variables required for plasticity calculations**"
   ]
  },
  {
   "cell_type": "code",
   "execution_count": 8,
   "metadata": {
    "collapsed": false
   },
   "outputs": [],
   "source": [
    "secinv = fn.tensor.second_invariant( fn.tensor.symmetric( velocityField.fn_gradient ) )\n",
    "coordinate = fn.coord()"
   ]
  },
  {
   "cell_type": "markdown",
   "metadata": {},
   "source": [
    "**Setup viscosity functions**\n",
    "\n",
    "Remember to use floats everywhere when setting up functions"
   ]
  },
  {
   "cell_type": "code",
   "execution_count": 9,
   "metadata": {
    "collapsed": false
   },
   "outputs": [],
   "source": [
    "viscosityl1 = fn.math.exp(math.log(ETA_T)*-1.*temperatureField)\n",
    "viscosityl2 = fn.math.exp((math.log(ETA_T)*-1.*temperatureField) + (1.-coordinate[1])*math.log(ETA_Y))\n",
    "\n",
    "#Von Mises effective viscosity\n",
    "viscosityp = ETA0 + YSTRESS/(secinv/math.sqrt(0.5)) #extra factor to account for underworld second invariant form\n",
    "\n",
    "if CASE == 1:\n",
    "    fn_viscosity = viscosityl1\n",
    "elif CASE == 2:\n",
    "    fn_viscosity = 2./(1./viscosityl1 + 1./viscosityp)\n",
    "elif CASE == 3:\n",
    "    fn_viscosity = viscosityl2\n",
    "else:\n",
    "    fn_viscosity = 2./(1./viscosityl2 + 1./viscosityp)"
   ]
  },
  {
   "cell_type": "markdown",
   "metadata": {},
   "source": [
    "**Add functions for density and buoyancy**"
   ]
  },
  {
   "cell_type": "code",
   "execution_count": 10,
   "metadata": {
    "collapsed": true
   },
   "outputs": [],
   "source": [
    "densityFn = RA*temperatureField\n",
    "\n",
    "# define our vertical unit vector using a python tuple (this will be automatically converted to a function)\n",
    "z_hat = ( 0.0, 1.0 )\n",
    "\n",
    "# now create a buoyancy force vector using the density (FEvariable) and the vertical unit vector. \n",
    "buoyancyFn = densityFn * z_hat"
   ]
  },
  {
   "cell_type": "markdown",
   "metadata": {},
   "source": [
    "Build the Stokes system and solvers\n",
    "------\n",
    "\n",
    "Setup the Stokes system with linear or nonlinear visocity viscosity depending on case."
   ]
  },
  {
   "cell_type": "code",
   "execution_count": 11,
   "metadata": {
    "collapsed": false
   },
   "outputs": [],
   "source": [
    "stokesPIC = uw.systems.Stokes(velocityField=velocityField, \n",
    "                              pressureField=pressureField,\n",
    "                              conditions=[freeslipBC,],\n",
    "                              fn_viscosity=fn.exception.SafeMaths(fn_viscosity), \n",
    "                              fn_bodyforce=buoyancyFn)"
   ]
  },
  {
   "cell_type": "markdown",
   "metadata": {},
   "source": [
    "Setup solver for the Stokes system of equations"
   ]
  },
  {
   "cell_type": "code",
   "execution_count": 12,
   "metadata": {
    "collapsed": false
   },
   "outputs": [],
   "source": [
    "solver = uw.systems.Solver( stokesPIC )"
   ]
  },
  {
   "cell_type": "markdown",
   "metadata": {},
   "source": [
    "We do one solve for initial pressure and velocity with linear viscosity to get the initial strain rate invariant. This solve step also calculates a 'guess' of the the velocity field based on the linear system, which is used later in the non-linear solver."
   ]
  },
  {
   "cell_type": "code",
   "execution_count": 13,
   "metadata": {
    "collapsed": false
   },
   "outputs": [],
   "source": [
    "solver.solve( nonLinearIterate=False )"
   ]
  },
  {
   "cell_type": "markdown",
   "metadata": {},
   "source": [
    "Create an advective-diffusive system\n",
    "-----\n",
    "\n",
    "Setup the system in underworld by flagging the temperature and velocity field variables."
   ]
  },
  {
   "cell_type": "code",
   "execution_count": 14,
   "metadata": {
    "collapsed": false
   },
   "outputs": [],
   "source": [
    "advDiff = uw.systems.AdvectionDiffusion( temperatureField, temperatureDotField, velocityField,\n",
    "                                         fn_diffusivity=1., conditions=[tempBC,] )"
   ]
  },
  {
   "cell_type": "markdown",
   "metadata": {},
   "source": [
    "Metrics for benchmark\n",
    "-----\n",
    "\n",
    "Define diagnostic functions to be used in the time loop and/or measured after reaching steady state:\n",
    "\n",
    "* Average temperature\n",
    "$$  \\langle T \\rangle  = \\int^1_0 \\int^1_0 T \\, dxdy $$\n",
    "* Top and bottom Nusselt numbers\n",
    "$$Nu_{top/bot} = - \\left. \\int^1_0 \\frac{\\partial T}{\\partial y} \\right|_{y=1/y=0} \\, dx$$\n",
    "* RMS velocity over the whole domain, surface and max velocity at surface\n",
    "$$u_{RMS} = \\left( \\int_0^1 \\int_0^1 \\left( u_x^2 + u_y^2 \\right) dx dy \\right)^{1/2}$$\n",
    "$$u_{RMS}^{surf} = \\left( \\left. \\int_0^1 u_x^2\\right|_{y=1} dx \\right)^{1/2}$$\n",
    "$$u_{max}^{surf} = \\left. \\max(u_x)\\right|_{y=1}$$\n",
    "* max and min viscosity over the whole domain\n",
    "$$\\eta_{max/min} = \\max / \\min \\left( \\eta\\left(x,y\\right) \\right)$$\n",
    "* average rate of work done against gravity\n",
    "$$\\langle W \\rangle = \\int^1_0 \\int^1_0 T u_y \\, dx dy$$\n",
    "* and the average rate of viscous dissipation\n",
    "$$\\langle \\Phi \\rangle = \\int^1_0 \\int^1_0 \\tau_{ij} \\dot \\epsilon_{ij} \\, dx dy$$\n",
    "\n",
    "* In steady state, if thermal energy is accurately conserved, the difference between $\\langle W \\rangle$ and $\\langle \\Phi \\rangle / Ra$ must vanish, so also reported is the percentage error: \n",
    "\n",
    "$$ \\delta = \\frac{\\lvert \\langle W \\rangle - \\frac{\\langle \\Phi \\rangle}{Ra} \\rvert}{max \\left(  \\langle W \\rangle,  \\frac{\\langle \\Phi \\rangle}{Ra}\\right)} \\times 100% $$"
   ]
  },
  {
   "cell_type": "markdown",
   "metadata": {},
   "source": [
    "**Setup volume integrals used in metric functions**"
   ]
  },
  {
   "cell_type": "code",
   "execution_count": 15,
   "metadata": {
    "collapsed": false
   },
   "outputs": [],
   "source": [
    "# temperature\n",
    "tempint = uw.utils.Integral( temperatureField, mesh )\n",
    "# area\n",
    "areaint = uw.utils.Integral( 1.,               mesh )\n",
    "# velocity squared\n",
    "v2int   = uw.utils.Integral(fn.math.dot(velocityField,velocityField), mesh)\n",
    "# work done\n",
    "dwint   = uw.utils.Integral(temperatureField*velocityField[1], mesh)\n",
    "# viscous dissipation\n",
    "sinner = fn.math.dot(secinv,secinv)\n",
    "vdint = uw.utils.Integral((4.*fn_viscosity*sinner), mesh)"
   ]
  },
  {
   "cell_type": "markdown",
   "metadata": {},
   "source": [
    "**Setup surface integrals used in metric functions**"
   ]
  },
  {
   "cell_type": "code",
   "execution_count": 16,
   "metadata": {
    "collapsed": false
   },
   "outputs": [],
   "source": [
    "rmsSurfInt = uw.utils.Integral( fn=velocityField[0]*velocityField[0], mesh=mesh, integrationType='Surface', \n",
    "                          surfaceIndexSet=mesh.specialSets[\"MaxJ_VertexSet\"])\n",
    "nuTop      = uw.utils.Integral( fn=temperatureField.fn_gradient[1], mesh=mesh, integrationType='Surface', \n",
    "                          surfaceIndexSet=mesh.specialSets[\"MaxJ_VertexSet\"])\n",
    "nuBottom   = uw.utils.Integral( fn=temperatureField.fn_gradient[1], mesh=mesh, integrationType='Surface', \n",
    "                          surfaceIndexSet=mesh.specialSets[\"MinJ_VertexSet\"])"
   ]
  },
  {
   "cell_type": "markdown",
   "metadata": {},
   "source": [
    "**Define diagnostic functions using integrals**"
   ]
  },
  {
   "cell_type": "code",
   "execution_count": 17,
   "metadata": {
    "collapsed": false
   },
   "outputs": [],
   "source": [
    "def avg_temp():\n",
    "    return tempint.evaluate()[0]/areaint.evaluate()[0]\n",
    "\n",
    "def nusseltTB(temp_field, mesh):\n",
    "    return -nuTop.evaluate()[0], -nuBottom.evaluate()[0]\n",
    "\n",
    "def rms():\n",
    "    return math.sqrt(v2int.evaluate()[0]/areaint.evaluate()[0])\n",
    "\n",
    "def rms_surf():\n",
    "    return math.sqrt(rmsSurfInt.evaluate()[0])\n",
    "\n",
    "def max_vx_surf(velfield, mesh):\n",
    "    vuvelxfn = fn.view.min_max(velfield[0])\n",
    "    vuvelxfn.evaluate(mesh.specialSets[\"MaxJ_VertexSet\"])\n",
    "    return vuvelxfn.max_global()\n",
    "\n",
    "def gravwork(workfn):\n",
    "    return workfn.evaluate()[0]\n",
    "\n",
    "def viscdis(vdissfn):\n",
    "    return vdissfn.evaluate()[0]\n",
    "\n",
    "def visc_extr(viscfn):\n",
    "    vuviscfn = fn.view.min_max(viscfn)\n",
    "    vuviscfn.evaluate(mesh)\n",
    "    return vuviscfn.max_global(), vuviscfn.min_global()"
   ]
  },
  {
   "cell_type": "code",
   "execution_count": 18,
   "metadata": {
    "collapsed": false
   },
   "outputs": [],
   "source": [
    "#Fields for saving data / fields\n",
    "rmsField = uw.mesh.MeshVariable( mesh=mesh, nodeDofCount=1 )\n",
    "rmsfn    = fn.math.sqrt( fn.math.dot( velocityField, velocityField ) )\n",
    "rmsdata  = rmsfn.evaluate( mesh )\n",
    "rmsField.data[:] = rmsdata \n",
    "\n",
    "viscField = uw.mesh.MeshVariable( mesh=mesh, nodeDofCount=1 )\n",
    "viscdata  = fn_viscosity.evaluate( mesh )\n",
    "viscField.data[:] = viscdata\n",
    "\n",
    "stressField = uw.mesh.MeshVariable( mesh=mesh, nodeDofCount=1)\n",
    "srtdata     = fn.tensor.second_invariant( fn.tensor.symmetric( velocityField.fn_gradient ) )\n",
    "rostfield   = srtdata.evaluate( mesh )\n",
    "stressinv   = 2*viscdata*rostfield[:]\n",
    "stressField.data[:] = stressinv"
   ]
  },
  {
   "cell_type": "markdown",
   "metadata": {},
   "source": [
    "Main simulation loop\n",
    "------\n",
    "\n",
    "Normally a loop over time increments would be added here. As we are only interested in the post-analysis a single time step will be taken to ensure that all analysis fields are live. This step will involve the non-linear Stokes system solver."
   ]
  },
  {
   "cell_type": "code",
   "execution_count": 19,
   "metadata": {
    "collapsed": false
   },
   "outputs": [],
   "source": [
    "steps_todo = 1"
   ]
  },
  {
   "cell_type": "markdown",
   "metadata": {
    "collapsed": false
   },
   "source": [
    "Initialise steps and time. Set to zero unless loading values from file."
   ]
  },
  {
   "cell_type": "code",
   "execution_count": 20,
   "metadata": {
    "collapsed": false
   },
   "outputs": [
    {
     "name": "stdout",
     "output_type": "stream",
     "text": [
      "This model has previously completed  48900 steps to get to time = 0.564\n"
     ]
    }
   ],
   "source": [
    "try:\n",
    "    realtime = timeVal[-1]\n",
    "    step = int(stepsVal[-1])\n",
    "except:\n",
    "    realtime = 0.0\n",
    "    step = 0\n",
    "steps_end = step + steps_todo\n",
    "steps_output = 100\n",
    "steps_output = max(steps_output,1)\n",
    "print('This model has previously completed {0:6d} steps to get to time = {1:.3f}'.format(step,realtime))"
   ]
  },
  {
   "cell_type": "code",
   "execution_count": 21,
   "metadata": {
    "collapsed": false
   },
   "outputs": [],
   "source": [
    "# initialise timer for computation\n",
    "start = time.clock()\n",
    "# start loop\n",
    "while step < steps_end:\n",
    "    # Solve non-linear system\n",
    "    solver.solve(nonLinearIterate=True)\n",
    "    dt = advDiff.get_max_dt()\n",
    "    if step == 0:\n",
    "        dt = 0.\n",
    "    # Advect using this timestep size   \n",
    "    advDiff.integrate(dt)\n",
    "    # Increment\n",
    "    realtime += dt\n",
    "    step += 1\n",
    "    # Calculate the Metrics, only on 1 of the processors:\n",
    "    Avg_temp = avg_temp()\n",
    "    Rms = rms()\n",
    "    Rms_surf = rms_surf()\n",
    "    Max_vx_surf = max_vx_surf(velocityField, mesh)\n",
    "    Gravwork = gravwork(dwint)\n",
    "    Viscdis = viscdis(vdint)\n",
    "    nu1, nu0 = nusseltTB(temperatureField, mesh) # return top then bottom\n",
    "    etamax, etamin = visc_extr(fn_viscosity)\n",
    "    # store results\n",
    "    stepsVal.append(       step)\n",
    "    timeVal.append(        realtime )\n",
    "    viscdisVal.append(     Viscdis )\n",
    "    nu0Val.append(         nu0 )\n",
    "    nu1Val.append(         nu1 )\n",
    "    Avg_tempVal.append(    Avg_temp )\n",
    "    vrmsVal.append(        Rms )\n",
    "    Rms_surfVal.append(    Rms_surf )\n",
    "    Max_vx_surfVal.append( Max_vx_surf )\n",
    "    GravworkVal.append(    Gravwork )\n",
    "    etamaxVal.append(      etamax )\n",
    "    etaminVal.append(      etamin )\n",
    "\n",
    "    # output fields and summary info to file (output graphics can also be added here)\n",
    "    if uw.rank()==0:\n",
    "        if (step % steps_output == 0) or (step == steps_end-1):\n",
    "            print 'step =',step, '; CPU time =', time.clock()-start, '; vrms = ',Rms\n",
    "            # Temperature\n",
    "            fnametemp = \"temperatureField_\" + str(step).zfill(6) + \".h5\"\n",
    "            fullpath = os.path.join(outputPath + \"files/\" + fnametemp)\n",
    "            temperatureField.save(fullpath)\n",
    "            # Temperature time derivative\n",
    "            fnametemp = \"temperatureDotField_\" + str(step).zfill(6) + \".h5\"\n",
    "            fullpath = os.path.join(outputPath + \"files/\" + fnametemp)\n",
    "            temperatureDotField.save(fullpath)\n",
    "            # Pressure\n",
    "            fnametemp = \"pressureField_\" + str(step).zfill(6) + \".h5\"\n",
    "            fullpath = os.path.join(outputPath + \"files/\" + fnametemp)\n",
    "            pressureField.save(fullpath)\n",
    "            # Velocity\n",
    "            fnametemp = \"velocityField_\" + str(step).zfill(6) + \".h5\"\n",
    "            fullpath = os.path.join(outputPath + \"files/\" + fnametemp)\n",
    "            velocityField.save(fullpath)\n",
    "\n",
    "            np.savetxt( outputPath + 'Summary.txt', np.c_[stepsVal, timeVal, viscdisVal, nu0Val, \n",
    "                                                          nu1Val, Avg_tempVal, vrmsVal, Rms_surfVal,\n",
    "                                                         Max_vx_surfVal, GravworkVal, etamaxVal, etaminVal], \n",
    "                   header=\"Steps, Time, visc, Nusselt bottom/top, av_T, vrms, surf_rms, surf_max, grav, etamax, etamin\" )"
   ]
  },
  {
   "cell_type": "markdown",
   "metadata": {},
   "source": [
    "Post-simulation analysis\n",
    "-------\n",
    "\n",
    "Here we will calculate the quantities specified for this case in Tosi et al. (2015) and finally compare them to the values given in their Table 2."
   ]
  },
  {
   "cell_type": "markdown",
   "metadata": {},
   "source": [
    "**Plot final temperature and velocity fields**"
   ]
  },
  {
   "cell_type": "code",
   "execution_count": 22,
   "metadata": {
    "collapsed": false
   },
   "outputs": [
    {
     "data": {
      "text/html": [
       "<img src='data:image/png;base64,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'>"
      ],
      "text/plain": [
       "<IPython.core.display.HTML object>"
      ]
     },
     "execution_count": 22,
     "metadata": {},
     "output_type": "execute_result"
    }
   ],
   "source": [
    "velmax = np.amax(velocityField.data[:])\n",
    "if(velmax==0.0): velmax = 1.0\n",
    "fig1 = glucifer.Figure()\n",
    "fig1.append( glucifer.objects.Surface(mesh, temperatureField) )\n",
    "fig1.append( glucifer.objects.VectorArrows(mesh, velocityField/velmax, scaling=0.1, arrowHead=0.2) )\n",
    "fig1.show()"
   ]
  },
  {
   "cell_type": "markdown",
   "metadata": {},
   "source": [
    "**Calculate quantities for benchmark comparison**"
   ]
  },
  {
   "cell_type": "code",
   "execution_count": 23,
   "metadata": {
    "collapsed": true
   },
   "outputs": [],
   "source": [
    "tempAv = Avg_tempVal[-1]\n",
    "nuTop = nu1Val[-1]\n",
    "nuBot = nu0Val[-1]\n",
    "uRMS = vrmsVal[-1]\n",
    "uSurfRMS = Rms_surfVal[-1]\n",
    "uSurfMax = Max_vx_surfVal[-1]\n",
    "etaMin = etaminVal[-1]\n",
    "etaMax = etamaxVal[-1]\n",
    "workDone = GravworkVal[-1]\n",
    "phi = viscdisVal[-1]/100.\n",
    "delta = abs(workDone - phi)/max(workDone, phi) * 100."
   ]
  },
  {
   "cell_type": "markdown",
   "metadata": {},
   "source": [
    "**Output all quantities for this case**"
   ]
  },
  {
   "cell_type": "code",
   "execution_count": 24,
   "metadata": {
    "collapsed": false
   },
   "outputs": [
    {
     "name": "stdout",
     "output_type": "stream",
     "text": [
      "<T>        = 0.5281\n",
      "Nu_top     = 6.6091\n",
      "Nu_bot     = 6.5810\n",
      "u_rms      = 79.1932\n",
      "u^surf_rms = 75.1701\n",
      "u^surf_max = 88.9595\n",
      "eta_min    = 1.9181e-04\n",
      "eta_max    = 1.8824\n",
      "W          = 5.6231\n",
      "Phi        = 5.6181\n",
      "delta      = 0.0901%\n"
     ]
    }
   ],
   "source": [
    "print('<T>        = {0:.4f}'.format(tempAv))\n",
    "print('Nu_top     = {0:.4f}'.format(nuTop))\n",
    "print('Nu_bot     = {0:.4f}'.format(nuBot))\n",
    "print('u_rms      = {0:.4f}'.format(uRMS))\n",
    "print('u^surf_rms = {0:.4f}'.format(uSurfRMS))\n",
    "print('u^surf_max = {0:.4f}'.format(uSurfMax))\n",
    "print('eta_min    = {0:.4e}'.format(etaMin))\n",
    "print('eta_max    = {0:.4f}'.format(etaMax))\n",
    "print('W          = {0:.4f}'.format(workDone))\n",
    "print('Phi        = {0:.4f}'.format(phi))\n",
    "print('delta      = {0:.4f}%'.format(delta))"
   ]
  },
  {
   "cell_type": "markdown",
   "metadata": {},
   "source": [
    "**Comparison values from Tosi et al. (2015)**\n",
    "\n",
    "The expected benchmark values from Table 2 of Tosi et al. (2015) for case 4 are given in the table below. The minimum and maximum values from each of the participating codes are given here to provide an expected range for each quantity.\n",
    "\n",
    "| Case 4  | $<$$T$$>$ | $Nu_{top}$ | $Nu_{bot}$ | $u_{RMS}$ | $u_{RMS}^{surf}$ | $u_{max}^{surf}$ | $\\eta_{min}$ | $\\eta_{max}$ | $<$$W$$>$ |  $<$$\\Phi$$>$/Ra | $\\delta$ |\n",
    "|:--------|:---------:|:----------:|:----------:|:---------:|:----------------:|:----------------:|:------------:|:------------:|:------------:|:------------------:|:--------:|\n",
    "| Min     | 0.5273 | 6.5572 | 6.5243 | 78.6652 | 74.1719 | 88.8130 | 1.9467$\\times 10^{-4}$ | 1.1800 | 5.5903 | 5.5434 | $<$0.01% |\n",
    "| Max     | 0.5289 | 6.6822 | 6.6690 | 79.6202 | 75.4814 | 88.9848 | 1.9900$\\times 10^{-4}$ | 1.9834 | 5.6512 | 5.6463 | 0.84% |\n",
    "\n",
    "Note that the values from the spectral code MC3D are not used to construct the min/max values here, as they are outlier values."
   ]
  }
 ],
 "metadata": {
  "kernelspec": {
   "display_name": "Python 2",
   "language": "python",
   "name": "python2"
  },
  "language_info": {
   "codemirror_mode": {
    "name": "ipython",
    "version": 2
   },
   "file_extension": ".py",
   "mimetype": "text/x-python",
   "name": "python",
   "nbconvert_exporter": "python",
   "pygments_lexer": "ipython2",
   "version": "2.7.10"
  }
 },
 "nbformat": 4,
 "nbformat_minor": 0
}
