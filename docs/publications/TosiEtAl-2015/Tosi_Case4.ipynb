{
 "cells": [
  {
   "cell_type": "markdown",
   "metadata": {
    "collapsed": true
   },
   "source": [
    "Viscoplastic thermal convection in a 2-D square box: Tosi et al. 2015\n",
    "=====\n",
    "\n",
    "This series of notebooks generates benchmark models from the Tosi et al. (2015) in Underworld2. The Underworld2 results are then directly compared to the results from Table 2 of Tosi et al. (2015) the paper for each case. The notebooks are broken into a general notebook for reproducing the models from scratch and 5 post-analysis notebooks which look at the results Underworld2 gives for each case after running to equilibrium. \n",
    "\n",
    "Case 4: Mobile lid (larger viscosity contrast)\n",
    "-------\n",
    "\n",
    "This case has a temperatureand strain rate-dependent nonlinear rheology, like case 2, but with a larger value for the depth-dependent viscosity contrast ($\\Delta \\eta_y$).\n",
    "The parameters used for case 4 are: $Ra = 10^2$, $\\Delta \\eta_T = 10^5$, $\\eta^* = 10^{-3}$, $\\Delta \\eta_z = 10$ and $\\sigma_\\gamma = 1$.\n",
    "\n",
    "\n",
    "References\n",
    "-----\n",
    "\n",
    "1. Tosi, Nicola and Stein, Claudia and Noack, Lena and H&uuml;ttig, Christian and Maierov&aacute;, Petra and Samuel, Henri and Davies, DR and Wilson, CR and Kramer, SC and Thieulot, Cedric and others. 2015. _A community benchmark for viscoplastic thermal convection in a 2-D square box_.\n",
    "\n"
   ]
  },
  {
   "cell_type": "markdown",
   "metadata": {},
   "source": [
    "Load python functions needed for underworld. Some additional python functions from os, math and numpy used later on."
   ]
  },
  {
   "cell_type": "code",
   "execution_count": 1,
   "metadata": {
    "collapsed": false
   },
   "outputs": [],
   "source": [
    "%matplotlib inline\n",
    "import underworld as uw\n",
    "import math\n",
    "from underworld import function as fn\n",
    "import glucifer\n",
    "import matplotlib.pyplot as pyplot\n",
    "import matplotlib.pylab as pylab\n",
    "import time\n",
    "import numpy as np\n",
    "import os"
   ]
  },
  {
   "cell_type": "markdown",
   "metadata": {},
   "source": [
    "Set physical constants and parameters, including the Rayleigh number (*Ra*) and viscosity constants ($\\eta^*$ and $\\eta_T$) which are common to all Tosi et al cases."
   ]
  },
  {
   "cell_type": "code",
   "execution_count": 2,
   "metadata": {
    "collapsed": false
   },
   "outputs": [],
   "source": [
    "RA  = 1e2        # Rayleigh number\n",
    "ETA_T = 1e5      # common viscosity constant\n",
    "TS  = 0          # surface temperature\n",
    "TB  = 1          # bottom boundary temperature (melting point)\n",
    "ETA0 = 1e-3      # viscosity constant eta^* in Tosi et al\n",
    "TMAX = 3.0\n",
    "IMAX = 1000"
   ]
  },
  {
   "cell_type": "markdown",
   "metadata": {},
   "source": [
    "Select case 2 of Tosi et al (2015) and set constants as required."
   ]
  },
  {
   "cell_type": "code",
   "execution_count": 3,
   "metadata": {
    "collapsed": false
   },
   "outputs": [],
   "source": [
    "CASE = 4\n",
    "ETA_Y = 10.\n",
    "YSTRESS = 1."
   ]
  },
  {
   "cell_type": "markdown",
   "metadata": {},
   "source": [
    "Set input and output file directories"
   ]
  },
  {
   "cell_type": "code",
   "execution_count": 4,
   "metadata": {
    "collapsed": false
   },
   "outputs": [],
   "source": [
    "# input file directory\n",
    "inputPath  = 'TosiInput/case' + str(CASE) + \"/\"\n",
    "# output files\n",
    "outputPath = 'TosiOutput/'\n",
    "filePath   = outputPath+'files'\n",
    "# make directories if they don't exist\n",
    "if not os.path.isdir(outputPath):\n",
    "    os.makedirs(outputPath)\n",
    "if not os.path.isdir(filePath):\n",
    "    os.makedirs(filePath)"
   ]
  },
  {
   "cell_type": "markdown",
   "metadata": {},
   "source": [
    "Create mesh and finite element variables\n",
    "------\n",
    "\n",
    "Set up mesh and field variables that are solved on the mesh."
   ]
  },
  {
   "cell_type": "code",
   "execution_count": 5,
   "metadata": {
    "collapsed": false
   },
   "outputs": [],
   "source": [
    "res = 128\n",
    "mesh = uw.mesh.FeMesh_Cartesian( elementType = (\"Q1/dQ0\"), \n",
    "                                 elementRes  = (res, res), \n",
    "                                 minCoord    = (0., 0.), \n",
    "                                 maxCoord    = (1., 1.))\n",
    "\n",
    "velocityField       = uw.mesh.MeshVariable( mesh=mesh,         nodeDofCount=2 )\n",
    "pressureField       = uw.mesh.MeshVariable( mesh=mesh.subMesh, nodeDofCount=1 )\n",
    "temperatureField    = uw.mesh.MeshVariable( mesh=mesh,         nodeDofCount=1 )\n",
    "temperatureDotField = uw.mesh.MeshVariable( mesh=mesh,         nodeDofCount=1 )"
   ]
  },
  {
   "cell_type": "markdown",
   "metadata": {},
   "source": [
    "Set initial conditions and boundary conditions\n",
    "----------\n",
    "\n",
    "Load all variable fields and summary data with data from previously run cases."
   ]
  },
  {
   "cell_type": "code",
   "execution_count": 6,
   "metadata": {
    "collapsed": false
   },
   "outputs": [],
   "source": [
    "# load fields\n",
    "temperatureField.load(    inputPath+'temperatureField.h5' )\n",
    "temperatureDotField.load( inputPath+'temperatureDotField.h5' )\n",
    "pressureField.load(       inputPath+'pressureField.h5')\n",
    "velocityField.load(       inputPath+'velocityField.h5')\n",
    "\n",
    "# load past iterations of summary data\n",
    "data = np.loadtxt( inputPath+'Summary.txt', unpack=True )\n",
    "stepsVal = data[0].tolist()\n",
    "timeVal = data[1].tolist()\n",
    "viscdisVal = data[2].tolist()\n",
    "nu0Val = data[3].tolist()\n",
    "nu1Val = data[4].tolist()\n",
    "Avg_tempVal = data[5].tolist()\n",
    "vrmsVal = data[6].tolist()\n",
    "Rms_surfVal = data[7].tolist()\n",
    "Max_vx_surfVal = data[8].tolist()\n",
    "GravworkVal = data[9].tolist()\n",
    "etamaxVal = data[10].tolist()\n",
    "etaminVal = data[11].tolist() "
   ]
  },
  {
   "cell_type": "markdown",
   "metadata": {},
   "source": [
    "**Conditions on the boundaries**"
   ]
  },
  {
   "cell_type": "code",
   "execution_count": 7,
   "metadata": {
    "collapsed": true
   },
   "outputs": [],
   "source": [
    "iWalls = mesh.specialSets[\"MinI_VertexSet\"] + mesh.specialSets[\"MaxI_VertexSet\"]\n",
    "jWalls = mesh.specialSets[\"MinJ_VertexSet\"] + mesh.specialSets[\"MaxJ_VertexSet\"]\n",
    "freeslipBC = uw.conditions.DirichletCondition( variable      = velocityField, \n",
    "                                               indexSetsPerDof = (iWalls, jWalls) )\n",
    "tempBC     = uw.conditions.DirichletCondition( variable      = temperatureField, \n",
    "                                               indexSetsPerDof = (jWalls,) )"
   ]
  },
  {
   "cell_type": "markdown",
   "metadata": {
    "collapsed": false
   },
   "source": [
    "Set up material parameters and functions\n",
    "-----\n"
   ]
  },
  {
   "cell_type": "markdown",
   "metadata": {},
   "source": [
    "**Viscosity field**\n",
    "\n",
    "The viscosity is a function of temperature ($T$), the vertical coordinate ($z$) and the strain rate ($\\dot{\\epsilon}$) and is given by\n",
    "\n",
    "$$\n",
    "    \\eta(T, z, \\dot{\\epsilon}) = 2 \\left( \\frac{1}{\\eta_{lin}(T,z)} + \\frac{1}{\\eta_{plast}(\\dot{\\epsilon})} \\right)^{-1}\n",
    "$$\n",
    "\n",
    "where the linear part is\n",
    "\n",
    "$$\n",
    "    \\eta_{lin}(T, z) = \\exp(-\\gamma_T T + \\gamma_z z)\n",
    "$$\n",
    "\n",
    "with $\\gamma_T = \\ln(\\Delta \\eta_T)$ and $\\gamma_z = \\ln(\\Delta \\eta_z)$. The nonlinear part is\n",
    "\n",
    "$$\n",
    "    \\eta_{plast}(\\dot{\\epsilon}) = \\eta^* + \\frac{\\sigma_{\\gamma}}{\\sqrt{\\dot{\\epsilon} : \\dot{\\epsilon}}}\n",
    "$$\n",
    "\n",
    "where $\\eta^*$ is the effective viscosity at high stresses and $\\sigma_{\\gamma}$ is the yield stress. The values of $\\Delta \\eta_T$, $\\Delta \\eta_z$, $\\eta^*$ and $\\sigma_{\\gamma}$ are assumed to be constant with values dependent on the particular case."
   ]
  },
  {
   "cell_type": "markdown",
   "metadata": {},
   "source": [
    "**Create variables required for plasticity calculations**"
   ]
  },
  {
   "cell_type": "code",
   "execution_count": 8,
   "metadata": {
    "collapsed": false
   },
   "outputs": [],
   "source": [
    "secinv = fn.tensor.second_invariant( fn.tensor.symmetric( velocityField.gradientFn ) )\n",
    "coordinate = fn.coord()"
   ]
  },
  {
   "cell_type": "markdown",
   "metadata": {},
   "source": [
    "**Setup viscosity functions**\n",
    "\n",
    "Remember to use floats everywhere when setting up functions"
   ]
  },
  {
   "cell_type": "code",
   "execution_count": 9,
   "metadata": {
    "collapsed": false
   },
   "outputs": [],
   "source": [
    "viscosityl1 = fn.math.exp(math.log(ETA_T)*-1.*temperatureField)\n",
    "viscosityl2 = fn.math.exp((math.log(ETA_T)*-1.*temperatureField) + (1.-coordinate[1])*math.log(ETA_Y))\n",
    "\n",
    "#Von Mises effective viscosity\n",
    "viscosityp = ETA0 + YSTRESS/(secinv/math.sqrt(0.5)) #extra factor to account for underworld second invariant form\n",
    "\n",
    "if CASE == 1:\n",
    "    viscosityFn = viscosityl1\n",
    "elif CASE == 2:\n",
    "    viscosityFn = 2./(1./viscosityl1 + 1./viscosityp)\n",
    "elif CASE == 3:\n",
    "    viscosityFn = viscosityl2\n",
    "else:\n",
    "    viscosityFn = 2./(1./viscosityl2 + 1./viscosityp)"
   ]
  },
  {
   "cell_type": "markdown",
   "metadata": {},
   "source": [
    "**Add functions for density and buoyancy**"
   ]
  },
  {
   "cell_type": "code",
   "execution_count": 10,
   "metadata": {
    "collapsed": true
   },
   "outputs": [],
   "source": [
    "densityFn = RA*temperatureField\n",
    "\n",
    "# define our vertical unit vector using a python tuple (this will be automatically converted to a function)\n",
    "z_hat = ( 0.0, 1.0 )\n",
    "\n",
    "# now create a buoyancy force vector using the density (FEvariable) and the vertical unit vector. \n",
    "buoyancyFn = densityFn * z_hat"
   ]
  },
  {
   "cell_type": "markdown",
   "metadata": {},
   "source": [
    "Build the Stokes system and solvers\n",
    "------\n",
    "\n",
    "Setup the Stokes system with linear or nonlinear visocity viscosity depending on case."
   ]
  },
  {
   "cell_type": "code",
   "execution_count": 11,
   "metadata": {
    "collapsed": false
   },
   "outputs": [],
   "source": [
    "stokesPIC = uw.systems.Stokes(velocityField=velocityField, \n",
    "                              pressureField=pressureField,\n",
    "                              conditions=[freeslipBC,],\n",
    "                              viscosityFn=fn.exception.SafeMaths(viscosityFn), \n",
    "                              bodyForceFn=buoyancyFn)"
   ]
  },
  {
   "cell_type": "markdown",
   "metadata": {},
   "source": [
    "Setup solver for the Stokes system of equations"
   ]
  },
  {
   "cell_type": "code",
   "execution_count": 12,
   "metadata": {
    "collapsed": false
   },
   "outputs": [],
   "source": [
    "solver = uw.systems.Solver( stokesPIC )"
   ]
  },
  {
   "cell_type": "markdown",
   "metadata": {},
   "source": [
    "We do one solve for initial pressure and velocity with linear viscosity to get the initial strain rate invariant. This solve step also calculates a 'guess' of the the velocity field based on the linear system, which is used later in the non-linear solver."
   ]
  },
  {
   "cell_type": "code",
   "execution_count": 13,
   "metadata": {
    "collapsed": false
   },
   "outputs": [],
   "source": [
    "solver.solve( nonLinearIterate=False )"
   ]
  },
  {
   "cell_type": "markdown",
   "metadata": {},
   "source": [
    "Create an advective-diffusive system\n",
    "-----\n",
    "\n",
    "Setup the system in underworld by flagging the temperature and velocity field variables."
   ]
  },
  {
   "cell_type": "code",
   "execution_count": 14,
   "metadata": {
    "collapsed": false
   },
   "outputs": [],
   "source": [
    "advDiff = uw.systems.AdvectionDiffusion( temperatureField, temperatureDotField, velocityField,\n",
    "                                         diffusivity=1., conditions=[tempBC,] )"
   ]
  },
  {
   "cell_type": "markdown",
   "metadata": {},
   "source": [
    "Metrics for benchmark\n",
    "-----\n",
    "\n",
    "Define diagnostic functions to be used in the time loop and/or measured after reaching steady state:\n",
    "\n",
    "* Average temperature\n",
    "$$  \\langle T \\rangle  = \\int^1_0 \\int^1_0 T \\, dxdy $$\n",
    "* Top and bottom Nusselt numbers\n",
    "$$Nu_{top/bot} = - \\left. \\int^1_0 \\frac{\\partial T}{\\partial y} \\right|_{y=1/y=0} \\, dx$$\n",
    "* RMS velocity over the whole domain, surface and max velocity at surface\n",
    "$$u_{RMS} = \\left( \\int_0^1 \\int_0^1 \\left( u_x^2 + u_y^2 \\right) dx dy \\right)^{1/2}$$\n",
    "$$u_{RMS}^{surf} = \\left( \\left. \\int_0^1 u_x^2\\right|_{y=1} dx \\right)^{1/2}$$\n",
    "$$u_{max}^{surf} = \\left. \\max(u_x)\\right|_{y=1}$$\n",
    "* max and min viscosity over the whole domain\n",
    "$$\\eta_{max/min} = \\max / \\min \\left( \\eta\\left(x,y\\right) \\right)$$\n",
    "* average rate of work done against gravity\n",
    "$$\\langle W \\rangle = \\int^1_0 \\int^1_0 T u_y \\, dx dy$$\n",
    "* and the average rate of viscous dissipation\n",
    "$$\\langle \\Phi \\rangle = \\int^1_0 \\int^1_0 \\tau_{ij} \\dot \\epsilon_{ij} \\, dx dy$$\n",
    "\n",
    "* In steady state, if thermal energy is accurately conserved, the difference between $\\langle W \\rangle$ and $\\langle \\Phi \\rangle / Ra$ must vanish, so also reported is the percentage error: \n",
    "\n",
    "$$ \\delta = \\frac{\\lvert \\langle W \\rangle - \\frac{\\langle \\Phi \\rangle}{Ra} \\rvert}{max \\left(  \\langle W \\rangle,  \\frac{\\langle \\Phi \\rangle}{Ra}\\right)} \\times 100% $$"
   ]
  },
  {
   "cell_type": "markdown",
   "metadata": {},
   "source": [
    "**Setup volume integrals used in metric functions**"
   ]
  },
  {
   "cell_type": "code",
   "execution_count": 15,
   "metadata": {
    "collapsed": false
   },
   "outputs": [],
   "source": [
    "# temperature\n",
    "tempint = uw.utils.Integral( temperatureField, mesh )\n",
    "# area\n",
    "areaint = uw.utils.Integral( 1.,               mesh )\n",
    "# velocity squared\n",
    "v2int   = uw.utils.Integral(fn.math.dot(velocityField,velocityField), mesh)\n",
    "# work done\n",
    "dwint   = uw.utils.Integral(temperatureField*velocityField[1], mesh)\n",
    "# viscous dissipation\n",
    "sinner = fn.math.dot(secinv,secinv)\n",
    "vdint = uw.utils.Integral((4.*viscosityFn*sinner), mesh)"
   ]
  },
  {
   "cell_type": "markdown",
   "metadata": {},
   "source": [
    "**Setup surface integrals used in metric functions**"
   ]
  },
  {
   "cell_type": "code",
   "execution_count": 16,
   "metadata": {
    "collapsed": false
   },
   "outputs": [],
   "source": [
    "rmsSurfInt = uw.utils.Integral( fn=velocityField[0]*velocityField[0], mesh=mesh, integrationType='Surface', \n",
    "                          surfaceIndexSet=mesh.specialSets[\"MaxJ_VertexSet\"])\n",
    "nuTop      = uw.utils.Integral( fn=temperatureField.gradientFn[1], mesh=mesh, integrationType='Surface', \n",
    "                          surfaceIndexSet=mesh.specialSets[\"MaxJ_VertexSet\"])\n",
    "nuBottom   = uw.utils.Integral( fn=temperatureField.gradientFn[1], mesh=mesh, integrationType='Surface', \n",
    "                          surfaceIndexSet=mesh.specialSets[\"MinJ_VertexSet\"])"
   ]
  },
  {
   "cell_type": "markdown",
   "metadata": {},
   "source": [
    "**Define diagnostic functions using integrals**"
   ]
  },
  {
   "cell_type": "code",
   "execution_count": 17,
   "metadata": {
    "collapsed": false
   },
   "outputs": [],
   "source": [
    "def avg_temp():\n",
    "    return tempint.evaluate()[0]/areaint.evaluate()[0]\n",
    "\n",
    "def nusseltTB(temp_field, mesh):\n",
    "    return -nuTop.evaluate()[0], -nuBottom.evaluate()[0]\n",
    "\n",
    "def rms():\n",
    "    return math.sqrt(v2int.evaluate()[0]/areaint.evaluate()[0])\n",
    "\n",
    "def rms_surf():\n",
    "    return math.sqrt(rmsSurfInt.evaluate()[0])\n",
    "\n",
    "def max_vx_surf(velfield, mesh):\n",
    "    vuvelxfn = fn.view.min_max(velfield[0])\n",
    "    vuvelxfn.evaluate(mesh.specialSets[\"MaxJ_VertexSet\"])\n",
    "    return vuvelxfn.max_global()\n",
    "\n",
    "def gravwork(workfn):\n",
    "    return workfn.evaluate()[0]\n",
    "\n",
    "def viscdis(vdissfn):\n",
    "    return vdissfn.evaluate()[0]\n",
    "\n",
    "def visc_extr(viscfn):\n",
    "    vuviscfn = fn.view.min_max(viscfn)\n",
    "    vuviscfn.evaluate(mesh)\n",
    "    return vuviscfn.max_global(), vuviscfn.min_global()"
   ]
  },
  {
   "cell_type": "code",
   "execution_count": 18,
   "metadata": {
    "collapsed": false
   },
   "outputs": [],
   "source": [
    "#Fields for saving data / fields\n",
    "rmsField = uw.mesh.MeshVariable( mesh=mesh, nodeDofCount=1 )\n",
    "rmsfn    = fn.math.sqrt( fn.math.dot( velocityField, velocityField ) )\n",
    "rmsdata  = rmsfn.evaluate( mesh )\n",
    "rmsField.data[:] = rmsdata \n",
    "\n",
    "viscField = uw.mesh.MeshVariable( mesh=mesh, nodeDofCount=1 )\n",
    "viscdata  = viscosityFn.evaluate( mesh )\n",
    "viscField.data[:] = viscdata\n",
    "\n",
    "stressField = uw.mesh.MeshVariable( mesh=mesh, nodeDofCount=1)\n",
    "srtdata     = fn.tensor.second_invariant( fn.tensor.symmetric( velocityField.gradientFn ) )\n",
    "rostfield   = srtdata.evaluate( mesh )\n",
    "stressinv   = 2*viscdata*rostfield[:]\n",
    "stressField.data[:] = stressinv"
   ]
  },
  {
   "cell_type": "markdown",
   "metadata": {},
   "source": [
    "Main simulation loop\n",
    "------\n",
    "\n",
    "Normally a loop over time increments would be added here. As we are only interested in the post-analysis a single time step will be taken to ensure that all analysis fields are live. This step will involve the non-linear Stokes system solver."
   ]
  },
  {
   "cell_type": "code",
   "execution_count": 19,
   "metadata": {
    "collapsed": false
   },
   "outputs": [],
   "source": [
    "steps_todo = 1"
   ]
  },
  {
   "cell_type": "markdown",
   "metadata": {
    "collapsed": false
   },
   "source": [
    "Initialise steps and time. Set to zero unless loading values from file."
   ]
  },
  {
   "cell_type": "code",
   "execution_count": 20,
   "metadata": {
    "collapsed": false
   },
   "outputs": [
    {
     "name": "stdout",
     "output_type": "stream",
     "text": [
      "This model has previously completed  48900 steps to get to time = 0.564\n"
     ]
    }
   ],
   "source": [
    "try:\n",
    "    realtime = timeVal[-1]\n",
    "    step = int(stepsVal[-1])\n",
    "except:\n",
    "    realtime = 0.0\n",
    "    step = 0\n",
    "steps_end = step + steps_todo\n",
    "steps_output = 100\n",
    "steps_output = max(steps_output,1)\n",
    "print('This model has previously completed {0:6d} steps to get to time = {1:.3f}'.format(step,realtime))"
   ]
  },
  {
   "cell_type": "code",
   "execution_count": 21,
   "metadata": {
    "collapsed": false
   },
   "outputs": [],
   "source": [
    "# initialise timer for computation\n",
    "start = time.clock()\n",
    "# start loop\n",
    "while step < steps_end:\n",
    "    # Solve non-linear system\n",
    "    solver.solve(nonLinearIterate=True)\n",
    "    dt = advDiff.get_max_dt()\n",
    "    if step == 0:\n",
    "        dt = 0.\n",
    "    # Advect using this timestep size   \n",
    "    advDiff.integrate(dt)\n",
    "    # Increment\n",
    "    realtime += dt\n",
    "    step += 1\n",
    "    # Calculate the Metrics, only on 1 of the processors:\n",
    "    Avg_temp = avg_temp()\n",
    "    Rms = rms()\n",
    "    Rms_surf = rms_surf()\n",
    "    Max_vx_surf = max_vx_surf(velocityField, mesh)\n",
    "    Gravwork = gravwork(dwint)\n",
    "    Viscdis = viscdis(vdint)\n",
    "    nu1, nu0 = nusseltTB(temperatureField, mesh) # return top then bottom\n",
    "    etamax, etamin = visc_extr(viscosityFn)\n",
    "    # store results\n",
    "    stepsVal.append(       step)\n",
    "    timeVal.append(        realtime )\n",
    "    viscdisVal.append(     Viscdis )\n",
    "    nu0Val.append(         nu0 )\n",
    "    nu1Val.append(         nu1 )\n",
    "    Avg_tempVal.append(    Avg_temp )\n",
    "    vrmsVal.append(        Rms )\n",
    "    Rms_surfVal.append(    Rms_surf )\n",
    "    Max_vx_surfVal.append( Max_vx_surf )\n",
    "    GravworkVal.append(    Gravwork )\n",
    "    etamaxVal.append(      etamax )\n",
    "    etaminVal.append(      etamin )\n",
    "\n",
    "    # output fields and summary info to file (output graphics can also be added here)\n",
    "    if uw.rank()==0:\n",
    "        if (step % steps_output == 0) or (step == steps_end-1):\n",
    "            print 'step =',step, '; CPU time =', time.clock()-start, '; vrms = ',Rms\n",
    "            # Temperature\n",
    "            fnametemp = \"temperatureField_\" + str(step).zfill(6) + \".h5\"\n",
    "            fullpath = os.path.join(outputPath + \"files/\" + fnametemp)\n",
    "            temperatureField.save(fullpath)\n",
    "            # Temperature time derivative\n",
    "            fnametemp = \"temperatureDotField_\" + str(step).zfill(6) + \".h5\"\n",
    "            fullpath = os.path.join(outputPath + \"files/\" + fnametemp)\n",
    "            temperatureDotField.save(fullpath)\n",
    "            # Pressure\n",
    "            fnametemp = \"pressureField_\" + str(step).zfill(6) + \".h5\"\n",
    "            fullpath = os.path.join(outputPath + \"files/\" + fnametemp)\n",
    "            pressureField.save(fullpath)\n",
    "            # Velocity\n",
    "            fnametemp = \"velocityField_\" + str(step).zfill(6) + \".h5\"\n",
    "            fullpath = os.path.join(outputPath + \"files/\" + fnametemp)\n",
    "            velocityField.save(fullpath)\n",
    "\n",
    "            np.savetxt( outputPath + 'Summary.txt', np.c_[stepsVal, timeVal, viscdisVal, nu0Val, \n",
    "                                                          nu1Val, Avg_tempVal, vrmsVal, Rms_surfVal,\n",
    "                                                         Max_vx_surfVal, GravworkVal, etamaxVal, etaminVal], \n",
    "                   header=\"Steps, Time, visc, Nusselt bottom/top, av_T, vrms, surf_rms, surf_max, grav, etamax, etamin\" )"
   ]
  },
  {
   "cell_type": "markdown",
   "metadata": {},
   "source": [
    "Post-simulation analysis\n",
    "-------\n",
    "\n",
    "Here we will calculate the quantities specified for this case in Tosi et al. (2015) and finally compare them to the values given in their Table 2."
   ]
  },
  {
   "cell_type": "markdown",
   "metadata": {},
   "source": [
    "**Plot final temperature and velocity fields**"
   ]
  },
  {
   "cell_type": "code",
   "execution_count": 25,
   "metadata": {
    "collapsed": false
   },
   "outputs": [
    {
     "data": {
      "text/html": [
       "<img src='data:image/png;base64,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'>"
      ],
      "text/plain": [
       "<IPython.core.display.HTML object>"
      ]
     },
     "execution_count": 25,
     "metadata": {},
     "output_type": "execute_result"
    }
   ],
   "source": [
    "velmax = np.amax(velocityField.data[:])\n",
    "if(velmax==0.0): velmax = 1.0\n",
    "fig1 = glucifer.Figure()\n",
    "fig1.append( glucifer.objects.Surface(mesh, temperatureField) )\n",
    "fig1.append( glucifer.objects.VectorArrows(mesh, velocityField/velmax, scaling=0.1, arrowHead=0.2) )\n",
    "fig1.show()"
   ]
  },
  {
   "cell_type": "markdown",
   "metadata": {},
   "source": [
    "**Calculate quantities for benchmark comparison**"
   ]
  },
  {
   "cell_type": "code",
   "execution_count": 23,
   "metadata": {
    "collapsed": true
   },
   "outputs": [],
   "source": [
    "tempAv = Avg_tempVal[-1]\n",
    "nuTop = nu1Val[-1]\n",
    "nuBot = nu0Val[-1]\n",
    "uRMS = vrmsVal[-1]\n",
    "uSurfRMS = Rms_surfVal[-1]\n",
    "uSurfMax = Max_vx_surfVal[-1]\n",
    "etaMin = etaminVal[-1]\n",
    "etaMax = etamaxVal[-1]\n",
    "workDone = GravworkVal[-1]\n",
    "phi = viscdisVal[-1]/100.\n",
    "delta = abs(workDone - phi)/max(workDone, phi) * 100."
   ]
  },
  {
   "cell_type": "markdown",
   "metadata": {},
   "source": [
    "**Output all quantities for this case**"
   ]
  },
  {
   "cell_type": "code",
   "execution_count": 24,
   "metadata": {
    "collapsed": false
   },
   "outputs": [
    {
     "name": "stdout",
     "output_type": "stream",
     "text": [
      "<T>        = 0.5281\n",
      "Nu_top     = 6.6091\n",
      "Nu_bot     = 6.5810\n",
      "u_rms      = 79.1932\n",
      "u^surf_rms = 75.1701\n",
      "u^surf_max = 88.9595\n",
      "eta_min    = 1.9181e-04\n",
      "eta_max    = 1.8824\n",
      "W          = 5.6231\n",
      "Phi        = 5.6181\n",
      "delta      = 0.0901%\n"
     ]
    }
   ],
   "source": [
    "print('<T>        = {0:.4f}'.format(tempAv))\n",
    "print('Nu_top     = {0:.4f}'.format(nuTop))\n",
    "print('Nu_bot     = {0:.4f}'.format(nuBot))\n",
    "print('u_rms      = {0:.4f}'.format(uRMS))\n",
    "print('u^surf_rms = {0:.4f}'.format(uSurfRMS))\n",
    "print('u^surf_max = {0:.4f}'.format(uSurfMax))\n",
    "print('eta_min    = {0:.4e}'.format(etaMin))\n",
    "print('eta_max    = {0:.4f}'.format(etaMax))\n",
    "print('W          = {0:.4f}'.format(workDone))\n",
    "print('Phi        = {0:.4f}'.format(phi))\n",
    "print('delta      = {0:.4f}%'.format(delta))"
   ]
  },
  {
   "cell_type": "markdown",
   "metadata": {},
   "source": [
    "**Comparison values from Tosi et al. (2015)**\n",
    "\n",
    "The expected benchmark values from Table 2 of Tosi et al. (2015) for case 4 are given in the table below. The minimum and maximum values from each of the participating codes are given here to provide an expected range for each quantity.\n",
    "\n",
    "| Case 4  | $<$$T$$>$ | $Nu_{top}$ | $Nu_{bot}$ | $u_{RMS}$ | $u_{RMS}^{surf}$ | $u_{max}^{surf}$ | $\\eta_{min}$ | $\\eta_{max}$ | $<$$W$$>$ |  $<$$\\Phi$$>$/Ra | $\\delta$ |\n",
    "|:--------|:---------:|:----------:|:----------:|:---------:|:----------------:|:----------------:|:------------:|:------------:|:------------:|:------------------:|:--------:|\n",
    "| Min     | 0.5273 | 6.5572 | 6.5243 | 78.6652 | 74.1719 | 88.8130 | 1.9467$\\times 10^{-4}$ | 1.1800 | 5.5903 | 5.5434 | $<$0.01% |\n",
    "| Max     | 0.5289 | 6.6822 | 6.6690 | 79.6202 | 75.4814 | 88.9848 | 1.9900$\\times 10^{-4}$ | 1.9834 | 5.6512 | 5.6463 | 0.84% |\n",
    "\n",
    "Note that the values from the spectral code MC3D are not used to construct the min/max values here, as they are outlier values."
   ]
  }
 ],
 "metadata": {
  "kernelspec": {
   "display_name": "Python 2",
   "language": "python",
   "name": "python2"
  },
  "language_info": {
   "codemirror_mode": {
    "name": "ipython",
    "version": 2
   },
   "file_extension": ".py",
   "mimetype": "text/x-python",
   "name": "python",
   "nbconvert_exporter": "python",
   "pygments_lexer": "ipython2",
   "version": "2.7.10"
  }
 },
 "nbformat": 4,
 "nbformat_minor": 0
}
