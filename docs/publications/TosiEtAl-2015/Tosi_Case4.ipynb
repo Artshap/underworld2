{
 "cells": [
  {
   "cell_type": "markdown",
   "metadata": {
    "collapsed": true
   },
   "source": [
    "Viscoplastic thermal convection in a 2-D square box: Tosi et al. 2015\n",
    "=====\n",
    "\n",
    "This series of notebooks generates benchmark models from the Tosi et al. (2015) in Underworld2. The Underworld2 results are then directly compared to the results from Table 2 of Tosi et al. (2015) the paper for each case. The notebooks are broken into a general notebook for reproducing the models from scratch and 5 post-analysis notebooks which look at the results Underworld2 gives for each case after running to equilibrium. \n",
    "\n",
    "Case 4: Mobile lid (larger viscosity contrast)\n",
    "-------\n",
    "\n",
    "This case has a temperatureand strain rate-dependent nonlinear rheology, like case 2, but with a larger value for the depth-dependent viscosity contrast ($\\Delta \\eta_y$).\n",
    "The parameters used for case 4 are: $Ra = 10^2$, $\\Delta \\eta_T = 10^5$, $\\eta^* = 10^{-3}$, $\\Delta \\eta_z = 10$ and $\\sigma_\\gamma = 1$.\n",
    "\n",
    "\n",
    "References\n",
    "-----\n",
    "\n",
    "1. Tosi, Nicola and Stein, Claudia and Noack, Lena and H&uuml;ttig, Christian and Maierov&aacute;, Petra and Samuel, Henri and Davies, DR and Wilson, CR and Kramer, SC and Thieulot, Cedric and others. 2015. _A community benchmark for viscoplastic thermal convection in a 2-D square box_.\n",
    "\n"
   ]
  },
  {
   "cell_type": "markdown",
   "metadata": {},
   "source": [
    "Load python functions needed for underworld. Some additional python functions from os, math and numpy used later on."
   ]
  },
  {
   "cell_type": "code",
   "execution_count": 1,
   "metadata": {
    "collapsed": false
   },
   "outputs": [
    {
     "name": "stderr",
     "output_type": "stream",
     "text": [
      "/Users/jmansour/virtualenvs/general/lib/python2.7/site-packages/matplotlib/font_manager.py:273: UserWarning: Matplotlib is building the font cache using fc-list. This may take a moment.\n",
      "  warnings.warn('Matplotlib is building the font cache using fc-list. This may take a moment.')\n"
     ]
    }
   ],
   "source": [
    "%matplotlib inline\n",
    "import underworld as uw\n",
    "import math\n",
    "from underworld import function as fn\n",
    "import glucifer\n",
    "import matplotlib.pyplot as pyplot\n",
    "import matplotlib.pylab as pylab\n",
    "import time\n",
    "import numpy as np\n",
    "import os"
   ]
  },
  {
   "cell_type": "markdown",
   "metadata": {},
   "source": [
    "Set physical constants and parameters, including the Rayleigh number (*Ra*) and viscosity constants ($\\eta^*$ and $\\eta_T$) which are common to all Tosi et al cases."
   ]
  },
  {
   "cell_type": "code",
   "execution_count": 2,
   "metadata": {
    "collapsed": false
   },
   "outputs": [],
   "source": [
    "RA  = 1e2        # Rayleigh number\n",
    "ETA_T = 1e5      # common viscosity constant\n",
    "TS  = 0          # surface temperature\n",
    "TB  = 1          # bottom boundary temperature (melting point)\n",
    "ETA0 = 1e-3      # viscosity constant eta^* in Tosi et al\n",
    "TMAX = 3.0\n",
    "IMAX = 1000"
   ]
  },
  {
   "cell_type": "markdown",
   "metadata": {},
   "source": [
    "Select case 2 of Tosi et al (2015) and set constants as required."
   ]
  },
  {
   "cell_type": "code",
   "execution_count": 3,
   "metadata": {
    "collapsed": false
   },
   "outputs": [],
   "source": [
    "CASE = 4\n",
    "ETA_Y = 10.\n",
    "YSTRESS = 1."
   ]
  },
  {
   "cell_type": "markdown",
   "metadata": {},
   "source": [
    "Set input and output file directories"
   ]
  },
  {
   "cell_type": "code",
   "execution_count": 4,
   "metadata": {
    "collapsed": false
   },
   "outputs": [],
   "source": [
    "# input file directory\n",
    "inputPath  = 'TosiInput/case' + str(CASE) + \"/\"\n",
    "# output files\n",
    "outputPath = 'TosiOutput/'\n",
    "filePath   = outputPath+'files'\n",
    "# make directories if they don't exist\n",
    "if not os.path.isdir(outputPath):\n",
    "    os.makedirs(outputPath)\n",
    "if not os.path.isdir(filePath):\n",
    "    os.makedirs(filePath)"
   ]
  },
  {
   "cell_type": "markdown",
   "metadata": {},
   "source": [
    "Create mesh and finite element variables\n",
    "------\n",
    "\n",
    "Set up mesh and field variables that are solved on the mesh."
   ]
  },
  {
   "cell_type": "code",
   "execution_count": 5,
   "metadata": {
    "collapsed": false
   },
   "outputs": [],
   "source": [
    "res = 128\n",
    "mesh = uw.mesh.FeMesh_Cartesian( elementType = (\"Q1/dQ0\"), \n",
    "                                 elementRes  = (res, res), \n",
    "                                 minCoord    = (0., 0.), \n",
    "                                 maxCoord    = (1., 1.))\n",
    "\n",
    "velocityField       = uw.mesh.MeshVariable( mesh=mesh,         nodeDofCount=2 )\n",
    "pressureField       = uw.mesh.MeshVariable( mesh=mesh.subMesh, nodeDofCount=1 )\n",
    "temperatureField    = uw.mesh.MeshVariable( mesh=mesh,         nodeDofCount=1 )\n",
    "temperatureDotField = uw.mesh.MeshVariable( mesh=mesh,         nodeDofCount=1 )"
   ]
  },
  {
   "cell_type": "markdown",
   "metadata": {},
   "source": [
    "Set initial conditions and boundary conditions\n",
    "----------\n",
    "\n",
    "Load all variable fields and summary data with data from previously run cases."
   ]
  },
  {
   "cell_type": "code",
   "execution_count": 6,
   "metadata": {
    "collapsed": false
   },
   "outputs": [],
   "source": [
    "# load fields\n",
    "temperatureField.load(    inputPath+'temperatureField.h5' )\n",
    "temperatureDotField.load( inputPath+'temperatureDotField.h5' )\n",
    "pressureField.load(       inputPath+'pressureField.h5')\n",
    "velocityField.load(       inputPath+'velocityField.h5')\n",
    "\n",
    "# load past iterations of summary data\n",
    "data = np.loadtxt( inputPath+'Summary.txt', unpack=True )\n",
    "stepsVal = data[0].tolist()\n",
    "timeVal = data[1].tolist()\n",
    "viscdisVal = data[2].tolist()\n",
    "nu0Val = data[3].tolist()\n",
    "nu1Val = data[4].tolist()\n",
    "Avg_tempVal = data[5].tolist()\n",
    "vrmsVal = data[6].tolist()\n",
    "Rms_surfVal = data[7].tolist()\n",
    "Max_vx_surfVal = data[8].tolist()\n",
    "GravworkVal = data[9].tolist()\n",
    "etamaxVal = data[10].tolist()\n",
    "etaminVal = data[11].tolist() "
   ]
  },
  {
   "cell_type": "markdown",
   "metadata": {},
   "source": [
    "**Conditions on the boundaries**"
   ]
  },
  {
   "cell_type": "code",
   "execution_count": 7,
   "metadata": {
    "collapsed": true
   },
   "outputs": [],
   "source": [
    "iWalls = mesh.specialSets[\"MinI_VertexSet\"] + mesh.specialSets[\"MaxI_VertexSet\"]\n",
    "jWalls = mesh.specialSets[\"MinJ_VertexSet\"] + mesh.specialSets[\"MaxJ_VertexSet\"]\n",
    "freeslipBC = uw.conditions.DirichletCondition( variable      = velocityField, \n",
    "                                               indexSetsPerDof = (iWalls, jWalls) )\n",
    "tempBC     = uw.conditions.DirichletCondition( variable      = temperatureField, \n",
    "                                               indexSetsPerDof = (jWalls,) )"
   ]
  },
  {
   "cell_type": "markdown",
   "metadata": {
    "collapsed": false
   },
   "source": [
    "Set up material parameters and functions\n",
    "-----\n"
   ]
  },
  {
   "cell_type": "markdown",
   "metadata": {},
   "source": [
    "**Viscosity field**\n",
    "\n",
    "The viscosity is a function of temperature ($T$), the vertical coordinate ($z$) and the strain rate ($\\dot{\\epsilon}$) and is given by\n",
    "\n",
    "$$\n",
    "    \\eta(T, z, \\dot{\\epsilon}) = 2 \\left( \\frac{1}{\\eta_{lin}(T,z)} + \\frac{1}{\\eta_{plast}(\\dot{\\epsilon})} \\right)^{-1}\n",
    "$$\n",
    "\n",
    "where the linear part is\n",
    "\n",
    "$$\n",
    "    \\eta_{lin}(T, z) = \\exp(-\\gamma_T T + \\gamma_z z)\n",
    "$$\n",
    "\n",
    "with $\\gamma_T = \\ln(\\Delta \\eta_T)$ and $\\gamma_z = \\ln(\\Delta \\eta_z)$. The nonlinear part is\n",
    "\n",
    "$$\n",
    "    \\eta_{plast}(\\dot{\\epsilon}) = \\eta^* + \\frac{\\sigma_{\\gamma}}{\\sqrt{\\dot{\\epsilon} : \\dot{\\epsilon}}}\n",
    "$$\n",
    "\n",
    "where $\\eta^*$ is the effective viscosity at high stresses and $\\sigma_{\\gamma}$ is the yield stress. The values of $\\Delta \\eta_T$, $\\Delta \\eta_z$, $\\eta^*$ and $\\sigma_{\\gamma}$ are assumed to be constant with values dependent on the particular case."
   ]
  },
  {
   "cell_type": "markdown",
   "metadata": {},
   "source": [
    "**Create variables required for plasticity calculations**"
   ]
  },
  {
   "cell_type": "code",
   "execution_count": 8,
   "metadata": {
    "collapsed": false
   },
   "outputs": [],
   "source": [
    "secinv = fn.tensor.second_invariant( fn.tensor.symmetric( velocityField.fn_gradient ) )\n",
    "coordinate = fn.coord()"
   ]
  },
  {
   "cell_type": "markdown",
   "metadata": {},
   "source": [
    "**Setup viscosity functions**\n",
    "\n",
    "Remember to use floats everywhere when setting up functions"
   ]
  },
  {
   "cell_type": "code",
   "execution_count": 9,
   "metadata": {
    "collapsed": false
   },
   "outputs": [],
   "source": [
    "viscosityl1 = fn.math.exp(math.log(ETA_T)*-1.*temperatureField)\n",
    "viscosityl2 = fn.math.exp((math.log(ETA_T)*-1.*temperatureField) + (1.-coordinate[1])*math.log(ETA_Y))\n",
    "\n",
    "#Von Mises effective viscosity\n",
    "viscosityp = ETA0 + YSTRESS/(secinv/math.sqrt(0.5)) #extra factor to account for underworld second invariant form\n",
    "\n",
    "if CASE == 1:\n",
    "    fn_viscosity = viscosityl1\n",
    "elif CASE == 2:\n",
    "    fn_viscosity = 2./(1./viscosityl1 + 1./viscosityp)\n",
    "elif CASE == 3:\n",
    "    fn_viscosity = viscosityl2\n",
    "else:\n",
    "    fn_viscosity = 2./(1./viscosityl2 + 1./viscosityp)"
   ]
  },
  {
   "cell_type": "markdown",
   "metadata": {},
   "source": [
    "**Add functions for density and buoyancy**"
   ]
  },
  {
   "cell_type": "code",
   "execution_count": 10,
   "metadata": {
    "collapsed": true
   },
   "outputs": [],
   "source": [
    "densityFn = RA*temperatureField\n",
    "\n",
    "# define our vertical unit vector using a python tuple (this will be automatically converted to a function)\n",
    "z_hat = ( 0.0, 1.0 )\n",
    "\n",
    "# now create a buoyancy force vector using the density (FEvariable) and the vertical unit vector. \n",
    "buoyancyFn = densityFn * z_hat"
   ]
  },
  {
   "cell_type": "markdown",
   "metadata": {},
   "source": [
    "Build the Stokes system and solvers\n",
    "------\n",
    "\n",
    "Setup the Stokes system with linear or nonlinear visocity viscosity depending on case."
   ]
  },
  {
   "cell_type": "code",
   "execution_count": 11,
   "metadata": {
    "collapsed": false
   },
   "outputs": [],
   "source": [
    "stokes = uw.systems.Stokes(velocityField=velocityField, \n",
    "                              pressureField=pressureField,\n",
    "                              conditions=[freeslipBC,],\n",
    "                              fn_viscosity=fn.exception.SafeMaths(fn_viscosity), \n",
    "                              fn_bodyforce=buoyancyFn)"
   ]
  },
  {
   "cell_type": "markdown",
   "metadata": {},
   "source": [
    "Setup solver for the Stokes system of equations"
   ]
  },
  {
   "cell_type": "code",
   "execution_count": 12,
   "metadata": {
    "collapsed": false
   },
   "outputs": [],
   "source": [
    "solver = uw.systems.Solver( stokes )"
   ]
  },
  {
   "cell_type": "markdown",
   "metadata": {},
   "source": [
    "We do one solve for initial pressure and velocity with linear viscosity to get the initial strain rate invariant. This solve step also calculates a 'guess' of the the velocity field based on the linear system, which is used later in the non-linear solver."
   ]
  },
  {
   "cell_type": "code",
   "execution_count": 13,
   "metadata": {
    "collapsed": false
   },
   "outputs": [],
   "source": [
    "solver.solve( nonLinearIterate=False )"
   ]
  },
  {
   "cell_type": "markdown",
   "metadata": {},
   "source": [
    "Create an advective-diffusive system\n",
    "-----\n",
    "\n",
    "Setup the system in underworld by flagging the temperature and velocity field variables."
   ]
  },
  {
   "cell_type": "code",
   "execution_count": 14,
   "metadata": {
    "collapsed": false
   },
   "outputs": [],
   "source": [
    "advDiff = uw.systems.AdvectionDiffusion( temperatureField, temperatureDotField, velocityField,\n",
    "                                         fn_diffusivity=1., conditions=[tempBC,] )"
   ]
  },
  {
   "cell_type": "markdown",
   "metadata": {},
   "source": [
    "Metrics for benchmark\n",
    "-----\n",
    "\n",
    "Define diagnostic functions to be used in the time loop and/or measured after reaching steady state:\n",
    "\n",
    "* Average temperature\n",
    "$$  \\langle T \\rangle  = \\int^1_0 \\int^1_0 T \\, dxdy $$\n",
    "* Top and bottom Nusselt numbers\n",
    "$$Nu_{top/bot} = - \\left. \\int^1_0 \\frac{\\partial T}{\\partial y} \\right|_{y=1/y=0} \\, dx$$\n",
    "* RMS velocity over the whole domain, surface and max velocity at surface\n",
    "$$u_{RMS} = \\left( \\int_0^1 \\int_0^1 \\left( u_x^2 + u_y^2 \\right) dx dy \\right)^{1/2}$$\n",
    "$$u_{RMS}^{surf} = \\left( \\left. \\int_0^1 u_x^2\\right|_{y=1} dx \\right)^{1/2}$$\n",
    "$$u_{max}^{surf} = \\left. \\max(u_x)\\right|_{y=1}$$\n",
    "* max and min viscosity over the whole domain\n",
    "$$\\eta_{max/min} = \\max / \\min \\left( \\eta\\left(x,y\\right) \\right)$$\n",
    "* average rate of work done against gravity\n",
    "$$\\langle W \\rangle = \\int^1_0 \\int^1_0 T u_y \\, dx dy$$\n",
    "* and the average rate of viscous dissipation\n",
    "$$\\langle \\Phi \\rangle = \\int^1_0 \\int^1_0 \\tau_{ij} \\dot \\epsilon_{ij} \\, dx dy$$\n",
    "\n",
    "* In steady state, if thermal energy is accurately conserved, the difference between $\\langle W \\rangle$ and $\\langle \\Phi \\rangle / Ra$ must vanish, so also reported is the percentage error: \n",
    "\n",
    "$$ \\delta = \\frac{\\lvert \\langle W \\rangle - \\frac{\\langle \\Phi \\rangle}{Ra} \\rvert}{max \\left(  \\langle W \\rangle,  \\frac{\\langle \\Phi \\rangle}{Ra}\\right)} \\times 100% $$"
   ]
  },
  {
   "cell_type": "markdown",
   "metadata": {},
   "source": [
    "**Setup volume integrals used in metric functions**"
   ]
  },
  {
   "cell_type": "code",
   "execution_count": 15,
   "metadata": {
    "collapsed": false
   },
   "outputs": [],
   "source": [
    "# temperature\n",
    "tempint = uw.utils.Integral( temperatureField, mesh )\n",
    "# area\n",
    "areaint = uw.utils.Integral( 1.,               mesh )\n",
    "# velocity squared\n",
    "v2int   = uw.utils.Integral(fn.math.dot(velocityField,velocityField), mesh)\n",
    "# work done\n",
    "dwint   = uw.utils.Integral(temperatureField*velocityField[1], mesh)\n",
    "# viscous dissipation\n",
    "sinner = fn.math.dot(secinv,secinv)\n",
    "vdint = uw.utils.Integral((4.*fn_viscosity*sinner), mesh)"
   ]
  },
  {
   "cell_type": "markdown",
   "metadata": {},
   "source": [
    "**Setup surface integrals used in metric functions**"
   ]
  },
  {
   "cell_type": "code",
   "execution_count": 16,
   "metadata": {
    "collapsed": false
   },
   "outputs": [],
   "source": [
    "rmsSurfInt = uw.utils.Integral( fn=velocityField[0]*velocityField[0], mesh=mesh, integrationType='Surface', \n",
    "                          surfaceIndexSet=mesh.specialSets[\"MaxJ_VertexSet\"])\n",
    "nuTop      = uw.utils.Integral( fn=temperatureField.fn_gradient[1], mesh=mesh, integrationType='Surface', \n",
    "                          surfaceIndexSet=mesh.specialSets[\"MaxJ_VertexSet\"])\n",
    "nuBottom   = uw.utils.Integral( fn=temperatureField.fn_gradient[1], mesh=mesh, integrationType='Surface', \n",
    "                          surfaceIndexSet=mesh.specialSets[\"MinJ_VertexSet\"])"
   ]
  },
  {
   "cell_type": "markdown",
   "metadata": {},
   "source": [
    "**Define diagnostic functions using integrals**"
   ]
  },
  {
   "cell_type": "code",
   "execution_count": 17,
   "metadata": {
    "collapsed": false
   },
   "outputs": [],
   "source": [
    "def avg_temp():\n",
    "    return tempint.evaluate()[0]/areaint.evaluate()[0]\n",
    "\n",
    "def nusseltTB(temp_field, mesh):\n",
    "    return -nuTop.evaluate()[0], -nuBottom.evaluate()[0]\n",
    "\n",
    "def rms():\n",
    "    return math.sqrt(v2int.evaluate()[0]/areaint.evaluate()[0])\n",
    "\n",
    "def rms_surf():\n",
    "    return math.sqrt(rmsSurfInt.evaluate()[0])\n",
    "\n",
    "def max_vx_surf(velfield, mesh):\n",
    "    vuvelxfn = fn.view.min_max(velfield[0])\n",
    "    vuvelxfn.evaluate(mesh.specialSets[\"MaxJ_VertexSet\"])\n",
    "    return vuvelxfn.max_global()\n",
    "\n",
    "def gravwork(workfn):\n",
    "    return workfn.evaluate()[0]\n",
    "\n",
    "def viscdis(vdissfn):\n",
    "    return vdissfn.evaluate()[0]\n",
    "\n",
    "def visc_extr(viscfn):\n",
    "    vuviscfn = fn.view.min_max(viscfn)\n",
    "    vuviscfn.evaluate(mesh)\n",
    "    return vuviscfn.max_global(), vuviscfn.min_global()"
   ]
  },
  {
   "cell_type": "code",
   "execution_count": 18,
   "metadata": {
    "collapsed": false
   },
   "outputs": [],
   "source": [
    "#Fields for saving data / fields\n",
    "rmsField = uw.mesh.MeshVariable( mesh=mesh, nodeDofCount=1 )\n",
    "rmsfn    = fn.math.sqrt( fn.math.dot( velocityField, velocityField ) )\n",
    "rmsdata  = rmsfn.evaluate( mesh )\n",
    "rmsField.data[:] = rmsdata \n",
    "\n",
    "viscField = uw.mesh.MeshVariable( mesh=mesh, nodeDofCount=1 )\n",
    "viscdata  = fn_viscosity.evaluate( mesh )\n",
    "viscField.data[:] = viscdata\n",
    "\n",
    "stressField = uw.mesh.MeshVariable( mesh=mesh, nodeDofCount=1)\n",
    "srtdata     = fn.tensor.second_invariant( fn.tensor.symmetric( velocityField.fn_gradient ) )\n",
    "rostfield   = srtdata.evaluate( mesh )\n",
    "stressinv   = 2*viscdata*rostfield[:]\n",
    "stressField.data[:] = stressinv"
   ]
  },
  {
   "cell_type": "markdown",
   "metadata": {},
   "source": [
    "Main simulation loop\n",
    "------\n",
    "\n",
    "Normally a loop over time increments would be added here. As we are only interested in the post-analysis a single time step will be taken to ensure that all analysis fields are live. This step will involve the non-linear Stokes system solver."
   ]
  },
  {
   "cell_type": "code",
   "execution_count": 19,
   "metadata": {
    "collapsed": false
   },
   "outputs": [],
   "source": [
    "steps_todo = 1"
   ]
  },
  {
   "cell_type": "markdown",
   "metadata": {
    "collapsed": false
   },
   "source": [
    "Initialise steps and time. Set to zero unless loading values from file."
   ]
  },
  {
   "cell_type": "code",
   "execution_count": 20,
   "metadata": {
    "collapsed": false
   },
   "outputs": [
    {
     "name": "stdout",
     "output_type": "stream",
     "text": [
      "This model has previously completed  48900 steps to get to time = 0.564\n"
     ]
    }
   ],
   "source": [
    "try:\n",
    "    realtime = timeVal[-1]\n",
    "    step = int(stepsVal[-1])\n",
    "except:\n",
    "    realtime = 0.0\n",
    "    step = 0\n",
    "steps_end = step + steps_todo\n",
    "steps_output = 100\n",
    "steps_output = max(steps_output,1)\n",
    "print('This model has previously completed {0:6d} steps to get to time = {1:.3f}'.format(step,realtime))"
   ]
  },
  {
   "cell_type": "code",
   "execution_count": 21,
   "metadata": {
    "collapsed": false
   },
   "outputs": [],
   "source": [
    "# initialise timer for computation\n",
    "start = time.clock()\n",
    "# start loop\n",
    "while step < steps_end:\n",
    "    # Solve non-linear system\n",
    "    solver.solve(nonLinearIterate=True)\n",
    "    dt = advDiff.get_max_dt()\n",
    "    if step == 0:\n",
    "        dt = 0.\n",
    "    # Advect using this timestep size   \n",
    "    advDiff.integrate(dt)\n",
    "    # Increment\n",
    "    realtime += dt\n",
    "    step += 1\n",
    "    # Calculate the Metrics, only on 1 of the processors:\n",
    "    Avg_temp = avg_temp()\n",
    "    Rms = rms()\n",
    "    Rms_surf = rms_surf()\n",
    "    Max_vx_surf = max_vx_surf(velocityField, mesh)\n",
    "    Gravwork = gravwork(dwint)\n",
    "    Viscdis = viscdis(vdint)\n",
    "    nu1, nu0 = nusseltTB(temperatureField, mesh) # return top then bottom\n",
    "    etamax, etamin = visc_extr(fn_viscosity)\n",
    "    # store results\n",
    "    stepsVal.append(       step)\n",
    "    timeVal.append(        realtime )\n",
    "    viscdisVal.append(     Viscdis )\n",
    "    nu0Val.append(         nu0 )\n",
    "    nu1Val.append(         nu1 )\n",
    "    Avg_tempVal.append(    Avg_temp )\n",
    "    vrmsVal.append(        Rms )\n",
    "    Rms_surfVal.append(    Rms_surf )\n",
    "    Max_vx_surfVal.append( Max_vx_surf )\n",
    "    GravworkVal.append(    Gravwork )\n",
    "    etamaxVal.append(      etamax )\n",
    "    etaminVal.append(      etamin )\n",
    "\n",
    "    # output fields and summary info to file (output graphics can also be added here)\n",
    "    if uw.rank()==0:\n",
    "        if (step % steps_output == 0) or (step == steps_end-1):\n",
    "            print 'step =',step, '; CPU time =', time.clock()-start, '; vrms = ',Rms\n",
    "            # Temperature\n",
    "            fnametemp = \"temperatureField_\" + str(step).zfill(6) + \".h5\"\n",
    "            fullpath = os.path.join(outputPath + \"files/\" + fnametemp)\n",
    "            temperatureField.save(fullpath)\n",
    "            # Temperature time derivative\n",
    "            fnametemp = \"temperatureDotField_\" + str(step).zfill(6) + \".h5\"\n",
    "            fullpath = os.path.join(outputPath + \"files/\" + fnametemp)\n",
    "            temperatureDotField.save(fullpath)\n",
    "            # Pressure\n",
    "            fnametemp = \"pressureField_\" + str(step).zfill(6) + \".h5\"\n",
    "            fullpath = os.path.join(outputPath + \"files/\" + fnametemp)\n",
    "            pressureField.save(fullpath)\n",
    "            # Velocity\n",
    "            fnametemp = \"velocityField_\" + str(step).zfill(6) + \".h5\"\n",
    "            fullpath = os.path.join(outputPath + \"files/\" + fnametemp)\n",
    "            velocityField.save(fullpath)\n",
    "\n",
    "            np.savetxt( outputPath + 'Summary.txt', np.c_[stepsVal, timeVal, viscdisVal, nu0Val, \n",
    "                                                          nu1Val, Avg_tempVal, vrmsVal, Rms_surfVal,\n",
    "                                                         Max_vx_surfVal, GravworkVal, etamaxVal, etaminVal], \n",
    "                   header=\"Steps, Time, visc, Nusselt bottom/top, av_T, vrms, surf_rms, surf_max, grav, etamax, etamin\" )"
   ]
  },
  {
   "cell_type": "markdown",
   "metadata": {},
   "source": [
    "Post-simulation analysis\n",
    "-------\n",
    "\n",
    "Here we will calculate the quantities specified for this case in Tosi et al. (2015) and finally compare them to the values given in their Table 2."
   ]
  },
  {
   "cell_type": "markdown",
   "metadata": {},
   "source": [
    "**Plot final temperature and velocity fields**"
   ]
  },
  {
   "cell_type": "code",
   "execution_count": 22,
   "metadata": {
    "collapsed": false
   },
   "outputs": [
    {
     "data": {
      "text/html": [
       "<img src='data:image/png;base64,iVBORw0KGgoAAAANSUhEUgAAAoAAAAHgCAIAAAC6s0uzAAAgAElEQVR42uy9edx0RXH3XXVl5n2zGKMiiuISzKImboiJGHeBiBjELWoi7uZRgwLKjgqyyHIrKChqEogimEg0Lrii4L6AEZcYEzVxBdxxSx6f5/3MMPX+cc7pruqu7tNnmeu6Zu7qz/2Bc82cbc45fb79q6quQiICa9asWbNmzdrmtg27BNasWbNmzZoB2Jo1a9asWTMAW7NmzZo1a9YMwNasWbNmzZoB2Jo1a9asWbNmALZmzZo1a9YMwNasWbNmzZo1A7A1a9asWbNmALZmzZo1a9asGYCtWbNmzZo1A7A1a9asWbNmALZmzZo1a9asGYCtWbNmzZo1A7A1a9asWbNmzQBszZo1a9asGYCtWbNmzZo1awZga9asWbNmzQBszZo1a9asWTMAW7NmzZo1awZga9asWbNmzQBszZo1a9asWTMAW7NmzZo1awZga9asWbNmzZoB2Jo1a9asWTMAW7NmzZo1a9YMwNasWbNmzZoB2Jo1a9asWbNmALZmzZo1a9YMwNasWbNmzZoB2Jo1a9asWbNmALZmzZo1a9YMwNasWbNmzZo1A7A1a9asWbO2mm1il2AZDRHtIlizZm1tGhHZRTAAr0y792s/2/0ZH3MMMP4uy8+Uxv+tNPQUR7sgNN7pbs3d2cTTWo93NgUPEi39IlDZpzRon1i+o/94/j3slW4AXqV2o//nhs4dY7TXFY72EqSlkJKKXiUYfEE9jk49GZzdT+k1oQEXjrrf6LHu+ObRlMY5xCZgXjyG1P+yU8E2lPoEw+eZurxSMPOI4TqPnwzAOyeAF53fHTTkvbAUzFOfd2X4XqCW91ke1Vh4uZKvrQIGU/GFKN+w3GJX/gyEUixxV5aKsXFeyjTm0IE2azBBWQZT8Rn6JxPV25ruIMifK1IfHuI8lXIdI+pS9tTNkWYAXtX2G8UKONGZRnl1YtdDUBl4SuBK7Oglu03timJwZkcDlDtzVFcr2W2KcJR4UxWOeEoO0TZ0wYFGCyizedKYTyYpfBj5EEv+FZR8eqng0MTuG2Mq8geKVAxj8HnYxzG8xOJUUfQMFE8QmQ42AK+PAr6hc98e4DrV9BZ2QgJlDpeFGRUhSr5y5Mm0YpjUY1EO4aSvg7mjU/YiJC8FUgqjxWaDDiMA/yGmzrtEEbaMS8Z7HVPLkLPUXUJdD0TdT6yjYlYBSW0XnOInBB11STy0KQzXDBZs9bhtTFCoX+OIwWSC1wC8fgp42t0HXPQuwNK3eReRTawfUsGGlH3xERSxln8ieabTjvR3H7ZoEVKglcR/2jaeuAj+LZe7RFQwKkrfIMqJZCwSW2VkpmIhDp3dH1j4oJfIzY6Yh0LM53dC2bPKADi+F+5ykxfByB9S9tyit0lTwGDiCpidgN8XNofAcIyOHr9oOtcAvH4ALvMB9xiMt25FrSK4wKOZXxMIMwxOYAwDmU6kvry0oUDEaSlwMU8y8qtRho7NVpinF8Vv4GirtATXIUtUNGbSZGsB/tMPDaWek0KzeQeJT4rCKrbEtHaItr5A+aFPfgST6zKUgGv1lTdSoLICJ6vvHM2Assawv7cVV0mOUwMFTAAISM3XhH6EiELrEgEi53oawyaMDcCr10pM0NT9O1JlXNrelXmhR8TCLjRNbkK5txW20TfaLaXfbmwd1UYdbs4GDRkAF+1K+VGUu1ZUdAeTGKbMTcZWVFP7Q1K6q9JBQ2oLwt6dgqCzVZzCX94eBp80gVC70SL1iMZPOwXmGeRPPjkFzDCMEYMrzYyeu96cXB2t+qD+StPBzQXB+BGwZgBe8fbr02EKuB+G296bKV3L3bQl4IkFaLA+RTY6cdoUesIoLZeDfZJyLHR5AkoAnLZRVwclyqhYisNeSHvhKhZ4/u4rNIm34p/ZGttD29rc0mFgVIFvvviRprQOLlPeVHDcNk9tkcu5lcGhKYVS40i9I/CBJjVeXnKytvHgcL1Lzee1RbpeFqx1P68hbg3zir6KPzj42wzRBuB1ahkfcLf5HgUJJbpIYVRNo5R4A3KbsOLKogQv5Usn0oIYHzH0jbmfqUoHjYik8D5gCYc0Km9Gb+7Tfo4/GcoNXCgKrNZd1AhRdqHcXWiJLSdIjnjYBc9YWdOTW4i5mUviAzLPeTO8wZIe0dUZ3GGIQOlJa5AN7kv0muBRb9DGHgne7bycbR5IFmxFWD1+JPUuNHq37kBE/DEmCulb33QkIqyN0iF9US4xBWw5rwzAq6+Au/iAoTiGk9IYhgL7Z0qGxgiU7xfdLRp7T4N3ULzPQ/7kgFd/6r0x/0jBFZKmIQIGH/PA/c/4yGUJMR2p7YRiDnUwUKzR5SHi6x9J8GA10pzHILyDqoSq/n/ugQ8+9NIPx+wI490SFubgtr7ukQ969js+om2FuuTL26WL3M8Ynkcx/1JPb77HEMDFj7v/wZd8PKOHKRsk0RpUH/cy7TGWXzHeuWfJoddd6Aa9CAAfeMa9AWCfC64CB2ynj+tPkNihaxLX36CX0BjMP8arD9nrnq++WjxEZoje3IaW4XMplxXx0i+/vRW3B/3ho96ZXi1xZzD1jnv0XR5ZLbztS+9IMDhn8AzU6hPufhA/6j98/lJIGtlQ5TFf7Wl/dGDwMy74zLuJCax4E2KW1RiTz/uTA4IdvvIT74s3h8RuU0c8/sEPrfZ26oc+oBoYs4JbjEUI4NQ/3RcAXnjZ5fqupLjMmzFffsA+1VdHvOdDHYGhDJ7OPfDB1Z/Pu/TDbdaXbLQdAAC89qAHAcBzONETu4KCiVh/9+gHAsAz3/bR/FmV7Or1j31AtfjUt35MH1YAXPjnD+DbPvmfPp7i7sWPvz8APPGSj1NkUXDLb/6L+6mn9Jg3fZKP3t5+8J888uJPCfoyQ3TNVPY5AFz29L3d3va54KrGcK1vTk0kFwVPLF8NAAg/e8hee513NSQ81q59/nl7GSkMwKsE4A9+7Z/z6+z3+4/h62QzWuRM0Pvf8dHVwvu+8raC4Tyqnx/4B48Ktn3nl99OGflLCm8A4M/vdpD6Y//xC+90btG/3PMRb/rcpQwzCg6futeB+av3t595T7X+s+79cAB43ZXvCd4y/FXy3IjW+fbyj10W2rrZvTj2QQ/t+jycdPkHQfO4n7Tffj2eruPef7l6H8982D499nbEez6kRjWf/WcP6bqrQxucBw/zqx7x4B4nxonO9/m6Rz6ox97+qiF69PALK8XfP/YBrbt68ls+DmkvL2mjtEsSYH70xZ9y6yia2KlbAVf4AIMxADzk/M+Q9wrX63AMAwgky76Gn/3rmsGhVYzdxc8ZgA3AqwXgT37zLZkV7rvHn38iXqEgnQKReGU88Hce+9GvvxXaZssEU4AyM2VJ/xyDF1bipeNOEkHz18Y+48j+jBRsyCcaJax8QYCVpCZSJPST+8x+Hkl8VGdG8Z2k7JDsAmK7NYKQAF6y734vufyD6sTTYOJ1bMGOh1+nP3Sf495/BSTncCc3VJ+ulx/wkECXZ6U5Zh/U5Ib6YDSbO+U1Bz3or9/5kWTicR/4pPeF4E6d/5gHPOOfPwZq1AKDJX90Y3NLtfDmv7jf4//xk46adX+hkKBVNxEfss5F5Em8z/lXEUM1OwEM7EleMbPP/+Wv97pXpYMTF/9zzzUAG4BXCsCfu/aS/Dodnb6QzzgBuq9XWE2VrUh/g0AiSApIeWGpYZ9ZBmOeo0UATtAXhBTAhGFcvInknlHHPGFG6GgjCfby1Ycg4R4gEXEWjrpIpW8bSwqsIKANy0q2assUlpy9lhkOQtkcLcqm4aTs5o6s8biTtKMkHpik6vVdIBqneogCECH7XJiR6z8bjnKuu29JKubgKwj2D9xejYkurITsXW0AXk6zIKxltV+bLLpu0paPENu0Rf4NiJlNgsCl+BCxIKZWBidXS28uh/zi1Ra/xbzQJLdn6TmjxOZEkPIxU+IkSfw6UsK15H+RB3IlzQAgIqETAEaWjEEP8FGyEuopNjH8Jh1XFXGXMpsQKBnQ0lCk9JAR8xzNpN1s3zwb3kxtIjgRptAss8TOLpKZf9UsIzVpN2p2NsvCeoxYzZqmehPywK5DriheBhd+hVidRnUsbOY7+aSpCOimZYfhV0SECBaKZQBe5far084AzsR/BsGfJdzNmyiBUi8gLHgx5QDM9kO6gddDLqYvhfYx0jehcFc18EJ9TGK3TAdUpKe0NZv0z8WeiRLm9Oa3o2IDCAAk5bumpynITKLFqxNA6zrg4l87xfqWfE4QHqIQeNFqlJopVzBCrS4ptmr0EgaXAbhRxlg9V+SyOxI1kcwYrEZemGIdq+xQyihb0bdeB/xyHfmcxzDHKYI/rXCyL0vewRNRY/O5aV4D8MoC+FcW/TZM5ylEaHPaUU7ZYFK+yAwDem4B4X1ESJjjkvN8WuiLKs8aExzFpmZiorR61QVmQCagiSKTeINe1E6SdJs2RbglPr0YNWcw5TzK4N7Z4SWNjJzUbtAmUt3AkYGXwsDmTMEA9hPaSVyMeWhJ8EKpqVltI9T2IYJmtCcFwKo1goLkkc1jhuy5QmEXYTZkv349o7fiKDYW4+bPmtmU5GuzFeXUsKM7AtVpOCpRHUlenqMS5XxyxFysuTUD8LYGcLEJmkrKqoeJDnU1kMpfIT7jyix8D5KSCkPRByw/re7rjaYnsk81ry2xvaVULARfuU2YHZi9+/hOXAYDT9P6bRUhDaUhOnYbU6SDI0uyGApENmpSo9goTj9C8R2M7p3kCkF2ipSSGiXhJ6aI2UUQ5T9Hy48GZR7fUPQXbAJitrKeGzybbSY1lATIW3ooQV9s2Mwm4JKDa/3IeK3cmJq9Aq6688Ixtf62UcYNhhcAUGd1rjG8kAq48esiBfcY0V9rzuDghWGGaAOwATjv1lIAnNsEqS1PUyDpstHOlA6nIpAzFJk7NrYJNygNCE1e7EIYvVLvkgWbiM1DvSvmR5LHrYiOIdC91I19L74UPmtRuElqV8rn+a+ym0OY5DK/OQS5/6EooXGbblY2p5LYeygOvGrLLcO/ChmsPOctnuzY6pMDMDnLc0Bf/lh6vUvMHywcvQQgYIxVAo0GvQALKXkXBBvoxq81bjcgUNX1cmVcZoboqnBDM7RDDMuJWHJKA/AqX9nCcoRYlFA3XRk06jHCRKZYoVFOwECRHDAy2SlJhqXJWjXZMbdrMPOHSI2xcgqZ2OtBTOdgrlk+lYLN1qBYdwYxpeAMdM1rR1G6FMlW5nJTvIAEmmhGUPJfcvlLahGIhP6OLrh25pLi6gODILzXfrClm2E1eQ0txRy5KZ7KOKo6RyjGc/QrMtgOtsOECOarYTqggZj9GdmyMzV7K0jt9PXhVM06KPQuJOkbWpUXbBmcA5iVI2yENYu9AlpoaSdFum9kVvVqII1ITZ5r1N8w1gzAq9Lm80IAY3qUiW6V1jT2cofACqRAnBEQohefsqb0GHF5jZrmDj6s/V7BJEgR3MF8vc2rBJirleljImnWDgHsyR1IWC6CvTLmb65AATcOYMXRG9jbnTKWeYugxftL6TnNlMn8xZCGSUtpytMsor5QWyEMuklUFCBqLfPcrENZK06UNxvLJS8V62P2nFP+crXIXDmCDJy+blhJPPlUZIKuzEULTlx0QxZaePqK8KtKpTpDNETxVk4ZA7uPgLABRIQLnh7ao5X7fUMGm+Q1AO88AMb8KJMYUrFtJ9GnXosgaio52JYgKhaH8azNapisgJmPI9Alf+fvYoSE2zVgJEAUzxxI2DDTnqM4+kAqGQLD6d4ckQg0mRtYoQXISZm8FIhv7giX1mDiEctUNrlFQY6CcAiCsNK+TFcTkFTbdfKg+oAggWFxiIC4AEVR3O1W64I1Wya1q0Zm1GEcDciE2Vk8aeSzOrPMGLXfd4NgwbUv1NFY2PiGiYAIFi40GsXwFGtUIxEsnLW5uX212Rlw0QjcDUJCWNSeJxdHXcvlgMGErnhD+XDfmgF4mwL4hg4rJwiLrZthDugI6v8xUMuU53pNb74Vgy5fx+/fqQR0P4144bwoYos4O7W0Vo3njJuCMcocRLH/2EnbUAGHfuLAQB1K20ANezdz6uhMcUZ5P0iNpeK/PcPROE4btPjhdLUJCtN4kRK9THqAFVEmuioYfEBSbrbXjtTIDcnilfrJKABO2AkgPbXXK1p+5my6EXjHrcxC5U3Nbu4QECJG9G0GiPWIcIE1op3xGZkhGrgaRj4odGZn2gAkgkV9M3GjsUuX6WB7dxuAdyITtNCn5auh+nlilfAQYpNYHst1COX4gOGcUE47RO3oKEmP5CkOzj3Ga6O6Om7S2ozC5BsEUkmdKqzQYlIT+VwfRKQn5+MiW0hbxWJMsTyilDcxojhCsSE6WqY4vIsL2UxhjCzJSI0OU63oScVZhmr90NA6CxkhCiwvPoSWeDW1Wz2LMoXT0xEIAqcvpB290Ew1atjJHLrVajV9ARdISLBojNJItSEamlDnDe4brq9eY3Zm3F040Dqnb8Tgus8R+jgtmwRsAF7tdkMXBRwoWSzTu4JwOpwTDMZwHUzIcb+Mod5136K2W0T5IYLv+AiyFLh3VHkHdpziEb0i8fLRlzoVSSu9zA2iqJiBlFgEtYydlmlAIEoPwkOZUIpgeQgQ0VJR/r8gDQjGn0NLtSh1gk0O4RDNBlZs1AUMVtNeQjq1OOSrF7Tq4ChGIZFbO7d/PZkohi4YIXl5oUA/i5dlqpLrU2B2bgZ0zOmL6PNv4IJjuHHhLpjXBoEWyJPGMD9OLXNr1i6QNuowbM9gINhQGezH0JLBUMdhWQi0AXgnBnDyMyz9HNtEMGC4GiYlcshX9VtMMRg5p9HlzKvT9XnrNbF9ETsim1fShG03+2RRQcyCjXEqj+o1GFq5g4pvJIBKYYp8NVMHUaiP/eQoBZxqlg+Gauz0eWpOMCX4Gifu0K3NkAiHThw9I4LjvN9JFqbt1brJWnUnY/InQHsFkcjgX4GWz/xGFovAIwSRy18/2beJw0ImcMHNLKo0LlfDiyZucoGEtQkaGyQjVihlGF7UMrcZMyEtADfyDAafAKuZIFz3vHovyMwRaI5gA/BOAeBCBmPL5xktmzIRY7w5JpcxS2iULOfOY8ng0K/Mo8yar0i1ZteZfaheE1nuverFUb8xPRQjyrrAaYys3B5L3kYt0tyLt3PAVCVRpV4lQvk8j4c0tvXPIVsfPrM5aEHRiToTAIHHWj+KzuBEEnJK5aokjPAsJ85JiYxSzsopSajmJCfF5szzrjTjvyYxZCWC3fwiYvQVma08ick5gGseV3FZCzazqJqNtEBEggUQAizqsGtc1O5moYBd7FUlfxcEG60MdrehmfhbHdcNdvmEYTFD0ZoBeL0AXOj6LQBtxoKNbQDOraN9hdlNMAHgxFcYf06O0XK3YloiR7tYjZgxm0jJJcleuzqDBSCJ9EKq8nNQPMQhwmOpXejZbTM7d9gV6Bm40gFZ7QzOljFIM7hFaucPgS2JmjMyFyAXZqUoYNU0HZmg+VwjFxTtE105Etf5IKGxRVfPh4LhRTX7qF5GHxkAhHWuKxcuUOvgUgaz5BsuARYhG7NEtRni2RHWDMArDeCCB7pQ4+qfo7JOq2O4fLnF6ctXk4wMgqWDFUJ7OOrYVizbyCiPxLR2k4UIEf18JKawfQU24VpGOdWHgjpu/v2XByrPggQQz34uSLTUaxmg0FucCz6CxGTiPEFTGR9TblemR5MAprLYZjETPT0luoW+tVUYRGZm8P4OktlPyYlgJXuznkVyUXs6CAEWtZfXx1hR5Oj1AVaAALAA2iAEhCoOq2JtxGBYAGA164nZnJHHYTkPEK/BQLUNnMQsRnMFG4BXreGiNRVlVwxjFzyjvrnmGyYoUMxJDKdkcUBfZKo13jyFYUyqaoW+6L5pyqmh9znXYreJ7mRR2TL2lslB1JJIx+5eCp27AFEi/tBAjWKmcpckiHFx5ZjxJWyGzDSnbEQVLz8QYk/fXM9XmpO/yXOQxTzSwxeeK0NJCRc4dzl9USZJ5bnEsbl33LmLjsEU2p8rDLOiCNXkXWycwXUmVwSkmpdBvBU2MVbEbMPObuGC6Cs8L5ogqtpPgzWYfTRgMzitfQfYjDEjBocvFeOvAXgFFXD3akglIQ+pdTDhxw0RrDDVEauDRbrEPRxGUKM0HgeyGNs/DzEvMcxWwwDV5NzMKDOQoHAsog8Fq192GAZAKSn4IcyiBaD7ngFAS+7RR+wWClxIF9EDmZMy8hlnygTxjBlUkEickmW1RMUF0p2+njQAierLtdVCOyu9WAgyp68L7iNg9PU5K6COchL0VRJgyQJEFIU3L9xsooaftZeXRTtXxmc+8RdCBext0W7m3gIIK5szk78bVcAX0EZjskYZC41+DmHI4KoeMHX0lVkzAG+ntuhVjrDXnOAidmaZip5AvazTOcewAshoc81SrduuMW3B1lFd+5LJ6WPVf9zMjUIRjt2aFymSuQRKfo84PkvHcyGDS3SzS8c90KYNUFSTADLFKyllKJZnCAU2ZzkZSdAXu/9YlJ8jSznuNK4YbGFFYufcBSXqSirgZsbRoplr17iPcUF1jFUT7QwVjCswV52xSduGC6GAXeg/LQg3mke1smY7+VulwapN1oCLenjpGYxA73/qfR76+isDBtc2Z/P7GoB3PgBjgbsFg3BRwTz+uQpgsY7YVR0T0g/AXj4mjtIC4IS9OoQrsmz8qH0LulxG1JmdUdhOMfPZGOR+HLpJHOCjt7gSq8yPzC6NoWiGOP4rMIFi0kRc5AnORxi1C2VhAVaNtIEHFxIJHVsNxcEQBBJnq9jDwbsrI5T6IVTG6Utic1YosJmN4zM2O/rK9BoQ1FRAWARZrprsVwtWLARBRjtDGD/opp8tgHY8bN+j33dFhdiNWjrjRsjg5sUDsEG0qB9eN/ysnMSetVHyOuI552uBbOk4DMArC2CKzL/aDdjzZfPPHxVpDUxvkl6HSKBFpan70EUl+V3xOkko1iwHs2IlJl+ASRBU3RzDn4atjuQ8g2Mzddb0nWawtxMQoPslGADYFzuqv0KR5di7JElWIFZqHElrNjJbMbZvIms2SwOy2FWLFTestMin9ISQ5kMNZt3GVHJNbqVmh0DJWqSE9dvX9CKvg2PEEp/CG1BZXlh0mpwQZcwzS8YSVzHCsLZgnUqS/PqLJgVNM8HX59zw0c4Uxls5p+9x77/89P33Ofp9V4Cnb+3f3QBaEFYz8tATuo5qRqANbP70d4LkPASZGIvlJKuktEHYALz6Clij6WSvs6I12axWyupg0MplI07ufub8C0fnlHGsUNmuMCLr5C6nAcD8yy8sAnOYjkOksSTE6e+eAACzr58sHbIoRw/arkIGY0IiQ/LzpGU77WbmRmx95nQg6qmZqSxUL2McBAJLiMiWUjwOQkRpVQflMdKBczqhmMvczFqR6Th3FRaHUquxXaidLcNnVuxiM+8s1MpO4Pr5vi7Dc1QOxGVsjkkMTS7JJ+/5ZwBw4dXvqqYeVebfRVUNQcZbNTk3qnJGjWOYsIm98gYBzmBncHasRaoEcaWAa33cBEUTejdMMypBQsKHX/jp9zxl74e9/kqRnNKFJZKzytvb3AC80gBO03T+L89na6JapggUkmurIU72fNn8c0dG7I+wJOoZkXKGiAAwudsZ9Ul+6bh6nxn5G2hrDcDTO55UL/zOCbP/PCmb1gMVszYopuzpbY+ttptdtyNn1i7iNExvdujsp69KKm8/cZl4WhGh+KGZ9YE0/dVnzv6/C7xRFWXiJMh5JTmriOAmv/EUAPjJ/76wh4Mzxt5tb3rwd356sdwEIUyN2c74qt3xln/5le//o74JpMcEKMAMXTeX4lul7/32+POPf+MtbSboOvY3yPDsTf2omJ0zJEaif/jCpUTwxD0PrDBcpXRGcM5gEW/FjOVJX2/1BB532eWnP3Sfo953hQ+5Atpw/uDGB4zN9CRsZuAh1aiuPg88XcgrAAdFguPE39ZGbdLtZ22sy4o4v+rwJD3d8OePXzn/zOG5NVowLBYn9zp7/tkjCvJIY+vspsk9dgDA/IvHtG2eSgTt/5zc+VQ/2vjKCQAwudPJs6+eqKhHPcCKsXaPF6Uux+yaM5Igl9J2utsRJXdwdv25qgV7epNDejwPs/97vuh0DV3+3199Ro+9/fyXF6qhW7vc6Ck99nbtzy7iE6gc2253s4O77uprP/wHNeL6zrv9RY8T+8K1byZuWGj2uddtH99jb5/85ltEKm/w8eQP+p3HZja87Ktvqzi0/50e/d7/eNuC111g1TiC5QXV/H7ino+o9vP6z76L6hDo6tt6nQWwZWq+ArZMsGi+WhCcvv++R733ikWzDvmv/JokFvxBqx1W31b+73c95T4HvOHKsHiidAoAwBXPuLeRwgC8UgC+8rA8Oif3Pmd+1WHQSmloL1Q4+eNX1GI6tN9Gm+RnCQNM7vkyAKjd0nHmLCxdrgzXADD/9xdGlQ1ZxLW6kwq3v/eSEGNfPyURz4WJ8K5mV7c5xu/kuy/LeJqnt3j+7EevjE4GtflRacw3n09v9GwAmP3vv421fl2YAT2SpcWVzRRCBIBf/7WnVZ/8z/95AzeApKVhLqPWLW78ZAD4/i8uiiKcEVomEyvZtfa4+RMB4Bs/ehPTc2qtBWwXsgB/eKsnAMCXvvtm0JM/h7WQ2eHCcsh/fLvHAcBV3/4nreJFaN7naUd9ySyAfX7vMfwhfN9X3iaI6zOusAWSGCZYAD7pngdWe7jgX979jD/6s7+96j01HQGoQeMi5CX7hP15+v77HPXeDy0i9Dbklp8EJG6O6M7w3RWDKU7L6rv/5QZgA/CKAfjTh2bXgMne586vPLRd4CY/a5B574SMzmA7nMUL0Dik5587Mmm+zuSIdj+KW63jmClITCxO5vSQpQxz9NUoGMnfcH1Ih0y3xuW2SqwAACAASURBVHlB2oXcBmav6nyxZHbC3iSLxLYKvA6yKlQwIyifzxIhOz84Pe8Is1OVtN1qU3ULj65Nc8J0jWTt5INQc5F0U8kwyn29IIXgQ373MZf/5z/retdBt0rLDLXKdN8KxAI8Za8DAeD8f3lPo1NDBdxQGReauq3WP33/fY5kDI6FsvgcJICZ8iaAdz35Pg+/8Eo2mPAMdg/n5U83AC+lmQ94aS01DYn7cBepZ5qSm8h4n5rii4W0JAc5eXmRIZ6Nvd7N5I9eAQDzz76gPm1E/UT45uGu6uX5F46plxcEYq4DCfczj8pGFlrjagzXwSB1wiGoZ0mBiKYO00dT5DN21VfRXxaxfuP7VADM/fGFcV7xLKxUJq96lMYzhNRn6EKBvdLjVRzFLS2Y1QoQTsVRM0CJzyGxKxFXFbqZ0SV+pmiqbn63AOHR9bgwwCYETcRLu+fYXfLU5kSk7so7el1tXTn1CAg+8vW3xsHPJKcbuVDnKm3WoklO2aSchAUSEL7x6nctCJ96r4df8C/v5sUVFo1nF4R/V7hn61cLwLHvv+KM/R8CAC94z4ehCbxCcLHQ9UL1JGFtSPGfUNO3/GCEDf6Y35fIKiKZAl5JBfyJQzIAntz3vPknD+lejyHjIcb2TZTCR4GI1ETqaLmjsahKRCpfNMismZiTy3lfcu6rVLx0KYZjha3mC0tMdAbIJSrRviJpwWaiUJWbwrEXrqxEOGNZvSaEOHE0SYEudhsmmEzMPMaCrBqZQ6jZuYPdIkVZydw6XAfzPSyyInjBrNNuufK5qk5Zrl+F6pVWaCJYLEJNfMbD9jniPR9aAC4W4KRzJIv15ea34KVPug8APPzCTxOhnJXuR6AfMAVsAF4TAKe36QJjLIW0ukn+k2XAWE8BDUnqqIUZkgxO+2ghT8eE3XvcjF0ZDCc/yZRhlpeOz7L19gme1ImRCbmXFAFbbLxFbmD5plbsz9Eh0kxFgNZsmpg8KzVfR5jABMWwQ88MqpigiccoVfWLmmWQFl3m/W1Wo1oNMwtwQErFaxszeLEILNL+vzeElmdlHeEPBhGKdemT7/NnF346HGqwi3nZ0/c2UpgJeqXaEp/XzBxhVMzXBOEEJ+q628IVSi6LTPLu8lsQgMgJEK9WX1WMzdcYWDjj2uNyTf85X3D2NqqTKxGEZvN6P6R8Lhb4mIDE54Q+z5+rL1fjA9n872CSNHiDPMhDENveux6QTyoBloszGEfRhix14EsOMHNuA/Lm1UxBLhHnJeCBO8zUHJQcpsCmLRJAyt36TBypo6OYhexN0y5iC2UKaGI1FSCq7Ftvy0zQbq5Rcz9czSIE5PWOqqRni8ZA3VTwdeELxCpnoHzc3V1HZkymDffcAnuG2eNOzZpuVpLzB1UeqeAf8IVqONbs6RFv/DRPb0bIhjNoeTgMwAbgdgrK+cGpTfrTN9LrnX5gEqjBclfGc76Se6VAVHs8Yqf73FkxWWoMJOmKBoHb4L8BfYEXdaDEDOnGGefEm0gWBpE7me3QgZytgyxxFLuURMyxlzSRbHi3KETpqAhQcBFVJy6SK9LD5S82yInOTu5KPwQ0vmHh9BUFFbTNRVgWkR8fAFv2jlvg2aw8g0VuDXIkrh8NXGgJn93wbQF+QFDl3BBFmqEpC+ydAsGok1zGK6SGryyVsyc0J3GTcKPaBCH8LzTLTWqZJnMY74euVpIb+Nk8YAPwzgXsvC06tVrycxBvdp7/CgLwcL3loMxTOrNlImFT5cpPTZWVSaFVMtRIMVsbNyQZHjA41ND8c/AMBiaFg53Eu1LXiVEdVH3g94hYpJgWjObfi34cIMntr4G3AzArNQtScnjmpgFJUAy46PNmcOerywXJPdMspSVLA+k4yiBNImmlwLCzTKMyAnCClR2dKNwtBZ7vhpcgav/V6TWaZZC1FljIFQvtW4QFgB2GiVVZQB70uKhyQ5JPoAFNNquNKNjKNadoG6UbkrhKAVKlxEIAxFYF7FJTIpHIBd2MmpBE/lVrBuC1V8CI7RuqqZ5jFuZ3i4FaYh5TirWyfA0Hm3ApRjJyuITEIftJwyj68GBIHKKbnNdfc8JoG2qSAM+gYTvBYAjglsCzEO6icpyI5Q6ILuLGQVsnkN2k3FMMbmRg1BcOamp0V1zdSGjoWIzyARVKwSoTQEqOYmB51tbxGTpDvesyWwl93PASXcJnZpFuzrkxPgvEAkMvr+DL11kAbNR1HWQRX2h+JmLkdPHG5+x/AQkQK7OFh+tG8yzU6NVEsGN2rZgb4wLKMZkfX1FYE8yaAXgnYHaJAsYEP8QrNL0Jn/bDZ7QIjesWGXqFtZZtQhmJ3J3EAX2DZcWrrZAYcyLYZYsEX3YOYzRTMky9E4O9hI2KZ6hMBe5v5mMCdTVQ+IrSnO683YT6PW0w7BWzuOr85KmpThHE1LP6wVwcMxNyGJsdhoCRtw9D6PQFFw8VobcZRbApRkIl+2IJTDeTD3Vm1YgrHVzbopvygg2hm0K/UgFXBRUCQzQ0hugNpoAXrn4R4AbRAt2ko8STRvJxQ8AasY3wJeEGrj+nhtOaCCa/UGWDdvHryO3ZjMGZPmDNALzTKmC9HKF87bVuIoyZvM8HPuPAVRlvgmKID911cD8SdzNo6xRV3OMBg4O65QF+Sxjsorri9ZOylQSDgU+8ptAK4oYUpNm6nXoWhu7IIs03rzjGFD+KubyEYRYXlGM6WeUXWZoOpDhDlljA0GfszchtrmgXfEaKShY6uAnOIubxdQHPIurKSV6vhiWG3QRfbqD2ol+ma/aRboBAtECevVmO7Bo++hiruowV1jRtdLDbZqO5gc0KuoZumF35wd2Yhrz/gDGYSuqjWjMAmwKWdk7p+UttQpFvGMMdBXk2NNHMrWsYbR4DplwfQxhzBDL+iLoDvpO9OggjhowrutXCLUHYzmyQsa/BjUgkM1GixpDFWkNWcGtnxe4pxuSOHrToaeKOWwJfiAIhyWACEGq1eViYo5cCtPNlSqxD4EOrGr2LMhlWKIIV525slHaXqcGzcyT7MVFT2NdXN1q4IOcmvI5l0qgtyRvyaXKmZmc3RuCSl/uAmQhu7NLuUReGG45YMUIzH7ABeOVp2moP3QQMY/smgXdTYBj1dRRDNH/jq5uDzKKVIXRMawjdzHkrdHd5jUHeMFIBnXgVKamKMqhPXdWEjzl3sxLRZFy1A5/yhOJGBOMk1ZcMaSQrtm7/DIh5QN6MiWGkL8pHhqe14hqaf8tLCir/5VCMP5eKtqm351DtpC3o6GXLLpLLH9E5gHEDwJUeqv9LAEjOCh0muiLh0gBwYreqMyiipBBxo+lGzOnbeIK55ZnEt84UIxKwkfKMN3HiSD1eX9YMwNuOwJ2GkEMM0T6WKjqwEooVxXMxtSOEDsiyZKSGYslaZvx1CnK2Dz+3FktsgN7I5Ux9Dd0EMWZTdu6IzVkSZy3eabN2evNMNsA8gyGKKeMDoGCyp5dt2TuSRLKoYReO4qJYbO9zlDlPSAYjROUcSKTdCCotNozUNvdhzyDZSUxJc8RiUgELNcwUMNUZPOo6v2LeUYrBmXirDWGIbvjqWVvNiG8kbyiIxYMtYqExFMEQzl9zD4hIiGrNAGwKuFXOgpc7rZvEb/Z4c50QaigWapuDLHiaNY/rClhGeMUu5z70JXljKG+YDjzqSgXlOJimPHaF25w9mCNXMRZk51UykEBC/sZCGdrd0i1IFrkglGtJADz/li+ozGs6NAMTaZQJ03UFbubm17gAqJQyhoidviwSU8bNDOYMeoURG4gI0clfYuNNp3RrBjfrsLQqyn8r9iI6lVzPHd6ABsnkjdVc427UYy2PbTeIRT83HNDPUkOS0ZPeW+IeC1PABuB1gHFXDLc++DkMJzYPdqsehWLtq6q0qJB67K0MsE2anzhvjIXYzSxdzjEYxHybXlTms56QmCU1hejUBKpWNdzreSjhsequJiXYqn23oeTVMpOEGjd8AFDIK91/7DKKuC24aZwZ1AkAMkqXWIaJwPIcqOQQwE3ks/cTZzG8qDOJuZAudLZoAFoQbmDEYKgZjAQbMXebSOYNaYVGgI16UpMPtqpCrGvJ6yK2COPgZxaZxVwNjPbNoAdBTjvH0PZlzQC80hgencG5V/AABkObh1L9SSWbiMMVOEQzm6fAEJhDO0k6kmTw03WqQFoMM2Z0kNcFEd0ZGT7mQ4jSoQDdloMz9AZXLHsAVN+2UPwYDA1ITXCOjrPKBF8n/InzRqSQRKaG0Ytgnk9DQe+C3dYNj2G+wECrMdjl04gTRm54U1Ftha4MzWwSsLc2Q+QDbgafQWUkGZklI/idCG4mWrupZjxFrNmgDcCrbYPOfabYqVFqXPHaWQsGQ8rNrLmcAXJCDSL3szd6Q0KuFWAY5VTTBsGcsrR5JB4y2yo/HJSJuIfyuPUBSHNahp6FZS+1dGd+NIRSASdCsWqvKUs5wiYdcQYLinMMV6FVTmQTUZN+q1ngTl/H4MoW7e3J9QRilPUHSWS2any92ERONWcjA6y8DxiYIVrWJYzmBJOPbpQi2E8WJ5aP1ZoBeCcTyMkXXLpPrBaDoTgYuHW3EDs7+SCGemIYeE5mVLJF1iWKS+jLJ1BBH/ouG8YgJ0UP5XFrDAGkGRw+4VEGVZErG2VJWy5bYwN1YIgGMbOIZwenFIbBoRdqY3Ukf3WDczV9aNFESzUzg2ERTDFqTnWDgIdfedw6Res8wdwH3IAWKEhCSTw7aZUGqxop/MMT7veEf/yEu8pNZWemg60ts23YJdjiEdBD/k4XyJR+U1JafAz5vGS3lDpDylnIWzcpOkR6NZ4ymhex48E9wbZ+tbZlyq2DfjWC/DIFn7tdya/EcsE/GLDtIvMt6Kt1Xc4ccbFQlhcEtGCrLZpyu4REjbBz/9ifCBsIG0gbQBtuGd1y/Q8RNpAQyS1vIG2AXKH6E/jmhMgO0WyO9bZ8tWonxP9kC9Vuodqb++9G/UPq/26A20/zLQIiHXKfA7yiRbdAYqEZtTQwrj0o9ScNk0WCaJcBzde9JH4gawbgnYG+ozF48sDXrYA1vt/6BC0MzlzDcMBBRcttqMZuRKdoGZgdVFIZukCdr08wCOo5xtNm7yqJdn5NyHG6EsNIDaGRGqpxBleMpAZjhAzVyJld4RzYsuOigyt4TFZ/btTFFWr0NtTnXGyOUq2M2r+KxAyur7vyvc/9k4cx6DJMNmuCPAT4vXnAI0u/7Q0L6DW0YzA3QlgzE/RqWZQzkTXF+KHU46/boicP+hsAmH/02WM+Ivc7DwDmn3zuaAb2geuXhHQl01elDe/x9FYo9Rn7GojQdWazNssZ5DTlVuO2uhzX2xiljWj9Tu2qpSC0+lz4ucY+q0VVpFer70UoKky52UdYlz8CItRzfQNBPdEIFk0f3HApJwkX6PJvwF13f/znr71kQzp9XTwzEC1Y9PIG1FWEffgVYpxhA3hgsyupBa4QIbi80NUhRBWHIC90Y2EOMtgiRrZoe5kbgNeJzPwVMv/QX7WDvAuD5x95Vmn49Fb88Mkfv7I+z88cvq0ZzElcgGHMposiUCftRHUsgpoWlJ1PJarsZqmMQUWbJRN0rF3lGZx6OhhcXaCZKGdfe4t5lahm9pEPxSLpHqYm6goW6Lhb572qbvQGhgz+1++++W63fvznr72EJXwmAFxQIjAqsAxHQVjYZMv21X+JoxdQnSIcXFDynuDGhlOltqzTTwIIBhOZADYArzGDS5RhRwZnN+msfceQv+Grv4C+RQye3PPlfuTx+aOWwmDom5uCfYWuVi5FpS/Cmc1tM5476eB4uW/g13ZRxoX78LuShlY3v6buOrUCvtGvPRUA/vuXb6hC3bGJcG4EcYK74OQvANCG1MHAGAzhvCM+NajWrBsu/4ZW3WgDiQD/5sr3PmvvA171qfc5BczCr1wxYDH7CAIR7Ose1e+O4GHkUWcOz/bKNgDv3Awu2M/kQX8z/8izRrQ8zz9xCHuZDdvbvc9x6HUieNAO93q50P01fePrmS/9GzJ4ctfT6x3+2/G5MU3edt38ObnjSQAw/+qJ4KrdquWBoSipyPQOL55989TwK4hKQGJimVljp7c9ZnbtmWLS84DUJdNbvmD2w1eMAuPpTZ87+9l5mm1ZLE5/8zlujdn//E1ueMFmbrPJxWLKHxL98v++gQB+41efWn32i19eCPI+ee4SAMIGESEu6geJNgAXdRkIrHM4Njbnf73uzXfb/fGf8zpYNwjHkcxqYLMr1VhFMjsGg/sEmGEZmck6Ar/wbtUpQNiohF8/C4ZeWmPzKKyNeFkR51c8s50i+5w/v+Kv5KA9LQuyXyn0RWzfPMgaiyn6JnaFiuoI6sRO9j4HAOZXHcYneCrbp3bLPp/sdZYn7tVHVqtN7vny+eeOjNLfageq1r/7ma33Zf6l41JXbHKX03o8D/OvnADIaNnsfPr7L+mxt9k3To2eFgSA6R4v7Lyra84Md+XObfejO++NY1g+CdNdD++2q5++2p8Mxg+Yf1w5jMUefvm301//X7P/83fiKUKPJ5FWGupKDBWkK0EMAD/73xc28V5YR30BEOGiXsYFsQ/rQDEkgAX7c0Fw992fcPU1l1TLzX9B/ln/94YFLAhvcJ8s8AbCBcENhO7bZ+99wKs++b4bqg8X1crVtm5Nv6t6uTqx6HAX/vn9D77k4+4HLqiJKXQmNgAAeOsT72ukMACvFYAn+5w/v+KZev6NpQI4hcDmjVbTNzgidqEmoILeGM9JGDeX6F5nC4xdfUTycsUA5vu5xw6/ky8eo67Tc9SiX4FGAd/5lPlXTkhvy8s8YOtvmf7OCbOvnxICKSYxJpbZ/qe3OxYAZt85I307Mj8zXJ7udgQAzH5wdoenJbHP6S6HAsDsJ68KRZz6c8Tn7JPqrH7jWY7EDciRH86XTHB1CX38eI3bG//6U90hf/I/F1YMY7gSDG4IV8N4AfWfFe3usfsTPnvNJQEFOWjFJwvGUYIbFsi/etbeD3/Vp97bsLkCLeeuwDDflQM/P4c3Pu7+B1/y8epsqUnDTXKmxVv+0gBsAF5PAEMRg7MA1o3P3QE8uf95ANBo34JNEutM9j63QW93Ae2k6r3Onn/2BdEP7wLgHuuMxuBS9lDRGZYdbqxdFZBy6EUoOYQslNR2aMxtIgCMnNPU8JsJXGgIVDPJYfgn/3NhrXQ1Bi+amVALYJADj7o9d3/8Z6/5p4CFXKc2kjckMZe/NxAsFvic+xxw7iffd4O2sqfvQgH8wqvzQASjn9sFrKCyAXiZzXzA26ENcgKP5fqd3L8xO2eHFvmxQoTesuGFts78sy8oPJGhburCxIpQsE7ofgal7LHcRMS4FBVUjqKpIa5XERwxX4AZwvRhegXlcj+xPCuv9yk5mukdX4a8mC6kK2TIh4XVIm6ifwkR2TQkUVH7F798g7dRQ+PxrTdyIdCwUc1NchHLGBb0/fy1l+x5m8cBwFXf/qcwTySJcoHiz6Z+kXMw19OrqngrVn0B2MwiuS0zc7DawO5uYTPbqgkWJ5931V7Py2yWiGP7MHgLhDqj72vmHx9KXwCYX3no/MoR6NuyzYj0bb8z1G0dSt/ZRLoPDBKE+RxewW5Zci+i8KAEyldxXg6xDsvDBcTyfkSb1yfWlhgE4uQYEGYFEXvunkQsmZ8kn3dM/lekISMgQlZgUKaaIs9IlnNqo/lkQ+bBYPmtAGUKqurf5669BMSHTX6MhrrVrsClyuL7d+k1AADgefd9GEoveb0hCAuCW8bQ4dQMASAyx2B9SjYDyQBsDM7K1gf/rZC/vK/nOIoyRBLnnzgkCzKUXRmjT1J9XNsEg03idVhGn+CcUfoXxVTHKM+eOCtMXoaSaWBdGSz+ZRjs6+CJlMTAt+WkTHMUKJmEK0VuYlznTj8CgWGO0g74jPcTbduDvso6INJ5AiRWS6XbrDdHojqRBZIHKjCgos5gDHJg+YxaFKegQoCrr7mEfSLTY8k/wdE3yGaFAUcJRH4rtjnIbhT0DIA3PPYBAHDR4+6P6PmN3npR5eA047MBeL0acwAPYvD8w/9rRB3cZ/0SXdtVBxdq3O2sg3N41uUyqhmtQWa0znG0twJmBezD3crNAxHcgcTZnJQlu8pkzIZMZmxQRLAAtpbPUuZYDhJSxgze8CkhyWVgDoGa+AdePXtaQyOI67SRyGFc/3vtle9pXAQsCSXTwWE0XjRSrf582ls/xh9BNtPJEkFvCgjsEmxJK5mktARLc/F3RfE13a3KpTFKJbvC7j92E6wY3Us4E7cCsCqMhYWkQJtbDLE7GUCUVy+ejszXCzI68huRncGs3K9keq+2Os1BzWYE7wMu8iWr/uJmymvtkK+r+1WzYwlYQkqCDfRJKMHV5fWJRJvKgGzeLYkZwP6/weTd2B/sd4t13owm9yQgwHmffu9iUeXD8hkoq9K+2Mx29j5gCN3APGDgKW/5mBuWVAyuEmDxElnWTAFbW76+7UnfktjaLaXvdhvLt+pgKK49lVmNNAEdupNL/Mcp0ZzeBLI1GDJ6vXBZCPTIgc1XA80TDDLiGUDRwcwk603BALIQAoU+YG5z5ko3UXHBWZWFP1i4dWsdDJzK3LwcmqzdtuQmn/OzAl4iCeBpb/0YcvUsj7Id+44pYGsFb9itfvsjdoQQdpiQk5yKWjBHNmM6Lp6klCUxJn4sJi9CUaKSZcrlnA7mTxT7I8ymGa3mgpCJX/nqExYdHebFTEdQl4pmfgjQdXA2c2eHZVfcwqV2ljmeG52pOQiQXXkCti3y/N5Uy8r6h9QKty4N3OT1aFaEAJDki/iSJoKrtJHQ/AgneZGJV69lqxITLgeWIy4R1DrYfQKNyHapssTvboox+BTZDvZMB4vHypop4LWA8apIYSwTqWPp4NHom/2xK6mDE09SrpwzhdIWQBZF7qqA42ivgk2AcrHTAJuhhknGcqf8wSB9w83OdR3MxS7GalgXwboO9opTKmkWhMyjoppPiAcpBjqYz4X2MdWyFqELlhYbBhUJowAuawZgY/DS6IslLBxIX9yO9N0+oSajMxi0EC19V6CDMIXqDIa5rTtP93ExDMBKKQc0ZSccxj+T8t88gwWPo0hmxcgcmn+9WZjtrTZSILdCUxAgDcG8I8FgknFYIUpBlAd2q/nRA+8QAZ6tGYCNwWOjuHNWowyko/eEX4d1fX39LLDVyUKoTqyIjjLQyIxb/JBgycNTwmDozmAIshFKDAtVDS0Yhs3FMMnpSRB7poP/QmKucJrBgrj15F0IQ5F1EYzR9LfQreskKco//dNKLnwaPCAJQu2rTUkCOcILZygROxAFp2dtGc18wJv+eh3+NPfpEDHhOpIY0n7foqyHmfPvk6iyAJ+jk3izEC78wRKCJaUnkyHTUYy0+0J1M/PsWuDDfMVqws2MMpFWsZu5uKpjh+UmU1VTfhCYP7ipBSyqCstQal6WL/YH8wpLLkoZvOvZ7Tf2BFfptni5wDocGpFVTazDnqGu9Ru6eMFl2qLAQ+w/B45PUoov1UHf0IRxV7e6Su9V309C2jbCwRSwtXEE7yrqYEhbnofo4NwmXXUwmA7upoNbP48jqFvczJQTzZ0U8ChqOEju7MWxKnkhHRctdDACKPZnZk+GQN0GIjhAoPDykmb7JTXUGbhj2D/FTgdTpgMFmpvXpOC2aIRc2KI1A7AxuJ8yHmh5hgJgF+62awWFQhk9kibe2nfPdmCwithWVG8fDMcohYTBGUCYrDMMRpJpKRUeQxx1JW3XYmoQNsk3IhsyxC5eDBhMzjEczCMSMVkQOWqiaUuyK5v92QC83gxeNn2xY0ByOjqqiLitOljNNJncJLVOItFmRiKrm6Tczzn6bsu8H/mHbSwGQw8XcmIKcmZXy8CwmPgLydTQnMEhkmVisiZPFoB09zq16oOtcklOMc4WyfYGqg7WAq+CZ9BPGmb5sIIQaGTxfSi2lGHPiTJU1gzAa8XgyT7nj4DeDvXjsBd9NRwW6uCgGkuLxh3o6y20QifSQMd5AnlWajXINc52r+4BoqAzfSQh/lEURzwmg/VU1cUMJjVbdVBJQvsENKAuSQ13U8DBCuBjtSDM7CEKJGCoX1FCUfG/gohJ5uxUdLCwBlNIR2gQizqzURsLuPX/5lEPDFNlacFf1gzAa8jgEeibB9IQHQzdLc+qqAVQ8DOWDs5EVnfTwYXZtdZIB6fM19R9V62+4dB2raXFWAaGOytgXgWXLXPLOdT1cut0zd5LWlMZQFZN0MZ7IaQxds0SKEqXAOBJ9zyQR0oLH3Bku3YbsqoSxBI++xA5MQkYA+pbMwCbLbqMvpMHvHbygNduPX0DLnbTuJsQ81yG0O1WE2KFGAz5KciJ2hX9MJzavI8CZqoXSMtb6dkcxFiBVJxK6FNDwXgQKHEr5hmDTLUBIKHrZatiu0ag1BMbaHRWR1kOBQy/BuC1ZLCTvyPq4Bq9A7UySO8Q4uTe57jl/iROaVws0MG63zelg0v8vglDdG61VaFv66NH7SuNxWBoYzC1jgZIXz9YVjdXbctepqcUMIUry58WZLcQstWniSYAuPVNDnaboKRmUGwzyEjlVHVkbWZKV0z5VeYBB8U/IwsRiV4OMiVIzHhrBuB1YnBVEGl+xTPTlZHKK9Y2+/zYc0rAG1En6UKe7H0Oo+8AHQwZ93DHdaDfHN+U37eAuCn3bdJPDHrluTZ/MIH4lxxwbA2DNV9v7ANWN4khyh3DqSIN8SZejEZo7MRgrnHj/5JKX7EfkftCql7+yHzvZxfd5qYHh0EKvM4gcsM1s1FjuP+gOkKQfANYXDTECbAgVLsA4anyu85qAxN2DUKw1kky2SXYCgYva0g5ecBryxgMRZhsludXHS5fDx1J3Pw52fNlfqzwhaMVrqdIPNbMohEtzz12u70evWReDz13R+Fqu7rsIgAAIABJREFUqYKM4nNS6iHGq8Wb1OvLZWIJQMICFegX/Lcs+YbLy4EEhNObHjL72XnN/l2uDVaNEbkORpdZhFiNPwyrQLgM0k0KDla+UKhMkoFXzQGwzhwSBV6RqE7oTtEl2WDIF6UdsClO0eCcoNmVq9AAIAtbWDMFvJY6eKvb5tEXAOafP0rQFwvoizn6Tu5yWvXP6LspOrhsNSpwMyenGqftzyDzafjPOupginRt89/Zz149vckhyoYAvtCh0MF+Cm89UAx8JuhFsLSr1FFRLvIZgOWzFErXZfaIzNEQaWIerhXEMKdLo4mJSe53mQ/YFLDJ4G738oGv8/K3fJpQerXJvc9J0xcLlsWflfxthG+iZ+es1gp9a5z/2/Gj0HfyB6cCwPw/XrRc+q6G27hQByce6U46OL95ahOi6W3qZ2n23Zc57Vekg4lJZ/E5zX726ulvHTL7+XlNoUMMdxI9Y65wfZPZEXiBP9Luf+zWBXIpJAmRhSfzpJkxdF0CTfEVefdNqF/JlyIMIj0a2e+zcMrkodYMwCaDC2XtMAetp+9hbSWSMLEcfjXZc4dHb/5MCthcobfm7sBSvoiTO58iusSdT53/x4uH43Nyp5Pr8cFXThhO3+nvv2T2tZe0r/Z7fp3Zf56UXO13T5z910mtD+j0d07gf8++cYqyqzu8aPaNUwsZPP3tF4odfvu0IQyeXbujWpze+qgawz0ZLDjnGewN3Rp6qSnbS4hI1Mw5Imbprba+7qcX737Tg799/ZvCcakPpVYGciI1tMvwjPQPn7/0L/c88MKr3yWedPIQRRJb1SWEaxu4Hx9w0EI0YkBmZDcPsAF4p2xdBp5e/vagL6Toy3xSIX0xsRx+NdlzhxC+5eOA6HNF8nanbyVzeXO4ndz5lHo5i0lH1pI2++qJlL25098/qXBX099/CQDMvvaSzOlx6E5/78Tc3n73xNl/tfyQ2ddP5vuf3kEfl0zv8CIAqDGcLPkAgDD71kv5aU9vf7xy0O+crjNYrx6BgDC7bofDMADMvvfyYgaDKNvQ/LdiMADMfvHaxjUKXgG7Z4wiHewYxt2uGNmGGpr7GoA1PqnJAlmfIQohS1H2qvSjRc1JYzDcp1BWN0UogFWvcE5ssHnABuD1vPT7nj+//JlLDMnqQV+I6RuvkpleLL6q0fv5ozvvStO7NXf7VllwMldXt4ihVE23+VdOyFie3YtueseTZl89sXVoVaJryxWwDuPobKe/e0IrfRXF+fVTlF1x+sZCNmnKJgCcfes0foYVj6e3O05nsL4rclSaXbejWpje6sj6hL9/VhuDAxJzHXweIE5v/JzZL16rB3lFMMOan1WKDhbETHDtTy++zU2f+K3r35RSuiKamrOTopWjWbziK2m7xrjKE4TDGH6QwHiOJn8NwNZaKTt54OvmH312ZxKDEmwc0Rfj6REqbgMST/bcMf/80UXRW+kzFKbmFGURSgoFZq3KHUdAZX7fEvqWD7660rdlb/918mi7+sap5QjPs3n27dN07dvCYB7XTIDYbotWzjGiMhAQzH7+mumNnzP779cyEaw/ONQENpNP0NEYfpFQanbU8twgiuKNyKKaMRGN7CKz4+zTXDpzSDMrNAHi8y798Kse8aC/fudHql9NTArzk7FmALbWSdcWkAZ7aV/NzsxXlsFWGSdxu/d3/uUXliIT23g2KLZ52FsIO3+xOq17gFaRPh7C4KDOr8ZgBbepU6bZL14z/c3nzP77dc3m+h3ERoxnrslv7/LEb/74TUnTk6zUqxucmWIOoMs9wVJP+9WknI7VLZtb5X6/vXINwNYyrBLBz/3oW8novWP6og7ONFYne76MuXvT0dFDQqCThYo7JKqk4Tp4IKTHmryEI6+3LgxOzw9OnqAmggGBYPaL1whPMAijrRfb0mwrRDB74tgnqDwFYUhzvT4nq3hmCYCdmfQZ+0nA/AgoY6z4VlQb0SufO5kCXnazecDrwuNOFEnRF9r8u2GRFAySyotZRkGyeb+cyByZOcNM1kklvRSWJqRsTS9VntyqhICYjnldeR3ccbWifJYFc4KDTUSuycT84EwdJP2UKdx7XBgqTIlFGN3la396sdKr1FIKIKsTBl0QAQCetNeBoQKO03KBGCWIykjNt+c+4sEAcN5BD+KnBF0z8FkzAO+c9C2a+9tGXwCo6YtyVB8rV0inyOhTpCGhg8MqwirMIqy26+COzNsMK/TaaAzqQ+SxGAyJfB2ZHB0pEQxqVYYg9Ud4LASWhSNdx+Q7P7m46Tf1IYLKReqfEGa+FFUTQEscHRchAwiHqcp5+rJIBHqiSmsG4LVodQj0JuhjDIImC5JyBP3Vd2WZCb4N6t1IHChRlO8zpc4uJ3FZQuaS+r4lAhe7/8ttvKaNxtugN4NDtLcVREqdTpgPyyfEDkoXYMazK58C+VCQ4uGJghfdwj9+4VL1Z7o6g6CFamCCuADw3Es/DIkyxtYMwNaSTQl+zsU8F0Ba8fuiMulhRPq2KOCETETxCiHwaeObf0hhDQG/Wjcd3FJJqfifXqCubRyQ/zf0uLIkXtvwYcUYTPltC0RwahPxDFFMSr3OiFYXAYHkn7qJJOiCF3/uUgRlij5o0wwx0XUQ4LB3fRiiycrIBg5Dyn9Ya1didgmWqAC29sENhtBFE3BTfl9IGqVHpG9JAWMoi8DahDq+Q28uWi/otkFJTFZqOd62MBxaTc4VBZHxMCwM9axfEXlxBxmlXJPYJaHkya1SnZscv7FJrdXMSqryc8l4K/4nsBlTh73rwwstJVbPQZQ1U8Db3wo3mv25NBqrLRWG8D7Jub9BDbMgtEORrT3KBnenLxp9V7xLUA8dXKCJqc3+XH6SJRUmkkaZpAEhfrpTfRUTY+k2fUz6TjHU2dLvqyyDGaJNAa+pAhhbIOfsRAWJqKBg7q9eIhABuyraPGu7k7hdH0OvygqG0iV3iYKKiEWStHA5ENOpeUf58ySQsjR65CicdIsJGsaPkVbkQZksFMwJVneCAGqKL2x+rdsDyc1tHrAB2Bg8Hn17UhbL2DaWXVo9Q9b/l0Rf08FbM/7YBgwu75EpC3f6ilCXK9Uqf+PMzYo+ppC+zjaOUgAT24pY2sn6T7FMVgnJAGwMHkDicvrq68i5v+EmbREg/THcXQf3g7Tp4J1EB6f2mBTBQWKt7p0V5WE14duSkx3imkgK4YPZwyIFh8dwkCakqTzBkoEkMpqQPdtLbeYD3uoR0L7nL4u+nUis+IATLETNO+QnQsarFbqHjb47N447fV64q3DeUZc9hNOI85uQ+kREofra44Jydm9GDcfTEYDiI0IcvhHHxcsxdrArPvZGM0KbArbWLh/jjquHcJR7VTEZCB1kqM0VZtCWS329mVJLafgVkdhQuqL6uEyQ5daKv5OSV99W6kNKlmVgRQmpcbAiD2+uRacsgiTNy6SNf2VeaK1SgrIr1+EoRHBdcrAqZMyMBtzvi8IfbM0U8Oq9RNy/lPy9YCl6N09ZxderUjZBJSUFVSJQqwt9SczlRTeLNwwtBZknpA99i/JldJ/liyv/b1iGkeTVGy6KqbsopoRIpS6buWnEFK9AncQ6ypCGtGaltnK/ygooaYyFhh4EBDj74Q9BUWiJgAVCY1y5yZoBeD1MbI6+k326W6HTOnhyv/MUEQxl/uCgE2MU4awblltFbfCykYmoxGo8+xWjgpIHg51Ga66rrikpcDwUWRul1/RgcH63yrSi1ilSVLJn1LciiHJxIKajGLXkHtVOHnu3g3gHl2UewpF2JueKXJnQ90vKj8CtGYDXA8FjNI2+k/u+OknZ1HzfONKKb5yKtAr9u63jg3QYCibeTJg2SmPH2OatLxxkbTkMplQuaFUK9+urVLQCtTxMWGXJUNfxg2ZK9fJYKAfJonkvz5gloglLwYqUTKJpzQC8HgyeX/6M6r/zK9qScpQZlWrtGyMXE8NZVPsrSrGLkz13JEVwO5KjZV7vgRtvdWGtitc4TTQU6V39VRT/g63/Z60rJYvyU2oimAJa0+Cxcrj9rr/55BSVO93qTEwWaOFXmouGnMZNVeRqdk6mgA3ApoPLSYzzTxwCAPNPPrdlc5Q0FSllw07X0Bfb8z+XRT7X/l3F1xvbtLN+36DIS8yuHHFLULelBO7swYXt9a/oqi6fwXEu6PJuSJE/uCWiI7drVWUq4NQyY6W+Sua/SRw4RWuMdtX0P7LRoAHYGFxAX0FWmH/quUpHy8/hEV0QtYiqWByrvT876QhxeqeTp3c6WfP18k0K/L5KGeABOhi2GdK6PxzWm7I6OEtZKYWnux7eJW9l5rQofZM617rH7usgMyRFeWUptlrHBZSqWG1jsAHYGFyogzNdNvL1SlNzzKfJPXbMv3B0ZM9KWJ4B8ugFgMmdTgaA2VdPFLBXyF3m902yqsTvi9uaX30wbAxOf0fpukaddPD4N5Yglf1K2xgB/vlL73zc3Q8KNkGM2JndYcYHLN4QmsfamgF4J6Ru+2t2ct/zGvtzYFgu2B6TkJ5/8Rg9UAsxKYI1ZFb0TaC0NSpbMUpP7/Di6t+60bc/hleAwdM9XjjyDm9/3PR2x424w9mPXjnd9XDZZzUjdv2P6n/aA1v99eP/fuMtbvzk8puX9+OmJDUWDM5D9otAEdIrsxiDl9ksEccmM3jcxJMdRbPqA05A2stfSM8ywuwnjOiTO548/+qJ/j0R1BtuJ3G4yfQOL6pfl988tf3qFFyo6W/XYJh966UdL/SSX0/Y6SA4+vlM93hR9jp3xNs3X1oxePbNl46zw2+fDgjT2x03+87pLVo2VXOw6zCa9PkC2OhZHBDIFWfbKN2kXp8Q5cxeVoaBZ9jwuaAFxdk6w36INQPwWjNY7mZyPyZ/ISV/80Txm0z23DH/wtGKjVpXkNmSiAiTO548++qJYuZEuvpCkr7NJ5XknX3j1FKNm40Jmv728fJtflrvOzG9/fEaHtp3qG5Yb0vV4OD42bdOK3i03I8KVaY2qigdRVSk5Mp1IDv5DttPrHCf3zm9ncGdRPDND5tdf47ss9nOS1XU0qhqsdpdBxKTH6eSXobBl0LiArcaUhAQEpIx2ABsDC6nb+vOQvmr+oDjXWF6ZJ4VwXK5om/ZFOEE0QP0einW0dqMCvC6EBclNY/LsHZ6++PL95xak59nAYP9ezqmWjuS297yHLqjwLg6gazhoReDrzmjrf8VSeHZj8+Z7nLY7Ppzi7ttjTEUs3R7mkhw2Pou+SUGM6lRCONIJVcnrzDYmgF43Rg82feCaipwjprtI2QNXZjpxFm1Ck7+HtNiqS4rgjS508lzr32l8E35ejXwR+jtQ1/HsyEyl1Hz9Mxbttch2sBcVBKeMrSrgJdEXbHSctCd7vHC6R4vHCKI+YkNx/DsO6dPb3tsO4PHGRZTCSv1hDFBuWDI5N6KuwRl0Qs+cXQ8D5hknmeU59Po5pjB1gzAO2sriKJi9ucEnJT/qsUEK9fvMQWo1nYiEsDj5I4nzeuA58jjqyzHJAbn651949R0Wk0opHICimO9XZbvJ8ZBDC4Smh09yGP5cWFEW/Q1Z0xve2y1MBC9sx+fM93l0NlPzu2H3sF3k9LTDxqZy1aIJhoxi7Q8IMrfrMt1FLS2ZgA2+qpv/AQO28fl0M7R2F6dOTeRGx6ndzxp9tUTSWcz6NkBQh4jqL7eoqTWmR+7JMrSADwXsxtLDoq9zpFGHpBsXeulgBUYT29+2Fi0/dEv3rjrjZ/0vZ9dlNPBlDurKA0WVeFWWn0HT1+MfMCQATL5CsQEy4jnsxY2m4a0tLbcZ7fcQN0mgvlw7B475l88RsGkUqQh+KRZrizGdzxp9rUT5TqZZZkuA9iu1KwaoK4TXJx09YXk9RyYIGNpuSVxPK6PuKt17rHkFPDs+nOnuxw6fNe73vjJAHCrmzwpvNbYeh8oMcptv3ks1QaJ4Ssq0+mxrbaZNQPwTsxgxFQPq+3PIV+x254RPX2xrEiDyLYh4Dn72oki0ZVfRVuOdXCJxu1lhd469gzDsDF4C/X09ecO38mPfvFGAPjezy4qBmfM6fpt8ui7PhIAHn/3g7SKZ1rtBz481jrHmQ/bZ8cB+3ALVDzKtbakZibo5TN4+PPbbyCaiqJCLNpnfu5vyl4NGauyNvc3EXXVkj6zT70j7PTxcoZc3ab0hptSn++Wu6u16aG+n6YnHdGYzwz2WwHb+6satIxsCrObiXT6/vtU3x79viuCOcH13KQeOTOtmQLeuXQwaOblwm7OaOrlL8jUdpjelfT7EgDVcx9ibzSG2WYxRV/sQN8OeZ5bbcObUESB5b4u/1dUzLhgc+i1q60p3rRFlaEo3WkH9+If/PwitSNhIdObNd72pXcAwCVffGfSjo3Jqp9Bjq3jL7ucG6Qw7LJ1h0ZzBZsCXm3xuzQdPLnfefNPHtKG5O7yNzaBKbsCDdVqfsrUBCRMU7ar3t0eOngZChiDnPlDNu8udscIvV5lYxUtbxCAvT4JRqdiTCs1OpIPvwoX2ESjY98v5W9zM6veTAZfU8DrJ35bJgGXkhjz+rdc/uYgjZg4Auq5mjEyUAehVfEy3y+uLH2hULPhMMct9jmrIb8cR1tppzJZld/mUnN0s95b//WdHfaLilHJfXNcJYIrYzO2dFlrpoDXZFw9lg6uagD3JGunw2Hg6FU7azxER33cgJkfldp8GHE38y1SJHSHOG5NBw/slKPkhR5+LYS/uTWqsEgfp88DwxltRBjUWSBguS/9U2wENgAbg3OUXZL8TdK36cEQMzXK84wd6Yu99W7hfN/l6+DczFHqfEhhVywLBCLtj8wFGTg/mJY5zMGd6/0wCoZjH7A65bjJh+VzQUNjmkawLByb0cwEvWl9TDRnf57se8FwHaz1xzHkb4jqQPXKz2N8xjW+/Ybpeb18WZ0H3P55l2nBy4j1wcFW3+QWuJRNBs5NWt2XdO86wUt+SwzMBR0895k1m3WIrUzY+hRbMwCvOIIH0FdDbR/Dcg9LdT2NXx2WF/h6ky8DLCvSUKKD06+mTX6dGIOt9brLHcQuUjiFPvvcuSErtrwbZAo7a0trZoLeXAajX57sd8ES+nAiLGsE+asaorV3BaYFsXjNxGiMZh9hQT7qnnaCzXqlDvG8Jrfo4bgt2GTg/GDLXLhpjxWrNiiClvW7kKgHnNQF4dvKGGwKeK118D7njyi2Jnufsyz5W/8CPt8XJJj5CIATt5W+2EbfhNU6Pw03tfkm/Gs3emPx5F31t+Zn63bdRL+c4eatJnscI6cnbNk04O0igkuyuYuOQq3WCGXiRNzhwnmLtJPeBQPw2jN4OfKX0RcTInio/I38vjmzsHQb6/TFKCtWcc7nwjzPyWQdy3+TQl8JMdSAjEs5w4E/arytdxYSJ67TY+56ECqFS5RQLvnUk3fxNkPiUx+6b6ZnWAqOZTczQW8Ng+cffEaF4fnlzxjwNhLBz5O9C5LWlsvfonIP6nxfTGbkSNVEgvTc39W1Qo85caiHBbjrJssxa3c44bVtu9zoyVUu6JGHK8wQjdAEMzvusnqCobm5+QoTO5RR0EQ2XDIFvHONe3uMpO5zbo6y5ZIoNFHh5M6n6HhWSw0GIVqYytQBRZk31sAHbDp4G+rg5T8YtNkvCy10GcNkORDFTfJei7L3o+lgA7CRWKOj4qydX3no/MpDAWB+1eGTP36FvrMWjy8GPW/yB6dO7nzK/CsvJgD3T+wUIZyPJOoSonwlFKSDzlUeVJ27+TTIBessywccvQS7ZWwu2LzIidvdtVxir89t0tHc3207/niM4VZIkHi66/NHZPD1//PGqhzh5pA4+q9cJxoqo5pzFny8hAlgA7Dp4GL1ijD/zPPDkKjy2ivJfBqpEC3URt1Rz8b0FGHxKu+igwulzJboYMRh93zrxOvQ3W4HhbtddPCmvzgoMWAhMQIHrVYD+vEwqq8EawbgVWo03CiFedQGb5DJ3ufMrzqs5XXTKn/lkedfeXGyC8Z+X5GfMvTvTm9//PT2x6fTQa8RfY3Bm8vg6e2O254kXobpFgtEsMutIRKZpXpYAOmUOLZmAF4jBlOvjpZ5fUQzGEoSdKh+4gDPqIpgSPp9AYveboVxzitKX2PwJjJ49p3ThzIYRuuOIx/RVyluOQUELRFHWInBU7mO2xLHImgbD1szAO80DMYEX4teE1rscS7Pc4BVnNzplPlXTgiHzxjvMOH31Qg0+87pOn3b6RXO953e+qjprY+Kv9EN2qPU+u3p48Rue1IY3Gn2bZlzFAsOwT4rxVsxg6e3P3679lgEgNmPXjm9+eFbz2BN3bavjf32HJIeDbzLbzYNaVMYjLm/Rxh4xzzT6xQltsIoV7MSDYm6gygzWmZnNb398QX0LbVCT2991Oy7LxtLB093O6IeH3z/rM7vxqI0wmVClgrKHhQdEQFguvvRADC7bkdyfUyNDJXpQbNrzpje9lgAmH3njBYS5HbLdvjt0yoGz7592iiQmn3njOntjmWntxY6mE0JavRrzjSB2j1EWQy4+S9LdCWKMQAR/8rqARuA15/B1GIJLCh8NNn7nPlVh0c9MVuYQWchAkAjf7WISdDcxgHve9C3eMbRiPSt0Nudu3L/RNNbHRl/M/veyzvtqRb0Wqt/b5eX4uy6HQ7D9SfXntn+rs8yGAAYhgfWMcQKvdPbHz8SgzcLubg9T0uzvFB0V90iAQWpcXn8B7G8lcZgA/B6Xvr9/n6Evq16DTuVKCxPyoGZen8pvy9Ob3/cWPStENWBvuNL3gTCO7JWR2a1k+htVxnbezDYYbja7fQ2x7SQuCDJxuyaM4Bgertj6z/dne3FYACqpPAoDK5F8DUdRTCO0Os6DcX74Ey7hvWgN0pD6YsPYjhxkOJahJrUpojB1gzAa9jmH3x6nw6O2O1tkPcBRzuc3Olk7/1VBs+RHMek37ehbzbPcwmJufAdTN/h3PUvfbersWRCBFeB3u4Mduu3KOBiBgPWhujp7Y4droPHZ/BtuzNYe6hmPz5nevPDZtefOzqDhypfCj9BatkCE3dA9VC50g2cwdaW1CwIa3lNS18x4vAaE2HPqvLFEpALPBMANf9lFG+zyCmW55Ho+72X98mwEZwb4uwHZxfn0+gSbtUjR0fhrkpXa43VwtKQrtZnEQEQZtec4XN9dK3TIL+Yffv06e2Pb49VW15Ob8QlyN1RpXA2pA4Lbiaq74nobsg4S7KZSAbg9YDxEqxcLmXVvbkDONX/2nzASfkLkvSY8AFnyArJ/FapZfavpm+nl+ZocmMJb+HOc5OWNLkIljYHqU/94Nm3Tx/l6vaUv4p1BwBgusuh6R+06WDKOpUQddyqYhcxOUYSk4ARrMakAdhaQY8MIpbLX9/dqhNiwdscAXF6u8b4jInBdrEO3iL6GoM3m8GbdyuXt09KKt1b/taTNuFnoJYOGoNqn9hGaAwcSsZgA/B6a+PCtBxY3D3VekRtFX/T8pdvHolgbcpTHSgbEreLDh4RYMZgY3D3o86uP6fL3jBELrTSuU876A8fCQCPvdtBxb+2fsVgJJRP2Hc/ADhpv/1O3m+/7dLbDMDWVqvJCUiJyArd5CTATM1/md9XRXWcAAujCKzIbVyS53nZVRYGvbLZ0GGsYw30DWNZXo72dWDQroYzeHjiE7FOfptuj0E6CCvaJy4BtoOHEnGKd3/BEE654oPVnyd+8IM95k9YMwBve2m77E2SfS0hc9M+4OmdTp61y99UAizQKJuabdymg2FFMk2Oe25L2mREowJuer3CbaCDO+wNk0mrfijrAQ/p6O/88jsA4J+/9M4OafHqv8lno0R9ALMtLBQGYGvjM5i6rNzaq1pSXCVlbubdOvvKCS3zgPPU5wcStQgzkVlD6Lvt774xeFvdKlz69sqcB/bH939+0TKG9qhJ8Ux6U1llgQDgpMsr+UvKjAqrx2AAXm8GT/a7YDTwhlU9y3zA2FpzCWSxIy3mC6PeGtT65SQur7iwuvQ1Bm8vBo/iyMc+e6D+cyAw8efb/+0dIIsPRtWZqf5vuBMRcoIIJ1/xAbY5hT3eXuBLbpaIY1MYrGV8AzUZVofeiQAw2fvc+VWHJfy+xW/STHXCJPfjN1oiGDu1rJ5kymbe/l7Fzb2jxXYLzPoGqWCTkoQbJXk5CnN3ICZFXKd1lFs1rl+0V4gZ9ulpQxlcJJaLfg1qr5XMlU3l33B5KBGARC5oQkKfi8MYbAp43XTwEPRG9JpfeViuy2JWBLceIchEHWbUimiBoJTTgWA4nU6nMLR430rIqe482J7idcRw6xW4celpszhM9NLwh52ym8gQaG1DXqCwqlFoxYANwOsL4RjG+17Q9z2iVQCELj5gHczY/c0bF2YIXMJtL5IVm+tgDO6QM2s7MXgJyns4hnuKYFAzRcZTgTHyCcdDI9l9CdfohhmArXUc7vbEcduE2rwPWIWvapeGfLnD8eb1bmsqG4OL4brlDMY1PBKUzA7DZA6sFoGLtE6DJgOwNcZgWla3n9zr7BbtKylbu6Kw6m3c74ttkxL0OoZp63QyOXNuXm/q83z+Yez7r9cLUJ8f3GlbwJEDqdrnCpf98iUyuN91754XuscRYDNCpsfUxMhDq6h1yzgqIxxvi91aMwCvnd6df0DUQZrse/7wHlnRd7LXWVkGYxjbHMroaLTcUv4Iiwm97XXwFia6gqVNfcbli9c+u9oK1YjrcxgZjRX6eSDbrVO9Vstjaww2AK8bg+uBasXg+QefMf/gM+aXP3NoTyy0P4cD3WAqUVuIFiaKp+Ss0ytlhTYG97smq8Lg3lIYl/Ew9fzVj7zLIyGOqEKfdbL6b5KsLCbyRfv8qXJOovsagw3Aa6qDi96bWIRYYXwu3ionYZMlGXiayQHat0cKaGPwchk87JqsEIM7TQroeKpqh7/FjZ+8GQ8c88ywAgwo7/qCAAAgAElEQVRhLmi9C+auljHYALxzMriIpggA88++YH71EQVbQdpZG5qppnd4cVoEJzZv9QGr/t2S1VIrtPiGe/0bUhhYOeGOm49YM3jbMjhdG7hXPeAxCgXLXjDd5bCsCMbldPUtGGgqHXqbGiXWsFkijk1j8EjPc5rBk73Omn/uyAL7c1b7Nuz09E2m6cgK6FXXweG7iuLFJW5emDSj6/qp1XC8XBpiHSxNNrEl4CqXv10YPACGOPrzKhcIoU66QehST/qV4vuAVonQFPCKttBsQwPeEdDVkpzZKl1CWFqVZ984BQCme7wo+z4q8QE3enq3I1aTvvlxxtI2X1a9woE6uGua7h5Tnvq06W2PGQ3GmJ23vu11sB5YqU0UkNaDZC5oawbgnZjBHYbkreRulap+k+kdXjz75qmzb700+XpK7ln5vIW+K3I/tzuDRzSujMngFDKPHZHBs2vObGEw4jIehNSnTl5SccnvosNiNpFrxjavquzwhUD5GRLWDMDrwWBK/Hc4g/P2ZyzwAXd/WSu5Kt3n/p0w+8FZdeIAdY5vsPO2OrvTXQ+HMby93S869xN33VXHib/rzuDM5elTDxhK6gF3uqTpflGQhJyiFahveqxMbaLWy9NpTjrPQwk8psKaAXhNGJxrfUfJKoP7xT8nKxJmCwwrg/AlAma66+GzH71ymWqm18adY2lXjMHT3Y8ekcGza84IRfD2GWGU/Jj2MIhlqsdeedPV4qLh8BvJrNAG4PVlcKN4J3/6+vCjAZ1wcq+z5lcfWcDglLNWzOSf7vGi2TdPbX+LpaZzyLwA092OmP3grO1IX4DpzQ+f7nr49mHw9JYvGBEb01sdOb3VkWNRanbdjnEZvKV9cowz41UAUfm1y3A6+SOXT9fXxgmYsWBbPYbNahYFvUIYb5W5bS+adqt1F/mLOOg3bA/6zn78yoEvy+muzw9B9cNXdLsk7NCzH5wdMHj2g7Pry9W94ODsey+vMOyWe++KM3h23Q797Et+YSSCZ9ecMcrdnF175vQ2x8yu3bEE/Hf00VDrMCS0S/cfRZCCVV8HmILbUIVAU+Pt9Wby+jNym7t1jMEGYGtdEatXIGqbsFteFaA4gJnJ320U8zy9+eEA4OkL/adcNAOCgkK/xQzuBMXWdRyGR2RwtTCcwZvUWcqftwETggjqQrvJrwmHPCapu4QASPr8L2xmQCpTw9KT4+qtkIgMvsttZoJeXQa3prTRC4mTDwbRE3RM93hRLvg5g//cSfNp/61VFkBdYbrr4bMfnzM84cb05ofPfnzO7MfnaPk3hsRntQ2Vug6t+l3tlAHZ0Xf4rq7b0f3sMSOC+/aEbCkOL+5wGd2vowjmX2HV+yiSwss+Lza64ESm1A23HFgG4NVtS3t2sbzbodL7UhN2ywFQPDt5utsRs++flTylLm/G6c0Pm/34nFGuX3Y/m1tkcHMZPCbOx2PwyLYN7qXurYMBZj85d3qz5/X5FSTnOpRtSGO+FsSYV5X0iIBAYUUHdT/GYAPwWjBYeY7nH3ja4De0mn8DsppA9QFHUSSt8hc3NdfVWPTtdp03g8HLmR+8BSHWPUs+jOUDBoDZtWeO+6s9g/vlwKLYxYujXNTMyoH+D7o/tj168bDcGGwAXlsG93zHyW5UJ6GENm+uKASqp73x9ue8/M1gtflzutsRwp25Spk3jMH98DCs7NIoDA6lebFFJ8gFfbNDAWD201cNPfGGwLe6ycE9461S+MytLCZWtPq1zdNrADYGD2FwH8GcqRZa5P3N0heCYCLV7xts2OoPNgbv7AwuKczQkb4pkP/kXOVksc9PuMWNnwTDXwHNAQ/8g0cBwKPu8sgeNyeYB3zMAx8KAMc9+KHHPfihVozBALy+2F2SP7jnxCS+UI7ztmyUGVm8SjmfjcHroIMHieDmUnj5O4zBP/zFRQDw3Z9dnJPIJVmy2AHf8W/vKLst5P8bzQPe8dHLqj9P//BlkJ8sZc0AvNIMZm6U4alh2woQhXIz9gHHe0Bvfy6Uvz3ou3ptPAYv/XBLRtQov3ULGdyz6C9mbw0WdP2Rn8V3//vbOUTL7wMGo245qsgUYzAMG4DXjMF1Y8mwur7auuTfgPZywvWQv9z7u1PQd6sZvI2uwZIqGeBK/ZZ2g1Kqff/nFy316dTnXqF2itG8hzM+chkqbyt7dxuA15XB7JPJfn8/kME+AiukRWsmelSKMZR7fzvRt9XvG/yy5D/s8m+UAgzG4GUzuPhf8iYW313sHlWcmE/P+rceJby80OFLv/yO/OOCbV81pRfgzI9eJnu/n4+0LSIxDMDWRgDv8JFliQ5GLc1FKZjb3lklIdDbTgcPq31rDN4kBm//39LCYG1ovVwG99bpACIRgPLDbNKRAXgNGcwHzACTh76hmwiGoiqkWfjFOZ8hKsbQUf4W0XdrX8HrzuDVVSebcOaIy70buOm/Cjuvi8x8EAzX+d8yPY+loDQArzGDR33vsyJIra+eTILoxP4H+n23mL7bicG42b9vS4G6RaMHLHg+l3adaeyfgh0fZwTv+mVz/snlnmytJSyKAZsj2AC8Rgz23fNX9n9DsMZk3ws6vPcVp2bjD777mcpLB1HP/wzQ4gPuoTPCZRTWLufEDbNDBx6nHjXZjcEry+Dyf607cX+UpmlLycatHHG3X0R9dE0uBUfSB4y5ITG3iKXM1NYMwCsvfW94/1O9fv3A00d4xSIA4OQeOyJCqBN2y7QvdC/G0FUHbyo5jMHblcFLPYdcyrZlXeTNkMJ9MlrWSiAztlEZbM0AvOoMzs39nX/w6fPLnzHwUJM9d7T0zhbHcOQDLtG7JSTeRszAbXEam/9S2+RyQFvL4HH9u4OTU9ASftYj/uCRTPLGa3rQgjppmVVgOvKBDw0wHzDYQqANwGuog+fvf+r8sqd174PYucO2qtKUVM2nvkpnKdjebf1eJ0svfDSYwdv5omEfoYeYHGM3y0H62d1+60m0pJtdPKpEcNk2qOAe0VLGb9YMwFvDYIr/oL59MOcTm9zt9DIGxx8K1k5vc0z2BZ3CduoloU7lHO7cNQbvrAwefZpqUIzhps/L+YOxuCihfBPQYE2sBFIh5cO9seW2kAiB9v+1+UgG4PUTv8t5886/cDQAzP/12PmXjmt5X2BB1uiSub8rnDrWGGw6WOIGu/8Q1gt0rFLyFTCcxNjTINYsI6Ho2ZTo0MZgA/A6i2AYe0AcCM5y+7OwxVXyN6xtrurgViv0Nn0LG4N7rdPVv7uJl1l/XDtdPSXeMP98Y8ugm9pfDDTOUD1pVEufN+nXIPzZxmADsLX+L5ZW+3MsCbAqbD67bke2/FHBcrM4vflh25pY2xPHa3JWuO06wujjahphKD3KncGUQMbsbcBcRStjsAF4vaQwAMhkWH36mehtxS9ALK5aWMpy0HNs+aQAWNM37/fFMf4Zg1eKwUqcQcdH3z+N/dK3pc4UlT8S/tNwuasI3oR7ghgROrEtdy7hlkRoGICtrZTA5dktynLvYf5DrN6Mofwtp6/2Qphdf85Yv3h6s0OnNzt0PFwZg7tc/FsftVPq4BZHCwX+pVYG05jW55Zrraag1cYXq9IhDMDWuond8O8l9LrJ3c+c/+uxXg3EElmdD8jnYAysfdQaazlem/3k3LHe89NdDl1vBk93O2LMK//dl43I4Nm1Z3YXwZtL4o4pMCpzNG2Ph0V0blDy6SXFP67gBEMDsLWoO2rFUXqULsPh3VHm58Pi/M+F9EUbNo8qNG/x/NGQ+f2zxmXweHJs6yjbQwdjt5WUGEsa5UJSoULPzVHQlG/o6LUObQBeWwb363zd/DFttmht7q+yVecMlEsm080Ozcnfrnvb5dDZ9ePsbbrr4dNdDx+Nmj98hTF4kDqHstRsipMlPTeprBiDS3KhM5iWdnXFK0IkwwLQdXD0y0gA2sC7/DaxS7AZDEYEko9+ELuBAztgabG09Mi2uHIwFNf9xQpyhwnI4XCZj6MIihHpCwCzH71yZJz88BWwLaNPK87Nvvuyzg8p6X/0GT52Ur0DdXBn18rmVE0iBEQgZPV73WXNXF90ZCY//Caqt0Egnt8SESwC2hTwqoI33eeW6Q/GNjZj9zx8PfI/L334PPQAI9J3+7fZ988al8HbVgd3eERTIlhBeLcTb/r04NL2abWasTDLBVIN16o1jetg3PQbZQC2tmQWU2/kdkxOVFj2M+zQdejFdPejZ9e9rIC+y4NjQrPe7Hmzn7xqHJ1kbUvaMhks7M+99W4713rualm5oDOrlo8bEGQ2SrIOZQC2lqBoLv8tlr7psHvf2mqnkKSvMXjbEbUHg6uUL5uqy4vnAU9/65DkqTc76YRV2rT7gDKrM/a5i9aHDMBrKoVH6Yw+GX0ywzqbaohJ7QvB9PtE58voYFTnEiIA1g7gZAGGUab6rwiDe0z9XPJs0W3CYOVfyTOiFWNoZzAOrFYYZ49ptzPv9ltPAoDb3PTgpTC4d0po9edFE4UtD4cBeNVZu1kj4ZhwiJ3eJ6Pr4M3ys5oOXmkGb8kpt5/B7OevyfUZWZSQltmzeTvgzo8CgEf84aM6/VBuYXb/Dr/f/gDw/Pvv/4L77w+9jGLWDMDbmcGdxE5aFbS1yd3PLHjRZEOXkyWPCnNBWzMGbz8GD4h/nv38vFAMdunBLpaYAL7/84sA4NqfXtxn+I36AS798tsz15LHdURSmdzX53zifdVXZ3/8/ShTdljfNgDvJAwex8JYp8Hqx+Dg1ZOy4+UCSm3evmF30zcvf0Rb5gHzk8HeZ0su0U5BEaQuP0qs/t7/eHvHKyoDoRHUoOhI59v0IwPwOjE4QeL+JRl6vsbShYHz/80JiLgAg9TxJXJ+tdxN28g7u9WnMpzBHeIBssUY+tE386vKytnr157EZKTv/uyiYQwW6TXe/e9vD9zlkDhTTB7TR4a8stHB4YAECaH+Z29xA/DqgXfTX4QsRjrzPuo3oQKxXfuOooNNQO9sOnj88+lC4nzsIZQxWHZ68gzOBUt3HjdlxygpY7n8ZfUcX0RAIITGCo2U0MH2cBuA1wfGvq9NHvbG/l2t05uo0H1bInxBi0Qdl77W7Y3BI9K39AzVHDIFtQhbB94s+dfwoMyuwc6pdAD5nYc+YOuMBuD1FsaTP319S28abcIOjrnJUkfKK1rtztrqjRXKERuPZQvk83KroIVjBlRz37X9uJRotrjoZTfLBb35+MVfOeCNg7ubmDQ5/+Kxpd0L28qltIrgPH0HR7Ik16SSDWjJ927Zm9BmnNTOrLMLIYspJdmxdueS75FMsE1ISE2KZ5fsmaAsSbT8ni9YMwW8Dkq3ar/y8IuUcdB+fz+cyJO7nlbmxBqsg7ekCjCOtpI1ax2fnEQSaW+uxcJ5wDTe6bb1dcpr3FSCWiw4hDVTwCvBYKrRRX5EesN7nlT12EoH33DZUymXWrL0vTG56+kd3jDJAX4BfUtIvBkD/q3SwTsNj9bgKmI2iVVe/yZdwJjFarshelPG/qiIWqZq4zkZiESE8c237mQKeMUZvLy+GHX2yR++tJSR3YNLtk78WtsKAne9pVuVKjxVjhrTJPZ5obDDmbexlfIfDi4F7tqf3flRnbbJ1B099H4PY19R60W1ZgBeTQYTjQbfqEdO7nZG6ZtDjUBBLOpnWELfRBBIey7oLbV4rUbW5Z2HwdgyrQ5Sc3+xjb6tJ58WwcWPUryw+00PXpIOHqHbIM8KT1s+oDIAWxvrpd77224daP6l4+b/djwAzP/9RYlaSdhJ+053O6IvfccW9dZMB4+lg0O+tsjf6W8+p7zLqD5gWmq/79KlcpchGG8Ygw3Aa8dgmQyLxu9gyvvIkRjjtLCRUIiCnxUGdyCxMXiNGDyEhVtL3/ITU4L/E05gbOdp/kOiQTcDi+8T9u1MxmAD8E6igwuNn+0W2sldTpt/+YW5jomp3BrYLn+XCtxOL317HawGtbfmPslHF0c4Jcx+2sheAp57UiyTuhdaVofJhI5hl96MW38zDcDWxicxDYH1OLmxFNEghv+z758FALMfnJ3rfHm3r3TsTm/6vO5e3mUzmDbD8dv1CLRG3mhs9e5j0tfbpQZw59Eqov5EpZJqBPX86huFxEoe8f5LOoPrrcbnL/u5qascZGfP0NfiKg3AO58IHndoXB5LhX0nIHXpptObPs908M6qg9vv2XT3o7anNJ/e+Dmz/35dCaGE/KVMX+Z1iJBouVdd76OoDJixf+e2ZgBeSewO1MHFg+JWzRkWRBpA4kSb/fRVI44mPM7t3bB1bXrro3rdwC25Z2WlkLJu37ZfIWv2kj4xSenotHm/vMQfbDrYALymDM6Ni4cYHHtbpLtshVs799feAGMgM+PX707fZMXoLWFwj6irYf5gSnb37r7eLnGZWPjTUU8Ii9Fog9cZjCZ5kfVAA/Da6eAWWVxeFmW4P7W7gRezc39LNXePqb/LegNMdzms260sGiwNcfyyc7vlC0akb+XX37Im7rh09LYOI1v9wYn45KI4Iky5f7Ff/24+wcL8GwSDEnSku0cdcYJpHdyawR3RZscbgNeGwaUkpgGdsdMkhRHp24rZ4Xjd6UbhdRCctcIHCWF6yyNmPzirO3179bMcl7rpYMdg6n4iUCL+UYuYFNOhMzrYUkIbgFeVu9Rh2DyIwSWJ1iFtwero38UlWKGLGTz76asGRHXtpG2L5e/mMBoKxoe5aXjJGOjeQ+5uMrpvoryWHCHopXCuwyH5H4/du6Y1A/C2ZjDPRjnQnoNd/nQDYJTzgJNvmLZsfMtzAW+FDp5df449pFvYOgRzDX+QEPs8RBhunrRnRXEewZqFkVndQU9Qltk9dmEXDlSMwQbgNdLBY+agHIAn7vZBLDrGsgOwyvY5LKza2uBRS6cIrM3d2/SWR5SgWFe8XACiZhxCjMAHRO3lFpbJYPmzMFOriSAdRoY9+6I1A/CqMJhkNsrhOrgfDjNJ++KXDiZS0qPa7XlShcgKXuhMsn5fKn3WITomSd+ihBtKf2CO80F+3+lvPhsApjd6VtRl0FmSCMTcX9IYS/9/e28eL0tZ3XuvdfZuAZnEIxoEY+Q6oKCJU2LikJibKChcgYDMkyOggiTROCU37zUao7lBEDgoIoMHAUFQAVFvcnOjJrnGMeKA5jpEBgc4HBkUsPc+6/2ju6rWWs9az/NUdfXeu/s8D+ez6d27qrq6up/6Pr81ZsC4PymcjB8TDE5atcpcLACe4xvoNHVwogBRh05jE+ng4c/O6l0Hl1GG/prZ9EXnO4a+CIZRCY7hz9+bi22eTRQwdo9djgaARz74qJW7sWCCwejr4MLgAuCC3X7xHNDYqMYXsUWv+BK5zPs1NdZgLeBcpwk6bJkohY8CSZkzs/9z0yXqmN3uB/vtdTAA7P+Eg+TJURylxsRFOPm3XwAAr/qdF4Cf+FvmYgHwPJJ4kmyjXsiGbYrlrvzExBW4GmXMJoPR77LgPXZbYgdNkGoRfM9726pOL8by5s0bsyZRm3vCtd+8usU0cmK0NvzrJ+Rmdj5SmWcFwGVkzYMM32Cq/gYiAAx/enob+iYLcWDqX2HwVs/gHL9v+Ncc+rplVjNDEgw9SXohja5KBgCAH96x0ZGp0JbB1994lZhSqTo7sWpZCABwToVhCHOCSx5wAfDMyty8BS1NnPcbo110//gtFTNrevQyOwuDC4MnO59MHWw26gOzH3Cm8FVIxna7xXWwc2e47sarW80DXnyDlyBr6MvFfylCWQA8bwwOMoAX9h9bpRb2uyhz5WtPCswo/JjAMeY+OV364VR2LbeQuWFwZ+0bfhXyF3YYCMYWMPaaEk7h2pgLbBPDGUK5MLgAeI51MKUnMXWZd1Nh3IrecKcjeMstZA4YjNjf7qiFr/FM5IvkWpvlKtvIuaU2D3ohMfZxnDKBCoBnn8HU5O0vHHAJ//vivhd2mnw48QSNlh2Y6K7Xut/CWmVw+4zbfnox9L1L7zjMT9VVG3v/4rvHn2lN36ThxMuAR/ERxDoj1T8TrX97ZDBa64TO069wtwB4zrRv3r01axYqzxYuffMtuTemooPLmF1NPMlrIWaJ4Kwvz7hVkOonSM6emZRdGR2cKBNQJk0B8HwzePmaI5vH1x+79MnjbENVm7H4hL9qAx6MLfnXFLpwSkQt95YZZHA74Ss/Z2yZ+6sDsriiRAoDp8iUv3WFLKNBYWfctliiYgq69bzHlaj4XkYB8GowOCDx8jVH+cvf1lNyce+3rZAEXZWpiVPaYWZjrNfmTXG14rPaRl1htBZ0BtIZSpFPbsqfvtT/VwLbfjWiBaBLHFYB8PzqYJrKvFx8/Fvb3LDbZ/7Ey0FHLFs4gVO4MHi2GJzv3M3ZN+kbbpv7i21yf2WBjsDtHtTA4k2Q/NgrmmyuI8AL9jpIaNwJlsUnPeMFYkGiGFzygAuA55nExjxsbZdafOLbjRvT5Dfs3B6rK8WPwuCZYPBa0N/J3N/W8tc+BJe8IXdVDtKj1h/V43rbrrPB7MnJ3dEpzSlrYFH5ZhUAzy99EwzOHUvfeDMALH3rz219gMGkRHDuPQgAg11PWwkrNLb/W2FwYXBb+rrXCuPqV/0SZvpyKax0cKTvdx8twXO/DBmxV3YbpcLgAuB5RnHmc5n8W7rhTVk7oFdzw3hu8JDXOsvpXp3A2PFvBTi94WoOKIsdSIxW999gFmz3cmONSrrlETUP3M4Nv7b+qO/ffsmKfQ+8el/5jmJ57QqDC4DnRgdTCy73fxNW/WGMgM/gVpWmr9UDONPjWxi81TI44usV35+kr1d8pQcPOTVG3+Q1cXN/EazUawpmLoWauPMcb/dVsNV1hkWaoPQiLADeyqTvZCl/E9l+0yn6w9vPSBE391QGO7+q6ODC4MSX5Ff+pFcd7L9NIQSjpa+ScRQU5C2Q3o78eT8NW3Riijqeb9UbuDC4AHhexK5LYLKfn0aPwsy/stvQ8LZ3j2WEfRfrlb5los8mgwe7/WmP9B3++H/2Qt/BQ04dbjrDf4OpFpwOkl1vLum5blejVAehaX8PDLi3CnMoDC4Ani8G0yw7USaYjsM7z+4RJYMHvdrdZwXKckypP8Uq1znBmfnyYcsLqL+3lt83p45mtT+nrBmBRZJ9rBmD/SoE40ximHKrBns5gdGWhaUfcAHwHOpgorEbeBaJbOT+RjblHuB+GgAPf3bWYJfeGDxYf8raZ/DgYX/co9B0GdMybXew258Of/S3CW7lFX9u5K/4k+x2i4GvF63vG7aMeY7IX8TBdi8f3vd+DWnyjFeg4qXJIiqFqcPNlv1iLm7hJsgpDlD6AU9/LJZLsBIMRhz/NOfCTHy/u+rg4Z3nDHY+eXjnOcHhyH4V6nBm1GH34aYzB+tPGW46s92rO9sMdn1tc+TbTm/9RuT2NXeHP/m7vtDbwswbNdik6bvqOthsXNhB/gafjqqh4WYiKQwmEUsIblelKV1QqmO265sTlWDnAuB5427manWG1pjY44FaM3i4+azBLq8ebj5rrTF4eNu7teTpyuDBw/64F+5qidniTNybcb/0zTu3XCPHYP2pw01n2FFXkf0t+WuAHBtzMfiAJECemORr0uBQ1EjkvqXw6IuFqE+GPNszdVsJl9F+FBP0lBncYp5kPtkHHeORn62ryvYN88hNc5JaHOgyeFVXKHr7dvRNLfJa0zfvsGvUIGPUwAq6DbSVv+OpjLWcJdZhsKlPSQbfhMk6v98KTXQPiDUiRHsDRAAgLKbmAuD5ZDBFC+noWdu1NlarxkGZs62POTmyQvfFYMsTPCmDV9tKsCYTiqzD9it/e7i8sWLROV8zTIhgYx4im8PIzdFEiblL+aFW1HH2W40I/fxg51VXbgW+1Y9igl4RBsdukb4BmkaupV4mAraawcNNZwzWnzq848w2R8UJzi1pixa/DH92VktlgN0tw/2+qd62D0AyDQ/eNDVRTOhjhqdXFpgYrDcT50Q3hc7yt6FT1f6oeSyL66i8h0iBaJpax6TRe6PqC4VYvygJ8UuNdYDZqYkIe11+l1EU8Cpq3/gzeqqRP/ES03Hpm29Z3Out40ljhy9ibPk/fR3c5QVW0Ba9cm9qtnTw2h1aBzNLBuZ9hVz5O9j2Zd4krNdx/DHwzAbpA37k+qP5BDarRufBf6IvE1oa19mTCnoLgOeOwf6KF8E1SKcnX7rUAE4wbcMnO07MIAq6G37yekRMKycY+zvUdCA6HwzGjHeHUfoif+D4gJPf2PvP5xur6UgSp+RxDOAHmzY+6iFHmZOb2gP3+Y87eN+9DgaAFz7+oI5tnNh4+W++EABe8VsvfOVvvRC4CQxLAFYB8DwxWJE4cAEzBqdndp/3NmzTKnjqy+L+yDlh36TC4FWjbBf6ZnwHouaf4OfwvvOJBVgRxOKfyZbIuVhtJjxBktOf+vZVowfXfevqya/2+//tutGD933+unCXIoJXYBQf8IowuL5NhP5g6Ykx/pB528UJikRgTvRzGx2ccy7k7TnJomMSXy/qsgp9nWFrd/BkDl3ENhG3K8BXzNsS85736Wt0lnd8wLnnr2cEBT2AiVwSAwva+u5tl2Sl+dKEX/pJZ47IQcKihIsCnmHuOmrY3xLJ2bM1SOIFbPJMcG5scE8r4x5VZtHBfV6EGdTBkNkGGHPkLz9UNx2sXvF7t18C+e2BrYgtNT5x49XmBcsxR2Mgbc8L5e9MfHkKgMtowWBJ34UXXdrD0jfzDpfVFhBXYeblEA6n83oTwhULg1dGJedZnkWDr5QPuN35GYk8RFZJrCp0iaRVmQdqVU9iJDk4WRDgkzde1WEl7gVlnldZoVVycImELgCeIwZTnhReNeD1vM80GYy9vZ2VYPBkkdtbiQ7ui765X5sW8rcOb+b/wJnNZNbA0un9yJ5sejxQX5cQ+/ocqOjgAuB51MFKCu+/ccoieBKeYnfgVTMAACAASURBVMYG1b/OpdsLg+MvMVFNfP4BreA/74vhdVwA+dfw+Rz65viAW36yqsFRTVMin8fQlMrSPBbJwZi5XJ/6nSBYwFTXjup/5S5eADxz3HVduQsHXe4juvtYuvEvig6eQwZvLZ3hWurgmCz2vzaYIYLljloBm8FUorwGamUMAI44Hmli0yJGk1zCVNxbrFlU0bsFwHMnfsnOMxjx+IUbgfxJN2Gn0Mmn08pMztYgy+s9N5GbuTB4xeCL6edz6Bv3Abc+GV6+gutA5JFZZJXX8NoA6wLRYq/pfrSWGYXs/IfC4ALguWNwhduDP5zevCVrF5/wV6spUeaAwRO+5cLgtUDfpMkkLn9VuhHxXzVxBb+kCLYmNFK7ud7dqoNtNkL/XlMaM6zMKHnAK8PgKr+OaPmqF48cXQsHXgYAy9ccNf6yx/N+67+uVu/CdlHSmHFNnP3adQOMJP7m5ARnvF5mlmVW8m5mqnEmgynniq4+R3PWT/kkhlRRDs8HnPxmjmch8uvbkJgC4vJtWJJSpI0COVXvoNeQp9wvbLVZ3atcdSEsHYKLAp4r7ZtbhT1ic7Z2Xdzn7QCw+Pi3rhqM+z1E0cHdruGsS5Ze6Bv53L2OhPGK6CJUStZ/FkU5WJOGWkNrpasPBV2jrl6w10ETfmH5+uRlv7m/WtIWHVwAPB8IJvd59ae2uQgmiff6HytB1t7m5ISN5AqD54jBmHc9k/T1fMB5V4e0HbfxAROr/xzEP0fA7CzCs2b2pN8MtB6bF16lSRcGFwDPF4Nbm3K6rIxzo6CjY/CQU1fwPj4Zg3NBm8HgHkuCFAZPareYjL4RKZcpfzNyf3V4JUhPMDVUrpfWj3voEebuzlGN+U9trzOyHC6rS4sOTYtevDIKgOec1V0mHdHS198EAEvf+vO+zkO3Vk0us7G+9zn5qthJfc40g9PJuxgk6XbO98VVy/cVeb3qCvjJweLNsves0oXz6YsgA56VD7gFuEjm/j5w2+PDdCPNZqscNMmQacPOZZbT6msx3n4pFpbKLtgtAJ597Qth5qC3WWTGpZoBf+PN/fuAe59/WxWDV2iXGRwd8rkz/b4Vxwc7nSwPmyd/Ucw3XlFSS2EHiapH4SiziJypTD5jKYPHnejqX2fvApfbeAHwPDAYolZoCu1ZqxbUOtx0Rm9KeqeTBjudVBhcGJxDX2Z3mcTvK7N4Mf9r1qQLe+UkQ3NxUw+LnM2bylnocDfRcChgevcLnt+kpTC4AHgeGZycaIkWZckmwVOqZNdrJY4eGdwFljidw26lDB489LQWn2SUvtXKb8KYZxzseNLw7g3saWwM1KEIFgm+ApME8MBtj7/n3gsp3oWQRLEOItcoHZ3SoQt5hRbiL336/ud/4VrsNmXLKACeMQyP4p/DKOjcCZqDYZhubyWxnvY3RBjevWF49wYtgiHen8VZpiMMdj55+gxOemT9bXJ8vbmO3kyHbhefsY3M5MceFHMePPS0wUNPG972bsfXy3dM+IAH608dbjrTuqQZ9PV6/WrDcjyWXuT+VljFEI1kxWiEBTqIV5ckAIDHPeyIG39yaUTOUip8errGiMLaVRqlEMeK0HdcaoOsgMKgxEZYc6NF8Q2+T8cJNdx0xmD9KcM7zpyiDlYHzqiSMbzrnJFvb3jnOa2LbMhtBru8ZnzMze/psLt76lkVEHIOW53nrq8dn+dt757wUDV6hz89vQfhu+trnVOaSAf766RcHTyWvyj7/oYGarPxEWuTEDqAre24SxgZpEXykodU8t4sGbFd06BvqbFRALx1cDeHmoSskE52QSxWYiu1/bSXzj7O797QWAUnZjAQDHY+eUIGDzefNbo4IxIPN79nEgYP1p9iv/Hbz+jA4Bq6PnfbnWEteXtBb+/0Haw/ZbjpzInoW5mXNX3Dg6Gj+lg6To3P7Uf2Zz/4mUAnI43rP1NQG0t2UpLFPWT/YF2qOfg5/RGWxCqjAHj2GezxOIlIQwe3wSrNiF0pW2UO7zxncgaPfh9ufo8QxHe8pwPhhpvObF8V0j1sBnSzhX4vkhc5ek/LOsMsjcvpi+ndMeOxSWijzVHzTNORF40iVlL+IgMhckeQKnpFFlxBItbKVjK+OzSxwQmNo5Fjlyf9YRUCT38UH/D0GQz5PmA/2jEVB7n0zbcs7tVbJtLwjjMHDz5lsrmvRfAE0lrfoEcMjt7fcxgw/n24+T2jf+13d8+w3b2xh+q/xsPhT09fs/QdrD8ll74qx9d5PNjxpOE957IdrWvapBdrpy+RiK4ayV9majbaH5GsLqkSiE1vcdAYGIUy9kksKlH3cVeKP48Re0EZRQHPsA6OiFRD4Gaao6epSvuhCA7vPnew44nDu89N3AXa6OB8kdpnz4bYNuq3VCxs7Op1kNR94dw+/PD2d7dbYqRIPLzjzOjCBUV7vOhjubxj/QeNsGehfUefphkbFTQ+Yghkj4kMBax+fdzDjvzWjy9VCUu821LYTynSImm/vQ7+xI1XT9wmQehgZnMWd5XC4KKAZ1z7xp/JX5vGdPAqRUxO6aBdVOaU4qInJNwkUFxLBSax/behC32DMOlGtqYeA1TyN+z+a+Y1YVOEC7FpjUBAANtvezwA7Ljd8VzLEtg6mK+2eAKxykci07ZcCc5odHSsZEeHTzII7257DyqjAHgWGRxpzNCW1vFkhZ6mz/COM2vnaD8HFPK3MHhGGDwF+vpcDP6Sl4nUGJ+FXRo9ESxLZHDUNYe96xcXesHP6qeT+zs+1OMeeiQAPOFXjghfEazqWgrbambvu9fBPXySQYFOVcukMLgAeL4YrEhMBETLHzlUzy9iczpfNCcZvKZnU2HwGmbwlOibyPdlOjhBX7Qfo6KN0cuaKr8viNzf8YS76xcXBvLX/admsPIE3/iTSwHgmz++ND4vqc0kfsHjD6JJalJW44Sn7w8AL3n6/tbHVRhcALyV6GDVi7BN7Sz3yVVmcFaJisTGsXodeXf85O7on0mHWhw5b7B1MY1VbbQAfgeF5C52x4Wgy0JOGWKXviFiMTAy1/oOG/braYF17i8B3HXvhQBIqial/zPamEGmGhOmpy/Fpu8nb7wKAK771tWTzk8EALjwi9eq6y0/AerYHKSMAuC1xd1cOauKsmfoYPaXpW/9+YC3BPZr9mQOPzB41TUx5v6pu1aenibucfdV+Uz6skJDAOl8HYysARffRbHZ8Qezms8UdksZwZj0pIkp4EDM8tzfb/34UiIFY0yI3WQAX3/jgi9cC85qp9iiC4DnWvsa0AWXvpRZIpbcqTwzozB466Bvdx2sbARWYwZEk766NYIGLYoY5jD3N3jMwpuR3FRgtIOzROQzD52XgV3saJ+48erJZpH48wVfvBaCPkmFwQXA88XggL4Lh1wZQ2ckUT/VfbTPObOaU68weHboqx26KSt0qGvzdTAqIzMYacHGuXE08prPzHQcxlU1BMVILHSTPcs6NJBkrZmepM9BXmfycn8p60PDPqdfYfC0RskDXhEGW/WwFv7oCvb9RqMWtHkQGq25WfLeuIwlBXVvOs3BdHnL3mCaoj5m5AoH1Zj5L2aylt4dpOTwzsTZjHIgSnlvduvQwRFdm9DByZ6DTs1n+Xokaz5zBOqkXkJSJqogD1gTmmT2cGDipqAypeqzBIEOnvri2MlyL7WwCoDnhbv8mfzA5qYgR9DOgVR4x6guNA1v/IsogylxAzX3wJWtZ4mTMThns0mbK7TrgpB9hmt49GldyLAwg9/XCNs2aRAR0creC1YSETi1NWwdTGqphwZrvWNKQzSFS8UVqwVdGLxKo5igp8xg6/HCi6/STKRIDHTOn/QqWh3dDb4iP5N4FWfeJLf7jlTI0GrQ9lAdznDrpC9m6WAdJB8apeVjXW8S+WRQs4ICKIZq1cOhUs9E2tYdyFwBbBXGZYZO2pc9Y55WFnzyepklmxKWEOgC4NlnsK96Fw663MInZUZZpUlNbc5zPm76hcGTX/ycDC7PvysYmZOYJEkc+oNR9v0FCBoOWhhGDj8cV3umZkYSiMcAVSqwjMaKBD9r9axKPZO5QNb2cP6YHKYS6QoeracSkvoIMfvbWhg8vVFM0CvCYOYDXjj8owY4UW1m+hGdtsEejDH7xFp0TlzBKZvp0HW3ydgsx6ELPfp9/fIG862D08sgtLcx/2o0HETnTw18iPGPm3zJerL29VLdHthy30KK0EraylqVIoCrG1upXXYhofVCbv/BAt6igGde+6ZU5vLVL/Y3S5ujF3/9b9zbPkXPbcJiWzMAAFjxWOgOZ7i2L3gvOhhyQqOB5fWybcay2KEvRupZNgcRfl9ioA1EMA/OCv2+inmGjRqMDsHkZBN5OniKDiDZhKIQtgB4a2Jw9Xj5sgOXLz9o+cMHi/nYzDoyVs7ggxhg8UnviK2QW0zlNU/iwuDVudQ5FyGSoZSxCy+jERat5Ew1H4Nhi678viKhlicdGc5gEqHRCoe1CG4SdqttHB+wVTg6EMdEbUTtBHj23MjHP23/oBZ0GQXA88TgvFJWYb9QqWhJM7X6/+I+b2dr3Lad7DLBvDbwXBg8JYEb07IZ1SW9Q/Ek3ZgO5rRmRTeT6NU1IzDp91W5v8Qoq5y7pMhq2KtROnp5nyErSQkMfZy4GZDN5v2fcFBfd6ju3+4yJh7FBzw99EbTeUdqeNSPIeavVcm+bGvluK1+RQAa3W9Qth3DSc57OnoKk2SnNDjTvmFo7ULGyGmhn8xF6feeSgSbNx2Mebt4nuDcRCMMnkz4faGyM4MMWuY5wcGSGGVVDeSTr4YxL9DR1H8mAIAn7374l2++XDVsyFkqU14KRA8fOEuTLAwuCnjGCaxSjMzOSMZ88q3QpCu1L3319Uv//gZ1NAwPDvHqWuMx2PW1qyCFsePfWmhimF5Y9SRnu2YoOz0dXL9GfBe+zfhxnurFsLuDKidp+H2bxmMs/pmCZKRaAe+28zFB5WeUqJaFKpt5InQwn6Oy4ofjLEqZz3qVC/bapowC4JlVwDybSHckDJSxi0kTe1b7UJvB7B+PvXLm4OAhr53a8rowmAFvhjRuzvXBqKpK6mDt6+XkzkFvmP4L2zzgBM/vqxOCyWh8VENxtwcdc+vPPlhvbVmnkbuHGU2RERTNcGiK9kyhVO/v/mdbYXAB8LwxGCLRFFoEYzjZDBBTVIu2malSnQ9vO72vuT7Y4cTBDicWBq8+hjH6z9zO9enmtWLUDQq5qA0OFSujgUIQO+gl4IWXx37fbR5wwr33XwCu37dZAxOBk+/b+CEoaPQbnZ76aKPx5D0O+9LNl8fjqijPxrT/Ew665ptXd/wygIg6x9mx1BQAl9GJwWH3k2peipYMZKQHGspYs5MAYOlrb6jjsIytKUVfNoa3vbsSwXL10NcCPNIB14HEYIdXDnY4Mc2Q3JSY9lbWWItcs7lvdp/dFe7pCznvN/KRGLfnwU4nu10WDJSCIABTvYPtXzl44CvE2gTBqOyB9RoVda2Myoy8zTYn3Hv/harLb+X3HcVFo0HfxmU7rhxFBLs96JhbNm8cP+NEO1OYcRQ2DM4oKrkyRqfMCMXC4JUZJQhrZSCM43mJQWFlCutgEI4X8k4JaLftAv+DjLxScVg6SssvMe28m+QY3nPuSAePHkwyhj9/72D7Vw52eOXwnvc6N4p29aIHO540vHtDfO+8w7b4m3FvW0kzf/WRDXZ+1fiq3nl24q6bkviDnU4CgOZKJuyYaBsYEABg8MBXDH/xPr8gJTidGECF1xHAttuccO99FwprM0l3kKl9LR2824OOueVnG9WhTL2rrVpOKpHbVJgMbE/364BAxL6vCGjV7Sq1oAuAZxe7jGr6vhNArO7TgKO2ClBNkBTax8Vt0Dkyieo3ZN3CAswPb3/3YP2pw01ngGJ++/jo4T3nDnY40QFnOwYDwGD7VwKAdbQWDB7seFL9c8yPCRg82Pnk4Z3ndLxlRTE8eNCr9EX42dmd6Zvibjv6JtALEEWp2Gakeof3nuefCYbA5tsQNkwd0ZdjVXMtTl9y9auU2s5PsDlKBE/e47Av3XS58g1HTGbZxa0mW5MRHPfUAy760jWU2KqMAuCZZnDNQoDAzctTjMyJWOlmAekG1RrrRPI+1R6blLMFWpobHQa/cnIGpzCcy2CFjZrEADC8a0MrBg92PnnEYPeE78xAZqBNW+ybGoy752SeRuQPI+5W6M2pmI22Q71+yw98RYBeB94I5GV9CfpeENI3FMGSuNwc3diZR/KX7ORgI9Kqjn+2Smjx2YjkXjijJBatCJKNapSY0xOxjALgmWBwA0WqG5MsX3bQwuFXj/v7Ehh85QLUbvpbPUO0dMMbF/d5+9I33ty8Ssd5QwA4vP2MwfpTh5vO9EtSm894DH5vBoMxcyEgMPzz93rWSDfZVx3t7nMZjE+0VJ2byBsAmzpe74qRgZ6eBL0nG9xtWzwExTKFXZwkfeO1nT3ha9EXHVAJdYvbbXP8L+67kGR3sZFj2BHBqItKSvre+rONQeNeO99J5f5Wqrx5/OQ9DvvyTZfXJwPk9jc0Lqg4FADACx9/0DXfvJpo+iq5gLcAeN508Ai3hpU4VMyjW0XV0gU5jCWkG+HLIZhicJNvb/uTh7efMVh/yvCOM1MiuEcGt7B+1RgWDM7sE+y8yPDuc9O79OIDDm9zlKdT860F4aG60he0tTlO35ivtx19reSlMFFg221OAIBf3HchGPTVD8D1+/IYK1G4Q3ZQ4GbngLg+Vg1+c7JCq26B7S1WvUy5MgqAZ5W7Qg1DFY2lVewYq3ZvohGMTWXMmNe8RCWsEe0kqESun+y5ZFO1E4N//t4ebwjG0SZjcNYuvTN4JdTGJEVC2vb3hbjfd4zeyDcQMaaJ/WwgAl3FNU3fwPIMALds3khyTRsmKVFAXMMiTYF5hmzpbD6GZDdiKgye7VHSkKbMYPMx1CUyQFfLCrcn0t1YwjxgAgAYWaF15hKlerH4S+rhpjMH60/p8XoM73nvyHQ8XTRh+93b7oIT5wGv6Jgyfb12SaqLUaSWpBC+Uk2yUpH8G10//sV9F/y8lr86+JmVyOBZQ4ReEjAE2I5X2OApRmaE85P3OCxEeIKsPvh7VL7oC+liey4Ani8GU5iMEEntDR9EGnyTLrkFZvZwKoxDYzs4eeonJ7ilAl7DDI5hOFHzoj+sts/xTeY3R5Kb9Qa840LqeY7hsJIz27cSgsiT6IiQKOSoLB5JIAmNFH6diRVqJh1dNdK+N2/eKGzXBGEUlZpOMbICfOmmy/tKLnrhEw4GgAP2PqgXGB/71AMA4LinHlAYXAC81ehgkhj2SkaDXymazL/6DI4U4qBIfUpKi+DMae9iiN/3U/15cotLmHjKq1PRqpgGRoppZLyFHv7lIdgFdnsdjE68Vc7ziLbqNdKFx69Vxz+IolSAQEiEUJfUIFGWmapqG6wJ0ujX8S5EPOqqKdYBIVPZLo7fF8dFpJ1yWnX2UdydnJEBLD61j3/jauijSuXFX7om+OQLgwuA54+7rjDNm0AUiODQuE0AQEs3vGlx77fZ/Oa49aBrWMNouOlMVwqvRZMqTnYobLdvrgKe6rVYKR1sCFbMfR6czfTz47Oi6jSE4iRUqlf4d+VjVeeZdFiW7KYgcagCuHilLTCctdoaVU+QL990uZpQXhfCsDSHN3QRSppUB3MMFwYXAM+v9jW/5CSLwOoH0T4NROHhDI2bma1AE2XRbKUMhkzCTs8KPclWLXVwRMXmPO9s5kYOEyhTsKiGTnJhGTxWRmb+s85NUi9BrMcRqBpVKiQjLNbBlDpZlmpy17i2/DV3v1bSlzp9UTCgb1AXujB4hUaJgp4+g0VeL4jFcHgrEhlE1FThgPAnj50exTx76UwZ08jsLhx79TaFsWhq9OkrGllv3j4UNCuNGTu+zb4g3SoTKYLhVs+DEclMzpckTNsVHcXAaDAmU49QBymqNsBOe2BN38CFrIo/QxAcWZeP5vm+1U+3qkYupCdb6yIrx0e5s4DMFOwyigKeGfbaOlgKzYXDrg5EMAQhmUEUNKiQj2bfpa+/KSa4Q+6qU2qng7Mjs6ZXwifTbZx0IWsj7cQ9Dzp7bVtbr7Od4lm7+6/bVgGD07lIviC3MEPg662aLjS+XtC+XlR+3yp8mvl3x99xbLTvmMTN7pq+0oVcZ/rq+Gdq2kJYOliAnHd68ORv3GBF+vOaaFGGiUVUSUcqCnim+atqbtg9D0KpWOfg0vgI4gHKg1fCl4JOD6EODmeUmaksHvNU4/Bn2wuyNj6atsWfV1cBr5YOnqYCFlcIQ5mLYTC+Wh/GlC7fnaw2nlLvqn6FTcaR5UImaYUOgp9Rtj9CRlZsJX+N3g996ODkV3xcuG/NTdqigMtoCxxyQpoh7JNC+slIUDSPyQLQcdGG4M5wAxOloq+TIpg8T/RaXFKvQBZvj27fFaYvYjsFDBjL62WKUFZLZl+9ek6kfL3g5CAZ9NWJSRjYi2QElqJvkC5MpkmZ7AxgCMtB25IXTb8vBNRPTiPqb3IVHVwAPDcqmLOtmV8LR1+jy9hQgO3wATgJuyGDRwGj5rQGGUWq0OuZow3GUwywa3/arkwlDezjX86hsxKW8rbnuM15ntWMJP0vKGpRf2FTeb1kKVRiHRSMdrxKsDbHQR04Hc4zpX1lJJcZ/wzB4sDooeR7f8EOe3KnljntjCDoPqZeYfDKjGKCni58mRW67goMC8deO9pk+UMvWjjyY8LMG/YZqq3NxKpAj7ZvfkJgix69+MjzFeT4obOErvsSqimYMESFdu+8KC1sfSfo86MxToD6Z3C/RQJXRgd3MDKPop/Ql2WEwfVAvXpUJpW6ABZZS81K70JQArp5XkZpNeW0KMz3VfUpxWZNhJewDCNZ3QztGh2W8NWW6hyZCwkrVY9JgtIWXUZRwDMpf4PciGp2LBx1jS4v5fUsNWee4f4SMSrNnVbo2urmoKUHaQUc19za3E3RNflWqX17VMCYTLvqVQe3VsAoSl8xBTx6LWmMlbqWnF8r50kIUaV3PR1siWnUeUrCZpRKHQbdvEFIXjJimAP1bFSkU2o+sZJz/Dw0nZUfFv9vAfAM89esQMnGwlEfl5ATORYIHMPB3SJc7oZZGnXOI4RGvRCcZqwL5U5oCm4VhcEr+U5won5Heps2Ijj074Zf+rDQBAW+3rC8hm9qzvD1yikinLVko9Hz+9Y1QMAvemUuEYCpdnICno0Ve3LKOYElHb47mPouFAYXAM80hknNy4Xjrud/X/7Qi4zAxyYBwgu8AiBa/O0ztRINa1ICxItN5tLXjCWFzIgtmrp5dlYZnCleM3Rt7kEitZ2VT1drcC+OVzGM+3dBNbSnIGop5gZGkq7iELcxF3JQWMotGU2BISmwUZvGKeWUrTcTRuYIUMlZmEvn8XS//hnrscLgAuDZZ3D1y/KF+y5ftB8ALH9w/+VLDpAJB0YGPkpFoLT14jPOgHBlDmQXwvSCohN5wBREd5hxIGFOcIYxmpJ222mYfZMb4kr966taJbY8SDTflyXs8n+yQS/LwR1vAbJzEdY9FUQpZghzdmvlyrZRZmSZ7wuEsvAkLw2t041ElrBZMroxBavcpOZMqndXpQ7rsCykoCVw9Q0fnxU3Y5GbqI8sS1obxTK+6l3GsU0zhpJyVAA8n9yV9imA5YtfsHDMtbrZEV/9MpWJ4V/Z8Rd/692LT/+76q/RFocQ2s4iYc9KfJMvfylP+64dHbzW7jN96GBuPc4Ev7t94Cq2dHD4bYLQv+tJXr94JJBlbSbXT5wlprknJ7NkNNl+X9OFLLRslfurq3B4JaBJB4Goie5NkYP2ObC37x+u3blRAFxGHwymIN2Pz62Qr03XQtIaN4Dr0r+dxhoMq6gV1YDBbjA62OPPBru/PmqFhkTJK1WiiwqD25/JhCeF2PII9vbknErYMZdMBpPdZ9fIJiKny0KQcRQanL10YZk6jF6bXkl0z+8rZx5ZqcPa/M6Ji6Fz6dl7HkpW9hH594YMHTzn69MC4DImY3A8ujFcAJMqNimJWN0tlv751Uv/8prqrzJKS05ZDOWvMk2PMLz7652IaLM3cJATTA5UXQSv3Z5KXUzcU7JCtyiHmThDI0mXEj7dcAkXSlhwno/sEliDreBnx9cLVjSWeVhQtJZ6N6jg4fp9AWCf3Y6gsA5s5UIGubYAPx8ppKwpecNlrYL0gfscePUNH4Vec38Lg1d+lDzgVbVL8xLpTbIvNs+MM31Zhi5WhfuqZglL/3rK4m+9e+nfThtLBSJAqHYUM0pkapIwPw1vesfgEW8Q5xnmBGeVpaPBzq8aPRredY5IQeYvLVYEXSd7D8Ehc6qD8yqYiYihDKuEUsbxVNRwFxVYZDTnDDoxBMGFKH9Vj0Unhj12ORoAfnjHRgJUa1ouUkmzE3VfQsB9djv8hlsvE2fLqkwDD9i261OOVwPP2fOQf/rulfylydTBFFy3uP1oOuFaWApwFADPCXQFPtU9jXU0Et2QVMllVYUj7LOkKnKw5kh8RpmlJohGDAbEwe6vH97yTn3CRAAo6lGHP6viG8M7z64Z7HI3j8GDB758zPJ7z1t7n2vbnvaTvyD2coYUvb/aVQ/Jt2UQbL/d8QBwz70Xxg2ndip7Aw988A7Hjp7fdPfFAGDXcwYnJB+QP/+IXY7+4R0bw+dVyWgwi85Jv29NX9UHyfT7eocCgGfvecg/ffdKYBJcq2Fy1iVgB0XnRzoWBhcAb61iF53WCAo9vPOB7Dc47sSgOi5IBi/931MXf/PdS184baxmRtoXyWy+YMxbJnaHN//NmMHAauEgCr1u3rbZ88M7zwbAwU4nA8Dwrg1NObCWDB7+4rwRgwfbvXxyDA+2fdn4sPe9fxbpO3jAS4a//MCEZ/iAB5xQP77vlxfkOOU9pbv9tsePHtxz74Vk9evyLaniuwAAIABJREFUKAJBnMCDdzgOADbdczEE4fwuicVj5OithK+/vWrYoPy+UFN2TF9jESDAiV7Kk1lQhyKrGdNEESxfDtznwKu//lGinsusUWFwAfB8yl8hgps/Lhx73fIH968IxwtSKlMzNIbopg4lCA0KXECD1YQYXIiObjAVZccMvvVd1mKCgHC8sZK/upomDe86BwAGO50EAMO7z03oXYfHw3vPG2z38hF6RxjuTOLhfe8fMbgmMf9TWxPxYJuX5r7u/efnHHawzUuG939g9MDc9Je//ED7VpEAANsw6N5//wW2QqUog9n/Rnq35i5YyefKuE3WcYih9/a7LwpLTgboRRPDHKKPeHAlfI1WweJQOq9XUZlg792OAACDvrpdkmVw5nV0AIAbn6WNWvGYoiuYyTUun6ijccxTDvjgl69JMriMaa2rqZT7nIpcweVznyuq94ERTbNw/PXLH9x//Ou6dbAOAdfBOoR169QzhOvCJ8e/Vj8Xn3HG0hdOGz+D7K/83zqkSEfbcUwQjm3Rt75LnHnzFqAKoJU/m3eqrKY42OmkMYN5/j8G0zzxzPj3wXZxLdvan6poGkWm2GuEzEluWgTwgAe8RIE2X9ea03ebbU7gv953/wV61mccpL7bb7/t8T+/70Kld8WhDG9uiHDkL1Rbm29n1mZ2MmgK5bomc4jYRzy4Er5BdWiQ/l1pi2aHYn7fvXc74us/ukwFRQuHcdMqWJXmQAi6M9XGZ5EnrSLClPmaxi/XlLCuTu9Flfz1DOzgvFnjGnIAR1Oejn3qAYUURQHPrBXaUcDSNG0qYNShWMQ9xKEnWIVNWW0VwGleO47hqqTnLe8cPPx1wx/9rT7P2h9MwU/uz5YtJYZ3bRjseCIADO85t4MO1pry3veP3sVIy05uUs4krkJ7G4NwbPzylxeMjMOjB0lFGx81fQPuxgFpv8ZI726/7fGN3iXffEr6V2LXjRh6N919sZ2IZ+2uXMVh2bex8CUdaQVheXXxJzTV5967HfH1Wy9TQdFglI/W9IXQi2z6esOchqDQDvjxz5PrYBCtxYvNuQB4jo3P4YMQgSJu2aNv4ANWdCda+vypi08/femLfyymuOppgs4Exgq9jfbA4a3vGuz2p8Mf/a0wdPOI6PCnBmfD5uFdGwBhsMOJvTCYK+DBti/rw63bjr69H7YbfcPnR9yN9H/OiV6uh7AzRwuP+knvzddifSV8TZ+xF6Vl1Edn6AWAH27aSF5barK6nDgCcWR5/vqtl4VtGEAdCtA8rGwcirbx2ar5bPd6in78ZtnZVncotxBaYXAB8FwxGIIgLJLTgCcd1clIjMGIRI0CBsMHXKM9DP4Sv/rRr4LN418aBnuy3vgJOgabzfTh3RsGO1RSWFyTzHwkY7MVoW9P34jJtvE8gpR/nKj2jR3H2AApIXz17rXBmXxfr92m0OlI+MM7NlIQ2Ax2xBYaIVFym5Hfd5+HH/61Wy8LnLWoRLDR+iRYUjx7z0NAUVZeGjvVP6Bs/eQo/Mpz2GdRE5vkMCrUXe1RCnFMn8Ha5MQrUqmbkFXmoil3S0bBDflvJILlC0G4JXq90XQ1fQCCEYONN6InPpnWsrA+1/DuDZUINitt9UKx1Qct+R3o4ltGDhhuSmC33iDr5clrjWA9b9bQYBugW3nDLOIRPBO+bo1Js/uCXWxSNm8At+0SBrUnjcIgN/zo0htuvexr3P5MjL5WfUoIengq2T2Sv+R3CPOyibxOpMkKlOnpUa1gj37KAQBwzFMOmIJdp4wC4DXFYPuGCgvHfkL8bpaaqp1OQEGZXTBaE1LQlDCUu+aNShYpcIlglK0Of4ZvPKf9Qx8MzqxOP0HJKjKqSol/iVpUxNsYOKS0SogSr/5fvxDJA9pFr3irAzfn1WiZEJ62bouknufdFNiWVAcWhV0ZZL8E8rovNJWtKqayk9S5QKjbMNRRV/JQQCBPQ5mpx5+3OisQdSurDg2kS2fIshtNxwi1gmXaN2jGEHzlr/76R3tYnCIAwMYvX1P/LAwuAJ6rgWYzBjmWL9jXkJUmVgWDAzwLEfzaxaefLluE27oGvbqCoJ8cpySZ0jyugymQ+LQiDF6rOjiuj5Ob2R+mtT04QjZTB0OykCTpNgn2xmC1TyCr74IIoUKiVIsF68wZfa3WhMFhwWy9ECwjm3xfSvp9ta8XAnt1vKqGHboMjL40qSMjZC06z5cx7VF8wNNlMAE2BaiUXxasMh0Rx6pbgir4E/BYZdCvFVsWYL0QZ5O49hpZub9AMX8wr88FgXvY85FHfOdrA6udtyFo3ZCild8XIN1FB6J+X8qwlOY+T7Ftkv5dtbvMEkZ70RemC1O8fpYuHmmGPUNQNdpYMOtDIZhdVwKyxruW0JTXm0L+8ttA8QcXBTzjlufRN9mSoQp+ganZ+kluR4RACksRTBERbFmJpS5o9AW5CpgoKoOpiw5OtCheTSEb17gJCUvuXq6bIsPv6/X+Uy+Wo3eB/JaCbVzIkPINA9n+XYDk7qjOkB1KOGshaLRAwWNwXx0BXPqaXSsgrBQNukBHyH4IoyeCgiTgmpimJh6KDi4KeE4YjES1UlRQaaWAeZKSqYDZ7kuff60IV86ed0wBY1Uhq/qTTmvmChjszGBRnnq1dXDeESjbBhdJykzLWdImv/xEIwA7/yQsfBGvbxXVu9heB6PTVMBLdkKz4wJopYj2co5FXVkqGbVOdTZQNSPVWZGkKd8ddJkOXWFDHVDqWozbA8A3UYSf5pSQXBhcADzT9G2KOyLWU0san3kJyckZzHE7TsxVScCYpykVhoOU4vEDXnwDWBMn/nONMXg6lmdquwu13iXyiSWbH4THpZa7Z6YO2zU0wHZnembhyPPymBjm+0Ikx9d7TOkq05FqHsr4DLqBJ9reXC872bNUO1q5jALgMuIMrhnGyldpotC4aq6bYltPcVaFQ7h7Vemruj2LxXtGYuHr0fd47voF/dhWwBDNCV4pBlP/gSQ90rfL8238vuD7YmMMbqt3U0iOiWBwuzIELmHX1wtu4BJGha8mtH4g9tJWaIhkG0DowEa7tSL5l6v9d5Im/V5bt4IyVmoUH/CUJZNeFYPKIFo+/3kLx3/Sivcg2TGcO4OdNCThLiPhA/b7qqPtDAbtDNb90EmW5lP3J+Ubpqn4g7NU4erT1/P1xtzGKgEpw+8LoDcji76uf7el3xcCb66dBMzhJF7OyPeN+HpNtzFYbmOIBE5D9ZUHHdVgEhecMpmGz9jS0F4rCHtlE4+jWBHLTjE5FwU8lwyWVSSD7/nyB57fqMlxPUjlSYWmhYmqWKnqY/CK0+PWhOkgJmfxy84E6uaG/ElWFBo8BTxlHRzRxNSqIwKm+Up5xJXlhfK3z9yS5K0yv42dcEC208FonKdfEZrCJkhkblMd3LKvyoUWen+NF88SLmRDECNYTQNJ2bfjft+6a0LcZk6R1SY6nz3687X321TRwQXA8wdfEV7D+KruXdyuW/tTOZKxvj3IXr/a74vyzpSRhkSUmnjYoLdhOQYMZhvMJoMnkcKZOhjabtbecetun3LWdtzF61kbXQeYnPPLICPEGguah/UiszT4W5SJBtvvq3Wt7r8E7U3oqyKFC4MLgOePwAQsDouoKY8cOINrfNb05QATXYFhVBi6iYQK6dsgnDPeVLlo6ODQGYwB7DWD82tE877CwFoI98hgr83DRGFcK03fjG2I8rbPCKHKdQlT1jYmMwL3MLopv87LuSoztRmlCG3Ql1yEK+K65TVMt4yrg7O/MZMNzlf3rlAYXAA8LxRuwq/GSGzanZp2YxVaXD1ZW5URRyY5Eq4nFavMbwYYu1WbEw/RuLkaOpsz2JnNOi66RjUK9JoMhknis6bC4F7o62nc5O03h5Hg2IdbYDVTIqd0sFvvKXB2Wt1qFarjctY0F/tO3KxOhTExbQtc8pcOGYo2GjLmJCnlE1fZwgqDC4C3ChM0ADO0EiAgISEsnPSPALD83t8PFHDtapUNCsdOX7FxVWaLhNhV86mmo+xxlLFAtnqmZDJY1ORCw59tRlBzBtfXjdYog6O+YfQst5DOMkJzm0SUcnOPjnqy00WsECBGEetk0IN3mO9rZ746qbEOetFrHkwRY7WV+wuhnzgksWOLVk5u3a7YXp1gjMSZ6zUyL2975ZvN4DIKgGeawCiWnRUSA3EJTAGDbAYM8ic2ScPjEh9S7Hp5R4RiUYAuAfphcEwHhznEAYPr64Zrl8EdrNM5vl5qv7vbo3cCvy910sGuyCPI8PW6OjhpSQZFOE+YRpVlSxdy0MMsQ7BS8mfGS3c2UIedwZMMLmPao6QhTZO/ROIWIr/jCyf+b72laG9GbuFJIiBYeOHGhf0uRp0alPEP0gUpkVQFyiDxSZwP6BMAWbEyfCO6sqZ0rPkN2R3s+LlJrpuUevycp01fu3l7Nn11IwfvsI7V1N0l6IZrtOpTfQucIKNwGyOhyDcXE8TCpuwKlE7+Usxxy4lLurZofH1AvkU664sVSZtuyWD/T4XABcBziGFFl4Z2yxueKxoDh21XAfzWrLR87VEAsLDfRQgWTSO/yn+LT3qH1V4nzuCQ5RCtVm39hIC+FDROVje/8K7fE4Oxb4cX5UE6S+B20sR2hnE0XdjEpy7tREGJ8aCfgarPbL+EUw7abZMQ6ZrgtGyKINZkKrXUypBHXzP3N20zyBuHPulFk39Xj3ryfysMLgCeTwksl+Lj7/eWs39Xb0UK2F7/A0nTahckcKVt6t/SV1+/+KR3LD7xrxf3eftkDPa1NTk9g/X9j4wGElZbuC4Mtmth9M/gsJ+yUSiDN0gQnX3FlRCP3cOyLrMk1ip8S8lCBGq6CI8fg+i2K/GJdZ9a3u2YmL+z8rCKFsLNNsBdoePNRItckklB4/6+7CDjV+dfhLoNMEpON/vKTsMo8VwdnFBnRlF9Vgql2OwFyu8rzgSsM6y/bvvtdTBA07k536aixiFPetEVX/tYv/csxOoLAapVdRlTGcUHPE3+NoEa2IRiAQDC8jm/u3DSPy5veC6oxGDk7k8w6k0yt+7yNUfBOlzY7+Ll648TXpy4BKS4XmdIQkKK+IPrjKnxk4M9/qzeeXjru4za0apUNKo60tI3DBBLXmrlG2afh3rIN6vOZlpSuC8dnCuXW/qAc5J3vd0jSTixzTJKRscFaCQxafTrk/c47Ms3XZ7ePR6HDPCsPQ8FgM9898r4yyV18H57HfyJG6+CSFR2Nn2v/NrHpgJGNsdLLHQB8CwTmMDor+DdMpFNfVXMWfX65SQmWL7u6IX9Llr+5HFuIm8KwEtfeR0gAuLiE/966YY3tmRw82B40zsAcYThwcNfZzA4Kz94fMDBg149Zvmd59jJSzkMBu74mgqDIwEsa4S+ucZtx7noWhnkOT1y/VE/2HQJ+JnHMbdo9fzjHnbk6Mkbf3Ip5HtVrW2evMdhAPAli76tUodH6P3s967gBbkAnGVE9LGibysvxoqOwuAC4HmhcF2nov4uUxOGzO/2tQIGkJlI4DZdgDGnlz9xzMK+Fy1/8jg76zdbAS/9+58tPvGvAWDp62+KMTgC4REyb/4bQBw8/HUAMPzR32Y0RmRB2pXSHW4+a7DLqwFgsPPJ48PedY5IXuJB3UZHCoHhwXYvHx/kvvdDXVsxxWAvUhQBtt3mhHvvv8D8k7dLqoFg7PEu2x9XP3PHPRe13b1+/LCdjuUn8OM7P2iLzihxRw9+9cFH80OF9I0V6JD8e2zD3Q9V9p8E27zD/sYeh43+JIQv+G0hoj+fteehn/3eFaE89R5EWLXfXgdff+NVmTCjDPmbvy5s9Z00GVxGAfAMmqA5WepE2MrbuOXs31138v9Z3vBc8R0XIAHghTt43atAB0ts+wIttaBd+vc/A8TFfd7emsGVRXp40ztGrzjG8G5/OsYwPx9XCnOlCyMGD3929ugCDHY6uTFx37UhUM8xDA/vPW/E4MG2L4u8/eEvP5Bk8LbbnDD6dbvqQXLcc++FkWu/0wOPSx5h8z0Xgbwletm9D9nxWAC47a6Ld5WsHY2fSOKS1zCYqb09djn65s0bieARkrj/ecfGOqvOTndmJZdNK/RjHzrm7rd/8iGqfdiO4Zpn2QZYRQL4jd0PA4Cv3Hw5ucZtDK+Yl6T7zEeNhO+VDn2xVZvefXPpi511sFjkZzP4qCf/tw995eP2KxbwFgDPBYY5Xdj907yDhn0DzcJ3EPiDrztmYb+Llq4/zi0A2GZCL33tDYv7vB0Alr7x5k46uHHxDm95Z41hABj++H+mpTCzSA83n1Ub84d3nl1tgIOdTmqoefe5TD27GB4xeHjveToTmrmKBw94SU1ij8H33X8BAGy7zQn33X+BdbExoiNDBtf0vfMXF8Ub+uZo3BF9AWDXnY796V0X11+PuFAj57B77DIm7ujBTXdspAy7N/kn/Ohdj+Sv+52ffMhJ6jXpazhxn7T74fVvX7n5cjBrYaYqbdU/f+fXDv3n718xQu/nvn9F2AQCojWtvO/0vo87+Pobr+qAVXOzP0rJ37YMjuxeRgHwLBufVdpd4wNu6izyJkOe+dQQxAihP3jM4E8ePzmARwwGxMW939YwuC63watw2BXu9EQf3vquMTh/5U8Ehu3mx7J/lFW+Y3jnOfVVGux44pia95wbx/Dw3vOaW7LlNh7ef36mLXqE4Yi5IdPud9cvLspJ68y0MN9298UAsOuOjL4THPbmzRtr9Bq8iTg6LHdyTd/v/PRDEOQEuwsC3wf867sfDgBfveUys2QVOPSN6NSR8P3c96+AaPuEeF1J9fy+jzv4+m9fNUnyboddCoMLgMsIQqhMKlDSaIyBI448N93ydccs7HuhYLCaSVvapZ4t3fDGxb3ftvT1N42itPImp6w8q2y8t76rwfBP/s66BwQKW1W1HBs1m/Cu4V0bmKnfN0Tz+tIQlJsWj6F6s3VQnCjjKcPF1KdHRAkXsgxoqztNRmsVtbkn3nb3xW07vXskvmnzRvMQ3rouIgr/Y8TdKHTjbmNF33+/5bJf3/3w39j98K/efHmOHdh+oerR7/zaofErEkkFNh8//3EHA8Anv31V5xpW6kM/+IkHAsBHbviY992Tv7MGRz6DIWaJKqMAeA4UsAqBZrf4LWc9Z92r/mn5nN+TU8gpJ4lpAAPA8ieOFQwOZ3xbBmtzdCYMYltlBEgHDYbFu8bGt0im7dpDL681rX4lGQfHUIv8hSuzJFtmTMLgyL1yEgZ3EVKU1sRktnmIB4GH2pESp0TRcLXRX796y2UE8NWbL4PsWhZeBe/Rz3/mwjdSdZlc0R8+/uS3YzHP1G3yQDRKuSWDyygA3moUsE5GIrmZnJSx4CmK5nuSOKY51dozWJqj2YG7lZE16WuvwnVqMmsVFT4TiYgOGiACiJ7EAKECrrq9I0tfaozX1J7BwBOnxW2Umbvbhc31aMbEDEM3RmDJeIYZpTeRomq1vjbkV5KK1wENA6zAi+1NvfPs4sxNQZdPffsqokk+jubTH/286oaPchsM9cTgiA4unJ72KJWwpohfg4ikC1KKzQmCMrhhhSmwKzOzX5evO2Zxv4t0+SdVoGpL+5pZN7yR/4q5pafzi1SH14p0F1ZSNTv5JeK1qUFX1PJqTRtd1IPdWX0pZLdYBGHSRr3GMOJJUW2HYNy5g3uiegns53uZu00kgCupZSGSB5x3AqZrOTxUZhULe5esZg8upCfs6dsZcoj6G4L2Mokiu1z61Y/H8Y/FHF0APMsMJpvB7BaPirUQ9EgQ9eCyYFYxeItRJLcVg7fIx1u2jP/VDN6yJb2XKmnZAv9gr0IARL+KprAlX6DwdYyzahFITmGYOIZZHUhsblLqhoVIKO9lBrYFwsl8nt86cay9zd2d7ZHAhr68t2IiA0W9dN8L1bV7wLRKDa4h/5QxunjylLj8BMWXBHzx6nx/xC7hd7KMAuC5FcCGgY3XhX7Ps9a9+jMIAXoNdetUnfcZjESSwdSOwVu2NLtvsTdAsTGldTZAJyEeNlYyCR0CGwSS+e4c2+pxWJI6XDYxViNq+jItQgj6lqewDfwxkHo+wuBwMye7Ks1g9FV7DHBb2f3bRal3qbHDYR2+powlxndAfq/Afp59J61/ZUx1FB/wNAlcr4ZVU/rxJGKOx7Ff0Al+1s5QFCwHxybYHFa5fKXPqP7jKO5pFO1c/6snbzxgkoWYEa+4aVWBbE6BMqe4F3OCTRYXD5DmlaWbCiEQVCmpPgsKH8vr6USwIwvJqo3LogR45UMWnxkh74xcu5PZNjTaBqSbGXilcH+zMOyrernGLQ2+azn0XodbioKdqxbSgyv8YpS/BVJtKRAfQfDTOZK+vKKVtrx9VC8hMhRY/AKrhMI1AVr3lfDCUmFwAfDsKmDkj/hPTiza8p5nSQhIlOoAJXRbyIKdHZLF4A7LXbOtPRGGXc08EiOzC2DmPZBTlnQ4ckhraLKXm6omqJCFMgRahkNHMMxCsvSHWh1eh9YBABIRcsSpzeptAPSZ6puss1kY9hXCFeziKcZmye/3VhVWG0Opw2Dv+oQh7uwToSrZrvn+QiyQqvkmgMIwuowleyEjPlkqgVgFwLNthUYwak3w6pLsFh0ENCLbRhq4yAp/dNIzxwwmqW4xzwUR4hMrraxIXD1AroPNQ1lrkgmWOBC0VwpJ7OQAmS0uQBYbQQfDoiLKSA+LJGJwCj0i0sj1j0L2ysuMYXh2oG9GmxESBDHg/AphYy6pt1fvMmSwOGywPlEZzDopCwlJJzcHqwTGmAjw+GqA50/zl3BWEiF22BvxDtusnPhL5PLYeongsOJaifuEd33URxD9whjLXbQjxtG9aYnY6TIKgGeRvtISG0lylXOhwUeoaBNpoYHQ3dI4cxCt+JnRBo0JGlm/18ARxAQecy2ldHCA5xakdwmd1Fy+TVZc1TiJg1plEreiUne1WXOvQ0RXZIzMxxioFbU9jTbiOVbqBjlOkyId3qoxLFYm4+1V2nOg58b4qQEAMgG6ZnBoxe/CYAdRNcmUGdZjcPAtqSuwB9nb7mFtBsdfuiWD2Ueg1y58FUVV2px4hwQ8IV3OxtG3ioL5hHbnYZ/KVFzABcCzz2A1q+xqi2Ak8pEvqeOK28/xdallm6BJQJgCl7Cng/lM5r5hMOFKTZJu02owqXdzzIQJm51IQHJ1sPIfIzMwMvSC2AzNnlQojBh1VwGOVbUN1DmwUig19K34UbuZq6Ud6q5a1dKguh2zbGbeebk6Akc7ydbP9TmT5YoGDvKmfrj0U7ZncOhVTYMwg8H+YRMM1vt2YrC8nqj6gNcYbZY1VUR7g1gU3xpiXxi9miVlQBPGHec2U6zPBcBzooBJMpgrYEhIPD6NKC95sgODOVcpGhDpSN6IRVpr4jaW5axt3T3YfRjJL0llkpgFdilg16FQYYQXyM3s82rKXopi0+LOVykWq+ET07WNO5k5hscHIGZ6tzzTFflQclqztmEwWPbq0BWtDhVHUSaDM8Wo89m7DM5R6volRFSUHbCWyWB5PSsrQ+hHEGXf9BcDjE9ftzltngdRU2bi6VdGAfAMKGAMGAziMeSVRecKDFICOYfBFMQ8J5MPBH2rd2T7gw1mj3lh+4brglZoR7lgDnE9NufdVdr2UuARMuoxYFBStHnYNMlCaS0UGJZRTqCqcAk5bVkSmUfQiMwBbW3gpAcRHcbtpZa9xvBY80MpFDkea9vWqhzkCpbh84YjvFl/iO9AROMCP/NmvhIytz1bFQnPa4TBttdf8JJ9WZWj1yluBe7HIXc3CYtF5RYAbz1SWDA4FDXBbEiU9sF0lWfFYIZbRLRBaK6DFacb9EoDFjESEwMDCkHcxGeZzYBR2bi9kyLtqzKLfWYqf+Pagh+3KhopOFR2jiR2RQRFBuSGQeHFC+psigBk+X6Jt7O33MzIbMj8JUJbN3tMxJOE7ft+ZfmOHmpEMguxjTFep+4IK31Deu95cCFXOzxcp6w+LMga7LbbXr5x53sX8fqrT8/7OPSXnkLvBgSK2DydIL6v61QpowB4zctfg8GkqxYHoVh2EJYn12zqEmyxknqteUcCe+jHWFHlD4ZAB3N0klA1NXGhCROpj0yWFZxdK6uSdofY6VpdhIHlkLfKMSiLOrc4l8TVh0fAs52YpbzRxtzILQ/FZZDRVRrHVEvtDhRFr3QmN7rK8h9S6NVGjRAafQmYAagptk3EPdbSWMoOS9wAy+LUnMMKyBFQuKKqEW4etnEWoX6DIkJeTgtZNsX2+qNK6cfkx8G7iEQkrPEp6/i+xDrTNqyVUQA8q1bo0LhKaQUcmSUUYXDrOjYi999UoY0Oro2FKHRwjUYTyfwIwlJNiEhCuXKHnWM9tu3S5DdWarWISSkBm7JOui64YdgIMjIKZJsm/jdbUzLzJCkHBambOxjRXgRhsULjvh8cqnreiAXgjkl/d7UNESMXakc4g58jCp0zbA6r7dg8ilv70TFy5sbJN920SAU48TxgTmLh9Ze7exKWQH0x1DZkBlBCyvnCdvcI7gnsMgqAZ9EKbf0EnrqCQpFQFAYUxLZOcm6I4zwlXgyrpqhy/YLr5WUYrh8zEexg2PZwGcFrbeDqAZt7hZOZUW243NqMp0KvRfoSBO2L9U6iYgiyRciYxHXSr3B6iLaNPNYnjPVu8q3G9mcRA149D/EuVkYLSMkm8npSBSDC1FrESIANYoXJNEiwmDW+/AnO3DTOO2c+PqxRrAPU7laB7cjZhi6LMJvIuoba6CWUf2zqlFEAPIvQVTdkByFAugpW5WWU8gyNWItWt3uHu3xiWjqY87LGM7czo6lrqycrGeNuUPmGRzpEieDmZ3DRImnC5kWGICJdbBwcKYzrVnaLLIs3TOJTc9OIm9BsmZ3L1yRj36Q050sNzHJ5gSMWGfyJWX2xsdLW926qU2gEaUhoYF7PAAAdG0lEQVThlr1EQOJqlyYoTawb6jOsTk4HMlY2abJ2F4qVvSm9NEHideiYd2h8JazD1rs3Lx28hAhPpkBds1cHz3agDsvuEc06OMNyEWV09EtYRgHwjBM4IuOa+gUqhraSO8DuseyYCy/5X8vnP68Fg8mp8yw3sHQw5yU2Xl7eT8AxL2sF7GG4YrDw8opFf+gGDiEd0NE0+INj2OYe+ojuB7+yZjKDuX3vZFSWz9psjVzG1F5LRl/GS8YqYWaprg1Sg1IdbITiUEIwE9XFRkishgKQ82SlUI5Dw36CkGH1GSKRJQoRmvApFWJWSdBxqFpTSbtBKTcSkFF2m9gbRP0GmY2BSFWfZNeNh3hYl7eGN5nOd6uoZXU9wYobATNczO5QiO1uZGUUAM+kAtam1HV/9qUt73wa8NuXzl1h9xdQ6aIVg1/6aQBY/sDzXYmc7GxCtHDgZaOHy9cebcNcZRZhgB3CiHk5DIS2MawCmMergdE9Oyy8pRI7/aAsLwnbrMsd18HcOC40dEseQxsY8xzjsbtTx18B00/cBT8mCjsfUTmyWZmM6NLIRzBARRIVYnXYpACBFqbAQ59MgVtFETcnab56XXXEcotyhcrebIPG8PMKxasQuM0RAgkbqHZLzdcvMa63gbLeZGDJBx4brizc4rDc9SA/DvGVQWnhDjBqxXW5sC0iuAB4dgns1OIAbifi/jhUUw2CbgNjXp73Bwsv/3uodQl3g2XGYClCsI57OOpkiyEvWeAV18FEi88+pz7S0r+ekoVhOx9JGL2bmGUeqkZSWEfM+2AFvlHYOMZaDcTtzzncNcPEDLTnymHkd03u4+Th5IhoZ7JCUDSEX5sxBhqnp7QDQ9NsWcdyNRbmQAdLydjUwQxgP3Yn269eZdxSDXv2gTQMlpZYeSbazK75pxZl6kyYqgzfFFZnjo5gRXndEOA5ex7yme9eSYGxGgF1xW/9ETR/+sPHHvzp73wEowFYhC5B62Put9fB1994VblfFwDPNYZl/ectf/PUda//4pZ3Po11zZO9ejIYPMbwSz/d2KJdU7RUeyzMavmqwxYOvnz5o4cvHHAJACxfc1QVGEXEE3mRJ/Uy12/116XPnLT4nA3jb9Vvn7n0L6+RlGXO4BC9EpyL+7y9Yfk33zLSZ4wnzOaM8QC3xrw/eOQbAWB40zvE/VZlY0PgKWhgKbscqjUTQPqxyWB3F7RceTwqi6vw8Y2WVxFn2TjqDs4F0nh7EkK1+QaJB1UtSRp7XJtlQf38Q3Y89ra7Lw6PQFzGswUj04rjDKTRk7/64KMB4D83bQxeuja8xg5bfzv2etiRoy2/+eNLw3dXr3NJLD/rV2zcR0/d4/DR4y/ddLn5jsRblp0PiHMc4JmPOhQAPve9K4iLeWQVJ6VlxLySAPBfH3PIP/zHR6iR6pZVWftxXAvdOiRP7Rb781QH+zqX0eNlRdzytl8P/C/Y+AIB1r3hy1v+5qlVM3ccd2mHOrGneqZ5cqRKAz8u4kgKL3/geWp7ljgkthdxznKDhRdd2mC4ORMEBBJ7gfEYcfE5G5Y+ezIgLj7rbC2I9ZuSRwC9weIT/zq8sEvf+vPmlGpiYZ3LERwKYPCot6iDDH/412qb5iAgDsiebx4PHvbHADD86enhn7zHgwe/Zrj5PdbLAQAMdn7V8K5zgt3H5zDY4UTzOzb8xfv0t2t0tO1eNrzvfJBG4NHjbbZ7qXmoe++/AGoTN7PBEsAO2x1/z70XEkPciDo7P/C48Dh33HMxSXsKBY9rqy5VL/HwBx2jjnPzHRsN8BAT38HB6wimR+96ZH2cb//0Q6rJdvgGBYblYX999zF3v3rLZUSg4oXZoTAgLohVAgEAPOPXXgwA//KDK/hLC8gxVxORDeDRjs999CH/+P+uBJEyHHNoxBn8h4/9o//1nY/E933eY/+okKIAeBYBLNErmREwWAAvi8Fsx4WX/f2YwWDRF3wSg95YY7jaWLy6SVNB1gqlzzxrjM//e4q5gcvgJ71j6YY3NtcNYXHvt2skf/u/86taJ9gKBu/552No/eBtADD4tTdnfo7DW9+leDnY7U87fB+Gm84M0TvY5TVZ+961AXhVCv/x4IGviB/ql/edr/dSN3GJkAdue4J3qLvvvZATiEKoaEbiQ3Y8FgBuu+viXXc6lh/qx3d+UOOQtOCjqrUHR9Ej1x/9g00bCfBR64+qj/bd2y+xDoUBcZtkbJKE23u3I0YPb7j10uYNkiYZU8+GZuU4/81fPQwA/u0/Pxy+Qa2SJbbNahjP2fPQf/ruFczMrE4pCuCAwb//mEP+4T+uTBrx/uAxhxRSFADPFID/6kmuMKpoMQYwp7IgUwaDhaKtGGztZdPXRnUMw+QeKv2kJnGzFnHeNQQ/xfMIiIuPf6vk8V8SV64cw//lL4bfe2ujL1HaJzwFbMnWwcNfN/zR3+oPNKKG0VXJgwefAgDDze8J9kVFyoTI3uGVDbN//j7/u+ceivg9nWCbbcb0ve/+C6SuRZuUZAjEerNddmgU8+21mZozgzAK4No+O378iF2Ornf9zzs2urtbCjjYDAFgr4eNufutH1+afoMkFwdk2O2fssdhowdfvOly7w0GTMQ4g5/1qEM/9/0r9JuagMG/V4np+HjuowuAC4BnEcDuHTnO4ABC0mJMtpAdm6OXz/9Dl74Gm6EdhkevbhuTPcZrgi7+Tk3iU5ntPVD/YF4KEBuDgWrSax2tiVMGZw1vG42Y5qKQqhhaRMwnA/p6h819dWdBoPNTRMOf0eNttn3p/fd9wJZrGrRSVVMoqfFB2x+3+ecXWXoXITQLk+lCBgJ4+M7H3PKzD+7+oGMA4ObNH+TVrz0Mh9twrD7moUc2Vmv7UML6bTwfGHtHFuyv3HKZ+wb15cKQu/zBbz/yxQDwrz/4sEHfVAdBcv787D0P/cz3rkje0J6z56GFFAXAMwXgtz7RvVdyK/Qbv7LlHU8JdF6awYFxmCFz5BI+/3mmpVofBGwxncRwfXoUl7+GRR2CE5BMRTTY2QbAxhFMDI8zeIK/asnooNEldER9mtragyJ2QexEZxIYNkXFF+ZuDNs8ByWVQrux8tcGjITQ2azsw6a/NrROh4ZxtotljjaWDgi+mBZvxGAqGksQy/3M9soxQRvuXtPqEFPAhhs4HY3/zEcVABcAzxyAIzfHNIPBF5e285UkBRde/vdjBpt0VMJXEdqRtgsvunT540f2wOBwnQHmK0alcLufrtmZwNklZkPG1vR1+ReamjO0b19UjpG4vjLizNRBZLeK5phmUBJZVlbTwkyuWEQH26ixZB8KwbdCq8OCv3uwgLB3914arOgqCEK6/G0CglIX+Zt/63/GI19cSFEAPJsATlmh3Z8xBttPUifXbFsMm2cYY7AdVgaB2DXjs0zt2xnDoXKtCyBYALZ1cJ4IziKx83J9mZrzD9thPaEqVft+ZUdEInisdTyvoenY16bauJ3/6vFtLMRiu909/QqswpljiOaH7SJ/AYA8AMd08NN/tQB4KqPkAa/UMLoTpn42E4PkAzVt6koGGBboESeQKsisS0jWNCUrFRhZpUmkcY9hfpxGr9fVskiYndsCWGCYpfnmQDdKYtkGkP3khckMx200YgtkdWFuoPUAPCWZmy/KbaDGHdWxN6sKdMijU1Xa0nCjsrRaCq3iNaqI9TIwvKFVcckxz1hGFs+RVRHOcaNxmNxFGNsdbIe0SV/jsPZm4EhhStHXV9JlFADPH3HN/r6snkNkFiCruK4e+DtAVV0vAd00hutKF7JQBrDiG6QcuoSIBKz1gk4xYmU06t1jAc9xAPOfDMbgGK5tWjd/Rd6c1+YiGSSGSFiT/xjJJvHKiF2IhmVhCsAt32zTfhklJ5siq7wRsuxtjy4q6g10Dg9yrUmMsihpSnyaGpm40qod7M7X1aTTpUB1AG5eQstcnUfEejGKv3LvO9lgtngrHMwJ03MhcgHw3EFYP2yKP6d67dXCMSZ/2cFZycOYDm6hhuumv6pYFXLhW+naisGC0KQATIYftz5aSx3s/qRGalt1OZz4rLpjQMo4HEphYmVARFCLn7mL0AXA02azG9TNrxVZjyGepswXN6plPYrufcKWSmH5Zmd2SRhDSNa4mRrM6hkqwgsjVm5OX0rLX0sxa9M0tZC/KUO0VTGaCngLgLdeBUysOGW0LZjo8Ra24fP1c0QHGyWXo20E0WFwbU8WRyMzW3f0PNbFqmrTtIi9kj2SOwLYh7FijPmTqA2ABaKq5oBSMevH0D10a9psDgGcmQ0Vf7PsAtm7NGWP1ZF549vmcVOjFV0FZwRhoZ6XXiQ2QOAS9u3PgvGgLeGtXgLQgzQvep0CcIYhmgp4C4C3JgWsGoM1DVhBt4sLRLDHWpO/AfHJFLuhFDZ5zKs3g3wQUhPALSEii2yMm8cJPJuymOQRQBfQyBK4ptM36ht2apb5xBLbCAZDprc153Ek+mmSx5kpwhizSHcOQAMrVTppMxibqPURTI2MrB1wHQ6GgRkZRK6wttRW2r0yZ69DkisHRmg2yYMW1QAJDEMYn9WgEj2Z65FY9fKE9GZlFADPp/mZh19Bcx8gVhif9WnIaO6bEsG1Wqh1cEbvP9GnQTE4dP2S3AwCuSzirQQIURRt9kpcQcBmp5JGDwxGJ8YKYulGmr7YdEHoVpoDWjqSAVzEdj4UJrOhnBeaVLJnn5WzjQxy4w5oNWfQXKySLw6JtygMQ9WChhZyrW1imFRGLzn3DGmTRuv5rFKUkd3LKACeewLzdjfAupMhW5/LTjukArWwxawJLd+sDy55IjjJYOX6DdlJZuIQGeUyqv/8CpTY5JJiXPKileCbJLGFcEPyQiLXqEGUeEXM5FBM84HZaEFtRtD1UN5hY9tHX6sfo7pDWYQYgEMDN6LVcB4bDwPqtQCpc2gmEdPEo55FutwIqnU2mfNQ610y06vA8h8zvCI4GtpVs97uRQQXAG+tCpjrTtbMlXiIlmoAGhfB6Lp9tOUJx51Hza605PTrBdLO3UYEgxWT5cQzq/gyt7xGw+ZGTbbL8Q3syZ0ZDOlizn2mBbe01mKtyaZk+I0/hvZpxFn0jWYe52lrdP6EIhIbWeNebGaVnj7xxRNZvxptChXsw4BnkIeznqfQBG2JYAe0QCmhXEYB8Nzy2OkRCyx5RvWadX3DbXRwIHARxp3NYxi22vRqgzPIqKt4QhGkSo6Y0dHcopv/EyDPLh3gM1nkOWKjzqV1CjAtnbhB5Nc0eJ9dUQsneY+Q5bSGfiqEGDrY0+Lq1Vt61rXBGmVp60hSL+iEJU+yOnWy0BYFWCRvAfBWJoEDQ3TYqj1QwArPXSYN2dVtqErYzakHElGuIxEMXqsiaB3GbBiWWXRxRj2NIDHXZ3DzJATFnzEbM6F5dhK3KOZBSNtgEYF6BypMFkrd/d1FNXry/N0L1ckM7pq+W3w64RREHgsmAjXFCYUubaG1WaS0URkL/SLPxQ1cALw18hcs9AIrHyDtT03esArRyhfBJoIrsYs+dymM0mqydFh6Tx2o3ARkddLBkG60gOl9PVNw5U6OF3POF8EQcbK2l4OmfTXXFNy8WZw2XKFDXS39JEH++0oRustlbPsebXhCF7+7cQgjMdritEX/qli09wog+0mUUQC81RMYY4ZoAG1wDg3RHZetBBDQFBK1MDFksPeTu4dBsXnCcs3dCztrYSpkNAgRDOD3KIRU4FW2HMwkXCufK7R3oK6ECI4xD4O6TtF32hKlORjuKIgRXIy2+bzkqSJElxecwfbrR/AbrAPKKADeSvmLlp0p7Q/mkRLYpEK49aLzpLD42YbB3ejYulxz10YLMQxzBrNikxDdPZOgSY8g5m0WwmHCIKZp5RnnE90+FEKGtTz2ipC1C/R1iXw6dljBAGRdYXn10Dt59zeEnF3y/lJGAfCME5jXtBURkioxqS7vU9NXiWCwiRvBMMdt/QuhWwJTFFVGRCKOz0i9TI+yYR3mVgU0WjypDgKBUxZr2UEJo7HVQhjysm/t8hRtiJhpZY3f4tvW5cgFW76n0yQKiuVkxOkbWxkkk6miAO5yfTzaYYLoEQ0a//QxU85iGp+YsUWhbwHw1qWASWEYGmcNSSudkZzozaMKw6G1WZPY1MQkyk9WPzFRrRpsD6sJYICIg9blsdPBN8pgMMpHSB3s5raGAVlg1YeCVr5AmSmU4zjMYXAuhjs7LDtkFfs4xADFmGM6jqhYn3DJoC3IzrT2Pprk62a4gdU2lIPGJFBjBvMidQuAiwLWlme+LTZF83hJLJQiGKCF5blpVgiypAbLMzZqgLCfTVcDspg33qYqbhW3NrvC1NrSshWjr4CVGTmF4extJkiZZedFmdtP4q1094U2oU/t1xkQ9csmpGqeJTkG4wxRiG2vsIexCX3DnqEYIcxzwLjMxQxLcoZELkguAN7q5DCFlSmrbSiwKmsdTNZj8wXDwCunekctc4HXCWE/7TBs2axpVGUoIVJNZdkhqCoplE13rMPaOIABeimyKHodJi293h0y3zjciuKRZFyYZPeIKbjDLpDnO8/gLmQHRWetEjLNFemr6jrIIc+bm+skLvQtAN56mBs+FSpgUrdqUvoyRl/TvJxDZWKdC5UsDk3NYdvdKqJJrOIR1r36swCwfPZz7DLLHoAtBi+85FPLFzw/lmKr2yeERTbGf1044mPLl74ovRrIYXDcAOtnlOoY4Hb4jDsL844A2V5b22KZ6QuHhKLNqcIRR1f3Nx4FdsIf77yFrFPFGAXDBireJcUMdqbfQsFwAfBWSuCUAgbWRUXqSyBJ30pSrfvvN2z5H/vkimD1JyAgXPeGL42e2/LOp4kymZpVZAdVAQDiulM+Vx97y5nPgi1bDHkaaTdb6dd1r/wHcZ7LWwJTnp/1q7UsAODCMdc2h2pdH8OIBlo49CMAsHzFIbkYBun3lHf8hQMvA4Dljx2eCNuBaFlE9teFF35w+bpjUuTADFMnAsDC8y9Y/tQJsYOksR1fwfCvfF6EEWLeK3oHSQUJ57hRMQPSCXK7VwPTV6D53+KT37X0ldf5JM6Ea2Hwqg0kKkVRpnBZEbe86TFxO9W6t31ny1semza+RWtBrPvLbzTkG5E4YlnVjxn53vhldZpb3vm0mDS0mLfutH/1LsiW9zxb61ePwSf9Y/LyLr//D+0zYQdfOOGT+Z/X8sb9k5dr4YiP9fLdWL7yEABYOOTK5pmPHCoWDQd/uMXRPnr4+PQOvGz8zMeO4BssvOjS3ENde7RiOQA0OB+d2wsuzjrUp44Pv/YLz7sAAJY/fUL9GgvP+0D8OEt//zILEOPPffH3z1v63y+vn1z8/ffFDvV/XumvCSo58rvnLn3mxDHbnrPBPs5nT46xDW14L/7OWfo4//KaDscZn+dvnTE+yOdfm8HThDN48emnL33htIRQe/rphRQFwHMBYDbB1r3tO1ve/Nio86YFlWsYN5o4vbsTZgyw7g1fNngMCQvtuj/5/Ja/e0YYRbXutf9iUflZarPRY0JYOPmfAGB5w++ZlrqFE/8xTeiRYH3pp8fPfOD53gpg4bjrO6J04wF5aab6frpw+Edjh/3wwWkFyR5ylhtH+8ihbd2cNcuNo338yKgYtSXgwgs32kf7xLH1NuTvHv6yuO+FBhqFWLc+BZ9wi39wvj7aP7ws2x9vPL/4e++V+D8x80wizy8++5zx0T53clq/5iUBLz7zrKV/fnXaUvrMswopCoBnCsBvfHTOvFr39v/Y8ubHJEQwRCMwg9vrur/8xpb/b+8WDAariKDceMTjLe94SrYnFRLeWcR1p46pvOWMZ6pzIMCF13x2+axnB7fRsDpVIptz4RX/AADL5/2BYSRsVwQRF44fo3r5ov0MFym6pkLTM7dw9DXjo11yQAoYWe7JhcOvBoDlyw9Kfesw5g6s/jTieqPOk+eTOvOxvX0s2Y1zoHzf6ogKB1yydO1R0WsCCf+r0qn7Xbx0/bG22bedu7o6w+ddsPTpl2Ren7znrW9XYhuY3Mi8+Nz3FVIUAM8FgL1lb7tY0G4F8T1vHLq7m0qudWl+zDu9SJpQeDPFvC62kDglaJtmiute+ukt5z8P3KCqDF8gV8PHX69x3soTHIN9/CuX4cJs55NOEN14aez0BqHVAbE1wLDlVcok4qRnknPB0yjutDssPP/CQooC4JkC8Bv+S4t52KUkYXT73EQL7LIjdnFXO6hzTgMyGtfnbJNV8MHcGBKBOaMKJFl3RnSfTDAFe3geMqyRycYDkT8htD8ZzCBczoXKTofNzIXF1DbY4YK3eY/5lzFfByd2z9p34YBLCimmMUoU9IoPFWA8fpJPCd5UjBp4kLzbx6eDaHjmtP7l24mS1PVLWK+OkbPqULvfuQf12cYnxWDILDgMdpGN2E08ReUEg7Hd82mZlWJ+n2eS82YnTGnFCV56Agx3+zRX6Exaa4VySy4ALhgOSMx/aUvfJIPFrZacLhEWiWWTtMCzSDF0pQv8QsKx2uKY0VIPMd9YXo0IIYqQ8sVNtvswDcWk47PtPRr7A3PiY+3gnsy+Dlmu01byNOdVcOIj9HhBWilgKGlIBcDzi9j4zc7bRt33ueIEp9NwKwaPKlCqI6guERCUoB6nDnMBGLRczO3HnnOPju/e6eUgr+py4vZk5GpSvkprdddLF/S3/oC5x215zp0lVIarOPMVMzv8rICmbH0m7T8abHsaXfBbRgFwUcDtdbB5Kww3UAwGVuhDTcXwlEhOVSKBZQ87rcr5ig1jwMxyDWJeMYecl4N2HkFse2tuUSeh5cYdt8854T4A3ArDnSVji5NqyyHscj4t/o6dPrUJGFxAXAC8dSngUGumZ0qb7r/R06pwC7YCNjoeOvWo0dmogwcOM/QOTvL8hC/X4SVykNbyztcWq9DJw9dW2HWRpH293GRE6vPM18i7KDq4ALiMCeVvW5xnM7fjWbkBYq5mb18XHlI+rUxfI/TvW+29mQx22gdXYBd1ejjd99bn4XHF32lkv958s4WeBcBlrIZE7iZoKM8ZHAeyeRDdjzgjDKw3ZYNTO3LfJzZtBq+MsMF+9l8NhKziS/f4nVzhURheADyPA5N87WAe7E0HU7uJlx/25c7r/uY59nfYacB1ire+tXevxDV6rLUO4MLQMipMlPTqKVzWkl1XRhllzNEopCgALqOMMsooo4w5GevKJSijjDLKKKOMAuAyyiijjDLKKAAuo4wyyiijjDKmM2Y7CrrEOpVRRhllbLVj1mOYZj4Naa/Tv4oICIBAiE0beERCCH6tihPwX0dt5Zpfx9XZqP612aDZhoDtPjoaNL+OOsqz7YHqRrruuTW/svcifw3PLeNUAeoN1K/VuUVPdVxxA+W5AXQ61dEGzamKXzNOVX9S4bllnar7wVHiVJvTEB9ctQu1O1Xxham+VPJLYp8qO7fRTcj9SVCV7+74Eyl6/Jyf6VeZ4lvAqZ98xs8JzgFp2q8+xZMHIpzmyeM7vz/r/Com6DLKKKOMMsooAC6jjDLKKKOMAuAyyiijjDLKKKMAuIwyyiijjDIKgMsoo4wyyiijjALgMsooo4wyyigALqOMMsooo4wyCoDLKKOMMsooY+2N2e6GVCphlVFGGWVstaNUwiofQBlllFFGGUWAtR7FBF1GGWWUUUYZBcBllFFGGWWUUQBcRhlllFFGGWVMaWDxoZZRRhlllFFGUcAtlw+IJRC6jDLKKGMrVZAzfv9fN9OXnoiIqDC4jDLKKKPQtwC4jDLKKKOMMqY+5sB/WgBcRhlllFFGGQXAZZRRRhlllFEAXEYZZZRRRhllTGnMcCnKOvyqZFKVUUYZZZQxc6PkAZdRRhlllFHGKoxigi6jjDLKKKOMAuAyyiijjDLKKAAuo4wyyiijjDIKgMsoo4wyyiijALiMMsooo4wyyigALqOMMsooo4zZGv8/0M1eKYGZ2XIAAAAASUVORK5CYII='>"
      ],
      "text/plain": [
       "<IPython.core.display.HTML object>"
      ]
     },
     "metadata": {},
     "output_type": "display_data"
    }
   ],
   "source": [
    "velmax = np.amax(velocityField.data[:])\n",
    "if(velmax==0.0): velmax = 1.0\n",
    "fig1 = glucifer.Figure()\n",
    "fig1.append( glucifer.objects.Surface(mesh, temperatureField) )\n",
    "fig1.append( glucifer.objects.VectorArrows(mesh, velocityField/velmax, scaling=0.1, arrowHead=0.2) )\n",
    "fig1.show()"
   ]
  },
  {
   "cell_type": "markdown",
   "metadata": {},
   "source": [
    "**Calculate quantities for benchmark comparison**"
   ]
  },
  {
   "cell_type": "code",
   "execution_count": 23,
   "metadata": {
    "collapsed": true
   },
   "outputs": [],
   "source": [
    "tempAv = Avg_tempVal[-1]\n",
    "nuTop = nu1Val[-1]\n",
    "nuBot = nu0Val[-1]\n",
    "uRMS = vrmsVal[-1]\n",
    "uSurfRMS = Rms_surfVal[-1]\n",
    "uSurfMax = Max_vx_surfVal[-1]\n",
    "etaMin = etaminVal[-1]\n",
    "etaMax = etamaxVal[-1]\n",
    "workDone = GravworkVal[-1]\n",
    "phi = viscdisVal[-1]/100.\n",
    "delta = abs(workDone - phi)/max(workDone, phi) * 100."
   ]
  },
  {
   "cell_type": "markdown",
   "metadata": {},
   "source": [
    "**Output all quantities for this case**"
   ]
  },
  {
   "cell_type": "code",
   "execution_count": 24,
   "metadata": {
    "collapsed": false
   },
   "outputs": [
    {
     "name": "stdout",
     "output_type": "stream",
     "text": [
      "<T>        = 0.5281\n",
      "Nu_top     = 6.6091\n",
      "Nu_bot     = 6.5811\n",
      "u_rms      = 79.1966\n",
      "u^surf_rms = 75.1731\n",
      "u^surf_max = 88.9630\n",
      "eta_min    = 1.9181e-04\n",
      "eta_max    = 1.8824\n",
      "W          = 5.6178\n",
      "Phi        = 5.6181\n",
      "delta      = 0.0040%\n"
     ]
    }
   ],
   "source": [
    "print('<T>        = {0:.4f}'.format(tempAv))\n",
    "print('Nu_top     = {0:.4f}'.format(nuTop))\n",
    "print('Nu_bot     = {0:.4f}'.format(nuBot))\n",
    "print('u_rms      = {0:.4f}'.format(uRMS))\n",
    "print('u^surf_rms = {0:.4f}'.format(uSurfRMS))\n",
    "print('u^surf_max = {0:.4f}'.format(uSurfMax))\n",
    "print('eta_min    = {0:.4e}'.format(etaMin))\n",
    "print('eta_max    = {0:.4f}'.format(etaMax))\n",
    "print('W          = {0:.4f}'.format(workDone))\n",
    "print('Phi        = {0:.4f}'.format(phi))\n",
    "print('delta      = {0:.4f}%'.format(delta))"
   ]
  },
  {
   "cell_type": "markdown",
   "metadata": {},
   "source": [
    "**Comparison values from Tosi et al. (2015)**\n",
    "\n",
    "The expected benchmark values from Table 2 of Tosi et al. (2015) for case 4 are given in the table below. The minimum and maximum values from each of the participating codes are given here to provide an expected range for each quantity.\n",
    "\n",
    "| Case 4  | $<$$T$$>$ | $Nu_{top}$ | $Nu_{bot}$ | $u_{RMS}$ | $u_{RMS}^{surf}$ | $u_{max}^{surf}$ | $\\eta_{min}$ | $\\eta_{max}$ | $<$$W$$>$ |  $<$$\\Phi$$>$/Ra | $\\delta$ |\n",
    "|:--------|:---------:|:----------:|:----------:|:---------:|:----------------:|:----------------:|:------------:|:------------:|:------------:|:------------------:|:--------:|\n",
    "| Min     | 0.5273 | 6.5572 | 6.5243 | 78.6652 | 74.1719 | 88.8130 | 1.9467$\\times 10^{-4}$ | 1.1800 | 5.5903 | 5.5434 | $<$0.01% |\n",
    "| Max     | 0.5289 | 6.6822 | 6.6690 | 79.6202 | 75.4814 | 88.9848 | 1.9900$\\times 10^{-4}$ | 1.9834 | 5.6512 | 5.6463 | 0.84% |\n",
    "\n",
    "Note that the values from the spectral code MC3D are not used to construct the min/max values here, as they are outlier values."
   ]
  }
 ],
 "metadata": {
  "kernelspec": {
   "display_name": "Python 2",
   "language": "python",
   "name": "python2"
  },
  "language_info": {
   "codemirror_mode": {
    "name": "ipython",
    "version": 2
   },
   "file_extension": ".py",
   "mimetype": "text/x-python",
   "name": "python",
   "nbconvert_exporter": "python",
   "pygments_lexer": "ipython2",
   "version": "2.7.10"
  }
 },
 "nbformat": 4,
 "nbformat_minor": 0
}
