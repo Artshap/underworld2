{
 "cells": [
  {
   "cell_type": "markdown",
   "metadata": {
    "collapsed": true
   },
   "source": [
    "Viscoplastic thermal convection in a 2-D square box: Tosi et al. 2015\n",
    "=====\n",
    "\n",
    "This series of notebooks generates benchmark models from the Tosi et al. (2015) in Underworld2. The Underworld2 results are then directly compared to the results from Table 2 of Tosi et al. (2015) the paper for each case. The notebooks are broken into a general notebook for reproducing the models from scratch and 5 post-analysis notebooks which look at the results Underworld2 gives for each case after running to equilibrium. \n",
    "\n",
    "Case 1: Stagnant lid\n",
    "-------\n",
    "\n",
    "This case has a temperature-dependent linear rheology which results in a stagnant lid mode of convection. \n",
    "The parameters used for case 1 are: $Ra = 10^2$, $\\Delta \\eta_T = 10^5$ and $\\Delta \\eta_z = 1$.\n",
    "\n",
    "\n",
    "References\n",
    "-----\n",
    "\n",
    "1. Tosi, Nicola and Stein, Claudia and Noack, Lena and H&uuml;ttig, Christian and Maierov&aacute;, Petra and Samuel, Henri and Davies, DR and Wilson, CR and Kramer, SC and Thieulot, Cedric and others. 2015. _A community benchmark for viscoplastic thermal convection in a 2-D square box_.\n",
    "\n"
   ]
  },
  {
   "cell_type": "markdown",
   "metadata": {},
   "source": [
    "Load python functions needed for underworld. Some additional python functions from os, math and numpy used later on."
   ]
  },
  {
   "cell_type": "code",
   "execution_count": 1,
   "metadata": {
    "collapsed": false
   },
   "outputs": [
    {
     "name": "stderr",
     "output_type": "stream",
     "text": [
      "/Users/jmansour/virtualenvs/general/lib/python2.7/site-packages/matplotlib/font_manager.py:273: UserWarning: Matplotlib is building the font cache using fc-list. This may take a moment.\n",
      "  warnings.warn('Matplotlib is building the font cache using fc-list. This may take a moment.')\n"
     ]
    }
   ],
   "source": [
    "%matplotlib inline\n",
    "import underworld as uw\n",
    "import math\n",
    "from underworld import function as fn\n",
    "import glucifer\n",
    "import matplotlib.pyplot as pyplot\n",
    "import matplotlib.pylab as pylab\n",
    "import time\n",
    "import numpy as np\n",
    "import os"
   ]
  },
  {
   "cell_type": "markdown",
   "metadata": {},
   "source": [
    "Set physical constants and parameters, including the Rayleigh number (*Ra*) and viscosity constants ($\\eta^*$ and $\\eta_T$) which are common to all Tosi et al cases."
   ]
  },
  {
   "cell_type": "code",
   "execution_count": 2,
   "metadata": {
    "collapsed": false
   },
   "outputs": [],
   "source": [
    "RA  = 1e2        # Rayleigh number\n",
    "ETA_T = 1e5      # common viscosity constant\n",
    "TS  = 0          # surface temperature\n",
    "TB  = 1          # bottom boundary temperature (melting point)\n",
    "ETA0 = 1e-3      # viscosity constant eta^* in Tosi et al\n",
    "TMAX = 3.0\n",
    "IMAX = 1000"
   ]
  },
  {
   "cell_type": "markdown",
   "metadata": {},
   "source": [
    "Select case 1 of Tosi et al (2015) and set constants as required."
   ]
  },
  {
   "cell_type": "code",
   "execution_count": 3,
   "metadata": {
    "collapsed": false
   },
   "outputs": [],
   "source": [
    "CASE = 1\n",
    "ETA_Y = 1.\n",
    "YSTRESS = 1."
   ]
  },
  {
   "cell_type": "markdown",
   "metadata": {},
   "source": [
    "Set input and output file directories"
   ]
  },
  {
   "cell_type": "code",
   "execution_count": 4,
   "metadata": {
    "collapsed": false
   },
   "outputs": [],
   "source": [
    "# input file directory\n",
    "inputPath  = 'TosiInput/case' + str(CASE) + \"/\"\n",
    "# output files\n",
    "outputPath = 'TosiOutput/'\n",
    "filePath   = outputPath+'files'\n",
    "# make directories if they don't exist\n",
    "if not os.path.isdir(outputPath):\n",
    "    os.makedirs(outputPath)\n",
    "if not os.path.isdir(filePath):\n",
    "    os.makedirs(filePath)"
   ]
  },
  {
   "cell_type": "markdown",
   "metadata": {},
   "source": [
    "Create mesh and finite element variables\n",
    "------\n",
    "\n",
    "Set up mesh and field variables that are solved on the mesh."
   ]
  },
  {
   "cell_type": "code",
   "execution_count": 5,
   "metadata": {
    "collapsed": false
   },
   "outputs": [],
   "source": [
    "res = 128\n",
    "mesh = uw.mesh.FeMesh_Cartesian( elementType = (\"Q1/dQ0\"), \n",
    "                                 elementRes  = (res, res), \n",
    "                                 minCoord    = (0., 0.), \n",
    "                                 maxCoord    = (1., 1.))\n",
    "\n",
    "velocityField       = uw.mesh.MeshVariable( mesh=mesh,         nodeDofCount=2 )\n",
    "pressureField       = uw.mesh.MeshVariable( mesh=mesh.subMesh, nodeDofCount=1 )\n",
    "temperatureField    = uw.mesh.MeshVariable( mesh=mesh,         nodeDofCount=1 )\n",
    "temperatureDotField = uw.mesh.MeshVariable( mesh=mesh,         nodeDofCount=1 )"
   ]
  },
  {
   "cell_type": "markdown",
   "metadata": {},
   "source": [
    "Set initial conditions and boundary conditions\n",
    "----------\n",
    "\n",
    "Load all variable fields and summary data with data from previously run cases."
   ]
  },
  {
   "cell_type": "code",
   "execution_count": 6,
   "metadata": {
    "collapsed": false
   },
   "outputs": [],
   "source": [
    "# load fields\n",
    "temperatureField.load(    inputPath+'temperatureField.h5' )\n",
    "temperatureDotField.load( inputPath+'temperatureDotField.h5' )\n",
    "pressureField.load(       inputPath+'pressureField.h5')\n",
    "velocityField.load(       inputPath+'velocityField.h5')\n",
    "\n",
    "# load past iterations of summary data\n",
    "data = np.loadtxt( inputPath+'Summary.txt', unpack=True )\n",
    "stepsVal = data[0].tolist()\n",
    "timeVal = data[1].tolist()\n",
    "viscdisVal = data[2].tolist()\n",
    "nu0Val = data[3].tolist()\n",
    "nu1Val = data[4].tolist()\n",
    "Avg_tempVal = data[5].tolist()\n",
    "vrmsVal = data[6].tolist()\n",
    "Rms_surfVal = data[7].tolist()\n",
    "Max_vx_surfVal = data[8].tolist()\n",
    "GravworkVal = data[9].tolist()\n",
    "etamaxVal = data[10].tolist()\n",
    "etaminVal = data[11].tolist() "
   ]
  },
  {
   "cell_type": "markdown",
   "metadata": {},
   "source": [
    "**Conditions on the boundaries**"
   ]
  },
  {
   "cell_type": "code",
   "execution_count": 7,
   "metadata": {
    "collapsed": true
   },
   "outputs": [],
   "source": [
    "iWalls = mesh.specialSets[\"MinI_VertexSet\"] + mesh.specialSets[\"MaxI_VertexSet\"]\n",
    "jWalls = mesh.specialSets[\"MinJ_VertexSet\"] + mesh.specialSets[\"MaxJ_VertexSet\"]\n",
    "freeslipBC = uw.conditions.DirichletCondition( variable      = velocityField, \n",
    "                                               indexSetsPerDof = (iWalls, jWalls) )\n",
    "tempBC     = uw.conditions.DirichletCondition( variable      = temperatureField, \n",
    "                                               indexSetsPerDof = (jWalls,) )"
   ]
  },
  {
   "cell_type": "markdown",
   "metadata": {
    "collapsed": false
   },
   "source": [
    "Set up material parameters and functions\n",
    "-----\n"
   ]
  },
  {
   "cell_type": "markdown",
   "metadata": {},
   "source": [
    "**Viscosity field**\n",
    "\n",
    "The viscosity is a function of temperature ($T$), the vertical coordinate ($z$) and the strain rate ($\\dot{\\epsilon}$) and is given by\n",
    "\n",
    "$$\n",
    "    \\eta(T, z, \\dot{\\epsilon}) = 2 \\left( \\frac{1}{\\eta_{lin}(T,z)} + \\frac{1}{\\eta_{plast}(\\dot{\\epsilon})} \\right)^{-1}\n",
    "$$\n",
    "\n",
    "where the linear part is\n",
    "\n",
    "$$\n",
    "    \\eta_{lin}(T, z) = \\exp(-\\gamma_T T + \\gamma_z z)\n",
    "$$\n",
    "\n",
    "with $\\gamma_T = \\ln(\\Delta \\eta_T)$ and $\\gamma_z = \\ln(\\Delta \\eta_z)$. The nonlinear part is\n",
    "\n",
    "$$\n",
    "    \\eta_{plast}(\\dot{\\epsilon}) = \\eta^* + \\frac{\\sigma_{\\gamma}}{\\sqrt{\\dot{\\epsilon} : \\dot{\\epsilon}}}\n",
    "$$\n",
    "\n",
    "where $\\eta^*$ is the effective viscosity at high stresses and $\\sigma_{\\gamma}$ is the yield stress. The values of $\\Delta \\eta_T$, $\\Delta \\eta_z$, $\\eta^*$ and $\\sigma_{\\gamma}$ are assumed to be constant with values dependent on the particular case."
   ]
  },
  {
   "cell_type": "markdown",
   "metadata": {},
   "source": [
    "**Create variables required for plasticity calculations**"
   ]
  },
  {
   "cell_type": "code",
   "execution_count": 8,
   "metadata": {
    "collapsed": false
   },
   "outputs": [],
   "source": [
    "secinv = fn.tensor.second_invariant( fn.tensor.symmetric( velocityField.fn_gradient ) )\n",
    "coordinate = fn.coord()"
   ]
  },
  {
   "cell_type": "markdown",
   "metadata": {},
   "source": [
    "**Setup viscosity functions**\n",
    "\n",
    "Remember to use floats everywhere when setting up functions"
   ]
  },
  {
   "cell_type": "code",
   "execution_count": 9,
   "metadata": {
    "collapsed": false
   },
   "outputs": [],
   "source": [
    "viscosityl1 = fn.math.exp(math.log(ETA_T)*-1.*temperatureField)\n",
    "viscosityl2 = fn.math.exp((math.log(ETA_T)*-1.*temperatureField) + (1.-coordinate[1])*math.log(ETA_Y))\n",
    "\n",
    "#Von Mises effective viscosity\n",
    "viscosityp = ETA0 + YSTRESS/(secinv/math.sqrt(0.5)) #extra factor to account for underworld second invariant form\n",
    "\n",
    "if CASE == 1:\n",
    "    fn_viscosity = viscosityl1\n",
    "elif CASE == 2:\n",
    "    fn_viscosity = 2./(1./viscosityl1 + 1./viscosityp)\n",
    "elif CASE == 3:\n",
    "    fn_viscosity = viscosityl2\n",
    "else:\n",
    "    fn_viscosity = 2./(1./viscosityl2 + 1./viscosityp)"
   ]
  },
  {
   "cell_type": "markdown",
   "metadata": {},
   "source": [
    "**Add functions for density and buoyancy**"
   ]
  },
  {
   "cell_type": "code",
   "execution_count": 10,
   "metadata": {
    "collapsed": true
   },
   "outputs": [],
   "source": [
    "densityFn = RA*temperatureField\n",
    "\n",
    "# define our vertical unit vector using a python tuple (this will be automatically converted to a function)\n",
    "z_hat = ( 0.0, 1.0 )\n",
    "\n",
    "# now create a buoyancy force vector using the density (FEvariable) and the vertical unit vector. \n",
    "buoyancyFn = densityFn * z_hat"
   ]
  },
  {
   "cell_type": "markdown",
   "metadata": {},
   "source": [
    "Build the Stokes system and solvers\n",
    "------\n",
    "\n",
    "Setup the Stokes system with linear or nonlinear visocity viscosity depending on case."
   ]
  },
  {
   "cell_type": "code",
   "execution_count": 11,
   "metadata": {
    "collapsed": false
   },
   "outputs": [],
   "source": [
    "stokesPIC = uw.systems.Stokes(velocityField=velocityField, \n",
    "                              pressureField=pressureField,\n",
    "                              conditions=[freeslipBC,],\n",
    "                              fn_viscosity=fn.exception.SafeMaths(fn_viscosity), \n",
    "                              fn_bodyforce=buoyancyFn)"
   ]
  },
  {
   "cell_type": "markdown",
   "metadata": {},
   "source": [
    "Setup solver for the Stokes system of equations"
   ]
  },
  {
   "cell_type": "code",
   "execution_count": 12,
   "metadata": {
    "collapsed": false
   },
   "outputs": [],
   "source": [
    "solver = uw.systems.Solver( stokesPIC )"
   ]
  },
  {
   "cell_type": "markdown",
   "metadata": {},
   "source": [
    "We do one solve for initial pressure and velocity with linear viscosity to get the initial strain rate invariant. This solve step also calculates a 'guess' of the the velocity field based on the linear system, which is used later in the non-linear solver."
   ]
  },
  {
   "cell_type": "code",
   "execution_count": 13,
   "metadata": {
    "collapsed": false
   },
   "outputs": [],
   "source": [
    "solver.solve( nonLinearIterate=False )"
   ]
  },
  {
   "cell_type": "markdown",
   "metadata": {},
   "source": [
    "Create an advective-diffusive system\n",
    "-----\n",
    "\n",
    "Setup the system in underworld by flagging the temperature and velocity field variables."
   ]
  },
  {
   "cell_type": "code",
   "execution_count": 14,
   "metadata": {
    "collapsed": false
   },
   "outputs": [],
   "source": [
    "advDiff = uw.systems.AdvectionDiffusion( temperatureField, temperatureDotField, velocityField,\n",
    "                                         fn_diffusivity=1., conditions=[tempBC,] )"
   ]
  },
  {
   "cell_type": "markdown",
   "metadata": {},
   "source": [
    "Metrics for benchmark\n",
    "-----\n",
    "\n",
    "Define diagnostic functions to be used in the time loop and/or measured after reaching steady state:\n",
    "\n",
    "* Average temperature\n",
    "$$  \\langle T \\rangle  = \\int^1_0 \\int^1_0 T \\, dxdy $$\n",
    "* Top and bottom Nusselt numbers\n",
    "$$Nu_{top/bot} = - \\left. \\int^1_0 \\frac{\\partial T}{\\partial y} \\right|_{y=1/y=0} \\, dx$$\n",
    "* RMS velocity over the whole domain, surface and max velocity at surface\n",
    "$$u_{RMS} = \\left( \\int_0^1 \\int_0^1 \\left( u_x^2 + u_y^2 \\right) dx dy \\right)^{1/2}$$\n",
    "$$u_{RMS}^{surf} = \\left( \\left. \\int_0^1 u_x^2\\right|_{y=1} dx \\right)^{1/2}$$\n",
    "$$u_{max}^{surf} = \\left. \\max(u_x)\\right|_{y=1}$$\n",
    "* max and min viscosity over the whole domain\n",
    "$$\\eta_{max/min} = \\max / \\min \\left( \\eta\\left(x,y\\right) \\right)$$\n",
    "* average rate of work done against gravity\n",
    "$$\\langle W \\rangle = \\int^1_0 \\int^1_0 T u_y \\, dx dy$$\n",
    "* and the average rate of viscous dissipation\n",
    "$$\\langle \\Phi \\rangle = \\int^1_0 \\int^1_0 \\tau_{ij} \\dot \\epsilon_{ij} \\, dx dy$$\n",
    "\n",
    "* In steady state, if thermal energy is accurately conserved, the difference between $\\langle W \\rangle$ and $\\langle \\Phi \\rangle / Ra$ must vanish, so also reported is the percentage error: \n",
    "\n",
    "$$ \\delta = \\frac{\\lvert \\langle W \\rangle - \\frac{\\langle \\Phi \\rangle}{Ra} \\rvert}{max \\left(  \\langle W \\rangle,  \\frac{\\langle \\Phi \\rangle}{Ra}\\right)} \\times 100% $$"
   ]
  },
  {
   "cell_type": "markdown",
   "metadata": {},
   "source": [
    "**Setup volume integrals used in metric functions**"
   ]
  },
  {
   "cell_type": "code",
   "execution_count": 15,
   "metadata": {
    "collapsed": false
   },
   "outputs": [],
   "source": [
    "# temperature\n",
    "tempint = uw.utils.Integral( temperatureField, mesh )\n",
    "# area\n",
    "areaint = uw.utils.Integral( 1.,               mesh )\n",
    "# velocity squared\n",
    "v2int   = uw.utils.Integral(fn.math.dot(velocityField,velocityField), mesh)\n",
    "# work done\n",
    "dwint   = uw.utils.Integral(temperatureField*velocityField[1], mesh)\n",
    "# viscous dissipation\n",
    "sinner = fn.math.dot(secinv,secinv)\n",
    "vdint = uw.utils.Integral((4.*fn_viscosity*sinner), mesh)"
   ]
  },
  {
   "cell_type": "markdown",
   "metadata": {},
   "source": [
    "**Setup surface integrals used in metric functions**"
   ]
  },
  {
   "cell_type": "code",
   "execution_count": 16,
   "metadata": {
    "collapsed": false
   },
   "outputs": [],
   "source": [
    "rmsSurfInt = uw.utils.Integral( fn=velocityField[0]*velocityField[0], mesh=mesh, integrationType='Surface', \n",
    "                          surfaceIndexSet=mesh.specialSets[\"MaxJ_VertexSet\"])\n",
    "nuTop      = uw.utils.Integral( fn=temperatureField.fn_gradient[1], mesh=mesh, integrationType='Surface', \n",
    "                          surfaceIndexSet=mesh.specialSets[\"MaxJ_VertexSet\"])\n",
    "nuBottom   = uw.utils.Integral( fn=temperatureField.fn_gradient[1], mesh=mesh, integrationType='Surface', \n",
    "                          surfaceIndexSet=mesh.specialSets[\"MinJ_VertexSet\"])"
   ]
  },
  {
   "cell_type": "markdown",
   "metadata": {},
   "source": [
    "**Define diagnostic functions using integrals**"
   ]
  },
  {
   "cell_type": "code",
   "execution_count": 17,
   "metadata": {
    "collapsed": false
   },
   "outputs": [],
   "source": [
    "def avg_temp():\n",
    "    return tempint.evaluate()[0]/areaint.evaluate()[0]\n",
    "\n",
    "def nusseltTB(temp_field, mesh):\n",
    "    return -nuTop.evaluate()[0], -nuBottom.evaluate()[0]\n",
    "\n",
    "def rms():\n",
    "    return math.sqrt(v2int.evaluate()[0]/areaint.evaluate()[0])\n",
    "\n",
    "def rms_surf():\n",
    "    return math.sqrt(rmsSurfInt.evaluate()[0])\n",
    "\n",
    "def max_vx_surf(velfield, mesh):\n",
    "    vuvelxfn = fn.view.min_max(velfield[0])\n",
    "    vuvelxfn.evaluate(mesh.specialSets[\"MaxJ_VertexSet\"])\n",
    "    return vuvelxfn.max_global()\n",
    "\n",
    "def gravwork(workfn):\n",
    "    return workfn.evaluate()[0]\n",
    "\n",
    "def viscdis(vdissfn):\n",
    "    return vdissfn.evaluate()[0]\n",
    "\n",
    "def visc_extr(viscfn):\n",
    "    vuviscfn = fn.view.min_max(viscfn)\n",
    "    vuviscfn.evaluate(mesh)\n",
    "    return vuviscfn.max_global(), vuviscfn.min_global()"
   ]
  },
  {
   "cell_type": "code",
   "execution_count": 18,
   "metadata": {
    "collapsed": false
   },
   "outputs": [],
   "source": [
    "#Fields for saving data / fields\n",
    "rmsField = uw.mesh.MeshVariable( mesh=mesh, nodeDofCount=1 )\n",
    "rmsfn    = fn.math.sqrt( fn.math.dot( velocityField, velocityField ) )\n",
    "rmsdata  = rmsfn.evaluate( mesh )\n",
    "rmsField.data[:] = rmsdata \n",
    "\n",
    "viscField = uw.mesh.MeshVariable( mesh=mesh, nodeDofCount=1 )\n",
    "viscdata  = fn_viscosity.evaluate( mesh )\n",
    "viscField.data[:] = viscdata\n",
    "\n",
    "stressField = uw.mesh.MeshVariable( mesh=mesh, nodeDofCount=1)\n",
    "srtdata     = fn.tensor.second_invariant( fn.tensor.symmetric( velocityField.fn_gradient ) )\n",
    "rostfield   = srtdata.evaluate( mesh )\n",
    "stressinv   = 2*viscdata*rostfield[:]\n",
    "stressField.data[:] = stressinv"
   ]
  },
  {
   "cell_type": "markdown",
   "metadata": {},
   "source": [
    "Main simulation loop\n",
    "------\n",
    "\n",
    "Normally a loop over time increments would be added here. As we are only interested in the post-analysis a single time step will be taken to ensure that all analysis fields are live. This step will involve the non-linear Stokes system solver."
   ]
  },
  {
   "cell_type": "code",
   "execution_count": 19,
   "metadata": {
    "collapsed": false
   },
   "outputs": [],
   "source": [
    "steps_todo = 1"
   ]
  },
  {
   "cell_type": "markdown",
   "metadata": {
    "collapsed": false
   },
   "source": [
    "Initialise steps and time. Set to zero unless loading values from file."
   ]
  },
  {
   "cell_type": "code",
   "execution_count": 20,
   "metadata": {
    "collapsed": false
   },
   "outputs": [
    {
     "name": "stdout",
     "output_type": "stream",
     "text": [
      "This model has previously completed 134500 steps to get to time = 0.414\n"
     ]
    }
   ],
   "source": [
    "try:\n",
    "    realtime = timeVal[-1]\n",
    "    step = int(stepsVal[-1])\n",
    "except:\n",
    "    realtime = 0.0\n",
    "    step = 0\n",
    "steps_end = step + steps_todo\n",
    "steps_output = 100\n",
    "steps_output = max(steps_output,1)\n",
    "print('This model has previously completed {0:6d} steps to get to time = {1:.3f}'.format(step,realtime))"
   ]
  },
  {
   "cell_type": "code",
   "execution_count": 21,
   "metadata": {
    "collapsed": false
   },
   "outputs": [],
   "source": [
    "# initialise timer for computation\n",
    "start = time.clock()\n",
    "# start loop\n",
    "while step < steps_end:\n",
    "    # Solve non-linear system\n",
    "    solver.solve(nonLinearIterate=True)\n",
    "    dt = advDiff.get_max_dt()\n",
    "    if step == 0:\n",
    "        dt = 0.\n",
    "    # Advect using this timestep size   \n",
    "    advDiff.integrate(dt)\n",
    "    # Increment\n",
    "    realtime += dt\n",
    "    step += 1\n",
    "    # Calculate the Metrics, only on 1 of the processors:\n",
    "    Avg_temp = avg_temp()\n",
    "    Rms = rms()\n",
    "    Rms_surf = rms_surf()\n",
    "    Max_vx_surf = max_vx_surf(velocityField, mesh)\n",
    "    Gravwork = gravwork(dwint)\n",
    "    Viscdis = viscdis(vdint)\n",
    "    nu1, nu0 = nusseltTB(temperatureField, mesh) # return top then bottom\n",
    "    etamax, etamin = visc_extr(fn_viscosity)\n",
    "    # store results\n",
    "    stepsVal.append(       step)\n",
    "    timeVal.append(        realtime )\n",
    "    viscdisVal.append(     Viscdis )\n",
    "    nu0Val.append(         nu0 )\n",
    "    nu1Val.append(         nu1 )\n",
    "    Avg_tempVal.append(    Avg_temp )\n",
    "    vrmsVal.append(        Rms )\n",
    "    Rms_surfVal.append(    Rms_surf )\n",
    "    Max_vx_surfVal.append( Max_vx_surf )\n",
    "    GravworkVal.append(    Gravwork )\n",
    "    etamaxVal.append(      etamax )\n",
    "    etaminVal.append(      etamin )\n",
    "\n",
    "    # output fields and summary info to file (output graphics can also be added here)\n",
    "    if uw.rank()==0:\n",
    "        if (step % steps_output == 0) or (step == steps_end-1):\n",
    "            print 'step =',step, '; CPU time =', time.clock()-start, '; vrms = ',Rms\n",
    "            # Temperature\n",
    "            fnametemp = \"temperatureField_\" + str(step).zfill(6) + \".h5\"\n",
    "            fullpath = os.path.join(outputPath + \"files/\" + fnametemp)\n",
    "            temperatureField.save(fullpath)\n",
    "            # Temperature time derivative\n",
    "            fnametemp = \"temperatureDotField_\" + str(step).zfill(6) + \".h5\"\n",
    "            fullpath = os.path.join(outputPath + \"files/\" + fnametemp)\n",
    "            temperatureDotField.save(fullpath)\n",
    "            # Pressure\n",
    "            fnametemp = \"pressureField_\" + str(step).zfill(6) + \".h5\"\n",
    "            fullpath = os.path.join(outputPath + \"files/\" + fnametemp)\n",
    "            pressureField.save(fullpath)\n",
    "            # Velocity\n",
    "            fnametemp = \"velocityField_\" + str(step).zfill(6) + \".h5\"\n",
    "            fullpath = os.path.join(outputPath + \"files/\" + fnametemp)\n",
    "            velocityField.save(fullpath)\n",
    "\n",
    "            np.savetxt( outputPath + 'Summary.txt', np.c_[stepsVal, timeVal, viscdisVal, nu0Val, \n",
    "                                                          nu1Val, Avg_tempVal, vrmsVal, Rms_surfVal,\n",
    "                                                         Max_vx_surfVal, GravworkVal, etamaxVal, etaminVal], \n",
    "                   header=\"Steps, Time, visc, Nusselt bottom/top, av_T, vrms, surf_rms, surf_max, grav, etamax, etamin\" )"
   ]
  },
  {
   "cell_type": "markdown",
   "metadata": {},
   "source": [
    "Post-simulation analysis\n",
    "-------\n",
    "\n",
    "Here we will calculate the quantities specified for this case in Tosi et al. (2015) and finally compare them to the values given in their Table 2."
   ]
  },
  {
   "cell_type": "markdown",
   "metadata": {},
   "source": [
    "**Plot final temperature and velocity fields**"
   ]
  },
  {
   "cell_type": "code",
   "execution_count": 22,
   "metadata": {
    "collapsed": false
   },
   "outputs": [
    {
     "data": {
      "text/html": [
       "<img src='data:image/png;base64,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'>"
      ],
      "text/plain": [
       "<IPython.core.display.HTML object>"
      ]
     },
     "metadata": {},
     "output_type": "display_data"
    }
   ],
   "source": [
    "velmax = np.amax(velocityField.data[:])\n",
    "if(velmax==0.0): velmax = 1.0\n",
    "fig1 = glucifer.Figure()\n",
    "fig1.append( glucifer.objects.Surface(mesh, temperatureField) )\n",
    "fig1.append( glucifer.objects.VectorArrows( mesh, velocityField/velmax, scaling=0.1, arrowHead=0.2) )\n",
    "fig1.show()"
   ]
  },
  {
   "cell_type": "markdown",
   "metadata": {},
   "source": [
    "**Calculate quantities for benchmark comparison**"
   ]
  },
  {
   "cell_type": "code",
   "execution_count": 23,
   "metadata": {
    "collapsed": true
   },
   "outputs": [],
   "source": [
    "tempAv = Avg_tempVal[-1]\n",
    "nuTop = nu1Val[-1]\n",
    "nuBot = nu0Val[-1]\n",
    "uRMS = vrmsVal[-1]\n",
    "uSurfRMS = Rms_surfVal[-1]\n",
    "uSurfMax = Max_vx_surfVal[-1]\n",
    "etaMin = etaminVal[-1]\n",
    "etaMax = etamaxVal[-1]\n",
    "workDone = GravworkVal[-1]\n",
    "phi = viscdisVal[-1]/100.\n",
    "delta = abs(workDone - phi)/max(workDone, phi) * 100."
   ]
  },
  {
   "cell_type": "markdown",
   "metadata": {},
   "source": [
    "**Output all quantities for this case**"
   ]
  },
  {
   "cell_type": "code",
   "execution_count": 24,
   "metadata": {
    "collapsed": false
   },
   "outputs": [
    {
     "name": "stdout",
     "output_type": "stream",
     "text": [
      "<T>        = 0.7737\n",
      "Nu_top     = 3.4086\n",
      "Nu_bot     = 3.4065\n",
      "u_rms      = 247.0577\n",
      "u^surf_rms = 1.8124\n",
      "u^surf_max = 2.5398\n",
      "W          = 2.4414\n",
      "Phi        = 2.4478\n",
      "delta      = 0.2630%\n"
     ]
    }
   ],
   "source": [
    "print('<T>        = {0:.4f}'.format(tempAv))\n",
    "print('Nu_top     = {0:.4f}'.format(nuTop))\n",
    "print('Nu_bot     = {0:.4f}'.format(nuBot))\n",
    "print('u_rms      = {0:.4f}'.format(uRMS))\n",
    "print('u^surf_rms = {0:.4f}'.format(uSurfRMS))\n",
    "print('u^surf_max = {0:.4f}'.format(uSurfMax))\n",
    "print('W          = {0:.4f}'.format(workDone))\n",
    "print('Phi        = {0:.4f}'.format(phi))\n",
    "print('delta      = {0:.4f}%'.format(delta))"
   ]
  },
  {
   "cell_type": "markdown",
   "metadata": {},
   "source": [
    "**Comparison values from Tosi et al. (2015)**\n",
    "\n",
    "The expected benchmark values from Table 2 of Tosi et al. (2015) for case 1 are given in the table below. The minimum and maximum values from each of the participating codes are given here to provide an expected range for each quantity.\n",
    "\n",
    "| Case 1  | $<$$T$$>$ | $Nu_{top}$ | $Nu_{bot}$ | $u_{RMS}$ | $u_{RMS}^{surf}$ | $u_{max}^{surf}$ | $<$$W$$>$ |  $<$$\\Phi$$>$/Ra | $\\delta$ |\n",
    "|:--------|:---------:|:----------:|:----------:|:---------:|:----------------:|:----------------:|:---------:|:------------------:|:--------:|\n",
    "| Min     | 0.7758 | 3.4091 | 3.4091 | 248.9252 | 1.8298 | 2.5516 | 2.3690 | 2.3920 | $<$0.01% |\n",
    "| Max     | 0.7768 | 3.4305 | 3.4259 | 252.0906 | 1.8999 | 2.6477 | 2.4583 | 2.4333 | 1.78% |\n",
    "\n",
    "Note that the values from the spectral code MC3D are not used to construct the min/max values here, as they are outlier values."
   ]
  }
 ],
 "metadata": {
  "kernelspec": {
   "display_name": "Python 2",
   "language": "python",
   "name": "python2"
  },
  "language_info": {
   "codemirror_mode": {
    "name": "ipython",
    "version": 2
   },
   "file_extension": ".py",
   "mimetype": "text/x-python",
   "name": "python",
   "nbconvert_exporter": "python",
   "pygments_lexer": "ipython2",
   "version": "2.7.10"
  }
 },
 "nbformat": 4,
 "nbformat_minor": 0
}
