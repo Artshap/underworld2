{
 "cells": [
  {
   "cell_type": "markdown",
   "metadata": {
    "collapsed": true
   },
   "source": [
    "Viscoplastic thermal convection in a 2-D square box: Tosi et al. 2015\n",
    "=====\n",
    "\n",
    "This series of notebooks generates benchmark models from the Tosi et al. (2015) in Underworld2. The Underworld2 results are then directly compared to the results from Table 2 of Tosi et al. (2015) the paper for each case. The notebooks are broken into a general notebook for reproducing the models from scratch and 5 post-analysis notebooks which look at the results Underworld2 gives for each case after running to equilibrium. \n",
    "\n",
    "Case 1: Stagnant lid\n",
    "-------\n",
    "\n",
    "This case has a temperature-dependent linear rheology which results in a stagnant lid mode of convection. \n",
    "The parameters used for case 1 are: $Ra = 10^2$, $\\Delta \\eta_T = 10^5$ and $\\Delta \\eta_z = 1$.\n",
    "\n",
    "\n",
    "References\n",
    "-----\n",
    "\n",
    "1. Tosi, Nicola and Stein, Claudia and Noack, Lena and H&uuml;ttig, Christian and Maierov&aacute;, Petra and Samuel, Henri and Davies, DR and Wilson, CR and Kramer, SC and Thieulot, Cedric and others. 2015. _A community benchmark for viscoplastic thermal convection in a 2-D square box_.\n",
    "\n"
   ]
  },
  {
   "cell_type": "markdown",
   "metadata": {},
   "source": [
    "Load python functions needed for underworld. Some additional python functions from os, math and numpy used later on."
   ]
  },
  {
   "cell_type": "code",
   "execution_count": 1,
   "metadata": {
    "collapsed": false
   },
   "outputs": [],
   "source": [
    "%matplotlib inline\n",
    "import underworld as uw\n",
    "import math\n",
    "from underworld import function as fn\n",
    "import glucifer\n",
    "import matplotlib.pyplot as pyplot\n",
    "import matplotlib.pylab as pylab\n",
    "import time\n",
    "import numpy as np\n",
    "import os"
   ]
  },
  {
   "cell_type": "markdown",
   "metadata": {},
   "source": [
    "Set physical constants and parameters, including the Rayleigh number (*Ra*) and viscosity constants ($\\eta^*$ and $\\eta_T$) which are common to all Tosi et al cases."
   ]
  },
  {
   "cell_type": "code",
   "execution_count": 2,
   "metadata": {
    "collapsed": false
   },
   "outputs": [],
   "source": [
    "RA  = 1e2        # Rayleigh number\n",
    "ETA_T = 1e5      # common viscosity constant\n",
    "TS  = 0          # surface temperature\n",
    "TB  = 1          # bottom boundary temperature (melting point)\n",
    "ETA0 = 1e-3      # viscosity constant eta^* in Tosi et al\n",
    "TMAX = 3.0\n",
    "IMAX = 1000"
   ]
  },
  {
   "cell_type": "markdown",
   "metadata": {},
   "source": [
    "Select case 1 of Tosi et al (2015) and set constants as required."
   ]
  },
  {
   "cell_type": "code",
   "execution_count": 3,
   "metadata": {
    "collapsed": false
   },
   "outputs": [],
   "source": [
    "CASE = 1\n",
    "ETA_Y = 1.\n",
    "YSTRESS = 1."
   ]
  },
  {
   "cell_type": "markdown",
   "metadata": {},
   "source": [
    "Set input and output file directories"
   ]
  },
  {
   "cell_type": "code",
   "execution_count": 4,
   "metadata": {
    "collapsed": false
   },
   "outputs": [],
   "source": [
    "# input file directory\n",
    "inputPath  = 'TosiInput/case' + str(CASE) + \"/\"\n",
    "# output files\n",
    "outputPath = 'TosiOutput/'\n",
    "filePath   = outputPath+'files'\n",
    "# make directories if they don't exist\n",
    "if not os.path.isdir(outputPath):\n",
    "    os.makedirs(outputPath)\n",
    "if not os.path.isdir(filePath):\n",
    "    os.makedirs(filePath)"
   ]
  },
  {
   "cell_type": "markdown",
   "metadata": {},
   "source": [
    "Create mesh and finite element variables\n",
    "------\n",
    "\n",
    "Set up mesh and field variables that are solved on the mesh."
   ]
  },
  {
   "cell_type": "code",
   "execution_count": 5,
   "metadata": {
    "collapsed": false
   },
   "outputs": [],
   "source": [
    "res = 128\n",
    "mesh = uw.mesh.FeMesh_Cartesian( elementType = (\"Q1/dQ0\"), \n",
    "                                 elementRes  = (res, res), \n",
    "                                 minCoord    = (0., 0.), \n",
    "                                 maxCoord    = (1., 1.))\n",
    "\n",
    "velocityField       = uw.mesh.MeshVariable( mesh=mesh,         nodeDofCount=2 )\n",
    "pressureField       = uw.mesh.MeshVariable( mesh=mesh.subMesh, nodeDofCount=1 )\n",
    "temperatureField    = uw.mesh.MeshVariable( mesh=mesh,         nodeDofCount=1 )\n",
    "temperatureDotField = uw.mesh.MeshVariable( mesh=mesh,         nodeDofCount=1 )"
   ]
  },
  {
   "cell_type": "markdown",
   "metadata": {},
   "source": [
    "Set initial conditions and boundary conditions\n",
    "----------\n",
    "\n",
    "Load all variable fields and summary data with data from previously run cases."
   ]
  },
  {
   "cell_type": "code",
   "execution_count": 6,
   "metadata": {
    "collapsed": false
   },
   "outputs": [],
   "source": [
    "# load fields\n",
    "temperatureField.load(    inputPath+'temperatureField.h5' )\n",
    "temperatureDotField.load( inputPath+'temperatureDotField.h5' )\n",
    "pressureField.load(       inputPath+'pressureField.h5')\n",
    "velocityField.load(       inputPath+'velocityField.h5')\n",
    "\n",
    "# load past iterations of summary data\n",
    "data = np.loadtxt( inputPath+'Summary.txt', unpack=True )\n",
    "stepsVal = data[0].tolist()\n",
    "timeVal = data[1].tolist()\n",
    "viscdisVal = data[2].tolist()\n",
    "nu0Val = data[3].tolist()\n",
    "nu1Val = data[4].tolist()\n",
    "Avg_tempVal = data[5].tolist()\n",
    "vrmsVal = data[6].tolist()\n",
    "Rms_surfVal = data[7].tolist()\n",
    "Max_vx_surfVal = data[8].tolist()\n",
    "GravworkVal = data[9].tolist()\n",
    "etamaxVal = data[10].tolist()\n",
    "etaminVal = data[11].tolist() "
   ]
  },
  {
   "cell_type": "markdown",
   "metadata": {},
   "source": [
    "**Conditions on the boundaries**"
   ]
  },
  {
   "cell_type": "code",
   "execution_count": 7,
   "metadata": {
    "collapsed": true
   },
   "outputs": [],
   "source": [
    "iWalls = mesh.specialSets[\"MinI_VertexSet\"] + mesh.specialSets[\"MaxI_VertexSet\"]\n",
    "jWalls = mesh.specialSets[\"MinJ_VertexSet\"] + mesh.specialSets[\"MaxJ_VertexSet\"]\n",
    "freeslipBC = uw.conditions.DirichletCondition( variable      = velocityField, \n",
    "                                               indexSetsPerDof = (iWalls, jWalls) )\n",
    "tempBC     = uw.conditions.DirichletCondition( variable      = temperatureField, \n",
    "                                               indexSetsPerDof = (jWalls,) )"
   ]
  },
  {
   "cell_type": "markdown",
   "metadata": {
    "collapsed": false
   },
   "source": [
    "Set up material parameters and functions\n",
    "-----\n"
   ]
  },
  {
   "cell_type": "markdown",
   "metadata": {},
   "source": [
    "**Viscosity field**\n",
    "\n",
    "The viscosity is a function of temperature ($T$), the vertical coordinate ($z$) and the strain rate ($\\dot{\\epsilon}$) and is given by\n",
    "\n",
    "$$\n",
    "    \\eta(T, z, \\dot{\\epsilon}) = 2 \\left( \\frac{1}{\\eta_{lin}(T,z)} + \\frac{1}{\\eta_{plast}(\\dot{\\epsilon})} \\right)^{-1}\n",
    "$$\n",
    "\n",
    "where the linear part is\n",
    "\n",
    "$$\n",
    "    \\eta_{lin}(T, z) = \\exp(-\\gamma_T T + \\gamma_z z)\n",
    "$$\n",
    "\n",
    "with $\\gamma_T = \\ln(\\Delta \\eta_T)$ and $\\gamma_z = \\ln(\\Delta \\eta_z)$. The nonlinear part is\n",
    "\n",
    "$$\n",
    "    \\eta_{plast}(\\dot{\\epsilon}) = \\eta^* + \\frac{\\sigma_{\\gamma}}{\\sqrt{\\dot{\\epsilon} : \\dot{\\epsilon}}}\n",
    "$$\n",
    "\n",
    "where $\\eta^*$ is the effective viscosity at high stresses and $\\sigma_{\\gamma}$ is the yield stress. The values of $\\Delta \\eta_T$, $\\Delta \\eta_z$, $\\eta^*$ and $\\sigma_{\\gamma}$ are assumed to be constant with values dependent on the particular case."
   ]
  },
  {
   "cell_type": "markdown",
   "metadata": {},
   "source": [
    "**Create variables required for plasticity calculations**"
   ]
  },
  {
   "cell_type": "code",
   "execution_count": 8,
   "metadata": {
    "collapsed": false
   },
   "outputs": [],
   "source": [
    "secinv = fn.tensor.second_invariant( fn.tensor.symmetric( velocityField.fn_gradient ) )\n",
    "coordinate = fn.coord()"
   ]
  },
  {
   "cell_type": "markdown",
   "metadata": {},
   "source": [
    "**Setup viscosity functions**\n",
    "\n",
    "Remember to use floats everywhere when setting up functions"
   ]
  },
  {
   "cell_type": "code",
   "execution_count": 9,
   "metadata": {
    "collapsed": false
   },
   "outputs": [],
   "source": [
    "viscosityl1 = fn.math.exp(math.log(ETA_T)*-1.*temperatureField)\n",
    "viscosityl2 = fn.math.exp((math.log(ETA_T)*-1.*temperatureField) + (1.-coordinate[1])*math.log(ETA_Y))\n",
    "\n",
    "#Von Mises effective viscosity\n",
    "viscosityp = ETA0 + YSTRESS/(secinv/math.sqrt(0.5)) #extra factor to account for underworld second invariant form\n",
    "\n",
    "if CASE == 1:\n",
    "    fn_viscosity = viscosityl1\n",
    "elif CASE == 2:\n",
    "    fn_viscosity = 2./(1./viscosityl1 + 1./viscosityp)\n",
    "elif CASE == 3:\n",
    "    fn_viscosity = viscosityl2\n",
    "else:\n",
    "    fn_viscosity = 2./(1./viscosityl2 + 1./viscosityp)"
   ]
  },
  {
   "cell_type": "markdown",
   "metadata": {},
   "source": [
    "**Add functions for density and buoyancy**"
   ]
  },
  {
   "cell_type": "code",
   "execution_count": 10,
   "metadata": {
    "collapsed": true
   },
   "outputs": [],
   "source": [
    "densityFn = RA*temperatureField\n",
    "\n",
    "# define our vertical unit vector using a python tuple (this will be automatically converted to a function)\n",
    "z_hat = ( 0.0, 1.0 )\n",
    "\n",
    "# now create a buoyancy force vector using the density (FEvariable) and the vertical unit vector. \n",
    "buoyancyFn = densityFn * z_hat"
   ]
  },
  {
   "cell_type": "markdown",
   "metadata": {},
   "source": [
    "Build the Stokes system and solvers\n",
    "------\n",
    "\n",
    "Setup the Stokes system with linear or nonlinear visocity viscosity depending on case."
   ]
  },
  {
   "cell_type": "code",
   "execution_count": 11,
   "metadata": {
    "collapsed": false
   },
   "outputs": [],
   "source": [
    "stokesPIC = uw.systems.Stokes(velocityField=velocityField, \n",
    "                              pressureField=pressureField,\n",
    "                              conditions=[freeslipBC,],\n",
    "                              fn_viscosity=fn.exception.SafeMaths(fn_viscosity), \n",
    "                              fn_bodyforce=buoyancyFn)"
   ]
  },
  {
   "cell_type": "markdown",
   "metadata": {},
   "source": [
    "Setup solver for the Stokes system of equations"
   ]
  },
  {
   "cell_type": "code",
   "execution_count": 12,
   "metadata": {
    "collapsed": false
   },
   "outputs": [],
   "source": [
    "solver = uw.systems.Solver( stokesPIC )"
   ]
  },
  {
   "cell_type": "markdown",
   "metadata": {},
   "source": [
    "We do one solve for initial pressure and velocity with linear viscosity to get the initial strain rate invariant. This solve step also calculates a 'guess' of the the velocity field based on the linear system, which is used later in the non-linear solver."
   ]
  },
  {
   "cell_type": "code",
   "execution_count": 13,
   "metadata": {
    "collapsed": false
   },
   "outputs": [],
   "source": [
    "solver.solve( nonLinearIterate=False )"
   ]
  },
  {
   "cell_type": "markdown",
   "metadata": {},
   "source": [
    "Create an advective-diffusive system\n",
    "-----\n",
    "\n",
    "Setup the system in underworld by flagging the temperature and velocity field variables."
   ]
  },
  {
   "cell_type": "code",
   "execution_count": 14,
   "metadata": {
    "collapsed": false
   },
   "outputs": [],
   "source": [
    "advDiff = uw.systems.AdvectionDiffusion( temperatureField, temperatureDotField, velocityField,\n",
    "                                         fn_diffusivity=1., conditions=[tempBC,] )"
   ]
  },
  {
   "cell_type": "markdown",
   "metadata": {},
   "source": [
    "Metrics for benchmark\n",
    "-----\n",
    "\n",
    "Define diagnostic functions to be used in the time loop and/or measured after reaching steady state:\n",
    "\n",
    "* Average temperature\n",
    "$$  \\langle T \\rangle  = \\int^1_0 \\int^1_0 T \\, dxdy $$\n",
    "* Top and bottom Nusselt numbers\n",
    "$$Nu_{top/bot} = - \\left. \\int^1_0 \\frac{\\partial T}{\\partial y} \\right|_{y=1/y=0} \\, dx$$\n",
    "* RMS velocity over the whole domain, surface and max velocity at surface\n",
    "$$u_{RMS} = \\left( \\int_0^1 \\int_0^1 \\left( u_x^2 + u_y^2 \\right) dx dy \\right)^{1/2}$$\n",
    "$$u_{RMS}^{surf} = \\left( \\left. \\int_0^1 u_x^2\\right|_{y=1} dx \\right)^{1/2}$$\n",
    "$$u_{max}^{surf} = \\left. \\max(u_x)\\right|_{y=1}$$\n",
    "* max and min viscosity over the whole domain\n",
    "$$\\eta_{max/min} = \\max / \\min \\left( \\eta\\left(x,y\\right) \\right)$$\n",
    "* average rate of work done against gravity\n",
    "$$\\langle W \\rangle = \\int^1_0 \\int^1_0 T u_y \\, dx dy$$\n",
    "* and the average rate of viscous dissipation\n",
    "$$\\langle \\Phi \\rangle = \\int^1_0 \\int^1_0 \\tau_{ij} \\dot \\epsilon_{ij} \\, dx dy$$\n",
    "\n",
    "* In steady state, if thermal energy is accurately conserved, the difference between $\\langle W \\rangle$ and $\\langle \\Phi \\rangle / Ra$ must vanish, so also reported is the percentage error: \n",
    "\n",
    "$$ \\delta = \\frac{\\lvert \\langle W \\rangle - \\frac{\\langle \\Phi \\rangle}{Ra} \\rvert}{max \\left(  \\langle W \\rangle,  \\frac{\\langle \\Phi \\rangle}{Ra}\\right)} \\times 100% $$"
   ]
  },
  {
   "cell_type": "markdown",
   "metadata": {},
   "source": [
    "**Setup volume integrals used in metric functions**"
   ]
  },
  {
   "cell_type": "code",
   "execution_count": 15,
   "metadata": {
    "collapsed": false
   },
   "outputs": [],
   "source": [
    "# temperature\n",
    "tempint = uw.utils.Integral( temperatureField, mesh )\n",
    "# area\n",
    "areaint = uw.utils.Integral( 1.,               mesh )\n",
    "# velocity squared\n",
    "v2int   = uw.utils.Integral(fn.math.dot(velocityField,velocityField), mesh)\n",
    "# work done\n",
    "dwint   = uw.utils.Integral(temperatureField*velocityField[1], mesh)\n",
    "# viscous dissipation\n",
    "sinner = fn.math.dot(secinv,secinv)\n",
    "vdint = uw.utils.Integral((4.*fn_viscosity*sinner), mesh)"
   ]
  },
  {
   "cell_type": "markdown",
   "metadata": {},
   "source": [
    "**Setup surface integrals used in metric functions**"
   ]
  },
  {
   "cell_type": "code",
   "execution_count": 16,
   "metadata": {
    "collapsed": false
   },
   "outputs": [],
   "source": [
    "rmsSurfInt = uw.utils.Integral( fn=velocityField[0]*velocityField[0], mesh=mesh, integrationType='Surface', \n",
    "                          surfaceIndexSet=mesh.specialSets[\"MaxJ_VertexSet\"])\n",
    "nuTop      = uw.utils.Integral( fn=temperatureField.fn_gradient[1], mesh=mesh, integrationType='Surface', \n",
    "                          surfaceIndexSet=mesh.specialSets[\"MaxJ_VertexSet\"])\n",
    "nuBottom   = uw.utils.Integral( fn=temperatureField.fn_gradient[1], mesh=mesh, integrationType='Surface', \n",
    "                          surfaceIndexSet=mesh.specialSets[\"MinJ_VertexSet\"])"
   ]
  },
  {
   "cell_type": "markdown",
   "metadata": {},
   "source": [
    "**Define diagnostic functions using integrals**"
   ]
  },
  {
   "cell_type": "code",
   "execution_count": 17,
   "metadata": {
    "collapsed": false
   },
   "outputs": [],
   "source": [
    "def avg_temp():\n",
    "    return tempint.evaluate()[0]/areaint.evaluate()[0]\n",
    "\n",
    "def nusseltTB(temp_field, mesh):\n",
    "    return -nuTop.evaluate()[0], -nuBottom.evaluate()[0]\n",
    "\n",
    "def rms():\n",
    "    return math.sqrt(v2int.evaluate()[0]/areaint.evaluate()[0])\n",
    "\n",
    "def rms_surf():\n",
    "    return math.sqrt(rmsSurfInt.evaluate()[0])\n",
    "\n",
    "def max_vx_surf(velfield, mesh):\n",
    "    vuvelxfn = fn.view.min_max(velfield[0])\n",
    "    vuvelxfn.evaluate(mesh.specialSets[\"MaxJ_VertexSet\"])\n",
    "    return vuvelxfn.max_global()\n",
    "\n",
    "def gravwork(workfn):\n",
    "    return workfn.evaluate()[0]\n",
    "\n",
    "def viscdis(vdissfn):\n",
    "    return vdissfn.evaluate()[0]\n",
    "\n",
    "def visc_extr(viscfn):\n",
    "    vuviscfn = fn.view.min_max(viscfn)\n",
    "    vuviscfn.evaluate(mesh)\n",
    "    return vuviscfn.max_global(), vuviscfn.min_global()"
   ]
  },
  {
   "cell_type": "code",
   "execution_count": 18,
   "metadata": {
    "collapsed": false
   },
   "outputs": [],
   "source": [
    "#Fields for saving data / fields\n",
    "rmsField = uw.mesh.MeshVariable( mesh=mesh, nodeDofCount=1 )\n",
    "rmsfn    = fn.math.sqrt( fn.math.dot( velocityField, velocityField ) )\n",
    "rmsdata  = rmsfn.evaluate( mesh )\n",
    "rmsField.data[:] = rmsdata \n",
    "\n",
    "viscField = uw.mesh.MeshVariable( mesh=mesh, nodeDofCount=1 )\n",
    "viscdata  = fn_viscosity.evaluate( mesh )\n",
    "viscField.data[:] = viscdata\n",
    "\n",
    "stressField = uw.mesh.MeshVariable( mesh=mesh, nodeDofCount=1)\n",
    "srtdata     = fn.tensor.second_invariant( fn.tensor.symmetric( velocityField.fn_gradient ) )\n",
    "rostfield   = srtdata.evaluate( mesh )\n",
    "stressinv   = 2*viscdata*rostfield[:]\n",
    "stressField.data[:] = stressinv"
   ]
  },
  {
   "cell_type": "markdown",
   "metadata": {},
   "source": [
    "Main simulation loop\n",
    "------\n",
    "\n",
    "Normally a loop over time increments would be added here. As we are only interested in the post-analysis a single time step will be taken to ensure that all analysis fields are live. This step will involve the non-linear Stokes system solver."
   ]
  },
  {
   "cell_type": "code",
   "execution_count": 19,
   "metadata": {
    "collapsed": false
   },
   "outputs": [],
   "source": [
    "steps_todo = 1"
   ]
  },
  {
   "cell_type": "markdown",
   "metadata": {
    "collapsed": false
   },
   "source": [
    "Initialise steps and time. Set to zero unless loading values from file."
   ]
  },
  {
   "cell_type": "code",
   "execution_count": 20,
   "metadata": {
    "collapsed": false
   },
   "outputs": [
    {
     "name": "stdout",
     "output_type": "stream",
     "text": [
      "This model has previously completed 134500 steps to get to time = 0.414\n"
     ]
    }
   ],
   "source": [
    "try:\n",
    "    realtime = timeVal[-1]\n",
    "    step = int(stepsVal[-1])\n",
    "except:\n",
    "    realtime = 0.0\n",
    "    step = 0\n",
    "steps_end = step + steps_todo\n",
    "steps_output = 100\n",
    "steps_output = max(steps_output,1)\n",
    "print('This model has previously completed {0:6d} steps to get to time = {1:.3f}'.format(step,realtime))"
   ]
  },
  {
   "cell_type": "code",
   "execution_count": 21,
   "metadata": {
    "collapsed": false
   },
   "outputs": [],
   "source": [
    "# initialise timer for computation\n",
    "start = time.clock()\n",
    "# start loop\n",
    "while step < steps_end:\n",
    "    # Solve non-linear system\n",
    "    solver.solve(nonLinearIterate=True)\n",
    "    dt = advDiff.get_max_dt()\n",
    "    if step == 0:\n",
    "        dt = 0.\n",
    "    # Advect using this timestep size   \n",
    "    advDiff.integrate(dt)\n",
    "    # Increment\n",
    "    realtime += dt\n",
    "    step += 1\n",
    "    # Calculate the Metrics, only on 1 of the processors:\n",
    "    Avg_temp = avg_temp()\n",
    "    Rms = rms()\n",
    "    Rms_surf = rms_surf()\n",
    "    Max_vx_surf = max_vx_surf(velocityField, mesh)\n",
    "    Gravwork = gravwork(dwint)\n",
    "    Viscdis = viscdis(vdint)\n",
    "    nu1, nu0 = nusseltTB(temperatureField, mesh) # return top then bottom\n",
    "    etamax, etamin = visc_extr(fn_viscosity)\n",
    "    # store results\n",
    "    stepsVal.append(       step)\n",
    "    timeVal.append(        realtime )\n",
    "    viscdisVal.append(     Viscdis )\n",
    "    nu0Val.append(         nu0 )\n",
    "    nu1Val.append(         nu1 )\n",
    "    Avg_tempVal.append(    Avg_temp )\n",
    "    vrmsVal.append(        Rms )\n",
    "    Rms_surfVal.append(    Rms_surf )\n",
    "    Max_vx_surfVal.append( Max_vx_surf )\n",
    "    GravworkVal.append(    Gravwork )\n",
    "    etamaxVal.append(      etamax )\n",
    "    etaminVal.append(      etamin )\n",
    "\n",
    "    # output fields and summary info to file (output graphics can also be added here)\n",
    "    if uw.rank()==0:\n",
    "        if (step % steps_output == 0) or (step == steps_end-1):\n",
    "            print 'step =',step, '; CPU time =', time.clock()-start, '; vrms = ',Rms\n",
    "            # Temperature\n",
    "            fnametemp = \"temperatureField_\" + str(step).zfill(6) + \".h5\"\n",
    "            fullpath = os.path.join(outputPath + \"files/\" + fnametemp)\n",
    "            temperatureField.save(fullpath)\n",
    "            # Temperature time derivative\n",
    "            fnametemp = \"temperatureDotField_\" + str(step).zfill(6) + \".h5\"\n",
    "            fullpath = os.path.join(outputPath + \"files/\" + fnametemp)\n",
    "            temperatureDotField.save(fullpath)\n",
    "            # Pressure\n",
    "            fnametemp = \"pressureField_\" + str(step).zfill(6) + \".h5\"\n",
    "            fullpath = os.path.join(outputPath + \"files/\" + fnametemp)\n",
    "            pressureField.save(fullpath)\n",
    "            # Velocity\n",
    "            fnametemp = \"velocityField_\" + str(step).zfill(6) + \".h5\"\n",
    "            fullpath = os.path.join(outputPath + \"files/\" + fnametemp)\n",
    "            velocityField.save(fullpath)\n",
    "\n",
    "            np.savetxt( outputPath + 'Summary.txt', np.c_[stepsVal, timeVal, viscdisVal, nu0Val, \n",
    "                                                          nu1Val, Avg_tempVal, vrmsVal, Rms_surfVal,\n",
    "                                                         Max_vx_surfVal, GravworkVal, etamaxVal, etaminVal], \n",
    "                   header=\"Steps, Time, visc, Nusselt bottom/top, av_T, vrms, surf_rms, surf_max, grav, etamax, etamin\" )"
   ]
  },
  {
   "cell_type": "markdown",
   "metadata": {},
   "source": [
    "Post-simulation analysis\n",
    "-------\n",
    "\n",
    "Here we will calculate the quantities specified for this case in Tosi et al. (2015) and finally compare them to the values given in their Table 2."
   ]
  },
  {
   "cell_type": "markdown",
   "metadata": {},
   "source": [
    "**Plot final temperature and velocity fields**"
   ]
  },
  {
   "cell_type": "code",
   "execution_count": 22,
   "metadata": {
    "collapsed": false
   },
   "outputs": [
    {
     "data": {
      "text/html": [
       "<img src='data:image/png;base64,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'>"
      ],
      "text/plain": [
       "<IPython.core.display.HTML object>"
      ]
     },
     "execution_count": 22,
     "metadata": {},
     "output_type": "execute_result"
    }
   ],
   "source": [
    "velmax = np.amax(velocityField.data[:])\n",
    "if(velmax==0.0): velmax = 1.0\n",
    "fig1 = glucifer.Figure()\n",
    "fig1.append( glucifer.objects.Surface(mesh, temperatureField) )\n",
    "fig1.append( glucifer.objects.VectorArrows( mesh, velocityField/velmax, scaling=0.1, arrowHead=0.2) )\n",
    "fig1.show()"
   ]
  },
  {
   "cell_type": "markdown",
   "metadata": {},
   "source": [
    "**Calculate quantities for benchmark comparison**"
   ]
  },
  {
   "cell_type": "code",
   "execution_count": 23,
   "metadata": {
    "collapsed": true
   },
   "outputs": [],
   "source": [
    "tempAv = Avg_tempVal[-1]\n",
    "nuTop = nu1Val[-1]\n",
    "nuBot = nu0Val[-1]\n",
    "uRMS = vrmsVal[-1]\n",
    "uSurfRMS = Rms_surfVal[-1]\n",
    "uSurfMax = Max_vx_surfVal[-1]\n",
    "etaMin = etaminVal[-1]\n",
    "etaMax = etamaxVal[-1]\n",
    "workDone = GravworkVal[-1]\n",
    "phi = viscdisVal[-1]/100.\n",
    "delta = abs(workDone - phi)/max(workDone, phi) * 100."
   ]
  },
  {
   "cell_type": "markdown",
   "metadata": {},
   "source": [
    "**Output all quantities for this case**"
   ]
  },
  {
   "cell_type": "code",
   "execution_count": 24,
   "metadata": {
    "collapsed": false
   },
   "outputs": [
    {
     "name": "stdout",
     "output_type": "stream",
     "text": [
      "<T>        = 0.7737\n",
      "Nu_top     = 3.4086\n",
      "Nu_bot     = 3.4065\n",
      "u_rms      = 247.0555\n",
      "u^surf_rms = 1.8130\n",
      "u^surf_max = 2.5406\n",
      "W          = 2.4413\n",
      "Phi        = 2.4478\n",
      "delta      = 0.2671%\n"
     ]
    }
   ],
   "source": [
    "print('<T>        = {0:.4f}'.format(tempAv))\n",
    "print('Nu_top     = {0:.4f}'.format(nuTop))\n",
    "print('Nu_bot     = {0:.4f}'.format(nuBot))\n",
    "print('u_rms      = {0:.4f}'.format(uRMS))\n",
    "print('u^surf_rms = {0:.4f}'.format(uSurfRMS))\n",
    "print('u^surf_max = {0:.4f}'.format(uSurfMax))\n",
    "print('W          = {0:.4f}'.format(workDone))\n",
    "print('Phi        = {0:.4f}'.format(phi))\n",
    "print('delta      = {0:.4f}%'.format(delta))"
   ]
  },
  {
   "cell_type": "markdown",
   "metadata": {},
   "source": [
    "**Comparison values from Tosi et al. (2015)**\n",
    "\n",
    "The expected benchmark values from Table 2 of Tosi et al. (2015) for case 1 are given in the table below. The minimum and maximum values from each of the participating codes are given here to provide an expected range for each quantity.\n",
    "\n",
    "| Case 1  | $<$$T$$>$ | $Nu_{top}$ | $Nu_{bot}$ | $u_{RMS}$ | $u_{RMS}^{surf}$ | $u_{max}^{surf}$ | $<$$W$$>$ |  $<$$\\Phi$$>$/Ra | $\\delta$ |\n",
    "|:--------|:---------:|:----------:|:----------:|:---------:|:----------------:|:----------------:|:---------:|:------------------:|:--------:|\n",
    "| Min     | 0.7758 | 3.4091 | 3.4091 | 248.9252 | 1.8298 | 2.5516 | 2.3690 | 2.3920 | $<$0.01% |\n",
    "| Max     | 0.7768 | 3.4305 | 3.4259 | 252.0906 | 1.8999 | 2.6477 | 2.4583 | 2.4333 | 1.78% |\n",
    "\n",
    "Note that the values from the spectral code MC3D are not used to construct the min/max values here, as they are outlier values."
   ]
  }
 ],
 "metadata": {
  "kernelspec": {
   "display_name": "Python 2",
   "language": "python",
   "name": "python2"
  },
  "language_info": {
   "codemirror_mode": {
    "name": "ipython",
    "version": 2
   },
   "file_extension": ".py",
   "mimetype": "text/x-python",
   "name": "python",
   "nbconvert_exporter": "python",
   "pygments_lexer": "ipython2",
   "version": "2.7.10"
  }
 },
 "nbformat": 4,
 "nbformat_minor": 0
}
