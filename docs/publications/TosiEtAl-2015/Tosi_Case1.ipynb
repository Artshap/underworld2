{
 "cells": [
  {
   "cell_type": "markdown",
   "metadata": {
    "collapsed": true
   },
   "source": [
    "Viscoplastic thermal convection in a 2-D square box: Tosi et al. 2015\n",
    "=====\n",
    "\n",
    "This series of notebooks generates benchmark models from the Tosi et al. (2015) in Underworld2. The Underworld2 results are then directly compared to the results from Table 2 of Tosi et al. (2015) the paper for each case. The notebooks are broken into a general notebook for reproducing the models from scratch and 5 post-analysis notebooks which look at the results Underworld2 gives for each case after running to equilibrium. \n",
    "\n",
    "Case 1: Stagnant lid\n",
    "-------\n",
    "\n",
    "This case has a temperature-dependent linear rheology which results in a stagnant lid mode of convection. \n",
    "The parameters used for case 1 are: $Ra = 10^2$, $\\Delta \\eta_T = 10^5$ and $\\Delta \\eta_z = 1$.\n",
    "\n",
    "\n",
    "References\n",
    "-----\n",
    "\n",
    "1. Tosi, Nicola and Stein, Claudia and Noack, Lena and H&uuml;ttig, Christian and Maierov&aacute;, Petra and Samuel, Henri and Davies, DR and Wilson, CR and Kramer, SC and Thieulot, Cedric and others. 2015. _A community benchmark for viscoplastic thermal convection in a 2-D square box_.\n",
    "\n"
   ]
  },
  {
   "cell_type": "markdown",
   "metadata": {},
   "source": [
    "Load python functions needed for underworld. Some additional python functions from os, math and numpy used later on."
   ]
  },
  {
   "cell_type": "code",
   "execution_count": 1,
   "metadata": {
    "collapsed": false
   },
   "outputs": [],
   "source": [
    "%matplotlib inline\n",
    "import underworld as uw\n",
    "import math\n",
    "from underworld import function as fn\n",
    "import glucifer\n",
    "import matplotlib.pyplot as pyplot\n",
    "import matplotlib.pylab as pylab\n",
    "import time\n",
    "import numpy as np\n",
    "import os"
   ]
  },
  {
   "cell_type": "markdown",
   "metadata": {},
   "source": [
    "Set physical constants and parameters, including the Rayleigh number (*Ra*) and viscosity constants ($\\eta^*$ and $\\eta_T$) which are common to all Tosi et al cases."
   ]
  },
  {
   "cell_type": "code",
   "execution_count": 2,
   "metadata": {
    "collapsed": false
   },
   "outputs": [],
   "source": [
    "RA  = 1e2        # Rayleigh number\n",
    "ETA_T = 1e5      # common viscosity constant\n",
    "TS  = 0          # surface temperature\n",
    "TB  = 1          # bottom boundary temperature (melting point)\n",
    "ETA0 = 1e-3      # viscosity constant eta^* in Tosi et al\n",
    "TMAX = 3.0\n",
    "IMAX = 1000"
   ]
  },
  {
   "cell_type": "markdown",
   "metadata": {},
   "source": [
    "Select case 1 of Tosi et al (2015) and set constants as required."
   ]
  },
  {
   "cell_type": "code",
   "execution_count": 3,
   "metadata": {
    "collapsed": false
   },
   "outputs": [],
   "source": [
    "CASE = 1\n",
    "ETA_Y = 1.\n",
    "YSTRESS = 1."
   ]
  },
  {
   "cell_type": "markdown",
   "metadata": {},
   "source": [
    "Set input and output file directories"
   ]
  },
  {
   "cell_type": "code",
   "execution_count": 4,
   "metadata": {
    "collapsed": false
   },
   "outputs": [],
   "source": [
    "# input file directory\n",
    "inputPath  = 'TosiInput/case' + str(CASE) + \"/\"\n",
    "# output files\n",
    "outputPath = 'TosiOutput/'\n",
    "filePath   = outputPath+'files'\n",
    "# make directories if they don't exist\n",
    "if not os.path.isdir(outputPath):\n",
    "    os.makedirs(outputPath)\n",
    "if not os.path.isdir(filePath):\n",
    "    os.makedirs(filePath)"
   ]
  },
  {
   "cell_type": "markdown",
   "metadata": {},
   "source": [
    "Create mesh and finite element variables\n",
    "------\n",
    "\n",
    "Set up mesh and field variables that are solved on the mesh."
   ]
  },
  {
   "cell_type": "code",
   "execution_count": 5,
   "metadata": {
    "collapsed": false
   },
   "outputs": [],
   "source": [
    "res = 128\n",
    "mesh = uw.mesh.FeMesh_Cartesian( elementType = (\"Q1/dQ0\"), \n",
    "                                 elementRes  = (res, res), \n",
    "                                 minCoord    = (0., 0.), \n",
    "                                 maxCoord    = (1., 1.))\n",
    "\n",
    "velocityField       = uw.mesh.MeshVariable( mesh=mesh,         nodeDofCount=2 )\n",
    "pressureField       = uw.mesh.MeshVariable( mesh=mesh.subMesh, nodeDofCount=1 )\n",
    "temperatureField    = uw.mesh.MeshVariable( mesh=mesh,         nodeDofCount=1 )\n",
    "temperatureDotField = uw.mesh.MeshVariable( mesh=mesh,         nodeDofCount=1 )"
   ]
  },
  {
   "cell_type": "markdown",
   "metadata": {},
   "source": [
    "Set initial conditions and boundary conditions\n",
    "----------\n",
    "\n",
    "Load all variable fields and summary data with data from previously run cases."
   ]
  },
  {
   "cell_type": "code",
   "execution_count": 6,
   "metadata": {
    "collapsed": false
   },
   "outputs": [],
   "source": [
    "# load fields\n",
    "temperatureField.load(    inputPath+'temperatureField.h5' )\n",
    "temperatureDotField.load( inputPath+'temperatureDotField.h5' )\n",
    "pressureField.load(       inputPath+'pressureField.h5')\n",
    "velocityField.load(       inputPath+'velocityField.h5')\n",
    "\n",
    "# load past iterations of summary data\n",
    "data = np.loadtxt( inputPath+'Summary.txt', unpack=True )\n",
    "stepsVal = data[0].tolist()\n",
    "timeVal = data[1].tolist()\n",
    "viscdisVal = data[2].tolist()\n",
    "nu0Val = data[3].tolist()\n",
    "nu1Val = data[4].tolist()\n",
    "Avg_tempVal = data[5].tolist()\n",
    "vrmsVal = data[6].tolist()\n",
    "Rms_surfVal = data[7].tolist()\n",
    "Max_vx_surfVal = data[8].tolist()\n",
    "GravworkVal = data[9].tolist()\n",
    "etamaxVal = data[10].tolist()\n",
    "etaminVal = data[11].tolist() "
   ]
  },
  {
   "cell_type": "markdown",
   "metadata": {},
   "source": [
    "**Conditions on the boundaries**"
   ]
  },
  {
   "cell_type": "code",
   "execution_count": 7,
   "metadata": {
    "collapsed": true
   },
   "outputs": [],
   "source": [
    "iWalls = mesh.specialSets[\"MinI_VertexSet\"] + mesh.specialSets[\"MaxI_VertexSet\"]\n",
    "jWalls = mesh.specialSets[\"MinJ_VertexSet\"] + mesh.specialSets[\"MaxJ_VertexSet\"]\n",
    "freeslipBC = uw.conditions.DirichletCondition( variable      = velocityField, \n",
    "                                               indexSetsPerDof = (iWalls, jWalls) )\n",
    "tempBC     = uw.conditions.DirichletCondition( variable      = temperatureField, \n",
    "                                               indexSetsPerDof = (jWalls,) )"
   ]
  },
  {
   "cell_type": "markdown",
   "metadata": {
    "collapsed": false
   },
   "source": [
    "Set up material parameters and functions\n",
    "-----\n"
   ]
  },
  {
   "cell_type": "markdown",
   "metadata": {},
   "source": [
    "**Viscosity field**\n",
    "\n",
    "The viscosity is a function of temperature ($T$), the vertical coordinate ($z$) and the strain rate ($\\dot{\\epsilon}$) and is given by\n",
    "\n",
    "$$\n",
    "    \\eta(T, z, \\dot{\\epsilon}) = 2 \\left( \\frac{1}{\\eta_{lin}(T,z)} + \\frac{1}{\\eta_{plast}(\\dot{\\epsilon})} \\right)^{-1}\n",
    "$$\n",
    "\n",
    "where the linear part is\n",
    "\n",
    "$$\n",
    "    \\eta_{lin}(T, z) = \\exp(-\\gamma_T T + \\gamma_z z)\n",
    "$$\n",
    "\n",
    "with $\\gamma_T = \\ln(\\Delta \\eta_T)$ and $\\gamma_z = \\ln(\\Delta \\eta_z)$. The nonlinear part is\n",
    "\n",
    "$$\n",
    "    \\eta_{plast}(\\dot{\\epsilon}) = \\eta^* + \\frac{\\sigma_{\\gamma}}{\\sqrt{\\dot{\\epsilon} : \\dot{\\epsilon}}}\n",
    "$$\n",
    "\n",
    "where $\\eta^*$ is the effective viscosity at high stresses and $\\sigma_{\\gamma}$ is the yield stress. The values of $\\Delta \\eta_T$, $\\Delta \\eta_z$, $\\eta^*$ and $\\sigma_{\\gamma}$ are assumed to be constant with values dependent on the particular case."
   ]
  },
  {
   "cell_type": "markdown",
   "metadata": {},
   "source": [
    "**Create variables required for plasticity calculations**"
   ]
  },
  {
   "cell_type": "code",
   "execution_count": 8,
   "metadata": {
    "collapsed": false
   },
   "outputs": [],
   "source": [
    "secinv = fn.tensor.second_invariant( fn.tensor.symmetric( velocityField.fn_gradient ) )\n",
    "coordinate = fn.coord()"
   ]
  },
  {
   "cell_type": "markdown",
   "metadata": {},
   "source": [
    "**Setup viscosity functions**\n",
    "\n",
    "Remember to use floats everywhere when setting up functions"
   ]
  },
  {
   "cell_type": "code",
   "execution_count": 9,
   "metadata": {
    "collapsed": false
   },
   "outputs": [],
   "source": [
    "viscosityl1 = fn.math.exp(math.log(ETA_T)*-1.*temperatureField)\n",
    "viscosityl2 = fn.math.exp((math.log(ETA_T)*-1.*temperatureField) + (1.-coordinate[1])*math.log(ETA_Y))\n",
    "\n",
    "#Von Mises effective viscosity\n",
    "viscosityp = ETA0 + YSTRESS/(secinv/math.sqrt(0.5)) #extra factor to account for underworld second invariant form\n",
    "\n",
    "if CASE == 1:\n",
    "    fn_viscosity = viscosityl1\n",
    "elif CASE == 2:\n",
    "    fn_viscosity = 2./(1./viscosityl1 + 1./viscosityp)\n",
    "elif CASE == 3:\n",
    "    fn_viscosity = viscosityl2\n",
    "else:\n",
    "    fn_viscosity = 2./(1./viscosityl2 + 1./viscosityp)"
   ]
  },
  {
   "cell_type": "markdown",
   "metadata": {},
   "source": [
    "**Add functions for density and buoyancy**"
   ]
  },
  {
   "cell_type": "code",
   "execution_count": 10,
   "metadata": {
    "collapsed": true
   },
   "outputs": [],
   "source": [
    "densityFn = RA*temperatureField\n",
    "\n",
    "# define our vertical unit vector using a python tuple (this will be automatically converted to a function)\n",
    "z_hat = ( 0.0, 1.0 )\n",
    "\n",
    "# now create a buoyancy force vector using the density (FEvariable) and the vertical unit vector. \n",
    "buoyancyFn = densityFn * z_hat"
   ]
  },
  {
   "cell_type": "markdown",
   "metadata": {},
   "source": [
    "Build the Stokes system and solvers\n",
    "------\n",
    "\n",
    "Setup the Stokes system with linear or nonlinear visocity viscosity depending on case."
   ]
  },
  {
   "cell_type": "code",
   "execution_count": 11,
   "metadata": {
    "collapsed": false
   },
   "outputs": [],
   "source": [
    "stokesPIC = uw.systems.Stokes(velocityField=velocityField, \n",
    "                              pressureField=pressureField,\n",
    "                              conditions=[freeslipBC,],\n",
    "                              fn_viscosity=fn.exception.SafeMaths(fn_viscosity), \n",
    "                              fn_bodyforce=buoyancyFn)"
   ]
  },
  {
   "cell_type": "markdown",
   "metadata": {},
   "source": [
    "Setup solver for the Stokes system of equations"
   ]
  },
  {
   "cell_type": "code",
   "execution_count": 12,
   "metadata": {
    "collapsed": false
   },
   "outputs": [],
   "source": [
    "solver = uw.systems.Solver( stokesPIC )"
   ]
  },
  {
   "cell_type": "markdown",
   "metadata": {},
   "source": [
    "We do one solve for initial pressure and velocity with linear viscosity to get the initial strain rate invariant. This solve step also calculates a 'guess' of the the velocity field based on the linear system, which is used later in the non-linear solver."
   ]
  },
  {
   "cell_type": "code",
   "execution_count": 13,
   "metadata": {
    "collapsed": false
   },
   "outputs": [],
   "source": [
    "solver.solve( nonLinearIterate=False )"
   ]
  },
  {
   "cell_type": "markdown",
   "metadata": {},
   "source": [
    "Create an advective-diffusive system\n",
    "-----\n",
    "\n",
    "Setup the system in underworld by flagging the temperature and velocity field variables."
   ]
  },
  {
   "cell_type": "code",
   "execution_count": 14,
   "metadata": {
    "collapsed": false
   },
   "outputs": [],
   "source": [
    "advDiff = uw.systems.AdvectionDiffusion( temperatureField, temperatureDotField, velocityField,\n",
    "                                         fn_diffusivity=1., conditions=[tempBC,] )"
   ]
  },
  {
   "cell_type": "markdown",
   "metadata": {},
   "source": [
    "Metrics for benchmark\n",
    "-----\n",
    "\n",
    "Define diagnostic functions to be used in the time loop and/or measured after reaching steady state:\n",
    "\n",
    "* Average temperature\n",
    "$$  \\langle T \\rangle  = \\int^1_0 \\int^1_0 T \\, dxdy $$\n",
    "* Top and bottom Nusselt numbers\n",
    "$$Nu_{top/bot} = - \\left. \\int^1_0 \\frac{\\partial T}{\\partial y} \\right|_{y=1/y=0} \\, dx$$\n",
    "* RMS velocity over the whole domain, surface and max velocity at surface\n",
    "$$u_{RMS} = \\left( \\int_0^1 \\int_0^1 \\left( u_x^2 + u_y^2 \\right) dx dy \\right)^{1/2}$$\n",
    "$$u_{RMS}^{surf} = \\left( \\left. \\int_0^1 u_x^2\\right|_{y=1} dx \\right)^{1/2}$$\n",
    "$$u_{max}^{surf} = \\left. \\max(u_x)\\right|_{y=1}$$\n",
    "* max and min viscosity over the whole domain\n",
    "$$\\eta_{max/min} = \\max / \\min \\left( \\eta\\left(x,y\\right) \\right)$$\n",
    "* average rate of work done against gravity\n",
    "$$\\langle W \\rangle = \\int^1_0 \\int^1_0 T u_y \\, dx dy$$\n",
    "* and the average rate of viscous dissipation\n",
    "$$\\langle \\Phi \\rangle = \\int^1_0 \\int^1_0 \\tau_{ij} \\dot \\epsilon_{ij} \\, dx dy$$\n",
    "\n",
    "* In steady state, if thermal energy is accurately conserved, the difference between $\\langle W \\rangle$ and $\\langle \\Phi \\rangle / Ra$ must vanish, so also reported is the percentage error: \n",
    "\n",
    "$$ \\delta = \\frac{\\lvert \\langle W \\rangle - \\frac{\\langle \\Phi \\rangle}{Ra} \\rvert}{max \\left(  \\langle W \\rangle,  \\frac{\\langle \\Phi \\rangle}{Ra}\\right)} \\times 100% $$"
   ]
  },
  {
   "cell_type": "markdown",
   "metadata": {},
   "source": [
    "**Setup volume integrals used in metric functions**"
   ]
  },
  {
   "cell_type": "code",
   "execution_count": 15,
   "metadata": {
    "collapsed": false
   },
   "outputs": [],
   "source": [
    "# temperature\n",
    "tempint = uw.utils.Integral( temperatureField, mesh )\n",
    "# area\n",
    "areaint = uw.utils.Integral( 1.,               mesh )\n",
    "# velocity squared\n",
    "v2int   = uw.utils.Integral(fn.math.dot(velocityField,velocityField), mesh)\n",
    "# work done\n",
    "dwint   = uw.utils.Integral(temperatureField*velocityField[1], mesh)\n",
    "# viscous dissipation\n",
    "sinner = fn.math.dot(secinv,secinv)\n",
    "vdint = uw.utils.Integral((4.*fn_viscosity*sinner), mesh)"
   ]
  },
  {
   "cell_type": "markdown",
   "metadata": {},
   "source": [
    "**Setup surface integrals used in metric functions**"
   ]
  },
  {
   "cell_type": "code",
   "execution_count": 16,
   "metadata": {
    "collapsed": false
   },
   "outputs": [],
   "source": [
    "rmsSurfInt = uw.utils.Integral( fn=velocityField[0]*velocityField[0], mesh=mesh, integrationType='Surface', \n",
    "                          surfaceIndexSet=mesh.specialSets[\"MaxJ_VertexSet\"])\n",
    "nuTop      = uw.utils.Integral( fn=temperatureField.fn_gradient[1], mesh=mesh, integrationType='Surface', \n",
    "                          surfaceIndexSet=mesh.specialSets[\"MaxJ_VertexSet\"])\n",
    "nuBottom   = uw.utils.Integral( fn=temperatureField.fn_gradient[1], mesh=mesh, integrationType='Surface', \n",
    "                          surfaceIndexSet=mesh.specialSets[\"MinJ_VertexSet\"])"
   ]
  },
  {
   "cell_type": "markdown",
   "metadata": {},
   "source": [
    "**Define diagnostic functions using integrals**"
   ]
  },
  {
   "cell_type": "code",
   "execution_count": 17,
   "metadata": {
    "collapsed": false
   },
   "outputs": [],
   "source": [
    "def avg_temp():\n",
    "    return tempint.evaluate()[0]/areaint.evaluate()[0]\n",
    "\n",
    "def nusseltTB(temp_field, mesh):\n",
    "    return -nuTop.evaluate()[0], -nuBottom.evaluate()[0]\n",
    "\n",
    "def rms():\n",
    "    return math.sqrt(v2int.evaluate()[0]/areaint.evaluate()[0])\n",
    "\n",
    "def rms_surf():\n",
    "    return math.sqrt(rmsSurfInt.evaluate()[0])\n",
    "\n",
    "def max_vx_surf(velfield, mesh):\n",
    "    vuvelxfn = fn.view.min_max(velfield[0])\n",
    "    vuvelxfn.evaluate(mesh.specialSets[\"MaxJ_VertexSet\"])\n",
    "    return vuvelxfn.max_global()\n",
    "\n",
    "def gravwork(workfn):\n",
    "    return workfn.evaluate()[0]\n",
    "\n",
    "def viscdis(vdissfn):\n",
    "    return vdissfn.evaluate()[0]\n",
    "\n",
    "def visc_extr(viscfn):\n",
    "    vuviscfn = fn.view.min_max(viscfn)\n",
    "    vuviscfn.evaluate(mesh)\n",
    "    return vuviscfn.max_global(), vuviscfn.min_global()"
   ]
  },
  {
   "cell_type": "code",
   "execution_count": 18,
   "metadata": {
    "collapsed": false
   },
   "outputs": [],
   "source": [
    "#Fields for saving data / fields\n",
    "rmsField = uw.mesh.MeshVariable( mesh=mesh, nodeDofCount=1 )\n",
    "rmsfn    = fn.math.sqrt( fn.math.dot( velocityField, velocityField ) )\n",
    "rmsdata  = rmsfn.evaluate( mesh )\n",
    "rmsField.data[:] = rmsdata \n",
    "\n",
    "viscField = uw.mesh.MeshVariable( mesh=mesh, nodeDofCount=1 )\n",
    "viscdata  = fn_viscosity.evaluate( mesh )\n",
    "viscField.data[:] = viscdata\n",
    "\n",
    "stressField = uw.mesh.MeshVariable( mesh=mesh, nodeDofCount=1)\n",
    "srtdata     = fn.tensor.second_invariant( fn.tensor.symmetric( velocityField.fn_gradient ) )\n",
    "rostfield   = srtdata.evaluate( mesh )\n",
    "stressinv   = 2*viscdata*rostfield[:]\n",
    "stressField.data[:] = stressinv"
   ]
  },
  {
   "cell_type": "markdown",
   "metadata": {},
   "source": [
    "Main simulation loop\n",
    "------\n",
    "\n",
    "Normally a loop over time increments would be added here. As we are only interested in the post-analysis a single time step will be taken to ensure that all analysis fields are live. This step will involve the non-linear Stokes system solver."
   ]
  },
  {
   "cell_type": "code",
   "execution_count": 19,
   "metadata": {
    "collapsed": false
   },
   "outputs": [],
   "source": [
    "steps_todo = 1"
   ]
  },
  {
   "cell_type": "markdown",
   "metadata": {
    "collapsed": false
   },
   "source": [
    "Initialise steps and time. Set to zero unless loading values from file."
   ]
  },
  {
   "cell_type": "code",
   "execution_count": 20,
   "metadata": {
    "collapsed": false
   },
   "outputs": [
    {
     "name": "stdout",
     "output_type": "stream",
     "text": [
      "This model has previously completed 134500 steps to get to time = 0.414\n"
     ]
    }
   ],
   "source": [
    "try:\n",
    "    realtime = timeVal[-1]\n",
    "    step = int(stepsVal[-1])\n",
    "except:\n",
    "    realtime = 0.0\n",
    "    step = 0\n",
    "steps_end = step + steps_todo\n",
    "steps_output = 100\n",
    "steps_output = max(steps_output,1)\n",
    "print('This model has previously completed {0:6d} steps to get to time = {1:.3f}'.format(step,realtime))"
   ]
  },
  {
   "cell_type": "code",
   "execution_count": 21,
   "metadata": {
    "collapsed": false
   },
   "outputs": [],
   "source": [
    "# initialise timer for computation\n",
    "start = time.clock()\n",
    "# start loop\n",
    "while step < steps_end:\n",
    "    # Solve non-linear system\n",
    "    solver.solve(nonLinearIterate=True)\n",
    "    dt = advDiff.get_max_dt()\n",
    "    if step == 0:\n",
    "        dt = 0.\n",
    "    # Advect using this timestep size   \n",
    "    advDiff.integrate(dt)\n",
    "    # Increment\n",
    "    realtime += dt\n",
    "    step += 1\n",
    "    # Calculate the Metrics, only on 1 of the processors:\n",
    "    Avg_temp = avg_temp()\n",
    "    Rms = rms()\n",
    "    Rms_surf = rms_surf()\n",
    "    Max_vx_surf = max_vx_surf(velocityField, mesh)\n",
    "    Gravwork = gravwork(dwint)\n",
    "    Viscdis = viscdis(vdint)\n",
    "    nu1, nu0 = nusseltTB(temperatureField, mesh) # return top then bottom\n",
    "    etamax, etamin = visc_extr(fn_viscosity)\n",
    "    # store results\n",
    "    stepsVal.append(       step)\n",
    "    timeVal.append(        realtime )\n",
    "    viscdisVal.append(     Viscdis )\n",
    "    nu0Val.append(         nu0 )\n",
    "    nu1Val.append(         nu1 )\n",
    "    Avg_tempVal.append(    Avg_temp )\n",
    "    vrmsVal.append(        Rms )\n",
    "    Rms_surfVal.append(    Rms_surf )\n",
    "    Max_vx_surfVal.append( Max_vx_surf )\n",
    "    GravworkVal.append(    Gravwork )\n",
    "    etamaxVal.append(      etamax )\n",
    "    etaminVal.append(      etamin )\n",
    "\n",
    "    # output fields and summary info to file (output graphics can also be added here)\n",
    "    if uw.rank()==0:\n",
    "        if (step % steps_output == 0) or (step == steps_end-1):\n",
    "            print 'step =',step, '; CPU time =', time.clock()-start, '; vrms = ',Rms\n",
    "            # Temperature\n",
    "            fnametemp = \"temperatureField_\" + str(step).zfill(6) + \".h5\"\n",
    "            fullpath = os.path.join(outputPath + \"files/\" + fnametemp)\n",
    "            temperatureField.save(fullpath)\n",
    "            # Temperature time derivative\n",
    "            fnametemp = \"temperatureDotField_\" + str(step).zfill(6) + \".h5\"\n",
    "            fullpath = os.path.join(outputPath + \"files/\" + fnametemp)\n",
    "            temperatureDotField.save(fullpath)\n",
    "            # Pressure\n",
    "            fnametemp = \"pressureField_\" + str(step).zfill(6) + \".h5\"\n",
    "            fullpath = os.path.join(outputPath + \"files/\" + fnametemp)\n",
    "            pressureField.save(fullpath)\n",
    "            # Velocity\n",
    "            fnametemp = \"velocityField_\" + str(step).zfill(6) + \".h5\"\n",
    "            fullpath = os.path.join(outputPath + \"files/\" + fnametemp)\n",
    "            velocityField.save(fullpath)\n",
    "\n",
    "            np.savetxt( outputPath + 'Summary.txt', np.c_[stepsVal, timeVal, viscdisVal, nu0Val, \n",
    "                                                          nu1Val, Avg_tempVal, vrmsVal, Rms_surfVal,\n",
    "                                                         Max_vx_surfVal, GravworkVal, etamaxVal, etaminVal], \n",
    "                   header=\"Steps, Time, visc, Nusselt bottom/top, av_T, vrms, surf_rms, surf_max, grav, etamax, etamin\" )"
   ]
  },
  {
   "cell_type": "markdown",
   "metadata": {},
   "source": [
    "Post-simulation analysis\n",
    "-------\n",
    "\n",
    "Here we will calculate the quantities specified for this case in Tosi et al. (2015) and finally compare them to the values given in their Table 2."
   ]
  },
  {
   "cell_type": "markdown",
   "metadata": {},
   "source": [
    "**Plot final temperature and velocity fields**"
   ]
  },
  {
   "cell_type": "code",
   "execution_count": 22,
   "metadata": {
    "collapsed": false
   },
   "outputs": [
    {
     "data": {
      "text/html": [
       "<img src='data:image/png;base64,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'>"
      ],
      "text/plain": [
       "<IPython.core.display.HTML object>"
      ]
     },
     "execution_count": 22,
     "metadata": {},
     "output_type": "execute_result"
    }
   ],
   "source": [
    "velmax = np.amax(velocityField.data[:])\n",
    "if(velmax==0.0): velmax = 1.0\n",
    "fig1 = glucifer.Figure()\n",
    "fig1.append( glucifer.objects.Surface(mesh, temperatureField) )\n",
    "fig1.append( glucifer.objects.VectorArrows( mesh, velocityField/velmax, scaling=0.1, arrowHead=0.2) )\n",
    "fig1.show()"
   ]
  },
  {
   "cell_type": "markdown",
   "metadata": {},
   "source": [
    "**Calculate quantities for benchmark comparison**"
   ]
  },
  {
   "cell_type": "code",
   "execution_count": 23,
   "metadata": {
    "collapsed": true
   },
   "outputs": [],
   "source": [
    "tempAv = Avg_tempVal[-1]\n",
    "nuTop = nu1Val[-1]\n",
    "nuBot = nu0Val[-1]\n",
    "uRMS = vrmsVal[-1]\n",
    "uSurfRMS = Rms_surfVal[-1]\n",
    "uSurfMax = Max_vx_surfVal[-1]\n",
    "etaMin = etaminVal[-1]\n",
    "etaMax = etamaxVal[-1]\n",
    "workDone = GravworkVal[-1]\n",
    "phi = viscdisVal[-1]/100.\n",
    "delta = abs(workDone - phi)/max(workDone, phi) * 100."
   ]
  },
  {
   "cell_type": "markdown",
   "metadata": {},
   "source": [
    "**Output all quantities for this case**"
   ]
  },
  {
   "cell_type": "code",
   "execution_count": 24,
   "metadata": {
    "collapsed": false
   },
   "outputs": [
    {
     "name": "stdout",
     "output_type": "stream",
     "text": [
      "<T>        = 0.7737\n",
      "Nu_top     = 3.4086\n",
      "Nu_bot     = 3.4065\n",
      "u_rms      = 247.0555\n",
      "u^surf_rms = 1.8130\n",
      "u^surf_max = 2.5406\n",
      "W          = 2.4413\n",
      "Phi        = 2.4478\n",
      "delta      = 0.2671%\n"
     ]
    }
   ],
   "source": [
    "print('<T>        = {0:.4f}'.format(tempAv))\n",
    "print('Nu_top     = {0:.4f}'.format(nuTop))\n",
    "print('Nu_bot     = {0:.4f}'.format(nuBot))\n",
    "print('u_rms      = {0:.4f}'.format(uRMS))\n",
    "print('u^surf_rms = {0:.4f}'.format(uSurfRMS))\n",
    "print('u^surf_max = {0:.4f}'.format(uSurfMax))\n",
    "print('W          = {0:.4f}'.format(workDone))\n",
    "print('Phi        = {0:.4f}'.format(phi))\n",
    "print('delta      = {0:.4f}%'.format(delta))"
   ]
  },
  {
   "cell_type": "markdown",
   "metadata": {},
   "source": [
    "**Comparison values from Tosi et al. (2015)**\n",
    "\n",
    "The expected benchmark values from Table 2 of Tosi et al. (2015) for case 1 are given in the table below. The minimum and maximum values from each of the participating codes are given here to provide an expected range for each quantity.\n",
    "\n",
    "| Case 1  | $<$$T$$>$ | $Nu_{top}$ | $Nu_{bot}$ | $u_{RMS}$ | $u_{RMS}^{surf}$ | $u_{max}^{surf}$ | $<$$W$$>$ |  $<$$\\Phi$$>$/Ra | $\\delta$ |\n",
    "|:--------|:---------:|:----------:|:----------:|:---------:|:----------------:|:----------------:|:---------:|:------------------:|:--------:|\n",
    "| Min     | 0.7758 | 3.4091 | 3.4091 | 248.9252 | 1.8298 | 2.5516 | 2.3690 | 2.3920 | $<$0.01% |\n",
    "| Max     | 0.7768 | 3.4305 | 3.4259 | 252.0906 | 1.8999 | 2.6477 | 2.4583 | 2.4333 | 1.78% |\n",
    "\n",
    "Note that the values from the spectral code MC3D are not used to construct the min/max values here, as they are outlier values."
   ]
  }
 ],
 "metadata": {
  "kernelspec": {
   "display_name": "Python 2",
   "language": "python",
   "name": "python2"
  },
  "language_info": {
   "codemirror_mode": {
    "name": "ipython",
    "version": 2
   },
   "file_extension": ".py",
   "mimetype": "text/x-python",
   "name": "python",
   "nbconvert_exporter": "python",
   "pygments_lexer": "ipython2",
   "version": "2.7.10"
  }
 },
 "nbformat": 4,
 "nbformat_minor": 0
}
