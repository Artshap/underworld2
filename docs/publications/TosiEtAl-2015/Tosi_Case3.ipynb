{
 "cells": [
  {
   "cell_type": "markdown",
   "metadata": {
    "collapsed": true
   },
   "source": [
    "Viscoplastic thermal convection in a 2-D square box: Tosi et al. 2015\n",
    "=====\n",
    "\n",
    "This series of notebooks generates benchmark models from the Tosi et al. (2015) in Underworld2. The Underworld2 results are then directly compared to the results from Table 2 of Tosi et al. (2015) the paper for each case. The notebooks are broken into a general notebook for reproducing the models from scratch and 5 post-analysis notebooks which look at the results Underworld2 gives for each case after running to equilibrium. \n",
    "\n",
    "Case 3: Stagnant lid (larger viscosity constrast)\n",
    "-------\n",
    "\n",
    "TThis case has a temperature-dependent linear rheology, like case 1, but with a larger value for the depth-dependent viscosity contrast ($\\Delta \\eta_y$). \n",
    "The parameters used for case 3 are: $Ra = 10^2$, $\\Delta \\eta_T = 10^5$ and $\\Delta \\eta_z = 10$.\n",
    "\n",
    "\n",
    "References\n",
    "-----\n",
    "\n",
    "1. Tosi, Nicola and Stein, Claudia and Noack, Lena and H&uuml;ttig, Christian and Maierov&aacute;, Petra and Samuel, Henri and Davies, DR and Wilson, CR and Kramer, SC and Thieulot, Cedric and others. 2015. _A community benchmark for viscoplastic thermal convection in a 2-D square box_.\n",
    "\n"
   ]
  },
  {
   "cell_type": "markdown",
   "metadata": {},
   "source": [
    "Load python functions needed for underworld. Some additional python functions from os, math and numpy used later on."
   ]
  },
  {
   "cell_type": "code",
   "execution_count": 1,
   "metadata": {
    "collapsed": false
   },
   "outputs": [
    {
     "name": "stderr",
     "output_type": "stream",
     "text": [
      "/Users/jmansour/virtualenvs/general/lib/python2.7/site-packages/matplotlib/font_manager.py:273: UserWarning: Matplotlib is building the font cache using fc-list. This may take a moment.\n",
      "  warnings.warn('Matplotlib is building the font cache using fc-list. This may take a moment.')\n"
     ]
    }
   ],
   "source": [
    "%matplotlib inline\n",
    "import underworld as uw\n",
    "import math\n",
    "from underworld import function as fn\n",
    "import glucifer\n",
    "import matplotlib.pyplot as pyplot\n",
    "import matplotlib.pylab as pylab\n",
    "import time\n",
    "import numpy as np\n",
    "import os"
   ]
  },
  {
   "cell_type": "markdown",
   "metadata": {},
   "source": [
    "Set physical constants and parameters, including the Rayleigh number (*Ra*) and viscosity constants ($\\eta^*$ and $\\eta_T$) which are common to all Tosi et al cases."
   ]
  },
  {
   "cell_type": "code",
   "execution_count": 2,
   "metadata": {
    "collapsed": false
   },
   "outputs": [],
   "source": [
    "RA  = 1e2        # Rayleigh number\n",
    "ETA_T = 1e5      # common viscosity constant\n",
    "TS  = 0          # surface temperature\n",
    "TB  = 1          # bottom boundary temperature (melting point)\n",
    "ETA0 = 1e-3      # viscosity constant eta^* in Tosi et al\n",
    "TMAX = 3.0\n",
    "IMAX = 1000"
   ]
  },
  {
   "cell_type": "markdown",
   "metadata": {},
   "source": [
    "Select case 3 of Tosi et al (2015) and set constants as required."
   ]
  },
  {
   "cell_type": "code",
   "execution_count": 3,
   "metadata": {
    "collapsed": false
   },
   "outputs": [],
   "source": [
    "CASE = 3\n",
    "ETA_Y = 10.\n",
    "YSTRESS = 0."
   ]
  },
  {
   "cell_type": "markdown",
   "metadata": {},
   "source": [
    "Set input and output file directories"
   ]
  },
  {
   "cell_type": "code",
   "execution_count": 4,
   "metadata": {
    "collapsed": false
   },
   "outputs": [],
   "source": [
    "# input file directory\n",
    "inputPath  = 'TosiInput/case' + str(CASE) + \"/\"\n",
    "# output files\n",
    "outputPath = 'TosiOutput/'\n",
    "filePath   = outputPath+'files'\n",
    "# make directories if they don't exist\n",
    "if not os.path.isdir(outputPath):\n",
    "    os.makedirs(outputPath)\n",
    "if not os.path.isdir(filePath):\n",
    "    os.makedirs(filePath)"
   ]
  },
  {
   "cell_type": "markdown",
   "metadata": {},
   "source": [
    "Create mesh and finite element variables\n",
    "------\n",
    "\n",
    "Set up mesh and field variables that are solved on the mesh."
   ]
  },
  {
   "cell_type": "code",
   "execution_count": 5,
   "metadata": {
    "collapsed": false
   },
   "outputs": [],
   "source": [
    "res = 128\n",
    "mesh = uw.mesh.FeMesh_Cartesian( elementType = (\"Q1/dQ0\"), \n",
    "                                 elementRes  = (res, res), \n",
    "                                 minCoord    = (0., 0.), \n",
    "                                 maxCoord    = (1., 1.))\n",
    "\n",
    "velocityField       = uw.mesh.MeshVariable( mesh=mesh,         nodeDofCount=2 )\n",
    "pressureField       = uw.mesh.MeshVariable( mesh=mesh.subMesh, nodeDofCount=1 )\n",
    "temperatureField    = uw.mesh.MeshVariable( mesh=mesh,         nodeDofCount=1 )\n",
    "temperatureDotField = uw.mesh.MeshVariable( mesh=mesh,         nodeDofCount=1 )"
   ]
  },
  {
   "cell_type": "markdown",
   "metadata": {},
   "source": [
    "Set initial conditions and boundary conditions\n",
    "----------\n",
    "\n",
    "Load all variable fields and summary data with data from previously run cases."
   ]
  },
  {
   "cell_type": "code",
   "execution_count": 6,
   "metadata": {
    "collapsed": false
   },
   "outputs": [],
   "source": [
    "# load fields\n",
    "temperatureField.load(    inputPath+'temperatureField.h5' )\n",
    "temperatureDotField.load( inputPath+'temperatureDotField.h5' )\n",
    "pressureField.load(       inputPath+'pressureField.h5')\n",
    "velocityField.load(       inputPath+'velocityField.h5')\n",
    "\n",
    "# load past iterations of summary data\n",
    "data = np.loadtxt( inputPath+'Summary.txt', unpack=True )\n",
    "stepsVal = data[0].tolist()\n",
    "timeVal = data[1].tolist()\n",
    "viscdisVal = data[2].tolist()\n",
    "nu0Val = data[3].tolist()\n",
    "nu1Val = data[4].tolist()\n",
    "Avg_tempVal = data[5].tolist()\n",
    "vrmsVal = data[6].tolist()\n",
    "Rms_surfVal = data[7].tolist()\n",
    "Max_vx_surfVal = data[8].tolist()\n",
    "GravworkVal = data[9].tolist()\n",
    "etamaxVal = data[10].tolist()\n",
    "etaminVal = data[11].tolist() "
   ]
  },
  {
   "cell_type": "markdown",
   "metadata": {},
   "source": [
    "**Conditions on the boundaries**"
   ]
  },
  {
   "cell_type": "code",
   "execution_count": 7,
   "metadata": {
    "collapsed": true
   },
   "outputs": [],
   "source": [
    "iWalls = mesh.specialSets[\"MinI_VertexSet\"] + mesh.specialSets[\"MaxI_VertexSet\"]\n",
    "jWalls = mesh.specialSets[\"MinJ_VertexSet\"] + mesh.specialSets[\"MaxJ_VertexSet\"]\n",
    "freeslipBC = uw.conditions.DirichletCondition( variable      = velocityField, \n",
    "                                               indexSetsPerDof = (iWalls, jWalls) )\n",
    "tempBC     = uw.conditions.DirichletCondition( variable      = temperatureField, \n",
    "                                               indexSetsPerDof = (jWalls,) )"
   ]
  },
  {
   "cell_type": "markdown",
   "metadata": {
    "collapsed": false
   },
   "source": [
    "Set up material parameters and functions\n",
    "-----\n"
   ]
  },
  {
   "cell_type": "markdown",
   "metadata": {},
   "source": [
    "**Viscosity field**\n",
    "\n",
    "The viscosity is a function of temperature ($T$), the vertical coordinate ($z$) and the strain rate ($\\dot{\\epsilon}$) and is given by\n",
    "\n",
    "$$\n",
    "    \\eta(T, z, \\dot{\\epsilon}) = 2 \\left( \\frac{1}{\\eta_{lin}(T,z)} + \\frac{1}{\\eta_{plast}(\\dot{\\epsilon})} \\right)^{-1}\n",
    "$$\n",
    "\n",
    "where the linear part is\n",
    "\n",
    "$$\n",
    "    \\eta_{lin}(T, z) = \\exp(-\\gamma_T T + \\gamma_z z)\n",
    "$$\n",
    "\n",
    "with $\\gamma_T = \\ln(\\Delta \\eta_T)$ and $\\gamma_z = \\ln(\\Delta \\eta_z)$. The nonlinear part is\n",
    "\n",
    "$$\n",
    "    \\eta_{plast}(\\dot{\\epsilon}) = \\eta^* + \\frac{\\sigma_{\\gamma}}{\\sqrt{\\dot{\\epsilon} : \\dot{\\epsilon}}}\n",
    "$$\n",
    "\n",
    "where $\\eta^*$ is the effective viscosity at high stresses and $\\sigma_{\\gamma}$ is the yield stress. The values of $\\Delta \\eta_T$, $\\Delta \\eta_z$, $\\eta^*$ and $\\sigma_{\\gamma}$ are assumed to be constant with values dependent on the particular case."
   ]
  },
  {
   "cell_type": "markdown",
   "metadata": {},
   "source": [
    "**Create variables required for plasticity calculations**"
   ]
  },
  {
   "cell_type": "code",
   "execution_count": 8,
   "metadata": {
    "collapsed": false
   },
   "outputs": [],
   "source": [
    "secinv = fn.tensor.second_invariant( fn.tensor.symmetric( velocityField.fn_gradient ) )\n",
    "coordinate = fn.coord()"
   ]
  },
  {
   "cell_type": "markdown",
   "metadata": {},
   "source": [
    "**Setup viscosity functions**\n",
    "\n",
    "Remember to use floats everywhere when setting up functions"
   ]
  },
  {
   "cell_type": "code",
   "execution_count": 9,
   "metadata": {
    "collapsed": false
   },
   "outputs": [],
   "source": [
    "viscosityl1 = fn.math.exp(math.log(ETA_T)*-1.*temperatureField)\n",
    "viscosityl2 = fn.math.exp((math.log(ETA_T)*-1.*temperatureField) + (1.-coordinate[1])*math.log(ETA_Y))\n",
    "\n",
    "#Von Mises effective viscosity\n",
    "viscosityp = ETA0 + YSTRESS/(secinv/math.sqrt(0.5)) #extra factor to account for underworld second invariant form\n",
    "\n",
    "if CASE == 1:\n",
    "    fn_viscosity = viscosityl1\n",
    "elif CASE == 2:\n",
    "    fn_viscosity = 2./(1./viscosityl1 + 1./viscosityp)\n",
    "elif CASE == 3:\n",
    "    fn_viscosity = viscosityl2\n",
    "else:\n",
    "    fn_viscosity = 2./(1./viscosityl2 + 1./viscosityp)"
   ]
  },
  {
   "cell_type": "markdown",
   "metadata": {},
   "source": [
    "**Add functions for density and buoyancy**"
   ]
  },
  {
   "cell_type": "code",
   "execution_count": 10,
   "metadata": {
    "collapsed": true
   },
   "outputs": [],
   "source": [
    "densityFn = RA*temperatureField\n",
    "\n",
    "# define our vertical unit vector using a python tuple (this will be automatically converted to a function)\n",
    "z_hat = ( 0.0, 1.0 )\n",
    "\n",
    "# now create a buoyancy force vector using the density (FEvariable) and the vertical unit vector. \n",
    "buoyancyFn = densityFn * z_hat"
   ]
  },
  {
   "cell_type": "markdown",
   "metadata": {},
   "source": [
    "Build the Stokes system and solvers\n",
    "------\n",
    "\n",
    "Setup the Stokes system with linear or nonlinear visocity viscosity depending on case."
   ]
  },
  {
   "cell_type": "code",
   "execution_count": 11,
   "metadata": {
    "collapsed": false
   },
   "outputs": [],
   "source": [
    "stokesPIC = uw.systems.Stokes(velocityField=velocityField, \n",
    "                              pressureField=pressureField,\n",
    "                              conditions=[freeslipBC,],\n",
    "                              fn_viscosity=fn.exception.SafeMaths(fn_viscosity), \n",
    "                              fn_bodyforce=buoyancyFn)"
   ]
  },
  {
   "cell_type": "markdown",
   "metadata": {},
   "source": [
    "Setup solver for the Stokes system of equations"
   ]
  },
  {
   "cell_type": "code",
   "execution_count": 12,
   "metadata": {
    "collapsed": false
   },
   "outputs": [],
   "source": [
    "solver = uw.systems.Solver( stokesPIC )"
   ]
  },
  {
   "cell_type": "markdown",
   "metadata": {},
   "source": [
    "We do one solve for initial pressure and velocity with linear viscosity to get the initial strain rate invariant. This solve step also calculates a 'guess' of the the velocity field based on the linear system, which is used later in the non-linear solver."
   ]
  },
  {
   "cell_type": "code",
   "execution_count": 13,
   "metadata": {
    "collapsed": false
   },
   "outputs": [],
   "source": [
    "solver.solve( nonLinearIterate=False )"
   ]
  },
  {
   "cell_type": "markdown",
   "metadata": {},
   "source": [
    "Create an advective-diffusive system\n",
    "-----\n",
    "\n",
    "Setup the system in underworld by flagging the temperature and velocity field variables."
   ]
  },
  {
   "cell_type": "code",
   "execution_count": 14,
   "metadata": {
    "collapsed": false
   },
   "outputs": [],
   "source": [
    "advDiff = uw.systems.AdvectionDiffusion( temperatureField, temperatureDotField, velocityField,\n",
    "                                         fn_diffusivity=1., conditions=[tempBC,] )"
   ]
  },
  {
   "cell_type": "markdown",
   "metadata": {},
   "source": [
    "Metrics for benchmark\n",
    "-----\n",
    "\n",
    "Define diagnostic functions to be used in the time loop and/or measured after reaching steady state:\n",
    "\n",
    "* Average temperature\n",
    "$$  \\langle T \\rangle  = \\int^1_0 \\int^1_0 T \\, dxdy $$\n",
    "* Top and bottom Nusselt numbers\n",
    "$$Nu_{top/bot} = - \\left. \\int^1_0 \\frac{\\partial T}{\\partial y} \\right|_{y=1/y=0} \\, dx$$\n",
    "* RMS velocity over the whole domain, surface and max velocity at surface\n",
    "$$u_{RMS} = \\left( \\int_0^1 \\int_0^1 \\left( u_x^2 + u_y^2 \\right) dx dy \\right)^{1/2}$$\n",
    "$$u_{RMS}^{surf} = \\left( \\left. \\int_0^1 u_x^2\\right|_{y=1} dx \\right)^{1/2}$$\n",
    "$$u_{max}^{surf} = \\left. \\max(u_x)\\right|_{y=1}$$\n",
    "* max and min viscosity over the whole domain\n",
    "$$\\eta_{max/min} = \\max / \\min \\left( \\eta\\left(x,y\\right) \\right)$$\n",
    "* average rate of work done against gravity\n",
    "$$\\langle W \\rangle = \\int^1_0 \\int^1_0 T u_y \\, dx dy$$\n",
    "* and the average rate of viscous dissipation\n",
    "$$\\langle \\Phi \\rangle = \\int^1_0 \\int^1_0 \\tau_{ij} \\dot \\epsilon_{ij} \\, dx dy$$\n",
    "\n",
    "* In steady state, if thermal energy is accurately conserved, the difference between $\\langle W \\rangle$ and $\\langle \\Phi \\rangle / Ra$ must vanish, so also reported is the percentage error: \n",
    "\n",
    "$$ \\delta = \\frac{\\lvert \\langle W \\rangle - \\frac{\\langle \\Phi \\rangle}{Ra} \\rvert}{max \\left(  \\langle W \\rangle,  \\frac{\\langle \\Phi \\rangle}{Ra}\\right)} \\times 100% $$"
   ]
  },
  {
   "cell_type": "markdown",
   "metadata": {},
   "source": [
    "**Setup volume integrals used in metric functions**"
   ]
  },
  {
   "cell_type": "code",
   "execution_count": 15,
   "metadata": {
    "collapsed": false
   },
   "outputs": [],
   "source": [
    "# temperature\n",
    "tempint = uw.utils.Integral( temperatureField, mesh )\n",
    "# area\n",
    "areaint = uw.utils.Integral( 1.,               mesh )\n",
    "# velocity squared\n",
    "v2int   = uw.utils.Integral(fn.math.dot(velocityField,velocityField), mesh)\n",
    "# work done\n",
    "dwint   = uw.utils.Integral(temperatureField*velocityField[1], mesh)\n",
    "# viscous dissipation\n",
    "sinner = fn.math.dot(secinv,secinv)\n",
    "vdint = uw.utils.Integral((4.*fn_viscosity*sinner), mesh)"
   ]
  },
  {
   "cell_type": "markdown",
   "metadata": {},
   "source": [
    "**Setup surface integrals used in metric functions**"
   ]
  },
  {
   "cell_type": "code",
   "execution_count": 16,
   "metadata": {
    "collapsed": false
   },
   "outputs": [],
   "source": [
    "rmsSurfInt = uw.utils.Integral( fn=velocityField[0]*velocityField[0], mesh=mesh, integrationType='Surface', \n",
    "                          surfaceIndexSet=mesh.specialSets[\"MaxJ_VertexSet\"])\n",
    "nuTop      = uw.utils.Integral( fn=temperatureField.fn_gradient[1], mesh=mesh, integrationType='Surface', \n",
    "                          surfaceIndexSet=mesh.specialSets[\"MaxJ_VertexSet\"])\n",
    "nuBottom   = uw.utils.Integral( fn=temperatureField.fn_gradient[1], mesh=mesh, integrationType='Surface', \n",
    "                          surfaceIndexSet=mesh.specialSets[\"MinJ_VertexSet\"])"
   ]
  },
  {
   "cell_type": "markdown",
   "metadata": {},
   "source": [
    "**Define diagnostic functions using integrals**"
   ]
  },
  {
   "cell_type": "code",
   "execution_count": 17,
   "metadata": {
    "collapsed": false
   },
   "outputs": [],
   "source": [
    "def avg_temp():\n",
    "    return tempint.evaluate()[0]/areaint.evaluate()[0]\n",
    "\n",
    "def nusseltTB(temp_field, mesh):\n",
    "    return -nuTop.evaluate()[0], -nuBottom.evaluate()[0]\n",
    "\n",
    "def rms():\n",
    "    return math.sqrt(v2int.evaluate()[0]/areaint.evaluate()[0])\n",
    "\n",
    "def rms_surf():\n",
    "    return math.sqrt(rmsSurfInt.evaluate()[0])\n",
    "\n",
    "def max_vx_surf(velfield, mesh):\n",
    "    vuvelxfn = fn.view.min_max(velfield[0])\n",
    "    vuvelxfn.evaluate(mesh.specialSets[\"MaxJ_VertexSet\"])\n",
    "    return vuvelxfn.max_global()\n",
    "\n",
    "def gravwork(workfn):\n",
    "    return workfn.evaluate()[0]\n",
    "\n",
    "def viscdis(vdissfn):\n",
    "    return vdissfn.evaluate()[0]\n",
    "\n",
    "def visc_extr(viscfn):\n",
    "    vuviscfn = fn.view.min_max(viscfn)\n",
    "    vuviscfn.evaluate(mesh)\n",
    "    return vuviscfn.max_global(), vuviscfn.min_global()"
   ]
  },
  {
   "cell_type": "code",
   "execution_count": 18,
   "metadata": {
    "collapsed": false
   },
   "outputs": [],
   "source": [
    "#Fields for saving data / fields\n",
    "rmsField = uw.mesh.MeshVariable( mesh=mesh, nodeDofCount=1 )\n",
    "rmsfn    = fn.math.sqrt( fn.math.dot( velocityField, velocityField ) )\n",
    "rmsdata  = rmsfn.evaluate( mesh )\n",
    "rmsField.data[:] = rmsdata \n",
    "\n",
    "viscField = uw.mesh.MeshVariable( mesh=mesh, nodeDofCount=1 )\n",
    "viscdata  = fn_viscosity.evaluate( mesh )\n",
    "viscField.data[:] = viscdata\n",
    "\n",
    "stressField = uw.mesh.MeshVariable( mesh=mesh, nodeDofCount=1)\n",
    "srtdata     = fn.tensor.second_invariant( fn.tensor.symmetric( velocityField.fn_gradient ) )\n",
    "rostfield   = srtdata.evaluate( mesh )\n",
    "stressinv   = 2*viscdata*rostfield[:]\n",
    "stressField.data[:] = stressinv"
   ]
  },
  {
   "cell_type": "markdown",
   "metadata": {},
   "source": [
    "Main simulation loop\n",
    "------\n",
    "\n",
    "Normally a loop over time increments would be added here. As we are only interested in the post-analysis a single time step will be taken to ensure that all analysis fields are live. This step will involve the non-linear Stokes system solver."
   ]
  },
  {
   "cell_type": "code",
   "execution_count": 19,
   "metadata": {
    "collapsed": false
   },
   "outputs": [],
   "source": [
    "steps_todo = 1"
   ]
  },
  {
   "cell_type": "markdown",
   "metadata": {
    "collapsed": false
   },
   "source": [
    "Initialise steps and time. Set to zero unless loading values from file."
   ]
  },
  {
   "cell_type": "code",
   "execution_count": 20,
   "metadata": {
    "collapsed": false
   },
   "outputs": [
    {
     "name": "stdout",
     "output_type": "stream",
     "text": [
      "This model has previously completed  57800 steps to get to time = 0.502\n"
     ]
    }
   ],
   "source": [
    "try:\n",
    "    realtime = timeVal[-1]\n",
    "    step = int(stepsVal[-1])\n",
    "except:\n",
    "    realtime = 0.0\n",
    "    step = 0\n",
    "steps_end = step + steps_todo\n",
    "steps_output = 100\n",
    "steps_output = max(steps_output,1)\n",
    "print('This model has previously completed {0:6d} steps to get to time = {1:.3f}'.format(step,realtime))"
   ]
  },
  {
   "cell_type": "code",
   "execution_count": 21,
   "metadata": {
    "collapsed": false
   },
   "outputs": [],
   "source": [
    "# initialise timer for computation\n",
    "start = time.clock()\n",
    "# start loop\n",
    "while step < steps_end:\n",
    "    # Solve non-linear system\n",
    "    solver.solve(nonLinearIterate=True)\n",
    "    dt = advDiff.get_max_dt()\n",
    "    if step == 0:\n",
    "        dt = 0.\n",
    "    # Advect using this timestep size   \n",
    "    advDiff.integrate(dt)\n",
    "    # Increment\n",
    "    realtime += dt\n",
    "    step += 1\n",
    "    # Calculate the Metrics, only on 1 of the processors:\n",
    "    Avg_temp = avg_temp()\n",
    "    Rms = rms()\n",
    "    Rms_surf = rms_surf()\n",
    "    Max_vx_surf = max_vx_surf(velocityField, mesh)\n",
    "    Gravwork = gravwork(dwint)\n",
    "    Viscdis = viscdis(vdint)\n",
    "    nu1, nu0 = nusseltTB(temperatureField, mesh) # return top then bottom\n",
    "    etamax, etamin = visc_extr(fn_viscosity)\n",
    "    # store results\n",
    "    stepsVal.append(       step)\n",
    "    timeVal.append(        realtime )\n",
    "    viscdisVal.append(     Viscdis )\n",
    "    nu0Val.append(         nu0 )\n",
    "    nu1Val.append(         nu1 )\n",
    "    Avg_tempVal.append(    Avg_temp )\n",
    "    vrmsVal.append(        Rms )\n",
    "    Rms_surfVal.append(    Rms_surf )\n",
    "    Max_vx_surfVal.append( Max_vx_surf )\n",
    "    GravworkVal.append(    Gravwork )\n",
    "    etamaxVal.append(      etamax )\n",
    "    etaminVal.append(      etamin )\n",
    "\n",
    "    # output fields and summary info to file (output graphics can also be added here)\n",
    "    if uw.rank()==0:\n",
    "        if (step % steps_output == 0) or (step == steps_end-1):\n",
    "            print 'step =',step, '; CPU time =', time.clock()-start, '; vrms = ',Rms\n",
    "            # Temperature\n",
    "            fnametemp = \"temperatureField_\" + str(step).zfill(6) + \".h5\"\n",
    "            fullpath = os.path.join(outputPath + \"files/\" + fnametemp)\n",
    "            temperatureField.save(fullpath)\n",
    "            # Temperature time derivative\n",
    "            fnametemp = \"temperatureDotField_\" + str(step).zfill(6) + \".h5\"\n",
    "            fullpath = os.path.join(outputPath + \"files/\" + fnametemp)\n",
    "            temperatureDotField.save(fullpath)\n",
    "            # Pressure\n",
    "            fnametemp = \"pressureField_\" + str(step).zfill(6) + \".h5\"\n",
    "            fullpath = os.path.join(outputPath + \"files/\" + fnametemp)\n",
    "            pressureField.save(fullpath)\n",
    "            # Velocity\n",
    "            fnametemp = \"velocityField_\" + str(step).zfill(6) + \".h5\"\n",
    "            fullpath = os.path.join(outputPath + \"files/\" + fnametemp)\n",
    "            velocityField.save(fullpath)\n",
    "\n",
    "            np.savetxt( outputPath + 'Summary.txt', np.c_[stepsVal, timeVal, viscdisVal, nu0Val, \n",
    "                                                          nu1Val, Avg_tempVal, vrmsVal, Rms_surfVal,\n",
    "                                                         Max_vx_surfVal, GravworkVal, etamaxVal, etaminVal], \n",
    "                   header=\"Steps, Time, visc, Nusselt bottom/top, av_T, vrms, surf_rms, surf_max, grav, etamax, etamin\" )"
   ]
  },
  {
   "cell_type": "markdown",
   "metadata": {},
   "source": [
    "Post-simulation analysis\n",
    "-------\n",
    "\n",
    "Here we will calculate the quantities specified for this case in Tosi et al. (2015) and finally compare them to the values given in their Table 2."
   ]
  },
  {
   "cell_type": "markdown",
   "metadata": {},
   "source": [
    "**Plot final temperature and velocity fields**"
   ]
  },
  {
   "cell_type": "code",
   "execution_count": 22,
   "metadata": {
    "collapsed": false
   },
   "outputs": [
    {
     "data": {
      "text/html": [
       "<img src='data:image/png;base64,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'>"
      ],
      "text/plain": [
       "<IPython.core.display.HTML object>"
      ]
     },
     "metadata": {},
     "output_type": "display_data"
    }
   ],
   "source": [
    "velmax = np.amax(velocityField.data[:])\n",
    "if(velmax==0.0): velmax = 1.0\n",
    "fig1 = glucifer.Figure()\n",
    "fig1.append( glucifer.objects.Surface(mesh, temperatureField) )\n",
    "fig1.append( glucifer.objects.VectorArrows(mesh, velocityField/velmax, scaling=0.1, arrowHead=0.2) )\n",
    "fig1.show()"
   ]
  },
  {
   "cell_type": "markdown",
   "metadata": {},
   "source": [
    "**Calculate quantities for benchmark comparison**"
   ]
  },
  {
   "cell_type": "code",
   "execution_count": 23,
   "metadata": {
    "collapsed": true
   },
   "outputs": [],
   "source": [
    "tempAv = Avg_tempVal[-1]\n",
    "nuTop = nu1Val[-1]\n",
    "nuBot = nu0Val[-1]\n",
    "uRMS = vrmsVal[-1]\n",
    "uSurfRMS = Rms_surfVal[-1]\n",
    "uSurfMax = Max_vx_surfVal[-1]\n",
    "etaMin = etaminVal[-1]\n",
    "etaMax = etamaxVal[-1]\n",
    "workDone = GravworkVal[-1]\n",
    "phi = viscdisVal[-1]/100.\n",
    "delta = abs(workDone - phi)/max(workDone, phi) * 100."
   ]
  },
  {
   "cell_type": "markdown",
   "metadata": {},
   "source": [
    "**Output all quantities for this case**"
   ]
  },
  {
   "cell_type": "code",
   "execution_count": 24,
   "metadata": {
    "collapsed": false
   },
   "outputs": [
    {
     "name": "stdout",
     "output_type": "stream",
     "text": [
      "<T>        = 0.7009\n",
      "Nu_top     = 2.8629\n",
      "Nu_bot     = 3.3642\n",
      "u_rms      = 91.5907\n",
      "u^surf_rms = 2.1801\n",
      "u^surf_max = 3.0522\n",
      "eta_min    = 5.7629e-05\n",
      "eta_max    = 1.0000\n",
      "W          = 2.1111\n",
      "Phi        = 2.1121\n",
      "delta      = 0.0481%\n"
     ]
    }
   ],
   "source": [
    "print('<T>        = {0:.4f}'.format(tempAv))\n",
    "print('Nu_top     = {0:.4f}'.format(nuTop))\n",
    "print('Nu_bot     = {0:.4f}'.format(nuBot))\n",
    "print('u_rms      = {0:.4f}'.format(uRMS))\n",
    "print('u^surf_rms = {0:.4f}'.format(uSurfRMS))\n",
    "print('u^surf_max = {0:.4f}'.format(uSurfMax))\n",
    "print('eta_min    = {0:.4e}'.format(etaMin))\n",
    "print('eta_max    = {0:.4f}'.format(etaMax))\n",
    "print('W          = {0:.4f}'.format(workDone))\n",
    "print('Phi        = {0:.4f}'.format(phi))\n",
    "print('delta      = {0:.4f}%'.format(delta))"
   ]
  },
  {
   "cell_type": "markdown",
   "metadata": {},
   "source": [
    "**Comparison values from Tosi et al. (2015)**\n",
    "\n",
    "The expected benchmark values from Table 2 of Tosi et al. (2015) for case 3 are given in the table below. The minimum and maximum values from each of the participating codes are given here to provide an expected range for each quantity.\n",
    "\n",
    "| Case 3  | $<$$T$$>$ | $Nu_{top}$ | $Nu_{bot}$ | $u_{RMS}$ | $u_{RMS}^{surf}$ | $u_{max}^{surf}$ | $\\eta_{min}$ | $\\eta_{max}$ | $<$$W$$>$ |  $<$$\\Phi$$>$/Ra | $\\delta$ |\n",
    "|:--------|:---------:|:----------:|:----------:|:---------:|:----------------:|:----------------:|:------------:|:------------:|:------------:|:------------------:|:--------:|\n",
    "| Min     | 0.7241 | 3.0253 | 2.9628 | 99.8701  | 2.0374 | 2.8458 | 4.7907$\\times 10^{-5}$ | 0.9010 | 2.0028 | 2.0277 | $<$0.01% |\n",
    "| Max     | 0.7268 | 3.0918 | 3.0376 | 100.9467 | 2.0916 | 2.9207 | 4.8400$\\times 10^{-5}$ | 1.0000 | 2.0400 | 2.0370 | 1.23% |\n",
    "\n",
    "Note that the values from the spectral code MC3D are not used to construct the min/max values here, as they are outlier values."
   ]
  }
 ],
 "metadata": {
  "kernelspec": {
   "display_name": "Python 2",
   "language": "python",
   "name": "python2"
  },
  "language_info": {
   "codemirror_mode": {
    "name": "ipython",
    "version": 2
   },
   "file_extension": ".py",
   "mimetype": "text/x-python",
   "name": "python",
   "nbconvert_exporter": "python",
   "pygments_lexer": "ipython2",
   "version": "2.7.10"
  }
 },
 "nbformat": 4,
 "nbformat_minor": 0
}
