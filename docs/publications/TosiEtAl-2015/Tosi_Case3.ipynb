{
 "cells": [
  {
   "cell_type": "markdown",
   "metadata": {
    "collapsed": true
   },
   "source": [
    "Viscoplastic thermal convection in a 2-D square box: Tosi et al. 2015\n",
    "=====\n",
    "\n",
    "This series of notebooks generates benchmark models from the Tosi et al. (2015) in Underworld2. The Underworld2 results are then directly compared to the results from Table 2 of Tosi et al. (2015) the paper for each case. The notebooks are broken into a general notebook for reproducing the models from scratch and 5 post-analysis notebooks which look at the results Underworld2 gives for each case after running to equilibrium. \n",
    "\n",
    "Case 3: Stagnant lid (larger viscosity constrast)\n",
    "-------\n",
    "\n",
    "TThis case has a temperature-dependent linear rheology, like case 1, but with a larger value for the depth-dependent viscosity contrast ($\\Delta \\eta_y$). \n",
    "The parameters used for case 3 are: $Ra = 10^2$, $\\Delta \\eta_T = 10^5$ and $\\Delta \\eta_z = 10$.\n",
    "\n",
    "\n",
    "References\n",
    "-----\n",
    "\n",
    "1. Tosi, Nicola and Stein, Claudia and Noack, Lena and H&uuml;ttig, Christian and Maierov&aacute;, Petra and Samuel, Henri and Davies, DR and Wilson, CR and Kramer, SC and Thieulot, Cedric and others. 2015. _A community benchmark for viscoplastic thermal convection in a 2-D square box_.\n",
    "\n"
   ]
  },
  {
   "cell_type": "markdown",
   "metadata": {},
   "source": [
    "Load python functions needed for underworld. Some additional python functions from os, math and numpy used later on."
   ]
  },
  {
   "cell_type": "code",
   "execution_count": 1,
   "metadata": {
    "collapsed": false
   },
   "outputs": [],
   "source": [
    "%matplotlib inline\n",
    "import underworld as uw\n",
    "import math\n",
    "from underworld import function as fn\n",
    "import glucifer\n",
    "import matplotlib.pyplot as pyplot\n",
    "import matplotlib.pylab as pylab\n",
    "import time\n",
    "import numpy as np\n",
    "import os"
   ]
  },
  {
   "cell_type": "markdown",
   "metadata": {},
   "source": [
    "Set physical constants and parameters, including the Rayleigh number (*Ra*) and viscosity constants ($\\eta^*$ and $\\eta_T$) which are common to all Tosi et al cases."
   ]
  },
  {
   "cell_type": "code",
   "execution_count": 2,
   "metadata": {
    "collapsed": false
   },
   "outputs": [],
   "source": [
    "RA  = 1e2        # Rayleigh number\n",
    "ETA_T = 1e5      # common viscosity constant\n",
    "TS  = 0          # surface temperature\n",
    "TB  = 1          # bottom boundary temperature (melting point)\n",
    "ETA0 = 1e-3      # viscosity constant eta^* in Tosi et al\n",
    "TMAX = 3.0\n",
    "IMAX = 1000"
   ]
  },
  {
   "cell_type": "markdown",
   "metadata": {},
   "source": [
    "Select case 3 of Tosi et al (2015) and set constants as required."
   ]
  },
  {
   "cell_type": "code",
   "execution_count": 3,
   "metadata": {
    "collapsed": false
   },
   "outputs": [],
   "source": [
    "CASE = 3\n",
    "ETA_Y = 10.\n",
    "YSTRESS = 0."
   ]
  },
  {
   "cell_type": "markdown",
   "metadata": {},
   "source": [
    "Set input and output file directories"
   ]
  },
  {
   "cell_type": "code",
   "execution_count": 4,
   "metadata": {
    "collapsed": false
   },
   "outputs": [],
   "source": [
    "# input file directory\n",
    "inputPath  = 'TosiInput/case' + str(CASE) + \"/\"\n",
    "# output files\n",
    "outputPath = 'TosiOutput/'\n",
    "filePath   = outputPath+'files'\n",
    "# make directories if they don't exist\n",
    "if not os.path.isdir(outputPath):\n",
    "    os.makedirs(outputPath)\n",
    "if not os.path.isdir(filePath):\n",
    "    os.makedirs(filePath)"
   ]
  },
  {
   "cell_type": "markdown",
   "metadata": {},
   "source": [
    "Create mesh and finite element variables\n",
    "------\n",
    "\n",
    "Set up mesh and field variables that are solved on the mesh."
   ]
  },
  {
   "cell_type": "code",
   "execution_count": 5,
   "metadata": {
    "collapsed": false
   },
   "outputs": [],
   "source": [
    "res = 128\n",
    "mesh = uw.mesh.FeMesh_Cartesian( elementType = (\"Q1/dQ0\"), \n",
    "                                 elementRes  = (res, res), \n",
    "                                 minCoord    = (0., 0.), \n",
    "                                 maxCoord    = (1., 1.))\n",
    "\n",
    "velocityField       = uw.meshvariable.MeshVariable( mesh=mesh,         nodeDofCount=2 )\n",
    "pressureField       = uw.meshvariable.MeshVariable( mesh=mesh.subMesh, nodeDofCount=1 )\n",
    "temperatureField    = uw.meshvariable.MeshVariable( mesh=mesh,         nodeDofCount=1 )\n",
    "temperatureDotField = uw.meshvariable.MeshVariable( mesh=mesh,         nodeDofCount=1 )"
   ]
  },
  {
   "cell_type": "markdown",
   "metadata": {},
   "source": [
    "Set initial conditions and boundary conditions\n",
    "----------\n",
    "\n",
    "Load all variable fields and summary data with data from previously run cases."
   ]
  },
  {
   "cell_type": "code",
   "execution_count": 6,
   "metadata": {
    "collapsed": false
   },
   "outputs": [],
   "source": [
    "# load fields\n",
    "temperatureField.load(    inputPath+'temperatureField.h5' )\n",
    "temperatureDotField.load( inputPath+'temperatureDotField.h5' )\n",
    "pressureField.load(       inputPath+'pressureField.h5')\n",
    "velocityField.load(       inputPath+'velocityField.h5')\n",
    "\n",
    "# load past iterations of summary data\n",
    "data = np.loadtxt( inputPath+'Summary.txt', unpack=True )\n",
    "stepsVal = data[0].tolist()\n",
    "timeVal = data[1].tolist()\n",
    "viscdisVal = data[2].tolist()\n",
    "nu0Val = data[3].tolist()\n",
    "nu1Val = data[4].tolist()\n",
    "Avg_tempVal = data[5].tolist()\n",
    "vrmsVal = data[6].tolist()\n",
    "Rms_surfVal = data[7].tolist()\n",
    "Max_vx_surfVal = data[8].tolist()\n",
    "GravworkVal = data[9].tolist()\n",
    "etamaxVal = data[10].tolist()\n",
    "etaminVal = data[11].tolist() "
   ]
  },
  {
   "cell_type": "markdown",
   "metadata": {},
   "source": [
    "**Conditions on the boundaries**"
   ]
  },
  {
   "cell_type": "code",
   "execution_count": 7,
   "metadata": {
    "collapsed": true
   },
   "outputs": [],
   "source": [
    "iWalls = mesh.specialSets[\"MinI_VertexSet\"] + mesh.specialSets[\"MaxI_VertexSet\"]\n",
    "jWalls = mesh.specialSets[\"MinJ_VertexSet\"] + mesh.specialSets[\"MaxJ_VertexSet\"]\n",
    "freeslipBC = uw.conditions.DirichletCondition( variable      = velocityField, \n",
    "                                               indexSetsPerDof = (iWalls, jWalls) )\n",
    "tempBC     = uw.conditions.DirichletCondition( variable      = temperatureField, \n",
    "                                               indexSetsPerDof = (jWalls,) )"
   ]
  },
  {
   "cell_type": "markdown",
   "metadata": {
    "collapsed": false
   },
   "source": [
    "Set up material parameters and functions\n",
    "-----\n"
   ]
  },
  {
   "cell_type": "markdown",
   "metadata": {},
   "source": [
    "**Viscosity field**\n",
    "\n",
    "The viscosity is a function of temperature ($T$), the vertical coordinate ($z$) and the strain rate ($\\dot{\\epsilon}$) and is given by\n",
    "\n",
    "$$\n",
    "    \\eta(T, z, \\dot{\\epsilon}) = 2 \\left( \\frac{1}{\\eta_{lin}(T,z)} + \\frac{1}{\\eta_{plast}(\\dot{\\epsilon})} \\right)^{-1}\n",
    "$$\n",
    "\n",
    "where the linear part is\n",
    "\n",
    "$$\n",
    "    \\eta_{lin}(T, z) = \\exp(-\\gamma_T T + \\gamma_z z)\n",
    "$$\n",
    "\n",
    "with $\\gamma_T = \\ln(\\Delta \\eta_T)$ and $\\gamma_z = \\ln(\\Delta \\eta_z)$. The nonlinear part is\n",
    "\n",
    "$$\n",
    "    \\eta_{plast}(\\dot{\\epsilon}) = \\eta^* + \\frac{\\sigma_{\\gamma}}{\\sqrt{\\dot{\\epsilon} : \\dot{\\epsilon}}}\n",
    "$$\n",
    "\n",
    "where $\\eta^*$ is the effective viscosity at high stresses and $\\sigma_{\\gamma}$ is the yield stress. The values of $\\Delta \\eta_T$, $\\Delta \\eta_z$, $\\eta^*$ and $\\sigma_{\\gamma}$ are assumed to be constant with values dependent on the particular case."
   ]
  },
  {
   "cell_type": "markdown",
   "metadata": {},
   "source": [
    "**Create variables required for plasticity calculations**"
   ]
  },
  {
   "cell_type": "code",
   "execution_count": 8,
   "metadata": {
    "collapsed": false
   },
   "outputs": [],
   "source": [
    "secinv = fn.tensor.second_invariant( fn.tensor.symmetric( velocityField.gradientFn ) )\n",
    "coordinate = fn.coord()"
   ]
  },
  {
   "cell_type": "markdown",
   "metadata": {},
   "source": [
    "**Setup viscosity functions**\n",
    "\n",
    "Remember to use floats everywhere when setting up functions"
   ]
  },
  {
   "cell_type": "code",
   "execution_count": 9,
   "metadata": {
    "collapsed": false
   },
   "outputs": [],
   "source": [
    "viscosityl1 = fn.math.exp(math.log(ETA_T)*-1.*temperatureField)\n",
    "viscosityl2 = fn.math.exp((math.log(ETA_T)*-1.*temperatureField) + (1.-coordinate[1])*math.log(ETA_Y))\n",
    "\n",
    "#Von Mises effective viscosity\n",
    "viscosityp = ETA0 + YSTRESS/(secinv/math.sqrt(0.5)) #extra factor to account for underworld second invariant form\n",
    "\n",
    "if CASE == 1:\n",
    "    viscosityFn = viscosityl1\n",
    "elif CASE == 2:\n",
    "    viscosityFn = 2./(1./viscosityl1 + 1./viscosityp)\n",
    "elif CASE == 3:\n",
    "    viscosityFn = viscosityl2\n",
    "else:\n",
    "    viscosityFn = 2./(1./viscosityl2 + 1./viscosityp)"
   ]
  },
  {
   "cell_type": "markdown",
   "metadata": {},
   "source": [
    "**Add functions for density and buoyancy**"
   ]
  },
  {
   "cell_type": "code",
   "execution_count": 10,
   "metadata": {
    "collapsed": true
   },
   "outputs": [],
   "source": [
    "densityFn = RA*temperatureField\n",
    "\n",
    "# define our vertical unit vector using a python tuple (this will be automatically converted to a function)\n",
    "z_hat = ( 0.0, 1.0 )\n",
    "\n",
    "# now create a buoyancy force vector using the density (FEvariable) and the vertical unit vector. \n",
    "buoyancyFn = densityFn * z_hat"
   ]
  },
  {
   "cell_type": "markdown",
   "metadata": {},
   "source": [
    "Build the Stokes system and solvers\n",
    "------\n",
    "\n",
    "Setup the Stokes system with linear or nonlinear visocity viscosity depending on case."
   ]
  },
  {
   "cell_type": "code",
   "execution_count": 11,
   "metadata": {
    "collapsed": false
   },
   "outputs": [],
   "source": [
    "stokesPIC = uw.systems.Stokes(velocityField=velocityField, \n",
    "                              pressureField=pressureField,\n",
    "                              conditions=[freeslipBC,],\n",
    "                              viscosityFn=fn.exception.SafeMaths(viscosityFn), \n",
    "                              bodyForceFn=buoyancyFn)"
   ]
  },
  {
   "cell_type": "markdown",
   "metadata": {},
   "source": [
    "Setup solver for the Stokes system of equations"
   ]
  },
  {
   "cell_type": "code",
   "execution_count": 12,
   "metadata": {
    "collapsed": false
   },
   "outputs": [],
   "source": [
    "solver = uw.systems.Solver( stokesPIC )"
   ]
  },
  {
   "cell_type": "markdown",
   "metadata": {},
   "source": [
    "We do one solve for initial pressure and velocity with linear viscosity to get the initial strain rate invariant. This solve step also calculates a 'guess' of the the velocity field based on the linear system, which is used later in the non-linear solver."
   ]
  },
  {
   "cell_type": "code",
   "execution_count": 13,
   "metadata": {
    "collapsed": false
   },
   "outputs": [],
   "source": [
    "solver.solve( nonLinearIterate=False )"
   ]
  },
  {
   "cell_type": "markdown",
   "metadata": {},
   "source": [
    "Create an advective-diffusive system\n",
    "-----\n",
    "\n",
    "Setup the system in underworld by flagging the temperature and velocity field variables."
   ]
  },
  {
   "cell_type": "code",
   "execution_count": 14,
   "metadata": {
    "collapsed": false
   },
   "outputs": [],
   "source": [
    "advDiff = uw.systems.AdvectionDiffusion( temperatureField, temperatureDotField, velocityField,\n",
    "                                         diffusivity=1., conditions=[tempBC,] )"
   ]
  },
  {
   "cell_type": "markdown",
   "metadata": {},
   "source": [
    "Metrics for benchmark\n",
    "-----\n",
    "\n",
    "Define diagnostic functions to be used in the time loop and/or measured after reaching steady state:\n",
    "\n",
    "* Average temperature\n",
    "$$  \\langle T \\rangle  = \\int^1_0 \\int^1_0 T \\, dxdy $$\n",
    "* Top and bottom Nusselt numbers\n",
    "$$Nu_{top/bot} = - \\left. \\int^1_0 \\frac{\\partial T}{\\partial y} \\right|_{y=1/y=0} \\, dx$$\n",
    "* RMS velocity over the whole domain, surface and max velocity at surface\n",
    "$$u_{RMS} = \\left( \\int_0^1 \\int_0^1 \\left( u_x^2 + u_y^2 \\right) dx dy \\right)^{1/2}$$\n",
    "$$u_{RMS}^{surf} = \\left( \\left. \\int_0^1 u_x^2\\right|_{y=1} dx \\right)^{1/2}$$\n",
    "$$u_{max}^{surf} = \\left. \\max(u_x)\\right|_{y=1}$$\n",
    "* max and min viscosity over the whole domain\n",
    "$$\\eta_{max/min} = \\max / \\min \\left( \\eta\\left(x,y\\right) \\right)$$\n",
    "* average rate of work done against gravity\n",
    "$$\\langle W \\rangle = \\int^1_0 \\int^1_0 T u_y \\, dx dy$$\n",
    "* and the average rate of viscous dissipation\n",
    "$$\\langle \\Phi \\rangle = \\int^1_0 \\int^1_0 \\tau_{ij} \\dot \\epsilon_{ij} \\, dx dy$$\n",
    "\n",
    "* In steady state, if thermal energy is accurately conserved, the difference between $\\langle W \\rangle$ and $\\langle \\Phi \\rangle / Ra$ must vanish, so also reported is the percentage error: \n",
    "\n",
    "$$ \\delta = \\frac{\\lvert \\langle W \\rangle - \\frac{\\langle \\Phi \\rangle}{Ra} \\rvert}{max \\left(  \\langle W \\rangle,  \\frac{\\langle \\Phi \\rangle}{Ra}\\right)} \\times 100% $$"
   ]
  },
  {
   "cell_type": "markdown",
   "metadata": {},
   "source": [
    "**Setup volume integrals used in metric functions**"
   ]
  },
  {
   "cell_type": "code",
   "execution_count": 15,
   "metadata": {
    "collapsed": false
   },
   "outputs": [],
   "source": [
    "# temperature\n",
    "tempint = uw.utils.Integral( temperatureField, mesh )\n",
    "# area\n",
    "areaint = uw.utils.Integral( 1.,               mesh )\n",
    "# velocity squared\n",
    "v2int   = uw.utils.Integral(fn.math.dot(velocityField,velocityField), mesh)\n",
    "# work done\n",
    "dwint   = uw.utils.Integral(temperatureField*velocityField[1], mesh)\n",
    "# viscous dissipation\n",
    "sinner = fn.math.dot(secinv,secinv)\n",
    "vdint = uw.utils.Integral((4.*viscosityFn*sinner), mesh)"
   ]
  },
  {
   "cell_type": "markdown",
   "metadata": {},
   "source": [
    "**Setup surface integrals used in metric functions**"
   ]
  },
  {
   "cell_type": "code",
   "execution_count": 16,
   "metadata": {
    "collapsed": false
   },
   "outputs": [],
   "source": [
    "rmsSurfInt = uw.utils.Integral( fn=velocityField[0]*velocityField[0], mesh=mesh, integrationType='Surface', \n",
    "                          surfaceIndexSet=mesh.specialSets[\"MaxJ_VertexSet\"])\n",
    "nuTop      = uw.utils.Integral( fn=temperatureField.gradientFn[1], mesh=mesh, integrationType='Surface', \n",
    "                          surfaceIndexSet=mesh.specialSets[\"MaxJ_VertexSet\"])\n",
    "nuBottom   = uw.utils.Integral( fn=temperatureField.gradientFn[1], mesh=mesh, integrationType='Surface', \n",
    "                          surfaceIndexSet=mesh.specialSets[\"MinJ_VertexSet\"])"
   ]
  },
  {
   "cell_type": "markdown",
   "metadata": {},
   "source": [
    "**Define diagnostic functions using integrals**"
   ]
  },
  {
   "cell_type": "code",
   "execution_count": 17,
   "metadata": {
    "collapsed": false
   },
   "outputs": [],
   "source": [
    "def avg_temp():\n",
    "    return tempint.evaluate()[0]/areaint.evaluate()[0]\n",
    "\n",
    "def nusseltTB(temp_field, mesh):\n",
    "    return -nuTop.evaluate()[0], -nuBottom.evaluate()[0]\n",
    "\n",
    "def rms():\n",
    "    return math.sqrt(v2int.evaluate()[0]/areaint.evaluate()[0])\n",
    "\n",
    "def rms_surf():\n",
    "    return math.sqrt(rmsSurfInt.evaluate()[0])\n",
    "\n",
    "def max_vx_surf(velfield, mesh):\n",
    "    vuvelxfn = fn.view.min_max(velfield[0])\n",
    "    vuvelxfn.evaluate(mesh.specialSets[\"MaxJ_VertexSet\"])\n",
    "    return vuvelxfn.max_global()\n",
    "\n",
    "def gravwork(workfn):\n",
    "    return workfn.evaluate()[0]\n",
    "\n",
    "def viscdis(vdissfn):\n",
    "    return vdissfn.evaluate()[0]\n",
    "\n",
    "def visc_extr(viscfn):\n",
    "    vuviscfn = fn.view.min_max(viscfn)\n",
    "    vuviscfn.evaluate(mesh)\n",
    "    return vuviscfn.max_global(), vuviscfn.min_global()"
   ]
  },
  {
   "cell_type": "code",
   "execution_count": 18,
   "metadata": {
    "collapsed": false
   },
   "outputs": [],
   "source": [
    "#Fields for saving data / fields\n",
    "rmsField = uw.meshvariable.MeshVariable( mesh=mesh, nodeDofCount=1 )\n",
    "rmsfn    = fn.math.sqrt( fn.math.dot( velocityField, velocityField ) )\n",
    "rmsdata  = rmsfn.evaluate( mesh )\n",
    "rmsField.data[:] = rmsdata \n",
    "\n",
    "viscField = uw.meshvariable.MeshVariable( mesh=mesh, nodeDofCount=1 )\n",
    "viscdata  = viscosityFn.evaluate( mesh )\n",
    "viscField.data[:] = viscdata\n",
    "\n",
    "stressField = uw.meshvariable.MeshVariable( mesh=mesh, nodeDofCount=1)\n",
    "srtdata     = fn.tensor.second_invariant( fn.tensor.symmetric( velocityField.gradientFn ) )\n",
    "rostfield   = srtdata.evaluate( mesh )\n",
    "stressinv   = 2*viscdata*rostfield[:]\n",
    "stressField.data[:] = stressinv"
   ]
  },
  {
   "cell_type": "markdown",
   "metadata": {},
   "source": [
    "Main simulation loop\n",
    "------\n",
    "\n",
    "Normally a loop over time increments would be added here. As we are only interested in the post-analysis a single time step will be taken to ensure that all analysis fields are live. This step will involve the non-linear Stokes system solver."
   ]
  },
  {
   "cell_type": "code",
   "execution_count": 19,
   "metadata": {
    "collapsed": false
   },
   "outputs": [],
   "source": [
    "steps_todo = 1"
   ]
  },
  {
   "cell_type": "markdown",
   "metadata": {
    "collapsed": false
   },
   "source": [
    "Initialise steps and time. Set to zero unless loading values from file."
   ]
  },
  {
   "cell_type": "code",
   "execution_count": 20,
   "metadata": {
    "collapsed": false
   },
   "outputs": [
    {
     "name": "stdout",
     "output_type": "stream",
     "text": [
      "This model has previously completed  57800 steps to get to time = 0.502\n"
     ]
    }
   ],
   "source": [
    "try:\n",
    "    realtime = timeVal[-1]\n",
    "    step = int(stepsVal[-1])\n",
    "except:\n",
    "    realtime = 0.0\n",
    "    step = 0\n",
    "steps_end = step + steps_todo\n",
    "steps_output = 100\n",
    "steps_output = max(steps_output,1)\n",
    "print('This model has previously completed {0:6d} steps to get to time = {1:.3f}'.format(step,realtime))"
   ]
  },
  {
   "cell_type": "code",
   "execution_count": 21,
   "metadata": {
    "collapsed": false
   },
   "outputs": [],
   "source": [
    "# initialise timer for computation\n",
    "start = time.clock()\n",
    "# start loop\n",
    "while step < steps_end:\n",
    "    # Solve non-linear system\n",
    "    solver.solve(nonLinearIterate=True)\n",
    "    dt = advDiff.get_max_dt()\n",
    "    if step == 0:\n",
    "        dt = 0.\n",
    "    # Advect using this timestep size   \n",
    "    advDiff.integrate(dt)\n",
    "    # Increment\n",
    "    realtime += dt\n",
    "    step += 1\n",
    "    # Calculate the Metrics, only on 1 of the processors:\n",
    "    Avg_temp = avg_temp()\n",
    "    Rms = rms()\n",
    "    Rms_surf = rms_surf()\n",
    "    Max_vx_surf = max_vx_surf(velocityField, mesh)\n",
    "    Gravwork = gravwork(dwint)\n",
    "    Viscdis = viscdis(vdint)\n",
    "    nu1, nu0 = nusseltTB(temperatureField, mesh) # return top then bottom\n",
    "    etamax, etamin = visc_extr(viscosityFn)\n",
    "    # store results\n",
    "    stepsVal.append(       step)\n",
    "    timeVal.append(        realtime )\n",
    "    viscdisVal.append(     Viscdis )\n",
    "    nu0Val.append(         nu0 )\n",
    "    nu1Val.append(         nu1 )\n",
    "    Avg_tempVal.append(    Avg_temp )\n",
    "    vrmsVal.append(        Rms )\n",
    "    Rms_surfVal.append(    Rms_surf )\n",
    "    Max_vx_surfVal.append( Max_vx_surf )\n",
    "    GravworkVal.append(    Gravwork )\n",
    "    etamaxVal.append(      etamax )\n",
    "    etaminVal.append(      etamin )\n",
    "\n",
    "    # output fields and summary info to file (output graphics can also be added here)\n",
    "    if uw.rank()==0:\n",
    "        if (step % steps_output == 0) or (step == steps_end-1):\n",
    "            print 'step =',step, '; CPU time =', time.clock()-start, '; vrms = ',Rms\n",
    "            # Temperature\n",
    "            fnametemp = \"temperatureField_\" + str(step).zfill(6) + \".h5\"\n",
    "            fullpath = os.path.join(outputPath + \"files/\" + fnametemp)\n",
    "            temperatureField.save(fullpath)\n",
    "            # Temperature time derivative\n",
    "            fnametemp = \"temperatureDotField_\" + str(step).zfill(6) + \".h5\"\n",
    "            fullpath = os.path.join(outputPath + \"files/\" + fnametemp)\n",
    "            temperatureDotField.save(fullpath)\n",
    "            # Pressure\n",
    "            fnametemp = \"pressureField_\" + str(step).zfill(6) + \".h5\"\n",
    "            fullpath = os.path.join(outputPath + \"files/\" + fnametemp)\n",
    "            pressureField.save(fullpath)\n",
    "            # Velocity\n",
    "            fnametemp = \"velocityField_\" + str(step).zfill(6) + \".h5\"\n",
    "            fullpath = os.path.join(outputPath + \"files/\" + fnametemp)\n",
    "            velocityField.save(fullpath)\n",
    "\n",
    "            np.savetxt( outputPath + 'Summary.txt', np.c_[stepsVal, timeVal, viscdisVal, nu0Val, \n",
    "                                                          nu1Val, Avg_tempVal, vrmsVal, Rms_surfVal,\n",
    "                                                         Max_vx_surfVal, GravworkVal, etamaxVal, etaminVal], \n",
    "                   header=\"Steps, Time, visc, Nusselt bottom/top, av_T, vrms, surf_rms, surf_max, grav, etamax, etamin\" )"
   ]
  },
  {
   "cell_type": "markdown",
   "metadata": {},
   "source": [
    "Post-simulation analysis\n",
    "-------\n",
    "\n",
    "Here we will calculate the quantities specified for this case in Tosi et al. (2015) and finally compare them to the values given in their Table 2."
   ]
  },
  {
   "cell_type": "markdown",
   "metadata": {},
   "source": [
    "**Plot final temperature and velocity fields**"
   ]
  },
  {
   "cell_type": "code",
   "execution_count": 22,
   "metadata": {
    "collapsed": false
   },
   "outputs": [
    {
     "data": {
      "text/html": [
       "<img src='data:image/png;base64,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'>"
      ],
      "text/plain": [
       "<IPython.core.display.HTML object>"
      ]
     },
     "execution_count": 22,
     "metadata": {},
     "output_type": "execute_result"
    }
   ],
   "source": [
    "velmax = np.amax(velocityField.data[:])\n",
    "if(velmax==0.0): velmax = 1.0\n",
    "fig1 = glucifer.Figure()\n",
    "fig1 + glucifer.objects.Surface( mesh, temperatureField, colours=\"blue white red\" )\n",
    "fig1 + glucifer.objects.VectorArrows( mesh, velocityField/velmax, lengthScale=0.1, arrowHeadSize=0.2 )\n",
    "fig1.show()"
   ]
  },
  {
   "cell_type": "markdown",
   "metadata": {},
   "source": [
    "**Calculate quantities for benchmark comparison**"
   ]
  },
  {
   "cell_type": "code",
   "execution_count": 23,
   "metadata": {
    "collapsed": true
   },
   "outputs": [],
   "source": [
    "tempAv = Avg_tempVal[-1]\n",
    "nuTop = nu1Val[-1]\n",
    "nuBot = nu0Val[-1]\n",
    "uRMS = vrmsVal[-1]\n",
    "uSurfRMS = Rms_surfVal[-1]\n",
    "uSurfMax = Max_vx_surfVal[-1]\n",
    "etaMin = etaminVal[-1]\n",
    "etaMax = etamaxVal[-1]\n",
    "workDone = GravworkVal[-1]\n",
    "phi = viscdisVal[-1]/100.\n",
    "delta = abs(workDone - phi)/max(workDone, phi) * 100."
   ]
  },
  {
   "cell_type": "markdown",
   "metadata": {},
   "source": [
    "**Output all quantities for this case**"
   ]
  },
  {
   "cell_type": "code",
   "execution_count": 24,
   "metadata": {
    "collapsed": false
   },
   "outputs": [
    {
     "name": "stdout",
     "output_type": "stream",
     "text": [
      "<T>        = 0.7008\n",
      "Nu_top     = 2.8628\n",
      "Nu_bot     = 3.3643\n",
      "u_rms      = 91.5907\n",
      "u^surf_rms = 2.1800\n",
      "u^surf_max = 3.0522\n",
      "eta_min    = 5.7630e-05\n",
      "eta_max    = 1.0000\n",
      "W          = 2.1120\n",
      "Phi        = 2.1122\n",
      "delta      = 0.0096%\n"
     ]
    }
   ],
   "source": [
    "print('<T>        = {0:.4f}'.format(tempAv))\n",
    "print('Nu_top     = {0:.4f}'.format(nuTop))\n",
    "print('Nu_bot     = {0:.4f}'.format(nuBot))\n",
    "print('u_rms      = {0:.4f}'.format(uRMS))\n",
    "print('u^surf_rms = {0:.4f}'.format(uSurfRMS))\n",
    "print('u^surf_max = {0:.4f}'.format(uSurfMax))\n",
    "print('eta_min    = {0:.4e}'.format(etaMin))\n",
    "print('eta_max    = {0:.4f}'.format(etaMax))\n",
    "print('W          = {0:.4f}'.format(workDone))\n",
    "print('Phi        = {0:.4f}'.format(phi))\n",
    "print('delta      = {0:.4f}%'.format(delta))"
   ]
  },
  {
   "cell_type": "markdown",
   "metadata": {},
   "source": [
    "**Comparison values from Tosi et al. (2015)**\n",
    "\n",
    "The expected benchmark values from Table 2 of Tosi et al. (2015) for case 3 are given in the table below. The minimum and maximum values from each of the participating codes are given here to provide an expected range for each quantity.\n",
    "\n",
    "| Case 3  | $<$$T$$>$ | $Nu_{top}$ | $Nu_{bot}$ | $u_{RMS}$ | $u_{RMS}^{surf}$ | $u_{max}^{surf}$ | $\\eta_{min}$ | $\\eta_{max}$ | $<$$W$$>$ |  $<$$\\Phi$$>$/Ra | $\\delta$ |\n",
    "|:--------|:---------:|:----------:|:----------:|:---------:|:----------------:|:----------------:|:------------:|:------------:|:------------:|:------------------:|:--------:|\n",
    "| Min     | 0.7241 | 3.0253 | 2.9628 | 99.8701  | 2.0374 | 2.8458 | 4.7907$\\times 10^{-5}$ | 0.9010 | 2.0028 | 2.0277 | $<$0.01% |\n",
    "| Max     | 0.7268 | 3.0918 | 3.0376 | 100.9467 | 2.0916 | 2.9207 | 4.8400$\\times 10^{-5}$ | 1.0000 | 2.0400 | 2.0370 | 1.23% |\n",
    "\n",
    "Note that the values from the spectral code MC3D are not used to construct the min/max values here, as they are outlier values."
   ]
  }
 ],
 "metadata": {
  "kernelspec": {
   "display_name": "Python 2",
   "language": "python",
   "name": "python2"
  },
  "language_info": {
   "codemirror_mode": {
    "name": "ipython",
    "version": 2
   },
   "file_extension": ".py",
   "mimetype": "text/x-python",
   "name": "python",
   "nbconvert_exporter": "python",
   "pygments_lexer": "ipython2",
   "version": "2.7.6"
  }
 },
 "nbformat": 4,
 "nbformat_minor": 0
}
