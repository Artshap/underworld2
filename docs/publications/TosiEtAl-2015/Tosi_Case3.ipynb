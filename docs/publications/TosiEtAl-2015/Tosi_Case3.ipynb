{
 "cells": [
  {
   "cell_type": "markdown",
   "metadata": {
    "collapsed": true
   },
   "source": [
    "Viscoplastic thermal convection in a 2-D square box: Tosi et al. 2015\n",
    "=====\n",
    "\n",
    "This series of notebooks generates benchmark models from the Tosi et al. (2015) in Underworld2. The Underworld2 results are then directly compared to the results from Table 2 of Tosi et al. (2015) the paper for each case. The notebooks are broken into a general notebook for reproducing the models from scratch and 5 post-analysis notebooks which look at the results Underworld2 gives for each case after running to equilibrium. \n",
    "\n",
    "Case 3: Stagnant lid (larger viscosity constrast)\n",
    "-------\n",
    "\n",
    "TThis case has a temperature-dependent linear rheology, like case 1, but with a larger value for the depth-dependent viscosity contrast ($\\Delta \\eta_y$). \n",
    "The parameters used for case 3 are: $Ra = 10^2$, $\\Delta \\eta_T = 10^5$ and $\\Delta \\eta_z = 10$.\n",
    "\n",
    "\n",
    "References\n",
    "-----\n",
    "\n",
    "1. Tosi, Nicola and Stein, Claudia and Noack, Lena and H&uuml;ttig, Christian and Maierov&aacute;, Petra and Samuel, Henri and Davies, DR and Wilson, CR and Kramer, SC and Thieulot, Cedric and others. 2015. _A community benchmark for viscoplastic thermal convection in a 2-D square box_.\n",
    "\n"
   ]
  },
  {
   "cell_type": "markdown",
   "metadata": {},
   "source": [
    "Load python functions needed for underworld. Some additional python functions from os, math and numpy used later on."
   ]
  },
  {
   "cell_type": "code",
   "execution_count": 1,
   "metadata": {
    "collapsed": false
   },
   "outputs": [],
   "source": [
    "%matplotlib inline\n",
    "import underworld as uw\n",
    "import math\n",
    "from underworld import function as fn\n",
    "import glucifer\n",
    "import matplotlib.pyplot as pyplot\n",
    "import matplotlib.pylab as pylab\n",
    "import time\n",
    "import numpy as np\n",
    "import os"
   ]
  },
  {
   "cell_type": "markdown",
   "metadata": {},
   "source": [
    "Set physical constants and parameters, including the Rayleigh number (*Ra*) and viscosity constants ($\\eta^*$ and $\\eta_T$) which are common to all Tosi et al cases."
   ]
  },
  {
   "cell_type": "code",
   "execution_count": 2,
   "metadata": {
    "collapsed": false
   },
   "outputs": [],
   "source": [
    "RA  = 1e2        # Rayleigh number\n",
    "ETA_T = 1e5      # common viscosity constant\n",
    "TS  = 0          # surface temperature\n",
    "TB  = 1          # bottom boundary temperature (melting point)\n",
    "ETA0 = 1e-3      # viscosity constant eta^* in Tosi et al\n",
    "TMAX = 3.0\n",
    "IMAX = 1000"
   ]
  },
  {
   "cell_type": "markdown",
   "metadata": {},
   "source": [
    "Select case 3 of Tosi et al (2015) and set constants as required."
   ]
  },
  {
   "cell_type": "code",
   "execution_count": 3,
   "metadata": {
    "collapsed": false
   },
   "outputs": [],
   "source": [
    "CASE = 3\n",
    "ETA_Y = 10.\n",
    "YSTRESS = 0."
   ]
  },
  {
   "cell_type": "markdown",
   "metadata": {},
   "source": [
    "Set input and output file directories"
   ]
  },
  {
   "cell_type": "code",
   "execution_count": 4,
   "metadata": {
    "collapsed": false
   },
   "outputs": [],
   "source": [
    "# input file directory\n",
    "inputPath  = 'TosiInput/case' + str(CASE) + \"/\"\n",
    "# output files\n",
    "outputPath = 'TosiOutput/'\n",
    "filePath   = outputPath+'files'\n",
    "# make directories if they don't exist\n",
    "if not os.path.isdir(outputPath):\n",
    "    os.makedirs(outputPath)\n",
    "if not os.path.isdir(filePath):\n",
    "    os.makedirs(filePath)"
   ]
  },
  {
   "cell_type": "markdown",
   "metadata": {},
   "source": [
    "Create mesh and finite element variables\n",
    "------\n",
    "\n",
    "Set up mesh and field variables that are solved on the mesh."
   ]
  },
  {
   "cell_type": "code",
   "execution_count": 5,
   "metadata": {
    "collapsed": false
   },
   "outputs": [],
   "source": [
    "res = 128\n",
    "mesh = uw.mesh.FeMesh_Cartesian( elementType = (\"Q1/dQ0\"), \n",
    "                                 elementRes  = (res, res), \n",
    "                                 minCoord    = (0., 0.), \n",
    "                                 maxCoord    = (1., 1.))\n",
    "\n",
    "velocityField       = uw.mesh.MeshVariable( mesh=mesh,         nodeDofCount=2 )\n",
    "pressureField       = uw.mesh.MeshVariable( mesh=mesh.subMesh, nodeDofCount=1 )\n",
    "temperatureField    = uw.mesh.MeshVariable( mesh=mesh,         nodeDofCount=1 )\n",
    "temperatureDotField = uw.mesh.MeshVariable( mesh=mesh,         nodeDofCount=1 )"
   ]
  },
  {
   "cell_type": "markdown",
   "metadata": {},
   "source": [
    "Set initial conditions and boundary conditions\n",
    "----------\n",
    "\n",
    "Load all variable fields and summary data with data from previously run cases."
   ]
  },
  {
   "cell_type": "code",
   "execution_count": 6,
   "metadata": {
    "collapsed": false
   },
   "outputs": [],
   "source": [
    "# load fields\n",
    "temperatureField.load(    inputPath+'temperatureField.h5' )\n",
    "temperatureDotField.load( inputPath+'temperatureDotField.h5' )\n",
    "pressureField.load(       inputPath+'pressureField.h5')\n",
    "velocityField.load(       inputPath+'velocityField.h5')\n",
    "\n",
    "# load past iterations of summary data\n",
    "data = np.loadtxt( inputPath+'Summary.txt', unpack=True )\n",
    "stepsVal = data[0].tolist()\n",
    "timeVal = data[1].tolist()\n",
    "viscdisVal = data[2].tolist()\n",
    "nu0Val = data[3].tolist()\n",
    "nu1Val = data[4].tolist()\n",
    "Avg_tempVal = data[5].tolist()\n",
    "vrmsVal = data[6].tolist()\n",
    "Rms_surfVal = data[7].tolist()\n",
    "Max_vx_surfVal = data[8].tolist()\n",
    "GravworkVal = data[9].tolist()\n",
    "etamaxVal = data[10].tolist()\n",
    "etaminVal = data[11].tolist() "
   ]
  },
  {
   "cell_type": "markdown",
   "metadata": {},
   "source": [
    "**Conditions on the boundaries**"
   ]
  },
  {
   "cell_type": "code",
   "execution_count": 7,
   "metadata": {
    "collapsed": true
   },
   "outputs": [],
   "source": [
    "iWalls = mesh.specialSets[\"MinI_VertexSet\"] + mesh.specialSets[\"MaxI_VertexSet\"]\n",
    "jWalls = mesh.specialSets[\"MinJ_VertexSet\"] + mesh.specialSets[\"MaxJ_VertexSet\"]\n",
    "freeslipBC = uw.conditions.DirichletCondition( variable      = velocityField, \n",
    "                                               indexSetsPerDof = (iWalls, jWalls) )\n",
    "tempBC     = uw.conditions.DirichletCondition( variable      = temperatureField, \n",
    "                                               indexSetsPerDof = (jWalls,) )"
   ]
  },
  {
   "cell_type": "markdown",
   "metadata": {
    "collapsed": false
   },
   "source": [
    "Set up material parameters and functions\n",
    "-----\n"
   ]
  },
  {
   "cell_type": "markdown",
   "metadata": {},
   "source": [
    "**Viscosity field**\n",
    "\n",
    "The viscosity is a function of temperature ($T$), the vertical coordinate ($z$) and the strain rate ($\\dot{\\epsilon}$) and is given by\n",
    "\n",
    "$$\n",
    "    \\eta(T, z, \\dot{\\epsilon}) = 2 \\left( \\frac{1}{\\eta_{lin}(T,z)} + \\frac{1}{\\eta_{plast}(\\dot{\\epsilon})} \\right)^{-1}\n",
    "$$\n",
    "\n",
    "where the linear part is\n",
    "\n",
    "$$\n",
    "    \\eta_{lin}(T, z) = \\exp(-\\gamma_T T + \\gamma_z z)\n",
    "$$\n",
    "\n",
    "with $\\gamma_T = \\ln(\\Delta \\eta_T)$ and $\\gamma_z = \\ln(\\Delta \\eta_z)$. The nonlinear part is\n",
    "\n",
    "$$\n",
    "    \\eta_{plast}(\\dot{\\epsilon}) = \\eta^* + \\frac{\\sigma_{\\gamma}}{\\sqrt{\\dot{\\epsilon} : \\dot{\\epsilon}}}\n",
    "$$\n",
    "\n",
    "where $\\eta^*$ is the effective viscosity at high stresses and $\\sigma_{\\gamma}$ is the yield stress. The values of $\\Delta \\eta_T$, $\\Delta \\eta_z$, $\\eta^*$ and $\\sigma_{\\gamma}$ are assumed to be constant with values dependent on the particular case."
   ]
  },
  {
   "cell_type": "markdown",
   "metadata": {},
   "source": [
    "**Create variables required for plasticity calculations**"
   ]
  },
  {
   "cell_type": "code",
   "execution_count": 8,
   "metadata": {
    "collapsed": false
   },
   "outputs": [],
   "source": [
    "secinv = fn.tensor.second_invariant( fn.tensor.symmetric( velocityField.fn_gradient ) )\n",
    "coordinate = fn.coord()"
   ]
  },
  {
   "cell_type": "markdown",
   "metadata": {},
   "source": [
    "**Setup viscosity functions**\n",
    "\n",
    "Remember to use floats everywhere when setting up functions"
   ]
  },
  {
   "cell_type": "code",
   "execution_count": 9,
   "metadata": {
    "collapsed": false
   },
   "outputs": [],
   "source": [
    "viscosityl1 = fn.math.exp(math.log(ETA_T)*-1.*temperatureField)\n",
    "viscosityl2 = fn.math.exp((math.log(ETA_T)*-1.*temperatureField) + (1.-coordinate[1])*math.log(ETA_Y))\n",
    "\n",
    "#Von Mises effective viscosity\n",
    "viscosityp = ETA0 + YSTRESS/(secinv/math.sqrt(0.5)) #extra factor to account for underworld second invariant form\n",
    "\n",
    "if CASE == 1:\n",
    "    fn_viscosity = viscosityl1\n",
    "elif CASE == 2:\n",
    "    fn_viscosity = 2./(1./viscosityl1 + 1./viscosityp)\n",
    "elif CASE == 3:\n",
    "    fn_viscosity = viscosityl2\n",
    "else:\n",
    "    fn_viscosity = 2./(1./viscosityl2 + 1./viscosityp)"
   ]
  },
  {
   "cell_type": "markdown",
   "metadata": {},
   "source": [
    "**Add functions for density and buoyancy**"
   ]
  },
  {
   "cell_type": "code",
   "execution_count": 10,
   "metadata": {
    "collapsed": true
   },
   "outputs": [],
   "source": [
    "densityFn = RA*temperatureField\n",
    "\n",
    "# define our vertical unit vector using a python tuple (this will be automatically converted to a function)\n",
    "z_hat = ( 0.0, 1.0 )\n",
    "\n",
    "# now create a buoyancy force vector using the density (FEvariable) and the vertical unit vector. \n",
    "buoyancyFn = densityFn * z_hat"
   ]
  },
  {
   "cell_type": "markdown",
   "metadata": {},
   "source": [
    "Build the Stokes system and solvers\n",
    "------\n",
    "\n",
    "Setup the Stokes system with linear or nonlinear visocity viscosity depending on case."
   ]
  },
  {
   "cell_type": "code",
   "execution_count": 11,
   "metadata": {
    "collapsed": false
   },
   "outputs": [],
   "source": [
    "stokesPIC = uw.systems.Stokes(velocityField=velocityField, \n",
    "                              pressureField=pressureField,\n",
    "                              conditions=[freeslipBC,],\n",
    "                              fn_viscosity=fn.exception.SafeMaths(fn_viscosity), \n",
    "                              fn_bodyforce=buoyancyFn)"
   ]
  },
  {
   "cell_type": "markdown",
   "metadata": {},
   "source": [
    "Setup solver for the Stokes system of equations"
   ]
  },
  {
   "cell_type": "code",
   "execution_count": 12,
   "metadata": {
    "collapsed": false
   },
   "outputs": [],
   "source": [
    "solver = uw.systems.Solver( stokesPIC )"
   ]
  },
  {
   "cell_type": "markdown",
   "metadata": {},
   "source": [
    "We do one solve for initial pressure and velocity with linear viscosity to get the initial strain rate invariant. This solve step also calculates a 'guess' of the the velocity field based on the linear system, which is used later in the non-linear solver."
   ]
  },
  {
   "cell_type": "code",
   "execution_count": 13,
   "metadata": {
    "collapsed": false
   },
   "outputs": [],
   "source": [
    "solver.solve( nonLinearIterate=False )"
   ]
  },
  {
   "cell_type": "markdown",
   "metadata": {},
   "source": [
    "Create an advective-diffusive system\n",
    "-----\n",
    "\n",
    "Setup the system in underworld by flagging the temperature and velocity field variables."
   ]
  },
  {
   "cell_type": "code",
   "execution_count": 14,
   "metadata": {
    "collapsed": false
   },
   "outputs": [],
   "source": [
    "advDiff = uw.systems.AdvectionDiffusion( temperatureField, temperatureDotField, velocityField,\n",
    "                                         fn_diffusivity=1., conditions=[tempBC,] )"
   ]
  },
  {
   "cell_type": "markdown",
   "metadata": {},
   "source": [
    "Metrics for benchmark\n",
    "-----\n",
    "\n",
    "Define diagnostic functions to be used in the time loop and/or measured after reaching steady state:\n",
    "\n",
    "* Average temperature\n",
    "$$  \\langle T \\rangle  = \\int^1_0 \\int^1_0 T \\, dxdy $$\n",
    "* Top and bottom Nusselt numbers\n",
    "$$Nu_{top/bot} = - \\left. \\int^1_0 \\frac{\\partial T}{\\partial y} \\right|_{y=1/y=0} \\, dx$$\n",
    "* RMS velocity over the whole domain, surface and max velocity at surface\n",
    "$$u_{RMS} = \\left( \\int_0^1 \\int_0^1 \\left( u_x^2 + u_y^2 \\right) dx dy \\right)^{1/2}$$\n",
    "$$u_{RMS}^{surf} = \\left( \\left. \\int_0^1 u_x^2\\right|_{y=1} dx \\right)^{1/2}$$\n",
    "$$u_{max}^{surf} = \\left. \\max(u_x)\\right|_{y=1}$$\n",
    "* max and min viscosity over the whole domain\n",
    "$$\\eta_{max/min} = \\max / \\min \\left( \\eta\\left(x,y\\right) \\right)$$\n",
    "* average rate of work done against gravity\n",
    "$$\\langle W \\rangle = \\int^1_0 \\int^1_0 T u_y \\, dx dy$$\n",
    "* and the average rate of viscous dissipation\n",
    "$$\\langle \\Phi \\rangle = \\int^1_0 \\int^1_0 \\tau_{ij} \\dot \\epsilon_{ij} \\, dx dy$$\n",
    "\n",
    "* In steady state, if thermal energy is accurately conserved, the difference between $\\langle W \\rangle$ and $\\langle \\Phi \\rangle / Ra$ must vanish, so also reported is the percentage error: \n",
    "\n",
    "$$ \\delta = \\frac{\\lvert \\langle W \\rangle - \\frac{\\langle \\Phi \\rangle}{Ra} \\rvert}{max \\left(  \\langle W \\rangle,  \\frac{\\langle \\Phi \\rangle}{Ra}\\right)} \\times 100% $$"
   ]
  },
  {
   "cell_type": "markdown",
   "metadata": {},
   "source": [
    "**Setup volume integrals used in metric functions**"
   ]
  },
  {
   "cell_type": "code",
   "execution_count": 15,
   "metadata": {
    "collapsed": false
   },
   "outputs": [],
   "source": [
    "# temperature\n",
    "tempint = uw.utils.Integral( temperatureField, mesh )\n",
    "# area\n",
    "areaint = uw.utils.Integral( 1.,               mesh )\n",
    "# velocity squared\n",
    "v2int   = uw.utils.Integral(fn.math.dot(velocityField,velocityField), mesh)\n",
    "# work done\n",
    "dwint   = uw.utils.Integral(temperatureField*velocityField[1], mesh)\n",
    "# viscous dissipation\n",
    "sinner = fn.math.dot(secinv,secinv)\n",
    "vdint = uw.utils.Integral((4.*fn_viscosity*sinner), mesh)"
   ]
  },
  {
   "cell_type": "markdown",
   "metadata": {},
   "source": [
    "**Setup surface integrals used in metric functions**"
   ]
  },
  {
   "cell_type": "code",
   "execution_count": 16,
   "metadata": {
    "collapsed": false
   },
   "outputs": [],
   "source": [
    "rmsSurfInt = uw.utils.Integral( fn=velocityField[0]*velocityField[0], mesh=mesh, integrationType='Surface', \n",
    "                          surfaceIndexSet=mesh.specialSets[\"MaxJ_VertexSet\"])\n",
    "nuTop      = uw.utils.Integral( fn=temperatureField.fn_gradient[1], mesh=mesh, integrationType='Surface', \n",
    "                          surfaceIndexSet=mesh.specialSets[\"MaxJ_VertexSet\"])\n",
    "nuBottom   = uw.utils.Integral( fn=temperatureField.fn_gradient[1], mesh=mesh, integrationType='Surface', \n",
    "                          surfaceIndexSet=mesh.specialSets[\"MinJ_VertexSet\"])"
   ]
  },
  {
   "cell_type": "markdown",
   "metadata": {},
   "source": [
    "**Define diagnostic functions using integrals**"
   ]
  },
  {
   "cell_type": "code",
   "execution_count": 17,
   "metadata": {
    "collapsed": false
   },
   "outputs": [],
   "source": [
    "def avg_temp():\n",
    "    return tempint.evaluate()[0]/areaint.evaluate()[0]\n",
    "\n",
    "def nusseltTB(temp_field, mesh):\n",
    "    return -nuTop.evaluate()[0], -nuBottom.evaluate()[0]\n",
    "\n",
    "def rms():\n",
    "    return math.sqrt(v2int.evaluate()[0]/areaint.evaluate()[0])\n",
    "\n",
    "def rms_surf():\n",
    "    return math.sqrt(rmsSurfInt.evaluate()[0])\n",
    "\n",
    "def max_vx_surf(velfield, mesh):\n",
    "    vuvelxfn = fn.view.min_max(velfield[0])\n",
    "    vuvelxfn.evaluate(mesh.specialSets[\"MaxJ_VertexSet\"])\n",
    "    return vuvelxfn.max_global()\n",
    "\n",
    "def gravwork(workfn):\n",
    "    return workfn.evaluate()[0]\n",
    "\n",
    "def viscdis(vdissfn):\n",
    "    return vdissfn.evaluate()[0]\n",
    "\n",
    "def visc_extr(viscfn):\n",
    "    vuviscfn = fn.view.min_max(viscfn)\n",
    "    vuviscfn.evaluate(mesh)\n",
    "    return vuviscfn.max_global(), vuviscfn.min_global()"
   ]
  },
  {
   "cell_type": "code",
   "execution_count": 18,
   "metadata": {
    "collapsed": false
   },
   "outputs": [],
   "source": [
    "#Fields for saving data / fields\n",
    "rmsField = uw.mesh.MeshVariable( mesh=mesh, nodeDofCount=1 )\n",
    "rmsfn    = fn.math.sqrt( fn.math.dot( velocityField, velocityField ) )\n",
    "rmsdata  = rmsfn.evaluate( mesh )\n",
    "rmsField.data[:] = rmsdata \n",
    "\n",
    "viscField = uw.mesh.MeshVariable( mesh=mesh, nodeDofCount=1 )\n",
    "viscdata  = fn_viscosity.evaluate( mesh )\n",
    "viscField.data[:] = viscdata\n",
    "\n",
    "stressField = uw.mesh.MeshVariable( mesh=mesh, nodeDofCount=1)\n",
    "srtdata     = fn.tensor.second_invariant( fn.tensor.symmetric( velocityField.fn_gradient ) )\n",
    "rostfield   = srtdata.evaluate( mesh )\n",
    "stressinv   = 2*viscdata*rostfield[:]\n",
    "stressField.data[:] = stressinv"
   ]
  },
  {
   "cell_type": "markdown",
   "metadata": {},
   "source": [
    "Main simulation loop\n",
    "------\n",
    "\n",
    "Normally a loop over time increments would be added here. As we are only interested in the post-analysis a single time step will be taken to ensure that all analysis fields are live. This step will involve the non-linear Stokes system solver."
   ]
  },
  {
   "cell_type": "code",
   "execution_count": 19,
   "metadata": {
    "collapsed": false
   },
   "outputs": [],
   "source": [
    "steps_todo = 1"
   ]
  },
  {
   "cell_type": "markdown",
   "metadata": {
    "collapsed": false
   },
   "source": [
    "Initialise steps and time. Set to zero unless loading values from file."
   ]
  },
  {
   "cell_type": "code",
   "execution_count": 20,
   "metadata": {
    "collapsed": false
   },
   "outputs": [
    {
     "name": "stdout",
     "output_type": "stream",
     "text": [
      "This model has previously completed  57800 steps to get to time = 0.502\n"
     ]
    }
   ],
   "source": [
    "try:\n",
    "    realtime = timeVal[-1]\n",
    "    step = int(stepsVal[-1])\n",
    "except:\n",
    "    realtime = 0.0\n",
    "    step = 0\n",
    "steps_end = step + steps_todo\n",
    "steps_output = 100\n",
    "steps_output = max(steps_output,1)\n",
    "print('This model has previously completed {0:6d} steps to get to time = {1:.3f}'.format(step,realtime))"
   ]
  },
  {
   "cell_type": "code",
   "execution_count": 21,
   "metadata": {
    "collapsed": false
   },
   "outputs": [],
   "source": [
    "# initialise timer for computation\n",
    "start = time.clock()\n",
    "# start loop\n",
    "while step < steps_end:\n",
    "    # Solve non-linear system\n",
    "    solver.solve(nonLinearIterate=True)\n",
    "    dt = advDiff.get_max_dt()\n",
    "    if step == 0:\n",
    "        dt = 0.\n",
    "    # Advect using this timestep size   \n",
    "    advDiff.integrate(dt)\n",
    "    # Increment\n",
    "    realtime += dt\n",
    "    step += 1\n",
    "    # Calculate the Metrics, only on 1 of the processors:\n",
    "    Avg_temp = avg_temp()\n",
    "    Rms = rms()\n",
    "    Rms_surf = rms_surf()\n",
    "    Max_vx_surf = max_vx_surf(velocityField, mesh)\n",
    "    Gravwork = gravwork(dwint)\n",
    "    Viscdis = viscdis(vdint)\n",
    "    nu1, nu0 = nusseltTB(temperatureField, mesh) # return top then bottom\n",
    "    etamax, etamin = visc_extr(fn_viscosity)\n",
    "    # store results\n",
    "    stepsVal.append(       step)\n",
    "    timeVal.append(        realtime )\n",
    "    viscdisVal.append(     Viscdis )\n",
    "    nu0Val.append(         nu0 )\n",
    "    nu1Val.append(         nu1 )\n",
    "    Avg_tempVal.append(    Avg_temp )\n",
    "    vrmsVal.append(        Rms )\n",
    "    Rms_surfVal.append(    Rms_surf )\n",
    "    Max_vx_surfVal.append( Max_vx_surf )\n",
    "    GravworkVal.append(    Gravwork )\n",
    "    etamaxVal.append(      etamax )\n",
    "    etaminVal.append(      etamin )\n",
    "\n",
    "    # output fields and summary info to file (output graphics can also be added here)\n",
    "    if uw.rank()==0:\n",
    "        if (step % steps_output == 0) or (step == steps_end-1):\n",
    "            print 'step =',step, '; CPU time =', time.clock()-start, '; vrms = ',Rms\n",
    "            # Temperature\n",
    "            fnametemp = \"temperatureField_\" + str(step).zfill(6) + \".h5\"\n",
    "            fullpath = os.path.join(outputPath + \"files/\" + fnametemp)\n",
    "            temperatureField.save(fullpath)\n",
    "            # Temperature time derivative\n",
    "            fnametemp = \"temperatureDotField_\" + str(step).zfill(6) + \".h5\"\n",
    "            fullpath = os.path.join(outputPath + \"files/\" + fnametemp)\n",
    "            temperatureDotField.save(fullpath)\n",
    "            # Pressure\n",
    "            fnametemp = \"pressureField_\" + str(step).zfill(6) + \".h5\"\n",
    "            fullpath = os.path.join(outputPath + \"files/\" + fnametemp)\n",
    "            pressureField.save(fullpath)\n",
    "            # Velocity\n",
    "            fnametemp = \"velocityField_\" + str(step).zfill(6) + \".h5\"\n",
    "            fullpath = os.path.join(outputPath + \"files/\" + fnametemp)\n",
    "            velocityField.save(fullpath)\n",
    "\n",
    "            np.savetxt( outputPath + 'Summary.txt', np.c_[stepsVal, timeVal, viscdisVal, nu0Val, \n",
    "                                                          nu1Val, Avg_tempVal, vrmsVal, Rms_surfVal,\n",
    "                                                         Max_vx_surfVal, GravworkVal, etamaxVal, etaminVal], \n",
    "                   header=\"Steps, Time, visc, Nusselt bottom/top, av_T, vrms, surf_rms, surf_max, grav, etamax, etamin\" )"
   ]
  },
  {
   "cell_type": "markdown",
   "metadata": {},
   "source": [
    "Post-simulation analysis\n",
    "-------\n",
    "\n",
    "Here we will calculate the quantities specified for this case in Tosi et al. (2015) and finally compare them to the values given in their Table 2."
   ]
  },
  {
   "cell_type": "markdown",
   "metadata": {},
   "source": [
    "**Plot final temperature and velocity fields**"
   ]
  },
  {
   "cell_type": "code",
   "execution_count": 25,
   "metadata": {
    "collapsed": false
   },
   "outputs": [
    {
     "data": {
      "text/html": [
       "<img src='data:image/png;base64,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'>"
      ],
      "text/plain": [
       "<IPython.core.display.HTML object>"
      ]
     },
     "execution_count": 25,
     "metadata": {},
     "output_type": "execute_result"
    }
   ],
   "source": [
    "velmax = np.amax(velocityField.data[:])\n",
    "if(velmax==0.0): velmax = 1.0\n",
    "fig1 = glucifer.Figure()\n",
    "fig1.append( glucifer.objects.Surface(mesh, temperatureField) )\n",
    "fig1.append( glucifer.objects.VectorArrows(mesh, velocityField/velmax, scaling=0.1, arrowHead=0.2) )\n",
    "fig1.show()"
   ]
  },
  {
   "cell_type": "markdown",
   "metadata": {},
   "source": [
    "**Calculate quantities for benchmark comparison**"
   ]
  },
  {
   "cell_type": "code",
   "execution_count": 23,
   "metadata": {
    "collapsed": true
   },
   "outputs": [],
   "source": [
    "tempAv = Avg_tempVal[-1]\n",
    "nuTop = nu1Val[-1]\n",
    "nuBot = nu0Val[-1]\n",
    "uRMS = vrmsVal[-1]\n",
    "uSurfRMS = Rms_surfVal[-1]\n",
    "uSurfMax = Max_vx_surfVal[-1]\n",
    "etaMin = etaminVal[-1]\n",
    "etaMax = etamaxVal[-1]\n",
    "workDone = GravworkVal[-1]\n",
    "phi = viscdisVal[-1]/100.\n",
    "delta = abs(workDone - phi)/max(workDone, phi) * 100."
   ]
  },
  {
   "cell_type": "markdown",
   "metadata": {},
   "source": [
    "**Output all quantities for this case**"
   ]
  },
  {
   "cell_type": "code",
   "execution_count": 24,
   "metadata": {
    "collapsed": false
   },
   "outputs": [
    {
     "name": "stdout",
     "output_type": "stream",
     "text": [
      "<T>        = 0.7008\n",
      "Nu_top     = 2.8628\n",
      "Nu_bot     = 3.3643\n",
      "u_rms      = 91.5907\n",
      "u^surf_rms = 2.1800\n",
      "u^surf_max = 3.0522\n",
      "eta_min    = 5.7630e-05\n",
      "eta_max    = 1.0000\n",
      "W          = 2.1120\n",
      "Phi        = 2.1122\n",
      "delta      = 0.0096%\n"
     ]
    }
   ],
   "source": [
    "print('<T>        = {0:.4f}'.format(tempAv))\n",
    "print('Nu_top     = {0:.4f}'.format(nuTop))\n",
    "print('Nu_bot     = {0:.4f}'.format(nuBot))\n",
    "print('u_rms      = {0:.4f}'.format(uRMS))\n",
    "print('u^surf_rms = {0:.4f}'.format(uSurfRMS))\n",
    "print('u^surf_max = {0:.4f}'.format(uSurfMax))\n",
    "print('eta_min    = {0:.4e}'.format(etaMin))\n",
    "print('eta_max    = {0:.4f}'.format(etaMax))\n",
    "print('W          = {0:.4f}'.format(workDone))\n",
    "print('Phi        = {0:.4f}'.format(phi))\n",
    "print('delta      = {0:.4f}%'.format(delta))"
   ]
  },
  {
   "cell_type": "markdown",
   "metadata": {},
   "source": [
    "**Comparison values from Tosi et al. (2015)**\n",
    "\n",
    "The expected benchmark values from Table 2 of Tosi et al. (2015) for case 3 are given in the table below. The minimum and maximum values from each of the participating codes are given here to provide an expected range for each quantity.\n",
    "\n",
    "| Case 3  | $<$$T$$>$ | $Nu_{top}$ | $Nu_{bot}$ | $u_{RMS}$ | $u_{RMS}^{surf}$ | $u_{max}^{surf}$ | $\\eta_{min}$ | $\\eta_{max}$ | $<$$W$$>$ |  $<$$\\Phi$$>$/Ra | $\\delta$ |\n",
    "|:--------|:---------:|:----------:|:----------:|:---------:|:----------------:|:----------------:|:------------:|:------------:|:------------:|:------------------:|:--------:|\n",
    "| Min     | 0.7241 | 3.0253 | 2.9628 | 99.8701  | 2.0374 | 2.8458 | 4.7907$\\times 10^{-5}$ | 0.9010 | 2.0028 | 2.0277 | $<$0.01% |\n",
    "| Max     | 0.7268 | 3.0918 | 3.0376 | 100.9467 | 2.0916 | 2.9207 | 4.8400$\\times 10^{-5}$ | 1.0000 | 2.0400 | 2.0370 | 1.23% |\n",
    "\n",
    "Note that the values from the spectral code MC3D are not used to construct the min/max values here, as they are outlier values."
   ]
  }
 ],
 "metadata": {
  "kernelspec": {
   "display_name": "Python 2",
   "language": "python",
   "name": "python2"
  },
  "language_info": {
   "codemirror_mode": {
    "name": "ipython",
    "version": 2
   },
   "file_extension": ".py",
   "mimetype": "text/x-python",
   "name": "python",
   "nbconvert_exporter": "python",
   "pygments_lexer": "ipython2",
   "version": "2.7.10"
  }
 },
 "nbformat": 4,
 "nbformat_minor": 0
}
