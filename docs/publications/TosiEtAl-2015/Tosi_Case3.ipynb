{
 "cells": [
  {
   "cell_type": "markdown",
   "metadata": {
    "collapsed": true
   },
   "source": [
    "Viscoplastic thermal convection in a 2-D square box: Tosi et al. 2015\n",
    "=====\n",
    "\n",
    "This series of notebooks generates benchmark models from the Tosi et al. (2015) in Underworld2. The Underworld2 results are then directly compared to the results from Table 2 of Tosi et al. (2015) the paper for each case. The notebooks are broken into a general notebook for reproducing the models from scratch and 5 post-analysis notebooks which look at the results Underworld2 gives for each case after running to equilibrium. \n",
    "\n",
    "Case 3: Stagnant lid (larger viscosity constrast)\n",
    "-------\n",
    "\n",
    "TThis case has a temperature-dependent linear rheology, like case 1, but with a larger value for the depth-dependent viscosity contrast ($\\Delta \\eta_y$). \n",
    "The parameters used for case 3 are: $Ra = 10^2$, $\\Delta \\eta_T = 10^5$ and $\\Delta \\eta_z = 10$.\n",
    "\n",
    "\n",
    "References\n",
    "-----\n",
    "\n",
    "1. Tosi, Nicola and Stein, Claudia and Noack, Lena and H&uuml;ttig, Christian and Maierov&aacute;, Petra and Samuel, Henri and Davies, DR and Wilson, CR and Kramer, SC and Thieulot, Cedric and others. 2015. _A community benchmark for viscoplastic thermal convection in a 2-D square box_.\n",
    "\n"
   ]
  },
  {
   "cell_type": "markdown",
   "metadata": {},
   "source": [
    "Load python functions needed for underworld. Some additional python functions from os, math and numpy used later on."
   ]
  },
  {
   "cell_type": "code",
   "execution_count": 1,
   "metadata": {
    "collapsed": false
   },
   "outputs": [],
   "source": [
    "%matplotlib inline\n",
    "import underworld as uw\n",
    "import math\n",
    "from underworld import function as fn\n",
    "import glucifer\n",
    "import matplotlib.pyplot as pyplot\n",
    "import matplotlib.pylab as pylab\n",
    "import time\n",
    "import numpy as np\n",
    "import os"
   ]
  },
  {
   "cell_type": "markdown",
   "metadata": {},
   "source": [
    "Set physical constants and parameters, including the Rayleigh number (*Ra*) and viscosity constants ($\\eta^*$ and $\\eta_T$) which are common to all Tosi et al cases."
   ]
  },
  {
   "cell_type": "code",
   "execution_count": 2,
   "metadata": {
    "collapsed": false
   },
   "outputs": [],
   "source": [
    "RA  = 1e2        # Rayleigh number\n",
    "ETA_T = 1e5      # common viscosity constant\n",
    "TS  = 0          # surface temperature\n",
    "TB  = 1          # bottom boundary temperature (melting point)\n",
    "ETA0 = 1e-3      # viscosity constant eta^* in Tosi et al\n",
    "TMAX = 3.0\n",
    "IMAX = 1000"
   ]
  },
  {
   "cell_type": "markdown",
   "metadata": {},
   "source": [
    "Select case 3 of Tosi et al (2015) and set constants as required."
   ]
  },
  {
   "cell_type": "code",
   "execution_count": 3,
   "metadata": {
    "collapsed": false
   },
   "outputs": [],
   "source": [
    "CASE = 3\n",
    "ETA_Y = 10.\n",
    "YSTRESS = 0."
   ]
  },
  {
   "cell_type": "markdown",
   "metadata": {},
   "source": [
    "Set input and output file directories"
   ]
  },
  {
   "cell_type": "code",
   "execution_count": 4,
   "metadata": {
    "collapsed": false
   },
   "outputs": [],
   "source": [
    "# input file directory\n",
    "inputPath  = 'TosiInput/case' + str(CASE) + \"/\"\n",
    "# output files\n",
    "outputPath = 'TosiOutput/'\n",
    "filePath   = outputPath+'files'\n",
    "# make directories if they don't exist\n",
    "if not os.path.isdir(outputPath):\n",
    "    os.makedirs(outputPath)\n",
    "if not os.path.isdir(filePath):\n",
    "    os.makedirs(filePath)"
   ]
  },
  {
   "cell_type": "markdown",
   "metadata": {},
   "source": [
    "Create mesh and finite element variables\n",
    "------\n",
    "\n",
    "Set up mesh and field variables that are solved on the mesh."
   ]
  },
  {
   "cell_type": "code",
   "execution_count": 5,
   "metadata": {
    "collapsed": false
   },
   "outputs": [],
   "source": [
    "res = 128\n",
    "mesh = uw.mesh.FeMesh_Cartesian( elementType = (\"Q1/dQ0\"), \n",
    "                                 elementRes  = (res, res), \n",
    "                                 minCoord    = (0., 0.), \n",
    "                                 maxCoord    = (1., 1.))\n",
    "\n",
    "velocityField       = uw.mesh.MeshVariable( mesh=mesh,         nodeDofCount=2 )\n",
    "pressureField       = uw.mesh.MeshVariable( mesh=mesh.subMesh, nodeDofCount=1 )\n",
    "temperatureField    = uw.mesh.MeshVariable( mesh=mesh,         nodeDofCount=1 )\n",
    "temperatureDotField = uw.mesh.MeshVariable( mesh=mesh,         nodeDofCount=1 )"
   ]
  },
  {
   "cell_type": "markdown",
   "metadata": {},
   "source": [
    "Set initial conditions and boundary conditions\n",
    "----------\n",
    "\n",
    "Load all variable fields and summary data with data from previously run cases."
   ]
  },
  {
   "cell_type": "code",
   "execution_count": 6,
   "metadata": {
    "collapsed": false
   },
   "outputs": [],
   "source": [
    "# load fields\n",
    "temperatureField.load(    inputPath+'temperatureField.h5' )\n",
    "temperatureDotField.load( inputPath+'temperatureDotField.h5' )\n",
    "pressureField.load(       inputPath+'pressureField.h5')\n",
    "velocityField.load(       inputPath+'velocityField.h5')\n",
    "\n",
    "# load past iterations of summary data\n",
    "data = np.loadtxt( inputPath+'Summary.txt', unpack=True )\n",
    "stepsVal = data[0].tolist()\n",
    "timeVal = data[1].tolist()\n",
    "viscdisVal = data[2].tolist()\n",
    "nu0Val = data[3].tolist()\n",
    "nu1Val = data[4].tolist()\n",
    "Avg_tempVal = data[5].tolist()\n",
    "vrmsVal = data[6].tolist()\n",
    "Rms_surfVal = data[7].tolist()\n",
    "Max_vx_surfVal = data[8].tolist()\n",
    "GravworkVal = data[9].tolist()\n",
    "etamaxVal = data[10].tolist()\n",
    "etaminVal = data[11].tolist() "
   ]
  },
  {
   "cell_type": "markdown",
   "metadata": {},
   "source": [
    "**Conditions on the boundaries**"
   ]
  },
  {
   "cell_type": "code",
   "execution_count": 7,
   "metadata": {
    "collapsed": true
   },
   "outputs": [],
   "source": [
    "iWalls = mesh.specialSets[\"MinI_VertexSet\"] + mesh.specialSets[\"MaxI_VertexSet\"]\n",
    "jWalls = mesh.specialSets[\"MinJ_VertexSet\"] + mesh.specialSets[\"MaxJ_VertexSet\"]\n",
    "freeslipBC = uw.conditions.DirichletCondition( variable      = velocityField, \n",
    "                                               indexSetsPerDof = (iWalls, jWalls) )\n",
    "tempBC     = uw.conditions.DirichletCondition( variable      = temperatureField, \n",
    "                                               indexSetsPerDof = (jWalls,) )"
   ]
  },
  {
   "cell_type": "markdown",
   "metadata": {
    "collapsed": false
   },
   "source": [
    "Set up material parameters and functions\n",
    "-----\n"
   ]
  },
  {
   "cell_type": "markdown",
   "metadata": {},
   "source": [
    "**Viscosity field**\n",
    "\n",
    "The viscosity is a function of temperature ($T$), the vertical coordinate ($z$) and the strain rate ($\\dot{\\epsilon}$) and is given by\n",
    "\n",
    "$$\n",
    "    \\eta(T, z, \\dot{\\epsilon}) = 2 \\left( \\frac{1}{\\eta_{lin}(T,z)} + \\frac{1}{\\eta_{plast}(\\dot{\\epsilon})} \\right)^{-1}\n",
    "$$\n",
    "\n",
    "where the linear part is\n",
    "\n",
    "$$\n",
    "    \\eta_{lin}(T, z) = \\exp(-\\gamma_T T + \\gamma_z z)\n",
    "$$\n",
    "\n",
    "with $\\gamma_T = \\ln(\\Delta \\eta_T)$ and $\\gamma_z = \\ln(\\Delta \\eta_z)$. The nonlinear part is\n",
    "\n",
    "$$\n",
    "    \\eta_{plast}(\\dot{\\epsilon}) = \\eta^* + \\frac{\\sigma_{\\gamma}}{\\sqrt{\\dot{\\epsilon} : \\dot{\\epsilon}}}\n",
    "$$\n",
    "\n",
    "where $\\eta^*$ is the effective viscosity at high stresses and $\\sigma_{\\gamma}$ is the yield stress. The values of $\\Delta \\eta_T$, $\\Delta \\eta_z$, $\\eta^*$ and $\\sigma_{\\gamma}$ are assumed to be constant with values dependent on the particular case."
   ]
  },
  {
   "cell_type": "markdown",
   "metadata": {},
   "source": [
    "**Create variables required for plasticity calculations**"
   ]
  },
  {
   "cell_type": "code",
   "execution_count": 8,
   "metadata": {
    "collapsed": false
   },
   "outputs": [],
   "source": [
    "secinv = fn.tensor.second_invariant( fn.tensor.symmetric( velocityField.fn_gradient ) )\n",
    "coordinate = fn.coord()"
   ]
  },
  {
   "cell_type": "markdown",
   "metadata": {},
   "source": [
    "**Setup viscosity functions**\n",
    "\n",
    "Remember to use floats everywhere when setting up functions"
   ]
  },
  {
   "cell_type": "code",
   "execution_count": 9,
   "metadata": {
    "collapsed": false
   },
   "outputs": [],
   "source": [
    "viscosityl1 = fn.math.exp(math.log(ETA_T)*-1.*temperatureField)\n",
    "viscosityl2 = fn.math.exp((math.log(ETA_T)*-1.*temperatureField) + (1.-coordinate[1])*math.log(ETA_Y))\n",
    "\n",
    "#Von Mises effective viscosity\n",
    "viscosityp = ETA0 + YSTRESS/(secinv/math.sqrt(0.5)) #extra factor to account for underworld second invariant form\n",
    "\n",
    "if CASE == 1:\n",
    "    fn_viscosity = viscosityl1\n",
    "elif CASE == 2:\n",
    "    fn_viscosity = 2./(1./viscosityl1 + 1./viscosityp)\n",
    "elif CASE == 3:\n",
    "    fn_viscosity = viscosityl2\n",
    "else:\n",
    "    fn_viscosity = 2./(1./viscosityl2 + 1./viscosityp)"
   ]
  },
  {
   "cell_type": "markdown",
   "metadata": {},
   "source": [
    "**Add functions for density and buoyancy**"
   ]
  },
  {
   "cell_type": "code",
   "execution_count": 10,
   "metadata": {
    "collapsed": true
   },
   "outputs": [],
   "source": [
    "densityFn = RA*temperatureField\n",
    "\n",
    "# define our vertical unit vector using a python tuple (this will be automatically converted to a function)\n",
    "z_hat = ( 0.0, 1.0 )\n",
    "\n",
    "# now create a buoyancy force vector using the density (FEvariable) and the vertical unit vector. \n",
    "buoyancyFn = densityFn * z_hat"
   ]
  },
  {
   "cell_type": "markdown",
   "metadata": {},
   "source": [
    "Build the Stokes system and solvers\n",
    "------\n",
    "\n",
    "Setup the Stokes system with linear or nonlinear visocity viscosity depending on case."
   ]
  },
  {
   "cell_type": "code",
   "execution_count": 11,
   "metadata": {
    "collapsed": false
   },
   "outputs": [],
   "source": [
    "stokesPIC = uw.systems.Stokes(velocityField=velocityField, \n",
    "                              pressureField=pressureField,\n",
    "                              conditions=[freeslipBC,],\n",
    "                              fn_viscosity=fn.exception.SafeMaths(fn_viscosity), \n",
    "                              fn_bodyforce=buoyancyFn)"
   ]
  },
  {
   "cell_type": "markdown",
   "metadata": {},
   "source": [
    "Setup solver for the Stokes system of equations"
   ]
  },
  {
   "cell_type": "code",
   "execution_count": 12,
   "metadata": {
    "collapsed": false
   },
   "outputs": [],
   "source": [
    "solver = uw.systems.Solver( stokesPIC )"
   ]
  },
  {
   "cell_type": "markdown",
   "metadata": {},
   "source": [
    "We do one solve for initial pressure and velocity with linear viscosity to get the initial strain rate invariant. This solve step also calculates a 'guess' of the the velocity field based on the linear system, which is used later in the non-linear solver."
   ]
  },
  {
   "cell_type": "code",
   "execution_count": 13,
   "metadata": {
    "collapsed": false
   },
   "outputs": [],
   "source": [
    "solver.solve( nonLinearIterate=False )"
   ]
  },
  {
   "cell_type": "markdown",
   "metadata": {},
   "source": [
    "Create an advective-diffusive system\n",
    "-----\n",
    "\n",
    "Setup the system in underworld by flagging the temperature and velocity field variables."
   ]
  },
  {
   "cell_type": "code",
   "execution_count": 14,
   "metadata": {
    "collapsed": false
   },
   "outputs": [],
   "source": [
    "advDiff = uw.systems.AdvectionDiffusion( temperatureField, temperatureDotField, velocityField,\n",
    "                                         fn_diffusivity=1., conditions=[tempBC,] )"
   ]
  },
  {
   "cell_type": "markdown",
   "metadata": {},
   "source": [
    "Metrics for benchmark\n",
    "-----\n",
    "\n",
    "Define diagnostic functions to be used in the time loop and/or measured after reaching steady state:\n",
    "\n",
    "* Average temperature\n",
    "$$  \\langle T \\rangle  = \\int^1_0 \\int^1_0 T \\, dxdy $$\n",
    "* Top and bottom Nusselt numbers\n",
    "$$Nu_{top/bot} = - \\left. \\int^1_0 \\frac{\\partial T}{\\partial y} \\right|_{y=1/y=0} \\, dx$$\n",
    "* RMS velocity over the whole domain, surface and max velocity at surface\n",
    "$$u_{RMS} = \\left( \\int_0^1 \\int_0^1 \\left( u_x^2 + u_y^2 \\right) dx dy \\right)^{1/2}$$\n",
    "$$u_{RMS}^{surf} = \\left( \\left. \\int_0^1 u_x^2\\right|_{y=1} dx \\right)^{1/2}$$\n",
    "$$u_{max}^{surf} = \\left. \\max(u_x)\\right|_{y=1}$$\n",
    "* max and min viscosity over the whole domain\n",
    "$$\\eta_{max/min} = \\max / \\min \\left( \\eta\\left(x,y\\right) \\right)$$\n",
    "* average rate of work done against gravity\n",
    "$$\\langle W \\rangle = \\int^1_0 \\int^1_0 T u_y \\, dx dy$$\n",
    "* and the average rate of viscous dissipation\n",
    "$$\\langle \\Phi \\rangle = \\int^1_0 \\int^1_0 \\tau_{ij} \\dot \\epsilon_{ij} \\, dx dy$$\n",
    "\n",
    "* In steady state, if thermal energy is accurately conserved, the difference between $\\langle W \\rangle$ and $\\langle \\Phi \\rangle / Ra$ must vanish, so also reported is the percentage error: \n",
    "\n",
    "$$ \\delta = \\frac{\\lvert \\langle W \\rangle - \\frac{\\langle \\Phi \\rangle}{Ra} \\rvert}{max \\left(  \\langle W \\rangle,  \\frac{\\langle \\Phi \\rangle}{Ra}\\right)} \\times 100% $$"
   ]
  },
  {
   "cell_type": "markdown",
   "metadata": {},
   "source": [
    "**Setup volume integrals used in metric functions**"
   ]
  },
  {
   "cell_type": "code",
   "execution_count": 15,
   "metadata": {
    "collapsed": false
   },
   "outputs": [],
   "source": [
    "# temperature\n",
    "tempint = uw.utils.Integral( temperatureField, mesh )\n",
    "# area\n",
    "areaint = uw.utils.Integral( 1.,               mesh )\n",
    "# velocity squared\n",
    "v2int   = uw.utils.Integral(fn.math.dot(velocityField,velocityField), mesh)\n",
    "# work done\n",
    "dwint   = uw.utils.Integral(temperatureField*velocityField[1], mesh)\n",
    "# viscous dissipation\n",
    "sinner = fn.math.dot(secinv,secinv)\n",
    "vdint = uw.utils.Integral((4.*fn_viscosity*sinner), mesh)"
   ]
  },
  {
   "cell_type": "markdown",
   "metadata": {},
   "source": [
    "**Setup surface integrals used in metric functions**"
   ]
  },
  {
   "cell_type": "code",
   "execution_count": 16,
   "metadata": {
    "collapsed": false
   },
   "outputs": [],
   "source": [
    "rmsSurfInt = uw.utils.Integral( fn=velocityField[0]*velocityField[0], mesh=mesh, integrationType='Surface', \n",
    "                          surfaceIndexSet=mesh.specialSets[\"MaxJ_VertexSet\"])\n",
    "nuTop      = uw.utils.Integral( fn=temperatureField.fn_gradient[1], mesh=mesh, integrationType='Surface', \n",
    "                          surfaceIndexSet=mesh.specialSets[\"MaxJ_VertexSet\"])\n",
    "nuBottom   = uw.utils.Integral( fn=temperatureField.fn_gradient[1], mesh=mesh, integrationType='Surface', \n",
    "                          surfaceIndexSet=mesh.specialSets[\"MinJ_VertexSet\"])"
   ]
  },
  {
   "cell_type": "markdown",
   "metadata": {},
   "source": [
    "**Define diagnostic functions using integrals**"
   ]
  },
  {
   "cell_type": "code",
   "execution_count": 17,
   "metadata": {
    "collapsed": false
   },
   "outputs": [],
   "source": [
    "def avg_temp():\n",
    "    return tempint.evaluate()[0]/areaint.evaluate()[0]\n",
    "\n",
    "def nusseltTB(temp_field, mesh):\n",
    "    return -nuTop.evaluate()[0], -nuBottom.evaluate()[0]\n",
    "\n",
    "def rms():\n",
    "    return math.sqrt(v2int.evaluate()[0]/areaint.evaluate()[0])\n",
    "\n",
    "def rms_surf():\n",
    "    return math.sqrt(rmsSurfInt.evaluate()[0])\n",
    "\n",
    "def max_vx_surf(velfield, mesh):\n",
    "    vuvelxfn = fn.view.min_max(velfield[0])\n",
    "    vuvelxfn.evaluate(mesh.specialSets[\"MaxJ_VertexSet\"])\n",
    "    return vuvelxfn.max_global()\n",
    "\n",
    "def gravwork(workfn):\n",
    "    return workfn.evaluate()[0]\n",
    "\n",
    "def viscdis(vdissfn):\n",
    "    return vdissfn.evaluate()[0]\n",
    "\n",
    "def visc_extr(viscfn):\n",
    "    vuviscfn = fn.view.min_max(viscfn)\n",
    "    vuviscfn.evaluate(mesh)\n",
    "    return vuviscfn.max_global(), vuviscfn.min_global()"
   ]
  },
  {
   "cell_type": "code",
   "execution_count": 18,
   "metadata": {
    "collapsed": false
   },
   "outputs": [],
   "source": [
    "#Fields for saving data / fields\n",
    "rmsField = uw.mesh.MeshVariable( mesh=mesh, nodeDofCount=1 )\n",
    "rmsfn    = fn.math.sqrt( fn.math.dot( velocityField, velocityField ) )\n",
    "rmsdata  = rmsfn.evaluate( mesh )\n",
    "rmsField.data[:] = rmsdata \n",
    "\n",
    "viscField = uw.mesh.MeshVariable( mesh=mesh, nodeDofCount=1 )\n",
    "viscdata  = fn_viscosity.evaluate( mesh )\n",
    "viscField.data[:] = viscdata\n",
    "\n",
    "stressField = uw.mesh.MeshVariable( mesh=mesh, nodeDofCount=1)\n",
    "srtdata     = fn.tensor.second_invariant( fn.tensor.symmetric( velocityField.fn_gradient ) )\n",
    "rostfield   = srtdata.evaluate( mesh )\n",
    "stressinv   = 2*viscdata*rostfield[:]\n",
    "stressField.data[:] = stressinv"
   ]
  },
  {
   "cell_type": "markdown",
   "metadata": {},
   "source": [
    "Main simulation loop\n",
    "------\n",
    "\n",
    "Normally a loop over time increments would be added here. As we are only interested in the post-analysis a single time step will be taken to ensure that all analysis fields are live. This step will involve the non-linear Stokes system solver."
   ]
  },
  {
   "cell_type": "code",
   "execution_count": 19,
   "metadata": {
    "collapsed": false
   },
   "outputs": [],
   "source": [
    "steps_todo = 1"
   ]
  },
  {
   "cell_type": "markdown",
   "metadata": {
    "collapsed": false
   },
   "source": [
    "Initialise steps and time. Set to zero unless loading values from file."
   ]
  },
  {
   "cell_type": "code",
   "execution_count": 20,
   "metadata": {
    "collapsed": false
   },
   "outputs": [
    {
     "name": "stdout",
     "output_type": "stream",
     "text": [
      "This model has previously completed  57800 steps to get to time = 0.502\n"
     ]
    }
   ],
   "source": [
    "try:\n",
    "    realtime = timeVal[-1]\n",
    "    step = int(stepsVal[-1])\n",
    "except:\n",
    "    realtime = 0.0\n",
    "    step = 0\n",
    "steps_end = step + steps_todo\n",
    "steps_output = 100\n",
    "steps_output = max(steps_output,1)\n",
    "print('This model has previously completed {0:6d} steps to get to time = {1:.3f}'.format(step,realtime))"
   ]
  },
  {
   "cell_type": "code",
   "execution_count": 21,
   "metadata": {
    "collapsed": false
   },
   "outputs": [],
   "source": [
    "# initialise timer for computation\n",
    "start = time.clock()\n",
    "# start loop\n",
    "while step < steps_end:\n",
    "    # Solve non-linear system\n",
    "    solver.solve(nonLinearIterate=True)\n",
    "    dt = advDiff.get_max_dt()\n",
    "    if step == 0:\n",
    "        dt = 0.\n",
    "    # Advect using this timestep size   \n",
    "    advDiff.integrate(dt)\n",
    "    # Increment\n",
    "    realtime += dt\n",
    "    step += 1\n",
    "    # Calculate the Metrics, only on 1 of the processors:\n",
    "    Avg_temp = avg_temp()\n",
    "    Rms = rms()\n",
    "    Rms_surf = rms_surf()\n",
    "    Max_vx_surf = max_vx_surf(velocityField, mesh)\n",
    "    Gravwork = gravwork(dwint)\n",
    "    Viscdis = viscdis(vdint)\n",
    "    nu1, nu0 = nusseltTB(temperatureField, mesh) # return top then bottom\n",
    "    etamax, etamin = visc_extr(fn_viscosity)\n",
    "    # store results\n",
    "    stepsVal.append(       step)\n",
    "    timeVal.append(        realtime )\n",
    "    viscdisVal.append(     Viscdis )\n",
    "    nu0Val.append(         nu0 )\n",
    "    nu1Val.append(         nu1 )\n",
    "    Avg_tempVal.append(    Avg_temp )\n",
    "    vrmsVal.append(        Rms )\n",
    "    Rms_surfVal.append(    Rms_surf )\n",
    "    Max_vx_surfVal.append( Max_vx_surf )\n",
    "    GravworkVal.append(    Gravwork )\n",
    "    etamaxVal.append(      etamax )\n",
    "    etaminVal.append(      etamin )\n",
    "\n",
    "    # output fields and summary info to file (output graphics can also be added here)\n",
    "    if uw.rank()==0:\n",
    "        if (step % steps_output == 0) or (step == steps_end-1):\n",
    "            print 'step =',step, '; CPU time =', time.clock()-start, '; vrms = ',Rms\n",
    "            # Temperature\n",
    "            fnametemp = \"temperatureField_\" + str(step).zfill(6) + \".h5\"\n",
    "            fullpath = os.path.join(outputPath + \"files/\" + fnametemp)\n",
    "            temperatureField.save(fullpath)\n",
    "            # Temperature time derivative\n",
    "            fnametemp = \"temperatureDotField_\" + str(step).zfill(6) + \".h5\"\n",
    "            fullpath = os.path.join(outputPath + \"files/\" + fnametemp)\n",
    "            temperatureDotField.save(fullpath)\n",
    "            # Pressure\n",
    "            fnametemp = \"pressureField_\" + str(step).zfill(6) + \".h5\"\n",
    "            fullpath = os.path.join(outputPath + \"files/\" + fnametemp)\n",
    "            pressureField.save(fullpath)\n",
    "            # Velocity\n",
    "            fnametemp = \"velocityField_\" + str(step).zfill(6) + \".h5\"\n",
    "            fullpath = os.path.join(outputPath + \"files/\" + fnametemp)\n",
    "            velocityField.save(fullpath)\n",
    "\n",
    "            np.savetxt( outputPath + 'Summary.txt', np.c_[stepsVal, timeVal, viscdisVal, nu0Val, \n",
    "                                                          nu1Val, Avg_tempVal, vrmsVal, Rms_surfVal,\n",
    "                                                         Max_vx_surfVal, GravworkVal, etamaxVal, etaminVal], \n",
    "                   header=\"Steps, Time, visc, Nusselt bottom/top, av_T, vrms, surf_rms, surf_max, grav, etamax, etamin\" )"
   ]
  },
  {
   "cell_type": "markdown",
   "metadata": {},
   "source": [
    "Post-simulation analysis\n",
    "-------\n",
    "\n",
    "Here we will calculate the quantities specified for this case in Tosi et al. (2015) and finally compare them to the values given in their Table 2."
   ]
  },
  {
   "cell_type": "markdown",
   "metadata": {},
   "source": [
    "**Plot final temperature and velocity fields**"
   ]
  },
  {
   "cell_type": "code",
   "execution_count": 22,
   "metadata": {
    "collapsed": false
   },
   "outputs": [
    {
     "data": {
      "text/html": [
       "<img src='data:image/png;base64,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'>"
      ],
      "text/plain": [
       "<IPython.core.display.HTML object>"
      ]
     },
     "execution_count": 22,
     "metadata": {},
     "output_type": "execute_result"
    }
   ],
   "source": [
    "velmax = np.amax(velocityField.data[:])\n",
    "if(velmax==0.0): velmax = 1.0\n",
    "fig1 = glucifer.Figure()\n",
    "fig1.append( glucifer.objects.Surface(mesh, temperatureField) )\n",
    "fig1.append( glucifer.objects.VectorArrows(mesh, velocityField/velmax, scaling=0.1, arrowHead=0.2) )\n",
    "fig1.show()"
   ]
  },
  {
   "cell_type": "markdown",
   "metadata": {},
   "source": [
    "**Calculate quantities for benchmark comparison**"
   ]
  },
  {
   "cell_type": "code",
   "execution_count": 23,
   "metadata": {
    "collapsed": true
   },
   "outputs": [],
   "source": [
    "tempAv = Avg_tempVal[-1]\n",
    "nuTop = nu1Val[-1]\n",
    "nuBot = nu0Val[-1]\n",
    "uRMS = vrmsVal[-1]\n",
    "uSurfRMS = Rms_surfVal[-1]\n",
    "uSurfMax = Max_vx_surfVal[-1]\n",
    "etaMin = etaminVal[-1]\n",
    "etaMax = etamaxVal[-1]\n",
    "workDone = GravworkVal[-1]\n",
    "phi = viscdisVal[-1]/100.\n",
    "delta = abs(workDone - phi)/max(workDone, phi) * 100."
   ]
  },
  {
   "cell_type": "markdown",
   "metadata": {},
   "source": [
    "**Output all quantities for this case**"
   ]
  },
  {
   "cell_type": "code",
   "execution_count": 24,
   "metadata": {
    "collapsed": false
   },
   "outputs": [
    {
     "name": "stdout",
     "output_type": "stream",
     "text": [
      "<T>        = 0.7008\n",
      "Nu_top     = 2.8628\n",
      "Nu_bot     = 3.3643\n",
      "u_rms      = 91.5907\n",
      "u^surf_rms = 2.1800\n",
      "u^surf_max = 3.0522\n",
      "eta_min    = 5.7630e-05\n",
      "eta_max    = 1.0000\n",
      "W          = 2.1120\n",
      "Phi        = 2.1122\n",
      "delta      = 0.0096%\n"
     ]
    }
   ],
   "source": [
    "print('<T>        = {0:.4f}'.format(tempAv))\n",
    "print('Nu_top     = {0:.4f}'.format(nuTop))\n",
    "print('Nu_bot     = {0:.4f}'.format(nuBot))\n",
    "print('u_rms      = {0:.4f}'.format(uRMS))\n",
    "print('u^surf_rms = {0:.4f}'.format(uSurfRMS))\n",
    "print('u^surf_max = {0:.4f}'.format(uSurfMax))\n",
    "print('eta_min    = {0:.4e}'.format(etaMin))\n",
    "print('eta_max    = {0:.4f}'.format(etaMax))\n",
    "print('W          = {0:.4f}'.format(workDone))\n",
    "print('Phi        = {0:.4f}'.format(phi))\n",
    "print('delta      = {0:.4f}%'.format(delta))"
   ]
  },
  {
   "cell_type": "markdown",
   "metadata": {},
   "source": [
    "**Comparison values from Tosi et al. (2015)**\n",
    "\n",
    "The expected benchmark values from Table 2 of Tosi et al. (2015) for case 3 are given in the table below. The minimum and maximum values from each of the participating codes are given here to provide an expected range for each quantity.\n",
    "\n",
    "| Case 3  | $<$$T$$>$ | $Nu_{top}$ | $Nu_{bot}$ | $u_{RMS}$ | $u_{RMS}^{surf}$ | $u_{max}^{surf}$ | $\\eta_{min}$ | $\\eta_{max}$ | $<$$W$$>$ |  $<$$\\Phi$$>$/Ra | $\\delta$ |\n",
    "|:--------|:---------:|:----------:|:----------:|:---------:|:----------------:|:----------------:|:------------:|:------------:|:------------:|:------------------:|:--------:|\n",
    "| Min     | 0.7241 | 3.0253 | 2.9628 | 99.8701  | 2.0374 | 2.8458 | 4.7907$\\times 10^{-5}$ | 0.9010 | 2.0028 | 2.0277 | $<$0.01% |\n",
    "| Max     | 0.7268 | 3.0918 | 3.0376 | 100.9467 | 2.0916 | 2.9207 | 4.8400$\\times 10^{-5}$ | 1.0000 | 2.0400 | 2.0370 | 1.23% |\n",
    "\n",
    "Note that the values from the spectral code MC3D are not used to construct the min/max values here, as they are outlier values."
   ]
  }
 ],
 "metadata": {
  "kernelspec": {
   "display_name": "Python 2",
   "language": "python",
   "name": "python2"
  },
  "language_info": {
   "codemirror_mode": {
    "name": "ipython",
    "version": 2
   },
   "file_extension": ".py",
   "mimetype": "text/x-python",
   "name": "python",
   "nbconvert_exporter": "python",
   "pygments_lexer": "ipython2",
   "version": "2.7.10"
  }
 },
 "nbformat": 4,
 "nbformat_minor": 0
}
