{
 "cells": [
  {
   "cell_type": "markdown",
   "metadata": {
    "collapsed": true
   },
   "source": [
    "Viscoplastic thermal convection in a 2-D square box: Tosi et al. 2015\n",
    "=====\n",
    "\n",
    "This series of notebooks generates benchmark models from the Tosi et al. (2015) in Underworld2. The Underworld2 results are then directly compared to the results from Table 2 of Tosi et al. (2015) the paper for each case. The notebooks are broken into a general notebook for reproducing the models from scratch and 5 post-analysis notebooks which look at the results Underworld2 gives for each case after running to equilibrium. \n",
    "\n",
    "Case 5a: Periodic regime\n",
    "-------\n",
    "\n",
    "Like cases 2 and 4, case 5a also assumes a viscoplastic rheology but a higher yield stress, which ultimately causes the emergence of a stable periodic regime. \n",
    "The parameters used for case 5a are: $Ra = 10^2$, $\\Delta \\eta_T = 10^5$, $\\eta^* = 10^{-3}$, $\\Delta \\eta_z = 10$ and $\\sigma_\\gamma = 4$.\n",
    "\n",
    "\n",
    "References\n",
    "-----\n",
    "\n",
    "1. Tosi, Nicola and Stein, Claudia and Noack, Lena and H&uuml;ttig, Christian and Maierov&aacute;, Petra and Samuel, Henri and Davies, DR and Wilson, CR and Kramer, SC and Thieulot, Cedric and others. 2015. _A community benchmark for viscoplastic thermal convection in a 2-D square box_.\n",
    "\n"
   ]
  },
  {
   "cell_type": "markdown",
   "metadata": {},
   "source": [
    "Load python functions needed for underworld. Some additional python functions from os, math and numpy used later on."
   ]
  },
  {
   "cell_type": "code",
   "execution_count": 1,
   "metadata": {
    "collapsed": false
   },
   "outputs": [
    {
     "name": "stderr",
     "output_type": "stream",
     "text": [
      "/Users/jmansour/virtualenvs/general/lib/python2.7/site-packages/matplotlib/font_manager.py:273: UserWarning: Matplotlib is building the font cache using fc-list. This may take a moment.\n",
      "  warnings.warn('Matplotlib is building the font cache using fc-list. This may take a moment.')\n"
     ]
    }
   ],
   "source": [
    "%matplotlib inline\n",
    "import underworld as uw\n",
    "import math\n",
    "from underworld import function as fn\n",
    "import glucifer\n",
    "import matplotlib.pyplot as pyplot\n",
    "import matplotlib.pylab as pylab\n",
    "import time\n",
    "import numpy as np\n",
    "import os"
   ]
  },
  {
   "cell_type": "markdown",
   "metadata": {},
   "source": [
    "Set physical constants and parameters, including the Rayleigh number (*Ra*) and viscosity constants ($\\eta^*$ and $\\eta_T$) which are common to all Tosi et al cases."
   ]
  },
  {
   "cell_type": "code",
   "execution_count": 2,
   "metadata": {
    "collapsed": false
   },
   "outputs": [],
   "source": [
    "RA  = 1e2        # Rayleigh number\n",
    "ETA_T = 1e5      # common viscosity constant\n",
    "TS  = 0          # surface temperature\n",
    "TB  = 1          # bottom boundary temperature (melting point)\n",
    "ETA0 = 1e-3      # viscosity constant eta^* in Tosi et al\n",
    "TMAX = 3.0\n",
    "IMAX = 1000"
   ]
  },
  {
   "cell_type": "markdown",
   "metadata": {},
   "source": [
    "Select case 5 of Tosi et al (2015) and set constants as required."
   ]
  },
  {
   "cell_type": "code",
   "execution_count": 3,
   "metadata": {
    "collapsed": false
   },
   "outputs": [],
   "source": [
    "CASE = 5\n",
    "ETA_Y = 10.\n",
    "YSTRESS = 4."
   ]
  },
  {
   "cell_type": "markdown",
   "metadata": {},
   "source": [
    "Set input and output file directories"
   ]
  },
  {
   "cell_type": "code",
   "execution_count": 4,
   "metadata": {
    "collapsed": false
   },
   "outputs": [],
   "source": [
    "# input file directory\n",
    "inputPath  = 'TosiInput/case' + str(CASE) + \"/\"\n",
    "# output files\n",
    "outputPath = 'TosiOutput/'\n",
    "filePath   = outputPath+'files'\n",
    "# make directories if they don't exist\n",
    "if not os.path.isdir(outputPath):\n",
    "    os.makedirs(outputPath)\n",
    "if not os.path.isdir(filePath):\n",
    "    os.makedirs(filePath)"
   ]
  },
  {
   "cell_type": "markdown",
   "metadata": {},
   "source": [
    "Create mesh and finite element variables\n",
    "------\n",
    "\n",
    "Set up mesh and field variables that are solved on the mesh."
   ]
  },
  {
   "cell_type": "code",
   "execution_count": 5,
   "metadata": {
    "collapsed": false
   },
   "outputs": [],
   "source": [
    "res = 128\n",
    "mesh = uw.mesh.FeMesh_Cartesian( elementType = (\"Q1/dQ0\"), \n",
    "                                 elementRes  = (res, res), \n",
    "                                 minCoord    = (0., 0.), \n",
    "                                 maxCoord    = (1., 1.))\n",
    "\n",
    "velocityField       = uw.mesh.MeshVariable( mesh=mesh,         nodeDofCount=2 )\n",
    "pressureField       = uw.mesh.MeshVariable( mesh=mesh.subMesh, nodeDofCount=1 )\n",
    "temperatureField    = uw.mesh.MeshVariable( mesh=mesh,         nodeDofCount=1 )\n",
    "temperatureDotField = uw.mesh.MeshVariable( mesh=mesh,         nodeDofCount=1 )"
   ]
  },
  {
   "cell_type": "markdown",
   "metadata": {},
   "source": [
    "Set initial conditions and boundary conditions\n",
    "----------\n",
    "\n",
    "Load all variable fields and summary data with data from previously run cases."
   ]
  },
  {
   "cell_type": "code",
   "execution_count": 6,
   "metadata": {
    "collapsed": false
   },
   "outputs": [],
   "source": [
    "# load fields\n",
    "temperatureField.load(    inputPath+'temperatureField.h5' )\n",
    "temperatureDotField.load( inputPath+'temperatureDotField.h5' )\n",
    "pressureField.load(       inputPath+'pressureField.h5')\n",
    "velocityField.load(       inputPath+'velocityField.h5')\n",
    "\n",
    "# load past iterations of summary data\n",
    "data = np.loadtxt( inputPath+'Summary.txt', unpack=True )\n",
    "stepsVal = data[0].tolist()\n",
    "timeVal = data[1].tolist()\n",
    "viscdisVal = data[2].tolist()\n",
    "nu0Val = data[3].tolist()\n",
    "nu1Val = data[4].tolist()\n",
    "Avg_tempVal = data[5].tolist()\n",
    "vrmsVal = data[6].tolist()\n",
    "Rms_surfVal = data[7].tolist()\n",
    "Max_vx_surfVal = data[8].tolist()\n",
    "GravworkVal = data[9].tolist()\n",
    "etamaxVal = data[10].tolist()\n",
    "etaminVal = data[11].tolist() "
   ]
  },
  {
   "cell_type": "markdown",
   "metadata": {},
   "source": [
    "**Conditions on the boundaries**"
   ]
  },
  {
   "cell_type": "code",
   "execution_count": 7,
   "metadata": {
    "collapsed": true
   },
   "outputs": [],
   "source": [
    "iWalls = mesh.specialSets[\"MinI_VertexSet\"] + mesh.specialSets[\"MaxI_VertexSet\"]\n",
    "jWalls = mesh.specialSets[\"MinJ_VertexSet\"] + mesh.specialSets[\"MaxJ_VertexSet\"]\n",
    "freeslipBC = uw.conditions.DirichletCondition( variable      = velocityField, \n",
    "                                               indexSetsPerDof = (iWalls, jWalls) )\n",
    "tempBC     = uw.conditions.DirichletCondition( variable      = temperatureField, \n",
    "                                               indexSetsPerDof = (jWalls,) )"
   ]
  },
  {
   "cell_type": "markdown",
   "metadata": {
    "collapsed": false
   },
   "source": [
    "Set up material parameters and functions\n",
    "-----\n"
   ]
  },
  {
   "cell_type": "markdown",
   "metadata": {},
   "source": [
    "**Viscosity field**\n",
    "\n",
    "The viscosity is a function of temperature ($T$), the vertical coordinate ($z$) and the strain rate ($\\dot{\\epsilon}$) and is given by\n",
    "\n",
    "$$\n",
    "    \\eta(T, z, \\dot{\\epsilon}) = 2 \\left( \\frac{1}{\\eta_{lin}(T,z)} + \\frac{1}{\\eta_{plast}(\\dot{\\epsilon})} \\right)^{-1}\n",
    "$$\n",
    "\n",
    "where the linear part is\n",
    "\n",
    "$$\n",
    "    \\eta_{lin}(T, z) = \\exp(-\\gamma_T T + \\gamma_z z)\n",
    "$$\n",
    "\n",
    "with $\\gamma_T = \\ln(\\Delta \\eta_T)$ and $\\gamma_z = \\ln(\\Delta \\eta_z)$. The nonlinear part is\n",
    "\n",
    "$$\n",
    "    \\eta_{plast}(\\dot{\\epsilon}) = \\eta^* + \\frac{\\sigma_{\\gamma}}{\\sqrt{\\dot{\\epsilon} : \\dot{\\epsilon}}}\n",
    "$$\n",
    "\n",
    "where $\\eta^*$ is the effective viscosity at high stresses and $\\sigma_{\\gamma}$ is the yield stress. The values of $\\Delta \\eta_T$, $\\Delta \\eta_z$, $\\eta^*$ and $\\sigma_{\\gamma}$ are assumed to be constant with values dependent on the particular case."
   ]
  },
  {
   "cell_type": "markdown",
   "metadata": {},
   "source": [
    "**Create variables required for plasticity calculations**"
   ]
  },
  {
   "cell_type": "code",
   "execution_count": 8,
   "metadata": {
    "collapsed": false
   },
   "outputs": [],
   "source": [
    "secinv = fn.tensor.second_invariant( fn.tensor.symmetric( velocityField.fn_gradient ) )\n",
    "coordinate = fn.coord()"
   ]
  },
  {
   "cell_type": "markdown",
   "metadata": {},
   "source": [
    "**Setup viscosity functions**\n",
    "\n",
    "Remember to use floats everywhere when setting up functions"
   ]
  },
  {
   "cell_type": "code",
   "execution_count": 9,
   "metadata": {
    "collapsed": false
   },
   "outputs": [],
   "source": [
    "viscosityl1 = fn.math.exp(math.log(ETA_T)*-1.*temperatureField)\n",
    "viscosityl2 = fn.math.exp((math.log(ETA_T)*-1.*temperatureField) + (1.-coordinate[1])*math.log(ETA_Y))\n",
    "\n",
    "#Von Mises effective viscosity\n",
    "viscosityp = ETA0 + YSTRESS/(secinv/math.sqrt(0.5)) #extra factor to account for underworld second invariant form\n",
    "\n",
    "if CASE == 1:\n",
    "    fn_viscosity = viscosityl1\n",
    "elif CASE == 2:\n",
    "    fn_viscosity = 2./(1./viscosityl1 + 1./viscosityp)\n",
    "elif CASE == 3:\n",
    "    fn_viscosity = viscosityl2\n",
    "else:\n",
    "    fn_viscosity = 2./(1./viscosityl2 + 1./viscosityp)"
   ]
  },
  {
   "cell_type": "markdown",
   "metadata": {},
   "source": [
    "**Add functions for density and buoyancy**"
   ]
  },
  {
   "cell_type": "code",
   "execution_count": 10,
   "metadata": {
    "collapsed": true
   },
   "outputs": [],
   "source": [
    "densityFn = RA*temperatureField\n",
    "\n",
    "# define our vertical unit vector using a python tuple (this will be automatically converted to a function)\n",
    "z_hat = ( 0.0, 1.0 )\n",
    "\n",
    "# now create a buoyancy force vector using the density (FEvariable) and the vertical unit vector. \n",
    "buoyancyFn = densityFn * z_hat"
   ]
  },
  {
   "cell_type": "markdown",
   "metadata": {},
   "source": [
    "Build the Stokes system and solvers\n",
    "------\n",
    "\n",
    "Setup the Stokes system with linear or nonlinear visocity viscosity depending on case."
   ]
  },
  {
   "cell_type": "code",
   "execution_count": 11,
   "metadata": {
    "collapsed": false
   },
   "outputs": [],
   "source": [
    "stokes = uw.systems.Stokes(velocityField=velocityField, \n",
    "                              pressureField=pressureField,\n",
    "                              conditions=[freeslipBC,],\n",
    "                              fn_viscosity=fn.exception.SafeMaths(fn_viscosity), \n",
    "                              fn_bodyforce=buoyancyFn)"
   ]
  },
  {
   "cell_type": "markdown",
   "metadata": {},
   "source": [
    "Setup solver for the Stokes system of equations"
   ]
  },
  {
   "cell_type": "code",
   "execution_count": 12,
   "metadata": {
    "collapsed": false
   },
   "outputs": [],
   "source": [
    "solver = uw.systems.Solver( stokes )"
   ]
  },
  {
   "cell_type": "markdown",
   "metadata": {},
   "source": [
    "We do one solve for initial pressure and velocity with linear viscosity to get the initial strain rate invariant. This solve step also calculates a 'guess' of the the velocity field based on the linear system, which is used later in the non-linear solver."
   ]
  },
  {
   "cell_type": "code",
   "execution_count": 13,
   "metadata": {
    "collapsed": false
   },
   "outputs": [],
   "source": [
    "solver.solve( nonLinearIterate=False )"
   ]
  },
  {
   "cell_type": "markdown",
   "metadata": {},
   "source": [
    "Create an advective-diffusive system\n",
    "-----\n",
    "\n",
    "Setup the system in underworld by flagging the temperature and velocity field variables."
   ]
  },
  {
   "cell_type": "code",
   "execution_count": 14,
   "metadata": {
    "collapsed": false
   },
   "outputs": [],
   "source": [
    "advDiff = uw.systems.AdvectionDiffusion( temperatureField, temperatureDotField, velocityField,\n",
    "                                         fn_diffusivity=1., conditions=[tempBC,] )"
   ]
  },
  {
   "cell_type": "markdown",
   "metadata": {},
   "source": [
    "Metrics for benchmark\n",
    "-----\n",
    "\n",
    "Define diagnostic functions to be used in the time loop and/or measured after reaching steady state:\n",
    "\n",
    "* Average temperature\n",
    "$$  \\langle T \\rangle  = \\int^1_0 \\int^1_0 T \\, dxdy $$\n",
    "* Top and bottom Nusselt numbers\n",
    "$$Nu_{top/bot} = - \\left. \\int^1_0 \\frac{\\partial T}{\\partial y} \\right|_{y=1/y=0} \\, dx$$\n",
    "* RMS velocity over the whole domain, surface and max velocity at surface\n",
    "$$u_{RMS} = \\left( \\int_0^1 \\int_0^1 \\left( u_x^2 + u_y^2 \\right) dx dy \\right)^{1/2}$$\n",
    "$$u_{RMS}^{surf} = \\left( \\left. \\int_0^1 u_x^2\\right|_{y=1} dx \\right)^{1/2}$$\n",
    "$$u_{max}^{surf} = \\left. \\max(u_x)\\right|_{y=1}$$\n",
    "* max and min viscosity over the whole domain\n",
    "$$\\eta_{max/min} = \\max / \\min \\left( \\eta\\left(x,y\\right) \\right)$$\n",
    "* average rate of work done against gravity\n",
    "$$\\langle W \\rangle = \\int^1_0 \\int^1_0 T u_y \\, dx dy$$\n",
    "* and the average rate of viscous dissipation\n",
    "$$\\langle \\Phi \\rangle = \\int^1_0 \\int^1_0 \\tau_{ij} \\dot \\epsilon_{ij} \\, dx dy$$\n",
    "\n",
    "* In steady state, if thermal energy is accurately conserved, the difference between $\\langle W \\rangle$ and $\\langle \\Phi \\rangle / Ra$ must vanish, so also reported is the percentage error: \n",
    "\n",
    "$$ \\delta = \\frac{\\lvert \\langle W \\rangle - \\frac{\\langle \\Phi \\rangle}{Ra} \\rvert}{max \\left(  \\langle W \\rangle,  \\frac{\\langle \\Phi \\rangle}{Ra}\\right)} \\times 100% $$"
   ]
  },
  {
   "cell_type": "markdown",
   "metadata": {},
   "source": [
    "**Setup volume integrals used in metric functions**"
   ]
  },
  {
   "cell_type": "code",
   "execution_count": 15,
   "metadata": {
    "collapsed": false
   },
   "outputs": [],
   "source": [
    "# temperature\n",
    "tempint = uw.utils.Integral( temperatureField, mesh )\n",
    "# area\n",
    "areaint = uw.utils.Integral( 1.,               mesh )\n",
    "# velocity squared\n",
    "v2int   = uw.utils.Integral(fn.math.dot(velocityField,velocityField), mesh)\n",
    "# work done\n",
    "dwint   = uw.utils.Integral(temperatureField*velocityField[1], mesh)\n",
    "# viscous dissipation\n",
    "sinner = fn.math.dot(secinv,secinv)\n",
    "vdint = uw.utils.Integral((4.*fn_viscosity*sinner), mesh)"
   ]
  },
  {
   "cell_type": "markdown",
   "metadata": {},
   "source": [
    "**Setup surface integrals used in metric functions**"
   ]
  },
  {
   "cell_type": "code",
   "execution_count": 16,
   "metadata": {
    "collapsed": false
   },
   "outputs": [],
   "source": [
    "rmsSurfInt = uw.utils.Integral( fn=velocityField[0]*velocityField[0], mesh=mesh, integrationType='Surface', \n",
    "                          surfaceIndexSet=mesh.specialSets[\"MaxJ_VertexSet\"])\n",
    "nuTop      = uw.utils.Integral( fn=temperatureField.fn_gradient[1], mesh=mesh, integrationType='Surface', \n",
    "                          surfaceIndexSet=mesh.specialSets[\"MaxJ_VertexSet\"])\n",
    "nuBottom   = uw.utils.Integral( fn=temperatureField.fn_gradient[1], mesh=mesh, integrationType='Surface', \n",
    "                          surfaceIndexSet=mesh.specialSets[\"MinJ_VertexSet\"])"
   ]
  },
  {
   "cell_type": "markdown",
   "metadata": {},
   "source": [
    "**Define diagnostic functions using integrals**"
   ]
  },
  {
   "cell_type": "code",
   "execution_count": 17,
   "metadata": {
    "collapsed": false
   },
   "outputs": [],
   "source": [
    "def avg_temp():\n",
    "    return tempint.evaluate()[0]/areaint.evaluate()[0]\n",
    "\n",
    "def nusseltTB(temp_field, mesh):\n",
    "    return -nuTop.evaluate()[0], -nuBottom.evaluate()[0]\n",
    "\n",
    "def rms():\n",
    "    return math.sqrt(v2int.evaluate()[0]/areaint.evaluate()[0])\n",
    "\n",
    "def rms_surf():\n",
    "    return math.sqrt(rmsSurfInt.evaluate()[0])\n",
    "\n",
    "def max_vx_surf(velfield, mesh):\n",
    "    vuvelxfn = fn.view.min_max(velfield[0])\n",
    "    vuvelxfn.evaluate(mesh.specialSets[\"MaxJ_VertexSet\"])\n",
    "    return vuvelxfn.max_global()\n",
    "\n",
    "def gravwork(workfn):\n",
    "    return workfn.evaluate()[0]\n",
    "\n",
    "def viscdis(vdissfn):\n",
    "    return vdissfn.evaluate()[0]\n",
    "\n",
    "def visc_extr(viscfn):\n",
    "    vuviscfn = fn.view.min_max(viscfn)\n",
    "    vuviscfn.evaluate(mesh)\n",
    "    return vuviscfn.max_global(), vuviscfn.min_global()"
   ]
  },
  {
   "cell_type": "code",
   "execution_count": 18,
   "metadata": {
    "collapsed": false
   },
   "outputs": [],
   "source": [
    "#Fields for saving data / fields\n",
    "\n",
    "rmsField = uw.mesh.MeshVariable( mesh=mesh, nodeDofCount=1 )\n",
    "rmsfn    = fn.math.sqrt( fn.math.dot( velocityField, velocityField ) )\n",
    "rmsdata  = rmsfn.evaluate( mesh )\n",
    "rmsField.data[:] = rmsdata \n",
    "\n",
    "viscField = uw.mesh.MeshVariable( mesh=mesh, nodeDofCount=1 )\n",
    "viscdata  = fn_viscosity.evaluate( mesh )\n",
    "viscField.data[:] = viscdata\n",
    "\n",
    "stressField = uw.mesh.MeshVariable( mesh=mesh, nodeDofCount=1)\n",
    "srtdata     = fn.tensor.second_invariant( fn.tensor.symmetric( velocityField.fn_gradient ) )\n",
    "rostfield   = srtdata.evaluate( mesh )\n",
    "stressinv   = 2*viscdata*rostfield[:]\n",
    "stressField.data[:] = stressinv"
   ]
  },
  {
   "cell_type": "markdown",
   "metadata": {},
   "source": [
    "Main simulation loop\n",
    "------\n",
    "\n",
    "Normally a loop over time increments would be added here. As we are only interested in the post-analysis a single time step will be taken to ensure that all analysis fields are live. This step will involve the non-linear Stokes system solver."
   ]
  },
  {
   "cell_type": "code",
   "execution_count": 19,
   "metadata": {
    "collapsed": false
   },
   "outputs": [],
   "source": [
    "steps_todo = 1"
   ]
  },
  {
   "cell_type": "markdown",
   "metadata": {
    "collapsed": false
   },
   "source": [
    "Initialise steps and time. Set to zero unless loading values from file."
   ]
  },
  {
   "cell_type": "code",
   "execution_count": 20,
   "metadata": {
    "collapsed": false
   },
   "outputs": [
    {
     "name": "stdout",
     "output_type": "stream",
     "text": [
      "This model has previously completed  77897 steps to get to time = 0.899\n"
     ]
    }
   ],
   "source": [
    "try:\n",
    "    realtime = timeVal[-1]\n",
    "    step = int(stepsVal[-1])\n",
    "except:\n",
    "    realtime = 0.0\n",
    "    step = 0\n",
    "steps_end = step + steps_todo\n",
    "steps_output = 100\n",
    "steps_output = max(steps_output,1)\n",
    "print('This model has previously completed {0:6d} steps to get to time = {1:.3f}'.format(step,realtime))"
   ]
  },
  {
   "cell_type": "code",
   "execution_count": 21,
   "metadata": {
    "collapsed": false
   },
   "outputs": [],
   "source": [
    "# initialise timer for computation\n",
    "start = time.clock()\n",
    "# start loop\n",
    "while step < steps_end:\n",
    "    # Solve non-linear system\n",
    "    solver.solve(nonLinearIterate=True)\n",
    "    dt = advDiff.get_max_dt()\n",
    "    if step == 0:\n",
    "        dt = 0.\n",
    "    # Advect using this timestep size   \n",
    "    advDiff.integrate(dt)\n",
    "    # Increment\n",
    "    realtime += dt\n",
    "    step += 1\n",
    "    # Calculate the Metrics, only on 1 of the processors:\n",
    "    Avg_temp = avg_temp()\n",
    "    Rms = rms()\n",
    "    Rms_surf = rms_surf()\n",
    "    Max_vx_surf = max_vx_surf(velocityField, mesh)\n",
    "    Gravwork = gravwork(dwint)\n",
    "    Viscdis = viscdis(vdint)\n",
    "    nu1, nu0 = nusseltTB(temperatureField, mesh) # return top then bottom\n",
    "    etamax, etamin = visc_extr(fn_viscosity)\n",
    "    # store results\n",
    "    stepsVal.append(       step)\n",
    "    timeVal.append(        realtime )\n",
    "    viscdisVal.append(    Viscdis )\n",
    "    nu0Val.append(         nu0 )\n",
    "    nu1Val.append(         nu1 )\n",
    "    Avg_tempVal.append(    Avg_temp )\n",
    "    vrmsVal.append(        Rms )\n",
    "    Rms_surfVal.append(    Rms_surf )\n",
    "    Max_vx_surfVal.append( Max_vx_surf )\n",
    "    GravworkVal.append(    Gravwork )\n",
    "    etamaxVal.append(      etamax )\n",
    "    etaminVal.append(      etamin )\n",
    "\n",
    "    # output fields and summary info to file (output graphics can also be added here)\n",
    "    if uw.rank()==0:\n",
    "        if (step % steps_output == 0) or (step == steps_end-1):\n",
    "            print 'step =',step, '; CPU time =', time.clock()-start, '; vrms = ',Rms\n",
    "            # Temperature\n",
    "            fnametemp = \"temperatureField_\" + str(step).zfill(6) + \".h5\"\n",
    "            fullpath = os.path.join(outputPath + \"files/\" + fnametemp)\n",
    "            temperatureField.save(fullpath)\n",
    "            # Temperature time derivative\n",
    "            fnametemp = \"temperatureDotField_\" + str(step).zfill(6) + \".h5\"\n",
    "            fullpath = os.path.join(outputPath + \"files/\" + fnametemp)\n",
    "            temperatureDotField.save(fullpath)\n",
    "            # Pressure\n",
    "            fnametemp = \"pressureField_\" + str(step).zfill(6) + \".h5\"\n",
    "            fullpath = os.path.join(outputPath + \"files/\" + fnametemp)\n",
    "            pressureField.save(fullpath)\n",
    "            # Velocity\n",
    "            fnametemp = \"velocityField_\" + str(step).zfill(6) + \".h5\"\n",
    "            fullpath = os.path.join(outputPath + \"files/\" + fnametemp)\n",
    "            velocityField.save(fullpath)\n",
    "\n",
    "            np.savetxt( outputPath + 'Summary.txt', np.c_[stepsVal, timeVal, viscdisVal, nu0Val, \n",
    "                                                          nu1Val, Avg_tempVal, vrmsVal, Rms_surfVal,\n",
    "                                                         Max_vx_surfVal, GravworkVal, etamaxVal, etaminVal], \n",
    "                   header=\"Steps, Time, visc, Nusselt bottom/top, av_T, vrms, surf_rms, surf_max, grav, etamax, etamin\" )"
   ]
  },
  {
   "cell_type": "markdown",
   "metadata": {},
   "source": [
    "Post-simulation analysis\n",
    "-------\n",
    "\n",
    "Here we will calculate the quantities specified for this case in Tosi et al. (2015) and finally compare them to the values given in their Table 2."
   ]
  },
  {
   "cell_type": "markdown",
   "metadata": {},
   "source": [
    "**Period regime of case 5a**\n",
    "\n",
    "For case 5 the convection model parameters result in a periodic regime. An example of the top and bottom Nusselt numbers as well as the RMS velocity is shown below. Other figures can be made by modifying the cells below."
   ]
  },
  {
   "cell_type": "code",
   "execution_count": 22,
   "metadata": {
    "collapsed": false
   },
   "outputs": [
    {
     "data": {
      "image/png": "[encoded data removed]",
      "text/plain": [
       "<matplotlib.figure.Figure at 0x10e500a10>"
      ]
     },
     "metadata": {},
     "output_type": "display_data"
    }
   ],
   "source": [
    "pylab.rcParams[ 'figure.figsize'] = 12, 6\n",
    "pyplot.plot(timeVal, nu0Val, color = 'black') \n",
    "pyplot.plot(timeVal, nu1Val, color = 'red') \n",
    "pyplot.xlim(timeVal[1], timeVal[-1])\n",
    "pyplot.xlabel('Time')\n",
    "pyplot.ylabel('Nusselt number')\n",
    "pyplot.show()"
   ]
  },
  {
   "cell_type": "code",
   "execution_count": 23,
   "metadata": {
    "collapsed": false
   },
   "outputs": [
    {
     "data": {
      "image/png": "[encoded data removed]",
      "text/plain": [
       "<matplotlib.figure.Figure at 0x10e43f410>"
      ]
     },
     "metadata": {},
     "output_type": "display_data"
    }
   ],
   "source": [
    "pylab.rcParams[ 'figure.figsize'] = 12, 6\n",
    "pyplot.plot(timeVal, vrmsVal, color = 'black') \n",
    "pyplot.xlim(timeVal[1], timeVal[-1])\n",
    "pyplot.xlabel('Time')\n",
    "pyplot.ylabel('RMS velocity')\n",
    "pyplot.show()"
   ]
  },
  {
   "cell_type": "markdown",
   "metadata": {},
   "source": [
    "**Plot final temperature and velocity fields**"
   ]
  },
  {
   "cell_type": "code",
   "execution_count": 24,
   "metadata": {
    "collapsed": false
   },
   "outputs": [
    {
     "data": {
      "text/html": [
       "<img src='data:image/png;base64,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'>"
      ],
      "text/plain": [
       "<IPython.core.display.HTML object>"
      ]
     },
     "metadata": {},
     "output_type": "display_data"
    }
   ],
   "source": [
    "velmax = np.amax(velocityField.data[:])\n",
    "if(velmax==0.0): velmax = 1.0\n",
    "fig1 = glucifer.Figure()\n",
    "fig1.append( glucifer.objects.Surface(mesh, temperatureField) )\n",
    "fig1.append( glucifer.objects.VectorArrows(mesh, velocityField/velmax, scaling=0.1, arrowHead=0.2) )\n",
    "fig1.show()"
   ]
  },
  {
   "cell_type": "markdown",
   "metadata": {},
   "source": [
    "**Calculate quantities for benchmark comparison**"
   ]
  },
  {
   "cell_type": "code",
   "execution_count": 25,
   "metadata": {
    "collapsed": true
   },
   "outputs": [],
   "source": [
    "tempMin = np.amin(Avg_tempVal)\n",
    "tempMax = np.amax(Avg_tempVal)\n",
    "nuTopMin = np.amin(nu1Val)\n",
    "nuTopMax = np.amax(nu1Val)\n",
    "uRMSMin = np.amin(vrmsVal)\n",
    "uRMSMax = np.amax(vrmsVal)\n",
    "thetaMin = np.amin(GravworkVal)\n",
    "thetaMax = np.amax(GravworkVal)"
   ]
  },
  {
   "cell_type": "markdown",
   "metadata": {},
   "source": [
    "Calculate the period between maxima"
   ]
  },
  {
   "cell_type": "code",
   "execution_count": 26,
   "metadata": {
    "collapsed": false
   },
   "outputs": [],
   "source": [
    "x = np.array(timeVal, dtype=np.float)\n",
    "dx = np.gradient(vrmsVal)\n",
    "z = np.gradient(vrmsVal, dx, edge_order=2)\n",
    "dx2 = np.gradient(dx)\n",
    "z = np.gradient(vrmsVal, dx2, edge_order=2)\n",
    "timeZero = []\n",
    "for i in range(len(timeVal)-1):\n",
    "    if(dx2[i]>0) & (dx[i]*dx[i+1]<0.):\n",
    "        timeZero.append(np.interp(0.0, (dx[i], dx[i+1]), (timeVal[i], timeVal[i+1])))\n",
    "period = 0.0\n",
    "for i in range(len(timeZero)-1):\n",
    "    period += timeZero[i+1]- timeZero[i]\n",
    "period = period/(len(timeZero)-1)"
   ]
  },
  {
   "cell_type": "markdown",
   "metadata": {},
   "source": [
    "**Output all quantities**"
   ]
  },
  {
   "cell_type": "code",
   "execution_count": 27,
   "metadata": {
    "collapsed": false
   },
   "outputs": [
    {
     "name": "stdout",
     "output_type": "stream",
     "text": [
      "P         = 0.0768\n",
      "T_min     = 0.6509\n",
      "T_max     = 0.6692\n",
      "Nu_min    = 2.6828\n",
      "Nu_max    = 7.3878\n",
      "uRMS_min  = 41.3002\n",
      "uRMS_max  = 99.8329\n",
      "theta_min = 1.3431\n",
      "theta_max = 9.5427\n"
     ]
    }
   ],
   "source": [
    "print('P         = {0:.4f}'.format(period))\n",
    "print('T_min     = {0:.4f}'.format(tempMin))\n",
    "print('T_max     = {0:.4f}'.format(tempMax))\n",
    "print('Nu_min    = {0:.4f}'.format(nuTopMin))\n",
    "print('Nu_max    = {0:.4f}'.format(nuTopMax))\n",
    "print('uRMS_min  = {0:.4f}'.format(uRMSMin))\n",
    "print('uRMS_max  = {0:.4f}'.format(uRMSMax))\n",
    "print('theta_min = {0:.4f}'.format(thetaMin))\n",
    "print('theta_max = {0:.4f}'.format(thetaMax))"
   ]
  },
  {
   "cell_type": "markdown",
   "metadata": {},
   "source": [
    "**Comparison values from Tosi et al. (2015)**\n",
    "\n",
    "The expected benchmark values from Table 2 of Tosi et al. (2015) for case 5a are given in the table below. The minimum and maximum values from each of the participating codes are given here to provide an expected range for each quantity.\n",
    "\n",
    "| Case 5a | $P$  |$<$$T$$>_{min}$ | $<$$T$$>_{max}$ | $Nu^{top}_{min}$ | $Nu^{top}_{max}$ | $u_{RMS}^{min}$ | $u_{RMS}^{max}$ | $<$$\\theta$$>_{min}$ | $<$$\\theta$$>_{max}$ |\n",
    "|:--------|:----:|:--------------:|:---------------:|:----------------:|:----------------:|:---------------:|:--------------:|:--------------------:|:--------------------:|\n",
    "| Min     | 0.0760 | 0.6491 | 0.6671 | 2.6787 | 7.2792 | 41.2488 |  98.0040 | 1.3307 | 9.1400 |\n",
    "| Max     | 0.0792 | 0.6543 | 0.6722 | 2.6950 | 7.4314 | 41.9813 | 100.5380 | 1.3629 | 9.5400 |\n",
    "\n",
    "Note that the values from the spectral code MC3D are not used to construct the min/max values here, as they are outlier values."
   ]
  }
 ],
 "metadata": {
  "kernelspec": {
   "display_name": "Python 2",
   "language": "python",
   "name": "python2"
  },
  "language_info": {
   "codemirror_mode": {
    "name": "ipython",
    "version": 2
   },
   "file_extension": ".py",
   "mimetype": "text/x-python",
   "name": "python",
   "nbconvert_exporter": "python",
   "pygments_lexer": "ipython2",
   "version": "2.7.10"
  }
 },
 "nbformat": 4,
 "nbformat_minor": 0
}
