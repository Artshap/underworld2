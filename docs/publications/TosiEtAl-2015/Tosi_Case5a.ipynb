{
 "metadata": {
  "kernelspec": {
   "display_name": "Python 2",
   "language": "python",
   "name": "python2"
  },
  "language_info": {
   "codemirror_mode": {
    "name": "ipython",
    "version": 2
   },
   "file_extension": ".py",
   "mimetype": "text/x-python",
   "name": "python",
   "nbconvert_exporter": "python",
   "pygments_lexer": "ipython2",
   "version": "2.7.10"
  },
  "name": ""
 },
 "nbformat": 3,
 "nbformat_minor": 0,
 "worksheets": [
  {
   "cells": [
    {
     "cell_type": "markdown",
     "metadata": {
      "collapsed": true
     },
     "source": [
      "Viscoplastic thermal convection in a 2-D square box: Tosi et al. 2015\n",
      "=====\n",
      "\n",
      "This series of notebooks generates benchmark models from the Tosi et al. (2015) in Underworld2. The Underworld2 results are then directly compared to the results from Table 2 of Tosi et al. (2015) the paper for each case. The notebooks are broken into a general notebook for reproducing the models from scratch and 5 post-analysis notebooks which look at the results Underworld2 gives for each case after running to equilibrium. \n",
      "\n",
      "Case 5a: Periodic regime\n",
      "-------\n",
      "\n",
      "Like cases 2 and 4, case 5a also assumes a viscoplastic rheology but a higher yield stress, which ultimately causes the emergence of a stable periodic regime. \n",
      "The parameters used for case 5a are: $Ra = 10^2$, $\\Delta \\eta_T = 10^5$, $\\eta^* = 10^{-3}$, $\\Delta \\eta_z = 10$ and $\\sigma_\\gamma = 4$.\n",
      "\n",
      "\n",
      "References\n",
      "-----\n",
      "\n",
      "1. Tosi, Nicola and Stein, Claudia and Noack, Lena and H&uuml;ttig, Christian and Maierov&aacute;, Petra and Samuel, Henri and Davies, DR and Wilson, CR and Kramer, SC and Thieulot, Cedric and others. 2015. _A community benchmark for viscoplastic thermal convection in a 2-D square box_.\n",
      "\n"
     ]
    },
    {
     "cell_type": "markdown",
     "metadata": {},
     "source": [
      "Load python functions needed for underworld. Some additional python functions from os, math and numpy used later on."
     ]
    },
    {
     "cell_type": "code",
     "collapsed": false,
     "input": [
      "%matplotlib inline\n",
      "import underworld as uw\n",
      "import math\n",
      "from underworld import function as fn\n",
      "import glucifer\n",
      "import matplotlib.pyplot as pyplot\n",
      "import matplotlib.pylab as pylab\n",
      "import time\n",
      "import numpy as np\n",
      "import os"
     ],
     "language": "python",
     "metadata": {},
     "outputs": [],
     "prompt_number": 1
    },
    {
     "cell_type": "markdown",
     "metadata": {},
     "source": [
      "Set physical constants and parameters, including the Rayleigh number (*Ra*) and viscosity constants ($\\eta^*$ and $\\eta_T$) which are common to all Tosi et al cases."
     ]
    },
    {
     "cell_type": "code",
     "collapsed": false,
     "input": [
      "RA  = 1e2        # Rayleigh number\n",
      "ETA_T = 1e5      # common viscosity constant\n",
      "TS  = 0          # surface temperature\n",
      "TB  = 1          # bottom boundary temperature (melting point)\n",
      "ETA0 = 1e-3      # viscosity constant eta^* in Tosi et al\n",
      "TMAX = 3.0\n",
      "IMAX = 1000"
     ],
     "language": "python",
     "metadata": {},
     "outputs": [],
     "prompt_number": 2
    },
    {
     "cell_type": "markdown",
     "metadata": {},
     "source": [
      "Select case 5 of Tosi et al (2015) and set constants as required."
     ]
    },
    {
     "cell_type": "code",
     "collapsed": false,
     "input": [
      "CASE = 5\n",
      "ETA_Y = 10.\n",
      "YSTRESS = 4."
     ],
     "language": "python",
     "metadata": {},
     "outputs": [],
     "prompt_number": 3
    },
    {
     "cell_type": "markdown",
     "metadata": {},
     "source": [
      "Set input and output file directories"
     ]
    },
    {
     "cell_type": "code",
     "collapsed": false,
     "input": [
      "# input file directory\n",
      "inputPath  = 'TosiInput/case' + str(CASE) + \"/\"\n",
      "# output files\n",
      "outputPath = 'TosiOutput/'\n",
      "filePath   = outputPath+'files'\n",
      "# make directories if they don't exist\n",
      "if not os.path.isdir(outputPath):\n",
      "    os.makedirs(outputPath)\n",
      "if not os.path.isdir(filePath):\n",
      "    os.makedirs(filePath)"
     ],
     "language": "python",
     "metadata": {},
     "outputs": [],
     "prompt_number": 4
    },
    {
     "cell_type": "markdown",
     "metadata": {},
     "source": [
      "Create mesh and finite element variables\n",
      "------\n",
      "\n",
      "Set up mesh and field variables that are solved on the mesh."
     ]
    },
    {
     "cell_type": "code",
     "collapsed": false,
     "input": [
      "res = 128\n",
      "mesh = uw.mesh.FeMesh_Cartesian( elementType = (\"Q1/dQ0\"), \n",
      "                                 elementRes  = (res, res), \n",
      "                                 minCoord    = (0., 0.), \n",
      "                                 maxCoord    = (1., 1.))\n",
      "\n",
      "velocityField       = uw.mesh.MeshVariable( mesh=mesh,         nodeDofCount=2 )\n",
      "pressureField       = uw.mesh.MeshVariable( mesh=mesh.subMesh, nodeDofCount=1 )\n",
      "temperatureField    = uw.mesh.MeshVariable( mesh=mesh,         nodeDofCount=1 )\n",
      "temperatureDotField = uw.mesh.MeshVariable( mesh=mesh,         nodeDofCount=1 )"
     ],
     "language": "python",
     "metadata": {},
     "outputs": [],
     "prompt_number": 5
    },
    {
     "cell_type": "markdown",
     "metadata": {},
     "source": [
      "Set initial conditions and boundary conditions\n",
      "----------\n",
      "\n",
      "Load all variable fields and summary data with data from previously run cases."
     ]
    },
    {
     "cell_type": "code",
     "collapsed": false,
     "input": [
      "# load fields\n",
      "temperatureField.load(    inputPath+'temperatureField.h5' )\n",
      "temperatureDotField.load( inputPath+'temperatureDotField.h5' )\n",
      "pressureField.load(       inputPath+'pressureField.h5')\n",
      "velocityField.load(       inputPath+'velocityField.h5')\n",
      "\n",
      "# load past iterations of summary data\n",
      "data = np.loadtxt( inputPath+'Summary.txt', unpack=True )\n",
      "stepsVal = data[0].tolist()\n",
      "timeVal = data[1].tolist()\n",
      "viscdisVal = data[2].tolist()\n",
      "nu0Val = data[3].tolist()\n",
      "nu1Val = data[4].tolist()\n",
      "Avg_tempVal = data[5].tolist()\n",
      "vrmsVal = data[6].tolist()\n",
      "Rms_surfVal = data[7].tolist()\n",
      "Max_vx_surfVal = data[8].tolist()\n",
      "GravworkVal = data[9].tolist()\n",
      "etamaxVal = data[10].tolist()\n",
      "etaminVal = data[11].tolist() "
     ],
     "language": "python",
     "metadata": {},
     "outputs": [],
     "prompt_number": 6
    },
    {
     "cell_type": "markdown",
     "metadata": {},
     "source": [
      "**Conditions on the boundaries**"
     ]
    },
    {
     "cell_type": "code",
     "collapsed": true,
     "input": [
      "iWalls = mesh.specialSets[\"MinI_VertexSet\"] + mesh.specialSets[\"MaxI_VertexSet\"]\n",
      "jWalls = mesh.specialSets[\"MinJ_VertexSet\"] + mesh.specialSets[\"MaxJ_VertexSet\"]\n",
      "freeslipBC = uw.conditions.DirichletCondition( variable      = velocityField, \n",
      "                                               indexSetsPerDof = (iWalls, jWalls) )\n",
      "tempBC     = uw.conditions.DirichletCondition( variable      = temperatureField, \n",
      "                                               indexSetsPerDof = (jWalls,) )"
     ],
     "language": "python",
     "metadata": {},
     "outputs": [],
     "prompt_number": 7
    },
    {
     "cell_type": "markdown",
     "metadata": {
      "collapsed": false
     },
     "source": [
      "Set up material parameters and functions\n",
      "-----\n"
     ]
    },
    {
     "cell_type": "markdown",
     "metadata": {},
     "source": [
      "**Viscosity field**\n",
      "\n",
      "The viscosity is a function of temperature ($T$), the vertical coordinate ($z$) and the strain rate ($\\dot{\\epsilon}$) and is given by\n",
      "\n",
      "$$\n",
      "    \\eta(T, z, \\dot{\\epsilon}) = 2 \\left( \\frac{1}{\\eta_{lin}(T,z)} + \\frac{1}{\\eta_{plast}(\\dot{\\epsilon})} \\right)^{-1}\n",
      "$$\n",
      "\n",
      "where the linear part is\n",
      "\n",
      "$$\n",
      "    \\eta_{lin}(T, z) = \\exp(-\\gamma_T T + \\gamma_z z)\n",
      "$$\n",
      "\n",
      "with $\\gamma_T = \\ln(\\Delta \\eta_T)$ and $\\gamma_z = \\ln(\\Delta \\eta_z)$. The nonlinear part is\n",
      "\n",
      "$$\n",
      "    \\eta_{plast}(\\dot{\\epsilon}) = \\eta^* + \\frac{\\sigma_{\\gamma}}{\\sqrt{\\dot{\\epsilon} : \\dot{\\epsilon}}}\n",
      "$$\n",
      "\n",
      "where $\\eta^*$ is the effective viscosity at high stresses and $\\sigma_{\\gamma}$ is the yield stress. The values of $\\Delta \\eta_T$, $\\Delta \\eta_z$, $\\eta^*$ and $\\sigma_{\\gamma}$ are assumed to be constant with values dependent on the particular case."
     ]
    },
    {
     "cell_type": "markdown",
     "metadata": {},
     "source": [
      "**Create variables required for plasticity calculations**"
     ]
    },
    {
     "cell_type": "code",
     "collapsed": false,
     "input": [
      "secinv = fn.tensor.second_invariant( fn.tensor.symmetric( velocityField.fn_gradient ) )\n",
      "coordinate = fn.coord()"
     ],
     "language": "python",
     "metadata": {},
     "outputs": [],
     "prompt_number": 8
    },
    {
     "cell_type": "markdown",
     "metadata": {},
     "source": [
      "**Setup viscosity functions**\n",
      "\n",
      "Remember to use floats everywhere when setting up functions"
     ]
    },
    {
     "cell_type": "code",
     "collapsed": false,
     "input": [
      "viscosityl1 = fn.math.exp(math.log(ETA_T)*-1.*temperatureField)\n",
      "viscosityl2 = fn.math.exp((math.log(ETA_T)*-1.*temperatureField) + (1.-coordinate[1])*math.log(ETA_Y))\n",
      "\n",
      "#Von Mises effective viscosity\n",
      "viscosityp = ETA0 + YSTRESS/(secinv/math.sqrt(0.5)) #extra factor to account for underworld second invariant form\n",
      "\n",
      "if CASE == 1:\n",
      "    fn_viscosity = viscosityl1\n",
      "elif CASE == 2:\n",
      "    fn_viscosity = 2./(1./viscosityl1 + 1./viscosityp)\n",
      "elif CASE == 3:\n",
      "    fn_viscosity = viscosityl2\n",
      "else:\n",
      "    fn_viscosity = 2./(1./viscosityl2 + 1./viscosityp)"
     ],
     "language": "python",
     "metadata": {},
     "outputs": [],
     "prompt_number": 9
    },
    {
     "cell_type": "markdown",
     "metadata": {},
     "source": [
      "**Add functions for density and buoyancy**"
     ]
    },
    {
     "cell_type": "code",
     "collapsed": true,
     "input": [
      "densityFn = RA*temperatureField\n",
      "\n",
      "# define our vertical unit vector using a python tuple (this will be automatically converted to a function)\n",
      "z_hat = ( 0.0, 1.0 )\n",
      "\n",
      "# now create a buoyancy force vector using the density (FEvariable) and the vertical unit vector. \n",
      "buoyancyFn = densityFn * z_hat"
     ],
     "language": "python",
     "metadata": {},
     "outputs": [],
     "prompt_number": 10
    },
    {
     "cell_type": "markdown",
     "metadata": {},
     "source": [
      "Build the Stokes system and solvers\n",
      "------\n",
      "\n",
      "Setup the Stokes system with linear or nonlinear visocity viscosity depending on case."
     ]
    },
    {
     "cell_type": "code",
     "collapsed": false,
     "input": [
      "stokes = uw.systems.Stokes(velocityField=velocityField, \n",
      "                              pressureField=pressureField,\n",
      "                              conditions=[freeslipBC,],\n",
      "                              fn_viscosity=fn.exception.SafeMaths(fn_viscosity), \n",
      "                              fn_bodyforce=buoyancyFn)"
     ],
     "language": "python",
     "metadata": {},
     "outputs": [],
     "prompt_number": 11
    },
    {
     "cell_type": "markdown",
     "metadata": {},
     "source": [
      "Setup solver for the Stokes system of equations"
     ]
    },
    {
     "cell_type": "code",
     "collapsed": false,
     "input": [
      "solver = uw.systems.Solver( stokes )"
     ],
     "language": "python",
     "metadata": {},
     "outputs": [],
     "prompt_number": 12
    },
    {
     "cell_type": "markdown",
     "metadata": {},
     "source": [
      "We do one solve for initial pressure and velocity with linear viscosity to get the initial strain rate invariant. This solve step also calculates a 'guess' of the the velocity field based on the linear system, which is used later in the non-linear solver."
     ]
    },
    {
     "cell_type": "code",
     "collapsed": false,
     "input": [
      "solver.solve( nonLinearIterate=False )"
     ],
     "language": "python",
     "metadata": {},
     "outputs": [],
     "prompt_number": 13
    },
    {
     "cell_type": "markdown",
     "metadata": {},
     "source": [
      "Create an advective-diffusive system\n",
      "-----\n",
      "\n",
      "Setup the system in underworld by flagging the temperature and velocity field variables."
     ]
    },
    {
     "cell_type": "code",
     "collapsed": false,
     "input": [
      "advDiff = uw.systems.AdvectionDiffusion( temperatureField, temperatureDotField, velocityField,\n",
      "                                         fn_diffusivity=1., conditions=[tempBC,] )"
     ],
     "language": "python",
     "metadata": {},
     "outputs": [],
     "prompt_number": 14
    },
    {
     "cell_type": "markdown",
     "metadata": {},
     "source": [
      "Metrics for benchmark\n",
      "-----\n",
      "\n",
      "Define diagnostic functions to be used in the time loop and/or measured after reaching steady state:\n",
      "\n",
      "* Average temperature\n",
      "$$  \\langle T \\rangle  = \\int^1_0 \\int^1_0 T \\, dxdy $$\n",
      "* Top and bottom Nusselt numbers\n",
      "$$Nu_{top/bot} = - \\left. \\int^1_0 \\frac{\\partial T}{\\partial y} \\right|_{y=1/y=0} \\, dx$$\n",
      "* RMS velocity over the whole domain, surface and max velocity at surface\n",
      "$$u_{RMS} = \\left( \\int_0^1 \\int_0^1 \\left( u_x^2 + u_y^2 \\right) dx dy \\right)^{1/2}$$\n",
      "$$u_{RMS}^{surf} = \\left( \\left. \\int_0^1 u_x^2\\right|_{y=1} dx \\right)^{1/2}$$\n",
      "$$u_{max}^{surf} = \\left. \\max(u_x)\\right|_{y=1}$$\n",
      "* max and min viscosity over the whole domain\n",
      "$$\\eta_{max/min} = \\max / \\min \\left( \\eta\\left(x,y\\right) \\right)$$\n",
      "* average rate of work done against gravity\n",
      "$$\\langle W \\rangle = \\int^1_0 \\int^1_0 T u_y \\, dx dy$$\n",
      "* and the average rate of viscous dissipation\n",
      "$$\\langle \\Phi \\rangle = \\int^1_0 \\int^1_0 \\tau_{ij} \\dot \\epsilon_{ij} \\, dx dy$$\n",
      "\n",
      "* In steady state, if thermal energy is accurately conserved, the difference between $\\langle W \\rangle$ and $\\langle \\Phi \\rangle / Ra$ must vanish, so also reported is the percentage error: \n",
      "\n",
      "$$ \\delta = \\frac{\\lvert \\langle W \\rangle - \\frac{\\langle \\Phi \\rangle}{Ra} \\rvert}{max \\left(  \\langle W \\rangle,  \\frac{\\langle \\Phi \\rangle}{Ra}\\right)} \\times 100% $$"
     ]
    },
    {
     "cell_type": "markdown",
     "metadata": {},
     "source": [
      "**Setup volume integrals used in metric functions**"
     ]
    },
    {
     "cell_type": "code",
     "collapsed": false,
     "input": [
      "# temperature\n",
      "tempint = uw.utils.Integral( temperatureField, mesh )\n",
      "# area\n",
      "areaint = uw.utils.Integral( 1.,               mesh )\n",
      "# velocity squared\n",
      "v2int   = uw.utils.Integral(fn.math.dot(velocityField,velocityField), mesh)\n",
      "# work done\n",
      "dwint   = uw.utils.Integral(temperatureField*velocityField[1], mesh)\n",
      "# viscous dissipation\n",
      "sinner = fn.math.dot(secinv,secinv)\n",
      "vdint = uw.utils.Integral((4.*fn_viscosity*sinner), mesh)"
     ],
     "language": "python",
     "metadata": {},
     "outputs": [],
     "prompt_number": 15
    },
    {
     "cell_type": "markdown",
     "metadata": {},
     "source": [
      "**Setup surface integrals used in metric functions**"
     ]
    },
    {
     "cell_type": "code",
     "collapsed": false,
     "input": [
      "rmsSurfInt = uw.utils.Integral( fn=velocityField[0]*velocityField[0], mesh=mesh, integrationType='Surface', \n",
      "                          surfaceIndexSet=mesh.specialSets[\"MaxJ_VertexSet\"])\n",
      "nuTop      = uw.utils.Integral( fn=temperatureField.fn_gradient[1], mesh=mesh, integrationType='Surface', \n",
      "                          surfaceIndexSet=mesh.specialSets[\"MaxJ_VertexSet\"])\n",
      "nuBottom   = uw.utils.Integral( fn=temperatureField.fn_gradient[1], mesh=mesh, integrationType='Surface', \n",
      "                          surfaceIndexSet=mesh.specialSets[\"MinJ_VertexSet\"])"
     ],
     "language": "python",
     "metadata": {},
     "outputs": [],
     "prompt_number": 16
    },
    {
     "cell_type": "markdown",
     "metadata": {},
     "source": [
      "**Define diagnostic functions using integrals**"
     ]
    },
    {
     "cell_type": "code",
     "collapsed": false,
     "input": [
      "def avg_temp():\n",
      "    return tempint.evaluate()[0]/areaint.evaluate()[0]\n",
      "\n",
      "def nusseltTB(temp_field, mesh):\n",
      "    return -nuTop.evaluate()[0], -nuBottom.evaluate()[0]\n",
      "\n",
      "def rms():\n",
      "    return math.sqrt(v2int.evaluate()[0]/areaint.evaluate()[0])\n",
      "\n",
      "def rms_surf():\n",
      "    return math.sqrt(rmsSurfInt.evaluate()[0])\n",
      "\n",
      "def max_vx_surf(velfield, mesh):\n",
      "    vuvelxfn = fn.view.min_max(velfield[0])\n",
      "    vuvelxfn.evaluate(mesh.specialSets[\"MaxJ_VertexSet\"])\n",
      "    return vuvelxfn.max_global()\n",
      "\n",
      "def gravwork(workfn):\n",
      "    return workfn.evaluate()[0]\n",
      "\n",
      "def viscdis(vdissfn):\n",
      "    return vdissfn.evaluate()[0]\n",
      "\n",
      "def visc_extr(viscfn):\n",
      "    vuviscfn = fn.view.min_max(viscfn)\n",
      "    vuviscfn.evaluate(mesh)\n",
      "    return vuviscfn.max_global(), vuviscfn.min_global()"
     ],
     "language": "python",
     "metadata": {},
     "outputs": [],
     "prompt_number": 17
    },
    {
     "cell_type": "code",
     "collapsed": false,
     "input": [
      "#Fields for saving data / fields\n",
      "\n",
      "rmsField = uw.mesh.MeshVariable( mesh=mesh, nodeDofCount=1 )\n",
      "rmsfn    = fn.math.sqrt( fn.math.dot( velocityField, velocityField ) )\n",
      "rmsdata  = rmsfn.evaluate( mesh )\n",
      "rmsField.data[:] = rmsdata \n",
      "\n",
      "viscField = uw.mesh.MeshVariable( mesh=mesh, nodeDofCount=1 )\n",
      "viscdata  = fn_viscosity.evaluate( mesh )\n",
      "viscField.data[:] = viscdata\n",
      "\n",
      "stressField = uw.mesh.MeshVariable( mesh=mesh, nodeDofCount=1)\n",
      "srtdata     = fn.tensor.second_invariant( fn.tensor.symmetric( velocityField.fn_gradient ) )\n",
      "rostfield   = srtdata.evaluate( mesh )\n",
      "stressinv   = 2*viscdata*rostfield[:]\n",
      "stressField.data[:] = stressinv"
     ],
     "language": "python",
     "metadata": {},
     "outputs": [],
     "prompt_number": 18
    },
    {
     "cell_type": "markdown",
     "metadata": {},
     "source": [
      "Main simulation loop\n",
      "------\n",
      "\n",
      "Normally a loop over time increments would be added here. As we are only interested in the post-analysis a single time step will be taken to ensure that all analysis fields are live. This step will involve the non-linear Stokes system solver."
     ]
    },
    {
     "cell_type": "code",
     "collapsed": false,
     "input": [
      "steps_todo = 1"
     ],
     "language": "python",
     "metadata": {},
     "outputs": [],
     "prompt_number": 19
    },
    {
     "cell_type": "markdown",
     "metadata": {
      "collapsed": false
     },
     "source": [
      "Initialise steps and time. Set to zero unless loading values from file."
     ]
    },
    {
     "cell_type": "code",
     "collapsed": false,
     "input": [
      "try:\n",
      "    realtime = timeVal[-1]\n",
      "    step = int(stepsVal[-1])\n",
      "except:\n",
      "    realtime = 0.0\n",
      "    step = 0\n",
      "steps_end = step + steps_todo\n",
      "steps_output = 100\n",
      "steps_output = max(steps_output,1)\n",
      "print('This model has previously completed {0:6d} steps to get to time = {1:.3f}'.format(step,realtime))"
     ],
     "language": "python",
     "metadata": {},
     "outputs": [
      {
       "output_type": "stream",
       "stream": "stdout",
       "text": [
        "This model has previously completed  77897 steps to get to time = 0.899\n"
       ]
      }
     ],
     "prompt_number": 20
    },
    {
     "cell_type": "code",
     "collapsed": false,
     "input": [
      "# initialise timer for computation\n",
      "start = time.clock()\n",
      "# start loop\n",
      "while step < steps_end:\n",
      "    # Solve non-linear system\n",
      "    solver.solve(nonLinearIterate=True)\n",
      "    dt = advDiff.get_max_dt()\n",
      "    if step == 0:\n",
      "        dt = 0.\n",
      "    # Advect using this timestep size   \n",
      "    advDiff.integrate(dt)\n",
      "    # Increment\n",
      "    realtime += dt\n",
      "    step += 1\n",
      "    # Calculate the Metrics, only on 1 of the processors:\n",
      "    Avg_temp = avg_temp()\n",
      "    Rms = rms()\n",
      "    Rms_surf = rms_surf()\n",
      "    Max_vx_surf = max_vx_surf(velocityField, mesh)\n",
      "    Gravwork = gravwork(dwint)\n",
      "    Viscdis = viscdis(vdint)\n",
      "    nu1, nu0 = nusseltTB(temperatureField, mesh) # return top then bottom\n",
      "    etamax, etamin = visc_extr(fn_viscosity)\n",
      "    # store results\n",
      "    stepsVal.append(       step)\n",
      "    timeVal.append(        realtime )\n",
      "    viscdisVal.append(    Viscdis )\n",
      "    nu0Val.append(         nu0 )\n",
      "    nu1Val.append(         nu1 )\n",
      "    Avg_tempVal.append(    Avg_temp )\n",
      "    vrmsVal.append(        Rms )\n",
      "    Rms_surfVal.append(    Rms_surf )\n",
      "    Max_vx_surfVal.append( Max_vx_surf )\n",
      "    GravworkVal.append(    Gravwork )\n",
      "    etamaxVal.append(      etamax )\n",
      "    etaminVal.append(      etamin )\n",
      "\n",
      "    # output fields and summary info to file (output graphics can also be added here)\n",
      "    if uw.rank()==0:\n",
      "        if (step % steps_output == 0) or (step == steps_end-1):\n",
      "            print 'step =',step, '; CPU time =', time.clock()-start, '; vrms = ',Rms\n",
      "            # Temperature\n",
      "            fnametemp = \"temperatureField_\" + str(step).zfill(6) + \".h5\"\n",
      "            fullpath = os.path.join(outputPath + \"files/\" + fnametemp)\n",
      "            temperatureField.save(fullpath)\n",
      "            # Temperature time derivative\n",
      "            fnametemp = \"temperatureDotField_\" + str(step).zfill(6) + \".h5\"\n",
      "            fullpath = os.path.join(outputPath + \"files/\" + fnametemp)\n",
      "            temperatureDotField.save(fullpath)\n",
      "            # Pressure\n",
      "            fnametemp = \"pressureField_\" + str(step).zfill(6) + \".h5\"\n",
      "            fullpath = os.path.join(outputPath + \"files/\" + fnametemp)\n",
      "            pressureField.save(fullpath)\n",
      "            # Velocity\n",
      "            fnametemp = \"velocityField_\" + str(step).zfill(6) + \".h5\"\n",
      "            fullpath = os.path.join(outputPath + \"files/\" + fnametemp)\n",
      "            velocityField.save(fullpath)\n",
      "\n",
      "            np.savetxt( outputPath + 'Summary.txt', np.c_[stepsVal, timeVal, viscdisVal, nu0Val, \n",
      "                                                          nu1Val, Avg_tempVal, vrmsVal, Rms_surfVal,\n",
      "                                                         Max_vx_surfVal, GravworkVal, etamaxVal, etaminVal], \n",
      "                   header=\"Steps, Time, visc, Nusselt bottom/top, av_T, vrms, surf_rms, surf_max, grav, etamax, etamin\" )"
     ],
     "language": "python",
     "metadata": {},
     "outputs": [],
     "prompt_number": 21
    },
    {
     "cell_type": "markdown",
     "metadata": {},
     "source": [
      "Post-simulation analysis\n",
      "-------\n",
      "\n",
      "Here we will calculate the quantities specified for this case in Tosi et al. (2015) and finally compare them to the values given in their Table 2."
     ]
    },
    {
     "cell_type": "markdown",
     "metadata": {},
     "source": [
      "**Period regime of case 5a**\n",
      "\n",
      "For case 5 the convection model parameters result in a periodic regime. An example of the top and bottom Nusselt numbers as well as the RMS velocity is shown below. Other figures can be made by modifying the cells below."
     ]
    },
    {
     "cell_type": "code",
     "collapsed": false,
     "input": [
      "pylab.rcParams[ 'figure.figsize'] = 12, 6\n",
      "pyplot.plot(timeVal, nu0Val, color = 'black') \n",
      "pyplot.plot(timeVal, nu1Val, color = 'red') \n",
      "pyplot.xlim(timeVal[1], timeVal[-1])\n",
      "pyplot.xlabel('Time')\n",
      "pyplot.ylabel('Nusselt number')\n",
      "pyplot.show()"
     ],
     "language": "python",
     "metadata": {},
     "outputs": [
      {
       "output_type": "display_data",
       "png": "[encoded data removed]",
       "text": [
        "<matplotlib.figure.Figure at 0x7f2334325650>"
       ]
      }
     ],
     "prompt_number": 22
    },
    {
     "cell_type": "code",
     "collapsed": false,
     "input": [
      "pylab.rcParams[ 'figure.figsize'] = 12, 6\n",
      "pyplot.plot(timeVal, vrmsVal, color = 'black') \n",
      "pyplot.xlim(timeVal[1], timeVal[-1])\n",
      "pyplot.xlabel('Time')\n",
      "pyplot.ylabel('RMS velocity')\n",
      "pyplot.show()"
     ],
     "language": "python",
     "metadata": {},
     "outputs": [
      {
       "output_type": "display_data",
       "png": "[encoded data removed]",
       "text": [
        "<matplotlib.figure.Figure at 0x7f2334389550>"
       ]
      }
     ],
     "prompt_number": 23
    },
    {
     "cell_type": "markdown",
     "metadata": {},
     "source": [
      "**Plot final temperature and velocity fields**"
     ]
    },
    {
     "cell_type": "code",
     "collapsed": false,
     "input": [
      "velmax = np.amax(velocityField.data[:])\n",
      "if(velmax==0.0): velmax = 1.0\n",
      "fig1 = glucifer.Figure()\n",
      "fig1.append( glucifer.objects.Surface(mesh, temperatureField) )\n",
      "fig1.append( glucifer.objects.VectorArrows(mesh, velocityField/velmax, scaling=0.1, arrowHead=0.2) )\n",
      "fig1.show()"
     ],
     "language": "python",
     "metadata": {},
     "outputs": [
      {
       "html": [
        "<img src='data:image/png;base64,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'>"
       ],
       "output_type": "display_data",
       "text": [
        "<IPython.core.display.HTML object>"
       ]
      }
     ],
     "prompt_number": 24
    },
    {
     "cell_type": "markdown",
     "metadata": {},
     "source": [
      "**Calculate quantities for benchmark comparison**"
     ]
    },
    {
     "cell_type": "code",
     "collapsed": true,
     "input": [
      "tempMin = np.amin(Avg_tempVal)\n",
      "tempMax = np.amax(Avg_tempVal)\n",
      "nuTopMin = np.amin(nu1Val)\n",
      "nuTopMax = np.amax(nu1Val)\n",
      "uRMSMin = np.amin(vrmsVal)\n",
      "uRMSMax = np.amax(vrmsVal)\n",
      "thetaMin = np.amin(GravworkVal)\n",
      "thetaMax = np.amax(GravworkVal)"
     ],
     "language": "python",
     "metadata": {},
     "outputs": [],
     "prompt_number": 25
    },
    {
     "cell_type": "markdown",
     "metadata": {},
     "source": [
      "Calculate the period between maxima"
     ]
    },
    {
     "cell_type": "code",
     "collapsed": false,
     "input": [
      "x = np.array(timeVal, dtype=np.float)\n",
      "dx = np.gradient(vrmsVal)\n",
      "z = np.gradient(vrmsVal, dx, edge_order=2)\n",
      "dx2 = np.gradient(dx)\n",
      "z = np.gradient(vrmsVal, dx2, edge_order=2)\n",
      "timeZero = []\n",
      "for i in range(len(timeVal)-1):\n",
      "    if(dx2[i]>0) & (dx[i]*dx[i+1]<0.):\n",
      "        timeZero.append(np.interp(0.0, (dx[i], dx[i+1]), (timeVal[i], timeVal[i+1])))\n",
      "period = 0.0\n",
      "for i in range(len(timeZero)-1):\n",
      "    period += timeZero[i+1]- timeZero[i]\n",
      "period = period/(len(timeZero)-1)"
     ],
     "language": "python",
     "metadata": {},
     "outputs": [],
     "prompt_number": 26
    },
    {
     "cell_type": "markdown",
     "metadata": {},
     "source": [
      "**Output all quantities**"
     ]
    },
    {
     "cell_type": "code",
     "collapsed": false,
     "input": [
      "print('P         = {0:.4f}'.format(period))\n",
      "print('T_min     = {0:.4f}'.format(tempMin))\n",
      "print('T_max     = {0:.4f}'.format(tempMax))\n",
      "print('Nu_min    = {0:.4f}'.format(nuTopMin))\n",
      "print('Nu_max    = {0:.4f}'.format(nuTopMax))\n",
      "print('uRMS_min  = {0:.4f}'.format(uRMSMin))\n",
      "print('uRMS_max  = {0:.4f}'.format(uRMSMax))\n",
      "print('theta_min = {0:.4f}'.format(thetaMin))\n",
      "print('theta_max = {0:.4f}'.format(thetaMax))"
     ],
     "language": "python",
     "metadata": {},
     "outputs": [
      {
       "output_type": "stream",
       "stream": "stdout",
       "text": [
        "P         = 0.0768\n",
        "T_min     = 0.6509\n",
        "T_max     = 0.6692\n",
        "Nu_min    = 2.6828\n",
        "Nu_max    = 7.3878\n",
        "uRMS_min  = 41.3002\n",
        "uRMS_max  = 99.8329\n",
        "theta_min = 1.3431\n",
        "theta_max = 9.5427\n"
       ]
      }
     ],
     "prompt_number": 27
    },
    {
     "cell_type": "markdown",
     "metadata": {},
     "source": [
      "**Comparison values from Tosi et al. (2015)**\n",
      "\n",
      "The expected benchmark values from Table 2 of Tosi et al. (2015) for case 5a are given in the table below. The minimum and maximum values from each of the participating codes are given here to provide an expected range for each quantity.\n",
      "\n",
      "| Case 5a | $P$  |$<$$T$$>_{min}$ | $<$$T$$>_{max}$ | $Nu^{top}_{min}$ | $Nu^{top}_{max}$ | $u_{RMS}^{min}$ | $u_{RMS}^{max}$ | $<$$\\theta$$>_{min}$ | $<$$\\theta$$>_{max}$ |\n",
      "|:--------|:----:|:--------------:|:---------------:|:----------------:|:----------------:|:---------------:|:--------------:|:--------------------:|:--------------------:|\n",
      "| Min     | 0.0760 | 0.6491 | 0.6671 | 2.6787 | 7.2792 | 41.2488 |  98.0040 | 1.3307 | 9.1400 |\n",
      "| Max     | 0.0792 | 0.6543 | 0.6722 | 2.6950 | 7.4314 | 41.9813 | 100.5380 | 1.3629 | 9.5400 |\n",
      "\n",
      "Note that the values from the spectral code MC3D are not used to construct the min/max values here, as they are outlier values."
     ]
    }
   ],
   "metadata": {}
  }
 ]
}
