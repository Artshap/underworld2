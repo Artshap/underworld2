{
 "cells": [
  {
   "cell_type": "markdown",
   "metadata": {
    "collapsed": true
   },
   "source": [
    "Viscoplastic thermal convection in a 2-D square box: Tosi et al. 2015\n",
    "=====\n",
    "\n",
    "This series of notebooks generates benchmark models from the Tosi et al. (2015) in Underworld2. The Underworld2 results are then directly compared to the results from Table 2 of Tosi et al. (2015) the paper for each case. The notebooks are broken into a general notebook for reproducing the models from scratch and 5 post-analysis notebooks which look at the results Underworld2 gives for each case after running to equilibrium. \n",
    "\n",
    "Case 5a: Periodic regime\n",
    "-------\n",
    "\n",
    "Like cases 2 and 4, case 5a also assumes a viscoplastic rheology but a higher yield stress, which ultimately causes the emergence of a stable periodic regime. \n",
    "The parameters used for case 5a are: $Ra = 10^2$, $\\Delta \\eta_T = 10^5$, $\\eta^* = 10^{-3}$, $\\Delta \\eta_z = 10$ and $\\sigma_\\gamma = 4$.\n",
    "\n",
    "\n",
    "References\n",
    "-----\n",
    "\n",
    "1. Tosi, Nicola and Stein, Claudia and Noack, Lena and H&uuml;ttig, Christian and Maierov&aacute;, Petra and Samuel, Henri and Davies, DR and Wilson, CR and Kramer, SC and Thieulot, Cedric and others. 2015. _A community benchmark for viscoplastic thermal convection in a 2-D square box_.\n",
    "\n"
   ]
  },
  {
   "cell_type": "markdown",
   "metadata": {},
   "source": [
    "Load python functions needed for underworld. Some additional python functions from os, math and numpy used later on."
   ]
  },
  {
   "cell_type": "code",
   "execution_count": 1,
   "metadata": {
    "collapsed": false
   },
   "outputs": [],
   "source": [
    "%matplotlib inline\n",
    "import underworld as uw\n",
    "import math\n",
    "from underworld import function as fn\n",
    "import glucifer\n",
    "import matplotlib.pyplot as pyplot\n",
    "import matplotlib.pylab as pylab\n",
    "import time\n",
    "import numpy as np\n",
    "import os"
   ]
  },
  {
   "cell_type": "markdown",
   "metadata": {},
   "source": [
    "Set physical constants and parameters, including the Rayleigh number (*Ra*) and viscosity constants ($\\eta^*$ and $\\eta_T$) which are common to all Tosi et al cases."
   ]
  },
  {
   "cell_type": "code",
   "execution_count": 2,
   "metadata": {
    "collapsed": false
   },
   "outputs": [],
   "source": [
    "RA  = 1e2        # Rayleigh number\n",
    "ETA_T = 1e5      # common viscosity constant\n",
    "TS  = 0          # surface temperature\n",
    "TB  = 1          # bottom boundary temperature (melting point)\n",
    "ETA0 = 1e-3      # viscosity constant eta^* in Tosi et al\n",
    "TMAX = 3.0\n",
    "IMAX = 1000"
   ]
  },
  {
   "cell_type": "markdown",
   "metadata": {},
   "source": [
    "Select case 5 of Tosi et al (2015) and set constants as required."
   ]
  },
  {
   "cell_type": "code",
   "execution_count": 3,
   "metadata": {
    "collapsed": false
   },
   "outputs": [],
   "source": [
    "CASE = 5\n",
    "ETA_Y = 10.\n",
    "YSTRESS = 4."
   ]
  },
  {
   "cell_type": "markdown",
   "metadata": {},
   "source": [
    "Set input and output file directories"
   ]
  },
  {
   "cell_type": "code",
   "execution_count": 4,
   "metadata": {
    "collapsed": false
   },
   "outputs": [],
   "source": [
    "# input file directory\n",
    "inputPath  = 'TosiInput/case' + str(CASE) + \"/\"\n",
    "# output files\n",
    "outputPath = 'TosiOutput/'\n",
    "filePath   = outputPath+'files'\n",
    "# make directories if they don't exist\n",
    "if not os.path.isdir(outputPath):\n",
    "    os.makedirs(outputPath)\n",
    "if not os.path.isdir(filePath):\n",
    "    os.makedirs(filePath)"
   ]
  },
  {
   "cell_type": "markdown",
   "metadata": {},
   "source": [
    "Create mesh and finite element variables\n",
    "------\n",
    "\n",
    "Set up mesh and field variables that are solved on the mesh."
   ]
  },
  {
   "cell_type": "code",
   "execution_count": 5,
   "metadata": {
    "collapsed": false
   },
   "outputs": [],
   "source": [
    "res = 128\n",
    "mesh = uw.mesh.FeMesh_Cartesian( elementType = (\"Q1/dQ0\"), \n",
    "                                 elementRes  = (res, res), \n",
    "                                 minCoord    = (0., 0.), \n",
    "                                 maxCoord    = (1., 1.))\n",
    "\n",
    "velocityField       = uw.mesh.MeshVariable( mesh=mesh,         nodeDofCount=2 )\n",
    "pressureField       = uw.mesh.MeshVariable( mesh=mesh.subMesh, nodeDofCount=1 )\n",
    "temperatureField    = uw.mesh.MeshVariable( mesh=mesh,         nodeDofCount=1 )\n",
    "temperatureDotField = uw.mesh.MeshVariable( mesh=mesh,         nodeDofCount=1 )"
   ]
  },
  {
   "cell_type": "markdown",
   "metadata": {},
   "source": [
    "Set initial conditions and boundary conditions\n",
    "----------\n",
    "\n",
    "Load all variable fields and summary data with data from previously run cases."
   ]
  },
  {
   "cell_type": "code",
   "execution_count": 6,
   "metadata": {
    "collapsed": false
   },
   "outputs": [],
   "source": [
    "# load fields\n",
    "temperatureField.load(    inputPath+'temperatureField.h5' )\n",
    "temperatureDotField.load( inputPath+'temperatureDotField.h5' )\n",
    "pressureField.load(       inputPath+'pressureField.h5')\n",
    "velocityField.load(       inputPath+'velocityField.h5')\n",
    "\n",
    "# load past iterations of summary data\n",
    "data = np.loadtxt( inputPath+'Summary.txt', unpack=True )\n",
    "stepsVal = data[0].tolist()\n",
    "timeVal = data[1].tolist()\n",
    "viscdisVal = data[2].tolist()\n",
    "nu0Val = data[3].tolist()\n",
    "nu1Val = data[4].tolist()\n",
    "Avg_tempVal = data[5].tolist()\n",
    "vrmsVal = data[6].tolist()\n",
    "Rms_surfVal = data[7].tolist()\n",
    "Max_vx_surfVal = data[8].tolist()\n",
    "GravworkVal = data[9].tolist()\n",
    "etamaxVal = data[10].tolist()\n",
    "etaminVal = data[11].tolist() "
   ]
  },
  {
   "cell_type": "markdown",
   "metadata": {},
   "source": [
    "**Conditions on the boundaries**"
   ]
  },
  {
   "cell_type": "code",
   "execution_count": 7,
   "metadata": {
    "collapsed": true
   },
   "outputs": [],
   "source": [
    "iWalls = mesh.specialSets[\"MinI_VertexSet\"] + mesh.specialSets[\"MaxI_VertexSet\"]\n",
    "jWalls = mesh.specialSets[\"MinJ_VertexSet\"] + mesh.specialSets[\"MaxJ_VertexSet\"]\n",
    "freeslipBC = uw.conditions.DirichletCondition( variable      = velocityField, \n",
    "                                               indexSetsPerDof = (iWalls, jWalls) )\n",
    "tempBC     = uw.conditions.DirichletCondition( variable      = temperatureField, \n",
    "                                               indexSetsPerDof = (jWalls,) )"
   ]
  },
  {
   "cell_type": "markdown",
   "metadata": {
    "collapsed": false
   },
   "source": [
    "Set up material parameters and functions\n",
    "-----\n"
   ]
  },
  {
   "cell_type": "markdown",
   "metadata": {},
   "source": [
    "**Viscosity field**\n",
    "\n",
    "The viscosity is a function of temperature ($T$), the vertical coordinate ($z$) and the strain rate ($\\dot{\\epsilon}$) and is given by\n",
    "\n",
    "$$\n",
    "    \\eta(T, z, \\dot{\\epsilon}) = 2 \\left( \\frac{1}{\\eta_{lin}(T,z)} + \\frac{1}{\\eta_{plast}(\\dot{\\epsilon})} \\right)^{-1}\n",
    "$$\n",
    "\n",
    "where the linear part is\n",
    "\n",
    "$$\n",
    "    \\eta_{lin}(T, z) = \\exp(-\\gamma_T T + \\gamma_z z)\n",
    "$$\n",
    "\n",
    "with $\\gamma_T = \\ln(\\Delta \\eta_T)$ and $\\gamma_z = \\ln(\\Delta \\eta_z)$. The nonlinear part is\n",
    "\n",
    "$$\n",
    "    \\eta_{plast}(\\dot{\\epsilon}) = \\eta^* + \\frac{\\sigma_{\\gamma}}{\\sqrt{\\dot{\\epsilon} : \\dot{\\epsilon}}}\n",
    "$$\n",
    "\n",
    "where $\\eta^*$ is the effective viscosity at high stresses and $\\sigma_{\\gamma}$ is the yield stress. The values of $\\Delta \\eta_T$, $\\Delta \\eta_z$, $\\eta^*$ and $\\sigma_{\\gamma}$ are assumed to be constant with values dependent on the particular case."
   ]
  },
  {
   "cell_type": "markdown",
   "metadata": {},
   "source": [
    "**Create variables required for plasticity calculations**"
   ]
  },
  {
   "cell_type": "code",
   "execution_count": 8,
   "metadata": {
    "collapsed": false
   },
   "outputs": [],
   "source": [
    "secinv = fn.tensor.second_invariant( fn.tensor.symmetric( velocityField.fn_gradient ) )\n",
    "coordinate = fn.coord()"
   ]
  },
  {
   "cell_type": "markdown",
   "metadata": {},
   "source": [
    "**Setup viscosity functions**\n",
    "\n",
    "Remember to use floats everywhere when setting up functions"
   ]
  },
  {
   "cell_type": "code",
   "execution_count": 9,
   "metadata": {
    "collapsed": false
   },
   "outputs": [],
   "source": [
    "viscosityl1 = fn.math.exp(math.log(ETA_T)*-1.*temperatureField)\n",
    "viscosityl2 = fn.math.exp((math.log(ETA_T)*-1.*temperatureField) + (1.-coordinate[1])*math.log(ETA_Y))\n",
    "\n",
    "#Von Mises effective viscosity\n",
    "viscosityp = ETA0 + YSTRESS/(secinv/math.sqrt(0.5)) #extra factor to account for underworld second invariant form\n",
    "\n",
    "if CASE == 1:\n",
    "    fn_viscosity = viscosityl1\n",
    "elif CASE == 2:\n",
    "    fn_viscosity = 2./(1./viscosityl1 + 1./viscosityp)\n",
    "elif CASE == 3:\n",
    "    fn_viscosity = viscosityl2\n",
    "else:\n",
    "    fn_viscosity = 2./(1./viscosityl2 + 1./viscosityp)"
   ]
  },
  {
   "cell_type": "markdown",
   "metadata": {},
   "source": [
    "**Add functions for density and buoyancy**"
   ]
  },
  {
   "cell_type": "code",
   "execution_count": 10,
   "metadata": {
    "collapsed": true
   },
   "outputs": [],
   "source": [
    "densityFn = RA*temperatureField\n",
    "\n",
    "# define our vertical unit vector using a python tuple (this will be automatically converted to a function)\n",
    "z_hat = ( 0.0, 1.0 )\n",
    "\n",
    "# now create a buoyancy force vector using the density (FEvariable) and the vertical unit vector. \n",
    "buoyancyFn = densityFn * z_hat"
   ]
  },
  {
   "cell_type": "markdown",
   "metadata": {},
   "source": [
    "Build the Stokes system and solvers\n",
    "------\n",
    "\n",
    "Setup the Stokes system with linear or nonlinear visocity viscosity depending on case."
   ]
  },
  {
   "cell_type": "code",
   "execution_count": 11,
   "metadata": {
    "collapsed": false
   },
   "outputs": [],
   "source": [
    "stokesPIC = uw.systems.Stokes(velocityField=velocityField, \n",
    "                              pressureField=pressureField,\n",
    "                              conditions=[freeslipBC,],\n",
    "                              fn_viscosity=fn.exception.SafeMaths(fn_viscosity), \n",
    "                              fn_bodyforce=buoyancyFn)"
   ]
  },
  {
   "cell_type": "markdown",
   "metadata": {},
   "source": [
    "Setup solver for the Stokes system of equations"
   ]
  },
  {
   "cell_type": "code",
   "execution_count": 12,
   "metadata": {
    "collapsed": false
   },
   "outputs": [],
   "source": [
    "solver = uw.systems.Solver( stokesPIC )"
   ]
  },
  {
   "cell_type": "markdown",
   "metadata": {},
   "source": [
    "We do one solve for initial pressure and velocity with linear viscosity to get the initial strain rate invariant. This solve step also calculates a 'guess' of the the velocity field based on the linear system, which is used later in the non-linear solver."
   ]
  },
  {
   "cell_type": "code",
   "execution_count": 13,
   "metadata": {
    "collapsed": false
   },
   "outputs": [],
   "source": [
    "solver.solve( nonLinearIterate=False )"
   ]
  },
  {
   "cell_type": "markdown",
   "metadata": {},
   "source": [
    "Create an advective-diffusive system\n",
    "-----\n",
    "\n",
    "Setup the system in underworld by flagging the temperature and velocity field variables."
   ]
  },
  {
   "cell_type": "code",
   "execution_count": 14,
   "metadata": {
    "collapsed": false
   },
   "outputs": [],
   "source": [
    "advDiff = uw.systems.AdvectionDiffusion( temperatureField, temperatureDotField, velocityField,\n",
    "                                         fn_diffusivity=1., conditions=[tempBC,] )"
   ]
  },
  {
   "cell_type": "markdown",
   "metadata": {},
   "source": [
    "Metrics for benchmark\n",
    "-----\n",
    "\n",
    "Define diagnostic functions to be used in the time loop and/or measured after reaching steady state:\n",
    "\n",
    "* Average temperature\n",
    "$$  \\langle T \\rangle  = \\int^1_0 \\int^1_0 T \\, dxdy $$\n",
    "* Top and bottom Nusselt numbers\n",
    "$$Nu_{top/bot} = - \\left. \\int^1_0 \\frac{\\partial T}{\\partial y} \\right|_{y=1/y=0} \\, dx$$\n",
    "* RMS velocity over the whole domain, surface and max velocity at surface\n",
    "$$u_{RMS} = \\left( \\int_0^1 \\int_0^1 \\left( u_x^2 + u_y^2 \\right) dx dy \\right)^{1/2}$$\n",
    "$$u_{RMS}^{surf} = \\left( \\left. \\int_0^1 u_x^2\\right|_{y=1} dx \\right)^{1/2}$$\n",
    "$$u_{max}^{surf} = \\left. \\max(u_x)\\right|_{y=1}$$\n",
    "* max and min viscosity over the whole domain\n",
    "$$\\eta_{max/min} = \\max / \\min \\left( \\eta\\left(x,y\\right) \\right)$$\n",
    "* average rate of work done against gravity\n",
    "$$\\langle W \\rangle = \\int^1_0 \\int^1_0 T u_y \\, dx dy$$\n",
    "* and the average rate of viscous dissipation\n",
    "$$\\langle \\Phi \\rangle = \\int^1_0 \\int^1_0 \\tau_{ij} \\dot \\epsilon_{ij} \\, dx dy$$\n",
    "\n",
    "* In steady state, if thermal energy is accurately conserved, the difference between $\\langle W \\rangle$ and $\\langle \\Phi \\rangle / Ra$ must vanish, so also reported is the percentage error: \n",
    "\n",
    "$$ \\delta = \\frac{\\lvert \\langle W \\rangle - \\frac{\\langle \\Phi \\rangle}{Ra} \\rvert}{max \\left(  \\langle W \\rangle,  \\frac{\\langle \\Phi \\rangle}{Ra}\\right)} \\times 100% $$"
   ]
  },
  {
   "cell_type": "markdown",
   "metadata": {},
   "source": [
    "**Setup volume integrals used in metric functions**"
   ]
  },
  {
   "cell_type": "code",
   "execution_count": 15,
   "metadata": {
    "collapsed": false
   },
   "outputs": [],
   "source": [
    "# temperature\n",
    "tempint = uw.utils.Integral( temperatureField, mesh )\n",
    "# area\n",
    "areaint = uw.utils.Integral( 1.,               mesh )\n",
    "# velocity squared\n",
    "v2int   = uw.utils.Integral(fn.math.dot(velocityField,velocityField), mesh)\n",
    "# work done\n",
    "dwint   = uw.utils.Integral(temperatureField*velocityField[1], mesh)\n",
    "# viscous dissipation\n",
    "sinner = fn.math.dot(secinv,secinv)\n",
    "vdint = uw.utils.Integral((4.*fn_viscosity*sinner), mesh)"
   ]
  },
  {
   "cell_type": "markdown",
   "metadata": {},
   "source": [
    "**Setup surface integrals used in metric functions**"
   ]
  },
  {
   "cell_type": "code",
   "execution_count": 16,
   "metadata": {
    "collapsed": false
   },
   "outputs": [],
   "source": [
    "rmsSurfInt = uw.utils.Integral( fn=velocityField[0]*velocityField[0], mesh=mesh, integrationType='Surface', \n",
    "                          surfaceIndexSet=mesh.specialSets[\"MaxJ_VertexSet\"])\n",
    "nuTop      = uw.utils.Integral( fn=temperatureField.fn_gradient[1], mesh=mesh, integrationType='Surface', \n",
    "                          surfaceIndexSet=mesh.specialSets[\"MaxJ_VertexSet\"])\n",
    "nuBottom   = uw.utils.Integral( fn=temperatureField.fn_gradient[1], mesh=mesh, integrationType='Surface', \n",
    "                          surfaceIndexSet=mesh.specialSets[\"MinJ_VertexSet\"])"
   ]
  },
  {
   "cell_type": "markdown",
   "metadata": {},
   "source": [
    "**Define diagnostic functions using integrals**"
   ]
  },
  {
   "cell_type": "code",
   "execution_count": 17,
   "metadata": {
    "collapsed": false
   },
   "outputs": [],
   "source": [
    "def avg_temp():\n",
    "    return tempint.evaluate()[0]/areaint.evaluate()[0]\n",
    "\n",
    "def nusseltTB(temp_field, mesh):\n",
    "    return -nuTop.evaluate()[0], -nuBottom.evaluate()[0]\n",
    "\n",
    "def rms():\n",
    "    return math.sqrt(v2int.evaluate()[0]/areaint.evaluate()[0])\n",
    "\n",
    "def rms_surf():\n",
    "    return math.sqrt(rmsSurfInt.evaluate()[0])\n",
    "\n",
    "def max_vx_surf(velfield, mesh):\n",
    "    vuvelxfn = fn.view.min_max(velfield[0])\n",
    "    vuvelxfn.evaluate(mesh.specialSets[\"MaxJ_VertexSet\"])\n",
    "    return vuvelxfn.max_global()\n",
    "\n",
    "def gravwork(workfn):\n",
    "    return workfn.evaluate()[0]\n",
    "\n",
    "def viscdis(vdissfn):\n",
    "    return vdissfn.evaluate()[0]\n",
    "\n",
    "def visc_extr(viscfn):\n",
    "    vuviscfn = fn.view.min_max(viscfn)\n",
    "    vuviscfn.evaluate(mesh)\n",
    "    return vuviscfn.max_global(), vuviscfn.min_global()"
   ]
  },
  {
   "cell_type": "code",
   "execution_count": 18,
   "metadata": {
    "collapsed": false
   },
   "outputs": [],
   "source": [
    "#Fields for saving data / fields\n",
    "\n",
    "rmsField = uw.mesh.MeshVariable( mesh=mesh, nodeDofCount=1 )\n",
    "rmsfn    = fn.math.sqrt( fn.math.dot( velocityField, velocityField ) )\n",
    "rmsdata  = rmsfn.evaluate( mesh )\n",
    "rmsField.data[:] = rmsdata \n",
    "\n",
    "viscField = uw.mesh.MeshVariable( mesh=mesh, nodeDofCount=1 )\n",
    "viscdata  = fn_viscosity.evaluate( mesh )\n",
    "viscField.data[:] = viscdata\n",
    "\n",
    "stressField = uw.mesh.MeshVariable( mesh=mesh, nodeDofCount=1)\n",
    "srtdata     = fn.tensor.second_invariant( fn.tensor.symmetric( velocityField.fn_gradient ) )\n",
    "rostfield   = srtdata.evaluate( mesh )\n",
    "stressinv   = 2*viscdata*rostfield[:]\n",
    "stressField.data[:] = stressinv"
   ]
  },
  {
   "cell_type": "markdown",
   "metadata": {},
   "source": [
    "Main simulation loop\n",
    "------\n",
    "\n",
    "Normally a loop over time increments would be added here. As we are only interested in the post-analysis a single time step will be taken to ensure that all analysis fields are live. This step will involve the non-linear Stokes system solver."
   ]
  },
  {
   "cell_type": "code",
   "execution_count": 19,
   "metadata": {
    "collapsed": false
   },
   "outputs": [],
   "source": [
    "steps_todo = 1"
   ]
  },
  {
   "cell_type": "markdown",
   "metadata": {
    "collapsed": false
   },
   "source": [
    "Initialise steps and time. Set to zero unless loading values from file."
   ]
  },
  {
   "cell_type": "code",
   "execution_count": 20,
   "metadata": {
    "collapsed": false
   },
   "outputs": [
    {
     "name": "stdout",
     "output_type": "stream",
     "text": [
      "This model has previously completed  77897 steps to get to time = 0.899\n"
     ]
    }
   ],
   "source": [
    "try:\n",
    "    realtime = timeVal[-1]\n",
    "    step = int(stepsVal[-1])\n",
    "except:\n",
    "    realtime = 0.0\n",
    "    step = 0\n",
    "steps_end = step + steps_todo\n",
    "steps_output = 100\n",
    "steps_output = max(steps_output,1)\n",
    "print('This model has previously completed {0:6d} steps to get to time = {1:.3f}'.format(step,realtime))"
   ]
  },
  {
   "cell_type": "code",
   "execution_count": 21,
   "metadata": {
    "collapsed": false
   },
   "outputs": [],
   "source": [
    "# initialise timer for computation\n",
    "start = time.clock()\n",
    "# start loop\n",
    "while step < steps_end:\n",
    "    # Solve non-linear system\n",
    "    solver.solve(nonLinearIterate=True)\n",
    "    dt = advDiff.get_max_dt()\n",
    "    if step == 0:\n",
    "        dt = 0.\n",
    "    # Advect using this timestep size   \n",
    "    advDiff.integrate(dt)\n",
    "    # Increment\n",
    "    realtime += dt\n",
    "    step += 1\n",
    "    # Calculate the Metrics, only on 1 of the processors:\n",
    "    Avg_temp = avg_temp()\n",
    "    Rms = rms()\n",
    "    Rms_surf = rms_surf()\n",
    "    Max_vx_surf = max_vx_surf(velocityField, mesh)\n",
    "    Gravwork = gravwork(dwint)\n",
    "    Viscdis = viscdis(vdint)\n",
    "    nu1, nu0 = nusseltTB(temperatureField, mesh) # return top then bottom\n",
    "    etamax, etamin = visc_extr(fn_viscosity)\n",
    "    # store results\n",
    "    stepsVal.append(       step)\n",
    "    timeVal.append(        realtime )\n",
    "    viscdisVal.append(    Viscdis )\n",
    "    nu0Val.append(         nu0 )\n",
    "    nu1Val.append(         nu1 )\n",
    "    Avg_tempVal.append(    Avg_temp )\n",
    "    vrmsVal.append(        Rms )\n",
    "    Rms_surfVal.append(    Rms_surf )\n",
    "    Max_vx_surfVal.append( Max_vx_surf )\n",
    "    GravworkVal.append(    Gravwork )\n",
    "    etamaxVal.append(      etamax )\n",
    "    etaminVal.append(      etamin )\n",
    "\n",
    "    # output fields and summary info to file (output graphics can also be added here)\n",
    "    if uw.rank()==0:\n",
    "        if (step % steps_output == 0) or (step == steps_end-1):\n",
    "            print 'step =',step, '; CPU time =', time.clock()-start, '; vrms = ',Rms\n",
    "            # Temperature\n",
    "            fnametemp = \"temperatureField_\" + str(step).zfill(6) + \".h5\"\n",
    "            fullpath = os.path.join(outputPath + \"files/\" + fnametemp)\n",
    "            temperatureField.save(fullpath)\n",
    "            # Temperature time derivative\n",
    "            fnametemp = \"temperatureDotField_\" + str(step).zfill(6) + \".h5\"\n",
    "            fullpath = os.path.join(outputPath + \"files/\" + fnametemp)\n",
    "            temperatureDotField.save(fullpath)\n",
    "            # Pressure\n",
    "            fnametemp = \"pressureField_\" + str(step).zfill(6) + \".h5\"\n",
    "            fullpath = os.path.join(outputPath + \"files/\" + fnametemp)\n",
    "            pressureField.save(fullpath)\n",
    "            # Velocity\n",
    "            fnametemp = \"velocityField_\" + str(step).zfill(6) + \".h5\"\n",
    "            fullpath = os.path.join(outputPath + \"files/\" + fnametemp)\n",
    "            velocityField.save(fullpath)\n",
    "\n",
    "            np.savetxt( outputPath + 'Summary.txt', np.c_[stepsVal, timeVal, viscdisVal, nu0Val, \n",
    "                                                          nu1Val, Avg_tempVal, vrmsVal, Rms_surfVal,\n",
    "                                                         Max_vx_surfVal, GravworkVal, etamaxVal, etaminVal], \n",
    "                   header=\"Steps, Time, visc, Nusselt bottom/top, av_T, vrms, surf_rms, surf_max, grav, etamax, etamin\" )"
   ]
  },
  {
   "cell_type": "markdown",
   "metadata": {},
   "source": [
    "Post-simulation analysis\n",
    "-------\n",
    "\n",
    "Here we will calculate the quantities specified for this case in Tosi et al. (2015) and finally compare them to the values given in their Table 2."
   ]
  },
  {
   "cell_type": "markdown",
   "metadata": {},
   "source": [
    "**Period regime of case 5a**\n",
    "\n",
    "For case 5 the convection model parameters result in a periodic regime. An example of the top and bottom Nusselt numbers as well as the RMS velocity is shown below. Other figures can be made by modifying the cells below."
   ]
  },
  {
   "cell_type": "code",
   "execution_count": 22,
   "metadata": {
    "collapsed": false
   },
   "outputs": [
    {
     "data": {
      "image/png": "[encoded data removed]",
      "text/plain": [
       "<matplotlib.figure.Figure at 0x117b46dd0>"
      ]
     },
     "metadata": {},
     "output_type": "display_data"
    }
   ],
   "source": [
    "pylab.rcParams[ 'figure.figsize'] = 12, 6\n",
    "pyplot.plot(timeVal, nu0Val, color = 'black') \n",
    "pyplot.plot(timeVal, nu1Val, color = 'red') \n",
    "pyplot.xlim(timeVal[1], timeVal[-1])\n",
    "pyplot.xlabel('Time')\n",
    "pyplot.ylabel('Nusselt number')\n",
    "pyplot.show()"
   ]
  },
  {
   "cell_type": "code",
   "execution_count": 23,
   "metadata": {
    "collapsed": false
   },
   "outputs": [
    {
     "data": {
      "image/png": "[encoded data removed]",
      "text/plain": [
       "<matplotlib.figure.Figure at 0x11852c2d0>"
      ]
     },
     "metadata": {},
     "output_type": "display_data"
    }
   ],
   "source": [
    "pylab.rcParams[ 'figure.figsize'] = 12, 6\n",
    "pyplot.plot(timeVal, vrmsVal, color = 'black') \n",
    "pyplot.xlim(timeVal[1], timeVal[-1])\n",
    "pyplot.xlabel('Time')\n",
    "pyplot.ylabel('RMS velocity')\n",
    "pyplot.show()"
   ]
  },
  {
   "cell_type": "markdown",
   "metadata": {},
   "source": [
    "**Plot final temperature and velocity fields**"
   ]
  },
  {
   "cell_type": "code",
   "execution_count": 24,
   "metadata": {
    "collapsed": false
   },
   "outputs": [
    {
     "data": {
      "text/html": [
       "<img src='data:image/png;base64,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'>"
      ],
      "text/plain": [
       "<IPython.core.display.HTML object>"
      ]
     },
     "execution_count": 24,
     "metadata": {},
     "output_type": "execute_result"
    }
   ],
   "source": [
    "velmax = np.amax(velocityField.data[:])\n",
    "if(velmax==0.0): velmax = 1.0\n",
    "fig1 = glucifer.Figure()\n",
    "fig1.append( glucifer.objects.Surface(mesh, temperatureField) )\n",
    "fig1.append( glucifer.objects.VectorArrows(mesh, velocityField/velmax, scaling=0.1, arrowHead=0.2) )\n",
    "fig1.show()"
   ]
  },
  {
   "cell_type": "markdown",
   "metadata": {},
   "source": [
    "**Calculate quantities for benchmark comparison**"
   ]
  },
  {
   "cell_type": "code",
   "execution_count": 25,
   "metadata": {
    "collapsed": true
   },
   "outputs": [],
   "source": [
    "tempMin = np.amin(Avg_tempVal)\n",
    "tempMax = np.amax(Avg_tempVal)\n",
    "nuTopMin = np.amin(nu1Val)\n",
    "nuTopMax = np.amax(nu1Val)\n",
    "uRMSMin = np.amin(vrmsVal)\n",
    "uRMSMax = np.amax(vrmsVal)\n",
    "thetaMin = np.amin(GravworkVal)\n",
    "thetaMax = np.amax(GravworkVal)"
   ]
  },
  {
   "cell_type": "markdown",
   "metadata": {},
   "source": [
    "Calculate the period between maxima"
   ]
  },
  {
   "cell_type": "code",
   "execution_count": 26,
   "metadata": {
    "collapsed": false
   },
   "outputs": [],
   "source": [
    "x = np.array(timeVal, dtype=np.float)\n",
    "dx = np.gradient(vrmsVal)\n",
    "z = np.gradient(vrmsVal, dx, edge_order=2)\n",
    "dx2 = np.gradient(dx)\n",
    "z = np.gradient(vrmsVal, dx2, edge_order=2)\n",
    "timeZero = []\n",
    "for i in range(len(timeVal)-1):\n",
    "    if(dx2[i]>0) & (dx[i]*dx[i+1]<0.):\n",
    "        timeZero.append(np.interp(0.0, (dx[i], dx[i+1]), (timeVal[i], timeVal[i+1])))\n",
    "period = 0.0\n",
    "for i in range(len(timeZero)-1):\n",
    "    period += timeZero[i+1]- timeZero[i]\n",
    "period = period/(len(timeZero)-1)"
   ]
  },
  {
   "cell_type": "markdown",
   "metadata": {},
   "source": [
    "**Output all quantities**"
   ]
  },
  {
   "cell_type": "code",
   "execution_count": 27,
   "metadata": {
    "collapsed": false
   },
   "outputs": [
    {
     "name": "stdout",
     "output_type": "stream",
     "text": [
      "P         = 0.0768\n",
      "T_min     = 0.6509\n",
      "T_max     = 0.6692\n",
      "Nu_min    = 2.6828\n",
      "Nu_max    = 7.3878\n",
      "uRMS_min  = 41.3002\n",
      "uRMS_max  = 99.8329\n",
      "theta_min = 1.3431\n",
      "theta_max = 9.5427\n"
     ]
    }
   ],
   "source": [
    "print('P         = {0:.4f}'.format(period))\n",
    "print('T_min     = {0:.4f}'.format(tempMin))\n",
    "print('T_max     = {0:.4f}'.format(tempMax))\n",
    "print('Nu_min    = {0:.4f}'.format(nuTopMin))\n",
    "print('Nu_max    = {0:.4f}'.format(nuTopMax))\n",
    "print('uRMS_min  = {0:.4f}'.format(uRMSMin))\n",
    "print('uRMS_max  = {0:.4f}'.format(uRMSMax))\n",
    "print('theta_min = {0:.4f}'.format(thetaMin))\n",
    "print('theta_max = {0:.4f}'.format(thetaMax))"
   ]
  },
  {
   "cell_type": "markdown",
   "metadata": {},
   "source": [
    "**Comparison values from Tosi et al. (2015)**\n",
    "\n",
    "The expected benchmark values from Table 2 of Tosi et al. (2015) for case 5a are given in the table below. The minimum and maximum values from each of the participating codes are given here to provide an expected range for each quantity.\n",
    "\n",
    "| Case 5a | $P$  |$<$$T$$>_{min}$ | $<$$T$$>_{max}$ | $Nu^{top}_{min}$ | $Nu^{top}_{max}$ | $u_{RMS}^{min}$ | $u_{RMS}^{max}$ | $<$$\\theta$$>_{min}$ | $<$$\\theta$$>_{max}$ |\n",
    "|:--------|:----:|:--------------:|:---------------:|:----------------:|:----------------:|:---------------:|:--------------:|:--------------------:|:--------------------:|\n",
    "| Min     | 0.0760 | 0.6491 | 0.6671 | 2.6787 | 7.2792 | 41.2488 |  98.0040 | 1.3307 | 9.1400 |\n",
    "| Max     | 0.0792 | 0.6543 | 0.6722 | 2.6950 | 7.4314 | 41.9813 | 100.5380 | 1.3629 | 9.5400 |\n",
    "\n",
    "Note that the values from the spectral code MC3D are not used to construct the min/max values here, as they are outlier values."
   ]
  }
 ],
 "metadata": {
  "kernelspec": {
   "display_name": "Python 2",
   "language": "python",
   "name": "python2"
  },
  "language_info": {
   "codemirror_mode": {
    "name": "ipython",
    "version": 2
   },
   "file_extension": ".py",
   "mimetype": "text/x-python",
   "name": "python",
   "nbconvert_exporter": "python",
   "pygments_lexer": "ipython2",
   "version": "2.7.10"
  }
 },
 "nbformat": 4,
 "nbformat_minor": 0
}
