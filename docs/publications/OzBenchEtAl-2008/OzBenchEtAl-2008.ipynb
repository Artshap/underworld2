{
 "cells": [
  {
   "cell_type": "markdown",
   "metadata": {
    "deletable": true,
    "editable": true
   },
   "source": [
    "3D Subduction from OzBench et al 2008\n",
    "======\n",
    "\n",
    "Use this setup to run the Underworld benchmark from [OzBench et al, 2008](http://www.sciencedirect.com/science/article/pii/S0031920108002318) (Figure 3b).\n",
    "\n",
    "The Ozbench benchmark is used to compare 3D subduction models. The benchmark tests the ability to reproduce the deformation and retreat velocity of a single \"slab\" foundering in a large box of viscous fluid.\n",
    "\n",
    "Viscous/plastic and viscoelastic/plastic models are catered for, with the appropriate equivalent parameter choices.  The upper surface can be free-slip (no vertical movement) or a moving, stress-free interface. In the former case, some plasticity in the near-surface is needed to allow the slab to bend and detach from the surface. The Underworld example is for a slab with a viscous core and viscoplastic upper and lower layers and a free-slip upper boundary.\n",
    "\n",
    "The 3D subduction model has a dense, high viscosity 3 layered plate overlying a lower viscosity mantle. The upper and lower plate layers have a visco-plastic rheology, yielding under large stresses. The middle, core layer has a viscous only rheology, maintaining strength during bending. The top 1000 km of the mantle is included, the upper & lower mantle is partitioned with a viscosity contrast of 100x at 600 km depth. The velocity boundary conditions on the domain are free-slip. \n",
    "\n",
    "**References**\n",
    "\n",
    "1. OzBench, M.; Regenauer-Lieb, K.; Stegman, D. R.; Morra, G.; Farrington, R.; Hale, A.; May, D. A.; Freeman, J.; Bourgouin, L.; Mühlhaus, H. & Moresi, L. A model comparison study of large-scale mantle-lithosphere dynamics driven by subduction. Physics of the Earth and Planetary Interiors, 2008, 171, 224-234. [OzBench, 2008](http://www.sciencedirect.com/science/article/pii/S0031920108002318)"
   ]
  },
  {
   "cell_type": "code",
   "execution_count": null,
   "metadata": {
    "collapsed": false,
    "deletable": true,
    "editable": true
   },
   "outputs": [],
   "source": [
    "import underworld as uw\n",
    "import math\n",
    "from underworld import function as fn\n",
    "import glucifer\n",
    "import numpy as np\n",
    "import os"
   ]
  },
  {
   "cell_type": "code",
   "execution_count": null,
   "metadata": {
    "collapsed": true,
    "deletable": true,
    "editable": true
   },
   "outputs": [],
   "source": [
    "outputPath = os.path.join(os.path.abspath(\".\"),\"OzBenchOutput/\")\n",
    "\n",
    "if uw.rank()==0:\n",
    "    if not os.path.exists(outputPath):\n",
    "        os.makedirs(outputPath)\n",
    "uw.barrier()"
   ]
  },
  {
   "cell_type": "markdown",
   "metadata": {
    "deletable": true,
    "editable": true
   },
   "source": [
    "**Setup parameters**\n"
   ]
  },
  {
   "cell_type": "code",
   "execution_count": null,
   "metadata": {
    "collapsed": true,
    "deletable": true,
    "editable": true
   },
   "outputs": [],
   "source": [
    "# use low resolution if running in serial\n",
    "# use xRes = 96 to produce Fig 3b of OzBench (2008)\n",
    "xRes = 16\n",
    "yRes = xRes/2\n",
    "zRes = xRes  \n",
    "dim  = 3\n",
    "boxLength = 6.0\n",
    "boxHeight = 1.0\n",
    "boxWidth  = 6.0\n"
   ]
  },
  {
   "cell_type": "markdown",
   "metadata": {
    "deletable": true,
    "editable": true
   },
   "source": [
    "**Create mesh and finite element variables**"
   ]
  },
  {
   "cell_type": "code",
   "execution_count": null,
   "metadata": {
    "collapsed": false,
    "deletable": true,
    "editable": true
   },
   "outputs": [],
   "source": [
    "mesh = uw.mesh.FeMesh_Cartesian( elementType = (\"Q1/dQ0\"),\n",
    "                                 elementRes  = (xRes, yRes, zRes), \n",
    "                                 minCoord    = (0., 0., 0.), \n",
    "                                 maxCoord    = (boxLength, boxHeight, boxWidth)) \n",
    "\n",
    "velocityField   = uw.mesh.MeshVariable( mesh=mesh,         nodeDofCount=dim )\n",
    "pressureField   = uw.mesh.MeshVariable( mesh=mesh.subMesh, nodeDofCount=1 )"
   ]
  },
  {
   "cell_type": "markdown",
   "metadata": {
    "collapsed": true,
    "deletable": true,
    "editable": true
   },
   "source": [
    "**Create a particle swarm**"
   ]
  },
  {
   "cell_type": "code",
   "execution_count": null,
   "metadata": {
    "collapsed": false,
    "deletable": true,
    "editable": true
   },
   "outputs": [],
   "source": [
    "swarm = uw.swarm.Swarm( mesh=mesh )\n",
    "materialVariable   = swarm.add_variable( dataType=\"int\", count=1 )\n",
    "swarmLayout = uw.swarm.layouts.GlobalSpaceFillerLayout( swarm=swarm, particlesPerCell=20 )\n",
    "swarm.populate_using_layout( layout=swarmLayout )"
   ]
  },
  {
   "cell_type": "markdown",
   "metadata": {
    "deletable": true,
    "editable": true
   },
   "source": [
    "**Allocate materials to particles**"
   ]
  },
  {
   "cell_type": "code",
   "execution_count": null,
   "metadata": {
    "collapsed": false,
    "deletable": true,
    "editable": true
   },
   "outputs": [],
   "source": [
    "# initialise the 'materialVariable' data to represent two different materials. \n",
    "upperMantleIndex = 0\n",
    "lowerMantleIndex = 1\n",
    "upperSlabIndex   = 2\n",
    "lowerSlabIndex   = 3\n",
    "coreSlabIndex    = 4\n",
    "\n",
    "# Initial material layout has a flat lying slab with at 15\\degree perturbation\n",
    "slabWidth      = 3.0\n",
    "lowerMantleY   = 0.4\n",
    "slabLowerShape = np.array([ (3.0,0.925 ), (5.2,0.925 ), (5.2,0.900), (3.0,0.900), (2.82,0.825), (2.82,0.850) ])\n",
    "slabCoreShape  = np.array([ (3.0,0.975 ), (5.2,0.975 ), (5.2,0.925), (3.0,0.925), (2.82,0.850), (2.82,0.900) ])\n",
    "slabUpperShape = np.array([ (3.0,1.000 ), (5.2,1.000 ), (5.2,0.975), (3.0,0.975), (2.82,0.900), (2.82,0.925) ])\n",
    "\n",
    "slabLower = fn.shape.Polygon( slabLowerShape )\n",
    "slabUpper = fn.shape.Polygon( slabUpperShape )\n",
    "slabCore  = fn.shape.Polygon( slabCoreShape )\n",
    "\n",
    "# initialise everying to be upper mantle material\n",
    "materialVariable.data[:] = upperMantleIndex\n",
    "\n",
    "# change matieral index if the particle is not upper mantle\n",
    "for index in range( len(swarm.particleCoordinates.data) ):\n",
    "    coord = swarm.particleCoordinates.data[index][:]\n",
    "    if coord[1] < lowerMantleY:\n",
    "        materialVariable.data[index]     = lowerMantleIndex\n",
    "    if coord[2] < slabWidth:\n",
    "        if slabCore.evaluate(tuple(coord)):\n",
    "            materialVariable.data[index] = coreSlabIndex\n",
    "        if slabUpper.evaluate(tuple(coord)):\n",
    "            materialVariable.data[index] = upperSlabIndex\n",
    "        if slabLower.evaluate(tuple(coord)):\n",
    "            materialVariable.data[index] = lowerSlabIndex\n",
    "       "
   ]
  },
  {
   "cell_type": "markdown",
   "metadata": {
    "deletable": true,
    "editable": true
   },
   "source": [
    "**Plot the initial material layout**"
   ]
  },
  {
   "cell_type": "code",
   "execution_count": null,
   "metadata": {
    "collapsed": true
   },
   "outputs": [],
   "source": [
    "#First project material index on to mesh for use in plotting material isosurfaces\n",
    "materialField = uw.mesh.MeshVariable( mesh, 1 )\n",
    "projector = uw.utils.MeshVariable_Projection( materialField, materialVariable, type=0 )\n",
    "projector.solve()"
   ]
  },
  {
   "cell_type": "code",
   "execution_count": null,
   "metadata": {
    "collapsed": false,
    "deletable": true,
    "editable": true
   },
   "outputs": [],
   "source": [
    "materialFilter = materialVariable > 0.5\n",
    "\n",
    "figMaterialLayout = glucifer.Figure( figsize=(800,400), quality=2 )\n",
    "\n",
    "#Points can be used to plot the materials but saving the swarm takes up a lot of space\n",
    "#figMaterialLayout.Points(swarm, materialVariable, materialFilter, \n",
    "#                         pointSize=2, colourBar=False)\n",
    "\n",
    "#A more efficient way is to use the IsoSurface object to extract just the boundaries\n",
    "figMaterialLayout.IsoSurface( mesh, materialField, isovalues=[0.5], isowalls=True, shift=1)\n",
    "\n",
    "#Example of adding cross sections at the boundaries\n",
    "#figMaterialLayout.Surface( mesh, materialField, crossSection=\"x 100%\", colourBar=False)\n",
    "#figMaterialLayout.Surface( mesh, materialField, crossSection=\"z 0%\", colourBar=False)\n",
    "\n",
    "#Use a script to modify the camera view\n",
    "camera = ['translate y 1', 'rotate y 60', 'rotate x 30', 'zoom 0.1']\n",
    "figMaterialLayout.script(camera)\n",
    "\n",
    "figMaterialLayout.show()"
   ]
  },
  {
   "cell_type": "markdown",
   "metadata": {
    "deletable": true,
    "editable": true
   },
   "source": [
    "Set up material parameters and functions\n",
    "----\n",
    "\n",
    "Here the functions for viscosity, density, gravity and buoyancy are set. \n",
    "\n",
    "**Viscosity function**\n",
    "\n",
    "The lower mantle is 100x more viscous than the upper mantle. The upper and lower slab layer weakens under high strain, it has a visco plastic rheology. The lower slab layer does not yield, it has a viscous rheology.  "
   ]
  },
  {
   "cell_type": "code",
   "execution_count": null,
   "metadata": {
    "collapsed": false,
    "deletable": true,
    "editable": true
   },
   "outputs": [],
   "source": [
    "upperMantleViscosity =    1.0\n",
    "lowerMantleViscosity =  100.0\n",
    "slabViscosity        =  200.0\n",
    "coreViscosity        =  200.0\n",
    "\n",
    "# The yeilding of the upper slab is dependent on the strain rate.\n",
    "strainRate_2ndInvariant = fn.tensor.second_invariant( \n",
    "                            fn.tensor.symmetric( \n",
    "                            velocityField.fn_gradient ))\n",
    "cohesion = 0.06\n",
    "vonMises = 0.5 * cohesion / (strainRate_2ndInvariant+1.0e-18)\n",
    "\n",
    "# The upper slab viscosity is the minimum of the 'slabViscosity' or the 'vonMises' \n",
    "slabYieldvisc = fn.exception.SafeMaths( fn.misc.min(vonMises, slabViscosity) )\n",
    "\n",
    "# Viscosity function for the materials \n",
    "viscosityMap = { upperMantleIndex : upperMantleViscosity, \n",
    "                 lowerMantleIndex : lowerMantleViscosity, \n",
    "                 upperSlabIndex   : slabYieldvisc, \n",
    "                 lowerSlabIndex   : slabYieldvisc,\n",
    "                 coreSlabIndex    : coreViscosity}\n",
    "viscosityMapFn = fn.branching.map( fn_key = materialVariable, mapping = viscosityMap )"
   ]
  },
  {
   "cell_type": "markdown",
   "metadata": {
    "deletable": true,
    "editable": true
   },
   "source": [
    "Set the density function, vertical unit vector and Buoyancy Force function\n"
   ]
  },
  {
   "cell_type": "code",
   "execution_count": null,
   "metadata": {
    "collapsed": false,
    "deletable": true,
    "editable": true
   },
   "outputs": [],
   "source": [
    "mantleDensity = 0.0\n",
    "slabDensity   = 1.0 \n",
    "\n",
    "densityMap = { upperMantleIndex : mantleDensity, \n",
    "               lowerMantleIndex : mantleDensity, \n",
    "               upperSlabIndex   : slabDensity, \n",
    "               lowerSlabIndex   : slabDensity, \n",
    "               coreSlabIndex    : slabDensity}\n",
    "densityFn = fn.branching.map( fn_key = materialVariable, mapping = densityMap )\n",
    "\n",
    "# Define our vertical unit vector using a python tuple\n",
    "z_hat = ( 0., 1., 0. )\n",
    "\n",
    "# now create a buoyancy force vector\n",
    "buoyancyFn = -1.0 * densityFn * z_hat"
   ]
  },
  {
   "cell_type": "markdown",
   "metadata": {
    "deletable": true,
    "editable": true
   },
   "source": [
    "**Set initial and boundary conditions**"
   ]
  },
  {
   "cell_type": "code",
   "execution_count": null,
   "metadata": {
    "collapsed": false,
    "deletable": true,
    "editable": true
   },
   "outputs": [],
   "source": [
    "# set initial conditions (and boundary values)\n",
    "velocityField.data[:] = [0.,0.,0.]\n",
    "pressureField.data[:] = 0.\n",
    "\n",
    "# send boundary condition information to underworld\n",
    "iWalls = mesh.specialSets[\"MinI_VertexSet\"] + mesh.specialSets[\"MaxI_VertexSet\"]\n",
    "jWalls = mesh.specialSets[\"MinJ_VertexSet\"] + mesh.specialSets[\"MaxJ_VertexSet\"]\n",
    "kWalls = mesh.specialSets[\"MinK_VertexSet\"] + mesh.specialSets[\"MaxK_VertexSet\"]\n",
    "\n",
    "freeslipBC = uw.conditions.DirichletCondition( variable        = velocityField, \n",
    "                                               indexSetsPerDof = (iWalls, jWalls, kWalls) )"
   ]
  },
  {
   "cell_type": "markdown",
   "metadata": {
    "deletable": true,
    "editable": true
   },
   "source": [
    "**System Setup**"
   ]
  },
  {
   "cell_type": "code",
   "execution_count": null,
   "metadata": {
    "collapsed": false,
    "deletable": true,
    "editable": true
   },
   "outputs": [],
   "source": [
    "# Initial linear slab viscosity setup\n",
    "stokes = uw.systems.Stokes( velocityField = velocityField, \n",
    "                               pressureField = pressureField,\n",
    "                               voronoi_swarm = swarm, \n",
    "                               conditions    = [freeslipBC,],\n",
    "                               fn_viscosity   = viscosityMapFn, \n",
    "                               fn_bodyforce   = buoyancyFn )\n",
    "# Create solver & solve\n",
    "solver = uw.systems.Solver(stokes)"
   ]
  },
  {
   "cell_type": "code",
   "execution_count": null,
   "metadata": {
    "collapsed": false,
    "deletable": true,
    "editable": true
   },
   "outputs": [],
   "source": [
    "# use \"lu\" direct solve if running in serial\n",
    "if(uw.nProcs()==1):\n",
    "    solver.set_inner_method(\"lu\")"
   ]
  },
  {
   "cell_type": "code",
   "execution_count": null,
   "metadata": {
    "collapsed": false,
    "deletable": true,
    "editable": true
   },
   "outputs": [],
   "source": [
    "advector = uw.systems.SwarmAdvector( swarm=swarm, velocityField=velocityField, order=2 )"
   ]
  },
  {
   "cell_type": "markdown",
   "metadata": {
    "deletable": true,
    "editable": true
   },
   "source": [
    "**Analysis tools**"
   ]
  },
  {
   "cell_type": "code",
   "execution_count": null,
   "metadata": {
    "collapsed": false,
    "deletable": true,
    "editable": true
   },
   "outputs": [],
   "source": [
    "#The root mean square Velocity\n",
    "velSquared = uw.utils.Integral( fn.math.dot(velocityField,velocityField), mesh )\n",
    "area = uw.utils.Integral( 1., mesh )\n",
    "Vrms = math.sqrt( velSquared.evaluate()[0]/area.evaluate()[0] )"
   ]
  },
  {
   "cell_type": "markdown",
   "metadata": {
    "deletable": true,
    "editable": true
   },
   "source": [
    "**Set up visualisation of the particle swarm coloured by material type**\n",
    "\n",
    "We are using a vis store object to keep all our figures together and allow them to be revisualised later so create this here and pass it to all the figures created later. We'll also name this figure to make it easy to find later when revisualising."
   ]
  },
  {
   "cell_type": "code",
   "execution_count": null,
   "metadata": {
    "collapsed": false,
    "deletable": true,
    "editable": true
   },
   "outputs": [],
   "source": [
    "store = glucifer.Store('ozBench')\n",
    "figMaterialStrain = glucifer.Figure( store, figsize=(800,400), name=\"MaterialStrain\", facecolour='white', quality=2 )\n",
    "\n",
    "#When plotting an isosurface, a second function can be passed to colour the surface\n",
    "surf = figMaterialStrain.IsoSurface( mesh, materialField, strainRate_2ndInvariant,\n",
    "                                     isovalues=[0.5], isowalls=True,\n",
    "                                     colours='grey Purple Blue Green Yellow Orange Red Black')\n",
    "\n",
    "#figMaterialStrain.Points(swarm, fn_colour = strainRate_2ndInvariant, \n",
    "#                          fn_mask   = materialFilter, \n",
    "#                          pointSize=2, #fn_size   = 2., \n",
    "#                          colours   = 'grey Purple Blue Green Yellow Orange Red Black' )\n",
    "\n",
    "#Cross sections at the boundaries, use the same colour map as isosurface\n",
    "figMaterialStrain.Surface( mesh, strainRate_2ndInvariant, crossSection=\"x 100%\", colourMap=surf.colourMap, colourBar=False)\n",
    "figMaterialStrain.Surface( mesh, strainRate_2ndInvariant, crossSection=\"z 0%\", colourMap=surf.colourMap, colourBar=False)\n",
    "\n",
    "#Apply the camera script\n",
    "sc = figMaterialStrain.script(camera)\n",
    "\n",
    "figMaterialStrain.show()"
   ]
  },
  {
   "cell_type": "markdown",
   "metadata": {
    "collapsed": false,
    "deletable": true,
    "editable": true
   },
   "source": [
    "Main simulation loop\n",
    "=======\n",
    "\n",
    "The main time stepping loop begins here. Inside the time loop the velocity field is solved for via the Stokes system solver and then the swarm is advected using the advector integrator. Basic statistics are output to screen each timestep."
   ]
  },
  {
   "cell_type": "code",
   "execution_count": null,
   "metadata": {
    "collapsed": true,
    "deletable": true,
    "editable": true
   },
   "outputs": [],
   "source": [
    "time = 0.  # Initial time\n",
    "step = 0   # Initial timestep\n",
    "maxSteps = 2      # Maximum timesteps (301 is recommended)\n",
    "steps_output = 1  # output every 1 timesteps, increase for high resolution"
   ]
  },
  {
   "cell_type": "code",
   "execution_count": null,
   "metadata": {
    "collapsed": false,
    "deletable": true,
    "editable": true,
    "scrolled": false
   },
   "outputs": [],
   "source": [
    "while step <= maxSteps:\n",
    "    # Solve non linear Stokes system\n",
    "    solver.solve(nonLinearIterate=True)\n",
    "    # output figure to file at intervals = steps_output\n",
    "    if step % steps_output == 0 or step == maxSteps-1:\n",
    "        #Important to set the timestep for the store object here or will overwrite previous step\n",
    "        store.step = step\n",
    "        figMaterialStrain.save()\n",
    "        \n",
    "        Vrms = math.sqrt( velSquared.evaluate()[0]/area.evaluate()[0] )\n",
    "        print 'step = {0:6d}; time = {1:.3e}; Vrms = {2:.3e}'.format(step,time,Vrms)\n",
    "\n",
    "    dt = advector.get_max_dt()\n",
    "    advector.integrate(dt)\n",
    "    time += dt\n",
    "    step += 1"
   ]
  },
  {
   "cell_type": "code",
   "execution_count": null,
   "metadata": {
    "collapsed": false,
    "deletable": true,
    "editable": true
   },
   "outputs": [],
   "source": [
    "figMaterialStrain.show()"
   ]
  },
  {
   "cell_type": "code",
   "execution_count": null,
   "metadata": {
    "collapsed": true
   },
   "outputs": [],
   "source": []
  }
 ],
 "metadata": {
  "kernelspec": {
   "display_name": "Python 2",
   "language": "python",
   "name": "python2"
  },
  "language_info": {
   "codemirror_mode": {
    "name": "ipython",
    "version": 2
   },
   "file_extension": ".py",
   "mimetype": "text/x-python",
   "name": "python",
   "nbconvert_exporter": "python",
   "pygments_lexer": "ipython2",
   "version": "2.7.11"
  }
 },
 "nbformat": 4,
 "nbformat_minor": 0
}
