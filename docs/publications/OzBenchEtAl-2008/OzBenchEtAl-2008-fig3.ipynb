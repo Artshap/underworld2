{
 "cells": [
  {
   "cell_type": "markdown",
   "metadata": {},
   "source": [
    "Producing Figure 3b from OzBench et al 2008\n",
    "======\n",
    "\n",
    "This script produces Figure 3b from the [OzBench et al, 2008](http://www.sciencedirect.com/science/article/pii/S0031920108002318) benchmark using a glucifer store saved in ``OzBenchEtAl-2008.ipynb``. \n",
    "\n",
    "**References**\n",
    "\n",
    "1. OzBench, M.; Regenauer-Lieb, K.; Stegman, D. R.; Morra, G.; Farrington, R.; Hale, A.; May, D. A.; Freeman, J.; Bourgouin, L.; Mühlhaus, H. & Moresi, L. A model comparison study of large-scale mantle-lithosphere dynamics driven by subduction. Physics of the Earth and Planetary Interiors, 2008, 171, 224-234. [OzBench, 2008](http://www.sciencedirect.com/science/article/pii/S0031920108002318)"
   ]
  },
  {
   "cell_type": "code",
   "execution_count": null,
   "metadata": {
    "collapsed": false
   },
   "outputs": [],
   "source": [
    "import os\n",
    "outputPath = os.path.join(os.path.abspath(\".\"),\"OzBenchOutput/\")\n",
    "if not os.path.exists(outputPath):\n",
    "    os.makedirs(outputPath)"
   ]
  },
  {
   "cell_type": "code",
   "execution_count": null,
   "metadata": {
    "collapsed": true
   },
   "outputs": [],
   "source": [
    "import glucifer\n",
    "saved = glucifer.Viewer('ozBench', quality=3)"
   ]
  },
  {
   "cell_type": "markdown",
   "metadata": {
    "collapsed": false
   },
   "source": [
    "Create image for each saved timestep"
   ]
  },
  {
   "cell_type": "code",
   "execution_count": null,
   "metadata": {
    "collapsed": false
   },
   "outputs": [],
   "source": [
    "#Load the figure using the name we provided\n",
    "figures = saved.figures()\n",
    "fig = figures[\"MaterialStrain\"]\n",
    "\n",
    "#Apply the camera script\n",
    "saved.commands(['translate y 1', 'rotate y 60', 'rotate x 30', 'zoom 0.1'])\n",
    "\n",
    "#Write an image for each time step\n",
    "for step in saved.timesteps():\n",
    "    saved.timestep(step)\n",
    "    saved[\"title\"] = \"Timestep ##\"\n",
    "    saved.image(outputPath + \"ozBenchParticle_\"+ str(step).zfill(4))"
   ]
  },
  {
   "cell_type": "code",
   "execution_count": null,
   "metadata": {
    "collapsed": false
   },
   "outputs": [],
   "source": [
    "#Display the final image\n",
    "saved.show()"
   ]
  },
  {
   "cell_type": "code",
   "execution_count": null,
   "metadata": {
    "collapsed": true
   },
   "outputs": [],
   "source": []
  }
 ],
 "metadata": {
  "kernelspec": {
   "display_name": "Python 2",
   "language": "python",
   "name": "python2"
  },
  "language_info": {
   "codemirror_mode": {
    "name": "ipython",
    "version": 2
   },
   "file_extension": ".py",
   "mimetype": "text/x-python",
   "name": "python",
   "nbconvert_exporter": "python",
   "pygments_lexer": "ipython2",
   "version": "2.7.13"
  }
 },
 "nbformat": 4,
 "nbformat_minor": 0
}
