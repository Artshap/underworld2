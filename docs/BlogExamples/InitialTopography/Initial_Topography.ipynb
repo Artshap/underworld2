{
 "cells": [
  {
   "attachments": {},
   "cell_type": "markdown",
   "metadata": {},
   "source": [
    "# Initialising an Underworld mesh with Topography from a Digital Elevation Model\n",
    "\n",
    "Romain Beucher, romain.beucher@unimelb.edu.au \n",
    "\n",
    "\n",
    "We detail a workflow to quickly initialise an Underworld mesh with some initial topography.\n",
    "\n",
    "The Idea is to build a function, that can be use to create an Underworld mesh with some topography from any DEM file.\n",
    "\n",
    "![KingsCanyon.png](./Images/KingsCanyon.png)"
   ]
  },
  {
   "cell_type": "markdown",
   "metadata": {},
   "source": [
    "# Requirements\n",
    "\n",
    "+ An up to date version of Underworld\n",
    "+ [GDAL](http://www.gdal.org/) (which depends on libgdal)\n",
    "+ A Digital Elevation Model"
   ]
  },
  {
   "cell_type": "markdown",
   "metadata": {},
   "source": [
    "# Topographic Data"
   ]
  },
  {
   "cell_type": "markdown",
   "metadata": {},
   "source": [
    "In our example, the DEM is an ASCII file with 3 columns, each line containing the X and Y coordinates of the nodes on a regular grid and its associated Z value. All units are in meters\n",
    "\n",
    "I am providing 2 differents DEMs, one from the Kings Canyon area in California's Sierra Nevada mountains (known for its huge sequoia trees) and one from the Sydney basin. You can, of course, use other datasets. \n",
    "\n",
    "As a rule of thumb, all rasters (aerial, satellite images) use pixel-is-area and measurement data like DEMs use pixel-is-point. But in reality, things may be a bit more complicated and it is really up to the user to know what he is dealing with and if it is important...\n",
    "\n",
    "I will not enter into the details of what projection the data should be in. Here our dataset uses a UTM projection."
   ]
  },
  {
   "cell_type": "code",
   "execution_count": null,
   "metadata": {
    "collapsed": true
   },
   "outputs": [],
   "source": [
    "KingsCanyon = \"KingsCanyon.xyz\"\n",
    "SydneyBasin = \"Sydney_basin.dat\""
   ]
  },
  {
   "cell_type": "markdown",
   "metadata": {},
   "source": [
    "Note that you do not need to provide a DEM in a specific format as we will be using GDAL. GDAL can handle most of the NETCDF formats, you can thus use .tif, .bil etc..."
   ]
  },
  {
   "cell_type": "code",
   "execution_count": null,
   "metadata": {
    "collapsed": true
   },
   "outputs": [],
   "source": [
    "import os\n",
    "\n",
    "inDir = \"./input/\"\n",
    "outDir = \"./outputs/\"\n",
    "\n",
    "if not os.path.exists(inDir):\n",
    "    os.makedirs(inDir)\n",
    "if not os.path.exists(outDir):\n",
    "    os.makedirs(outDir)"
   ]
  },
  {
   "cell_type": "markdown",
   "metadata": {},
   "source": [
    "## XYZ ASCII DEM\n",
    "\n",
    "   We can have a quick look at the data.  We use pandas for the sake of the example but you can just open it with anything you like. (Note that the 2 files use different separator, tabulations for the Sydney Basin DEM and spaces for the Kings Canyon DEM.)"
   ]
  },
  {
   "cell_type": "code",
   "execution_count": null,
   "metadata": {
    "collapsed": true
   },
   "outputs": [],
   "source": [
    "import pandas as pd\n",
    "\n",
    "SydneyBasinDF = pd.read_csv(os.path.join(inDir, SydneyBasin), header=None, sep=\"\\t\", names=[\"X\", \"Y\", \"Z\"])\n",
    "KingsCanyonDF = pd.read_csv(os.path.join(inDir, KingsCanyon), header=None, sep=\" \", names=[\"X\", \"Y\", \"Z\"])"
   ]
  },
  {
   "cell_type": "code",
   "execution_count": null,
   "metadata": {
    "collapsed": true
   },
   "outputs": [],
   "source": [
    "SydneyBasinDF[0:10]"
   ]
  },
  {
   "cell_type": "markdown",
   "metadata": {},
   "source": [
    "Now we need to know a bit more about the dataset, meaning the spacing, minimum coordinates etc.\n",
    "\n",
    "You can find out all of that based on the description of your dataset. Another easy way is just to use the python module gdal which use the gdal library (behind most of the main GIS application).\n",
    "\n",
    "GDAL support reading and writing most of the raster formats. It supports reading and writing ASCII gridded XYZ raster datasets (i.e. ungridded XYZ, LIDAR XYZ etc. must be opened by other means. See the documentation of the gdal_grid utility).\n",
    "\n",
    "GDAL is fairly easy install on linux and Mac OSx systems. The easiest if to use anaconda on your machine and install GDAL by typing: \n",
    "\n",
    "                conda install gdal\n",
    "                \n",
    "GDAL can them be imported"
   ]
  },
  {
   "cell_type": "code",
   "execution_count": null,
   "metadata": {
    "collapsed": true
   },
   "outputs": [],
   "source": [
    "import gdal"
   ]
  },
  {
   "cell_type": "markdown",
   "metadata": {},
   "source": [
    "...and we can then open the DEM:"
   ]
  },
  {
   "cell_type": "code",
   "execution_count": null,
   "metadata": {
    "collapsed": true
   },
   "outputs": [],
   "source": [
    "# open the dataset\n",
    "ds = gdal.Open(os.path.join(inDir, KingsCanyon))"
   ]
  },
  {
   "cell_type": "markdown",
   "metadata": {},
   "source": [
    "Note that the ASCII XYZ driver assumes that the coordinates correspond to the center of a cell. This may or may not be important depending on what you are willing to do.\n",
    "In our case, it is really not that important as we just want to extract the elevations and apply them to the top of a mesh. We do not need to keep the geographical information."
   ]
  },
  {
   "cell_type": "markdown",
   "metadata": {},
   "source": [
    "The gdal driver extract metadata information from the file. We are going to use that to build our mesh. "
   ]
  },
  {
   "cell_type": "code",
   "execution_count": null,
   "metadata": {
    "collapsed": true
   },
   "outputs": [],
   "source": [
    "# Get dimension of the grid in x and y\n",
    "nx, ny = ds.RasterXSize, ds.RasterYSize\n",
    "# Get some additional information such as spacing in x (dx) and y (dy)\n",
    "minX, dx, _, minY, _, dy = ds.GetGeoTransform()\n",
    "# Read the data as a numpy array\n",
    "KingsCanyonElevation = ds.ReadAsArray()"
   ]
  },
  {
   "cell_type": "markdown",
   "metadata": {},
   "source": [
    "Lets Quickly do the same thing for the Sydney Basin"
   ]
  },
  {
   "cell_type": "code",
   "execution_count": null,
   "metadata": {
    "collapsed": true
   },
   "outputs": [],
   "source": [
    "dsB = gdal.Open(os.path.join(inDir, SydneyBasin))\n",
    "nxB, nyB = ds.RasterXSize, ds.RasterYSize\n",
    "minXB, dxB, _, minYB, _, dyB = ds.GetGeoTransform()\n",
    "SydneyBasinElevation = dsB.ReadAsArray()"
   ]
  },
  {
   "cell_type": "markdown",
   "metadata": {},
   "source": [
    "It's always good to have a quick look at the data:"
   ]
  },
  {
   "cell_type": "code",
   "execution_count": null,
   "metadata": {
    "collapsed": true,
    "scrolled": true
   },
   "outputs": [],
   "source": [
    "import matplotlib\n",
    "import matplotlib.pyplot as plt\n",
    "\n",
    "# imshow is designed for plotting images... origin is set to the top left corner by default, we change that to be \n",
    "# the lower left corner.\n",
    "fig, (ax1, ax2) = plt.subplots(1,2, figsize=(8,8))\n",
    "im1 = ax1.imshow(KingsCanyonElevation, origin=\"lower\")\n",
    "ax1.set_title(\"Kings Canyon\")\n",
    "im2 = ax2.imshow(SydneyBasinElevation, origin=\"lower\")\n",
    "ax2.set_title(\"Sydney Basin\")\n",
    "plt.show()"
   ]
  },
  {
   "cell_type": "markdown",
   "metadata": {},
   "source": [
    "# Fire up UNDERWORLD\n",
    "\n",
    "\n",
    "Lets now create a regular mesh using Underworld FeMesh_Cartesian:"
   ]
  },
  {
   "cell_type": "code",
   "execution_count": null,
   "metadata": {
    "collapsed": true
   },
   "outputs": [],
   "source": [
    "import underworld as uw\n",
    "import math\n",
    "\n",
    "xdim = ds.RasterXSize * math.fabs(dx)\n",
    "ydim = ds.RasterYSize * math.fabs(dy)\n",
    "nz, zdim = 40, 40000 \n",
    "\n",
    "# We just set the origin to be at (0,0, -zdim)\n",
    "minX, minY, minZ = (0., 0., -zdim)\n",
    "maxX, maxY, maxZ = (xdim, ydim, 0.)\n",
    "\n",
    "mesh = uw.mesh.FeMesh_Cartesian(elementType=\"Q1\", elementRes=(nx - 1, ny - 1, nz - 1), minCoord = (minX, minY, minZ), maxCoord = (maxX, maxY, maxZ) )"
   ]
  },
  {
   "cell_type": "markdown",
   "metadata": {},
   "source": [
    "A quick visualisation shows a regular mesh with a flat topography:"
   ]
  },
  {
   "cell_type": "code",
   "execution_count": null,
   "metadata": {
    "collapsed": true
   },
   "outputs": [],
   "source": [
    "import glucifer.lavavu as lavavu\n",
    "import glucifer"
   ]
  },
  {
   "cell_type": "code",
   "execution_count": null,
   "metadata": {
    "collapsed": true
   },
   "outputs": [],
   "source": [
    "from underworld.utils import is_kernel\n",
    "\n",
    "if is_kernel():\n",
    "\n",
    "    Fig = glucifer.Figure(background=\"#51576e\", border=False, axis=True)\n",
    "    Fig.append(glucifer.objects.Mesh(mesh, linesize=10, opacity=0.5, name=\"Mesh\"))\n",
    "\n",
    "    lv = Fig.viewer(show=False)\n",
    "    lv.control.Panel()\n",
    "    lv.control.Range(command='scale z', range=(1,10), step=0.1, value=5)\n",
    "    lv.control.ObjectList()\n",
    "    lv.control.show()"
   ]
  },
  {
   "cell_type": "markdown",
   "metadata": {},
   "source": [
    "## Deform the surface of the mesh according to Topography"
   ]
  },
  {
   "cell_type": "code",
   "execution_count": null,
   "metadata": {
    "collapsed": true
   },
   "outputs": [],
   "source": [
    "top = mesh.specialSets[\"MaxK_VertexSet\"]\n",
    "\n",
    "mesh.reset()\n",
    "with mesh.deform_mesh():\n",
    "    mesh.data[top.data, 2] = KingsCanyonElevation.flatten()"
   ]
  },
  {
   "cell_type": "code",
   "execution_count": null,
   "metadata": {
    "collapsed": true
   },
   "outputs": [],
   "source": [
    "if is_kernel():\n",
    "\n",
    "    Fig = glucifer.Figure(background=\"#51576e\", border=False, axis=True)\n",
    "    Fig.append(glucifer.objects.Mesh(mesh, linesize=10, opacity=0.5, name=\"Mesh\"))\n",
    "\n",
    "    lv = Fig.viewer(show=False)\n",
    "    lv.control.Panel()\n",
    "    lv.control.Range(command='scale z', range=(1,10), step=0.1, value=5)\n",
    "    lv.control.ObjectList()\n",
    "    lv.control.show()"
   ]
  },
  {
   "cell_type": "markdown",
   "metadata": {},
   "source": [
    "Now if you look carefully at the result, you will notice that only the nodes from the top row have been moved up or down in order to fit topography...\n",
    "There are several issues with that:\n",
    "\n",
    "* First of all, the top row elements are potentially going to be very deformed compared to the other elements. We want to keep those elements roughly the same size...\n",
    "    \n",
    "* Second, some nodes may have been moved below some of the nodes from the rows below..\n",
    "\n",
    "Visualisation of the Sydney Basin DEM shows exactly that: some of the nodes at the surface have been moved down below there underlying neighbors. The topology of the mesh is not respected, some elements overlay other elements... which is likely to lead to issues."
   ]
  },
  {
   "attachments": {},
   "cell_type": "markdown",
   "metadata": {},
   "source": [
    "![Depths2.png](./Images/Depths2.png)"
   ]
  },
  {
   "cell_type": "markdown",
   "metadata": {},
   "source": [
    "Here is the full code used to generate the figure:"
   ]
  },
  {
   "cell_type": "code",
   "execution_count": null,
   "metadata": {
    "collapsed": true
   },
   "outputs": [],
   "source": [
    "import underworld as uw\n",
    "\n",
    "ds = gdal.Open(os.path.join(inDir, SydneyBasin))\n",
    "nx, ny = ds.RasterXSize, ds.RasterYSize\n",
    "minX, dx, _, minY, _, dy = ds.GetGeoTransform()\n",
    "SydneyBasinElevation = ds.ReadAsArray()\n",
    "\n",
    "xdim = ds.RasterXSize * math.fabs(dx)\n",
    "ydim = ds.RasterYSize * math.fabs(dy)\n",
    "nz, zdim = 40, 40000 \n",
    "\n",
    "# We just set the origin to be at (0,0, -zdim)\n",
    "minX, minY, minZ = (0., 0., -zdim)\n",
    "maxX, maxY, maxZ = (xdim, ydim, 0.)\n",
    "\n",
    "mesh = uw.mesh.FeMesh_Cartesian(elementType=\"Q1\", elementRes=(nx - 1, ny - 1, nz - 1), minCoord = (minX, minY, minZ), maxCoord = (maxX, maxY, maxZ) )\n",
    "\n",
    "top = mesh.specialSets[\"MaxK_VertexSet\"]\n",
    "\n",
    "mesh.reset()\n",
    "with mesh.deform_mesh():\n",
    "    mesh.data[top.data, 2] = SydneyBasinElevation.flatten()\n",
    "    \n",
    "# Lets create an HDF and XDMF file to visualize in Paraview\n",
    "\n",
    "# Dummy field\n",
    "depths = uw.mesh.MeshVariable( mesh=mesh, nodeDofCount=1)\n",
    "for i, (x, y, z) in enumerate(mesh.data):\n",
    "    depths.data[i] = z\n",
    "    \n",
    "meshHandle = mesh.save(os.path.join(outDir, \"SydneyBasinBad.h5\"))\n",
    "dataHandle = depths.save(os.path.join(outDir, \"Depths.h5\"))\n",
    "depths.xdmf(os.path.join(outDir, 'SydneyBasinBad.xdmf'), dataHandle, 'Depths', meshHandle, 'Mesh', modeltime=0)"
   ]
  },
  {
   "cell_type": "markdown",
   "metadata": {},
   "source": [
    "You can visualize the result in the notebook as well, but I would recommend using Paraview as it is really difficult to see..."
   ]
  },
  {
   "cell_type": "code",
   "execution_count": null,
   "metadata": {
    "collapsed": true
   },
   "outputs": [],
   "source": [
    "if is_kernel():\n",
    "\n",
    "    Fig = glucifer.Figure(background=\"#51576e\", border=False, axis=True)\n",
    "    Fig.append(glucifer.objects.Mesh(mesh, linesize=10, opacity=0.5, name=\"Mesh\"))\n",
    "\n",
    "    lv = Fig.viewer(show=False)\n",
    "    lv.control.Panel()\n",
    "    lv.control.Range(command='scale z', range=(1,10), step=0.1, value=5)\n",
    "    lv.control.ObjectList()\n",
    "    lv.control.show()"
   ]
  },
  {
   "cell_type": "markdown",
   "metadata": {},
   "source": [
    "## How do we fix that?"
   ]
  },
  {
   "cell_type": "markdown",
   "metadata": {},
   "source": [
    "The solution consists in distributing the deformation over the height of the mesh. There are several ways to do that but an easy one is just to make sure that the spacing between nodes is constant along the z-axis (for each (x,y) locations)."
   ]
  },
  {
   "cell_type": "code",
   "execution_count": null,
   "metadata": {
    "collapsed": true
   },
   "outputs": [],
   "source": [
    "import numpy as np\n",
    "\n",
    "# Define a function to distribute points at equal spacing between bottom and top\n",
    "def my_func(a):\n",
    "    return np.linspace(-zdim, a.max(), nz)\n",
    "\n",
    "mesh.reset()\n",
    "# Apply that fonction to the z-axis\n",
    "with mesh.deform_mesh():\n",
    "    cube = mesh.data[:,2].reshape(nz, ny, nx)\n",
    "    mesh.data[:,2] = np.apply_along_axis(my_func, 0, cube).flatten()"
   ]
  },
  {
   "cell_type": "markdown",
   "metadata": {},
   "source": [
    "We thus obtain a mesh with some topography at the top. Note that the mesh is not regular anymore..."
   ]
  },
  {
   "cell_type": "code",
   "execution_count": null,
   "metadata": {
    "collapsed": true
   },
   "outputs": [],
   "source": [
    "meshHandle = mesh.save(os.path.join(outDir, \"SydneyBasinGood.h5\"))\n",
    "depths.xdmf(os.path.join(outDir, 'SydneyBasinGood.xdmf'), dataHandle, 'Depths', meshHandle, 'Mesh', modeltime=0)"
   ]
  },
  {
   "attachments": {},
   "cell_type": "markdown",
   "metadata": {},
   "source": [
    "![Depths3.png](./Images/Depths3.png)"
   ]
  },
  {
   "cell_type": "markdown",
   "metadata": {},
   "source": [
    "# Wrapping it up\n",
    "Now as GDAL accepts a wide range of format it is easy to build a general function that will allow you to load any kind of GDAL compatible dataset and create an Underworld mesh:"
   ]
  },
  {
   "cell_type": "code",
   "execution_count": null,
   "metadata": {
    "collapsed": true
   },
   "outputs": [],
   "source": [
    "import gdal\n",
    "import underworld as uw\n",
    "import glucifer\n",
    "import numpy as np\n",
    "\n",
    "import os\n",
    "\n",
    "inDir = \"./input/\"\n",
    "outDir = \"./outputs/\"\n",
    "\n",
    "if not os.path.exists(inDir):\n",
    "    os.makedirs(inDir)\n",
    "if not os.path.exists(outDir):\n",
    "    os.makedirs(outDir)\n",
    "\n",
    "def get_uw_mesh_from_DEM(DEMFile, nz, zdim):\n",
    "    def distribute(a):\n",
    "        return np.linspace(-zdim, a.max(), nz)\n",
    "\n",
    "    # open the dataset\n",
    "    ds = gdal.Open(DEMFile)\n",
    "    # Get dimension of the grid in x and y\n",
    "    nx, ny = ds.RasterXSize, ds.RasterYSize\n",
    "    # Get some additional information such as spacing in x (dx) and y (dy)\n",
    "    minX, dx, _, minY, _, dy = ds.GetGeoTransform()\n",
    "    # Read the data as a numpy array  \n",
    "    DEM = ds.ReadAsArray()\n",
    "    # Calculate ranges in x, y, and z-directions\n",
    "    xdim = ds.RasterXSize * np.abs(dx)\n",
    "    ydim = ds.RasterYSize * np.abs(dy) \n",
    "    # We just set the origin to be at (0,0, -zdim)\n",
    "    minX, minY, minZ = (0., 0., -zdim)\n",
    "    maxX, maxY, maxZ = (xdim, ydim, 0.)\n",
    "    \n",
    "    mesh = uw.mesh.FeMesh_Cartesian(elementType=\"Q1\", \n",
    "                                    elementRes=(nx-1, ny-1, nz-1),\n",
    "                                    minCoord = (minX, minY, minZ),\n",
    "                                    maxCoord = (maxX, maxY, maxZ))\n",
    "    \n",
    "    top = mesh.specialSets[\"MaxK_VertexSet\"]\n",
    "\n",
    "    with mesh.deform_mesh():\n",
    "        mesh.data[top.data, 2] = DEM.flatten()\n",
    "        \n",
    "    with mesh.deform_mesh():\n",
    "        cube = mesh.data[:,2].reshape(nz, ny, nx)\n",
    "        mesh.data[:,2] = np.apply_along_axis(distribute, 0, cube).flatten()\n",
    "        \n",
    "    return mesh"
   ]
  },
  {
   "cell_type": "code",
   "execution_count": null,
   "metadata": {
    "collapsed": true
   },
   "outputs": [],
   "source": [
    "mesh = get_uw_mesh_from_DEM(os.path.join(inDir,\"KingsCanyon.tif\"), 40, 40000)"
   ]
  },
  {
   "cell_type": "code",
   "execution_count": null,
   "metadata": {
    "collapsed": true
   },
   "outputs": [],
   "source": [
    "depths = uw.mesh.MeshVariable(mesh, nodeDofCount=1)\n",
    "depths.data[...] = mesh2.data[:,2][:,np.newaxis]\n",
    "\n",
    "mh = mesh.save(os.path.join(outDir, \"KingsCanyon.h5\"))\n",
    "th = depths.save(os.path.join(outDir, \"KingsCanyonDepths.h5\"))\n",
    "depths.xdmf(os.path.join(outDir, \"KingsCanyon.xdmf\"), th, \"Depths\", mh, \"mesh2\")"
   ]
  },
  {
   "cell_type": "code",
   "execution_count": null,
   "metadata": {
    "collapsed": true
   },
   "outputs": [],
   "source": [
    "if is_kernel():\n",
    "\n",
    "    Fig = glucifer.Figure(background=\"#51576e\", border=False, axis=True)\n",
    "    Fig.append(glucifer.objects.Mesh(mesh, linesize=10, opacity=0.7, name=\"Mesh\"))\n",
    "\n",
    "    lv = Fig.viewer(show=False)\n",
    "    lv.control.Panel()\n",
    "    lv.control.Range(command='scale z', range=(1,10), step=0.1, value=5)\n",
    "    lv.control.ObjectList()\n",
    "    lv.control.show()"
   ]
  },
  {
   "cell_type": "markdown",
   "metadata": {},
   "source": [
    "# Conclusion\n",
    "\n",
    "We have shown how to quickly build a python function that uses a regular Digital Elevation Model to initialise an Underworld mesh with some topography.  The function leverages the GDAL library to avoid common mistakes made when calculating parameters such as spacing, number of points etc... "
   ]
  }
 ],
 "metadata": {
  "kernelspec": {
   "display_name": "Python 2",
   "language": "python2",
   "name": "python2"
  },
  "language_info": {
   "codemirror_mode": {
    "name": "ipython",
    "version": 2
   },
   "file_extension": ".py",
   "mimetype": "text/x-python",
   "name": "python",
   "nbconvert_exporter": "python",
   "pygments_lexer": "ipython2",
   "version": "2.7.13"
  }
 },
 "nbformat": 4,
 "nbformat_minor": 2
}
