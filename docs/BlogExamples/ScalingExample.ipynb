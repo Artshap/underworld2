{
 "cells": [
  {
   "cell_type": "markdown",
   "metadata": {},
   "source": [
    "# How to use physical units and scaling in Underworld 2?\n",
    "\n",
    "## A Thermal Convection example \n",
    "\n",
    "Romain Beucher\n",
    "\n",
    "[mailto:romain.beucher@unimelb.edu.au]"
   ]
  },
  {
   "cell_type": "markdown",
   "metadata": {},
   "source": [
    "I have written a small python module which leverages Pint, a python package used to define and manipulate physical units (https://pint.readthedocs.io). Pint uses a system of unit registries to define a large set of units and most of their prefixes. A Pint Quantity object is a physical value which as a specific  unit attached to itself. Quantity objects can be use in mathematical expressions which also return Quantities in appropriate units."
   ]
  },
  {
   "cell_type": "markdown",
   "metadata": {},
   "source": [
    "First of all make sure that you have Pint install on your system. The easiest is to use *pip* in a terminal:\n",
    "\n",
    "```\n",
    "[sudo] pip install pint\n",
    "```\n"
   ]
  },
  {
   "cell_type": "markdown",
   "metadata": {},
   "source": [
    "The scaling submodule can then be imported as follow:"
   ]
  },
  {
   "cell_type": "code",
   "execution_count": 1,
   "metadata": {
    "collapsed": true
   },
   "outputs": [
    {
     "name": "stderr",
     "output_type": "stream",
     "text": [
      "/home/romain/Developement/UNDERWORLD/underworld2/unsupported/scaling/__init__.py:11: UserWarning: \n",
      "\n",
      "The scaling module is not supported.\n",
      "\n",
      "It requires 'pint' as a dependency.\n",
      "\n",
      "You can install pint by running:\n",
      "\n",
      "'pip install pint' in a terminal\n",
      "\n",
      "Questions should be addressed to romain.beucher@unimelb.edu.au \n",
      " \n",
      "  Questions should be addressed to romain.beucher@unimelb.edu.au \\n \"\"\"\n"
     ]
    }
   ],
   "source": [
    "import unsupported.scaling as sca"
   ]
  },
  {
   "cell_type": "markdown",
   "metadata": {},
   "source": [
    "The module gives you access to a Pint UnitRegistry which is basically a registry of all units available through Pint.\n",
    "\n",
    "Lets create an alias to make the following steps easier to read:"
   ]
  },
  {
   "cell_type": "code",
   "execution_count": 2,
   "metadata": {
    "collapsed": true
   },
   "outputs": [],
   "source": [
    "u = sca.UnitRegistry"
   ]
  },
  {
   "cell_type": "markdown",
   "metadata": {},
   "source": [
    "You can now define quantities as follow:"
   ]
  },
  {
   "cell_type": "code",
   "execution_count": 3,
   "metadata": {
    "collapsed": true
   },
   "outputs": [],
   "source": [
    "length = 1.0 * u.nautical_mile\n",
    "length = 1.0 * u.parsec\n",
    "length = 1.0 * u.kilometer\n",
    "\n",
    "width = 2.0 * u.kilometer"
   ]
  },
  {
   "cell_type": "markdown",
   "metadata": {},
   "source": [
    "The *length* and *width* objects are Pint Quantity. I strongly encourage you to explore their different attributes and methods. Use <kbd>tab</kbd> + <kbd>tab</kbd> after the <kbd>.</kbd> to get a list of all the options available.\n"
   ]
  },
  {
   "cell_type": "code",
   "execution_count": 4,
   "metadata": {},
   "outputs": [
    {
     "name": "stdout",
     "output_type": "stream",
     "text": [
      "[length]\n",
      "1.0\n",
      "kilometer\n"
     ]
    }
   ],
   "source": [
    "print length.dimensionality\n",
    "print length.magnitude\n",
    "print length.units"
   ]
  },
  {
   "cell_type": "markdown",
   "metadata": {},
   "source": [
    "Units are not important here. You can use whatever you want, you can even define your own:"
   ]
  },
  {
   "cell_type": "code",
   "execution_count": 5,
   "metadata": {
    "collapsed": true
   },
   "outputs": [],
   "source": [
    "u.define('distance_to_coffee_machine = 57.34 * meters = dtcm')"
   ]
  },
  {
   "cell_type": "code",
   "execution_count": 6,
   "metadata": {},
   "outputs": [
    {
     "name": "stdout",
     "output_type": "stream",
     "text": [
      "3.2 distance_to_coffee_machine\n"
     ]
    }
   ],
   "source": [
    "length = 3.2 * u.distance_to_coffee_machine\n",
    "print length"
   ]
  },
  {
   "cell_type": "markdown",
   "metadata": {},
   "source": [
    "And you can of course convert between units:"
   ]
  },
  {
   "cell_type": "code",
   "execution_count": 7,
   "metadata": {},
   "outputs": [
    {
     "name": "stdout",
     "output_type": "stream",
     "text": [
      "183.488 meter\n"
     ]
    }
   ],
   "source": [
    "length = length.to(u.meter)\n",
    "print length"
   ]
  },
  {
   "cell_type": "markdown",
   "metadata": {},
   "source": [
    "Pint Quantities can be used to calculate derived quantities:"
   ]
  },
  {
   "cell_type": "code",
   "execution_count": 8,
   "metadata": {},
   "outputs": [
    {
     "name": "stdout",
     "output_type": "stream",
     "text": [
      "area = 366.976 kilometer * meter\n"
     ]
    }
   ],
   "source": [
    "area = length * width\n",
    "print \"area = {0}\".format(area) "
   ]
  },
  {
   "cell_type": "markdown",
   "metadata": {},
   "source": [
    "# Underworld"
   ]
  },
  {
   "cell_type": "markdown",
   "metadata": {},
   "source": [
    "Now the Underworld function will not accept pint Quantities as input (yet).\n",
    "That is where the scaling comes to play."
   ]
  },
  {
   "cell_type": "code",
   "execution_count": 9,
   "metadata": {
    "collapsed": true
   },
   "outputs": [],
   "source": [
    "import underworld as uw"
   ]
  },
  {
   "cell_type": "markdown",
   "metadata": {},
   "source": [
    "Lets assume that you want a build a simple thermal convection model such as the one in the examples but with some physical units instead of dimensionless values.\n",
    "\n",
    "The example solves 2D dimensionless isoviscous thermal convection with a Rayleigh number of $10^4$, see Blankenbach *et al.* 1989 for details.\n",
    "\n",
    "Here are the physical dimension of out model."
   ]
  },
  {
   "cell_type": "code",
   "execution_count": 10,
   "metadata": {
    "collapsed": true
   },
   "outputs": [],
   "source": [
    "# Set simulation box size.\n",
    "boxHeight = 1000. * u.kilometer\n",
    "boxLength = 2e6 * u.meter\n",
    "# Set min/max temperatures.\n",
    "tempMin = 273.15 * u.degK\n",
    "tempMax = 1473.15 * u.degK\n",
    "viscosity = 2.5e19 * u.pascal / u.second\n",
    "gravity = 9.81 * u.metre**2 / u.second"
   ]
  },
  {
   "cell_type": "markdown",
   "metadata": {},
   "source": [
    "By default the scaling module gives you a set of scaling coefficient used to normalize your values. It can be accessed as follow:"
   ]
  },
  {
   "cell_type": "code",
   "execution_count": 11,
   "metadata": {},
   "outputs": [
    {
     "data": {
      "text/plain": [
       "{'[length]': <Quantity(1.0, 'meter')>,\n",
       " '[mass]': <Quantity(1.0, 'kilogram')>,\n",
       " '[substance]': <Quantity(1.0, 'mole')>,\n",
       " '[temperature]': <Quantity(1.0, 'kelvin')>,\n",
       " '[time]': <Quantity(1.0, 'second')>}"
      ]
     },
     "execution_count": 11,
     "metadata": {},
     "output_type": "execute_result"
    }
   ],
   "source": [
    "sca.scaling"
   ]
  },
  {
   "cell_type": "markdown",
   "metadata": {},
   "source": [
    "You can see that 5 fundamental dimensions have been defined in term of [Length], [Mass], [Temperature], [Time] and [Substance], following Pint convention.\n",
    "\n",
    "The scaling coefficients are all equal to 1 by default. Now you can redefine the dimension above so that they can be used in Underworld. The nonDimensinalize function takes makes sure that all units are converted into the SI unit system. "
   ]
  },
  {
   "cell_type": "code",
   "execution_count": 12,
   "metadata": {
    "collapsed": true
   },
   "outputs": [],
   "source": [
    "boxHeight = sca.nonDimensionalize(boxHeight)\n",
    "boxLength = sca.nonDimensionalize(boxLength)\n",
    "tempMin   = sca.nonDimensionalize(tempMin) \n",
    "tempMax   = sca.nonDimensionalize(tempMax)\n",
    "viscosity = sca.nonDimensionalize(viscosity)\n",
    "gravity   = sca.nonDimensionalize(gravity)"
   ]
  },
  {
   "cell_type": "code",
   "execution_count": 13,
   "metadata": {},
   "outputs": [
    {
     "name": "stdout",
     "output_type": "stream",
     "text": [
      "boxHeight = 1000000.0\n",
      "boxLength = 2000000.0\n",
      "tempMin   = 273.15\n",
      "tempMax   = 1473.15\n",
      "viscosity = 2.5e+19\n",
      "gravity = 9.81\n"
     ]
    }
   ],
   "source": [
    "print \"boxHeight = {0}\".format(boxHeight)\n",
    "print \"boxLength = {0}\".format(boxLength)\n",
    "print \"tempMin   = {0}\".format(tempMin)\n",
    "print \"tempMax   = {0}\".format(tempMax)\n",
    "print \"viscosity = {0}\".format(viscosity)\n",
    "print \"gravity = {0}\".format(gravity)"
   ]
  },
  {
   "cell_type": "markdown",
   "metadata": {},
   "source": [
    "All the values above are dimensionless. They have been normalized using the values of the scaling dictionary. Units have been uniformised into the SI system.\n",
    "\n",
    "Now, we can use the characteritic physical dimensions of our model to define a new set of scaling coefficients such that the length, the temperature gradient and the viscosity are all equal to one."
   ]
  },
  {
   "cell_type": "code",
   "execution_count": 14,
   "metadata": {},
   "outputs": [
    {
     "name": "stdout",
     "output_type": "stream",
     "text": [
      "boxHeight = 1.0\n",
      "boxLength = 2.0\n",
      "tempMin   = 0.227625\n",
      "tempMax   = 1.227625\n",
      "viscosity = 1.0\n",
      "gravity = 1.0\n"
     ]
    }
   ],
   "source": [
    "boxHeight = 1000. * u.kilometer\n",
    "boxLength = 2e6 * u.meter\n",
    "tempMin = 273.15 * u.degK\n",
    "tempMax = 1473.15 * u.degK\n",
    "viscosity = 2.5e19 * u.pascal * u.second\n",
    "gravity = 9.81 * u.metre**2 / u.second\n",
    "\n",
    "KL = boxHeight\n",
    "KT = tempMax - tempMin\n",
    "Kt = gravity**-1 * KL**2\n",
    "KM = viscosity * KL * Kt\n",
    "\n",
    "# The call to the to_base_units() function is not necessary, but it is useful to check the coefficients.\n",
    "\n",
    "sca.scaling[\"[length]\"] = KL.to_base_units()\n",
    "sca.scaling[\"[temperature]\"] = KT.to_base_units()\n",
    "sca.scaling[\"[time]\"] = Kt.to_base_units()\n",
    "sca.scaling[\"[mass]\"] = KM.to_base_units()\n",
    "\n",
    "boxHeight = sca.nonDimensionalize(boxHeight)\n",
    "boxLength = sca.nonDimensionalize(boxLength)\n",
    "tempMin   = sca.nonDimensionalize(tempMin) \n",
    "tempMax   = sca.nonDimensionalize(tempMax)\n",
    "viscosity = sca.nonDimensionalize(viscosity)\n",
    "gravity   = sca.nonDimensionalize(gravity)\n",
    "\n",
    "print \"boxHeight = {0}\".format(boxHeight)\n",
    "print \"boxLength = {0}\".format(boxLength)\n",
    "print \"tempMin   = {0}\".format(tempMin)\n",
    "print \"tempMax   = {0}\".format(tempMax)\n",
    "print \"viscosity = {0}\".format(viscosity)\n",
    "print \"gravity = {0}\".format(gravity)"
   ]
  },
  {
   "cell_type": "markdown",
   "metadata": {},
   "source": [
    "To go back to dimension units, one can call the Dimensionalize function:"
   ]
  },
  {
   "cell_type": "code",
   "execution_count": 15,
   "metadata": {},
   "outputs": [
    {
     "name": "stdout",
     "output_type": "stream",
     "text": [
      "boxHeight in Kilometers: 1000.0 kilometer\n",
      "boxHeight in dtcm: 17439.8325776 distance_to_coffee_machine\n"
     ]
    }
   ],
   "source": [
    "print \"boxHeight in Kilometers: {0}\".format(sca.Dimensionalize(boxHeight, units=u.kilometer))\n",
    "print \"boxHeight in dtcm: {0}\".format(sca.Dimensionalize(boxHeight, units=u.dtcm))"
   ]
  },
  {
   "cell_type": "markdown",
   "metadata": {},
   "source": [
    "From now one, any new quantity must be scaled using a call to sca.nonDimenionalize, this makes sure that the value is properly scaled."
   ]
  },
  {
   "cell_type": "code",
   "execution_count": 16,
   "metadata": {},
   "outputs": [
    {
     "name": "stdout",
     "output_type": "stream",
     "text": [
      "Thermal Conductivity = 1.49631998803e-06\n"
     ]
    }
   ],
   "source": [
    "thermal_conductivity =  sca.nonDimensionalize(3.0 * u.watt / u.meter / u.degK)\n",
    "print \"Thermal Conductivity = {0}\".format(thermal_conductivity)"
   ]
  },
  {
   "cell_type": "markdown",
   "metadata": {},
   "source": [
    "# Thermal Convection Model"
   ]
  },
  {
   "cell_type": "markdown",
   "metadata": {},
   "source": [
    "Back to our thermal convection example"
   ]
  },
  {
   "cell_type": "code",
   "execution_count": 17,
   "metadata": {
    "collapsed": true
   },
   "outputs": [],
   "source": [
    "import underworld as uw\n",
    "from underworld import function as fn\n",
    "import glucifer\n",
    "import math"
   ]
  },
  {
   "cell_type": "code",
   "execution_count": 18,
   "metadata": {
    "collapsed": true
   },
   "outputs": [],
   "source": [
    "nd = sca.nonDimensionalize"
   ]
  },
  {
   "cell_type": "code",
   "execution_count": 19,
   "metadata": {},
   "outputs": [
    {
     "name": "stdout",
     "output_type": "stream",
     "text": [
      "boxHeight = 1.0\n",
      "boxLength = 2.0\n",
      "tempMin   = 0.227625\n",
      "tempMax   = 1.227625\n",
      "viscosity = 1.0\n",
      "gravity = 1.0\n"
     ]
    }
   ],
   "source": [
    "boxHeight = 1000. * u.kilometer\n",
    "boxLength = 2e6 * u.meter\n",
    "tempMin = 273.15 * u.degK\n",
    "tempMax = 1473.15 * u.degK\n",
    "viscosity = 2.5e19 * u.pascal * u.second\n",
    "gravity = 9.81 * u.metre**2 / u.second\n",
    "\n",
    "KL = boxHeight\n",
    "KT = tempMax - tempMin\n",
    "Kt = gravity**-1 * KL**2\n",
    "KM = viscosity * KL * Kt\n",
    "\n",
    "# The call to the to_base_units() function is not necessary, but it is useful to check the coefficients.\n",
    "\n",
    "sca.scaling[\"[length]\"] = KL.to_base_units()\n",
    "sca.scaling[\"[temperature]\"] = KT.to_base_units()\n",
    "sca.scaling[\"[time]\"] = Kt.to_base_units()\n",
    "sca.scaling[\"[mass]\"] = KM.to_base_units()\n",
    "\n",
    "boxHeight = sca.nonDimensionalize(boxHeight)\n",
    "boxLength = sca.nonDimensionalize(boxLength)\n",
    "tempMin   = sca.nonDimensionalize(tempMin) \n",
    "tempMax   = sca.nonDimensionalize(tempMax)\n",
    "viscosity = sca.nonDimensionalize(viscosity)\n",
    "gravity   = sca.nonDimensionalize(gravity)\n",
    "\n",
    "print \"boxHeight = {0}\".format(boxHeight)\n",
    "print \"boxLength = {0}\".format(boxLength)\n",
    "print \"tempMin   = {0}\".format(tempMin)\n",
    "print \"tempMax   = {0}\".format(tempMax)\n",
    "print \"viscosity = {0}\".format(viscosity)\n",
    "print \"gravity = {0}\".format(gravity)"
   ]
  },
  {
   "cell_type": "code",
   "execution_count": 20,
   "metadata": {
    "collapsed": true
   },
   "outputs": [],
   "source": [
    "conductivity =  nd(3.0 * u.watt / u.meter / u.delta_degC)\n",
    "density = nd(3300. * u.kilogram * u.meter**3)\n",
    "capacity = nd(914 * u.joules / u.kelvin / u.kilogram)\n",
    "\n",
    "diffusivity = conductivity / (density * capacity)"
   ]
  },
  {
   "cell_type": "code",
   "execution_count": 21,
   "metadata": {
    "collapsed": true
   },
   "outputs": [],
   "source": [
    "# Set the resolution.\n",
    "resx = 32\n",
    "resy = 16"
   ]
  },
  {
   "cell_type": "markdown",
   "metadata": {},
   "source": [
    "We create the mesh"
   ]
  },
  {
   "cell_type": "code",
   "execution_count": 22,
   "metadata": {
    "collapsed": true
   },
   "outputs": [],
   "source": [
    "mesh = uw.mesh.FeMesh_Cartesian( elementType = (\"Q1/dQ0\"), \n",
    "                                 elementRes  = (resx, resy), \n",
    "                                 minCoord    = (0., 0.), \n",
    "                                 maxCoord    = (boxLength, boxHeight))"
   ]
  },
  {
   "cell_type": "code",
   "execution_count": 23,
   "metadata": {
    "collapsed": true
   },
   "outputs": [],
   "source": [
    "velocityField       = uw.mesh.MeshVariable( mesh=mesh,         nodeDofCount=2 )\n",
    "pressureField       = uw.mesh.MeshVariable( mesh=mesh.subMesh, nodeDofCount=1 )\n",
    "temperatureField    = uw.mesh.MeshVariable( mesh=mesh,         nodeDofCount=1 )\n",
    "temperatureDotField = uw.mesh.MeshVariable( mesh=mesh,         nodeDofCount=1 )\n",
    "\n",
    "# Initialise values\n",
    "velocityField.data[...]       =  nd(0. * u.meter / u.second)\n",
    "pressureField.data[...]       = nd(0. * u.megapascal)\n",
    "temperatureDotField.data[...] = nd(0.)"
   ]
  },
  {
   "cell_type": "code",
   "execution_count": 24,
   "metadata": {
    "collapsed": true
   },
   "outputs": [],
   "source": [
    "# Rayleigh number.\n",
    "Ra = 1.0e4\n",
    "\n",
    "# Construct our density function.\n",
    "densityFn = Ra * temperatureField\n",
    "\n",
    "# Define our vertical unit vector using a python tuple (this will be automatically converted to a function).\n",
    "z_hat = ( 0.0, -gravity )\n",
    "\n",
    "# Now create a buoyancy force vector using the density and the vertical unit vector. \n",
    "buoyancyFn = densityFn * z_hat"
   ]
  },
  {
   "cell_type": "markdown",
   "metadata": {},
   "source": [
    "Create initial & boundary conditions\n",
    "----------\n",
    "\n",
    "Set a sinusoidal perturbation in the temperature field to seed the onset of convection."
   ]
  },
  {
   "cell_type": "code",
   "execution_count": 25,
   "metadata": {
    "collapsed": true
   },
   "outputs": [],
   "source": [
    "pertStrength = 0.2\n",
    "deltaTemp = tempMax - tempMin\n",
    "for index, coord in enumerate(mesh.data):\n",
    "    pertCoeff = math.cos( math.pi * coord[0] ) * math.sin( math.pi * coord[1] )\n",
    "    temperatureField.data[index] = tempMin + deltaTemp*(boxHeight - coord[1]) + pertStrength * pertCoeff\n",
    "    temperatureField.data[index] = max(tempMin, min(tempMax, temperatureField.data[index]))"
   ]
  },
  {
   "cell_type": "markdown",
   "metadata": {},
   "source": [
    "Set top and bottom wall temperature boundary values."
   ]
  },
  {
   "cell_type": "code",
   "execution_count": 26,
   "metadata": {
    "collapsed": true
   },
   "outputs": [],
   "source": [
    "for index in mesh.specialSets[\"MinJ_VertexSet\"]:\n",
    "    temperatureField.data[index] = tempMax\n",
    "for index in mesh.specialSets[\"MaxJ_VertexSet\"]:\n",
    "    temperatureField.data[index] = tempMin"
   ]
  },
  {
   "cell_type": "markdown",
   "metadata": {},
   "source": [
    "Construct sets for ``I`` (vertical) and ``J`` (horizontal) walls."
   ]
  },
  {
   "cell_type": "code",
   "execution_count": 27,
   "metadata": {
    "collapsed": true
   },
   "outputs": [],
   "source": [
    "iWalls = mesh.specialSets[\"MinI_VertexSet\"] + mesh.specialSets[\"MaxI_VertexSet\"]\n",
    "jWalls = mesh.specialSets[\"MinJ_VertexSet\"] + mesh.specialSets[\"MaxJ_VertexSet\"]"
   ]
  },
  {
   "cell_type": "markdown",
   "metadata": {},
   "source": [
    "Create Direchlet, or fixed value, boundary conditions. More information on setting boundary conditions can be found in the **Systems** section of the user guide."
   ]
  },
  {
   "cell_type": "code",
   "execution_count": 28,
   "metadata": {
    "collapsed": true
   },
   "outputs": [],
   "source": [
    "# 2D velocity vector can have two Dirichlet conditions on each vertex, \n",
    "# v_x is fixed on the iWalls (vertical), v_y is fixed on the jWalls (horizontal)\n",
    "velBC  = uw.conditions.DirichletCondition( variable        = velocityField, \n",
    "                                           indexSetsPerDof = (iWalls, jWalls) )\n",
    "\n",
    "# Temperature is held constant on the jWalls\n",
    "tempBC = uw.conditions.DirichletCondition( variable        = temperatureField, \n",
    "                                           indexSetsPerDof = (jWalls,) )"
   ]
  },
  {
   "cell_type": "markdown",
   "metadata": {},
   "source": [
    "**Render initial conditions for temperature**"
   ]
  },
  {
   "cell_type": "code",
   "execution_count": 29,
   "metadata": {},
   "outputs": [
    {
     "data": {
      "text/html": [
       "<img src='data:image/png;base64,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'>"
      ],
      "text/plain": [
       "<IPython.core.display.HTML object>"
      ]
     },
     "metadata": {},
     "output_type": "display_data"
    }
   ],
   "source": [
    "figtemp = glucifer.Figure( figsize=(800,400) )\n",
    "figtemp.append( glucifer.objects.Surface(mesh, sca.Dimensionalize(temperatureField, u.degC), colours=\"blue white red\") )\n",
    "figtemp.append( glucifer.objects.Mesh(mesh) )\n",
    "figtemp.show()"
   ]
  },
  {
   "cell_type": "markdown",
   "metadata": {},
   "source": [
    "System setup\n",
    "-----\n",
    "\n",
    "**Setup a Stokes system**\n",
    "\n",
    "Underworld uses the Stokes system to solve the incompressible Stokes equations.  "
   ]
  },
  {
   "cell_type": "code",
   "execution_count": 30,
   "metadata": {
    "collapsed": true
   },
   "outputs": [],
   "source": [
    "stokes = uw.systems.Stokes( velocityField = velocityField, \n",
    "                            pressureField = pressureField,\n",
    "                            conditions    = velBC,\n",
    "                            fn_viscosity  = viscosity, \n",
    "                            fn_bodyforce  = buoyancyFn )\n",
    "\n",
    "# get the default stokes equation solver\n",
    "solver = uw.systems.Solver( stokes )"
   ]
  },
  {
   "cell_type": "markdown",
   "metadata": {},
   "source": [
    "**Set up the advective diffusive system**\n",
    "\n",
    "Underworld uses the AdvectionDiffusion system to solve the temperature field given heat transport through the velocity field. More information on the advection diffusion equation can be found [here](https://en.wikipedia.org/wiki/Convection%E2%80%93diffusion_equation)."
   ]
  },
  {
   "cell_type": "code",
   "execution_count": 31,
   "metadata": {
    "collapsed": true
   },
   "outputs": [],
   "source": [
    "advDiff = uw.systems.AdvectionDiffusion( phiField       = temperatureField, \n",
    "                                         phiDotField    = temperatureDotField, \n",
    "                                         velocityField  = velocityField, \n",
    "                                         fn_diffusivity = diffusivity, \n",
    "                                         conditions     = tempBC )"
   ]
  },
  {
   "cell_type": "markdown",
   "metadata": {},
   "source": [
    "Main time stepping loop\n",
    "-----"
   ]
  },
  {
   "cell_type": "code",
   "execution_count": 32,
   "metadata": {
    "collapsed": true
   },
   "outputs": [],
   "source": [
    "surfaceArea = uw.utils.Integral(fn=1.0,mesh=mesh, integrationType='surface', surfaceIndexSet=mesh.specialSets[\"MaxJ_VertexSet\"])\n",
    "surfacePressureIntegral = uw.utils.Integral(fn=pressureField, mesh=mesh, integrationType='surface', surfaceIndexSet=mesh.specialSets[\"MaxJ_VertexSet\"])"
   ]
  },
  {
   "cell_type": "code",
   "execution_count": 33,
   "metadata": {
    "collapsed": true
   },
   "outputs": [],
   "source": [
    "# define an update function\n",
    "def update():\n",
    "    # Retrieve the maximum possible timestep for the advection-diffusion system.\n",
    "    dt = advDiff.get_max_dt()\n",
    "    # Advect using this timestep size.\n",
    "    advDiff.integrate(dt)\n",
    "    \n",
    "    # pressure correction\n",
    "    (area,) = surfaceArea.evaluate()\n",
    "    (p0,) = surfacePressureIntegral.evaluate() \n",
    "    pressureField.data[:] = pressureField.data[:] -(p0 / area)   \n",
    "    \n",
    "    return time+dt, step+1"
   ]
  },
  {
   "cell_type": "code",
   "execution_count": 34,
   "metadata": {
    "collapsed": true
   },
   "outputs": [],
   "source": [
    "# init these guys\n",
    "time = 0.\n",
    "step = 0\n",
    "steps_end = 20\n",
    "\n",
    "# perform timestepping\n",
    "while step < steps_end:\n",
    "    # Solve for the velocity field given the current temperature field.\n",
    "    solver.solve()\n",
    "    time, step = update()"
   ]
  },
  {
   "cell_type": "markdown",
   "metadata": {},
   "source": [
    "**Plot final temperature and velocity field**"
   ]
  },
  {
   "cell_type": "code",
   "execution_count": 35,
   "metadata": {},
   "outputs": [
    {
     "data": {
      "text/html": [
       "<img src='data:image/png;base64,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'>"
      ],
      "text/plain": [
       "<IPython.core.display.HTML object>"
      ]
     },
     "metadata": {},
     "output_type": "display_data"
    }
   ],
   "source": [
    "# plot figure\n",
    "figtemp = glucifer.Figure( figsize=(800,400) )\n",
    "figtemp.append( glucifer.objects.Surface(mesh, sca.Dimensionalize(temperatureField, u.degC), colours=\"blue white red\") )\n",
    "figtemp.append( glucifer.objects.VectorArrows(mesh, velocityField/20.0, arrowHead=0.2, scaling=0.1) )\n",
    "figtemp.show()"
   ]
  }
 ],
 "metadata": {
  "kernelspec": {
   "display_name": "Python 2",
   "language": "python2",
   "name": "python2"
  },
  "language_info": {
   "codemirror_mode": {
    "name": "ipython",
    "version": 2
   },
   "file_extension": ".py",
   "mimetype": "text/x-python",
   "name": "python",
   "nbconvert_exporter": "python",
   "pygments_lexer": "ipython2",
   "version": "2.7.13"
  }
 },
 "nbformat": 4,
 "nbformat_minor": 2
}
