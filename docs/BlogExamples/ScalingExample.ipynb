{
 "cells": [
  {
   "cell_type": "markdown",
   "metadata": {},
   "source": [
    "A thermal convection example illustrating scaling in Underworld2\n",
    "====== "
   ]
  },
  {
   "cell_type": "markdown",
   "metadata": {},
   "source": [
    "I have written a small python module which leverages [Pint](https://pint.readthedocs.io), a python package used to define and manipulate physical units. Pint uses a system of unit registries to define a large set of units and most of their prefixes. A Pint Quantity object is a physical value with a specific unit attached to itself. Quantity objects can be used in mathematical expressions and return Quantities in appropriate units.\n",
    "\n",
    "Romain Beucher\n",
    "[mailto:romain.beucher@unimelb.edu.au]"
   ]
  },
  {
   "cell_type": "markdown",
   "metadata": {},
   "source": [
    "First of all make sure that you have Pint installed on your system. \n",
    "The easiest is to use *pip* in a terminal:\n",
    "\n",
    "```\n",
    "[sudo] pip install pint\n",
    "```\n"
   ]
  },
  {
   "cell_type": "markdown",
   "metadata": {},
   "source": [
    "The scaling submodule can then be imported as follow:"
   ]
  },
  {
   "cell_type": "code",
   "execution_count": 1,
   "metadata": {
    "collapsed": false
   },
   "outputs": [
    {
     "name": "stderr",
     "output_type": "stream",
     "text": [
      "/Users/rfarrington/Underworld/Underworld2-bleeding-2/unsupported/scaling/__init__.py:11: UserWarning: \n",
      "\n",
      "The scaling module is not supported.\n",
      "\n",
      "It requires 'pint' as a dependency.\n",
      "\n",
      "You can install pint by running:\n",
      "\n",
      "'pip install pint' in a terminal\n",
      "\n",
      "Questions should be addressed to romain.beucher@unimelb.edu.au \n",
      " \n",
      "  Questions should be addressed to romain.beucher@unimelb.edu.au \\n \"\"\"\n"
     ]
    }
   ],
   "source": [
    "import unsupported.scaling as sca"
   ]
  },
  {
   "cell_type": "markdown",
   "metadata": {},
   "source": [
    "The module gives you access to a Pint UnitRegistry which is basically a registry of all units available through Pint."
   ]
  },
  {
   "cell_type": "markdown",
   "metadata": {},
   "source": [
    "Lets create an alias to make the following steps easier to read:"
   ]
  },
  {
   "cell_type": "code",
   "execution_count": 2,
   "metadata": {
    "collapsed": true
   },
   "outputs": [],
   "source": [
    "u = sca.UnitRegistry"
   ]
  },
  {
   "cell_type": "markdown",
   "metadata": {},
   "source": [
    "You can now define quantities as follow:"
   ]
  },
  {
   "cell_type": "code",
   "execution_count": 3,
   "metadata": {
    "collapsed": true
   },
   "outputs": [],
   "source": [
    "length = 1.0 * u.nautical_mile\n",
    "length = 1.0 * u.parsec\n",
    "length = 1.0 * u.kilometer\n",
    "\n",
    "width  = 2.0 * u.kilometer"
   ]
  },
  {
   "cell_type": "markdown",
   "metadata": {},
   "source": [
    "The *length* and *width* objects are Pint Quantities. I strongly encourage you to explore their different attributes and methods. Use <kbd>tab</kbd> + <kbd>tab</kbd> after the <kbd>.</kbd> to get a list of all the options available.\n"
   ]
  },
  {
   "cell_type": "code",
   "execution_count": 4,
   "metadata": {
    "collapsed": false
   },
   "outputs": [
    {
     "name": "stdout",
     "output_type": "stream",
     "text": [
      "[length]\n",
      "1.0\n",
      "kilometer\n"
     ]
    }
   ],
   "source": [
    "print length.dimensionality\n",
    "print length.magnitude\n",
    "print length.units"
   ]
  },
  {
   "cell_type": "markdown",
   "metadata": {},
   "source": [
    "Units are not important here. You can use whatever you want, you can even define your own:"
   ]
  },
  {
   "cell_type": "code",
   "execution_count": 5,
   "metadata": {
    "collapsed": true
   },
   "outputs": [],
   "source": [
    "u.define('distance_to_coffee_machine = 57.34 * meters = dtcm')"
   ]
  },
  {
   "cell_type": "code",
   "execution_count": 6,
   "metadata": {
    "collapsed": false
   },
   "outputs": [
    {
     "name": "stdout",
     "output_type": "stream",
     "text": [
      "3.2 distance_to_coffee_machine\n"
     ]
    }
   ],
   "source": [
    "length = 3.2 * u.distance_to_coffee_machine\n",
    "print length"
   ]
  },
  {
   "cell_type": "markdown",
   "metadata": {},
   "source": [
    "And you can of course convert between units:"
   ]
  },
  {
   "cell_type": "code",
   "execution_count": 7,
   "metadata": {
    "collapsed": false
   },
   "outputs": [
    {
     "name": "stdout",
     "output_type": "stream",
     "text": [
      "183.488 meter\n"
     ]
    }
   ],
   "source": [
    "length = length.to(u.meter)\n",
    "print length"
   ]
  },
  {
   "cell_type": "markdown",
   "metadata": {},
   "source": [
    "Pint Quantities can be used to calculate derived quantities:"
   ]
  },
  {
   "cell_type": "code",
   "execution_count": 8,
   "metadata": {
    "collapsed": false
   },
   "outputs": [
    {
     "name": "stdout",
     "output_type": "stream",
     "text": [
      "area = 366.976 kilometer * meter\n"
     ]
    }
   ],
   "source": [
    "area = length * width\n",
    "print \"area = {0}\".format(area) "
   ]
  },
  {
   "cell_type": "markdown",
   "metadata": {},
   "source": [
    "Using Pint with Underworld\n",
    "====="
   ]
  },
  {
   "cell_type": "markdown",
   "metadata": {},
   "source": [
    "Note Underworld does not accept pint Quantities as input (yet).\n",
    "That is where the scaling comes to play."
   ]
  },
  {
   "cell_type": "markdown",
   "metadata": {},
   "source": [
    "Lets assume that you want a build a simple thermal convection model but with some physical units instead of dimensionless values. The example solves 2D dimensionless isoviscous thermal convection with a Rayleigh number of $10^4$, see Blankenbach *et al.* 1989 for details. "
   ]
  },
  {
   "cell_type": "markdown",
   "metadata": {},
   "source": [
    "Here are the physical dimension of our model."
   ]
  },
  {
   "cell_type": "code",
   "execution_count": 9,
   "metadata": {
    "collapsed": false
   },
   "outputs": [],
   "source": [
    "# Set simulation box size.\n",
    "boxHeight = 1000. * u.kilometer\n",
    "boxLength = 2000. * u.kilometer\n",
    "# Set min/max temperatures.\n",
    "tempMin   =  273.15 * u.degK\n",
    "tempMax   = 1273.15 * u.degK\n",
    "viscosity = 2.5e19  * u.pascal   * u.second\n",
    "gravity   = 9.81    * u.metre**2 / u.second"
   ]
  },
  {
   "cell_type": "markdown",
   "metadata": {},
   "source": [
    "By default the scaling module gives you a set of scaling coefficients to normalize your values. \n",
    "It can be accessed as follow:"
   ]
  },
  {
   "cell_type": "code",
   "execution_count": 10,
   "metadata": {
    "collapsed": false
   },
   "outputs": [
    {
     "data": {
      "text/plain": [
       "{'[length]': <Quantity(1.0, 'meter')>,\n",
       " '[mass]': <Quantity(1.0, 'kilogram')>,\n",
       " '[substance]': <Quantity(1.0, 'mole')>,\n",
       " '[temperature]': <Quantity(1.0, 'kelvin')>,\n",
       " '[time]': <Quantity(1.0, 'second')>}"
      ]
     },
     "execution_count": 10,
     "metadata": {},
     "output_type": "execute_result"
    }
   ],
   "source": [
    "sca.scaling"
   ]
  },
  {
   "cell_type": "markdown",
   "metadata": {},
   "source": [
    "You can see that 5 fundamental dimensions have been defined in terms of [Length], [Mass], [Temperature], [Time] and [Substance], following Pint convention."
   ]
  },
  {
   "cell_type": "markdown",
   "metadata": {},
   "source": [
    "The scaling coefficients are all equal to 1 by default. \n",
    "Now you can redefine the models physical dimensions to be used by Underworld. The nonDimensinalize function ensures all units are converted into the SI unit system. "
   ]
  },
  {
   "cell_type": "code",
   "execution_count": 11,
   "metadata": {
    "collapsed": true
   },
   "outputs": [],
   "source": [
    "boxHeight = sca.nonDimensionalize(boxHeight)\n",
    "boxLength = sca.nonDimensionalize(boxLength)\n",
    "tempMin   = sca.nonDimensionalize(tempMin) \n",
    "tempMax   = sca.nonDimensionalize(tempMax)\n",
    "viscosity = sca.nonDimensionalize(viscosity)\n",
    "gravity   = sca.nonDimensionalize(gravity)"
   ]
  },
  {
   "cell_type": "code",
   "execution_count": 12,
   "metadata": {
    "collapsed": false
   },
   "outputs": [
    {
     "name": "stdout",
     "output_type": "stream",
     "text": [
      "boxHeight = 1000000.0\n",
      "boxLength = 2000000.0\n",
      "tempMin   = 273.15\n",
      "tempMax   = 1273.15\n",
      "viscosity = 2.5e+19\n",
      "gravity   = 9.81\n"
     ]
    }
   ],
   "source": [
    "print \"boxHeight = {0}\".format(boxHeight)\n",
    "print \"boxLength = {0}\".format(boxLength)\n",
    "print \"tempMin   = {0}\".format(tempMin)\n",
    "print \"tempMax   = {0}\".format(tempMax)\n",
    "print \"viscosity = {0}\".format(viscosity)\n",
    "print \"gravity   = {0}\".format(gravity)"
   ]
  },
  {
   "cell_type": "markdown",
   "metadata": {},
   "source": [
    "All the values above are dimensionless. \n",
    "They have been normalized using the values from the scaling dictionary and uniformised into the SI system."
   ]
  },
  {
   "cell_type": "markdown",
   "metadata": {},
   "source": [
    "We can use this same process to define a different scaling, with length, the temperature gradient and the viscosity are all equal to one. Let's start by redefining the model parameters."
   ]
  },
  {
   "cell_type": "code",
   "execution_count": 13,
   "metadata": {
    "collapsed": true
   },
   "outputs": [],
   "source": [
    "# re-defining the parameters as above\n",
    "boxHeight = 1000.   * u.kilometer\n",
    "boxLength = 2000.   * u.kilometer\n",
    "tempMin   =  273.15 * u.degK\n",
    "tempMax   = 1273.15 * u.degK\n",
    "viscosity = 2.5e19  * u.pascal   * u.second\n",
    "gravity   = 9.81    * u.metre**2 / u.second"
   ]
  },
  {
   "cell_type": "markdown",
   "metadata": {},
   "source": [
    "We can know define some scaling cooefficients"
   ]
  },
  {
   "cell_type": "code",
   "execution_count": 14,
   "metadata": {
    "collapsed": true
   },
   "outputs": [],
   "source": [
    "# define scaling coefficients\n",
    "KL = boxHeight\n",
    "KT = tempMax - tempMin\n",
    "Kt = gravity**-1 * KL**2\n",
    "KM = viscosity * KL * Kt"
   ]
  },
  {
   "cell_type": "markdown",
   "metadata": {},
   "source": [
    "Let's check the scaling coefficients"
   ]
  },
  {
   "cell_type": "code",
   "execution_count": 15,
   "metadata": {
    "collapsed": false
   },
   "outputs": [
    {
     "data": {
      "text/plain": [
       "{'[length]': <Quantity(1000000.0, 'meter')>,\n",
       " '[mass]': <Quantity(2.54841997961e+36, 'kilogram')>,\n",
       " '[substance]': <Quantity(1.0, 'mole')>,\n",
       " '[temperature]': <Quantity(1000.0, 'kelvin')>,\n",
       " '[time]': <Quantity(1.01936799185e+11, 'second')>}"
      ]
     },
     "execution_count": 15,
     "metadata": {},
     "output_type": "execute_result"
    }
   ],
   "source": [
    "sca.scaling[\"[length]\"]      = KL.to_base_units()\n",
    "sca.scaling[\"[temperature]\"] = KT.to_base_units()\n",
    "sca.scaling[\"[time]\"]        = Kt.to_base_units()\n",
    "sca.scaling[\"[mass]\"]        = KM.to_base_units()\n",
    "\n",
    "sca.scaling"
   ]
  },
  {
   "cell_type": "markdown",
   "metadata": {},
   "source": [
    "We can now nondimensionalize the model parameters"
   ]
  },
  {
   "cell_type": "code",
   "execution_count": 16,
   "metadata": {
    "collapsed": false
   },
   "outputs": [],
   "source": [
    "boxHeight = sca.nonDimensionalize(boxHeight)\n",
    "boxLength = sca.nonDimensionalize(boxLength)\n",
    "tempMin   = sca.nonDimensionalize(tempMin) \n",
    "tempMax   = sca.nonDimensionalize(tempMax)\n",
    "viscosity = sca.nonDimensionalize(viscosity)\n",
    "gravity   = sca.nonDimensionalize(gravity)"
   ]
  },
  {
   "cell_type": "code",
   "execution_count": 17,
   "metadata": {
    "collapsed": false
   },
   "outputs": [
    {
     "name": "stdout",
     "output_type": "stream",
     "text": [
      "boxHeight = 1.0\n",
      "boxLength = 2.0\n",
      "tempMin   = 0.27315\n",
      "tempMax   = 1.27315\n",
      "viscosity = 1.0\n",
      "gravity   = 1.0\n"
     ]
    }
   ],
   "source": [
    "print \"boxHeight = {0}\".format(boxHeight)\n",
    "print \"boxLength = {0}\".format(boxLength)\n",
    "print \"tempMin   = {0}\".format(tempMin)\n",
    "print \"tempMax   = {0}\".format(tempMax)\n",
    "print \"viscosity = {0}\".format(viscosity)\n",
    "print \"gravity   = {0}\".format(gravity)"
   ]
  },
  {
   "cell_type": "markdown",
   "metadata": {},
   "source": [
    "To go back to dimension units, call the Dimensionalize function:"
   ]
  },
  {
   "cell_type": "code",
   "execution_count": 18,
   "metadata": {
    "collapsed": false
   },
   "outputs": [
    {
     "name": "stdout",
     "output_type": "stream",
     "text": [
      "boxHeight in Kilometers: 1000.0 kilometer\n",
      "boxHeight in dtcm: 17439.8325776 distance_to_coffee_machine\n"
     ]
    }
   ],
   "source": [
    "print \"boxHeight in Kilometers: {0}\".format(sca.Dimensionalize(boxHeight, units=u.kilometer))\n",
    "print \"boxHeight in dtcm: {0}\".format(sca.Dimensionalize(boxHeight, units=u.dtcm))"
   ]
  },
  {
   "cell_type": "markdown",
   "metadata": {},
   "source": [
    "From now on, any new quantity must be scaled using a call to sca.nonDimenionalize, this makes sure that the value is properly scaled."
   ]
  },
  {
   "cell_type": "code",
   "execution_count": 19,
   "metadata": {
    "collapsed": false
   },
   "outputs": [
    {
     "name": "stdout",
     "output_type": "stream",
     "text": [
      "Thermal Conductivity = 1.24693332336e-06\n"
     ]
    }
   ],
   "source": [
    "thermal_conductivity =  sca.nonDimensionalize(3.0 * u.watt / u.meter / u.degK)\n",
    "print \"Thermal Conductivity = {0}\".format(thermal_conductivity)"
   ]
  },
  {
   "cell_type": "markdown",
   "metadata": {},
   "source": [
    "# Thermal Convection Model"
   ]
  },
  {
   "cell_type": "markdown",
   "metadata": {},
   "source": [
    "Back to our thermal convection example, using the previously defined model parameters"
   ]
  },
  {
   "cell_type": "code",
   "execution_count": 20,
   "metadata": {
    "collapsed": true
   },
   "outputs": [],
   "source": [
    "import underworld as uw\n",
    "from underworld import function as fn\n",
    "import glucifer\n",
    "import math"
   ]
  },
  {
   "cell_type": "code",
   "execution_count": 21,
   "metadata": {
    "collapsed": true
   },
   "outputs": [],
   "source": [
    "nd = sca.nonDimensionalize"
   ]
  },
  {
   "cell_type": "code",
   "execution_count": 22,
   "metadata": {
    "collapsed": true
   },
   "outputs": [],
   "source": [
    "conductivity = nd(3.    * u.watt / u.meter / u.delta_degC)\n",
    "density      = nd(3300. * u.kilogram * u.meter**3)\n",
    "capacity     = nd(914.  * u.joules / u.kelvin / u.kilogram)\n",
    "\n",
    "diffusivity  = conductivity / (density * capacity)"
   ]
  },
  {
   "cell_type": "code",
   "execution_count": 23,
   "metadata": {
    "collapsed": true
   },
   "outputs": [],
   "source": [
    "# Set the resolution.\n",
    "resx = 32\n",
    "resy = 16"
   ]
  },
  {
   "cell_type": "markdown",
   "metadata": {},
   "source": [
    "We create the mesh"
   ]
  },
  {
   "cell_type": "code",
   "execution_count": 24,
   "metadata": {
    "collapsed": true
   },
   "outputs": [],
   "source": [
    "mesh = uw.mesh.FeMesh_Cartesian( elementType = (\"Q1/dQ0\"), \n",
    "                                 elementRes  = (resx, resy), \n",
    "                                 minCoord    = (0., 0.), \n",
    "                                 maxCoord    = (boxLength, boxHeight))"
   ]
  },
  {
   "cell_type": "code",
   "execution_count": 25,
   "metadata": {
    "collapsed": true
   },
   "outputs": [],
   "source": [
    "velocityField       = uw.mesh.MeshVariable( mesh=mesh,         nodeDofCount=2 )\n",
    "pressureField       = uw.mesh.MeshVariable( mesh=mesh.subMesh, nodeDofCount=1 )\n",
    "temperatureField    = uw.mesh.MeshVariable( mesh=mesh,         nodeDofCount=1 )\n",
    "temperatureDotField = uw.mesh.MeshVariable( mesh=mesh,         nodeDofCount=1 )\n",
    "\n",
    "# Initialise values\n",
    "velocityField.data[...]       = nd(0. * u.meter / u.second)\n",
    "pressureField.data[...]       = nd(0. * u.megapascal)\n",
    "temperatureDotField.data[...] = nd(0.)"
   ]
  },
  {
   "cell_type": "code",
   "execution_count": 26,
   "metadata": {
    "collapsed": true
   },
   "outputs": [],
   "source": [
    "# Rayleigh number.\n",
    "Ra = 1.0e4\n",
    "\n",
    "# Construct our density function.\n",
    "densityFn = Ra * temperatureField\n",
    "\n",
    "# Define our vertical unit vector using a python tuple (this will be automatically converted to a function).\n",
    "z_hat = ( 0.0, gravity )\n",
    "\n",
    "# Now create a buoyancy force vector using the density and the vertical unit vector. \n",
    "buoyancyFn = densityFn * z_hat"
   ]
  },
  {
   "cell_type": "markdown",
   "metadata": {},
   "source": [
    "Create initial & boundary conditions\n",
    "----------\n",
    "\n",
    "Set a sinusoidal perturbation in the temperature field to seed the onset of convection."
   ]
  },
  {
   "cell_type": "code",
   "execution_count": 27,
   "metadata": {
    "collapsed": true
   },
   "outputs": [],
   "source": [
    "pertStrength = 0.2\n",
    "deltaTemp = tempMax - tempMin\n",
    "for index, coord in enumerate(mesh.data):\n",
    "    pertCoeff = math.cos( math.pi * coord[0] ) * math.sin( math.pi * coord[1] )\n",
    "    temperatureField.data[index] = tempMin + deltaTemp*(boxHeight - coord[1]) + pertStrength * pertCoeff\n",
    "    temperatureField.data[index] = max(tempMin, min(tempMax, temperatureField.data[index]))"
   ]
  },
  {
   "cell_type": "markdown",
   "metadata": {},
   "source": [
    "Set top and bottom wall temperature boundary values."
   ]
  },
  {
   "cell_type": "code",
   "execution_count": 28,
   "metadata": {
    "collapsed": true
   },
   "outputs": [],
   "source": [
    "for index in mesh.specialSets[\"MinJ_VertexSet\"]:\n",
    "    temperatureField.data[index] = tempMax\n",
    "for index in mesh.specialSets[\"MaxJ_VertexSet\"]:\n",
    "    temperatureField.data[index] = tempMin"
   ]
  },
  {
   "cell_type": "markdown",
   "metadata": {},
   "source": [
    "Construct sets for ``I`` (vertical) and ``J`` (horizontal) walls."
   ]
  },
  {
   "cell_type": "code",
   "execution_count": 29,
   "metadata": {
    "collapsed": true
   },
   "outputs": [],
   "source": [
    "iWalls = mesh.specialSets[\"MinI_VertexSet\"] + mesh.specialSets[\"MaxI_VertexSet\"]\n",
    "jWalls = mesh.specialSets[\"MinJ_VertexSet\"] + mesh.specialSets[\"MaxJ_VertexSet\"]"
   ]
  },
  {
   "cell_type": "markdown",
   "metadata": {},
   "source": [
    "Create Direchlet, or fixed value, boundary conditions. More information on setting boundary conditions can be found in the **Systems** section of the user guide."
   ]
  },
  {
   "cell_type": "code",
   "execution_count": 30,
   "metadata": {
    "collapsed": true
   },
   "outputs": [],
   "source": [
    "# 2D velocity vector can have two Dirichlet conditions on each vertex, \n",
    "# v_x is fixed on the iWalls (vertical), v_y is fixed on the jWalls (horizontal)\n",
    "velBC  = uw.conditions.DirichletCondition( variable        = velocityField, \n",
    "                                           indexSetsPerDof = (iWalls, jWalls) )\n",
    "\n",
    "# Temperature is held constant on the jWalls\n",
    "tempBC = uw.conditions.DirichletCondition( variable        = temperatureField, \n",
    "                                           indexSetsPerDof = (jWalls,) )"
   ]
  },
  {
   "cell_type": "markdown",
   "metadata": {},
   "source": [
    "**Render initial conditions for temperature**"
   ]
  },
  {
   "cell_type": "code",
   "execution_count": 31,
   "metadata": {
    "collapsed": false
   },
   "outputs": [
    {
     "data": {
      "text/html": [
       "<img src='data:image/png;base64,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'>"
      ],
      "text/plain": [
       "<IPython.core.display.HTML object>"
      ]
     },
     "metadata": {},
     "output_type": "display_data"
    }
   ],
   "source": [
    "figtemp = glucifer.Figure( figsize=(800,400) )\n",
    "figtemp.append( glucifer.objects.Surface(mesh, sca.Dimensionalize(temperatureField, u.degC), colours=\"blue white red\") )\n",
    "figtemp.append( glucifer.objects.Mesh(mesh) )\n",
    "figtemp.show()"
   ]
  },
  {
   "cell_type": "markdown",
   "metadata": {},
   "source": [
    "System setup\n",
    "-----\n",
    "\n",
    "**Setup a Stokes system**\n",
    "\n",
    "Underworld uses the Stokes system to solve the incompressible Stokes equations.  "
   ]
  },
  {
   "cell_type": "code",
   "execution_count": 32,
   "metadata": {
    "collapsed": true
   },
   "outputs": [],
   "source": [
    "stokes = uw.systems.Stokes( velocityField = velocityField, \n",
    "                            pressureField = pressureField,\n",
    "                            conditions    = velBC,\n",
    "                            fn_viscosity  = viscosity, \n",
    "                            fn_bodyforce  = buoyancyFn )\n",
    "\n",
    "# get the default stokes equation solver\n",
    "solver = uw.systems.Solver( stokes )"
   ]
  },
  {
   "cell_type": "markdown",
   "metadata": {},
   "source": [
    "**Set up the advective diffusive system**\n",
    "\n",
    "Underworld uses the AdvectionDiffusion system to solve the temperature field given heat transport through the velocity field. More information on the advection diffusion equation can be found [here](https://en.wikipedia.org/wiki/Convection%E2%80%93diffusion_equation)."
   ]
  },
  {
   "cell_type": "code",
   "execution_count": 33,
   "metadata": {
    "collapsed": true
   },
   "outputs": [],
   "source": [
    "advDiff = uw.systems.AdvectionDiffusion( phiField       = temperatureField, \n",
    "                                         phiDotField    = temperatureDotField, \n",
    "                                         velocityField  = velocityField, \n",
    "                                         fn_diffusivity = diffusivity, \n",
    "                                         conditions     = tempBC )"
   ]
  },
  {
   "cell_type": "markdown",
   "metadata": {},
   "source": [
    "Main time stepping loop\n",
    "-----"
   ]
  },
  {
   "cell_type": "code",
   "execution_count": 34,
   "metadata": {
    "collapsed": true
   },
   "outputs": [],
   "source": [
    "surfaceArea = uw.utils.Integral(fn=1.0,mesh=mesh, integrationType='surface', surfaceIndexSet=mesh.specialSets[\"MaxJ_VertexSet\"])\n",
    "surfacePressureIntegral = uw.utils.Integral(fn=pressureField, mesh=mesh, integrationType='surface', surfaceIndexSet=mesh.specialSets[\"MaxJ_VertexSet\"])"
   ]
  },
  {
   "cell_type": "code",
   "execution_count": 35,
   "metadata": {
    "collapsed": true
   },
   "outputs": [],
   "source": [
    "# define an update function\n",
    "def update():\n",
    "    # Retrieve the maximum possible timestep for the advection-diffusion system.\n",
    "    dt = advDiff.get_max_dt()\n",
    "    # Advect using this timestep size.\n",
    "    advDiff.integrate(dt)\n",
    "    \n",
    "    # pressure correction\n",
    "    (area,) = surfaceArea.evaluate()\n",
    "    (p0,) = surfacePressureIntegral.evaluate() \n",
    "    pressureField.data[:] = pressureField.data[:] -(p0 / area)   \n",
    "    \n",
    "    return time+dt, step+1"
   ]
  },
  {
   "cell_type": "code",
   "execution_count": 36,
   "metadata": {
    "collapsed": true
   },
   "outputs": [],
   "source": [
    "# init these guys\n",
    "time = 0.\n",
    "step = 0\n",
    "steps_end = 20\n",
    "\n",
    "# perform timestepping\n",
    "while step < steps_end:\n",
    "    # Solve for the velocity field given the current temperature field.\n",
    "    solver.solve()\n",
    "    time, step = update()"
   ]
  },
  {
   "cell_type": "markdown",
   "metadata": {},
   "source": [
    "**Plot final temperature and velocity field**"
   ]
  },
  {
   "cell_type": "code",
   "execution_count": 37,
   "metadata": {
    "collapsed": false
   },
   "outputs": [
    {
     "data": {
      "text/html": [
       "<img src='data:image/png;base64,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'>"
      ],
      "text/plain": [
       "<IPython.core.display.HTML object>"
      ]
     },
     "metadata": {},
     "output_type": "display_data"
    }
   ],
   "source": [
    "# plot figure\n",
    "figtemp = glucifer.Figure( figsize=(800,400) )\n",
    "figtemp.append( glucifer.objects.Surface(mesh, sca.Dimensionalize(temperatureField, u.degC), colours=\"blue white red\") )\n",
    "figtemp.append( glucifer.objects.VectorArrows(mesh, velocityField/20.0, arrowHead=0.2, scaling=0.1) )\n",
    "figtemp.show()"
   ]
  },
  {
   "cell_type": "code",
   "execution_count": null,
   "metadata": {
    "collapsed": true
   },
   "outputs": [],
   "source": []
  }
 ],
 "metadata": {
  "kernelspec": {
   "display_name": "Python 2",
   "language": "python",
   "name": "python2"
  },
  "language_info": {
   "codemirror_mode": {
    "name": "ipython",
    "version": 2
   },
   "file_extension": ".py",
   "mimetype": "text/x-python",
   "name": "python",
   "nbconvert_exporter": "python",
   "pygments_lexer": "ipython2",
   "version": "2.7.11"
  }
 },
 "nbformat": 4,
 "nbformat_minor": 2
}
