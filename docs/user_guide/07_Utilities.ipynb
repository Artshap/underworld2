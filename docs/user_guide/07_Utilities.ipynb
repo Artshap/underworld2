{
 "cells": [
  {
   "cell_type": "markdown",
   "metadata": {},
   "source": [
    "Utilities\n",
    "============\n",
    "\n",
    "**This notebook demonstrates the following functionality in Underworld:**\n",
    "\n",
    "1. Evaluating Volumes integrals\n",
    "2. Evaluating Surface integrals\n",
    "3. Checkpoing, a.k.a saving and loading data\n",
    "4. Writing XDMF files\n",
    "\n",
    "**Keywords:** checkpointing, utilities, volume integrals, surface integrals, xdmf\n",
    "\n"
   ]
  },
  {
   "cell_type": "code",
   "execution_count": null,
   "metadata": {
    "collapsed": false
   },
   "outputs": [],
   "source": [
    "import underworld as uw\n",
    "from underworld import function as fn\n",
    "import glucifer\n",
    "import math"
   ]
  },
  {
   "cell_type": "markdown",
   "metadata": {},
   "source": [
    "**Setup basic system**\n",
    "\n",
    "Make up some temperature and velocity field examples."
   ]
  },
  {
   "cell_type": "code",
   "execution_count": null,
   "metadata": {
    "collapsed": false
   },
   "outputs": [],
   "source": [
    "mesh = uw.mesh.FeMesh_Cartesian( elementType = (\"Q1/dQ0\"), \n",
    "                                 elementRes  = (32, 32), \n",
    "                                 minCoord    = (0., 0.), \n",
    "                                 maxCoord    = (1., 1.))\n",
    "temperatureField = uw.mesh.MeshVariable( mesh=mesh, nodeDofCount=1 )\n",
    "velocityField    = uw.mesh.MeshVariable( mesh=mesh, nodeDofCount=2 )\n",
    "\n",
    "boxMid = (0.5, 0.5)\n",
    "alpha = 4.0\n",
    "tempMax = 1.0\n",
    "velMax = 1.0\n",
    "for index, coord in enumerate(mesh.data):\n",
    "    temperatureField.data[index] = tempMax * (1. - coord[1])\n",
    "    \n",
    "    xoffset = (coord[0]-boxMid[0], coord[1]-boxMid[1])\n",
    "    r2      = xoffset[0]*xoffset[0] + xoffset[1]*xoffset[1]\n",
    "    \n",
    "    theta   = math.atan2(xoffset[1], xoffset[0])\n",
    "    vmag    = velMax * math.exp(-(r2*alpha)**2.0)\n",
    "    \n",
    "    velocityField.data[index][0] = vmag  * (math.sin( theta ))\n",
    "    velocityField.data[index][1] = -vmag * (math.cos( theta ))"
   ]
  },
  {
   "cell_type": "markdown",
   "metadata": {},
   "source": [
    "Plot temperature and velocity field"
   ]
  },
  {
   "cell_type": "code",
   "execution_count": null,
   "metadata": {
    "collapsed": false
   },
   "outputs": [],
   "source": [
    "fig1 = glucifer.Figure()\n",
    "velmagfield = uw.function.math.sqrt( uw.function.math.dot( velocityField, velocityField ) )\n",
    "fig1.append( glucifer.objects.VectorArrows(mesh, velocityField/(1.5*velMax), arrowHead=0.2, scaling=0.1) )\n",
    "fig1.append( glucifer.objects.Surface( mesh, temperatureField, colours=\"blue white red\" ) )\n",
    "fig1.show()"
   ]
  },
  {
   "cell_type": "markdown",
   "metadata": {},
   "source": [
    "Evaluating Volume integrals\n",
    "-------\n",
    "\n",
    "To demonstrate we will evaluate the **root mean squared** (RMS) velocity, defined by: \n",
    "\\\\[\n",
    "\\begin{aligned}\n",
    "v_{rms} & =  \\sqrt{ \\frac{ \\int_V (\\mathbf{v}.\\mathbf{v}) dV } {\\int_V dV} }\n",
    "\\end{aligned}\n",
    "\\\\]\n",
    "\n",
    "using the `Integral` class, which coordinates both the numerical integration and parallelism required. \n",
    "\n"
   ]
  },
  {
   "cell_type": "code",
   "execution_count": null,
   "metadata": {
    "collapsed": true
   },
   "outputs": [],
   "source": [
    "vdotv = fn.math.dot( velocityField, velocityField )\n",
    "v2sum_integral  = uw.utils.Integral( mesh=mesh, fn=vdotv )\n",
    "volume_integral = uw.utils.Integral( mesh=mesh, fn=1. )"
   ]
  },
  {
   "cell_type": "markdown",
   "metadata": {},
   "source": [
    "A function is created to define an integrand, eg. $ {\\bf v} \\cdot {\\bf v} $, which is passed into the `Integral` class along with the mesh that discretises the domain.  \n",
    "The integrand is integrated over each element of the mesh and the results are summed to evaluate the domain integral.  \n",
    "   \n",
    "A combination of ``Integral``s is used to evalute the RMS velocity."
   ]
  },
  {
   "cell_type": "code",
   "execution_count": null,
   "metadata": {
    "collapsed": false
   },
   "outputs": [],
   "source": [
    "v2sum  = v2sum_integral.evaluate()\n",
    "volume = volume_integral.evaluate()\n",
    "v_rms  = math.sqrt( v2sum[0] )/volume[0]\n",
    "print('RMS velocity = {0:.3f}'.format(v_rms))"
   ]
  },
  {
   "cell_type": "markdown",
   "metadata": {},
   "source": [
    "**Volume integral of a subsection**\n",
    "\n",
    "To evaluate an integral over a subsection we use the ``fn.branching.conditionl()`` to evaluate to zero when outside our subsection and non-zero inside our subsection. Here we demonstrate by calculating a circle's area."
   ]
  },
  {
   "cell_type": "code",
   "execution_count": null,
   "metadata": {
    "collapsed": false
   },
   "outputs": [],
   "source": [
    "# parameters for a circle.\n",
    "sphereRadius = 0.1\n",
    "sphereCentre = (0.5, 0.5)\n",
    "\n",
    "def circleFnGenerator(centre, radius):\n",
    "    # if fn.coord() is inside circle return True ; otherwise False\n",
    "    coord    = fn.coord()\n",
    "    offsetFn = coord - centre\n",
    "    return     fn.math.dot( offsetFn, offsetFn ) < radius**2\n",
    "\n",
    "# setup a function that is 1 if the coordinates, are inside the circle, and zero otherwise.\n",
    "conditions     = [ ( circleFnGenerator( sphereCentre, sphereRadius) , 1.0), \n",
    "                   ( True                                           , 0.0) ]\n",
    "kernelFunction = fn.branching.conditional( conditions )"
   ]
  },
  {
   "cell_type": "markdown",
   "metadata": {},
   "source": [
    "Integrating over this function, over the entire mesh, will give the area of the circle ($\\pi r^2$)."
   ]
  },
  {
   "cell_type": "code",
   "execution_count": null,
   "metadata": {
    "collapsed": false
   },
   "outputs": [],
   "source": [
    "area            = math.pi * (sphereRadius**2.0)\n",
    "volume_integral = uw.utils.Integral( mesh=mesh, fn=kernelFunction )\n",
    "volume          = volume_integral.evaluate()\n",
    "print('Mesh resolution    = {0:4d}'.format(mesh.elementRes[0]))\n",
    "print('Area from integral = {0:6.8e}'.format(volume[0]))\n",
    "print('Area from theory   = {0:6.8e}'.format(area))\n",
    "print('Error |(int-th)|   = {0:6.8e}'.format(math.fabs(volume[0] - area)) )\n"
   ]
  },
  {
   "cell_type": "markdown",
   "metadata": {},
   "source": [
    "**Source of error**\n",
    "\n",
    "Notice that the area is not exactly as expected. This is due to the mesh resolution not properly resolving the edges of the circle. This effect is clear in the figure below where the relative error is plotted against the mesh resolution.\n",
    "![](Figures/ResError.png)\n",
    "The integral functions evaluate the function along the mesh vertices of a cartesian coordinate grid. So if the circle only has a few mesh vertices inside it then the calculated area of the circle will be very inaccurate."
   ]
  },
  {
   "cell_type": "markdown",
   "metadata": {},
   "source": [
    "**Average of a quantity over a shape**\n",
    "\n",
    "We can use the same kernel function approach to calculate the average of a quantity (say temperature) over a specified volume/shape. This is equivalent to finding the mean of a quantity ($T$) using\n",
    "$$\n",
    "    T_{mean} = \\int T( {\\bf x} ) f( {\\bf x} ) d{\\bf x}\n",
    "$$\n",
    "where ${\\bf x}$ denotes a position in space and $f({\\bf x})$ is the kernel function which defines the boundary of the shape. This function can also be used to provide a weighted average."
   ]
  },
  {
   "cell_type": "code",
   "execution_count": null,
   "metadata": {
    "collapsed": false
   },
   "outputs": [],
   "source": [
    "volume_integral = uw.utils.Integral( mesh=mesh, fn=kernelFunction*temperatureField )\n",
    "volume = volume_integral.evaluate()\n",
    "print('Average temperature inside circle from integral = {0:6.8e}'.format(volume[0]))"
   ]
  },
  {
   "cell_type": "markdown",
   "metadata": {},
   "source": [
    "Surface integrals\n",
    "------\n",
    "\n",
    "**Nusselt number**\n",
    "\n",
    "In convection models the Nusselt number is a useful diagnostic, measuring the ration between convective and conductive heat transfer.\n",
    "\n",
    "\\\\[\n",
    "Nu = -h \\frac{ \\int_0^l \\partial_z T (x, z=h) dx}{ \\int_0^l T (x, z=0) dx}\n",
    "\\\\]\n",
    "where $h$/$l$ is the height/length of the simulation domain.\n",
    "\n",
    "These two integrals are solved in the following cell using the temperature field and it's associated gradient. The vertical component (in 2D) of the gradient function can be accessed by the index 1, while the horizontal (x component) is index 0.\n",
    "\n",
    "Note that surface integrals can only be used along special set mesh indices, i.e. the boundaries."
   ]
  },
  {
   "cell_type": "code",
   "execution_count": null,
   "metadata": {
    "collapsed": true
   },
   "outputs": [],
   "source": [
    "nuTop    = uw.utils.Integral( fn=temperatureField.fn_gradient[1], \n",
    "                              mesh=mesh, integrationType='Surface', \n",
    "                              surfaceIndexSet=mesh.specialSets[\"MaxJ_VertexSet\"])\n",
    "\n",
    "nuBottom = uw.utils.Integral( fn=temperatureField,               \n",
    "                              mesh=mesh, integrationType='Surface', \n",
    "                              surfaceIndexSet=mesh.specialSets[\"MinJ_VertexSet\"])"
   ]
  },
  {
   "cell_type": "markdown",
   "metadata": {},
   "source": [
    "Once again we activate these integrals using the ``evaluate`` function."
   ]
  },
  {
   "cell_type": "code",
   "execution_count": null,
   "metadata": {
    "collapsed": false
   },
   "outputs": [],
   "source": [
    "nu = - nuTop.evaluate()[0]/nuBottom.evaluate()[0]\n",
    "print('Nusselt number = {0:.6f}'.format(nu))"
   ]
  },
  {
   "cell_type": "markdown",
   "metadata": {},
   "source": [
    "As with the volume integral the same method of changing the function to be integrated over can be used to integrate over sub sets of the surface of interest. "
   ]
  },
  {
   "cell_type": "markdown",
   "metadata": {},
   "source": [
    "Checkpointing \n",
    "-----\n",
    "\n",
    "Checkpointing is the saving and reloading of numerical data to and from disk.  \n",
    "The following Underworld data structures have checkpointing functionality: \n",
    " * `SwarmVariables` \n",
    " * `Swarm`\n",
    " * `MeshVariables`\n",
    " * `Mesh`\n",
    "\n",
    "All checkpoint files are in [hdf5](https://www.hdfgroup.org/HDF5/) format.\n",
    "\n",
    "*Note*: When loading `SwarmVariable` the associate `Swarm` must be loaded **before** the `SwarmVariable`.  \n",
    "When loading a `MeshVariable` the associated `Mesh` is only required to be loaded before if you are reloading onto a mesh of different resolution (variable interpolation is required)"
   ]
  },
  {
   "cell_type": "code",
   "execution_count": null,
   "metadata": {
    "collapsed": true
   },
   "outputs": [],
   "source": [
    "outputPath = 'checkpointing/'\n",
    "# Make output directory if necessary\n",
    "import os\n",
    "if not os.path.exists(outputPath):\n",
    "    os.makedirs(outputPath)"
   ]
  },
  {
   "cell_type": "markdown",
   "metadata": {},
   "source": [
    "**SwarmVariable**\n",
    "\n",
    "Below a `Swarm` and a `SwarmVariable`, are created and saved to disk, then a new swarm loads the data from disk.\n",
    "\n",
    "\n",
    "* Save the swarm information to disk using the `save()` method on the `Swarm` and `SwarmVariable` objects.  \n",
    "   Note the handle object that is returned from the `save()` method. This is currently used for `xdmf()` operation, see below.\n",
    "* Load the swarm information from disk using the `load()` method on the `Swarm` and `SwarmVariable` objects\n",
    "\n",
    "\n",
    "**Note** : The `save()` & `load()` operations must be called by all processors\n"
   ]
  },
  {
   "cell_type": "code",
   "execution_count": null,
   "metadata": {
    "collapsed": true
   },
   "outputs": [],
   "source": [
    "swarm1    = uw.swarm.Swarm(mesh)\n",
    "swarm1var = swarm1.add_variable(dataType='int', count=1)\n",
    "layout    = uw.swarm.layouts.GlobalSpaceFillerLayout(swarm1,particlesPerCell=5)\n",
    "swarm1.populate_using_layout(layout)"
   ]
  },
  {
   "cell_type": "code",
   "execution_count": null,
   "metadata": {
    "collapsed": false
   },
   "outputs": [],
   "source": [
    "# evaluate kernalFunction for each particle in swarm1, record result in swarmvar1\n",
    "swarm1var.data[:] = kernelFunction.evaluate(swarm1.particleCoordinates.data)"
   ]
  },
  {
   "cell_type": "code",
   "execution_count": null,
   "metadata": {
    "collapsed": false,
    "scrolled": true
   },
   "outputs": [],
   "source": [
    "fig = glucifer.Figure()\n",
    "fig.append( glucifer.objects.Mesh(mesh) )\n",
    "fig.append( glucifer.objects.Points(swarm1, fn_colour=swarm1var, pointSize=6.0 ) )\n",
    "fig.show()"
   ]
  },
  {
   "cell_type": "code",
   "execution_count": null,
   "metadata": {
    "collapsed": false
   },
   "outputs": [],
   "source": [
    "s1Hnd  = swarm1.save(outputPath+'swarm.h5')\n",
    "s1vHnd = swarm1var.save(outputPath+'swarmvar.h5')\n",
    "\n",
    "# new swarm\n",
    "swarm2    = uw.swarm.Swarm(mesh)\n",
    "swarm2var = swarm2.add_variable(dataType='int', count=1)\n",
    "swarm2.load(outputPath+'swarm.h5')\n",
    "swarm2var.load(outputPath+'swarmvar.h5')"
   ]
  },
  {
   "cell_type": "code",
   "execution_count": null,
   "metadata": {
    "collapsed": false
   },
   "outputs": [],
   "source": [
    "import numpy as np\n",
    "print \"Are the swarm variables close? ...\", np.allclose( swarm2var.data[:], swarm1var.data[:] )\n",
    "print \"Are the swarm particle coordinates close? ... \", np.allclose( swarm2.particleCoordinates.data[:], swarm1.particleCoordinates.data[:])"
   ]
  },
  {
   "cell_type": "markdown",
   "metadata": {},
   "source": [
    "** MeshVariables **"
   ]
  },
  {
   "cell_type": "markdown",
   "metadata": {},
   "source": [
    "The `MeshVariable` object behaves similarly to `SwarmVariable` object with the `save()` and `load()` functionality."
   ]
  },
  {
   "cell_type": "code",
   "execution_count": null,
   "metadata": {
    "collapsed": false
   },
   "outputs": [],
   "source": [
    "mHnd   = mesh.save(outputPath+'mesh.h5')\n",
    "velHnd = velocityField.save(outputPath+'velocity.h5', outputPath+'mesh.h5')\n",
    "\n",
    "newField = uw.mesh.MeshVariable(mesh, nodeDofCount=velocityField.nodeDofCount )\n",
    "newField.load(outputPath+'velocity.h5')\n",
    "\n",
    "print \"Are the mesh variables close ? ...\", np.allclose( newField.data, velocityField.data )"
   ]
  },
  {
   "cell_type": "markdown",
   "metadata": {},
   "source": [
    "Writing to XDMF files\n",
    "-----\n",
    "The `XDMF` file format brings together *data* and *geometric* information in a format the can be viewed with [ParaView](http://www.paraview.org/).  \n",
    "The handlers that were returned after the `save()` operations above specify this information in hdf5 format. \n",
    " * *data* as `MeshVariable` and `SwarmVariable`\n",
    " * *geometric* as the `Mesh` and `Swarm`\n",
    " \n",
    "The handlers are passed to Underworld's `XDMF` methods, along with textual names to give the Variable in the .xdmf file.\n"
   ]
  },
  {
   "cell_type": "code",
   "execution_count": null,
   "metadata": {
    "collapsed": true
   },
   "outputs": [],
   "source": [
    "velocityField.xdmf(outputPath+'velocity.xdmf', velHnd, \"MyField\", mHnd, \"TheMesh\", modeltime=0.0)\n",
    "swarm1var.xdmf(outputPath+'swarmvar.xdmf', s1vHnd, \"SwarmVariable\", s1Hnd, \"TheSwarm\", modeltime=0.1)\n"
   ]
  },
  {
   "cell_type": "markdown",
   "metadata": {},
   "source": [
    "**Write XDMF file**"
   ]
  },
  {
   "cell_type": "markdown",
   "metadata": {},
   "source": [
    "For more details on using XDMF write and to see it in a dynamical simulation context, see the example **1_06_Rayleigh_Taylor**."
   ]
  },
  {
   "cell_type": "code",
   "execution_count": null,
   "metadata": {
    "collapsed": false
   },
   "outputs": [],
   "source": [
    "if uw.rank() == 0:\n",
    "    import os\n",
    "    if os.path.exists(outputPath):\n",
    "        os.remove(outputPath+'mesh.h5')\n",
    "        os.remove(outputPath+'velocity.h5')\n",
    "        os.remove(outputPath+'swarm.h5')\n",
    "        os.remove(outputPath+'swarmvar.h5')\n",
    "        os.remove(outputPath+'velocity.xdmf')\n",
    "        os.remove(outputPath+'swarmvar.xdmf')\n",
    "        os.rmdir(outputPath)"
   ]
  }
 ],
 "metadata": {
  "kernelspec": {
   "display_name": "Python 2",
   "language": "python",
   "name": "python2"
  },
  "language_info": {
   "codemirror_mode": {
    "name": "ipython",
    "version": 2
   },
   "file_extension": ".py",
   "mimetype": "text/x-python",
   "name": "python",
   "nbconvert_exporter": "python",
   "pygments_lexer": "ipython2",
   "version": "2.7.9"
  }
 },
 "nbformat": 4,
 "nbformat_minor": 0
}
