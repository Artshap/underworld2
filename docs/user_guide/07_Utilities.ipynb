{
 "cells": [
  {
   "cell_type": "markdown",
   "metadata": {},
   "source": [
    "Utilities\n",
    "============\n",
    "\n",
    "In this notebook we will demonstrate how to use the in-built integral functions to solve volume and surface integrals in underworld. These functions are essential when working in parallel, since information is spread across multiple processes and needs to be carefully shared to solve the integrals.\n",
    "\n",
    "This notebook also looks at the other main functionality in the utilities, writing xdmf output.\n",
    "\n",
    "**This notebook is broken down into the following examples:**\n",
    "\n",
    "1. volumes integrals\n",
    "2. surface integrals\n",
    "3. xdmf writing\n",
    "\n",
    "**Keywords:** underworld utilities, volume integrals, surface integrals, xdmf\n",
    "\n"
   ]
  },
  {
   "cell_type": "code",
   "execution_count": 1,
   "metadata": {
    "collapsed": false
   },
   "outputs": [],
   "source": [
    "%matplotlib inline\n",
    "import matplotlib.pyplot as pyplot\n",
    "import matplotlib.pylab as pylab\n",
    "import numpy as np\n",
    "import underworld as uw\n",
    "import math\n",
    "from underworld import function as fn\n",
    "import glucifer.pylab as plt"
   ]
  },
  {
   "cell_type": "markdown",
   "metadata": {},
   "source": [
    "**Setup basic system**"
   ]
  },
  {
   "cell_type": "code",
   "execution_count": 2,
   "metadata": {
    "collapsed": false
   },
   "outputs": [],
   "source": [
    "res = 32\n",
    "dim = 2\n",
    "boxSize = 1.0\n",
    "tempMax = 1.0\n",
    "velMax = 1.0"
   ]
  },
  {
   "cell_type": "markdown",
   "metadata": {
    "collapsed": false
   },
   "source": [
    "Create mesh and finite element variables"
   ]
  },
  {
   "cell_type": "code",
   "execution_count": 3,
   "metadata": {
    "collapsed": false
   },
   "outputs": [],
   "source": [
    "mesh = uw.mesh.FeMesh_Cartesian( elementType = (\"Q1/dQ0\"), \n",
    "                                 elementRes  = (res, res), \n",
    "                                 minCoord    = (0., 0.), \n",
    "                                 maxCoord    = (boxSize, boxSize))\n",
    "temperatureField = uw.fevariable.FeVariable( feMesh=mesh, nodeDofCount=1 )\n",
    "velocityField    = uw.fevariable.FeVariable( feMesh=mesh, nodeDofCount=dim )"
   ]
  },
  {
   "cell_type": "markdown",
   "metadata": {},
   "source": [
    "Make up some temperature and velocity field examples"
   ]
  },
  {
   "cell_type": "code",
   "execution_count": 4,
   "metadata": {
    "collapsed": false
   },
   "outputs": [],
   "source": [
    "boxMid = (boxSize/2.0, boxSize/2.0)\n",
    "alpha = 4.0\n",
    "for index, coord in enumerate(mesh.data):\n",
    "    temperatureField.data[index] = tempMax * (boxSize - coord[1])/boxSize\n",
    "    xoffset = (coord[0] - boxMid[0], coord[1] - boxMid[1])\n",
    "    r2 = xoffset[0]*xoffset[0] + xoffset[1]*xoffset[1]\n",
    "    theta = math.atan2(xoffset[1], xoffset[0])\n",
    "    vmag = velMax * np.exp(-(r2*alpha/boxSize)**2.0)\n",
    "    velocityField.data[index][0] = vmag  * (math.sin( theta ))\n",
    "    velocityField.data[index][1] = -vmag * (math.cos( theta ))"
   ]
  },
  {
   "cell_type": "markdown",
   "metadata": {},
   "source": [
    "Plot temperature and velocity field"
   ]
  },
  {
   "cell_type": "code",
   "execution_count": 5,
   "metadata": {
    "collapsed": false
   },
   "outputs": [
    {
     "data": {
      "image/png": "[encoded data removed]",
      "text/plain": [
       "<IPython.core.display.Image object>"
      ]
     },
     "execution_count": 5,
     "metadata": {},
     "output_type": "execute_result"
    }
   ],
   "source": [
    "fig2 = plt.Figure()\n",
    "velmagfield = uw.function.math.sqrt( uw.function.math.dot( velocityField, velocityField ) )\n",
    "fig2.VectorArrows( velocityField/(1.5*velMax), mesh, arrowHead=0.2, scaling=0.1 )\n",
    "fig2.Surface( temperatureField, mesh, colours=\"blue white red\" )\n",
    "fig2.show()"
   ]
  },
  {
   "cell_type": "markdown",
   "metadata": {},
   "source": [
    "Now we will use this temperature and velocity field with our analysis tools provided by underworld."
   ]
  },
  {
   "cell_type": "markdown",
   "metadata": {},
   "source": [
    "Volume integrals\n",
    "-------\n",
    "\n",
    "**RMS velocity**\n",
    "\n",
    "The non-dimensional, root mean squared velocity as calculated over total volume is a standard diagnostic test for fluid dynamics models. It is defined by intergrating over the entire simulation domain via\n",
    "\\\\[\n",
    "\\begin{aligned}\n",
    "v_{rms} & = \\frac{h}{\\kappa} \\left[ \\frac{1}{hl} \\int_0^l \\int_0^h (u^2 + w^2) dz dx  \\right]^{1/2} \\\\\n",
    " & =  \\sqrt{ \\frac{ \\int_V (\\mathbf{v}.\\mathbf{v}) dV } {\\int_V dV} }\n",
    "\\end{aligned}\n",
    "\\\\]\n",
    "where $V$ denotes the entire 'volume' of the box, which is the x, z surface for a 2D simulation.\n",
    "\n",
    "This can be easily set up using the ``Integral`` command in the utilities (``utils``) group of functions. In the example below we set up a new scalar feild to be $= {\\bf v} \\dot {\\bf v}$ then use this as the function to integrate over the mesh. For the denominator in the above equation we define the volume integral using the function set to one, so the output will be the entire volume of the simulation domain."
   ]
  },
  {
   "cell_type": "code",
   "execution_count": 6,
   "metadata": {
    "collapsed": true
   },
   "outputs": [],
   "source": [
    "vdotv = fn.math.dot( velocityField, velocityField )\n",
    "v2sum_integral  = uw.utils.Integral( mesh=mesh, fn=vdotv )\n",
    "volume_integral = uw.utils.Integral( mesh=mesh, fn=1. )"
   ]
  },
  {
   "cell_type": "markdown",
   "metadata": {},
   "source": [
    "Once these integral functions are set up they can be evaluated at any time. This is typically done inside the main simulation time loop. Here they are used on the sample velocity field to calculate $v_{rms}$."
   ]
  },
  {
   "cell_type": "code",
   "execution_count": 7,
   "metadata": {
    "collapsed": false
   },
   "outputs": [
    {
     "name": "stdout",
     "output_type": "stream",
     "text": [
      "RMS velocity = 0.691\n"
     ]
    }
   ],
   "source": [
    "v2sum  = v2sum_integral.evaluate()\n",
    "volume = volume_integral.evaluate()\n",
    "v_rms  = math.sqrt( v2sum[0] )/volume[0]\n",
    "print('RMS velocity = {0:.3f}'.format(v_rms))"
   ]
  },
  {
   "cell_type": "markdown",
   "metadata": {},
   "source": [
    "**Volume integral of a sub section**\n",
    "\n",
    "But what if we only want to integrate over a sub section of the simulation domain? We can also use underworld functions to define a section of the space as a type of filter. In this case we will define a circle (sphere if in 3D) in space where the function is 1 inside and 0 outside the circle."
   ]
  },
  {
   "cell_type": "code",
   "execution_count": 8,
   "metadata": {
    "collapsed": false
   },
   "outputs": [],
   "source": [
    "def circleFnGenerator(centre, radius):\n",
    "    coord = fn.input()\n",
    "    offsetFn = coord - centre\n",
    "    return fn.math.dot( offsetFn, offsetFn ) < radius**2\n",
    "\n",
    "# Set up the condition for being in a circle. If not in sphere then will return light index.\n",
    "sphereRadius = 0.1\n",
    "sphereCentre = (0.5, 0.5)\n",
    "\n",
    "# setup a function that is 1 if the coordinates, stored in fn.input(), are inside the circle, and zero otherwise.\n",
    "conditions = [ ( circleFnGenerator( sphereCentre, sphereRadius) , 1.0), \n",
    "               ( True                                           , 0.0) ]\n",
    "kernelFunction = fn.branching.conditional( conditions )"
   ]
  },
  {
   "cell_type": "markdown",
   "metadata": {},
   "source": [
    "Integrating over this function, over the entire mesh, will give the area of the circle ($\\pi r^2$)."
   ]
  },
  {
   "cell_type": "code",
   "execution_count": 9,
   "metadata": {
    "collapsed": false
   },
   "outputs": [
    {
     "name": "stdout",
     "output_type": "stream",
     "text": [
      "Mesh resolution    =   32\n",
      "Area from integral = 3.02734375e-02\n",
      "Area from theory   = 3.14159265e-02\n",
      "Error (int-th)     = -1.14248904e-03\n"
     ]
    }
   ],
   "source": [
    "area = math.pi * (sphereRadius**2.0)\n",
    "volume_integral = uw.utils.Integral( mesh=mesh, fn=kernelFunction )\n",
    "volume = volume_integral.evaluate()\n",
    "print('Mesh resolution    = {0:4d}'.format(res))\n",
    "print('Area from integral = {0:6.8e}'.format(volume[0]))\n",
    "print('Area from theory   = {0:6.8e}'.format(area))\n",
    "print('Error (int-th)     = {0:6.8e}'.format(volume[0] - area))\n"
   ]
  },
  {
   "cell_type": "markdown",
   "metadata": {},
   "source": [
    "**Source of error**\n",
    "\n",
    "Notice that the area is not exactly as expected. This is due to the mesh resolution not properly resolving the edges of the circle. This effect is clear in the figure below where the relative error is plotted against the mesh resolution.\n",
    "![](ResError.png)\n",
    "The integral functions evaluate the function along the mesh vertices of a cartesian coordinate grid. So if the circle only has a few mesh vertices inside it then the calculated area of the circle will be very inaccurate."
   ]
  },
  {
   "cell_type": "markdown",
   "metadata": {},
   "source": [
    "**Average of a quantity over a shape**\n",
    "\n",
    "We can use the same kernel function approach to calculate the average of a quantity (say temperature) over a specified volume/shape. This is equivalent to finding the mean of a quantity ($T$) using\n",
    "$$\n",
    "    T_{mean} = \\int T( {\\bf x} ) f( {\\bf x} ) d{\\bf x}\n",
    "$$\n",
    "where ${\\bf x}$ denotes a position in space and $f({\\bf x})$ is the kernel function which defines the boundary of the shape. This function can also be used to provide a weighted average."
   ]
  },
  {
   "cell_type": "code",
   "execution_count": 10,
   "metadata": {
    "collapsed": false
   },
   "outputs": [
    {
     "name": "stdout",
     "output_type": "stream",
     "text": [
      "Average temperature inside circle from integral = 1.51367188e-02\n"
     ]
    }
   ],
   "source": [
    "volume_integral = uw.utils.Integral( mesh=mesh, fn=kernelFunction*temperatureField )\n",
    "volume = volume_integral.evaluate()\n",
    "print('Average temperature inside circle from integral = {0:6.8e}'.format(volume[0]))"
   ]
  },
  {
   "cell_type": "markdown",
   "metadata": {},
   "source": [
    "Surface integrals\n",
    "------\n",
    "\n",
    "**Nusselt number**\n",
    "\n",
    "\n",
    "The Nusselt number is a commonly used simulation probe. It is defined as the ratio between convective and conductive heat transfer and can be calculated by the following surface integral\n",
    "\\\\[\n",
    "Nu = -h \\frac{ \\int_0^l \\partial_z T (x, z=h) dx}{ \\int_0^l T (x, z=0) dx}\n",
    "\\\\]\n",
    "where $h$/$l$ is the height/length of the simulation domain.\n",
    "\n",
    "These two integrals are solved in the following cell using the temperature field and it's associated gradient. The vertical component (in 2D) of the gradient function can be accessed by the index 1, while the horizontal (x component) is index 0.\n",
    "\n",
    "Note that surface integrals can only be used along special set mesh indices, i.e. the boundaries."
   ]
  },
  {
   "cell_type": "code",
   "execution_count": 11,
   "metadata": {
    "collapsed": true
   },
   "outputs": [],
   "source": [
    "nuTop    = uw.utils.Integral( fn=temperatureField.gradientFn[1], mesh=mesh, integrationType='Surface', \n",
    "                          surfaceIndexSet=mesh.specialSets[\"MaxJ_VertexSet\"])\n",
    "nuBottom = uw.utils.Integral( fn=temperatureField,               mesh=mesh, integrationType='Surface', \n",
    "                          surfaceIndexSet=mesh.specialSets[\"MinJ_VertexSet\"])"
   ]
  },
  {
   "cell_type": "markdown",
   "metadata": {},
   "source": [
    "Once again we activate these integrals using the ``evaluate`` function."
   ]
  },
  {
   "cell_type": "code",
   "execution_count": 12,
   "metadata": {
    "collapsed": false
   },
   "outputs": [
    {
     "name": "stdout",
     "output_type": "stream",
     "text": [
      "Nusselt number = 1.000000\n"
     ]
    }
   ],
   "source": [
    "nu = - boxSize * nuTop.evaluate()[0]/nuBottom.evaluate()[0]\n",
    "print('Nusselt number = {0:.6f}'.format(nu))"
   ]
  },
  {
   "cell_type": "markdown",
   "metadata": {},
   "source": [
    "As with the volume integral the same method of changing the function to be integrated over can be used to integrate over sub sets of the surface of interest. "
   ]
  },
  {
   "cell_type": "markdown",
   "metadata": {},
   "source": [
    "Writing to XDMF files\n",
    "-----\n",
    "\n",
    "Many analysis software tools such as ``ParaView`` use eXtensible Data Model and Format (``XDMF``) files as their standard for inputting data. Writing to XDMF is supported in underworld via the ``uw.utils.xdmf_write`` function."
   ]
  },
  {
   "cell_type": "markdown",
   "metadata": {},
   "source": [
    "Firstly we will setup a directory path for the output files. Note that the latter part of the cell will check to see if the directory already exists, and create it if it doesn't."
   ]
  },
  {
   "cell_type": "code",
   "execution_count": 13,
   "metadata": {
    "collapsed": true
   },
   "outputs": [],
   "source": [
    "outputPath = 'xdmfTest/'\n",
    "# Make output directory if necessary\n",
    "import os\n",
    "if not os.path.exists(outputPath):\n",
    "    os.makedirs(outputPath)"
   ]
  },
  {
   "cell_type": "markdown",
   "metadata": {},
   "source": [
    "Next we setup the fields that we want to output in xdmf files. The cell below provides an object containing all the fields we wish to output as well as some human readable names for the output fields. These name labels will be accessed by ``ParaView`` etc, so it is important to set these correctly.\n",
    "\n",
    "**Note: Swarms are currently not supported in writing XDMF files.**"
   ]
  },
  {
   "cell_type": "code",
   "execution_count": 14,
   "metadata": {
    "collapsed": true
   },
   "outputs": [],
   "source": [
    "outputField = { 'velocity'    : velocityField,\n",
    "                'temperature' : temperatureField }"
   ]
  },
  {
   "cell_type": "markdown",
   "metadata": {},
   "source": [
    "**Write XDMF file**\n",
    "\n",
    "The command below will write the XDMF file for the list of fields set above across the specified mesh. The resulting files (xmf, xdmf and h5) are all written in the specified ``outputPath`` directory.\n",
    "\n",
    "This command is typically used inside a simulation loop, where the time is changing as the model progresses. Here we set the time equal to zero for the output. "
   ]
  },
  {
   "cell_type": "code",
   "execution_count": 15,
   "metadata": {
    "collapsed": true
   },
   "outputs": [],
   "source": [
    "time = 0.0\n",
    "uw.utils.xdmf_write( outputField, mesh, time=time, outputDir=outputPath )"
   ]
  },
  {
   "cell_type": "markdown",
   "metadata": {},
   "source": [
    "For more details on using XDMF write and to see it in a dynamical simulation context, see the tutorial **1_06_Rayleigh_Taylor.ipynb**."
   ]
  }
 ],
 "metadata": {
  "kernelspec": {
   "display_name": "Python 2",
   "language": "python",
   "name": "python2"
  },
  "language_info": {
   "codemirror_mode": {
    "name": "ipython",
    "version": 2
   },
   "file_extension": ".py",
   "mimetype": "text/x-python",
   "name": "python",
   "nbconvert_exporter": "python",
   "pygments_lexer": "ipython2",
   "version": "2.7.6"
  }
 },
 "nbformat": 4,
 "nbformat_minor": 0
}
