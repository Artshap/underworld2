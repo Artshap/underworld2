{
 "cells": [
  {
   "cell_type": "markdown",
   "metadata": {},
   "source": [
    "Utilities\n",
    "============\n",
    "\n",
    "In this notebook we will demonstrate how to use the in-built integral functions to solve volume and surface integrals in underworld. These functions are essential when working in parallel, since information is spread across multiple processes and needs to be carefully shared to solve the integrals.\n",
    "\n",
    "This notebook also looks at the other main functionality in the utilities, writing xdmf output.\n",
    "\n",
    "**This notebook is broken down into the following examples:**\n",
    "\n",
    "1. volumes integrals\n",
    "2. surface integrals\n",
    "3. xdmf writing\n",
    "\n",
    "**Keywords:** underworld utilities, volume integrals, surface integrals, xdmf\n",
    "\n"
   ]
  },
  {
   "cell_type": "code",
   "execution_count": 1,
   "metadata": {
    "collapsed": false
   },
   "outputs": [],
   "source": [
    "import underworld as uw\n",
    "from underworld import function as fn\n",
    "import glucifer\n",
    "import math"
   ]
  },
  {
   "cell_type": "markdown",
   "metadata": {},
   "source": [
    "**Setup basic system**"
   ]
  },
  {
   "cell_type": "markdown",
   "metadata": {
    "collapsed": false
   },
   "source": [
    "Create mesh and finite element variables"
   ]
  },
  {
   "cell_type": "code",
   "execution_count": 2,
   "metadata": {
    "collapsed": false
   },
   "outputs": [],
   "source": [
    "mesh = uw.mesh.FeMesh_Cartesian( elementType = (\"Q1/dQ0\"), \n",
    "                                 elementRes  = (32, 32), \n",
    "                                 minCoord    = (0., 0.), \n",
    "                                 maxCoord    = (1., 1.))\n",
    "temperatureField = uw.meshvariable.MeshVariable( feMesh=mesh, nodeDofCount=1 )\n",
    "velocityField    = uw.meshvariable.MeshVariable( feMesh=mesh, nodeDofCount=2 )"
   ]
  },
  {
   "cell_type": "markdown",
   "metadata": {},
   "source": [
    "Make up some temperature and velocity field examples"
   ]
  },
  {
   "cell_type": "code",
   "execution_count": 3,
   "metadata": {
    "collapsed": false
   },
   "outputs": [],
   "source": [
    "boxMid = (0.5, 0.5)\n",
    "alpha = 4.0\n",
    "tempMax = 1.0\n",
    "velMax = 1.0\n",
    "for index, coord in enumerate(mesh.data):\n",
    "    temperatureField.data[index] = tempMax * (1. - coord[1])\n",
    "    xoffset = (coord[0] - boxMid[0], coord[1] - boxMid[1])\n",
    "    r2 = xoffset[0]*xoffset[0] + xoffset[1]*xoffset[1]\n",
    "    theta = math.atan2(xoffset[1], xoffset[0])\n",
    "    vmag = velMax * math.exp(-(r2*alpha)**2.0)\n",
    "    velocityField.data[index][0] = vmag  * (math.sin( theta ))\n",
    "    velocityField.data[index][1] = -vmag * (math.cos( theta ))"
   ]
  },
  {
   "cell_type": "markdown",
   "metadata": {},
   "source": [
    "Plot temperature and velocity field"
   ]
  },
  {
   "cell_type": "code",
   "execution_count": 4,
   "metadata": {
    "collapsed": false
   },
   "outputs": [
    {
     "data": {
      "text/html": [
       "<img src='data:image/png;base64,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'>"
      ],
      "text/plain": [
       "<IPython.core.display.HTML object>"
      ]
     },
     "execution_count": 4,
     "metadata": {},
     "output_type": "execute_result"
    }
   ],
   "source": [
    "fig1 = glucifer.Figure()\n",
    "velmagfield = uw.function.math.sqrt( uw.function.math.dot( velocityField, velocityField ) )\n",
    "fig1 + glucifer.objects.VectorArrows( mesh, velocityField/(1.5*velMax), arrowHead=0.2, scaling=0.1 )\n",
    "fig1 + glucifer.objects.Surface( mesh, temperatureField, colours=\"blue white red\" )\n",
    "fig1.show()"
   ]
  },
  {
   "cell_type": "markdown",
   "metadata": {},
   "source": [
    "Now we will use this temperature and velocity field with our analysis tools provided by underworld."
   ]
  },
  {
   "cell_type": "markdown",
   "metadata": {},
   "source": [
    "Volume integrals\n",
    "-------\n",
    "\n",
    "**RMS velocity**\n",
    "\n",
    "The non-dimensional, root mean squared velocity as calculated over total volume is a standard diagnostic test for fluid dynamics models. It is defined by intergrating over the entire simulation domain via\n",
    "\\\\[\n",
    "\\begin{aligned}\n",
    "v_{rms} & = \\frac{h}{\\kappa} \\left[ \\frac{1}{hl} \\int_0^l \\int_0^h (u^2 + w^2) dz dx  \\right]^{1/2} \\\\\n",
    " & =  \\sqrt{ \\frac{ \\int_V (\\mathbf{v}.\\mathbf{v}) dV } {\\int_V dV} }\n",
    "\\end{aligned}\n",
    "\\\\]\n",
    "where $V$ denotes the entire 'volume' of the box, which is the x, z surface for a 2D simulation.\n",
    "\n",
    "This can be easily set up using the ``Integral`` command in the utilities (``utils``) group of functions. In the example below we set up a new scalar feild to be $= {\\bf v} \\dot {\\bf v}$ then use this as the function to integrate over the mesh. For the denominator in the above equation we define the volume integral using the function set to one, so the output will be the entire volume of the simulation domain."
   ]
  },
  {
   "cell_type": "code",
   "execution_count": 5,
   "metadata": {
    "collapsed": true
   },
   "outputs": [],
   "source": [
    "vdotv = fn.math.dot( velocityField, velocityField )\n",
    "v2sum_integral  = uw.utils.Integral( mesh=mesh, fn=vdotv )\n",
    "volume_integral = uw.utils.Integral( mesh=mesh, fn=1. )"
   ]
  },
  {
   "cell_type": "markdown",
   "metadata": {},
   "source": [
    "Once these integral functions are set up they can be evaluated at any time. This is typically done inside the main simulation time loop. Here they are used on the sample velocity field to calculate $v_{rms}$."
   ]
  },
  {
   "cell_type": "code",
   "execution_count": 6,
   "metadata": {
    "collapsed": false
   },
   "outputs": [
    {
     "name": "stdout",
     "output_type": "stream",
     "text": [
      "RMS velocity = 0.691\n"
     ]
    }
   ],
   "source": [
    "v2sum  = v2sum_integral.evaluate()\n",
    "volume = volume_integral.evaluate()\n",
    "v_rms  = math.sqrt( v2sum[0] )/volume[0]\n",
    "print('RMS velocity = {0:.3f}'.format(v_rms))"
   ]
  },
  {
   "cell_type": "markdown",
   "metadata": {},
   "source": [
    "**Volume integral of a sub section**\n",
    "\n",
    "But what if we only want to integrate over a sub section of the simulation domain? We can also use underworld functions to define a section of the space as a type of filter. In this case we will define a circle (sphere if in 3D) in space where the function is 1 inside and 0 outside the circle."
   ]
  },
  {
   "cell_type": "code",
   "execution_count": 7,
   "metadata": {
    "collapsed": false
   },
   "outputs": [],
   "source": [
    "def circleFnGenerator(centre, radius):\n",
    "    coord = fn.input()\n",
    "    offsetFn = coord - centre\n",
    "    return fn.math.dot( offsetFn, offsetFn ) < radius**2\n",
    "\n",
    "# Set up the condition for being in a circle. If not in sphere then will return light index.\n",
    "sphereRadius = 0.1\n",
    "sphereCentre = (0.5, 0.5)\n",
    "\n",
    "# setup a function that is 1 if the coordinates, stored in fn.input(), are inside the circle, and zero otherwise.\n",
    "conditions = [ ( circleFnGenerator( sphereCentre, sphereRadius) , 1.0), \n",
    "               ( True                                           , 0.0) ]\n",
    "kernelFunction = fn.branching.conditional( conditions )"
   ]
  },
  {
   "cell_type": "markdown",
   "metadata": {},
   "source": [
    "Integrating over this function, over the entire mesh, will give the area of the circle ($\\pi r^2$)."
   ]
  },
  {
   "cell_type": "code",
   "execution_count": 8,
   "metadata": {
    "collapsed": false
   },
   "outputs": [
    {
     "name": "stdout",
     "output_type": "stream",
     "text": [
      "Mesh resolution    =   32\n",
      "Area from integral = 3.02734375e-02\n",
      "Area from theory   = 3.14159265e-02\n",
      "Error (int-th)     = -1.14248904e-03\n"
     ]
    }
   ],
   "source": [
    "area = math.pi * (sphereRadius**2.0)\n",
    "volume_integral = uw.utils.Integral( mesh=mesh, fn=kernelFunction )\n",
    "volume = volume_integral.evaluate()\n",
    "print('Mesh resolution    = {0:4d}'.format(mesh.elementRes[0]))\n",
    "print('Area from integral = {0:6.8e}'.format(volume[0]))\n",
    "print('Area from theory   = {0:6.8e}'.format(area))\n",
    "print('Error (int-th)     = {0:6.8e}'.format(volume[0] - area))\n"
   ]
  },
  {
   "cell_type": "markdown",
   "metadata": {},
   "source": [
    "**Source of error**\n",
    "\n",
    "Notice that the area is not exactly as expected. This is due to the mesh resolution not properly resolving the edges of the circle. This effect is clear in the figure below where the relative error is plotted against the mesh resolution.\n",
    "![](ResError.png)\n",
    "The integral functions evaluate the function along the mesh vertices of a cartesian coordinate grid. So if the circle only has a few mesh vertices inside it then the calculated area of the circle will be very inaccurate."
   ]
  },
  {
   "cell_type": "markdown",
   "metadata": {},
   "source": [
    "**Average of a quantity over a shape**\n",
    "\n",
    "We can use the same kernel function approach to calculate the average of a quantity (say temperature) over a specified volume/shape. This is equivalent to finding the mean of a quantity ($T$) using\n",
    "$$\n",
    "    T_{mean} = \\int T( {\\bf x} ) f( {\\bf x} ) d{\\bf x}\n",
    "$$\n",
    "where ${\\bf x}$ denotes a position in space and $f({\\bf x})$ is the kernel function which defines the boundary of the shape. This function can also be used to provide a weighted average."
   ]
  },
  {
   "cell_type": "code",
   "execution_count": 9,
   "metadata": {
    "collapsed": false
   },
   "outputs": [
    {
     "name": "stdout",
     "output_type": "stream",
     "text": [
      "Average temperature inside circle from integral = 1.51367188e-02\n"
     ]
    }
   ],
   "source": [
    "volume_integral = uw.utils.Integral( mesh=mesh, fn=kernelFunction*temperatureField )\n",
    "volume = volume_integral.evaluate()\n",
    "print('Average temperature inside circle from integral = {0:6.8e}'.format(volume[0]))"
   ]
  },
  {
   "cell_type": "markdown",
   "metadata": {},
   "source": [
    "Surface integrals\n",
    "------\n",
    "\n",
    "**Nusselt number**\n",
    "\n",
    "\n",
    "The Nusselt number is a commonly used simulation probe. It is defined as the ratio between convective and conductive heat transfer and can be calculated by the following surface integral\n",
    "\\\\[\n",
    "Nu = -h \\frac{ \\int_0^l \\partial_z T (x, z=h) dx}{ \\int_0^l T (x, z=0) dx}\n",
    "\\\\]\n",
    "where $h$/$l$ is the height/length of the simulation domain.\n",
    "\n",
    "These two integrals are solved in the following cell using the temperature field and it's associated gradient. The vertical component (in 2D) of the gradient function can be accessed by the index 1, while the horizontal (x component) is index 0.\n",
    "\n",
    "Note that surface integrals can only be used along special set mesh indices, i.e. the boundaries."
   ]
  },
  {
   "cell_type": "code",
   "execution_count": 10,
   "metadata": {
    "collapsed": true
   },
   "outputs": [],
   "source": [
    "nuTop    = uw.utils.Integral( fn=temperatureField.gradientFn[1], mesh=mesh, integrationType='Surface', \n",
    "                          surfaceIndexSet=mesh.specialSets[\"MaxJ_VertexSet\"])\n",
    "nuBottom = uw.utils.Integral( fn=temperatureField,               mesh=mesh, integrationType='Surface', \n",
    "                          surfaceIndexSet=mesh.specialSets[\"MinJ_VertexSet\"])"
   ]
  },
  {
   "cell_type": "markdown",
   "metadata": {},
   "source": [
    "Once again we activate these integrals using the ``evaluate`` function."
   ]
  },
  {
   "cell_type": "code",
   "execution_count": 11,
   "metadata": {
    "collapsed": false
   },
   "outputs": [
    {
     "name": "stdout",
     "output_type": "stream",
     "text": [
      "Nusselt number = 1.000000\n"
     ]
    }
   ],
   "source": [
    "nu = - nuTop.evaluate()[0]/nuBottom.evaluate()[0]\n",
    "print('Nusselt number = {0:.6f}'.format(nu))"
   ]
  },
  {
   "cell_type": "markdown",
   "metadata": {},
   "source": [
    "As with the volume integral the same method of changing the function to be integrated over can be used to integrate over sub sets of the surface of interest. "
   ]
  },
  {
   "cell_type": "markdown",
   "metadata": {},
   "source": [
    "Writing to XDMF files\n",
    "-----\n",
    "\n",
    "Many analysis software tools such as ``ParaView`` use eXtensible Data Model and Format (``XDMF``) files as their standard for inputting data. Writing to XDMF is supported in underworld via the ``uw.utils.xdmf_write`` function."
   ]
  },
  {
   "cell_type": "markdown",
   "metadata": {},
   "source": [
    "Firstly we will setup a directory path for the output files. Note that the latter part of the cell will check to see if the directory already exists, and create it if it doesn't."
   ]
  },
  {
   "cell_type": "code",
   "execution_count": 12,
   "metadata": {
    "collapsed": true
   },
   "outputs": [],
   "source": [
    "outputPath = 'xdmfTest/'\n",
    "# Make output directory if necessary\n",
    "import os\n",
    "if not os.path.exists(outputPath):\n",
    "    os.makedirs(outputPath)"
   ]
  },
  {
   "cell_type": "markdown",
   "metadata": {},
   "source": [
    "Next we setup the fields that we want to output in xdmf files. The cell below provides an object containing all the fields we wish to output as well as some human readable names for the output fields. These name labels will be accessed by ``ParaView`` etc, so it is important to set these correctly.\n",
    "\n",
    "**Note: Swarms are currently not supported in writing XDMF files.**"
   ]
  },
  {
   "cell_type": "code",
   "execution_count": 13,
   "metadata": {
    "collapsed": true
   },
   "outputs": [],
   "source": [
    "outputField = { 'velocity'    : velocityField,\n",
    "                'temperature' : temperatureField }"
   ]
  },
  {
   "cell_type": "markdown",
   "metadata": {},
   "source": [
    "**Write XDMF file**\n",
    "\n",
    "The command below will write the XDMF file for the list of fields set above across the specified mesh. The resulting files (xmf, xdmf and h5) are all written in the specified ``outputPath`` directory.\n",
    "\n",
    "This command is typically used inside a simulation loop, where the time is changing as the model progresses. Here we set the time equal to zero for the output. "
   ]
  },
  {
   "cell_type": "code",
   "execution_count": 14,
   "metadata": {
    "collapsed": true
   },
   "outputs": [],
   "source": [
    "time = 0.0\n",
    "uw.utils.xdmf_write( outputField, mesh, time=time, outputDir=outputPath )"
   ]
  },
  {
   "cell_type": "markdown",
   "metadata": {},
   "source": [
    "For more details on using XDMF write and to see it in a dynamical simulation context, see the tutorial **1_06_Rayleigh_Taylor**."
   ]
  }
 ],
 "metadata": {
  "kernelspec": {
   "display_name": "Python 2",
   "language": "python",
   "name": "python2"
  },
  "language_info": {
   "codemirror_mode": {
    "name": "ipython",
    "version": 2
   },
   "file_extension": ".py",
   "mimetype": "text/x-python",
   "name": "python",
   "nbconvert_exporter": "python",
   "pygments_lexer": "ipython2",
   "version": "2.7.6"
  }
 },
 "nbformat": 4,
 "nbformat_minor": 0
}
