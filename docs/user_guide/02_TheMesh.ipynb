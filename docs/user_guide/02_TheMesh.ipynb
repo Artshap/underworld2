{
 "cells": [
  {
   "cell_type": "markdown",
   "metadata": {},
   "source": [
    "# The Finite Element Mesh\n",
    "\n",
    "\n",
    "The finite element mesh is a fundamental construct for Underworld modelling. It will generally determine your domain geometry, and the resolution of the finite element system. For parallel simulations, the mesh topology will also determine the domain decomposition for the problem. Currently `underworld` only provides curvilinear mesh capabilities.\n",
    "\n",
    "#### Overview:\n",
    "\n",
    "1. Creating mesh objects.\n",
    "1. Element types.\n",
    "1. Deforming the mesh.\n",
    "1. Saving and loading the mesh.\n",
    "1. Special sets.\n",
    "\n",
    "## Creating the mesh\n",
    "\n",
    "First create an 2x2 element mesh. By default the mesh will be of rectangular geometry, with domain extents specified via the `minCoord` and `maxCoord` constructor parameters. "
   ]
  },
  {
   "cell_type": "code",
   "execution_count": 1,
   "metadata": {},
   "outputs": [
    {
     "data": {
      "text/html": [
       "<img src='data:image/png;base64,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'>"
      ],
      "text/plain": [
       "<IPython.core.display.HTML object>"
      ]
     },
     "metadata": {},
     "output_type": "display_data"
    }
   ],
   "source": [
    "import underworld as uw\n",
    "import glucifer\n",
    "mesh = uw.mesh.FeMesh_Cartesian( elementType = (\"Q1\"), \n",
    "                                 elementRes  = (2, 2), \n",
    "                                 minCoord    = (0.0, 0.0), \n",
    "                                 maxCoord    = (2.0, 1.0) )\n",
    "\n",
    "# visualising the result\n",
    "figMesh = glucifer.Figure(figsize=(800,400))\n",
    "figMesh.append( glucifer.objects.Mesh(mesh, nodeNumbers=True, pointsize=10) )\n",
    "figMesh.show()"
   ]
  },
  {
   "cell_type": "markdown",
   "metadata": {},
   "source": [
    "Mesh node location data is available as `numpy` arrays via the `data` mesh instances attribute:"
   ]
  },
  {
   "cell_type": "code",
   "execution_count": 2,
   "metadata": {},
   "outputs": [
    {
     "name": "stdout",
     "output_type": "stream",
     "text": [
      "[ 0.  0.]\n",
      "[ 1.  0.]\n",
      "[ 2.  0.]\n",
      "[ 0.   0.5]\n",
      "[ 1.   0.5]\n",
      "[ 2.   0.5]\n",
      "[ 0.  1.]\n",
      "[ 1.  1.]\n",
      "[ 2.  1.]\n"
     ]
    }
   ],
   "source": [
    "for item in mesh.data:\n",
    "    print(item)"
   ]
  },
  {
   "cell_type": "markdown",
   "metadata": {},
   "source": [
    "Note that data in `underworld` is always published as arrays of shape `(num_items, count)`, where `num_items` is the number of items in the dataset (in this case, 3x3 nodes, so `9`), and `count` is the size of each data item (so `1` for scalar data, `2` or `3` for vectors in 2- and 3-dimensions respectively, etc). \n",
    "\n",
    "In parallel, each process will be assigned responsibility for a subsection of the domain, and as such the length (`num_items`) of the arrays will generally be different across processes. As such, while it might be tempting to use `numpy.reshape` to reshape your arrays to reflect the cartesian mesh topology, this approach will **not** work in parallel and is therefore not usually recommended. You should instead traverse data arrays as 1-d lists (each item of size `count`). Following this pattern will usually result in models which can safely be run in serial or parallel. "
   ]
  },
  {
   "cell_type": "markdown",
   "metadata": {},
   "source": [
    "## Element Types\n",
    "Underworld supports two primary element types: a linear element type (`Q1`) and a quadratic element type (`Q2`). Interpolation using these element types will provide continuous results across element boundaries, though note that interpolant derivatives will be discontinous across boundaries. Underworld also supports *mixed* element types, where a secondary element type may also be specified. This formulation is critical for stable solutions to Stokes type problems, with velocity fields being represented by the primary element type, and pressure fields by the secondary type. Secondary element types are not continuous across element boundaries. Supported secondary types are constant (`dQ0`), linear (`dPc1`) and bilinear (`dQ1`). Refer to http://femtable.org for further details on element types. \n",
    "\n",
    "Mesh element types are specified as a textual argument to the `elementType` constructor parameter. A primary type must always be provided (`Q1` or `Q2`), and where a secondary type is required, the primary/secondary types are provided as a pair (`Q1/dQ0`, `Q2/dPc1` or `Q2/dQ1`). For mixed type elements, two mesh objects are generated by the constructor, one for the primary and one for the secondary elements. The primary mesh will be the object returned directly by the constructor, with the secondary mesh available via the primary mesh's `subMesh` attribute:"
   ]
  },
  {
   "cell_type": "code",
   "execution_count": 3,
   "metadata": {},
   "outputs": [
    {
     "name": "stdout",
     "output_type": "stream",
     "text": [
      "81: primary node count \n",
      "48: secondary node count\n"
     ]
    }
   ],
   "source": [
    "pmesh = uw.mesh.FeMesh_Cartesian( elementType=\"Q2/dpc1\" )\n",
    "smesh = pmesh.subMesh\n",
    "print(\"{}: primary node count \\n{}: secondary node count\".format(len(pmesh.data),len(smesh.data)))"
   ]
  },
  {
   "cell_type": "markdown",
   "metadata": {},
   "source": [
    "Note that where constructor parameters are omitted, default values are used. For example, here a 4x4 mesh is generated because `elementRes` is not specified. Defaults values are baked into the `underworld` API and may be determined in Jupyter by pressing `shift`-`tab` with the cursor inside the constructor parenthesis, or by using the Python `help()` function (with the class/function of interest as the argument). Default values are useful for quickly mocking up models, but may change without notice so should not be relied upon. \n",
    "\n",
    "Element boundaries (and therefore domain geometry and resolution) is entirely determined by the primary mesh, with the location of the secondary mesh nodes slaved to the primary mesh nodes. Secondary mesh nodes are visualised below."
   ]
  },
  {
   "cell_type": "code",
   "execution_count": 4,
   "metadata": {},
   "outputs": [
    {
     "data": {
      "text/html": [
       "<img src='data:image/png;base64,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'>"
      ],
      "text/plain": [
       "<IPython.core.display.HTML object>"
      ]
     },
     "metadata": {},
     "output_type": "display_data"
    }
   ],
   "source": [
    "figMesh2 = glucifer.Figure()\n",
    "figMesh2.append( glucifer.objects.Mesh(pmesh) )\n",
    "figMesh2.append( glucifer.objects.Mesh(smesh, nodeNumbers=True, pointsize=10) )\n",
    "figMesh2.show()"
   ]
  },
  {
   "cell_type": "markdown",
   "metadata": {},
   "source": [
    "## Deforming the mesh\n",
    "\n",
    "It is often desirable to deform the mesh to either conform the domain to some geometry, or to implement mesh refinement by bunching nodes in certain domain regions. The user is free to modify the mesh as desired, though care must be taken to ensure elements are not improperly transformed (Jacobians should not become singular) and to avoid tangling (face normals should be consistent). \n",
    "\n",
    "To deform the mesh, the user will directly modify the node coordinates via the usual `data` array. Note however that modifications are only possible from within the `deform_mesh()` context manager, as otherwise the array is read-only."
   ]
  },
  {
   "cell_type": "code",
   "execution_count": 5,
   "metadata": {},
   "outputs": [
    {
     "data": {
      "text/html": [
       "<img src='data:image/png;base64,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'>"
      ],
      "text/plain": [
       "<IPython.core.display.HTML object>"
      ]
     },
     "metadata": {},
     "output_type": "display_data"
    }
   ],
   "source": [
    "with mesh.deform_mesh():\n",
    "    mesh.data[4][0] += 0.05\n",
    "figMesh.show()"
   ]
  },
  {
   "cell_type": "markdown",
   "metadata": {},
   "source": [
    "Note that in the above example, for simplicity, we've simply moved an arbitrary mesh node. Usually you will not want to construct your logic in ways which rely on the node numbers themselves, as this will usually not be consistent across parallel simulations, and/or as you vary model resolution.\n",
    "\n",
    "We now look at a more realistic example where we deform the mesh to increase the resolution at the top of the domain. There are countless ways this may be achieved, but here we use the simple transformation $z \\rightarrow \\sqrt{z}$:"
   ]
  },
  {
   "cell_type": "code",
   "execution_count": 6,
   "metadata": {},
   "outputs": [
    {
     "data": {
      "text/html": [
       "<img src='data:image/png;base64,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'>"
      ],
      "text/plain": [
       "<IPython.core.display.HTML object>"
      ]
     },
     "metadata": {},
     "output_type": "display_data"
    }
   ],
   "source": [
    "mesh = uw.mesh.FeMesh_Cartesian(elementRes=(32,32),maxCoord=(2.0,1.0))\n",
    "with mesh.deform_mesh():\n",
    "    for index, coord in enumerate(mesh.data):\n",
    "        mesh.data[index][1] = mesh.data[index][1]**0.5\n",
    "figMesh3 = glucifer.Figure(figsize=(800,400))\n",
    "figMesh3.append(glucifer.objects.Mesh(mesh))\n",
    "figMesh3.show()"
   ]
  },
  {
   "cell_type": "markdown",
   "metadata": {},
   "source": [
    "## Saving and loading the mesh\n",
    "\n",
    "\n",
    "Mesh coordinate data can be saved in hdf5 format using the mesh instance ``save`` method:"
   ]
  },
  {
   "cell_type": "code",
   "execution_count": 7,
   "metadata": {},
   "outputs": [],
   "source": [
    "ignore = mesh.save('deformedMesh.h5')"
   ]
  },
  {
   "cell_type": "markdown",
   "metadata": {},
   "source": [
    "To check that this has worked we will reset the mesh, visualise, then load the saved data and visualise again:"
   ]
  },
  {
   "cell_type": "code",
   "execution_count": 8,
   "metadata": {},
   "outputs": [
    {
     "data": {
      "text/html": [
       "<img src='data:image/png;base64,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'>"
      ],
      "text/plain": [
       "<IPython.core.display.HTML object>"
      ]
     },
     "metadata": {},
     "output_type": "display_data"
    }
   ],
   "source": [
    "mesh.reset()\n",
    "figMesh3.show()"
   ]
  },
  {
   "cell_type": "markdown",
   "metadata": {},
   "source": [
    "Now re-load and display:"
   ]
  },
  {
   "cell_type": "code",
   "execution_count": 9,
   "metadata": {},
   "outputs": [
    {
     "data": {
      "text/html": [
       "<img src='data:image/png;base64,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'>"
      ],
      "text/plain": [
       "<IPython.core.display.HTML object>"
      ]
     },
     "metadata": {},
     "output_type": "display_data"
    }
   ],
   "source": [
    "mesh.load('deformedMesh.h5')\n",
    "figMesh3.show()"
   ]
  },
  {
   "cell_type": "markdown",
   "metadata": {},
   "source": [
    "If you are resuming a simulation, you will usually need to reload the previous state of your simulation. In Underworld, the pattern is always to first *recreate* vanilla equivalent objects, and *then* reload the data. So in the case of the mesh above, you must first recreate a standard mesh object, and it must be of identical resolution and element type. Finally you will reload the data."
   ]
  },
  {
   "cell_type": "code",
   "execution_count": 10,
   "metadata": {},
   "outputs": [],
   "source": [
    "restartMesh = uw.mesh.FeMesh_Cartesian(elementRes=(32,32))\n",
    "restartMesh.load('deformedMesh.h5')\n",
    "import numpy as np\n",
    "result = np.allclose(mesh.data,restartMesh.data)\n",
    "\n",
    "# if this didn't work correctly, let's raise an error to alert the user.\n",
    "if result==False:\n",
    "    raise RuntimeError(\"Restarted mesh is not identical to original mesh.\")\n",
    "    \n",
    "# let's remove the saved file as it is no longer required. \n",
    "if uw.rank()==0:\n",
    "    import os;\n",
    "    os.remove('deformedMesh.h5')"
   ]
  },
  {
   "cell_type": "markdown",
   "metadata": {},
   "source": [
    "## Special sets\n",
    "\n",
    "\n",
    "Special sets are sets of nodes which are in some way special to a given mesh object. For instance, for the cartesian mesh you will often wish to tie special values to the walls to form your problem boundary conditions. The list of special sets is provided via the `specialSets` list object:"
   ]
  },
  {
   "cell_type": "code",
   "execution_count": 11,
   "metadata": {},
   "outputs": [
    {
     "data": {
      "text/plain": [
       "['MaxI_VertexSet',\n",
       " 'Top_VertexSet',\n",
       " 'Left_VertexSet',\n",
       " 'MinI_VertexSet',\n",
       " 'AllWalls_VertexSet',\n",
       " 'Bottom_VertexSet',\n",
       " 'Right_VertexSet',\n",
       " 'MinJ_VertexSet',\n",
       " 'MaxJ_VertexSet',\n",
       " 'Empty']"
      ]
     },
     "execution_count": 11,
     "metadata": {},
     "output_type": "execute_result"
    }
   ],
   "source": [
    "mesh = uw.mesh.FeMesh_Cartesian(elementRes=(2,2))\n",
    "mesh.specialSets.keys()"
   ]
  },
  {
   "cell_type": "markdown",
   "metadata": {},
   "source": [
    "The sets are named with respect to the `(I,J,K)` cartesian indexing of the mesh, with the `I` index usually used for the horizontal (left/right), `J` for the vertical, and `K` for horizontal (front/back). Note that this is just a matter of convention, and you are free to chose how the cartesian coordinates map within your model. So, for example,  `MinI_VertexSet` specifies the set of nodes belonings to what we would normally consider to be the left wall, and similarly `MaxI_VertexSet` the right wall.  We now also provide the alias (`Left_VertexSet`, `Right_VertexSet`, etc) for the most common use case."
   ]
  },
  {
   "cell_type": "code",
   "execution_count": 12,
   "metadata": {},
   "outputs": [
    {
     "name": "stdout",
     "output_type": "stream",
     "text": [
      "FeMesh_IndexSet([0, 3, 6])\n"
     ]
    }
   ],
   "source": [
    "leftset = mesh.specialSets['MinI_VertexSet']\n",
    "print(leftset)"
   ]
  },
  {
   "cell_type": "markdown",
   "metadata": {},
   "source": [
    "You can confirm that these are indeed the left nodes with reference to the mesh visualisation at the top of the page. Note that the special set indices always specify parallel **local** indices. In almost all instances, you will interact with only local data and identifiers. This pattern is critical to successful parallel operation, and is usually a natural way of constructing your models. You should also note that the above visualisation shows the global node numbering, though for these serial demonstrations the values are identical. Your checkpointed mesh (and mesh variable) data will however be ordered according to its global numbering. If for some reason you need to determine the global identifiers, they are stored in the `data_elgId` array.\n",
    "\n",
    "An important shorthand for your modelling is to use the special sets directly to index into arrays. For instance, we can find the coordinates of all left wall nodes directly as follows:"
   ]
  },
  {
   "cell_type": "code",
   "execution_count": 13,
   "metadata": {},
   "outputs": [
    {
     "data": {
      "text/plain": [
       "array([[ 0. ,  0. ],\n",
       "       [ 0. ,  0.5],\n",
       "       [ 0. ,  1. ]])"
      ]
     },
     "execution_count": 13,
     "metadata": {},
     "output_type": "execute_result"
    }
   ],
   "source": [
    "mesh.data[leftset]"
   ]
  }
 ],
 "metadata": {
  "celltoolbar": "Raw Cell Format",
  "kernelspec": {
   "display_name": "UW27_prerelease",
   "language": "python",
   "name": "uw27_prerelease"
  },
  "language_info": {
   "codemirror_mode": {
    "name": "ipython",
    "version": 2
   },
   "file_extension": ".py",
   "mimetype": "text/x-python",
   "name": "python",
   "nbconvert_exporter": "python",
   "pygments_lexer": "ipython2",
   "version": "2.7.13"
  }
 },
 "nbformat": 4,
 "nbformat_minor": 1
}
