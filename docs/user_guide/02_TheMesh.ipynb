{
 "cells": [
  {
   "cell_type": "markdown",
   "metadata": {},
   "source": [
    "The Mesh\n",
    "======\n",
    "\n",
    "Underworld uses a mesh (grid) of nodes to solve the finite element (FE) variables on. These FE variables are examined in more detail in the next guide on **FE variables**. This notebook will go through a few different examples of what can be done with meshes using Underworld. \n",
    "\n",
    "**This notebook is broken down into the following examples:**\n",
    "\n",
    "1. overview of meshes\n",
    "2. setting and visualising up meshes\n",
    "3. how to modify a mesh\n",
    "4. loading and saving meshes\n",
    "5. different mesh geometry types\n",
    "\n",
    "**Keywords:** meshes, mesh geometry\n",
    "\n",
    "**References**\n",
    "\n",
    "1. Moresi, L., Dufour, F., Muhlhaus, H.B., 2002. Mantle convection modeling with viscoelastic/brittle lithosphere: Numerical methodology and plate tectonic modeling. Pure Appl. Geophys. 159 (10), 2335–2356.\n",
    "2. Moresi, L., Dufour, F., Muhlhaus, H.B., 2003. A Lagrangian integration point finite element method for large deformation modeling of viscoelastic geomaterials. J. Comput. Phys. 184, 476–497.\n",
    "3. Moresi, L., Quenette, S., Lemiale, V., Meriaux, C., Appelbe, B., Muhlhaus, H.-B., 2007. Computational approaches to studying non-linear dynamics of the crust and mantle. Physics of the Earth and Planetary Interiors 163, 69–82.\n"
   ]
  },
  {
   "cell_type": "code",
   "execution_count": 24,
   "metadata": {
    "collapsed": false
   },
   "outputs": [],
   "source": [
    "import underworld as uw\n",
    "import glucifer"
   ]
  },
  {
   "cell_type": "markdown",
   "metadata": {},
   "source": [
    "Mesh overview\n",
    "------\n",
    "\n",
    "Underworld uses a modified finite element method which uses both a fixed background computational mesh and a collection of Lagrangian tracking points. The details of the implementation of the method are given in Moresi et al. (2002, 2003) and a summary of the approach taken by the Underworld code is given in Moresi et al. 2007. \n",
    "\n",
    "In the case of finite elements of implicit systems, a system needs to be represented both in a geometric (the mesh) and linear-systems (the matrix) sense. This means that finite element codes have heavy \"book-keeping\" requirements which are compounded when the code is run in parallel.\n",
    "\n",
    "The division of the mesh across different computational nodes is handled through MPI calls underneath the Python layer of Underworld. The move into parallel is discussed in another user guide.\n"
   ]
  },
  {
   "cell_type": "markdown",
   "metadata": {},
   "source": [
    "Setting up meshes\n",
    "-----\n",
    "\n",
    "**Create a mesh object**\n",
    "\n",
    "The following command shows how to do create a mesh consiting of a ``res``$\\times$``res`` cells of a particular configuration, in this case a linear, constant grid (``elementType = \"Q1/dQ0\"``). The spatial extent of the mesh will be the box height and length specified above. \n",
    "\n",
    "A visualisation of the mesh nodes for a single cell using the \"Q1/dQ0\" mesh type is shown below in 2D and 3D - see [here](http://femtable.org/) for a full list of element types and their naming convention. This elementType means that the primary mesh elements on the edges of the cell are in a \"Q1\" configuration, while the secondary (sub mesh) nodes are found inside the cell in a \"dQ0\" configuration.\n",
    "\n",
    "![](Figures/Mesh_Q1dQ0.png)\n",
    "\n",
    "Other ``elementTypes`` change the configuration of the mesh nodes around each cell and are examined in more detail at the end of this notebook.\n",
    "\n",
    "For now we will step through what a mesh looks like. Firstly we will create a 2D mesh object with maximum coordinates of (1.0, 1.0) and a resolution of 4 $\\times$ 4 cells. To create a 3D object add an extra term in the tuples for the ``elementRes``, ``minCoord`` and ``maxCoord``."
   ]
  },
  {
   "cell_type": "code",
   "execution_count": 25,
   "metadata": {
    "collapsed": false
   },
   "outputs": [],
   "source": [
    "mesh = uw.mesh.FeMesh_Cartesian( elementType = (\"Q1/dQ0\"), \n",
    "                                 elementRes  = (4, 4), \n",
    "                                 minCoord    = (0., 0.), \n",
    "                                 maxCoord    = (1., 1.))"
   ]
  },
  {
   "cell_type": "markdown",
   "metadata": {},
   "source": [
    "**Plot representation of mesh**\n",
    "\n",
    "To see what the mesh looks like we plot it using the ``.Mesh`` function in ``gLucifer``."
   ]
  },
  {
   "cell_type": "code",
   "execution_count": 26,
   "metadata": {
    "collapsed": false
   },
   "outputs": [
    {
     "data": {
      "text/html": [
       "<img src='data:image/png;base64,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'>"
      ],
      "text/plain": [
       "<IPython.core.display.HTML object>"
      ]
     },
     "execution_count": 26,
     "metadata": {},
     "output_type": "execute_result"
    }
   ],
   "source": [
    "figMesh = glucifer.Figure()\n",
    "figMesh + glucifer.objects.Mesh(mesh.subMesh, nodeNumbers=True)\n",
    "figMesh + glucifer.objects.Mesh(mesh, nodeNumbers=True)\n",
    "figMesh.show()"
   ]
  },
  {
   "cell_type": "markdown",
   "metadata": {},
   "source": [
    "**Sub meshes**\n",
    "\n",
    "The sub mesh is visible in the above figure via the index numbers inside each mesh cell. For reasons of numerical stability when solving the Stokes equations, the pressure field must be solved on a different mesh node configuration to the other fields. This configuration is accessed via the ``.subMesh`` function in underworld.\n",
    "\n",
    "The sub mesh is only used for the pressure field since the pressure is evaluated inside the cell, whereas the temperature and velocity fields are evaluated on the edges. This means that the temperature and velocity field edges are the true simulation boundary, which is used when setting up boundary conditions (see the **Systems** guide).\n",
    "\n",
    "For the newly created mesh object, the **main mesh (``Q1``) has node points on the edge of the cell** and is stored in the ``mesh`` object itself, while the **sub mesh (``dQ0``) has node points inside the cell** and stored in the ``mesh.subMesh`` object.  The list of spatial coordinates for each mesh node is stored in the ``.data`` method of the mesh or sub mesh object. "
   ]
  },
  {
   "cell_type": "markdown",
   "metadata": {},
   "source": [
    "Due to their different configurations, the total number of mesh points for the mesh and sub mesh are different. This can be demonstrated by looking at the lengths of the coordinate data arrays."
   ]
  },
  {
   "cell_type": "code",
   "execution_count": 27,
   "metadata": {
    "collapsed": false
   },
   "outputs": [
    {
     "name": "stdout",
     "output_type": "stream",
     "text": [
      " Number of mesh points (Total) = 25\n",
      "      Number of submesh points = 16\n"
     ]
    }
   ],
   "source": [
    "print(' Number of mesh points (Total) = {0:2d}'.format(len(mesh.data)))\n",
    "print('      Number of submesh points = {0:2d}'.format(len(mesh.subMesh.data)))"
   ]
  },
  {
   "cell_type": "markdown",
   "metadata": {},
   "source": [
    "In the above figure the large points are on the vertex node points for the ``elementMesh`` grid, while the smaller points denote the ``subMesh``. The larger mesh is used for the temperature and velocity fields, while the pressure field is used on the sub mesh. This example shows the ``elementType`` geometry of ``\"Q1/dQ0\"``, these are explained along with other mesh types below."
   ]
  },
  {
   "cell_type": "markdown",
   "metadata": {},
   "source": [
    "Modifying meshes\n",
    "-----\n",
    "\n",
    "Underworld supports irregular mesh geometries although only regular meshes are presently provided. This is important as it allows us to create custom meshes. For example the following cell creates a mesh which is exponentially spaced in the vertical direction, thus increasing the resolution at the top of the simulation domain.\n"
   ]
  },
  {
   "cell_type": "code",
   "execution_count": 28,
   "metadata": {
    "collapsed": false
   },
   "outputs": [],
   "source": [
    "mesh = uw.mesh.FeMesh_Cartesian( elementType = (\"Q1\"), \n",
    "                                 elementRes  = (8, 8), \n",
    "                                 minCoord    = (0.0, 0.0), \n",
    "                                 maxCoord    = (1.0, 1.0))"
   ]
  },
  {
   "cell_type": "code",
   "execution_count": 29,
   "metadata": {
    "collapsed": false
   },
   "outputs": [
    {
     "data": {
      "text/html": [
       "<img src='data:image/png;base64,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'>"
      ],
      "text/plain": [
       "<IPython.core.display.HTML object>"
      ]
     },
     "execution_count": 29,
     "metadata": {},
     "output_type": "execute_result"
    }
   ],
   "source": [
    "figMesh = glucifer.Figure()\n",
    "figMesh + glucifer.objects.Mesh(mesh, nodeNumbers=True)\n",
    "figMesh.show()"
   ]
  },
  {
   "cell_type": "markdown",
   "metadata": {},
   "source": [
    "By default the mesh data is read only. The following cell will unlock the mesh and displace a single node of the mesh in the positive x direction."
   ]
  },
  {
   "cell_type": "code",
   "execution_count": 30,
   "metadata": {
    "collapsed": false
   },
   "outputs": [
    {
     "data": {
      "text/html": [
       "<img src='data:image/png;base64,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'>"
      ],
      "text/plain": [
       "<IPython.core.display.HTML object>"
      ]
     },
     "execution_count": 30,
     "metadata": {},
     "output_type": "execute_result"
    }
   ],
   "source": [
    "with mesh.deform_mesh():\n",
    "    mesh.data[40][0] += 0.01\n",
    "figMesh.show()"
   ]
  },
  {
   "cell_type": "markdown",
   "metadata": {},
   "source": [
    "Deforming meshes allows us to increase resolution where it is needed most. For example at the top of the simulation domain by redefining the vertical mesh coordinate to be $z := 1-z^2$ "
   ]
  },
  {
   "cell_type": "code",
   "execution_count": 31,
   "metadata": {
    "collapsed": false
   },
   "outputs": [
    {
     "data": {
      "text/html": [
       "<img src='data:image/png;base64,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'>"
      ],
      "text/plain": [
       "<IPython.core.display.HTML object>"
      ]
     },
     "execution_count": 31,
     "metadata": {},
     "output_type": "execute_result"
    }
   ],
   "source": [
    "mesh.reset()  # restore the mesh to the original configuration specified by elementType\n",
    "with mesh.deform_mesh():\n",
    "    for index, coord in enumerate(mesh.data):\n",
    "        mesh.data[index][1] = 1.0 - mesh.data[index][1]*mesh.data[index][1]\n",
    "figMesh.show()"
   ]
  },
  {
   "cell_type": "markdown",
   "metadata": {},
   "source": [
    "Saving and loading meshes\n",
    "------\n",
    "\n",
    "Mesh coordinate data can be saved in hdf5 format using the ``save`` method attached to the ``mesh`` class. The following line will save the mesh to a file."
   ]
  },
  {
   "cell_type": "code",
   "execution_count": 32,
   "metadata": {
    "collapsed": true
   },
   "outputs": [],
   "source": [
    "mesh.save('deformedMesh.h5')"
   ]
  },
  {
   "cell_type": "markdown",
   "metadata": {},
   "source": [
    "To check that this has worked we will re-create the mesh, plot and then reload the saved mesh."
   ]
  },
  {
   "cell_type": "code",
   "execution_count": 33,
   "metadata": {
    "collapsed": false
   },
   "outputs": [
    {
     "data": {
      "text/html": [
       "<img src='data:image/png;base64,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'>"
      ],
      "text/plain": [
       "<IPython.core.display.HTML object>"
      ]
     },
     "execution_count": 33,
     "metadata": {},
     "output_type": "execute_result"
    }
   ],
   "source": [
    "mesh = uw.mesh.FeMesh_Cartesian( elementType = (\"Q1\"), \n",
    "                                 elementRes  = (8, 8), \n",
    "                                 minCoord    = (0.0, 0.0), \n",
    "                                 maxCoord    = (1.0, 1.0))\n",
    "figMesh = glucifer.Figure()\n",
    "figMesh + glucifer.objects.Mesh(mesh, nodeNumbers=True)\n",
    "figMesh.show()"
   ]
  },
  {
   "cell_type": "markdown",
   "metadata": {},
   "source": [
    "**Load mesh coming soon...**"
   ]
  },
  {
   "cell_type": "markdown",
   "metadata": {},
   "source": [
    "Different types of mesh geometries\n",
    "-----\n",
    "\n",
    "Here we will examine the different mesh types that are available in ``underworld``.\n",
    "\n",
    "The geometry of the mesh and subMesh is controlled from the ``elementType`` field in the mesh creation command. The mesh types are entered such that the first part is for the edge mesh, while the second part is for the sub mesh used by the pressure field. For example the ``Q1/dQ0`` mesh means that the edges of each rectangular cell use ``Q1`` and the sub mesh uses ``dQ0``. In particular this means that the are only nodes on the vertices of the edge mesh, and there is a single node in the centre of each cell. A full list of element types can be found [here](http://femtable.org/).\n",
    "\n",
    "List of ``element types`` currently available in ``underworld``:\n",
    "\n",
    "1. For the primary elementType: ``Q1`` or ``Q2``\n",
    "2. For the secondary elementType: ``dQ0``, ``dQ1`` or ``dPC1``\n",
    "\n"
   ]
  },
  {
   "cell_type": "markdown",
   "metadata": {},
   "source": [
    "Set up mesh with for a single cell in 3 dimensions."
   ]
  },
  {
   "cell_type": "code",
   "execution_count": 34,
   "metadata": {
    "collapsed": false
   },
   "outputs": [],
   "source": [
    "mesh = uw.mesh.FeMesh_Cartesian( elementType = (\"Q1/dQ0\"), \n",
    "                                 elementRes  = (1, 1, 1), \n",
    "                                 minCoord    = (0.0, 0.0, 0.0), \n",
    "                                 maxCoord    = (1.0, 1.0, 1.0))"
   ]
  },
  {
   "cell_type": "markdown",
   "metadata": {},
   "source": [
    "Create swarms with particles on the mesh and sub mesh nodes. For more information on **swarms** see the user guide."
   ]
  },
  {
   "cell_type": "code",
   "execution_count": 35,
   "metadata": {
    "collapsed": false
   },
   "outputs": [
    {
     "data": {
      "text/plain": [
       "array([0], dtype=int32)"
      ]
     },
     "execution_count": 35,
     "metadata": {},
     "output_type": "execute_result"
    }
   ],
   "source": [
    "swarmMesh   = uw.swarm.Swarm( mesh=mesh )\n",
    "swarmCoords = mesh.data\n",
    "swarmMesh.add_particles_with_coordinates(swarmCoords)\n",
    "swarmSubMesh = uw.swarm.Swarm( mesh=mesh )\n",
    "swarmCoords  = mesh.subMesh.data\n",
    "swarmSubMesh.add_particles_with_coordinates(swarmCoords)"
   ]
  },
  {
   "cell_type": "markdown",
   "metadata": {},
   "source": [
    "Plot the mesh and sub mesh vertices with some aesthic changes for 3D visualisation. For more on visualising results in notebooks using Underworld see the **Visualisation with gLucifer** user guide."
   ]
  },
  {
   "cell_type": "code",
   "execution_count": 37,
   "metadata": {
    "collapsed": false
   },
   "outputs": [
    {
     "data": {
      "text/html": [
       "<img src='data:image/png;base64,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'>"
      ],
      "text/plain": [
       "<IPython.core.display.HTML object>"
      ]
     },
     "execution_count": 37,
     "metadata": {},
     "output_type": "execute_result"
    }
   ],
   "source": [
    "fig2 = glucifer.Figure()\n",
    "fig2 + glucifer.objects.Points( swarm=swarmMesh,    pointSize=50, colourBar = False )\n",
    "fig2 + glucifer.objects.Points( swarm=swarmSubMesh, pointSize=20, colourBar = False )\n",
    "if(len(mesh.elementRes)==3):\n",
    "    sc = fig2.script('rotate y -30')\n",
    "    sc = fig2.script('zoom -0.1')\n",
    "fig2.show()"
   ]
  },
  {
   "cell_type": "code",
   "execution_count": null,
   "metadata": {
    "collapsed": true
   },
   "outputs": [],
   "source": []
  }
 ],
 "metadata": {
  "kernelspec": {
   "display_name": "Python 2",
   "language": "python",
   "name": "python2"
  },
  "language_info": {
   "codemirror_mode": {
    "name": "ipython",
    "version": 2
   },
   "file_extension": ".py",
   "mimetype": "text/x-python",
   "name": "python",
   "nbconvert_exporter": "python",
   "pygments_lexer": "ipython2",
   "version": "2.7.10"
  }
 },
 "nbformat": 4,
 "nbformat_minor": 0
}
