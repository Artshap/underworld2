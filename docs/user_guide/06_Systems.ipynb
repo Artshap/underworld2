{
 "metadata": {
  "kernelspec": {
   "display_name": "Python 2",
   "language": "python",
   "name": "python2"
  },
  "language_info": {
   "codemirror_mode": {
    "name": "ipython",
    "version": 2
   },
   "file_extension": ".py",
   "mimetype": "text/x-python",
   "name": "python",
   "nbconvert_exporter": "python",
   "pygments_lexer": "ipython2",
   "version": "2.7.11+"
  },
  "name": ""
 },
 "nbformat": 3,
 "nbformat_minor": 0,
 "worksheets": [
  {
   "cells": [
    {
     "cell_type": "markdown",
     "metadata": {},
     "source": [
      "# Systems and Solvers\n",
      "\n",
      "\n",
      "`systems` are objects used in Underworld to numerically describe the following physical equations\n",
      "\n",
      "* Steady State Heat Equation, a.k.a Poisson's equation.\n",
      "* Stokes equation.\n",
      "* Advection Diffusion equation.\n",
      "* Advection equation.\n",
      "* Thermomechanical Modelling\n",
      "\n",
      "`systems` combine numerical algorithms with Underworld data structres, eg `MeshVariable`, `Swarm`, `Functions` and other input parameters; encapsulating the discretisation of the equation. A numerical `Solver` is then used to calculate a solution of a given `systems` object. \n",
      "\n",
      "**Keywords:** underworld systems, boundary conditions, heat equation, Stokes system, advection system\n",
      "\n",
      "**References**\n",
      "\n",
      "1. T. J. R. Hughes. The Finite Element Method: Linear Static and Dynamic Finite Element Analysis. Prentice-Hall, Inc. 1987"
     ]
    },
    {
     "cell_type": "markdown",
     "metadata": {},
     "source": [
      "## Steady state heat equation\n",
      "\n",
      "$\n",
      "    \\nabla(k\\nabla)T + h = 0\n",
      "$\n",
      "\n",
      "where, \n",
      "* $T$ is the temperature variable.\n",
      "* $k$ is a diffusivity term. \n",
      "* $h$ is a heating term.\n",
      "\n",
      "This equation, given known $T$ values (the boundary conditions), solves for $T$ within the domain.\n",
      "\n",
      "-------\n",
      "\n",
      "In Underworld the `systems.SteadyStateHeat()` object is used to describe the equation above; its inputs are: \n",
      "* a `MeshVariable`, representing the temperature field and its boundary values\n",
      "* 2 `Function`'s, representing $ k $ and $ h $. \n",
      "* the boundary conditions of $T$, defined with `DirichletCondition` or `NeumannCondition` objects.\n",
      "\n",
      "`SteadyStateHeat` implements a galerkin finite element method to construct a system of linear equations. The linear system takes the following form,  \n",
      "\n",
      "$ A x = b $,  \n",
      "\n",
      "where $x$ is the unknown, in this case the temperature variable.\n",
      "\n",
      "To solve the linear system for $x$, one creates a separate `Solver` object and calls its `solve()` method. This results in the `MeshVariable` (temperature) being updated with the FEM solution. \n",
      "\n",
      "-------\n",
      "\n",
      "For an example of the implementation of the Steady state heat equation see the notebook at `../test/SSHeatEq.ipynb`. \n",
      "  "
     ]
    },
    {
     "cell_type": "markdown",
     "metadata": {},
     "source": [
      "## Advection Diffusion Equations\n",
      "\n",
      "$\n",
      "    \\nabla(k\\nabla)T + h = 0\n",
      "$\n",
      "\n",
      "where, \n",
      "* $T$ is the temperature variable.\n",
      "* $k$ is the diffusivity. \n",
      "* $h$ is a heating term.\n",
      "\n",
      "This equation, given known $T$ values (the boundary conditions), solves for $T$ within the domain.\n",
      "\n",
      "-------\n",
      "\n",
      "In Underworld the `systems.SteadyStateHeat()` object is used to describe the equation above; its inputs are: \n",
      "* a `MeshVariable`, representing the temperature field and its boundary values\n",
      "* 2 `Function`'s, representing $ k $ and $ h $. \n",
      "* the boundary conditions of $T$, defined using the `DirichletCondition` or `NeumannCondition` object.\n",
      "\n",
      "\n",
      "\n",
      "`SteadyStateHeat` implements a galerkin finite element method to construct a system of linear equations. The linear system takes the following form,  \n",
      "\n",
      "$ A x = b $,  \n",
      "\n",
      "where $x$ is the unknown, in this case the temperature variable.\n",
      "\n",
      "To solve the linear system for $x$, one creates a separate `Solver` object and calls its `solve()` method. This results in the `MeshVariable` (temperature) being updated with the FEM solution. \n",
      "\n",
      "-------\n",
      "\n",
      "For an example of the implementation of the Steady state heat equation see the notebook at `../test/SSHeatEq.ipynb`. "
     ]
    },
    {
     "cell_type": "markdown",
     "metadata": {},
     "source": [
      "## Stokes systems\n",
      "\n",
      "$\n",
      "    \\nabla \\cdot \\left( 2 \\eta \\nabla \\dot\\varepsilon \\right) - \\nabla p = \\mathbf{f}\n",
      "$\n",
      "\n",
      "$\n",
      "    \\nabla \\cdot \\mathbf{v} + Mp = h\n",
      "$\n",
      "\n",
      "where, \n",
      "* $\\varepsilon_{ij}$ is a strain rate tensor, $\\varepsilon_{ij} = 0.5 \\left[ \\mathbf{v}_{i,j} + \\mathbf{v}_{j,i} \\right]$, $\\mathbf{v}$ is velocity.\n",
      "* $p$ is a pressure-like variable.\n",
      "* $\\eta$ is viscosity.\n",
      "* $ \\mathbf{f} $ is a body force.\n",
      "* $M$ and $h$ are compressibility parameters ( both set to 0 for incompressible flow)\n",
      "\n",
      "The stokes system in Underworld is implemented with the `systems.Stokes()` object. It's inputs are:\n",
      "* 2 `MeshVariable`, 1 for the velocity solution and 1 for the pressure like solution\n",
      "* 2 `Function`'s, representing $ \\eta $ and $ \\mathbf{f} $. \n",
      "* the boundary conditions of $v$, defined using a `DirichletCondition`  or `NeumannCondition` object. \n",
      "\n",
      "The `Stokes` object implements a linear system of equations of the form:\n",
      "\n",
      "$\n",
      "\\begin{bmatrix}\n",
      "K & G \\\\ \n",
      "G^{T} & M\n",
      "\\end{bmatrix}\\begin{bmatrix}u \\\\p \\end{bmatrix}\n",
      "= \n",
      "\\begin{bmatrix}\n",
      "F \\\\ \n",
      "h\n",
      "\\end{bmatrix}\n",
      "$\n",
      "\n",
      "\n",
      "To solve the linear system for $\\begin{bmatrix}u \\\\p \\end{bmatrix}$, one creates a separate `Solver` object and calls its `solve()` method. This results in the `MeshVariable`s (representing $u$ & $p$) being updated with the FEM solution.\n",
      "\n",
      "See the user guide `/user_guide/09_StokesSolver.ipynb` for more details on solving the stokes system.\n",
      "\n",
      "For an example of the implementation of the Stokes equation see   \n",
      "`../examples/1_06_Rayleigh_Taylor.ipynb`\n",
      "\n",
      "\n",
      "For an example with a stress condition see  \n",
      "`../test/StokesEq_PoiseuilleFlow.ipynb`\n"
     ]
    },
    {
     "cell_type": "markdown",
     "metadata": {},
     "source": [
      "Particle advection\n",
      "-----\n",
      "\n",
      "Advection of a `Swarm` is handled by the `systems.SwarmAdvector` object. The `SwarmAdvector` is defined to act on a specific swarm with a given order; thereafter the user can control when it excutes to update the swarm's particle positions.\n",
      "\n",
      "For an example of its use see, ``../examples/1_06_Rayleigh_Taylor.ipynb``."
     ]
    },
    {
     "cell_type": "markdown",
     "metadata": {},
     "source": [
      "## Thermomechanical modelling\n",
      "\n",
      "To simulate thermomechanical simulations Underworld weakly couples the stokes equations to the heat equation. This weak coupling, where solution variables are solved independently, is reflected in Underworld's implementation.\n",
      "For an example of this see  \n",
      "`examples/1_02_Convection_Example.ipynb`"
     ]
    }
   ],
   "metadata": {}
  }
 ]
}
