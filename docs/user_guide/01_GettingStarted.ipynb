{
 "cells": [
  {
   "cell_type": "markdown",
   "metadata": {},
   "source": [
    "Getting started\n",
    "======\n",
    "\n",
    "**Keywords:** import, IPython notebooks\n",
    "\n",
    "Welcome to using Underworld! \n",
    "-----\n",
    "\n",
    "[_Underworld 2_](http://www.underworldcode.org) provides a python user interface to the Underworld code providing a programmable and flexible front end to the code running in a parallel HPC environment. This gives signficant advantages to the user, allowing them to leverage third party python libraries for model configuration, analysis at runtime, coupling of multiple physics, etc. The python interface was partly funded by the NeCTAR [eResearch_tools](http://www.nectar.org.au/eresearch-tools) program.\n",
    "\n",
    "The python interface allows users to make use of Jupyter (formerly IPython) notebooks. This allows for an interactive approach to the development and analysis of models.\n",
    "\n",
    "Documentation\n",
    "----\n",
    "Underworld documentation is broken down into: \n",
    "\n",
    "1. **examples**: go through the entire workflow for geophysics type problems.\n",
    "2. **user guide**: a more focused look at particular aspects of Underworld (e.g. swarm particles).\n",
    "3. **publications**: detailed notebooks replicating models and results from the literature. \n",
    "4. **docstrings**: docstrings are utilsed to document the Underworld API.\n",
    "\n",
    "Underworld requires basic knowledge of python; constructs such as lists, tuples, modules, for-loops, printing and simple functions. This guide covers the basics of how to load modules for Underworld and how to use Jupyter notebooks. A short overview of a typical Underworld model with plots is given at the end of this guide.\n",
    "\n",
    "The purpose of this user guide is to give users a more detailed understanding of the various aspects of modelling with Underworld. For those interested in getting moving as quickly as possible, the examples are perhaps a better place to start.\n",
    "\n",
    "Underworld objects utilise python docstrings to provide documentation inline. You may access this documentation directly by using the native python ``help()`` function, for eg. ``help(underworld)``. Most objects in python and Underworld have instructions that can be accessed via the help function. Quick help information in the form of a pop-up window can be obtained by using a question mark after the object within Ipython/Jupyter notebooks; e.g. ``uw?``. There is also a custom Underworld help function (```uw.help()```) which outputs a minimal version of the object docstring.\n",
    "\n",
    "\n",
    "Notebooks\n",
    "----\n",
    "\n",
    "If you are new to the Jupyter Notebook, you may wish to familiarise yourself with the notebook environment first. There are many useful examples available online. Also, when using the notebook interactively, the **Help** menu bar option provides handy references. \n"
   ]
  },
  {
   "cell_type": "markdown",
   "metadata": {},
   "source": [
    "Installation\n",
    "----\n",
    "\n",
    "This guide assumes that you have already installed Underworld. Details on how to install Underworld may be found at the project github page:\n",
    "https://github.com/underworldcode/underworld2"
   ]
  },
  {
   "cell_type": "markdown",
   "metadata": {},
   "source": [
    "How to get help\n",
    "----\n",
    "\n",
    "If you encounter issues or suspect a bug, please create a ticket using the [issue tracker on github](https://github.com/underworldcode/underworld2/issues)."
   ]
  },
  {
   "cell_type": "markdown",
   "metadata": {},
   "source": [
    "Importing\n",
    "----\n",
    "\n",
    "Run the following cell (either the ``run button`` on the menu above or press ``shift+enter``) to load the Underworld module:"
   ]
  },
  {
   "cell_type": "code",
   "execution_count": 1,
   "metadata": {
    "collapsed": false
   },
   "outputs": [],
   "source": [
    "import underworld as uw"
   ]
  },
  {
   "cell_type": "markdown",
   "metadata": {
    "collapsed": true
   },
   "source": [
    "A quick demo\n",
    "-----\n",
    "\n",
    "Let's do a quick run through of setting up some basic Underworld objects.\n",
    "\n",
    "First, create a mesh:"
   ]
  },
  {
   "cell_type": "code",
   "execution_count": 2,
   "metadata": {
    "collapsed": true
   },
   "outputs": [],
   "source": [
    "mesh = uw.mesh.FeMesh_Cartesian( elementType = (\"Q1\"), \n",
    "                                 elementRes  = (8, 8), \n",
    "                                 minCoord    = (0., 0.), \n",
    "                                 maxCoord    = (2., 1.))"
   ]
  },
  {
   "cell_type": "markdown",
   "metadata": {},
   "source": [
    "Next we create a mesh variable:"
   ]
  },
  {
   "cell_type": "code",
   "execution_count": 3,
   "metadata": {
    "collapsed": true
   },
   "outputs": [],
   "source": [
    "temperatureField = uw.mesh.MeshVariable( mesh=mesh, nodeDofCount=1 )"
   ]
  },
  {
   "cell_type": "markdown",
   "metadata": {},
   "source": [
    "Let's initialise the variable with some data:"
   ]
  },
  {
   "cell_type": "code",
   "execution_count": 4,
   "metadata": {
    "collapsed": true
   },
   "outputs": [],
   "source": [
    "for index, coord in enumerate(mesh.data):\n",
    "    temperatureField.data[index] = coord[1]  # set the temperature to be the vertical (y) coordinate"
   ]
  },
  {
   "cell_type": "markdown",
   "metadata": {},
   "source": [
    "Finally we will plot the temperature field using ``gLucifer`` after importing the gLucifer module."
   ]
  },
  {
   "cell_type": "code",
   "execution_count": 5,
   "metadata": {
    "collapsed": false
   },
   "outputs": [
    {
     "data": {
      "text/html": [
       "<img src='data:image/png;base64,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'>"
      ],
      "text/plain": [
       "<IPython.core.display.HTML object>"
      ]
     },
     "execution_count": 5,
     "metadata": {},
     "output_type": "execute_result"
    }
   ],
   "source": [
    "import glucifer\n",
    "fig = glucifer.Figure(figsize=(800,400))\n",
    "fig.append( glucifer.objects.Surface(mesh, temperatureField, colours=\"blue white red\") )\n",
    "fig.append( glucifer.objects.Mesh(mesh) )\n",
    "fig.show()"
   ]
  },
  {
   "cell_type": "markdown",
   "metadata": {},
   "source": [
    "Typically we might then setup boundary conditions, particle swarms, rheology and systems to be solved.\n",
    "\n",
    "All of these topics are discussed in the following sections of the user guide."
   ]
  }
 ],
 "metadata": {
  "kernelspec": {
   "display_name": "Python 2",
   "language": "python",
   "name": "python2"
  },
  "language_info": {
   "codemirror_mode": {
    "name": "ipython",
    "version": 2
   },
   "file_extension": ".py",
   "mimetype": "text/x-python",
   "name": "python",
   "nbconvert_exporter": "python",
   "pygments_lexer": "ipython2",
   "version": "2.7.10"
  }
 },
 "nbformat": 4,
 "nbformat_minor": 0
}
