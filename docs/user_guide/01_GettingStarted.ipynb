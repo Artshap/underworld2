{
 "cells": [
  {
   "cell_type": "markdown",
   "metadata": {},
   "source": [
    "Getting started\n",
    "======\n",
    "\n",
    "**Keywords:** import, IPython notebooks\n",
    "\n",
    "Welcome to using Underworld! \n",
    "-----\n",
    "\n",
    "[_Underworld 2_](http://www.underworldcode.org) is a python-friendly version of the Underworld code which provides a programmable and flexible front end to all the functionality of the code running in a parallel HPC environment. This gives signficant advantages to the user, allowing them to leverage third party python libraries for model configuration, analysis at runtime, coupling of multiple physics, etc. The python toolkit was partly funded by the NeCTAR [eResearch_tools](http://www.nectar.org.au/eresearch-tools) program.\n",
    "\n",
    "Underworld uses python and Jupyter (formerly IPython) notebooks to provide a user-friendly front end. This allows an interactive approach to building models, where cells can be re-run (or run in any order) while developing. It also allows inline visualisation via gLucifer. \n",
    "\n",
    "Documentation\n",
    "----\n",
    "Underworld documentation is broken down into: \n",
    "\n",
    "1. **examples**: go through the entire workflow for geophysics type problems.\n",
    "2. **user guide**: a more focused look at particular aspects of Underworld (e.g. swarm particles).\n",
    "3. **publications**: detailed notebooks replicating models and results from the literature. \n",
    "4. **docstrings**: docstrings are utilsed to document the Underworld API.\n",
    "\n",
    "Underworld only requires basic knowledge of python; constructs such as lists, tuples, modules, for loops, printing and simple functions. This guide covers the basics of how to load modules for Underworld and how to use Jupyter notebooks. A short overview of a typical Underworld model with gLucifer plots is given at the end of this guide.\n",
    "\n",
    "The purpose of this user guide is to give users a more detailed understand of the various aspects of modelling with Underworld. For those interested in getting moving as quickly as possible, the examples are perhaps a better place to start.\n",
    "\n",
    "Underworld objects utilise python docstrings to provide documentation inline. You may access this documentation directly by using the native python ``help()`` function, for eg. ``help(underworld)``. Most objects in python and Underworld have instructions that can be accessed via the help function. Quick help information in the form of a pop-up window can be obtained by using a question mark after the object within Ipython/Jupyter notebooks; e.g. ``uw?``. There is also a custom Underworld help function (```uw.help()```) which outputs a minimal version of the object docstring.\n",
    "\n",
    "\n",
    "Notebooks\n",
    "----\n",
    "\n",
    "If you are new to the Jupyter Notebook, you may wish to familiarise yourself with the notebook environment first. There are many useful examples available online. Also, when using the notebook interactively, the **Help** menu bar option provides handy references. \n"
   ]
  },
  {
   "cell_type": "markdown",
   "metadata": {},
   "source": [
    "Installation\n",
    "----\n",
    "\n",
    "This guide assumes that you have already installed Underworld. Details on how to install Underworld may be found at the project github page:\n",
    "https://github.com/underworldcode/underworld2"
   ]
  },
  {
   "cell_type": "markdown",
   "metadata": {},
   "source": [
    "How to get help\n",
    "----\n",
    "\n",
    "If you encounter issues or suspect a bug, please create a ticket using the [issue tracker on github](https://github.com/underworldcode/underworld2/issues)."
   ]
  },
  {
   "cell_type": "markdown",
   "metadata": {},
   "source": [
    "Importing\n",
    "----\n",
    "\n",
    "Run the following cell (either the ``run button`` on the menu above or press ``shift+enter``) to load the Underworld module:"
   ]
  },
  {
   "cell_type": "code",
   "execution_count": 11,
   "metadata": {
    "collapsed": false
   },
   "outputs": [],
   "source": [
    "import underworld as uw"
   ]
  },
  {
   "cell_type": "markdown",
   "metadata": {
    "collapsed": true
   },
   "source": [
    "A quick demo\n",
    "-----\n",
    "\n",
    "Let's do a quick run through of setting up some basic Underworld objects.\n",
    "\n",
    "First, create the mesh:"
   ]
  },
  {
   "cell_type": "code",
   "execution_count": 25,
   "metadata": {
    "collapsed": true
   },
   "outputs": [],
   "source": [
    "mesh = uw.mesh.FeMesh_Cartesian( elementType = (\"Q1\"), \n",
    "                                 elementRes  = (8, 8), \n",
    "                                 minCoord    = (0., 0.), \n",
    "                                 maxCoord    = (2., 1.))"
   ]
  },
  {
   "cell_type": "markdown",
   "metadata": {},
   "source": [
    "Next we create a mesh variable:"
   ]
  },
  {
   "cell_type": "code",
   "execution_count": 26,
   "metadata": {
    "collapsed": true
   },
   "outputs": [],
   "source": [
    "temperatureField = uw.mesh.MeshVariable( mesh=mesh, nodeDofCount=1 )"
   ]
  },
  {
   "cell_type": "markdown",
   "metadata": {},
   "source": [
    "Let's initialise the variable with some data:"
   ]
  },
  {
   "cell_type": "code",
   "execution_count": 27,
   "metadata": {
    "collapsed": true
   },
   "outputs": [],
   "source": [
    "for index, coord in enumerate(mesh.data):\n",
    "    temperatureField.data[index] = coord[1]  # set the temperature to be the vertical (y) coordinate"
   ]
  },
  {
   "cell_type": "markdown",
   "metadata": {},
   "source": [
    "Finally we will plot the temperature field using ``gLucifer`` after importing the gLucifer module."
   ]
  },
  {
   "cell_type": "code",
   "execution_count": 28,
   "metadata": {
    "collapsed": false
   },
   "outputs": [
    {
     "data": {
      "text/html": [
       "<img src='data:image/png;base64,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'>"
      ],
      "text/plain": [
       "<IPython.core.display.HTML object>"
      ]
     },
     "execution_count": 28,
     "metadata": {},
     "output_type": "execute_result"
    }
   ],
   "source": [
    "import glucifer\n",
    "fig = glucifer.Figure(figsize=(800,400))\n",
    "fig.append( glucifer.objects.Surface(mesh, temperatureField, colours=\"blue white red\") )\n",
    "fig.append( glucifer.objects.Mesh(mesh) )\n",
    "fig.show()"
   ]
  },
  {
   "cell_type": "markdown",
   "metadata": {},
   "source": [
    "Typically we might then setup boundary conditions, particle swarms, rheology and systems to be solved.\n",
    "\n",
    "All of these topics are discussed in the following sections of the user guide."
   ]
  }
 ],
 "metadata": {
  "kernelspec": {
   "display_name": "Python 2",
   "language": "python",
   "name": "python2"
  },
  "language_info": {
   "codemirror_mode": {
    "name": "ipython",
    "version": 2
   },
   "file_extension": ".py",
   "mimetype": "text/x-python",
   "name": "python",
   "nbconvert_exporter": "python",
   "pygments_lexer": "ipython2",
   "version": "2.7.10"
  }
 },
 "nbformat": 4,
 "nbformat_minor": 0
}
