{
 "cells": [
  {
   "cell_type": "markdown",
   "metadata": {},
   "source": [
    "Getting started\n",
    "======\n",
    "\n",
    "Welcome to using Underworld! \n",
    "-----\n",
    "\n",
    "[_Underworld 2_](http://www.underworldcode.org) is a python-friendly version of the Underworld code which provides a programmable and flexible front end to all the functionality of the code running in a parallel HPC environment. This gives signficant advantages to the user, with access to the power of python libraries for setup of complex problems, analysis at runtime, problem steering, and coupling of multiple problems. The python toolkit was funded by the NeCTAR [eResearch_tools](http://www.nectar.org.au/eresearch-tools) program.\n",
    "\n",
    "Underworld uses python and Jupyter (IPython) notebooks to provide a user-friendly front end. This allows an interactive approach to building up models, where cells can be run in any order while developing. It also allows visualisation on the fly with gLucifer. Notebooks are used to provide tutorials and user guides to users wanting to learn how to use Underworld. Publications based on Underworld, or replicating models used in the literature, are also included in notebook form. We encourage users to contact us if/when they wish to make available their own notebooks associated with their publications.\n",
    "\n",
    "Underworld only requires basic knowledge of python; constructs such as lists, tuples, modules, for loops, printing and simple functions. This guide covers the basics of how to load modules for Underworld and how to use Jupyter (IPython) notebooks. A short overview of a typical Underworld model with gLucifer plots is given at the end of this guide.\n",
    "\n",
    "This guide is the first of a series of user guides, designed to be series of \"how-to\" reference notebooks. These are designed so that a user who understands all of the concepts covered in the user guides will be an advanced user. For users interested in getting set up as quickly as possible on particular examples we refer then to the tutorials notebooks and to use these guides as reference when particular concepts are unclear.\n",
    "\n",
    "**More information**\n",
    "\n",
    "1. If using the notebook interactively see the **Help** menu bar.\n",
    "2. Information on what the notebooks are and how to setup/run them is found [here](http://jupyter-notebook-beginner-guide.readthedocs.org/en/latest/)\n",
    "3. Basics of how to edit and write in the notebook environment is found [here](http://nbviewer.jupyter.org/github/jupyter/notebook/blob/master/docs/source/examples/Notebook/Notebook%20Basics.ipynb)\n",
    "\n",
    "**Keywords:** import, IPython notebooks"
   ]
  },
  {
   "cell_type": "markdown",
   "metadata": {},
   "source": [
    "Installation\n",
    "----\n",
    "\n",
    "This guide assumes that you have already installed Underworld. Details on how to install Underworld is found on the project github page:\n",
    "https://github.com/underworldcode/underworld2"
   ]
  },
  {
   "cell_type": "markdown",
   "metadata": {},
   "source": [
    "Running\n",
    "----\n",
    "\n",
    "Run the following cell (either the ``run button`` on the menu above or press ``shift+enter``) to load the modules that make up and are used by underworld. "
   ]
  },
  {
   "cell_type": "code",
   "execution_count": 1,
   "metadata": {
    "collapsed": false
   },
   "outputs": [],
   "source": [
    "import underworld as uw"
   ]
  },
  {
   "cell_type": "markdown",
   "metadata": {},
   "source": [
    "If you have encountered errors then check which packages are missing and see the github page for [underworld](https://github.com/underworldcode/underworld2) for more information.\n",
    "\n",
    "When using notebooks **interactively** in the Jupyter IPython environment, cells can be run in any order by either using ``shift+enter`` or the run button. You can also run all above or below a particular cell, or all in the entire notebook (in order) by using the ``Cell`` menu item."
   ]
  },
  {
   "cell_type": "markdown",
   "metadata": {},
   "source": [
    "How to get help\n",
    "----\n",
    "\n",
    "If you need help on individual functions first try the ``help(functionName)``. Most functions in python and Underworld have instructions that can be accessed via the help function.\n",
    "\n",
    "If you encounter a bug with Underworld please use the [issue tracker on github](https://github.com/underworldcode/underworld2/issues)."
   ]
  },
  {
   "cell_type": "code",
   "execution_count": 2,
   "metadata": {
    "collapsed": false
   },
   "outputs": [
    {
     "name": "stdout",
     "output_type": "stream",
     "text": [
      "Help on package underworld:\n",
      "\n",
      "NAME\n",
      "    underworld - Underworld-II is a python-friendly version of the Underworld geodynamics code which provides a programmable and flexible front end to all the functionality of the code running in a parallel HPC environment. This gives signficant advantages to the user, with access to the power of python libraries for setup of complex problems, analysis at runtime, problem steering, and coupling of multiple problems. Underworld2 is integrated with the literate programming environment of the jupyter notebook system for tutorials and as a teaching tool for solid Earth geoscience.\n",
      "\n",
      "FILE\n",
      "    /home/gareth/uw2/underworld/__init__.py\n",
      "\n",
      "DESCRIPTION\n",
      "    Underworld is an open-source, particle-in-cell finite element code tuned for large-scale geodynamics simulations. The numerical algorithms allow the tracking of history information through the high-strain deformation associated with fluid flow (for example, transport of the stress tensor in a viscoelastic, convecting medium, or the advection of fine-scale damage parameters by the large-scale flow). The finite element mesh can be static or dynamic, but it is not contrained to move in lock-step with the evolving geometry of the fluid. This hybrid approach is very well suited to complex fluids which is how the solid Earth behaves on a geological timescale.\n",
      "\n",
      "PACKAGE CONTENTS\n",
      "    _stgermain\n",
      "    conditions (package)\n",
      "    container (package)\n",
      "    fevariable (package)\n",
      "    function (package)\n",
      "    mesh (package)\n",
      "    swarm (package)\n",
      "    systems (package)\n",
      "    utils (package)\n",
      "\n",
      "FUNCTIONS\n",
      "    help(object)\n",
      "        This help function simply prints the object's docstring, without also\n",
      "        printing the entire object hierarchy's docstrings (as per the python\n",
      "        build in help() function).\n",
      "        \n",
      "        Parameters\n",
      "        ----------\n",
      "            object:  Any python object.\n",
      "        \n",
      "        Returns:\n",
      "        ----------\n",
      "            None\n",
      "    \n",
      "    nProcs()\n",
      "        Returns the number of processors being utilised by the simulation.\n",
      "        \n",
      "        Parameters\n",
      "        ----------\n",
      "            None\n",
      "        \n",
      "        Returns:\n",
      "        ----------\n",
      "            nProcs (unsigned) : Number of processors.\n",
      "    \n",
      "    rank()\n",
      "        Returns the rank of the current processors.\n",
      "        \n",
      "        Parameters\n",
      "        ----------\n",
      "            None\n",
      "        \n",
      "        Returns:\n",
      "        ----------\n",
      "            rank (unsigned) : Rank of current processor.\n",
      "\n",
      "\n"
     ]
    }
   ],
   "source": [
    "help(uw)"
   ]
  },
  {
   "cell_type": "markdown",
   "metadata": {},
   "source": [
    "Quick help information in the form of a pop-up window can be obtained using the following:"
   ]
  },
  {
   "cell_type": "code",
   "execution_count": 3,
   "metadata": {
    "collapsed": true
   },
   "outputs": [],
   "source": [
    "uw?"
   ]
  },
  {
   "cell_type": "markdown",
   "metadata": {
    "collapsed": true
   },
   "source": [
    "Overview of an Underworld model\n",
    "-----\n",
    "\n",
    "Here a minimal model is given along with references to the following user guides for more information.\n",
    "\n",
    "Firstly we make a mesh (see **The Mesh** user guide)."
   ]
  },
  {
   "cell_type": "code",
   "execution_count": 4,
   "metadata": {
    "collapsed": true
   },
   "outputs": [],
   "source": [
    "mesh = uw.mesh.FeMesh_Cartesian( elementType = (\"Q1\"), \n",
    "                                 elementRes  = (8, 8), \n",
    "                                 minCoord    = (0., 0.), \n",
    "                                 maxCoord    = (1., 1.))"
   ]
  },
  {
   "cell_type": "markdown",
   "metadata": {},
   "source": [
    "Secondly we create a finite element (FE) variable on the mesh (see the **FEVariable** user guide)"
   ]
  },
  {
   "cell_type": "code",
   "execution_count": 5,
   "metadata": {
    "collapsed": true
   },
   "outputs": [],
   "source": [
    "temperatureField = uw.fevariable.FeVariable( feMesh=mesh, nodeDofCount=1 )"
   ]
  },
  {
   "cell_type": "markdown",
   "metadata": {},
   "source": [
    "Thirdly we give the FE variable some initial conditions."
   ]
  },
  {
   "cell_type": "code",
   "execution_count": 6,
   "metadata": {
    "collapsed": true
   },
   "outputs": [],
   "source": [
    "for index, coord in enumerate(mesh.data):\n",
    "    temperatureField.data[index] = coord[1]  # set the temperature to be the vertical (y) coordinate"
   ]
  },
  {
   "cell_type": "markdown",
   "metadata": {},
   "source": [
    "Finally here we will plot the temperature field using ``gLucifer`` after importing the gLucifer module."
   ]
  },
  {
   "cell_type": "code",
   "execution_count": 7,
   "metadata": {
    "collapsed": false
   },
   "outputs": [
    {
     "data": {
      "text/html": [
       "<img src='data:image/png;base64,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'>"
      ],
      "text/plain": [
       "<IPython.core.display.HTML object>"
      ]
     },
     "execution_count": 7,
     "metadata": {},
     "output_type": "execute_result"
    }
   ],
   "source": [
    "import glucifer\n",
    "fig = glucifer.Figure()\n",
    "fig + glucifer.objects.Surface( mesh, temperatureField, colours=\"blue white red\" )\n",
    "fig + glucifer.objects.Mesh( mesh )\n",
    "fig.show()"
   ]
  },
  {
   "cell_type": "markdown",
   "metadata": {},
   "source": [
    "Typically we would then setup boundary conditions, particle swarms, rheology and systems to be solved. Then solve the system as it evolves over time. \n",
    "\n",
    "All of these topics are discussed in the following user guides."
   ]
  }
 ],
 "metadata": {
  "kernelspec": {
   "display_name": "Python 2",
   "language": "python",
   "name": "python2"
  },
  "language_info": {
   "codemirror_mode": {
    "name": "ipython",
    "version": 2
   },
   "file_extension": ".py",
   "mimetype": "text/x-python",
   "name": "python",
   "nbconvert_exporter": "python",
   "pygments_lexer": "ipython2",
   "version": "2.7.6"
  }
 },
 "nbformat": 4,
 "nbformat_minor": 0
}
