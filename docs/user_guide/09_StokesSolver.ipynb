{
 "cells": [
  {
   "cell_type": "markdown",
   "metadata": {},
   "source": [
    "Stokes Solver\n",
    "=======\n",
    "\n",
    "We want to solve the following Stokes block system.\n",
    "\\\\[\n",
    "\\begin{bmatrix}\n",
    " K & G \\\\\n",
    " G^T & C\n",
    "\\end{bmatrix}\n",
    "\\begin{bmatrix}\n",
    "  u\\\\\n",
    "  p\n",
    "\\end{bmatrix}\n",
    "=\n",
    "\\begin{bmatrix}\n",
    " f\\\\ \n",
    " h\n",
    "\\end{bmatrix}.\n",
    "\\\\]\n",
    "\n",
    "If we apply Gaussian elimination to the above as a 2x2 block matrix system\n",
    "we can write this as:\n",
    "\n",
    "\\\\[\n",
    "\\begin{bmatrix}\n",
    "  K & G\\\\\n",
    "  0 & S\n",
    "\\end{bmatrix}\n",
    "\\begin{bmatrix}\n",
    "  u\\\\\n",
    "  p\n",
    "\\end{bmatrix}\n",
    "=\n",
    "\\begin{bmatrix}\n",
    " f\\\\ \n",
    " \\hat{h}\n",
    "\\end{bmatrix},\n",
    "\\\\]\n",
    "\n",
    "where $S=G^{T}K^{-1}G-C$ is the Schur complement and $\\hat{h}=G^{T}K^{-1}f -h$.\n",
    "\n",
    "This system is now solved first for the pressure using the Schur complement matrix, $S$. Then a backsolve for the\n",
    "velocity gives the complete solution.\n",
    "\n",
    "Note that wherever $K^{-1}$ appears, the inverse is never explicitly calculated but is achieved via\n",
    "a [PETSc](http://www.mcs.anl.gov/petsc/) solve method. While solving for the pressure, there are necessarily solves using $K$ inside of the matrix $S$.\n",
    "We often refer to these as 'inner' solves.\n",
    "\n",
    "Basic usage of the Stokes solver class involves being able to easily set up the inner solves in a few different ways\n",
    "(Setting up the pressure solve is more advanced).\n",
    "\n",
    "To illustrate some basic usage let's set up a simple problem to solve."
   ]
  },
  {
   "cell_type": "code",
   "execution_count": 1,
   "metadata": {
    "collapsed": false
   },
   "outputs": [],
   "source": [
    "import underworld as uw\n",
    "import math\n",
    "from underworld import function as fn\n",
    "\n",
    "res=128\n",
    "mesh = uw.mesh.FeMesh_Cartesian(\"Q1/DQ0\", (res,res), (0.,0.), (1.,1.))\n",
    "velocityField = uw.mesh.MeshVariable(mesh,2)\n",
    "velocityField.data[:] = (0.,0.)\n",
    "\n",
    "pressureField = uw.mesh.MeshVariable(mesh.subMesh,1)\n",
    "pressureField.data[:] = 0.\n",
    "\n",
    "# Freeslip bc's\n",
    "IWalls = mesh.specialSets[\"MinI_VertexSet\"] + mesh.specialSets[\"MaxI_VertexSet\"]\n",
    "JWalls = mesh.specialSets[\"MinJ_VertexSet\"] + mesh.specialSets[\"MaxJ_VertexSet\"]\n",
    "freeslip = uw.conditions.DirichletCondition(velocityField, (IWalls, JWalls))\n",
    "# We are going to make use of one of the existing analytic solutions so that we may easily\n",
    "# obtain functions for a viscosity profile and forcing terms.\n",
    "# Exact solution solCx with defaults\n",
    "sol = fn.analytic.SolCx()\n",
    "stokesSystem = uw.systems.Stokes(velocityField,pressureField,sol.fn_viscosity,sol.fn_bodyforce,conditions=[freeslip,])\n"
   ]
  },
  {
   "cell_type": "markdown",
   "metadata": {},
   "source": [
    "Now we create a solver.\n",
    "The Solver class will automatically return a Stokes solver given a Stokes system."
   ]
  },
  {
   "cell_type": "code",
   "execution_count": 2,
   "metadata": {
    "collapsed": false
   },
   "outputs": [],
   "source": [
    "solver=uw.systems.Solver(stokesSystem)"
   ]
  },
  {
   "cell_type": "markdown",
   "metadata": {},
   "source": [
    "The Stokes solver will use multigrid as a preconditioner along with PETSc's\n",
    "'fgmres' Krylov method by default for the 'inner' solve.\n",
    "\n",
    "Let's run the solver now."
   ]
  },
  {
   "cell_type": "code",
   "execution_count": 3,
   "metadata": {
    "collapsed": false
   },
   "outputs": [],
   "source": [
    "solver.solve()"
   ]
  },
  {
   "cell_type": "markdown",
   "metadata": {},
   "source": [
    "Now let's set up the inner solve to do a direct solve (this will not work in parallel)."
   ]
  },
  {
   "cell_type": "code",
   "execution_count": 4,
   "metadata": {
    "collapsed": true
   },
   "outputs": [],
   "source": [
    "solver.set_inner_method(\"lu\")"
   ]
  },
  {
   "cell_type": "code",
   "execution_count": 5,
   "metadata": {
    "collapsed": false
   },
   "outputs": [],
   "source": [
    "solver.solve()"
   ]
  },
  {
   "cell_type": "markdown",
   "metadata": {},
   "source": [
    "Let's run underworld's help function on the solver.configure function."
   ]
  },
  {
   "cell_type": "code",
   "execution_count": 6,
   "metadata": {
    "collapsed": false
   },
   "outputs": [
    {
     "name": "stdout",
     "output_type": "stream",
     "text": [
      "Object docstring:\n",
      "\n",
      "\n",
      "        Configure velocity/inner solver (A11 PETSc prefix).\n",
      "\n",
      "        solve_type can be one of:\n",
      "\n",
      "        mg          : Geometric multigrid (default).\n",
      "        mumps       : MUMPS parallel direct solver.\n",
      "        superludist : SuperLU parallel direct solver.\n",
      "        superlu     : SuperLU direct solver (serial only).\n",
      "        lu          : LU direct solver (serial only).\n",
      "        \n",
      "Object initialiser docstring:\n",
      "\n",
      "x.__init__(...) initializes x; see help(type(x)) for signature\n"
     ]
    }
   ],
   "source": [
    "uw.help(solver.set_inner_method)"
   ]
  },
  {
   "cell_type": "markdown",
   "metadata": {},
   "source": [
    "If PETSc has been compiled with mumps we can also set up the inner solve this way.\n",
    "Mumps is a direct solve that will work in parallel."
   ]
  },
  {
   "cell_type": "code",
   "execution_count": 7,
   "metadata": {
    "collapsed": false
   },
   "outputs": [],
   "source": [
    "solver.set_inner_method(\"mumps\")"
   ]
  },
  {
   "cell_type": "code",
   "execution_count": 8,
   "metadata": {
    "collapsed": false
   },
   "outputs": [],
   "source": [
    "solver.solve()"
   ]
  },
  {
   "cell_type": "markdown",
   "metadata": {},
   "source": [
    "Now let's go back to using multigrid."
   ]
  },
  {
   "cell_type": "code",
   "execution_count": 9,
   "metadata": {
    "collapsed": false
   },
   "outputs": [],
   "source": [
    "solver.set_inner_method(\"mg\")\n",
    "solver.solve()"
   ]
  },
  {
   "cell_type": "markdown",
   "metadata": {},
   "source": [
    "Let's run help on the solver."
   ]
  },
  {
   "cell_type": "code",
   "execution_count": 10,
   "metadata": {
    "collapsed": false,
    "scrolled": false
   },
   "outputs": [
    {
     "name": "stdout",
     "output_type": "stream",
     "text": [
      "Object docstring:\n",
      "\n",
      "\n",
      "    The Block Stokes Schur Complement Solver:\n",
      "    This solves the saddle-point system\n",
      "    \n",
      "    [ K  G][u] = [f]\n",
      "    [ G' C][p]   [h]\n",
      "\n",
      "    via a Schur complement method.\n",
      "    \n",
      "    We first solve:\n",
      "      a: S*p= G'*Ki*f - h,\n",
      "\n",
      "    where S = G'*Ki*G-C and Ki = inverse of K.\n",
      "\n",
      "    Then we backsolve for the velocity\n",
      "      b: K*u = f - G*p.\n",
      "    \n",
      "    The effect of the inverse of K in (a) is obtained via a KSPSolve in PETSc.\n",
      "    This has the prefix 'A11' (often called the 'inner' solve)\n",
      "    \n",
      "    The solve in (a) for the pressure has prefix 'scr'.\n",
      "    \n",
      "    Assuming the returned solver is called 'solver':\n",
      "\n",
      "    It is possible to configure these solves individually via the\n",
      "      solver.options.A11\n",
      "    and\n",
      "      solver.options.scr\n",
      "    dictionaries. \n",
      "    \n",
      "    Try uw.help(solver.options.A11) for some details.\n",
      "    \n",
      "    Common configurations are provided via the\n",
      "    solver.set_inner_method() function.\n",
      "    \n",
      "    solver.set_inner_method(\"mg\") sets up a multigrid solve for the inner solve. This is the default.\n",
      "    solver.set_inner_method(\"mumps\") will set up a parallel direct solve on the inner solve.\n",
      "    solver.set_inner_method(\"lu\") will set up a serial direct solve on the inner solve.\n",
      "    \n",
      "    uw.help(solver.set_inner_method) for more.\n",
      "    \n",
      "    For more advanced configurations use the\n",
      "    solver.options.A11/scr dictionaries directly.\n",
      "    \n",
      "    uw.help(solver.options) to see more.\n",
      "    \n",
      "Object initialiser docstring:\n",
      "\n",
      "None\n"
     ]
    }
   ],
   "source": [
    "uw.help(solver)"
   ]
  },
  {
   "cell_type": "code",
   "execution_count": null,
   "metadata": {
    "collapsed": true
   },
   "outputs": [],
   "source": []
  }
 ],
 "metadata": {
  "kernelspec": {
   "display_name": "Python 2",
   "language": "python",
   "name": "python2"
  },
  "language_info": {
   "codemirror_mode": {
    "name": "ipython",
    "version": 2
   },
   "file_extension": ".py",
   "mimetype": "text/x-python",
   "name": "python",
   "nbconvert_exporter": "python",
   "pygments_lexer": "ipython2",
   "version": "2.7.10"
  }
 },
 "nbformat": 4,
 "nbformat_minor": 0
}
