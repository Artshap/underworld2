{
 "cells": [
  {
   "cell_type": "markdown",
   "metadata": {},
   "source": [
    "## Surface topography kernels\n",
    "\n",
    "Follows the approach of Parsons & Daly (1983) and Robinson & Parsons (1987) to compute spectral/depth response functions for the surface topography in a buoyancy driven Stokes flow. \n",
    "\n",
    "\n",
    "\n",
    "  0. Parsons, B., and S. Daly (1983), The relationship between surface topography, gravity anomalies, and temperature structure of convection, Journal of Geophysical Research: Solid Earth (1978–2012), 88(B2), 1129–1144, doi:10.1029/JB088iB02p01129.\n",
    "\n",
    "  0.  Robinson, E. M., B. Parsons, and S. F. Daly (1987), The effect of a shallow low viscosity zone on the apparent compensation of mid-plate swells, Earth and Planetary Science Letters, 82(3-4), 335–348, doi:10.1016/0012-821X(87)90207-X.\n"
   ]
  },
  {
   "cell_type": "code",
   "execution_count": 31,
   "metadata": {
    "collapsed": false
   },
   "outputs": [],
   "source": [
    "## Kernels     \n",
    "\n",
    "%matplotlib inline\n",
    "\n",
    "import underworld as uw\n",
    "import math\n",
    "from underworld import function as fn\n",
    "import glucifer.pylab as plt"
   ]
  },
  {
   "cell_type": "code",
   "execution_count": 32,
   "metadata": {
    "collapsed": false
   },
   "outputs": [],
   "source": [
    "dim = 2\n",
    "meshX = 64\n",
    "meshY = 64\n",
    "\n",
    "Q1dP0Mesh = uw.mesh.FeMesh_Cartesian( elementType='Q1-dQ0'),\n",
    "                                      elementRes=(meshX,meshY), \n",
    "                                      minCoord=(0.,0.), maxCoord=(1.,1.)  )\n",
    "\n",
    "Q1Mesh =  Q1dP0Mesh # returns outer mesh by default\n",
    "dP0Mesh = Q1dP0Mesh.subMesh\n",
    "\n",
    "velocityMesh =  Q1Mesh\n",
    "pressureMesh = dP0Mesh\n",
    "\n",
    "xCoordFn = fn.input()[0]\n",
    "yCoordFn = fn.input()[1]\n",
    "\n",
    "x_coordinates = xCoordFn.evaluate(velocityMesh.specialSets[\"MinJ_VertexSet\"])\n",
    "y_coordinates = yCoordFn.evaluate(velocityMesh.specialSets[\"MinI_VertexSet\"])\n",
    "\n"
   ]
  },
  {
   "cell_type": "code",
   "execution_count": 33,
   "metadata": {
    "collapsed": true
   },
   "outputs": [],
   "source": [
    "# create & zero fevariables\n",
    "velocityField    = uw.fevariable.FeVariable( feMesh=velocityMesh,   nodeDofCount=dim )\n",
    "pressureField    = uw.fevariable.FeVariable( feMesh=pressureMesh,   nodeDofCount=1 )\n",
    "temperatureField = uw.fevariable.FeVariable( feMesh=velocityMesh,   nodeDofCount=1 )\n",
    "\n",
    "velocityField.data[:] = [0.,0.]\n",
    "pressureField.data[:] = 0.\n",
    "temperatureField.data[:] = 0."
   ]
  },
  {
   "cell_type": "code",
   "execution_count": 34,
   "metadata": {
    "collapsed": false
   },
   "outputs": [],
   "source": [
    "IWalls = velocityMesh.specialSets[\"MinI_VertexSet\"] + velocityMesh.specialSets[\"MaxI_VertexSet\"]\n",
    "JWalls = velocityMesh.specialSets[\"MinJ_VertexSet\"] + velocityMesh.specialSets[\"MaxJ_VertexSet\"]\n",
    "\n",
    "freeslipBC = uw.conditions.DirichletCondition(    variable=velocityField, \n",
    "                                                  nodeIndexSets=(IWalls,JWalls) )\n",
    "\n",
    "# temperature does not evolve with time so no bcs are needed"
   ]
  },
  {
   "cell_type": "code",
   "execution_count": 35,
   "metadata": {
    "collapsed": false
   },
   "outputs": [],
   "source": [
    "# UW function to define a layered viscosity\n",
    "\n",
    "layer1Viscosity = fn.misc.constant(100.0)\n",
    "layer2Viscosity = fn.misc.constant(0.1)\n",
    "layer3Viscosity = fn.misc.constant(1.0)\n",
    "\n",
    "layer1Depth = 0.9\n",
    "layer2Depth = 0.7\n",
    "layer3Depth = 0.0\n",
    "\n",
    "xCoordFn = fn.input()[0]\n",
    "yCoordFn = fn.input()[1]\n",
    "\n",
    "viscosityFn = fn.branching.conditional(\n",
    "    [ ( yCoordFn > layer1Depth , layer1Viscosity ),\n",
    "      ( yCoordFn > layer2Depth , layer2Viscosity ), \n",
    "      (                   True , layer3Viscosity )  ] )\n",
    "\n",
    "# UW function to compute the total stress and vertical stress at any given point\n",
    "# And a filter function to grab the coordinates at the node points\n",
    "\n"
   ]
  },
  {
   "cell_type": "code",
   "execution_count": 36,
   "metadata": {
    "collapsed": true
   },
   "outputs": [],
   "source": [
    "# Setup a stokes system\n",
    "# For PIC style integration, we include a swarm for the a PIC integration swarm is generated within.\n",
    "# For gauss integration, simple do not include the swarm. Nearest neighbour is used where required.\n",
    "\n",
    "forceFn = (0.0, 1.0) * temperatureField\n",
    "\n",
    "stokesEqn = uw.systems.Stokes(velocityField=velocityField, \n",
    "                              pressureField=pressureField,\n",
    "                              conditions=[freeslipBC,],\n",
    "                              viscosityFn=fn.exception.SafeMaths(viscosityFn), \n",
    "                              bodyForceFn=forceFn )\n",
    "\n",
    "solver=uw.systems.Solver(stokesEqn)\n",
    "\n",
    "solver.options.main.Q22_pc_type='uwscale'  # also try 'gtkg', 'gkgdiag' and 'uwscale'\n",
    "solver.options.main.penalty = 1.0\n",
    "solver.options.A11.ksp_rtol=1e-6\n",
    "solver.options.scr.ksp_rtol=1e-5\n",
    "solver.options.scr.use_previous_guess = True\n",
    "solver.options.scr.ksp_set_min_it_converge = 1\n",
    "solver.options.scr.ksp_set_max_it = 100\n",
    "solver.options.mg.levels = 5\n",
    "solver.options.mg.mg_levels_ksp_type = 'chebyshev'\n",
    "solver.options.mg_accel.mg_accelerating_smoothing = True\n",
    "solver.options.mg_accel.mg_accelerating_smoothing_view = False\n",
    "solver.options.mg_accel.mg_smooths_to_start = 1\n",
    "\n",
    "# Load this solver onto the equation system (displacing the default)\n",
    "stokesEqn.solve = solver.solve\n",
    "\n",
    "stresstensorFn =  2.* stokesEqn.viscosityFn*fn.tensor.symmetric( velocityField.gradientFn ) - pressureField\n",
    "verticalStressFn = stresstensorFn[1]\n",
    "\n"
   ]
  },
  {
   "cell_type": "code",
   "execution_count": 38,
   "metadata": {
    "collapsed": false
   },
   "outputs": [],
   "source": [
    "# a function to calculate the response for a depth / wavenumber combo\n",
    "\n",
    "def single_layer_temperature(wavenumber, layer_height):\n",
    "    \"\"\"\n",
    "    Place a harmonic 'delta function' at a given layer in the mesh.   \n",
    "    Assumes global: temperatureField, velocityMesh, meshX, meshY\n",
    "    \"\"\"\n",
    "\n",
    "    import numpy as numpy\n",
    "\n",
    "    k = wavenumber * math.pi\n",
    "\n",
    "    T = temperatureField.data.reshape(meshY+1,meshX+1)\n",
    "    X = velocityMesh.data.reshape(meshY+1,meshX+1,2)\n",
    "\n",
    "    T[...] = 0.0\n",
    "    T[layer_height,:] = numpy.cos( k * X[layer_height,:,0] )\n",
    "\n",
    "    return T.reshape((meshX+1)*(meshY+1),1)\n",
    "\n",
    "def layer_fft(data):\n",
    "    \"\"\"\n",
    "    Find fft of data in 1d - this is intended to be a mesh layer - so if the mesh is not uniform\n",
    "    it will do something about it !\n",
    "    \"\"\"\n",
    "\n",
    "    from scipy import fftpack as fft\n",
    "    import numpy as np\n",
    "    \n",
    "    samples = len(data)\n",
    "#     packed_data = np.empty(2*samples-1)\n",
    "#     packed_data[0:samples] = data[:]\n",
    "#     packed_data[samples:2*samples] = data[samples:0:-1]\n",
    "\n",
    "    dataFT = fft.dct(data) / samples\n",
    "    \n",
    "    return dataFT\n",
    "\n",
    "\n",
    "\n",
    "def direct_wavenumber_topo_kernel(wavenumber):\n",
    "    \"\"\"\n",
    "    Compute the response at a given wavenumber for each layer at depth and return kernel for the same wavenumber\n",
    "    Assumes global: temperatureField, velocityMesh, meshX, meshY, \n",
    "    \"\"\"\n",
    "\n",
    "    import numpy as np\n",
    "\n",
    "    kernel = np.empty(meshY+1)\n",
    "\n",
    "    kernel[0] = 0\n",
    "    kernel[-1] = 1.0\n",
    "    \n",
    "    for layer in range(2,meshY-1,2):\n",
    "        \n",
    "        temperatureField.data[:] = meshY * single_layer_temperature(wavenumber, layer)\n",
    "        stokesEqn.solve()   \n",
    "        surface_topography = -verticalStressFn.evaluate(velocityMesh.specialSets[\"MaxJ_VertexSet\"]).T[0]\n",
    "\n",
    "        kfft = layer_fft(surface_topography)\n",
    "        kernel[layer] = layer_fft(surface_topography)[wavenumber]\n",
    "        \n",
    "    for layer in range(1,meshY,2):\n",
    "        kernel[layer] = 0.5 * (kernel[layer-1] + kernel[layer+1])\n",
    "        \n",
    "    return kernel\n",
    " \n",
    "    \n",
    "def all_wavenumber_topo_kernel(wavenumber):\n",
    "    \"\"\"\n",
    "    Compute the response at a given wavenumber for each layer at depth and return kernel for the same wavenumber\n",
    "    Assumes global: temperatureField, velocityMesh, meshX, meshY, \n",
    "    \"\"\"\n",
    "\n",
    "    import numpy as np\n",
    "\n",
    "    kernels = np.empty((meshY+1,meshX+1))\n",
    "\n",
    "    kernels[0][:] = 0\n",
    "    kernels[-1][:] = 0\n",
    "    kernels[-1][wavenumber] = 1.0\n",
    "    \n",
    "    for layer in range(2,meshY-1,2):\n",
    "        \n",
    "        temperatureField.data[:] = meshY * single_layer_temperature(wavenumber, layer)\n",
    "        stokesEqn.solve()   \n",
    "        surface_topography = -verticalStressFn.evaluate(velocityMesh.specialSets[\"MaxJ_VertexSet\"]).T[0]\n",
    "\n",
    "        kernels[:][layer] = layer_fft(surface_topography)\n",
    "        \n",
    "    for layer in range(1,meshY,2):\n",
    "        kernels[layer][:] = 0.5 * (kernels[layer-1][:] + kernels[layer+1][:])\n",
    "        \n",
    "    return kernels\n"
   ]
  },
  {
   "cell_type": "code",
   "execution_count": 8,
   "metadata": {
    "collapsed": false
   },
   "outputs": [],
   "source": [
    "# Test this by hand with a single layer driving buoyancy\n",
    "temperatureField.data[:] = meshY * single_layer_temperature(1.0, 50)\n",
    "solver.solve()\n",
    "vscale = velocityField.evaluate(velocityMesh).max()\n",
    "\n",
    "figtemp = plt.Figure(figsize=(512,512))\n",
    "figtemp.VectorArrows(velocityField, velocityMesh, lengthScale=0.1/vscale, resolutionX=41, resolutionY=41)\n",
    "figtemp.Surface(viscosityFn, velocityMesh, colours=[\"red\", \"yellow\", \"blue\"], colourBar=True, logScale=True, opacity=0.3)\n",
    "figtemp.show()"
   ]
  },
  {
   "cell_type": "code",
   "execution_count": 9,
   "metadata": {
    "collapsed": false
   },
   "outputs": [],
   "source": [
    "## Compute (total) stress, and thus topography and see how that looks in real / fourier domain\n",
    "\n",
    "surface_topography = -verticalStressFn.evaluate(velocityMesh.specialSets[\"MaxJ_VertexSet\"]).T[0]\n",
    "x_coordinates = xCoordFn.evaluate(velocityMesh.specialSets[\"MaxJ_VertexSet\"])\n",
    "y_coordinates = yCoordFn.evaluate(velocityMesh.specialSets[\"MinI_VertexSet\"])\n",
    "\n",
    "import matplotlib.pyplot as pyplot\n",
    "\n",
    "fig, (plot1,plot2) = pyplot.subplots(1,2)\n",
    "fig.set_alpha=0.5\n",
    "fig.set_size_inches(8,4)\n",
    "\n",
    "plot1.plot(x_coordinates, surface_topography)\n",
    "\n",
    "surface_topography_fft = layer_fft(surface_topography)\n",
    "\n",
    "plot2.bar(range(0,len(surface_topography_fft)), surface_topography_fft*100, color=\"red\", alpha=0.3, width=0.8)\n",
    "plot2.bar(range(0,len(surface_topography_fft)), surface_topography_fft)\n",
    "\n",
    "plot2.set_xlim(0,20)\n",
    "plot2.set_ylim(-0.05,1.05)"
   ]
  },
  {
   "cell_type": "code",
   "execution_count": 10,
   "metadata": {
    "collapsed": false
   },
   "outputs": [],
   "source": [
    "kernel2 = direct_wavenumber_topo_kernel(2)"
   ]
  },
  {
   "cell_type": "code",
   "execution_count": 11,
   "metadata": {
    "collapsed": false
   },
   "outputs": [],
   "source": [
    "import matplotlib.pyplot as pyplot\n",
    "import numpy as np\n",
    "\n",
    "fig, (plot1) = pyplot.subplots(1,1)\n",
    "fig.set_alpha=0.5\n",
    "fig.set_size_inches(4,4)\n",
    "plot1.plot(kernel2, y_coordinates, marker='.')\n",
    "plot1.set_ylim(0.0,1.0)\n",
    "plot1.set_title(\"Kernel for layered medium at wavenumber k = 2$\\pi$ \\n\")\n",
    "\n",
    "# np.savez(\"ThreeLayer_100_01_1_Kernel2\", kernel=kernel2, y=y_coordinates)"
   ]
  },
  {
   "cell_type": "markdown",
   "metadata": {},
   "source": [
    "## Mode coupling and solver tolerances\n",
    "\n",
    "We don't need the analytic solutions to test for erroneous mode coupling in layered viscosity cases. There should be no signal at wavelengths not represented in the driving buoyancy.\n",
    "\n",
    "The high wavenumber modes from low-wavenumber driving buoyancy terms and the low wavenumber modes for high-wavenumber buoyancy terms seem to be diagnostic here. Though it's not obvious what this actually means."
   ]
  },
  {
   "cell_type": "code",
   "execution_count": 12,
   "metadata": {
    "collapsed": false
   },
   "outputs": [],
   "source": [
    "# Can we use this result to estimate required tolerances ?\n",
    "\n",
    "solver.options.A11.ksp_rtol=1e-7\n",
    "solver.options.scr.ksp_rtol=1e-6\n",
    "\n",
    "kernels2 = all_wavenumber_topo_kernel(2)\n",
    "kernels5 = all_wavenumber_topo_kernel(5)\n",
    "\n",
    "solver.options.A11.ksp_rtol=1e-4\n",
    "solver.options.scr.ksp_rtol=1e-3\n",
    "\n",
    "kernels2_lr = all_wavenumber_topo_kernel(2)\n",
    "kernels5_lr = all_wavenumber_topo_kernel(5)\n"
   ]
  },
  {
   "cell_type": "code",
   "execution_count": 13,
   "metadata": {
    "collapsed": false
   },
   "outputs": [],
   "source": [
    "import matplotlib.pyplot as pyplot\n",
    "\n",
    "fig, (plot1, plot2) = pyplot.subplots(1,2)\n",
    "fig.set_alpha=0.5\n",
    "fig.set_size_inches(8,4)\n",
    "\n",
    "plot1.plot(kernels2[:,2], y_coordinates, marker='', linewidth=2.0)\n",
    "plot1.plot(kernels2_lr[:,2], y_coordinates, marker='.', linewidth=1.0)\n",
    "plot1.set_ylim(0.0,1.0)\n",
    "plot1.set_title(\"Direct response, $k=2\\pi$\")\n",
    "\n",
    "plot2.plot(kernels2_lr[:,1], y_coordinates, marker='', color='green', linewidth=2)\n",
    "plot2.plot(kernels2_lr[:,5], y_coordinates, marker='', color='gray', linewidth=2)\n",
    "plot2.plot(kernels2[:,1], y_coordinates, marker='.', color='green', linewidth=1)\n",
    "plot2.plot(kernels2[:,5], y_coordinates, marker='.', color='gray', linewidth=1)\n",
    "plot2.set_ylim(0.0,1.0)\n",
    "plot2.set_title(\"Indirect (mode-coupled)\")\n"
   ]
  },
  {
   "cell_type": "code",
   "execution_count": 14,
   "metadata": {
    "collapsed": false,
    "scrolled": true
   },
   "outputs": [],
   "source": [
    "import matplotlib.pyplot as pyplot\n",
    "\n",
    "fig, (plot1, plot2) = pyplot.subplots(1,2)\n",
    "fig.set_size_inches(8,4)\n",
    "\n",
    "plot1.plot(kernels5[:,5], y_coordinates, marker='', linewidth=2.0)\n",
    "plot1.plot(kernels5_lr[:,5], y_coordinates, marker='.', linewidth=2.0)\n",
    "plot1.set_ylim(0.0,1.0)\n",
    "plot1.set_title(\"Direct response, $k=5\\pi$\")\n",
    "\n",
    "plot2.plot(kernels5_lr[:,1], y_coordinates, marker='.', color='green', linewidth=1)\n",
    "plot2.plot(kernels5_lr[:,3], y_coordinates, marker='.', color='gray', linewidth=1)\n",
    "plot2.plot(kernels5[:,1], y_coordinates, marker='', color='green', linewidth=1)\n",
    "plot2.plot(kernels5[:,3], y_coordinates, marker='', color='gray', linewidth=1)\n",
    "plot2.set_ylim(0.0,1.0)\n",
    "plot2.set_title(\"Indirect (mode-coupled)\")\n"
   ]
  },
  {
   "cell_type": "markdown",
   "metadata": {},
   "source": [
    "# Compare with analytic solutions for laterally varying viscosity"
   ]
  },
  {
   "cell_type": "code",
   "execution_count": 15,
   "metadata": {
    "collapsed": false
   },
   "outputs": [],
   "source": [
    "# First the harmonic force function from SolA\n",
    "\n",
    "solA = fn.analytic.SolCx(viscosityA=1.0, viscosityB=100.0, xc=0.4, nx=1)\n",
    "stokesEqn.viscosityFn = solA.viscosityFn\n",
    "stokesEqn.bodyForceFn = solA.bodyForceFn\n",
    "stresstensorFn =  2.0 * stokesEqn.viscosityFn*fn.tensor.symmetric( velocityField.gradientFn ) - pressureField\n",
    "anal_stresstensorFn =  fn.tensor.deviatoric(solA.stressFn) - solA.pressureFn\n",
    "\n",
    "verticalStressFn = stresstensorFn[1] \n",
    "anal_verticalStressFn = anal_stresstensorFn[1]\n",
    "\n",
    "# Check it ... \n",
    "\n",
    "solver.options.A11.ksp_rtol=1e-7\n",
    "solver.options.scr.ksp_rtol=1e-6\n",
    "\n",
    "# temperatureField.data[:] = meshY * single_layer_temperature(1.0, 50)\n",
    "\n",
    "stokesEqn.solve()\n",
    "vscale = velocityField.evaluate(velocityMesh).max()\n",
    "\n",
    "figSolAVisc = plt.Figure(figsize=(512,512))\n",
    "figSolAVisc.Surface(stokesEqn.viscosityFn, velocityMesh, colours=[\"red\", \"yellow\", \"blue\"], colourBar=True, logScale=False, opacity=0.3)\n",
    "figSolAVisc.VectorArrows(velocityField, velocityMesh, lengthScale=0.1/vscale, resolutionX=41, resolutionY=41)\n",
    "figSolAVisc.show()"
   ]
  },
  {
   "cell_type": "code",
   "execution_count": 16,
   "metadata": {
    "collapsed": false
   },
   "outputs": [],
   "source": [
    "## Compute (total) stress, and thus topography and see how that looks in real / fourier domain\n",
    "## A cosine is added to demonstrate the performance of layer fft in an ideal case \n",
    "\n",
    "surface_topography = -verticalStressFn.evaluate(velocityMesh.specialSets[\"MaxJ_VertexSet\"]).T[0]\n",
    "anal_surface_topography = -anal_verticalStressFn.evaluate(velocityMesh.specialSets[\"MaxJ_VertexSet\"]).T[0]\n",
    "\n",
    "\n",
    "import matplotlib.pyplot as pyplot\n",
    "\n",
    "fig, (plot1,plot2) = pyplot.subplots(2,1)\n",
    "fig.set_alpha=0.5\n",
    "fig.set_size_inches(18,8)\n",
    "\n",
    "plot1.plot(x_coordinates, surface_topography)\n",
    "plot1.plot(x_coordinates, anal_surface_topography)\n",
    "plot1.plot(x_coordinates, np.cos(x_coordinates.T[0]*math.pi) * surface_topography.max(), linestyle=\":\")\n",
    "\n",
    "surface_topography_fft = layer_fft(surface_topography)\n",
    "anal_surface_topography_fft = layer_fft(anal_surface_topography)\n",
    "test_surface_topography_fft = layer_fft(np.cos(x_coordinates.T[0]*math.pi) * surface_topography.max())\n",
    "\n",
    "#plot2.bar(range(0,len(surface_topography_fft)), surface_topography_fft*100, color=\"red\", alpha=0.3, width=0.8)\n",
    "plot2.bar(range(0,len(surface_topography_fft)), surface_topography_fft, color=\"green\", alpha=0.3, width=0.4)\n",
    "plot2.bar(range(0,len(surface_topography_fft)), anal_surface_topography_fft)\n",
    "plot2.bar(range(0,len(surface_topography_fft)), 1.0e8*test_surface_topography_fft, color=\"red\", width=0.1)\n",
    "\n",
    "\n",
    "plot2.set_xlim(0,20)\n",
    "plot2.set_ylim(-0.01,1.0)\n",
    "pass\n"
   ]
  },
  {
   "cell_type": "code",
   "execution_count": 17,
   "metadata": {
    "collapsed": false,
    "scrolled": true
   },
   "outputs": [],
   "source": [
    "solver.options.A11.ksp_rtol=1e-7\n",
    "solver.options.scr.ksp_rtol=1e-6\n",
    "stokesEqn.bodyForceFn = forceFn\n",
    "\n",
    "kernels1a = all_wavenumber_topo_kernel(1)\n",
    "kernels5a = all_wavenumber_topo_kernel(5)"
   ]
  },
  {
   "cell_type": "code",
   "execution_count": 18,
   "metadata": {
    "collapsed": false
   },
   "outputs": [],
   "source": [
    "import matplotlib.pyplot as pyplot\n",
    "\n",
    "k_array = kernels5a\n",
    "kd = 5\n",
    "ki_list = [1, 2, 3, 4, 5, 6, 7, 8, 9, 10]\n",
    "try:\n",
    "    ki_list.remove(kd)\n",
    "except:\n",
    "    pass\n",
    "\n",
    "fig, (plot1, plot2) = pyplot.subplots(1,2)\n",
    "fig.set_alpha=0.5\n",
    "fig.set_size_inches(8,4)\n",
    "\n",
    "plot1.plot(k_array[:,kd], y_coordinates, marker='', linewidth=2.0)\n",
    "plot1.set_ylim(0.0,1.0)\n",
    "plot1.set_title(\"Direct response at $k={:d}\\pi$\".format(kd))\n",
    "\n",
    "for k in ki_list:\n",
    "    plot2.plot(k_array[:,k], y_coordinates, marker='', linewidth=1)\n",
    "    \n",
    "plot2.set_ylim(0.0,1.0)\n",
    "plot2.set_title(\"Indirect (mode-coupled)\")"
   ]
  }
 ],
 "metadata": {
  "kernelspec": {
   "display_name": "Python 2",
   "language": "python",
   "name": "python2"
  },
  "language_info": {
   "codemirror_mode": {
    "name": "ipython",
    "version": 2
   },
   "file_extension": ".py",
   "mimetype": "text/x-python",
   "name": "python",
   "nbconvert_exporter": "python",
   "pygments_lexer": "ipython2",
   "version": "2.7.3"
  }
 },
 "nbformat": 4,
 "nbformat_minor": 0
}
