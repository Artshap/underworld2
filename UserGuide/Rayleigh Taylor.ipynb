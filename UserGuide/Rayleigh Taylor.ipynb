{
 "cells": [
  {
   "cell_type": "markdown",
   "metadata": {},
   "source": [
    "## Rayleigh Taylor Instability Benchmark\n",
    "\n",
    "This notebook implements the isoviscous thermochemical convection benchmark from van Keken et al (1997).\n",
    "\n",
    "$$\n",
    "    \\nabla \\cdot \\left( \\eta \\nabla \\dot\\varepsilon \\right) - \\nabla p = \n",
    "    \\left( Ra _T T + Ra _\\Gamma \\Gamma \\right) \\mathbf{\\hat z}\n",
    "$$\n",
    "\n",
    "$$\n",
    "    \\nabla \\cdot \\mathbf{v} = 0\n",
    "$$\n",
    "\n",
    "The thermal and compositional evolution is controlled by advection and (thermal) diffusion\n",
    "\n",
    "$$\n",
    "    \\frac{D T}{D t} = \\nabla^2 T \n",
    "$$    \n",
    "\n",
    "$$\n",
    "    \\frac{D \\Gamma}{D t} = 0\n",
    "$$\n",
    "\n",
    "Thermal and compositional Rayleigh numbers are defined by\n",
    "\n",
    "$$ \n",
    "    Ra _T = \\frac{g \\rho \\alpha \\Delta T h ^3}{\\kappa \\eta _r} ; \\;\\;\\;\\; \n",
    "    Ra _\\Gamma = \\frac{g \\Delta \\rho _\\Gamma h ^3}{\\kappa \\eta _r}\n",
    "$$\n",
    "\n",
    "\n",
    "\n",
    "\n",
    "van Keken, P. E., S. D. King, H. Schmeling, U. R. Christensen, D. Neumeister, and M. P. Doin (1997), A comparison of methods for the modeling of thermochemical convection, J. Geophys. Res., 102(B10), 22477, doi:10.1029/97JB01353."
   ]
  },
  {
   "cell_type": "code",
   "execution_count": null,
   "metadata": {
    "collapsed": false
   },
   "outputs": [],
   "source": [
    "import underworld as uw\n",
    "import math\n",
    "from underworld import function as fn\n",
    "import glucifer.pylab as plt"
   ]
  },
  {
   "cell_type": "code",
   "execution_count": null,
   "metadata": {
    "collapsed": false
   },
   "outputs": [],
   "source": [
    "dim = 2"
   ]
  },
  {
   "cell_type": "code",
   "execution_count": null,
   "metadata": {
    "collapsed": false
   },
   "outputs": [],
   "source": [
    "# create mesh objects\n",
    "elementMesh = uw.mesh.FeMesh_Cartesian( elementType='Q1/dQ0', \n",
    "                                         elementRes=(64,64), \n",
    "                                           minCoord=(0.,0.), \n",
    "                                           maxCoord=(0.9142,1.) )\n",
    "linearMesh   = elementMesh\n",
    "constantMesh = elementMesh.subMesh "
   ]
  },
  {
   "cell_type": "code",
   "execution_count": null,
   "metadata": {
    "collapsed": false
   },
   "outputs": [],
   "source": [
    "# create fevariables\n",
    "velocityField = uw.fevariable.FeVariable( feMesh=linearMesh,   nodeDofCount=dim )\n",
    "pressureField = uw.fevariable.FeVariable( feMesh=constantMesh, nodeDofCount=1 )"
   ]
  },
  {
   "cell_type": "code",
   "execution_count": null,
   "metadata": {
    "collapsed": false
   },
   "outputs": [],
   "source": [
    "# Initialise data.. Note that we are also setting boundary conditions here\n",
    "velocityField.data[:] = [0.,0.]\n",
    "pressureField.data[:] = 0."
   ]
  },
  {
   "cell_type": "code",
   "execution_count": null,
   "metadata": {
    "collapsed": false
   },
   "outputs": [],
   "source": [
    "# Get list of special sets.\n",
    "# These are sets of vertices on the mesh. In this case we want to set them as boundary conditions.\n",
    "linearMesh.specialSets.keys()"
   ]
  },
  {
   "cell_type": "code",
   "execution_count": null,
   "metadata": {
    "collapsed": false
   },
   "outputs": [],
   "source": [
    "# Get the actual sets \n",
    "#\n",
    "#  HJJJJJJH\n",
    "#  I      I\n",
    "#  I      I\n",
    "#  I      I\n",
    "#  HJJJJJJH\n",
    "#  \n",
    "#  Note that H = I & J \n",
    "\n",
    "# Note that we use operator overloading to combine sets\n",
    "IWalls = linearMesh.specialSets[\"MinI_VertexSet\"] + linearMesh.specialSets[\"MaxI_VertexSet\"]\n",
    "JWalls = linearMesh.specialSets[\"MinJ_VertexSet\"] + linearMesh.specialSets[\"MaxJ_VertexSet\"]"
   ]
  },
  {
   "cell_type": "code",
   "execution_count": null,
   "metadata": {
    "collapsed": false
   },
   "outputs": [],
   "source": [
    "# You can view the contents of the sets directly\n",
    "IWalls"
   ]
  },
  {
   "cell_type": "code",
   "execution_count": null,
   "metadata": {
    "collapsed": false
   },
   "outputs": [],
   "source": [
    "JWalls"
   ]
  },
  {
   "cell_type": "code",
   "execution_count": null,
   "metadata": {
    "collapsed": true
   },
   "outputs": [],
   "source": [
    "# Now setup the dirichlet boundary condition\n",
    "# Note that through this object, we are flagging to the system \n",
    "# that these nodes are to be considered as boundary conditions. \n",
    "# Also note that we provide a tuple of sets.. One for the Vx, one for Vy.\n",
    "AllWalls = IWalls + JWalls\n",
    "\n",
    "freeslipBC = uw.conditions.DirichletCondition(     variable=velocityField, \n",
    "                                              nodeIndexSets=(AllWalls,JWalls) )"
   ]
  },
  {
   "cell_type": "code",
   "execution_count": null,
   "metadata": {
    "collapsed": false
   },
   "outputs": [],
   "source": [
    "# We create swarms of particles which can advect, and which may determine 'materials'\n",
    "gSwarm = uw.swarm.Swarm( feMesh=elementMesh )\n",
    "\n",
    "# Now we add a data variable which will store an index to determine material\n",
    "materialVariable = gSwarm.add_variable( dataType=\"char\", count=1 )\n",
    "\n",
    "# Layouts are used to populate the swarm across the whole domain\n",
    "# Create the layout object\n",
    "layout = uw.swarm.layouts.GlobalSpaceFillerLayout( swarm=gSwarm, particlesPerCell=20 )\n",
    "# Now use it to populate.\n",
    "gSwarm.populate_using_layout( layout=layout )"
   ]
  },
  {
   "cell_type": "code",
   "execution_count": null,
   "metadata": {
    "collapsed": false
   },
   "outputs": [],
   "source": [
    "# Lets initialise the 'materialVariable' data to represent two different materials. \n",
    "materialHeavyIndex = 0\n",
    "materialLightIndex = 1\n",
    "\n",
    "# Now let's initialize the materialVariable with the required perturbation\n",
    "import math\n",
    "wavelength = 1.8284\n",
    "amplitude  = 0.02\n",
    "offset     = 0.2\n",
    "k = 2.*math.pi / wavelength\n",
    "coordinate = fn.input()\n",
    "materialVariable.data[:] = fn.branching.conditional( \n",
    "    [ ( offset + amplitude*fn.math.cos( k*coordinate[0] ) > coordinate[1] , materialLightIndex ),\n",
    "      (                                                              True , materialHeavyIndex )  ] ).evaluate(gSwarm)"
   ]
  },
  {
   "cell_type": "code",
   "execution_count": null,
   "metadata": {
    "collapsed": false
   },
   "outputs": [],
   "source": [
    "# visualise\n",
    "fig1 = plt.Figure()\n",
    "fig1.Points( swarm=gSwarm, colourVariable=materialVariable, pointSize=5.0 )\n",
    "fig1.show()"
   ]
  },
  {
   "cell_type": "code",
   "execution_count": null,
   "metadata": {
    "collapsed": false
   },
   "outputs": [],
   "source": [
    "# We create some functions here.\n",
    "# The Map function allows as to create 'per material' type behaviour.  \n",
    "# It requires a 'keyFunc', which is first evaluate to determine the key\n",
    "# into the map, and then once the key is determine, we retrieve the value (ie function)\n",
    "# it maps to, and evaluate that. \n",
    "\n",
    "# Here we set a viscosity value of '1.' for both materials \n",
    "viscosityMapFn = fn.branching.map( keyFunc = materialVariable, \n",
    "                         mappingDict = { materialLightIndex:1., materialHeavyIndex:1. } )\n",
    "# Here we set a density of '0.' for the lightMaterial, and '1.' for the heavymaterial.\n",
    "densityFn      = fn.branching.map( keyFunc = materialVariable,\n",
    "                         mappingDict = { materialLightIndex:0., materialHeavyIndex:1. } )\n",
    "# Define our gravity using a python tuple (this will be automatically converted to a function)\n",
    "gravity = ( 0.0, -1.0 )\n",
    "# now create a buoyancy force vector.. the gravity tuple is converted to a function \n",
    "# here via operator overloading\n",
    "buoyancyFn = gravity*densityFn"
   ]
  },
  {
   "cell_type": "code",
   "execution_count": null,
   "metadata": {
    "collapsed": false
   },
   "outputs": [],
   "source": [
    "# Setup a stokes system\n",
    "# For PIC style integration, we include a swarm for the a PIC integration swarm is generated within.\n",
    "# For gauss integration, simple do not include the swarm. Nearest neighbour is used where required.\n",
    "stokesPIC = uw.systems.Stokes(velocityField=velocityField, \n",
    "                              pressureField=pressureField,\n",
    "                              swarm=gSwarm, \n",
    "                              conditions=[freeslipBC,],\n",
    "                              viscosityFn=viscosityMapFn, \n",
    "                              bodyForceFn=buoyancyFn )"
   ]
  },
  {
   "cell_type": "code",
   "execution_count": null,
   "metadata": {
    "collapsed": false
   },
   "outputs": [],
   "source": [
    "# Create advector objects to advect the swarms. We specify second order integration.\n",
    "advector = uw.systems.SwarmAdvector( swarm=gSwarm, velocityField=velocityField, order=2 )\n",
    "# Also create some integral objects which are used to calculate statistics.\n",
    "v2sum_integral  = uw.utils.Integral( feMesh=linearMesh, fn=fn.math.dot(velocityField,velocityField) )\n",
    "volume_integral = uw.utils.Integral( feMesh=linearMesh, fn=1. )"
   ]
  },
  {
   "cell_type": "code",
   "execution_count": null,
   "metadata": {
    "collapsed": false
   },
   "outputs": [],
   "source": [
    "# Stepping. Initialise time and timestep.\n",
    "time = 0.\n",
    "step = 0\n",
    "# Perform 3 steps\n",
    "while step<3:\n",
    "    # Get solution for initial configuration\n",
    "    stokesPIC.solve()\n",
    "    # Retrieve the maximum possible timestep for the advection system.\n",
    "    dt = advector.get_max_dt()\n",
    "    # Advect using this timestep size\n",
    "    advector.integrate(dt)\n",
    "    # Calculate the RMS velocity\n",
    "    v2sum = v2sum_integral.integrate()\n",
    "    volume = volume_integral.integrate()\n",
    "    vrms = math.sqrt(v2sum[0]/volume[0])\n",
    "    print 'step =',step, 'time =', time, 'vrms = ', vrms\n",
    "    # Increment\n",
    "    time += dt\n",
    "    step += 1"
   ]
  },
  {
   "cell_type": "code",
   "execution_count": null,
   "metadata": {
    "collapsed": false
   },
   "outputs": [],
   "source": [
    "fig1 = plt.Figure()\n",
    "fig1.Points( swarm=gSwarm, colourVariable=materialVariable, pointSize=5.0 )\n",
    "fig1.VectorArrows( velocityField, elementMesh, lengthScale=100, arrowHeadSize=0.3  )\n",
    "fig1.show()"
   ]
  }
 ],
 "metadata": {
  "kernelspec": {
   "display_name": "Python 2",
   "language": "python",
   "name": "python2"
  },
  "language_info": {
   "codemirror_mode": {
    "name": "ipython",
    "version": 2
   },
   "file_extension": ".py",
   "mimetype": "text/x-python",
   "name": "python",
   "nbconvert_exporter": "python",
   "pygments_lexer": "ipython2",
   "version": "2.7.10"
  }
 },
 "nbformat": 4,
 "nbformat_minor": 0
}
