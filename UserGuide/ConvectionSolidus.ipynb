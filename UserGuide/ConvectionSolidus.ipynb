{
 "cells": [
  {
   "cell_type": "markdown",
   "metadata": {},
   "source": [
    "## Convection model with solidus\n",
    "\n",
    "This notebook implements a thermal convection model with temperature dependent viscosity.\n",
    "\n",
    "$$\n",
    "    \\nabla \\cdot \\left( \\eta \\nabla \\dot\\varepsilon \\right) - \\nabla p = \n",
    "     \\mathrm{Ra}  T \\mathbf{\\hat z}\n",
    "$$\n",
    "\n",
    "$$\n",
    "    \\nabla \\cdot \\mathbf{v} = 0\n",
    "$$\n",
    "\n",
    "The thermal evolution is controlled by advection and  diffusion:\n",
    "\n",
    "$$\n",
    "    \\frac{D T}{D t} = \\nabla^2 T \n",
    "$$    \n",
    "\n",
    "The viscosity is defined by \n",
    "\n",
    "$$\n",
    "    \\eta = \\eta_0 \\exp\\left( \\frac{E}{T+1} \\right)\n",
    "$$\n",
    "\n",
    "$\\mathrm{Ra}$ is the Rayleigh number is defined by\n",
    "\n",
    "$$ \n",
    "    \\mathrm{Ra} = \\frac{g \\rho \\alpha \\Delta T h ^3}{\\kappa \\eta _0} ; \n",
    "$$\n",
    "\n",
    "An initial temperature distribution is required. It could be read in from a previous calculation but here we use a perturbed linear temperature gradient.\n",
    "\n",
    "$$\n",
    "    T = (1 - y) + 0.1 \\cdot \\left( \\sin(\\pi y) + \\cos(\\pi x) \\right)\n",
    "$$\n",
    "\n",
    "We compare the temperature at each point with a simple solidus defined as a linear function with depth \n",
    "and capped below a certain depth. The excess temperature could be used as the start of a very simple\n",
    "instantaneous and history-independent melting model such as that of Watson & McKenzie (1991).\n",
    "\n",
    "We can also see how the melting at depth can be mapped to the surface and tracked on particles through time.\n",
    "\n",
    "\n",
    "Watson, S., McKenzie, D., Melt Generation by Plumes: A Study of Hawaiian Volcanism\n",
    "J. Petrology (1991) 32 (3): 501-537 doi:10.1093/petrology/32.3.501\n"
   ]
  },
  {
   "cell_type": "code",
   "execution_count": 1,
   "metadata": {
    "collapsed": false
   },
   "outputs": [],
   "source": [
    "# Convection model that uses functions to determine where the temperature \n",
    "# lies above a simple solidus (linear with depth, then capped) \n",
    "\n",
    "# Also shows how to map the melt production values on a swarm to the surface (but not how to \n",
    "# create an integral of the values ... \n",
    "\n",
    "# TODO: show how we can track the melt history over time 1) for a particle and 2) for a particle at the surface\n",
    "# recording melt distribution (will also be useful for subduction to track the arc)\n",
    "\n",
    "%matplotlib inline\n",
    "\n",
    "import underworld as uw\n",
    "import math\n",
    "from underworld import function as fn\n",
    "import glucifer.pylab as plt"
   ]
  },
  {
   "cell_type": "code",
   "execution_count": 2,
   "metadata": {
    "collapsed": true
   },
   "outputs": [],
   "source": [
    "dim = 2"
   ]
  },
  {
   "cell_type": "code",
   "execution_count": 3,
   "metadata": {
    "collapsed": false
   },
   "outputs": [],
   "source": [
    "# create mesh objects (make alternates - either Q2dP1 or Q1dP0 which can be used for computation. The discontinuous\n",
    "# submeshes can also be retrieved)\n",
    "\n",
    "Q2dQ1Mesh = uw.mesh.FeMesh_Cartesian( elementType='Q2/dPc1', \n",
    "                                      elementRes=(64,16), \n",
    "                                      minCoord=(0.,0.), \n",
    "                                      maxCoord=(4.,1.)  )\n",
    "\n",
    "Q2Mesh   = Q2dQ1Mesh # the default action is to behave as the master mesh\n",
    "dQ1Mesh  = Q2dQ1Mesh.subMesh \n",
    "\n",
    "Q1dP0Mesh = uw.mesh.FeMesh_Cartesian( elementType='Q1/dQ0',\n",
    "                                         elementRes=(128,32), \n",
    "                                           minCoord=(0.,0.), \n",
    "                                           maxCoord=(4.,1.)  )\n",
    "\n",
    "Q1Mesh =  Q1dP0Mesh\n",
    "dP0Mesh = Q1dP0Mesh.subMesh\n",
    "\n",
    "velocityMesh =  Q2Mesh\n",
    "pressureMesh = dQ1Mesh\n"
   ]
  },
  {
   "cell_type": "code",
   "execution_count": 4,
   "metadata": {
    "collapsed": false
   },
   "outputs": [],
   "source": [
    "# create fevariables\n",
    "velocityField    = uw.fevariable.FeVariable( feMesh=velocityMesh,   nodeDofCount=dim )\n",
    "pressureField    = uw.fevariable.FeVariable( feMesh=pressureMesh,   nodeDofCount=1 )\n",
    "temperatureField = uw.fevariable.FeVariable( feMesh=velocityMesh,   nodeDofCount=1 )"
   ]
  },
  {
   "cell_type": "code",
   "execution_count": 5,
   "metadata": {
    "collapsed": false
   },
   "outputs": [],
   "source": [
    "# Initialise data.. Note that we are also setting boundary conditions here\n",
    "\n",
    "velocityField.data[:] = [0.,0.]\n",
    "pressureField.data[:] = 0.\n",
    "temperatureField.data[:] = 0.\n",
    "\n",
    "# Setup temperature initial condition via underlying data viewed as numpy arrays\n",
    "\n",
    "toptemp = 0.\n",
    "bottomtemp = 1.\n",
    "scaleFactor = bottomtemp - toptemp\n",
    "import math\n",
    "tempData = temperatureField.data\n",
    "perturbation_scale = 0.1\n",
    "for index, coord in enumerate(velocityMesh.data):\n",
    "    pertCoeff = math.cos( math.pi * coord[0] ) * math.sin( math.pi * coord[1] )\n",
    "    tempData[index] = min(1,max(0,toptemp + scaleFactor*(1. - coord[1]) + perturbation_scale * pertCoeff ));"
   ]
  },
  {
   "cell_type": "code",
   "execution_count": 6,
   "metadata": {
    "collapsed": false
   },
   "outputs": [],
   "source": [
    "figtemp = plt.Figure(figsize=(1024,256))\n",
    "tempminmax = fn.view.min_max(temperatureField)\n",
    "figtemp.Surface(tempminmax, velocityMesh, colours=[\"red\", \"white\", \"blue\"], colourBar=False)\n",
    "figtemp.show()"
   ]
  },
  {
   "cell_type": "code",
   "execution_count": 7,
   "metadata": {
    "collapsed": false
   },
   "outputs": [],
   "source": [
    "# Get list of special sets.\n",
    "# These are sets of vertices on the mesh. In this case we want to set them as boundary conditions.\n",
    "velocityMesh.specialSets.keys()"
   ]
  },
  {
   "cell_type": "code",
   "execution_count": 8,
   "metadata": {
    "collapsed": false
   },
   "outputs": [],
   "source": [
    "# Get the actual sets \n",
    "#\n",
    "#  HJJJJJJH\n",
    "#  I      I\n",
    "#  I      I\n",
    "#  I      I\n",
    "#  HJJJJJJH\n",
    "#  \n",
    "#  Note that H = I & J \n",
    "\n",
    "# Note that we use operator overloading to combine sets\n",
    "IWalls = velocityMesh.specialSets[\"MinI_VertexSet\"] + velocityMesh.specialSets[\"MaxI_VertexSet\"]\n",
    "JWalls = velocityMesh.specialSets[\"MinJ_VertexSet\"] + velocityMesh.specialSets[\"MaxJ_VertexSet\"]"
   ]
  },
  {
   "cell_type": "code",
   "execution_count": 9,
   "metadata": {
    "collapsed": true
   },
   "outputs": [],
   "source": [
    "# Now setup the dirichlet boundary condition\n",
    "# Note that through this object, we are flagging to the system \n",
    "# that these nodes are to be considered as boundary conditions. \n",
    "# Also note that we provide a tuple of sets.. One for the Vx, one for Vy.\n",
    "freeslipBC = uw.conditions.DirichletCondition(    variable=velocityField, \n",
    "                                                  nodeIndexSets=(IWalls,JWalls) )\n",
    "\n",
    "# also set dirichlet for temp field\n",
    "tempBC = uw.conditions.DirichletCondition(    variable=temperatureField, \n",
    "                                              nodeIndexSets=(JWalls,) )"
   ]
  },
  {
   "cell_type": "code",
   "execution_count": 10,
   "metadata": {
    "collapsed": false
   },
   "outputs": [],
   "source": [
    "# lets ensure temp boundaries are still what we want as the IC above might have set slightly different values\n",
    "# on the boundaries\n",
    "\n",
    "for index in velocityMesh.specialSets[\"MinJ_VertexSet\"]:\n",
    "    temperatureField.data[index] = 1.\n",
    "for index in velocityMesh.specialSets[\"MaxJ_VertexSet\"]:\n",
    "    temperatureField.data[index] = 0"
   ]
  },
  {
   "cell_type": "code",
   "execution_count": 11,
   "metadata": {
    "collapsed": false
   },
   "outputs": [],
   "source": [
    "# We create swarms of particles which can advect, and which we can use to track history\n",
    "gSwarm = uw.swarm.Swarm( feMesh=velocityMesh )\n",
    "\n",
    "# Now we add a data variable which will store an index to determine material\n",
    "materialVariable = gSwarm.add_variable( dataType=\"float\", count=1 )\n",
    "spareVariable    = gSwarm.add_variable( dataType=\"float\", count=1 )\n",
    "\n",
    "# Layouts are used to populate the swarm across the whole domain\n",
    "# Create the layout object\n",
    "layout = uw.swarm.layouts.GlobalSpaceFillerLayout( swarm=gSwarm, particlesPerCell=13 )\n",
    "# Now use it to populate.\n",
    "gSwarm.populate_using_layout( layout=layout )"
   ]
  },
  {
   "cell_type": "code",
   "execution_count": 12,
   "metadata": {
    "collapsed": false
   },
   "outputs": [],
   "source": [
    "import numpy\n",
    "\n",
    "materialVariable.data[:] = 100.0\n",
    "\n",
    "xCoord = numpy.sign(numpy.mod(gSwarm.particleCoordinates.data.T[0],0.25) - 0.125).reshape(-1,1)\n",
    "yCoord = numpy.sign(numpy.mod(gSwarm.particleCoordinates.data.T[1],0.25) - 0.125).reshape(-1,1)\n",
    "\n",
    "materialVariable.data[:] = xCoord[:] * yCoord[:] \n",
    "\n",
    "mVmin = materialVariable.data.min()\n",
    "mVmax = materialVariable.data.max()\n",
    "\n",
    "materialVariable.data[:] =  (materialVariable.data[:] - mVmin) / (mVmax-mVmin)\n",
    "spareVariable.data[:]    =  1.0 + (materialVariable.data[:] - mVmin) / (mVmax-mVmin)\n"
   ]
  },
  {
   "cell_type": "code",
   "execution_count": 13,
   "metadata": {
    "collapsed": false
   },
   "outputs": [],
   "source": [
    "# Rheology\n",
    "\n",
    "eta0 = 1.0e-3\n",
    "activationEnergy = 2.0 * math.log(1/eta0)\n",
    "Ra = 1.e6\n",
    "viscosityFn = eta0 *  fn.math.exp( activationEnergy / (fn.misc.max(0.0,fn.misc.min(1.0,temperatureField))+1.) ) \n",
    "\n",
    "densityFn = Ra*temperatureField\n",
    "# Define our gravity using a python tuple (this will be automatically converted to a function)\n",
    "gravity = ( 0.0, 1.0 )\n",
    "# now create a buoyancy force vector.. the gravity tuple is converted to a function \n",
    "# here via operator overloading\n",
    "buoyancyFn = gravity*densityFn\n",
    "\n",
    "print \"Delta eta = \", viscosityFn.evaluate((0.0,1.0)) / viscosityFn.evaluate((0.0,0.0)) \n"
   ]
  },
  {
   "cell_type": "code",
   "execution_count": 14,
   "metadata": {
    "collapsed": false
   },
   "outputs": [],
   "source": [
    "# lets take a look at the eta function\n",
    "\n",
    "figEta = plt.Figure(figsize=(1024,256))\n",
    "figEta.Surface(viscosityFn, velocityMesh, colours=[\"#FFFFFF\",\"#555555\", \"#111111\", '#000000'], colourBar=False)\n",
    "figEta.Points(gSwarm, colours=[\"darkred\", \"blue\"], pointSize=3.0, sizeVariable=materialVariable, colourVariable=materialVariable, opacity=0.5, colourBar=False)\n",
    "figEta.show()"
   ]
  },
  {
   "cell_type": "code",
   "execution_count": 15,
   "metadata": {
    "collapsed": false
   },
   "outputs": [],
   "source": [
    "# Setup a stokes system\n",
    "# For PIC style integration, we include a swarm for the a PIC integration swarm is generated within.\n",
    "# For gauss integration, simple do not include the swarm. Nearest neighbour is used where required.\n",
    "stokesPIC = uw.systems.Stokes(velocityField=velocityField, \n",
    "                              pressureField=pressureField,\n",
    "                              conditions=[freeslipBC,],\n",
    "                              viscosityFn=fn.exception.SafeMaths(viscosityFn), \n",
    "                              bodyForceFn=buoyancyFn )\n",
    "\n",
    "solver=uw.systems.Solver(stokesPIC)\n",
    "\n",
    "solver.options.main.Q22_pc_type='uw'  # also try 'gtkg', 'gkgdiag' and 'uwscale'\n",
    "solver.options.main.penalty = 1.0\n",
    "solver.options.A11.ksp_rtol=1e-4\n",
    "solver.options.scr.ksp_rtol=1e-3\n",
    "solver.options.scr.use_previous_guess = True\n",
    "solver.options.scr.ksp_set_min_it_converge = 1\n",
    "solver.options.scr.ksp_set_max_it = 100\n",
    "solver.options.mg.levels = 5\n",
    "solver.options.mg.mg_levels_ksp_type = 'chebyshev'\n",
    "solver.options.mg_accel.mg_accelerating_smoothing = True\n",
    "solver.options.mg_accel.mg_accelerating_smoothing_view = False\n",
    "solver.options.mg_accel.mg_smooths_to_start = 1\n",
    "\n",
    "# Load this solver onto the equation system (displacing the default)\n",
    "stokesPIC.solve = solver.solve\n"
   ]
  },
  {
   "cell_type": "code",
   "execution_count": 16,
   "metadata": {
    "collapsed": false
   },
   "outputs": [],
   "source": [
    "# Create advdiff system\n",
    "advDiff = uw.systems.AdvectionDiffusion( temperatureField, velocityField, diffusivity=1., conditions=[tempBC,] )\n",
    "\n",
    "# And the particle updating system\n",
    "advector = uw.systems.SwarmAdvector( swarm=gSwarm, velocityField=velocityField, order=2 )\n",
    "\n",
    "# Also create some integral objects which are used to calculate statistics\n",
    "v2sum_integral  = uw.utils.Integral( feMesh=velocityMesh, fn=fn.math.dot(velocityField, velocityField) ) \n",
    "volume_integral = uw.utils.Integral( feMesh=velocityMesh, fn=1. )"
   ]
  },
  {
   "cell_type": "code",
   "execution_count": 17,
   "metadata": {
    "collapsed": true
   },
   "outputs": [],
   "source": [
    "def nusselt(temp_field, mesh):\n",
    "\n",
    "    surface_Tgradient = -temp_field.gradientFn.evaluate(velocityMesh.specialSets[\"MaxJ_VertexSet\"]).T[1]\n",
    "    basalT = temp_field.evaluate(velocityMesh.specialSets[\"MinJ_VertexSet\"])\n",
    "    \n",
    "    nusselt = surface_Tgradient.mean() / basalT.mean()\n",
    "\n",
    "    return nusselt"
   ]
  },
  {
   "cell_type": "code",
   "execution_count": 18,
   "metadata": {
    "collapsed": false
   },
   "outputs": [],
   "source": [
    "# Stepping. Initialise time and timestep.\n",
    "realtime = 0.\n",
    "step = 0\n",
    "time_vals = []\n",
    "vrms_vals = []\n",
    "Nu_vals = []"
   ]
  },
  {
   "cell_type": "code",
   "execution_count": 19,
   "metadata": {
    "collapsed": false
   },
   "outputs": [],
   "source": [
    "import time\n",
    "\n",
    "start = time.clock()\n",
    "# Perform 1000 or so steps\n",
    "\n",
    "volume = volume_integral.integrate()\n",
    "while step<500:\n",
    "    # Get solution for initial configuration\n",
    "    stokesPIC.solve()\n",
    "    # Retrieve the maximum possible timestep for the AD system.\n",
    "    dt = advDiff.get_max_dt()\n",
    "    if step == 0:\n",
    "        dt = 0.\n",
    "    # Advect using this timestep siz    \n",
    "    advDiff.integrate(dt)\n",
    "    advector.integrate(dt)\n",
    "    # Calculate the RMS velocity\n",
    "    v2sum = v2sum_integral.integrate()\n",
    "    rms_v = math.sqrt(v2sum[0]/volume[0])\n",
    "    nu_no = nusselt(temperatureField, velocityMesh)\n",
    "    \n",
    "    # Increment time and store results\n",
    "    realtime += dt\n",
    "    step += 1\n",
    "    vrms_vals.append( rms_v )\n",
    "    time_vals.append( realtime )\n",
    "    Nu_vals.append(nu_no)\n",
    "                   \n",
    "    if step == 0 or step % 25 == 0:\n",
    "        print \"step = {:04d}; time = {:.6f}, vrms = {:6.2f}, nusselt = {:6.4f}, CPU = {:4.1f}s\".format(\n",
    "               step, realtime, rms_v, nu_no, time.clock()-start)\n",
    "        # Animation frame\n",
    "        \n",
    "        figVT = plt.Figure()\n",
    "        figVT = plt.Figure(figsize=(1024,512))\n",
    "        figVT.Surface(temperatureField, velocityMesh, colours=[\"#333333\",\"#666666\", \"#999999\", '#FFFFFFF'])\n",
    "        figVT.Points(gSwarm, colours=[\"red\", \"blue\"], colourBar=False, pointSize=4.0, colourVariable=materialVariable, opacity=0.5)\n",
    "        figVT.VectorArrows(velocityField, velocityMesh, lengthScale=0.1/rms_v, arrowHeadSize=0.15 )        \n",
    "        figVT.save_image(\"TEST/Temperature+Markers.{:04d}\".format(step))\n",
    "        del figVT \n",
    "        \n",
    "        "
   ]
  },
  {
   "cell_type": "code",
   "execution_count": null,
   "metadata": {
    "collapsed": false
   },
   "outputs": [],
   "source": [
    "print \"average time per timestep = \", (time.clock() - start)/float(step), \" over \", step, \" steps\""
   ]
  },
  {
   "cell_type": "code",
   "execution_count": null,
   "metadata": {
    "collapsed": false
   },
   "outputs": [],
   "source": [
    "import matplotlib.pyplot as pyplot\n",
    "#import numpy as np\n",
    "\n",
    "surface_points_X = velocityMesh.data[velocityMesh.specialSets[\"MinJ_VertexSet\"].data].T[0]\n",
    "\n",
    "figure, (plot1, plot2) = pyplot.subplots(1,2)\n",
    "figure.set_size_inches(10,6)\n",
    "plot1.plot(time_vals, vrms_vals, linewidth=2.5)\n",
    "plot2.plot(time_vals, Nu_vals, linewidth=2.5)\n",
    "\n",
    "figure.show()"
   ]
  },
  {
   "cell_type": "code",
   "execution_count": null,
   "metadata": {
    "collapsed": false
   },
   "outputs": [],
   "source": [
    "figVT = plt.Figure(figsize=(1024,384))\n",
    "figVT.Surface(temperatureField, velocityMesh, colours=[\"#333333\",\"#666666\", \"#999999\", '#FFFFFFF'])\n",
    "figVT.Points(gSwarm, colours=[\"darkred\", \"white\"], colourBar=True, pointSize=4.0, colourVariable=materialVariable, opacity=0.25)\n",
    "figVT.VectorArrows(velocityField, velocityMesh, lengthScale=0.1/rms_v, arrowHeadSize=0.15 )\n",
    "figVT.show()"
   ]
  },
  {
   "cell_type": "code",
   "execution_count": null,
   "metadata": {
    "collapsed": false
   },
   "outputs": [],
   "source": [
    "# Definition of a linear solidus (with cutoff) using underworld functions\n",
    "\n",
    "T0 = 0.7\n",
    "D0 = 1.0\n",
    "Tex = 0.85\n",
    "Dex = 0.5\n",
    "\n",
    "yCoordFn = fn.input()[1]\n",
    "solidusFn = T0 - ((T0 - Tex) / (D0 - Dex)) * (D0 - yCoordFn)\n",
    "excessTempFn = fn.misc.max(0.0, temperatureField - solidusFn)\n",
    "\n",
    "ET2 = excessTempFn.evaluate(gSwarm)\n"
   ]
  },
  {
   "cell_type": "code",
   "execution_count": null,
   "metadata": {
    "collapsed": false,
    "scrolled": true
   },
   "outputs": [],
   "source": [
    "spareVariable.data[:] = ET2[:]\n",
    "\n",
    "limTempFn = fn.misc.min(fn.misc.max(temperatureField, 0.0),1.0)\n",
    "\n",
    "\n",
    "figVT = plt.Figure(figsize=(1024,256))\n",
    "figVT.Surface(limTempFn, velocityMesh, colours=[\"#00000\",\"#444444\", \"#999999\", '#FFFFFFF'])\n",
    "figVT.Points(gSwarm, colours=[\"white\", \"red\", \"yellow\"], colourBar=True, pointSize=100.0, \n",
    "             colourVariable=spareVariable, sizeVariable=spareVariable)\n",
    "figVT.VectorArrows(velocityField, velocityMesh, lengthScale=0.1/rms_v, arrowHeadSize=0.15 )\n",
    "figVT.show()"
   ]
  },
  {
   "cell_type": "code",
   "execution_count": null,
   "metadata": {
    "collapsed": false
   },
   "outputs": [],
   "source": [
    "## map the melt production rate (currently excess temperature) to the surface\n",
    "## in parallel this requires us to communicate the information to processes which\n",
    "## own the surface. One way to do this for swarm data is to teleport the whole lot to y=1.0\n",
    "\n",
    "# An improvement would be to only make a swarm with the particles having non-zero melt\n",
    "# and then flatten this to the surface\n",
    "\n",
    "melting_particles = numpy.where(spareVariable.data > 0.0)[0]\n",
    "\n",
    "spareSwarm = uw.swarm.Swarm( feMesh=Q1Mesh )\n",
    "spareSwarm.add_particles_with_coordinates(gSwarm.particleCoordinates.data[melting_particles])\n",
    "newVar         = spareSwarm.add_variable(dataType=\"float\", count=1)\n",
    "newVar.data[:] = spareVariable.data[melting_particles]\n",
    "\n",
    "# Flatten swarm to surface\n",
    "spareSwarm.particleCoordinates.data[:,1] = 1.0\n",
    "spareSwarm.update_particle_owners()\n"
   ]
  },
  {
   "cell_type": "code",
   "execution_count": null,
   "metadata": {
    "collapsed": false
   },
   "outputs": [],
   "source": [
    "ExcessTField = uw.fevariable.FeVariable( feMesh=dP0Mesh, nodeDofCount=1 )\n",
    "ExcessTField.data[:] = 0.0"
   ]
  },
  {
   "cell_type": "code",
   "execution_count": null,
   "metadata": {
    "collapsed": false
   },
   "outputs": [],
   "source": [
    "for point, value in enumerate(newVar.data):\n",
    "#    print point, value\n",
    "    cell = spareSwarm.owningCell.data[point]\n",
    "    ExcessTField.data[ cell ] += value\n",
    "    \n",
    "print numpy.count_nonzero(ExcessTField.data)"
   ]
  },
  {
   "cell_type": "code",
   "execution_count": null,
   "metadata": {
    "collapsed": false
   },
   "outputs": [],
   "source": [
    "figVT = plt.Figure(figsize=(1024,256))\n",
    "figVT.Surface(ExcessTField, Q1Mesh, colours=[\"#00000\",\"red\", \"orange\", 'yellow'])\n",
    "figVT.Points(gSwarm, colours=[\"white\", \"red\", \"yellow\"], colourBar=True, pointSize=100.0, \n",
    "             colourVariable=spareVariable, sizeVariable=spareVariable)\n",
    "figVT.show()"
   ]
  },
  {
   "cell_type": "code",
   "execution_count": null,
   "metadata": {
    "collapsed": false
   },
   "outputs": [],
   "source": [
    "surfacePoints = velocityMesh.data[velocityMesh.specialSets[\"MaxJ_VertexSet\"].data]\n",
    "surfaceExcessT = ExcessTField.evaluate(surfacePoints)\n",
    "\n",
    "figure, (plot1) = pyplot.subplots(1,1)\n",
    "figure.set_size_inches(12,3)\n",
    "plot1.scatter(surfacePoints.T[0], surfaceExcessT, marker=\"x\")\n",
    "plot1.set_xlim(0,4)\n",
    "\n",
    "figure.show()\n",
    "\n"
   ]
  },
  {
   "cell_type": "code",
   "execution_count": null,
   "metadata": {
    "collapsed": true
   },
   "outputs": [],
   "source": [
    "## What does the stress look like ?\n",
    "\n",
    "\n",
    "\n"
   ]
  }
 ],
 "metadata": {
  "kernelspec": {
   "display_name": "Python 2",
   "language": "python",
   "name": "python2"
  },
  "language_info": {
   "codemirror_mode": {
    "name": "ipython",
    "version": 2
   },
   "file_extension": ".py",
   "mimetype": "text/x-python",
   "name": "python",
   "nbconvert_exporter": "python",
   "pygments_lexer": "ipython2",
   "version": "2.7.3"
  }
 },
 "nbformat": 4,
 "nbformat_minor": 0
}
