{
 "cells": [
  {
   "cell_type": "code",
   "execution_count": 1,
   "metadata": {
    "collapsed": false
   },
   "outputs": [],
   "source": [
    "import underworld as uw\n",
    "import underworld.function as fn\n",
    "import glucifer.pylab as plt\n",
    "import numpy as np\n",
    "import math"
   ]
  },
  {
   "cell_type": "code",
   "execution_count": 2,
   "metadata": {
    "collapsed": false
   },
   "outputs": [],
   "source": [
    "elCount = 32\n",
    "mesh = uw.mesh.FeMesh_Cartesian(elementRes=(elCount,elCount))\n",
    "elsize = 1./float(elCount)"
   ]
  },
  {
   "cell_type": "code",
   "execution_count": 3,
   "metadata": {
    "collapsed": false
   },
   "outputs": [],
   "source": [
    "# push the mesh\n",
    "#mesh.data[:,0] = np.exp(3.*mesh.data[:,0])-1.\n",
    "# normalise\n",
    "#mesh.data[:,0] /= math.exp(3.)-1."
   ]
  },
  {
   "cell_type": "code",
   "execution_count": 4,
   "metadata": {
    "collapsed": false,
    "scrolled": true
   },
   "outputs": [],
   "source": [
    "meshfig = plt.Figure()\n",
    "meshfig.Mesh(mesh)\n",
    "meshfig.show()"
   ]
  },
  {
   "cell_type": "code",
   "execution_count": 5,
   "metadata": {
    "collapsed": true
   },
   "outputs": [],
   "source": [
    "fevardude = uw.fevariable.FeVariable(mesh,1)"
   ]
  },
  {
   "cell_type": "code",
   "execution_count": 6,
   "metadata": {
    "collapsed": false
   },
   "outputs": [],
   "source": [
    "import numpy as np\n",
    "fevardude.data[:] = 0.0+1.0*fn.math.cos(2.*math.pi*fn.input()[0]).evaluate(mesh)"
   ]
  },
  {
   "cell_type": "code",
   "execution_count": 7,
   "metadata": {
    "collapsed": false
   },
   "outputs": [],
   "source": [
    "# something aint right with the viz here\n",
    "fig = plt.Figure()\n",
    "fig.Surface(fevardude,mesh)\n",
    "fig.show()"
   ]
  },
  {
   "cell_type": "code",
   "execution_count": 8,
   "metadata": {
    "collapsed": false
   },
   "outputs": [],
   "source": [
    "integ = uw.utils.Integral(fevardude,\n",
    "                            mesh,\n",
    "                            integrationType=\"volume\")\n",
    "\n",
    "print integ.integrate()[0]\n",
    "\n",
    "integ = uw.utils.Integral(fevardude,\n",
    "                            mesh,\n",
    "                            integrationType=\"surface\",\n",
    "                            surfaceIndexSet=mesh.specialSets[\"MaxJ_VertexSet\"])\n",
    "print integ.integrate()[0]\n",
    "\n",
    "\n"
   ]
  },
  {
   "cell_type": "code",
   "execution_count": 9,
   "metadata": {
    "collapsed": false,
    "scrolled": true
   },
   "outputs": [],
   "source": [
    "fig = plt.Figure()\n",
    "fig.Surface(integ.maskFn, mesh, colours=['black','green'])\n",
    "fig.show()"
   ]
  },
  {
   "cell_type": "code",
   "execution_count": 10,
   "metadata": {
    "collapsed": false
   },
   "outputs": [],
   "source": [
    "# Now repeat for a distorted mesh\n",
    "\n",
    "# reset\n",
    "\n",
    "elCount = 32\n",
    "mesh = uw.mesh.FeMesh_Cartesian(elementRes=(elCount,elCount))\n",
    "elsize = 1./float(elCount)\n",
    "\n",
    "# push the mesh & normalise\n",
    "mesh.data[:,0] = np.exp(mesh.data[:,0])-1.\n",
    "mesh.data[:,0] /= math.exp(1.0)-1.\n",
    "\n",
    "# push the mesh & normalise\n",
    "mesh.data[:,1] = np.exp(-mesh.data[:,1])-1.\n",
    "mesh.data[:,1] /= math.exp(-1.0)-1.\n",
    "\n",
    "\n"
   ]
  },
  {
   "cell_type": "code",
   "execution_count": 11,
   "metadata": {
    "collapsed": false
   },
   "outputs": [],
   "source": [
    "meshfig = plt.Figure()\n",
    "meshfig.Mesh(mesh)\n",
    "meshfig.show()"
   ]
  },
  {
   "cell_type": "code",
   "execution_count": 12,
   "metadata": {
    "collapsed": false
   },
   "outputs": [],
   "source": [
    "integ = uw.utils.Integral(fevardude,\n",
    "                            mesh,\n",
    "                            integrationType=\"surface\",\n",
    "                            surfaceIndexSet=mesh.specialSets[\"MaxJ_VertexSet\"])\n",
    "print integ.integrate()[0]\n",
    "\n",
    "integ = uw.utils.Integral(fevardude,\n",
    "                            mesh,\n",
    "                            integrationType=\"volume\",\n",
    "                            surfaceIndexSet=mesh.specialSets[\"MaxJ_VertexSet\"])\n",
    "print integ.integrate()[0]\n"
   ]
  },
  {
   "cell_type": "code",
   "execution_count": 13,
   "metadata": {
    "collapsed": false
   },
   "outputs": [],
   "source": [
    "# Good, but now we should see if mesh-orthogonality is a problem \n",
    "\n",
    "elCount = 32\n",
    "mesh = uw.mesh.FeMesh_Cartesian(elementRes=(elCount,elCount))\n",
    "elsize = 1./float(elCount)\n",
    "\n",
    "# push the mesh & normalise\n",
    "mesh.data[:,0] = np.exp(mesh.data[:,0])-1.\n",
    "mesh.data[:,0] /= (mesh.data[:,0].max() - mesh.data[:,0].min())\n",
    "mesh.data[:,0] -= mesh.data[:,0].min()\n",
    "\n",
    "# push the mesh & normalise\n",
    "mesh.data[:,1] = 0.1*np.sin(mesh.data[:,0]*2.0*math.pi)*np.sin(mesh.data[:,1]*math.pi) + np.exp(mesh.data[:,1])-1.\n",
    "mesh.data[:,1] /= (mesh.data[:,1].max() - mesh.data[:,1].min())\n",
    "mesh.data[:,1] -= mesh.data[:,1].min()\n",
    "\n",
    "meshfig = plt.Figure()\n",
    "meshfig.Mesh(mesh)\n",
    "meshfig.show()\n"
   ]
  },
  {
   "cell_type": "code",
   "execution_count": 14,
   "metadata": {
    "collapsed": false
   },
   "outputs": [],
   "source": [
    "integ = uw.utils.Integral(fevardude,\n",
    "                            mesh,\n",
    "                            integrationType=\"surface\",\n",
    "                            surfaceIndexSet=mesh.specialSets[\"MaxJ_VertexSet\"])\n",
    "print integ.integrate()[0]\n",
    "\n",
    "integ = uw.utils.Integral(fevardude,\n",
    "                            mesh,\n",
    "                            integrationType=\"volume\",\n",
    "                            surfaceIndexSet=mesh.specialSets[\"MaxJ_VertexSet\"])\n",
    "print integ.integrate()[0]"
   ]
  },
  {
   "cell_type": "code",
   "execution_count": null,
   "metadata": {
    "collapsed": true
   },
   "outputs": [],
   "source": []
  }
 ],
 "metadata": {
  "kernelspec": {
   "display_name": "Python 2",
   "language": "python",
   "name": "python2"
  },
  "language_info": {
   "codemirror_mode": {
    "name": "ipython",
    "version": 2
   },
   "file_extension": ".py",
   "mimetype": "text/x-python",
   "name": "python",
   "nbconvert_exporter": "python",
   "pygments_lexer": "ipython2",
   "version": "2.7.3"
  }
 },
 "nbformat": 4,
 "nbformat_minor": 0
}
