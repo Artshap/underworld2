{
 "cells": [
  {
   "cell_type": "code",
   "execution_count": 6,
   "metadata": {
    "collapsed": false
   },
   "outputs": [],
   "source": [
    "import underworld as uw\n",
    "import pkgutil, doctest, sys"
   ]
  },
  {
   "cell_type": "code",
   "execution_count": 7,
   "metadata": {
    "collapsed": false
   },
   "outputs": [],
   "source": [
    "modIter = pkgutil.walk_packages(path=uw.__path__, prefix=uw.__name__+'.')"
   ]
  },
  {
   "cell_type": "code",
   "execution_count": 8,
   "metadata": {
    "collapsed": false
   },
   "outputs": [
    {
     "name": "stdout",
     "output_type": "stream",
     "text": [
      "<module 'underworld.container' from 'underworld/container/__init__.pyc'>\n"
     ]
    }
   ],
   "source": [
    "print sys.modules.get('underworld.container')"
   ]
  },
  {
   "cell_type": "code",
   "execution_count": 9,
   "metadata": {
    "collapsed": false,
    "scrolled": true
   },
   "outputs": [
    {
     "name": "stdout",
     "output_type": "stream",
     "text": [
      "Testing underworld._stgermain  ... pass\n",
      "Testing underworld.conditions  ... pass\n",
      "Testing underworld.conditions._dirichletCondition  ... pass\n",
      "Testing underworld.container  ... pass\n",
      "Testing underworld.container._indexset  ... pass\n",
      "Testing underworld.fevariable  ... pass\n",
      "Testing underworld.fevariable._fevariable  ... pass\n",
      "Testing underworld.function  ... pass\n",
      "Testing underworld.function._function  ... pass\n",
      "Testing underworld.function._math  ... pass\n",
      "Testing underworld.function.analytic  ... pass\n",
      "Testing underworld.function.branching  ... pass\n",
      "Testing underworld.function.exception  ... pass\n",
      "Testing underworld.function.misc  ... pass\n",
      "Testing underworld.function.rheology  ... pass\n",
      "Testing underworld.function.shape  ... pass\n",
      "Testing underworld.function.tensor  ... pass\n",
      "Testing underworld.function.view  ... pass\n",
      "Testing underworld.mesh  ... pass\n",
      "Testing underworld.mesh._mesh  ... pass\n",
      "Testing underworld.mesh._specialSets_Cartesian  ... pass\n",
      "Testing underworld.swarm  ... pass\n",
      "Testing underworld.swarm._integration_swarm  ... pass\n",
      "Testing underworld.swarm._swarm  ... pass\n",
      "Testing underworld.swarm._swarmabstract  ... pass\n",
      "Testing underworld.swarm._swarmvariable  ... pass\n",
      "Testing underworld.swarm._weights  ... pass\n",
      "Testing underworld.swarm.layouts  ... pass\n",
      "Testing underworld.swarm.test  ... pass\n",
      "Testing underworld.systems  ... pass\n",
      "Testing underworld.systems._advectiondiffusion  ... pass\n",
      "Testing underworld.systems._solver  ... pass\n",
      "Testing underworld.systems._stokes  ... pass\n",
      "Testing underworld.systems._thermal  ... pass\n",
      "Testing underworld.systems._timeintegration  ... pass\n",
      "Testing underworld.systems.sle  ... pass\n",
      "Testing underworld.systems.sle._assembledmatrix  ... pass\n",
      "Testing underworld.systems.sle._assembledvector  ... pass\n",
      "Testing underworld.systems.sle._assemblyterm  ... pass\n",
      "Testing underworld.systems.sle._augstokes  ... pass\n",
      "Testing underworld.systems.sle._fvector  ... pass\n",
      "Testing underworld.systems.sle._svector  ... pass\n",
      "Testing underworld.systems.sle.test  ... pass\n",
      "Testing underworld.utils  ... pass\n",
      "Testing underworld.utils._utils  ... pass\n"
     ]
    }
   ],
   "source": [
    "for itthing, modName, bs in modIter:\n",
    "    mod=sys.modules.get(modName)\n",
    "    try:\n",
    "        print \"Testing \"+modName,\n",
    "        doctest.testmod(mod)\n",
    "        print \" ... pass\"\n",
    "    except:\n",
    "        print \"Died on\" + modName + \"\\n\""
   ]
  }
 ],
 "metadata": {
  "kernelspec": {
   "display_name": "Python 2",
   "language": "python",
   "name": "python2"
  },
  "language_info": {
   "codemirror_mode": {
    "name": "ipython",
    "version": 2
   },
   "file_extension": ".py",
   "mimetype": "text/x-python",
   "name": "python",
   "nbconvert_exporter": "python",
   "pygments_lexer": "ipython2",
   "version": "2.7.6"
  }
 },
 "nbformat": 4,
 "nbformat_minor": 0
}
