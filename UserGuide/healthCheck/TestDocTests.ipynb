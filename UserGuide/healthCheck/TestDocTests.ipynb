{
 "cells": [
  {
   "cell_type": "code",
   "execution_count": null,
   "metadata": {
    "collapsed": false
   },
   "outputs": [],
   "source": [
    "import underworld as uw\n",
    "import pkgutil, doctest, sys"
   ]
  },
  {
   "cell_type": "code",
   "execution_count": null,
   "metadata": {
    "collapsed": false
   },
   "outputs": [],
   "source": [
    "modIter = pkgutil.walk_packages(path=uw.__path__, prefix=uw.__name__+'.')"
   ]
  },
  {
   "cell_type": "code",
   "execution_count": null,
   "metadata": {
    "collapsed": false
   },
   "outputs": [],
   "source": [
    "print sys.modules.get('underworld.container')"
   ]
  },
  {
   "cell_type": "code",
   "execution_count": null,
   "metadata": {
    "collapsed": false,
    "scrolled": true
   },
   "outputs": [],
   "source": [
    "somethingFailed=False\n",
    "for itthing, modName, bs in modIter:\n",
    "    mod=sys.modules.get(modName)\n",
    "    print \"Testing \"+modName,\n",
    "    try:\n",
    "        res = doctest.testmod(mod)\n",
    "        if res.failed > 0:\n",
    "            somethingFailed=True\n",
    "            print \" ... FAILED\"\n",
    "        else:\n",
    "            print \" ... pass\"\n",
    "    except:\n",
    "        print \"Died on\" + modName + \"\\n\"\n",
    "        somethingFailed=True"
   ]
  },
  {
   "cell_type": "code",
   "execution_count": null,
   "metadata": {
    "collapsed": false
   },
   "outputs": [],
   "source": [
    "if somethingFailed==True:\n",
    "    sys.exit(1)"
   ]
  }
 ],
 "metadata": {
  "kernelspec": {
   "display_name": "Python 2",
   "language": "python",
   "name": "python2"
  },
  "language_info": {
   "codemirror_mode": {
    "name": "ipython",
    "version": 2
   },
   "file_extension": ".py",
   "mimetype": "text/x-python",
   "name": "python",
   "nbconvert_exporter": "python",
   "pygments_lexer": "ipython2",
   "version": "2.7.6"
  }
 },
 "nbformat": 4,
 "nbformat_minor": 0
}
