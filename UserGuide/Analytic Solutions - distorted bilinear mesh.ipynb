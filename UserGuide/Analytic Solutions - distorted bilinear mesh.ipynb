{
 "cells": [
  {
   "cell_type": "code",
   "execution_count": null,
   "metadata": {
    "collapsed": false
   },
   "outputs": [],
   "source": [
    "%matplotlib inline\n",
    "\n",
    "import underworld as uw\n",
    "import math\n",
    "from underworld import function as fn\n",
    "import glucifer.pylab as plt"
   ]
  },
  {
   "cell_type": "code",
   "execution_count": null,
   "metadata": {
    "collapsed": false
   },
   "outputs": [],
   "source": [
    "linearMesh = uw.mesh.FeMesh_Cartesian('Q1/dQ0', (32,32), (0.,0.), (1.,1.))"
   ]
  },
  {
   "cell_type": "code",
   "execution_count": null,
   "metadata": {
    "collapsed": true
   },
   "outputs": [],
   "source": [
    "constantMesh = linearMesh.subMesh"
   ]
  },
  {
   "cell_type": "code",
   "execution_count": null,
   "metadata": {
    "collapsed": false
   },
   "outputs": [],
   "source": [
    "velocityField = uw.fevariable.FeVariable(linearMesh,2)\n",
    "velocityField.data[:] = (0.,0.)"
   ]
  },
  {
   "cell_type": "code",
   "execution_count": null,
   "metadata": {
    "collapsed": false
   },
   "outputs": [],
   "source": [
    "pressureField = uw.fevariable.FeVariable(constantMesh,1)\n",
    "pressureField.data[:] = 0."
   ]
  },
  {
   "cell_type": "code",
   "execution_count": null,
   "metadata": {
    "collapsed": false
   },
   "outputs": [],
   "source": [
    "# setup freeslip\n",
    "IWalls = linearMesh.specialSets[\"MinI_VertexSet\"] + linearMesh.specialSets[\"MaxI_VertexSet\"]\n",
    "JWalls = linearMesh.specialSets[\"MinJ_VertexSet\"] + linearMesh.specialSets[\"MaxJ_VertexSet\"]\n",
    "freeslip = uw.conditions.DirichletCondition(velocityField, (IWalls, JWalls))"
   ]
  },
  {
   "cell_type": "code",
   "execution_count": null,
   "metadata": {
    "collapsed": false
   },
   "outputs": [],
   "source": [
    "# setup analytic functions\n",
    "#solA = fn.analytic.SolCx()\n",
    "# solA = fn.analytic.SolKx()\n",
    "solA = fn.analytic.SolKz()"
   ]
  },
  {
   "cell_type": "code",
   "execution_count": null,
   "metadata": {
    "collapsed": false
   },
   "outputs": [],
   "source": [
    "# get eta function from solA and take a look\n",
    "eta = plt.Figure()\n",
    "eta.Surface(solA.viscosityFn,linearMesh)\n",
    "eta.show()"
   ]
  },
  {
   "cell_type": "code",
   "execution_count": null,
   "metadata": {
    "collapsed": false
   },
   "outputs": [],
   "source": [
    "# grab the body force from SolA and take a look at vertical component\n",
    "force = plt.Figure()\n",
    "force.Surface(solA.bodyForceFn[1], linearMesh)\n",
    "force.show()"
   ]
  },
  {
   "cell_type": "code",
   "execution_count": null,
   "metadata": {
    "collapsed": false
   },
   "outputs": [],
   "source": [
    "# setup our stokes guy\n",
    "stokesSystem = uw.systems.Stokes(velocityField,pressureField,solA.viscosityFn,solA.bodyForceFn,conditions=[freeslip,], rtolerance=1.e-5)"
   ]
  },
  {
   "cell_type": "code",
   "execution_count": null,
   "metadata": {
    "collapsed": true
   },
   "outputs": [],
   "source": [
    "# lets solve\n",
    "stokesSystem.solve()"
   ]
  },
  {
   "cell_type": "code",
   "execution_count": null,
   "metadata": {
    "collapsed": false
   },
   "outputs": [],
   "source": [
    "# rms\n",
    "squared = uw.utils.Integral(fn.math.dot(solA.velocityFn-velocityField,solA.velocityFn-velocityField), linearMesh)\n",
    "area = uw.utils.Integral(1.,linearMesh)\n",
    "math.sqrt(squared.integrate()[0]/area.integrate()[0])"
   ]
  },
  {
   "cell_type": "code",
   "execution_count": null,
   "metadata": {
    "collapsed": false
   },
   "outputs": [],
   "source": [
    "## Compute topography and see how that looks\n",
    "\n",
    "stresstensorfunc =  2.*solA.viscosityFn*fn.tensor.symmetric( velocityField.gradientFn )\n",
    "stresstensorfuncA = fn.tensor.deviatoric(solA.stressFn)\n",
    "\n",
    "surface_deviatoric_stress = stresstensorfunc.evaluate(linearMesh.specialSets[\"MinJ_VertexSet\"])\n",
    "surface_pressure = pressureField.evaluate(linearMesh.specialSets[\"MinJ_VertexSet\"])\n",
    "surface_total_stress = surface_deviatoric_stress.T[1]-surface_pressure.T[0]\n",
    "\n",
    "analytic_surface_deviatoric_stress = stresstensorfuncA.evaluate(linearMesh.specialSets[\"MinJ_VertexSet\"])\n",
    "analytic_surface_pressure = solA.pressureFn.evaluate(linearMesh.specialSets[\"MinJ_VertexSet\"])\n",
    "analytic_surface_total_stress = analytic_surface_deviatoric_stress.T[1]-analytic_surface_pressure.T[0]"
   ]
  },
  {
   "cell_type": "code",
   "execution_count": null,
   "metadata": {
    "collapsed": false
   },
   "outputs": [],
   "source": [
    "\n",
    "import matplotlib.pyplot as pyplot\n",
    "from matplotlib import cm\n",
    "import numpy as np\n",
    "\n",
    "surface_points_X = linearMesh.data[linearMesh.specialSets[\"MinJ_VertexSet\"].data].T[0]\n",
    "\n",
    "figure, (plot1, plot2) = pyplot.subplots(1,2)\n",
    "figure.set_size_inches(10,6)\n",
    "plot1.plot(surface_points_X, surface_total_stress, linewidth=2.5)\n",
    "plot1.plot(surface_points_X, analytic_surface_total_stress, marker='x', markersize=5.0)\n",
    "plot2.plot(surface_points_X, (surface_total_stress-analytic_surface_total_stress))\n"
   ]
  },
  {
   "cell_type": "code",
   "execution_count": null,
   "metadata": {
    "collapsed": true
   },
   "outputs": [],
   "source": [
    "# Global error measure\n",
    "\n",
    "def rmsErr(F1, F2):\n",
    "    \"\"\"\n",
    "    Find the rms error between two arrays\n",
    "    \"\"\"\n",
    "    import numpy as np\n",
    "    \n",
    "    diff = np.sqrt(( F1-F2 )**2).sum()\n",
    "    scale = 0.5 * np.sqrt(( F1 )**2).sum() + 0.5 * np.sqrt(( F2 )**2).sum()\n",
    "    \n",
    "    try:\n",
    "        error = diff / scale\n",
    "    except:\n",
    "        print \"Rms error not available\"\n",
    "        \n",
    "    return error\n",
    "        \n",
    "        \n",
    "rms_topo_err = rmsErr(analytic_surface_deviatoric_stress, surface_deviatoric_stress)\n",
    "rms_pressure_err = rmsErr(pressureField.evaluate(linearMesh), solA.pressureFn.evaluate(linearMesh))\n",
    "rms_velocity_err = rmsErr(fn.math.dot(velocityField,velocityField).evaluate(linearMesh), fn.math.dot(solA.velocityFn,solA.velocityFn).evaluate(linearMesh))"
   ]
  },
  {
   "cell_type": "code",
   "execution_count": null,
   "metadata": {
    "collapsed": false
   },
   "outputs": [],
   "source": [
    "print \"Topography error - \", rms_topo_err*100, \" %\"\n",
    "print \"Pressure error - \", rms_pressure_err*100,\" %\"\n",
    "print \"Velocity (magnitude) error - \", rms_velocity_err*100, \" %\""
   ]
  },
  {
   "cell_type": "code",
   "execution_count": null,
   "metadata": {
    "collapsed": false
   },
   "outputs": [],
   "source": [
    "# Now repeat but with a distorted mesh.\n",
    "# Note any mesh deformations must occur within the 'deform_mesh' context manager\n",
    "with linearMesh.deform_mesh():\n",
    "    # push the mesh & normalise\n",
    "    linearMesh.data[:,0] = np.exp(linearMesh.data[:,0])-1.\n",
    "    linearMesh.data[:,0] /= (linearMesh.data[:,0].max() - linearMesh.data[:,0].min())\n",
    "    linearMesh.data[:,0] -= linearMesh.data[:,0].min()\n",
    "\n",
    "    # push the mesh & normalise\n",
    "    linearMesh.data[:,1] = 0.1*np.sin(linearMesh.data[:,0]*2.0*math.pi)*np.sin(linearMesh.data[:,1]*math.pi) + np.exp(linearMesh.data[:,1])-1.\n",
    "    linearMesh.data[:,1] /= (linearMesh.data[:,1].max() - linearMesh.data[:,1].min())\n",
    "    linearMesh.data[:,1] -= linearMesh.data[:,1].min()\n",
    "\n",
    "\n",
    "    constantMesh.data[:,0] = np.exp(constantMesh.data[:,0])-1.\n",
    "    constantMesh.data[:,0] /= (constantMesh.data[:,0].max() - constantMesh.data[:,0].min())\n",
    "    constantMesh.data[:,0] -= constantMesh.data[:,0].min()\n",
    "\n",
    "    # push the mesh & normalise\n",
    "    constantMesh.data[:,1] = 0.1*np.sin(constantMesh.data[:,0]*2.0*math.pi)*np.sin(constantMesh.data[:,1]*math.pi) + np.exp(constantMesh.data[:,1])-1.\n",
    "    constantMesh.data[:,1] /= (constantMesh.data[:,1].max() - constantMesh.data[:,1].min())\n",
    "    constantMesh.data[:,1] -= constantMesh.data[:,1].min()\n",
    "\n",
    "\n",
    "meshfig = plt.Figure()\n",
    "meshfig.Mesh(linearMesh)\n",
    "stokesSystem = uw.systems.Stokes(velocityField,pressureField,solA.viscosityFn,solA.bodyForceFn,conditions=[freeslip,], rtolerance=1.e-5)\n",
    "meshfig.show()"
   ]
  },
  {
   "cell_type": "code",
   "execution_count": null,
   "metadata": {
    "collapsed": false
   },
   "outputs": [],
   "source": [
    "stokesSystem = uw.systems.Stokes(velocityField,pressureField,solA.viscosityFn,solA.bodyForceFn,conditions=[freeslip,], rtolerance=1.e-5)\n",
    "\n",
    "stokesSystem.solve()\n",
    "\n",
    "meshfig = plt.Figure()\n",
    "meshfig.Surface(solA.bodyForceFn[1], linearMesh)\n",
    "meshfig.Mesh(linearMesh)\n",
    "meshfig.show()"
   ]
  },
  {
   "cell_type": "code",
   "execution_count": null,
   "metadata": {
    "collapsed": false
   },
   "outputs": [],
   "source": [
    "d_surface_deviatoric_stress = stresstensorfunc.evaluate(linearMesh.specialSets[\"MinJ_VertexSet\"])\n",
    "d_surface_pressure = pressureField.evaluate(linearMesh.specialSets[\"MinJ_VertexSet\"])\n",
    "d_surface_total_stress = d_surface_deviatoric_stress.T[1]-d_surface_pressure.T[0]\n",
    "\n",
    "d_analytic_surface_deviatoric_stress = stresstensorfuncA.evaluate(linearMesh.specialSets[\"MinJ_VertexSet\"])\n",
    "d_analytic_surface_pressure = solA.pressureFn.evaluate(linearMesh.specialSets[\"MinJ_VertexSet\"])\n",
    "d_analytic_surface_total_stress = d_analytic_surface_deviatoric_stress.T[1]-d_analytic_surface_pressure.T[0]\n",
    "\n",
    "d_rms_topo_err = rmsErr(d_analytic_surface_deviatoric_stress, surface_deviatoric_stress)\n",
    "d_rms_pressure_err = rmsErr(pressureField.evaluate(linearMesh), solA.pressureFn.evaluate(linearMesh))\n",
    "d_rms_velocity_err = rmsErr(fn.math.dot(velocityField,velocityField).evaluate(linearMesh), fn.math.dot(solA.velocityFn,solA.velocityFn).evaluate(linearMesh))\n"
   ]
  },
  {
   "cell_type": "code",
   "execution_count": null,
   "metadata": {
    "collapsed": false
   },
   "outputs": [],
   "source": [
    "print \"Topography error - \", rms_topo_err*100, \" %\"\n",
    "print \"Pressure error - \", rms_pressure_err*100,\" %\"\n",
    "print \"Velocity (magnitude) error - \", rms_velocity_err*100, \" %\"\n",
    "\n",
    "print \"D Topography error - \", d_rms_topo_err*100, \" %\"\n",
    "print \"D Pressure error - \", d_rms_pressure_err*100,\" %\"\n",
    "print \"D Velocity (magnitude) error - \", d_rms_velocity_err*100, \" %\""
   ]
  },
  {
   "cell_type": "code",
   "execution_count": null,
   "metadata": {
    "collapsed": true
   },
   "outputs": [],
   "source": [
    "# an interesting check on the integral is to check if a laterally homogeneous force term results in no flow."
   ]
  },
  {
   "cell_type": "code",
   "execution_count": null,
   "metadata": {
    "collapsed": true
   },
   "outputs": [],
   "source": []
  }
 ],
 "metadata": {
  "kernelspec": {
   "display_name": "Python 2",
   "language": "python",
   "name": "python2"
  },
  "language_info": {
   "codemirror_mode": {
    "name": "ipython",
    "version": 2
   },
   "file_extension": ".py",
   "mimetype": "text/x-python",
   "name": "python",
   "nbconvert_exporter": "python",
   "pygments_lexer": "ipython2",
   "version": "2.7.10"
  }
 },
 "nbformat": 4,
 "nbformat_minor": 0
}
