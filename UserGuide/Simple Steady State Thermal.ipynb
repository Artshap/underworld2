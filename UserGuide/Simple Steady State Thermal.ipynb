{
 "cells": [
  {
   "cell_type": "code",
   "execution_count": 1,
   "metadata": {
    "collapsed": false
   },
   "outputs": [],
   "source": [
    "import underworld as uw\n",
    "import glucifer.pylab as plt\n",
    "import underworld.function as fn"
   ]
  },
  {
   "cell_type": "code",
   "execution_count": 2,
   "metadata": {
    "collapsed": true
   },
   "outputs": [],
   "source": [
    "mesh = uw.mesh.FeMesh_Cartesian('Q1', (128,128), (-1.,-1.), (1.,1.))\n",
    "temperatureField = uw.fevariable.FeVariable(mesh,1)"
   ]
  },
  {
   "cell_type": "code",
   "execution_count": 3,
   "metadata": {
    "collapsed": false
   },
   "outputs": [],
   "source": [
    "mesh.specialSets.keys()  "
   ]
  },
  {
   "cell_type": "code",
   "execution_count": 4,
   "metadata": {
    "collapsed": true
   },
   "outputs": [],
   "source": [
    "# declare which nodes are to be considered as boundary nodes\n",
    "topNodes = mesh.specialSets[\"MaxJ_VertexSet\"] \n",
    "bottomNodes = mesh.specialSets[\"MinJ_VertexSet\"]\n",
    "conditions = uw.conditions.DirichletCondition(temperatureField, topNodes + bottomNodes)"
   ]
  },
  {
   "cell_type": "code",
   "execution_count": 5,
   "metadata": {
    "collapsed": false
   },
   "outputs": [],
   "source": [
    "# init tempfield to zero everywhere\n",
    "temperatureField.data[:] = 0.\n",
    "# setup required values on boundary nodes\n",
    "temperatureField.data[topNodes.data]    = 0.\n",
    "temperatureField.data[bottomNodes.data] = 1."
   ]
  },
  {
   "cell_type": "code",
   "execution_count": 6,
   "metadata": {
    "collapsed": false
   },
   "outputs": [],
   "source": [
    "# lets take a look\n",
    "fig = plt.Figure()\n",
    "fig.Surface(temperatureField,mesh, colours=['blue','red'])\n",
    "fig.show()"
   ]
  },
  {
   "cell_type": "code",
   "execution_count": 7,
   "metadata": {
    "collapsed": false
   },
   "outputs": [],
   "source": [
    "# setup system\n",
    "steadyStateThermal = uw.systems.SteadyStateHeat(temperatureField,1.,conditions=[conditions,])"
   ]
  },
  {
   "cell_type": "code",
   "execution_count": 8,
   "metadata": {
    "collapsed": false
   },
   "outputs": [],
   "source": [
    "# solve!\n",
    "steadyStateThermal.solve()"
   ]
  },
  {
   "cell_type": "code",
   "execution_count": 9,
   "metadata": {
    "collapsed": false
   },
   "outputs": [],
   "source": [
    "# now lets look\n",
    "fig = plt.Figure()\n",
    "fig.Surface(temperatureField,mesh, colours=['blue','red'])\n",
    "fig.show()"
   ]
  },
  {
   "cell_type": "code",
   "execution_count": 10,
   "metadata": {
    "collapsed": false
   },
   "outputs": [],
   "source": [
    "# wonderous!  now lets change the conductivity function to a function of height\n",
    "coord = fn.input()\n",
    "steadyStateThermal.conductivityFn = fn.math.exp(10.*coord[1])"
   ]
  },
  {
   "cell_type": "code",
   "execution_count": 11,
   "metadata": {
    "collapsed": false
   },
   "outputs": [],
   "source": [
    "steadyStateThermal.solve()\n",
    "fig = plt.Figure()\n",
    "fig.Surface(temperatureField,mesh, colours=['blue','red'])\n",
    "fig.show()"
   ]
  },
  {
   "cell_type": "code",
   "execution_count": 12,
   "metadata": {
    "collapsed": false
   },
   "outputs": [],
   "source": [
    "# ok, lets introduce a swarm to set some materials\n",
    "swarm = uw.swarm.Swarm(mesh)"
   ]
  },
  {
   "cell_type": "code",
   "execution_count": 13,
   "metadata": {
    "collapsed": false
   },
   "outputs": [],
   "source": [
    "# lets create a variable which will track the material index\n",
    "index = swarm.add_variable('char',1)\n",
    "# add particles\n",
    "layout = uw.swarm.layouts.GlobalSpaceFillerLayout(swarm,20)\n",
    "swarm.populate_using_layout(layout)"
   ]
  },
  {
   "cell_type": "code",
   "execution_count": 14,
   "metadata": {
    "collapsed": false
   },
   "outputs": [],
   "source": [
    "# create some misc shapes\n",
    "index.data[:] = fn.branching.conditional( [  \n",
    "            ( coord[0]*coord[0] + coord[1]*coord[1] < 0.5                     , 0),  # circle index is 0\n",
    "            ( (fn.math.abs(coord[0]) < 0.5) & (fn.math.abs(coord[1])< 0.75)   , 1),  # square index is 1\n",
    "            ( True                                                            , 2)   # else index is 2\n",
    "    ] ).evaluate(swarm)"
   ]
  },
  {
   "cell_type": "code",
   "execution_count": 15,
   "metadata": {
    "collapsed": false
   },
   "outputs": [],
   "source": [
    "fig = plt.Figure()\n",
    "fig.Points(swarm,index,pointSize=4.0)\n",
    "fig.show()"
   ]
  },
  {
   "cell_type": "code",
   "execution_count": 16,
   "metadata": {
    "collapsed": false
   },
   "outputs": [],
   "source": [
    "# now lets map them to conductivities\n",
    "materialFunction = fn.branching.map(keyFunc=index, mappingDict={0:100., 1:.001, 2:1.})"
   ]
  },
  {
   "cell_type": "code",
   "execution_count": 17,
   "metadata": {
    "collapsed": false
   },
   "outputs": [],
   "source": [
    "steadyStateThermal.conductivityFn = materialFunction\n",
    "steadyStateThermal.solve()\n",
    "\n",
    "heat_flux_Fn = -temperatureField.gradientFn\n",
    "heat_flux_magnitude_Fn = fn.math.sqrt(fn.math.dot(heat_flux_Fn, heat_flux_Fn))\n",
    "heat_flux_norm_Fn = heat_flux_Fn / heat_flux_magnitude_Fn\n",
    "\n",
    "fig = plt.Figure()\n",
    "fig.VectorArrows(heat_flux_norm_Fn, mesh, lengthScale=0.1)\n",
    "fig.Surface(heat_flux_magnitude_Fn,mesh, colours=['blue','red'], logScale=True)\n",
    "fig.show()"
   ]
  },
  {
   "cell_type": "code",
   "execution_count": 18,
   "metadata": {
    "collapsed": false
   },
   "outputs": [],
   "source": [
    "heat_flux_Fn = -temperatureField.gradientFn\n",
    "heat_flux_magnitude_Fn = fn.math.sqrt(fn.math.dot(heat_flux_Fn, heat_flux_Fn))\n",
    "heat_flux_norm_Fn = heat_flux_Fn / heat_flux_magnitude_Fn"
   ]
  },
  {
   "cell_type": "code",
   "execution_count": null,
   "metadata": {
    "collapsed": true
   },
   "outputs": [],
   "source": []
  }
 ],
 "metadata": {
  "kernelspec": {
   "display_name": "Python 2",
   "language": "python",
   "name": "python2"
  },
  "language_info": {
   "codemirror_mode": {
    "name": "ipython",
    "version": 2
   },
   "file_extension": ".py",
   "mimetype": "text/x-python",
   "name": "python",
   "nbconvert_exporter": "python",
   "pygments_lexer": "ipython2",
   "version": "2.7.3"
  }
 },
 "nbformat": 4,
 "nbformat_minor": 0
}
