{
 "cells": [
  {
   "cell_type": "code",
   "execution_count": 1,
   "metadata": {
    "collapsed": true
   },
   "outputs": [],
   "source": [
    "import underworld as uw\n",
    "import glucifer\n",
    "\n",
    "mesh = uw.mesh._FeMesh_Regional(longExtent=120, latExtent=120, centroid=[1.0,2.0,0.0],elementRes=(10,10,5))\n",
    "\n",
    "velocityField = uw.mesh.MeshVariable(mesh, nodeDofCount=3)\n",
    "velocityField.data[mesh.specialSets[\"AllWalls_VertexSet\"].data] = [0.0,1.0,0.0]"
   ]
  },
  {
   "cell_type": "code",
   "execution_count": 2,
   "metadata": {
    "collapsed": true
   },
   "outputs": [],
   "source": [
    "uw.libUnderworld.StgFEM._FeVariable_CreateNewEqnNumber( velocityField._cself )\n",
    "\n",
    "gaussSwarm = uw.swarm.GaussIntegrationSwarm(mesh)"
   ]
  },
  {
   "cell_type": "code",
   "execution_count": 3,
   "metadata": {
    "collapsed": true
   },
   "outputs": [],
   "source": [
    "rot = uw.systems.sle.AssembledMatrix( velocityField, velocityField, rhs=None )\n",
    "# rFn = mesh._boundaryNodeFn * mesh._getRadiusFn()\n",
    "# nsFn = mesh._boundaryNodeFn * mesh._getNSFn()\n",
    "# ewFn = mesh._boundaryNodeFn * mesh._getEWFn()\n",
    "\n",
    "\n",
    "term = uw.systems.sle.MatrixAssemblyTerm_RotationDof(integrationSwarm=gaussSwarm, \n",
    "                                                     assembledObject = rot,\n",
    "                                                     radialFn=mesh._rFn,\n",
    "                                                     normalFn=mesh._normal,                                                \n",
    "                                                     mesh=mesh)\n",
    "\n",
    "\n",
    "uw.libUnderworld.StgFEM.StiffnessMatrix_Assemble( \n",
    "    rot._cself, \n",
    "    False,#self._stokesSLE._cself.removeBCs, \n",
    "    None, None );"
   ]
  },
  {
   "cell_type": "code",
   "execution_count": 4,
   "metadata": {
    "collapsed": true
   },
   "outputs": [],
   "source": [
    "vcopy = velocityField.copy()\n",
    "uw.libUnderworld.StgFEM._FeVariable_CreateNewEqnNumber( vcopy._cself )\n",
    "\n",
    "\n",
    "v1 = uw.systems.sle.SolutionVector(velocityField)\n",
    "uw.libUnderworld.StgFEM.SolutionVector_LoadCurrentFeVariableValuesOntoVector( v1._cself );\n",
    "ans = uw.systems.sle.SolutionVector(vcopy)"
   ]
  },
  {
   "cell_type": "code",
   "execution_count": 5,
   "metadata": {
    "collapsed": false
   },
   "outputs": [
    {
     "data": {
      "text/plain": [
       "array([[ 0.       ,  0.5      ,  0.8660254],\n",
       "       [ 0.       ,  0.5      ,  0.8660254],\n",
       "       [ 0.       ,  0.5      ,  0.8660254],\n",
       "       ..., \n",
       "       [ 0.       ,  0.5      , -0.8660254],\n",
       "       [ 0.       ,  0.5      , -0.8660254],\n",
       "       [ 0.       ,  0.5      , -0.8660254]])"
      ]
     },
     "execution_count": 5,
     "metadata": {},
     "output_type": "execute_result"
    }
   ],
   "source": [
    "uw.libUnderworld.Underworld.AXequalsY( rot._cself, v1._cself, ans._cself )\n",
    "vcopy.data[:]"
   ]
  },
  {
   "cell_type": "code",
   "execution_count": 6,
   "metadata": {
    "collapsed": true
   },
   "outputs": [],
   "source": [
    "# create checkpoint function\n",
    "def checkpoint( mesh, fieldDict, swarm, swarmDict, index,\n",
    "                meshName='mesh', swarmName='swarm', \n",
    "                prefix=None, enable_xdmf=True):\n",
    "    import os\n",
    "    # Check the prefix is valid\n",
    "    if prefix is not None:\n",
    "        if not os.path.exists(prefix):\n",
    "            raise ValueError(\"prefix given '{}' doesn't exist\".format(prefix))\n",
    "            \n",
    "    if not isinstance(index, int):\n",
    "        raise TypeError(\"'index' is not of type int\")        \n",
    "    ii = str(index)\n",
    "    \n",
    "    \n",
    "    if mesh is not None:\n",
    "        \n",
    "        # Error check the mesh and fields\n",
    "        if not isinstance(mesh, uw.mesh.FeMesh):\n",
    "            raise TypeError(\"'mesh' is not of type uw.mesh.FeMesh\")\n",
    "        if not isinstance(fieldDict, dict):\n",
    "            raise TypeError(\"'fieldDict' is not of type dict\")\n",
    "        for key, value in fieldDict.iteritems():\n",
    "            if not isinstance( value, uw.mesh.MeshVariable ):\n",
    "                raise TypeError(\"'fieldDict' must contain uw.mesh.MeshVariable elements\")\n",
    "\n",
    "\n",
    "        # see if we have already saved the mesh. It only needs to be saved once\n",
    "        if not hasattr( checkpoint, 'mH' ):\n",
    "            checkpoint.mH = mesh.save(prefix+meshName+\".h5\")\n",
    "        mh = checkpoint.mH\n",
    "\n",
    "        for key,value in fieldDict.iteritems():\n",
    "            filename = prefix+key+'-'+ii\n",
    "            handle = value.save(filename+'.h5')\n",
    "            if enable_xdmf: value.xdmf(filename, handle, key, mh, meshName)\n",
    "        \n",
    "    # is there a swarm\n",
    "    if swarm is not None:\n",
    "        \n",
    "        # Error check the swarms\n",
    "        if not isinstance(swarm, uw.swarm.Swarm):\n",
    "            raise TypeError(\"'swarm' is not of type uw.swarm.Swarm\")\n",
    "        if not isinstance(swarmDict, dict):\n",
    "            raise TypeError(\"'swarmDict' is not of type dict\")\n",
    "        for key, value in swarmDict.iteritems():\n",
    "            if not isinstance( value, uw.swarm.SwarmVariable ):\n",
    "                raise TypeError(\"'fieldDict' must contain uw.swarm.SwarmVariable elements\")\n",
    "    \n",
    "        sH = swarm.save(prefix+swarmName+\"-\"+ii+\".h5\")\n",
    "        for key,value in swarmDict.iteritems():\n",
    "            filename = prefix+key+'-'+ii\n",
    "            handle = value.save(filename+'.h5')\n",
    "            if enable_xdmf: value.xdmf(filename, handle, key, sH, swarmName)\n"
   ]
  },
  {
   "cell_type": "code",
   "execution_count": 7,
   "metadata": {
    "collapsed": true
   },
   "outputs": [],
   "source": [
    "fieldDict = {'velocity':velocityField, 'afterRot':vcopy}\n",
    "\n",
    "checkpoint(mesh, fieldDict, None, None, index=0, prefix='./')\n"
   ]
  }
 ],
 "metadata": {
  "kernelspec": {
   "display_name": "Python 2",
   "language": "python",
   "name": "python2"
  },
  "language_info": {
   "codemirror_mode": {
    "name": "ipython",
    "version": 2
   },
   "file_extension": ".py",
   "mimetype": "text/x-python",
   "name": "python",
   "nbconvert_exporter": "python",
   "pygments_lexer": "ipython2",
   "version": "2.7.11+"
  }
 },
 "nbformat": 4,
 "nbformat_minor": 0
}
